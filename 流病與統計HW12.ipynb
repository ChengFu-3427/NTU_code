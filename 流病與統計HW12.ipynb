{
 "cells": [
  {
   "cell_type": "code",
   "execution_count": 69,
   "id": "cff38fae",
   "metadata": {},
   "outputs": [
    {
     "data": {
      "text/html": [
       "<table>\n",
       "<tbody>\n",
       "\t<tr><td>0.01</td><td>0.01</td><td>0.03</td><td>0.04</td><td>0.04</td></tr>\n",
       "\t<tr><td>0.14</td><td>0.21</td><td>0.25</td><td>0.29</td><td>0.38</td></tr>\n",
       "\t<tr><td>0.85</td><td>0.89</td><td>0.93</td><td>0.93</td><td>0.94</td></tr>\n",
       "</tbody>\n",
       "</table>\n"
      ],
      "text/latex": [
       "\\begin{tabular}{lllll}\n",
       "\t 0.01 & 0.01 & 0.03 & 0.04 & 0.04\\\\\n",
       "\t 0.14 & 0.21 & 0.25 & 0.29 & 0.38\\\\\n",
       "\t 0.85 & 0.89 & 0.93 & 0.93 & 0.94\\\\\n",
       "\\end{tabular}\n"
      ],
      "text/markdown": [
       "\n",
       "| 0.01 | 0.01 | 0.03 | 0.04 | 0.04 |\n",
       "| 0.14 | 0.21 | 0.25 | 0.29 | 0.38 |\n",
       "| 0.85 | 0.89 | 0.93 | 0.93 | 0.94 |\n",
       "\n"
      ],
      "text/plain": [
       "     [,1] [,2] [,3] [,4] [,5]\n",
       "[1,] 0.01 0.01 0.03 0.04 0.04\n",
       "[2,] 0.14 0.21 0.25 0.29 0.38\n",
       "[3,] 0.85 0.89 0.93 0.93 0.94"
      ]
     },
     "metadata": {},
     "output_type": "display_data"
    }
   ],
   "source": [
    "betawatchpc <- c(0,0.5,0.8)\n",
    "sig <- seq(0.01,0.05,0.01) \n",
    "rej.rate <- matrix(NA,length(betawatchpc),length(sig))\n",
    "#rej.rate2 <- matrix(NA,length(betawatchpc),length(sig))\n",
    "betaco <- c(-6,1.0,0.005)\n",
    "n <- 1000\n",
    "no.rep <- 100\n",
    "n.max <- 100\n",
    "tol <- 1e-9\n",
    "\n",
    "\n",
    "for(betaloop in 1:length(betawatchpc)){ # the 1st loop\n",
    "    \n",
    "    pvalue <- c()\n",
    "    \n",
    "    #pvalueLm <- c()\n",
    "    for(i in 1:no.rep){\n",
    "        set.seed(i)\n",
    "        gpa <- rnorm(n,3.1,0.3)\n",
    "        gre <- rnorm(n,580,80) \n",
    "        x.beta <- betaco[1]+betawatchpc[betaloop]*gpa+betaco[3]*gre\n",
    "        pi.admit <- exp(x.beta)/(1+exp(x.beta))\n",
    "        Y <- c()\n",
    "        for (j in 1:n){\n",
    "            Y[j] <- sample(c(0,1),1,c(1-pi.admit[j],pi.admit[j]),replace=F)        \n",
    "        }    \n",
    "        X <- cbind(rep(1,length(Y)),gpa,gre)\n",
    "        \n",
    "        betacoef <- c(0,0,0)\n",
    "        pil <- exp(X %*% betacoef)/(1+exp(X %*% betacoef))\n",
    "        grad <- t(X) %*% (Y-pil)\n",
    "        hess <- -t(X) %*% diag(c(pil*(1-pil)),length(Y)) %*% X\n",
    "        n.iter <- 0\n",
    "        while ((max(abs(grad))> tol) & (n.iter < n.max) ) {\n",
    "            betacoef <- betacoef - solve(hess) %*% grad\n",
    "            pil <- exp(X %*% betacoef)/(1+exp(X %*% betacoef))\n",
    "            grad <- t(X)%*%(Y-pil)\n",
    "            hess <- -t(X) %*% diag(c(pil*(1-pil)),length(Y)) %*% X\n",
    "            n.iter <- n.iter + 1\n",
    "        }\n",
    "        if (n.iter== n.max) {\n",
    "            cat(\"fail to converge\\n\")\n",
    "        } else {\n",
    "            MLE <- betacoef           \n",
    "            pvalue[i] <-(1-pt(abs(MLE[2]/sqrt(-solve(hess)[2,2])),n-3))*2\n",
    "            #pvalueLm[i] <- summary(glm(Y~gpa+gre,family=binomial))$coef [2,4]\n",
    "        }\n",
    "        for(k in 1:length(sig)){\n",
    "            rej.rate[betaloop,k] <- sum(pvalue<sig[k])/no.rep # calculate rejection rate\n",
    "            #rej.rate2[betaloop,k] <- sum(pvalueLm<sig[k])/no.rep # calculate rejection rate\n",
    "        }\n",
    "    }\n",
    "\n",
    "\n",
    "}\n",
    "rej.rate"
   ]
  },
  {
   "cell_type": "code",
   "execution_count": 71,
   "id": "f485c381",
   "metadata": {},
   "outputs": [
    {
     "data": {
      "image/png": "[encoded data removed]",
      "text/plain": [
       "plot without title"
      ]
     },
     "metadata": {},
     "output_type": "display_data"
    }
   ],
   "source": [
    "matplot(sig,t(rej.rate),col=c(1:length(betawatchpc)),pch=c(1:length(betawatchpc)),lty=c(1:length(betawatchpc)),\n",
    "        type=\"b\",frame=F,xlab=\"Significance level\",ylab=\"Rejection rate\")\n",
    "abline(a=0,b=1,col=8)\n",
    "legend(0.04,rej.rate[1,4]+0.05,expression(paste(beta,'=0')),bty=\"n\")\n",
    "legend(0.04,rej.rate[2,4]+0.05,expression(paste(beta,'=0.5')),bty=\"n\")\n",
    "legend(0.04,rej.rate[3,4]+0.05,expression(paste(beta,'=0.8')),bty=\"n\")"
   ]
  }
 ],
 "metadata": {
  "kernelspec": {
   "display_name": "R",
   "language": "R",
   "name": "ir"
  },
  "language_info": {
   "codemirror_mode": "r",
   "file_extension": ".r",
   "mimetype": "text/x-r-source",
   "name": "R",
   "pygments_lexer": "r",
   "version": "3.6.1"
  }
 },
 "nbformat": 4,
 "nbformat_minor": 5
}
