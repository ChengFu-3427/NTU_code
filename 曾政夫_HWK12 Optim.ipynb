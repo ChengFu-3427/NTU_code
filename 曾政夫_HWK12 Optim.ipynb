{
 "cells": [
  {
   "cell_type": "code",
   "execution_count": 1,
   "id": "54591558",
   "metadata": {},
   "outputs": [],
   "source": [
    "using Symbolics, SymPy, Plots\n",
    "using FiniteDifferences, ForwardDiff, LinearAlgebra"
   ]
  },
  {
   "cell_type": "markdown",
   "id": "5d2de7e7",
   "metadata": {},
   "source": [
    "# Homework on Optimization\n",
    "\n",
    "In this homework, you are asked to write a series of optimization programs with specific requirements. When I do the grading, I'll call your programs and use them to find maximizers of functions that are not in the homework. Some advice:\n",
    "\n",
    "\n",
    "- The names of the programs should be the same as asked by the homework questions. Otherwise, your programs will not be found and that'll be a failure on your part.\n",
    "\n",
    "\n",
    "- Make sure that your programs are robust for general use.\n",
    "\n",
    "\n",
    "- Test your programs to see whether each of the options do their jobs as expected.\n",
    "\n",
    "\n",
    "\n",
    "## Consider the following functions for optimization:\n",
    "\n",
    "- $g(x) = -3x^3 + 9x^2 + 2x$\n",
    "\n",
    "\n",
    "- $h(x,y) =  -(1.5 - x)^2 - 100(y - x^2)^2$\n",
    "\n",
    "\n",
    "- $k(x,y) = - (x + 2y - 7)^2 - (2x + y -5)^2$\n",
    "\n",
    "\n",
    "\n",
    "\n",
    "### [Q1] Write a Julia program to implement Newton's method of finding the maximizer of a uni-variate function. The program should be named `newton_max_uni_a` (for ease of grading) and should meet the following requirements:\n",
    "\n",
    "\n",
    "- The inputs should at least contain the following items:\n",
    "\n",
    "```julia\n",
    "function newton_max_uni_a(f::Function, f′::Function, f′′::Function, x0, ϵ, maxit) \n",
    "    ...\n",
    "end\n",
    "```\n",
    "   where `f`, `f′`, and `f′′` are the analytic equations of the objective function and its first and second derivatives, respectively; `x0` is the initial value, `ϵ` is the tolerance of convergence criterion, and `maxit` is the maximum number of iterations.\n",
    "\n",
    "\n",
    "- Use the change in the solution as the basis to check convergence.\n",
    "\n",
    "\n",
    "- The program should be able to check whether the found solution is a maximizer or a minimizer (hint: check the 2nd order condition). If it is a minimizer instead of a maximizer, a warning should be issued.\n",
    "\n",
    "\n",
    "- The program should print at least the following information: the solution, the number of iterations, and actual ϵ. If the number of iterations equals `maxit` (meaning, the estimation may not have converged), a warning should be issued."
   ]
  },
  {
   "cell_type": "code",
   "execution_count": 2,
   "id": "a3e1f0d1",
   "metadata": {},
   "outputs": [
    {
     "data": {
      "text/plain": [
       "k (generic function with 1 method)"
      ]
     },
     "execution_count": 2,
     "metadata": {},
     "output_type": "execute_result"
    }
   ],
   "source": [
    "g(x) = -3*x^3 + 9*x^2 + 2*x\n",
    "g(x::Vector) = -3*x[1]^3 + 9*x[1]^2 + 2*x[1]\n",
    "h(x::Vector) = -(1.5-x[1])^2 - 100*(x[2]-x[1]^2)^2 \n",
    "k(x::Vector) = -(x[1]+2*x[2]-7)^2 - (2*x[1] + x[2] -5)^2"
   ]
  },
  {
   "cell_type": "code",
   "execution_count": 3,
   "id": "f4b4f1c1",
   "metadata": {},
   "outputs": [
    {
     "ename": "LoadError",
     "evalue": "UndefVarError: x not defined",
     "output_type": "error",
     "traceback": [
      "UndefVarError: x not defined",
      "",
      "Stacktrace:",
      " [1] top-level scope",
      "   @ In[3]:1"
     ]
    }
   ],
   "source": [
    "g′ = eval(\n",
    "     build_function(Symbolics.derivative(g(x), x), x)\n",
    ")\n",
    "g′′ = eval(\n",
    "     build_function(Symbolics.derivative(g′(x), x), x)\n",
    ")"
   ]
  },
  {
   "cell_type": "code",
   "execution_count": 4,
   "id": "d18d1a43",
   "metadata": {},
   "outputs": [
    {
     "data": {
      "text/plain": [
       "newton_max_uni_a (generic function with 1 method)"
      ]
     },
     "execution_count": 4,
     "metadata": {},
     "output_type": "execute_result"
    }
   ],
   "source": [
    "function newton_max_uni_a(f::Function, f′::Function, f′′::Function, x0, ϵ, maxit) \n",
    "  \n",
    "    for i in 0:maxit        \n",
    "        x1 = x0 - f′(x0)/f′′(x0)\n",
    "        \n",
    "        if abs( x0-x1 ) < ϵ           \n",
    "            if f′′(x1) < 0\n",
    "                println(\"local max\")\n",
    "                return x1,i,abs( x0-x1 )\n",
    "            elseif f′′(x1) > 0\n",
    "                println(\"local min\")\n",
    "                return x1,i,abs( x0-x1 )\n",
    "            end \n",
    "        end\n",
    "        \n",
    "        x0 = x1\n",
    "    end\n",
    "    return println(\"not converge\")\n",
    "end\n"
   ]
  },
  {
   "cell_type": "markdown",
   "id": "7216263c",
   "metadata": {},
   "source": [
    "#### [Q2] Use the program to estimate $g(x)$. Use 0.99 and 1.01 as initial values, respectively. Do they converge to the same solution? Does the result indicate that initial values are important for Newton's methods? In light of this exercise, do you think the Newton's method is a local method or a global method?"
   ]
  },
  {
   "cell_type": "code",
   "execution_count": 5,
   "id": "fb090930",
   "metadata": {},
   "outputs": [
    {
     "ename": "LoadError",
     "evalue": "UndefVarError: g′ not defined",
     "output_type": "error",
     "traceback": [
      "UndefVarError: g′ not defined",
      "",
      "Stacktrace:",
      " [1] top-level scope",
      "   @ In[5]:1"
     ]
    }
   ],
   "source": [
    "newton_max_uni_a(g,g′,g′′,0.99,1e-10,100)"
   ]
  },
  {
   "cell_type": "code",
   "execution_count": 6,
   "id": "8b0a0851",
   "metadata": {},
   "outputs": [
    {
     "ename": "LoadError",
     "evalue": "UndefVarError: g′ not defined",
     "output_type": "error",
     "traceback": [
      "UndefVarError: g′ not defined",
      "",
      "Stacktrace:",
      " [1] top-level scope",
      "   @ In[6]:1"
     ]
    }
   ],
   "source": [
    "newton_max_uni_a(g,g′,g′′,1.01,1e-10,100)"
   ]
  },
  {
   "cell_type": "markdown",
   "id": "5be878f4",
   "metadata": {},
   "source": [
    "收斂到不同值，結果表示inital values 的確會影響收斂的結果。  \n",
    "收斂到local，本題的global maximize & minimize 分別是[Inf,-Inf]。"
   ]
  },
  {
   "cell_type": "markdown",
   "id": "09b974ca",
   "metadata": {},
   "source": [
    "#### [Q3] Use the program to estimate $g(x)$. Use 1.0 as the initial value.\n",
    "\n",
    " - [Q3.1] Why this initial value does not work for the program? Do you think that the problem arises because the function has an *inflection point* at $x=1.0$?"
   ]
  },
  {
   "cell_type": "code",
   "execution_count": 7,
   "id": "09d2e820",
   "metadata": {},
   "outputs": [
    {
     "ename": "LoadError",
     "evalue": "UndefVarError: g′ not defined",
     "output_type": "error",
     "traceback": [
      "UndefVarError: g′ not defined",
      "",
      "Stacktrace:",
      " [1] top-level scope",
      "   @ In[7]:1"
     ]
    }
   ],
   "source": [
    "newton_max_uni_a(g,g′,g′′,1,1e-10,100)"
   ]
  },
  {
   "cell_type": "markdown",
   "id": "658fba1a",
   "metadata": {},
   "source": [
    "因為在分母 = 0 $(f′′(x) = 0)$ 時除法結果沒有定義。"
   ]
  },
  {
   "cell_type": "markdown",
   "id": "e5eb7233",
   "metadata": {},
   "source": [
    " \n",
    " - [Q3.2] The problem indicates that the program would fail when the function is not smoothly increasing or increasing. Modify your program such that it could get out of the situation and move on. The program should be named `newton_max_uni_a2`. When you implement the rescue plan, be sure to make use of the fact that the purpose of the program is to **maximize** a function. Use the function to find the maximizer of $g(x)$."
   ]
  },
  {
   "cell_type": "code",
   "execution_count": 8,
   "id": "0289fe65",
   "metadata": {},
   "outputs": [
    {
     "data": {
      "text/plain": [
       "newton_max_uni_a2 (generic function with 1 method)"
      ]
     },
     "execution_count": 8,
     "metadata": {},
     "output_type": "execute_result"
    }
   ],
   "source": [
    "function newton_max_uni_a2(f::Function, f′::Function, f′′::Function, x0, ϵ, maxit) \n",
    "    d(x) = f′(x)/f′′(x)\n",
    "    s = 1\n",
    "    for i in 0:maxit\n",
    "        if abs(f′′(x0)) < ϵ \n",
    "            if f′(x0) > 0\n",
    "                x0 += 0.01\n",
    "            elseif f′(x1) < 0\n",
    "                x0 -= 0.01\n",
    "            end\n",
    "        end\n",
    "        \n",
    "        \n",
    "        if sign(d(x0)) == sign(f′(x0))\n",
    "            s = -1\n",
    "            x1 = x0 - s * d(x0)\n",
    "            s = 1\n",
    "        else x1 = x0 - s * d(x0)\n",
    "        end\n",
    "        \n",
    "        \n",
    "        \n",
    "        \n",
    "        if abs( x0-x1 ) < ϵ           \n",
    "            if f′′(x1) < 0\n",
    "                println(\"local max\")\n",
    "                return x1,i,abs( x0-x1 )\n",
    "            elseif f′′(x1) > 0\n",
    "                println(\"local min\")\n",
    "                return x1,i,abs( x0-x1 )\n",
    "            end        \n",
    "        end\n",
    "        \n",
    "        x0 = x1\n",
    "    end\n",
    "    return println(\"not converge\")\n",
    "end"
   ]
  },
  {
   "cell_type": "markdown",
   "id": "a69bbf93",
   "metadata": {},
   "source": [
    "在local min 以左不會收斂，其餘收斂至local max"
   ]
  },
  {
   "cell_type": "code",
   "execution_count": 9,
   "id": "1eb79296",
   "metadata": {},
   "outputs": [
    {
     "data": {
      "image/svg+xml": [
       "<?xml version=\"1.0\" encoding=\"utf-8\"?>\n",
       "<svg xmlns=\"http://www.w3.org/2000/svg\" xmlns:xlink=\"http://www.w3.org/1999/xlink\" width=\"600\" height=\"400\" viewBox=\"0 0 2400 1600\">\n",
       "<defs>\n",
       "  <clipPath id=\"clip170\">\n",
       "    <rect x=\"0\" y=\"0\" width=\"2400\" height=\"1600\"/>\n",
       "  </clipPath>\n",
       "</defs>\n",
       "<path clip-path=\"url(#clip170)\" d=\"M0 1600 L2400 1600 L2400 0 L0 0  Z\" fill=\"#ffffff\" fill-rule=\"evenodd\" fill-opacity=\"1\"/>\n",
       "<defs>\n",
       "  <clipPath id=\"clip171\">\n",
       "    <rect x=\"480\" y=\"0\" width=\"1681\" height=\"1600\"/>\n",
       "  </clipPath>\n",
       "</defs>\n",
       "<path clip-path=\"url(#clip170)\" d=\"M172.015 1486.45 L2352.76 1486.45 L2352.76 47.2441 L172.015 47.2441  Z\" fill=\"#ffffff\" fill-rule=\"evenodd\" fill-opacity=\"1\"/>\n",
       "<defs>\n",
       "  <clipPath id=\"clip172\">\n",
       "    <rect x=\"172\" y=\"47\" width=\"2182\" height=\"1440\"/>\n",
       "  </clipPath>\n",
       "</defs>\n",
       "<polyline clip-path=\"url(#clip172)\" style=\"stroke:#000000; stroke-linecap:round; stroke-linejoin:round; stroke-width:2; stroke-opacity:0.1; fill:none\" points=\"439.464,1486.45 439.464,47.2441 \"/>\n",
       "<polyline clip-path=\"url(#clip172)\" style=\"stroke:#000000; stroke-linecap:round; stroke-linejoin:round; stroke-width:2; stroke-opacity:0.1; fill:none\" points=\"850.925,1486.45 850.925,47.2441 \"/>\n",
       "<polyline clip-path=\"url(#clip172)\" style=\"stroke:#000000; stroke-linecap:round; stroke-linejoin:round; stroke-width:2; stroke-opacity:0.1; fill:none\" points=\"1262.39,1486.45 1262.39,47.2441 \"/>\n",
       "<polyline clip-path=\"url(#clip172)\" style=\"stroke:#000000; stroke-linecap:round; stroke-linejoin:round; stroke-width:2; stroke-opacity:0.1; fill:none\" points=\"1673.85,1486.45 1673.85,47.2441 \"/>\n",
       "<polyline clip-path=\"url(#clip172)\" style=\"stroke:#000000; stroke-linecap:round; stroke-linejoin:round; stroke-width:2; stroke-opacity:0.1; fill:none\" points=\"2085.31,1486.45 2085.31,47.2441 \"/>\n",
       "<polyline clip-path=\"url(#clip170)\" style=\"stroke:#000000; stroke-linecap:round; stroke-linejoin:round; stroke-width:4; stroke-opacity:1; fill:none\" points=\"172.015,1486.45 2352.76,1486.45 \"/>\n",
       "<polyline clip-path=\"url(#clip170)\" style=\"stroke:#000000; stroke-linecap:round; stroke-linejoin:round; stroke-width:4; stroke-opacity:1; fill:none\" points=\"439.464,1486.45 439.464,1467.55 \"/>\n",
       "<polyline clip-path=\"url(#clip170)\" style=\"stroke:#000000; stroke-linecap:round; stroke-linejoin:round; stroke-width:4; stroke-opacity:1; fill:none\" points=\"850.925,1486.45 850.925,1467.55 \"/>\n",
       "<polyline clip-path=\"url(#clip170)\" style=\"stroke:#000000; stroke-linecap:round; stroke-linejoin:round; stroke-width:4; stroke-opacity:1; fill:none\" points=\"1262.39,1486.45 1262.39,1467.55 \"/>\n",
       "<polyline clip-path=\"url(#clip170)\" style=\"stroke:#000000; stroke-linecap:round; stroke-linejoin:round; stroke-width:4; stroke-opacity:1; fill:none\" points=\"1673.85,1486.45 1673.85,1467.55 \"/>\n",
       "<polyline clip-path=\"url(#clip170)\" style=\"stroke:#000000; stroke-linecap:round; stroke-linejoin:round; stroke-width:4; stroke-opacity:1; fill:none\" points=\"2085.31,1486.45 2085.31,1467.55 \"/>\n",
       "<path clip-path=\"url(#clip170)\" d=\"M408.365 1532.02 L438.041 1532.02 L438.041 1535.95 L408.365 1535.95 L408.365 1532.02 Z\" fill=\"#000000\" fill-rule=\"nonzero\" fill-opacity=\"1\" /><path clip-path=\"url(#clip170)\" d=\"M460.98 1518.36 L449.175 1536.81 L460.98 1536.81 L460.98 1518.36 M459.753 1514.29 L465.633 1514.29 L465.633 1536.81 L470.564 1536.81 L470.564 1540.7 L465.633 1540.7 L465.633 1548.85 L460.98 1548.85 L460.98 1540.7 L445.379 1540.7 L445.379 1536.19 L459.753 1514.29 Z\" fill=\"#000000\" fill-rule=\"nonzero\" fill-opacity=\"1\" /><path clip-path=\"url(#clip170)\" d=\"M820.867 1532.02 L850.543 1532.02 L850.543 1535.95 L820.867 1535.95 L820.867 1532.02 Z\" fill=\"#000000\" fill-rule=\"nonzero\" fill-opacity=\"1\" /><path clip-path=\"url(#clip170)\" d=\"M864.663 1544.91 L880.982 1544.91 L880.982 1548.85 L859.038 1548.85 L859.038 1544.91 Q861.7 1542.16 866.283 1537.53 Q870.89 1532.88 872.07 1531.53 Q874.316 1529.01 875.195 1527.27 Q876.098 1525.51 876.098 1523.82 Q876.098 1521.07 874.154 1519.33 Q872.233 1517.6 869.131 1517.6 Q866.932 1517.6 864.478 1518.36 Q862.047 1519.13 859.27 1520.68 L859.27 1515.95 Q862.094 1514.82 864.547 1514.24 Q867.001 1513.66 869.038 1513.66 Q874.408 1513.66 877.603 1516.35 Q880.797 1519.03 880.797 1523.52 Q880.797 1525.65 879.987 1527.57 Q879.2 1529.47 877.094 1532.07 Q876.515 1532.74 873.413 1535.95 Q870.311 1539.15 864.663 1544.91 Z\" fill=\"#000000\" fill-rule=\"nonzero\" fill-opacity=\"1\" /><path clip-path=\"url(#clip170)\" d=\"M1262.39 1517.37 Q1258.77 1517.37 1256.95 1520.93 Q1255.14 1524.47 1255.14 1531.6 Q1255.14 1538.71 1256.95 1542.27 Q1258.77 1545.82 1262.39 1545.82 Q1266.02 1545.82 1267.83 1542.27 Q1269.65 1538.71 1269.65 1531.6 Q1269.65 1524.47 1267.83 1520.93 Q1266.02 1517.37 1262.39 1517.37 M1262.39 1513.66 Q1268.2 1513.66 1271.25 1518.27 Q1274.33 1522.85 1274.33 1531.6 Q1274.33 1540.33 1271.25 1544.94 Q1268.2 1549.52 1262.39 1549.52 Q1256.58 1549.52 1253.5 1544.94 Q1250.44 1540.33 1250.44 1531.6 Q1250.44 1522.85 1253.5 1518.27 Q1256.58 1513.66 1262.39 1513.66 Z\" fill=\"#000000\" fill-rule=\"nonzero\" fill-opacity=\"1\" /><path clip-path=\"url(#clip170)\" d=\"M1668.5 1544.91 L1684.82 1544.91 L1684.82 1548.85 L1662.87 1548.85 L1662.87 1544.91 Q1665.54 1542.16 1670.12 1537.53 Q1674.73 1532.88 1675.91 1531.53 Q1678.15 1529.01 1679.03 1527.27 Q1679.93 1525.51 1679.93 1523.82 Q1679.93 1521.07 1677.99 1519.33 Q1676.07 1517.6 1672.97 1517.6 Q1670.77 1517.6 1668.31 1518.36 Q1665.88 1519.13 1663.11 1520.68 L1663.11 1515.95 Q1665.93 1514.82 1668.38 1514.24 Q1670.84 1513.66 1672.87 1513.66 Q1678.24 1513.66 1681.44 1516.35 Q1684.63 1519.03 1684.63 1523.52 Q1684.63 1525.65 1683.82 1527.57 Q1683.04 1529.47 1680.93 1532.07 Q1680.35 1532.74 1677.25 1535.95 Q1674.15 1539.15 1668.5 1544.91 Z\" fill=\"#000000\" fill-rule=\"nonzero\" fill-opacity=\"1\" /><path clip-path=\"url(#clip170)\" d=\"M2088.32 1518.36 L2076.51 1536.81 L2088.32 1536.81 L2088.32 1518.36 M2087.09 1514.29 L2092.97 1514.29 L2092.97 1536.81 L2097.9 1536.81 L2097.9 1540.7 L2092.97 1540.7 L2092.97 1548.85 L2088.32 1548.85 L2088.32 1540.7 L2072.71 1540.7 L2072.71 1536.19 L2087.09 1514.29 Z\" fill=\"#000000\" fill-rule=\"nonzero\" fill-opacity=\"1\" /><polyline clip-path=\"url(#clip172)\" style=\"stroke:#000000; stroke-linecap:round; stroke-linejoin:round; stroke-width:2; stroke-opacity:0.1; fill:none\" points=\"172.015,1185.33 2352.76,1185.33 \"/>\n",
       "<polyline clip-path=\"url(#clip172)\" style=\"stroke:#000000; stroke-linecap:round; stroke-linejoin:round; stroke-width:2; stroke-opacity:0.1; fill:none\" points=\"172.015,813.344 2352.76,813.344 \"/>\n",
       "<polyline clip-path=\"url(#clip172)\" style=\"stroke:#000000; stroke-linecap:round; stroke-linejoin:round; stroke-width:2; stroke-opacity:0.1; fill:none\" points=\"172.015,441.361 2352.76,441.361 \"/>\n",
       "<polyline clip-path=\"url(#clip172)\" style=\"stroke:#000000; stroke-linecap:round; stroke-linejoin:round; stroke-width:2; stroke-opacity:0.1; fill:none\" points=\"172.015,69.3771 2352.76,69.3771 \"/>\n",
       "<polyline clip-path=\"url(#clip170)\" style=\"stroke:#000000; stroke-linecap:round; stroke-linejoin:round; stroke-width:4; stroke-opacity:1; fill:none\" points=\"172.015,1486.45 172.015,47.2441 \"/>\n",
       "<polyline clip-path=\"url(#clip170)\" style=\"stroke:#000000; stroke-linecap:round; stroke-linejoin:round; stroke-width:4; stroke-opacity:1; fill:none\" points=\"172.015,1185.33 190.912,1185.33 \"/>\n",
       "<polyline clip-path=\"url(#clip170)\" style=\"stroke:#000000; stroke-linecap:round; stroke-linejoin:round; stroke-width:4; stroke-opacity:1; fill:none\" points=\"172.015,813.344 190.912,813.344 \"/>\n",
       "<polyline clip-path=\"url(#clip170)\" style=\"stroke:#000000; stroke-linecap:round; stroke-linejoin:round; stroke-width:4; stroke-opacity:1; fill:none\" points=\"172.015,441.361 190.912,441.361 \"/>\n",
       "<polyline clip-path=\"url(#clip170)\" style=\"stroke:#000000; stroke-linecap:round; stroke-linejoin:round; stroke-width:4; stroke-opacity:1; fill:none\" points=\"172.015,69.3771 190.912,69.3771 \"/>\n",
       "<path clip-path=\"url(#clip170)\" d=\"M124.07 1171.13 Q120.459 1171.13 118.631 1174.69 Q116.825 1178.23 116.825 1185.36 Q116.825 1192.47 118.631 1196.03 Q120.459 1199.57 124.07 1199.57 Q127.705 1199.57 129.51 1196.03 Q131.339 1192.47 131.339 1185.36 Q131.339 1178.23 129.51 1174.69 Q127.705 1171.13 124.07 1171.13 M124.07 1167.42 Q129.881 1167.42 132.936 1172.03 Q136.015 1176.61 136.015 1185.36 Q136.015 1194.09 132.936 1198.7 Q129.881 1203.28 124.07 1203.28 Q118.26 1203.28 115.182 1198.7 Q112.126 1194.09 112.126 1185.36 Q112.126 1176.61 115.182 1172.03 Q118.26 1167.42 124.07 1167.42 Z\" fill=\"#000000\" fill-rule=\"nonzero\" fill-opacity=\"1\" /><path clip-path=\"url(#clip170)\" d=\"M57.7745 826.689 L74.0939 826.689 L74.0939 830.624 L52.1495 830.624 L52.1495 826.689 Q54.8115 823.934 59.3949 819.305 Q64.0013 814.652 65.1819 813.309 Q67.4272 810.786 68.3068 809.05 Q69.2096 807.291 69.2096 805.601 Q69.2096 802.846 67.2652 801.11 Q65.3439 799.374 62.2421 799.374 Q60.043 799.374 57.5893 800.138 Q55.1588 800.902 52.381 802.453 L52.381 797.731 Q55.2051 796.596 57.6588 796.018 Q60.1124 795.439 62.1495 795.439 Q67.5198 795.439 70.7142 798.124 Q73.9087 800.809 73.9087 805.3 Q73.9087 807.43 73.0985 809.351 Q72.3115 811.249 70.205 813.842 Q69.6263 814.513 66.5245 817.73 Q63.4226 820.925 57.7745 826.689 Z\" fill=\"#000000\" fill-rule=\"nonzero\" fill-opacity=\"1\" /><path clip-path=\"url(#clip170)\" d=\"M93.9086 799.143 Q90.2975 799.143 88.4688 802.707 Q86.6632 806.249 86.6632 813.379 Q86.6632 820.485 88.4688 824.05 Q90.2975 827.592 93.9086 827.592 Q97.5428 827.592 99.3483 824.05 Q101.177 820.485 101.177 813.379 Q101.177 806.249 99.3483 802.707 Q97.5428 799.143 93.9086 799.143 M93.9086 795.439 Q99.7187 795.439 102.774 800.045 Q105.853 804.629 105.853 813.379 Q105.853 822.105 102.774 826.712 Q99.7187 831.295 93.9086 831.295 Q88.0984 831.295 85.0197 826.712 Q81.9642 822.105 81.9642 813.379 Q81.9642 804.629 85.0197 800.045 Q88.0984 795.439 93.9086 795.439 Z\" fill=\"#000000\" fill-rule=\"nonzero\" fill-opacity=\"1\" /><path clip-path=\"url(#clip170)\" d=\"M124.07 799.143 Q120.459 799.143 118.631 802.707 Q116.825 806.249 116.825 813.379 Q116.825 820.485 118.631 824.05 Q120.459 827.592 124.07 827.592 Q127.705 827.592 129.51 824.05 Q131.339 820.485 131.339 813.379 Q131.339 806.249 129.51 802.707 Q127.705 799.143 124.07 799.143 M124.07 795.439 Q129.881 795.439 132.936 800.045 Q136.015 804.629 136.015 813.379 Q136.015 822.105 132.936 826.712 Q129.881 831.295 124.07 831.295 Q118.26 831.295 115.182 826.712 Q112.126 822.105 112.126 813.379 Q112.126 804.629 115.182 800.045 Q118.26 795.439 124.07 795.439 Z\" fill=\"#000000\" fill-rule=\"nonzero\" fill-opacity=\"1\" /><path clip-path=\"url(#clip170)\" d=\"M66.5939 428.155 L54.7884 446.604 L66.5939 446.604 L66.5939 428.155 M65.367 424.081 L71.2466 424.081 L71.2466 446.604 L76.1772 446.604 L76.1772 450.492 L71.2466 450.492 L71.2466 458.641 L66.5939 458.641 L66.5939 450.492 L50.9921 450.492 L50.9921 445.979 L65.367 424.081 Z\" fill=\"#000000\" fill-rule=\"nonzero\" fill-opacity=\"1\" /><path clip-path=\"url(#clip170)\" d=\"M93.9086 427.159 Q90.2975 427.159 88.4688 430.724 Q86.6632 434.266 86.6632 441.395 Q86.6632 448.502 88.4688 452.066 Q90.2975 455.608 93.9086 455.608 Q97.5428 455.608 99.3483 452.066 Q101.177 448.502 101.177 441.395 Q101.177 434.266 99.3483 430.724 Q97.5428 427.159 93.9086 427.159 M93.9086 423.456 Q99.7187 423.456 102.774 428.062 Q105.853 432.645 105.853 441.395 Q105.853 450.122 102.774 454.728 Q99.7187 459.312 93.9086 459.312 Q88.0984 459.312 85.0197 454.728 Q81.9642 450.122 81.9642 441.395 Q81.9642 432.645 85.0197 428.062 Q88.0984 423.456 93.9086 423.456 Z\" fill=\"#000000\" fill-rule=\"nonzero\" fill-opacity=\"1\" /><path clip-path=\"url(#clip170)\" d=\"M124.07 427.159 Q120.459 427.159 118.631 430.724 Q116.825 434.266 116.825 441.395 Q116.825 448.502 118.631 452.066 Q120.459 455.608 124.07 455.608 Q127.705 455.608 129.51 452.066 Q131.339 448.502 131.339 441.395 Q131.339 434.266 129.51 430.724 Q127.705 427.159 124.07 427.159 M124.07 423.456 Q129.881 423.456 132.936 428.062 Q136.015 432.645 136.015 441.395 Q136.015 450.122 132.936 454.728 Q129.881 459.312 124.07 459.312 Q118.26 459.312 115.182 454.728 Q112.126 450.122 112.126 441.395 Q112.126 432.645 115.182 428.062 Q118.26 423.456 124.07 423.456 Z\" fill=\"#000000\" fill-rule=\"nonzero\" fill-opacity=\"1\" /><path clip-path=\"url(#clip170)\" d=\"M64.3254 67.5137 Q61.1773 67.5137 59.3254 69.6665 Q57.4967 71.8192 57.4967 75.5692 Q57.4967 79.296 59.3254 81.4719 Q61.1773 83.6247 64.3254 83.6247 Q67.4735 83.6247 69.3022 81.4719 Q71.1541 79.296 71.1541 75.5692 Q71.1541 71.8192 69.3022 69.6665 Q67.4735 67.5137 64.3254 67.5137 M73.6077 52.861 L73.6077 57.1202 Q71.8485 56.2869 70.0429 55.8471 Q68.2606 55.4073 66.5013 55.4073 Q61.8717 55.4073 59.418 58.5323 Q56.9875 61.6572 56.6402 67.9767 Q58.006 65.9628 60.0662 64.898 Q62.1263 63.81 64.6032 63.81 Q69.8115 63.81 72.8207 66.9813 Q75.8531 70.1294 75.8531 75.5692 Q75.8531 80.8932 72.705 84.1108 Q69.5568 87.3284 64.3254 87.3284 Q58.33 87.3284 55.1588 82.7451 Q51.9875 78.1386 51.9875 69.4118 Q51.9875 61.2174 55.8764 56.3563 Q59.7652 51.4721 66.3161 51.4721 Q68.0754 51.4721 69.8578 51.8193 Q71.6633 52.1666 73.6077 52.861 Z\" fill=\"#000000\" fill-rule=\"nonzero\" fill-opacity=\"1\" /><path clip-path=\"url(#clip170)\" d=\"M93.9086 55.1758 Q90.2975 55.1758 88.4688 58.7406 Q86.6632 62.2822 86.6632 69.4118 Q86.6632 76.5183 88.4688 80.0831 Q90.2975 83.6247 93.9086 83.6247 Q97.5428 83.6247 99.3483 80.0831 Q101.177 76.5183 101.177 69.4118 Q101.177 62.2822 99.3483 58.7406 Q97.5428 55.1758 93.9086 55.1758 M93.9086 51.4721 Q99.7187 51.4721 102.774 56.0786 Q105.853 60.6619 105.853 69.4118 Q105.853 78.1386 102.774 82.7451 Q99.7187 87.3284 93.9086 87.3284 Q88.0984 87.3284 85.0197 82.7451 Q81.9642 78.1386 81.9642 69.4118 Q81.9642 60.6619 85.0197 56.0786 Q88.0984 51.4721 93.9086 51.4721 Z\" fill=\"#000000\" fill-rule=\"nonzero\" fill-opacity=\"1\" /><path clip-path=\"url(#clip170)\" d=\"M124.07 55.1758 Q120.459 55.1758 118.631 58.7406 Q116.825 62.2822 116.825 69.4118 Q116.825 76.5183 118.631 80.0831 Q120.459 83.6247 124.07 83.6247 Q127.705 83.6247 129.51 80.0831 Q131.339 76.5183 131.339 69.4118 Q131.339 62.2822 129.51 58.7406 Q127.705 55.1758 124.07 55.1758 M124.07 51.4721 Q129.881 51.4721 132.936 56.0786 Q136.015 60.6619 136.015 69.4118 Q136.015 78.1386 132.936 82.7451 Q129.881 87.3284 124.07 87.3284 Q118.26 87.3284 115.182 82.7451 Q112.126 78.1386 112.126 69.4118 Q112.126 60.6619 115.182 56.0786 Q118.26 51.4721 124.07 51.4721 Z\" fill=\"#000000\" fill-rule=\"nonzero\" fill-opacity=\"1\" /><polyline clip-path=\"url(#clip172)\" style=\"stroke:#009af9; stroke-linecap:round; stroke-linejoin:round; stroke-width:4; stroke-opacity:1; fill:none\" points=\"233.734,87.9763 237.082,97.425 240.431,106.821 243.78,116.164 247.128,125.454 262.609,167.721 278.09,208.878 293.571,248.939 309.052,287.917 324.533,325.827 340.014,362.683 355.495,398.5 370.976,433.291 389.583,473.772 408.19,512.816 426.797,550.449 445.404,586.697 461.136,616.281 476.868,644.906 492.6,672.588 508.332,699.342 525.421,727.37 542.51,754.339 559.6,780.269 576.689,805.179 608.199,848.499 639.708,888.536 656.599,908.688 673.49,927.95 690.381,946.341 707.271,963.878 726.841,983.155 746.411,1001.34 765.98,1018.46 785.55,1034.55 820.333,1060.68 855.115,1083.8 885.616,1101.72 916.117,1117.56 949.371,1132.59 982.626,1145.4 1016.08,1156.21 1049.53,1165.08 1086.52,1172.79 1123.5,1178.49 1158.69,1182.24 1193.88,1184.5 1267.06,1185.23 1328.66,1182.58 1403.87,1176.67 1472.77,1169.99 1536.4,1163.86 1600.86,1158.75 1673.1,1155.58 1738.55,1156.23 1776.03,1158.53 1813.5,1162.5 1848.2,1167.83 1882.89,1174.93 1917.1,1183.8 1951.31,1194.69 1984.52,1207.34 2017.73,1222.18 2051.78,1239.82 2085.83,1260.05 2123.13,1285.39 2160.43,1314.23 2187.52,1337.49 2214.62,1362.78 2241.71,1390.18 2268.8,1419.76 2274.36,1426.1 2279.92,1432.54 2285.48,1439.08 2291.04,1445.72 \"/>\n",
       "<path clip-path=\"url(#clip170)\" d=\"M2009.56 198.898 L2280.06 198.898 L2280.06 95.2176 L2009.56 95.2176  Z\" fill=\"#ffffff\" fill-rule=\"evenodd\" fill-opacity=\"1\"/>\n",
       "<polyline clip-path=\"url(#clip170)\" style=\"stroke:#000000; stroke-linecap:round; stroke-linejoin:round; stroke-width:4; stroke-opacity:1; fill:none\" points=\"2009.56,198.898 2280.06,198.898 2280.06,95.2176 2009.56,95.2176 2009.56,198.898 \"/>\n",
       "<polyline clip-path=\"url(#clip170)\" style=\"stroke:#009af9; stroke-linecap:round; stroke-linejoin:round; stroke-width:4; stroke-opacity:1; fill:none\" points=\"2033.79,147.058 2179.17,147.058 \"/>\n",
       "<path clip-path=\"url(#clip170)\" d=\"M2217.25 166.745 Q2215.44 171.375 2213.73 172.787 Q2212.01 174.199 2209.14 174.199 L2205.74 174.199 L2205.74 170.634 L2208.24 170.634 Q2210 170.634 2210.97 169.8 Q2211.95 168.967 2213.13 165.865 L2213.89 163.921 L2203.4 138.412 L2207.92 138.412 L2216.02 158.689 L2224.12 138.412 L2228.64 138.412 L2217.25 166.745 Z\" fill=\"#000000\" fill-rule=\"nonzero\" fill-opacity=\"1\" /><path clip-path=\"url(#clip170)\" d=\"M2235.93 160.402 L2243.57 160.402 L2243.57 134.037 L2235.26 135.703 L2235.26 131.444 L2243.52 129.778 L2248.2 129.778 L2248.2 160.402 L2255.83 160.402 L2255.83 164.338 L2235.93 164.338 L2235.93 160.402 Z\" fill=\"#000000\" fill-rule=\"nonzero\" fill-opacity=\"1\" /></svg>\n"
      ]
     },
     "execution_count": 9,
     "metadata": {},
     "output_type": "execute_result"
    }
   ],
   "source": [
    "plot(g)"
   ]
  },
  {
   "cell_type": "code",
   "execution_count": 10,
   "id": "de743f4f",
   "metadata": {},
   "outputs": [
    {
     "ename": "LoadError",
     "evalue": "UndefVarError: g′ not defined",
     "output_type": "error",
     "traceback": [
      "UndefVarError: g′ not defined",
      "",
      "Stacktrace:",
      " [1] top-level scope",
      "   @ In[10]:1"
     ]
    }
   ],
   "source": [
    "newton_max_uni_a2(g,g′,g′′,1,1e-10,100)"
   ]
  },
  {
   "cell_type": "code",
   "execution_count": 11,
   "id": "970d9048",
   "metadata": {},
   "outputs": [
    {
     "ename": "LoadError",
     "evalue": "UndefVarError: g′ not defined",
     "output_type": "error",
     "traceback": [
      "UndefVarError: g′ not defined",
      "",
      "Stacktrace:",
      " [1] top-level scope",
      "   @ In[11]:1"
     ]
    }
   ],
   "source": [
    "newton_max_uni_a2(g,g′,g′′,-0.105, 1e-10,100)"
   ]
  },
  {
   "cell_type": "markdown",
   "id": "99158255",
   "metadata": {},
   "source": [
    "#### [Q4] Modify the above program to meet the following specifications\n",
    "\n",
    "- Instead of requiring users to input analytic forms of the function's 1st and 2nd derivatives, use Julia's `ForwardDiff` to do it automatically. The program should be named `newton_max_uni_b`. The program should look like the following where the 1st and 2nd derivatives are calculated using `ForwardDiff` within the program. Estimate $g(x)$ using this program.\n",
    "\n",
    "```julia\n",
    "using ForwardDiff\n",
    "function newton_max_uni_b(f::Function, x0, ϵ, imax)\n",
    "    ....\n",
    "end\n",
    "```\n",
    "Hint: `Forward.derivative()` is your friend. You need to find out how to use it to calculate the 2nd derivative."
   ]
  },
  {
   "cell_type": "code",
   "execution_count": 12,
   "id": "9b6c0560",
   "metadata": {},
   "outputs": [
    {
     "data": {
      "text/plain": [
       "newton_max_uni_b (generic function with 1 method)"
      ]
     },
     "execution_count": 12,
     "metadata": {},
     "output_type": "execute_result"
    }
   ],
   "source": [
    "function newton_max_uni_b(f::Function, x0, ϵ, imax)\n",
    "    f′(x) = ForwardDiff.derivative(f,x)\n",
    "    f′′(x) = ForwardDiff.derivative(f′,x)  \n",
    "    d(x) = f′(x)/f′′(x)\n",
    "    s = 1\n",
    "    \n",
    "    for i in 1:imax\n",
    "        if abs(f′′(x0)) < ϵ \n",
    "            if f′(x0) > 0\n",
    "                x0 += 0.01\n",
    "            elseif f′(x1) < 0\n",
    "                x0 -= 0.01\n",
    "            end\n",
    "        end\n",
    "        \n",
    "        if sign(d(x0)) == sign(f′(x0))\n",
    "            s = -1\n",
    "            x1 = x0 - s * d(x0)\n",
    "            s = 1\n",
    "        else x1 = x0 - s * d(x0)\n",
    "        end\n",
    "        \n",
    "    \n",
    "        \n",
    "        if abs( x0-x1 ) < ϵ           \n",
    "            if f′′(x1) < 0\n",
    "                println(\"local max\")\n",
    "                return x1,i,abs( x0-x1 )\n",
    "            elseif f′′(x1) > 0\n",
    "                println(\"local min\")\n",
    "                return x1,i,abs( x0-x1 )\n",
    "            end        \n",
    "        end\n",
    "        \n",
    "        x0 = x1\n",
    "    end\n",
    "    return println(\"not converge\")\n",
    "end"
   ]
  },
  {
   "cell_type": "code",
   "execution_count": 13,
   "id": "25956754",
   "metadata": {},
   "outputs": [
    {
     "name": "stdout",
     "output_type": "stream",
     "text": [
      "local max\n"
     ]
    },
    {
     "data": {
      "text/plain": [
       "(2.1055415967851334, 12, 0.0)"
      ]
     },
     "execution_count": 13,
     "metadata": {},
     "output_type": "execute_result"
    }
   ],
   "source": [
    "newton_max_uni_b(g,0.99,1e-10,100)"
   ]
  },
  {
   "cell_type": "markdown",
   "id": "1b7ae6f1",
   "metadata": {},
   "source": [
    "### [Q5] Write a Julia program to implement Newton's method of finding the maximizers of a multi-variate function. The program should meet the following requirements:\n",
    "\n",
    "- The program should be named `newton_max_a` (for ease of grading).\n",
    "\n",
    "\n",
    "- The inputs should at least contain the following items:\n",
    "\n",
    "```julia\n",
    "function newton_max_a(f::Function, init, ϵ, maxit) \n",
    "   ...\n",
    "end\n",
    "```\n",
    "   where `f` is the objective function, `init` is the vector of initial values, `ϵ` is the tolerance of convergence criterion, and `maxit` is the maximum number of iterations.\n",
    "   \n",
    "\n",
    "- The `f` is a function of `n` variables where `n` is larger than or equal to 1.\n",
    "   \n",
    "\n",
    "- Use `ForwardDiff` to calculate the gradient vector and the Hessian matrix.\n",
    "  - Hint: `ForwardDiff.gradient()` and `ForwardDiff.hessian()`.\n",
    "\n",
    "\n",
    "- Use the norm of the gradient as the basis to check convergence.\n",
    "  - Hint: Google how to calculate the norm of a vector in Julia.\n",
    "\n",
    "\n",
    "- The program should be able to check whether the found solution is a maximizer or a minimizer (hint: check whether the Hessian is positive definite or negative definite). If it is a minimizer instead of a maximizer, a warning should be issued.\n",
    "  - Hint: Google how to check a matrix's definite using Julia.\n",
    "\n",
    "\n",
    "- The program should print at least the following information: the solution, the number of iterations, and actual ϵ. If the number of iterations equals `maxit` (meaning, the estimation may not have converged), a warning should be issued."
   ]
  },
  {
   "cell_type": "code",
   "execution_count": 14,
   "id": "fa071a2e",
   "metadata": {},
   "outputs": [
    {
     "data": {
      "text/plain": [
       "newton_max_a (generic function with 1 method)"
      ]
     },
     "execution_count": 14,
     "metadata": {},
     "output_type": "execute_result"
    }
   ],
   "source": [
    "function newton_max_a(f::Function, init, ϵ, maxit) \n",
    "    θ0 = init\n",
    "    z = zeros(length(init))\n",
    "    H(x) = ForwardDiff.hessian(f,x)\n",
    "    g(x) = ForwardDiff.gradient(f,x)\n",
    "    \n",
    "    \n",
    "    for i in 0:maxit\n",
    "\n",
    "\n",
    "        θ1 = θ0 - inv(H(θ0)) * g(θ0)\n",
    "    \n",
    "\n",
    "    \n",
    "        if norm( θ1-θ0 ) < ϵ           \n",
    "            if eigvals(H(θ1)) < z\n",
    "                println(\"local max\")\n",
    "                return θ1, i, norm( θ1-θ0 )\n",
    "            elseif eigvals(H(θ1)) > z\n",
    "                println(\"local min\")\n",
    "                return θ1, i, norm( θ1-θ0 )\n",
    "            end   \n",
    "            \n",
    "            return θ1, i, norm( θ1-θ0 )\n",
    "        end\n",
    "         \n",
    "        θ0 = θ1\n",
    "\n",
    "    end\n",
    "    return println(\"can't converge\")\n",
    "end"
   ]
  },
  {
   "cell_type": "markdown",
   "id": "3741bb02",
   "metadata": {},
   "source": [
    "#### [Q6] Use the program to estimate $h(x,y)$. Hint: Code the function as `h(x) = -(1.5 - x[1])^2 - 100*(x[2] - x[1]^2)^2` where `x` is a vector."
   ]
  },
  {
   "cell_type": "code",
   "execution_count": 15,
   "id": "d9d104b2",
   "metadata": {},
   "outputs": [
    {
     "name": "stdout",
     "output_type": "stream",
     "text": [
      "local max\n"
     ]
    },
    {
     "data": {
      "text/plain": [
       "([1.5, 2.25], 2, 0.0)"
      ]
     },
     "execution_count": 15,
     "metadata": {},
     "output_type": "execute_result"
    }
   ],
   "source": [
    "newton_max_a(h, [0,0], 1e-8, 100)"
   ]
  },
  {
   "cell_type": "markdown",
   "id": "b0c1efaa",
   "metadata": {},
   "source": [
    "#### [Q7] Use the program to estimate $k(x,y)$. Hint: Code the function as `k(x) = - (x[1] + 2*x[2] - 7)^2 - (2*x[1] + x[2] -5)^2` where `x` is a vector. The estimation should converge in 1 iteration."
   ]
  },
  {
   "cell_type": "code",
   "execution_count": 16,
   "id": "3f3040bf",
   "metadata": {},
   "outputs": [
    {
     "name": "stdout",
     "output_type": "stream",
     "text": [
      "local max\n"
     ]
    },
    {
     "data": {
      "text/plain": [
       "([1.0, 3.0], 1, 8.881784197001252e-16)"
      ]
     },
     "execution_count": 16,
     "metadata": {},
     "output_type": "execute_result"
    }
   ],
   "source": [
    "newton_max_a(k, [0,0], 1e-8, 100)"
   ]
  },
  {
   "cell_type": "markdown",
   "id": "4308eba1",
   "metadata": {},
   "source": [
    "#### [Q8] Use the program to estimate $g(x)$. Hint: Code the function as `g(x) = -3*x[1]^3 + 9*x[1]^2 + 2*x[1]` where `x` is a vector."
   ]
  },
  {
   "cell_type": "code",
   "execution_count": 17,
   "id": "0a8bca7b",
   "metadata": {},
   "outputs": [
    {
     "name": "stdout",
     "output_type": "stream",
     "text": [
      "local min\n"
     ]
    },
    {
     "data": {
      "text/plain": [
       "([-0.1055415967851333], 11, 1.8041124150158794e-16)"
      ]
     },
     "execution_count": 17,
     "metadata": {},
     "output_type": "execute_result"
    }
   ],
   "source": [
    "newton_max_a(g, [0.99], 1e-8, 100)"
   ]
  },
  {
   "cell_type": "code",
   "execution_count": 18,
   "id": "1cef09b4",
   "metadata": {},
   "outputs": [
    {
     "name": "stdout",
     "output_type": "stream",
     "text": [
      "local max\n"
     ]
    },
    {
     "data": {
      "text/plain": [
       "([2.1055415967851334], 11, 0.0)"
      ]
     },
     "execution_count": 18,
     "metadata": {},
     "output_type": "execute_result"
    }
   ],
   "source": [
    "newton_max_a(g, [1.01], 1e-8, 100)"
   ]
  }
 ],
 "metadata": {
  "@webio": {
   "lastCommId": null,
   "lastKernelId": null
  },
  "kernelspec": {
   "display_name": "Julia 1.8.5",
   "language": "julia",
   "name": "julia-1.8"
  },
  "language_info": {
   "file_extension": ".jl",
   "mimetype": "application/julia",
   "name": "julia",
   "version": "1.8.5"
  },
  "toc": {
   "base_numbering": 1,
   "nav_menu": {},
   "number_sections": true,
   "sideBar": true,
   "skip_h1_title": false,
   "title_cell": "Table of Contents",
   "title_sidebar": "Contents",
   "toc_cell": false,
   "toc_position": {},
   "toc_section_display": true,
   "toc_window_display": false
  },
  "varInspector": {
   "cols": {
    "lenName": 16,
    "lenType": 16,
    "lenVar": 40
   },
   "kernels_config": {
    "python": {
     "delete_cmd_postfix": "",
     "delete_cmd_prefix": "del ",
     "library": "var_list.py",
     "varRefreshCmd": "print(var_dic_list())"
    },
    "r": {
     "delete_cmd_postfix": ") ",
     "delete_cmd_prefix": "rm(",
     "library": "var_list.r",
     "varRefreshCmd": "cat(var_dic_list()) "
    }
   },
   "types_to_exclude": [
    "module",
    "function",
    "builtin_function_or_method",
    "instance",
    "_Feature"
   ],
   "window_display": false
  }
 },
 "nbformat": 4,
 "nbformat_minor": 5
}
