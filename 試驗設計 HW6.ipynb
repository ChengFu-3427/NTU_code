{
 "cells": [
  {
   "cell_type": "markdown",
   "id": "43fd7887",
   "metadata": {},
   "source": [
    "### Problem 1"
   ]
  },
  {
   "cell_type": "code",
   "execution_count": 1,
   "id": "f58c7cf3",
   "metadata": {},
   "outputs": [
    {
     "data": {
      "text/html": [
       "<table>\n",
       "<thead><tr><th scope=col>label</th><th scope=col>a</th><th scope=col>b</th><th scope=col>c</th><th scope=col>d</th><th scope=col>ab</th><th scope=col>ac</th><th scope=col>ad</th><th scope=col>bc</th><th scope=col>bd</th><th scope=col>cd</th><th scope=col>abc</th><th scope=col>abd</th><th scope=col>bcd</th><th scope=col>abcd</th><th scope=col>value</th></tr></thead>\n",
       "<tbody>\n",
       "\t<tr><td>1   </td><td>-1  </td><td>-1  </td><td>-1  </td><td>-1  </td><td> 1  </td><td> 1  </td><td> 1  </td><td> 1  </td><td> 1  </td><td> 1  </td><td>-1  </td><td>-1  </td><td>-1  </td><td> 1  </td><td>12  </td></tr>\n",
       "\t<tr><td>a   </td><td> 1  </td><td>-1  </td><td>-1  </td><td>-1  </td><td>-1  </td><td>-1  </td><td>-1  </td><td> 1  </td><td> 1  </td><td> 1  </td><td> 1  </td><td> 1  </td><td>-1  </td><td>-1  </td><td>18  </td></tr>\n",
       "\t<tr><td>b   </td><td>-1  </td><td> 1  </td><td>-1  </td><td>-1  </td><td>-1  </td><td> 1  </td><td> 1  </td><td>-1  </td><td>-1  </td><td> 1  </td><td> 1  </td><td> 1  </td><td> 1  </td><td>-1  </td><td>13  </td></tr>\n",
       "\t<tr><td>ab  </td><td> 1  </td><td> 1  </td><td>-1  </td><td>-1  </td><td> 1  </td><td>-1  </td><td>-1  </td><td>-1  </td><td>-1  </td><td> 1  </td><td>-1  </td><td>-1  </td><td> 1  </td><td> 1  </td><td>16  </td></tr>\n",
       "\t<tr><td>c   </td><td>-1  </td><td>-1  </td><td> 1  </td><td>-1  </td><td> 1  </td><td>-1  </td><td> 1  </td><td>-1  </td><td> 1  </td><td>-1  </td><td> 1  </td><td>-1  </td><td> 1  </td><td>-1  </td><td>17  </td></tr>\n",
       "\t<tr><td>ac  </td><td> 1  </td><td>-1  </td><td> 1  </td><td>-1  </td><td>-1  </td><td> 1  </td><td>-1  </td><td>-1  </td><td> 1  </td><td>-1  </td><td>-1  </td><td> 1  </td><td> 1  </td><td> 1  </td><td>15  </td></tr>\n",
       "\t<tr><td>bc  </td><td>-1  </td><td> 1  </td><td> 1  </td><td>-1  </td><td>-1  </td><td>-1  </td><td> 1  </td><td> 1  </td><td>-1  </td><td>-1  </td><td>-1  </td><td> 1  </td><td>-1  </td><td> 1  </td><td>20  </td></tr>\n",
       "\t<tr><td>abc </td><td> 1  </td><td> 1  </td><td> 1  </td><td>-1  </td><td> 1  </td><td> 1  </td><td>-1  </td><td> 1  </td><td>-1  </td><td>-1  </td><td> 1  </td><td>-1  </td><td>-1  </td><td>-1  </td><td>15  </td></tr>\n",
       "\t<tr><td>d   </td><td>-1  </td><td>-1  </td><td>-1  </td><td> 1  </td><td> 1  </td><td> 1  </td><td>-1  </td><td> 1  </td><td>-1  </td><td>-1  </td><td>-1  </td><td> 1  </td><td> 1  </td><td>-1  </td><td>10  </td></tr>\n",
       "\t<tr><td>ad  </td><td> 1  </td><td>-1  </td><td>-1  </td><td> 1  </td><td>-1  </td><td>-1  </td><td> 1  </td><td> 1  </td><td>-1  </td><td>-1  </td><td> 1  </td><td>-1  </td><td> 1  </td><td> 1  </td><td>25  </td></tr>\n",
       "\t<tr><td>bd  </td><td>-1  </td><td> 1  </td><td>-1  </td><td> 1  </td><td>-1  </td><td> 1  </td><td>-1  </td><td>-1  </td><td> 1  </td><td>-1  </td><td> 1  </td><td>-1  </td><td>-1  </td><td> 1  </td><td>13  </td></tr>\n",
       "\t<tr><td>abd </td><td> 1  </td><td> 1  </td><td>-1  </td><td> 1  </td><td> 1  </td><td>-1  </td><td> 1  </td><td>-1  </td><td> 1  </td><td>-1  </td><td>-1  </td><td> 1  </td><td>-1  </td><td>-1  </td><td>24  </td></tr>\n",
       "\t<tr><td>cd  </td><td>-1  </td><td>-1  </td><td> 1  </td><td> 1  </td><td> 1  </td><td>-1  </td><td>-1  </td><td>-1  </td><td>-1  </td><td> 1  </td><td> 1  </td><td> 1  </td><td>-1  </td><td> 1  </td><td>19  </td></tr>\n",
       "\t<tr><td>acd </td><td> 1  </td><td>-1  </td><td> 1  </td><td> 1  </td><td>-1  </td><td> 1  </td><td> 1  </td><td>-1  </td><td>-1  </td><td> 1  </td><td>-1  </td><td>-1  </td><td>-1  </td><td>-1  </td><td>21  </td></tr>\n",
       "\t<tr><td>bcd </td><td>-1  </td><td> 1  </td><td> 1  </td><td> 1  </td><td>-1  </td><td>-1  </td><td>-1  </td><td> 1  </td><td> 1  </td><td> 1  </td><td>-1  </td><td>-1  </td><td> 1  </td><td>-1  </td><td>17  </td></tr>\n",
       "\t<tr><td>abcd</td><td> 1  </td><td> 1  </td><td> 1  </td><td> 1  </td><td> 1  </td><td> 1  </td><td> 1  </td><td> 1  </td><td> 1  </td><td> 1  </td><td> 1  </td><td> 1  </td><td> 1  </td><td> 1  </td><td>23  </td></tr>\n",
       "</tbody>\n",
       "</table>\n"
      ],
      "text/latex": [
       "\\begin{tabular}{r|llllllllllllllll}\n",
       " label & a & b & c & d & ab & ac & ad & bc & bd & cd & abc & abd & bcd & abcd & value\\\\\n",
       "\\hline\n",
       "\t 1    & -1   & -1   & -1   & -1   &  1   &  1   &  1   &  1   &  1   &  1   & -1   & -1   & -1   &  1   & 12  \\\\\n",
       "\t a    &  1   & -1   & -1   & -1   & -1   & -1   & -1   &  1   &  1   &  1   &  1   &  1   & -1   & -1   & 18  \\\\\n",
       "\t b    & -1   &  1   & -1   & -1   & -1   &  1   &  1   & -1   & -1   &  1   &  1   &  1   &  1   & -1   & 13  \\\\\n",
       "\t ab   &  1   &  1   & -1   & -1   &  1   & -1   & -1   & -1   & -1   &  1   & -1   & -1   &  1   &  1   & 16  \\\\\n",
       "\t c    & -1   & -1   &  1   & -1   &  1   & -1   &  1   & -1   &  1   & -1   &  1   & -1   &  1   & -1   & 17  \\\\\n",
       "\t ac   &  1   & -1   &  1   & -1   & -1   &  1   & -1   & -1   &  1   & -1   & -1   &  1   &  1   &  1   & 15  \\\\\n",
       "\t bc   & -1   &  1   &  1   & -1   & -1   & -1   &  1   &  1   & -1   & -1   & -1   &  1   & -1   &  1   & 20  \\\\\n",
       "\t abc  &  1   &  1   &  1   & -1   &  1   &  1   & -1   &  1   & -1   & -1   &  1   & -1   & -1   & -1   & 15  \\\\\n",
       "\t d    & -1   & -1   & -1   &  1   &  1   &  1   & -1   &  1   & -1   & -1   & -1   &  1   &  1   & -1   & 10  \\\\\n",
       "\t ad   &  1   & -1   & -1   &  1   & -1   & -1   &  1   &  1   & -1   & -1   &  1   & -1   &  1   &  1   & 25  \\\\\n",
       "\t bd   & -1   &  1   & -1   &  1   & -1   &  1   & -1   & -1   &  1   & -1   &  1   & -1   & -1   &  1   & 13  \\\\\n",
       "\t abd  &  1   &  1   & -1   &  1   &  1   & -1   &  1   & -1   &  1   & -1   & -1   &  1   & -1   & -1   & 24  \\\\\n",
       "\t cd   & -1   & -1   &  1   &  1   &  1   & -1   & -1   & -1   & -1   &  1   &  1   &  1   & -1   &  1   & 19  \\\\\n",
       "\t acd  &  1   & -1   &  1   &  1   & -1   &  1   &  1   & -1   & -1   &  1   & -1   & -1   & -1   & -1   & 21  \\\\\n",
       "\t bcd  & -1   &  1   &  1   &  1   & -1   & -1   & -1   &  1   &  1   &  1   & -1   & -1   &  1   & -1   & 17  \\\\\n",
       "\t abcd &  1   &  1   &  1   &  1   &  1   &  1   &  1   &  1   &  1   &  1   &  1   &  1   &  1   &  1   & 23  \\\\\n",
       "\\end{tabular}\n"
      ],
      "text/markdown": [
       "\n",
       "| label | a | b | c | d | ab | ac | ad | bc | bd | cd | abc | abd | bcd | abcd | value |\n",
       "|---|---|---|---|---|---|---|---|---|---|---|---|---|---|---|---|\n",
       "| 1    | -1   | -1   | -1   | -1   |  1   |  1   |  1   |  1   |  1   |  1   | -1   | -1   | -1   |  1   | 12   |\n",
       "| a    |  1   | -1   | -1   | -1   | -1   | -1   | -1   |  1   |  1   |  1   |  1   |  1   | -1   | -1   | 18   |\n",
       "| b    | -1   |  1   | -1   | -1   | -1   |  1   |  1   | -1   | -1   |  1   |  1   |  1   |  1   | -1   | 13   |\n",
       "| ab   |  1   |  1   | -1   | -1   |  1   | -1   | -1   | -1   | -1   |  1   | -1   | -1   |  1   |  1   | 16   |\n",
       "| c    | -1   | -1   |  1   | -1   |  1   | -1   |  1   | -1   |  1   | -1   |  1   | -1   |  1   | -1   | 17   |\n",
       "| ac   |  1   | -1   |  1   | -1   | -1   |  1   | -1   | -1   |  1   | -1   | -1   |  1   |  1   |  1   | 15   |\n",
       "| bc   | -1   |  1   |  1   | -1   | -1   | -1   |  1   |  1   | -1   | -1   | -1   |  1   | -1   |  1   | 20   |\n",
       "| abc  |  1   |  1   |  1   | -1   |  1   |  1   | -1   |  1   | -1   | -1   |  1   | -1   | -1   | -1   | 15   |\n",
       "| d    | -1   | -1   | -1   |  1   |  1   |  1   | -1   |  1   | -1   | -1   | -1   |  1   |  1   | -1   | 10   |\n",
       "| ad   |  1   | -1   | -1   |  1   | -1   | -1   |  1   |  1   | -1   | -1   |  1   | -1   |  1   |  1   | 25   |\n",
       "| bd   | -1   |  1   | -1   |  1   | -1   |  1   | -1   | -1   |  1   | -1   |  1   | -1   | -1   |  1   | 13   |\n",
       "| abd  |  1   |  1   | -1   |  1   |  1   | -1   |  1   | -1   |  1   | -1   | -1   |  1   | -1   | -1   | 24   |\n",
       "| cd   | -1   | -1   |  1   |  1   |  1   | -1   | -1   | -1   | -1   |  1   |  1   |  1   | -1   |  1   | 19   |\n",
       "| acd  |  1   | -1   |  1   |  1   | -1   |  1   |  1   | -1   | -1   |  1   | -1   | -1   | -1   | -1   | 21   |\n",
       "| bcd  | -1   |  1   |  1   |  1   | -1   | -1   | -1   |  1   |  1   |  1   | -1   | -1   |  1   | -1   | 17   |\n",
       "| abcd |  1   |  1   |  1   |  1   |  1   |  1   |  1   |  1   |  1   |  1   |  1   |  1   |  1   |  1   | 23   |\n",
       "\n"
      ],
      "text/plain": [
       "   label a  b  c  d  ab ac ad bc bd cd abc abd bcd abcd value\n",
       "1  1     -1 -1 -1 -1  1  1  1  1  1  1 -1  -1  -1   1   12   \n",
       "2  a      1 -1 -1 -1 -1 -1 -1  1  1  1  1   1  -1  -1   18   \n",
       "3  b     -1  1 -1 -1 -1  1  1 -1 -1  1  1   1   1  -1   13   \n",
       "4  ab     1  1 -1 -1  1 -1 -1 -1 -1  1 -1  -1   1   1   16   \n",
       "5  c     -1 -1  1 -1  1 -1  1 -1  1 -1  1  -1   1  -1   17   \n",
       "6  ac     1 -1  1 -1 -1  1 -1 -1  1 -1 -1   1   1   1   15   \n",
       "7  bc    -1  1  1 -1 -1 -1  1  1 -1 -1 -1   1  -1   1   20   \n",
       "8  abc    1  1  1 -1  1  1 -1  1 -1 -1  1  -1  -1  -1   15   \n",
       "9  d     -1 -1 -1  1  1  1 -1  1 -1 -1 -1   1   1  -1   10   \n",
       "10 ad     1 -1 -1  1 -1 -1  1  1 -1 -1  1  -1   1   1   25   \n",
       "11 bd    -1  1 -1  1 -1  1 -1 -1  1 -1  1  -1  -1   1   13   \n",
       "12 abd    1  1 -1  1  1 -1  1 -1  1 -1 -1   1  -1  -1   24   \n",
       "13 cd    -1 -1  1  1  1 -1 -1 -1 -1  1  1   1  -1   1   19   \n",
       "14 acd    1 -1  1  1 -1  1  1 -1 -1  1 -1  -1  -1  -1   21   \n",
       "15 bcd   -1  1  1  1 -1 -1 -1  1  1  1 -1  -1   1  -1   17   \n",
       "16 abcd   1  1  1  1  1  1  1  1  1  1  1   1   1   1   23   "
      ]
     },
     "metadata": {},
     "output_type": "display_data"
    }
   ],
   "source": [
    "label <- c(\"1\",\"a\",\"b\",\"ab\",\"c\",\"ac\",\"bc\",\"abc\",\"d\",\"ad\",\"bd\",\"abd\",\"cd\",\"acd\",\"bcd\",\"abcd\")\n",
    "value <- c(12,18,13,16,17,15,20,15,10,25,13,24,19,21,17,23)\n",
    "a <- c(-1,1,-1,1,-1,1,-1,1,-1,1,-1,1,-1,1,-1,1)\n",
    "b <- c(-1,-1,1,1,-1,-1,1,1,-1,-1,1,1,-1,-1,1,1)\n",
    "c <- c(-1,-1,-1,-1,1,1,1,1,-1,-1,-1,-1,1,1,1,1)\n",
    "d <- c(-1,-1,-1,-1,-1,-1,-1,-1,1,1,1,1,1,1,1,1)\n",
    "ab <- a*b\n",
    "ac <- a*c\n",
    "ad <- a*d\n",
    "bc <- b*c\n",
    "bd <- b*d\n",
    "cd <- c*d\n",
    "abc <- a*b*c\n",
    "abd <- a*b*d\n",
    "acd <- a*c*d\n",
    "bcd <- b*c*d\n",
    "abcd <- a*b*c*d\n",
    "u <- c(a,b,c,d,ab,ac,ad,bc,bd,cd,abc,abd,acd,bcd,abcd)\n",
    "data <- data.frame(label=label,\n",
    "                   a=a,\n",
    "                   b=b,\n",
    "                   c=c,\n",
    "                   d=d,\n",
    "                   ab=ab,\n",
    "                   ac=ac,\n",
    "                   ad=ad,\n",
    "                   bc=bc,\n",
    "                   bd=bd,\n",
    "                   cd=cd,\n",
    "                   abc=abc,\n",
    "                   abd=abd,\n",
    "                   bcd=bcd,\n",
    "                   abcd=abcd,               \n",
    "                   value=value)\n",
    "data"
   ]
  },
  {
   "cell_type": "markdown",
   "id": "c0ed8784",
   "metadata": {},
   "source": [
    "#### a. Based on the sums of saures, which factors appear to have large effects?"
   ]
  },
  {
   "cell_type": "code",
   "execution_count": 72,
   "id": "5469ed42",
   "metadata": {},
   "outputs": [
    {
     "data": {
      "text/plain": [
       "            Df Sum Sq Mean Sq\n",
       "a            1  81.00   81.00\n",
       "b            1   1.00    1.00\n",
       "c            1  16.00   16.00\n",
       "d            1  42.25   42.25\n",
       "a:b          1   2.25    2.25\n",
       "a:c          1  72.25   72.25\n",
       "b:c          1   0.25    0.25\n",
       "a:d          1  64.00   64.00\n",
       "b:d          1   0.00    0.00\n",
       "c:d          1   0.00    0.00\n",
       "a:b:c        1   4.00    4.00\n",
       "a:b:d        1   2.25    2.25\n",
       "a:c:d        1   0.25    0.25\n",
       "b:c:d        1   2.25    2.25\n",
       "a:b:c:d      1   4.00    4.00"
      ]
     },
     "metadata": {},
     "output_type": "display_data"
    }
   ],
   "source": [
    "summary(aov(value~a*b*c*d))"
   ]
  },
  {
   "cell_type": "markdown",
   "id": "855c561e",
   "metadata": {},
   "source": [
    "a項擁有對sum of square最大的影響"
   ]
  },
  {
   "cell_type": "markdown",
   "id": "2320c6eb",
   "metadata": {},
   "source": [
    "#### b. Conduct an analysis of variance using the normal probability plot in part (a) for guidance in forming an error term. What are your conclusions?"
   ]
  },
  {
   "cell_type": "markdown",
   "id": "00841f5e",
   "metadata": {},
   "source": [
    "依據上表，將除了a,c,d,ac,ad外的其他項當作error。"
   ]
  },
  {
   "cell_type": "markdown",
   "id": "774a5aa7",
   "metadata": {},
   "source": [
    "anova表:"
   ]
  },
  {
   "cell_type": "code",
   "execution_count": 81,
   "id": "a0da99dd",
   "metadata": {},
   "outputs": [
    {
     "data": {
      "text/html": [
       "<table>\n",
       "<thead><tr><th></th><th scope=col>Df</th><th scope=col>Sum Sq</th><th scope=col>Mean Sq</th><th scope=col>F value</th><th scope=col>Pr(&gt;F)</th></tr></thead>\n",
       "<tbody>\n",
       "\t<tr><th scope=row>a</th><td> 1          </td><td>81.00       </td><td>81.000      </td><td>49.846154   </td><td>3.456198e-05</td></tr>\n",
       "\t<tr><th scope=row>c</th><td> 1          </td><td>16.00       </td><td>16.000      </td><td> 9.846154   </td><td>1.054853e-02</td></tr>\n",
       "\t<tr><th scope=row>d</th><td> 1          </td><td>42.25       </td><td>42.250      </td><td>26.000000   </td><td>4.646914e-04</td></tr>\n",
       "\t<tr><th scope=row>a:c</th><td> 1          </td><td>72.25       </td><td>72.250      </td><td>44.461538   </td><td>5.582907e-05</td></tr>\n",
       "\t<tr><th scope=row>a:d</th><td> 1          </td><td>64.00       </td><td>64.000      </td><td>39.384615   </td><td>9.193069e-05</td></tr>\n",
       "\t<tr><th scope=row>Residuals</th><td>10          </td><td>16.25       </td><td> 1.625      </td><td>       NA   </td><td>          NA</td></tr>\n",
       "</tbody>\n",
       "</table>\n"
      ],
      "text/latex": [
       "\\begin{tabular}{r|lllll}\n",
       "  & Df & Sum Sq & Mean Sq & F value & Pr(>F)\\\\\n",
       "\\hline\n",
       "\ta &  1           & 81.00        & 81.000       & 49.846154    & 3.456198e-05\\\\\n",
       "\tc &  1           & 16.00        & 16.000       &  9.846154    & 1.054853e-02\\\\\n",
       "\td &  1           & 42.25        & 42.250       & 26.000000    & 4.646914e-04\\\\\n",
       "\ta:c &  1           & 72.25        & 72.250       & 44.461538    & 5.582907e-05\\\\\n",
       "\ta:d &  1           & 64.00        & 64.000       & 39.384615    & 9.193069e-05\\\\\n",
       "\tResiduals & 10           & 16.25        &  1.625       &        NA    &           NA\\\\\n",
       "\\end{tabular}\n"
      ],
      "text/markdown": [
       "\n",
       "| <!--/--> | Df | Sum Sq | Mean Sq | F value | Pr(>F) |\n",
       "|---|---|---|---|---|---|\n",
       "| a |  1           | 81.00        | 81.000       | 49.846154    | 3.456198e-05 |\n",
       "| c |  1           | 16.00        | 16.000       |  9.846154    | 1.054853e-02 |\n",
       "| d |  1           | 42.25        | 42.250       | 26.000000    | 4.646914e-04 |\n",
       "| a:c |  1           | 72.25        | 72.250       | 44.461538    | 5.582907e-05 |\n",
       "| a:d |  1           | 64.00        | 64.000       | 39.384615    | 9.193069e-05 |\n",
       "| Residuals | 10           | 16.25        |  1.625       |        NA    |           NA |\n",
       "\n"
      ],
      "text/plain": [
       "          Df Sum Sq Mean Sq F value   Pr(>F)      \n",
       "a          1 81.00  81.000  49.846154 3.456198e-05\n",
       "c          1 16.00  16.000   9.846154 1.054853e-02\n",
       "d          1 42.25  42.250  26.000000 4.646914e-04\n",
       "a:c        1 72.25  72.250  44.461538 5.582907e-05\n",
       "a:d        1 64.00  64.000  39.384615 9.193069e-05\n",
       "Residuals 10 16.25   1.625         NA           NA"
      ]
     },
     "metadata": {},
     "output_type": "display_data"
    }
   ],
   "source": [
    "model<-lm(value~a*c+a*d,data)\n",
    "anova(model)"
   ]
  },
  {
   "cell_type": "markdown",
   "id": "31a2efc6",
   "metadata": {},
   "source": [
    "error的qq-plot:"
   ]
  },
  {
   "cell_type": "code",
   "execution_count": 86,
   "id": "e4cfd549",
   "metadata": {},
   "outputs": [
    {
     "data": {
      "text/plain": [
       "\n",
       "Call:\n",
       "lm(formula = value ~ a * c + a * d, data = data)\n",
       "\n",
       "Residuals:\n",
       "    Min      1Q  Median      3Q     Max \n",
       "-1.6250 -0.9375  0.1250  0.8750  1.3750 \n",
       "\n",
       "Coefficients:\n",
       "            Estimate Std. Error t value Pr(>|t|)    \n",
       "(Intercept)  17.3750     0.3187  54.520 1.04e-13 ***\n",
       "a             2.2500     0.3187   7.060 3.46e-05 ***\n",
       "c             1.0000     0.3187   3.138 0.010549 *  \n",
       "d             1.6250     0.3187   5.099 0.000465 ***\n",
       "a:c          -2.1250     0.3187  -6.668 5.58e-05 ***\n",
       "a:d           2.0000     0.3187   6.276 9.19e-05 ***\n",
       "---\n",
       "Signif. codes:  0 '***' 0.001 '**' 0.01 '*' 0.05 '.' 0.1 ' ' 1\n",
       "\n",
       "Residual standard error: 1.275 on 10 degrees of freedom\n",
       "Multiple R-squared:  0.9443,\tAdjusted R-squared:  0.9165 \n",
       "F-statistic: 33.91 on 5 and 10 DF,  p-value: 5.856e-06\n"
      ]
     },
     "metadata": {},
     "output_type": "display_data"
    }
   ],
   "source": [
    "fit <- lm(value~a*c+a*d,data)\n",
    "summary(fit)"
   ]
  },
  {
   "cell_type": "code",
   "execution_count": 89,
   "id": "2f9cf8e4",
   "metadata": {},
   "outputs": [],
   "source": [
    "fit.rid <- resid(fit)"
   ]
  },
  {
   "cell_type": "code",
   "execution_count": 90,
   "id": "f4b3041f",
   "metadata": {},
   "outputs": [
    {
     "data": {
      "image/png": "[encoded data removed]",
      "text/plain": [
       "Plot with title \"Normal Q-Q Plot\""
      ]
     },
     "metadata": {},
     "output_type": "display_data"
    }
   ],
   "source": [
    "qqnorm(fit.rid)\n",
    "qqline(fit.rid)"
   ]
  },
  {
   "cell_type": "markdown",
   "id": "ba78a107",
   "metadata": {},
   "source": [
    "我認為誤差項皆很靠近qqline，所以其分布應該為接近常態。"
   ]
  },
  {
   "cell_type": "markdown",
   "id": "fcf5f983",
   "metadata": {},
   "source": [
    "c. Write down a regression model relating yield to the important process variables."
   ]
  },
  {
   "cell_type": "markdown",
   "id": "2facdc2d",
   "metadata": {},
   "source": [
    "$yield=\\mu+\\beta_a*a+\\beta_c*c+\\beta_d*d+\\beta_{ac}*ac+\\beta_{ad}*ad+\\epsilon$"
   ]
  },
  {
   "attachments": {
    "image.png": {
     "image/png": "[encoded data removed]"
    }
   },
   "cell_type": "markdown",
   "id": "aee8e632",
   "metadata": {},
   "source": [
    "![image.png](attachment:image.png)"
   ]
  },
  {
   "cell_type": "markdown",
   "id": "3e25bae2",
   "metadata": {},
   "source": [
    "d. Analyze the residuals from this experiment. Does your analysis indicate any potential problems?"
   ]
  },
  {
   "cell_type": "markdown",
   "id": "9a87a130",
   "metadata": {},
   "source": [
    "根據qqplot，殘差項應該沒有問題。"
   ]
  },
  {
   "cell_type": "markdown",
   "id": "d22019d6",
   "metadata": {},
   "source": [
    "e. Can this design be collapsed into a $2^3$ design with two replicates? If so, sketch the design with the average and range of yield shown at each point in the cube. Interpret the results."
   ]
  },
  {
   "cell_type": "markdown",
   "id": "1ff2fda5",
   "metadata": {},
   "source": [
    "Yes,根據a題，factor B的效應小，我們應該可以將其忽略。將其重新分配後each point如下："
   ]
  },
  {
   "attachments": {
    "image.png": {
     "image/png": "[encoded data removed]"
    }
   },
   "cell_type": "markdown",
   "id": "caa9451c",
   "metadata": {},
   "source": [
    "![image.png](attachment:image.png)"
   ]
  },
  {
   "cell_type": "markdown",
   "id": "5651bdb2",
   "metadata": {},
   "source": [
    "每個point剛好with two replicates。  \n",
    "(1):1,b; range(12,13);avg:12.5    \n",
    "a:a,ab; range(18,16);avg:17    \n",
    "c:c,bc; range(17,19);avg:18  \n",
    "d:d,bd; range(10,13);avg:11.5   \n",
    "ac:ac,abc; range(15,15);avg:15   \n",
    "ad:ad,abd; range(25,24);avg:24.5   \n",
    "cd:cd,bcd; range(19,17);avg:18   \n",
    "acd: acd,abcd; range(21,23);avg:22  "
   ]
  },
  {
   "cell_type": "markdown",
   "id": "224a431d",
   "metadata": {},
   "source": [
    "---"
   ]
  },
  {
   "cell_type": "markdown",
   "id": "ffb672f5",
   "metadata": {},
   "source": [
    "### Problem 2"
   ]
  },
  {
   "cell_type": "code",
   "execution_count": 103,
   "id": "b8dbae33",
   "metadata": {},
   "outputs": [
    {
     "name": "stderr",
     "output_type": "stream",
     "text": [
      "Loading required package: carData\n",
      "Warning message:\n",
      "\"package 'carData' was built under R version 3.6.3\""
     ]
    }
   ],
   "source": [
    "library(car)"
   ]
  },
  {
   "cell_type": "markdown",
   "id": "fe625ca0",
   "metadata": {},
   "source": [
    "#### a. Analyze the data from this experiment as if there were eight replicates of a $2^3$ design. Comment on the results."
   ]
  },
  {
   "cell_type": "code",
   "execution_count": 111,
   "id": "0a9c1206",
   "metadata": {},
   "outputs": [
    {
     "data": {
      "text/html": [
       "<table>\n",
       "<thead><tr><th scope=col>A</th><th scope=col>B</th><th scope=col>C</th><th scope=col>y</th></tr></thead>\n",
       "<tbody>\n",
       "\t<tr><td>-1</td><td>-1</td><td>-1</td><td>11</td></tr>\n",
       "\t<tr><td> 1</td><td>-1</td><td>-1</td><td>15</td></tr>\n",
       "\t<tr><td>-1</td><td> 1</td><td>-1</td><td> 9</td></tr>\n",
       "\t<tr><td> 1</td><td> 1</td><td>-1</td><td>16</td></tr>\n",
       "\t<tr><td>-1</td><td>-1</td><td> 1</td><td>10</td></tr>\n",
       "\t<tr><td> 1</td><td>-1</td><td> 1</td><td>12</td></tr>\n",
       "\t<tr><td>-1</td><td> 1</td><td> 1</td><td>10</td></tr>\n",
       "\t<tr><td> 1</td><td> 1</td><td> 1</td><td>15</td></tr>\n",
       "\t<tr><td>-1</td><td>-1</td><td>-1</td><td> 9</td></tr>\n",
       "\t<tr><td> 1</td><td>-1</td><td>-1</td><td>10</td></tr>\n",
       "\t<tr><td>-1</td><td> 1</td><td>-1</td><td>12</td></tr>\n",
       "\t<tr><td> 1</td><td> 1</td><td>-1</td><td>17</td></tr>\n",
       "\t<tr><td>-1</td><td>-1</td><td> 1</td><td>11</td></tr>\n",
       "\t<tr><td> 1</td><td>-1</td><td> 1</td><td>13</td></tr>\n",
       "\t<tr><td>-1</td><td> 1</td><td> 1</td><td>12</td></tr>\n",
       "\t<tr><td> 1</td><td> 1</td><td> 1</td><td>12</td></tr>\n",
       "\t<tr><td>-1</td><td>-1</td><td>-1</td><td>10</td></tr>\n",
       "\t<tr><td> 1</td><td>-1</td><td>-1</td><td>16</td></tr>\n",
       "\t<tr><td>-1</td><td> 1</td><td>-1</td><td>11</td></tr>\n",
       "\t<tr><td> 1</td><td> 1</td><td>-1</td><td>15</td></tr>\n",
       "\t<tr><td>-1</td><td>-1</td><td> 1</td><td>15</td></tr>\n",
       "\t<tr><td> 1</td><td>-1</td><td> 1</td><td>14</td></tr>\n",
       "\t<tr><td>-1</td><td> 1</td><td> 1</td><td>13</td></tr>\n",
       "\t<tr><td> 1</td><td> 1</td><td> 1</td><td>15</td></tr>\n",
       "\t<tr><td>-1</td><td>-1</td><td>-1</td><td>10</td></tr>\n",
       "\t<tr><td> 1</td><td>-1</td><td>-1</td><td>14</td></tr>\n",
       "\t<tr><td>-1</td><td> 1</td><td>-1</td><td>11</td></tr>\n",
       "\t<tr><td> 1</td><td> 1</td><td>-1</td><td>12</td></tr>\n",
       "\t<tr><td>-1</td><td>-1</td><td> 1</td><td> 8</td></tr>\n",
       "\t<tr><td> 1</td><td>-1</td><td> 1</td><td>13</td></tr>\n",
       "\t<tr><td>...</td><td>...</td><td>...</td><td>...</td></tr>\n",
       "\t<tr><td>-1</td><td> 1</td><td>-1</td><td>11</td></tr>\n",
       "\t<tr><td> 1</td><td> 1</td><td>-1</td><td>13</td></tr>\n",
       "\t<tr><td>-1</td><td>-1</td><td> 1</td><td> 6</td></tr>\n",
       "\t<tr><td> 1</td><td>-1</td><td> 1</td><td> 9</td></tr>\n",
       "\t<tr><td>-1</td><td> 1</td><td> 1</td><td> 7</td></tr>\n",
       "\t<tr><td> 1</td><td> 1</td><td> 1</td><td>12</td></tr>\n",
       "\t<tr><td>-1</td><td>-1</td><td>-1</td><td>10</td></tr>\n",
       "\t<tr><td> 1</td><td>-1</td><td>-1</td><td> 9</td></tr>\n",
       "\t<tr><td>-1</td><td> 1</td><td>-1</td><td>11</td></tr>\n",
       "\t<tr><td> 1</td><td> 1</td><td>-1</td><td>13</td></tr>\n",
       "\t<tr><td>-1</td><td>-1</td><td> 1</td><td> 6</td></tr>\n",
       "\t<tr><td> 1</td><td>-1</td><td> 1</td><td> 9</td></tr>\n",
       "\t<tr><td>-1</td><td> 1</td><td> 1</td><td> 7</td></tr>\n",
       "\t<tr><td> 1</td><td> 1</td><td> 1</td><td>12</td></tr>\n",
       "\t<tr><td>-1</td><td>-1</td><td>-1</td><td> 8</td></tr>\n",
       "\t<tr><td> 1</td><td>-1</td><td>-1</td><td> 6</td></tr>\n",
       "\t<tr><td>-1</td><td> 1</td><td>-1</td><td>11</td></tr>\n",
       "\t<tr><td> 1</td><td> 1</td><td>-1</td><td>11</td></tr>\n",
       "\t<tr><td>-1</td><td>-1</td><td> 1</td><td> 9</td></tr>\n",
       "\t<tr><td> 1</td><td>-1</td><td> 1</td><td>14</td></tr>\n",
       "\t<tr><td>-1</td><td> 1</td><td> 1</td><td>17</td></tr>\n",
       "\t<tr><td> 1</td><td> 1</td><td> 1</td><td> 9</td></tr>\n",
       "\t<tr><td>-1</td><td>-1</td><td>-1</td><td> 9</td></tr>\n",
       "\t<tr><td> 1</td><td>-1</td><td>-1</td><td>15</td></tr>\n",
       "\t<tr><td>-1</td><td> 1</td><td>-1</td><td>12</td></tr>\n",
       "\t<tr><td> 1</td><td> 1</td><td>-1</td><td>11</td></tr>\n",
       "\t<tr><td>-1</td><td>-1</td><td> 1</td><td>14</td></tr>\n",
       "\t<tr><td> 1</td><td>-1</td><td> 1</td><td> 9</td></tr>\n",
       "\t<tr><td>-1</td><td> 1</td><td> 1</td><td>13</td></tr>\n",
       "\t<tr><td> 1</td><td> 1</td><td> 1</td><td>14</td></tr>\n",
       "</tbody>\n",
       "</table>\n"
      ],
      "text/latex": [
       "\\begin{tabular}{r|llll}\n",
       " A & B & C & y\\\\\n",
       "\\hline\n",
       "\t -1 & -1 & -1 & 11\\\\\n",
       "\t  1 & -1 & -1 & 15\\\\\n",
       "\t -1 &  1 & -1 &  9\\\\\n",
       "\t  1 &  1 & -1 & 16\\\\\n",
       "\t -1 & -1 &  1 & 10\\\\\n",
       "\t  1 & -1 &  1 & 12\\\\\n",
       "\t -1 &  1 &  1 & 10\\\\\n",
       "\t  1 &  1 &  1 & 15\\\\\n",
       "\t -1 & -1 & -1 &  9\\\\\n",
       "\t  1 & -1 & -1 & 10\\\\\n",
       "\t -1 &  1 & -1 & 12\\\\\n",
       "\t  1 &  1 & -1 & 17\\\\\n",
       "\t -1 & -1 &  1 & 11\\\\\n",
       "\t  1 & -1 &  1 & 13\\\\\n",
       "\t -1 &  1 &  1 & 12\\\\\n",
       "\t  1 &  1 &  1 & 12\\\\\n",
       "\t -1 & -1 & -1 & 10\\\\\n",
       "\t  1 & -1 & -1 & 16\\\\\n",
       "\t -1 &  1 & -1 & 11\\\\\n",
       "\t  1 &  1 & -1 & 15\\\\\n",
       "\t -1 & -1 &  1 & 15\\\\\n",
       "\t  1 & -1 &  1 & 14\\\\\n",
       "\t -1 &  1 &  1 & 13\\\\\n",
       "\t  1 &  1 &  1 & 15\\\\\n",
       "\t -1 & -1 & -1 & 10\\\\\n",
       "\t  1 & -1 & -1 & 14\\\\\n",
       "\t -1 &  1 & -1 & 11\\\\\n",
       "\t  1 &  1 & -1 & 12\\\\\n",
       "\t -1 & -1 &  1 &  8\\\\\n",
       "\t  1 & -1 &  1 & 13\\\\\n",
       "\t ... & ... & ... & ...\\\\\n",
       "\t -1 &  1 & -1 & 11\\\\\n",
       "\t  1 &  1 & -1 & 13\\\\\n",
       "\t -1 & -1 &  1 &  6\\\\\n",
       "\t  1 & -1 &  1 &  9\\\\\n",
       "\t -1 &  1 &  1 &  7\\\\\n",
       "\t  1 &  1 &  1 & 12\\\\\n",
       "\t -1 & -1 & -1 & 10\\\\\n",
       "\t  1 & -1 & -1 &  9\\\\\n",
       "\t -1 &  1 & -1 & 11\\\\\n",
       "\t  1 &  1 & -1 & 13\\\\\n",
       "\t -1 & -1 &  1 &  6\\\\\n",
       "\t  1 & -1 &  1 &  9\\\\\n",
       "\t -1 &  1 &  1 &  7\\\\\n",
       "\t  1 &  1 &  1 & 12\\\\\n",
       "\t -1 & -1 & -1 &  8\\\\\n",
       "\t  1 & -1 & -1 &  6\\\\\n",
       "\t -1 &  1 & -1 & 11\\\\\n",
       "\t  1 &  1 & -1 & 11\\\\\n",
       "\t -1 & -1 &  1 &  9\\\\\n",
       "\t  1 & -1 &  1 & 14\\\\\n",
       "\t -1 &  1 &  1 & 17\\\\\n",
       "\t  1 &  1 &  1 &  9\\\\\n",
       "\t -1 & -1 & -1 &  9\\\\\n",
       "\t  1 & -1 & -1 & 15\\\\\n",
       "\t -1 &  1 & -1 & 12\\\\\n",
       "\t  1 &  1 & -1 & 11\\\\\n",
       "\t -1 & -1 &  1 & 14\\\\\n",
       "\t  1 & -1 &  1 &  9\\\\\n",
       "\t -1 &  1 &  1 & 13\\\\\n",
       "\t  1 &  1 &  1 & 14\\\\\n",
       "\\end{tabular}\n"
      ],
      "text/markdown": [
       "\n",
       "| A | B | C | y |\n",
       "|---|---|---|---|\n",
       "| -1 | -1 | -1 | 11 |\n",
       "|  1 | -1 | -1 | 15 |\n",
       "| -1 |  1 | -1 |  9 |\n",
       "|  1 |  1 | -1 | 16 |\n",
       "| -1 | -1 |  1 | 10 |\n",
       "|  1 | -1 |  1 | 12 |\n",
       "| -1 |  1 |  1 | 10 |\n",
       "|  1 |  1 |  1 | 15 |\n",
       "| -1 | -1 | -1 |  9 |\n",
       "|  1 | -1 | -1 | 10 |\n",
       "| -1 |  1 | -1 | 12 |\n",
       "|  1 |  1 | -1 | 17 |\n",
       "| -1 | -1 |  1 | 11 |\n",
       "|  1 | -1 |  1 | 13 |\n",
       "| -1 |  1 |  1 | 12 |\n",
       "|  1 |  1 |  1 | 12 |\n",
       "| -1 | -1 | -1 | 10 |\n",
       "|  1 | -1 | -1 | 16 |\n",
       "| -1 |  1 | -1 | 11 |\n",
       "|  1 |  1 | -1 | 15 |\n",
       "| -1 | -1 |  1 | 15 |\n",
       "|  1 | -1 |  1 | 14 |\n",
       "| -1 |  1 |  1 | 13 |\n",
       "|  1 |  1 |  1 | 15 |\n",
       "| -1 | -1 | -1 | 10 |\n",
       "|  1 | -1 | -1 | 14 |\n",
       "| -1 |  1 | -1 | 11 |\n",
       "|  1 |  1 | -1 | 12 |\n",
       "| -1 | -1 |  1 |  8 |\n",
       "|  1 | -1 |  1 | 13 |\n",
       "| ... | ... | ... | ... |\n",
       "| -1 |  1 | -1 | 11 |\n",
       "|  1 |  1 | -1 | 13 |\n",
       "| -1 | -1 |  1 |  6 |\n",
       "|  1 | -1 |  1 |  9 |\n",
       "| -1 |  1 |  1 |  7 |\n",
       "|  1 |  1 |  1 | 12 |\n",
       "| -1 | -1 | -1 | 10 |\n",
       "|  1 | -1 | -1 |  9 |\n",
       "| -1 |  1 | -1 | 11 |\n",
       "|  1 |  1 | -1 | 13 |\n",
       "| -1 | -1 |  1 |  6 |\n",
       "|  1 | -1 |  1 |  9 |\n",
       "| -1 |  1 |  1 |  7 |\n",
       "|  1 |  1 |  1 | 12 |\n",
       "| -1 | -1 | -1 |  8 |\n",
       "|  1 | -1 | -1 |  6 |\n",
       "| -1 |  1 | -1 | 11 |\n",
       "|  1 |  1 | -1 | 11 |\n",
       "| -1 | -1 |  1 |  9 |\n",
       "|  1 | -1 |  1 | 14 |\n",
       "| -1 |  1 |  1 | 17 |\n",
       "|  1 |  1 |  1 |  9 |\n",
       "| -1 | -1 | -1 |  9 |\n",
       "|  1 | -1 | -1 | 15 |\n",
       "| -1 |  1 | -1 | 12 |\n",
       "|  1 |  1 | -1 | 11 |\n",
       "| -1 | -1 |  1 | 14 |\n",
       "|  1 | -1 |  1 |  9 |\n",
       "| -1 |  1 |  1 | 13 |\n",
       "|  1 |  1 |  1 | 14 |\n",
       "\n"
      ],
      "text/plain": [
       "    A   B   C   y  \n",
       "1   -1  -1  -1  11 \n",
       "2    1  -1  -1  15 \n",
       "3   -1   1  -1   9 \n",
       "4    1   1  -1  16 \n",
       "5   -1  -1   1  10 \n",
       "6    1  -1   1  12 \n",
       "7   -1   1   1  10 \n",
       "8    1   1   1  15 \n",
       "9   -1  -1  -1   9 \n",
       "10   1  -1  -1  10 \n",
       "11  -1   1  -1  12 \n",
       "12   1   1  -1  17 \n",
       "13  -1  -1   1  11 \n",
       "14   1  -1   1  13 \n",
       "15  -1   1   1  12 \n",
       "16   1   1   1  12 \n",
       "17  -1  -1  -1  10 \n",
       "18   1  -1  -1  16 \n",
       "19  -1   1  -1  11 \n",
       "20   1   1  -1  15 \n",
       "21  -1  -1   1  15 \n",
       "22   1  -1   1  14 \n",
       "23  -1   1   1  13 \n",
       "24   1   1   1  15 \n",
       "25  -1  -1  -1  10 \n",
       "26   1  -1  -1  14 \n",
       "27  -1   1  -1  11 \n",
       "28   1   1  -1  12 \n",
       "29  -1  -1   1   8 \n",
       "30   1  -1   1  13 \n",
       "... ... ... ... ...\n",
       "35  -1   1  -1  11 \n",
       "36   1   1  -1  13 \n",
       "37  -1  -1   1   6 \n",
       "38   1  -1   1   9 \n",
       "39  -1   1   1   7 \n",
       "40   1   1   1  12 \n",
       "41  -1  -1  -1  10 \n",
       "42   1  -1  -1   9 \n",
       "43  -1   1  -1  11 \n",
       "44   1   1  -1  13 \n",
       "45  -1  -1   1   6 \n",
       "46   1  -1   1   9 \n",
       "47  -1   1   1   7 \n",
       "48   1   1   1  12 \n",
       "49  -1  -1  -1   8 \n",
       "50   1  -1  -1   6 \n",
       "51  -1   1  -1  11 \n",
       "52   1   1  -1  11 \n",
       "53  -1  -1   1   9 \n",
       "54   1  -1   1  14 \n",
       "55  -1   1   1  17 \n",
       "56   1   1   1   9 \n",
       "57  -1  -1  -1   9 \n",
       "58   1  -1  -1  15 \n",
       "59  -1   1  -1  12 \n",
       "60   1   1  -1  11 \n",
       "61  -1  -1   1  14 \n",
       "62   1  -1   1   9 \n",
       "63  -1   1   1  13 \n",
       "64   1   1   1  14 "
      ]
     },
     "metadata": {},
     "output_type": "display_data"
    }
   ],
   "source": [
    "a <- c(-1,1,-1,1,-1,1,-1,1)\n",
    "b <- c(-1,-1,1,1,-1,-1,1,1)\n",
    "c <- c(-1,-1,-1,-1,1,1,1,1)\n",
    "p1 <- c(11,15,9,16,10,12,10,15)\n",
    "p2 <- c(9,10,12,17,11,13,12,12)\n",
    "p3 <- c(10,16,11,15,15,14,13,15)\n",
    "p4 <- c(10,14,11,12,8,13,10,13)\n",
    "p5 <- c(11,12,11,13,6,9,7,12)\n",
    "p6 <- c(10,9,11,13,6,9,7,12)\n",
    "p7 <- c(8,6,11,11,9,14,17,9)\n",
    "p8 <- c(9,15,12,11,14,9,13,14)\n",
    "obs <- c(p1,p2,p3,p4,p5,p6,p7,p8)\n",
    "A <- rep(a,time=8)\n",
    "B <- rep(b,time=8)\n",
    "C <- rep(c,time=8)\n",
    "data <- data.frame(\n",
    "    A=A,\n",
    "    B=B,\n",
    "    C=C,\n",
    "    y=obs\n",
    ")\n",
    "data"
   ]
  },
  {
   "cell_type": "code",
   "execution_count": 112,
   "id": "be17420f",
   "metadata": {},
   "outputs": [],
   "source": [
    "model <- lm(y~A*B*C,data)"
   ]
  },
  {
   "cell_type": "code",
   "execution_count": 113,
   "id": "0e97ae56",
   "metadata": {},
   "outputs": [
    {
     "data": {
      "text/plain": [
       "            Df Sum Sq Mean Sq F value  Pr(>F)   \n",
       "A            1   68.1   68.06  10.662 0.00187 **\n",
       "B            1   25.0   25.00   3.916 0.05275 . \n",
       "C            1    1.0    1.00   0.157 0.69377   \n",
       "A:B          1    0.0    0.00   0.000 1.00000   \n",
       "A:C          1    2.2    2.25   0.352 0.55512   \n",
       "B:C          1    0.1    0.06   0.010 0.92153   \n",
       "A:B:C        1    0.1    0.06   0.010 0.92153   \n",
       "Residuals   56  357.5    6.38                   \n",
       "---\n",
       "Signif. codes:  0 '***' 0.001 '**' 0.01 '*' 0.05 '.' 0.1 ' ' 1"
      ]
     },
     "metadata": {},
     "output_type": "display_data"
    }
   ],
   "source": [
    "summary(aov(model))"
   ]
  },
  {
   "cell_type": "markdown",
   "id": "342b1665",
   "metadata": {},
   "source": [
    "在顯著水準為0.05的情況下，除了factor A外，其他項皆不顯著。平底鍋材質對於布朗尼的評分有顯著的影響。"
   ]
  },
  {
   "cell_type": "markdown",
   "id": "aabe4b36",
   "metadata": {},
   "source": [
    "b. Is the analysis in part (a) the correct approach? There are only eight batches; do we really have eight replicates of a $2^3$ factorial design?"
   ]
  },
  {
   "cell_type": "markdown",
   "id": "0a8246a1",
   "metadata": {},
   "source": [
    "這個試驗將第i批布朗尼交給8人評分，並重複八次，在假設每個人是獨立的情況下，這題其實並沒有真正的進行重複測量。"
   ]
  },
  {
   "cell_type": "markdown",
   "id": "b05c9d6a",
   "metadata": {},
   "source": [
    "---"
   ]
  },
  {
   "cell_type": "markdown",
   "id": "8bc6632a",
   "metadata": {},
   "source": [
    "### Problem 3"
   ]
  },
  {
   "cell_type": "markdown",
   "id": "46718dad",
   "metadata": {},
   "source": [
    "#### a. Estimate the factor effects by running an analysis of variance."
   ]
  },
  {
   "cell_type": "code",
   "execution_count": 130,
   "id": "4e3dcfe9",
   "metadata": {},
   "outputs": [
    {
     "data": {
      "text/html": [
       "<table>\n",
       "<thead><tr><th scope=col>label</th><th scope=col>A</th><th scope=col>B</th><th scope=col>C</th><th scope=col>D</th><th scope=col>ABCD</th><th scope=col>y</th></tr></thead>\n",
       "<tbody>\n",
       "\t<tr><td>1   </td><td>-1  </td><td>-1  </td><td>-1  </td><td>-1  </td><td> 1  </td><td>91  </td></tr>\n",
       "\t<tr><td>a   </td><td> 1  </td><td>-1  </td><td>-1  </td><td>-1  </td><td>-1  </td><td>75  </td></tr>\n",
       "\t<tr><td>b   </td><td>-1  </td><td> 1  </td><td>-1  </td><td>-1  </td><td>-1  </td><td>80  </td></tr>\n",
       "\t<tr><td>ab  </td><td> 1  </td><td> 1  </td><td>-1  </td><td>-1  </td><td> 1  </td><td>84  </td></tr>\n",
       "\t<tr><td>c   </td><td>-1  </td><td>-1  </td><td> 1  </td><td>-1  </td><td>-1  </td><td>76  </td></tr>\n",
       "\t<tr><td>ac  </td><td> 1  </td><td>-1  </td><td> 1  </td><td>-1  </td><td> 1  </td><td>81  </td></tr>\n",
       "\t<tr><td>bc  </td><td>-1  </td><td> 1  </td><td> 1  </td><td>-1  </td><td> 1  </td><td>89  </td></tr>\n",
       "\t<tr><td>abc </td><td> 1  </td><td> 1  </td><td> 1  </td><td>-1  </td><td>-1  </td><td>74  </td></tr>\n",
       "\t<tr><td>d   </td><td>-1  </td><td>-1  </td><td>-1  </td><td> 1  </td><td>-1  </td><td>99  </td></tr>\n",
       "\t<tr><td>ad  </td><td> 1  </td><td>-1  </td><td>-1  </td><td> 1  </td><td> 1  </td><td>73  </td></tr>\n",
       "\t<tr><td>bd  </td><td>-1  </td><td> 1  </td><td>-1  </td><td> 1  </td><td> 1  </td><td>86  </td></tr>\n",
       "\t<tr><td>abd </td><td> 1  </td><td> 1  </td><td>-1  </td><td> 1  </td><td>-1  </td><td>84  </td></tr>\n",
       "\t<tr><td>cd  </td><td>-1  </td><td>-1  </td><td> 1  </td><td> 1  </td><td> 1  </td><td>98  </td></tr>\n",
       "\t<tr><td>acd </td><td> 1  </td><td>-1  </td><td> 1  </td><td> 1  </td><td>-1  </td><td>80  </td></tr>\n",
       "\t<tr><td>bcd </td><td>-1  </td><td> 1  </td><td> 1  </td><td> 1  </td><td>-1  </td><td>86  </td></tr>\n",
       "\t<tr><td>abcd</td><td> 1  </td><td> 1  </td><td> 1  </td><td> 1  </td><td> 1  </td><td>81  </td></tr>\n",
       "</tbody>\n",
       "</table>\n"
      ],
      "text/latex": [
       "\\begin{tabular}{r|lllllll}\n",
       " label & A & B & C & D & ABCD & y\\\\\n",
       "\\hline\n",
       "\t 1    & -1   & -1   & -1   & -1   &  1   & 91  \\\\\n",
       "\t a    &  1   & -1   & -1   & -1   & -1   & 75  \\\\\n",
       "\t b    & -1   &  1   & -1   & -1   & -1   & 80  \\\\\n",
       "\t ab   &  1   &  1   & -1   & -1   &  1   & 84  \\\\\n",
       "\t c    & -1   & -1   &  1   & -1   & -1   & 76  \\\\\n",
       "\t ac   &  1   & -1   &  1   & -1   &  1   & 81  \\\\\n",
       "\t bc   & -1   &  1   &  1   & -1   &  1   & 89  \\\\\n",
       "\t abc  &  1   &  1   &  1   & -1   & -1   & 74  \\\\\n",
       "\t d    & -1   & -1   & -1   &  1   & -1   & 99  \\\\\n",
       "\t ad   &  1   & -1   & -1   &  1   &  1   & 73  \\\\\n",
       "\t bd   & -1   &  1   & -1   &  1   &  1   & 86  \\\\\n",
       "\t abd  &  1   &  1   & -1   &  1   & -1   & 84  \\\\\n",
       "\t cd   & -1   & -1   &  1   &  1   &  1   & 98  \\\\\n",
       "\t acd  &  1   & -1   &  1   &  1   & -1   & 80  \\\\\n",
       "\t bcd  & -1   &  1   &  1   &  1   & -1   & 86  \\\\\n",
       "\t abcd &  1   &  1   &  1   &  1   &  1   & 81  \\\\\n",
       "\\end{tabular}\n"
      ],
      "text/markdown": [
       "\n",
       "| label | A | B | C | D | ABCD | y |\n",
       "|---|---|---|---|---|---|---|\n",
       "| 1    | -1   | -1   | -1   | -1   |  1   | 91   |\n",
       "| a    |  1   | -1   | -1   | -1   | -1   | 75   |\n",
       "| b    | -1   |  1   | -1   | -1   | -1   | 80   |\n",
       "| ab   |  1   |  1   | -1   | -1   |  1   | 84   |\n",
       "| c    | -1   | -1   |  1   | -1   | -1   | 76   |\n",
       "| ac   |  1   | -1   |  1   | -1   |  1   | 81   |\n",
       "| bc   | -1   |  1   |  1   | -1   |  1   | 89   |\n",
       "| abc  |  1   |  1   |  1   | -1   | -1   | 74   |\n",
       "| d    | -1   | -1   | -1   |  1   | -1   | 99   |\n",
       "| ad   |  1   | -1   | -1   |  1   |  1   | 73   |\n",
       "| bd   | -1   |  1   | -1   |  1   |  1   | 86   |\n",
       "| abd  |  1   |  1   | -1   |  1   | -1   | 84   |\n",
       "| cd   | -1   | -1   |  1   |  1   |  1   | 98   |\n",
       "| acd  |  1   | -1   |  1   |  1   | -1   | 80   |\n",
       "| bcd  | -1   |  1   |  1   |  1   | -1   | 86   |\n",
       "| abcd |  1   |  1   |  1   |  1   |  1   | 81   |\n",
       "\n"
      ],
      "text/plain": [
       "   label A  B  C  D  ABCD y \n",
       "1  1     -1 -1 -1 -1  1   91\n",
       "2  a      1 -1 -1 -1 -1   75\n",
       "3  b     -1  1 -1 -1 -1   80\n",
       "4  ab     1  1 -1 -1  1   84\n",
       "5  c     -1 -1  1 -1 -1   76\n",
       "6  ac     1 -1  1 -1  1   81\n",
       "7  bc    -1  1  1 -1  1   89\n",
       "8  abc    1  1  1 -1 -1   74\n",
       "9  d     -1 -1 -1  1 -1   99\n",
       "10 ad     1 -1 -1  1  1   73\n",
       "11 bd    -1  1 -1  1  1   86\n",
       "12 abd    1  1 -1  1 -1   84\n",
       "13 cd    -1 -1  1  1  1   98\n",
       "14 acd    1 -1  1  1 -1   80\n",
       "15 bcd   -1  1  1  1 -1   86\n",
       "16 abcd   1  1  1  1  1   81"
      ]
     },
     "metadata": {},
     "output_type": "display_data"
    }
   ],
   "source": [
    "label <- c(\"1\",\"a\",\"b\",\"ab\",\"c\",\"ac\",\"bc\",\"abc\",\"d\",\"ad\",\"bd\",\"abd\",\"cd\",\"acd\",\"bcd\",\"abcd\")\n",
    "obs <- c(91,75,80,84,76,81,89,74,99,73,86,84,98,80,86,81)\n",
    "a <- c(-1,1,-1,1,-1,1,-1,1,-1,1,-1,1,-1,1,-1,1)\n",
    "b <- c(-1,-1,1,1,-1,-1,1,1,-1,-1,1,1,-1,-1,1,1)\n",
    "c <- c(-1,-1,-1,-1,1,1,1,1,-1,-1,-1,-1,1,1,1,1)\n",
    "d <- c(-1,-1,-1,-1,-1,-1,-1,-1,1,1,1,1,1,1,1,1)\n",
    "data <- data.frame(\n",
    "    label=label,\n",
    "    A=a,B=b,C=c,D=d,\n",
    "    ABCD=a*b*c*d,\n",
    "    y=obs\n",
    ")\n",
    "data"
   ]
  },
  {
   "cell_type": "markdown",
   "id": "809aebdd",
   "metadata": {},
   "source": [
    "total_ss"
   ]
  },
  {
   "cell_type": "code",
   "execution_count": 129,
   "id": "557e673b",
   "metadata": {},
   "outputs": [
    {
     "data": {
      "text/html": [
       "<table>\n",
       "<tbody>\n",
       "\t<tr><td>915.9375</td></tr>\n",
       "</tbody>\n",
       "</table>\n"
      ],
      "text/latex": [
       "\\begin{tabular}{l}\n",
       "\t 915.9375\\\\\n",
       "\\end{tabular}\n"
      ],
      "text/markdown": [
       "\n",
       "| 915.9375 |\n",
       "\n"
      ],
      "text/plain": [
       "     [,1]    \n",
       "[1,] 915.9375"
      ]
     },
     "metadata": {},
     "output_type": "display_data"
    }
   ],
   "source": [
    "obs%*%obs-(sum(obs))^2/16"
   ]
  },
  {
   "cell_type": "code",
   "execution_count": 124,
   "id": "21bc61c8",
   "metadata": {},
   "outputs": [
    {
     "data": {
      "text/plain": [
       "            Df Sum Sq Mean Sq\n",
       "A            1  333.1   333.1\n",
       "B            1    5.1     5.1\n",
       "C            1    3.1     3.1\n",
       "D            1   85.6    85.6\n",
       "A:B          1   85.6    85.6\n",
       "A:C          1    3.1     3.1\n",
       "B:C          1    0.1     0.1\n",
       "A:D          1   52.6    52.6\n",
       "B:D          1   18.1    18.1\n",
       "C:D          1   10.6    10.6\n",
       "A:B:C        1  162.6   162.6\n",
       "A:B:D        1   85.6    85.6\n",
       "A:C:D        1    0.6     0.6\n",
       "B:C:D        1   18.1    18.1\n",
       "A:B:C:D      1   52.6    52.6"
      ]
     },
     "metadata": {},
     "output_type": "display_data"
    }
   ],
   "source": [
    "mod <- aov(y~A*B*C*D,data)\n",
    "summary(mod)"
   ]
  },
  {
   "cell_type": "markdown",
   "id": "86b7da53",
   "metadata": {},
   "source": [
    "以上為不同factor的SS"
   ]
  },
  {
   "cell_type": "markdown",
   "id": "052d67e2",
   "metadata": {},
   "source": [
    "#### b. Suppose it is only possible to run a one-half fraction of the 24 design. Construct the design and perform the statistical analysis."
   ]
  },
  {
   "cell_type": "markdown",
   "id": "1a5635ce",
   "metadata": {},
   "source": [
    "取abcd為-時的處理：a,b,c,abc,d,abd,acd,bcd"
   ]
  },
  {
   "cell_type": "code",
   "execution_count": 132,
   "id": "57e4557c",
   "metadata": {},
   "outputs": [
    {
     "data": {
      "text/plain": [
       "            Df Sum Sq Mean Sq F value Pr(>F)  \n",
       "A            1  333.1   333.1  10.481 0.0143 *\n",
       "B            1    5.1     5.1   0.159 0.7017  \n",
       "C            1    3.1     3.1   0.096 0.7653  \n",
       "D            1   85.6    85.6   2.693 0.1448  \n",
       "A:B:C        1  162.6   162.6   5.116 0.0582 .\n",
       "A:B:D        1   85.6    85.6   2.693 0.1448  \n",
       "A:C:D        1    0.6     0.6   0.018 0.8979  \n",
       "B:C:D        1   18.1    18.1   0.568 0.4755  \n",
       "Residuals    7  222.4    31.8                 \n",
       "---\n",
       "Signif. codes:  0 '***' 0.001 '**' 0.01 '*' 0.05 '.' 0.1 ' ' 1"
      ]
     },
     "metadata": {},
     "output_type": "display_data"
    }
   ],
   "source": [
    "mod <- aov(y~A+B+C+D+A:B:C+A:B:D+A:C:D+B:C:D,data)\n",
    "summary(mod)"
   ]
  },
  {
   "cell_type": "markdown",
   "id": "3086f35e",
   "metadata": {},
   "source": [
    "在顯著水準為0.05的情況下，factor a對產量有顯著的影響，其aliases:BCD的sum of square遠小於A，故我判斷是A的組效應較為顯著。"
   ]
  }
 ],
 "metadata": {
  "kernelspec": {
   "display_name": "R",
   "language": "R",
   "name": "ir"
  },
  "language_info": {
   "codemirror_mode": "r",
   "file_extension": ".r",
   "mimetype": "text/x-r-source",
   "name": "R",
   "pygments_lexer": "r",
   "version": "3.6.1"
  }
 },
 "nbformat": 4,
 "nbformat_minor": 5
}
