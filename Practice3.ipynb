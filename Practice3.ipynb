{
 "cells": [
  {
   "cell_type": "markdown",
   "id": "db246afa",
   "metadata": {},
   "source": [
    "### Problem1"
   ]
  },
  {
   "cell_type": "code",
   "execution_count": 1,
   "id": "b86499a5",
   "metadata": {},
   "outputs": [
    {
     "name": "stderr",
     "output_type": "stream",
     "text": [
      "Loading required package: carData\n",
      "Warning message:\n",
      "\"package 'carData' was built under R version 3.6.3\""
     ]
    }
   ],
   "source": [
    "library(car)"
   ]
  },
  {
   "cell_type": "code",
   "execution_count": 2,
   "id": "e711e6ba",
   "metadata": {},
   "outputs": [],
   "source": [
    "y <- c(\n",
    "3.5,2.9,3.8,3.2,\n",
    "3.1,3.8,3.5,NA,\n",
    "4.6,3.2,5.0,4.6,\n",
    "\n",
    "1.8,2.2,2.5,3.7,\n",
    "2.4,2.8,3.1,2.5,\n",
    "3.6,2.7,2.4,1.9,\n",
    "\n",
    "5.5,NA,3.9,4.1,\n",
    "6.2,6.8,7.2,5.1,\n",
    "NA,6.5,7.4,3.9)\n",
    "S <- rep(rep(c(1,2,3),each=4),3)\n",
    "I <- rep(c(1,2,3,4),9)\n",
    "V <- rep(c(1,2,3),each=12)\n",
    "redesign <-  rep(c(1,2,3,4,5,6,7,8,9),each=4)"
   ]
  },
  {
   "cell_type": "code",
   "execution_count": 3,
   "id": "814ad688",
   "metadata": {},
   "outputs": [
    {
     "data": {
      "text/html": [
       "<table>\n",
       "<thead><tr><th scope=col>V</th><th scope=col>S</th><th scope=col>I</th><th scope=col>Y</th></tr></thead>\n",
       "<tbody>\n",
       "\t<tr><td>1  </td><td>1  </td><td>1  </td><td>3.5</td></tr>\n",
       "\t<tr><td>1  </td><td>1  </td><td>2  </td><td>2.9</td></tr>\n",
       "\t<tr><td>1  </td><td>1  </td><td>3  </td><td>3.8</td></tr>\n",
       "\t<tr><td>1  </td><td>1  </td><td>4  </td><td>3.2</td></tr>\n",
       "\t<tr><td>1  </td><td>2  </td><td>1  </td><td>3.1</td></tr>\n",
       "\t<tr><td>1  </td><td>2  </td><td>2  </td><td>3.8</td></tr>\n",
       "\t<tr><td>1  </td><td>2  </td><td>3  </td><td>3.5</td></tr>\n",
       "\t<tr><td>1  </td><td>2  </td><td>4  </td><td> NA</td></tr>\n",
       "\t<tr><td>1  </td><td>3  </td><td>1  </td><td>4.6</td></tr>\n",
       "\t<tr><td>1  </td><td>3  </td><td>2  </td><td>3.2</td></tr>\n",
       "\t<tr><td>1  </td><td>3  </td><td>3  </td><td>5.0</td></tr>\n",
       "\t<tr><td>1  </td><td>3  </td><td>4  </td><td>4.6</td></tr>\n",
       "\t<tr><td>2  </td><td>1  </td><td>1  </td><td>1.8</td></tr>\n",
       "\t<tr><td>2  </td><td>1  </td><td>2  </td><td>2.2</td></tr>\n",
       "\t<tr><td>2  </td><td>1  </td><td>3  </td><td>2.5</td></tr>\n",
       "\t<tr><td>2  </td><td>1  </td><td>4  </td><td>3.7</td></tr>\n",
       "\t<tr><td>2  </td><td>2  </td><td>1  </td><td>2.4</td></tr>\n",
       "\t<tr><td>2  </td><td>2  </td><td>2  </td><td>2.8</td></tr>\n",
       "\t<tr><td>2  </td><td>2  </td><td>3  </td><td>3.1</td></tr>\n",
       "\t<tr><td>2  </td><td>2  </td><td>4  </td><td>2.5</td></tr>\n",
       "\t<tr><td>2  </td><td>3  </td><td>1  </td><td>3.6</td></tr>\n",
       "\t<tr><td>2  </td><td>3  </td><td>2  </td><td>2.7</td></tr>\n",
       "\t<tr><td>2  </td><td>3  </td><td>3  </td><td>2.4</td></tr>\n",
       "\t<tr><td>2  </td><td>3  </td><td>4  </td><td>1.9</td></tr>\n",
       "\t<tr><td>3  </td><td>1  </td><td>1  </td><td>5.5</td></tr>\n",
       "\t<tr><td>3  </td><td>1  </td><td>2  </td><td> NA</td></tr>\n",
       "\t<tr><td>3  </td><td>1  </td><td>3  </td><td>3.9</td></tr>\n",
       "\t<tr><td>3  </td><td>1  </td><td>4  </td><td>4.1</td></tr>\n",
       "\t<tr><td>3  </td><td>2  </td><td>1  </td><td>6.2</td></tr>\n",
       "\t<tr><td>3  </td><td>2  </td><td>2  </td><td>6.8</td></tr>\n",
       "\t<tr><td>3  </td><td>2  </td><td>3  </td><td>7.2</td></tr>\n",
       "\t<tr><td>3  </td><td>2  </td><td>4  </td><td>5.1</td></tr>\n",
       "\t<tr><td>3  </td><td>3  </td><td>1  </td><td> NA</td></tr>\n",
       "\t<tr><td>3  </td><td>3  </td><td>2  </td><td>6.5</td></tr>\n",
       "\t<tr><td>3  </td><td>3  </td><td>3  </td><td>7.4</td></tr>\n",
       "\t<tr><td>3  </td><td>3  </td><td>4  </td><td>3.9</td></tr>\n",
       "</tbody>\n",
       "</table>\n"
      ],
      "text/latex": [
       "\\begin{tabular}{r|llll}\n",
       " V & S & I & Y\\\\\n",
       "\\hline\n",
       "\t 1   & 1   & 1   & 3.5\\\\\n",
       "\t 1   & 1   & 2   & 2.9\\\\\n",
       "\t 1   & 1   & 3   & 3.8\\\\\n",
       "\t 1   & 1   & 4   & 3.2\\\\\n",
       "\t 1   & 2   & 1   & 3.1\\\\\n",
       "\t 1   & 2   & 2   & 3.8\\\\\n",
       "\t 1   & 2   & 3   & 3.5\\\\\n",
       "\t 1   & 2   & 4   &  NA\\\\\n",
       "\t 1   & 3   & 1   & 4.6\\\\\n",
       "\t 1   & 3   & 2   & 3.2\\\\\n",
       "\t 1   & 3   & 3   & 5.0\\\\\n",
       "\t 1   & 3   & 4   & 4.6\\\\\n",
       "\t 2   & 1   & 1   & 1.8\\\\\n",
       "\t 2   & 1   & 2   & 2.2\\\\\n",
       "\t 2   & 1   & 3   & 2.5\\\\\n",
       "\t 2   & 1   & 4   & 3.7\\\\\n",
       "\t 2   & 2   & 1   & 2.4\\\\\n",
       "\t 2   & 2   & 2   & 2.8\\\\\n",
       "\t 2   & 2   & 3   & 3.1\\\\\n",
       "\t 2   & 2   & 4   & 2.5\\\\\n",
       "\t 2   & 3   & 1   & 3.6\\\\\n",
       "\t 2   & 3   & 2   & 2.7\\\\\n",
       "\t 2   & 3   & 3   & 2.4\\\\\n",
       "\t 2   & 3   & 4   & 1.9\\\\\n",
       "\t 3   & 1   & 1   & 5.5\\\\\n",
       "\t 3   & 1   & 2   &  NA\\\\\n",
       "\t 3   & 1   & 3   & 3.9\\\\\n",
       "\t 3   & 1   & 4   & 4.1\\\\\n",
       "\t 3   & 2   & 1   & 6.2\\\\\n",
       "\t 3   & 2   & 2   & 6.8\\\\\n",
       "\t 3   & 2   & 3   & 7.2\\\\\n",
       "\t 3   & 2   & 4   & 5.1\\\\\n",
       "\t 3   & 3   & 1   &  NA\\\\\n",
       "\t 3   & 3   & 2   & 6.5\\\\\n",
       "\t 3   & 3   & 3   & 7.4\\\\\n",
       "\t 3   & 3   & 4   & 3.9\\\\\n",
       "\\end{tabular}\n"
      ],
      "text/markdown": [
       "\n",
       "| V | S | I | Y |\n",
       "|---|---|---|---|\n",
       "| 1   | 1   | 1   | 3.5 |\n",
       "| 1   | 1   | 2   | 2.9 |\n",
       "| 1   | 1   | 3   | 3.8 |\n",
       "| 1   | 1   | 4   | 3.2 |\n",
       "| 1   | 2   | 1   | 3.1 |\n",
       "| 1   | 2   | 2   | 3.8 |\n",
       "| 1   | 2   | 3   | 3.5 |\n",
       "| 1   | 2   | 4   |  NA |\n",
       "| 1   | 3   | 1   | 4.6 |\n",
       "| 1   | 3   | 2   | 3.2 |\n",
       "| 1   | 3   | 3   | 5.0 |\n",
       "| 1   | 3   | 4   | 4.6 |\n",
       "| 2   | 1   | 1   | 1.8 |\n",
       "| 2   | 1   | 2   | 2.2 |\n",
       "| 2   | 1   | 3   | 2.5 |\n",
       "| 2   | 1   | 4   | 3.7 |\n",
       "| 2   | 2   | 1   | 2.4 |\n",
       "| 2   | 2   | 2   | 2.8 |\n",
       "| 2   | 2   | 3   | 3.1 |\n",
       "| 2   | 2   | 4   | 2.5 |\n",
       "| 2   | 3   | 1   | 3.6 |\n",
       "| 2   | 3   | 2   | 2.7 |\n",
       "| 2   | 3   | 3   | 2.4 |\n",
       "| 2   | 3   | 4   | 1.9 |\n",
       "| 3   | 1   | 1   | 5.5 |\n",
       "| 3   | 1   | 2   |  NA |\n",
       "| 3   | 1   | 3   | 3.9 |\n",
       "| 3   | 1   | 4   | 4.1 |\n",
       "| 3   | 2   | 1   | 6.2 |\n",
       "| 3   | 2   | 2   | 6.8 |\n",
       "| 3   | 2   | 3   | 7.2 |\n",
       "| 3   | 2   | 4   | 5.1 |\n",
       "| 3   | 3   | 1   |  NA |\n",
       "| 3   | 3   | 2   | 6.5 |\n",
       "| 3   | 3   | 3   | 7.4 |\n",
       "| 3   | 3   | 4   | 3.9 |\n",
       "\n"
      ],
      "text/plain": [
       "   V S I Y  \n",
       "1  1 1 1 3.5\n",
       "2  1 1 2 2.9\n",
       "3  1 1 3 3.8\n",
       "4  1 1 4 3.2\n",
       "5  1 2 1 3.1\n",
       "6  1 2 2 3.8\n",
       "7  1 2 3 3.5\n",
       "8  1 2 4  NA\n",
       "9  1 3 1 4.6\n",
       "10 1 3 2 3.2\n",
       "11 1 3 3 5.0\n",
       "12 1 3 4 4.6\n",
       "13 2 1 1 1.8\n",
       "14 2 1 2 2.2\n",
       "15 2 1 3 2.5\n",
       "16 2 1 4 3.7\n",
       "17 2 2 1 2.4\n",
       "18 2 2 2 2.8\n",
       "19 2 2 3 3.1\n",
       "20 2 2 4 2.5\n",
       "21 2 3 1 3.6\n",
       "22 2 3 2 2.7\n",
       "23 2 3 3 2.4\n",
       "24 2 3 4 1.9\n",
       "25 3 1 1 5.5\n",
       "26 3 1 2  NA\n",
       "27 3 1 3 3.9\n",
       "28 3 1 4 4.1\n",
       "29 3 2 1 6.2\n",
       "30 3 2 2 6.8\n",
       "31 3 2 3 7.2\n",
       "32 3 2 4 5.1\n",
       "33 3 3 1  NA\n",
       "34 3 3 2 6.5\n",
       "35 3 3 3 7.4\n",
       "36 3 3 4 3.9"
      ]
     },
     "metadata": {},
     "output_type": "display_data"
    }
   ],
   "source": [
    "data <- data.frame(V=factor(V),S=factor(S),I=factor(I),Y=y)\n",
    "data"
   ]
  },
  {
   "cell_type": "markdown",
   "id": "61f1e87f",
   "metadata": {},
   "source": [
    "因為有空組，故對資料進行校正。    "
   ]
  },
  {
   "cell_type": "markdown",
   "id": "238118bd",
   "metadata": {},
   "source": [
    "| u    |    S1   |    S2    |    S3    |\n",
    "|------|:-------:|:--------:|:--------:|\n",
    "| V(1) | 3.35(4) | 3.46(3)  | 4.35(4)  |\n",
    "| V(2) | 2.55(4) | 2.7(4)   | 2.65(4)  |\n",
    "| V(3) | 4.5(3)  | 6.325(4) | 5.933(3) |"
   ]
  },
  {
   "cell_type": "code",
   "execution_count": 33,
   "id": "7187b26c",
   "metadata": {},
   "outputs": [
    {
     "data": {
      "text/html": [
       "<table>\n",
       "<thead><tr><th scope=col>V</th><th scope=col>S</th><th scope=col>Y</th></tr></thead>\n",
       "<tbody>\n",
       "\t<tr><td>1    </td><td>1    </td><td>3.350</td></tr>\n",
       "\t<tr><td>1    </td><td>1    </td><td>3.350</td></tr>\n",
       "\t<tr><td>1    </td><td>1    </td><td>3.350</td></tr>\n",
       "\t<tr><td>1    </td><td>1    </td><td>3.350</td></tr>\n",
       "\t<tr><td>1    </td><td>2    </td><td>3.460</td></tr>\n",
       "\t<tr><td>1    </td><td>2    </td><td>3.460</td></tr>\n",
       "\t<tr><td>1    </td><td>2    </td><td>3.460</td></tr>\n",
       "\t<tr><td>1    </td><td>3    </td><td>4.350</td></tr>\n",
       "\t<tr><td>1    </td><td>3    </td><td>4.350</td></tr>\n",
       "\t<tr><td>1    </td><td>3    </td><td>4.350</td></tr>\n",
       "\t<tr><td>1    </td><td>3    </td><td>4.350</td></tr>\n",
       "\t<tr><td>2    </td><td>1    </td><td>2.550</td></tr>\n",
       "\t<tr><td>2    </td><td>1    </td><td>2.550</td></tr>\n",
       "\t<tr><td>2    </td><td>1    </td><td>2.550</td></tr>\n",
       "\t<tr><td>2    </td><td>1    </td><td>2.550</td></tr>\n",
       "\t<tr><td>2    </td><td>2    </td><td>2.700</td></tr>\n",
       "\t<tr><td>2    </td><td>2    </td><td>2.700</td></tr>\n",
       "\t<tr><td>2    </td><td>2    </td><td>2.700</td></tr>\n",
       "\t<tr><td>2    </td><td>2    </td><td>2.700</td></tr>\n",
       "\t<tr><td>2    </td><td>3    </td><td>2.650</td></tr>\n",
       "\t<tr><td>2    </td><td>3    </td><td>2.650</td></tr>\n",
       "\t<tr><td>2    </td><td>3    </td><td>2.650</td></tr>\n",
       "\t<tr><td>2    </td><td>3    </td><td>2.650</td></tr>\n",
       "\t<tr><td>3    </td><td>1    </td><td>4.500</td></tr>\n",
       "\t<tr><td>3    </td><td>1    </td><td>4.500</td></tr>\n",
       "\t<tr><td>3    </td><td>1    </td><td>4.500</td></tr>\n",
       "\t<tr><td>3    </td><td>2    </td><td>6.325</td></tr>\n",
       "\t<tr><td>3    </td><td>2    </td><td>6.325</td></tr>\n",
       "\t<tr><td>3    </td><td>2    </td><td>6.325</td></tr>\n",
       "\t<tr><td>3    </td><td>2    </td><td>6.325</td></tr>\n",
       "\t<tr><td>3    </td><td>3    </td><td>5.933</td></tr>\n",
       "\t<tr><td>3    </td><td>3    </td><td>5.933</td></tr>\n",
       "\t<tr><td>3    </td><td>3    </td><td>5.933</td></tr>\n",
       "</tbody>\n",
       "</table>\n"
      ],
      "text/latex": [
       "\\begin{tabular}{r|lll}\n",
       " V & S & Y\\\\\n",
       "\\hline\n",
       "\t 1     & 1     & 3.350\\\\\n",
       "\t 1     & 1     & 3.350\\\\\n",
       "\t 1     & 1     & 3.350\\\\\n",
       "\t 1     & 1     & 3.350\\\\\n",
       "\t 1     & 2     & 3.460\\\\\n",
       "\t 1     & 2     & 3.460\\\\\n",
       "\t 1     & 2     & 3.460\\\\\n",
       "\t 1     & 3     & 4.350\\\\\n",
       "\t 1     & 3     & 4.350\\\\\n",
       "\t 1     & 3     & 4.350\\\\\n",
       "\t 1     & 3     & 4.350\\\\\n",
       "\t 2     & 1     & 2.550\\\\\n",
       "\t 2     & 1     & 2.550\\\\\n",
       "\t 2     & 1     & 2.550\\\\\n",
       "\t 2     & 1     & 2.550\\\\\n",
       "\t 2     & 2     & 2.700\\\\\n",
       "\t 2     & 2     & 2.700\\\\\n",
       "\t 2     & 2     & 2.700\\\\\n",
       "\t 2     & 2     & 2.700\\\\\n",
       "\t 2     & 3     & 2.650\\\\\n",
       "\t 2     & 3     & 2.650\\\\\n",
       "\t 2     & 3     & 2.650\\\\\n",
       "\t 2     & 3     & 2.650\\\\\n",
       "\t 3     & 1     & 4.500\\\\\n",
       "\t 3     & 1     & 4.500\\\\\n",
       "\t 3     & 1     & 4.500\\\\\n",
       "\t 3     & 2     & 6.325\\\\\n",
       "\t 3     & 2     & 6.325\\\\\n",
       "\t 3     & 2     & 6.325\\\\\n",
       "\t 3     & 2     & 6.325\\\\\n",
       "\t 3     & 3     & 5.933\\\\\n",
       "\t 3     & 3     & 5.933\\\\\n",
       "\t 3     & 3     & 5.933\\\\\n",
       "\\end{tabular}\n"
      ],
      "text/markdown": [
       "\n",
       "| V | S | Y |\n",
       "|---|---|---|\n",
       "| 1     | 1     | 3.350 |\n",
       "| 1     | 1     | 3.350 |\n",
       "| 1     | 1     | 3.350 |\n",
       "| 1     | 1     | 3.350 |\n",
       "| 1     | 2     | 3.460 |\n",
       "| 1     | 2     | 3.460 |\n",
       "| 1     | 2     | 3.460 |\n",
       "| 1     | 3     | 4.350 |\n",
       "| 1     | 3     | 4.350 |\n",
       "| 1     | 3     | 4.350 |\n",
       "| 1     | 3     | 4.350 |\n",
       "| 2     | 1     | 2.550 |\n",
       "| 2     | 1     | 2.550 |\n",
       "| 2     | 1     | 2.550 |\n",
       "| 2     | 1     | 2.550 |\n",
       "| 2     | 2     | 2.700 |\n",
       "| 2     | 2     | 2.700 |\n",
       "| 2     | 2     | 2.700 |\n",
       "| 2     | 2     | 2.700 |\n",
       "| 2     | 3     | 2.650 |\n",
       "| 2     | 3     | 2.650 |\n",
       "| 2     | 3     | 2.650 |\n",
       "| 2     | 3     | 2.650 |\n",
       "| 3     | 1     | 4.500 |\n",
       "| 3     | 1     | 4.500 |\n",
       "| 3     | 1     | 4.500 |\n",
       "| 3     | 2     | 6.325 |\n",
       "| 3     | 2     | 6.325 |\n",
       "| 3     | 2     | 6.325 |\n",
       "| 3     | 2     | 6.325 |\n",
       "| 3     | 3     | 5.933 |\n",
       "| 3     | 3     | 5.933 |\n",
       "| 3     | 3     | 5.933 |\n",
       "\n"
      ],
      "text/plain": [
       "   V S Y    \n",
       "1  1 1 3.350\n",
       "2  1 1 3.350\n",
       "3  1 1 3.350\n",
       "4  1 1 3.350\n",
       "5  1 2 3.460\n",
       "6  1 2 3.460\n",
       "7  1 2 3.460\n",
       "8  1 3 4.350\n",
       "9  1 3 4.350\n",
       "10 1 3 4.350\n",
       "11 1 3 4.350\n",
       "12 2 1 2.550\n",
       "13 2 1 2.550\n",
       "14 2 1 2.550\n",
       "15 2 1 2.550\n",
       "16 2 2 2.700\n",
       "17 2 2 2.700\n",
       "18 2 2 2.700\n",
       "19 2 2 2.700\n",
       "20 2 3 2.650\n",
       "21 2 3 2.650\n",
       "22 2 3 2.650\n",
       "23 2 3 2.650\n",
       "24 3 1 4.500\n",
       "25 3 1 4.500\n",
       "26 3 1 4.500\n",
       "27 3 2 6.325\n",
       "28 3 2 6.325\n",
       "29 3 2 6.325\n",
       "30 3 2 6.325\n",
       "31 3 3 5.933\n",
       "32 3 3 5.933\n",
       "33 3 3 5.933"
      ]
     },
     "metadata": {},
     "output_type": "display_data"
    }
   ],
   "source": [
    "V1 <- c(3.35,3.35,3.35,3.35,3.46,3.46,3.46,4.35,4.35,4.35,4.35)\n",
    "V2 <- c(2.55,2.55,2.55,2.55,2.7,2.7,2.7,2.7,2.65,2.65,2.65,2.65)\n",
    "V3 <- c(4.5,4.5,4.5,6.325,6.325,6.325,6.325,5.933,5.933,5.933)\n",
    "obs <- c(V1,V2,V3)\n",
    "V <- rep(c(1,2,3),times=c(11,12,10))\n",
    "S <- c(rep(c(1,2,3),times=c(4,3,4)),rep(c(1,2,3),times=c(4,4,4)),rep(c(1,2,3),times=c(3,4,3)))\n",
    "dataR <- data.frame(V=factor(V),S=factor(S),Y=obs)\n",
    "dataR"
   ]
  },
  {
   "cell_type": "code",
   "execution_count": 34,
   "id": "0b93d63c",
   "metadata": {},
   "outputs": [
    {
     "data": {
      "text/plain": [
       "            Df Sum Sq Mean Sq   F value Pr(>F)    \n",
       "V            2  50.48  25.240 1.895e+32 <2e-16 ***\n",
       "S            2   4.03   2.017 1.515e+31 <2e-16 ***\n",
       "V:S          4   4.37   1.093 8.210e+30 <2e-16 ***\n",
       "Residuals   24   0.00   0.000                     \n",
       "---\n",
       "Signif. codes:  0 '***' 0.001 '**' 0.01 '*' 0.05 '.' 0.1 ' ' 1"
      ]
     },
     "metadata": {},
     "output_type": "display_data"
    }
   ],
   "source": [
    "summary(aov(Y~V*S,dataR))"
   ]
  },
  {
   "cell_type": "markdown",
   "id": "622c5e90",
   "metadata": {},
   "source": [
    "校正後，若將顯著水準設定在0.05，則品種與行株距皆對收量具有顯著差異，且兩者有交感，應是V3,S2這組交感最大。"
   ]
  },
  {
   "cell_type": "markdown",
   "id": "a3799847",
   "metadata": {},
   "source": [
    "### Problem2"
   ]
  },
  {
   "cell_type": "code",
   "execution_count": 33,
   "id": "2ee0e857",
   "metadata": {},
   "outputs": [],
   "source": [
    "y <- c(\n",
    "2.9,2.4,2.0,\n",
    "3.4,2.8,2.1,\n",
    "3.6,NA,2.9,\n",
    "\n",
    "2.6,2.5,1.5,\n",
    "3.5,2.2,2.2,\n",
    "NA,2.6,1.8)\n",
    "sex <- rep(c(1,2),each=9)\n",
    "B <- rep(c(1,2,3),6)"
   ]
  },
  {
   "cell_type": "code",
   "execution_count": 34,
   "id": "47a9bfb8",
   "metadata": {},
   "outputs": [
    {
     "data": {
      "text/html": [
       "<table>\n",
       "<thead><tr><th scope=col>sex</th><th scope=col>B</th><th scope=col>Y</th></tr></thead>\n",
       "<tbody>\n",
       "\t<tr><td>1  </td><td>1  </td><td>2.9</td></tr>\n",
       "\t<tr><td>1  </td><td>2  </td><td>2.4</td></tr>\n",
       "\t<tr><td>1  </td><td>3  </td><td>2.0</td></tr>\n",
       "\t<tr><td>1  </td><td>1  </td><td>3.4</td></tr>\n",
       "\t<tr><td>1  </td><td>2  </td><td>2.8</td></tr>\n",
       "\t<tr><td>1  </td><td>3  </td><td>2.1</td></tr>\n",
       "\t<tr><td>1  </td><td>1  </td><td>3.6</td></tr>\n",
       "\t<tr><td>1  </td><td>2  </td><td> NA</td></tr>\n",
       "\t<tr><td>1  </td><td>3  </td><td>2.9</td></tr>\n",
       "\t<tr><td>2  </td><td>1  </td><td>2.6</td></tr>\n",
       "\t<tr><td>2  </td><td>2  </td><td>2.5</td></tr>\n",
       "\t<tr><td>2  </td><td>3  </td><td>1.5</td></tr>\n",
       "\t<tr><td>2  </td><td>1  </td><td>3.5</td></tr>\n",
       "\t<tr><td>2  </td><td>2  </td><td>2.2</td></tr>\n",
       "\t<tr><td>2  </td><td>3  </td><td>2.2</td></tr>\n",
       "\t<tr><td>2  </td><td>1  </td><td> NA</td></tr>\n",
       "\t<tr><td>2  </td><td>2  </td><td>2.6</td></tr>\n",
       "\t<tr><td>2  </td><td>3  </td><td>1.8</td></tr>\n",
       "</tbody>\n",
       "</table>\n"
      ],
      "text/latex": [
       "\\begin{tabular}{r|lll}\n",
       " sex & B & Y\\\\\n",
       "\\hline\n",
       "\t 1   & 1   & 2.9\\\\\n",
       "\t 1   & 2   & 2.4\\\\\n",
       "\t 1   & 3   & 2.0\\\\\n",
       "\t 1   & 1   & 3.4\\\\\n",
       "\t 1   & 2   & 2.8\\\\\n",
       "\t 1   & 3   & 2.1\\\\\n",
       "\t 1   & 1   & 3.6\\\\\n",
       "\t 1   & 2   &  NA\\\\\n",
       "\t 1   & 3   & 2.9\\\\\n",
       "\t 2   & 1   & 2.6\\\\\n",
       "\t 2   & 2   & 2.5\\\\\n",
       "\t 2   & 3   & 1.5\\\\\n",
       "\t 2   & 1   & 3.5\\\\\n",
       "\t 2   & 2   & 2.2\\\\\n",
       "\t 2   & 3   & 2.2\\\\\n",
       "\t 2   & 1   &  NA\\\\\n",
       "\t 2   & 2   & 2.6\\\\\n",
       "\t 2   & 3   & 1.8\\\\\n",
       "\\end{tabular}\n"
      ],
      "text/markdown": [
       "\n",
       "| sex | B | Y |\n",
       "|---|---|---|\n",
       "| 1   | 1   | 2.9 |\n",
       "| 1   | 2   | 2.4 |\n",
       "| 1   | 3   | 2.0 |\n",
       "| 1   | 1   | 3.4 |\n",
       "| 1   | 2   | 2.8 |\n",
       "| 1   | 3   | 2.1 |\n",
       "| 1   | 1   | 3.6 |\n",
       "| 1   | 2   |  NA |\n",
       "| 1   | 3   | 2.9 |\n",
       "| 2   | 1   | 2.6 |\n",
       "| 2   | 2   | 2.5 |\n",
       "| 2   | 3   | 1.5 |\n",
       "| 2   | 1   | 3.5 |\n",
       "| 2   | 2   | 2.2 |\n",
       "| 2   | 3   | 2.2 |\n",
       "| 2   | 1   |  NA |\n",
       "| 2   | 2   | 2.6 |\n",
       "| 2   | 3   | 1.8 |\n",
       "\n"
      ],
      "text/plain": [
       "   sex B Y  \n",
       "1  1   1 2.9\n",
       "2  1   2 2.4\n",
       "3  1   3 2.0\n",
       "4  1   1 3.4\n",
       "5  1   2 2.8\n",
       "6  1   3 2.1\n",
       "7  1   1 3.6\n",
       "8  1   2  NA\n",
       "9  1   3 2.9\n",
       "10 2   1 2.6\n",
       "11 2   2 2.5\n",
       "12 2   3 1.5\n",
       "13 2   1 3.5\n",
       "14 2   2 2.2\n",
       "15 2   3 2.2\n",
       "16 2   1  NA\n",
       "17 2   2 2.6\n",
       "18 2   3 1.8"
      ]
     },
     "metadata": {},
     "output_type": "display_data"
    }
   ],
   "source": [
    "data2 <- data.frame(sex=factor(sex),B=factor(B),Y=y)\n",
    "data2"
   ]
  },
  {
   "cell_type": "code",
   "execution_count": 62,
   "id": "2fc7bbcd",
   "metadata": {},
   "outputs": [],
   "source": [
    "mod2 <- lm(Y~B*sex,data2)"
   ]
  },
  {
   "cell_type": "code",
   "execution_count": 63,
   "id": "e72d883f",
   "metadata": {},
   "outputs": [
    {
     "data": {
      "text/plain": [
       "            Df Sum Sq Mean Sq F value  Pr(>F)   \n",
       "B            2  3.429  1.7146  10.956 0.00302 **\n",
       "sex          1  0.401  0.4006   2.560 0.14068   \n",
       "B:sex        2  0.083  0.0413   0.264 0.77302   \n",
       "Residuals   10  1.565  0.1565                   \n",
       "---\n",
       "Signif. codes:  0 '***' 0.001 '**' 0.01 '*' 0.05 '.' 0.1 ' ' 1\n",
       "2 observations deleted due to missingness"
      ]
     },
     "metadata": {},
     "output_type": "display_data"
    }
   ],
   "source": [
    "summary(aov(mod2))"
   ]
  },
  {
   "cell_type": "code",
   "execution_count": 64,
   "id": "9082fc53",
   "metadata": {},
   "outputs": [
    {
     "data": {
      "text/html": [
       "<table>\n",
       "<thead><tr><th></th><th scope=col>Sum Sq</th><th scope=col>Df</th><th scope=col>F value</th><th scope=col>Pr(&gt;F)</th></tr></thead>\n",
       "<tbody>\n",
       "\t<tr><th scope=row>B</th><td>3.18980769 </td><td> 2         </td><td>10.1910789 </td><td>0.003862842</td></tr>\n",
       "\t<tr><th scope=row>sex</th><td>0.40064103 </td><td> 1         </td><td> 2.5600066 </td><td>0.140681302</td></tr>\n",
       "\t<tr><th scope=row>B:sex</th><td>0.08269231 </td><td> 2         </td><td> 0.2641927 </td><td>0.773020726</td></tr>\n",
       "\t<tr><th scope=row>Residuals</th><td>1.56500000 </td><td>10         </td><td>        NA </td><td>         NA</td></tr>\n",
       "</tbody>\n",
       "</table>\n"
      ],
      "text/latex": [
       "\\begin{tabular}{r|llll}\n",
       "  & Sum Sq & Df & F value & Pr(>F)\\\\\n",
       "\\hline\n",
       "\tB & 3.18980769  &  2          & 10.1910789  & 0.003862842\\\\\n",
       "\tsex & 0.40064103  &  1          &  2.5600066  & 0.140681302\\\\\n",
       "\tB:sex & 0.08269231  &  2          &  0.2641927  & 0.773020726\\\\\n",
       "\tResiduals & 1.56500000  & 10          &         NA  &          NA\\\\\n",
       "\\end{tabular}\n"
      ],
      "text/markdown": [
       "\n",
       "| <!--/--> | Sum Sq | Df | F value | Pr(>F) |\n",
       "|---|---|---|---|---|\n",
       "| B | 3.18980769  |  2          | 10.1910789  | 0.003862842 |\n",
       "| sex | 0.40064103  |  1          |  2.5600066  | 0.140681302 |\n",
       "| B:sex | 0.08269231  |  2          |  0.2641927  | 0.773020726 |\n",
       "| Residuals | 1.56500000  | 10          |         NA  |          NA |\n",
       "\n"
      ],
      "text/plain": [
       "          Sum Sq     Df F value    Pr(>F)     \n",
       "B         3.18980769  2 10.1910789 0.003862842\n",
       "sex       0.40064103  1  2.5600066 0.140681302\n",
       "B:sex     0.08269231  2  0.2641927 0.773020726\n",
       "Residuals 1.56500000 10         NA          NA"
      ]
     },
     "metadata": {},
     "output_type": "display_data"
    }
   ],
   "source": [
    "Anova(mod2,type=2)"
   ]
  },
  {
   "cell_type": "code",
   "execution_count": 65,
   "id": "3f1565d8",
   "metadata": {},
   "outputs": [
    {
     "data": {
      "text/html": [
       "<table>\n",
       "<thead><tr><th></th><th scope=col>Sum Sq</th><th scope=col>Df</th><th scope=col>F value</th><th scope=col>Pr(&gt;F)</th></tr></thead>\n",
       "<tbody>\n",
       "\t<tr><th scope=row>(Intercept)</th><td>32.67000000 </td><td> 1          </td><td>208.7539936 </td><td>5.009123e-08</td></tr>\n",
       "\t<tr><th scope=row>B</th><td> 1.47208333 </td><td> 2          </td><td>  4.7031416 </td><td>3.633190e-02</td></tr>\n",
       "\t<tr><th scope=row>sex</th><td> 0.07500000 </td><td> 1          </td><td>  0.4792332 </td><td>5.045266e-01</td></tr>\n",
       "\t<tr><th scope=row>B:sex</th><td> 0.08269231 </td><td> 2          </td><td>  0.2641927 </td><td>7.730207e-01</td></tr>\n",
       "\t<tr><th scope=row>Residuals</th><td> 1.56500000 </td><td>10          </td><td>         NA </td><td>          NA</td></tr>\n",
       "</tbody>\n",
       "</table>\n"
      ],
      "text/latex": [
       "\\begin{tabular}{r|llll}\n",
       "  & Sum Sq & Df & F value & Pr(>F)\\\\\n",
       "\\hline\n",
       "\t(Intercept) & 32.67000000  &  1           & 208.7539936  & 5.009123e-08\\\\\n",
       "\tB &  1.47208333  &  2           &   4.7031416  & 3.633190e-02\\\\\n",
       "\tsex &  0.07500000  &  1           &   0.4792332  & 5.045266e-01\\\\\n",
       "\tB:sex &  0.08269231  &  2           &   0.2641927  & 7.730207e-01\\\\\n",
       "\tResiduals &  1.56500000  & 10           &          NA  &           NA\\\\\n",
       "\\end{tabular}\n"
      ],
      "text/markdown": [
       "\n",
       "| <!--/--> | Sum Sq | Df | F value | Pr(>F) |\n",
       "|---|---|---|---|---|\n",
       "| (Intercept) | 32.67000000  |  1           | 208.7539936  | 5.009123e-08 |\n",
       "| B |  1.47208333  |  2           |   4.7031416  | 3.633190e-02 |\n",
       "| sex |  0.07500000  |  1           |   0.4792332  | 5.045266e-01 |\n",
       "| B:sex |  0.08269231  |  2           |   0.2641927  | 7.730207e-01 |\n",
       "| Residuals |  1.56500000  | 10           |          NA  |           NA |\n",
       "\n"
      ],
      "text/plain": [
       "            Sum Sq      Df F value     Pr(>F)      \n",
       "(Intercept) 32.67000000  1 208.7539936 5.009123e-08\n",
       "B            1.47208333  2   4.7031416 3.633190e-02\n",
       "sex          0.07500000  1   0.4792332 5.045266e-01\n",
       "B:sex        0.08269231  2   0.2641927 7.730207e-01\n",
       "Residuals    1.56500000 10          NA           NA"
      ]
     },
     "metadata": {},
     "output_type": "display_data"
    }
   ],
   "source": [
    "Anova(mod2,type=3)"
   ]
  },
  {
   "cell_type": "markdown",
   "id": "87165bbc",
   "metadata": {},
   "source": [
    "首先，應該是使用常數配合法測驗此研究。但是這筆資料並不balance也不等比。\n",
    "本題希望了解學童成長與功課壓力是否有關，由以上的anova table看出，在顯著水準為0.05的慶況下，交互作用項也不顯著，故我認為使用type2型的sum of square 比較適當。  \n",
    "結論是在其他條件不變的情況下，功課壓力對學童成長的確有顯著的影響。"
   ]
  }
 ],
 "metadata": {
  "kernelspec": {
   "display_name": "R",
   "language": "R",
   "name": "ir"
  },
  "language_info": {
   "codemirror_mode": "r",
   "file_extension": ".r",
   "mimetype": "text/x-r-source",
   "name": "R",
   "pygments_lexer": "r",
   "version": "3.6.1"
  }
 },
 "nbformat": 4,
 "nbformat_minor": 5
}
