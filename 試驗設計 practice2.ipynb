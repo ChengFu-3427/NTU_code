{
 "cells": [
  {
   "cell_type": "markdown",
   "id": "a8259347",
   "metadata": {},
   "source": [
    "## Question 1"
   ]
  },
  {
   "cell_type": "markdown",
   "id": "48c226f7",
   "metadata": {},
   "source": [
    "### (a)"
   ]
  },
  {
   "cell_type": "markdown",
   "id": "17dcb64c",
   "metadata": {},
   "source": [
    "| sol | day | u1  | u2  | u3  | u4  | u5  | u6  |\n",
    "| --- | --- | --- | --- | --- | --- | --- | --- |\n",
    "| 1   | 1   | 1   | 1   | 1   | 1   | 1   | 1   |\n",
    "| 1   | 2   | 1   | 1   | 1   | \\-1 | 1   | 1   |\n",
    "| 1   | 3   | 1   | 1   | 1   | 0   | \\-2 | 1   |\n",
    "| 1   | 4   | 1   | 1   | 1   | 0   | 0   | \\-3 |\n",
    "| 2   | 1   | 1   | \\-1 | 1   | 1   | 1   | 1   |\n",
    "| 2   | 2   | 1   | \\-1 | 1   | \\-1 | 1   | 1   |\n",
    "| 2   | 3   | 1   | \\-1 | 1   | 0   | \\-2 | 1   |\n",
    "| 2   | 4   | 1   | \\-1 | 1   | 0   | 0   | \\-3 |\n",
    "| 3   | 1   | 1   | 0   | \\-2 | 1   | 1   | 1   |\n",
    "| 3   | 2   | 1   | 0   | \\-2 | \\-1 | 1   | 1   |\n",
    "| 3   | 3   | 1   | 0   | \\-2 | 0   | \\-2 | 1   |\n",
    "| 3   | 4   | 1   | 0   | \\-2 | 0   | 0   | \\-3 |\n",
    "| X   | X   | √12 | √8  | √24 | √6  | √18 | √36 |"
   ]
  },
  {
   "cell_type": "markdown",
   "id": "ef69030c",
   "metadata": {},
   "source": [
    "### (b)"
   ]
  },
  {
   "cell_type": "code",
   "execution_count": 2,
   "id": "ca888d22",
   "metadata": {},
   "outputs": [
    {
     "data": {
      "text/plain": [
       "            Df Sum Sq Mean Sq F value   Pr(>F)    \n",
       "day          3 1106.9   369.0   42.71 0.000192 ***\n",
       "sol          2  703.5   351.8   40.72 0.000323 ***\n",
       "Residuals    6   51.8     8.6                     \n",
       "---\n",
       "Signif. codes:  0 '***' 0.001 '**' 0.01 '*' 0.05 '.' 0.1 ' ' 1"
      ]
     },
     "metadata": {},
     "output_type": "display_data"
    }
   ],
   "source": [
    "day<-\n",
    "  c(\"Day1\",\"Day2\",\"Day3\",\"Day4\");\n",
    "sol<-rep(c(1:3),each=4);\n",
    "weight<-c(13,22,18,39,\n",
    "          16,24,17,44,\n",
    "          5,4,1,22);\n",
    "data<-data.frame(day,sol,weight);\n",
    "data$day<-as.factor(data$day);\n",
    "data$sol<-as.factor((data$sol));\n",
    "data.mod<-aov(weight~day + sol,data=data);\n",
    "summary(data.mod);"
   ]
  },
  {
   "cell_type": "code",
   "execution_count": 3,
   "id": "54291df1",
   "metadata": {},
   "outputs": [
    {
     "data": {
      "text/html": [
       "<table>\n",
       "<thead><tr><th scope=col>day</th><th scope=col>sol</th><th scope=col>weight</th></tr></thead>\n",
       "<tbody>\n",
       "\t<tr><td>Day1</td><td>1   </td><td>13  </td></tr>\n",
       "\t<tr><td>Day2</td><td>1   </td><td>22  </td></tr>\n",
       "\t<tr><td>Day3</td><td>1   </td><td>18  </td></tr>\n",
       "\t<tr><td>Day4</td><td>1   </td><td>39  </td></tr>\n",
       "\t<tr><td>Day1</td><td>2   </td><td>16  </td></tr>\n",
       "\t<tr><td>Day2</td><td>2   </td><td>24  </td></tr>\n",
       "\t<tr><td>Day3</td><td>2   </td><td>17  </td></tr>\n",
       "\t<tr><td>Day4</td><td>2   </td><td>44  </td></tr>\n",
       "\t<tr><td>Day1</td><td>3   </td><td> 5  </td></tr>\n",
       "\t<tr><td>Day2</td><td>3   </td><td> 4  </td></tr>\n",
       "\t<tr><td>Day3</td><td>3   </td><td> 1  </td></tr>\n",
       "\t<tr><td>Day4</td><td>3   </td><td>22  </td></tr>\n",
       "</tbody>\n",
       "</table>\n"
      ],
      "text/latex": [
       "\\begin{tabular}{r|lll}\n",
       " day & sol & weight\\\\\n",
       "\\hline\n",
       "\t Day1 & 1    & 13  \\\\\n",
       "\t Day2 & 1    & 22  \\\\\n",
       "\t Day3 & 1    & 18  \\\\\n",
       "\t Day4 & 1    & 39  \\\\\n",
       "\t Day1 & 2    & 16  \\\\\n",
       "\t Day2 & 2    & 24  \\\\\n",
       "\t Day3 & 2    & 17  \\\\\n",
       "\t Day4 & 2    & 44  \\\\\n",
       "\t Day1 & 3    &  5  \\\\\n",
       "\t Day2 & 3    &  4  \\\\\n",
       "\t Day3 & 3    &  1  \\\\\n",
       "\t Day4 & 3    & 22  \\\\\n",
       "\\end{tabular}\n"
      ],
      "text/markdown": [
       "\n",
       "| day | sol | weight |\n",
       "|---|---|---|\n",
       "| Day1 | 1    | 13   |\n",
       "| Day2 | 1    | 22   |\n",
       "| Day3 | 1    | 18   |\n",
       "| Day4 | 1    | 39   |\n",
       "| Day1 | 2    | 16   |\n",
       "| Day2 | 2    | 24   |\n",
       "| Day3 | 2    | 17   |\n",
       "| Day4 | 2    | 44   |\n",
       "| Day1 | 3    |  5   |\n",
       "| Day2 | 3    |  4   |\n",
       "| Day3 | 3    |  1   |\n",
       "| Day4 | 3    | 22   |\n",
       "\n"
      ],
      "text/plain": [
       "   day  sol weight\n",
       "1  Day1 1   13    \n",
       "2  Day2 1   22    \n",
       "3  Day3 1   18    \n",
       "4  Day4 1   39    \n",
       "5  Day1 2   16    \n",
       "6  Day2 2   24    \n",
       "7  Day3 2   17    \n",
       "8  Day4 2   44    \n",
       "9  Day1 3    5    \n",
       "10 Day2 3    4    \n",
       "11 Day3 3    1    \n",
       "12 Day4 3   22    "
      ]
     },
     "metadata": {},
     "output_type": "display_data"
    }
   ],
   "source": [
    "data"
   ]
  },
  {
   "cell_type": "markdown",
   "id": "d52504c1",
   "metadata": {},
   "source": [
    "在顯著水準設定在0.05的情況下，day和solution皆對細菌生長有顯著影響。"
   ]
  },
  {
   "cell_type": "code",
   "execution_count": 7,
   "id": "857a773a",
   "metadata": {},
   "outputs": [
    {
     "data": {
      "text/plain": [
       "                     Df Sum Sq Mean Sq F value Pr(>F)  \n",
       "sol                   2  703.5   351.8   2.732 0.1182  \n",
       "  sol: sol 1 vs sol2  1   10.1    10.1   0.079 0.7855  \n",
       "  sol: sol 1+2 vs 3   1  693.4   693.4   5.385 0.0454 *\n",
       "Residuals             9 1158.7   128.7                 \n",
       "---\n",
       "Signif. codes:  0 '***' 0.001 '**' 0.01 '*' 0.05 '.' 0.1 ' ' 1"
      ]
     },
     "metadata": {},
     "output_type": "display_data"
    },
    {
     "data": {
      "text/plain": [
       "                      Df Sum Sq Mean Sq F value Pr(>F)  \n",
       "sol                    2  703.5   351.8   2.732  0.118  \n",
       "  sol: sol 2 vs sol 3  1  595.1   595.1   4.622  0.060 .\n",
       "  sol: sol 2+3 vs 1    1  108.4   108.4   0.842  0.383  \n",
       "Residuals              9 1158.7   128.7                 \n",
       "---\n",
       "Signif. codes:  0 '***' 0.001 '**' 0.01 '*' 0.05 '.' 0.1 ' ' 1"
      ]
     },
     "metadata": {},
     "output_type": "display_data"
    },
    {
     "data": {
      "text/plain": [
       "                      Df Sum Sq Mean Sq F value Pr(>F)  \n",
       "sol                    2  703.5   351.8   2.732 0.1182  \n",
       "  sol: sol 1 vs sol 3  1  450.0   450.0   3.495 0.0944 .\n",
       "  sol: sol 1+3 vs 2    1  253.5   253.5   1.969 0.1941  \n",
       "Residuals              9 1158.7   128.7                 \n",
       "---\n",
       "Signif. codes:  0 '***' 0.001 '**' 0.01 '*' 0.05 '.' 0.1 ' ' 1"
      ]
     },
     "metadata": {},
     "output_type": "display_data"
    }
   ],
   "source": [
    "c1<-c(1,-1,0); # \n",
    "c2<-c(1,1,-2); #\n",
    "mat<-cbind(c1,c2);\n",
    "# Assign the matrix to the classification variable, treat.\n",
    "contrasts(data$sol)<-mat\n",
    "contrast.mod<-aov(weight~sol,data);\n",
    "summary(contrast.mod,split=list(sol=list(\"sol 1 vs sol2\"=1,\"sol 1+2 vs 3\"=2)));\n",
    "\n",
    "c1<-c(0,1,-1); # \n",
    "c2<-c(-2,1,1); #\n",
    "mat<-cbind(c1,c2);\n",
    "# Assign the matrix to the classification variable, treat.\n",
    "contrasts(data$sol)<-mat\n",
    "contrast.mod<-aov(weight~sol,data);\n",
    "summary(contrast.mod,split=list(sol=list(\"sol 2 vs sol 3\"=1,\"sol 2+3 vs 1\"=2)));\n",
    "\n",
    "c1<-c(1,0,-1); # \n",
    "c2<-c(1,-2,1); #\n",
    "mat<-cbind(c1,c2);\n",
    "# Assign the matrix to the classification variable, treat.\n",
    "contrasts(data$sol)<-mat\n",
    "contrast.mod<-aov(weight~sol,data);\n",
    "summary(contrast.mod,split=list(sol=list(\"sol 1 vs sol 3\"=1,\"sol 1+3 vs 2\"=2)));"
   ]
  },
  {
   "cell_type": "markdown",
   "id": "492024fd",
   "metadata": {},
   "source": [
    "在顯著水準設定在0.05的情況下，用單一的solution比較時，所任意挑選出的兩者皆無統計上的顯著差異。"
   ]
  },
  {
   "cell_type": "code",
   "execution_count": 18,
   "id": "ec3f4710",
   "metadata": {},
   "outputs": [
    {
     "data": {
      "text/plain": [
       "                      Df Sum Sq Mean Sq F value Pr(>F)  \n",
       "day                    3 1106.9   369.0   3.908 0.0547 .\n",
       "  day: day 1 vs day2   1   42.7    42.7   0.452 0.5204  \n",
       "Residuals              8  755.3    94.4                 \n",
       "---\n",
       "Signif. codes:  0 '***' 0.001 '**' 0.01 '*' 0.05 '.' 0.1 ' ' 1"
      ]
     },
     "metadata": {},
     "output_type": "display_data"
    },
    {
     "data": {
      "text/plain": [
       "                      Df Sum Sq Mean Sq F value Pr(>F)  \n",
       "day                    3 1106.9   369.0   3.908 0.0547 .\n",
       "  day: day 2 vs day3   1   32.7    32.7   0.346 0.5726  \n",
       "Residuals              8  755.3    94.4                 \n",
       "---\n",
       "Signif. codes:  0 '***' 0.001 '**' 0.01 '*' 0.05 '.' 0.1 ' ' 1"
      ]
     },
     "metadata": {},
     "output_type": "display_data"
    },
    {
     "data": {
      "text/plain": [
       "                      Df Sum Sq Mean Sq F value Pr(>F)  \n",
       "day                    2 1064.2   532.1   6.001 0.0221 *\n",
       "  day: day 3 vs day4   1  793.5   793.5   8.949 0.0152 *\n",
       "Residuals              9  798.0    88.7                 \n",
       "---\n",
       "Signif. codes:  0 '***' 0.001 '**' 0.01 '*' 0.05 '.' 0.1 ' ' 1"
      ]
     },
     "metadata": {},
     "output_type": "display_data"
    },
    {
     "data": {
      "text/plain": [
       "                      Df Sum Sq Mean Sq F value Pr(>F)  \n",
       "day                    3 1106.9   369.0   3.908 0.0547 .\n",
       "  day: day 1 vs day4   1  840.2   840.2   8.898 0.0175 *\n",
       "Residuals              8  755.3    94.4                 \n",
       "---\n",
       "Signif. codes:  0 '***' 0.001 '**' 0.01 '*' 0.05 '.' 0.1 ' ' 1"
      ]
     },
     "metadata": {},
     "output_type": "display_data"
    },
    {
     "data": {
      "text/plain": [
       "                      Df Sum Sq Mean Sq F value Pr(>F)  \n",
       "day                    3 1106.9   369.0   3.908 0.0547 .\n",
       "  day: day 2 vs day4   1  504.2   504.2   5.340 0.0496 *\n",
       "Residuals              8  755.3    94.4                 \n",
       "---\n",
       "Signif. codes:  0 '***' 0.001 '**' 0.01 '*' 0.05 '.' 0.1 ' ' 1"
      ]
     },
     "metadata": {},
     "output_type": "display_data"
    },
    {
     "data": {
      "text/plain": [
       "                      Df Sum Sq Mean Sq F value Pr(>F)  \n",
       "day                    3 1106.9   369.0   3.908 0.0547 .\n",
       "  day: day 1 vs day3   1    0.7     0.7   0.007 0.9351  \n",
       "Residuals              8  755.3    94.4                 \n",
       "---\n",
       "Signif. codes:  0 '***' 0.001 '**' 0.01 '*' 0.05 '.' 0.1 ' ' 1"
      ]
     },
     "metadata": {},
     "output_type": "display_data"
    }
   ],
   "source": [
    "c1<-c(1,-1,0,0); # \n",
    "c2<-c(1,1,-2,0);\n",
    "c3<-c(1,1,1,-3)#\n",
    "mat<-cbind(c1,c2,c3);\n",
    "# Assign the matrix to the classification variable, treat.\n",
    "contrasts(data$day)<-mat\n",
    "contrast.mod<-aov(weight~day,data);\n",
    "summary(contrast.mod,split=list(day=list(\"day 1 vs day2 \"=1)));\n",
    "\n",
    "c1<-c(0,1,-1,0); # \n",
    "c2<-c(1,1,-2,0);\n",
    "c3<-c(1,1,1,-3)#\n",
    "mat<-cbind(c1,c2,c3);\n",
    "# Assign the matrix to the classification variable, treat.\n",
    "contrasts(data$day)<-mat\n",
    "contrast.mod<-aov(weight~day,data);\n",
    "summary(contrast.mod,split=list(day=list(\"day 2 vs day3 \"=1)));\n",
    "\n",
    "c1<-c(0,0,1,-1); # \n",
    "c2<-c(1,1,-2,0);\n",
    "c3<-c(1,1,1,-3)#\n",
    "mat<-cbind(c1,c2,c3);\n",
    "# Assign the matrix to the classification variable, treat.\n",
    "contrasts(data$day)<-mat\n",
    "contrast.mod<-aov(weight~day,data);\n",
    "summary(contrast.mod,split=list(day=list(\"day 3 vs day4 \"=1)));\n",
    "\n",
    "c1<-c(1,0,0,-1); # \n",
    "c2<-c(1,1,-2,0);\n",
    "c3<-c(1,1,1,-3)#\n",
    "mat<-cbind(c1,c2,c3);\n",
    "# Assign the matrix to the classification variable, treat.\n",
    "contrasts(data$day)<-mat\n",
    "contrast.mod<-aov(weight~day,data);\n",
    "summary(contrast.mod,split=list(day=list(\"day 1 vs day4 \"=1)));\n",
    "\n",
    "c1<-c(0,-1,0,1); # \n",
    "c2<-c(1,1,-2,0);\n",
    "c3<-c(1,1,1,-3)#\n",
    "mat<-cbind(c1,c2,c3);\n",
    "# Assign the matrix to the classification variable, treat.\n",
    "contrasts(data$day)<-mat\n",
    "contrast.mod<-aov(weight~day,data);\n",
    "summary(contrast.mod,split=list(day=list(\"day 2 vs day4 \"=1)));\n",
    "\n",
    "c1<-c(1,0,-1,0); # \n",
    "c2<-c(1,1,-2,0);\n",
    "c3<-c(1,1,1,-3)#\n",
    "mat<-cbind(c1,c2,c3);\n",
    "# Assign the matrix to the classification variable, treat.\n",
    "contrasts(data$day)<-mat\n",
    "contrast.mod<-aov(weight~day,data);\n",
    "summary(contrast.mod,split=list(day=list(\"day 1 vs day3 \"=1)));"
   ]
  },
  {
   "cell_type": "markdown",
   "id": "ccf5a780",
   "metadata": {},
   "source": [
    "在顯著水準設定在0.05的情況下，單獨比較(day3 , day4)、(day1 , day4)、(day2 , day4) 時會產生統計上的顯著差異。"
   ]
  },
  {
   "cell_type": "markdown",
   "id": "4beac857",
   "metadata": {},
   "source": [
    "### (c)"
   ]
  },
  {
   "cell_type": "code",
   "execution_count": 1,
   "id": "9ab00754",
   "metadata": {},
   "outputs": [
    {
     "ename": "ERROR",
     "evalue": "Error in data.frame(day, sol, weight): 找不到物件 'weight'\n",
     "output_type": "error",
     "traceback": [
      "Error in data.frame(day, sol, weight): 找不到物件 'weight'\nTraceback:\n",
      "1. data.frame(day, sol, weight)"
     ]
    }
   ],
   "source": [
    "day<-c(\"Day1\",\"Day2\",\"Day3\",\"Day4\");\n",
    "sol<-rep(c(1:3),each=4);\n",
    "sol <- factor(sol)\n",
    "c1 <- c(13,22,18,39)\n",
    "c2 <- c(16,24,17,NA)\n",
    "c3 <- c(5,4,1,22)\n",
    "y <- c(c1,c2,c3)\n",
    "data<-data.frame(day,sol,weight);\n",
    "fit = lm(y ~ day+sol, data)\n",
    "anova(fit)"
   ]
  },
  {
   "cell_type": "code",
   "execution_count": 17,
   "id": "6925e973",
   "metadata": {},
   "outputs": [
    {
     "data": {
      "text/plain": [
       "                     Df Sum Sq Mean Sq F value Pr(>F)\n",
       "sol                   2  703.5   351.8   2.732  0.118\n",
       "  sol: sol 1 vs sol2  1   28.5    28.5   0.221  0.649\n",
       "Residuals             9 1158.7   128.7               "
      ]
     },
     "metadata": {},
     "output_type": "display_data"
    }
   ],
   "source": [
    "c1<-c(3,-4,0); # \n",
    "c2<-c(1,1,-2); #\n",
    "mat<-cbind(c1,c2);\n",
    "# Assign the matrix to the classification variable, treat.\n",
    "contrasts(data$sol)<-mat\n",
    "contrast.mod<-aov(weight~sol,data);\n",
    "summary(contrast.mod,split=list(sol=list(\"sol 1 vs sol2\"=1)));"
   ]
  },
  {
   "cell_type": "markdown",
   "id": "47c0c092",
   "metadata": {},
   "source": [
    "在顯著水準設定在0.05且缺失資料的情況下，Solutions 1 和 2 並無統計上的顯著差異。"
   ]
  },
  {
   "cell_type": "markdown",
   "id": "4ada9677",
   "metadata": {},
   "source": [
    "## Question 2"
   ]
  },
  {
   "cell_type": "markdown",
   "id": "acbc4e48",
   "metadata": {},
   "source": [
    "### (a)"
   ]
  },
  {
   "cell_type": "code",
   "execution_count": 20,
   "id": "a2210826",
   "metadata": {},
   "outputs": [
    {
     "data": {
      "text/html": [
       "<table>\n",
       "<thead><tr><th></th><th scope=col>Df</th><th scope=col>Sum Sq</th><th scope=col>Mean Sq</th><th scope=col>F value</th><th scope=col>Pr(&gt;F)</th></tr></thead>\n",
       "<tbody>\n",
       "\t<tr><th scope=row>factor(spaces)</th><td>3           </td><td>9025.0      </td><td>3008.33333  </td><td>71.062992   </td><td>4.440579e-05</td></tr>\n",
       "\t<tr><th scope=row>factor(park)</th><td>3           </td><td> 370.5      </td><td> 123.50000  </td><td> 2.917323   </td><td>1.225065e-01</td></tr>\n",
       "\t<tr><th scope=row>factor(duty)</th><td>3           </td><td>1389.5      </td><td> 463.16667  </td><td>10.940945   </td><td>7.591484e-03</td></tr>\n",
       "\t<tr><th scope=row>Residuals</th><td>6           </td><td> 254.0      </td><td>  42.33333  </td><td>       NA   </td><td>          NA</td></tr>\n",
       "</tbody>\n",
       "</table>\n"
      ],
      "text/latex": [
       "\\begin{tabular}{r|lllll}\n",
       "  & Df & Sum Sq & Mean Sq & F value & Pr(>F)\\\\\n",
       "\\hline\n",
       "\tfactor(spaces) & 3            & 9025.0       & 3008.33333   & 71.062992    & 4.440579e-05\\\\\n",
       "\tfactor(park) & 3            &  370.5       &  123.50000   &  2.917323    & 1.225065e-01\\\\\n",
       "\tfactor(duty) & 3            & 1389.5       &  463.16667   & 10.940945    & 7.591484e-03\\\\\n",
       "\tResiduals & 6            &  254.0       &   42.33333   &        NA    &           NA\\\\\n",
       "\\end{tabular}\n"
      ],
      "text/markdown": [
       "\n",
       "| <!--/--> | Df | Sum Sq | Mean Sq | F value | Pr(>F) |\n",
       "|---|---|---|---|---|---|\n",
       "| factor(spaces) | 3            | 9025.0       | 3008.33333   | 71.062992    | 4.440579e-05 |\n",
       "| factor(park) | 3            |  370.5       |  123.50000   |  2.917323    | 1.225065e-01 |\n",
       "| factor(duty) | 3            | 1389.5       |  463.16667   | 10.940945    | 7.591484e-03 |\n",
       "| Residuals | 6            |  254.0       |   42.33333   |        NA    |           NA |\n",
       "\n"
      ],
      "text/plain": [
       "               Df Sum Sq Mean Sq    F value   Pr(>F)      \n",
       "factor(spaces) 3  9025.0 3008.33333 71.062992 4.440579e-05\n",
       "factor(park)   3   370.5  123.50000  2.917323 1.225065e-01\n",
       "factor(duty)   3  1389.5  463.16667 10.940945 7.591484e-03\n",
       "Residuals      6   254.0   42.33333        NA           NA"
      ]
     },
     "metadata": {},
     "output_type": "display_data"
    }
   ],
   "source": [
    "spaces<-rep(c(1:4),4);\n",
    "spaces <- rev(spaces)\n",
    "park<-rep(c(1:4),each=4);\n",
    "duty<-c(\"2\",\"4\",\"3\",\"1\",\n",
    "         \"3\",\"1\",\"2\",\"4\",\n",
    "         \"4\",\"3\",\"1\",\"2\",\n",
    "         \"1\",\"2\",\"4\",\"3\");\n",
    "obs<-c(29,44,54,71,\n",
    "       22,22,59,100,\n",
    "       38,31,40,79,\n",
    "       29,27,83,100);\n",
    "Q2<-data.frame(spaces,park,duty,obs);\n",
    "Q2.mod<-lm(obs~ factor(spaces) + factor(park) + factor(duty),data=Q2);\n",
    "anova(Q2.mod);"
   ]
  },
  {
   "cell_type": "markdown",
   "id": "72012cfe",
   "metadata": {},
   "source": [
    "在顯著水準設定在0.05的情況下，儘管這三個因子都很顯著，不過仍可以觀察到不同的因子對於使用代客泊車服務的影響大小有所不同。  \n",
    "舉例來說：Number\tof handicapped spaces造成的變異就遠大於cost to park和the number of valet-parking attendants on duty。  \n",
    "根據以上我認為若要有效的滿足病患需求，增加車位是比較好的做法。"
   ]
  },
  {
   "cell_type": "markdown",
   "id": "083c8cad",
   "metadata": {},
   "source": [
    "### (b)"
   ]
  },
  {
   "cell_type": "markdown",
   "id": "f5b70ce6",
   "metadata": {},
   "source": [
    "| row和col皆不同 | df |\n",
    "| --------- | -- |\n",
    "| squre     | 1  |\n",
    "| row       | 6  |\n",
    "| col       | 6  |\n",
    "| treatment | 3  |\n",
    "| error     | 15 |\n",
    "| total     | 31 |"
   ]
  },
  {
   "cell_type": "markdown",
   "id": "c893fda9",
   "metadata": {},
   "source": [
    "| col不同,row同 | df |\n",
    "| --------- | -- |\n",
    "| squre     | 1  |\n",
    "| row       | 3  |\n",
    "| col       | 6  |\n",
    "| treatment | 3  |\n",
    "| error     | 18 |\n",
    "| total     | 31 |"
   ]
  },
  {
   "cell_type": "markdown",
   "id": "bbf61ac5",
   "metadata": {},
   "source": [
    "| col同,row不同 | df |\n",
    "| --------- | -- |\n",
    "| squre     | 1  |\n",
    "| row       | 6  |\n",
    "| col       | 3  |\n",
    "| treatment | 3  |\n",
    "| error     | 18 |\n",
    "| total     | 31 |"
   ]
  },
  {
   "cell_type": "markdown",
   "id": "f2574d14",
   "metadata": {},
   "source": [
    "| col,row皆同 | df |\n",
    "| --------- | -- |\n",
    "| squre     | 1  |\n",
    "| row       | 3  |\n",
    "| col       | 3  |\n",
    "| treatment | 3  |\n",
    "| error     | 21 |\n",
    "| total     | 31 |"
   ]
  }
 ],
 "metadata": {
  "kernelspec": {
   "display_name": "R",
   "language": "R",
   "name": "ir"
  },
  "language_info": {
   "codemirror_mode": "r",
   "file_extension": ".r",
   "mimetype": "text/x-r-source",
   "name": "R",
   "pygments_lexer": "r",
   "version": "3.6.1"
  }
 },
 "nbformat": 4,
 "nbformat_minor": 5
}
