{
 "cells": [
  {
   "cell_type": "markdown",
   "id": "fbc4b55c",
   "metadata": {},
   "source": [
    "# 作業 1 （荒野求生）\n",
    "\n",
    "\n",
    "- **前三題一定要做，以前三題的表現給分。後面幾題不計分但也一定要寫；寫錯、沒寫完、寫不出來沒關係，但要有嘗試的痕跡或證據（例如，幾行相關的code)。**\n",
    "- 請於下星期一（2/27）下午 2:00 前上傳 NTU Cool 繳交。超過了時間系統無法收件。\n",
    "- 繳交時，請將檔案名稱改爲「姓名_HWK1.ipynb」;例如「王小明_HWK1.ipynb」。\n",
    "- 題目來源：111年學測數A及數B。\n",
    "- 此作業的目的不在考數學，而在練習使用 Julia；歡迎上網找相關題目的解答。重點在過程不在答案。\n",
    "  - [數A影音解答](https://www.youtube.com/watch?v=sWfWqDtsa5o&ab_channel=CMmath)\n",
    "  - [數B影音解答](https://www.youtube.com/watch?v=j3jigIF2QO8&ab_channel=CMmath)\n",
    "- 所有數字必須透過程式算出來，不能心算等人為介入。例如：\n",
    "  - $n(n-1)/2 > 200$, 不能用心算得出 $n$ 最小為15。\n",
    "  - $-3.1$ 到 $8.9$ 之間有幾個整數，不能扳手指算。\n",
    "- 假設你的解答過程及答案將作爲補習班教學之用。請適當註解程式，讓解答容易被學生了解。\n",
    "\n",
    "\n",
    "\n"
   ]
  },
  {
   "cell_type": "code",
   "execution_count": 67,
   "id": "752c068c",
   "metadata": {},
   "outputs": [],
   "source": [
    "using Roots\n",
    "using Pkg\n",
    "using Combinatorics"
   ]
  },
  {
   "cell_type": "markdown",
   "id": "4e7c8d13",
   "metadata": {},
   "source": [
    "## (111學測數B單選5) 設矩陣 $A = \\begin{bmatrix} 1 & 1 \\\\ 1 & -1\\end{bmatrix}$，若 $A^7 - 3A = \\begin{bmatrix} a & b \\\\ c & d\\end{bmatrix}$，則 $a + b + c + d$ 之值為何？\n",
    "\n",
    "Hint 1: 算出 $A^7 - 3A$ 的矩陣，然後把裏面的 elements 相加。想想看，如何把一個矩陣的 elements 加起來。"
   ]
  },
  {
   "cell_type": "code",
   "execution_count": 68,
   "id": "24e4c128",
   "metadata": {},
   "outputs": [
    {
     "data": {
      "text/plain": [
       "10"
      ]
     },
     "execution_count": 68,
     "metadata": {},
     "output_type": "execute_result"
    }
   ],
   "source": [
    "A = [1 1;\n",
    "     1 -1]\n",
    "sum(A^7-3A)"
   ]
  },
  {
   "cell_type": "markdown",
   "id": "d153ef86",
   "metadata": {},
   "source": [
    "## (111學測數A單選5） 已知某地區有 30%的人口感染某傳染病。針對該傳染病的快篩試劑檢驗，有陽性或陰性兩結果。已知該試劑將染病者判為陽性的機率為 80%，將未染病者判為陰性的機率則為60%。為降低該試劑將染病者誤判為陰性的情況，專家建議連續採檢三次。若單次採檢判為陰性者中，染病者的機率為 P；而連續採檢三次皆判為陰性者中，染病者的機率為 P '。試問 P/P' 為多少？"
   ]
  },
  {
   "cell_type": "code",
   "execution_count": 69,
   "id": "b1f09781",
   "metadata": {},
   "outputs": [
    {
     "data": {
      "text/plain": [
       "8.0"
      ]
     },
     "execution_count": 69,
     "metadata": {},
     "output_type": "execute_result"
    }
   ],
   "source": [
    "p=0.3*0.2/(0.3*0.2+0.7*0.6)\n",
    "p_prime=(0.3*0.2*0.2*0.2)/((0.3*0.2*0.2*0.2)+(0.7*0.6*0.6*0.6))\n",
    "p/p_prime"
   ]
  },
  {
   "cell_type": "markdown",
   "id": "74b8b678",
   "metadata": {},
   "source": [
    "## (111學測數A單選1） 某冰淇淋店最少需準備 n 桶不同口味的冰淇淋，才能滿足廣告所稱「任選兩球不同口味冰淇淋的組合數超過 100 種」。試問來店顧客從 n 桶中任選兩球（可為同一口味）共有幾種方法？請提供至少三種解法：\n",
    "- ### 不使用任何 package (hint: 可以用 `while` loop),"
   ]
  },
  {
   "cell_type": "code",
   "execution_count": 70,
   "id": "7804d392",
   "metadata": {},
   "outputs": [
    {
     "name": "stdout",
     "output_type": "stream",
     "text": [
      "n=15"
     ]
    },
    {
     "data": {
      "text/plain": [
       "120.0"
      ]
     },
     "execution_count": 70,
     "metadata": {},
     "output_type": "execute_result"
    }
   ],
   "source": [
    "f(n)=n*(n-1)/2\n",
    "for i in 0:100\n",
    "    if f(i)>100\n",
    "        print(\"n=\",i)\n",
    "        break\n",
    "    end\n",
    "end\n",
    "method = f(15)+15#不同口味排列+相同口味"
   ]
  },
  {
   "cell_type": "markdown",
   "id": "d340c985",
   "metadata": {},
   "source": [
    "- ### 使用 `Combinatorics` package (hint: 可參考[這個連結](https://juliamath.github.io/Combinatorics.jl/dev/api/#Combinatorics.combinations-Tuple{Any,%20Integer}); 可以用 `collect()` 函數）,"
   ]
  },
  {
   "cell_type": "code",
   "execution_count": 71,
   "id": "944ea09f",
   "metadata": {},
   "outputs": [
    {
     "name": "stdout",
     "output_type": "stream",
     "text": [
      "n=15"
     ]
    },
    {
     "data": {
      "text/plain": [
       "120"
      ]
     },
     "execution_count": 71,
     "metadata": {},
     "output_type": "execute_result"
    }
   ],
   "source": [
    "for i in 1:100\n",
    "    ans=length(collect(combinations([j for j in 1:i], 2)))\n",
    "    if ans>100\n",
    "        print(\"n=\",i)\n",
    "        break\n",
    "    end\n",
    "end\n",
    "method =length(with_replacement_combinations([j for j in 1:15], 2))"
   ]
  },
  {
   "cell_type": "markdown",
   "id": "a8011ed3",
   "metadata": {},
   "source": [
    "- ### 使用 `Roots` package （hint: 定義一個函數，然後用 `find_zero()` 求解）。"
   ]
  },
  {
   "cell_type": "code",
   "execution_count": 72,
   "id": "3b0c5a22",
   "metadata": {},
   "outputs": [
    {
     "data": {
      "text/plain": [
       "f (generic function with 1 method)"
      ]
     },
     "execution_count": 72,
     "metadata": {},
     "output_type": "execute_result"
    }
   ],
   "source": [
    "function f(x)\n",
    "    return x*(x-1)/2-100\n",
    "end"
   ]
  },
  {
   "cell_type": "code",
   "execution_count": 73,
   "id": "d0536c63",
   "metadata": {},
   "outputs": [
    {
     "data": {
      "text/plain": [
       "14.650971698084906"
      ]
     },
     "execution_count": 73,
     "metadata": {},
     "output_type": "execute_result"
    }
   ],
   "source": [
    "find_zero(f,1)"
   ]
  },
  {
   "cell_type": "markdown",
   "id": "9c80bea3",
   "metadata": {},
   "source": [
    "so n = 15"
   ]
  },
  {
   "cell_type": "code",
   "execution_count": 74,
   "id": "d22b1c73",
   "metadata": {},
   "outputs": [
    {
     "data": {
      "text/plain": [
       "120.0"
      ]
     },
     "execution_count": 74,
     "metadata": {},
     "output_type": "execute_result"
    }
   ],
   "source": [
    "repeat_combine(x,y)=factorial(x-1 + y)/(factorial(x-1) * factorial(y))\n",
    "repeat_combine(15,2)"
   ]
  },
  {
   "cell_type": "markdown",
   "id": "1f809979",
   "metadata": {},
   "source": [
    "## (111學測數A選填13）有一款線上遊戲推出「十連抽」的抽卡機制，「十連抽」意思為系統自動做十次的抽卡 動作。若每次「十連抽」需用 1500 枚代幣，抽中金卡的機率在前九次皆為 2%，在第 十次為 10%。今某生有代幣 23000 枚，且不斷使用「十連抽」，抽到不能再抽為止。則某生抽到金卡張數的期望值為多少張？\n",
    "\n",
    "Hint: 幾個可以用、不一定全部用到的函數：`for` loop, `round()`, `trunc()`."
   ]
  },
  {
   "cell_type": "code",
   "execution_count": 75,
   "id": "28f9e21c",
   "metadata": {},
   "outputs": [
    {
     "data": {
      "text/plain": [
       "4.2"
      ]
     },
     "execution_count": 75,
     "metadata": {},
     "output_type": "execute_result"
    }
   ],
   "source": [
    "E(x)=(0.02*9+.1)*x\n",
    "E(round(23000/1500))"
   ]
  },
  {
   "cell_type": "markdown",
   "id": "c0b8b11f",
   "metadata": {},
   "source": [
    "## (111學測數B單選1) 試問有多少個整數 $x$ 滿足 $2|x| + x < 10$？\n",
    "\n",
    "Hint: 有很多方法，包括比較直覺的 `for` 或 `while` loops."
   ]
  },
  {
   "cell_type": "code",
   "execution_count": 76,
   "id": "0aef8be4",
   "metadata": {},
   "outputs": [
    {
     "name": "stdout",
     "output_type": "stream",
     "text": [
      "共13個整數"
     ]
    }
   ],
   "source": [
    "count=0\n",
    "for x ∈ -100:100\n",
    "    if (2*abs(x)+x)<10\n",
    "        count+=1\n",
    "    end\n",
    "end\n",
    "print(\"共\",count,\"個整數\")"
   ]
  },
  {
   "cell_type": "markdown",
   "id": "0c31d3ed",
   "metadata": {},
   "source": [
    "## (111學測數B單選2) 某燈會布置變色閃燈，每次啟動後的閃燈顏色會依照以下的順序做週期性變換:藍-白- 紅-白-藍-白-紅-白-藍-白-紅-白...，每四次一循環，其中藍光每次持續 5 秒，白光每次持 續 2 秒，而紅光每次持續 6 秒。假設換燈號的時間極短可被忽略，試算出啟動後第 99 至 101 秒之間的燈號。"
   ]
  },
  {
   "cell_type": "code",
   "execution_count": 77,
   "id": "b3f1e465",
   "metadata": {},
   "outputs": [
    {
     "data": {
      "text/plain": [
       "light (generic function with 1 method)"
      ]
     },
     "execution_count": 77,
     "metadata": {},
     "output_type": "execute_result"
    }
   ],
   "source": [
    "function light(x)\n",
    "    count=0\n",
    "    while( count < x )\n",
    "        count+=5\n",
    "        if ( count >= x )\n",
    "            return(\"blue\")        \n",
    "        end\n",
    "        count+=2\n",
    "        if ( count >= x )\n",
    "            return(\"white\")           \n",
    "        end\n",
    "        count+=6\n",
    "        if ( count >= x )\n",
    "            return(\"red\")            \n",
    "        end\n",
    "        count+=2\n",
    "        if ( count >= x )\n",
    "            return(\"white\")             \n",
    "        end\n",
    "    end\n",
    "end"
   ]
  },
  {
   "cell_type": "code",
   "execution_count": 78,
   "id": "04d606ae",
   "metadata": {},
   "outputs": [
    {
     "data": {
      "text/plain": [
       "\"red\""
      ]
     },
     "execution_count": 78,
     "metadata": {},
     "output_type": "execute_result"
    }
   ],
   "source": [
    "light(99)"
   ]
  },
  {
   "cell_type": "code",
   "execution_count": 79,
   "id": "c5f70237",
   "metadata": {},
   "outputs": [
    {
     "data": {
      "text/plain": [
       "\"red\""
      ]
     },
     "execution_count": 79,
     "metadata": {},
     "output_type": "execute_result"
    }
   ],
   "source": [
    "light(101)"
   ]
  },
  {
   "cell_type": "markdown",
   "id": "f6f9edb0",
   "metadata": {},
   "source": [
    "皆為紅色"
   ]
  },
  {
   "cell_type": "markdown",
   "id": "745b3253",
   "metadata": {},
   "source": [
    "## (111學測數B單選3) 有八棟大廈排成一列，由左至右分別編號 1, 2, 3, 4, 5, 6, 7, 8。今電信公司想選取其中三棟 大廈的屋頂分別設立一座電信基地台。若基地台不能設立於相鄰的兩棟大廈，以免訊號 互相干擾，試問在 3 號大廈不設立基地台的情況下，有多少種設立基地台的選取方法?\n",
    "\n",
    "Hint: 可以寫一個大的 `for` loop, 或用 Combinatorics 套件。"
   ]
  },
  {
   "cell_type": "code",
   "execution_count": 80,
   "id": "d78d2a7c",
   "metadata": {},
   "outputs": [
    {
     "name": "stdout",
     "output_type": "stream",
     "text": [
      "20"
     ]
    }
   ],
   "source": [
    "count=0\n",
    "arr=collect(combinations([x for x in 1:8], 3))\n",
    "for i in arr\n",
    "    if 3 in arr\n",
    "        continue\n",
    "    end\n",
    "    if (i[3]-i[2]==1) || (i[2]-i[1]==1) \n",
    "        continue\n",
    "    end\n",
    "    count+=1\n",
    "end\n",
    "print(count)"
   ]
  },
  {
   "cell_type": "markdown",
   "id": "7b04a212",
   "metadata": {},
   "source": [
    "## (111學測數B選填17) 有三女三男共六位在校時和老師常有互動的同學，畢業後老師邀聚餐，餐後七人站 一橫排照相留念。已知同學中有一女一男兩位曾有過不愉快，照相時不想相鄰，而 老師站在正中間且三位男生不完全站在老師的同一側，則可能的排列方式共有多少種? \n",
    "\n",
    "Hint: `factorial()`"
   ]
  },
  {
   "cell_type": "code",
   "execution_count": 81,
   "id": "4a049785",
   "metadata": {},
   "outputs": [
    {
     "data": {
      "text/plain": [
       "456"
      ]
     },
     "execution_count": 81,
     "metadata": {},
     "output_type": "execute_result"
    }
   ],
   "source": [
    "factorial(6)-2(factorial(3)*factorial(3))-factorial(2)*factorial(4)*4\n",
    "#全部情況-男生同側-過節同學相鄰的情況"
   ]
  }
 ],
 "metadata": {
  "kernelspec": {
   "display_name": "Julia 1.6.3",
   "language": "julia",
   "name": "julia-1.6"
  },
  "language_info": {
   "file_extension": ".jl",
   "mimetype": "application/julia",
   "name": "julia",
   "version": "1.6.3"
  },
  "toc": {
   "base_numbering": 1,
   "nav_menu": {},
   "number_sections": true,
   "sideBar": true,
   "skip_h1_title": true,
   "title_cell": "Table of Contents",
   "title_sidebar": "Contents",
   "toc_cell": false,
   "toc_position": {
    "height": "calc(100% - 180px)",
    "left": "10px",
    "top": "150px",
    "width": "207.415px"
   },
   "toc_section_display": true,
   "toc_window_display": false
  }
 },
 "nbformat": 4,
 "nbformat_minor": 5
}
