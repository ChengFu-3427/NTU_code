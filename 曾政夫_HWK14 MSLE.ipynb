{
 "cells": [
  {
   "cell_type": "code",
   "execution_count": 1,
   "id": "7a38fae4",
   "metadata": {},
   "outputs": [],
   "source": [
    "using Distributions, Plots, LinearAlgebra, ForwardDiff, Optim\n",
    "using DataFrames, CSV, Random"
   ]
  },
  {
   "cell_type": "markdown",
   "id": "9e74d633",
   "metadata": {},
   "source": [
    "# Homework on MSLE\n",
    "\n",
    "Recall that in the previous homework we have Model A and its log-likelihood function of observation $i$ is as follows.\n",
    "\n",
    "\\begin{align}\n",
    " y_i & = \\alpha + x_i' \\beta + v_i - u_i,\\\\\n",
    " v_i & \\sim N(0, \\sigma_v^2), \\\\\n",
    " u_i & \\sim N^+(0, \\sigma_u^2),\n",
    "\\end{align}\n",
    " \n",
    "\\begin{aligned}\n",
    "L_i = - \\ln \\left(\\frac{1}{2}\\right) -\\frac{1}{2}\\ln (\\sigma_v^2 + \\sigma_u^2) + \\ln\n",
    "\\phi\\left(\\frac{\\epsilon_i}{\\sqrt{\\sigma_v^2 + \\sigma_u^2}} \\right) +\n",
    "\\ln \\Phi\\left(\\frac{\\mu_{*i}}{\\sigma_*} \\right),\n",
    "\\end{aligned}\n",
    "\n",
    "\n",
    "where $\\phi(z)$ and $\\Phi(z)$ are the PDF and CDF of a standard normal distribution. Also,\n",
    "\n",
    "\\begin{aligned}\n",
    " \\mu_{*i}  = \\frac{-\\sigma_u^2 \\epsilon_i}{\\sigma_v^2 + \\sigma_u^2},\\qquad\n",
    " \\sigma_*^2  = \\frac{\\sigma_v^2  \\sigma_u^2}{\\sigma_v^2 + \\sigma_u^2}. \n",
    "\\end{aligned}\n",
    "\n",
    "\n",
    "###### 1. Write a Julia function of the Model's log-likelihood function.\n",
    "Write a function for Model A's log-likelihood that is suitable for estimating using the Monte Carlo simulation approach (MCSA of Section 1.4 in the lecture note). \n",
    "\n",
    "  - Name the function `NHN_msle`.\n",
    "  - Use the Monte Carlo method (not the Quasi Monte Carlo method) to draw samples of $u_i^s$, $s=1,\\ldots,S$.\n",
    "\n",
    "\n",
    "###### 2. Empirical Estimation\n",
    "The attached dataset, `sampledata.csv`, contains data of agricultural production from India. The variables are the follows. They have been converged to appropriate units (using log, etc.) so no further data processing is necessary.\n",
    "\n",
    "\n",
    "|          |  |        |\n",
    "|-------------------------------------|---|---------------------|\n",
    "| yvar: rice output                   |   | Lland: land         |\n",
    "| Plland: irrigated land              |   | Llabor: labor       |\n",
    "| Lbull: bull cost                    |   | Lcost: other costs  |\n",
    "| yr: production year                 |   | age: age of farmers |\n",
    "| school: farmers' years of schooling |   | yr_1: same as year  |\n",
    "\n",
    "\n",
    "Your work is to use `NHN_msle` to estimate the data with the following specification.\n",
    "\n",
    "$yvar_i = \\alpha + \\beta_1 Lland_i + \\beta_2 Plland_i + \\beta_3 Llabor_i + \\beta_4 Lbull_i + \\beta_5 Lcost_i + \\beta_6 yr_i + v_i - u_i$.\n",
    "  \n",
    "You may use the following code to read in the data.\n",
    "\n",
    "```julia\n",
    "####################\n",
    "using DataFrames, CSV\n",
    "df = DataFrame(CSV.File(\"sampledata.csv\"))\n",
    "y = df[:, \"yvar\"]       # the dep var\n",
    "x = Matrix(df[:, 2:7])  # the indep vars, not including a constant\n",
    "####################\n",
    "```\n",
    "\n",
    "***The required result is a table with three columns: the 1st column is the coefficients, the 2nd column is the standard errors, and the 3rd column is the $t$ statistics.***\n",
    "\n",
    "  - The table is preferably in Dataframe. How to convert a matrix to a DataFrame? Ask ChatGPT!\n",
    "\n",
    "\n",
    "###### 2.1: The Estimation Guidelines\n",
    "  \n",
    "  - You may use $-0.1$ as the initial values for all parameters. Or you may use the OLS result as the initial values for the $\\alpha$ and $\\beta$ coefficients (`x2=hcat(ones(size(y,1), 1), x); ols=inv(x2'x2)*(x2'y)`). Or, you may choose any initial values that seem to be reasonable choices. However, you _**cannot**_ use the true answer (provided below) as the initial values.\n",
    "\n",
    "  - Set the value of $S$ (the number of random draws on $u$) to be $S=2^{10} -1$.\n",
    "\n",
    "  - I strongly suggest that your program uses the `autodiff = :forward` option (which uses automatic differentiation) in the estimation.\n",
    "  \n",
    "    - The `autodiff = :forward` option puts stringent requirements on data types which may not easy to work out. I suggest that you start with your program without the option (which would then default to numerical finite differences that is easier on the data). After you have a working program, you may add the option back and see if it works. Most likely you'll have error messages and you have to work out the issues. If you can't make it work, that's fine. Try your best.  \n",
    "  \n",
    "\n",
    "- Hint 1: Look at $|g(x)|$ to judge whether it is converged. It should be smaller than the convergence criterion. \n",
    "  \n",
    "- Hint 2: The answer from the MSLE should be close to but not exactly the same as that from the MLE.\n"
   ]
  },
  {
   "cell_type": "code",
   "execution_count": 2,
   "id": "21b6ebcc",
   "metadata": {},
   "outputs": [
    {
     "name": "stdout",
     "output_type": "stream",
     "text": [
      " \n"
     ]
    }
   ],
   "source": [
    "df = DataFrame(CSV.File(\"C:\\\\Users\\\\User\\\\sampledata.csv\"))\n",
    "y = df[:, \"yvar\"]     \n",
    "x = Matrix(df[:, 2:7]) \n",
    "x2=hcat(ones(size(y,1), 1), x)\n",
    "ols=inv(x2'x2)*(x2'y)\n",
    "println(\" \")"
   ]
  },
  {
   "cell_type": "code",
   "execution_count": 3,
   "id": "915cdbc9",
   "metadata": {},
   "outputs": [
    {
     "data": {
      "text/plain": [
       "NHN_msle (generic function with 1 method)"
      ]
     },
     "execution_count": 3,
     "metadata": {},
     "output_type": "execute_result"
    }
   ],
   "source": [
    "\n",
    "function NHN_msle(y, x, α, β, log_σᵥ², log_σᵤ²)\n",
    "    σᵥ² = exp(log_σᵥ²)\n",
    "    σᵤ² = exp(log_σᵤ²)\n",
    "    σᵥ = sqrt(σᵥ²)\n",
    "    s = 2^10-1\n",
    "    u_list=rand(Xoshiro(1234),truncated(Normal(0,σᵤ²),0,Inf),s)\n",
    "    f(e, σᵥ) = pdf(Normal(0, σᵥ), e)     \n",
    "    ϵ  = y .- α .- x*β\n",
    "    logLike = Array{Real}(undef, size(y,1))\n",
    "    for i in 1:size(y,1) \n",
    "        logLike[i] = log(sum(f.(ϵ[i,1] .+ u_list, σᵥ)/s))      \n",
    "    end\n",
    "    return -sum(logLike)\n",
    "end"
   ]
  },
  {
   "cell_type": "code",
   "execution_count": 4,
   "id": "a6c6d6a1",
   "metadata": {},
   "outputs": [
    {
     "name": "stdout",
     "output_type": "stream",
     "text": [
      "res1 =  * Status: success\n",
      "\n",
      " * Candidate solution\n",
      "    Final objective value:     9.434078e+01\n",
      "\n",
      " * Found with\n",
      "    Algorithm:     Newton's Method\n",
      "\n",
      " * Convergence measures\n",
      "    |x - x'|               = 2.07e-07 ≰ 0.0e+00\n",
      "    |x - x'|/|x'|          = 5.91e-08 ≰ 0.0e+00\n",
      "    |f(x) - f(x')|         = 3.41e-12 ≰ 0.0e+00\n",
      "    |f(x) - f(x')|/|f(x')| = 3.62e-14 ≰ 0.0e+00\n",
      "    |g(x)|                 = 5.28e-08 ≤ 1.0e-07\n",
      "\n",
      " * Work counters\n",
      "    Seconds run:   28  (vs limit Inf)\n",
      "    Iterations:    11\n",
      "    f(x) calls:    40\n",
      "    ∇f(x) calls:   40\n",
      "    ∇²f(x) calls:  11\n",
      "\n",
      "The estimation table is\n"
     ]
    },
    {
     "data": {
      "text/plain": [
       "9×3 Matrix{Float64}:\n",
       "  1.60073     0.350642     4.56515\n",
       "  0.283302    0.0707285    4.00548\n",
       "  0.216854    0.176079     1.23157\n",
       "  1.16218     0.0803405   14.4657\n",
       " -0.427072    0.0596114   -7.16427\n",
       "  0.00646413  0.0133768    0.483235\n",
       "  0.0349059   0.00813086   4.29302\n",
       "  0.0302617   0.0090278    3.35205\n",
       "  0.5354      0.0400101   13.3816"
      ]
     },
     "metadata": {},
     "output_type": "display_data"
    }
   ],
   "source": [
    "##### start estimation #########\n",
    "nofx = 6\n",
    "init = [ols;[-0.1,-0.1]]\n",
    "func1 = TwiceDifferentiable(vars -> NHN_msle(y, x, vars[1],\n",
    "                            vars[2:nofx+1], vars[end-1], vars[end]),\n",
    "                            ones(nofx+3) )\n",
    "\n",
    "res1 = optimize(func1, init, Newton(), Optim.Options(g_tol = 1e-7, iterations = 500))\n",
    "                              \n",
    "coeff1 = Optim.minimizer(res1)        \n",
    "hwk14_coeff = deepcopy(coeff1)                # keep _coevec untouched\n",
    "hwk14_coeff[end-1:end] = exp.(hwk14_coeff[end-1:end])     # convert unit of the last two elements\n",
    "_Hessian  = Optim.hessian!(func1, coeff1)  # Hessain evaluated at the coeff vector\n",
    "\n",
    "var_cov_matrix = inv(_Hessian)   \n",
    "\n",
    "stderror  = sqrt.(diag(var_cov_matrix))\n",
    "\n",
    "stderror[end-1:end] = hwk14_coeff[end-1:end] .*stderror[end-1:end]  # convert the unit using the delta method\n",
    "t_stats = hwk14_coeff ./ stderror\n",
    "hwk14_table = hcat(hwk14_coeff, stderror, t_stats)\n",
    "\n",
    "@show res1\n",
    "\n",
    "println(\"The estimation table is\")\n",
    "hwk14_table |> display"
   ]
  },
  {
   "cell_type": "code",
   "execution_count": 5,
   "id": "0974f650",
   "metadata": {},
   "outputs": [
    {
     "name": "stdout",
     "output_type": "stream",
     "text": [
      "The estimation table is\n"
     ]
    },
    {
     "data": {
      "text/plain": [
       "9×3 Matrix{Float64}:\n",
       "  1.59012    0.349898     4.54453\n",
       "  0.286194   0.0698563    4.09689\n",
       "  0.234652   0.17648      1.32963\n",
       "  1.15546    0.0811715   14.2348\n",
       " -0.421433   0.0593928   -7.09569\n",
       "  0.0066182  0.0130428    0.507422\n",
       "  0.0340904  0.00803004   4.24536\n",
       "  0.191584   0.162488     1.17907\n",
       "  0.0974947  0.0593393    1.643"
      ]
     },
     "metadata": {},
     "output_type": "display_data"
    }
   ],
   "source": [
    "noX=6\n",
    "function NHN_mle(y, x, α, β, log_σᵥ², log_σᵤ²)\n",
    "    σᵥ² = exp(log_σᵥ²)\n",
    "    σᵤ² = exp(log_σᵤ²)\n",
    "    ϵ  = y .- α .- x*β\n",
    "    μ_star = (-σᵤ²*ϵ) / (σᵥ²+σᵤ²)\n",
    "\n",
    "    llike = 0.0\n",
    "    for i in eachindex(ϵ)\n",
    "        σ_star = (σᵥ²*σᵤ²) / (σᵥ²+σᵤ²)\n",
    "        llike += -log(0.5) - 0.5*log(σᵥ²+σᵤ²) + log(pdf(Normal(0,1), ϵ[i]/sqrt(σᵥ²+σᵤ²) )) + log(cdf(Normal(0,1), μ_star[i]/σ_star ))\n",
    "    end\n",
    "    return -llike\n",
    "end\n",
    "func = TwiceDifferentiable(vars -> NHN_mle(y, x, vars[1], vars[2:noX+1], vars[end-1], vars[end]),\n",
    "                           ones(9); autodiff = :forward)\n",
    "\n",
    "res = optimize(func, [ols; [-0.1,-0.1]], Newton(), Optim.Options(g_tol = 1e-9,iterations = 50) )    \n",
    "_coevec = Optim.minimizer(res)\n",
    "res_coeff = deepcopy(_coevec)                \n",
    "res_coeff[end] = exp(_coevec[end])          \n",
    "res_coeff[end-1] = exp(_coevec[end-1])  \n",
    " \n",
    "res8_Hessian  = Optim.hessian!(func, _coevec)  \n",
    "\n",
    "var_cov_matrix = inv(res8_Hessian)            \n",
    "stderror  = sqrt.(diag(var_cov_matrix))\n",
    "stderror[end] = res_coeff[end]*stderror[end]  \n",
    "t_stats = res_coeff ./ stderror\n",
    "res8_table = hcat(res_coeff, stderror, t_stats)\n",
    "\n",
    "println(\"The estimation table is\")\n",
    "res8_table |> display"
   ]
  },
  {
   "cell_type": "code",
   "execution_count": 9,
   "id": "95612d54",
   "metadata": {},
   "outputs": [
    {
     "data": {
      "text/plain": [
       "10×2 Matrix{Any}:\n",
       "   \"msle\"       \"mle\"\n",
       "  1.60073      1.59012\n",
       "  0.283302     0.286194\n",
       "  0.216854     0.234652\n",
       "  1.16218      1.15546\n",
       " -0.427072    -0.421433\n",
       "  0.00646413   0.0066182\n",
       "  0.0349059    0.0340904\n",
       "  0.0302617    0.191584\n",
       "  0.5354       0.0974947"
      ]
     },
     "metadata": {},
     "output_type": "display_data"
    }
   ],
   "source": [
    "coeff = hcat([\"msle\";hwk14_coeff],[\"mle\";res_coeff])\n",
    "coeff |> display"
   ]
  }
 ],
 "metadata": {
  "@webio": {
   "lastCommId": null,
   "lastKernelId": null
  },
  "kernelspec": {
   "display_name": "Julia 1.8.5",
   "language": "julia",
   "name": "julia-1.8"
  },
  "language_info": {
   "file_extension": ".jl",
   "mimetype": "application/julia",
   "name": "julia",
   "version": "1.8.5"
  },
  "toc": {
   "base_numbering": 1,
   "nav_menu": {},
   "number_sections": true,
   "sideBar": true,
   "skip_h1_title": false,
   "title_cell": "Table of Contents",
   "title_sidebar": "Contents",
   "toc_cell": false,
   "toc_position": {},
   "toc_section_display": true,
   "toc_window_display": false
  },
  "varInspector": {
   "cols": {
    "lenName": 16,
    "lenType": 16,
    "lenVar": 40
   },
   "kernels_config": {
    "python": {
     "delete_cmd_postfix": "",
     "delete_cmd_prefix": "del ",
     "library": "var_list.py",
     "varRefreshCmd": "print(var_dic_list())"
    },
    "r": {
     "delete_cmd_postfix": ") ",
     "delete_cmd_prefix": "rm(",
     "library": "var_list.r",
     "varRefreshCmd": "cat(var_dic_list()) "
    }
   },
   "types_to_exclude": [
    "module",
    "function",
    "builtin_function_or_method",
    "instance",
    "_Feature"
   ],
   "window_display": false
  }
 },
 "nbformat": 4,
 "nbformat_minor": 5
}
