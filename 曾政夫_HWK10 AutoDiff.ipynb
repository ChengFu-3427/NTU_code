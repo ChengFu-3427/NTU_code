{
 "cells": [
  {
   "cell_type": "code",
   "execution_count": 1,
   "id": "d92285c5",
   "metadata": {},
   "outputs": [
    {
     "data": {
      "application/vnd.webio.node+json": {
       "children": [],
       "instanceArgs": {
        "namespace": "html",
        "tag": "div"
       },
       "nodeType": "DOM",
       "props": {},
       "type": "node"
      },
      "text/html": [
       "<div style=\"padding: 1em; background-color: #f8d6da; border: 1px solid #f5c6cb; font-weight: bold;\">\n",
       "<p>The WebIO Jupyter extension was not detected. See the\n",
       "<a href=\"https://juliagizmos.github.io/WebIO.jl/latest/providers/ijulia/\" target=\"_blank\">\n",
       "    WebIO Jupyter integration documentation\n",
       "</a>\n",
       "for more information.\n",
       "</div>\n"
      ],
      "text/plain": [
       "WebIO._IJuliaInit()"
      ]
     },
     "metadata": {
      "application/vnd.webio.node+json": {
       "kernelId": "62155743-7c10-441c-96b8-09993df5775b"
      }
     },
     "output_type": "display_data"
    }
   ],
   "source": [
    "using Plots\n",
    "using Interact, WebIO, Plots\n",
    "using Symbolics, SymPy\n",
    "using FiniteDifferences, ForwardDiff"
   ]
  },
  {
   "cell_type": "markdown",
   "id": "d68849a7",
   "metadata": {},
   "source": [
    "# Homework\n",
    "\n",
    "This homework asks you to compute a function's derivatives using symbolic and automatic differentiation methods. Our objective function is the follows.\n",
    "\n",
    "\\begin{align}\n",
    " f(x) = \\log(x)\\times \\exp\\left[-\\frac{1}{2}\\left(\\frac{x-\\mu}{\\sigma}\\right)^2 \\right].\n",
    "\\end{align}\n",
    "\n",
    "Let's assume $\\mu=1.5$ and $\\sigma=2$. \n",
    "\n"
   ]
  },
  {
   "cell_type": "markdown",
   "id": "f3e109f3",
   "metadata": {},
   "source": [
    "## Automatic Differentiations"
   ]
  },
  {
   "cell_type": "code",
   "execution_count": 2,
   "id": "33cdc441",
   "metadata": {},
   "outputs": [
    {
     "data": {
      "text/plain": [
       "true_f_prime (generic function with 1 method)"
      ]
     },
     "execution_count": 2,
     "metadata": {},
     "output_type": "execute_result"
    }
   ],
   "source": [
    "μ = 1.5\n",
    "σ = 2\n",
    "f(x) = log(x) * exp(-0.5* ((x- μ)/ σ)^ 2)\n",
    "true_f_prime(x) = 1/x *exp(-0.5* ((x- μ)/ σ)^ 2)+log(x) * exp(-0.5* ((x- μ)/ σ)^ 2) * - ((x- μ)/ σ) * 1/σ"
   ]
  },
  {
   "cell_type": "markdown",
   "id": "42778d4a",
   "metadata": {},
   "source": [
    "### Use the Taylor expansion to derive the result of logarithms on dual numbers."
   ]
  },
  {
   "cell_type": "markdown",
   "id": "5878ce87",
   "metadata": {},
   "source": [
    "Let $f(x) = log(x)$ and so $f'(x) = \\frac{1}{x}$. For a dual number, it means $f(a+b\\epsilon) = log(a+b\\epsilon)$. Applying the Taylor expansion, we have\n",
    "\n",
    "\\begin{align}\n",
    " f(a +b\\epsilon) & = f(a) + f'(a)b\\epsilon = log(a) + \\frac{1}{a} b\\epsilon; \\\\\n",
    "\\Longrightarrow \\quad log(a+b\\epsilon) & = log(a) + \\frac{1}{a} b\\epsilon .\n",
    "\\end{align}"
   ]
  },
  {
   "cell_type": "markdown",
   "id": "0983ceaa",
   "metadata": {},
   "source": [
    "### Add methods of the division (\"/\") and logarithm (\"log()\") for dual numbers in Julia."
   ]
  },
  {
   "cell_type": "code",
   "execution_count": 3,
   "id": "26aacf3f",
   "metadata": {},
   "outputs": [
    {
     "data": {
      "text/plain": [
       "exp (generic function with 35 methods)"
      ]
     },
     "execution_count": 3,
     "metadata": {},
     "output_type": "execute_result"
    }
   ],
   "source": [
    "import Base: +, *, -, ^, exp, log, /\n",
    "\n",
    "struct DualNumber{T1, T2} <: Real   \n",
    "    re::T1                # differnt types so (Float64, Int64), etc., is possible\n",
    "    du::T2\n",
    "end\n",
    "\n",
    "+(x::DualNumber, y::DualNumber) = DualNumber(x.re + y.re, x.du + y.du)  # dual addition\n",
    "+(x::DualNumber, a::Number) = DualNumber(x.re + a, x.du)  \n",
    "+(a::Number, x::DualNumber) = DualNumber(x.re + a, x.du) \n",
    "\n",
    "-(x::DualNumber, y::DualNumber) = DualNumber(x.re - y.re, x.du - y.du)  # dual subtraction\n",
    "-(x::DualNumber, a::Number) = DualNumber(x.re - a, x.du)  \n",
    "-(a::Number, x::DualNumber) = DualNumber(a-x.re , -x.du)  \n",
    "\n",
    "*(x::DualNumber, y::DualNumber) = DualNumber(x.re*y.re, x.re*y.du + y.re*x.du)\n",
    "*(x::DualNumber, a::Number) = DualNumber(a*x.re, a*x.du)\n",
    "*(a::Number, x::DualNumber) = DualNumber(a*x.re, a*x.du)\n",
    "\n",
    "function /(x::DualNumber, y::DualNumber) \n",
    "    if y.re == 0 return println(\"denominator's re part can't be 0\")\n",
    "    else\n",
    "    return DualNumber(x.re/y.re,  (y.re*x.du - x.re*y.du)/(y.re*y.re) )\n",
    "    end\n",
    "end\n",
    "function /(x::DualNumber, a::Number) \n",
    "    if a == 0 return println(\"a can't be 0\")\n",
    "    else\n",
    "    return DualNumber((1/a)*x.re, (1/a)*x.du)\n",
    "    end\n",
    "end\n",
    "function /(a::Number, x::DualNumber) \n",
    "    if x.re == 0 return println(\"denominator's re part can't be 0\")\n",
    "    else\n",
    "    return DualNumber(a*(1/x.re), (- a*x.du)/(x.re*x.re))\n",
    "    end\n",
    "end\n",
    "    \n",
    "^(x::DualNumber, n::Union{Float64, Int64}) = DualNumber(x.re^n, n*x.re^(n-1)*x.du)  # cannot use n<:Real, since n is variable\n",
    "\n",
    "log(x::DualNumber) = DualNumber(log(x.re),(1/x.re)*x.du)\n",
    "exp(x::DualNumber) = DualNumber(exp(x.re), exp(x.re)*x.du)\n"
   ]
  },
  {
   "cell_type": "code",
   "execution_count": 9,
   "id": "858719c6",
   "metadata": {},
   "outputs": [
    {
     "data": {
      "text/latex": [
       "$\\left(0.375 - 0.25 x\\right) e^{- 0.28125 \\left(0.666666666666667 x - 1\\right)^{2}} \\log{\\left(x \\right)} + \\frac{e^{- 0.28125 \\left(0.666666666666667 x - 1\\right)^{2}}}{x}$"
      ],
      "text/plain": [
       "                                                                              \n",
       "                                                    2           -0.28125*(0.66\n",
       "                  -0.28125*(0.666666666666667*x - 1)           e              \n",
       "(0.375 - 0.25*x)*e                                   *log(x) + ---------------\n",
       "                                                                              \n",
       "\n",
       "                    2\n",
       "6666666666667*x - 1) \n",
       "                     \n",
       "---------------------\n",
       "  x                  "
      ]
     },
     "execution_count": 9,
     "metadata": {},
     "output_type": "execute_result"
    }
   ],
   "source": [
    "x = DualNumber(1.2, 1)\n",
    "@vars x \n",
    "fnt =diff(f(x),x)"
   ]
  },
  {
   "cell_type": "code",
   "execution_count": 10,
   "id": "fa0c6232",
   "metadata": {},
   "outputs": [
    {
     "data": {
      "text/latex": [
       "$0.837532015534738$"
      ],
      "text/plain": [
       "0.837532015534738"
      ]
     },
     "execution_count": 10,
     "metadata": {},
     "output_type": "execute_result"
    }
   ],
   "source": [
    "fnt(1.2)"
   ]
  },
  {
   "cell_type": "code",
   "execution_count": 5,
   "id": "7b135ca8",
   "metadata": {},
   "outputs": [
    {
     "name": "stdout",
     "output_type": "stream",
     "text": [
      "denominator's re part can't be 0\n"
     ]
    }
   ],
   "source": [
    "a=DualNumber(1.2, 1)\n",
    "b=DualNumber(0, 1)\n",
    "a/b"
   ]
  },
  {
   "cell_type": "markdown",
   "id": "acf0a477",
   "metadata": {},
   "source": [
    "### Use the dual numbers you've defined to compute the derivative of $f(x)$ at $x=1.2$."
   ]
  },
  {
   "cell_type": "code",
   "execution_count": 6,
   "id": "c4af4ee0",
   "metadata": {},
   "outputs": [
    {
     "name": "stdout",
     "output_type": "stream",
     "text": [
      "(f(x)).du = 0.8375320155347377\n"
     ]
    },
    {
     "data": {
      "text/plain": [
       "0.8375320155347377"
      ]
     },
     "execution_count": 6,
     "metadata": {},
     "output_type": "execute_result"
    }
   ],
   "source": [
    "x = DualNumber(1.2, 1)\n",
    "@show f(x).du"
   ]
  },
  {
   "cell_type": "code",
   "execution_count": 7,
   "id": "6525cb19",
   "metadata": {},
   "outputs": [
    {
     "data": {
      "text/plain": [
       "0.8375320155347377"
      ]
     },
     "execution_count": 7,
     "metadata": {},
     "output_type": "execute_result"
    }
   ],
   "source": [
    "true_f_prime(1.2)"
   ]
  },
  {
   "cell_type": "markdown",
   "id": "d114cb36",
   "metadata": {},
   "source": [
    "### Use Julia's package `ForwardDiff`, which implements the forward-mode auto differentiation, to compute the derivative of $f(x)$ at $x=1.2$."
   ]
  },
  {
   "cell_type": "code",
   "execution_count": 8,
   "id": "75434474",
   "metadata": {},
   "outputs": [
    {
     "name": "stdout",
     "output_type": "stream",
     "text": [
      "ForwardDiff.derivative(f, 1.2) = 0.8375320155347377\n"
     ]
    },
    {
     "data": {
      "text/plain": [
       "0.8375320155347377"
      ]
     },
     "execution_count": 8,
     "metadata": {},
     "output_type": "execute_result"
    }
   ],
   "source": [
    "@show ForwardDiff.derivative(f, 1.2)"
   ]
  },
  {
   "cell_type": "markdown",
   "id": "56924711",
   "metadata": {},
   "source": [
    "## Symbolic Differentiation\n",
    "\n",
    "### Use Julia's package `SymPy` to compute the analytic derivative of $f(x)$ and evaluate the result at $x=1.2$.\n",
    "- Hint: You may need to use `diff` and `subs` functions in the package.\n",
    "- Remark: I intended to use `Symbolics` but find it less straightforward. You might give it a try."
   ]
  },
  {
   "cell_type": "code",
   "execution_count": 9,
   "id": "aa1bdd51",
   "metadata": {},
   "outputs": [
    {
     "data": {
      "text/latex": [
       "$$ \\begin{equation}\n",
       "\\log\\left( x \\right) e^{ - 0.125 \\left( -1.5 + x \\right)^{2}}\n",
       "\\end{equation}\n",
       " $$"
      ],
      "text/plain": [
       "log(x)*exp(-0.125((x - 1.5)^2))"
      ]
     },
     "execution_count": 9,
     "metadata": {},
     "output_type": "execute_result"
    }
   ],
   "source": [
    "@variables x\n",
    "f(x)"
   ]
  },
  {
   "cell_type": "code",
   "execution_count": 34,
   "id": "306532db",
   "metadata": {},
   "outputs": [
    {
     "data": {
      "text/latex": [
       "$0.837532015534738$"
      ],
      "text/plain": [
       "0.837532015534738"
      ]
     },
     "execution_count": 34,
     "metadata": {},
     "output_type": "execute_result"
    }
   ],
   "source": [
    "fnt(1.2)"
   ]
  },
  {
   "cell_type": "code",
   "execution_count": 8,
   "id": "7d5a0cf7",
   "metadata": {},
   "outputs": [
    {
     "data": {
      "text/latex": [
       "$$ \\begin{equation}\n",
       "\\frac{e^{ - 0.125 \\left( -1.5 + x \\right)^{2}}}{x} - 0.25 \\left( -1.5 + x \\right) \\log\\left( x \\right) e^{ - 0.125 \\left( -1.5 + x \\right)^{2}}\n",
       "\\end{equation}\n",
       " $$"
      ],
      "text/plain": [
       "exp(-0.125((x - 1.5)^2)) / x - 0.25(x - 1.5)*log(x)*exp(-0.125((x - 1.5)^2))"
      ]
     },
     "metadata": {},
     "output_type": "display_data"
    }
   ],
   "source": [
    "fprime(x) = Symbolics.derivative(f(x),x) \n",
    "fprime(x)|> display"
   ]
  },
  {
   "cell_type": "code",
   "execution_count": 9,
   "id": "5f0bb70a",
   "metadata": {},
   "outputs": [
    {
     "data": {
      "text/latex": [
       "$$ \\begin{equation}\n",
       "0.83753\n",
       "\\end{equation}\n",
       " $$"
      ],
      "text/plain": [
       "0.8375320155347377"
      ]
     },
     "execution_count": 9,
     "metadata": {},
     "output_type": "execute_result"
    }
   ],
   "source": [
    "fp = Symbolics.simplify(fprime(x))\n",
    "V = substitute.(fp, x => 1.2)"
   ]
  }
 ],
 "metadata": {
  "@webio": {
   "lastCommId": "ccba5407e6d144248d04ef15635af9e9",
   "lastKernelId": "62155743-7c10-441c-96b8-09993df5775b"
  },
  "kernelspec": {
   "display_name": "Julia 1.8.5",
   "language": "julia",
   "name": "julia-1.8"
  },
  "language_info": {
   "file_extension": ".jl",
   "mimetype": "application/julia",
   "name": "julia",
   "version": "1.8.5"
  },
  "toc": {
   "base_numbering": 1,
   "nav_menu": {},
   "number_sections": true,
   "sideBar": true,
   "skip_h1_title": false,
   "title_cell": "Table of Contents",
   "title_sidebar": "Contents",
   "toc_cell": false,
   "toc_position": {},
   "toc_section_display": true,
   "toc_window_display": false
  },
  "varInspector": {
   "cols": {
    "lenName": 16,
    "lenType": 16,
    "lenVar": 40
   },
   "kernels_config": {
    "python": {
     "delete_cmd_postfix": "",
     "delete_cmd_prefix": "del ",
     "library": "var_list.py",
     "varRefreshCmd": "print(var_dic_list())"
    },
    "r": {
     "delete_cmd_postfix": ") ",
     "delete_cmd_prefix": "rm(",
     "library": "var_list.r",
     "varRefreshCmd": "cat(var_dic_list()) "
    }
   },
   "types_to_exclude": [
    "module",
    "function",
    "builtin_function_or_method",
    "instance",
    "_Feature"
   ],
   "window_display": false
  }
 },
 "nbformat": 4,
 "nbformat_minor": 5
}
