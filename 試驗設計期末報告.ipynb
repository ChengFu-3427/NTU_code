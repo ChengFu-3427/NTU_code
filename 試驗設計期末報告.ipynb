{
 "cells": [
  {
   "cell_type": "code",
   "execution_count": 1,
   "id": "e81d4fcb",
   "metadata": {},
   "outputs": [],
   "source": [
    "library(\"readxl\")\n",
    "setwd(\"C:/Users/User/Desktop/試驗設計期末/insect data\")\n",
    "MySheet <- read_excel(\"ecologydata3.xls\",sheet = \"Data\")\n",
    "data0 <- data.frame(MySheet)\n",
    "names(data0) <- c(\"day\",\"r\",\"time\",\"temp\",\"plant\",\"insect\",\"rtus\")\n",
    "data0$temp <- as.factor(data0$temp)\n",
    "data0$time <- as.factor(data0$time)\n",
    "data0$day <- as.factor(data0$day)\n",
    "data0$plant <- as.factor(data0$plant)"
   ]
  },
  {
   "cell_type": "code",
   "execution_count": 8,
   "id": "1d317a33",
   "metadata": {},
   "outputs": [
    {
     "data": {
      "text/plain": [
       "\n",
       "Call:\n",
       "lm(formula = insect ~ temp + time + plant, data = data0)\n",
       "\n",
       "Residuals:\n",
       "    Min      1Q  Median      3Q     Max \n",
       "-2.0286 -0.8655 -0.2571  0.3512  8.0952 \n",
       "\n",
       "Coefficients:\n",
       "            Estimate Std. Error t value Pr(>|t|)  \n",
       "(Intercept)   0.8667     0.3744   2.315   0.0216 *\n",
       "temp12       -0.2333     0.3679  -0.634   0.5266  \n",
       "temp13        0.9333     0.3679   2.537   0.0119 *\n",
       "temp17       -0.5333     0.3679  -1.450   0.1487  \n",
       "temp19       -0.1667     0.3679  -0.453   0.6510  \n",
       "temp20       -0.1333     0.3679  -0.362   0.7174  \n",
       "temp22        0.2000     0.3679   0.544   0.5873  \n",
       "timenight    -0.0381     0.1966  -0.194   0.8466  \n",
       "plant3        0.1429     0.3010   0.475   0.6356  \n",
       "plant4        0.2286     0.3186   0.717   0.4739  \n",
       "---\n",
       "Signif. codes:  0 '***' 0.001 '**' 0.01 '*' 0.05 '.' 0.1 ' ' 1\n",
       "\n",
       "Residual standard error: 1.425 on 200 degrees of freedom\n",
       "Multiple R-squared:  0.08967,\tAdjusted R-squared:  0.0487 \n",
       "F-statistic: 2.189 on 9 and 200 DF,  p-value: 0.02424\n"
      ]
     },
     "metadata": {},
     "output_type": "display_data"
    }
   ],
   "source": [
    "mod0 <- lm(insect~temp+time+plant,data0)\n",
    "summary(mod0)"
   ]
  },
  {
   "cell_type": "code",
   "execution_count": 161,
   "id": "bd1d878c",
   "metadata": {},
   "outputs": [
    {
     "data": {
      "text/plain": [
       "\n",
       "Call:\n",
       "lm(formula = rtus ~ time + temp + plant, data = data0)\n",
       "\n",
       "Residuals:\n",
       "     Min       1Q   Median       3Q      Max \n",
       "-1.31429 -0.63646  0.08571  0.40179  2.36845 \n",
       "\n",
       "Coefficients:\n",
       "              Estimate Std. Error t value Pr(>|t|)   \n",
       "(Intercept)  6.048e-01  2.149e-01   2.814  0.00539 **\n",
       "timenight   -2.006e-17  1.129e-01   0.000  1.00000   \n",
       "temp12       3.333e-02  2.112e-01   0.158  0.87476   \n",
       "temp13       6.667e-01  2.112e-01   3.156  0.00184 **\n",
       "temp17      -2.000e-01  2.112e-01  -0.947  0.34482   \n",
       "temp19      -3.333e-02  2.112e-01  -0.158  0.87476   \n",
       "temp20       3.333e-02  2.112e-01   0.158  0.87476   \n",
       "temp22       2.667e-01  2.112e-01   1.263  0.20822   \n",
       "plant3       2.679e-02  1.728e-01   0.155  0.87700   \n",
       "plant4       4.286e-02  1.829e-01   0.234  0.81499   \n",
       "---\n",
       "Signif. codes:  0 '***' 0.001 '**' 0.01 '*' 0.05 '.' 0.1 ' ' 1\n",
       "\n",
       "Residual standard error: 0.818 on 200 degrees of freedom\n",
       "Multiple R-squared:  0.09645,\tAdjusted R-squared:  0.05579 \n",
       "F-statistic: 2.372 on 9 and 200 DF,  p-value: 0.01438\n"
      ]
     },
     "metadata": {},
     "output_type": "display_data"
    }
   ],
   "source": [
    "mod0 <- lm(rtus~time+temp+plant,data0)\n",
    "summary(mod0)"
   ]
  },
  {
   "cell_type": "code",
   "execution_count": 163,
   "id": "7526c8e5",
   "metadata": {},
   "outputs": [
    {
     "data": {
      "text/plain": [
       "                   Df Sum Sq Mean Sq F value  Pr(>F)   \n",
       "plant               2    1.1   0.533   0.263 0.76921   \n",
       "time                1    0.1   0.076   0.038 0.84658   \n",
       "temp                6   38.8   6.475   3.190 0.00519 **\n",
       "  temp: linear      1    0.1   0.096   0.048 0.82769   \n",
       "  temp: quadratic   1    0.2   0.248   0.122 0.72705   \n",
       "  temp: cubic       1    7.2   7.200   3.547 0.06111 . \n",
       "  temp: quartic     1    0.1   0.105   0.052 0.82052   \n",
       "  temp: ^5          1   11.6  11.604   5.716 0.01774 * \n",
       "  temp: ^6          1   19.6  19.595   9.653 0.00217 **\n",
       "Residuals         200  406.0   2.030                   \n",
       "---\n",
       "Signif. codes:  0 '***' 0.001 '**' 0.01 '*' 0.05 '.' 0.1 ' ' 1"
      ]
     },
     "metadata": {},
     "output_type": "display_data"
    }
   ],
   "source": [
    "contrastmatrix<-contr.poly(7)\n",
    "contrasts(data0$temp)<-contrastmatrix\n",
    "mod1<-aov(insect~plant+time+temp,data0)\n",
    "summary(mod1, split = list(temp= \n",
    "list(\"linear\" = 1, \"quadratic\" = 2,\"cubic\"=3,\"quartic\"=4,\"^5\"=5,\"^6\"=6)))"
   ]
  },
  {
   "cell_type": "code",
   "execution_count": 164,
   "id": "584a4376",
   "metadata": {},
   "outputs": [
    {
     "data": {
      "text/plain": [
       "                   Df Sum Sq Mean Sq F value  Pr(>F)   \n",
       "plant               2   0.04   0.019   0.028 0.97237   \n",
       "time                1   0.00   0.000   0.000 1.00000   \n",
       "temp                6  14.25   2.375   3.549 0.00232 **\n",
       "  temp: linear      1   0.01   0.011   0.016 0.89943   \n",
       "  temp: quadratic   1   0.02   0.019   0.029 0.86482   \n",
       "  temp: cubic       1   4.67   4.672   6.982 0.00888 **\n",
       "  temp: quartic     1   0.01   0.011   0.016 0.89994   \n",
       "  temp: ^5          1   3.73   3.734   5.580 0.01913 * \n",
       "  temp: ^6          1   5.80   5.801   8.669 0.00362 **\n",
       "Residuals         200 133.83   0.669                   \n",
       "---\n",
       "Signif. codes:  0 '***' 0.001 '**' 0.01 '*' 0.05 '.' 0.1 ' ' 1"
      ]
     },
     "metadata": {},
     "output_type": "display_data"
    }
   ],
   "source": [
    "contrastmatrix<-contr.poly(7)\n",
    "contrasts(data0$temp)<-contrastmatrix\n",
    "mod1<-aov(rtus~plant+time+temp,data0)\n",
    "summary(mod1, split = list(temp= \n",
    "list(\"linear\" = 1, \"quadratic\" = 2,\"cubic\"=3,\"quartic\"=4,\"^5\"=5,\"^6\"=6)))"
   ]
  },
  {
   "cell_type": "markdown",
   "id": "7db9dd62",
   "metadata": {},
   "source": [
    "plant trend"
   ]
  },
  {
   "cell_type": "code",
   "execution_count": 149,
   "id": "0c58ffd9",
   "metadata": {},
   "outputs": [],
   "source": [
    "u1 <- c(1,1,1,1,1,1,1,1,1,1,1,1,1,1,1)/sqrt(15)\n",
    "u2 <- c(-1.2,-1.2,-0.2,-0.2,-0.2,-0.2,-0.2,-0.2,-0.2,-0.2,0.8,0.8,0.8,0.8,0.8)/sqrt(6.4) \n",
    "v3 <- c(1.44,1.44,0.04,0.04,0.04,0.04,0.04,0.04,0.04,0.04,0.64,0.64,0.64,0.64,0.64)"
   ]
  },
  {
   "cell_type": "code",
   "execution_count": 150,
   "id": "d5071644",
   "metadata": {},
   "outputs": [
    {
     "name": "stderr",
     "output_type": "stream",
     "text": [
      "Warning message in (v3 %*% u2) * u2:\n",
      "\"Recycling array of length 1 in array-vector arithmetic is deprecated.\n",
      "  Use c() or as.vector() instead.\n",
      "\"Warning message in (v3 %*% u1) * u1:\n",
      "\"Recycling array of length 1 in array-vector arithmetic is deprecated.\n",
      "  Use c() or as.vector() instead.\n",
      "\"Warning message in (v3 %*% u1) * u1/(v3 %*% v3):\n",
      "\"Recycling array of length 1 in vector-array arithmetic is deprecated.\n",
      "  Use c() or as.vector() instead.\n",
      "\""
     ]
    }
   ],
   "source": [
    "u3 <- v3-(v3%*%u2)*u2-(v3%*%u1)*u1/(v3%*%v3)"
   ]
  },
  {
   "cell_type": "code",
   "execution_count": 194,
   "id": "2a9e3f8f",
   "metadata": {},
   "outputs": [
    {
     "data": {
      "text/plain": [
       "\n",
       "Call:\n",
       "aov(formula = insect ~ time + plant * temp, data = data0)\n",
       "\n",
       "Residuals:\n",
       "   Min     1Q Median     3Q    Max \n",
       "-2.457 -0.781 -0.269  0.394  7.582 \n",
       "\n",
       "Coefficients:\n",
       "               Estimate Std. Error t value Pr(>|t|)    \n",
       "(Intercept)    1.038798   0.157608   6.591 4.28e-10 ***\n",
       "timenight     -0.038095   0.196376  -0.194 0.846392    \n",
       "plant1         0.271052   0.380281   0.713 0.476873    \n",
       "plant2        -0.028571   0.208289  -0.137 0.891041    \n",
       "temp.L        -0.092208   0.326183  -0.283 0.777727    \n",
       "temp.Q        -0.218581   0.326183  -0.670 0.503605    \n",
       "temp.C         0.440580   0.326183   1.351 0.178410    \n",
       "temp^4        -0.001838   0.326183  -0.006 0.995510    \n",
       "temp^5        -0.744942   0.326183  -2.284 0.023500 *  \n",
       "temp^6         1.181461   0.326183   3.622 0.000376 ***\n",
       "plant1:temp.L -0.642435   1.006130  -0.639 0.523911    \n",
       "plant2:temp.L  0.099216   0.551080   0.180 0.857316    \n",
       "plant1:temp.Q  0.733195   1.006130   0.729 0.467075    \n",
       "plant2:temp.Q  0.864688   0.551080   1.569 0.118311    \n",
       "plant1:temp.C -1.952629   1.006130  -1.941 0.053786 .  \n",
       "plant2:temp.C  0.137784   0.551080   0.250 0.802841    \n",
       "plant1:temp^4 -0.723062   1.006130  -0.719 0.473245    \n",
       "plant2:temp^4  0.170230   0.551080   0.309 0.757738    \n",
       "plant1:temp^5  0.500298   1.006130   0.497 0.619594    \n",
       "plant2:temp^5  0.343693   0.551080   0.624 0.533599    \n",
       "plant1:temp^6 -0.665800   1.006130  -0.662 0.508946    \n",
       "plant2:temp^6 -1.042853   0.551080  -1.892 0.059977 .  \n",
       "---\n",
       "Signif. codes:  0 '***' 0.001 '**' 0.01 '*' 0.05 '.' 0.1 ' ' 1\n",
       "\n",
       "Residual standard error: 1.423 on 188 degrees of freedom\n",
       "Multiple R-squared:  0.1465,\tAdjusted R-squared:  0.05121 \n",
       "F-statistic: 1.537 on 21 and 188 DF,  p-value: 0.0694\n"
      ]
     },
     "metadata": {},
     "output_type": "display_data"
    }
   ],
   "source": [
    "contrastmatrix<-cbind(c(-0.474341649025257,-0.0790569415042095,0.316227766016838),\n",
    "                      c(1.19127147766323,-0.0587285223367697,0.69127147766323))\n",
    "contrasts(data0$plant)<-contrastmatrix\n",
    "mod2<-aov(insect~time+plant*temp,data0)\n",
    "summary.lm(mod2)"
   ]
  },
  {
   "cell_type": "code",
   "execution_count": 188,
   "id": "794b2119",
   "metadata": {},
   "outputs": [
    {
     "data": {
      "image/png": "[encoded data removed]",
      "text/plain": [
       "Plot with title \"Histogram of resid(mod2)\""
      ]
     },
     "metadata": {},
     "output_type": "display_data"
    }
   ],
   "source": [
    "hist(resid(mod2))"
   ]
  },
  {
   "cell_type": "code",
   "execution_count": 193,
   "id": "8606952b",
   "metadata": {},
   "outputs": [
    {
     "data": {
      "text/plain": [
       "\n",
       "Call:\n",
       "aov(formula = rtus ~ time + plant * temp, data = data0)\n",
       "\n",
       "Residuals:\n",
       "   Min     1Q Median     3Q    Max \n",
       "-1.625 -0.625  0.000  0.375  2.375 \n",
       "\n",
       "Coefficients:\n",
       "                Estimate Std. Error t value Pr(>|t|)    \n",
       "(Intercept)    7.448e-01  8.960e-02   8.312 1.84e-14 ***\n",
       "timenight      3.568e-17  1.116e-01   0.000 1.000000    \n",
       "plant1         5.082e-02  2.162e-01   0.235 0.814400    \n",
       "plant2        -5.357e-03  1.184e-01  -0.045 0.963963    \n",
       "temp.L        -5.974e-02  1.854e-01  -0.322 0.747695    \n",
       "temp.Q        -1.361e-01  1.854e-01  -0.734 0.463797    \n",
       "temp.C         2.759e-01  1.854e-01   1.488 0.138445    \n",
       "temp^4        -9.848e-02  1.854e-01  -0.531 0.595980    \n",
       "temp^5        -4.636e-01  1.854e-01  -2.500 0.013271 *  \n",
       "temp^6         7.225e-01  1.854e-01   3.896 0.000136 ***\n",
       "plant1:temp.L  1.270e-01  5.720e-01   0.222 0.824536    \n",
       "plant2:temp.L  2.197e-01  3.133e-01   0.701 0.484014    \n",
       "plant1:temp.Q  9.920e-02  5.720e-01   0.173 0.862502    \n",
       "plant2:temp.Q  4.514e-01  3.133e-01   1.441 0.151255    \n",
       "plant1:temp.C -9.521e-01  5.720e-01  -1.665 0.097662 .  \n",
       "plant2:temp.C  3.317e-01  3.133e-01   1.059 0.291058    \n",
       "plant1:temp^4 -4.555e-01  5.720e-01  -0.796 0.426832    \n",
       "plant2:temp^4  2.226e-01  3.133e-01   0.711 0.478238    \n",
       "plant1:temp^5  5.477e-01  5.720e-01   0.958 0.339484    \n",
       "plant2:temp^5  3.096e-01  3.133e-01   0.988 0.324314    \n",
       "plant1:temp^6 -4.434e-01  5.720e-01  -0.775 0.439160    \n",
       "plant2:temp^6 -7.900e-01  3.133e-01  -2.522 0.012516 *  \n",
       "---\n",
       "Signif. codes:  0 '***' 0.001 '**' 0.01 '*' 0.05 '.' 0.1 ' ' 1\n",
       "\n",
       "Residual standard error: 0.8089 on 188 degrees of freedom\n",
       "Multiple R-squared:  0.1695,\tAdjusted R-squared:  0.0767 \n",
       "F-statistic: 1.827 on 21 and 188 DF,  p-value: 0.01855\n"
      ]
     },
     "metadata": {},
     "output_type": "display_data"
    }
   ],
   "source": [
    "mod2<-aov(rtus~time+plant*temp,data0)\n",
    "summary.lm(mod2)"
   ]
  },
  {
   "cell_type": "code",
   "execution_count": 74,
   "id": "7b6c7c51",
   "metadata": {},
   "outputs": [
    {
     "data": {
      "text/html": [
       "<table>\n",
       "<thead><tr><th></th><th scope=col>.L</th><th scope=col>.Q</th></tr></thead>\n",
       "<tbody>\n",
       "\t<tr><th scope=row>2</th><td>-7.071068e-01</td><td> 0.4082483   </td></tr>\n",
       "\t<tr><th scope=row>3</th><td>-7.850462e-17</td><td>-0.8164966   </td></tr>\n",
       "\t<tr><th scope=row>4</th><td> 7.071068e-01</td><td> 0.4082483   </td></tr>\n",
       "</tbody>\n",
       "</table>\n"
      ],
      "text/latex": [
       "\\begin{tabular}{r|ll}\n",
       "  & .L & .Q\\\\\n",
       "\\hline\n",
       "\t2 & -7.071068e-01 &  0.4082483   \\\\\n",
       "\t3 & -7.850462e-17 & -0.8164966   \\\\\n",
       "\t4 &  7.071068e-01 &  0.4082483   \\\\\n",
       "\\end{tabular}\n"
      ],
      "text/markdown": [
       "\n",
       "| <!--/--> | .L | .Q |\n",
       "|---|---|---|\n",
       "| 2 | -7.071068e-01 |  0.4082483    |\n",
       "| 3 | -7.850462e-17 | -0.8164966    |\n",
       "| 4 |  7.071068e-01 |  0.4082483    |\n",
       "\n"
      ],
      "text/plain": [
       "  .L            .Q        \n",
       "2 -7.071068e-01  0.4082483\n",
       "3 -7.850462e-17 -0.8164966\n",
       "4  7.071068e-01  0.4082483"
      ]
     },
     "metadata": {},
     "output_type": "display_data"
    }
   ],
   "source": [
    "contrasts(data0$plant)"
   ]
  },
  {
   "cell_type": "markdown",
   "id": "ef4b1670",
   "metadata": {},
   "source": [
    "---"
   ]
  },
  {
   "cell_type": "code",
   "execution_count": 39,
   "id": "d99784c2",
   "metadata": {},
   "outputs": [
    {
     "data": {
      "text/html": [
       "<table>\n",
       "<thead><tr><th scope=col>day</th><th scope=col>time</th><th scope=col>temp</th><th scope=col>insect</th></tr></thead>\n",
       "<tbody>\n",
       "\t<tr><td>1     </td><td>night </td><td>19    </td><td>10    </td></tr>\n",
       "\t<tr><td>1     </td><td>moring</td><td>19    </td><td>15    </td></tr>\n",
       "\t<tr><td>2     </td><td>night </td><td>20    </td><td>18    </td></tr>\n",
       "\t<tr><td>2     </td><td>moring</td><td>20    </td><td> 8    </td></tr>\n",
       "\t<tr><td>3     </td><td>night </td><td>17    </td><td>11    </td></tr>\n",
       "\t<tr><td>3     </td><td>moring</td><td>17    </td><td> 3    </td></tr>\n",
       "\t<tr><td>4     </td><td>night </td><td>13    </td><td>32    </td></tr>\n",
       "\t<tr><td>4     </td><td>moring</td><td>13    </td><td>26    </td></tr>\n",
       "\t<tr><td>5     </td><td>night </td><td>10    </td><td> 7    </td></tr>\n",
       "\t<tr><td>5     </td><td>moring</td><td>10    </td><td>11    </td></tr>\n",
       "\t<tr><td>6     </td><td>night </td><td>12    </td><td> 7    </td></tr>\n",
       "\t<tr><td>6     </td><td>moring</td><td>12    </td><td>16    </td></tr>\n",
       "\t<tr><td>7     </td><td>night </td><td>22    </td><td>19    </td></tr>\n",
       "\t<tr><td>7     </td><td>moring</td><td>22    </td><td>17    </td></tr>\n",
       "</tbody>\n",
       "</table>\n"
      ],
      "text/latex": [
       "\\begin{tabular}{r|llll}\n",
       " day & time & temp & insect\\\\\n",
       "\\hline\n",
       "\t 1      & night  & 19     & 10    \\\\\n",
       "\t 1      & moring & 19     & 15    \\\\\n",
       "\t 2      & night  & 20     & 18    \\\\\n",
       "\t 2      & moring & 20     &  8    \\\\\n",
       "\t 3      & night  & 17     & 11    \\\\\n",
       "\t 3      & moring & 17     &  3    \\\\\n",
       "\t 4      & night  & 13     & 32    \\\\\n",
       "\t 4      & moring & 13     & 26    \\\\\n",
       "\t 5      & night  & 10     &  7    \\\\\n",
       "\t 5      & moring & 10     & 11    \\\\\n",
       "\t 6      & night  & 12     &  7    \\\\\n",
       "\t 6      & moring & 12     & 16    \\\\\n",
       "\t 7      & night  & 22     & 19    \\\\\n",
       "\t 7      & moring & 22     & 17    \\\\\n",
       "\\end{tabular}\n"
      ],
      "text/markdown": [
       "\n",
       "| day | time | temp | insect |\n",
       "|---|---|---|---|\n",
       "| 1      | night  | 19     | 10     |\n",
       "| 1      | moring | 19     | 15     |\n",
       "| 2      | night  | 20     | 18     |\n",
       "| 2      | moring | 20     |  8     |\n",
       "| 3      | night  | 17     | 11     |\n",
       "| 3      | moring | 17     |  3     |\n",
       "| 4      | night  | 13     | 32     |\n",
       "| 4      | moring | 13     | 26     |\n",
       "| 5      | night  | 10     |  7     |\n",
       "| 5      | moring | 10     | 11     |\n",
       "| 6      | night  | 12     |  7     |\n",
       "| 6      | moring | 12     | 16     |\n",
       "| 7      | night  | 22     | 19     |\n",
       "| 7      | moring | 22     | 17     |\n",
       "\n"
      ],
      "text/plain": [
       "   day time   temp insect\n",
       "1  1   night  19   10    \n",
       "2  1   moring 19   15    \n",
       "3  2   night  20   18    \n",
       "4  2   moring 20    8    \n",
       "5  3   night  17   11    \n",
       "6  3   moring 17    3    \n",
       "7  4   night  13   32    \n",
       "8  4   moring 13   26    \n",
       "9  5   night  10    7    \n",
       "10 5   moring 10   11    \n",
       "11 6   night  12    7    \n",
       "12 6   moring 12   16    \n",
       "13 7   night  22   19    \n",
       "14 7   moring 22   17    "
      ]
     },
     "metadata": {},
     "output_type": "display_data"
    }
   ],
   "source": [
    "library(\"readxl\")\n",
    "setwd(\"C:/Users/User/Desktop/試驗設計期末/insect data\")\n",
    "MySheet <- read_excel(\"ecologydata3.xls\",sheet = \"Data2\")\n",
    "data <- data.frame(MySheet)\n",
    "data"
   ]
  },
  {
   "cell_type": "code",
   "execution_count": 40,
   "id": "2a4f6d45",
   "metadata": {},
   "outputs": [
    {
     "data": {
      "image/png": "[encoded data removed]",
      "text/plain": [
       "Plot with title \"Histogram of data$insect\""
      ]
     },
     "metadata": {},
     "output_type": "display_data"
    }
   ],
   "source": [
    "hist(data$insect)"
   ]
  },
  {
   "cell_type": "code",
   "execution_count": 14,
   "id": "a3efb5c7",
   "metadata": {},
   "outputs": [
    {
     "data": {
      "text/plain": [
       "\n",
       "Call:\n",
       "lm(formula = insect ~ day + factor(time) + factor(temp), data = data)\n",
       "\n",
       "Residuals:\n",
       "   Min     1Q Median     3Q    Max \n",
       "-5.071 -2.946  0.000  2.946  5.071 \n",
       "\n",
       "Coefficients: (1 not defined because of singularities)\n",
       "                  Estimate Std. Error t value Pr(>|t|)  \n",
       "(Intercept)        -14.071     15.689  -0.897   0.4043  \n",
       "day                  4.500      2.569   1.751   0.1304  \n",
       "factor(time)night    1.143      2.747   0.416   0.6918  \n",
       "factor(temp)12      -2.000      4.450  -0.449   0.6689  \n",
       "factor(temp)13      24.500      6.798   3.604   0.0113 *\n",
       "factor(temp)17       7.000      8.900   0.786   0.4615  \n",
       "factor(temp)19      21.500     13.595   1.581   0.1649  \n",
       "factor(temp)20      17.500     11.199   1.563   0.1692  \n",
       "factor(temp)22          NA         NA      NA       NA  \n",
       "---\n",
       "Signif. codes:  0 '***' 0.001 '**' 0.01 '*' 0.05 '.' 0.1 ' ' 1\n",
       "\n",
       "Residual standard error: 5.139 on 6 degrees of freedom\n",
       "Multiple R-squared:  0.8046,\tAdjusted R-squared:  0.5767 \n",
       "F-statistic:  3.53 on 7 and 6 DF,  p-value: 0.07273\n"
      ]
     },
     "metadata": {},
     "output_type": "display_data"
    }
   ],
   "source": [
    "mod1 <- lm(insect~factor(time)+factor(temp),data)\n",
    "summary(mod1)"
   ]
  },
  {
   "cell_type": "code",
   "execution_count": 29,
   "id": "48c9feaf",
   "metadata": {},
   "outputs": [
    {
     "data": {
      "text/plain": [
       "                  Df Sum Sq Mean Sq F value Pr(>F)  \n",
       "time               1    4.6    4.57   0.173 0.6918  \n",
       "temp               6  647.9  107.98   4.089 0.0553 .\n",
       "  temp: linear     1   13.0   13.02   0.493 0.5089  \n",
       "  temp: quadratic  1    7.3    7.29   0.276 0.6181  \n",
       "  temp: cubic      1  192.0  192.00   7.271 0.0357 *\n",
       "  temp: quartic    1    0.6    0.64   0.024 0.8817  \n",
       "  temp: ^5         1  150.5  150.48   5.699 0.0542 .\n",
       "  temp: ^6         1  284.4  284.43  10.772 0.0168 *\n",
       "Residuals          6  158.4   26.40                 \n",
       "---\n",
       "Signif. codes:  0 '***' 0.001 '**' 0.01 '*' 0.05 '.' 0.1 ' ' 1"
      ]
     },
     "metadata": {},
     "output_type": "display_data"
    }
   ],
   "source": [
    "data$temp <- as.factor(data$temp)\n",
    "data$time <- as.factor(data$time)\n",
    "data$day <- as.factor(data$day)\n",
    "contrastmatrix<-contr.poly(7)\n",
    "contrasts(data$temp)<-contrastmatrix\n",
    "mod<-aov(insect~time+temp,data)\n",
    "summary(mod, split = list(temp= list(\"linear\" = 1, \"quadratic\" = 2,\"cubic\"=3,\"quartic\"=4,\"^5\"=5,\"^6\"=6)))"
   ]
  },
  {
   "cell_type": "markdown",
   "id": "545dbc9d",
   "metadata": {},
   "source": [
    "---"
   ]
  },
  {
   "cell_type": "code",
   "execution_count": 27,
   "id": "011a2932",
   "metadata": {},
   "outputs": [
    {
     "data": {
      "image/png": "[encoded data removed]",
      "text/plain": [
       "Plot with title \"Histogram of log(data$insect)\""
      ]
     },
     "metadata": {},
     "output_type": "display_data"
    }
   ],
   "source": [
    "hist(log(data$insect))"
   ]
  },
  {
   "cell_type": "code",
   "execution_count": 41,
   "id": "b2702995",
   "metadata": {},
   "outputs": [
    {
     "data": {
      "text/plain": [
       "\n",
       "Call:\n",
       "lm(formula = log(insect) ~ factor(time) + factor(temp), data = data)\n",
       "\n",
       "Residuals:\n",
       "    Min      1Q  Median      3Q     Max \n",
       "-0.5964 -0.2734  0.0000  0.2734  0.5964 \n",
       "\n",
       "Coefficients:\n",
       "                  Estimate Std. Error t value Pr(>|t|)   \n",
       "(Intercept)         2.1187     0.4008   5.286  0.00186 **\n",
       "factor(time)night   0.1064     0.2834   0.375  0.72022   \n",
       "factor(temp)12      0.1873     0.5303   0.353  0.73593   \n",
       "factor(temp)13      1.1900     0.5303   2.244  0.06596 . \n",
       "factor(temp)17     -0.4236     0.5303  -0.799  0.45477   \n",
       "factor(temp)19      0.3334     0.5303   0.629  0.55266   \n",
       "factor(temp)20      0.3130     0.5303   0.590  0.57654   \n",
       "factor(temp)22      0.7169     0.5303   1.352  0.22510   \n",
       "---\n",
       "Signif. codes:  0 '***' 0.001 '**' 0.01 '*' 0.05 '.' 0.1 ' ' 1\n",
       "\n",
       "Residual standard error: 0.5303 on 6 degrees of freedom\n",
       "Multiple R-squared:  0.6557,\tAdjusted R-squared:  0.2541 \n",
       "F-statistic: 1.633 on 7 and 6 DF,  p-value: 0.2835\n"
      ]
     },
     "metadata": {},
     "output_type": "display_data"
    }
   ],
   "source": [
    "mod1 <- lm(log(insect)~factor(time)+factor(temp),data)\n",
    "summary(mod1)"
   ]
  },
  {
   "cell_type": "code",
   "execution_count": 43,
   "id": "06d1165b",
   "metadata": {},
   "outputs": [
    {
     "data": {
      "text/plain": [
       "                  Df Sum Sq Mean Sq F value Pr(>F)  \n",
       "time               1  0.040  0.0396   0.141 0.7202  \n",
       "temp               6  3.174  0.5290   1.881 0.2306  \n",
       "  temp: linear     1  0.171  0.1706   0.607 0.4656  \n",
       "  temp: quadratic  1  0.012  0.0120   0.043 0.8434  \n",
       "  temp: cubic      1  0.699  0.6988   2.485 0.1660  \n",
       "  temp: quartic    1  0.073  0.0730   0.259 0.6287  \n",
       "  temp: ^5         1  0.394  0.3942   1.402 0.2812  \n",
       "  temp: ^6         1  1.825  1.8253   6.492 0.0436 *\n",
       "Residuals          6  1.687  0.2812                 \n",
       "---\n",
       "Signif. codes:  0 '***' 0.001 '**' 0.01 '*' 0.05 '.' 0.1 ' ' 1"
      ]
     },
     "metadata": {},
     "output_type": "display_data"
    }
   ],
   "source": [
    "data$temp <- as.factor(data$temp)\n",
    "data$time <- as.factor(data$time)\n",
    "data$day <- as.factor(data$day)\n",
    "contrastmatrix<-contr.poly(7)\n",
    "contrasts(data$temp)<-contrastmatrix\n",
    "mod1<-aov(log(insect)~time+temp,data)\n",
    "summary(mod1, split = list(temp= list(\"linear\" = 1, \"quadratic\" = 2,\"cubic\"=3,\"quartic\"=4,\"^5\"=5,\"^6\"=6)))"
   ]
  },
  {
   "cell_type": "markdown",
   "id": "2bfe1b12",
   "metadata": {},
   "source": [
    "---"
   ]
  },
  {
   "cell_type": "code",
   "execution_count": 232,
   "id": "30979002",
   "metadata": {},
   "outputs": [
    {
     "data": {
      "text/html": [
       "<table>\n",
       "<thead><tr><th scope=col>L</th><th scope=col>color</th><th scope=col>pan_n</th><th scope=col>y</th><th scope=col>insect</th><th scope=col>rtus</th></tr></thead>\n",
       "<tbody>\n",
       "\t<tr><td>1      </td><td>1white </td><td>1      </td><td>0      </td><td> 1     </td><td>1      </td></tr>\n",
       "\t<tr><td>1      </td><td>1white </td><td>2      </td><td>0      </td><td> 3     </td><td>1      </td></tr>\n",
       "\t<tr><td>1      </td><td>2Blue  </td><td>1      </td><td>0      </td><td> 1     </td><td>1      </td></tr>\n",
       "\t<tr><td>1      </td><td>2Blue  </td><td>2      </td><td>0      </td><td> 1     </td><td>1      </td></tr>\n",
       "\t<tr><td>1      </td><td>3Yellow</td><td>1      </td><td>1      </td><td> 4     </td><td>3      </td></tr>\n",
       "\t<tr><td>1      </td><td>3Yellow</td><td>2      </td><td>1      </td><td> 7     </td><td>2      </td></tr>\n",
       "\t<tr><td>3      </td><td>1white </td><td>1      </td><td>0      </td><td> 7     </td><td>3      </td></tr>\n",
       "\t<tr><td>3      </td><td>1white </td><td>2      </td><td>0      </td><td>12     </td><td>6      </td></tr>\n",
       "\t<tr><td>3      </td><td>2Blue  </td><td>1      </td><td>0      </td><td> 4     </td><td>3      </td></tr>\n",
       "\t<tr><td>3      </td><td>2Blue  </td><td>2      </td><td>0      </td><td> 4     </td><td>3      </td></tr>\n",
       "\t<tr><td>3      </td><td>3Yellow</td><td>1      </td><td>1      </td><td> 3     </td><td>3      </td></tr>\n",
       "\t<tr><td>3      </td><td>3Yellow</td><td>2      </td><td>1      </td><td> 4     </td><td>4      </td></tr>\n",
       "\t<tr><td>2      </td><td>1white </td><td>1      </td><td>0      </td><td> 1     </td><td>1      </td></tr>\n",
       "\t<tr><td>2      </td><td>1white </td><td>2      </td><td>0      </td><td> 3     </td><td>2      </td></tr>\n",
       "\t<tr><td>2      </td><td>2Blue  </td><td>1      </td><td>0      </td><td> 2     </td><td>2      </td></tr>\n",
       "\t<tr><td>2      </td><td>2Blue  </td><td>2      </td><td>0      </td><td> 2     </td><td>2      </td></tr>\n",
       "\t<tr><td>2      </td><td>3Yellow</td><td>1      </td><td>1      </td><td> 6     </td><td>4      </td></tr>\n",
       "\t<tr><td>2      </td><td>3Yellow</td><td>2      </td><td>1      </td><td> 5     </td><td>3      </td></tr>\n",
       "</tbody>\n",
       "</table>\n"
      ],
      "text/latex": [
       "\\begin{tabular}{r|llllll}\n",
       " L & color & pan\\_n & y & insect & rtus\\\\\n",
       "\\hline\n",
       "\t 1       & 1white  & 1       & 0       &  1      & 1      \\\\\n",
       "\t 1       & 1white  & 2       & 0       &  3      & 1      \\\\\n",
       "\t 1       & 2Blue   & 1       & 0       &  1      & 1      \\\\\n",
       "\t 1       & 2Blue   & 2       & 0       &  1      & 1      \\\\\n",
       "\t 1       & 3Yellow & 1       & 1       &  4      & 3      \\\\\n",
       "\t 1       & 3Yellow & 2       & 1       &  7      & 2      \\\\\n",
       "\t 3       & 1white  & 1       & 0       &  7      & 3      \\\\\n",
       "\t 3       & 1white  & 2       & 0       & 12      & 6      \\\\\n",
       "\t 3       & 2Blue   & 1       & 0       &  4      & 3      \\\\\n",
       "\t 3       & 2Blue   & 2       & 0       &  4      & 3      \\\\\n",
       "\t 3       & 3Yellow & 1       & 1       &  3      & 3      \\\\\n",
       "\t 3       & 3Yellow & 2       & 1       &  4      & 4      \\\\\n",
       "\t 2       & 1white  & 1       & 0       &  1      & 1      \\\\\n",
       "\t 2       & 1white  & 2       & 0       &  3      & 2      \\\\\n",
       "\t 2       & 2Blue   & 1       & 0       &  2      & 2      \\\\\n",
       "\t 2       & 2Blue   & 2       & 0       &  2      & 2      \\\\\n",
       "\t 2       & 3Yellow & 1       & 1       &  6      & 4      \\\\\n",
       "\t 2       & 3Yellow & 2       & 1       &  5      & 3      \\\\\n",
       "\\end{tabular}\n"
      ],
      "text/markdown": [
       "\n",
       "| L | color | pan_n | y | insect | rtus |\n",
       "|---|---|---|---|---|---|\n",
       "| 1       | 1white  | 1       | 0       |  1      | 1       |\n",
       "| 1       | 1white  | 2       | 0       |  3      | 1       |\n",
       "| 1       | 2Blue   | 1       | 0       |  1      | 1       |\n",
       "| 1       | 2Blue   | 2       | 0       |  1      | 1       |\n",
       "| 1       | 3Yellow | 1       | 1       |  4      | 3       |\n",
       "| 1       | 3Yellow | 2       | 1       |  7      | 2       |\n",
       "| 3       | 1white  | 1       | 0       |  7      | 3       |\n",
       "| 3       | 1white  | 2       | 0       | 12      | 6       |\n",
       "| 3       | 2Blue   | 1       | 0       |  4      | 3       |\n",
       "| 3       | 2Blue   | 2       | 0       |  4      | 3       |\n",
       "| 3       | 3Yellow | 1       | 1       |  3      | 3       |\n",
       "| 3       | 3Yellow | 2       | 1       |  4      | 4       |\n",
       "| 2       | 1white  | 1       | 0       |  1      | 1       |\n",
       "| 2       | 1white  | 2       | 0       |  3      | 2       |\n",
       "| 2       | 2Blue   | 1       | 0       |  2      | 2       |\n",
       "| 2       | 2Blue   | 2       | 0       |  2      | 2       |\n",
       "| 2       | 3Yellow | 1       | 1       |  6      | 4       |\n",
       "| 2       | 3Yellow | 2       | 1       |  5      | 3       |\n",
       "\n"
      ],
      "text/plain": [
       "   L color   pan_n y insect rtus\n",
       "1  1 1white  1     0  1     1   \n",
       "2  1 1white  2     0  3     1   \n",
       "3  1 2Blue   1     0  1     1   \n",
       "4  1 2Blue   2     0  1     1   \n",
       "5  1 3Yellow 1     1  4     3   \n",
       "6  1 3Yellow 2     1  7     2   \n",
       "7  3 1white  1     0  7     3   \n",
       "8  3 1white  2     0 12     6   \n",
       "9  3 2Blue   1     0  4     3   \n",
       "10 3 2Blue   2     0  4     3   \n",
       "11 3 3Yellow 1     1  3     3   \n",
       "12 3 3Yellow 2     1  4     4   \n",
       "13 2 1white  1     0  1     1   \n",
       "14 2 1white  2     0  3     2   \n",
       "15 2 2Blue   1     0  2     2   \n",
       "16 2 2Blue   2     0  2     2   \n",
       "17 2 3Yellow 1     1  6     4   \n",
       "18 2 3Yellow 2     1  5     3   "
      ]
     },
     "metadata": {},
     "output_type": "display_data"
    }
   ],
   "source": [
    "insect <- c(c(1,3,1,1,4,7),\n",
    "            c(7,12,4,4,3,4),\n",
    "            c(1,3,2,2,6,5))\n",
    "rtus <- c(c(1,1,1,1,3,2),\n",
    "          c(3,6,3,3,3,4),\n",
    "          c(1,2,2,2,4,3))\n",
    "locate <- rep(c(1,3,2),each=6)\n",
    "color <- rep(rep(c(\"1white\",\"2Blue\",\"3Yellow\"),each=2),3)\n",
    "yellow <- rep(rep(c(0,0,1),each=2),3)\n",
    "pan_n <- rep(rep(c(1:2),3),3)\n",
    "data <- data.frame(\n",
    "    L=factor(locate),\n",
    "    color=factor(color),\n",
    "    pan_n=factor(pan_n),\n",
    "    y=factor(yellow),\n",
    "    insect=insect,\n",
    "    rtus=rtus\n",
    ")\n",
    "data"
   ]
  },
  {
   "cell_type": "code",
   "execution_count": 247,
   "id": "236f52a8",
   "metadata": {},
   "outputs": [
    {
     "data": {
      "text/plain": [
       "            Df Sum Sq Mean Sq F value Pr(>F)  \n",
       "y            1   8.03   8.028   1.809 0.2035  \n",
       "L            2  28.78  14.389   3.243 0.0748 .\n",
       "y:L          2  43.72  21.861   4.926 0.0274 *\n",
       "Residuals   12  53.25   4.437                 \n",
       "---\n",
       "Signif. codes:  0 '***' 0.001 '**' 0.01 '*' 0.05 '.' 0.1 ' ' 1"
      ]
     },
     "metadata": {},
     "output_type": "display_data"
    }
   ],
   "source": [
    "mod2_1 <- aov(insect~y*L,data)\n",
    "summary(mod2_1)"
   ]
  },
  {
   "cell_type": "code",
   "execution_count": 215,
   "id": "f6734732",
   "metadata": {},
   "outputs": [
    {
     "data": {
      "text/plain": [
       "               Df Sum Sq Mean Sq F value Pr(>F)  \n",
       "color           2  22.11  11.056   1.734 0.2150  \n",
       "L               2  28.78  14.389   2.257 0.1441  \n",
       "  L: linear     1  24.08  24.083   3.777 0.0739 .\n",
       "  L: quadratic  1   4.69   4.694   0.736 0.4064  \n",
       "Residuals      13  82.89   6.376                 \n",
       "---\n",
       "Signif. codes:  0 '***' 0.001 '**' 0.01 '*' 0.05 '.' 0.1 ' ' 1"
      ]
     },
     "metadata": {},
     "output_type": "display_data"
    }
   ],
   "source": [
    "contrastmatrix<-contr.poly(3)\n",
    "contrasts(data$L)<-contrastmatrix\n",
    "mod2_2<-aov(insect~color+L,data)\n",
    "summary(mod2_2, split = list(L= list(\"linear\" = 1, \"quadratic\" = 2)))"
   ]
  },
  {
   "cell_type": "code",
   "execution_count": 236,
   "id": "a3933857",
   "metadata": {},
   "outputs": [
    {
     "data": {
      "text/plain": [
       "\n",
       "Call:\n",
       "aov(formula = rtus ~ color * L, data = data)\n",
       "\n",
       "Residuals:\n",
       "   Min     1Q Median     3Q    Max \n",
       "-1.500 -0.375  0.000  0.375  1.500 \n",
       "\n",
       "Coefficients:\n",
       "                 Estimate Std. Error t value Pr(>|t|)    \n",
       "(Intercept)        2.3333     0.3469   6.725  8.6e-05 ***\n",
       "color2Blue        -0.3333     0.4907  -0.679   0.5140    \n",
       "color3Yellow       0.8333     0.4907   1.698   0.1237    \n",
       "L.L                2.4749     0.6009   4.118   0.0026 ** \n",
       "L.Q                1.0206     0.6009   1.698   0.1237    \n",
       "color2Blue:L.L    -1.0607     0.8498  -1.248   0.2435    \n",
       "color3Yellow:L.L  -1.7678     0.8498  -2.080   0.0673 .  \n",
       "color2Blue:L.Q    -1.0206     0.8498  -1.201   0.2604    \n",
       "color3Yellow:L.Q  -1.4289     0.8498  -1.681   0.1270    \n",
       "---\n",
       "Signif. codes:  0 '***' 0.001 '**' 0.01 '*' 0.05 '.' 0.1 ' ' 1\n",
       "\n",
       "Residual standard error: 0.8498 on 9 degrees of freedom\n",
       "Multiple R-squared:  0.7869,\tAdjusted R-squared:  0.5974 \n",
       "F-statistic: 4.154 on 8 and 9 DF,  p-value: 0.02406\n"
      ]
     },
     "metadata": {},
     "output_type": "display_data"
    }
   ],
   "source": [
    "contrastmatrix<-contr.poly(3)\n",
    "contrasts(data$L)<-contrastmatrix\n",
    "mod2_2<-aov(rtus~color*L,data)\n",
    "summary.lm(mod2_2, split = list(L= list(\"linear\" = 1, \"quadratic\" = 2)))"
   ]
  },
  {
   "cell_type": "code",
   "execution_count": 235,
   "id": "4ed45d46",
   "metadata": {},
   "outputs": [
    {
     "name": "stderr",
     "output_type": "stream",
     "text": [
      "Loading required package: carData\n",
      "Warning message:\n",
      "\"package 'carData' was built under R version 3.6.3\""
     ]
    }
   ],
   "source": [
    "library(car)"
   ]
  },
  {
   "cell_type": "code",
   "execution_count": 248,
   "id": "d4835891",
   "metadata": {},
   "outputs": [
    {
     "data": {
      "text/html": [
       "<table>\n",
       "<thead><tr><th></th><th scope=col>Df</th><th scope=col>Sum Sq</th><th scope=col>Mean Sq</th><th scope=col>F value</th><th scope=col>Pr(&gt;F)</th></tr></thead>\n",
       "<tbody>\n",
       "\t<tr><th scope=row>y</th><td> 1        </td><td> 8.027778 </td><td> 8.027778 </td><td>1.809077  </td><td>0.20348798</td></tr>\n",
       "\t<tr><th scope=row>L</th><td> 2        </td><td>28.777778 </td><td>14.388889 </td><td>3.242567  </td><td>0.07484314</td></tr>\n",
       "\t<tr><th scope=row>y:L</th><td> 2        </td><td>43.722222 </td><td>21.861111 </td><td>4.926448  </td><td>0.02741786</td></tr>\n",
       "\t<tr><th scope=row>Residuals</th><td>12        </td><td>53.250000 </td><td> 4.437500 </td><td>      NA  </td><td>        NA</td></tr>\n",
       "</tbody>\n",
       "</table>\n"
      ],
      "text/latex": [
       "\\begin{tabular}{r|lllll}\n",
       "  & Df & Sum Sq & Mean Sq & F value & Pr(>F)\\\\\n",
       "\\hline\n",
       "\ty &  1         &  8.027778  &  8.027778  & 1.809077   & 0.20348798\\\\\n",
       "\tL &  2         & 28.777778  & 14.388889  & 3.242567   & 0.07484314\\\\\n",
       "\ty:L &  2         & 43.722222  & 21.861111  & 4.926448   & 0.02741786\\\\\n",
       "\tResiduals & 12         & 53.250000  &  4.437500  &       NA   &         NA\\\\\n",
       "\\end{tabular}\n"
      ],
      "text/markdown": [
       "\n",
       "| <!--/--> | Df | Sum Sq | Mean Sq | F value | Pr(>F) |\n",
       "|---|---|---|---|---|---|\n",
       "| y |  1         |  8.027778  |  8.027778  | 1.809077   | 0.20348798 |\n",
       "| L |  2         | 28.777778  | 14.388889  | 3.242567   | 0.07484314 |\n",
       "| y:L |  2         | 43.722222  | 21.861111  | 4.926448   | 0.02741786 |\n",
       "| Residuals | 12         | 53.250000  |  4.437500  |       NA   |         NA |\n",
       "\n"
      ],
      "text/plain": [
       "          Df Sum Sq    Mean Sq   F value  Pr(>F)    \n",
       "y          1  8.027778  8.027778 1.809077 0.20348798\n",
       "L          2 28.777778 14.388889 3.242567 0.07484314\n",
       "y:L        2 43.722222 21.861111 4.926448 0.02741786\n",
       "Residuals 12 53.250000  4.437500       NA         NA"
      ]
     },
     "metadata": {},
     "output_type": "display_data"
    }
   ],
   "source": [
    "anova(mod2_1)"
   ]
  },
  {
   "cell_type": "code",
   "execution_count": 249,
   "id": "c494e2e6",
   "metadata": {},
   "outputs": [
    {
     "data": {
      "text/html": [
       "<table>\n",
       "<thead><tr><th></th><th scope=col>Sum Sq</th><th scope=col>Df</th><th scope=col>F value</th><th scope=col>Pr(&gt;F)</th></tr></thead>\n",
       "<tbody>\n",
       "\t<tr><th scope=row>(Intercept)</th><td>140.083333  </td><td> 1          </td><td>31.568075   </td><td>0.0001127656</td></tr>\n",
       "\t<tr><th scope=row>y</th><td>  8.027778  </td><td> 1          </td><td> 1.809077   </td><td>0.2034879812</td></tr>\n",
       "\t<tr><th scope=row>L</th><td> 67.166667  </td><td> 2          </td><td> 7.568075   </td><td>0.0074782171</td></tr>\n",
       "\t<tr><th scope=row>y:L</th><td> 43.722222  </td><td> 2          </td><td> 4.926448   </td><td>0.0274178619</td></tr>\n",
       "\t<tr><th scope=row>Residuals</th><td> 53.250000  </td><td>12          </td><td>       NA   </td><td>          NA</td></tr>\n",
       "</tbody>\n",
       "</table>\n"
      ],
      "text/latex": [
       "\\begin{tabular}{r|llll}\n",
       "  & Sum Sq & Df & F value & Pr(>F)\\\\\n",
       "\\hline\n",
       "\t(Intercept) & 140.083333   &  1           & 31.568075    & 0.0001127656\\\\\n",
       "\ty &   8.027778   &  1           &  1.809077    & 0.2034879812\\\\\n",
       "\tL &  67.166667   &  2           &  7.568075    & 0.0074782171\\\\\n",
       "\ty:L &  43.722222   &  2           &  4.926448    & 0.0274178619\\\\\n",
       "\tResiduals &  53.250000   & 12           &        NA    &           NA\\\\\n",
       "\\end{tabular}\n"
      ],
      "text/markdown": [
       "\n",
       "| <!--/--> | Sum Sq | Df | F value | Pr(>F) |\n",
       "|---|---|---|---|---|\n",
       "| (Intercept) | 140.083333   |  1           | 31.568075    | 0.0001127656 |\n",
       "| y |   8.027778   |  1           |  1.809077    | 0.2034879812 |\n",
       "| L |  67.166667   |  2           |  7.568075    | 0.0074782171 |\n",
       "| y:L |  43.722222   |  2           |  4.926448    | 0.0274178619 |\n",
       "| Residuals |  53.250000   | 12           |        NA    |           NA |\n",
       "\n"
      ],
      "text/plain": [
       "            Sum Sq     Df F value   Pr(>F)      \n",
       "(Intercept) 140.083333  1 31.568075 0.0001127656\n",
       "y             8.027778  1  1.809077 0.2034879812\n",
       "L            67.166667  2  7.568075 0.0074782171\n",
       "y:L          43.722222  2  4.926448 0.0274178619\n",
       "Residuals    53.250000 12        NA           NA"
      ]
     },
     "metadata": {},
     "output_type": "display_data"
    }
   ],
   "source": [
    "Anova(mod2_1,type=3)"
   ]
  },
  {
   "cell_type": "code",
   "execution_count": 220,
   "id": "96da8cb8",
   "metadata": {},
   "outputs": [
    {
     "data": {
      "image/png": "[encoded data removed]",
      "text/plain": [
       "Plot with title \"Histogram of resid(mod2_2)\""
      ]
     },
     "metadata": {},
     "output_type": "display_data"
    }
   ],
   "source": [
    "hist(resid(mod2_2))"
   ]
  },
  {
   "cell_type": "code",
   "execution_count": null,
   "id": "f9db9faf",
   "metadata": {},
   "outputs": [],
   "source": []
  },
  {
   "cell_type": "code",
   "execution_count": null,
   "id": "0aabe3a7",
   "metadata": {},
   "outputs": [],
   "source": []
  },
  {
   "cell_type": "code",
   "execution_count": null,
   "id": "4eebc1e4",
   "metadata": {},
   "outputs": [],
   "source": []
  },
  {
   "cell_type": "code",
   "execution_count": null,
   "id": "8d95c007",
   "metadata": {},
   "outputs": [],
   "source": []
  },
  {
   "cell_type": "code",
   "execution_count": null,
   "id": "41ee0f61",
   "metadata": {},
   "outputs": [],
   "source": []
  },
  {
   "cell_type": "code",
   "execution_count": 16,
   "id": "3d297a0a",
   "metadata": {},
   "outputs": [
    {
     "ename": "ERROR",
     "evalue": "Error in library(rcompanion): there is no package called 'rcompanion'\n",
     "output_type": "error",
     "traceback": [
      "Error in library(rcompanion): there is no package called 'rcompanion'\nTraceback:\n",
      "1. library(rcompanion)"
     ]
    }
   ],
   "source": [
    "library(rcompanion)\n",
    "library(\"readxl\")\n",
    "setwd(\"C:/Users/User/Desktop/試驗設計期末/dataverse_files\")\n",
    "MySheet <- read.dta(\"brader_trim_nomiss.dta\")\n",
    "\n",
    "data <- data.frame(MySheet)\n",
    "data\n",
    "plotNormalHistogram(data$Average.Coverage....)"
   ]
  }
 ],
 "metadata": {
  "kernelspec": {
   "display_name": "R",
   "language": "R",
   "name": "ir"
  },
  "language_info": {
   "codemirror_mode": "r",
   "file_extension": ".r",
   "mimetype": "text/x-r-source",
   "name": "R",
   "pygments_lexer": "r",
   "version": "3.6.1"
  }
 },
 "nbformat": 4,
 "nbformat_minor": 5
}
