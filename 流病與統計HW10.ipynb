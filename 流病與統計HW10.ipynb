{
 "cells": [
  {
   "cell_type": "code",
   "execution_count": 1,
   "id": "533abafc",
   "metadata": {},
   "outputs": [],
   "source": [
    "newtonraphson <- function(ftn, x0 , tol = 1e-9, max.iter = 5000) {\n",
    "    x <- x0 \n",
    "    fx <- ftn(x)     \n",
    "    iter <- 0\n",
    "    while ((abs(fx[1]) > tol) & (iter < max.iter)) {\n",
    "        x <- x - fx[1]/fx[2]\n",
    "        fx <- ftn(x)\n",
    "        iter <- iter + 1\n",
    "        }\n",
    "    if (abs(fx[1]) > tol) {\n",
    "    cat(\"Algorithm failed to converge\\n\")\n",
    "    return(NULL)\n",
    "    } else {  # abs(fx[1]) <= tol\n",
    "    #cat(\"Algorithm converged\\n\")\n",
    "    return(x)\n",
    "    }\n",
    "}\n"
   ]
  },
  {
   "cell_type": "code",
   "execution_count": 2,
   "id": "71041ab5",
   "metadata": {},
   "outputs": [],
   "source": [
    "ftn_upper <- function(p){\n",
    "    fx <- (-0.975)\n",
    "    dfx <- 0\n",
    "    for (k in 4:20){\n",
    "        fx <- fx+choose(20,k)*(p^k)*((1-p)^(20-k))\n",
    "        dfx <- dfx+choose(20,k)*k*(p^(k-1))*((1-p)^(20-k)) - (p^k)*(20-k)*((1-p)^(19-k))\n",
    "    }\n",
    "    return(c(fx,dfx))\n",
    "}\n",
    "\n",
    "ftn_lower <- function(p){\n",
    "    fx <- (-0.025)\n",
    "    dfx <- 0\n",
    "    for (k in 3:20){\n",
    "        fx <- fx+choose(20,k)*(p^k)*((1-p)^(20-k))\n",
    "        dfx <- dfx+choose(20,k)*k*(p^(k-1))*((1-p)^(20-k)) - (p^k)*(20-k)*((1-p)^(19-k))\n",
    "    }\n",
    "    return(c(fx,dfx))\n",
    "}\n"
   ]
  },
  {
   "cell_type": "markdown",
   "id": "d323c0cb",
   "metadata": {},
   "source": [
    "1. Please use the Newton-Raphson method to calculate exact C.I., but you don’t need to present your plots when deciding initial values. "
   ]
  },
  {
   "cell_type": "code",
   "execution_count": 3,
   "id": "67532b90",
   "metadata": {},
   "outputs": [
    {
     "name": "stdout",
     "output_type": "stream",
     "text": [
      "exact 95% C.I:  0.03207094 0.3789268"
     ]
    }
   ],
   "source": [
    "cat(\"exact 95% C.I: \",newtonraphson(ftn_lower,0.1),newtonraphson(ftn_upper,0.1))"
   ]
  },
  {
   "cell_type": "markdown",
   "id": "0f402b57",
   "metadata": {},
   "source": [
    "---"
   ]
  },
  {
   "cell_type": "markdown",
   "id": "f0ab8aea",
   "metadata": {},
   "source": [
    " 2. Coverage and length of 95% asymptotic confidence intervals  "
   ]
  },
  {
   "cell_type": "code",
   "execution_count": 8,
   "id": "fbc7f8a6",
   "metadata": {},
   "outputs": [],
   "source": [
    "data <- c()\n",
    "low95 <- c()\n",
    "upper95 <- c()\n",
    "for (i in 1:1000){\n",
    "    set.seed(i)\n",
    "    data[i] <- (rbinom(1,size = 20,prob = 0.15))/20\n",
    "    low95[i] <- data[i]-qnorm(0.975)*sqrt(0.15*(1-0.15)/20)\n",
    "    upper95[i] <- data[i]+qnorm(0.975)*sqrt(0.15*(1-0.15)/20)\n",
    "}\n",
    "low95 <- ifelse(low95<=0,0,low95)"
   ]
  },
  {
   "cell_type": "code",
   "execution_count": 9,
   "id": "0d623edb",
   "metadata": {},
   "outputs": [
    {
     "data": {
      "image/png": "[encoded data removed]",
      "text/plain": [
       "Plot with title \"Histogram of data\""
      ]
     },
     "metadata": {},
     "output_type": "display_data"
    }
   ],
   "source": [
    "hist(data,xlab=\"prob\")"
   ]
  },
  {
   "cell_type": "code",
   "execution_count": 10,
   "id": "edad50e7",
   "metadata": {},
   "outputs": [
    {
     "name": "stdout",
     "output_type": "stream",
     "text": [
      "length of 95% asymptotic confidence intervals:  0.2769798"
     ]
    }
   ],
   "source": [
    "cat(\"length of 95% asymptotic confidence intervals: \",mean(upper95)-mean(low95))"
   ]
  },
  {
   "cell_type": "code",
   "execution_count": 11,
   "id": "807cf091",
   "metadata": {},
   "outputs": [
    {
     "name": "stdout",
     "output_type": "stream",
     "text": [
      "asymptotic 95% C.I:  0.02921075 0.3061906"
     ]
    }
   ],
   "source": [
    "cat(\"asymptotic 95% C.I: \",mean(low95),mean(upper95))"
   ]
  }
 ],
 "metadata": {
  "kernelspec": {
   "display_name": "R",
   "language": "R",
   "name": "ir"
  },
  "language_info": {
   "codemirror_mode": "r",
   "file_extension": ".r",
   "mimetype": "text/x-r-source",
   "name": "R",
   "pygments_lexer": "r",
   "version": "3.6.1"
  }
 },
 "nbformat": 4,
 "nbformat_minor": 5
}
