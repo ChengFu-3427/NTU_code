{
 "cells": [
  {
   "cell_type": "markdown",
   "id": "dc79fb5b",
   "metadata": {},
   "source": [
    "### Problem 1"
   ]
  },
  {
   "cell_type": "code",
   "execution_count": 18,
   "id": "b55fb5f8",
   "metadata": {},
   "outputs": [
    {
     "data": {
      "text/html": [
       "<table>\n",
       "<thead><tr><th scope=col>label</th><th scope=col>R</th><th scope=col>block</th><th scope=col>a</th><th scope=col>b</th><th scope=col>c</th><th scope=col>d</th><th scope=col>y</th></tr></thead>\n",
       "<tbody>\n",
       "\t<tr><td>1   </td><td>1   </td><td>1   </td><td>-1  </td><td>-1  </td><td>-1  </td><td>-1  </td><td>91  </td></tr>\n",
       "\t<tr><td>a   </td><td>1   </td><td>2   </td><td>1   </td><td>-1  </td><td>-1  </td><td>-1  </td><td>75  </td></tr>\n",
       "\t<tr><td>b   </td><td>1   </td><td>2   </td><td>-1  </td><td>1   </td><td>-1  </td><td>-1  </td><td>80  </td></tr>\n",
       "\t<tr><td>ab  </td><td>1   </td><td>1   </td><td>1   </td><td>1   </td><td>-1  </td><td>-1  </td><td>84  </td></tr>\n",
       "\t<tr><td>c   </td><td>1   </td><td>2   </td><td>-1  </td><td>-1  </td><td>1   </td><td>-1  </td><td>76  </td></tr>\n",
       "\t<tr><td>ac  </td><td>1   </td><td>1   </td><td>1   </td><td>-1  </td><td>1   </td><td>-1  </td><td>81  </td></tr>\n",
       "\t<tr><td>bc  </td><td>1   </td><td>1   </td><td>-1  </td><td>1   </td><td>1   </td><td>-1  </td><td>89  </td></tr>\n",
       "\t<tr><td>abc </td><td>1   </td><td>2   </td><td>1   </td><td>1   </td><td>1   </td><td>-1  </td><td>74  </td></tr>\n",
       "\t<tr><td>d   </td><td>1   </td><td>2   </td><td>-1  </td><td>-1  </td><td>-1  </td><td>1   </td><td>99  </td></tr>\n",
       "\t<tr><td>ad  </td><td>1   </td><td>1   </td><td>1   </td><td>-1  </td><td>-1  </td><td>1   </td><td>73  </td></tr>\n",
       "\t<tr><td>bd  </td><td>1   </td><td>1   </td><td>-1  </td><td>1   </td><td>-1  </td><td>1   </td><td>86  </td></tr>\n",
       "\t<tr><td>abd </td><td>1   </td><td>2   </td><td>1   </td><td>1   </td><td>-1  </td><td>1   </td><td>84  </td></tr>\n",
       "\t<tr><td>cd  </td><td>1   </td><td>1   </td><td>-1  </td><td>-1  </td><td>1   </td><td>1   </td><td>98  </td></tr>\n",
       "\t<tr><td>acd </td><td>1   </td><td>2   </td><td>1   </td><td>-1  </td><td>1   </td><td>1   </td><td>80  </td></tr>\n",
       "\t<tr><td>bcd </td><td>1   </td><td>2   </td><td>-1  </td><td>1   </td><td>1   </td><td>1   </td><td>86  </td></tr>\n",
       "\t<tr><td>abcd</td><td>1   </td><td>1   </td><td>1   </td><td>1   </td><td>1   </td><td>1   </td><td>81  </td></tr>\n",
       "\t<tr><td>1   </td><td>2   </td><td>1   </td><td>-1  </td><td>-1  </td><td>-1  </td><td>-1  </td><td>93  </td></tr>\n",
       "\t<tr><td>a   </td><td>2   </td><td>2   </td><td>1   </td><td>-1  </td><td>-1  </td><td>-1  </td><td>78  </td></tr>\n",
       "\t<tr><td>b   </td><td>2   </td><td>2   </td><td>-1  </td><td>1   </td><td>-1  </td><td>-1  </td><td>85  </td></tr>\n",
       "\t<tr><td>ab  </td><td>2   </td><td>1   </td><td>1   </td><td>1   </td><td>-1  </td><td>-1  </td><td>80  </td></tr>\n",
       "\t<tr><td>c   </td><td>2   </td><td>2   </td><td>-1  </td><td>-1  </td><td>1   </td><td>-1  </td><td>78  </td></tr>\n",
       "\t<tr><td>ac  </td><td>2   </td><td>1   </td><td>1   </td><td>-1  </td><td>1   </td><td>-1  </td><td>80  </td></tr>\n",
       "\t<tr><td>bc  </td><td>2   </td><td>1   </td><td>-1  </td><td>1   </td><td>1   </td><td>-1  </td><td>82  </td></tr>\n",
       "\t<tr><td>abc </td><td>2   </td><td>2   </td><td>1   </td><td>1   </td><td>1   </td><td>-1  </td><td>70  </td></tr>\n",
       "\t<tr><td>d   </td><td>2   </td><td>1   </td><td>-1  </td><td>-1  </td><td>-1  </td><td>1   </td><td>95  </td></tr>\n",
       "\t<tr><td>ad  </td><td>2   </td><td>2   </td><td>1   </td><td>-1  </td><td>-1  </td><td>1   </td><td>76  </td></tr>\n",
       "\t<tr><td>bd  </td><td>2   </td><td>2   </td><td>-1  </td><td>1   </td><td>-1  </td><td>1   </td><td>83  </td></tr>\n",
       "\t<tr><td>abd </td><td>2   </td><td>1   </td><td>1   </td><td>1   </td><td>-1  </td><td>1   </td><td>86  </td></tr>\n",
       "\t<tr><td>cd  </td><td>2   </td><td>2   </td><td>-1  </td><td>-1  </td><td>1   </td><td>1   </td><td>90  </td></tr>\n",
       "\t<tr><td>acd </td><td>2   </td><td>1   </td><td>1   </td><td>-1  </td><td>1   </td><td>1   </td><td>75  </td></tr>\n",
       "\t<tr><td>bcd </td><td>2   </td><td>1   </td><td>-1  </td><td>1   </td><td>1   </td><td>1   </td><td>84  </td></tr>\n",
       "\t<tr><td>abcd</td><td>2   </td><td>2   </td><td>1   </td><td>1   </td><td>1   </td><td>1   </td><td>80  </td></tr>\n",
       "</tbody>\n",
       "</table>\n"
      ],
      "text/latex": [
       "\\begin{tabular}{r|llllllll}\n",
       " label & R & block & a & b & c & d & y\\\\\n",
       "\\hline\n",
       "\t 1    & 1    & 1    & -1   & -1   & -1   & -1   & 91  \\\\\n",
       "\t a    & 1    & 2    & 1    & -1   & -1   & -1   & 75  \\\\\n",
       "\t b    & 1    & 2    & -1   & 1    & -1   & -1   & 80  \\\\\n",
       "\t ab   & 1    & 1    & 1    & 1    & -1   & -1   & 84  \\\\\n",
       "\t c    & 1    & 2    & -1   & -1   & 1    & -1   & 76  \\\\\n",
       "\t ac   & 1    & 1    & 1    & -1   & 1    & -1   & 81  \\\\\n",
       "\t bc   & 1    & 1    & -1   & 1    & 1    & -1   & 89  \\\\\n",
       "\t abc  & 1    & 2    & 1    & 1    & 1    & -1   & 74  \\\\\n",
       "\t d    & 1    & 2    & -1   & -1   & -1   & 1    & 99  \\\\\n",
       "\t ad   & 1    & 1    & 1    & -1   & -1   & 1    & 73  \\\\\n",
       "\t bd   & 1    & 1    & -1   & 1    & -1   & 1    & 86  \\\\\n",
       "\t abd  & 1    & 2    & 1    & 1    & -1   & 1    & 84  \\\\\n",
       "\t cd   & 1    & 1    & -1   & -1   & 1    & 1    & 98  \\\\\n",
       "\t acd  & 1    & 2    & 1    & -1   & 1    & 1    & 80  \\\\\n",
       "\t bcd  & 1    & 2    & -1   & 1    & 1    & 1    & 86  \\\\\n",
       "\t abcd & 1    & 1    & 1    & 1    & 1    & 1    & 81  \\\\\n",
       "\t 1    & 2    & 1    & -1   & -1   & -1   & -1   & 93  \\\\\n",
       "\t a    & 2    & 2    & 1    & -1   & -1   & -1   & 78  \\\\\n",
       "\t b    & 2    & 2    & -1   & 1    & -1   & -1   & 85  \\\\\n",
       "\t ab   & 2    & 1    & 1    & 1    & -1   & -1   & 80  \\\\\n",
       "\t c    & 2    & 2    & -1   & -1   & 1    & -1   & 78  \\\\\n",
       "\t ac   & 2    & 1    & 1    & -1   & 1    & -1   & 80  \\\\\n",
       "\t bc   & 2    & 1    & -1   & 1    & 1    & -1   & 82  \\\\\n",
       "\t abc  & 2    & 2    & 1    & 1    & 1    & -1   & 70  \\\\\n",
       "\t d    & 2    & 1    & -1   & -1   & -1   & 1    & 95  \\\\\n",
       "\t ad   & 2    & 2    & 1    & -1   & -1   & 1    & 76  \\\\\n",
       "\t bd   & 2    & 2    & -1   & 1    & -1   & 1    & 83  \\\\\n",
       "\t abd  & 2    & 1    & 1    & 1    & -1   & 1    & 86  \\\\\n",
       "\t cd   & 2    & 2    & -1   & -1   & 1    & 1    & 90  \\\\\n",
       "\t acd  & 2    & 1    & 1    & -1   & 1    & 1    & 75  \\\\\n",
       "\t bcd  & 2    & 1    & -1   & 1    & 1    & 1    & 84  \\\\\n",
       "\t abcd & 2    & 2    & 1    & 1    & 1    & 1    & 80  \\\\\n",
       "\\end{tabular}\n"
      ],
      "text/markdown": [
       "\n",
       "| label | R | block | a | b | c | d | y |\n",
       "|---|---|---|---|---|---|---|---|\n",
       "| 1    | 1    | 1    | -1   | -1   | -1   | -1   | 91   |\n",
       "| a    | 1    | 2    | 1    | -1   | -1   | -1   | 75   |\n",
       "| b    | 1    | 2    | -1   | 1    | -1   | -1   | 80   |\n",
       "| ab   | 1    | 1    | 1    | 1    | -1   | -1   | 84   |\n",
       "| c    | 1    | 2    | -1   | -1   | 1    | -1   | 76   |\n",
       "| ac   | 1    | 1    | 1    | -1   | 1    | -1   | 81   |\n",
       "| bc   | 1    | 1    | -1   | 1    | 1    | -1   | 89   |\n",
       "| abc  | 1    | 2    | 1    | 1    | 1    | -1   | 74   |\n",
       "| d    | 1    | 2    | -1   | -1   | -1   | 1    | 99   |\n",
       "| ad   | 1    | 1    | 1    | -1   | -1   | 1    | 73   |\n",
       "| bd   | 1    | 1    | -1   | 1    | -1   | 1    | 86   |\n",
       "| abd  | 1    | 2    | 1    | 1    | -1   | 1    | 84   |\n",
       "| cd   | 1    | 1    | -1   | -1   | 1    | 1    | 98   |\n",
       "| acd  | 1    | 2    | 1    | -1   | 1    | 1    | 80   |\n",
       "| bcd  | 1    | 2    | -1   | 1    | 1    | 1    | 86   |\n",
       "| abcd | 1    | 1    | 1    | 1    | 1    | 1    | 81   |\n",
       "| 1    | 2    | 1    | -1   | -1   | -1   | -1   | 93   |\n",
       "| a    | 2    | 2    | 1    | -1   | -1   | -1   | 78   |\n",
       "| b    | 2    | 2    | -1   | 1    | -1   | -1   | 85   |\n",
       "| ab   | 2    | 1    | 1    | 1    | -1   | -1   | 80   |\n",
       "| c    | 2    | 2    | -1   | -1   | 1    | -1   | 78   |\n",
       "| ac   | 2    | 1    | 1    | -1   | 1    | -1   | 80   |\n",
       "| bc   | 2    | 1    | -1   | 1    | 1    | -1   | 82   |\n",
       "| abc  | 2    | 2    | 1    | 1    | 1    | -1   | 70   |\n",
       "| d    | 2    | 1    | -1   | -1   | -1   | 1    | 95   |\n",
       "| ad   | 2    | 2    | 1    | -1   | -1   | 1    | 76   |\n",
       "| bd   | 2    | 2    | -1   | 1    | -1   | 1    | 83   |\n",
       "| abd  | 2    | 1    | 1    | 1    | -1   | 1    | 86   |\n",
       "| cd   | 2    | 2    | -1   | -1   | 1    | 1    | 90   |\n",
       "| acd  | 2    | 1    | 1    | -1   | 1    | 1    | 75   |\n",
       "| bcd  | 2    | 1    | -1   | 1    | 1    | 1    | 84   |\n",
       "| abcd | 2    | 2    | 1    | 1    | 1    | 1    | 80   |\n",
       "\n"
      ],
      "text/plain": [
       "   label R block a  b  c  d  y \n",
       "1  1     1 1     -1 -1 -1 -1 91\n",
       "2  a     1 2     1  -1 -1 -1 75\n",
       "3  b     1 2     -1 1  -1 -1 80\n",
       "4  ab    1 1     1  1  -1 -1 84\n",
       "5  c     1 2     -1 -1 1  -1 76\n",
       "6  ac    1 1     1  -1 1  -1 81\n",
       "7  bc    1 1     -1 1  1  -1 89\n",
       "8  abc   1 2     1  1  1  -1 74\n",
       "9  d     1 2     -1 -1 -1 1  99\n",
       "10 ad    1 1     1  -1 -1 1  73\n",
       "11 bd    1 1     -1 1  -1 1  86\n",
       "12 abd   1 2     1  1  -1 1  84\n",
       "13 cd    1 1     -1 -1 1  1  98\n",
       "14 acd   1 2     1  -1 1  1  80\n",
       "15 bcd   1 2     -1 1  1  1  86\n",
       "16 abcd  1 1     1  1  1  1  81\n",
       "17 1     2 1     -1 -1 -1 -1 93\n",
       "18 a     2 2     1  -1 -1 -1 78\n",
       "19 b     2 2     -1 1  -1 -1 85\n",
       "20 ab    2 1     1  1  -1 -1 80\n",
       "21 c     2 2     -1 -1 1  -1 78\n",
       "22 ac    2 1     1  -1 1  -1 80\n",
       "23 bc    2 1     -1 1  1  -1 82\n",
       "24 abc   2 2     1  1  1  -1 70\n",
       "25 d     2 1     -1 -1 -1 1  95\n",
       "26 ad    2 2     1  -1 -1 1  76\n",
       "27 bd    2 2     -1 1  -1 1  83\n",
       "28 abd   2 1     1  1  -1 1  86\n",
       "29 cd    2 2     -1 -1 1  1  90\n",
       "30 acd   2 1     1  -1 1  1  75\n",
       "31 bcd   2 1     -1 1  1  1  84\n",
       "32 abcd  2 2     1  1  1  1  80"
      ]
     },
     "metadata": {},
     "output_type": "display_data"
    }
   ],
   "source": [
    "label <- c(\"1\",\"a\",\"b\",\"ab\",\"c\",\"ac\",\"bc\",\"abc\",\"d\",\"ad\",\"bd\",\"abd\",\"cd\",\"acd\",\"bcd\",\"abcd\")\n",
    "y <- c(91,75,80,84,76,81,89,74,99,73,86,84,98,80,86,81,\n",
    "      93,78,85,80,78,80,82,70,95,76,83,86,90,75,84,80)\n",
    "a <- c(-1,1,-1,1,-1,1,-1,1,-1,1,-1,1,-1,1,-1,1)\n",
    "b <- c(-1,-1,1,1,-1,-1,1,1,-1,-1,1,1,-1,-1,1,1)\n",
    "c <- c(-1,-1,-1,-1,1,1,1,1,-1,-1,-1,-1,1,1,1,1)\n",
    "d <- c(-1,-1,-1,-1,-1,-1,-1,-1,1,1,1,1,1,1,1,1)\n",
    "repl <- rep(c(1,2),each=16)\n",
    "A <- rep(a,time=2)\n",
    "B <- rep(b,time=2)\n",
    "C <- rep(c,time=2)\n",
    "D <- rep(d,time=2)\n",
    "block <- c(c(1,2,2,1,2,1,1,2,2,1,1,2,1,2,2,1),\n",
    "            c(1,2,2,1,2,1,1,2,1,2,2,1,2,1,1,2))\n",
    "data <- data.frame(label=label,\n",
    "                   R=repl,\n",
    "                   block=factor(block),\n",
    "                   a=factor(A),\n",
    "                   b=factor(B),\n",
    "                   c=factor(C),\n",
    "                   d=factor(D),               \n",
    "                   y=y)\n",
    "data"
   ]
  },
  {
   "cell_type": "markdown",
   "id": "38adf74c",
   "metadata": {},
   "source": [
    "a.List the treatment combinations in block 1 and 2 for each replicate. (25%)"
   ]
  },
  {
   "cell_type": "markdown",
   "id": "726de0e6",
   "metadata": {},
   "source": [
    "confounding ABCD (replicate1)   \n",
    "BLOCK I : (1) ab bc ac abcd cd ad bd ;L=0     \n",
    "BLOCK II:  a b abc c bcd acd d abd ;L=1"
   ]
  },
  {
   "cell_type": "markdown",
   "id": "d9691f91",
   "metadata": {},
   "source": [
    "confounding ABC (replicate2)  \n",
    "BLOCK I : (1) ab ac bc d abd acd bcd ;L=0   \n",
    "BLOCK II: a b c ad bd cd abc abcd ;L=1"
   ]
  },
  {
   "cell_type": "markdown",
   "id": "17a56cde",
   "metadata": {},
   "source": [
    "b.Perform the statistical analysis of this design. (25%)"
   ]
  },
  {
   "cell_type": "code",
   "execution_count": 19,
   "id": "09a4ebb3",
   "metadata": {},
   "outputs": [
    {
     "data": {
      "text/plain": [
       "            Df Sum Sq Mean Sq F value   Pr(>F)    \n",
       "R            1   15.1    15.1   1.379  0.25852    \n",
       "a            1  595.1   595.1  54.274 2.34e-06 ***\n",
       "b            1   18.0    18.0   1.642  0.21957    \n",
       "c            1   60.5    60.5   5.517  0.03295 *  \n",
       "d            1  112.5   112.5  10.260  0.00593 ** \n",
       "R:block      1  122.5   122.5  11.173  0.00445 ** \n",
       "a:b          1  136.1   136.1  12.414  0.00307 ** \n",
       "a:c          1    6.1     6.1   0.559  0.46639    \n",
       "a:d          1   36.1    36.1   3.294  0.08956 .  \n",
       "b:c          1    0.0     0.0   0.000  1.00000    \n",
       "b:d          1    2.0     2.0   0.182  0.67539    \n",
       "c:d          1   24.5    24.5   2.234  0.15571    \n",
       "a:b:c        1  112.1   112.1  10.226  0.00599 ** \n",
       "a:b:d        1  171.1   171.1  15.606  0.00128 ** \n",
       "a:c:d        1    3.1     3.1   0.285  0.60127    \n",
       "b:c:d        1    8.0     8.0   0.730  0.40646    \n",
       "Residuals   15  164.5    11.0                     \n",
       "---\n",
       "Signif. codes:  0 '***' 0.001 '**' 0.01 '*' 0.05 '.' 0.1 ' ' 1"
      ]
     },
     "metadata": {},
     "output_type": "display_data"
    }
   ],
   "source": [
    "mod<-aov(y~R+block%in%R+(a+b+c+d)^3,data)\n",
    "summary(mod)"
   ]
  },
  {
   "cell_type": "markdown",
   "id": "8f4d4c19",
   "metadata": {},
   "source": [
    "在顯著水準為0.05的情況下，我們可以得出factor A對yeild有顯著的效應。並且除了交互作用之外，confounded的選擇也有顯著的影響。"
   ]
  },
  {
   "cell_type": "markdown",
   "id": "ea39c972",
   "metadata": {},
   "source": [
    "### Problem 2"
   ]
  },
  {
   "cell_type": "code",
   "execution_count": 4,
   "id": "2c008763",
   "metadata": {},
   "outputs": [
    {
     "data": {
      "text/html": [
       "<table>\n",
       "<thead><tr><th scope=col>treat</th><th scope=col>y</th></tr></thead>\n",
       "<tbody>\n",
       "\t<tr><td>A  </td><td>3.0</td></tr>\n",
       "\t<tr><td>C  </td><td>4.2</td></tr>\n",
       "\t<tr><td>D  </td><td>4.5</td></tr>\n",
       "\t<tr><td>A  </td><td>3.4</td></tr>\n",
       "\t<tr><td>D  </td><td>5.2</td></tr>\n",
       "\t<tr><td>A  </td><td>3.8</td></tr>\n",
       "\t<tr><td>C  </td><td>4.0</td></tr>\n",
       "\t<tr><td>B  </td><td>3.2</td></tr>\n",
       "\t<tr><td>B  </td><td>4.2</td></tr>\n",
       "\t<tr><td>D  </td><td>3.8</td></tr>\n",
       "\t<tr><td>A  </td><td>3.2</td></tr>\n",
       "\t<tr><td>C  </td><td>4.3</td></tr>\n",
       "\t<tr><td>C  </td><td>4.5</td></tr>\n",
       "\t<tr><td>B  </td><td>2.8</td></tr>\n",
       "\t<tr><td>D  </td><td>4.8</td></tr>\n",
       "\t<tr><td>B  </td><td>3.1</td></tr>\n",
       "</tbody>\n",
       "</table>\n"
      ],
      "text/latex": [
       "\\begin{tabular}{r|ll}\n",
       " treat & y\\\\\n",
       "\\hline\n",
       "\t A   & 3.0\\\\\n",
       "\t C   & 4.2\\\\\n",
       "\t D   & 4.5\\\\\n",
       "\t A   & 3.4\\\\\n",
       "\t D   & 5.2\\\\\n",
       "\t A   & 3.8\\\\\n",
       "\t C   & 4.0\\\\\n",
       "\t B   & 3.2\\\\\n",
       "\t B   & 4.2\\\\\n",
       "\t D   & 3.8\\\\\n",
       "\t A   & 3.2\\\\\n",
       "\t C   & 4.3\\\\\n",
       "\t C   & 4.5\\\\\n",
       "\t B   & 2.8\\\\\n",
       "\t D   & 4.8\\\\\n",
       "\t B   & 3.1\\\\\n",
       "\\end{tabular}\n"
      ],
      "text/markdown": [
       "\n",
       "| treat | y |\n",
       "|---|---|\n",
       "| A   | 3.0 |\n",
       "| C   | 4.2 |\n",
       "| D   | 4.5 |\n",
       "| A   | 3.4 |\n",
       "| D   | 5.2 |\n",
       "| A   | 3.8 |\n",
       "| C   | 4.0 |\n",
       "| B   | 3.2 |\n",
       "| B   | 4.2 |\n",
       "| D   | 3.8 |\n",
       "| A   | 3.2 |\n",
       "| C   | 4.3 |\n",
       "| C   | 4.5 |\n",
       "| B   | 2.8 |\n",
       "| D   | 4.8 |\n",
       "| B   | 3.1 |\n",
       "\n"
      ],
      "text/plain": [
       "   treat y  \n",
       "1  A     3.0\n",
       "2  C     4.2\n",
       "3  D     4.5\n",
       "4  A     3.4\n",
       "5  D     5.2\n",
       "6  A     3.8\n",
       "7  C     4.0\n",
       "8  B     3.2\n",
       "9  B     4.2\n",
       "10 D     3.8\n",
       "11 A     3.2\n",
       "12 C     4.3\n",
       "13 C     4.5\n",
       "14 B     2.8\n",
       "15 D     4.8\n",
       "16 B     3.1"
      ]
     },
     "metadata": {},
     "output_type": "display_data"
    }
   ],
   "source": [
    "y <- c(3.0,4.2,4.5,3.4,\n",
    "      5.2,3.8,4.0,3.2,\n",
    "      4.2,3.8,3.2,4.3,\n",
    "      4.5,2.8,4.8,3.1)\n",
    "treat <- c(\"A\",\"C\",\"D\",\"A\",\n",
    "          \"D\",\"A\",\"C\",\"B\",\n",
    "          \"B\",\"D\",\"A\",\"C\",\n",
    "          \"C\",\"B\",\"D\",\"B\")\n",
    "data <- data.frame(\n",
    "    treat=factor(treat),\n",
    "    y=y\n",
    ")\n",
    "data"
   ]
  },
  {
   "cell_type": "markdown",
   "id": "5a478685",
   "metadata": {},
   "source": [
    "a.求ANOVA（class comparison） 3個處理vector包括一般型式：（1,-1,0,0），（1,1,-2,0），（1,1,1,-3）"
   ]
  },
  {
   "cell_type": "code",
   "execution_count": 7,
   "id": "f7ba3d51",
   "metadata": {},
   "outputs": [
    {
     "data": {
      "text/plain": [
       "                  Df Sum Sq Mean Sq F value  Pr(>F)   \n",
       "treat              3  4.835  1.6117   7.340 0.00472 **\n",
       "  treat: A=B       1  0.001  0.0012   0.006 0.94110   \n",
       "  treat: A+B=2C    1  2.220  2.2204  10.112 0.00792 **\n",
       "  treat: A+B+C=3D  1  2.613  2.6133  11.901 0.00481 **\n",
       "Residuals         12  2.635  0.2196                   \n",
       "---\n",
       "Signif. codes:  0 '***' 0.001 '**' 0.01 '*' 0.05 '.' 0.1 ' ' 1"
      ]
     },
     "metadata": {},
     "output_type": "display_data"
    }
   ],
   "source": [
    "contrastmatrix<-cbind(c(1,-1,0,0),c(1,1,-2,0),c(1,1,1,-3))\n",
    "contrasts(data$treat)<-contrastmatrix\n",
    "mod<-aov(y~treat,data)\n",
    "summary(mod, split = list(treat = list(\"A=B\" = 1, \"A+B=2C\" = 2,\"A+B+C=3D\"=3)))"
   ]
  },
  {
   "cell_type": "markdown",
   "id": "8fea45a6",
   "metadata": {},
   "source": [
    "b.求ANOVA（Trend comparison） 3個處理vector包括： (1) 有施肥與無施肥 (2) 施肥1次方 _(3) 施肥2次方"
   ]
  },
  {
   "cell_type": "code",
   "execution_count": 9,
   "id": "22519713",
   "metadata": {},
   "outputs": [
    {
     "data": {
      "text/plain": [
       "                  Df Sum Sq Mean Sq F value  Pr(>F)   \n",
       "treat              3  4.835  1.6117   7.340 0.00472 **\n",
       "  treat: 有無施肥  1  1.470  1.4700   6.694 0.02377 * \n",
       "  treat: 一次方    1  3.125  3.1250  14.231 0.00266 **\n",
       "  treat: 二次方    1  0.240  0.2400   1.093 0.31641   \n",
       "Residuals         12  2.635  0.2196                   \n",
       "---\n",
       "Signif. codes:  0 '***' 0.001 '**' 0.01 '*' 0.05 '.' 0.1 ' ' 1"
      ]
     },
     "metadata": {},
     "output_type": "display_data"
    }
   ],
   "source": [
    "contrastmatrix<-cbind(c(-3,1,1,1),c(0,-1,0,1),c(0,1,-2,1))\n",
    "contrasts(data$treat)<-contrastmatrix\n",
    "mod<-aov(y~treat,data)\n",
    "summary(mod, split = list(treat = list(\"有無施肥\" = 1, \"一次方\" = 2,\"二次方\"=3)))"
   ]
  },
  {
   "cell_type": "markdown",
   "id": "5a9dd7f1",
   "metadata": {},
   "source": [
    "c.比較 (a) 與(b) 之SS並加以說明何者為佳具有意義"
   ]
  },
  {
   "cell_type": "markdown",
   "id": "635d2818",
   "metadata": {},
   "source": [
    "我認為(b)較佳，因為(b)同時考慮了4個levels的二次項，儘管其並不顯著。"
   ]
  },
  {
   "cell_type": "markdown",
   "id": "48e68089",
   "metadata": {},
   "source": [
    "d.說明本次CRD試驗主要結論"
   ]
  },
  {
   "cell_type": "markdown",
   "id": "a52d5a0c",
   "metadata": {},
   "source": [
    "施肥多寡的確會影響水稻產量，並且產量的變化為線性。"
   ]
  }
 ],
 "metadata": {
  "kernelspec": {
   "display_name": "R",
   "language": "R",
   "name": "ir"
  },
  "language_info": {
   "codemirror_mode": "r",
   "file_extension": ".r",
   "mimetype": "text/x-r-source",
   "name": "R",
   "pygments_lexer": "r",
   "version": "3.6.1"
  }
 },
 "nbformat": 4,
 "nbformat_minor": 5
}
