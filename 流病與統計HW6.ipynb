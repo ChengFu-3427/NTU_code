{
 "cells": [
  {
   "cell_type": "markdown",
   "id": "3beba17d",
   "metadata": {},
   "source": [
    "Homework (8 points, please pay attention to all the words in this orange box):\n",
    "Ex 17-1：Consider a class with 100 students, if the probability of passing the final exam is p and we\n",
    "observe 20 students passing the final exam. "
   ]
  },
  {
   "cell_type": "markdown",
   "id": "797aa094",
   "metadata": {},
   "source": [
    "(1) Please find the 95% exact confidence interval for p.\n",
    "Requirements: please start from making plots to decide the initial values (2 points), and then\n",
    "define your functions and use our newtonraphson (ftn7, ftn8, etc) (4 points)"
   ]
  },
  {
   "cell_type": "code",
   "execution_count": 1,
   "id": "833116b4",
   "metadata": {},
   "outputs": [],
   "source": [
    "newtonraphson <- function(ftn, x0, tol = 1e-9, max.iter = 5000) {\n",
    "    x <- x0    \n",
    "    fx <- ftn(x)     \n",
    "    iter <- 0\n",
    "    while ((abs(fx[1]) > tol) & (iter < max.iter)) {\n",
    "        x <- x - fx[1]/fx[2]\n",
    "        fx <- ftn(x)\n",
    "        iter <- iter + 1\n",
    "        }\n",
    "    if (abs(fx[1]) > tol) {\n",
    "    cat(\"Algorithm failed to converge\\n\")\n",
    "    return(NULL)\n",
    "    } else {  # abs(fx[1]) <= tol\n",
    "    cat(\"Algorithm converged\\n\")\n",
    "    return(x)\n",
    "    }\n",
    "}\n"
   ]
  },
  {
   "cell_type": "code",
   "execution_count": 2,
   "id": "b90e6108",
   "metadata": {},
   "outputs": [
    {
     "data": {
      "image/png": "[encoded data removed]",
      "text/plain": [
       "Plot with title \"lower bound\""
      ]
     },
     "metadata": {},
     "output_type": "display_data"
    }
   ],
   "source": [
    "par(mfrow=c(1,2))\n",
    "#Upper bound\n",
    "p <- seq(0,1,0.01)\n",
    "fp <- (-.975)\n",
    "for (k in 21:100){\n",
    "    fp <- fp+choose(100,k)*(p^k)*((1-p)^(100-k))\n",
    "}\n",
    "plot(p,fp,type=\"l\",main=\"Upper bound\")\n",
    "#lower bound\n",
    "p <- seq(0,1,0.01)\n",
    "fp <- (-.025)\n",
    "for (k in 20:100){\n",
    "    fp <- fp+choose(100,k)*(p^k)*((1-p)^(100-k))\n",
    "}\n",
    "plot(p,fp,main=\"lower bound\",type=\"l\")"
   ]
  },
  {
   "cell_type": "code",
   "execution_count": 23,
   "id": "76577e4d",
   "metadata": {},
   "outputs": [],
   "source": [
    "ftn.upper <- function(x){\n",
    "    fx <- (-0.975)\n",
    "    dfx <- 0\n",
    "    for (k in 21:100){\n",
    "        fx <- fx+choose(100,k)*(x^k)*((1-x)^(100-k))\n",
    "        dfx <- dfx+choose(100,k)*k*(x^(k-1))*((1-x)^(100-k)) - (x^k)*(100-k)*((1-x)^(99-k))\n",
    "    }\n",
    "    return(c(fx,dfx))\n",
    "}\n",
    "\n",
    "ftn.lower <- function(x){\n",
    "    fx <- (-0.025)\n",
    "    dfx <- 0\n",
    "    for (k in 20:100){\n",
    "        fx <- fx+choose(100,k)*(x^k)*((1-x)^(100-k))\n",
    "        dfx <- dfx+choose(100,k)*k*(x^(k-1))*((1-x)^(100-k)) - (x^k)*(100-k)*((1-x)^(99-k))\n",
    "    }\n",
    "    return(c(fx,dfx))\n",
    "}"
   ]
  },
  {
   "cell_type": "markdown",
   "id": "f57424f6",
   "metadata": {},
   "source": [
    "Reason of choosing initial value:<br>\n",
    "<p>\n",
    "    &emsp;the point can differentiable and the f'(x) isn't 0 (around of 0.2). So I choose 0.2 for the initial point.\n"
   ]
  },
  {
   "cell_type": "markdown",
   "id": "c9af68c8",
   "metadata": {},
   "source": [
    "&emsp;I give up the iterative process, because the process will affect the typesetting. If you want to check this process, you can check the appendix at the bottom of this assignment.  "
   ]
  },
  {
   "cell_type": "code",
   "execution_count": 24,
   "id": "eaf341f9",
   "metadata": {},
   "outputs": [
    {
     "name": "stdout",
     "output_type": "stream",
     "text": [
      "Algorithm converged\n"
     ]
    },
    {
     "data": {
      "text/html": [
       "0.291842689882036"
      ],
      "text/latex": [
       "0.291842689882036"
      ],
      "text/markdown": [
       "0.291842689882036"
      ],
      "text/plain": [
       "[1] 0.2918427"
      ]
     },
     "metadata": {},
     "output_type": "display_data"
    }
   ],
   "source": [
    "newtonraphson(ftn.upper,0.3)"
   ]
  },
  {
   "cell_type": "code",
   "execution_count": 25,
   "id": "c6bb94be",
   "metadata": {
    "scrolled": true
   },
   "outputs": [
    {
     "name": "stdout",
     "output_type": "stream",
     "text": [
      "Algorithm converged\n"
     ]
    },
    {
     "data": {
      "text/html": [
       "0.126655552537829"
      ],
      "text/latex": [
       "0.126655552537829"
      ],
      "text/markdown": [
       "0.126655552537829"
      ],
      "text/plain": [
       "[1] 0.1266556"
      ]
     },
     "metadata": {},
     "output_type": "display_data"
    }
   ],
   "source": [
    "newtonraphson(ftn.lower,0.1)"
   ]
  },
  {
   "cell_type": "markdown",
   "id": "eb163304",
   "metadata": {},
   "source": [
    "95% confidence interval:<br>(0.126655,0.291842)"
   ]
  },
  {
   "cell_type": "markdown",
   "id": "7a716522",
   "metadata": {},
   "source": [
    "(2) Please find the 95% asymptotic confidence interval for p. (2 points)\n",
    "(asymptotic: based on the central limit theorem)"
   ]
  },
  {
   "cell_type": "code",
   "execution_count": 53,
   "id": "1a9b8ce4",
   "metadata": {
    "scrolled": true
   },
   "outputs": [
    {
     "name": "stdout",
     "output_type": "stream",
     "text": [
      "95% confidence interval:\n",
      " 0.1216014 0.2783986"
     ]
    }
   ],
   "source": [
    "find_CI  <- function(x,n){\n",
    "  p <- x/n\n",
    "  p_upper = p + qnorm(0.975)*sqrt(p*(1-p)/n)\n",
    "  p_lower = p - qnorm(0.975)*sqrt(p*(1-p)/n)\n",
    "  return(cat(\"95% confidence interval:\\n\",p_lower,p_upper))\n",
    "}\n",
    "find_CI(20,100)"
   ]
  },
  {
   "cell_type": "markdown",
   "id": "751d8e85",
   "metadata": {},
   "source": [
    "---\n",
    "### appendix"
   ]
  },
  {
   "cell_type": "code",
   "execution_count": 54,
   "id": "375ef200",
   "metadata": {},
   "outputs": [
    {
     "data": {
      "text/html": [
       "<table>\n",
       "<thead><tr><th scope=col>method</th><th scope=col>x</th><th scope=col>n</th><th scope=col>mean</th><th scope=col>lower</th><th scope=col>upper</th></tr></thead>\n",
       "<tbody>\n",
       "\t<tr><td>agresti-coull</td><td>20           </td><td>100          </td><td>0.2000000    </td><td>0.1326077    </td><td>0.2895884    </td></tr>\n",
       "\t<tr><td>asymptotic   </td><td>20           </td><td>100          </td><td>0.2000000    </td><td>0.1216014    </td><td>0.2783986    </td></tr>\n",
       "\t<tr><td>bayes        </td><td>20           </td><td>100          </td><td>0.2029703    </td><td>0.1272666    </td><td>0.2819852    </td></tr>\n",
       "\t<tr><td>cloglog      </td><td>20           </td><td>100          </td><td>0.2000000    </td><td>0.1283119    </td><td>0.2832200    </td></tr>\n",
       "\t<tr><td>exact        </td><td>20           </td><td>100          </td><td>0.2000000    </td><td>0.1266556    </td><td>0.2918427    </td></tr>\n",
       "\t<tr><td>logit        </td><td>20           </td><td>100          </td><td>0.2000000    </td><td>0.1328161    </td><td>0.2898107    </td></tr>\n",
       "\t<tr><td>probit       </td><td>20           </td><td>100          </td><td>0.2000000    </td><td>0.1310048    </td><td>0.2871983    </td></tr>\n",
       "\t<tr><td>profile      </td><td>20           </td><td>100          </td><td>0.2000000    </td><td>0.1297551    </td><td>0.2854280    </td></tr>\n",
       "\t<tr><td>lrt          </td><td>20           </td><td>100          </td><td>0.2000000    </td><td>0.1297488    </td><td>0.2854267    </td></tr>\n",
       "\t<tr><td>prop.test    </td><td>20           </td><td>100          </td><td>0.2000000    </td><td>0.1292482    </td><td>0.2943230    </td></tr>\n",
       "\t<tr><td>wilson       </td><td>20           </td><td>100          </td><td>0.2000000    </td><td>0.1333669    </td><td>0.2888292    </td></tr>\n",
       "</tbody>\n",
       "</table>\n"
      ],
      "text/latex": [
       "\\begin{tabular}{r|llllll}\n",
       " method & x & n & mean & lower & upper\\\\\n",
       "\\hline\n",
       "\t agresti-coull & 20            & 100           & 0.2000000     & 0.1326077     & 0.2895884    \\\\\n",
       "\t asymptotic    & 20            & 100           & 0.2000000     & 0.1216014     & 0.2783986    \\\\\n",
       "\t bayes         & 20            & 100           & 0.2029703     & 0.1272666     & 0.2819852    \\\\\n",
       "\t cloglog       & 20            & 100           & 0.2000000     & 0.1283119     & 0.2832200    \\\\\n",
       "\t exact         & 20            & 100           & 0.2000000     & 0.1266556     & 0.2918427    \\\\\n",
       "\t logit         & 20            & 100           & 0.2000000     & 0.1328161     & 0.2898107    \\\\\n",
       "\t probit        & 20            & 100           & 0.2000000     & 0.1310048     & 0.2871983    \\\\\n",
       "\t profile       & 20            & 100           & 0.2000000     & 0.1297551     & 0.2854280    \\\\\n",
       "\t lrt           & 20            & 100           & 0.2000000     & 0.1297488     & 0.2854267    \\\\\n",
       "\t prop.test     & 20            & 100           & 0.2000000     & 0.1292482     & 0.2943230    \\\\\n",
       "\t wilson        & 20            & 100           & 0.2000000     & 0.1333669     & 0.2888292    \\\\\n",
       "\\end{tabular}\n"
      ],
      "text/markdown": [
       "\n",
       "| method | x | n | mean | lower | upper |\n",
       "|---|---|---|---|---|---|\n",
       "| agresti-coull | 20            | 100           | 0.2000000     | 0.1326077     | 0.2895884     |\n",
       "| asymptotic    | 20            | 100           | 0.2000000     | 0.1216014     | 0.2783986     |\n",
       "| bayes         | 20            | 100           | 0.2029703     | 0.1272666     | 0.2819852     |\n",
       "| cloglog       | 20            | 100           | 0.2000000     | 0.1283119     | 0.2832200     |\n",
       "| exact         | 20            | 100           | 0.2000000     | 0.1266556     | 0.2918427     |\n",
       "| logit         | 20            | 100           | 0.2000000     | 0.1328161     | 0.2898107     |\n",
       "| probit        | 20            | 100           | 0.2000000     | 0.1310048     | 0.2871983     |\n",
       "| profile       | 20            | 100           | 0.2000000     | 0.1297551     | 0.2854280     |\n",
       "| lrt           | 20            | 100           | 0.2000000     | 0.1297488     | 0.2854267     |\n",
       "| prop.test     | 20            | 100           | 0.2000000     | 0.1292482     | 0.2943230     |\n",
       "| wilson        | 20            | 100           | 0.2000000     | 0.1333669     | 0.2888292     |\n",
       "\n"
      ],
      "text/plain": [
       "   method        x  n   mean      lower     upper    \n",
       "1  agresti-coull 20 100 0.2000000 0.1326077 0.2895884\n",
       "2  asymptotic    20 100 0.2000000 0.1216014 0.2783986\n",
       "3  bayes         20 100 0.2029703 0.1272666 0.2819852\n",
       "4  cloglog       20 100 0.2000000 0.1283119 0.2832200\n",
       "5  exact         20 100 0.2000000 0.1266556 0.2918427\n",
       "6  logit         20 100 0.2000000 0.1328161 0.2898107\n",
       "7  probit        20 100 0.2000000 0.1310048 0.2871983\n",
       "8  profile       20 100 0.2000000 0.1297551 0.2854280\n",
       "9  lrt           20 100 0.2000000 0.1297488 0.2854267\n",
       "10 prop.test     20 100 0.2000000 0.1292482 0.2943230\n",
       "11 wilson        20 100 0.2000000 0.1333669 0.2888292"
      ]
     },
     "metadata": {},
     "output_type": "display_data"
    }
   ],
   "source": [
    "library(binom)\n",
    "binom.confint(20,100,conf.level=0.95,methods=\"all\")"
   ]
  },
  {
   "cell_type": "code",
   "execution_count": 55,
   "id": "afd0b3d1",
   "metadata": {},
   "outputs": [
    {
     "name": "stdout",
     "output_type": "stream",
     "text": [
      "At iteration 1 value of x is: 0.1916865 \n",
      "At iteration 2 value of x is: 0.1836736 \n",
      "At iteration 3 value of x is: 0.175994 \n",
      "At iteration 4 value of x is: 0.1686839 \n",
      "At iteration 5 value of x is: 0.1617857 \n",
      "At iteration 6 value of x is: 0.1553517 \n",
      "At iteration 7 value of x is: 0.149447 \n",
      "At iteration 8 value of x is: 0.1441503 \n",
      "At iteration 9 value of x is: 0.1395482 \n",
      "At iteration 10 value of x is: 0.1357202 \n",
      "At iteration 11 value of x is: 0.1327103 \n",
      "At iteration 12 value of x is: 0.1304974 \n",
      "At iteration 13 value of x is: 0.1289832 \n",
      "At iteration 14 value of x is: 0.1280146 \n",
      "At iteration 15 value of x is: 0.1274284 \n",
      "At iteration 16 value of x is: 0.1270875 \n",
      "At iteration 17 value of x is: 0.1268945 \n",
      "At iteration 18 value of x is: 0.1267869 \n",
      "At iteration 19 value of x is: 0.1267275 \n",
      "At iteration 20 value of x is: 0.1266949 \n",
      "At iteration 21 value of x is: 0.1266771 \n",
      "At iteration 22 value of x is: 0.1266673 \n",
      "At iteration 23 value of x is: 0.126662 \n",
      "At iteration 24 value of x is: 0.1266591 \n",
      "At iteration 25 value of x is: 0.1266575 \n",
      "At iteration 26 value of x is: 0.1266566 \n",
      "At iteration 27 value of x is: 0.1266561 \n",
      "At iteration 28 value of x is: 0.1266559 \n",
      "At iteration 29 value of x is: 0.1266557 \n",
      "At iteration 30 value of x is: 0.1266556 \n",
      "At iteration 31 value of x is: 0.1266556 \n",
      "At iteration 32 value of x is: 0.1266556 \n",
      "At iteration 33 value of x is: 0.1266556 \n",
      "At iteration 34 value of x is: 0.1266556 \n",
      "At iteration 35 value of x is: 0.1266556 \n",
      "At iteration 36 value of x is: 0.1266556 \n",
      "At iteration 37 value of x is: 0.1266556 \n",
      "At iteration 38 value of x is: 0.1266556 \n",
      "At iteration 39 value of x is: 0.1266556 \n",
      "Algorithm converged\n"
     ]
    },
    {
     "data": {
      "text/html": [
       "0.12665555249794"
      ],
      "text/latex": [
       "0.12665555249794"
      ],
      "text/markdown": [
       "0.12665555249794"
      ],
      "text/plain": [
       "[1] 0.1266556"
      ]
     },
     "metadata": {},
     "output_type": "display_data"
    }
   ],
   "source": [
    "newtonraphson <- function(ftn, x0, tol = 1e-9, max.iter = 5000) {\n",
    "    x <- x0    \n",
    "    fx <- ftn(x)     \n",
    "    iter <- 0\n",
    "    while ((abs(fx[1]) > tol) & (iter < max.iter)) {\n",
    "        x <- x - fx[1]/fx[2]\n",
    "        fx <- ftn(x)\n",
    "        iter <- iter + 1\n",
    "        cat(\"At iteration\", iter, \"value of x is:\", x, \"\\n\")\n",
    "        }\n",
    "    if (abs(fx[1]) > tol) {\n",
    "    cat(\"Algorithm failed to converge\\n\")\n",
    "    return(NULL)\n",
    "    } else {  # abs(fx[1]) <= tol\n",
    "    cat(\"Algorithm converged\\n\")\n",
    "    return(x)\n",
    "    }\n",
    "}\n",
    "newtonraphson(ftn.lower,0.2)"
   ]
  }
 ],
 "metadata": {
  "kernelspec": {
   "display_name": "R",
   "language": "R",
   "name": "ir"
  },
  "language_info": {
   "codemirror_mode": "r",
   "file_extension": ".r",
   "mimetype": "text/x-r-source",
   "name": "R",
   "pygments_lexer": "r",
   "version": "3.6.1"
  }
 },
 "nbformat": 4,
 "nbformat_minor": 5
}
