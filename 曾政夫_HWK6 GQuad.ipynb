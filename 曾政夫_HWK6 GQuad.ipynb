{
 "cells": [
  {
   "cell_type": "code",
   "execution_count": 1,
   "id": "b583215e",
   "metadata": {},
   "outputs": [
    {
     "data": {
      "application/vnd.webio.node+json": {
       "children": [],
       "instanceArgs": {
        "namespace": "html",
        "tag": "div"
       },
       "nodeType": "DOM",
       "props": {},
       "type": "node"
      },
      "text/html": [
       "<div style=\"padding: 1em; background-color: #f8d6da; border: 1px solid #f5c6cb; font-weight: bold;\">\n",
       "<p>The WebIO Jupyter extension was not detected. See the\n",
       "<a href=\"https://juliagizmos.github.io/WebIO.jl/latest/providers/ijulia/\" target=\"_blank\">\n",
       "    WebIO Jupyter integration documentation\n",
       "</a>\n",
       "for more information.\n",
       "</div>\n"
      ],
      "text/plain": [
       "WebIO._IJuliaInit()"
      ]
     },
     "metadata": {
      "application/vnd.webio.node+json": {
       "kernelId": "58de998d-2c7f-4ce0-98ab-d98a42230a0a"
      }
     },
     "output_type": "display_data"
    }
   ],
   "source": [
    "using FastGaussQuadrature, QuadGK\n",
    "using Distributions, StatsPlots, StatsFuns\n",
    "using Interact, Plots, LaTeXStrings, WebIO"
   ]
  },
  {
   "cell_type": "markdown",
   "id": "e4d6c6b3",
   "metadata": {},
   "source": [
    "# Homework: Gaussian Quadrature Integration\n",
    "\n",
    "###### GH: Gauss-Hermite; GL: Gauss-Legendre; GLa: Gauss-Laguerre\n",
    "\n",
    "For all the problems, you may obtain $\\{\\omega_i, \\xi_i \\}$ directly from Julia's `FastGaussQuadrature` packages. For instance, `xi, wi = gausslegendre(20)` would give $\\{\\omega_i, \\xi_i \\}$, $i=1,\\ldots,20$, from the Gauss-Legendre rule."
   ]
  },
  {
   "cell_type": "markdown",
   "id": "bb23437c",
   "metadata": {},
   "source": [
    "## This problem asks you to adopt the Gauss-Hermite rule to an infinite integral where the weight function does not match.  The integration problem is:\n",
    "  $$\\begin{aligned}\n",
    "   I = \\int_{-\\infty}^\\infty g(x) d x =  \\int_{-\\infty}^\\infty \\exp\\left(-\\frac{1}{3}x^2\\right)\\sqrt{1+x^2} dx.\n",
    "  \\end{aligned}$$ \n",
    " "
   ]
  },
  {
   "cell_type": "markdown",
   "id": "756e7639",
   "metadata": {},
   "source": [
    "- ##### Let's do this without using changes of variables. \n",
    "  - Transform $g(x)$ to $e^{-x^2}f(x)$ so that the Gauss-Hermite rule could be applied. Write down the re-formulated integration problem explicitly and write down $f(x)$ explicitly.\n",
    "  - Write Julia code to integrate the function numerically."
   ]
  },
  {
   "cell_type": "markdown",
   "id": "45d127d1",
   "metadata": {},
   "source": [
    "  $$\\begin{aligned}\n",
    "   f(x) = e^{(\\frac{2}{3}x^2)}*\\sqrt{1+x^2}\n",
    "  \\end{aligned}$$ "
   ]
  },
  {
   "cell_type": "code",
   "execution_count": 2,
   "id": "aa381035",
   "metadata": {},
   "outputs": [
    {
     "data": {
      "text/plain": [
       "f (generic function with 1 method)"
      ]
     },
     "execution_count": 2,
     "metadata": {},
     "output_type": "execute_result"
    }
   ],
   "source": [
    "g(x) = exp(-1/3*x^2)*sqrt(1+x^2)\n",
    "f(x) = exp(2/3*x^2)*sqrt(1+x^2)"
   ]
  },
  {
   "cell_type": "code",
   "execution_count": 3,
   "id": "aa2eb8bd",
   "metadata": {},
   "outputs": [
    {
     "data": {
      "text/plain": [
       "4.5638130066205616"
      ]
     },
     "execution_count": 3,
     "metadata": {},
     "output_type": "execute_result"
    }
   ],
   "source": [
    "quadgk(g, -Inf, Inf, rtol=1e-6)[1] #using quadgk"
   ]
  },
  {
   "cell_type": "code",
   "execution_count": 4,
   "id": "7d6c390d",
   "metadata": {},
   "outputs": [
    {
     "data": {
      "text/plain": [
       "4.563801822412564"
      ]
     },
     "execution_count": 4,
     "metadata": {},
     "output_type": "execute_result"
    }
   ],
   "source": [
    "xi,wi = gausshermite(20) #using Gauss-Hermite rule \n",
    "answer = sum( wi .* f.(xi))"
   ]
  },
  {
   "cell_type": "markdown",
   "id": "3768a170",
   "metadata": {},
   "source": [
    "## Write a Julia function with the following specifications.\n",
    "  - It calculates $E[g(y)]$ for any arbitrary $g(y)$ where $y \\sim N(\\mu, \\sigma^2)$.\n",
    "  - User's inputs include $g(y)$, $\\mu$, $\\sigma^2$, and $n$.\n",
    "  - You may obtain $\\{\\omega_i, \\xi_i\\}$ directly from Julia's package.\n",
    "  - If $g(y) = 1 + 3y + y^2$, $y \\sim N(1,2)$, and $n=30$, the interface could be like `myInteg(1 + 3y + y^2, mean=1, variance=2, n=30)`, or, `myInteg(g, mean=1, variance=2, n=30)`.\n",
    "  - Hint: You may define the probability density function of $y$ using the `Distributions` package and then `pdf(Normal(mean, std.dev.),x)`."
   ]
  },
  {
   "cell_type": "code",
   "execution_count": 5,
   "id": "c6e6369c",
   "metadata": {},
   "outputs": [
    {
     "data": {
      "text/plain": [
       "Expect_value (generic function with 2 methods)"
      ]
     },
     "execution_count": 5,
     "metadata": {},
     "output_type": "execute_result"
    }
   ],
   "source": [
    "g(y) = 1 + 3y + y^2\n",
    "function Expect_value(f, dist , n=1000)\n",
    "    data = rand(dist,n)\n",
    "    return mean(f.(data)),var(f.(data))\n",
    "end"
   ]
  },
  {
   "cell_type": "code",
   "execution_count": 6,
   "id": "f087bac9",
   "metadata": {},
   "outputs": [
    {
     "name": "stdout",
     "output_type": "stream",
     "text": [
      "Expect value:7.110020717496985\n",
      "variance:56.41963940525608\n"
     ]
    }
   ],
   "source": [
    "println(\"Expect value:\", Expect_value(g, Normal(1,sqrt(2)))[1],\"\\nvariance:\",Expect_value(g, Normal(1,sqrt(2)))[2])"
   ]
  },
  {
   "cell_type": "code",
   "execution_count": 7,
   "id": "ef32c9db",
   "metadata": {},
   "outputs": [
    {
     "data": {
      "text/plain": [
       "myInteg (generic function with 1 method)"
      ]
     },
     "execution_count": 7,
     "metadata": {},
     "output_type": "execute_result"
    }
   ],
   "source": [
    "function myInteg(g::Function , u, sigma2, n)\n",
    "    xi,wi = gausshermite(n)\n",
    "    f(y) = g(y)*pdf(Normal(u, sqrt(sigma2)),y)/exp(-y^2)\n",
    "    answer = sum( wi .* f.(xi))\n",
    "    return answer\n",
    "end"
   ]
  },
  {
   "cell_type": "code",
   "execution_count": 8,
   "id": "a47a10a4",
   "metadata": {},
   "outputs": [
    {
     "data": {
      "text/plain": [
       "6.999792968988663"
      ]
     },
     "execution_count": 8,
     "metadata": {},
     "output_type": "execute_result"
    }
   ],
   "source": [
    "myInteg(g, 1, 2, 30)"
   ]
  },
  {
   "cell_type": "markdown",
   "id": "1dd07b13",
   "metadata": {},
   "source": [
    "## It is generally true that proper integrals (i.e., with finite domains) are numerically easier to deal with. But what if a problem is naturally a GH type with an infinite domain and we transform it to a GL problem with a finite domain? Is the GL rule better in this scenario? Let's find out the answer. Consider the following integration problem which is often encountered in econometric analysis. \n",
    "\n",
    "$$\\begin{aligned}\n",
    "      I = \\int_{-\\infty}^\\infty \\Phi\\left(\\frac{x-a}{b}\\right)\\phi(x) dx,\n",
    "\\end{aligned}$$\n",
    "\n",
    "where $X\\sim N(0,1)$ is a standard normal random variable, $\\phi(z)$ is the density function (PDF) of a random variable $z$, and $\\Phi(z)$ is the CDF of $z$.\n",
    "   - ##### Write a Julia function that uses the GH rule to approximate the integral. The program should be a function of $a$ and $b$.\n",
    "   - ##### Transform this problem to the GL type. What is the transformation rule and what is the Jacobian? Type the equations and show your work.\n",
    "   - ##### Write a Julia function that uses the GL rule to approximate the integral. The program should be a function of $a$ and $b$.\n",
    "   - ##### Suppose the required precision is 6 digits after the decimal. Compare the performances of these functions. Which one converges more quickly (smaller $n$)? You may pick values of $a$ and $b$ to do the comparison. You may draw graphs to compare the results.\n",
    "   - ##### Based on your results, is the GL rule always the most efficient?"
   ]
  },
  {
   "cell_type": "code",
   "execution_count": 9,
   "id": "5dced5d1",
   "metadata": {},
   "outputs": [
    {
     "data": {
      "text/plain": [
       "GH (generic function with 4 methods)"
      ]
     },
     "execution_count": 9,
     "metadata": {},
     "output_type": "execute_result"
    }
   ],
   "source": [
    "function GH(a=0,b=1, n=20)\n",
    "    xi,wi = gausshermite(n)\n",
    "    z(x) = (x-a)/b\n",
    "    f(x) = cdf(Normal(0, 1),z(x))*pdf(Normal(0, 1),x)/exp(-x^2)\n",
    "    answer = sum( wi .* f.(xi))\n",
    "    f2(x) = cdf(Normal(0, 1),z(x))*pdf(Normal(0, 1),x)\n",
    "    return answer, quadgk(f2, -Inf, Inf, rtol=1e-6)[1]\n",
    "end"
   ]
  },
  {
   "cell_type": "markdown",
   "id": "32dcbb33",
   "metadata": {},
   "source": [
    "transformation rule:$$x = \\frac{t}{1-t^2}$$        Jacobian: $$\\frac{t^2 + 1}{(t^2 -1)^2}$$"
   ]
  },
  {
   "cell_type": "code",
   "execution_count": 10,
   "id": "a440c883",
   "metadata": {},
   "outputs": [
    {
     "data": {
      "text/plain": [
       "GL (generic function with 4 methods)"
      ]
     },
     "execution_count": 10,
     "metadata": {},
     "output_type": "execute_result"
    }
   ],
   "source": [
    "function GL(a=0,b=1, n=20)\n",
    "    xi,wi = gausslegendre(n)\n",
    "    t_to_x(t) = t/(1-t^2) \n",
    "    #x = t_to_x(t)\n",
    "    J(t) = (t^2+1)/(t^2-1)^2\n",
    "    z(x) = (x-a)/b\n",
    "    f(t) = cdf(Normal(0, 1), z(t_to_x(t))) * pdf(Normal(0, 1), t_to_x(t))* J(t)\n",
    "    answer = sum( wi .* f.(xi))\n",
    "    return answer , quadgk(f, -1, 1, rtol=1e-6)[1]\n",
    "end"
   ]
  },
  {
   "cell_type": "code",
   "execution_count": 11,
   "id": "b151dfaa",
   "metadata": {},
   "outputs": [
    {
     "data": {
      "text/plain": [
       "converges_number (generic function with 1 method)"
      ]
     },
     "execution_count": 11,
     "metadata": {},
     "output_type": "execute_result"
    }
   ],
   "source": [
    "function converges_number(f::Function;a=0,b=1)\n",
    "    count=1\n",
    "    while true\n",
    "        g=f(a,b,count)\n",
    "        if abs(g[1]-g[2]) < 1e-6\n",
    "            print(\"n=\",count)\n",
    "            break\n",
    "        end\n",
    "        count+=1\n",
    "    end\n",
    "end"
   ]
  },
  {
   "cell_type": "code",
   "execution_count": 12,
   "id": "614beee2",
   "metadata": {},
   "outputs": [
    {
     "name": "stdout",
     "output_type": "stream",
     "text": [
      "n=12"
     ]
    }
   ],
   "source": [
    "converges_number(GH)"
   ]
  },
  {
   "cell_type": "code",
   "execution_count": 13,
   "id": "cd500aca",
   "metadata": {},
   "outputs": [
    {
     "name": "stdout",
     "output_type": "stream",
     "text": [
      "n=35"
     ]
    }
   ],
   "source": [
    "converges_number(GL)"
   ]
  },
  {
   "cell_type": "code",
   "execution_count": 14,
   "id": "0e9b2808",
   "metadata": {},
   "outputs": [
    {
     "data": {
      "text/plain": [
       "converges_number_plot (generic function with 1 method)"
      ]
     },
     "execution_count": 14,
     "metadata": {},
     "output_type": "execute_result"
    }
   ],
   "source": [
    "function converges_number_plot(f1::Function,f2::Function;a=0,b=1)\n",
    "    x = []\n",
    "    g1value = []\n",
    "    g2value = []\n",
    "    count=1\n",
    "    while true\n",
    "        g1=f1(a,b,count)\n",
    "        g2=f2(a,b,count)\n",
    "        \n",
    "        if (abs(g1[1]-g1[2]) < 1e-6) & (abs(g2[1]-g2[2]) < 1e-6)\n",
    "            return g1value, g2value, x\n",
    "            break\n",
    "        end\n",
    "        push!(x, count)\n",
    "        push!(g1value, g1[1])\n",
    "        push!(g2value, g2[1])\n",
    "\n",
    "\n",
    "        if count > 1000\n",
    "            #print(\"can not converge.\")\n",
    "            return g1value, g2value, x\n",
    "            break\n",
    "        end\n",
    "        count+=1\n",
    "    end\n",
    "end"
   ]
  },
  {
   "cell_type": "code",
   "execution_count": 15,
   "id": "3f13744b",
   "metadata": {},
   "outputs": [
    {
     "data": {
      "application/vnd.webio.node+json": {
       "children": [
        {
         "children": [
          {
           "children": [
            {
             "children": [
              {
               "children": [
                {
                 "children": [
                  "a"
                 ],
                 "instanceArgs": {
                  "namespace": "html",
                  "tag": "label"
                 },
                 "nodeType": "DOM",
                 "props": {
                  "className": "interact ",
                  "style": {
                   "padding": "5px 10px 0px 10px"
                  }
                 },
                 "type": "node"
                }
               ],
               "instanceArgs": {
                "namespace": "html",
                "tag": "div"
               },
               "nodeType": "DOM",
               "props": {
                "className": "interact-flex-row-left"
               },
               "type": "node"
              },
              {
               "children": [
                {
                 "children": [],
                 "instanceArgs": {
                  "namespace": "html",
                  "tag": "input"
                 },
                 "nodeType": "DOM",
                 "props": {
                  "attributes": {
                   "data-bind": "numericValue: index, valueUpdate: 'input', event: {change: function (){this.changes(this.changes()+1)}}",
                   "orient": "horizontal",
                   "type": "range"
                  },
                  "className": "slider slider is-fullwidth",
                  "max": 51,
                  "min": 1,
                  "step": 1,
                  "style": {}
                 },
                 "type": "node"
                }
               ],
               "instanceArgs": {
                "namespace": "html",
                "tag": "div"
               },
               "nodeType": "DOM",
               "props": {
                "className": "interact-flex-row-center"
               },
               "type": "node"
              },
              {
               "children": [
                {
                 "children": [],
                 "instanceArgs": {
                  "namespace": "html",
                  "tag": "p"
                 },
                 "nodeType": "DOM",
                 "props": {
                  "attributes": {
                   "data-bind": "text: formatted_val"
                  }
                 },
                 "type": "node"
                }
               ],
               "instanceArgs": {
                "namespace": "html",
                "tag": "div"
               },
               "nodeType": "DOM",
               "props": {
                "className": "interact-flex-row-right"
               },
               "type": "node"
              }
             ],
             "instanceArgs": {
              "namespace": "html",
              "tag": "div"
             },
             "nodeType": "DOM",
             "props": {
              "className": "interact-flex-row interact-widget"
             },
             "type": "node"
            }
           ],
           "instanceArgs": {
            "handlers": {
             "changes": [
              "(function (val){return (val!=this.model[\"changes\"]()) ? (this.valueFromJulia[\"changes\"]=true, this.model[\"changes\"](val)) : undefined})"
             ],
             "index": [
              "(function (val){return (val!=this.model[\"index\"]()) ? (this.valueFromJulia[\"index\"]=true, this.model[\"index\"](val)) : undefined})"
             ]
            },
            "id": "13529146301175742565",
            "imports": {
             "data": [
              {
               "name": "knockout",
               "type": "js",
               "url": "/assetserver/a0663ad37bdb924bb8f58218fb6104c40c026f21-knockout.js"
              },
              {
               "name": "knockout_punches",
               "type": "js",
               "url": "/assetserver/c0559b701cdaac29f8d4c071931238140df0ba9e-knockout_punches.js"
              },
              {
               "name": null,
               "type": "js",
               "url": "/assetserver/6903f16a2fa666a30d8cd2d6208cd478f2652502-all.js"
              },
              {
               "name": null,
               "type": "css",
               "url": "/assetserver/7d705742052c6f6628e73b4f886fdd4d3b8c526b-style.css"
              },
              {
               "name": null,
               "type": "css",
               "url": "/assetserver/47bdb778fdc8f5b8223473593d42cb825a0e5022-bulma_confined.min.css"
              }
             ],
             "type": "async_block"
            },
            "mount_callbacks": [
             "function () {\n    var handler = (function (ko, koPunches) {\n    ko.punches.enableAll();\n    ko.bindingHandlers.numericValue = {\n        init: function(element, valueAccessor, allBindings, data, context) {\n            var stringified = ko.observable(ko.unwrap(valueAccessor()));\n            stringified.subscribe(function(value) {\n                var val = parseFloat(value);\n                if (!isNaN(val)) {\n                    valueAccessor()(val);\n                }\n            });\n            valueAccessor().subscribe(function(value) {\n                var str = JSON.stringify(value);\n                if ((str == \"0\") && ([\"-0\", \"-0.\"].indexOf(stringified()) >= 0))\n                     return;\n                 if ([\"null\", \"\"].indexOf(str) >= 0)\n                     return;\n                stringified(str);\n            });\n            ko.applyBindingsToNode(\n                element,\n                {\n                    value: stringified,\n                    valueUpdate: allBindings.get('valueUpdate'),\n                },\n                context,\n            );\n        }\n    };\n    var json_data = {\"formatted_vals\":[\"-5.0\",\"-4.8\",\"-4.6\",\"-4.4\",\"-4.2\",\"-4.0\",\"-3.8\",\"-3.6\",\"-3.4\",\"-3.2\",\"-3.0\",\"-2.8\",\"-2.6\",\"-2.4\",\"-2.2\",\"-2.0\",\"-1.8\",\"-1.6\",\"-1.4\",\"-1.2\",\"-1.0\",\"-0.8\",\"-0.6\",\"-0.4\",\"-0.2\",\"0.0\",\"0.2\",\"0.4\",\"0.6\",\"0.8\",\"1.0\",\"1.2\",\"1.4\",\"1.6\",\"1.8\",\"2.0\",\"2.2\",\"2.4\",\"2.6\",\"2.8\",\"3.0\",\"3.2\",\"3.4\",\"3.6\",\"3.8\",\"4.0\",\"4.2\",\"4.4\",\"4.6\",\"4.8\",\"5.0\"],\"changes\":WebIO.getval({\"name\":\"changes\",\"scope\":\"13529146301175742565\",\"id\":\"17135160796909679459\",\"type\":\"observable\"}),\"index\":WebIO.getval({\"name\":\"index\",\"scope\":\"13529146301175742565\",\"id\":\"9778504136946651723\",\"type\":\"observable\"})};\n    var self = this;\n    function AppViewModel() {\n        for (var key in json_data) {\n            var el = json_data[key];\n            this[key] = Array.isArray(el) ? ko.observableArray(el) : ko.observable(el);\n        }\n        \n        [this[\"formatted_val\"]=ko.computed(    function(){\n        return this.formatted_vals()[parseInt(this.index())-(1)];\n    }\n,this)]\n        [this[\"changes\"].subscribe((function (val){!(this.valueFromJulia[\"changes\"]) ? (WebIO.setval({\"name\":\"changes\",\"scope\":\"13529146301175742565\",\"id\":\"17135160796909679459\",\"type\":\"observable\"},val)) : undefined; return this.valueFromJulia[\"changes\"]=false}),self),this[\"index\"].subscribe((function (val){!(this.valueFromJulia[\"index\"]) ? (WebIO.setval({\"name\":\"index\",\"scope\":\"13529146301175742565\",\"id\":\"9778504136946651723\",\"type\":\"observable\"},val)) : undefined; return this.valueFromJulia[\"index\"]=false}),self)]\n        \n    }\n    self.model = new AppViewModel();\n    self.valueFromJulia = {};\n    for (var key in json_data) {\n        self.valueFromJulia[key] = false;\n    }\n    ko.applyBindings(self.model, self.dom);\n}\n);\n    (WebIO.importBlock({\"data\":[{\"name\":\"knockout\",\"type\":\"js\",\"url\":\"/assetserver/a0663ad37bdb924bb8f58218fb6104c40c026f21-knockout.js\"},{\"name\":\"knockout_punches\",\"type\":\"js\",\"url\":\"/assetserver/c0559b701cdaac29f8d4c071931238140df0ba9e-knockout_punches.js\"}],\"type\":\"async_block\"})).then((imports) => handler.apply(this, imports));\n}\n"
            ],
            "observables": {
             "changes": {
              "id": "17135160796909679459",
              "sync": false,
              "value": 0
             },
             "index": {
              "id": "9778504136946651723",
              "sync": true,
              "value": 26
             }
            },
            "systemjs_options": null
           },
           "nodeType": "Scope",
           "props": {},
           "type": "node"
          }
         ],
         "instanceArgs": {
          "namespace": "html",
          "tag": "div"
         },
         "nodeType": "DOM",
         "props": {
          "className": "field interact-widget"
         },
         "type": "node"
        },
        {
         "children": [
          {
           "children": [
            {
             "children": [
              {
               "children": [
                {
                 "children": [
                  "b"
                 ],
                 "instanceArgs": {
                  "namespace": "html",
                  "tag": "label"
                 },
                 "nodeType": "DOM",
                 "props": {
                  "className": "interact ",
                  "style": {
                   "padding": "5px 10px 0px 10px"
                  }
                 },
                 "type": "node"
                }
               ],
               "instanceArgs": {
                "namespace": "html",
                "tag": "div"
               },
               "nodeType": "DOM",
               "props": {
                "className": "interact-flex-row-left"
               },
               "type": "node"
              },
              {
               "children": [
                {
                 "children": [],
                 "instanceArgs": {
                  "namespace": "html",
                  "tag": "input"
                 },
                 "nodeType": "DOM",
                 "props": {
                  "attributes": {
                   "data-bind": "numericValue: index, valueUpdate: 'input', event: {change: function (){this.changes(this.changes()+1)}}",
                   "orient": "horizontal",
                   "type": "range"
                  },
                  "className": "slider slider is-fullwidth",
                  "max": 25,
                  "min": 1,
                  "step": 1,
                  "style": {}
                 },
                 "type": "node"
                }
               ],
               "instanceArgs": {
                "namespace": "html",
                "tag": "div"
               },
               "nodeType": "DOM",
               "props": {
                "className": "interact-flex-row-center"
               },
               "type": "node"
              },
              {
               "children": [
                {
                 "children": [],
                 "instanceArgs": {
                  "namespace": "html",
                  "tag": "p"
                 },
                 "nodeType": "DOM",
                 "props": {
                  "attributes": {
                   "data-bind": "text: formatted_val"
                  }
                 },
                 "type": "node"
                }
               ],
               "instanceArgs": {
                "namespace": "html",
                "tag": "div"
               },
               "nodeType": "DOM",
               "props": {
                "className": "interact-flex-row-right"
               },
               "type": "node"
              }
             ],
             "instanceArgs": {
              "namespace": "html",
              "tag": "div"
             },
             "nodeType": "DOM",
             "props": {
              "className": "interact-flex-row interact-widget"
             },
             "type": "node"
            }
           ],
           "instanceArgs": {
            "handlers": {
             "changes": [
              "(function (val){return (val!=this.model[\"changes\"]()) ? (this.valueFromJulia[\"changes\"]=true, this.model[\"changes\"](val)) : undefined})"
             ],
             "index": [
              "(function (val){return (val!=this.model[\"index\"]()) ? (this.valueFromJulia[\"index\"]=true, this.model[\"index\"](val)) : undefined})"
             ]
            },
            "id": "9035582120429443493",
            "imports": {
             "data": [
              {
               "name": "knockout",
               "type": "js",
               "url": "/assetserver/a0663ad37bdb924bb8f58218fb6104c40c026f21-knockout.js"
              },
              {
               "name": "knockout_punches",
               "type": "js",
               "url": "/assetserver/c0559b701cdaac29f8d4c071931238140df0ba9e-knockout_punches.js"
              },
              {
               "name": null,
               "type": "js",
               "url": "/assetserver/6903f16a2fa666a30d8cd2d6208cd478f2652502-all.js"
              },
              {
               "name": null,
               "type": "css",
               "url": "/assetserver/7d705742052c6f6628e73b4f886fdd4d3b8c526b-style.css"
              },
              {
               "name": null,
               "type": "css",
               "url": "/assetserver/47bdb778fdc8f5b8223473593d42cb825a0e5022-bulma_confined.min.css"
              }
             ],
             "type": "async_block"
            },
            "mount_callbacks": [
             "function () {\n    var handler = (function (ko, koPunches) {\n    ko.punches.enableAll();\n    ko.bindingHandlers.numericValue = {\n        init: function(element, valueAccessor, allBindings, data, context) {\n            var stringified = ko.observable(ko.unwrap(valueAccessor()));\n            stringified.subscribe(function(value) {\n                var val = parseFloat(value);\n                if (!isNaN(val)) {\n                    valueAccessor()(val);\n                }\n            });\n            valueAccessor().subscribe(function(value) {\n                var str = JSON.stringify(value);\n                if ((str == \"0\") && ([\"-0\", \"-0.\"].indexOf(stringified()) >= 0))\n                     return;\n                 if ([\"null\", \"\"].indexOf(str) >= 0)\n                     return;\n                stringified(str);\n            });\n            ko.applyBindingsToNode(\n                element,\n                {\n                    value: stringified,\n                    valueUpdate: allBindings.get('valueUpdate'),\n                },\n                context,\n            );\n        }\n    };\n    var json_data = {\"formatted_vals\":[\"0.1\",\"0.3\",\"0.5\",\"0.7\",\"0.9\",\"1.1\",\"1.3\",\"1.5\",\"1.7\",\"1.9\",\"2.1\",\"2.3\",\"2.5\",\"2.7\",\"2.9\",\"3.1\",\"3.3\",\"3.5\",\"3.7\",\"3.9\",\"4.1\",\"4.3\",\"4.5\",\"4.7\",\"4.9\"],\"changes\":WebIO.getval({\"name\":\"changes\",\"scope\":\"9035582120429443493\",\"id\":\"5913656512889119743\",\"type\":\"observable\"}),\"index\":WebIO.getval({\"name\":\"index\",\"scope\":\"9035582120429443493\",\"id\":\"785025906897145174\",\"type\":\"observable\"})};\n    var self = this;\n    function AppViewModel() {\n        for (var key in json_data) {\n            var el = json_data[key];\n            this[key] = Array.isArray(el) ? ko.observableArray(el) : ko.observable(el);\n        }\n        \n        [this[\"formatted_val\"]=ko.computed(    function(){\n        return this.formatted_vals()[parseInt(this.index())-(1)];\n    }\n,this)]\n        [this[\"changes\"].subscribe((function (val){!(this.valueFromJulia[\"changes\"]) ? (WebIO.setval({\"name\":\"changes\",\"scope\":\"9035582120429443493\",\"id\":\"5913656512889119743\",\"type\":\"observable\"},val)) : undefined; return this.valueFromJulia[\"changes\"]=false}),self),this[\"index\"].subscribe((function (val){!(this.valueFromJulia[\"index\"]) ? (WebIO.setval({\"name\":\"index\",\"scope\":\"9035582120429443493\",\"id\":\"785025906897145174\",\"type\":\"observable\"},val)) : undefined; return this.valueFromJulia[\"index\"]=false}),self)]\n        \n    }\n    self.model = new AppViewModel();\n    self.valueFromJulia = {};\n    for (var key in json_data) {\n        self.valueFromJulia[key] = false;\n    }\n    ko.applyBindings(self.model, self.dom);\n}\n);\n    (WebIO.importBlock({\"data\":[{\"name\":\"knockout\",\"type\":\"js\",\"url\":\"/assetserver/a0663ad37bdb924bb8f58218fb6104c40c026f21-knockout.js\"},{\"name\":\"knockout_punches\",\"type\":\"js\",\"url\":\"/assetserver/c0559b701cdaac29f8d4c071931238140df0ba9e-knockout_punches.js\"}],\"type\":\"async_block\"})).then((imports) => handler.apply(this, imports));\n}\n"
            ],
            "observables": {
             "changes": {
              "id": "5913656512889119743",
              "sync": false,
              "value": 0
             },
             "index": {
              "id": "785025906897145174",
              "sync": true,
              "value": 13
             }
            },
            "systemjs_options": null
           },
           "nodeType": "Scope",
           "props": {},
           "type": "node"
          }
         ],
         "instanceArgs": {
          "namespace": "html",
          "tag": "div"
         },
         "nodeType": "DOM",
         "props": {
          "className": "field interact-widget"
         },
         "type": "node"
        },
        {
         "children": [
          {
           "children": [],
           "instanceArgs": {
            "id": "10092013399849237217",
            "name": "obs-node"
           },
           "nodeType": "ObservableNode",
           "props": {},
           "type": "node"
          }
         ],
         "instanceArgs": {
          "handlers": {},
          "id": "6390120358697698876",
          "imports": {
           "data": [],
           "type": "async_block"
          },
          "mount_callbacks": [],
          "observables": {
           "obs-node": {
            "id": "10092013399849237217",
            "sync": false,
            "value": {
             "children": [
              {
               "children": [],
               "instanceArgs": {
                "namespace": "html",
                "tag": "div"
               },
               "nodeType": "DOM",
               "props": {
                "setInnerHtml": "<?xml version=\"1.0\" encoding=\"utf-8\"?>\n<svg xmlns=\"http://www.w3.org/2000/svg\" xmlns:xlink=\"http://www.w3.org/1999/xlink\" width=\"600\" height=\"400\" viewBox=\"0 0 2400 1600\">\n<defs>\n  <clipPath id=\"clip130\">\n    <rect x=\"0\" y=\"0\" width=\"2400\" height=\"1600\"/>\n  </clipPath>\n</defs>\n<path clip-path=\"url(#clip130)\" d=\"\nM0 1600 L2400 1600 L2400 0 L0 0  Z\n  \" fill=\"#ffffff\" fill-rule=\"evenodd\" fill-opacity=\"1\"/>\n<defs>\n  <clipPath id=\"clip131\">\n    <rect x=\"480\" y=\"0\" width=\"1681\" height=\"1600\"/>\n  </clipPath>\n</defs>\n<path clip-path=\"url(#clip130)\" d=\"\nM186.274 1486.45 L2352.76 1486.45 L2352.76 47.2441 L186.274 47.2441  Z\n  \" fill=\"#ffffff\" fill-rule=\"evenodd\" fill-opacity=\"1\"/>\n<defs>\n  <clipPath id=\"clip132\">\n    <rect x=\"186\" y=\"47\" width=\"2167\" height=\"1440\"/>\n  </clipPath>\n</defs>\n<polyline clip-path=\"url(#clip132)\" style=\"stroke:#000000; stroke-linecap:butt; stroke-linejoin:round; stroke-width:2; stroke-opacity:0.1; fill:none\" points=\"\n  247.59,1486.45 247.59,47.2441 \n  \"/>\n<polyline clip-path=\"url(#clip132)\" style=\"stroke:#000000; stroke-linecap:butt; stroke-linejoin:round; stroke-width:2; stroke-opacity:0.1; fill:none\" points=\"\n  928.873,1486.45 928.873,47.2441 \n  \"/>\n<polyline clip-path=\"url(#clip132)\" style=\"stroke:#000000; stroke-linecap:butt; stroke-linejoin:round; stroke-width:2; stroke-opacity:0.1; fill:none\" points=\"\n  1610.16,1486.45 1610.16,47.2441 \n  \"/>\n<polyline clip-path=\"url(#clip132)\" style=\"stroke:#000000; stroke-linecap:butt; stroke-linejoin:round; stroke-width:2; stroke-opacity:0.1; fill:none\" points=\"\n  2291.44,1486.45 2291.44,47.2441 \n  \"/>\n<polyline clip-path=\"url(#clip130)\" style=\"stroke:#000000; stroke-linecap:butt; stroke-linejoin:round; stroke-width:4; stroke-opacity:1; fill:none\" points=\"\n  186.274,1486.45 2352.76,1486.45 \n  \"/>\n<polyline clip-path=\"url(#clip130)\" style=\"stroke:#000000; stroke-linecap:butt; stroke-linejoin:round; stroke-width:4; stroke-opacity:1; fill:none\" points=\"\n  247.59,1486.45 247.59,1467.55 \n  \"/>\n<polyline clip-path=\"url(#clip130)\" style=\"stroke:#000000; stroke-linecap:butt; stroke-linejoin:round; stroke-width:4; stroke-opacity:1; fill:none\" points=\"\n  928.873,1486.45 928.873,1467.55 \n  \"/>\n<polyline clip-path=\"url(#clip130)\" style=\"stroke:#000000; stroke-linecap:butt; stroke-linejoin:round; stroke-width:4; stroke-opacity:1; fill:none\" points=\"\n  1610.16,1486.45 1610.16,1467.55 \n  \"/>\n<polyline clip-path=\"url(#clip130)\" style=\"stroke:#000000; stroke-linecap:butt; stroke-linejoin:round; stroke-width:4; stroke-opacity:1; fill:none\" points=\"\n  2291.44,1486.45 2291.44,1467.55 \n  \"/>\n<path clip-path=\"url(#clip130)\" d=\"M247.59 1517.37 Q243.978 1517.37 242.15 1520.93 Q240.344 1524.47 240.344 1531.6 Q240.344 1538.71 242.15 1542.27 Q243.978 1545.82 247.59 1545.82 Q251.224 1545.82 253.029 1542.27 Q254.858 1538.71 254.858 1531.6 Q254.858 1524.47 253.029 1520.93 Q251.224 1517.37 247.59 1517.37 M247.59 1513.66 Q253.4 1513.66 256.455 1518.27 Q259.534 1522.85 259.534 1531.6 Q259.534 1540.33 256.455 1544.94 Q253.4 1549.52 247.59 1549.52 Q241.779 1549.52 238.701 1544.94 Q235.645 1540.33 235.645 1531.6 Q235.645 1522.85 238.701 1518.27 Q241.779 1513.66 247.59 1513.66 Z\" fill=\"#000000\" fill-rule=\"evenodd\" fill-opacity=\"1\" /><path clip-path=\"url(#clip130)\" d=\"M903.561 1544.91 L911.2 1544.91 L911.2 1518.55 L902.889 1520.21 L902.889 1515.95 L911.153 1514.29 L915.829 1514.29 L915.829 1544.91 L923.468 1544.91 L923.468 1548.85 L903.561 1548.85 L903.561 1544.91 Z\" fill=\"#000000\" fill-rule=\"evenodd\" fill-opacity=\"1\" /><path clip-path=\"url(#clip130)\" d=\"M942.912 1517.37 Q939.301 1517.37 937.473 1520.93 Q935.667 1524.47 935.667 1531.6 Q935.667 1538.71 937.473 1542.27 Q939.301 1545.82 942.912 1545.82 Q946.547 1545.82 948.352 1542.27 Q950.181 1538.71 950.181 1531.6 Q950.181 1524.47 948.352 1520.93 Q946.547 1517.37 942.912 1517.37 M942.912 1513.66 Q948.723 1513.66 951.778 1518.27 Q954.857 1522.85 954.857 1531.6 Q954.857 1540.33 951.778 1544.94 Q948.723 1549.52 942.912 1549.52 Q937.102 1549.52 934.024 1544.94 Q930.968 1540.33 930.968 1531.6 Q930.968 1522.85 934.024 1518.27 Q937.102 1513.66 942.912 1513.66 Z\" fill=\"#000000\" fill-rule=\"evenodd\" fill-opacity=\"1\" /><path clip-path=\"url(#clip130)\" d=\"M1588.93 1544.91 L1605.25 1544.91 L1605.25 1548.85 L1583.31 1548.85 L1583.31 1544.91 Q1585.97 1542.16 1590.55 1537.53 Q1595.16 1532.88 1596.34 1531.53 Q1598.58 1529.01 1599.46 1527.27 Q1600.37 1525.51 1600.37 1523.82 Q1600.37 1521.07 1598.42 1519.33 Q1596.5 1517.6 1593.4 1517.6 Q1591.2 1517.6 1588.74 1518.36 Q1586.31 1519.13 1583.54 1520.68 L1583.54 1515.95 Q1586.36 1514.82 1588.81 1514.24 Q1591.27 1513.66 1593.31 1513.66 Q1598.68 1513.66 1601.87 1516.35 Q1605.06 1519.03 1605.06 1523.52 Q1605.06 1525.65 1604.25 1527.57 Q1603.47 1529.47 1601.36 1532.07 Q1600.78 1532.74 1597.68 1535.95 Q1594.58 1539.15 1588.93 1544.91 Z\" fill=\"#000000\" fill-rule=\"evenodd\" fill-opacity=\"1\" /><path clip-path=\"url(#clip130)\" d=\"M1625.06 1517.37 Q1621.45 1517.37 1619.62 1520.93 Q1617.82 1524.47 1617.82 1531.6 Q1617.82 1538.71 1619.62 1542.27 Q1621.45 1545.82 1625.06 1545.82 Q1628.7 1545.82 1630.5 1542.27 Q1632.33 1538.71 1632.33 1531.6 Q1632.33 1524.47 1630.5 1520.93 Q1628.7 1517.37 1625.06 1517.37 M1625.06 1513.66 Q1630.87 1513.66 1633.93 1518.27 Q1637.01 1522.85 1637.01 1531.6 Q1637.01 1540.33 1633.93 1544.94 Q1630.87 1549.52 1625.06 1549.52 Q1619.25 1549.52 1616.18 1544.94 Q1613.12 1540.33 1613.12 1531.6 Q1613.12 1522.85 1616.18 1518.27 Q1619.25 1513.66 1625.06 1513.66 Z\" fill=\"#000000\" fill-rule=\"evenodd\" fill-opacity=\"1\" /><path clip-path=\"url(#clip130)\" d=\"M2280.28 1530.21 Q2283.64 1530.93 2285.51 1533.2 Q2287.41 1535.47 2287.41 1538.8 Q2287.41 1543.92 2283.89 1546.72 Q2280.38 1549.52 2273.89 1549.52 Q2271.72 1549.52 2269.4 1549.08 Q2267.11 1548.66 2264.66 1547.81 L2264.66 1543.29 Q2266.6 1544.43 2268.92 1545.01 Q2271.23 1545.58 2273.76 1545.58 Q2278.15 1545.58 2280.45 1543.85 Q2282.76 1542.11 2282.76 1538.8 Q2282.76 1535.75 2280.61 1534.03 Q2278.48 1532.3 2274.66 1532.3 L2270.63 1532.3 L2270.63 1528.45 L2274.84 1528.45 Q2278.29 1528.45 2280.12 1527.09 Q2281.95 1525.7 2281.95 1523.11 Q2281.95 1520.45 2280.05 1519.03 Q2278.18 1517.6 2274.66 1517.6 Q2272.74 1517.6 2270.54 1518.01 Q2268.34 1518.43 2265.7 1519.31 L2265.7 1515.14 Q2268.36 1514.4 2270.68 1514.03 Q2273.01 1513.66 2275.07 1513.66 Q2280.4 1513.66 2283.5 1516.09 Q2286.6 1518.5 2286.6 1522.62 Q2286.6 1525.49 2284.96 1527.48 Q2283.32 1529.45 2280.28 1530.21 Z\" fill=\"#000000\" fill-rule=\"evenodd\" fill-opacity=\"1\" /><path clip-path=\"url(#clip130)\" d=\"M2306.28 1517.37 Q2302.67 1517.37 2300.84 1520.93 Q2299.03 1524.47 2299.03 1531.6 Q2299.03 1538.71 2300.84 1542.27 Q2302.67 1545.82 2306.28 1545.82 Q2309.91 1545.82 2311.72 1542.27 Q2313.55 1538.71 2313.55 1531.6 Q2313.55 1524.47 2311.72 1520.93 Q2309.91 1517.37 2306.28 1517.37 M2306.28 1513.66 Q2312.09 1513.66 2315.14 1518.27 Q2318.22 1522.85 2318.22 1531.6 Q2318.22 1540.33 2315.14 1544.94 Q2312.09 1549.52 2306.28 1549.52 Q2300.47 1549.52 2297.39 1544.94 Q2294.33 1540.33 2294.33 1531.6 Q2294.33 1522.85 2297.39 1518.27 Q2300.47 1513.66 2306.28 1513.66 Z\" fill=\"#000000\" fill-rule=\"evenodd\" fill-opacity=\"1\" /><polyline clip-path=\"url(#clip132)\" style=\"stroke:#000000; stroke-linecap:butt; stroke-linejoin:round; stroke-width:2; stroke-opacity:0.1; fill:none\" points=\"\n  186.274,1445.72 2352.76,1445.72 \n  \"/>\n<polyline clip-path=\"url(#clip132)\" style=\"stroke:#000000; stroke-linecap:butt; stroke-linejoin:round; stroke-width:2; stroke-opacity:0.1; fill:none\" points=\"\n  186.274,1106.28 2352.76,1106.28 \n  \"/>\n<polyline clip-path=\"url(#clip132)\" style=\"stroke:#000000; stroke-linecap:butt; stroke-linejoin:round; stroke-width:2; stroke-opacity:0.1; fill:none\" points=\"\n  186.274,766.846 2352.76,766.846 \n  \"/>\n<polyline clip-path=\"url(#clip132)\" style=\"stroke:#000000; stroke-linecap:butt; stroke-linejoin:round; stroke-width:2; stroke-opacity:0.1; fill:none\" points=\"\n  186.274,427.411 2352.76,427.411 \n  \"/>\n<polyline clip-path=\"url(#clip132)\" style=\"stroke:#000000; stroke-linecap:butt; stroke-linejoin:round; stroke-width:2; stroke-opacity:0.1; fill:none\" points=\"\n  186.274,87.9763 2352.76,87.9763 \n  \"/>\n<polyline clip-path=\"url(#clip130)\" style=\"stroke:#000000; stroke-linecap:butt; stroke-linejoin:round; stroke-width:4; stroke-opacity:1; fill:none\" points=\"\n  186.274,1486.45 186.274,47.2441 \n  \"/>\n<polyline clip-path=\"url(#clip130)\" style=\"stroke:#000000; stroke-linecap:butt; stroke-linejoin:round; stroke-width:4; stroke-opacity:1; fill:none\" points=\"\n  186.274,1445.72 205.172,1445.72 \n  \"/>\n<polyline clip-path=\"url(#clip130)\" style=\"stroke:#000000; stroke-linecap:butt; stroke-linejoin:round; stroke-width:4; stroke-opacity:1; fill:none\" points=\"\n  186.274,1106.28 205.172,1106.28 \n  \"/>\n<polyline clip-path=\"url(#clip130)\" style=\"stroke:#000000; stroke-linecap:butt; stroke-linejoin:round; stroke-width:4; stroke-opacity:1; fill:none\" points=\"\n  186.274,766.846 205.172,766.846 \n  \"/>\n<polyline clip-path=\"url(#clip130)\" style=\"stroke:#000000; stroke-linecap:butt; stroke-linejoin:round; stroke-width:4; stroke-opacity:1; fill:none\" points=\"\n  186.274,427.411 205.172,427.411 \n  \"/>\n<polyline clip-path=\"url(#clip130)\" style=\"stroke:#000000; stroke-linecap:butt; stroke-linejoin:round; stroke-width:4; stroke-opacity:1; fill:none\" points=\"\n  186.274,87.9763 205.172,87.9763 \n  \"/>\n<path clip-path=\"url(#clip130)\" d=\"M62.9365 1431.51 Q59.3254 1431.51 57.4967 1435.08 Q55.6912 1438.62 55.6912 1445.75 Q55.6912 1452.86 57.4967 1456.42 Q59.3254 1459.96 62.9365 1459.96 Q66.5707 1459.96 68.3763 1456.42 Q70.205 1452.86 70.205 1445.75 Q70.205 1438.62 68.3763 1435.08 Q66.5707 1431.51 62.9365 1431.51 M62.9365 1427.81 Q68.7467 1427.81 71.8022 1432.42 Q74.8809 1437 74.8809 1445.75 Q74.8809 1454.48 71.8022 1459.08 Q68.7467 1463.67 62.9365 1463.67 Q57.1264 1463.67 54.0477 1459.08 Q50.9921 1454.48 50.9921 1445.75 Q50.9921 1437 54.0477 1432.42 Q57.1264 1427.81 62.9365 1427.81 Z\" fill=\"#000000\" fill-rule=\"evenodd\" fill-opacity=\"1\" /><path clip-path=\"url(#clip130)\" d=\"M83.0984 1457.12 L87.9827 1457.12 L87.9827 1463 L83.0984 1463 L83.0984 1457.12 Z\" fill=\"#000000\" fill-rule=\"evenodd\" fill-opacity=\"1\" /><path clip-path=\"url(#clip130)\" d=\"M108.168 1431.51 Q104.557 1431.51 102.728 1435.08 Q100.922 1438.62 100.922 1445.75 Q100.922 1452.86 102.728 1456.42 Q104.557 1459.96 108.168 1459.96 Q111.802 1459.96 113.608 1456.42 Q115.436 1452.86 115.436 1445.75 Q115.436 1438.62 113.608 1435.08 Q111.802 1431.51 108.168 1431.51 M108.168 1427.81 Q113.978 1427.81 117.033 1432.42 Q120.112 1437 120.112 1445.75 Q120.112 1454.48 117.033 1459.08 Q113.978 1463.67 108.168 1463.67 Q102.358 1463.67 99.2789 1459.08 Q96.2234 1454.48 96.2234 1445.75 Q96.2234 1437 99.2789 1432.42 Q102.358 1427.81 108.168 1427.81 Z\" fill=\"#000000\" fill-rule=\"evenodd\" fill-opacity=\"1\" /><path clip-path=\"url(#clip130)\" d=\"M138.33 1431.51 Q134.719 1431.51 132.89 1435.08 Q131.084 1438.62 131.084 1445.75 Q131.084 1452.86 132.89 1456.42 Q134.719 1459.96 138.33 1459.96 Q141.964 1459.96 143.769 1456.42 Q145.598 1452.86 145.598 1445.75 Q145.598 1438.62 143.769 1435.08 Q141.964 1431.51 138.33 1431.51 M138.33 1427.81 Q144.14 1427.81 147.195 1432.42 Q150.274 1437 150.274 1445.75 Q150.274 1454.48 147.195 1459.08 Q144.14 1463.67 138.33 1463.67 Q132.519 1463.67 129.441 1459.08 Q126.385 1454.48 126.385 1445.75 Q126.385 1437 129.441 1432.42 Q132.519 1427.81 138.33 1427.81 Z\" fill=\"#000000\" fill-rule=\"evenodd\" fill-opacity=\"1\" /><path clip-path=\"url(#clip130)\" d=\"M63.9319 1092.08 Q60.3208 1092.08 58.4921 1095.64 Q56.6865 1099.19 56.6865 1106.32 Q56.6865 1113.42 58.4921 1116.99 Q60.3208 1120.53 63.9319 1120.53 Q67.5661 1120.53 69.3717 1116.99 Q71.2004 1113.42 71.2004 1106.32 Q71.2004 1099.19 69.3717 1095.64 Q67.5661 1092.08 63.9319 1092.08 M63.9319 1088.38 Q69.742 1088.38 72.7976 1092.98 Q75.8763 1097.57 75.8763 1106.32 Q75.8763 1115.04 72.7976 1119.65 Q69.742 1124.23 63.9319 1124.23 Q58.1217 1124.23 55.043 1119.65 Q51.9875 1115.04 51.9875 1106.32 Q51.9875 1097.57 55.043 1092.98 Q58.1217 1088.38 63.9319 1088.38 Z\" fill=\"#000000\" fill-rule=\"evenodd\" fill-opacity=\"1\" /><path clip-path=\"url(#clip130)\" d=\"M84.0938 1117.68 L88.978 1117.68 L88.978 1123.56 L84.0938 1123.56 L84.0938 1117.68 Z\" fill=\"#000000\" fill-rule=\"evenodd\" fill-opacity=\"1\" /><path clip-path=\"url(#clip130)\" d=\"M103.191 1119.63 L119.51 1119.63 L119.51 1123.56 L97.566 1123.56 L97.566 1119.63 Q100.228 1116.87 104.811 1112.24 Q109.418 1107.59 110.598 1106.25 Q112.844 1103.72 113.723 1101.99 Q114.626 1100.23 114.626 1098.54 Q114.626 1095.78 112.682 1094.05 Q110.76 1092.31 107.658 1092.31 Q105.459 1092.31 103.006 1093.07 Q100.575 1093.84 97.7974 1095.39 L97.7974 1090.67 Q100.621 1089.53 103.075 1088.95 Q105.529 1088.38 107.566 1088.38 Q112.936 1088.38 116.131 1091.06 Q119.325 1093.75 119.325 1098.24 Q119.325 1100.37 118.515 1102.29 Q117.728 1104.19 115.621 1106.78 Q115.043 1107.45 111.941 1110.67 Q108.839 1113.86 103.191 1119.63 Z\" fill=\"#000000\" fill-rule=\"evenodd\" fill-opacity=\"1\" /><path clip-path=\"url(#clip130)\" d=\"M129.371 1089 L147.728 1089 L147.728 1092.94 L133.654 1092.94 L133.654 1101.41 Q134.672 1101.06 135.691 1100.9 Q136.709 1100.71 137.728 1100.71 Q143.515 1100.71 146.894 1103.89 Q150.274 1107.06 150.274 1112.47 Q150.274 1118.05 146.802 1121.15 Q143.33 1124.23 137.01 1124.23 Q134.834 1124.23 132.566 1123.86 Q130.32 1123.49 127.913 1122.75 L127.913 1118.05 Q129.996 1119.19 132.219 1119.74 Q134.441 1120.3 136.918 1120.3 Q140.922 1120.3 143.26 1118.19 Q145.598 1116.08 145.598 1112.47 Q145.598 1108.86 143.26 1106.76 Q140.922 1104.65 136.918 1104.65 Q135.043 1104.65 133.168 1105.07 Q131.316 1105.48 129.371 1106.36 L129.371 1089 Z\" fill=\"#000000\" fill-rule=\"evenodd\" fill-opacity=\"1\" /><path clip-path=\"url(#clip130)\" d=\"M62.9365 752.645 Q59.3254 752.645 57.4967 756.209 Q55.6912 759.751 55.6912 766.881 Q55.6912 773.987 57.4967 777.552 Q59.3254 781.094 62.9365 781.094 Q66.5707 781.094 68.3763 777.552 Q70.205 773.987 70.205 766.881 Q70.205 759.751 68.3763 756.209 Q66.5707 752.645 62.9365 752.645 M62.9365 748.941 Q68.7467 748.941 71.8022 753.547 Q74.8809 758.131 74.8809 766.881 Q74.8809 775.608 71.8022 780.214 Q68.7467 784.797 62.9365 784.797 Q57.1264 784.797 54.0477 780.214 Q50.9921 775.608 50.9921 766.881 Q50.9921 758.131 54.0477 753.547 Q57.1264 748.941 62.9365 748.941 Z\" fill=\"#000000\" fill-rule=\"evenodd\" fill-opacity=\"1\" /><path clip-path=\"url(#clip130)\" d=\"M83.0984 778.246 L87.9827 778.246 L87.9827 784.126 L83.0984 784.126 L83.0984 778.246 Z\" fill=\"#000000\" fill-rule=\"evenodd\" fill-opacity=\"1\" /><path clip-path=\"url(#clip130)\" d=\"M98.2141 749.566 L116.57 749.566 L116.57 753.501 L102.496 753.501 L102.496 761.973 Q103.515 761.626 104.534 761.464 Q105.552 761.279 106.571 761.279 Q112.358 761.279 115.737 764.45 Q119.117 767.621 119.117 773.038 Q119.117 778.617 115.645 781.719 Q112.172 784.797 105.853 784.797 Q103.677 784.797 101.409 784.427 Q99.1632 784.057 96.7558 783.316 L96.7558 778.617 Q98.8391 779.751 101.061 780.307 Q103.284 780.862 105.76 780.862 Q109.765 780.862 112.103 778.756 Q114.441 776.649 114.441 773.038 Q114.441 769.427 112.103 767.321 Q109.765 765.214 105.76 765.214 Q103.885 765.214 102.01 765.631 Q100.159 766.047 98.2141 766.927 L98.2141 749.566 Z\" fill=\"#000000\" fill-rule=\"evenodd\" fill-opacity=\"1\" /><path clip-path=\"url(#clip130)\" d=\"M138.33 752.645 Q134.719 752.645 132.89 756.209 Q131.084 759.751 131.084 766.881 Q131.084 773.987 132.89 777.552 Q134.719 781.094 138.33 781.094 Q141.964 781.094 143.769 777.552 Q145.598 773.987 145.598 766.881 Q145.598 759.751 143.769 756.209 Q141.964 752.645 138.33 752.645 M138.33 748.941 Q144.14 748.941 147.195 753.547 Q150.274 758.131 150.274 766.881 Q150.274 775.608 147.195 780.214 Q144.14 784.797 138.33 784.797 Q132.519 784.797 129.441 780.214 Q126.385 775.608 126.385 766.881 Q126.385 758.131 129.441 753.547 Q132.519 748.941 138.33 748.941 Z\" fill=\"#000000\" fill-rule=\"evenodd\" fill-opacity=\"1\" /><path clip-path=\"url(#clip130)\" d=\"M63.9319 413.21 Q60.3208 413.21 58.4921 416.775 Q56.6865 420.316 56.6865 427.446 Q56.6865 434.552 58.4921 438.117 Q60.3208 441.659 63.9319 441.659 Q67.5661 441.659 69.3717 438.117 Q71.2004 434.552 71.2004 427.446 Q71.2004 420.316 69.3717 416.775 Q67.5661 413.21 63.9319 413.21 M63.9319 409.506 Q69.742 409.506 72.7976 414.113 Q75.8763 418.696 75.8763 427.446 Q75.8763 436.173 72.7976 440.779 Q69.742 445.362 63.9319 445.362 Q58.1217 445.362 55.043 440.779 Q51.9875 436.173 51.9875 427.446 Q51.9875 418.696 55.043 414.113 Q58.1217 409.506 63.9319 409.506 Z\" fill=\"#000000\" fill-rule=\"evenodd\" fill-opacity=\"1\" /><path clip-path=\"url(#clip130)\" d=\"M84.0938 438.812 L88.978 438.812 L88.978 444.691 L84.0938 444.691 L84.0938 438.812 Z\" fill=\"#000000\" fill-rule=\"evenodd\" fill-opacity=\"1\" /><path clip-path=\"url(#clip130)\" d=\"M97.9826 410.131 L120.205 410.131 L120.205 412.122 L107.658 444.691 L102.774 444.691 L114.58 414.066 L97.9826 414.066 L97.9826 410.131 Z\" fill=\"#000000\" fill-rule=\"evenodd\" fill-opacity=\"1\" /><path clip-path=\"url(#clip130)\" d=\"M129.371 410.131 L147.728 410.131 L147.728 414.066 L133.654 414.066 L133.654 422.538 Q134.672 422.191 135.691 422.029 Q136.709 421.844 137.728 421.844 Q143.515 421.844 146.894 425.015 Q150.274 428.187 150.274 433.603 Q150.274 439.182 146.802 442.284 Q143.33 445.362 137.01 445.362 Q134.834 445.362 132.566 444.992 Q130.32 444.622 127.913 443.881 L127.913 439.182 Q129.996 440.316 132.219 440.872 Q134.441 441.427 136.918 441.427 Q140.922 441.427 143.26 439.321 Q145.598 437.214 145.598 433.603 Q145.598 429.992 143.26 427.886 Q140.922 425.779 136.918 425.779 Q135.043 425.779 133.168 426.196 Q131.316 426.613 129.371 427.492 L129.371 410.131 Z\" fill=\"#000000\" fill-rule=\"evenodd\" fill-opacity=\"1\" /><path clip-path=\"url(#clip130)\" d=\"M53.7467 101.321 L61.3856 101.321 L61.3856 74.9555 L53.0754 76.6222 L53.0754 72.3629 L61.3393 70.6963 L66.0152 70.6963 L66.0152 101.321 L73.654 101.321 L73.654 105.256 L53.7467 105.256 L53.7467 101.321 Z\" fill=\"#000000\" fill-rule=\"evenodd\" fill-opacity=\"1\" /><path clip-path=\"url(#clip130)\" d=\"M83.0984 99.3767 L87.9827 99.3767 L87.9827 105.256 L83.0984 105.256 L83.0984 99.3767 Z\" fill=\"#000000\" fill-rule=\"evenodd\" fill-opacity=\"1\" /><path clip-path=\"url(#clip130)\" d=\"M108.168 73.775 Q104.557 73.775 102.728 77.3398 Q100.922 80.8814 100.922 88.011 Q100.922 95.1174 102.728 98.6822 Q104.557 102.224 108.168 102.224 Q111.802 102.224 113.608 98.6822 Q115.436 95.1174 115.436 88.011 Q115.436 80.8814 113.608 77.3398 Q111.802 73.775 108.168 73.775 M108.168 70.0713 Q113.978 70.0713 117.033 74.6777 Q120.112 79.261 120.112 88.011 Q120.112 96.7378 117.033 101.344 Q113.978 105.928 108.168 105.928 Q102.358 105.928 99.2789 101.344 Q96.2234 96.7378 96.2234 88.011 Q96.2234 79.261 99.2789 74.6777 Q102.358 70.0713 108.168 70.0713 Z\" fill=\"#000000\" fill-rule=\"evenodd\" fill-opacity=\"1\" /><path clip-path=\"url(#clip130)\" d=\"M138.33 73.775 Q134.719 73.775 132.89 77.3398 Q131.084 80.8814 131.084 88.011 Q131.084 95.1174 132.89 98.6822 Q134.719 102.224 138.33 102.224 Q141.964 102.224 143.769 98.6822 Q145.598 95.1174 145.598 88.011 Q145.598 80.8814 143.769 77.3398 Q141.964 73.775 138.33 73.775 M138.33 70.0713 Q144.14 70.0713 147.195 74.6777 Q150.274 79.261 150.274 88.011 Q150.274 96.7378 147.195 101.344 Q144.14 105.928 138.33 105.928 Q132.519 105.928 129.441 101.344 Q126.385 96.7378 126.385 88.011 Q126.385 79.261 129.441 74.6777 Q132.519 70.0713 138.33 70.0713 Z\" fill=\"#000000\" fill-rule=\"evenodd\" fill-opacity=\"1\" /><polyline clip-path=\"url(#clip132)\" style=\"stroke:#009af9; stroke-linecap:butt; stroke-linejoin:round; stroke-width:4; stroke-opacity:1; fill:none\" points=\"\n  315.718,904.056 383.846,328.885 451.975,743.499 520.103,958.715 588.231,794.073 656.36,709.339 724.488,727.34 792.616,777.291 860.745,790.937 928.873,772.818 \n  997.002,758.781 1065.13,759.736 1133.26,766.47 1201.39,770.09 1269.51,769.103 1337.64,766.686 1405.77,765.605 1473.9,766.08 1542.03,766.937 1610.16,767.302 \n  1678.29,767.135 1746.41,766.827 1814.54,766.681 1882.67,766.728 1950.8,766.84 2018.93,766.904 2087.06,766.896 2155.18,766.856 2223.31,766.828 2291.44,766.825 \n  2359.57,766.838 2427.7,766.851 2495.83,766.854 2563.95,766.851 \n  \"/>\n<polyline clip-path=\"url(#clip132)\" style=\"stroke:#e26f46; stroke-linecap:butt; stroke-linejoin:round; stroke-width:4; stroke-opacity:1; fill:none\" points=\"\n  315.718,965.682 383.846,829.341 451.975,786.95 520.103,773.386 588.231,768.987 656.36,767.55 724.488,767.078 792.616,766.923 860.745,766.871 928.873,766.854 \n  997.002,766.849 1065.13,766.847 1133.26,766.846 1201.39,766.846 1269.51,766.846 1337.64,766.846 1405.77,766.846 1473.9,766.846 1542.03,766.846 1610.16,766.846 \n  1678.29,766.846 1746.41,766.846 1814.54,766.846 1882.67,766.846 1950.8,766.846 2018.93,766.846 2087.06,766.846 2155.18,766.846 2223.31,766.846 2291.44,766.846 \n  2359.57,766.846 2427.7,766.846 2495.83,766.846 2563.95,766.846 \n  \"/>\n<polyline clip-path=\"url(#clip132)\" style=\"stroke:#3da44d; stroke-linecap:butt; stroke-linejoin:round; stroke-width:4; stroke-opacity:1; fill:none\" points=\"\n  -1980.21,766.846 4519.24,766.846 \n  \"/>\n<path clip-path=\"url(#clip130)\" d=\"\nM1898.08 302.578 L2280.54 302.578 L2280.54 95.2176 L1898.08 95.2176  Z\n  \" fill=\"#ffffff\" fill-rule=\"evenodd\" fill-opacity=\"1\"/>\n<polyline clip-path=\"url(#clip130)\" style=\"stroke:#000000; stroke-linecap:butt; stroke-linejoin:round; stroke-width:4; stroke-opacity:1; fill:none\" points=\"\n  1898.08,302.578 2280.54,302.578 2280.54,95.2176 1898.08,95.2176 1898.08,302.578 \n  \"/>\n<polyline clip-path=\"url(#clip130)\" style=\"stroke:#009af9; stroke-linecap:butt; stroke-linejoin:round; stroke-width:4; stroke-opacity:1; fill:none\" points=\"\n  1922.16,147.058 2066.59,147.058 \n  \"/>\n<path clip-path=\"url(#clip130)\" d=\"M2116.22 159.407 L2116.22 150.125 L2108.58 150.125 L2108.58 146.282 L2120.85 146.282 L2120.85 161.12 Q2118.14 163.041 2114.87 164.037 Q2111.61 165.009 2107.91 165.009 Q2099.8 165.009 2095.22 160.287 Q2090.66 155.541 2090.66 147.092 Q2090.66 138.62 2095.22 133.898 Q2099.8 129.153 2107.91 129.153 Q2111.29 129.153 2114.32 129.986 Q2117.37 130.819 2119.94 132.44 L2119.94 137.416 Q2117.35 135.217 2114.43 134.106 Q2111.52 132.995 2108.3 132.995 Q2101.96 132.995 2098.76 136.537 Q2095.59 140.078 2095.59 147.092 Q2095.59 154.083 2098.76 157.625 Q2101.96 161.166 2108.3 161.166 Q2110.78 161.166 2112.72 160.75 Q2114.66 160.31 2116.22 159.407 Z\" fill=\"#000000\" fill-rule=\"evenodd\" fill-opacity=\"1\" /><path clip-path=\"url(#clip130)\" d=\"M2129.39 129.778 L2134.06 129.778 L2134.06 160.402 L2150.89 160.402 L2150.89 164.338 L2129.39 164.338 L2129.39 129.778 Z\" fill=\"#000000\" fill-rule=\"evenodd\" fill-opacity=\"1\" /><polyline clip-path=\"url(#clip130)\" style=\"stroke:#e26f46; stroke-linecap:butt; stroke-linejoin:round; stroke-width:4; stroke-opacity:1; fill:none\" points=\"\n  1922.16,198.898 2066.59,198.898 \n  \"/>\n<path clip-path=\"url(#clip130)\" d=\"M2116.22 211.247 L2116.22 201.965 L2108.58 201.965 L2108.58 198.122 L2120.85 198.122 L2120.85 212.96 Q2118.14 214.881 2114.87 215.877 Q2111.61 216.849 2107.91 216.849 Q2099.8 216.849 2095.22 212.127 Q2090.66 207.381 2090.66 198.932 Q2090.66 190.46 2095.22 185.738 Q2099.8 180.993 2107.91 180.993 Q2111.29 180.993 2114.32 181.826 Q2117.37 182.659 2119.94 184.28 L2119.94 189.256 Q2117.35 187.057 2114.43 185.946 Q2111.52 184.835 2108.3 184.835 Q2101.96 184.835 2098.76 188.377 Q2095.59 191.918 2095.59 198.932 Q2095.59 205.923 2098.76 209.465 Q2101.96 213.006 2108.3 213.006 Q2110.78 213.006 2112.72 212.59 Q2114.66 212.15 2116.22 211.247 Z\" fill=\"#000000\" fill-rule=\"evenodd\" fill-opacity=\"1\" /><path clip-path=\"url(#clip130)\" d=\"M2129.39 181.618 L2134.06 181.618 L2134.06 195.784 L2151.05 195.784 L2151.05 181.618 L2155.73 181.618 L2155.73 216.178 L2151.05 216.178 L2151.05 199.719 L2134.06 199.719 L2134.06 216.178 L2129.39 216.178 L2129.39 181.618 Z\" fill=\"#000000\" fill-rule=\"evenodd\" fill-opacity=\"1\" /><polyline clip-path=\"url(#clip130)\" style=\"stroke:#3da44d; stroke-linecap:butt; stroke-linejoin:round; stroke-width:4; stroke-opacity:1; fill:none\" points=\"\n  1922.16,250.738 2066.59,250.738 \n  \"/>\n<path clip-path=\"url(#clip130)\" d=\"M2098.07 234.731 L2098.07 242.092 L2106.84 242.092 L2106.84 245.402 L2098.07 245.402 L2098.07 259.476 Q2098.07 262.647 2098.92 263.55 Q2099.8 264.453 2102.47 264.453 L2106.84 264.453 L2106.84 268.018 L2102.47 268.018 Q2097.54 268.018 2095.66 266.189 Q2093.79 264.337 2093.79 259.476 L2093.79 245.402 L2090.66 245.402 L2090.66 242.092 L2093.79 242.092 L2093.79 234.731 L2098.07 234.731 Z\" fill=\"#000000\" fill-rule=\"evenodd\" fill-opacity=\"1\" /><path clip-path=\"url(#clip130)\" d=\"M2124.23 254.985 Q2119.06 254.985 2117.07 256.166 Q2115.08 257.346 2115.08 260.194 Q2115.08 262.462 2116.56 263.805 Q2118.07 265.124 2120.64 265.124 Q2124.18 265.124 2126.31 262.624 Q2128.46 260.101 2128.46 255.934 L2128.46 254.985 L2124.23 254.985 M2132.72 253.226 L2132.72 268.018 L2128.46 268.018 L2128.46 264.082 Q2127 266.443 2124.83 267.578 Q2122.65 268.689 2119.5 268.689 Q2115.52 268.689 2113.16 266.467 Q2110.82 264.221 2110.82 260.471 Q2110.82 256.096 2113.74 253.874 Q2116.68 251.652 2122.49 251.652 L2128.46 251.652 L2128.46 251.235 Q2128.46 248.295 2126.52 246.698 Q2124.6 245.078 2121.1 245.078 Q2118.88 245.078 2116.77 245.61 Q2114.66 246.143 2112.72 247.207 L2112.72 243.272 Q2115.06 242.37 2117.26 241.93 Q2119.46 241.467 2121.54 241.467 Q2127.16 241.467 2129.94 244.383 Q2132.72 247.3 2132.72 253.226 Z\" fill=\"#000000\" fill-rule=\"evenodd\" fill-opacity=\"1\" /><path clip-path=\"url(#clip130)\" d=\"M2156.52 246.073 Q2155.8 245.657 2154.94 245.471 Q2154.11 245.263 2153.09 245.263 Q2149.48 245.263 2147.54 247.624 Q2145.61 249.962 2145.61 254.36 L2145.61 268.018 L2141.33 268.018 L2141.33 242.092 L2145.61 242.092 L2145.61 246.12 Q2146.96 243.758 2149.11 242.624 Q2151.26 241.467 2154.34 241.467 Q2154.78 241.467 2155.31 241.536 Q2155.85 241.583 2156.49 241.698 L2156.52 246.073 Z\" fill=\"#000000\" fill-rule=\"evenodd\" fill-opacity=\"1\" /><path clip-path=\"url(#clip130)\" d=\"M2177.21 254.754 Q2177.21 250.124 2175.29 247.578 Q2173.39 245.032 2169.94 245.032 Q2166.52 245.032 2164.6 247.578 Q2162.7 250.124 2162.7 254.754 Q2162.7 259.36 2164.6 261.906 Q2166.52 264.453 2169.94 264.453 Q2173.39 264.453 2175.29 261.906 Q2177.21 259.36 2177.21 254.754 M2181.47 264.8 Q2181.47 271.42 2178.53 274.638 Q2175.59 277.879 2169.53 277.879 Q2167.28 277.879 2165.29 277.531 Q2163.3 277.207 2161.42 276.513 L2161.42 272.369 Q2163.3 273.388 2165.13 273.874 Q2166.96 274.36 2168.85 274.36 Q2173.04 274.36 2175.13 272.161 Q2177.21 269.985 2177.21 265.564 L2177.21 263.457 Q2175.89 265.749 2173.83 266.883 Q2171.77 268.018 2168.9 268.018 Q2164.13 268.018 2161.22 264.383 Q2158.3 260.749 2158.3 254.754 Q2158.3 248.735 2161.22 245.101 Q2164.13 241.467 2168.9 241.467 Q2171.77 241.467 2173.83 242.601 Q2175.89 243.735 2177.21 246.027 L2177.21 242.092 L2181.47 242.092 L2181.47 264.8 Z\" fill=\"#000000\" fill-rule=\"evenodd\" fill-opacity=\"1\" /><path clip-path=\"url(#clip130)\" d=\"M2212.42 253.99 L2212.42 256.073 L2192.84 256.073 Q2193.11 260.471 2195.47 262.786 Q2197.86 265.078 2202.1 265.078 Q2204.55 265.078 2206.84 264.476 Q2209.16 263.874 2211.42 262.67 L2211.42 266.698 Q2209.13 267.67 2206.72 268.18 Q2204.32 268.689 2201.84 268.689 Q2195.64 268.689 2192 265.078 Q2188.39 261.467 2188.39 255.309 Q2188.39 248.944 2191.82 245.217 Q2195.27 241.467 2201.1 241.467 Q2206.33 241.467 2209.36 244.846 Q2212.42 248.203 2212.42 253.99 M2208.16 252.74 Q2208.11 249.245 2206.19 247.161 Q2204.29 245.078 2201.15 245.078 Q2197.58 245.078 2195.43 247.092 Q2193.3 249.106 2192.97 252.763 L2208.16 252.74 Z\" fill=\"#000000\" fill-rule=\"evenodd\" fill-opacity=\"1\" /><path clip-path=\"url(#clip130)\" d=\"M2223.62 234.731 L2223.62 242.092 L2232.4 242.092 L2232.4 245.402 L2223.62 245.402 L2223.62 259.476 Q2223.62 262.647 2224.48 263.55 Q2225.36 264.453 2228.02 264.453 L2232.4 264.453 L2232.4 268.018 L2228.02 268.018 Q2223.09 268.018 2221.22 266.189 Q2219.34 264.337 2219.34 259.476 L2219.34 245.402 L2216.22 245.402 L2216.22 242.092 L2219.34 242.092 L2219.34 234.731 L2223.62 234.731 Z\" fill=\"#000000\" fill-rule=\"evenodd\" fill-opacity=\"1\" /></svg>\n"
               },
               "type": "node"
              }
             ],
             "instanceArgs": {
              "namespace": "html",
              "tag": "div"
             },
             "nodeType": "DOM",
             "props": {
              "className": "interact-flex-row interact-widget"
             },
             "type": "node"
            }
           }
          },
          "systemjs_options": null
         },
         "nodeType": "Scope",
         "props": {},
         "type": "node"
        }
       ],
       "instanceArgs": {
        "namespace": "html",
        "tag": "div"
       },
       "nodeType": "DOM",
       "props": {},
       "type": "node"
      },
      "text/html": [
       "<div\n",
       "    class=\"webio-mountpoint\"\n",
       "    data-webio-mountpoint=\"3614196398297747710\"\n",
       ">\n",
       "    <script>\n",
       "    (function(){\n",
       "    // Some integrations (namely, IJulia/Jupyter) use an alternate render pathway than\n",
       "    // just putting the html on the page. If WebIO isn't defined, then it's pretty likely\n",
       "    // that we're in one of those situations and the integration just isn't installed\n",
       "    // correctly.\n",
       "    if (typeof window.WebIO === \"undefined\") {\n",
       "        document\n",
       "            .querySelector('[data-webio-mountpoint=\"3614196398297747710\"]')\n",
       "            .innerHTML = (\n",
       "                '<div style=\"padding: 1em; background-color: #f8d6da; border: 1px solid #f5c6cb; font-weight: bold;\">' +\n",
       "                '<p><strong>WebIO not detected.</strong></p>' +\n",
       "                '<p>Please read ' +\n",
       "                '<a href=\"https://juliagizmos.github.io/WebIO.jl/latest/troubleshooting/not-detected/\" target=\"_blank\">the troubleshooting guide</a> ' +\n",
       "                'for more information on how to resolve this issue.</p>' +\n",
       "                '<p><a href=\"https://juliagizmos.github.io/WebIO.jl/latest/troubleshooting/not-detected/\" target=\"_blank\">https://juliagizmos.github.io/WebIO.jl/latest/troubleshooting/not-detected/</a></p>' +\n",
       "                '</div>'\n",
       "            );\n",
       "        return;\n",
       "    }\n",
       "    WebIO.mount(\n",
       "        document.querySelector('[data-webio-mountpoint=\"3614196398297747710\"]'),\n",
       "        {\"props\":{},\"nodeType\":\"DOM\",\"type\":\"node\",\"instanceArgs\":{\"namespace\":\"html\",\"tag\":\"div\"},\"children\":[{\"props\":{\"className\":\"field interact-widget\"},\"nodeType\":\"DOM\",\"type\":\"node\",\"instanceArgs\":{\"namespace\":\"html\",\"tag\":\"div\"},\"children\":[{\"props\":{},\"nodeType\":\"Scope\",\"type\":\"node\",\"instanceArgs\":{\"imports\":{\"data\":[{\"name\":\"knockout\",\"type\":\"js\",\"url\":\"\\/assetserver\\/a0663ad37bdb924bb8f58218fb6104c40c026f21-knockout.js\"},{\"name\":\"knockout_punches\",\"type\":\"js\",\"url\":\"\\/assetserver\\/c0559b701cdaac29f8d4c071931238140df0ba9e-knockout_punches.js\"},{\"name\":null,\"type\":\"js\",\"url\":\"\\/assetserver\\/6903f16a2fa666a30d8cd2d6208cd478f2652502-all.js\"},{\"name\":null,\"type\":\"css\",\"url\":\"\\/assetserver\\/7d705742052c6f6628e73b4f886fdd4d3b8c526b-style.css\"},{\"name\":null,\"type\":\"css\",\"url\":\"\\/assetserver\\/47bdb778fdc8f5b8223473593d42cb825a0e5022-bulma_confined.min.css\"}],\"type\":\"async_block\"},\"id\":\"13529146301175742565\",\"handlers\":{\"changes\":[\"(function (val){return (val!=this.model[\\\"changes\\\"]()) ? (this.valueFromJulia[\\\"changes\\\"]=true, this.model[\\\"changes\\\"](val)) : undefined})\"],\"index\":[\"(function (val){return (val!=this.model[\\\"index\\\"]()) ? (this.valueFromJulia[\\\"index\\\"]=true, this.model[\\\"index\\\"](val)) : undefined})\"]},\"systemjs_options\":null,\"mount_callbacks\":[\"function () {\\n    var handler = (function (ko, koPunches) {\\n    ko.punches.enableAll();\\n    ko.bindingHandlers.numericValue = {\\n        init: function(element, valueAccessor, allBindings, data, context) {\\n            var stringified = ko.observable(ko.unwrap(valueAccessor()));\\n            stringified.subscribe(function(value) {\\n                var val = parseFloat(value);\\n                if (!isNaN(val)) {\\n                    valueAccessor()(val);\\n                }\\n            });\\n            valueAccessor().subscribe(function(value) {\\n                var str = JSON.stringify(value);\\n                if ((str == \\\"0\\\") && ([\\\"-0\\\", \\\"-0.\\\"].indexOf(stringified()) >= 0))\\n                     return;\\n                 if ([\\\"null\\\", \\\"\\\"].indexOf(str) >= 0)\\n                     return;\\n                stringified(str);\\n            });\\n            ko.applyBindingsToNode(\\n                element,\\n                {\\n                    value: stringified,\\n                    valueUpdate: allBindings.get('valueUpdate'),\\n                },\\n                context,\\n            );\\n        }\\n    };\\n    var json_data = {\\\"formatted_vals\\\":[\\\"-5.0\\\",\\\"-4.8\\\",\\\"-4.6\\\",\\\"-4.4\\\",\\\"-4.2\\\",\\\"-4.0\\\",\\\"-3.8\\\",\\\"-3.6\\\",\\\"-3.4\\\",\\\"-3.2\\\",\\\"-3.0\\\",\\\"-2.8\\\",\\\"-2.6\\\",\\\"-2.4\\\",\\\"-2.2\\\",\\\"-2.0\\\",\\\"-1.8\\\",\\\"-1.6\\\",\\\"-1.4\\\",\\\"-1.2\\\",\\\"-1.0\\\",\\\"-0.8\\\",\\\"-0.6\\\",\\\"-0.4\\\",\\\"-0.2\\\",\\\"0.0\\\",\\\"0.2\\\",\\\"0.4\\\",\\\"0.6\\\",\\\"0.8\\\",\\\"1.0\\\",\\\"1.2\\\",\\\"1.4\\\",\\\"1.6\\\",\\\"1.8\\\",\\\"2.0\\\",\\\"2.2\\\",\\\"2.4\\\",\\\"2.6\\\",\\\"2.8\\\",\\\"3.0\\\",\\\"3.2\\\",\\\"3.4\\\",\\\"3.6\\\",\\\"3.8\\\",\\\"4.0\\\",\\\"4.2\\\",\\\"4.4\\\",\\\"4.6\\\",\\\"4.8\\\",\\\"5.0\\\"],\\\"changes\\\":WebIO.getval({\\\"name\\\":\\\"changes\\\",\\\"scope\\\":\\\"13529146301175742565\\\",\\\"id\\\":\\\"17135160796909679459\\\",\\\"type\\\":\\\"observable\\\"}),\\\"index\\\":WebIO.getval({\\\"name\\\":\\\"index\\\",\\\"scope\\\":\\\"13529146301175742565\\\",\\\"id\\\":\\\"9778504136946651723\\\",\\\"type\\\":\\\"observable\\\"})};\\n    var self = this;\\n    function AppViewModel() {\\n        for (var key in json_data) {\\n            var el = json_data[key];\\n            this[key] = Array.isArray(el) ? ko.observableArray(el) : ko.observable(el);\\n        }\\n        \\n        [this[\\\"formatted_val\\\"]=ko.computed(    function(){\\n        return this.formatted_vals()[parseInt(this.index())-(1)];\\n    }\\n,this)]\\n        [this[\\\"changes\\\"].subscribe((function (val){!(this.valueFromJulia[\\\"changes\\\"]) ? (WebIO.setval({\\\"name\\\":\\\"changes\\\",\\\"scope\\\":\\\"13529146301175742565\\\",\\\"id\\\":\\\"17135160796909679459\\\",\\\"type\\\":\\\"observable\\\"},val)) : undefined; return this.valueFromJulia[\\\"changes\\\"]=false}),self),this[\\\"index\\\"].subscribe((function (val){!(this.valueFromJulia[\\\"index\\\"]) ? (WebIO.setval({\\\"name\\\":\\\"index\\\",\\\"scope\\\":\\\"13529146301175742565\\\",\\\"id\\\":\\\"9778504136946651723\\\",\\\"type\\\":\\\"observable\\\"},val)) : undefined; return this.valueFromJulia[\\\"index\\\"]=false}),self)]\\n        \\n    }\\n    self.model = new AppViewModel();\\n    self.valueFromJulia = {};\\n    for (var key in json_data) {\\n        self.valueFromJulia[key] = false;\\n    }\\n    ko.applyBindings(self.model, self.dom);\\n}\\n);\\n    (WebIO.importBlock({\\\"data\\\":[{\\\"name\\\":\\\"knockout\\\",\\\"type\\\":\\\"js\\\",\\\"url\\\":\\\"\\/assetserver\\/a0663ad37bdb924bb8f58218fb6104c40c026f21-knockout.js\\\"},{\\\"name\\\":\\\"knockout_punches\\\",\\\"type\\\":\\\"js\\\",\\\"url\\\":\\\"\\/assetserver\\/c0559b701cdaac29f8d4c071931238140df0ba9e-knockout_punches.js\\\"}],\\\"type\\\":\\\"async_block\\\"})).then((imports) => handler.apply(this, imports));\\n}\\n\"],\"observables\":{\"changes\":{\"sync\":false,\"id\":\"17135160796909679459\",\"value\":0},\"index\":{\"sync\":true,\"id\":\"9778504136946651723\",\"value\":26}}},\"children\":[{\"props\":{\"className\":\"interact-flex-row interact-widget\"},\"nodeType\":\"DOM\",\"type\":\"node\",\"instanceArgs\":{\"namespace\":\"html\",\"tag\":\"div\"},\"children\":[{\"props\":{\"className\":\"interact-flex-row-left\"},\"nodeType\":\"DOM\",\"type\":\"node\",\"instanceArgs\":{\"namespace\":\"html\",\"tag\":\"div\"},\"children\":[{\"props\":{\"className\":\"interact \",\"style\":{\"padding\":\"5px 10px 0px 10px\"}},\"nodeType\":\"DOM\",\"type\":\"node\",\"instanceArgs\":{\"namespace\":\"html\",\"tag\":\"label\"},\"children\":[\"a\"]}]},{\"props\":{\"className\":\"interact-flex-row-center\"},\"nodeType\":\"DOM\",\"type\":\"node\",\"instanceArgs\":{\"namespace\":\"html\",\"tag\":\"div\"},\"children\":[{\"props\":{\"max\":51,\"min\":1,\"attributes\":{\"type\":\"range\",\"data-bind\":\"numericValue: index, valueUpdate: 'input', event: {change: function (){this.changes(this.changes()+1)}}\",\"orient\":\"horizontal\"},\"step\":1,\"className\":\"slider slider is-fullwidth\",\"style\":{}},\"nodeType\":\"DOM\",\"type\":\"node\",\"instanceArgs\":{\"namespace\":\"html\",\"tag\":\"input\"},\"children\":[]}]},{\"props\":{\"className\":\"interact-flex-row-right\"},\"nodeType\":\"DOM\",\"type\":\"node\",\"instanceArgs\":{\"namespace\":\"html\",\"tag\":\"div\"},\"children\":[{\"props\":{\"attributes\":{\"data-bind\":\"text: formatted_val\"}},\"nodeType\":\"DOM\",\"type\":\"node\",\"instanceArgs\":{\"namespace\":\"html\",\"tag\":\"p\"},\"children\":[]}]}]}]}]},{\"props\":{\"className\":\"field interact-widget\"},\"nodeType\":\"DOM\",\"type\":\"node\",\"instanceArgs\":{\"namespace\":\"html\",\"tag\":\"div\"},\"children\":[{\"props\":{},\"nodeType\":\"Scope\",\"type\":\"node\",\"instanceArgs\":{\"imports\":{\"data\":[{\"name\":\"knockout\",\"type\":\"js\",\"url\":\"\\/assetserver\\/a0663ad37bdb924bb8f58218fb6104c40c026f21-knockout.js\"},{\"name\":\"knockout_punches\",\"type\":\"js\",\"url\":\"\\/assetserver\\/c0559b701cdaac29f8d4c071931238140df0ba9e-knockout_punches.js\"},{\"name\":null,\"type\":\"js\",\"url\":\"\\/assetserver\\/6903f16a2fa666a30d8cd2d6208cd478f2652502-all.js\"},{\"name\":null,\"type\":\"css\",\"url\":\"\\/assetserver\\/7d705742052c6f6628e73b4f886fdd4d3b8c526b-style.css\"},{\"name\":null,\"type\":\"css\",\"url\":\"\\/assetserver\\/47bdb778fdc8f5b8223473593d42cb825a0e5022-bulma_confined.min.css\"}],\"type\":\"async_block\"},\"id\":\"9035582120429443493\",\"handlers\":{\"changes\":[\"(function (val){return (val!=this.model[\\\"changes\\\"]()) ? (this.valueFromJulia[\\\"changes\\\"]=true, this.model[\\\"changes\\\"](val)) : undefined})\"],\"index\":[\"(function (val){return (val!=this.model[\\\"index\\\"]()) ? (this.valueFromJulia[\\\"index\\\"]=true, this.model[\\\"index\\\"](val)) : undefined})\"]},\"systemjs_options\":null,\"mount_callbacks\":[\"function () {\\n    var handler = (function (ko, koPunches) {\\n    ko.punches.enableAll();\\n    ko.bindingHandlers.numericValue = {\\n        init: function(element, valueAccessor, allBindings, data, context) {\\n            var stringified = ko.observable(ko.unwrap(valueAccessor()));\\n            stringified.subscribe(function(value) {\\n                var val = parseFloat(value);\\n                if (!isNaN(val)) {\\n                    valueAccessor()(val);\\n                }\\n            });\\n            valueAccessor().subscribe(function(value) {\\n                var str = JSON.stringify(value);\\n                if ((str == \\\"0\\\") && ([\\\"-0\\\", \\\"-0.\\\"].indexOf(stringified()) >= 0))\\n                     return;\\n                 if ([\\\"null\\\", \\\"\\\"].indexOf(str) >= 0)\\n                     return;\\n                stringified(str);\\n            });\\n            ko.applyBindingsToNode(\\n                element,\\n                {\\n                    value: stringified,\\n                    valueUpdate: allBindings.get('valueUpdate'),\\n                },\\n                context,\\n            );\\n        }\\n    };\\n    var json_data = {\\\"formatted_vals\\\":[\\\"0.1\\\",\\\"0.3\\\",\\\"0.5\\\",\\\"0.7\\\",\\\"0.9\\\",\\\"1.1\\\",\\\"1.3\\\",\\\"1.5\\\",\\\"1.7\\\",\\\"1.9\\\",\\\"2.1\\\",\\\"2.3\\\",\\\"2.5\\\",\\\"2.7\\\",\\\"2.9\\\",\\\"3.1\\\",\\\"3.3\\\",\\\"3.5\\\",\\\"3.7\\\",\\\"3.9\\\",\\\"4.1\\\",\\\"4.3\\\",\\\"4.5\\\",\\\"4.7\\\",\\\"4.9\\\"],\\\"changes\\\":WebIO.getval({\\\"name\\\":\\\"changes\\\",\\\"scope\\\":\\\"9035582120429443493\\\",\\\"id\\\":\\\"5913656512889119743\\\",\\\"type\\\":\\\"observable\\\"}),\\\"index\\\":WebIO.getval({\\\"name\\\":\\\"index\\\",\\\"scope\\\":\\\"9035582120429443493\\\",\\\"id\\\":\\\"785025906897145174\\\",\\\"type\\\":\\\"observable\\\"})};\\n    var self = this;\\n    function AppViewModel() {\\n        for (var key in json_data) {\\n            var el = json_data[key];\\n            this[key] = Array.isArray(el) ? ko.observableArray(el) : ko.observable(el);\\n        }\\n        \\n        [this[\\\"formatted_val\\\"]=ko.computed(    function(){\\n        return this.formatted_vals()[parseInt(this.index())-(1)];\\n    }\\n,this)]\\n        [this[\\\"changes\\\"].subscribe((function (val){!(this.valueFromJulia[\\\"changes\\\"]) ? (WebIO.setval({\\\"name\\\":\\\"changes\\\",\\\"scope\\\":\\\"9035582120429443493\\\",\\\"id\\\":\\\"5913656512889119743\\\",\\\"type\\\":\\\"observable\\\"},val)) : undefined; return this.valueFromJulia[\\\"changes\\\"]=false}),self),this[\\\"index\\\"].subscribe((function (val){!(this.valueFromJulia[\\\"index\\\"]) ? (WebIO.setval({\\\"name\\\":\\\"index\\\",\\\"scope\\\":\\\"9035582120429443493\\\",\\\"id\\\":\\\"785025906897145174\\\",\\\"type\\\":\\\"observable\\\"},val)) : undefined; return this.valueFromJulia[\\\"index\\\"]=false}),self)]\\n        \\n    }\\n    self.model = new AppViewModel();\\n    self.valueFromJulia = {};\\n    for (var key in json_data) {\\n        self.valueFromJulia[key] = false;\\n    }\\n    ko.applyBindings(self.model, self.dom);\\n}\\n);\\n    (WebIO.importBlock({\\\"data\\\":[{\\\"name\\\":\\\"knockout\\\",\\\"type\\\":\\\"js\\\",\\\"url\\\":\\\"\\/assetserver\\/a0663ad37bdb924bb8f58218fb6104c40c026f21-knockout.js\\\"},{\\\"name\\\":\\\"knockout_punches\\\",\\\"type\\\":\\\"js\\\",\\\"url\\\":\\\"\\/assetserver\\/c0559b701cdaac29f8d4c071931238140df0ba9e-knockout_punches.js\\\"}],\\\"type\\\":\\\"async_block\\\"})).then((imports) => handler.apply(this, imports));\\n}\\n\"],\"observables\":{\"changes\":{\"sync\":false,\"id\":\"5913656512889119743\",\"value\":0},\"index\":{\"sync\":true,\"id\":\"785025906897145174\",\"value\":13}}},\"children\":[{\"props\":{\"className\":\"interact-flex-row interact-widget\"},\"nodeType\":\"DOM\",\"type\":\"node\",\"instanceArgs\":{\"namespace\":\"html\",\"tag\":\"div\"},\"children\":[{\"props\":{\"className\":\"interact-flex-row-left\"},\"nodeType\":\"DOM\",\"type\":\"node\",\"instanceArgs\":{\"namespace\":\"html\",\"tag\":\"div\"},\"children\":[{\"props\":{\"className\":\"interact \",\"style\":{\"padding\":\"5px 10px 0px 10px\"}},\"nodeType\":\"DOM\",\"type\":\"node\",\"instanceArgs\":{\"namespace\":\"html\",\"tag\":\"label\"},\"children\":[\"b\"]}]},{\"props\":{\"className\":\"interact-flex-row-center\"},\"nodeType\":\"DOM\",\"type\":\"node\",\"instanceArgs\":{\"namespace\":\"html\",\"tag\":\"div\"},\"children\":[{\"props\":{\"max\":25,\"min\":1,\"attributes\":{\"type\":\"range\",\"data-bind\":\"numericValue: index, valueUpdate: 'input', event: {change: function (){this.changes(this.changes()+1)}}\",\"orient\":\"horizontal\"},\"step\":1,\"className\":\"slider slider is-fullwidth\",\"style\":{}},\"nodeType\":\"DOM\",\"type\":\"node\",\"instanceArgs\":{\"namespace\":\"html\",\"tag\":\"input\"},\"children\":[]}]},{\"props\":{\"className\":\"interact-flex-row-right\"},\"nodeType\":\"DOM\",\"type\":\"node\",\"instanceArgs\":{\"namespace\":\"html\",\"tag\":\"div\"},\"children\":[{\"props\":{\"attributes\":{\"data-bind\":\"text: formatted_val\"}},\"nodeType\":\"DOM\",\"type\":\"node\",\"instanceArgs\":{\"namespace\":\"html\",\"tag\":\"p\"},\"children\":[]}]}]}]}]},{\"props\":{},\"nodeType\":\"Scope\",\"type\":\"node\",\"instanceArgs\":{\"imports\":{\"data\":[],\"type\":\"async_block\"},\"id\":\"12052298255004197219\",\"handlers\":{},\"systemjs_options\":null,\"mount_callbacks\":[],\"observables\":{\"obs-node\":{\"sync\":false,\"id\":\"11808840724631637420\",\"value\":{\"props\":{\"className\":\"interact-flex-row interact-widget\"},\"nodeType\":\"DOM\",\"type\":\"node\",\"instanceArgs\":{\"namespace\":\"html\",\"tag\":\"div\"},\"children\":[{\"props\":{\"setInnerHtml\":\"<?xml version=\\\"1.0\\\" encoding=\\\"utf-8\\\"?>\\n<svg xmlns=\\\"http:\\/\\/www.w3.org\\/2000\\/svg\\\" xmlns:xlink=\\\"http:\\/\\/www.w3.org\\/1999\\/xlink\\\" width=\\\"600\\\" height=\\\"400\\\" viewBox=\\\"0 0 2400 1600\\\">\\n<defs>\\n  <clipPath id=\\\"clip090\\\">\\n    <rect x=\\\"0\\\" y=\\\"0\\\" width=\\\"2400\\\" height=\\\"1600\\\"\\/>\\n  <\\/clipPath>\\n<\\/defs>\\n<path clip-path=\\\"url(#clip090)\\\" d=\\\"\\nM0 1600 L2400 1600 L2400 0 L0 0  Z\\n  \\\" fill=\\\"#ffffff\\\" fill-rule=\\\"evenodd\\\" fill-opacity=\\\"1\\\"\\/>\\n<defs>\\n  <clipPath id=\\\"clip091\\\">\\n    <rect x=\\\"480\\\" y=\\\"0\\\" width=\\\"1681\\\" height=\\\"1600\\\"\\/>\\n  <\\/clipPath>\\n<\\/defs>\\n<path clip-path=\\\"url(#clip090)\\\" d=\\\"\\nM186.274 1486.45 L2352.76 1486.45 L2352.76 47.2441 L186.274 47.2441  Z\\n  \\\" fill=\\\"#ffffff\\\" fill-rule=\\\"evenodd\\\" fill-opacity=\\\"1\\\"\\/>\\n<defs>\\n  <clipPath id=\\\"clip092\\\">\\n    <rect x=\\\"186\\\" y=\\\"47\\\" width=\\\"2167\\\" height=\\\"1440\\\"\\/>\\n  <\\/clipPath>\\n<\\/defs>\\n<polyline clip-path=\\\"url(#clip092)\\\" style=\\\"stroke:#000000; stroke-linecap:butt; stroke-linejoin:round; stroke-width:2; stroke-opacity:0.1; fill:none\\\" points=\\\"\\n  247.59,1486.45 247.59,47.2441 \\n  \\\"\\/>\\n<polyline clip-path=\\\"url(#clip092)\\\" style=\\\"stroke:#000000; stroke-linecap:butt; stroke-linejoin:round; stroke-width:2; stroke-opacity:0.1; fill:none\\\" points=\\\"\\n  928.873,1486.45 928.873,47.2441 \\n  \\\"\\/>\\n<polyline clip-path=\\\"url(#clip092)\\\" style=\\\"stroke:#000000; stroke-linecap:butt; stroke-linejoin:round; stroke-width:2; stroke-opacity:0.1; fill:none\\\" points=\\\"\\n  1610.16,1486.45 1610.16,47.2441 \\n  \\\"\\/>\\n<polyline clip-path=\\\"url(#clip092)\\\" style=\\\"stroke:#000000; stroke-linecap:butt; stroke-linejoin:round; stroke-width:2; stroke-opacity:0.1; fill:none\\\" points=\\\"\\n  2291.44,1486.45 2291.44,47.2441 \\n  \\\"\\/>\\n<polyline clip-path=\\\"url(#clip090)\\\" style=\\\"stroke:#000000; stroke-linecap:butt; stroke-linejoin:round; stroke-width:4; stroke-opacity:1; fill:none\\\" points=\\\"\\n  186.274,1486.45 2352.76,1486.45 \\n  \\\"\\/>\\n<polyline clip-path=\\\"url(#clip090)\\\" style=\\\"stroke:#000000; stroke-linecap:butt; stroke-linejoin:round; stroke-width:4; stroke-opacity:1; fill:none\\\" points=\\\"\\n  247.59,1486.45 247.59,1467.55 \\n  \\\"\\/>\\n<polyline clip-path=\\\"url(#clip090)\\\" style=\\\"stroke:#000000; stroke-linecap:butt; stroke-linejoin:round; stroke-width:4; stroke-opacity:1; fill:none\\\" points=\\\"\\n  928.873,1486.45 928.873,1467.55 \\n  \\\"\\/>\\n<polyline clip-path=\\\"url(#clip090)\\\" style=\\\"stroke:#000000; stroke-linecap:butt; stroke-linejoin:round; stroke-width:4; stroke-opacity:1; fill:none\\\" points=\\\"\\n  1610.16,1486.45 1610.16,1467.55 \\n  \\\"\\/>\\n<polyline clip-path=\\\"url(#clip090)\\\" style=\\\"stroke:#000000; stroke-linecap:butt; stroke-linejoin:round; stroke-width:4; stroke-opacity:1; fill:none\\\" points=\\\"\\n  2291.44,1486.45 2291.44,1467.55 \\n  \\\"\\/>\\n<path clip-path=\\\"url(#clip090)\\\" d=\\\"M247.59 1517.37 Q243.978 1517.37 242.15 1520.93 Q240.344 1524.47 240.344 1531.6 Q240.344 1538.71 242.15 1542.27 Q243.978 1545.82 247.59 1545.82 Q251.224 1545.82 253.029 1542.27 Q254.858 1538.71 254.858 1531.6 Q254.858 1524.47 253.029 1520.93 Q251.224 1517.37 247.59 1517.37 M247.59 1513.66 Q253.4 1513.66 256.455 1518.27 Q259.534 1522.85 259.534 1531.6 Q259.534 1540.33 256.455 1544.94 Q253.4 1549.52 247.59 1549.52 Q241.779 1549.52 238.701 1544.94 Q235.645 1540.33 235.645 1531.6 Q235.645 1522.85 238.701 1518.27 Q241.779 1513.66 247.59 1513.66 Z\\\" fill=\\\"#000000\\\" fill-rule=\\\"evenodd\\\" fill-opacity=\\\"1\\\" \\/><path clip-path=\\\"url(#clip090)\\\" d=\\\"M903.561 1544.91 L911.2 1544.91 L911.2 1518.55 L902.889 1520.21 L902.889 1515.95 L911.153 1514.29 L915.829 1514.29 L915.829 1544.91 L923.468 1544.91 L923.468 1548.85 L903.561 1548.85 L903.561 1544.91 Z\\\" fill=\\\"#000000\\\" fill-rule=\\\"evenodd\\\" fill-opacity=\\\"1\\\" \\/><path clip-path=\\\"url(#clip090)\\\" d=\\\"M942.912 1517.37 Q939.301 1517.37 937.473 1520.93 Q935.667 1524.47 935.667 1531.6 Q935.667 1538.71 937.473 1542.27 Q939.301 1545.82 942.912 1545.82 Q946.547 1545.82 948.352 1542.27 Q950.181 1538.71 950.181 1531.6 Q950.181 1524.47 948.352 1520.93 Q946.547 1517.37 942.912 1517.37 M942.912 1513.66 Q948.723 1513.66 951.778 1518.27 Q954.857 1522.85 954.857 1531.6 Q954.857 1540.33 951.778 1544.94 Q948.723 1549.52 942.912 1549.52 Q937.102 1549.52 934.024 1544.94 Q930.968 1540.33 930.968 1531.6 Q930.968 1522.85 934.024 1518.27 Q937.102 1513.66 942.912 1513.66 Z\\\" fill=\\\"#000000\\\" fill-rule=\\\"evenodd\\\" fill-opacity=\\\"1\\\" \\/><path clip-path=\\\"url(#clip090)\\\" d=\\\"M1588.93 1544.91 L1605.25 1544.91 L1605.25 1548.85 L1583.31 1548.85 L1583.31 1544.91 Q1585.97 1542.16 1590.55 1537.53 Q1595.16 1532.88 1596.34 1531.53 Q1598.58 1529.01 1599.46 1527.27 Q1600.37 1525.51 1600.37 1523.82 Q1600.37 1521.07 1598.42 1519.33 Q1596.5 1517.6 1593.4 1517.6 Q1591.2 1517.6 1588.74 1518.36 Q1586.31 1519.13 1583.54 1520.68 L1583.54 1515.95 Q1586.36 1514.82 1588.81 1514.24 Q1591.27 1513.66 1593.31 1513.66 Q1598.68 1513.66 1601.87 1516.35 Q1605.06 1519.03 1605.06 1523.52 Q1605.06 1525.65 1604.25 1527.57 Q1603.47 1529.47 1601.36 1532.07 Q1600.78 1532.74 1597.68 1535.95 Q1594.58 1539.15 1588.93 1544.91 Z\\\" fill=\\\"#000000\\\" fill-rule=\\\"evenodd\\\" fill-opacity=\\\"1\\\" \\/><path clip-path=\\\"url(#clip090)\\\" d=\\\"M1625.06 1517.37 Q1621.45 1517.37 1619.62 1520.93 Q1617.82 1524.47 1617.82 1531.6 Q1617.82 1538.71 1619.62 1542.27 Q1621.45 1545.82 1625.06 1545.82 Q1628.7 1545.82 1630.5 1542.27 Q1632.33 1538.71 1632.33 1531.6 Q1632.33 1524.47 1630.5 1520.93 Q1628.7 1517.37 1625.06 1517.37 M1625.06 1513.66 Q1630.87 1513.66 1633.93 1518.27 Q1637.01 1522.85 1637.01 1531.6 Q1637.01 1540.33 1633.93 1544.94 Q1630.87 1549.52 1625.06 1549.52 Q1619.25 1549.52 1616.18 1544.94 Q1613.12 1540.33 1613.12 1531.6 Q1613.12 1522.85 1616.18 1518.27 Q1619.25 1513.66 1625.06 1513.66 Z\\\" fill=\\\"#000000\\\" fill-rule=\\\"evenodd\\\" fill-opacity=\\\"1\\\" \\/><path clip-path=\\\"url(#clip090)\\\" d=\\\"M2280.28 1530.21 Q2283.64 1530.93 2285.51 1533.2 Q2287.41 1535.47 2287.41 1538.8 Q2287.41 1543.92 2283.89 1546.72 Q2280.38 1549.52 2273.89 1549.52 Q2271.72 1549.52 2269.4 1549.08 Q2267.11 1548.66 2264.66 1547.81 L2264.66 1543.29 Q2266.6 1544.43 2268.92 1545.01 Q2271.23 1545.58 2273.76 1545.58 Q2278.15 1545.58 2280.45 1543.85 Q2282.76 1542.11 2282.76 1538.8 Q2282.76 1535.75 2280.61 1534.03 Q2278.48 1532.3 2274.66 1532.3 L2270.63 1532.3 L2270.63 1528.45 L2274.84 1528.45 Q2278.29 1528.45 2280.12 1527.09 Q2281.95 1525.7 2281.95 1523.11 Q2281.95 1520.45 2280.05 1519.03 Q2278.18 1517.6 2274.66 1517.6 Q2272.74 1517.6 2270.54 1518.01 Q2268.34 1518.43 2265.7 1519.31 L2265.7 1515.14 Q2268.36 1514.4 2270.68 1514.03 Q2273.01 1513.66 2275.07 1513.66 Q2280.4 1513.66 2283.5 1516.09 Q2286.6 1518.5 2286.6 1522.62 Q2286.6 1525.49 2284.96 1527.48 Q2283.32 1529.45 2280.28 1530.21 Z\\\" fill=\\\"#000000\\\" fill-rule=\\\"evenodd\\\" fill-opacity=\\\"1\\\" \\/><path clip-path=\\\"url(#clip090)\\\" d=\\\"M2306.28 1517.37 Q2302.67 1517.37 2300.84 1520.93 Q2299.03 1524.47 2299.03 1531.6 Q2299.03 1538.71 2300.84 1542.27 Q2302.67 1545.82 2306.28 1545.82 Q2309.91 1545.82 2311.72 1542.27 Q2313.55 1538.71 2313.55 1531.6 Q2313.55 1524.47 2311.72 1520.93 Q2309.91 1517.37 2306.28 1517.37 M2306.28 1513.66 Q2312.09 1513.66 2315.14 1518.27 Q2318.22 1522.85 2318.22 1531.6 Q2318.22 1540.33 2315.14 1544.94 Q2312.09 1549.52 2306.28 1549.52 Q2300.47 1549.52 2297.39 1544.94 Q2294.33 1540.33 2294.33 1531.6 Q2294.33 1522.85 2297.39 1518.27 Q2300.47 1513.66 2306.28 1513.66 Z\\\" fill=\\\"#000000\\\" fill-rule=\\\"evenodd\\\" fill-opacity=\\\"1\\\" \\/><polyline clip-path=\\\"url(#clip092)\\\" style=\\\"stroke:#000000; stroke-linecap:butt; stroke-linejoin:round; stroke-width:2; stroke-opacity:0.1; fill:none\\\" points=\\\"\\n  186.274,1445.72 2352.76,1445.72 \\n  \\\"\\/>\\n<polyline clip-path=\\\"url(#clip092)\\\" style=\\\"stroke:#000000; stroke-linecap:butt; stroke-linejoin:round; stroke-width:2; stroke-opacity:0.1; fill:none\\\" points=\\\"\\n  186.274,1106.28 2352.76,1106.28 \\n  \\\"\\/>\\n<polyline clip-path=\\\"url(#clip092)\\\" style=\\\"stroke:#000000; stroke-linecap:butt; stroke-linejoin:round; stroke-width:2; stroke-opacity:0.1; fill:none\\\" points=\\\"\\n  186.274,766.846 2352.76,766.846 \\n  \\\"\\/>\\n<polyline clip-path=\\\"url(#clip092)\\\" style=\\\"stroke:#000000; stroke-linecap:butt; stroke-linejoin:round; stroke-width:2; stroke-opacity:0.1; fill:none\\\" points=\\\"\\n  186.274,427.411 2352.76,427.411 \\n  \\\"\\/>\\n<polyline clip-path=\\\"url(#clip092)\\\" style=\\\"stroke:#000000; stroke-linecap:butt; stroke-linejoin:round; stroke-width:2; stroke-opacity:0.1; fill:none\\\" points=\\\"\\n  186.274,87.9763 2352.76,87.9763 \\n  \\\"\\/>\\n<polyline clip-path=\\\"url(#clip090)\\\" style=\\\"stroke:#000000; stroke-linecap:butt; stroke-linejoin:round; stroke-width:4; stroke-opacity:1; fill:none\\\" points=\\\"\\n  186.274,1486.45 186.274,47.2441 \\n  \\\"\\/>\\n<polyline clip-path=\\\"url(#clip090)\\\" style=\\\"stroke:#000000; stroke-linecap:butt; stroke-linejoin:round; stroke-width:4; stroke-opacity:1; fill:none\\\" points=\\\"\\n  186.274,1445.72 205.172,1445.72 \\n  \\\"\\/>\\n<polyline clip-path=\\\"url(#clip090)\\\" style=\\\"stroke:#000000; stroke-linecap:butt; stroke-linejoin:round; stroke-width:4; stroke-opacity:1; fill:none\\\" points=\\\"\\n  186.274,1106.28 205.172,1106.28 \\n  \\\"\\/>\\n<polyline clip-path=\\\"url(#clip090)\\\" style=\\\"stroke:#000000; stroke-linecap:butt; stroke-linejoin:round; stroke-width:4; stroke-opacity:1; fill:none\\\" points=\\\"\\n  186.274,766.846 205.172,766.846 \\n  \\\"\\/>\\n<polyline clip-path=\\\"url(#clip090)\\\" style=\\\"stroke:#000000; stroke-linecap:butt; stroke-linejoin:round; stroke-width:4; stroke-opacity:1; fill:none\\\" points=\\\"\\n  186.274,427.411 205.172,427.411 \\n  \\\"\\/>\\n<polyline clip-path=\\\"url(#clip090)\\\" style=\\\"stroke:#000000; stroke-linecap:butt; stroke-linejoin:round; stroke-width:4; stroke-opacity:1; fill:none\\\" points=\\\"\\n  186.274,87.9763 205.172,87.9763 \\n  \\\"\\/>\\n<path clip-path=\\\"url(#clip090)\\\" d=\\\"M62.9365 1431.51 Q59.3254 1431.51 57.4967 1435.08 Q55.6912 1438.62 55.6912 1445.75 Q55.6912 1452.86 57.4967 1456.42 Q59.3254 1459.96 62.9365 1459.96 Q66.5707 1459.96 68.3763 1456.42 Q70.205 1452.86 70.205 1445.75 Q70.205 1438.62 68.3763 1435.08 Q66.5707 1431.51 62.9365 1431.51 M62.9365 1427.81 Q68.7467 1427.81 71.8022 1432.42 Q74.8809 1437 74.8809 1445.75 Q74.8809 1454.48 71.8022 1459.08 Q68.7467 1463.67 62.9365 1463.67 Q57.1264 1463.67 54.0477 1459.08 Q50.9921 1454.48 50.9921 1445.75 Q50.9921 1437 54.0477 1432.42 Q57.1264 1427.81 62.9365 1427.81 Z\\\" fill=\\\"#000000\\\" fill-rule=\\\"evenodd\\\" fill-opacity=\\\"1\\\" \\/><path clip-path=\\\"url(#clip090)\\\" d=\\\"M83.0984 1457.12 L87.9827 1457.12 L87.9827 1463 L83.0984 1463 L83.0984 1457.12 Z\\\" fill=\\\"#000000\\\" fill-rule=\\\"evenodd\\\" fill-opacity=\\\"1\\\" \\/><path clip-path=\\\"url(#clip090)\\\" d=\\\"M108.168 1431.51 Q104.557 1431.51 102.728 1435.08 Q100.922 1438.62 100.922 1445.75 Q100.922 1452.86 102.728 1456.42 Q104.557 1459.96 108.168 1459.96 Q111.802 1459.96 113.608 1456.42 Q115.436 1452.86 115.436 1445.75 Q115.436 1438.62 113.608 1435.08 Q111.802 1431.51 108.168 1431.51 M108.168 1427.81 Q113.978 1427.81 117.033 1432.42 Q120.112 1437 120.112 1445.75 Q120.112 1454.48 117.033 1459.08 Q113.978 1463.67 108.168 1463.67 Q102.358 1463.67 99.2789 1459.08 Q96.2234 1454.48 96.2234 1445.75 Q96.2234 1437 99.2789 1432.42 Q102.358 1427.81 108.168 1427.81 Z\\\" fill=\\\"#000000\\\" fill-rule=\\\"evenodd\\\" fill-opacity=\\\"1\\\" \\/><path clip-path=\\\"url(#clip090)\\\" d=\\\"M138.33 1431.51 Q134.719 1431.51 132.89 1435.08 Q131.084 1438.62 131.084 1445.75 Q131.084 1452.86 132.89 1456.42 Q134.719 1459.96 138.33 1459.96 Q141.964 1459.96 143.769 1456.42 Q145.598 1452.86 145.598 1445.75 Q145.598 1438.62 143.769 1435.08 Q141.964 1431.51 138.33 1431.51 M138.33 1427.81 Q144.14 1427.81 147.195 1432.42 Q150.274 1437 150.274 1445.75 Q150.274 1454.48 147.195 1459.08 Q144.14 1463.67 138.33 1463.67 Q132.519 1463.67 129.441 1459.08 Q126.385 1454.48 126.385 1445.75 Q126.385 1437 129.441 1432.42 Q132.519 1427.81 138.33 1427.81 Z\\\" fill=\\\"#000000\\\" fill-rule=\\\"evenodd\\\" fill-opacity=\\\"1\\\" \\/><path clip-path=\\\"url(#clip090)\\\" d=\\\"M63.9319 1092.08 Q60.3208 1092.08 58.4921 1095.64 Q56.6865 1099.19 56.6865 1106.32 Q56.6865 1113.42 58.4921 1116.99 Q60.3208 1120.53 63.9319 1120.53 Q67.5661 1120.53 69.3717 1116.99 Q71.2004 1113.42 71.2004 1106.32 Q71.2004 1099.19 69.3717 1095.64 Q67.5661 1092.08 63.9319 1092.08 M63.9319 1088.38 Q69.742 1088.38 72.7976 1092.98 Q75.8763 1097.57 75.8763 1106.32 Q75.8763 1115.04 72.7976 1119.65 Q69.742 1124.23 63.9319 1124.23 Q58.1217 1124.23 55.043 1119.65 Q51.9875 1115.04 51.9875 1106.32 Q51.9875 1097.57 55.043 1092.98 Q58.1217 1088.38 63.9319 1088.38 Z\\\" fill=\\\"#000000\\\" fill-rule=\\\"evenodd\\\" fill-opacity=\\\"1\\\" \\/><path clip-path=\\\"url(#clip090)\\\" d=\\\"M84.0938 1117.68 L88.978 1117.68 L88.978 1123.56 L84.0938 1123.56 L84.0938 1117.68 Z\\\" fill=\\\"#000000\\\" fill-rule=\\\"evenodd\\\" fill-opacity=\\\"1\\\" \\/><path clip-path=\\\"url(#clip090)\\\" d=\\\"M103.191 1119.63 L119.51 1119.63 L119.51 1123.56 L97.566 1123.56 L97.566 1119.63 Q100.228 1116.87 104.811 1112.24 Q109.418 1107.59 110.598 1106.25 Q112.844 1103.72 113.723 1101.99 Q114.626 1100.23 114.626 1098.54 Q114.626 1095.78 112.682 1094.05 Q110.76 1092.31 107.658 1092.31 Q105.459 1092.31 103.006 1093.07 Q100.575 1093.84 97.7974 1095.39 L97.7974 1090.67 Q100.621 1089.53 103.075 1088.95 Q105.529 1088.38 107.566 1088.38 Q112.936 1088.38 116.131 1091.06 Q119.325 1093.75 119.325 1098.24 Q119.325 1100.37 118.515 1102.29 Q117.728 1104.19 115.621 1106.78 Q115.043 1107.45 111.941 1110.67 Q108.839 1113.86 103.191 1119.63 Z\\\" fill=\\\"#000000\\\" fill-rule=\\\"evenodd\\\" fill-opacity=\\\"1\\\" \\/><path clip-path=\\\"url(#clip090)\\\" d=\\\"M129.371 1089 L147.728 1089 L147.728 1092.94 L133.654 1092.94 L133.654 1101.41 Q134.672 1101.06 135.691 1100.9 Q136.709 1100.71 137.728 1100.71 Q143.515 1100.71 146.894 1103.89 Q150.274 1107.06 150.274 1112.47 Q150.274 1118.05 146.802 1121.15 Q143.33 1124.23 137.01 1124.23 Q134.834 1124.23 132.566 1123.86 Q130.32 1123.49 127.913 1122.75 L127.913 1118.05 Q129.996 1119.19 132.219 1119.74 Q134.441 1120.3 136.918 1120.3 Q140.922 1120.3 143.26 1118.19 Q145.598 1116.08 145.598 1112.47 Q145.598 1108.86 143.26 1106.76 Q140.922 1104.65 136.918 1104.65 Q135.043 1104.65 133.168 1105.07 Q131.316 1105.48 129.371 1106.36 L129.371 1089 Z\\\" fill=\\\"#000000\\\" fill-rule=\\\"evenodd\\\" fill-opacity=\\\"1\\\" \\/><path clip-path=\\\"url(#clip090)\\\" d=\\\"M62.9365 752.645 Q59.3254 752.645 57.4967 756.209 Q55.6912 759.751 55.6912 766.881 Q55.6912 773.987 57.4967 777.552 Q59.3254 781.094 62.9365 781.094 Q66.5707 781.094 68.3763 777.552 Q70.205 773.987 70.205 766.881 Q70.205 759.751 68.3763 756.209 Q66.5707 752.645 62.9365 752.645 M62.9365 748.941 Q68.7467 748.941 71.8022 753.547 Q74.8809 758.131 74.8809 766.881 Q74.8809 775.608 71.8022 780.214 Q68.7467 784.797 62.9365 784.797 Q57.1264 784.797 54.0477 780.214 Q50.9921 775.608 50.9921 766.881 Q50.9921 758.131 54.0477 753.547 Q57.1264 748.941 62.9365 748.941 Z\\\" fill=\\\"#000000\\\" fill-rule=\\\"evenodd\\\" fill-opacity=\\\"1\\\" \\/><path clip-path=\\\"url(#clip090)\\\" d=\\\"M83.0984 778.246 L87.9827 778.246 L87.9827 784.126 L83.0984 784.126 L83.0984 778.246 Z\\\" fill=\\\"#000000\\\" fill-rule=\\\"evenodd\\\" fill-opacity=\\\"1\\\" \\/><path clip-path=\\\"url(#clip090)\\\" d=\\\"M98.2141 749.566 L116.57 749.566 L116.57 753.501 L102.496 753.501 L102.496 761.973 Q103.515 761.626 104.534 761.464 Q105.552 761.279 106.571 761.279 Q112.358 761.279 115.737 764.45 Q119.117 767.621 119.117 773.038 Q119.117 778.617 115.645 781.719 Q112.172 784.797 105.853 784.797 Q103.677 784.797 101.409 784.427 Q99.1632 784.057 96.7558 783.316 L96.7558 778.617 Q98.8391 779.751 101.061 780.307 Q103.284 780.862 105.76 780.862 Q109.765 780.862 112.103 778.756 Q114.441 776.649 114.441 773.038 Q114.441 769.427 112.103 767.321 Q109.765 765.214 105.76 765.214 Q103.885 765.214 102.01 765.631 Q100.159 766.047 98.2141 766.927 L98.2141 749.566 Z\\\" fill=\\\"#000000\\\" fill-rule=\\\"evenodd\\\" fill-opacity=\\\"1\\\" \\/><path clip-path=\\\"url(#clip090)\\\" d=\\\"M138.33 752.645 Q134.719 752.645 132.89 756.209 Q131.084 759.751 131.084 766.881 Q131.084 773.987 132.89 777.552 Q134.719 781.094 138.33 781.094 Q141.964 781.094 143.769 777.552 Q145.598 773.987 145.598 766.881 Q145.598 759.751 143.769 756.209 Q141.964 752.645 138.33 752.645 M138.33 748.941 Q144.14 748.941 147.195 753.547 Q150.274 758.131 150.274 766.881 Q150.274 775.608 147.195 780.214 Q144.14 784.797 138.33 784.797 Q132.519 784.797 129.441 780.214 Q126.385 775.608 126.385 766.881 Q126.385 758.131 129.441 753.547 Q132.519 748.941 138.33 748.941 Z\\\" fill=\\\"#000000\\\" fill-rule=\\\"evenodd\\\" fill-opacity=\\\"1\\\" \\/><path clip-path=\\\"url(#clip090)\\\" d=\\\"M63.9319 413.21 Q60.3208 413.21 58.4921 416.775 Q56.6865 420.316 56.6865 427.446 Q56.6865 434.552 58.4921 438.117 Q60.3208 441.659 63.9319 441.659 Q67.5661 441.659 69.3717 438.117 Q71.2004 434.552 71.2004 427.446 Q71.2004 420.316 69.3717 416.775 Q67.5661 413.21 63.9319 413.21 M63.9319 409.506 Q69.742 409.506 72.7976 414.113 Q75.8763 418.696 75.8763 427.446 Q75.8763 436.173 72.7976 440.779 Q69.742 445.362 63.9319 445.362 Q58.1217 445.362 55.043 440.779 Q51.9875 436.173 51.9875 427.446 Q51.9875 418.696 55.043 414.113 Q58.1217 409.506 63.9319 409.506 Z\\\" fill=\\\"#000000\\\" fill-rule=\\\"evenodd\\\" fill-opacity=\\\"1\\\" \\/><path clip-path=\\\"url(#clip090)\\\" d=\\\"M84.0938 438.812 L88.978 438.812 L88.978 444.691 L84.0938 444.691 L84.0938 438.812 Z\\\" fill=\\\"#000000\\\" fill-rule=\\\"evenodd\\\" fill-opacity=\\\"1\\\" \\/><path clip-path=\\\"url(#clip090)\\\" d=\\\"M97.9826 410.131 L120.205 410.131 L120.205 412.122 L107.658 444.691 L102.774 444.691 L114.58 414.066 L97.9826 414.066 L97.9826 410.131 Z\\\" fill=\\\"#000000\\\" fill-rule=\\\"evenodd\\\" fill-opacity=\\\"1\\\" \\/><path clip-path=\\\"url(#clip090)\\\" d=\\\"M129.371 410.131 L147.728 410.131 L147.728 414.066 L133.654 414.066 L133.654 422.538 Q134.672 422.191 135.691 422.029 Q136.709 421.844 137.728 421.844 Q143.515 421.844 146.894 425.015 Q150.274 428.187 150.274 433.603 Q150.274 439.182 146.802 442.284 Q143.33 445.362 137.01 445.362 Q134.834 445.362 132.566 444.992 Q130.32 444.622 127.913 443.881 L127.913 439.182 Q129.996 440.316 132.219 440.872 Q134.441 441.427 136.918 441.427 Q140.922 441.427 143.26 439.321 Q145.598 437.214 145.598 433.603 Q145.598 429.992 143.26 427.886 Q140.922 425.779 136.918 425.779 Q135.043 425.779 133.168 426.196 Q131.316 426.613 129.371 427.492 L129.371 410.131 Z\\\" fill=\\\"#000000\\\" fill-rule=\\\"evenodd\\\" fill-opacity=\\\"1\\\" \\/><path clip-path=\\\"url(#clip090)\\\" d=\\\"M53.7467 101.321 L61.3856 101.321 L61.3856 74.9555 L53.0754 76.6222 L53.0754 72.3629 L61.3393 70.6963 L66.0152 70.6963 L66.0152 101.321 L73.654 101.321 L73.654 105.256 L53.7467 105.256 L53.7467 101.321 Z\\\" fill=\\\"#000000\\\" fill-rule=\\\"evenodd\\\" fill-opacity=\\\"1\\\" \\/><path clip-path=\\\"url(#clip090)\\\" d=\\\"M83.0984 99.3767 L87.9827 99.3767 L87.9827 105.256 L83.0984 105.256 L83.0984 99.3767 Z\\\" fill=\\\"#000000\\\" fill-rule=\\\"evenodd\\\" fill-opacity=\\\"1\\\" \\/><path clip-path=\\\"url(#clip090)\\\" d=\\\"M108.168 73.775 Q104.557 73.775 102.728 77.3398 Q100.922 80.8814 100.922 88.011 Q100.922 95.1174 102.728 98.6822 Q104.557 102.224 108.168 102.224 Q111.802 102.224 113.608 98.6822 Q115.436 95.1174 115.436 88.011 Q115.436 80.8814 113.608 77.3398 Q111.802 73.775 108.168 73.775 M108.168 70.0713 Q113.978 70.0713 117.033 74.6777 Q120.112 79.261 120.112 88.011 Q120.112 96.7378 117.033 101.344 Q113.978 105.928 108.168 105.928 Q102.358 105.928 99.2789 101.344 Q96.2234 96.7378 96.2234 88.011 Q96.2234 79.261 99.2789 74.6777 Q102.358 70.0713 108.168 70.0713 Z\\\" fill=\\\"#000000\\\" fill-rule=\\\"evenodd\\\" fill-opacity=\\\"1\\\" \\/><path clip-path=\\\"url(#clip090)\\\" d=\\\"M138.33 73.775 Q134.719 73.775 132.89 77.3398 Q131.084 80.8814 131.084 88.011 Q131.084 95.1174 132.89 98.6822 Q134.719 102.224 138.33 102.224 Q141.964 102.224 143.769 98.6822 Q145.598 95.1174 145.598 88.011 Q145.598 80.8814 143.769 77.3398 Q141.964 73.775 138.33 73.775 M138.33 70.0713 Q144.14 70.0713 147.195 74.6777 Q150.274 79.261 150.274 88.011 Q150.274 96.7378 147.195 101.344 Q144.14 105.928 138.33 105.928 Q132.519 105.928 129.441 101.344 Q126.385 96.7378 126.385 88.011 Q126.385 79.261 129.441 74.6777 Q132.519 70.0713 138.33 70.0713 Z\\\" fill=\\\"#000000\\\" fill-rule=\\\"evenodd\\\" fill-opacity=\\\"1\\\" \\/><polyline clip-path=\\\"url(#clip092)\\\" style=\\\"stroke:#009af9; stroke-linecap:butt; stroke-linejoin:round; stroke-width:4; stroke-opacity:1; fill:none\\\" points=\\\"\\n  315.718,904.056 383.846,328.885 451.975,743.499 520.103,958.715 588.231,794.073 656.36,709.339 724.488,727.34 792.616,777.291 860.745,790.937 928.873,772.818 \\n  997.002,758.781 1065.13,759.736 1133.26,766.47 1201.39,770.09 1269.51,769.103 1337.64,766.686 1405.77,765.605 1473.9,766.08 1542.03,766.937 1610.16,767.302 \\n  1678.29,767.135 1746.41,766.827 1814.54,766.681 1882.67,766.728 1950.8,766.84 2018.93,766.904 2087.06,766.896 2155.18,766.856 2223.31,766.828 2291.44,766.825 \\n  2359.57,766.838 2427.7,766.851 2495.83,766.854 2563.95,766.851 \\n  \\\"\\/>\\n<polyline clip-path=\\\"url(#clip092)\\\" style=\\\"stroke:#e26f46; stroke-linecap:butt; stroke-linejoin:round; stroke-width:4; stroke-opacity:1; fill:none\\\" points=\\\"\\n  315.718,965.682 383.846,829.341 451.975,786.95 520.103,773.386 588.231,768.987 656.36,767.55 724.488,767.078 792.616,766.923 860.745,766.871 928.873,766.854 \\n  997.002,766.849 1065.13,766.847 1133.26,766.846 1201.39,766.846 1269.51,766.846 1337.64,766.846 1405.77,766.846 1473.9,766.846 1542.03,766.846 1610.16,766.846 \\n  1678.29,766.846 1746.41,766.846 1814.54,766.846 1882.67,766.846 1950.8,766.846 2018.93,766.846 2087.06,766.846 2155.18,766.846 2223.31,766.846 2291.44,766.846 \\n  2359.57,766.846 2427.7,766.846 2495.83,766.846 2563.95,766.846 \\n  \\\"\\/>\\n<polyline clip-path=\\\"url(#clip092)\\\" style=\\\"stroke:#3da44d; stroke-linecap:butt; stroke-linejoin:round; stroke-width:4; stroke-opacity:1; fill:none\\\" points=\\\"\\n  -1980.21,766.846 4519.24,766.846 \\n  \\\"\\/>\\n<path clip-path=\\\"url(#clip090)\\\" d=\\\"\\nM1898.08 302.578 L2280.54 302.578 L2280.54 95.2176 L1898.08 95.2176  Z\\n  \\\" fill=\\\"#ffffff\\\" fill-rule=\\\"evenodd\\\" fill-opacity=\\\"1\\\"\\/>\\n<polyline clip-path=\\\"url(#clip090)\\\" style=\\\"stroke:#000000; stroke-linecap:butt; stroke-linejoin:round; stroke-width:4; stroke-opacity:1; fill:none\\\" points=\\\"\\n  1898.08,302.578 2280.54,302.578 2280.54,95.2176 1898.08,95.2176 1898.08,302.578 \\n  \\\"\\/>\\n<polyline clip-path=\\\"url(#clip090)\\\" style=\\\"stroke:#009af9; stroke-linecap:butt; stroke-linejoin:round; stroke-width:4; stroke-opacity:1; fill:none\\\" points=\\\"\\n  1922.16,147.058 2066.59,147.058 \\n  \\\"\\/>\\n<path clip-path=\\\"url(#clip090)\\\" d=\\\"M2116.22 159.407 L2116.22 150.125 L2108.58 150.125 L2108.58 146.282 L2120.85 146.282 L2120.85 161.12 Q2118.14 163.041 2114.87 164.037 Q2111.61 165.009 2107.91 165.009 Q2099.8 165.009 2095.22 160.287 Q2090.66 155.541 2090.66 147.092 Q2090.66 138.62 2095.22 133.898 Q2099.8 129.153 2107.91 129.153 Q2111.29 129.153 2114.32 129.986 Q2117.37 130.819 2119.94 132.44 L2119.94 137.416 Q2117.35 135.217 2114.43 134.106 Q2111.52 132.995 2108.3 132.995 Q2101.96 132.995 2098.76 136.537 Q2095.59 140.078 2095.59 147.092 Q2095.59 154.083 2098.76 157.625 Q2101.96 161.166 2108.3 161.166 Q2110.78 161.166 2112.72 160.75 Q2114.66 160.31 2116.22 159.407 Z\\\" fill=\\\"#000000\\\" fill-rule=\\\"evenodd\\\" fill-opacity=\\\"1\\\" \\/><path clip-path=\\\"url(#clip090)\\\" d=\\\"M2129.39 129.778 L2134.06 129.778 L2134.06 160.402 L2150.89 160.402 L2150.89 164.338 L2129.39 164.338 L2129.39 129.778 Z\\\" fill=\\\"#000000\\\" fill-rule=\\\"evenodd\\\" fill-opacity=\\\"1\\\" \\/><polyline clip-path=\\\"url(#clip090)\\\" style=\\\"stroke:#e26f46; stroke-linecap:butt; stroke-linejoin:round; stroke-width:4; stroke-opacity:1; fill:none\\\" points=\\\"\\n  1922.16,198.898 2066.59,198.898 \\n  \\\"\\/>\\n<path clip-path=\\\"url(#clip090)\\\" d=\\\"M2116.22 211.247 L2116.22 201.965 L2108.58 201.965 L2108.58 198.122 L2120.85 198.122 L2120.85 212.96 Q2118.14 214.881 2114.87 215.877 Q2111.61 216.849 2107.91 216.849 Q2099.8 216.849 2095.22 212.127 Q2090.66 207.381 2090.66 198.932 Q2090.66 190.46 2095.22 185.738 Q2099.8 180.993 2107.91 180.993 Q2111.29 180.993 2114.32 181.826 Q2117.37 182.659 2119.94 184.28 L2119.94 189.256 Q2117.35 187.057 2114.43 185.946 Q2111.52 184.835 2108.3 184.835 Q2101.96 184.835 2098.76 188.377 Q2095.59 191.918 2095.59 198.932 Q2095.59 205.923 2098.76 209.465 Q2101.96 213.006 2108.3 213.006 Q2110.78 213.006 2112.72 212.59 Q2114.66 212.15 2116.22 211.247 Z\\\" fill=\\\"#000000\\\" fill-rule=\\\"evenodd\\\" fill-opacity=\\\"1\\\" \\/><path clip-path=\\\"url(#clip090)\\\" d=\\\"M2129.39 181.618 L2134.06 181.618 L2134.06 195.784 L2151.05 195.784 L2151.05 181.618 L2155.73 181.618 L2155.73 216.178 L2151.05 216.178 L2151.05 199.719 L2134.06 199.719 L2134.06 216.178 L2129.39 216.178 L2129.39 181.618 Z\\\" fill=\\\"#000000\\\" fill-rule=\\\"evenodd\\\" fill-opacity=\\\"1\\\" \\/><polyline clip-path=\\\"url(#clip090)\\\" style=\\\"stroke:#3da44d; stroke-linecap:butt; stroke-linejoin:round; stroke-width:4; stroke-opacity:1; fill:none\\\" points=\\\"\\n  1922.16,250.738 2066.59,250.738 \\n  \\\"\\/>\\n<path clip-path=\\\"url(#clip090)\\\" d=\\\"M2098.07 234.731 L2098.07 242.092 L2106.84 242.092 L2106.84 245.402 L2098.07 245.402 L2098.07 259.476 Q2098.07 262.647 2098.92 263.55 Q2099.8 264.453 2102.47 264.453 L2106.84 264.453 L2106.84 268.018 L2102.47 268.018 Q2097.54 268.018 2095.66 266.189 Q2093.79 264.337 2093.79 259.476 L2093.79 245.402 L2090.66 245.402 L2090.66 242.092 L2093.79 242.092 L2093.79 234.731 L2098.07 234.731 Z\\\" fill=\\\"#000000\\\" fill-rule=\\\"evenodd\\\" fill-opacity=\\\"1\\\" \\/><path clip-path=\\\"url(#clip090)\\\" d=\\\"M2124.23 254.985 Q2119.06 254.985 2117.07 256.166 Q2115.08 257.346 2115.08 260.194 Q2115.08 262.462 2116.56 263.805 Q2118.07 265.124 2120.64 265.124 Q2124.18 265.124 2126.31 262.624 Q2128.46 260.101 2128.46 255.934 L2128.46 254.985 L2124.23 254.985 M2132.72 253.226 L2132.72 268.018 L2128.46 268.018 L2128.46 264.082 Q2127 266.443 2124.83 267.578 Q2122.65 268.689 2119.5 268.689 Q2115.52 268.689 2113.16 266.467 Q2110.82 264.221 2110.82 260.471 Q2110.82 256.096 2113.74 253.874 Q2116.68 251.652 2122.49 251.652 L2128.46 251.652 L2128.46 251.235 Q2128.46 248.295 2126.52 246.698 Q2124.6 245.078 2121.1 245.078 Q2118.88 245.078 2116.77 245.61 Q2114.66 246.143 2112.72 247.207 L2112.72 243.272 Q2115.06 242.37 2117.26 241.93 Q2119.46 241.467 2121.54 241.467 Q2127.16 241.467 2129.94 244.383 Q2132.72 247.3 2132.72 253.226 Z\\\" fill=\\\"#000000\\\" fill-rule=\\\"evenodd\\\" fill-opacity=\\\"1\\\" \\/><path clip-path=\\\"url(#clip090)\\\" d=\\\"M2156.52 246.073 Q2155.8 245.657 2154.94 245.471 Q2154.11 245.263 2153.09 245.263 Q2149.48 245.263 2147.54 247.624 Q2145.61 249.962 2145.61 254.36 L2145.61 268.018 L2141.33 268.018 L2141.33 242.092 L2145.61 242.092 L2145.61 246.12 Q2146.96 243.758 2149.11 242.624 Q2151.26 241.467 2154.34 241.467 Q2154.78 241.467 2155.31 241.536 Q2155.85 241.583 2156.49 241.698 L2156.52 246.073 Z\\\" fill=\\\"#000000\\\" fill-rule=\\\"evenodd\\\" fill-opacity=\\\"1\\\" \\/><path clip-path=\\\"url(#clip090)\\\" d=\\\"M2177.21 254.754 Q2177.21 250.124 2175.29 247.578 Q2173.39 245.032 2169.94 245.032 Q2166.52 245.032 2164.6 247.578 Q2162.7 250.124 2162.7 254.754 Q2162.7 259.36 2164.6 261.906 Q2166.52 264.453 2169.94 264.453 Q2173.39 264.453 2175.29 261.906 Q2177.21 259.36 2177.21 254.754 M2181.47 264.8 Q2181.47 271.42 2178.53 274.638 Q2175.59 277.879 2169.53 277.879 Q2167.28 277.879 2165.29 277.531 Q2163.3 277.207 2161.42 276.513 L2161.42 272.369 Q2163.3 273.388 2165.13 273.874 Q2166.96 274.36 2168.85 274.36 Q2173.04 274.36 2175.13 272.161 Q2177.21 269.985 2177.21 265.564 L2177.21 263.457 Q2175.89 265.749 2173.83 266.883 Q2171.77 268.018 2168.9 268.018 Q2164.13 268.018 2161.22 264.383 Q2158.3 260.749 2158.3 254.754 Q2158.3 248.735 2161.22 245.101 Q2164.13 241.467 2168.9 241.467 Q2171.77 241.467 2173.83 242.601 Q2175.89 243.735 2177.21 246.027 L2177.21 242.092 L2181.47 242.092 L2181.47 264.8 Z\\\" fill=\\\"#000000\\\" fill-rule=\\\"evenodd\\\" fill-opacity=\\\"1\\\" \\/><path clip-path=\\\"url(#clip090)\\\" d=\\\"M2212.42 253.99 L2212.42 256.073 L2192.84 256.073 Q2193.11 260.471 2195.47 262.786 Q2197.86 265.078 2202.1 265.078 Q2204.55 265.078 2206.84 264.476 Q2209.16 263.874 2211.42 262.67 L2211.42 266.698 Q2209.13 267.67 2206.72 268.18 Q2204.32 268.689 2201.84 268.689 Q2195.64 268.689 2192 265.078 Q2188.39 261.467 2188.39 255.309 Q2188.39 248.944 2191.82 245.217 Q2195.27 241.467 2201.1 241.467 Q2206.33 241.467 2209.36 244.846 Q2212.42 248.203 2212.42 253.99 M2208.16 252.74 Q2208.11 249.245 2206.19 247.161 Q2204.29 245.078 2201.15 245.078 Q2197.58 245.078 2195.43 247.092 Q2193.3 249.106 2192.97 252.763 L2208.16 252.74 Z\\\" fill=\\\"#000000\\\" fill-rule=\\\"evenodd\\\" fill-opacity=\\\"1\\\" \\/><path clip-path=\\\"url(#clip090)\\\" d=\\\"M2223.62 234.731 L2223.62 242.092 L2232.4 242.092 L2232.4 245.402 L2223.62 245.402 L2223.62 259.476 Q2223.62 262.647 2224.48 263.55 Q2225.36 264.453 2228.02 264.453 L2232.4 264.453 L2232.4 268.018 L2228.02 268.018 Q2223.09 268.018 2221.22 266.189 Q2219.34 264.337 2219.34 259.476 L2219.34 245.402 L2216.22 245.402 L2216.22 242.092 L2219.34 242.092 L2219.34 234.731 L2223.62 234.731 Z\\\" fill=\\\"#000000\\\" fill-rule=\\\"evenodd\\\" fill-opacity=\\\"1\\\" \\/><\\/svg>\\n\"},\"nodeType\":\"DOM\",\"type\":\"node\",\"instanceArgs\":{\"namespace\":\"html\",\"tag\":\"div\"},\"children\":[]}]}}}},\"children\":[{\"props\":{},\"nodeType\":\"ObservableNode\",\"type\":\"node\",\"instanceArgs\":{\"id\":\"11808840724631637420\",\"name\":\"obs-node\"},\"children\":[]}]}]},\n",
       "        window,\n",
       "    );\n",
       "    })()\n",
       "    </script>\n",
       "</div>\n"
      ],
      "text/plain": [
       "Node{WebIO.DOM}(WebIO.DOM(:html, :div), Any[Node{WebIO.DOM}(WebIO.DOM(:html, :div), Any[Scope(Node{WebIO.DOM}(WebIO.DOM(:html, :div), Any[Node{WebIO.DOM}(WebIO.DOM(:html, :div), Any[Node{WebIO.DOM}(WebIO.DOM(:html, :label), Any[\"a\"], Dict{Symbol, Any}(:className => \"interact \", :style => Dict{Any, Any}(:padding => \"5px 10px 0px 10px\")))], Dict{Symbol, Any}(:className => \"interact-flex-row-left\")), Node{WebIO.DOM}(WebIO.DOM(:html, :div), Any[Node{WebIO.DOM}(WebIO.DOM(:html, :input), Any[], Dict{Symbol, Any}(:max => 51, :min => 1, :attributes => Dict{Any, Any}(:type => \"range\", Symbol(\"data-bind\") => \"numericValue: index, valueUpdate: 'input', event: {change: function (){this.changes(this.changes()+1)}}\", \"orient\" => \"horizontal\"), :step => 1, :className => \"slider slider is-fullwidth\", :style => Dict{Any, Any}()))], Dict{Symbol, Any}(:className => \"interact-flex-row-center\")), Node{WebIO.DOM}(WebIO.DOM(:html, :div), Any[Node{WebIO.DOM}(WebIO.DOM(:html, :p), Any[], Dict{Symbol, Any}(:attributes => Dict(\"data-bind\" => \"text: formatted_val\")))], Dict{Symbol, Any}(:className => \"interact-flex-row-right\"))], Dict{Symbol, Any}(:className => \"interact-flex-row interact-widget\")), Dict{String, Tuple{Observables.AbstractObservable, Union{Nothing, Bool}}}(\"changes\" => (Observable{Int64} with 1 listeners. Value:\n",
       "0, nothing), \"index\" => (Observable{Any} with 2 listeners. Value:\n",
       "26, nothing)), Set{String}(), nothing, Asset[Asset(\"js\", \"knockout\", \"C:\\\\Users\\\\User\\\\.julia\\\\packages\\\\Knockout\\\\HReiN\\\\src\\\\..\\\\assets\\\\knockout.js\"), Asset(\"js\", \"knockout_punches\", \"C:\\\\Users\\\\User\\\\.julia\\\\packages\\\\Knockout\\\\HReiN\\\\src\\\\..\\\\assets\\\\knockout_punches.js\"), Asset(\"js\", nothing, \"C:\\\\Users\\\\User\\\\.julia\\\\packages\\\\InteractBase\\\\Qhvxg\\\\src\\\\..\\\\assets\\\\all.js\"), Asset(\"css\", nothing, \"C:\\\\Users\\\\User\\\\.julia\\\\packages\\\\InteractBase\\\\Qhvxg\\\\src\\\\..\\\\assets\\\\style.css\"), Asset(\"css\", nothing, \"C:\\\\Users\\\\User\\\\.julia\\\\packages\\\\Interact\\\\PENUy\\\\src\\\\..\\\\assets\\\\bulma_confined.min.css\")], Dict{Any, Any}(\"changes\" => Any[WebIO.JSString(\"(function (val){return (val!=this.model[\\\"changes\\\"]()) ? (this.valueFromJulia[\\\"changes\\\"]=true, this.model[\\\"changes\\\"](val)) : undefined})\")], \"index\" => Any[WebIO.JSString(\"(function (val){return (val!=this.model[\\\"index\\\"]()) ? (this.valueFromJulia[\\\"index\\\"]=true, this.model[\\\"index\\\"](val)) : undefined})\")]), WebIO.ConnectionPool(Channel{Any}(32), Set{AbstractConnection}(), Condition(Base.InvasiveLinkedList{Task}(Task (runnable) @0x000000007ac85f50, Task (runnable) @0x000000007ac85f50), Base.AlwaysLockedST(1))), WebIO.JSString[WebIO.JSString(\"function () {\\n    var handler = (function (ko, koPunches) {\\n    ko.punches.enableAll();\\n    ko.bindingHandlers.numericValue = {\\n        init: function(element, valueAccessor, allBindings, data, context) {\\n            var stringified = ko.observable(ko.unwrap(valueAccessor()));\\n            stringified.subscribe(function(value) {\\n                var val = parseFloat(value);\\n                if (!isNaN(val)) {\\n                    valueAccessor()(val);\\n                }\\n            });\\n            valueAccessor().subscribe(function(value) {\\n                var str = JSON.stringify(value);\\n                if ((str == \\\"0\\\") && ([\\\"-0\\\", \\\"-0.\\\"].indexOf(stringified()) >= 0))\\n                     return;\\n                 if ([\\\"null\\\", \\\"\\\"].indexOf(str) >= 0)\\n                     return;\\n                stringified(str);\\n            });\\n            ko.applyBindingsToNode(\\n                element,\\n                {\\n                    value: stringified,\\n                    valueUpdate: allBindings.get('valueUpdate'),\\n                },\\n                context,\\n            );\\n        }\\n    };\\n    var json_data = {\\\"formatted_vals\\\":[\\\"-5.0\\\",\\\"-4.8\\\",\\\"-4.6\\\",\\\"-4.4\\\",\\\"-4.2\\\",\\\"-4.0\\\",\\\"-3.8\\\",\\\"-3.6\\\",\\\"-3.4\\\",\\\"-3.2\\\",\\\"-3.0\\\",\\\"-2.8\\\",\\\"-2.6\\\",\\\"-2.4\\\",\\\"-2.2\\\",\\\"-2.0\\\",\\\"-1.8\\\",\\\"-1.6\\\",\\\"-1.4\\\",\\\"-1.2\\\",\\\"-1.0\\\",\\\"-0.8\\\",\\\"-0.6\\\",\\\"-0.4\\\",\\\"-0.2\\\",\\\"0.0\\\",\\\"0.2\\\",\\\"0.4\\\",\\\"0.6\\\",\\\"0.8\\\",\\\"1.0\\\",\\\"1.2\\\",\\\"1.4\\\",\\\"1.6\\\",\\\"1.8\\\",\\\"2.0\\\",\\\"2.2\\\",\\\"2.4\\\",\\\"2.6\\\",\\\"2.8\\\",\\\"3.0\\\",\\\"3.2\\\",\\\"3.4\\\",\\\"3.6\\\",\\\"3.8\\\",\\\"4.0\\\",\\\"4.2\\\",\\\"4.4\\\",\\\"4.6\\\",\\\"4.8\\\",\\\"5.0\\\"],\\\"changes\\\":WebIO.getval({\\\"name\\\":\\\"changes\\\",\\\"scope\\\":\\\"13529146301175742565\\\",\\\"id\\\":\\\"17135160796909679459\\\",\\\"type\\\":\\\"observable\\\"}),\\\"index\\\":WebIO.getval({\\\"name\\\":\\\"index\\\",\\\"scope\\\":\\\"13529146301175742565\\\",\\\"id\\\":\\\"9778504136946651723\\\",\\\"type\\\":\\\"observable\\\"})};\\n    var self = this;\\n    function AppViewModel() {\\n        for (var key in json_data) {\\n            var el = json_data[key];\\n            this[key] = Array.isArray(el) ? ko.observableArray(el) : ko.observable(el);\\n        }\\n        \\n        [this[\\\"formatted_val\\\"]=ko.computed(    function(){\\n        return this.formatted_vals()[parseInt(this.index())-(1)];\\n    }\\n,this)]\\n        [this[\\\"changes\\\"].subscribe((function (val){!(this.valueFromJulia[\\\"changes\\\"]) ? (WebIO.setval({\\\"name\\\":\\\"changes\\\",\\\"scope\\\":\\\"13529146301175742565\\\",\\\"id\\\":\\\"17135160796909679459\\\",\\\"type\\\":\\\"observable\\\"},val)) : undefined; return this.valueFromJulia[\\\"changes\\\"]=false}),self),this[\\\"index\\\"].subscribe((function (val){!(this.valueFromJulia[\\\"index\\\"]) ? (WebIO.setval({\\\"name\\\":\\\"index\\\",\\\"scope\\\":\\\"13529146301175742565\\\",\\\"id\\\":\\\"9778504136946651723\\\",\\\"type\\\":\\\"observable\\\"},val)) : undefined; return this.valueFromJulia[\\\"index\\\"]=false}),self)]\\n        \\n    }\\n    self.model = new AppViewModel();\\n    self.valueFromJulia = {};\\n    for (var key in json_data) {\\n        self.valueFromJulia[key] = false;\\n    }\\n    ko.applyBindings(self.model, self.dom);\\n}\\n);\\n    (WebIO.importBlock({\\\"data\\\":[{\\\"name\\\":\\\"knockout\\\",\\\"type\\\":\\\"js\\\",\\\"url\\\":\\\"/assetserver/a0663ad37bdb924bb8f58218fb6104c40c026f21-knockout.js\\\"},{\\\"name\\\":\\\"knockout_punches\\\",\\\"type\\\":\\\"js\\\",\\\"url\\\":\\\"/assetserver/c0559b701cdaac29f8d4c071931238140df0ba9e-knockout_punches.js\\\"}],\\\"type\\\":\\\"async_block\\\"})).then((imports) => handler.apply(this, imports));\\n}\\n\")])], Dict{Symbol, Any}(:className => \"field interact-widget\")), Node{WebIO.DOM}(WebIO.DOM(:html, :div), Any[Scope(Node{WebIO.DOM}(WebIO.DOM(:html, :div), Any[Node{WebIO.DOM}(WebIO.DOM(:html, :div), Any[Node{WebIO.DOM}(WebIO.DOM(:html, :label), Any[\"b\"], Dict{Symbol, Any}(:className => \"interact \", :style => Dict{Any, Any}(:padding => \"5px 10px 0px 10px\")))], Dict{Symbol, Any}(:className => \"interact-flex-row-left\")), Node{WebIO.DOM}(WebIO.DOM(:html, :div), Any[Node{WebIO.DOM}(WebIO.DOM(:html, :input), Any[], Dict{Symbol, Any}(:max => 25, :min => 1, :attributes => Dict{Any, Any}(:type => \"range\", Symbol(\"data-bind\") => \"numericValue: index, valueUpdate: 'input', event: {change: function (){this.changes(this.changes()+1)}}\", \"orient\" => \"horizontal\"), :step => 1, :className => \"slider slider is-fullwidth\", :style => Dict{Any, Any}()))], Dict{Symbol, Any}(:className => \"interact-flex-row-center\")), Node{WebIO.DOM}(WebIO.DOM(:html, :div), Any[Node{WebIO.DOM}(WebIO.DOM(:html, :p), Any[], Dict{Symbol, Any}(:attributes => Dict(\"data-bind\" => \"text: formatted_val\")))], Dict{Symbol, Any}(:className => \"interact-flex-row-right\"))], Dict{Symbol, Any}(:className => \"interact-flex-row interact-widget\")), Dict{String, Tuple{Observables.AbstractObservable, Union{Nothing, Bool}}}(\"changes\" => (Observable{Int64} with 1 listeners. Value:\n",
       "0, nothing), \"index\" => (Observable{Any} with 2 listeners. Value:\n",
       "13, nothing)), Set{String}(), nothing, Asset[Asset(\"js\", \"knockout\", \"C:\\\\Users\\\\User\\\\.julia\\\\packages\\\\Knockout\\\\HReiN\\\\src\\\\..\\\\assets\\\\knockout.js\"), Asset(\"js\", \"knockout_punches\", \"C:\\\\Users\\\\User\\\\.julia\\\\packages\\\\Knockout\\\\HReiN\\\\src\\\\..\\\\assets\\\\knockout_punches.js\"), Asset(\"js\", nothing, \"C:\\\\Users\\\\User\\\\.julia\\\\packages\\\\InteractBase\\\\Qhvxg\\\\src\\\\..\\\\assets\\\\all.js\"), Asset(\"css\", nothing, \"C:\\\\Users\\\\User\\\\.julia\\\\packages\\\\InteractBase\\\\Qhvxg\\\\src\\\\..\\\\assets\\\\style.css\"), Asset(\"css\", nothing, \"C:\\\\Users\\\\User\\\\.julia\\\\packages\\\\Interact\\\\PENUy\\\\src\\\\..\\\\assets\\\\bulma_confined.min.css\")], Dict{Any, Any}(\"changes\" => Any[WebIO.JSString(\"(function (val){return (val!=this.model[\\\"changes\\\"]()) ? (this.valueFromJulia[\\\"changes\\\"]=true, this.model[\\\"changes\\\"](val)) : undefined})\")], \"index\" => Any[WebIO.JSString(\"(function (val){return (val!=this.model[\\\"index\\\"]()) ? (this.valueFromJulia[\\\"index\\\"]=true, this.model[\\\"index\\\"](val)) : undefined})\")]), WebIO.ConnectionPool(Channel{Any}(32), Set{AbstractConnection}(), Condition(Base.InvasiveLinkedList{Task}(Task (runnable) @0x0000000079346ef0, Task (runnable) @0x0000000079346ef0), Base.AlwaysLockedST(1))), WebIO.JSString[WebIO.JSString(\"function () {\\n    var handler = (function (ko, koPunches) {\\n    ko.punches.enableAll();\\n    ko.bindingHandlers.numericValue = {\\n        init: function(element, valueAccessor, allBindings, data, context) {\\n            var stringified = ko.observable(ko.unwrap(valueAccessor()));\\n            stringified.subscribe(function(value) {\\n                var val = parseFloat(value);\\n                if (!isNaN(val)) {\\n                    valueAccessor()(val);\\n                }\\n            });\\n            valueAccessor().subscribe(function(value) {\\n                var str = JSON.stringify(value);\\n                if ((str == \\\"0\\\") && ([\\\"-0\\\", \\\"-0.\\\"].indexOf(stringified()) >= 0))\\n                     return;\\n                 if ([\\\"null\\\", \\\"\\\"].indexOf(str) >= 0)\\n                     return;\\n                stringified(str);\\n            });\\n            ko.applyBindingsToNode(\\n                element,\\n                {\\n                    value: stringified,\\n                    valueUpdate: allBindings.get('valueUpdate'),\\n                },\\n                context,\\n            );\\n        }\\n    };\\n    var json_data = {\\\"formatted_vals\\\":[\\\"0.1\\\",\\\"0.3\\\",\\\"0.5\\\",\\\"0.7\\\",\\\"0.9\\\",\\\"1.1\\\",\\\"1.3\\\",\\\"1.5\\\",\\\"1.7\\\",\\\"1.9\\\",\\\"2.1\\\",\\\"2.3\\\",\\\"2.5\\\",\\\"2.7\\\",\\\"2.9\\\",\\\"3.1\\\",\\\"3.3\\\",\\\"3.5\\\",\\\"3.7\\\",\\\"3.9\\\",\\\"4.1\\\",\\\"4.3\\\",\\\"4.5\\\",\\\"4.7\\\",\\\"4.9\\\"],\\\"changes\\\":WebIO.getval({\\\"name\\\":\\\"changes\\\",\\\"scope\\\":\\\"9035582120429443493\\\",\\\"id\\\":\\\"5913656512889119743\\\",\\\"type\\\":\\\"observable\\\"}),\\\"index\\\":WebIO.getval({\\\"name\\\":\\\"index\\\",\\\"scope\\\":\\\"9035582120429443493\\\",\\\"id\\\":\\\"785025906897145174\\\",\\\"type\\\":\\\"observable\\\"})};\\n    var self = this;\\n    function AppViewModel() {\\n        for (var key in json_data) {\\n            var el = json_data[key];\\n            this[key] = Array.isArray(el) ? ko.observableArray(el) : ko.observable(el);\\n        }\\n        \\n        [this[\\\"formatted_val\\\"]=ko.computed(    function(){\\n        return this.formatted_vals()[parseInt(this.index())-(1)];\\n    }\\n,this)]\\n        [this[\\\"changes\\\"].subscribe((function (val){!(this.valueFromJulia[\\\"changes\\\"]) ? (WebIO.setval({\\\"name\\\":\\\"changes\\\",\\\"scope\\\":\\\"9035582120429443493\\\",\\\"id\\\":\\\"5913656512889119743\\\",\\\"type\\\":\\\"observable\\\"},val)) : undefined; return this.valueFromJulia[\\\"changes\\\"]=false}),self),this[\\\"index\\\"].subscribe((function (val){!(this.valueFromJulia[\\\"index\\\"]) ? (WebIO.setval({\\\"name\\\":\\\"index\\\",\\\"scope\\\":\\\"9035582120429443493\\\",\\\"id\\\":\\\"785025906897145174\\\",\\\"type\\\":\\\"observable\\\"},val)) : undefined; return this.valueFromJulia[\\\"index\\\"]=false}),self)]\\n        \\n    }\\n    self.model = new AppViewModel();\\n    self.valueFromJulia = {};\\n    for (var key in json_data) {\\n        self.valueFromJulia[key] = false;\\n    }\\n    ko.applyBindings(self.model, self.dom);\\n}\\n);\\n    (WebIO.importBlock({\\\"data\\\":[{\\\"name\\\":\\\"knockout\\\",\\\"type\\\":\\\"js\\\",\\\"url\\\":\\\"/assetserver/a0663ad37bdb924bb8f58218fb6104c40c026f21-knockout.js\\\"},{\\\"name\\\":\\\"knockout_punches\\\",\\\"type\\\":\\\"js\\\",\\\"url\\\":\\\"/assetserver/c0559b701cdaac29f8d4c071931238140df0ba9e-knockout_punches.js\\\"}],\\\"type\\\":\\\"async_block\\\"})).then((imports) => handler.apply(this, imports));\\n}\\n\")])], Dict{Symbol, Any}(:className => \"field interact-widget\")), Observable{Node{WebIO.DOM}} with 0 listeners. Value:\n",
       "Node{WebIO.DOM}(WebIO.DOM(:html, :div), Any[Plot{Plots.GRBackend() n=3}], Dict{Symbol, Any}(:className => \"interact-flex-row interact-widget\"))], Dict{Symbol, Any}())"
      ]
     },
     "execution_count": 15,
     "metadata": {
      "application/vnd.webio.node+json": {
       "kernelId": "58de998d-2c7f-4ce0-98ab-d98a42230a0a"
      }
     },
     "output_type": "execute_result"
    }
   ],
   "source": [
    "@manipulate for a in (-5:0.2:5) , b in (0.1:0.2:5)\n",
    "    point = converges_number_plot(GL,GH,a=a,b=b)\n",
    "    plot(point[3],point[1],label=\"GL\",ylim=[0,1], xlim=[0,30])\n",
    "    plot!(point[3],point[2],label=\"GH\")\n",
    "    f(x) = cdf(Normal(0, 1),(x-a)/b)*pdf(Normal(0, 1),x)\n",
    "    plot!([quadgk(f, -Inf, Inf, rtol=1e-6)[1]], seriestype=\"hline\" ,label = \"target\")\n",
    "end   "
   ]
  },
  {
   "cell_type": "markdown",
   "id": "ba566b85",
   "metadata": {},
   "source": [
    "GL rule is not always the most efficient."
   ]
  },
  {
   "cell_type": "markdown",
   "id": "b5240c60",
   "metadata": {},
   "source": [
    "## This problem asks you to consider an integration problem where it can be transformed to different types to use different Gaussian quadrature rules. Which one is the best? The integration problem is:\n",
    "\n",
    " $$\\begin{aligned}\n",
    " \\int_{a}^\\infty \\exp\\left(-\\frac{1}{100}x^2\\right)(1+x^2) dx,\n",
    " \\end{aligned}$$\n",
    "\n",
    "where $a$ is finite but not necessarily 0. This problem has some characteristics of the GLa and GH types: It has an exponential function, and by mapping $a$ to $-1$, $0$ or $-\\infty$ via change of variables, the domain would be of the GL, GLa and GH types, respectively. You are asked to perform the approximation using rules of each of the types and compare the performance. In the code, make $a$ a parameter that we can assign a value to it.\n",
    "\n",
    " - ##### Write Julia code that uses the GL rule to approximate the integral. \n",
    " - ##### Write Julia code that uses the GLa rule to approximate the integral. \n",
    " - ##### Write Julia code that uses the GH rule to approximate the integral. \n",
    " - ##### Suppose the required precision is 6 digits after the decimal. Compare the performances of these functions; drawing a graph will be useful. You may pick a value for $a$ in the comparison. \n",
    " - ##### According to your result above, which rule converges more quickly (smaller $n$)? What is the intuition behind the result?"
   ]
  },
  {
   "cell_type": "code",
   "execution_count": 16,
   "id": "ff0cd214",
   "metadata": {},
   "outputs": [
    {
     "data": {
      "image/svg+xml": [
       "<?xml version=\"1.0\" encoding=\"utf-8\"?>\n",
       "<svg xmlns=\"http://www.w3.org/2000/svg\" xmlns:xlink=\"http://www.w3.org/1999/xlink\" width=\"600\" height=\"400\" viewBox=\"0 0 2400 1600\">\n",
       "<defs>\n",
       "  <clipPath id=\"clip170\">\n",
       "    <rect x=\"0\" y=\"0\" width=\"2400\" height=\"1600\"/>\n",
       "  </clipPath>\n",
       "</defs>\n",
       "<path clip-path=\"url(#clip170)\" d=\"\n",
       "M0 1600 L2400 1600 L2400 0 L0 0  Z\n",
       "  \" fill=\"#ffffff\" fill-rule=\"evenodd\" fill-opacity=\"1\"/>\n",
       "<defs>\n",
       "  <clipPath id=\"clip171\">\n",
       "    <rect x=\"480\" y=\"0\" width=\"1681\" height=\"1600\"/>\n",
       "  </clipPath>\n",
       "</defs>\n",
       "<path clip-path=\"url(#clip170)\" d=\"\n",
       "M140.696 1486.45 L2352.76 1486.45 L2352.76 47.2441 L140.696 47.2441  Z\n",
       "  \" fill=\"#ffffff\" fill-rule=\"evenodd\" fill-opacity=\"1\"/>\n",
       "<defs>\n",
       "  <clipPath id=\"clip172\">\n",
       "    <rect x=\"140\" y=\"47\" width=\"2213\" height=\"1440\"/>\n",
       "  </clipPath>\n",
       "</defs>\n",
       "<polyline clip-path=\"url(#clip172)\" style=\"stroke:#000000; stroke-linecap:butt; stroke-linejoin:round; stroke-width:2; stroke-opacity:0.1; fill:none\" points=\"\n",
       "  411.986,1486.45 411.986,47.2441 \n",
       "  \"/>\n",
       "<polyline clip-path=\"url(#clip172)\" style=\"stroke:#000000; stroke-linecap:butt; stroke-linejoin:round; stroke-width:2; stroke-opacity:0.1; fill:none\" points=\"\n",
       "  829.356,1486.45 829.356,47.2441 \n",
       "  \"/>\n",
       "<polyline clip-path=\"url(#clip172)\" style=\"stroke:#000000; stroke-linecap:butt; stroke-linejoin:round; stroke-width:2; stroke-opacity:0.1; fill:none\" points=\"\n",
       "  1246.73,1486.45 1246.73,47.2441 \n",
       "  \"/>\n",
       "<polyline clip-path=\"url(#clip172)\" style=\"stroke:#000000; stroke-linecap:butt; stroke-linejoin:round; stroke-width:2; stroke-opacity:0.1; fill:none\" points=\"\n",
       "  1664.1,1486.45 1664.1,47.2441 \n",
       "  \"/>\n",
       "<polyline clip-path=\"url(#clip172)\" style=\"stroke:#000000; stroke-linecap:butt; stroke-linejoin:round; stroke-width:2; stroke-opacity:0.1; fill:none\" points=\"\n",
       "  2081.47,1486.45 2081.47,47.2441 \n",
       "  \"/>\n",
       "<polyline clip-path=\"url(#clip170)\" style=\"stroke:#000000; stroke-linecap:butt; stroke-linejoin:round; stroke-width:4; stroke-opacity:1; fill:none\" points=\"\n",
       "  140.696,1486.45 2352.76,1486.45 \n",
       "  \"/>\n",
       "<polyline clip-path=\"url(#clip170)\" style=\"stroke:#000000; stroke-linecap:butt; stroke-linejoin:round; stroke-width:4; stroke-opacity:1; fill:none\" points=\"\n",
       "  411.986,1486.45 411.986,1467.55 \n",
       "  \"/>\n",
       "<polyline clip-path=\"url(#clip170)\" style=\"stroke:#000000; stroke-linecap:butt; stroke-linejoin:round; stroke-width:4; stroke-opacity:1; fill:none\" points=\"\n",
       "  829.356,1486.45 829.356,1467.55 \n",
       "  \"/>\n",
       "<polyline clip-path=\"url(#clip170)\" style=\"stroke:#000000; stroke-linecap:butt; stroke-linejoin:round; stroke-width:4; stroke-opacity:1; fill:none\" points=\"\n",
       "  1246.73,1486.45 1246.73,1467.55 \n",
       "  \"/>\n",
       "<polyline clip-path=\"url(#clip170)\" style=\"stroke:#000000; stroke-linecap:butt; stroke-linejoin:round; stroke-width:4; stroke-opacity:1; fill:none\" points=\"\n",
       "  1664.1,1486.45 1664.1,1467.55 \n",
       "  \"/>\n",
       "<polyline clip-path=\"url(#clip170)\" style=\"stroke:#000000; stroke-linecap:butt; stroke-linejoin:round; stroke-width:4; stroke-opacity:1; fill:none\" points=\"\n",
       "  2081.47,1486.45 2081.47,1467.55 \n",
       "  \"/>\n",
       "<path clip-path=\"url(#clip170)\" d=\"M366.049 1532.02 L395.724 1532.02 L395.724 1535.95 L366.049 1535.95 L366.049 1532.02 Z\" fill=\"#000000\" fill-rule=\"evenodd\" fill-opacity=\"1\" /><path clip-path=\"url(#clip170)\" d=\"M418.664 1518.36 L406.859 1536.81 L418.664 1536.81 L418.664 1518.36 M417.437 1514.29 L423.317 1514.29 L423.317 1536.81 L428.247 1536.81 L428.247 1540.7 L423.317 1540.7 L423.317 1548.85 L418.664 1548.85 L418.664 1540.7 L403.062 1540.7 L403.062 1536.19 L417.437 1514.29 Z\" fill=\"#000000\" fill-rule=\"evenodd\" fill-opacity=\"1\" /><path clip-path=\"url(#clip170)\" d=\"M445.979 1517.37 Q442.368 1517.37 440.539 1520.93 Q438.734 1524.47 438.734 1531.6 Q438.734 1538.71 440.539 1542.27 Q442.368 1545.82 445.979 1545.82 Q449.613 1545.82 451.419 1542.27 Q453.247 1538.71 453.247 1531.6 Q453.247 1524.47 451.419 1520.93 Q449.613 1517.37 445.979 1517.37 M445.979 1513.66 Q451.789 1513.66 454.845 1518.27 Q457.923 1522.85 457.923 1531.6 Q457.923 1540.33 454.845 1544.94 Q451.789 1549.52 445.979 1549.52 Q440.169 1549.52 437.09 1544.94 Q434.034 1540.33 434.034 1531.6 Q434.034 1522.85 437.09 1518.27 Q440.169 1513.66 445.979 1513.66 Z\" fill=\"#000000\" fill-rule=\"evenodd\" fill-opacity=\"1\" /><path clip-path=\"url(#clip170)\" d=\"M783.419 1532.02 L813.094 1532.02 L813.094 1535.95 L783.419 1535.95 L783.419 1532.02 Z\" fill=\"#000000\" fill-rule=\"evenodd\" fill-opacity=\"1\" /><path clip-path=\"url(#clip170)\" d=\"M827.215 1544.91 L843.534 1544.91 L843.534 1548.85 L821.59 1548.85 L821.59 1544.91 Q824.252 1542.16 828.835 1537.53 Q833.441 1532.88 834.622 1531.53 Q836.867 1529.01 837.747 1527.27 Q838.65 1525.51 838.65 1523.82 Q838.65 1521.07 836.705 1519.33 Q834.784 1517.6 831.682 1517.6 Q829.483 1517.6 827.029 1518.36 Q824.599 1519.13 821.821 1520.68 L821.821 1515.95 Q824.645 1514.82 827.099 1514.24 Q829.553 1513.66 831.59 1513.66 Q836.96 1513.66 840.154 1516.35 Q843.349 1519.03 843.349 1523.52 Q843.349 1525.65 842.539 1527.57 Q841.752 1529.47 839.645 1532.07 Q839.066 1532.74 835.965 1535.95 Q832.863 1539.15 827.215 1544.91 Z\" fill=\"#000000\" fill-rule=\"evenodd\" fill-opacity=\"1\" /><path clip-path=\"url(#clip170)\" d=\"M863.349 1517.37 Q859.738 1517.37 857.909 1520.93 Q856.103 1524.47 856.103 1531.6 Q856.103 1538.71 857.909 1542.27 Q859.738 1545.82 863.349 1545.82 Q866.983 1545.82 868.789 1542.27 Q870.617 1538.71 870.617 1531.6 Q870.617 1524.47 868.789 1520.93 Q866.983 1517.37 863.349 1517.37 M863.349 1513.66 Q869.159 1513.66 872.214 1518.27 Q875.293 1522.85 875.293 1531.6 Q875.293 1540.33 872.214 1544.94 Q869.159 1549.52 863.349 1549.52 Q857.539 1549.52 854.46 1544.94 Q851.404 1540.33 851.404 1531.6 Q851.404 1522.85 854.46 1518.27 Q857.539 1513.66 863.349 1513.66 Z\" fill=\"#000000\" fill-rule=\"evenodd\" fill-opacity=\"1\" /><path clip-path=\"url(#clip170)\" d=\"M1246.73 1517.37 Q1243.11 1517.37 1241.29 1520.93 Q1239.48 1524.47 1239.48 1531.6 Q1239.48 1538.71 1241.29 1542.27 Q1243.11 1545.82 1246.73 1545.82 Q1250.36 1545.82 1252.17 1542.27 Q1253.99 1538.71 1253.99 1531.6 Q1253.99 1524.47 1252.17 1520.93 Q1250.36 1517.37 1246.73 1517.37 M1246.73 1513.66 Q1252.54 1513.66 1255.59 1518.27 Q1258.67 1522.85 1258.67 1531.6 Q1258.67 1540.33 1255.59 1544.94 Q1252.54 1549.52 1246.73 1549.52 Q1240.92 1549.52 1237.84 1544.94 Q1234.78 1540.33 1234.78 1531.6 Q1234.78 1522.85 1237.84 1518.27 Q1240.92 1513.66 1246.73 1513.66 Z\" fill=\"#000000\" fill-rule=\"evenodd\" fill-opacity=\"1\" /><path clip-path=\"url(#clip170)\" d=\"M1642.87 1544.91 L1659.19 1544.91 L1659.19 1548.85 L1637.24 1548.85 L1637.24 1544.91 Q1639.91 1542.16 1644.49 1537.53 Q1649.1 1532.88 1650.28 1531.53 Q1652.52 1529.01 1653.4 1527.27 Q1654.3 1525.51 1654.3 1523.82 Q1654.3 1521.07 1652.36 1519.33 Q1650.44 1517.6 1647.34 1517.6 Q1645.14 1517.6 1642.68 1518.36 Q1640.25 1519.13 1637.48 1520.68 L1637.48 1515.95 Q1640.3 1514.82 1642.75 1514.24 Q1645.21 1513.66 1647.24 1513.66 Q1652.61 1513.66 1655.81 1516.35 Q1659 1519.03 1659 1523.52 Q1659 1525.65 1658.19 1527.57 Q1657.41 1529.47 1655.3 1532.07 Q1654.72 1532.74 1651.62 1535.95 Q1648.52 1539.15 1642.87 1544.91 Z\" fill=\"#000000\" fill-rule=\"evenodd\" fill-opacity=\"1\" /><path clip-path=\"url(#clip170)\" d=\"M1679 1517.37 Q1675.39 1517.37 1673.56 1520.93 Q1671.76 1524.47 1671.76 1531.6 Q1671.76 1538.71 1673.56 1542.27 Q1675.39 1545.82 1679 1545.82 Q1682.64 1545.82 1684.44 1542.27 Q1686.27 1538.71 1686.27 1531.6 Q1686.27 1524.47 1684.44 1520.93 Q1682.64 1517.37 1679 1517.37 M1679 1513.66 Q1684.81 1513.66 1687.87 1518.27 Q1690.95 1522.85 1690.95 1531.6 Q1690.95 1540.33 1687.87 1544.94 Q1684.81 1549.52 1679 1549.52 Q1673.19 1549.52 1670.11 1544.94 Q1667.06 1540.33 1667.06 1531.6 Q1667.06 1522.85 1670.11 1518.27 Q1673.19 1513.66 1679 1513.66 Z\" fill=\"#000000\" fill-rule=\"evenodd\" fill-opacity=\"1\" /><path clip-path=\"url(#clip170)\" d=\"M2069.64 1518.36 L2057.83 1536.81 L2069.64 1536.81 L2069.64 1518.36 M2068.41 1514.29 L2074.29 1514.29 L2074.29 1536.81 L2079.22 1536.81 L2079.22 1540.7 L2074.29 1540.7 L2074.29 1548.85 L2069.64 1548.85 L2069.64 1540.7 L2054.04 1540.7 L2054.04 1536.19 L2068.41 1514.29 Z\" fill=\"#000000\" fill-rule=\"evenodd\" fill-opacity=\"1\" /><path clip-path=\"url(#clip170)\" d=\"M2096.95 1517.37 Q2093.34 1517.37 2091.51 1520.93 Q2089.71 1524.47 2089.71 1531.6 Q2089.71 1538.71 2091.51 1542.27 Q2093.34 1545.82 2096.95 1545.82 Q2100.59 1545.82 2102.39 1542.27 Q2104.22 1538.71 2104.22 1531.6 Q2104.22 1524.47 2102.39 1520.93 Q2100.59 1517.37 2096.95 1517.37 M2096.95 1513.66 Q2102.76 1513.66 2105.82 1518.27 Q2108.9 1522.85 2108.9 1531.6 Q2108.9 1540.33 2105.82 1544.94 Q2102.76 1549.52 2096.95 1549.52 Q2091.14 1549.52 2088.06 1544.94 Q2085.01 1540.33 2085.01 1531.6 Q2085.01 1522.85 2088.06 1518.27 Q2091.14 1513.66 2096.95 1513.66 Z\" fill=\"#000000\" fill-rule=\"evenodd\" fill-opacity=\"1\" /><polyline clip-path=\"url(#clip172)\" style=\"stroke:#000000; stroke-linecap:butt; stroke-linejoin:round; stroke-width:2; stroke-opacity:0.1; fill:none\" points=\"\n",
       "  140.696,1445.72 2352.76,1445.72 \n",
       "  \"/>\n",
       "<polyline clip-path=\"url(#clip172)\" style=\"stroke:#000000; stroke-linecap:butt; stroke-linejoin:round; stroke-width:2; stroke-opacity:0.1; fill:none\" points=\"\n",
       "  140.696,1080.32 2352.76,1080.32 \n",
       "  \"/>\n",
       "<polyline clip-path=\"url(#clip172)\" style=\"stroke:#000000; stroke-linecap:butt; stroke-linejoin:round; stroke-width:2; stroke-opacity:0.1; fill:none\" points=\"\n",
       "  140.696,714.916 2352.76,714.916 \n",
       "  \"/>\n",
       "<polyline clip-path=\"url(#clip172)\" style=\"stroke:#000000; stroke-linecap:butt; stroke-linejoin:round; stroke-width:2; stroke-opacity:0.1; fill:none\" points=\"\n",
       "  140.696,349.517 2352.76,349.517 \n",
       "  \"/>\n",
       "<polyline clip-path=\"url(#clip170)\" style=\"stroke:#000000; stroke-linecap:butt; stroke-linejoin:round; stroke-width:4; stroke-opacity:1; fill:none\" points=\"\n",
       "  140.696,1486.45 140.696,47.2441 \n",
       "  \"/>\n",
       "<polyline clip-path=\"url(#clip170)\" style=\"stroke:#000000; stroke-linecap:butt; stroke-linejoin:round; stroke-width:4; stroke-opacity:1; fill:none\" points=\"\n",
       "  140.696,1445.72 159.593,1445.72 \n",
       "  \"/>\n",
       "<polyline clip-path=\"url(#clip170)\" style=\"stroke:#000000; stroke-linecap:butt; stroke-linejoin:round; stroke-width:4; stroke-opacity:1; fill:none\" points=\"\n",
       "  140.696,1080.32 159.593,1080.32 \n",
       "  \"/>\n",
       "<polyline clip-path=\"url(#clip170)\" style=\"stroke:#000000; stroke-linecap:butt; stroke-linejoin:round; stroke-width:4; stroke-opacity:1; fill:none\" points=\"\n",
       "  140.696,714.916 159.593,714.916 \n",
       "  \"/>\n",
       "<polyline clip-path=\"url(#clip170)\" style=\"stroke:#000000; stroke-linecap:butt; stroke-linejoin:round; stroke-width:4; stroke-opacity:1; fill:none\" points=\"\n",
       "  140.696,349.517 159.593,349.517 \n",
       "  \"/>\n",
       "<path clip-path=\"url(#clip170)\" d=\"M92.7512 1431.51 Q89.1401 1431.51 87.3114 1435.08 Q85.5058 1438.62 85.5058 1445.75 Q85.5058 1452.86 87.3114 1456.42 Q89.1401 1459.96 92.7512 1459.96 Q96.3854 1459.96 98.1909 1456.42 Q100.02 1452.86 100.02 1445.75 Q100.02 1438.62 98.1909 1435.08 Q96.3854 1431.51 92.7512 1431.51 M92.7512 1427.81 Q98.5613 1427.81 101.617 1432.42 Q104.696 1437 104.696 1445.75 Q104.696 1454.48 101.617 1459.08 Q98.5613 1463.67 92.7512 1463.67 Q86.941 1463.67 83.8623 1459.08 Q80.8068 1454.48 80.8068 1445.75 Q80.8068 1437 83.8623 1432.42 Q86.941 1427.81 92.7512 1427.81 Z\" fill=\"#000000\" fill-rule=\"evenodd\" fill-opacity=\"1\" /><path clip-path=\"url(#clip170)\" d=\"M53.3995 1093.66 L61.0384 1093.66 L61.0384 1067.3 L52.7282 1068.96 L52.7282 1064.7 L60.9921 1063.04 L65.668 1063.04 L65.668 1093.66 L73.3068 1093.66 L73.3068 1097.6 L53.3995 1097.6 L53.3995 1093.66 Z\" fill=\"#000000\" fill-rule=\"evenodd\" fill-opacity=\"1\" /><path clip-path=\"url(#clip170)\" d=\"M92.7512 1066.11 Q89.1401 1066.11 87.3114 1069.68 Q85.5058 1073.22 85.5058 1080.35 Q85.5058 1087.46 87.3114 1091.02 Q89.1401 1094.56 92.7512 1094.56 Q96.3854 1094.56 98.1909 1091.02 Q100.02 1087.46 100.02 1080.35 Q100.02 1073.22 98.1909 1069.68 Q96.3854 1066.11 92.7512 1066.11 M92.7512 1062.41 Q98.5613 1062.41 101.617 1067.02 Q104.696 1071.6 104.696 1080.35 Q104.696 1089.08 101.617 1093.68 Q98.5613 1098.27 92.7512 1098.27 Q86.941 1098.27 83.8623 1093.68 Q80.8068 1089.08 80.8068 1080.35 Q80.8068 1071.6 83.8623 1067.02 Q86.941 1062.41 92.7512 1062.41 Z\" fill=\"#000000\" fill-rule=\"evenodd\" fill-opacity=\"1\" /><path clip-path=\"url(#clip170)\" d=\"M56.6171 728.261 L72.9365 728.261 L72.9365 732.196 L50.9921 732.196 L50.9921 728.261 Q53.6541 725.507 58.2375 720.877 Q62.8439 716.224 64.0245 714.882 Q66.2698 712.359 67.1494 710.622 Q68.0522 708.863 68.0522 707.173 Q68.0522 704.419 66.1078 702.683 Q64.1865 700.947 61.0847 700.947 Q58.8856 700.947 56.4319 701.711 Q54.0014 702.474 51.2236 704.025 L51.2236 699.303 Q54.0477 698.169 56.5014 697.59 Q58.955 697.011 60.9921 697.011 Q66.3624 697.011 69.5568 699.697 Q72.7513 702.382 72.7513 706.873 Q72.7513 709.002 71.9411 710.923 Q71.1541 712.822 69.0476 715.414 Q68.4689 716.085 65.367 719.303 Q62.2652 722.497 56.6171 728.261 Z\" fill=\"#000000\" fill-rule=\"evenodd\" fill-opacity=\"1\" /><path clip-path=\"url(#clip170)\" d=\"M92.7512 700.715 Q89.1401 700.715 87.3114 704.28 Q85.5058 707.822 85.5058 714.951 Q85.5058 722.058 87.3114 725.622 Q89.1401 729.164 92.7512 729.164 Q96.3854 729.164 98.1909 725.622 Q100.02 722.058 100.02 714.951 Q100.02 707.822 98.1909 704.28 Q96.3854 700.715 92.7512 700.715 M92.7512 697.011 Q98.5613 697.011 101.617 701.618 Q104.696 706.201 104.696 714.951 Q104.696 723.678 101.617 728.284 Q98.5613 732.868 92.7512 732.868 Q86.941 732.868 83.8623 728.284 Q80.8068 723.678 80.8068 714.951 Q80.8068 706.201 83.8623 701.618 Q86.941 697.011 92.7512 697.011 Z\" fill=\"#000000\" fill-rule=\"evenodd\" fill-opacity=\"1\" /><path clip-path=\"url(#clip170)\" d=\"M66.7559 348.163 Q70.1124 348.88 71.9874 351.149 Q73.8855 353.417 73.8855 356.751 Q73.8855 361.866 70.367 364.667 Q66.8485 367.468 60.3671 367.468 Q58.1912 367.468 55.8764 367.028 Q53.5847 366.612 51.131 365.755 L51.131 361.241 Q53.0754 362.376 55.3903 362.954 Q57.7051 363.533 60.2282 363.533 Q64.6263 363.533 66.918 361.797 Q69.2328 360.061 69.2328 356.751 Q69.2328 353.695 67.08 351.982 Q64.9504 350.246 61.131 350.246 L57.1032 350.246 L57.1032 346.403 L61.3161 346.403 Q64.7652 346.403 66.5939 345.038 Q68.4226 343.649 68.4226 341.056 Q68.4226 338.394 66.5245 336.982 Q64.6495 335.547 61.131 335.547 Q59.2097 335.547 57.0106 335.964 Q54.8115 336.38 52.1727 337.26 L52.1727 333.093 Q54.8347 332.353 57.1495 331.982 Q59.4875 331.612 61.5476 331.612 Q66.8717 331.612 69.9735 334.042 Q73.0753 336.45 73.0753 340.57 Q73.0753 343.44 71.4318 345.431 Q69.7883 347.399 66.7559 348.163 Z\" fill=\"#000000\" fill-rule=\"evenodd\" fill-opacity=\"1\" /><path clip-path=\"url(#clip170)\" d=\"M92.7512 335.316 Q89.1401 335.316 87.3114 338.88 Q85.5058 342.422 85.5058 349.552 Q85.5058 356.658 87.3114 360.223 Q89.1401 363.764 92.7512 363.764 Q96.3854 363.764 98.1909 360.223 Q100.02 356.658 100.02 349.552 Q100.02 342.422 98.1909 338.88 Q96.3854 335.316 92.7512 335.316 M92.7512 331.612 Q98.5613 331.612 101.617 336.218 Q104.696 340.802 104.696 349.552 Q104.696 358.278 101.617 362.885 Q98.5613 367.468 92.7512 367.468 Q86.941 367.468 83.8623 362.885 Q80.8068 358.278 80.8068 349.552 Q80.8068 340.802 83.8623 336.218 Q86.941 331.612 92.7512 331.612 Z\" fill=\"#000000\" fill-rule=\"evenodd\" fill-opacity=\"1\" /><polyline clip-path=\"url(#clip172)\" style=\"stroke:#009af9; stroke-linecap:butt; stroke-linejoin:round; stroke-width:4; stroke-opacity:1; fill:none\" points=\"\n",
       "  203.301,1445.72 203.51,1445.72 203.718,1445.72 203.927,1445.72 204.136,1445.72 204.345,1445.72 204.553,1445.72 204.762,1445.72 204.971,1445.72 205.179,1445.72 \n",
       "  205.388,1445.72 205.597,1445.72 205.805,1445.72 206.014,1445.72 206.223,1445.72 206.432,1445.72 206.64,1445.72 206.849,1445.72 207.058,1445.72 207.266,1445.72 \n",
       "  207.475,1445.72 207.684,1445.72 207.893,1445.72 208.101,1445.72 208.31,1445.72 208.519,1445.72 208.727,1445.72 208.936,1445.72 209.145,1445.72 209.353,1445.72 \n",
       "  209.562,1445.72 209.771,1445.72 209.98,1445.72 210.188,1445.72 210.397,1445.72 210.606,1445.72 210.814,1445.72 211.023,1445.72 211.232,1445.72 211.441,1445.72 \n",
       "  211.649,1445.72 211.858,1445.72 212.067,1445.72 212.275,1445.72 212.484,1445.72 212.693,1445.72 212.901,1445.72 213.11,1445.72 213.319,1445.72 213.528,1445.72 \n",
       "  213.736,1445.72 213.945,1445.72 214.154,1445.72 214.362,1445.72 214.571,1445.72 214.78,1445.72 214.989,1445.72 215.197,1445.72 215.406,1445.72 215.615,1445.72 \n",
       "  215.823,1445.72 216.032,1445.72 216.241,1445.72 216.449,1445.72 216.658,1445.72 216.867,1445.72 217.076,1445.72 217.284,1445.72 217.493,1445.72 217.702,1445.72 \n",
       "  217.91,1445.72 218.119,1445.72 218.328,1445.72 218.537,1445.72 218.745,1445.72 218.954,1445.72 219.163,1445.72 219.371,1445.72 219.58,1445.72 219.789,1445.72 \n",
       "  219.997,1445.72 220.206,1445.72 220.415,1445.72 220.624,1445.72 220.832,1445.72 221.041,1445.72 221.25,1445.72 221.458,1445.72 221.667,1445.72 221.876,1445.72 \n",
       "  222.085,1445.72 222.293,1445.72 222.502,1445.72 222.711,1445.72 222.919,1445.72 223.128,1445.72 223.337,1445.72 223.545,1445.72 223.754,1445.72 223.963,1445.72 \n",
       "  224.172,1445.72 224.38,1445.72 224.589,1445.72 224.798,1445.72 225.006,1445.72 225.215,1445.72 225.424,1445.72 225.633,1445.72 225.841,1445.72 226.05,1445.72 \n",
       "  226.259,1445.72 226.467,1445.72 226.676,1445.72 226.885,1445.72 227.093,1445.72 227.302,1445.72 227.511,1445.72 227.72,1445.72 227.928,1445.72 228.137,1445.72 \n",
       "  228.346,1445.72 228.554,1445.72 228.763,1445.72 228.972,1445.72 229.181,1445.72 229.389,1445.72 229.598,1445.72 229.807,1445.72 230.015,1445.72 230.224,1445.72 \n",
       "  230.433,1445.72 230.641,1445.72 230.85,1445.72 231.059,1445.72 231.268,1445.72 231.476,1445.72 231.685,1445.72 231.894,1445.72 232.102,1445.72 232.311,1445.72 \n",
       "  232.52,1445.72 232.729,1445.72 232.937,1445.72 233.146,1445.72 233.355,1445.72 233.563,1445.72 233.772,1445.72 233.981,1445.72 234.189,1445.72 234.398,1445.72 \n",
       "  234.607,1445.72 234.816,1445.72 235.024,1445.72 235.233,1445.72 235.442,1445.72 235.65,1445.72 235.859,1445.72 236.068,1445.72 236.277,1445.72 236.485,1445.72 \n",
       "  236.694,1445.72 236.903,1445.72 237.111,1445.72 237.32,1445.72 237.529,1445.72 237.737,1445.72 237.946,1445.72 238.155,1445.72 238.364,1445.72 238.572,1445.72 \n",
       "  238.781,1445.72 238.99,1445.72 239.198,1445.72 239.407,1445.72 239.616,1445.72 239.825,1445.72 240.033,1445.72 240.242,1445.72 240.451,1445.72 240.659,1445.72 \n",
       "  240.868,1445.72 241.077,1445.72 241.285,1445.72 241.494,1445.72 241.703,1445.72 241.912,1445.72 242.12,1445.72 242.329,1445.72 242.538,1445.72 242.746,1445.72 \n",
       "  242.955,1445.72 243.164,1445.72 243.373,1445.72 243.581,1445.72 243.79,1445.72 243.999,1445.72 244.207,1445.72 244.416,1445.72 244.625,1445.72 244.833,1445.72 \n",
       "  245.042,1445.72 245.251,1445.72 245.46,1445.72 245.668,1445.72 245.877,1445.72 246.086,1445.72 246.294,1445.72 246.503,1445.72 246.712,1445.72 246.921,1445.72 \n",
       "  247.129,1445.72 247.338,1445.72 247.547,1445.72 247.755,1445.72 247.964,1445.72 248.173,1445.72 248.381,1445.72 248.59,1445.72 248.799,1445.72 249.008,1445.72 \n",
       "  249.216,1445.72 249.425,1445.72 249.634,1445.72 249.842,1445.72 250.051,1445.72 250.26,1445.72 250.469,1445.72 250.677,1445.72 250.886,1445.72 251.095,1445.72 \n",
       "  251.303,1445.72 251.512,1445.72 251.721,1445.72 251.929,1445.72 252.138,1445.72 252.347,1445.72 252.556,1445.72 252.764,1445.72 252.973,1445.72 253.182,1445.72 \n",
       "  253.39,1445.72 253.599,1445.72 253.808,1445.72 254.017,1445.72 254.225,1445.72 254.434,1445.72 254.643,1445.72 254.851,1445.72 255.06,1445.72 255.269,1445.72 \n",
       "  255.477,1445.72 255.686,1445.72 255.895,1445.72 256.104,1445.72 256.312,1445.72 256.521,1445.72 256.73,1445.72 256.938,1445.72 257.147,1445.72 257.356,1445.72 \n",
       "  257.565,1445.72 257.773,1445.72 257.982,1445.72 258.191,1445.72 258.399,1445.72 258.608,1445.72 258.817,1445.72 259.025,1445.72 259.234,1445.72 259.443,1445.72 \n",
       "  259.652,1445.72 259.86,1445.72 260.069,1445.72 260.278,1445.72 260.486,1445.72 260.695,1445.72 260.904,1445.72 261.113,1445.72 261.321,1445.72 261.53,1445.72 \n",
       "  261.739,1445.72 261.947,1445.72 262.156,1445.72 262.365,1445.72 262.573,1445.72 262.782,1445.72 262.991,1445.72 263.2,1445.72 263.408,1445.72 263.617,1445.72 \n",
       "  263.826,1445.72 264.034,1445.72 264.243,1445.72 264.452,1445.72 264.661,1445.72 264.869,1445.72 265.078,1445.72 265.287,1445.72 265.495,1445.72 265.704,1445.72 \n",
       "  265.913,1445.72 266.121,1445.72 266.33,1445.72 266.539,1445.72 266.748,1445.72 266.956,1445.72 267.165,1445.72 267.374,1445.72 267.582,1445.72 267.791,1445.72 \n",
       "  268,1445.72 268.209,1445.72 268.417,1445.72 268.626,1445.72 268.835,1445.72 269.043,1445.72 269.252,1445.72 269.461,1445.72 269.669,1445.72 269.878,1445.72 \n",
       "  270.087,1445.72 270.296,1445.72 270.504,1445.72 270.713,1445.72 270.922,1445.72 271.13,1445.72 271.339,1445.72 271.548,1445.72 271.757,1445.72 271.965,1445.72 \n",
       "  272.174,1445.72 272.383,1445.72 272.591,1445.72 272.8,1445.72 273.009,1445.72 273.217,1445.72 273.426,1445.72 273.635,1445.72 273.844,1445.72 274.052,1445.72 \n",
       "  274.261,1445.72 274.47,1445.72 274.678,1445.72 274.887,1445.72 275.096,1445.72 275.305,1445.72 275.513,1445.72 275.722,1445.72 275.931,1445.72 276.139,1445.72 \n",
       "  276.348,1445.72 276.557,1445.72 276.765,1445.72 276.974,1445.72 277.183,1445.72 277.392,1445.72 277.6,1445.72 277.809,1445.72 278.018,1445.72 278.226,1445.72 \n",
       "  278.435,1445.72 278.644,1445.72 278.853,1445.72 279.061,1445.72 279.27,1445.72 279.479,1445.72 279.687,1445.72 279.896,1445.72 280.105,1445.72 280.313,1445.72 \n",
       "  280.522,1445.72 280.731,1445.72 280.94,1445.72 281.148,1445.72 281.357,1445.72 281.566,1445.72 281.774,1445.72 281.983,1445.72 282.192,1445.72 282.401,1445.72 \n",
       "  282.609,1445.72 282.818,1445.72 283.027,1445.72 283.235,1445.72 283.444,1445.72 283.653,1445.72 283.861,1445.72 284.07,1445.72 284.279,1445.72 284.488,1445.72 \n",
       "  284.696,1445.72 284.905,1445.72 285.114,1445.72 285.322,1445.72 285.531,1445.72 285.74,1445.72 285.949,1445.72 286.157,1445.72 286.366,1445.72 286.575,1445.72 \n",
       "  286.783,1445.72 286.992,1445.72 287.201,1445.72 287.409,1445.72 287.618,1445.72 287.827,1445.72 288.036,1445.72 288.244,1445.72 288.453,1445.72 288.662,1445.72 \n",
       "  288.87,1445.72 289.079,1445.72 289.288,1445.72 289.497,1445.72 289.705,1445.72 289.914,1445.72 290.123,1445.72 290.331,1445.72 290.54,1445.72 290.749,1445.72 \n",
       "  290.957,1445.72 291.166,1445.72 291.375,1445.72 291.584,1445.72 291.792,1445.72 292.001,1445.72 292.21,1445.72 292.418,1445.72 292.627,1445.72 292.836,1445.72 \n",
       "  293.045,1445.72 293.253,1445.72 293.462,1445.72 293.671,1445.72 293.879,1445.72 294.088,1445.72 294.297,1445.72 294.505,1445.72 294.714,1445.72 294.923,1445.72 \n",
       "  295.132,1445.72 295.34,1445.72 295.549,1445.72 295.758,1445.72 295.966,1445.72 296.175,1445.72 296.384,1445.72 296.593,1445.72 296.801,1445.72 297.01,1445.72 \n",
       "  297.219,1445.72 297.427,1445.72 297.636,1445.72 297.845,1445.72 298.053,1445.72 298.262,1445.72 298.471,1445.72 298.68,1445.72 298.888,1445.72 299.097,1445.72 \n",
       "  299.306,1445.72 299.514,1445.72 299.723,1445.72 299.932,1445.72 300.141,1445.72 300.349,1445.72 300.558,1445.72 300.767,1445.72 300.975,1445.72 301.184,1445.72 \n",
       "  301.393,1445.72 301.601,1445.72 301.81,1445.72 302.019,1445.72 302.228,1445.72 302.436,1445.72 302.645,1445.72 302.854,1445.72 303.062,1445.72 303.271,1445.72 \n",
       "  303.48,1445.72 303.689,1445.72 303.897,1445.72 304.106,1445.72 304.315,1445.72 304.523,1445.72 304.732,1445.72 304.941,1445.72 305.149,1445.72 305.358,1445.72 \n",
       "  305.567,1445.72 305.776,1445.72 305.984,1445.72 306.193,1445.72 306.402,1445.72 306.61,1445.72 306.819,1445.72 307.028,1445.72 307.237,1445.72 307.445,1445.72 \n",
       "  307.654,1445.72 307.863,1445.72 308.071,1445.72 308.28,1445.72 308.489,1445.72 308.697,1445.72 308.906,1445.72 309.115,1445.72 309.324,1445.72 309.532,1445.72 \n",
       "  309.741,1445.72 309.95,1445.72 310.158,1445.72 310.367,1445.72 310.576,1445.72 310.785,1445.72 310.993,1445.72 311.202,1445.72 311.411,1445.72 311.619,1445.72 \n",
       "  311.828,1445.72 312.037,1445.72 312.245,1445.72 312.454,1445.72 312.663,1445.72 312.872,1445.72 313.08,1445.72 313.289,1445.72 313.498,1445.72 313.706,1445.72 \n",
       "  313.915,1445.72 314.124,1445.72 314.333,1445.72 314.541,1445.72 314.75,1445.72 314.959,1445.72 315.167,1445.72 315.376,1445.72 315.585,1445.72 315.793,1445.72 \n",
       "  316.002,1445.72 316.211,1445.72 316.42,1445.72 316.628,1445.72 316.837,1445.72 317.046,1445.72 317.254,1445.72 317.463,1445.72 317.672,1445.72 317.881,1445.72 \n",
       "  318.089,1445.72 318.298,1445.72 318.507,1445.72 318.715,1445.72 318.924,1445.72 319.133,1445.72 319.341,1445.72 319.55,1445.72 319.759,1445.72 319.968,1445.72 \n",
       "  320.176,1445.72 320.385,1445.72 320.594,1445.72 320.802,1445.72 321.011,1445.72 321.22,1445.72 321.429,1445.72 321.637,1445.72 321.846,1445.72 322.055,1445.72 \n",
       "  322.263,1445.72 322.472,1445.72 322.681,1445.72 322.889,1445.72 323.098,1445.72 323.307,1445.72 323.516,1445.72 323.724,1445.72 323.933,1445.72 324.142,1445.72 \n",
       "  324.35,1445.72 324.559,1445.72 324.768,1445.72 324.977,1445.72 325.185,1445.72 325.394,1445.72 325.603,1445.72 325.811,1445.72 326.02,1445.72 326.229,1445.72 \n",
       "  326.437,1445.72 326.646,1445.72 326.855,1445.72 327.064,1445.72 327.272,1445.72 327.481,1445.72 327.69,1445.72 327.898,1445.72 328.107,1445.72 328.316,1445.72 \n",
       "  328.525,1445.72 328.733,1445.72 328.942,1445.72 329.151,1445.72 329.359,1445.72 329.568,1445.72 329.777,1445.72 329.985,1445.72 330.194,1445.72 330.403,1445.72 \n",
       "  330.612,1445.72 330.82,1445.72 331.029,1445.72 331.238,1445.72 331.446,1445.72 331.655,1445.72 331.864,1445.72 332.073,1445.72 332.281,1445.72 332.49,1445.72 \n",
       "  332.699,1445.72 332.907,1445.72 333.116,1445.72 333.325,1445.72 333.533,1445.72 333.742,1445.72 333.951,1445.72 334.16,1445.72 334.368,1445.72 334.577,1445.72 \n",
       "  334.786,1445.72 334.994,1445.72 335.203,1445.72 335.412,1445.72 335.621,1445.72 335.829,1445.72 336.038,1445.72 336.247,1445.72 336.455,1445.72 336.664,1445.72 \n",
       "  336.873,1445.72 337.081,1445.72 337.29,1445.72 337.499,1445.72 337.708,1445.72 337.916,1445.72 338.125,1445.72 338.334,1445.72 338.542,1445.72 338.751,1445.72 \n",
       "  338.96,1445.72 339.169,1445.72 339.377,1445.72 339.586,1445.72 339.795,1445.72 340.003,1445.72 340.212,1445.72 340.421,1445.72 340.629,1445.72 340.838,1445.72 \n",
       "  341.047,1445.72 341.256,1445.72 341.464,1445.72 341.673,1445.72 341.882,1445.72 342.09,1445.72 342.299,1445.72 342.508,1445.72 342.717,1445.72 342.925,1445.72 \n",
       "  343.134,1445.72 343.343,1445.72 343.551,1445.72 343.76,1445.72 343.969,1445.72 344.177,1445.72 344.386,1445.72 344.595,1445.72 344.804,1445.72 345.012,1445.72 \n",
       "  345.221,1445.72 345.43,1445.72 345.638,1445.72 345.847,1445.72 346.056,1445.72 346.265,1445.72 346.473,1445.72 346.682,1445.72 346.891,1445.72 347.099,1445.72 \n",
       "  347.308,1445.72 347.517,1445.72 347.725,1445.72 347.934,1445.72 348.143,1445.72 348.352,1445.72 348.56,1445.72 348.769,1445.72 348.978,1445.72 349.186,1445.72 \n",
       "  349.395,1445.72 349.604,1445.72 349.813,1445.72 350.021,1445.72 350.23,1445.72 350.439,1445.72 350.647,1445.72 350.856,1445.72 351.065,1445.72 351.273,1445.72 \n",
       "  351.482,1445.72 351.691,1445.72 351.9,1445.71 352.108,1445.71 352.317,1445.71 352.526,1445.71 352.734,1445.71 352.943,1445.71 353.152,1445.71 353.361,1445.71 \n",
       "  353.569,1445.71 353.778,1445.71 353.987,1445.71 354.195,1445.71 354.404,1445.71 354.613,1445.71 354.821,1445.71 355.03,1445.71 355.239,1445.71 355.448,1445.71 \n",
       "  355.656,1445.71 355.865,1445.71 356.074,1445.71 356.282,1445.71 356.491,1445.71 356.7,1445.71 356.909,1445.71 357.117,1445.71 357.326,1445.71 357.535,1445.71 \n",
       "  357.743,1445.71 357.952,1445.71 358.161,1445.71 358.369,1445.71 358.578,1445.71 358.787,1445.71 358.996,1445.71 359.204,1445.71 359.413,1445.71 359.622,1445.71 \n",
       "  359.83,1445.71 360.039,1445.71 360.248,1445.71 360.456,1445.71 360.665,1445.71 360.874,1445.71 361.083,1445.71 361.291,1445.71 361.5,1445.71 361.709,1445.71 \n",
       "  361.917,1445.71 362.126,1445.71 362.335,1445.71 362.544,1445.71 362.752,1445.71 362.961,1445.71 363.17,1445.71 363.378,1445.71 363.587,1445.71 363.796,1445.71 \n",
       "  364.004,1445.71 364.213,1445.71 364.422,1445.71 364.631,1445.71 364.839,1445.71 365.048,1445.71 365.257,1445.71 365.465,1445.71 365.674,1445.71 365.883,1445.71 \n",
       "  366.092,1445.71 366.3,1445.71 366.509,1445.71 366.718,1445.71 366.926,1445.71 367.135,1445.71 367.344,1445.71 367.552,1445.71 367.761,1445.71 367.97,1445.71 \n",
       "  368.179,1445.71 368.387,1445.71 368.596,1445.71 368.805,1445.71 369.013,1445.71 369.222,1445.71 369.431,1445.71 369.64,1445.71 369.848,1445.71 370.057,1445.71 \n",
       "  370.266,1445.71 370.474,1445.71 370.683,1445.71 370.892,1445.71 371.1,1445.71 371.309,1445.71 371.518,1445.71 371.727,1445.71 371.935,1445.71 372.144,1445.71 \n",
       "  372.353,1445.71 372.561,1445.71 372.77,1445.71 372.979,1445.71 373.188,1445.71 373.396,1445.71 373.605,1445.71 373.814,1445.71 374.022,1445.71 374.231,1445.71 \n",
       "  374.44,1445.71 374.648,1445.71 374.857,1445.71 375.066,1445.71 375.275,1445.71 375.483,1445.71 375.692,1445.71 375.901,1445.71 376.109,1445.71 376.318,1445.71 \n",
       "  376.527,1445.71 376.736,1445.71 376.944,1445.71 377.153,1445.71 377.362,1445.71 377.57,1445.71 377.779,1445.71 377.988,1445.71 378.196,1445.71 378.405,1445.71 \n",
       "  378.614,1445.71 378.823,1445.71 379.031,1445.71 379.24,1445.71 379.449,1445.71 379.657,1445.71 379.866,1445.71 380.075,1445.71 380.284,1445.71 380.492,1445.71 \n",
       "  380.701,1445.71 380.91,1445.71 381.118,1445.71 381.327,1445.71 381.536,1445.71 381.744,1445.71 381.953,1445.71 382.162,1445.71 382.371,1445.71 382.579,1445.71 \n",
       "  382.788,1445.71 382.997,1445.71 383.205,1445.71 383.414,1445.71 383.623,1445.71 383.832,1445.71 384.04,1445.71 384.249,1445.71 384.458,1445.71 384.666,1445.71 \n",
       "  384.875,1445.71 385.084,1445.71 385.292,1445.71 385.501,1445.71 385.71,1445.71 385.919,1445.71 386.127,1445.71 386.336,1445.71 386.545,1445.71 386.753,1445.71 \n",
       "  386.962,1445.71 387.171,1445.71 387.38,1445.71 387.588,1445.71 387.797,1445.71 388.006,1445.71 388.214,1445.71 388.423,1445.71 388.632,1445.71 388.84,1445.71 \n",
       "  389.049,1445.71 389.258,1445.71 389.467,1445.71 389.675,1445.71 389.884,1445.71 390.093,1445.71 390.301,1445.71 390.51,1445.71 390.719,1445.71 390.928,1445.71 \n",
       "  391.136,1445.71 391.345,1445.71 391.554,1445.71 391.762,1445.71 391.971,1445.71 392.18,1445.71 392.388,1445.71 392.597,1445.71 392.806,1445.71 393.015,1445.71 \n",
       "  393.223,1445.71 393.432,1445.71 393.641,1445.71 393.849,1445.71 394.058,1445.71 394.267,1445.71 394.476,1445.71 394.684,1445.71 394.893,1445.71 395.102,1445.71 \n",
       "  395.31,1445.71 395.519,1445.71 395.728,1445.71 395.936,1445.71 396.145,1445.71 396.354,1445.71 396.563,1445.71 396.771,1445.71 396.98,1445.71 397.189,1445.71 \n",
       "  397.397,1445.71 397.606,1445.71 397.815,1445.71 398.024,1445.71 398.232,1445.71 398.441,1445.71 398.65,1445.71 398.858,1445.71 399.067,1445.71 399.276,1445.71 \n",
       "  399.484,1445.71 399.693,1445.71 399.902,1445.71 400.111,1445.71 400.319,1445.71 400.528,1445.71 400.737,1445.71 400.945,1445.71 401.154,1445.71 401.363,1445.71 \n",
       "  401.572,1445.71 401.78,1445.71 401.989,1445.71 402.198,1445.71 402.406,1445.71 402.615,1445.71 402.824,1445.71 403.032,1445.71 403.241,1445.71 403.45,1445.71 \n",
       "  403.659,1445.71 403.867,1445.71 404.076,1445.71 404.285,1445.71 404.493,1445.71 404.702,1445.71 404.911,1445.71 405.12,1445.71 405.328,1445.71 405.537,1445.71 \n",
       "  405.746,1445.71 405.954,1445.71 406.163,1445.71 406.372,1445.71 406.58,1445.71 406.789,1445.71 406.998,1445.71 407.207,1445.71 407.415,1445.71 407.624,1445.71 \n",
       "  407.833,1445.71 408.041,1445.71 408.25,1445.71 408.459,1445.71 408.668,1445.71 408.876,1445.71 409.085,1445.71 409.294,1445.71 409.502,1445.71 409.711,1445.71 \n",
       "  409.92,1445.71 410.128,1445.71 410.337,1445.71 410.546,1445.71 410.755,1445.71 410.963,1445.71 411.172,1445.71 411.381,1445.71 411.589,1445.71 411.798,1445.71 \n",
       "  412.007,1445.71 412.216,1445.71 412.424,1445.71 412.633,1445.71 412.842,1445.71 413.05,1445.71 413.259,1445.71 413.468,1445.71 413.676,1445.71 413.885,1445.71 \n",
       "  414.094,1445.71 414.303,1445.71 414.511,1445.71 414.72,1445.71 414.929,1445.71 415.137,1445.71 415.346,1445.71 415.555,1445.71 415.764,1445.71 415.972,1445.71 \n",
       "  416.181,1445.71 416.39,1445.71 416.598,1445.71 416.807,1445.71 417.016,1445.71 417.224,1445.71 417.433,1445.71 417.642,1445.71 417.851,1445.71 418.059,1445.71 \n",
       "  418.268,1445.71 418.477,1445.71 418.685,1445.71 418.894,1445.71 419.103,1445.71 419.312,1445.71 419.52,1445.71 419.729,1445.71 419.938,1445.71 420.146,1445.71 \n",
       "  420.355,1445.71 420.564,1445.71 420.772,1445.71 420.981,1445.71 421.19,1445.71 421.399,1445.71 421.607,1445.71 421.816,1445.71 422.025,1445.71 422.233,1445.71 \n",
       "  422.442,1445.71 422.651,1445.71 422.86,1445.71 423.068,1445.71 423.277,1445.71 423.486,1445.71 423.694,1445.71 423.903,1445.71 424.112,1445.71 424.32,1445.71 \n",
       "  424.529,1445.71 424.738,1445.71 424.947,1445.71 425.155,1445.71 425.364,1445.71 425.573,1445.71 425.781,1445.7 425.99,1445.7 426.199,1445.7 426.408,1445.7 \n",
       "  426.616,1445.7 426.825,1445.7 427.034,1445.7 427.242,1445.7 427.451,1445.7 427.66,1445.7 427.868,1445.7 428.077,1445.7 428.286,1445.7 428.495,1445.7 \n",
       "  428.703,1445.7 428.912,1445.7 429.121,1445.7 429.329,1445.7 429.538,1445.7 429.747,1445.7 429.956,1445.7 430.164,1445.7 430.373,1445.7 430.582,1445.7 \n",
       "  430.79,1445.7 430.999,1445.7 431.208,1445.7 431.416,1445.7 431.625,1445.7 431.834,1445.7 432.043,1445.7 432.251,1445.7 432.46,1445.7 432.669,1445.7 \n",
       "  432.877,1445.7 433.086,1445.7 433.295,1445.7 433.504,1445.7 433.712,1445.7 433.921,1445.7 434.13,1445.7 434.338,1445.7 434.547,1445.7 434.756,1445.7 \n",
       "  434.964,1445.7 435.173,1445.7 435.382,1445.7 435.591,1445.7 435.799,1445.7 436.008,1445.7 436.217,1445.7 436.425,1445.7 436.634,1445.7 436.843,1445.7 \n",
       "  437.052,1445.7 437.26,1445.7 437.469,1445.7 437.678,1445.7 437.886,1445.7 438.095,1445.7 438.304,1445.7 438.512,1445.7 438.721,1445.7 438.93,1445.7 \n",
       "  439.139,1445.7 439.347,1445.7 439.556,1445.7 439.765,1445.7 439.973,1445.7 440.182,1445.7 440.391,1445.7 440.6,1445.7 440.808,1445.7 441.017,1445.7 \n",
       "  441.226,1445.7 441.434,1445.7 441.643,1445.7 441.852,1445.7 442.06,1445.7 442.269,1445.7 442.478,1445.7 442.687,1445.7 442.895,1445.7 443.104,1445.7 \n",
       "  443.313,1445.7 443.521,1445.7 443.73,1445.7 443.939,1445.7 444.148,1445.7 444.356,1445.7 444.565,1445.7 444.774,1445.69 444.982,1445.69 445.191,1445.69 \n",
       "  445.4,1445.69 445.608,1445.69 445.817,1445.69 446.026,1445.69 446.235,1445.69 446.443,1445.69 446.652,1445.69 446.861,1445.69 447.069,1445.69 447.278,1445.69 \n",
       "  447.487,1445.69 447.696,1445.69 447.904,1445.69 448.113,1445.69 448.322,1445.69 448.53,1445.69 448.739,1445.69 448.948,1445.69 449.156,1445.69 449.365,1445.69 \n",
       "  449.574,1445.69 449.783,1445.69 449.991,1445.69 450.2,1445.69 450.409,1445.69 450.617,1445.69 450.826,1445.69 451.035,1445.69 451.244,1445.69 451.452,1445.69 \n",
       "  451.661,1445.69 451.87,1445.69 452.078,1445.69 452.287,1445.69 452.496,1445.69 452.704,1445.69 452.913,1445.69 453.122,1445.69 453.331,1445.69 453.539,1445.69 \n",
       "  453.748,1445.69 453.957,1445.69 454.165,1445.69 454.374,1445.69 454.583,1445.69 454.792,1445.69 455,1445.69 455.209,1445.69 455.418,1445.69 455.626,1445.69 \n",
       "  455.835,1445.69 456.044,1445.69 456.252,1445.68 456.461,1445.68 456.67,1445.68 456.879,1445.68 457.087,1445.68 457.296,1445.68 457.505,1445.68 457.713,1445.68 \n",
       "  457.922,1445.68 458.131,1445.68 458.34,1445.68 458.548,1445.68 458.757,1445.68 458.966,1445.68 459.174,1445.68 459.383,1445.68 459.592,1445.68 459.8,1445.68 \n",
       "  460.009,1445.68 460.218,1445.68 460.427,1445.68 460.635,1445.68 460.844,1445.68 461.053,1445.68 461.261,1445.68 461.47,1445.68 461.679,1445.68 461.888,1445.68 \n",
       "  462.096,1445.68 462.305,1445.68 462.514,1445.68 462.722,1445.68 462.931,1445.68 463.14,1445.68 463.348,1445.68 463.557,1445.68 463.766,1445.68 463.975,1445.68 \n",
       "  464.183,1445.68 464.392,1445.68 464.601,1445.67 464.809,1445.67 465.018,1445.67 465.227,1445.67 465.436,1445.67 465.644,1445.67 465.853,1445.67 466.062,1445.67 \n",
       "  466.27,1445.67 466.479,1445.67 466.688,1445.67 466.896,1445.67 467.105,1445.67 467.314,1445.67 467.523,1445.67 467.731,1445.67 467.94,1445.67 468.149,1445.67 \n",
       "  468.357,1445.67 468.566,1445.67 468.775,1445.67 468.984,1445.67 469.192,1445.67 469.401,1445.67 469.61,1445.67 469.818,1445.67 470.027,1445.67 470.236,1445.67 \n",
       "  470.444,1445.67 470.653,1445.67 470.862,1445.67 471.071,1445.67 471.279,1445.66 471.488,1445.66 471.697,1445.66 471.905,1445.66 472.114,1445.66 472.323,1445.66 \n",
       "  472.532,1445.66 472.74,1445.66 472.949,1445.66 473.158,1445.66 473.366,1445.66 473.575,1445.66 473.784,1445.66 473.992,1445.66 474.201,1445.66 474.41,1445.66 \n",
       "  474.619,1445.66 474.827,1445.66 475.036,1445.66 475.245,1445.66 475.453,1445.66 475.662,1445.66 475.871,1445.66 476.08,1445.66 476.288,1445.66 476.497,1445.66 \n",
       "  476.706,1445.65 476.914,1445.65 477.123,1445.65 477.332,1445.65 477.54,1445.65 477.749,1445.65 477.958,1445.65 478.167,1445.65 478.375,1445.65 478.584,1445.65 \n",
       "  478.793,1445.65 479.001,1445.65 479.21,1445.65 479.419,1445.65 479.628,1445.65 479.836,1445.65 480.045,1445.65 480.254,1445.65 480.462,1445.65 480.671,1445.65 \n",
       "  480.88,1445.65 481.088,1445.65 481.297,1445.65 481.506,1445.64 481.715,1445.64 481.923,1445.64 482.132,1445.64 482.341,1445.64 482.549,1445.64 482.758,1445.64 \n",
       "  482.967,1445.64 483.176,1445.64 483.384,1445.64 483.593,1445.64 483.802,1445.64 484.01,1445.64 484.219,1445.64 484.428,1445.64 484.636,1445.64 484.845,1445.64 \n",
       "  485.054,1445.64 485.263,1445.64 485.471,1445.63 485.68,1445.63 485.889,1445.63 486.097,1445.63 486.306,1445.63 486.515,1445.63 486.724,1445.63 486.932,1445.63 \n",
       "  487.141,1445.63 487.35,1445.63 487.558,1445.63 487.767,1445.63 487.976,1445.63 488.184,1445.63 488.393,1445.63 488.602,1445.63 488.811,1445.63 489.019,1445.62 \n",
       "  489.228,1445.62 489.437,1445.62 489.645,1445.62 489.854,1445.62 490.063,1445.62 490.272,1445.62 490.48,1445.62 490.689,1445.62 490.898,1445.62 491.106,1445.62 \n",
       "  491.315,1445.62 491.524,1445.62 491.732,1445.62 491.941,1445.62 492.15,1445.62 492.359,1445.61 492.567,1445.61 492.776,1445.61 492.985,1445.61 493.193,1445.61 \n",
       "  493.402,1445.61 493.611,1445.61 493.82,1445.61 494.028,1445.61 494.237,1445.61 494.446,1445.61 494.654,1445.61 494.863,1445.61 495.072,1445.61 495.28,1445.6 \n",
       "  495.489,1445.6 495.698,1445.6 495.907,1445.6 496.115,1445.6 496.324,1445.6 496.533,1445.6 496.741,1445.6 496.95,1445.6 497.159,1445.6 497.368,1445.6 \n",
       "  497.576,1445.6 497.785,1445.6 497.994,1445.59 498.202,1445.59 498.411,1445.59 498.62,1445.59 498.828,1445.59 499.037,1445.59 499.246,1445.59 499.455,1445.59 \n",
       "  499.663,1445.59 499.872,1445.59 500.081,1445.59 500.289,1445.59 500.498,1445.58 500.707,1445.58 500.916,1445.58 501.124,1445.58 501.333,1445.58 501.542,1445.58 \n",
       "  501.75,1445.58 501.959,1445.58 502.168,1445.58 502.376,1445.58 502.585,1445.58 502.794,1445.58 503.003,1445.57 503.211,1445.57 503.42,1445.57 503.629,1445.57 \n",
       "  503.837,1445.57 504.046,1445.57 504.255,1445.57 504.464,1445.57 504.672,1445.57 504.881,1445.57 505.09,1445.56 505.298,1445.56 505.507,1445.56 505.716,1445.56 \n",
       "  505.924,1445.56 506.133,1445.56 506.342,1445.56 506.551,1445.56 506.759,1445.56 506.968,1445.56 507.177,1445.55 507.385,1445.55 507.594,1445.55 507.803,1445.55 \n",
       "  508.012,1445.55 508.22,1445.55 508.429,1445.55 508.638,1445.55 508.846,1445.55 509.055,1445.54 509.264,1445.54 509.472,1445.54 509.681,1445.54 509.89,1445.54 \n",
       "  510.099,1445.54 510.307,1445.54 510.516,1445.54 510.725,1445.54 510.933,1445.53 511.142,1445.53 511.351,1445.53 511.56,1445.53 511.768,1445.53 511.977,1445.53 \n",
       "  512.186,1445.53 512.394,1445.53 512.603,1445.52 512.812,1445.52 513.02,1445.52 513.229,1445.52 513.438,1445.52 513.647,1445.52 513.855,1445.52 514.064,1445.52 \n",
       "  514.273,1445.51 514.481,1445.51 514.69,1445.51 514.899,1445.51 515.108,1445.51 515.316,1445.51 515.525,1445.51 515.734,1445.51 515.942,1445.5 516.151,1445.5 \n",
       "  516.36,1445.5 516.568,1445.5 516.777,1445.5 516.986,1445.5 517.195,1445.5 517.403,1445.49 517.612,1445.49 517.821,1445.49 518.029,1445.49 518.238,1445.49 \n",
       "  518.447,1445.49 518.656,1445.49 518.864,1445.48 519.073,1445.48 519.282,1445.48 519.49,1445.48 519.699,1445.48 519.908,1445.48 520.116,1445.47 520.325,1445.47 \n",
       "  520.534,1445.47 520.743,1445.47 520.951,1445.47 521.16,1445.47 521.369,1445.47 521.577,1445.46 521.786,1445.46 521.995,1445.46 522.204,1445.46 522.412,1445.46 \n",
       "  522.621,1445.46 522.83,1445.45 523.038,1445.45 523.247,1445.45 523.456,1445.45 523.664,1445.45 523.873,1445.45 524.082,1445.44 524.291,1445.44 524.499,1445.44 \n",
       "  524.708,1445.44 524.917,1445.44 525.125,1445.44 525.334,1445.43 525.543,1445.43 525.752,1445.43 525.96,1445.43 526.169,1445.43 526.378,1445.42 526.586,1445.42 \n",
       "  526.795,1445.42 527.004,1445.42 527.212,1445.42 527.421,1445.41 527.63,1445.41 527.839,1445.41 528.047,1445.41 528.256,1445.41 528.465,1445.41 528.673,1445.4 \n",
       "  528.882,1445.4 529.091,1445.4 529.299,1445.4 529.508,1445.4 529.717,1445.39 529.926,1445.39 530.134,1445.39 530.343,1445.39 530.552,1445.39 530.76,1445.38 \n",
       "  530.969,1445.38 531.178,1445.38 531.387,1445.38 531.595,1445.37 531.804,1445.37 532.013,1445.37 532.221,1445.37 532.43,1445.37 532.639,1445.36 532.847,1445.36 \n",
       "  533.056,1445.36 533.265,1445.36 533.474,1445.35 533.682,1445.35 533.891,1445.35 534.1,1445.35 534.308,1445.35 534.517,1445.34 534.726,1445.34 534.935,1445.34 \n",
       "  535.143,1445.34 535.352,1445.33 535.561,1445.33 535.769,1445.33 535.978,1445.33 536.187,1445.32 536.395,1445.32 536.604,1445.32 536.813,1445.32 537.022,1445.31 \n",
       "  537.23,1445.31 537.439,1445.31 537.648,1445.31 537.856,1445.3 538.065,1445.3 538.274,1445.3 538.483,1445.3 538.691,1445.29 538.9,1445.29 539.109,1445.29 \n",
       "  539.317,1445.29 539.526,1445.28 539.735,1445.28 539.943,1445.28 540.152,1445.28 540.361,1445.27 540.57,1445.27 540.778,1445.27 540.987,1445.26 541.196,1445.26 \n",
       "  541.404,1445.26 541.613,1445.26 541.822,1445.25 542.031,1445.25 542.239,1445.25 542.448,1445.24 542.657,1445.24 542.865,1445.24 543.074,1445.24 543.283,1445.23 \n",
       "  543.491,1445.23 543.7,1445.23 543.909,1445.22 544.118,1445.22 544.326,1445.22 544.535,1445.21 544.744,1445.21 544.952,1445.21 545.161,1445.21 545.37,1445.2 \n",
       "  545.579,1445.2 545.787,1445.2 545.996,1445.19 546.205,1445.19 546.413,1445.19 546.622,1445.18 546.831,1445.18 547.039,1445.18 547.248,1445.17 547.457,1445.17 \n",
       "  547.666,1445.17 547.874,1445.16 548.083,1445.16 548.292,1445.16 548.5,1445.15 548.709,1445.15 548.918,1445.15 549.127,1445.14 549.335,1445.14 549.544,1445.14 \n",
       "  549.753,1445.13 549.961,1445.13 550.17,1445.12 550.379,1445.12 550.587,1445.12 550.796,1445.11 551.005,1445.11 551.214,1445.11 551.422,1445.1 551.631,1445.1 \n",
       "  551.84,1445.1 552.048,1445.09 552.257,1445.09 552.466,1445.08 552.675,1445.08 552.883,1445.08 553.092,1445.07 553.301,1445.07 553.509,1445.06 553.718,1445.06 \n",
       "  553.927,1445.06 554.135,1445.05 554.344,1445.05 554.553,1445.04 554.762,1445.04 554.97,1445.04 555.179,1445.03 555.388,1445.03 555.596,1445.02 555.805,1445.02 \n",
       "  556.014,1445.02 556.223,1445.01 556.431,1445.01 556.64,1445 556.849,1445 557.057,1444.99 557.266,1444.99 557.475,1444.99 557.683,1444.98 557.892,1444.98 \n",
       "  558.101,1444.97 558.31,1444.97 558.518,1444.96 558.727,1444.96 558.936,1444.95 559.144,1444.95 559.353,1444.95 559.562,1444.94 559.771,1444.94 559.979,1444.93 \n",
       "  560.188,1444.93 560.397,1444.92 560.605,1444.92 560.814,1444.91 561.023,1444.91 561.231,1444.9 561.44,1444.9 561.649,1444.89 561.858,1444.89 562.066,1444.88 \n",
       "  562.275,1444.88 562.484,1444.87 562.692,1444.87 562.901,1444.86 563.11,1444.86 563.319,1444.85 563.527,1444.85 563.736,1444.84 563.945,1444.84 564.153,1444.83 \n",
       "  564.362,1444.83 564.571,1444.82 564.779,1444.82 564.988,1444.81 565.197,1444.81 565.406,1444.8 565.614,1444.79 565.823,1444.79 566.032,1444.78 566.24,1444.78 \n",
       "  566.449,1444.77 566.658,1444.77 566.867,1444.76 567.075,1444.76 567.284,1444.75 567.493,1444.74 567.701,1444.74 567.91,1444.73 568.119,1444.73 568.327,1444.72 \n",
       "  568.536,1444.72 568.745,1444.71 568.954,1444.7 569.162,1444.7 569.371,1444.69 569.58,1444.69 569.788,1444.68 569.997,1444.67 570.206,1444.67 570.415,1444.66 \n",
       "  570.623,1444.65 570.832,1444.65 571.041,1444.64 571.249,1444.64 571.458,1444.63 571.667,1444.62 571.875,1444.62 572.084,1444.61 572.293,1444.6 572.502,1444.6 \n",
       "  572.71,1444.59 572.919,1444.58 573.128,1444.58 573.336,1444.57 573.545,1444.56 573.754,1444.56 573.963,1444.55 574.171,1444.54 574.38,1444.54 574.589,1444.53 \n",
       "  574.797,1444.52 575.006,1444.52 575.215,1444.51 575.423,1444.5 575.632,1444.5 575.841,1444.49 576.05,1444.48 576.258,1444.47 576.467,1444.47 576.676,1444.46 \n",
       "  576.884,1444.45 577.093,1444.44 577.302,1444.44 577.511,1444.43 577.719,1444.42 577.928,1444.41 578.137,1444.41 578.345,1444.4 578.554,1444.39 578.763,1444.38 \n",
       "  578.971,1444.38 579.18,1444.37 579.389,1444.36 579.598,1444.35 579.806,1444.35 580.015,1444.34 580.224,1444.33 580.432,1444.32 580.641,1444.31 580.85,1444.31 \n",
       "  581.059,1444.3 581.267,1444.29 581.476,1444.28 581.685,1444.27 581.893,1444.26 582.102,1444.26 582.311,1444.25 582.519,1444.24 582.728,1444.23 582.937,1444.22 \n",
       "  583.146,1444.21 583.354,1444.2 583.563,1444.2 583.772,1444.19 583.98,1444.18 584.189,1444.17 584.398,1444.16 584.607,1444.15 584.815,1444.14 585.024,1444.13 \n",
       "  585.233,1444.12 585.441,1444.12 585.65,1444.11 585.859,1444.1 586.067,1444.09 586.276,1444.08 586.485,1444.07 586.694,1444.06 586.902,1444.05 587.111,1444.04 \n",
       "  587.32,1444.03 587.528,1444.02 587.737,1444.01 587.946,1444 588.155,1443.99 588.363,1443.98 588.572,1443.97 588.781,1443.96 588.989,1443.95 589.198,1443.94 \n",
       "  589.407,1443.93 589.615,1443.92 589.824,1443.91 590.033,1443.9 590.242,1443.89 590.45,1443.88 590.659,1443.87 590.868,1443.86 591.076,1443.85 591.285,1443.84 \n",
       "  591.494,1443.83 591.703,1443.82 591.911,1443.81 592.12,1443.8 592.329,1443.79 592.537,1443.78 592.746,1443.76 592.955,1443.75 593.163,1443.74 593.372,1443.73 \n",
       "  593.581,1443.72 593.79,1443.71 593.998,1443.7 594.207,1443.69 594.416,1443.68 594.624,1443.66 594.833,1443.65 595.042,1443.64 595.251,1443.63 595.459,1443.62 \n",
       "  595.668,1443.61 595.877,1443.59 596.085,1443.58 596.294,1443.57 596.503,1443.56 596.711,1443.55 596.92,1443.53 597.129,1443.52 597.338,1443.51 597.546,1443.5 \n",
       "  597.755,1443.48 597.964,1443.47 598.172,1443.46 598.381,1443.45 598.59,1443.43 598.799,1443.42 599.007,1443.41 599.216,1443.4 599.425,1443.38 599.633,1443.37 \n",
       "  599.842,1443.36 600.051,1443.34 600.259,1443.33 600.468,1443.32 600.677,1443.3 600.886,1443.29 601.094,1443.28 601.303,1443.26 601.512,1443.25 601.72,1443.24 \n",
       "  601.929,1443.22 602.138,1443.21 602.347,1443.19 602.555,1443.18 602.764,1443.17 602.973,1443.15 603.181,1443.14 603.39,1443.12 603.599,1443.11 603.807,1443.09 \n",
       "  604.016,1443.08 604.225,1443.07 604.434,1443.05 604.642,1443.04 604.851,1443.02 605.06,1443.01 605.268,1442.99 605.477,1442.98 605.686,1442.96 605.895,1442.95 \n",
       "  606.103,1442.93 606.312,1442.92 606.521,1442.9 606.729,1442.88 606.938,1442.87 607.147,1442.85 607.355,1442.84 607.564,1442.82 607.773,1442.81 607.982,1442.79 \n",
       "  608.19,1442.77 608.399,1442.76 608.608,1442.74 608.816,1442.73 609.025,1442.71 609.234,1442.69 609.443,1442.68 609.651,1442.66 609.86,1442.64 610.069,1442.63 \n",
       "  610.277,1442.61 610.486,1442.59 610.695,1442.58 610.903,1442.56 611.112,1442.54 611.321,1442.52 611.53,1442.51 611.738,1442.49 611.947,1442.47 612.156,1442.45 \n",
       "  612.364,1442.44 612.573,1442.42 612.782,1442.4 612.991,1442.38 613.199,1442.36 613.408,1442.35 613.617,1442.33 613.825,1442.31 614.034,1442.29 614.243,1442.27 \n",
       "  614.451,1442.25 614.66,1442.23 614.869,1442.22 615.078,1442.2 615.286,1442.18 615.495,1442.16 615.704,1442.14 615.912,1442.12 616.121,1442.1 616.33,1442.08 \n",
       "  616.539,1442.06 616.747,1442.04 616.956,1442.02 617.165,1442 617.373,1441.98 617.582,1441.96 617.791,1441.94 617.999,1441.92 618.208,1441.9 618.417,1441.88 \n",
       "  618.626,1441.86 618.834,1441.84 619.043,1441.82 619.252,1441.8 619.46,1441.78 619.669,1441.76 619.878,1441.73 620.087,1441.71 620.295,1441.69 620.504,1441.67 \n",
       "  620.713,1441.65 620.921,1441.63 621.13,1441.6 621.339,1441.58 621.547,1441.56 621.756,1441.54 621.965,1441.52 622.174,1441.49 622.382,1441.47 622.591,1441.45 \n",
       "  622.8,1441.43 623.008,1441.4 623.217,1441.38 623.426,1441.36 623.635,1441.33 623.843,1441.31 624.052,1441.29 624.261,1441.26 624.469,1441.24 624.678,1441.22 \n",
       "  624.887,1441.19 625.095,1441.17 625.304,1441.14 625.513,1441.12 625.722,1441.1 625.93,1441.07 626.139,1441.05 626.348,1441.02 626.556,1441 626.765,1440.97 \n",
       "  626.974,1440.95 627.183,1440.92 627.391,1440.9 627.6,1440.87 627.809,1440.85 628.017,1440.82 628.226,1440.79 628.435,1440.77 628.643,1440.74 628.852,1440.72 \n",
       "  629.061,1440.69 629.27,1440.66 629.478,1440.64 629.687,1440.61 629.896,1440.58 630.104,1440.56 630.313,1440.53 630.522,1440.5 630.731,1440.47 630.939,1440.45 \n",
       "  631.148,1440.42 631.357,1440.39 631.565,1440.36 631.774,1440.34 631.983,1440.31 632.191,1440.28 632.4,1440.25 632.609,1440.22 632.818,1440.19 633.026,1440.17 \n",
       "  633.235,1440.14 633.444,1440.11 633.652,1440.08 633.861,1440.05 634.07,1440.02 634.279,1439.99 634.487,1439.96 634.696,1439.93 634.905,1439.9 635.113,1439.87 \n",
       "  635.322,1439.84 635.531,1439.81 635.739,1439.78 635.948,1439.75 636.157,1439.72 636.366,1439.69 636.574,1439.65 636.783,1439.62 636.992,1439.59 637.2,1439.56 \n",
       "  637.409,1439.53 637.618,1439.5 637.827,1439.46 638.035,1439.43 638.244,1439.4 638.453,1439.37 638.661,1439.33 638.87,1439.3 639.079,1439.27 639.287,1439.23 \n",
       "  639.496,1439.2 639.705,1439.17 639.914,1439.13 640.122,1439.1 640.331,1439.07 640.54,1439.03 640.748,1439 640.957,1438.96 641.166,1438.93 641.375,1438.89 \n",
       "  641.583,1438.86 641.792,1438.82 642.001,1438.79 642.209,1438.75 642.418,1438.72 642.627,1438.68 642.835,1438.65 643.044,1438.61 643.253,1438.57 643.462,1438.54 \n",
       "  643.67,1438.5 643.879,1438.46 644.088,1438.43 644.296,1438.39 644.505,1438.35 644.714,1438.31 644.923,1438.28 645.131,1438.24 645.34,1438.2 645.549,1438.16 \n",
       "  645.757,1438.12 645.966,1438.09 646.175,1438.05 646.383,1438.01 646.592,1437.97 646.801,1437.93 647.01,1437.89 647.218,1437.85 647.427,1437.81 647.636,1437.77 \n",
       "  647.844,1437.73 648.053,1437.69 648.262,1437.65 648.471,1437.61 648.679,1437.57 648.888,1437.53 649.097,1437.49 649.305,1437.44 649.514,1437.4 649.723,1437.36 \n",
       "  649.931,1437.32 650.14,1437.28 650.349,1437.23 650.558,1437.19 650.766,1437.15 650.975,1437.11 651.184,1437.06 651.392,1437.02 651.601,1436.97 651.81,1436.93 \n",
       "  652.019,1436.89 652.227,1436.84 652.436,1436.8 652.645,1436.75 652.853,1436.71 653.062,1436.66 653.271,1436.62 653.479,1436.57 653.688,1436.53 653.897,1436.48 \n",
       "  654.106,1436.44 654.314,1436.39 654.523,1436.34 654.732,1436.3 654.94,1436.25 655.149,1436.2 655.358,1436.15 655.567,1436.11 655.775,1436.06 655.984,1436.01 \n",
       "  656.193,1435.96 656.401,1435.91 656.61,1435.87 656.819,1435.82 657.027,1435.77 657.236,1435.72 657.445,1435.67 657.654,1435.62 657.862,1435.57 658.071,1435.52 \n",
       "  658.28,1435.47 658.488,1435.42 658.697,1435.37 658.906,1435.32 659.115,1435.26 659.323,1435.21 659.532,1435.16 659.741,1435.11 659.949,1435.06 660.158,1435 \n",
       "  660.367,1434.95 660.575,1434.9 660.784,1434.85 660.993,1434.79 661.202,1434.74 661.41,1434.68 661.619,1434.63 661.828,1434.58 662.036,1434.52 662.245,1434.47 \n",
       "  662.454,1434.41 662.663,1434.36 662.871,1434.3 663.08,1434.24 663.289,1434.19 663.497,1434.13 663.706,1434.08 663.915,1434.02 664.123,1433.96 664.332,1433.9 \n",
       "  664.541,1433.85 664.75,1433.79 664.958,1433.73 665.167,1433.67 665.376,1433.61 665.584,1433.55 665.793,1433.5 666.002,1433.44 666.211,1433.38 666.419,1433.32 \n",
       "  666.628,1433.26 666.837,1433.2 667.045,1433.14 667.254,1433.07 667.463,1433.01 667.671,1432.95 667.88,1432.89 668.089,1432.83 668.298,1432.77 668.506,1432.7 \n",
       "  668.715,1432.64 668.924,1432.58 669.132,1432.51 669.341,1432.45 669.55,1432.39 669.759,1432.32 669.967,1432.26 670.176,1432.19 670.385,1432.13 670.593,1432.06 \n",
       "  670.802,1432 671.011,1431.93 671.219,1431.86 671.428,1431.8 671.637,1431.73 671.846,1431.66 672.054,1431.6 672.263,1431.53 672.472,1431.46 672.68,1431.39 \n",
       "  672.889,1431.32 673.098,1431.25 673.307,1431.19 673.515,1431.12 673.724,1431.05 673.933,1430.98 674.141,1430.91 674.35,1430.84 674.559,1430.76 674.767,1430.69 \n",
       "  674.976,1430.62 675.185,1430.55 675.394,1430.48 675.602,1430.41 675.811,1430.33 676.02,1430.26 676.228,1430.19 676.437,1430.11 676.646,1430.04 676.855,1429.96 \n",
       "  677.063,1429.89 677.272,1429.81 677.481,1429.74 677.689,1429.66 677.898,1429.59 678.107,1429.51 678.315,1429.43 678.524,1429.36 678.733,1429.28 678.942,1429.2 \n",
       "  679.15,1429.12 679.359,1429.05 679.568,1428.97 679.776,1428.89 679.985,1428.81 680.194,1428.73 680.403,1428.65 680.611,1428.57 680.82,1428.49 681.029,1428.41 \n",
       "  681.237,1428.33 681.446,1428.25 681.655,1428.16 681.863,1428.08 682.072,1428 682.281,1427.92 682.49,1427.83 682.698,1427.75 682.907,1427.66 683.116,1427.58 \n",
       "  683.324,1427.5 683.533,1427.41 683.742,1427.33 683.951,1427.24 684.159,1427.15 684.368,1427.07 684.577,1426.98 684.785,1426.89 684.994,1426.8 685.203,1426.72 \n",
       "  685.411,1426.63 685.62,1426.54 685.829,1426.45 686.038,1426.36 686.246,1426.27 686.455,1426.18 686.664,1426.09 686.872,1426 687.081,1425.91 687.29,1425.82 \n",
       "  687.499,1425.72 687.707,1425.63 687.916,1425.54 688.125,1425.45 688.333,1425.35 688.542,1425.26 688.751,1425.16 688.959,1425.07 689.168,1424.97 689.377,1424.88 \n",
       "  689.586,1424.78 689.794,1424.69 690.003,1424.59 690.212,1424.49 690.42,1424.4 690.629,1424.3 690.838,1424.2 691.047,1424.1 691.255,1424 691.464,1423.9 \n",
       "  691.673,1423.8 691.881,1423.7 692.09,1423.6 692.299,1423.5 692.507,1423.4 692.716,1423.3 692.925,1423.19 693.134,1423.09 693.342,1422.99 693.551,1422.88 \n",
       "  693.76,1422.78 693.968,1422.68 694.177,1422.57 694.386,1422.47 694.595,1422.36 694.803,1422.25 695.012,1422.15 695.221,1422.04 695.429,1421.93 695.638,1421.82 \n",
       "  695.847,1421.72 696.055,1421.61 696.264,1421.5 696.473,1421.39 696.682,1421.28 696.89,1421.17 697.099,1421.06 697.308,1420.95 697.516,1420.83 697.725,1420.72 \n",
       "  697.934,1420.61 698.143,1420.5 698.351,1420.38 698.56,1420.27 698.769,1420.15 698.977,1420.04 699.186,1419.92 699.395,1419.81 699.603,1419.69 699.812,1419.57 \n",
       "  700.021,1419.46 700.23,1419.34 700.438,1419.22 700.647,1419.1 700.856,1418.98 701.064,1418.86 701.273,1418.74 701.482,1418.62 701.69,1418.5 701.899,1418.38 \n",
       "  702.108,1418.26 702.317,1418.13 702.525,1418.01 702.734,1417.89 702.943,1417.76 703.151,1417.64 703.36,1417.51 703.569,1417.39 703.778,1417.26 703.986,1417.14 \n",
       "  704.195,1417.01 704.404,1416.88 704.612,1416.75 704.821,1416.62 705.03,1416.5 705.238,1416.37 705.447,1416.24 705.656,1416.11 705.865,1415.97 706.073,1415.84 \n",
       "  706.282,1415.71 706.491,1415.58 706.699,1415.45 706.908,1415.31 707.117,1415.18 707.326,1415.04 707.534,1414.91 707.743,1414.77 707.952,1414.64 708.16,1414.5 \n",
       "  708.369,1414.36 708.578,1414.22 708.786,1414.09 708.995,1413.95 709.204,1413.81 709.413,1413.67 709.621,1413.53 709.83,1413.39 710.039,1413.25 710.247,1413.1 \n",
       "  710.456,1412.96 710.665,1412.82 710.874,1412.67 711.082,1412.53 711.291,1412.38 711.5,1412.24 711.708,1412.09 711.917,1411.95 712.126,1411.8 712.334,1411.65 \n",
       "  712.543,1411.5 712.752,1411.35 712.961,1411.21 713.169,1411.06 713.378,1410.91 713.587,1410.75 713.795,1410.6 714.004,1410.45 714.213,1410.3 714.422,1410.14 \n",
       "  714.63,1409.99 714.839,1409.84 715.048,1409.68 715.256,1409.53 715.465,1409.37 715.674,1409.21 715.882,1409.05 716.091,1408.9 716.3,1408.74 716.509,1408.58 \n",
       "  716.717,1408.42 716.926,1408.26 717.135,1408.1 717.343,1407.94 717.552,1407.77 717.761,1407.61 717.97,1407.45 718.178,1407.28 718.387,1407.12 718.596,1406.95 \n",
       "  718.804,1406.79 719.013,1406.62 719.222,1406.45 719.43,1406.29 719.639,1406.12 719.848,1405.95 720.057,1405.78 720.265,1405.61 720.474,1405.44 720.683,1405.27 \n",
       "  720.891,1405.09 721.1,1404.92 721.309,1404.75 721.518,1404.57 721.726,1404.4 721.935,1404.22 722.144,1404.05 722.352,1403.87 722.561,1403.69 722.77,1403.51 \n",
       "  722.978,1403.34 723.187,1403.16 723.396,1402.98 723.605,1402.8 723.813,1402.61 724.022,1402.43 724.231,1402.25 724.439,1402.07 724.648,1401.88 724.857,1401.7 \n",
       "  725.066,1401.51 725.274,1401.33 725.483,1401.14 725.692,1400.95 725.9,1400.76 726.109,1400.58 726.318,1400.39 726.526,1400.2 726.735,1400 726.944,1399.81 \n",
       "  727.153,1399.62 727.361,1399.43 727.57,1399.23 727.779,1399.04 727.987,1398.84 728.196,1398.65 728.405,1398.45 728.614,1398.26 728.822,1398.06 729.031,1397.86 \n",
       "  729.24,1397.66 729.448,1397.46 729.657,1397.26 729.866,1397.06 730.074,1396.86 730.283,1396.65 730.492,1396.45 730.701,1396.24 730.909,1396.04 731.118,1395.83 \n",
       "  731.327,1395.63 731.535,1395.42 731.744,1395.21 731.953,1395 732.162,1394.79 732.37,1394.58 732.579,1394.37 732.788,1394.16 732.996,1393.95 733.205,1393.73 \n",
       "  733.414,1393.52 733.622,1393.31 733.831,1393.09 734.04,1392.87 734.249,1392.66 734.457,1392.44 734.666,1392.22 734.875,1392 735.083,1391.78 735.292,1391.56 \n",
       "  735.501,1391.34 735.71,1391.12 735.918,1390.89 736.127,1390.67 736.336,1390.44 736.544,1390.22 736.753,1389.99 736.962,1389.76 737.17,1389.54 737.379,1389.31 \n",
       "  737.588,1389.08 737.797,1388.85 738.005,1388.62 738.214,1388.38 738.423,1388.15 738.631,1387.92 738.84,1387.68 739.049,1387.45 739.258,1387.21 739.466,1386.97 \n",
       "  739.675,1386.74 739.884,1386.5 740.092,1386.26 740.301,1386.02 740.51,1385.78 740.718,1385.54 740.927,1385.29 741.136,1385.05 741.345,1384.8 741.553,1384.56 \n",
       "  741.762,1384.31 741.971,1384.07 742.179,1383.82 742.388,1383.57 742.597,1383.32 742.806,1383.07 743.014,1382.82 743.223,1382.57 743.432,1382.31 743.64,1382.06 \n",
       "  743.849,1381.81 744.058,1381.55 744.266,1381.29 744.475,1381.04 744.684,1380.78 744.893,1380.52 745.101,1380.26 745.31,1380 745.519,1379.74 745.727,1379.47 \n",
       "  745.936,1379.21 746.145,1378.95 746.354,1378.68 746.562,1378.41 746.771,1378.15 746.98,1377.88 747.188,1377.61 747.397,1377.34 747.606,1377.07 747.814,1376.8 \n",
       "  748.023,1376.53 748.232,1376.25 748.441,1375.98 748.649,1375.7 748.858,1375.43 749.067,1375.15 749.275,1374.87 749.484,1374.59 749.693,1374.31 749.902,1374.03 \n",
       "  750.11,1373.75 750.319,1373.47 750.528,1373.19 750.736,1372.9 750.945,1372.62 751.154,1372.33 751.362,1372.04 751.571,1371.75 751.78,1371.46 751.989,1371.17 \n",
       "  752.197,1370.88 752.406,1370.59 752.615,1370.3 752.823,1370 753.032,1369.71 753.241,1369.41 753.45,1369.12 753.658,1368.82 753.867,1368.52 754.076,1368.22 \n",
       "  754.284,1367.92 754.493,1367.62 754.702,1367.31 754.91,1367.01 755.119,1366.7 755.328,1366.4 755.537,1366.09 755.745,1365.78 755.954,1365.47 756.163,1365.17 \n",
       "  756.371,1364.85 756.58,1364.54 756.789,1364.23 756.998,1363.92 757.206,1363.6 757.415,1363.28 757.624,1362.97 757.832,1362.65 758.041,1362.33 758.25,1362.01 \n",
       "  758.458,1361.69 758.667,1361.37 758.876,1361.04 759.085,1360.72 759.293,1360.4 759.502,1360.07 759.711,1359.74 759.919,1359.41 760.128,1359.08 760.337,1358.75 \n",
       "  760.546,1358.42 760.754,1358.09 760.963,1357.76 761.172,1357.42 761.38,1357.09 761.589,1356.75 761.798,1356.41 762.006,1356.07 762.215,1355.73 762.424,1355.39 \n",
       "  762.633,1355.05 762.841,1354.71 763.05,1354.36 763.259,1354.02 763.467,1353.67 763.676,1353.32 763.885,1352.97 764.094,1352.62 764.302,1352.27 764.511,1351.92 \n",
       "  764.72,1351.57 764.928,1351.21 765.137,1350.86 765.346,1350.5 765.554,1350.15 765.763,1349.79 765.972,1349.43 766.181,1349.07 766.389,1348.7 766.598,1348.34 \n",
       "  766.807,1347.98 767.015,1347.61 767.224,1347.25 767.433,1346.88 767.642,1346.51 767.85,1346.14 768.059,1345.77 768.268,1345.4 768.476,1345.02 768.685,1344.65 \n",
       "  768.894,1344.27 769.102,1343.9 769.311,1343.52 769.52,1343.14 769.729,1342.76 769.937,1342.38 770.146,1342 770.355,1341.61 770.563,1341.23 770.772,1340.84 \n",
       "  770.981,1340.45 771.19,1340.07 771.398,1339.68 771.607,1339.29 771.816,1338.89 772.024,1338.5 772.233,1338.11 772.442,1337.71 772.65,1337.31 772.859,1336.92 \n",
       "  773.068,1336.52 773.277,1336.12 773.485,1335.71 773.694,1335.31 773.903,1334.91 774.111,1334.5 774.32,1334.1 774.529,1333.69 774.738,1333.28 774.946,1332.87 \n",
       "  775.155,1332.46 775.364,1332.05 775.572,1331.63 775.781,1331.22 775.99,1330.8 776.198,1330.38 776.407,1329.97 776.616,1329.55 776.825,1329.12 777.033,1328.7 \n",
       "  777.242,1328.28 777.451,1327.85 777.659,1327.43 777.868,1327 778.077,1326.57 778.286,1326.14 778.494,1325.71 778.703,1325.28 778.912,1324.84 779.12,1324.41 \n",
       "  779.329,1323.97 779.538,1323.54 779.746,1323.1 779.955,1322.66 780.164,1322.22 780.373,1321.77 780.581,1321.33 780.79,1320.88 780.999,1320.44 781.207,1319.99 \n",
       "  781.416,1319.54 781.625,1319.09 781.834,1318.64 782.042,1318.18 782.251,1317.73 782.46,1317.27 782.668,1316.82 782.877,1316.36 783.086,1315.9 783.294,1315.44 \n",
       "  783.503,1314.98 783.712,1314.51 783.921,1314.05 784.129,1313.58 784.338,1313.11 784.547,1312.65 784.755,1312.18 784.964,1311.7 785.173,1311.23 785.382,1310.76 \n",
       "  785.59,1310.28 785.799,1309.8 786.008,1309.33 786.216,1308.85 786.425,1308.37 786.634,1307.88 786.842,1307.4 787.051,1306.91 787.26,1306.43 787.469,1305.94 \n",
       "  787.677,1305.45 787.886,1304.96 788.095,1304.47 788.303,1303.97 788.512,1303.48 788.721,1302.98 788.93,1302.49 789.138,1301.99 789.347,1301.49 789.556,1300.99 \n",
       "  789.764,1300.48 789.973,1299.98 790.182,1299.47 790.39,1298.97 790.599,1298.46 790.808,1297.95 791.017,1297.44 791.225,1296.92 791.434,1296.41 791.643,1295.89 \n",
       "  791.851,1295.38 792.06,1294.86 792.269,1294.34 792.478,1293.82 792.686,1293.29 792.895,1292.77 793.104,1292.24 793.312,1291.72 793.521,1291.19 793.73,1290.66 \n",
       "  793.938,1290.13 794.147,1289.59 794.356,1289.06 794.565,1288.52 794.773,1287.99 794.982,1287.45 795.191,1286.91 795.399,1286.37 795.608,1285.82 795.817,1285.28 \n",
       "  796.026,1284.73 796.234,1284.19 796.443,1283.64 796.652,1283.09 796.86,1282.53 797.069,1281.98 797.278,1281.43 797.486,1280.87 797.695,1280.31 797.904,1279.75 \n",
       "  798.113,1279.19 798.321,1278.63 798.53,1278.07 798.739,1277.5 798.947,1276.93 799.156,1276.37 799.365,1275.8 799.574,1275.23 799.782,1274.65 799.991,1274.08 \n",
       "  800.2,1273.5 800.408,1272.93 800.617,1272.35 800.826,1271.77 801.034,1271.19 801.243,1270.6 801.452,1270.02 801.661,1269.43 801.869,1268.84 802.078,1268.25 \n",
       "  802.287,1267.66 802.495,1267.07 802.704,1266.48 802.913,1265.88 803.122,1265.28 803.33,1264.69 803.539,1264.09 803.748,1263.48 803.956,1262.88 804.165,1262.28 \n",
       "  804.374,1261.67 804.582,1261.06 804.791,1260.45 805,1259.84 805.209,1259.23 805.417,1258.62 805.626,1258 805.835,1257.38 806.043,1256.76 806.252,1256.14 \n",
       "  806.461,1255.52 806.67,1254.9 806.878,1254.27 807.087,1253.65 807.296,1253.02 807.504,1252.39 807.713,1251.76 807.922,1251.12 808.13,1250.49 808.339,1249.85 \n",
       "  808.548,1249.22 808.757,1248.58 808.965,1247.94 809.174,1247.29 809.383,1246.65 809.591,1246 809.8,1245.36 810.009,1244.71 810.218,1244.06 810.426,1243.41 \n",
       "  810.635,1242.75 810.844,1242.1 811.052,1241.44 811.261,1240.78 811.47,1240.12 811.678,1239.46 811.887,1238.8 812.096,1238.13 812.305,1237.46 812.513,1236.8 \n",
       "  812.722,1236.13 812.931,1235.45 813.139,1234.78 813.348,1234.11 813.557,1233.43 813.766,1232.75 813.974,1232.07 814.183,1231.39 814.392,1230.71 814.6,1230.02 \n",
       "  814.809,1229.34 815.018,1228.65 815.226,1227.96 815.435,1227.27 815.644,1226.57 815.853,1225.88 816.061,1225.18 816.27,1224.49 816.479,1223.79 816.687,1223.08 \n",
       "  816.896,1222.38 817.105,1221.68 817.314,1220.97 817.522,1220.26 817.731,1219.55 817.94,1218.84 818.148,1218.13 818.357,1217.41 818.566,1216.7 818.774,1215.98 \n",
       "  818.983,1215.26 819.192,1214.54 819.401,1213.82 819.609,1213.09 819.818,1212.37 820.027,1211.64 820.235,1210.91 820.444,1210.18 820.653,1209.44 820.862,1208.71 \n",
       "  821.07,1207.97 821.279,1207.23 821.488,1206.49 821.696,1205.75 821.905,1205.01 822.114,1204.26 822.322,1203.52 822.531,1202.77 822.74,1202.02 822.949,1201.27 \n",
       "  823.157,1200.51 823.366,1199.76 823.575,1199 823.783,1198.24 823.992,1197.48 824.201,1196.72 824.41,1195.96 824.618,1195.19 824.827,1194.42 825.036,1193.65 \n",
       "  825.244,1192.88 825.453,1192.11 825.662,1191.34 825.87,1190.56 826.079,1189.78 826.288,1189 826.497,1188.22 826.705,1187.44 826.914,1186.65 827.123,1185.87 \n",
       "  827.331,1185.08 827.54,1184.29 827.749,1183.5 827.958,1182.71 828.166,1181.91 828.375,1181.11 828.584,1180.32 828.792,1179.51 829.001,1178.71 829.21,1177.91 \n",
       "  829.418,1177.1 829.627,1176.3 829.836,1175.49 830.045,1174.68 830.253,1173.86 830.462,1173.05 830.671,1172.23 830.879,1171.42 831.088,1170.6 831.297,1169.78 \n",
       "  831.506,1168.95 831.714,1168.13 831.923,1167.3 832.132,1166.47 832.34,1165.64 832.549,1164.81 832.758,1163.98 832.966,1163.14 833.175,1162.3 833.384,1161.47 \n",
       "  833.593,1160.62 833.801,1159.78 834.01,1158.94 834.219,1158.09 834.427,1157.24 834.636,1156.39 834.845,1155.54 835.054,1154.69 835.262,1153.83 835.471,1152.98 \n",
       "  835.68,1152.12 835.888,1151.26 836.097,1150.4 836.306,1149.53 836.514,1148.67 836.723,1147.8 836.932,1146.93 837.141,1146.06 837.349,1145.19 837.558,1144.31 \n",
       "  837.767,1143.44 837.975,1142.56 838.184,1141.68 838.393,1140.8 838.602,1139.91 838.81,1139.03 839.019,1138.14 839.228,1137.25 839.436,1136.36 839.645,1135.47 \n",
       "  839.854,1134.58 840.062,1133.68 840.271,1132.78 840.48,1131.88 840.689,1130.98 840.897,1130.08 841.106,1129.17 841.315,1128.27 841.523,1127.36 841.732,1126.45 \n",
       "  841.941,1125.54 842.15,1124.62 842.358,1123.71 842.567,1122.79 842.776,1121.87 842.984,1120.95 843.193,1120.03 843.402,1119.1 843.61,1118.18 843.819,1117.25 \n",
       "  844.028,1116.32 844.237,1115.39 844.445,1114.45 844.654,1113.52 844.863,1112.58 845.071,1111.64 845.28,1110.7 845.489,1109.76 845.698,1108.81 845.906,1107.87 \n",
       "  846.115,1106.92 846.324,1105.97 846.532,1105.02 846.741,1104.06 846.95,1103.11 847.158,1102.15 847.367,1101.19 847.576,1100.23 847.785,1099.27 847.993,1098.31 \n",
       "  848.202,1097.34 848.411,1096.37 848.619,1095.4 848.828,1094.43 849.037,1093.46 849.246,1092.48 849.454,1091.51 849.663,1090.53 849.872,1089.55 850.08,1088.57 \n",
       "  850.289,1087.58 850.498,1086.6 850.706,1085.61 850.915,1084.62 851.124,1083.63 851.333,1082.64 851.541,1081.64 851.75,1080.65 851.959,1079.65 852.167,1078.65 \n",
       "  852.376,1077.65 852.585,1076.64 852.794,1075.64 853.002,1074.63 853.211,1073.62 853.42,1072.61 853.628,1071.6 853.837,1070.58 854.046,1069.57 854.254,1068.55 \n",
       "  854.463,1067.53 854.672,1066.51 854.881,1065.48 855.089,1064.46 855.298,1063.43 855.507,1062.4 855.715,1061.37 855.924,1060.34 856.133,1059.31 856.342,1058.27 \n",
       "  856.55,1057.23 856.759,1056.19 856.968,1055.15 857.176,1054.11 857.385,1053.07 857.594,1052.02 857.802,1050.97 858.011,1049.92 858.22,1048.87 858.429,1047.82 \n",
       "  858.637,1046.76 858.846,1045.7 859.055,1044.65 859.263,1043.58 859.472,1042.52 859.681,1041.46 859.89,1040.39 860.098,1039.32 860.307,1038.26 860.516,1037.18 \n",
       "  860.724,1036.11 860.933,1035.04 861.142,1033.96 861.35,1032.88 861.559,1031.8 861.768,1030.72 861.977,1029.64 862.185,1028.55 862.394,1027.47 862.603,1026.38 \n",
       "  862.811,1025.29 863.02,1024.19 863.229,1023.1 863.438,1022 863.646,1020.91 863.855,1019.81 864.064,1018.71 864.272,1017.6 864.481,1016.5 864.69,1015.39 \n",
       "  864.898,1014.29 865.107,1013.18 865.316,1012.06 865.525,1010.95 865.733,1009.84 865.942,1008.72 866.151,1007.6 866.359,1006.48 866.568,1005.36 866.777,1004.24 \n",
       "  866.986,1003.11 867.194,1001.99 867.403,1000.86 867.612,999.727 867.82,998.595 868.029,997.462 868.238,996.326 868.446,995.189 868.655,994.051 868.864,992.91 \n",
       "  869.073,991.768 869.281,990.624 869.49,989.479 869.699,988.332 869.907,987.183 870.116,986.032 870.325,984.88 870.534,983.726 870.742,982.571 870.951,981.413 \n",
       "  871.16,980.254 871.368,979.094 871.577,977.931 871.786,976.767 871.994,975.602 872.203,974.434 872.412,973.265 872.621,972.095 872.829,970.923 873.038,969.749 \n",
       "  873.247,968.573 873.455,967.396 873.664,966.217 873.873,965.036 874.081,963.854 874.29,962.67 874.499,961.485 874.708,960.298 874.916,959.109 875.125,957.919 \n",
       "  875.334,956.727 875.542,955.533 875.751,954.338 875.96,953.141 876.169,951.942 876.377,950.742 876.586,949.541 876.795,948.337 877.003,947.132 877.212,945.926 \n",
       "  877.421,944.718 877.629,943.508 877.838,942.297 878.047,941.084 878.256,939.869 878.464,938.653 878.673,937.435 878.882,936.216 879.09,934.995 879.299,933.773 \n",
       "  879.508,932.549 879.717,931.323 879.925,930.096 880.134,928.868 880.343,927.637 880.551,926.406 880.76,925.172 880.969,923.937 881.177,922.701 881.386,921.463 \n",
       "  881.595,920.223 881.804,918.982 882.012,917.74 882.221,916.496 882.43,915.25 882.638,914.003 882.847,912.754 883.056,911.504 883.265,910.252 883.473,908.999 \n",
       "  883.682,907.744 883.891,906.488 884.099,905.23 884.308,903.971 884.517,902.71 884.725,901.448 884.934,900.185 885.143,898.919 885.352,897.653 885.56,896.385 \n",
       "  885.769,895.115 885.978,893.844 886.186,892.571 886.395,891.298 886.604,890.022 886.813,888.745 887.021,887.467 887.23,886.187 887.439,884.906 887.647,883.623 \n",
       "  887.856,882.339 888.065,881.054 888.273,879.767 888.482,878.479 888.691,877.189 888.9,875.898 889.108,874.605 889.317,873.311 889.526,872.016 889.734,870.719 \n",
       "  889.943,869.421 890.152,868.122 890.361,866.821 890.569,865.518 890.778,864.215 890.987,862.91 891.195,861.603 891.404,860.296 891.613,858.987 891.821,857.676 \n",
       "  892.03,856.364 892.239,855.051 892.448,853.737 892.656,852.421 892.865,851.104 893.074,849.786 893.282,848.466 893.491,847.145 893.7,845.822 893.909,844.499 \n",
       "  894.117,843.174 894.326,841.847 894.535,840.52 894.743,839.191 894.952,837.861 895.161,836.53 895.369,835.197 895.578,833.863 895.787,832.528 895.996,831.191 \n",
       "  896.204,829.854 896.413,828.515 896.622,827.175 896.83,825.833 897.039,824.491 897.248,823.147 897.457,821.802 897.665,820.456 897.874,819.108 898.083,817.759 \n",
       "  898.291,816.409 898.5,815.058 898.709,813.706 898.917,812.353 899.126,810.998 899.335,809.642 899.544,808.285 899.752,806.927 899.961,805.568 900.17,804.208 \n",
       "  900.378,802.846 900.587,801.483 900.796,800.119 901.005,798.754 901.213,797.388 901.422,796.021 901.631,794.653 901.839,793.283 902.048,791.913 902.257,790.541 \n",
       "  902.465,789.169 902.674,787.795 902.883,786.42 903.092,785.044 903.3,783.667 903.509,782.289 903.718,780.91 903.926,779.53 904.135,778.149 904.344,776.766 \n",
       "  904.553,775.383 904.761,773.999 904.97,772.613 905.179,771.227 905.387,769.84 905.596,768.452 905.805,767.062 906.013,765.672 906.222,764.281 906.431,762.889 \n",
       "  906.64,761.495 906.848,760.101 907.057,758.706 907.266,757.31 907.474,755.913 907.683,754.515 907.892,753.116 908.101,751.716 908.309,750.316 908.518,748.914 \n",
       "  908.727,747.512 908.935,746.108 909.144,744.704 909.353,743.299 909.561,741.893 909.77,740.486 909.979,739.078 910.188,737.669 910.396,736.26 910.605,734.849 \n",
       "  910.814,733.438 911.022,732.026 911.231,730.613 911.44,729.2 911.649,727.785 911.857,726.37 912.066,724.954 912.275,723.537 912.483,722.12 912.692,720.701 \n",
       "  912.901,719.282 913.109,717.862 913.318,716.441 913.527,715.02 913.736,713.598 913.944,712.175 914.153,710.751 914.362,709.327 914.57,707.902 914.779,706.476 \n",
       "  914.988,705.05 915.197,703.623 915.405,702.195 915.614,700.767 915.823,699.337 916.031,697.908 916.24,696.477 916.449,695.046 916.657,693.614 916.866,692.182 \n",
       "  917.075,690.749 917.284,689.315 917.492,687.881 917.701,686.446 917.91,685.011 918.118,683.575 918.327,682.139 918.536,680.702 918.745,679.264 918.953,677.826 \n",
       "  919.162,676.387 919.371,674.948 919.579,673.508 919.788,672.067 919.997,670.627 920.205,669.185 920.414,667.743 920.623,666.301 920.832,664.858 921.04,663.415 \n",
       "  921.249,661.971 921.458,660.527 921.666,659.082 921.875,657.637 922.084,656.192 922.293,654.746 922.501,653.299 922.71,651.853 922.919,650.405 923.127,648.958 \n",
       "  923.336,647.51 923.545,646.062 923.753,644.613 923.962,643.164 924.171,641.715 924.38,640.265 924.588,638.815 924.797,637.364 925.006,635.914 925.214,634.463 \n",
       "  925.423,633.011 925.632,631.56 925.841,630.108 926.049,628.656 926.258,627.203 926.467,625.751 926.675,624.298 926.884,622.845 927.093,621.391 927.301,619.938 \n",
       "  927.51,618.484 927.719,617.03 927.928,615.576 928.136,614.121 928.345,612.667 928.554,611.212 928.762,609.757 928.971,608.302 929.18,606.847 929.389,605.392 \n",
       "  929.597,603.936 929.806,602.481 930.015,601.025 930.223,599.569 930.432,598.113 930.641,596.657 930.849,595.202 931.058,593.745 931.267,592.289 931.476,590.833 \n",
       "  931.684,589.377 931.893,587.921 932.102,586.465 932.31,585.009 932.519,583.552 932.728,582.096 932.937,580.64 933.145,579.184 933.354,577.728 933.563,576.272 \n",
       "  933.771,574.816 933.98,573.36 934.189,571.904 934.397,570.449 934.606,568.993 934.815,567.538 935.024,566.082 935.232,564.627 935.441,563.172 935.65,561.717 \n",
       "  935.858,560.262 936.067,558.808 936.276,557.353 936.485,555.899 936.693,554.445 936.902,552.991 937.111,551.537 937.319,550.084 937.528,548.631 937.737,547.178 \n",
       "  937.945,545.725 938.154,544.273 938.363,542.821 938.572,541.369 938.78,539.917 938.989,538.466 939.198,537.015 939.406,535.565 939.615,534.114 939.824,532.665 \n",
       "  940.033,531.215 940.241,529.766 940.45,528.317 940.659,526.869 940.867,525.421 941.076,523.973 941.285,522.526 941.493,521.079 941.702,519.633 941.911,518.187 \n",
       "  942.12,516.742 942.328,515.297 942.537,513.852 942.746,512.408 942.954,510.965 943.163,509.522 943.372,508.08 943.581,506.638 943.789,505.196 943.998,503.756 \n",
       "  944.207,502.315 944.415,500.876 944.624,499.437 944.833,497.998 945.041,496.56 945.25,495.123 945.459,493.686 945.668,492.25 945.876,490.815 946.085,489.38 \n",
       "  946.294,487.946 946.502,486.513 946.711,485.08 946.92,483.649 947.129,482.217 947.337,480.787 947.546,479.357 947.755,477.928 947.963,476.5 948.172,475.072 \n",
       "  948.381,473.646 948.589,472.22 948.798,470.795 949.007,469.37 949.216,467.947 949.424,466.524 949.633,465.102 949.842,463.681 950.05,462.261 950.259,460.842 \n",
       "  950.468,459.424 950.677,458.006 950.885,456.59 951.094,455.174 951.303,453.76 951.511,452.346 951.72,450.933 951.929,449.521 952.137,448.111 952.346,446.701 \n",
       "  952.555,445.292 952.764,443.884 952.972,442.477 953.181,441.072 953.39,439.667 953.598,438.263 953.807,436.861 954.016,435.459 954.225,434.059 954.433,432.659 \n",
       "  954.642,431.261 954.851,429.864 955.059,428.468 955.268,427.073 955.477,425.68 955.685,424.287 955.894,422.896 956.103,421.506 956.312,420.117 956.52,418.729 \n",
       "  956.729,417.343 956.938,415.957 957.146,414.573 957.355,413.191 957.564,411.809 957.773,410.429 957.981,409.05 958.19,407.673 958.399,406.297 958.607,404.922 \n",
       "  958.816,403.548 959.025,402.176 959.233,400.805 959.442,399.436 959.651,398.068 959.86,396.701 960.068,395.336 960.277,393.972 960.486,392.609 960.694,391.248 \n",
       "  960.903,389.889 961.112,388.531 961.321,387.174 961.529,385.819 961.738,384.466 961.947,383.114 962.155,381.763 962.364,380.415 962.573,379.067 962.781,377.721 \n",
       "  962.99,376.377 963.199,375.034 963.408,373.693 963.616,372.354 963.825,371.016 964.034,369.68 964.242,368.345 964.451,367.013 964.66,365.681 964.869,364.352 \n",
       "  965.077,363.024 965.286,361.698 965.495,360.374 965.703,359.051 965.912,357.73 966.121,356.411 966.329,355.094 966.538,353.778 966.747,352.464 966.956,351.152 \n",
       "  967.164,349.842 967.373,348.534 967.582,347.227 967.79,345.923 967.999,344.62 968.208,343.319 968.417,342.02 968.625,340.723 968.834,339.428 969.043,338.134 \n",
       "  969.251,336.843 969.46,335.554 969.669,334.266 969.877,332.981 970.086,331.697 970.295,330.416 970.504,329.136 970.712,327.859 970.921,326.584 971.13,325.31 \n",
       "  971.338,324.039 971.547,322.77 971.756,321.503 971.965,320.238 972.173,318.975 972.382,317.714 972.591,316.455 972.799,315.199 973.008,313.944 973.217,312.692 \n",
       "  973.425,311.442 973.634,310.194 973.843,308.949 974.052,307.705 974.26,306.464 974.469,305.225 974.678,303.988 974.886,302.754 975.095,301.522 975.304,300.292 \n",
       "  975.513,299.065 975.721,297.839 975.93,296.616 976.139,295.396 976.347,294.178 976.556,292.962 976.765,291.748 976.973,290.537 977.182,289.329 977.391,288.123 \n",
       "  977.6,286.919 977.808,285.717 978.017,284.518 978.226,283.322 978.434,282.128 978.643,280.936 978.852,279.747 979.061,278.561 979.269,277.377 979.478,276.196 \n",
       "  979.687,275.017 979.895,273.84 980.104,272.667 980.313,271.496 980.521,270.327 980.73,269.161 980.939,267.998 981.148,266.837 981.356,265.679 981.565,264.524 \n",
       "  981.774,263.371 981.982,262.221 982.191,261.074 982.4,259.929 982.609,258.787 982.817,257.648 983.026,256.512 983.235,255.378 983.443,254.247 983.652,253.119 \n",
       "  983.861,251.994 984.069,250.871 984.278,249.751 984.487,248.635 984.696,247.52 984.904,246.409 985.113,245.301 985.322,244.196 985.53,243.093 985.739,241.994 \n",
       "  985.948,240.897 986.157,239.803 986.365,238.712 986.574,237.624 986.783,236.539 986.991,235.457 987.2,234.379 987.409,233.303 987.617,232.23 987.826,231.16 \n",
       "  988.035,230.093 988.244,229.029 988.452,227.968 988.661,226.911 988.87,225.856 989.078,224.805 989.287,223.756 989.496,222.711 989.705,221.669 989.913,220.63 \n",
       "  990.122,219.594 990.331,218.561 990.539,217.532 990.748,216.506 990.957,215.483 991.165,214.463 991.374,213.446 991.583,212.433 991.792,211.423 992,210.416 \n",
       "  992.209,209.412 992.418,208.412 992.626,207.415 992.835,206.421 993.044,205.431 993.253,204.444 993.461,203.46 993.67,202.48 993.879,201.503 994.087,200.53 \n",
       "  994.296,199.559 994.505,198.593 994.713,197.629 994.922,196.67 995.131,195.713 995.34,194.76 995.548,193.811 995.757,192.865 995.966,191.922 996.174,190.983 \n",
       "  996.383,190.048 996.592,189.116 996.801,188.187 997.009,187.262 997.218,186.341 997.427,185.423 997.635,184.509 997.844,183.598 998.053,182.691 998.261,181.788 \n",
       "  998.47,180.888 998.679,179.992 998.888,179.1 999.096,178.211 999.305,177.326 999.514,176.445 999.722,175.567 999.931,174.693 1000.14,173.823 1000.35,172.956 \n",
       "  1000.56,172.094 1000.77,171.235 1000.97,170.379 1001.18,169.528 1001.39,168.68 1001.6,167.836 1001.81,166.996 1002.02,166.16 1002.23,165.328 1002.44,164.499 \n",
       "  1002.64,163.674 1002.85,162.854 1003.06,162.037 1003.27,161.224 1003.48,160.415 1003.69,159.609 1003.9,158.808 1004.11,158.011 1004.31,157.217 1004.52,156.428 \n",
       "  1004.73,155.642 1004.94,154.861 1005.15,154.083 1005.36,153.31 1005.57,152.54 1005.77,151.775 1005.98,151.014 1006.19,150.256 1006.4,149.503 1006.61,148.754 \n",
       "  1006.82,148.008 1007.03,147.267 1007.24,146.53 1007.44,145.798 1007.65,145.069 1007.86,144.344 1008.07,143.624 1008.28,142.907 1008.49,142.195 1008.7,141.487 \n",
       "  1008.91,140.784 1009.11,140.084 1009.32,139.389 1009.53,138.698 1009.74,138.011 1009.95,137.328 1010.16,136.649 1010.37,135.975 1010.58,135.305 1010.78,134.64 \n",
       "  1010.99,133.978 1011.2,133.321 1011.41,132.669 1011.62,132.02 1011.83,131.376 1012.04,130.737 1012.24,130.101 1012.45,129.47 1012.66,128.844 1012.87,128.221 \n",
       "  1013.08,127.603 1013.29,126.99 1013.5,126.381 1013.71,125.776 1013.91,125.176 1014.12,124.58 1014.33,123.989 1014.54,123.402 1014.75,122.82 1014.96,122.242 \n",
       "  1015.17,121.669 1015.38,121.1 1015.58,120.535 1015.79,119.976 1016,119.42 1016.21,118.869 1016.42,118.323 1016.63,117.782 1016.84,117.244 1017.04,116.712 \n",
       "  1017.25,116.184 1017.46,115.661 1017.67,115.142 1017.88,114.628 1018.09,114.118 1018.3,113.614 1018.51,113.113 1018.71,112.618 1018.92,112.127 1019.13,111.641 \n",
       "  1019.34,111.159 1019.55,110.682 1019.76,110.21 1019.97,109.743 1020.18,109.28 1020.38,108.822 1020.59,108.369 1020.8,107.92 1021.01,107.476 1021.22,107.037 \n",
       "  1021.43,106.603 1021.64,106.174 1021.85,105.749 1022.05,105.329 1022.26,104.914 1022.47,104.504 1022.68,104.099 1022.89,103.698 1023.1,103.302 1023.31,102.911 \n",
       "  1023.51,102.525 1023.72,102.144 1023.93,101.768 1024.14,101.396 1024.35,101.03 1024.56,100.668 1024.77,100.311 1024.98,99.9596 1025.18,99.6127 1025.39,99.2708 \n",
       "  1025.6,98.9338 1025.81,98.6017 1026.02,98.2746 1026.23,97.9524 1026.44,97.6352 1026.65,97.323 1026.85,97.0158 1027.06,96.7136 1027.27,96.4164 1027.48,96.1242 \n",
       "  1027.69,95.837 1027.9,95.5548 1028.11,95.2777 1028.32,95.0056 1028.52,94.7385 1028.73,94.4766 1028.94,94.2196 1029.15,93.9678 1029.36,93.721 1029.57,93.4793 \n",
       "  1029.78,93.2427 1029.98,93.0112 1030.19,92.7848 1030.4,92.5635 1030.61,92.3474 1030.82,92.1364 1031.03,91.9305 1031.24,91.7297 1031.45,91.5341 1031.65,91.3437 \n",
       "  1031.86,91.1584 1032.07,90.9783 1032.28,90.8033 1032.49,90.6336 1032.7,90.469 1032.91,90.3097 1033.12,90.1555 1033.32,90.0066 1033.53,89.8628 1033.74,89.7243 \n",
       "  1033.95,89.591 1034.16,89.463 1034.37,89.3402 1034.58,89.2226 1034.78,89.1103 1034.99,89.0033 1035.2,88.9015 1035.41,88.805 1035.62,88.7138 1035.83,88.6278 \n",
       "  1036.04,88.5472 1036.25,88.4718 1036.45,88.4018 1036.66,88.337 1036.87,88.2776 1037.08,88.2235 1037.29,88.1747 1037.5,88.1313 1037.71,88.0932 1037.92,88.0604 \n",
       "  1038.12,88.033 1038.33,88.0109 1038.54,87.9942 1038.75,87.9829 1038.96,87.9769 1039.17,87.9763 1039.38,87.9811 1039.59,87.9912 1039.79,88.0068 1040,88.0277 \n",
       "  1040.21,88.0541 1040.42,88.0858 1040.63,88.123 1040.84,88.1656 1041.05,88.2136 1041.25,88.267 1041.46,88.3258 1041.67,88.3901 1041.88,88.4598 1042.09,88.535 \n",
       "  1042.3,88.6156 1042.51,88.7017 1042.72,88.7932 1042.92,88.8902 1043.13,88.9926 1043.34,89.1005 1043.55,89.2139 1043.76,89.3328 1043.97,89.4571 1044.18,89.5869 \n",
       "  1044.39,89.7223 1044.59,89.8631 1044.8,90.0094 1045.01,90.1612 1045.22,90.3185 1045.43,90.4813 1045.64,90.6497 1045.85,90.8235 1046.06,91.0029 1046.26,91.1878 \n",
       "  1046.47,91.3782 1046.68,91.5742 1046.89,91.7757 1047.1,91.9827 1047.31,92.1952 1047.52,92.4133 1047.72,92.637 1047.93,92.8662 1048.14,93.1009 1048.35,93.3412 \n",
       "  1048.56,93.5871 1048.77,93.8385 1048.98,94.0955 1049.19,94.3581 1049.39,94.6262 1049.6,94.8999 1049.81,95.1791 1050.02,95.464 1050.23,95.7544 1050.44,96.0504 \n",
       "  1050.65,96.352 1050.86,96.6592 1051.06,96.9719 1051.27,97.2903 1051.48,97.6142 1051.69,97.9438 1051.9,98.2789 1052.11,98.6196 1052.32,98.966 1052.52,99.3179 \n",
       "  1052.73,99.6754 1052.94,100.039 1053.15,100.407 1053.36,100.782 1053.57,101.162 1053.78,101.547 1053.99,101.938 1054.19,102.335 1054.4,102.738 1054.61,103.146 \n",
       "  1054.82,103.559 1055.03,103.979 1055.24,104.404 1055.45,104.834 1055.66,105.27 1055.86,105.712 1056.07,106.16 1056.28,106.613 1056.49,107.071 1056.7,107.536 \n",
       "  1056.91,108.005 1057.12,108.481 1057.33,108.962 1057.53,109.449 1057.74,109.941 1057.95,110.439 1058.16,110.943 1058.37,111.452 1058.58,111.967 1058.79,112.488 \n",
       "  1058.99,113.014 1059.2,113.546 1059.41,114.083 1059.62,114.627 1059.83,115.175 1060.04,115.73 1060.25,116.29 1060.46,116.855 1060.66,117.427 1060.87,118.003 \n",
       "  1061.08,118.586 1061.29,119.174 1061.5,119.768 1061.71,120.367 1061.92,120.972 1062.13,121.583 1062.33,122.199 1062.54,122.821 1062.75,123.448 1062.96,124.082 \n",
       "  1063.17,124.72 1063.38,125.365 1063.59,126.015 1063.8,126.67 1064,127.331 1064.21,127.998 1064.42,128.671 1064.63,129.349 1064.84,130.032 1065.05,130.721 \n",
       "  1065.26,131.416 1065.46,132.117 1065.67,132.823 1065.88,133.534 1066.09,134.252 1066.3,134.974 1066.51,135.703 1066.72,136.437 1066.93,137.176 1067.13,137.922 \n",
       "  1067.34,138.672 1067.55,139.429 1067.76,140.191 1067.97,140.958 1068.18,141.731 1068.39,142.51 1068.6,143.294 1068.8,144.084 1069.01,144.879 1069.22,145.68 \n",
       "  1069.43,146.486 1069.64,147.298 1069.85,148.116 1070.06,148.939 1070.26,149.767 1070.47,150.601 1070.68,151.441 1070.89,152.286 1071.1,153.137 1071.31,153.993 \n",
       "  1071.52,154.855 1071.73,155.722 1071.93,156.595 1072.14,157.473 1072.35,158.357 1072.56,159.246 1072.77,160.141 1072.98,161.041 1073.19,161.947 1073.4,162.858 \n",
       "  1073.6,163.775 1073.81,164.697 1074.02,165.625 1074.23,166.558 1074.44,167.496 1074.65,168.44 1074.86,169.39 1075.07,170.345 1075.27,171.305 1075.48,172.271 \n",
       "  1075.69,173.242 1075.9,174.219 1076.11,175.201 1076.32,176.188 1076.53,177.181 1076.73,178.18 1076.94,179.183 1077.15,180.192 1077.36,181.207 1077.57,182.227 \n",
       "  1077.78,183.252 1077.99,184.282 1078.2,185.318 1078.4,186.36 1078.61,187.406 1078.82,188.458 1079.03,189.516 1079.24,190.578 1079.45,191.646 1079.66,192.72 \n",
       "  1079.87,193.798 1080.07,194.882 1080.28,195.972 1080.49,197.066 1080.7,198.166 1080.91,199.271 1081.12,200.382 1081.33,201.497 1081.54,202.618 1081.74,203.744 \n",
       "  1081.95,204.876 1082.16,206.012 1082.37,207.154 1082.58,208.302 1082.79,209.454 1083,210.611 1083.2,211.774 1083.41,212.942 1083.62,214.115 1083.83,215.294 \n",
       "  1084.04,216.477 1084.25,217.666 1084.46,218.86 1084.67,220.059 1084.87,221.263 1085.08,222.472 1085.29,223.686 1085.5,224.906 1085.71,226.131 1085.92,227.36 \n",
       "  1086.13,228.595 1086.34,229.835 1086.54,231.08 1086.75,232.33 1086.96,233.585 1087.17,234.845 1087.38,236.11 1087.59,237.381 1087.8,238.656 1088,239.936 \n",
       "  1088.21,241.221 1088.42,242.512 1088.63,243.807 1088.84,245.107 1089.05,246.412 1089.26,247.723 1089.47,249.038 1089.67,250.358 1089.88,251.683 1090.09,253.013 \n",
       "  1090.3,254.348 1090.51,255.687 1090.72,257.032 1090.93,258.381 1091.14,259.736 1091.34,261.095 1091.55,262.459 1091.76,263.828 1091.97,265.202 1092.18,266.581 \n",
       "  1092.39,267.964 1092.6,269.352 1092.81,270.745 1093.01,272.143 1093.22,273.546 1093.43,274.953 1093.64,276.365 1093.85,277.782 1094.06,279.204 1094.27,280.63 \n",
       "  1094.47,282.061 1094.68,283.496 1094.89,284.937 1095.1,286.382 1095.31,287.832 1095.52,289.286 1095.73,290.745 1095.94,292.209 1096.14,293.677 1096.35,295.15 \n",
       "  1096.56,296.627 1096.77,298.109 1096.98,299.596 1097.19,301.087 1097.4,302.583 1097.61,304.083 1097.81,305.588 1098.02,307.097 1098.23,308.611 1098.44,310.129 \n",
       "  1098.65,311.652 1098.86,313.179 1099.07,314.711 1099.28,316.247 1099.48,317.787 1099.69,319.332 1099.9,320.882 1100.11,322.435 1100.32,323.993 1100.53,325.556 \n",
       "  1100.74,327.123 1100.94,328.694 1101.15,330.269 1101.36,331.849 1101.57,333.433 1101.78,335.022 1101.99,336.614 1102.2,338.211 1102.41,339.812 1102.61,341.418 \n",
       "  1102.82,343.027 1103.03,344.641 1103.24,346.259 1103.45,347.881 1103.66,349.508 1103.87,351.138 1104.08,352.773 1104.28,354.412 1104.49,356.055 1104.7,357.702 \n",
       "  1104.91,359.353 1105.12,361.008 1105.33,362.667 1105.54,364.33 1105.74,365.997 1105.95,367.669 1106.16,369.344 1106.37,371.023 1106.58,372.706 1106.79,374.394 \n",
       "  1107,376.085 1107.21,377.78 1107.41,379.479 1107.62,381.182 1107.83,382.888 1108.04,384.599 1108.25,386.313 1108.46,388.032 1108.67,389.754 1108.88,391.48 \n",
       "  1109.08,393.209 1109.29,394.943 1109.5,396.68 1109.71,398.421 1109.92,400.166 1110.13,401.914 1110.34,403.666 1110.55,405.422 1110.75,407.181 1110.96,408.944 \n",
       "  1111.17,410.711 1111.38,412.482 1111.59,414.256 1111.8,416.033 1112.01,417.814 1112.21,419.599 1112.42,421.387 1112.63,423.179 1112.84,424.974 1113.05,426.773 \n",
       "  1113.26,428.575 1113.47,430.381 1113.68,432.19 1113.88,434.002 1114.09,435.818 1114.3,437.638 1114.51,439.46 1114.72,441.287 1114.93,443.116 1115.14,444.949 \n",
       "  1115.35,446.785 1115.55,448.624 1115.76,450.467 1115.97,452.313 1116.18,454.162 1116.39,456.014 1116.6,457.87 1116.81,459.729 1117.02,461.591 1117.22,463.456 \n",
       "  1117.43,465.324 1117.64,467.195 1117.85,469.07 1118.06,470.947 1118.27,472.828 1118.48,474.711 1118.68,476.598 1118.89,478.488 1119.1,480.381 1119.31,482.276 \n",
       "  1119.52,484.175 1119.73,486.077 1119.94,487.981 1120.15,489.889 1120.35,491.799 1120.56,493.712 1120.77,495.628 1120.98,497.547 1121.19,499.469 1121.4,501.393 \n",
       "  1121.61,503.321 1121.82,505.251 1122.02,507.183 1122.23,509.119 1122.44,511.057 1122.65,512.998 1122.86,514.942 1123.07,516.888 1123.28,518.837 1123.48,520.788 \n",
       "  1123.69,522.743 1123.9,524.699 1124.11,526.659 1124.32,528.62 1124.53,530.585 1124.74,532.551 1124.95,534.521 1125.15,536.492 1125.36,538.467 1125.57,540.443 \n",
       "  1125.78,542.422 1125.99,544.404 1126.2,546.388 1126.41,548.374 1126.62,550.362 1126.82,552.353 1127.03,554.346 1127.24,556.341 1127.45,558.339 1127.66,560.339 \n",
       "  1127.87,562.341 1128.08,564.345 1128.29,566.352 1128.49,568.36 1128.7,570.371 1128.91,572.384 1129.12,574.398 1129.33,576.415 1129.54,578.435 1129.75,580.456 \n",
       "  1129.95,582.479 1130.16,584.504 1130.37,586.531 1130.58,588.56 1130.79,590.591 1131,592.624 1131.21,594.658 1131.42,596.695 1131.62,598.733 1131.83,600.774 \n",
       "  1132.04,602.816 1132.25,604.86 1132.46,606.905 1132.67,608.953 1132.88,611.002 1133.09,613.053 1133.29,615.106 1133.5,617.16 1133.71,619.216 1133.92,621.273 \n",
       "  1134.13,623.332 1134.34,625.393 1134.55,627.455 1134.76,629.519 1134.96,631.584 1135.17,633.651 1135.38,635.72 1135.59,637.789 1135.8,639.861 1136.01,641.933 \n",
       "  1136.22,644.007 1136.42,646.083 1136.63,648.159 1136.84,650.237 1137.05,652.317 1137.26,654.398 1137.47,656.48 1137.68,658.563 1137.89,660.647 1138.09,662.733 \n",
       "  1138.3,664.82 1138.51,666.908 1138.72,668.997 1138.93,671.087 1139.14,673.179 1139.35,675.271 1139.56,677.365 1139.76,679.459 1139.97,681.555 1140.18,683.651 \n",
       "  1140.39,685.749 1140.6,687.847 1140.81,689.947 1141.02,692.047 1141.22,694.148 1141.43,696.25 1141.64,698.353 1141.85,700.457 1142.06,702.561 1142.27,704.666 \n",
       "  1142.48,706.772 1142.69,708.879 1142.89,710.987 1143.1,713.095 1143.31,715.204 1143.52,717.313 1143.73,719.423 1143.94,721.534 1144.15,723.645 1144.36,725.757 \n",
       "  1144.56,727.869 1144.77,729.982 1144.98,732.095 1145.19,734.209 1145.4,736.323 1145.61,738.438 1145.82,740.553 1146.03,742.668 1146.23,744.784 1146.44,746.9 \n",
       "  1146.65,749.017 1146.86,751.133 1147.07,753.25 1147.28,755.368 1147.49,757.485 1147.69,759.603 1147.9,761.721 1148.11,763.838 1148.32,765.957 1148.53,768.075 \n",
       "  1148.74,770.193 1148.95,772.311 1149.16,774.43 1149.36,776.548 1149.57,778.667 1149.78,780.785 1149.99,782.903 1150.2,785.022 1150.41,787.14 1150.62,789.258 \n",
       "  1150.83,791.376 1151.03,793.493 1151.24,795.611 1151.45,797.728 1151.66,799.846 1151.87,801.962 1152.08,804.079 1152.29,806.195 1152.5,808.311 1152.7,810.427 \n",
       "  1152.91,812.542 1153.12,814.657 1153.33,816.771 1153.54,818.885 1153.75,820.999 1153.96,823.112 1154.16,825.225 1154.37,827.337 1154.58,829.448 1154.79,831.559 \n",
       "  1155,833.669 1155.21,835.779 1155.42,837.888 1155.63,839.997 1155.83,842.104 1156.04,844.211 1156.25,846.318 1156.46,848.423 1156.67,850.528 1156.88,852.632 \n",
       "  1157.09,854.735 1157.3,856.837 1157.5,858.939 1157.71,861.039 1157.92,863.139 1158.13,865.238 1158.34,867.335 1158.55,869.432 1158.76,871.528 1158.96,873.622 \n",
       "  1159.17,875.716 1159.38,877.809 1159.59,879.9 1159.8,881.99 1160.01,884.08 1160.22,886.168 1160.43,888.255 1160.63,890.34 1160.84,892.425 1161.05,894.508 \n",
       "  1161.26,896.59 1161.47,898.67 1161.68,900.749 1161.89,902.827 1162.1,904.904 1162.3,906.979 1162.51,909.052 1162.72,911.125 1162.93,913.195 1163.14,915.265 \n",
       "  1163.35,917.333 1163.56,919.399 1163.77,921.464 1163.97,923.527 1164.18,925.588 1164.39,927.648 1164.6,929.706 1164.81,931.763 1165.02,933.818 1165.23,935.871 \n",
       "  1165.43,937.922 1165.64,939.972 1165.85,942.02 1166.06,944.066 1166.27,946.11 1166.48,948.153 1166.69,950.193 1166.9,952.232 1167.1,954.268 1167.31,956.303 \n",
       "  1167.52,958.336 1167.73,960.367 1167.94,962.396 1168.15,964.422 1168.36,966.447 1168.57,968.47 1168.77,970.49 1168.98,972.509 1169.19,974.525 1169.4,976.539 \n",
       "  1169.61,978.551 1169.82,980.561 1170.03,982.568 1170.24,984.573 1170.44,986.576 1170.65,988.577 1170.86,990.575 1171.07,992.571 1171.28,994.564 1171.49,996.556 \n",
       "  1171.7,998.544 1171.9,1000.53 1172.11,1002.51 1172.32,1004.5 1172.53,1006.47 1172.74,1008.45 1172.95,1010.42 1173.16,1012.4 1173.37,1014.36 1173.57,1016.33 \n",
       "  1173.78,1018.29 1173.99,1020.25 1174.2,1022.21 1174.41,1024.17 1174.62,1026.12 1174.83,1028.07 1175.04,1030.02 1175.24,1031.96 1175.45,1033.9 1175.66,1035.84 \n",
       "  1175.87,1037.78 1176.08,1039.71 1176.29,1041.64 1176.5,1043.57 1176.7,1045.49 1176.91,1047.41 1177.12,1049.33 1177.33,1051.25 1177.54,1053.16 1177.75,1055.07 \n",
       "  1177.96,1056.97 1178.17,1058.88 1178.37,1060.78 1178.58,1062.67 1178.79,1064.57 1179,1066.46 1179.21,1068.34 1179.42,1070.23 1179.63,1072.11 1179.84,1073.98 \n",
       "  1180.04,1075.86 1180.25,1077.73 1180.46,1079.6 1180.67,1081.46 1180.88,1083.32 1181.09,1085.18 1181.3,1087.03 1181.51,1088.88 1181.71,1090.73 1181.92,1092.57 \n",
       "  1182.13,1094.41 1182.34,1096.25 1182.55,1098.08 1182.76,1099.91 1182.97,1101.74 1183.17,1103.56 1183.38,1105.38 1183.59,1107.19 1183.8,1109 1184.01,1110.81 \n",
       "  1184.22,1112.61 1184.43,1114.41 1184.64,1116.21 1184.84,1118 1185.05,1119.79 1185.26,1121.57 1185.47,1123.36 1185.68,1125.13 1185.89,1126.91 1186.1,1128.67 \n",
       "  1186.31,1130.44 1186.51,1132.2 1186.72,1133.96 1186.93,1135.71 1187.14,1137.46 1187.35,1139.21 1187.56,1140.95 1187.77,1142.69 1187.98,1144.42 1188.18,1146.15 \n",
       "  1188.39,1147.87 1188.6,1149.59 1188.81,1151.31 1189.02,1153.02 1189.23,1154.73 1189.44,1156.44 1189.64,1158.14 1189.85,1159.83 1190.06,1161.52 1190.27,1163.21 \n",
       "  1190.48,1164.89 1190.69,1166.57 1190.9,1168.24 1191.11,1169.91 1191.31,1171.58 1191.52,1173.24 1191.73,1174.9 1191.94,1176.55 1192.15,1178.19 1192.36,1179.84 \n",
       "  1192.57,1181.48 1192.78,1183.11 1192.98,1184.74 1193.19,1186.36 1193.4,1187.98 1193.61,1189.6 1193.82,1191.21 1194.03,1192.82 1194.24,1194.42 1194.44,1196.01 \n",
       "  1194.65,1197.61 1194.86,1199.19 1195.07,1200.78 1195.28,1202.36 1195.49,1203.93 1195.7,1205.5 1195.91,1207.06 1196.11,1208.62 1196.32,1210.17 1196.53,1211.72 \n",
       "  1196.74,1213.27 1196.95,1214.8 1197.16,1216.34 1197.37,1217.87 1197.58,1219.39 1197.78,1220.91 1197.99,1222.43 1198.2,1223.94 1198.41,1225.44 1198.62,1226.94 \n",
       "  1198.83,1228.43 1199.04,1229.92 1199.25,1231.41 1199.45,1232.89 1199.66,1234.36 1199.87,1235.83 1200.08,1237.29 1200.29,1238.75 1200.5,1240.2 1200.71,1241.65 \n",
       "  1200.91,1243.09 1201.12,1244.53 1201.33,1245.96 1201.54,1247.39 1201.75,1248.81 1201.96,1250.23 1202.17,1251.64 1202.38,1253.04 1202.58,1254.44 1202.79,1255.84 \n",
       "  1203,1257.23 1203.21,1258.61 1203.42,1259.99 1203.63,1261.36 1203.84,1262.73 1204.05,1264.09 1204.25,1265.45 1204.46,1266.8 1204.67,1268.15 1204.88,1269.49 \n",
       "  1205.09,1270.82 1205.3,1272.15 1205.51,1273.47 1205.72,1274.79 1205.92,1276.1 1206.13,1277.41 1206.34,1278.71 1206.55,1280 1206.76,1281.29 1206.97,1282.58 \n",
       "  1207.18,1283.85 1207.38,1285.12 1207.59,1286.39 1207.8,1287.65 1208.01,1288.91 1208.22,1290.16 1208.43,1291.4 1208.64,1292.64 1208.85,1293.87 1209.05,1295.09 \n",
       "  1209.26,1296.31 1209.47,1297.53 1209.68,1298.73 1209.89,1299.94 1210.1,1301.13 1210.31,1302.32 1210.52,1303.51 1210.72,1304.69 1210.93,1305.86 1211.14,1307.02 \n",
       "  1211.35,1308.18 1211.56,1309.34 1211.77,1310.49 1211.98,1311.63 1212.18,1312.76 1212.39,1313.89 1212.6,1315.02 1212.81,1316.14 1213.02,1317.25 1213.23,1318.35 \n",
       "  1213.44,1319.45 1213.65,1320.55 1213.85,1321.63 1214.06,1322.71 1214.27,1323.79 1214.48,1324.86 1214.69,1325.92 1214.9,1326.97 1215.11,1328.02 1215.32,1329.07 \n",
       "  1215.52,1330.11 1215.73,1331.14 1215.94,1332.16 1216.15,1333.18 1216.36,1334.19 1216.57,1335.2 1216.78,1336.2 1216.99,1337.19 1217.19,1338.18 1217.4,1339.16 \n",
       "  1217.61,1340.13 1217.82,1341.1 1218.03,1342.06 1218.24,1343.01 1218.45,1343.96 1218.65,1344.9 1218.86,1345.84 1219.07,1346.77 1219.28,1347.69 1219.49,1348.6 \n",
       "  1219.7,1349.51 1219.91,1350.41 1220.12,1351.31 1220.32,1352.2 1220.53,1353.08 1220.74,1353.96 1220.95,1354.83 1221.16,1355.69 1221.37,1356.55 1221.58,1357.4 \n",
       "  1221.79,1358.24 1221.99,1359.08 1222.2,1359.91 1222.41,1360.73 1222.62,1361.55 1222.83,1362.36 1223.04,1363.17 1223.25,1363.96 1223.46,1364.75 1223.66,1365.54 \n",
       "  1223.87,1366.31 1224.08,1367.08 1224.29,1367.85 1224.5,1368.6 1224.71,1369.35 1224.92,1370.1 1225.12,1370.83 1225.33,1371.56 1225.54,1372.28 1225.75,1373 \n",
       "  1225.96,1373.71 1226.17,1374.41 1226.38,1375.11 1226.59,1375.8 1226.79,1376.48 1227,1377.15 1227.21,1377.82 1227.42,1378.48 1227.63,1379.14 1227.84,1379.78 \n",
       "  1228.05,1380.43 1228.26,1381.06 1228.46,1381.69 1228.67,1382.31 1228.88,1382.92 1229.09,1383.53 1229.3,1384.13 1229.51,1384.72 1229.72,1385.3 1229.92,1385.88 \n",
       "  1230.13,1386.45 1230.34,1387.02 1230.55,1387.57 1230.76,1388.13 1230.97,1388.67 1231.18,1389.21 1231.39,1389.74 1231.59,1390.26 1231.8,1390.77 1232.01,1391.28 \n",
       "  1232.22,1391.78 1232.43,1392.28 1232.64,1392.77 1232.85,1393.25 1233.06,1393.72 1233.26,1394.19 1233.47,1394.65 1233.68,1395.1 1233.89,1395.54 1234.1,1395.98 \n",
       "  1234.31,1396.41 1234.52,1396.84 1234.73,1397.25 1234.93,1397.66 1235.14,1398.07 1235.35,1398.46 1235.56,1398.85 1235.77,1399.23 1235.98,1399.6 1236.19,1399.97 \n",
       "  1236.39,1400.33 1236.6,1400.68 1236.81,1401.03 1237.02,1401.37 1237.23,1401.7 1237.44,1402.03 1237.65,1402.34 1237.86,1402.65 1238.06,1402.96 1238.27,1403.25 \n",
       "  1238.48,1403.54 1238.69,1403.82 1238.9,1404.09 1239.11,1404.36 1239.32,1404.62 1239.53,1404.87 1239.73,1405.12 1239.94,1405.36 1240.15,1405.59 1240.36,1405.81 \n",
       "  1240.57,1406.03 1240.78,1406.24 1240.99,1406.44 1241.2,1406.64 1241.4,1406.82 1241.61,1407.01 1241.82,1407.18 1242.03,1407.34 1242.24,1407.5 1242.45,1407.66 \n",
       "  1242.66,1407.8 1242.86,1407.94 1243.07,1408.07 1243.28,1408.19 1243.49,1408.31 1243.7,1408.42 1243.91,1408.52 1244.12,1408.61 1244.33,1408.7 1244.53,1408.78 \n",
       "  1244.74,1408.85 1244.95,1408.91 1245.16,1408.97 1245.37,1409.02 1245.58,1409.07 1245.79,1409.1 1246,1409.13 1246.2,1409.15 1246.41,1409.17 1246.62,1409.17 \n",
       "  1246.83,1409.17 1247.04,1409.17 1247.25,1409.15 1247.46,1409.13 1247.66,1409.1 1247.87,1409.07 1248.08,1409.02 1248.29,1408.97 1248.5,1408.91 1248.71,1408.85 \n",
       "  1248.92,1408.78 1249.13,1408.7 1249.33,1408.61 1249.54,1408.52 1249.75,1408.42 1249.96,1408.31 1250.17,1408.19 1250.38,1408.07 1250.59,1407.94 1250.8,1407.8 \n",
       "  1251,1407.66 1251.21,1407.5 1251.42,1407.34 1251.63,1407.18 1251.84,1407.01 1252.05,1406.82 1252.26,1406.64 1252.47,1406.44 1252.67,1406.24 1252.88,1406.03 \n",
       "  1253.09,1405.81 1253.3,1405.59 1253.51,1405.36 1253.72,1405.12 1253.93,1404.87 1254.13,1404.62 1254.34,1404.36 1254.55,1404.09 1254.76,1403.82 1254.97,1403.54 \n",
       "  1255.18,1403.25 1255.39,1402.96 1255.6,1402.65 1255.8,1402.34 1256.01,1402.03 1256.22,1401.7 1256.43,1401.37 1256.64,1401.03 1256.85,1400.68 1257.06,1400.33 \n",
       "  1257.27,1399.97 1257.47,1399.6 1257.68,1399.23 1257.89,1398.85 1258.1,1398.46 1258.31,1398.07 1258.52,1397.66 1258.73,1397.25 1258.94,1396.84 1259.14,1396.41 \n",
       "  1259.35,1395.98 1259.56,1395.54 1259.77,1395.1 1259.98,1394.65 1260.19,1394.19 1260.4,1393.72 1260.6,1393.25 1260.81,1392.77 1261.02,1392.28 1261.23,1391.78 \n",
       "  1261.44,1391.28 1261.65,1390.77 1261.86,1390.26 1262.07,1389.74 1262.27,1389.21 1262.48,1388.67 1262.69,1388.13 1262.9,1387.57 1263.11,1387.02 1263.32,1386.45 \n",
       "  1263.53,1385.88 1263.74,1385.3 1263.94,1384.72 1264.15,1384.13 1264.36,1383.53 1264.57,1382.92 1264.78,1382.31 1264.99,1381.69 1265.2,1381.06 1265.4,1380.43 \n",
       "  1265.61,1379.78 1265.82,1379.14 1266.03,1378.48 1266.24,1377.82 1266.45,1377.15 1266.66,1376.48 1266.87,1375.8 1267.07,1375.11 1267.28,1374.41 1267.49,1373.71 \n",
       "  1267.7,1373 1267.91,1372.28 1268.12,1371.56 1268.33,1370.83 1268.54,1370.1 1268.74,1369.35 1268.95,1368.6 1269.16,1367.85 1269.37,1367.08 1269.58,1366.31 \n",
       "  1269.79,1365.54 1270,1364.75 1270.21,1363.96 1270.41,1363.17 1270.62,1362.36 1270.83,1361.55 1271.04,1360.73 1271.25,1359.91 1271.46,1359.08 1271.67,1358.24 \n",
       "  1271.87,1357.4 1272.08,1356.55 1272.29,1355.69 1272.5,1354.83 1272.71,1353.96 1272.92,1353.08 1273.13,1352.2 1273.34,1351.31 1273.54,1350.41 1273.75,1349.51 \n",
       "  1273.96,1348.6 1274.17,1347.69 1274.38,1346.77 1274.59,1345.84 1274.8,1344.9 1275.01,1343.96 1275.21,1343.01 1275.42,1342.06 1275.63,1341.1 1275.84,1340.13 \n",
       "  1276.05,1339.16 1276.26,1338.18 1276.47,1337.19 1276.68,1336.2 1276.88,1335.2 1277.09,1334.19 1277.3,1333.18 1277.51,1332.16 1277.72,1331.14 1277.93,1330.11 \n",
       "  1278.14,1329.07 1278.34,1328.02 1278.55,1326.97 1278.76,1325.92 1278.97,1324.86 1279.18,1323.79 1279.39,1322.71 1279.6,1321.63 1279.81,1320.55 1280.01,1319.45 \n",
       "  1280.22,1318.35 1280.43,1317.25 1280.64,1316.14 1280.85,1315.02 1281.06,1313.89 1281.27,1312.76 1281.48,1311.63 1281.68,1310.49 1281.89,1309.34 1282.1,1308.18 \n",
       "  1282.31,1307.02 1282.52,1305.86 1282.73,1304.69 1282.94,1303.51 1283.14,1302.32 1283.35,1301.13 1283.56,1299.94 1283.77,1298.73 1283.98,1297.53 1284.19,1296.31 \n",
       "  1284.4,1295.09 1284.61,1293.87 1284.81,1292.64 1285.02,1291.4 1285.23,1290.16 1285.44,1288.91 1285.65,1287.65 1285.86,1286.39 1286.07,1285.12 1286.28,1283.85 \n",
       "  1286.48,1282.58 1286.69,1281.29 1286.9,1280 1287.11,1278.71 1287.32,1277.41 1287.53,1276.1 1287.74,1274.79 1287.95,1273.47 1288.15,1272.15 1288.36,1270.82 \n",
       "  1288.57,1269.49 1288.78,1268.15 1288.99,1266.8 1289.2,1265.45 1289.41,1264.09 1289.61,1262.73 1289.82,1261.36 1290.03,1259.99 1290.24,1258.61 1290.45,1257.23 \n",
       "  1290.66,1255.84 1290.87,1254.44 1291.08,1253.04 1291.28,1251.64 1291.49,1250.23 1291.7,1248.81 1291.91,1247.39 1292.12,1245.96 1292.33,1244.53 1292.54,1243.09 \n",
       "  1292.75,1241.65 1292.95,1240.2 1293.16,1238.75 1293.37,1237.29 1293.58,1235.83 1293.79,1234.36 1294,1232.89 1294.21,1231.41 1294.42,1229.92 1294.62,1228.43 \n",
       "  1294.83,1226.94 1295.04,1225.44 1295.25,1223.94 1295.46,1222.43 1295.67,1220.91 1295.88,1219.39 1296.08,1217.87 1296.29,1216.34 1296.5,1214.8 1296.71,1213.27 \n",
       "  1296.92,1211.72 1297.13,1210.17 1297.34,1208.62 1297.55,1207.06 1297.75,1205.5 1297.96,1203.93 1298.17,1202.36 1298.38,1200.78 1298.59,1199.19 1298.8,1197.61 \n",
       "  1299.01,1196.01 1299.22,1194.42 1299.42,1192.82 1299.63,1191.21 1299.84,1189.6 1300.05,1187.98 1300.26,1186.36 1300.47,1184.74 1300.68,1183.11 1300.88,1181.48 \n",
       "  1301.09,1179.84 1301.3,1178.19 1301.51,1176.55 1301.72,1174.9 1301.93,1173.24 1302.14,1171.58 1302.35,1169.91 1302.55,1168.24 1302.76,1166.57 1302.97,1164.89 \n",
       "  1303.18,1163.21 1303.39,1161.52 1303.6,1159.83 1303.81,1158.14 1304.02,1156.44 1304.22,1154.73 1304.43,1153.02 1304.64,1151.31 1304.85,1149.59 1305.06,1147.87 \n",
       "  1305.27,1146.15 1305.48,1144.42 1305.69,1142.69 1305.89,1140.95 1306.1,1139.21 1306.31,1137.46 1306.52,1135.71 1306.73,1133.96 1306.94,1132.2 1307.15,1130.44 \n",
       "  1307.35,1128.67 1307.56,1126.91 1307.77,1125.13 1307.98,1123.36 1308.19,1121.57 1308.4,1119.79 1308.61,1118 1308.82,1116.21 1309.02,1114.41 1309.23,1112.61 \n",
       "  1309.44,1110.81 1309.65,1109 1309.86,1107.19 1310.07,1105.38 1310.28,1103.56 1310.49,1101.74 1310.69,1099.91 1310.9,1098.08 1311.11,1096.25 1311.32,1094.41 \n",
       "  1311.53,1092.57 1311.74,1090.73 1311.95,1088.88 1312.15,1087.03 1312.36,1085.18 1312.57,1083.32 1312.78,1081.46 1312.99,1079.6 1313.2,1077.73 1313.41,1075.86 \n",
       "  1313.62,1073.98 1313.82,1072.11 1314.03,1070.23 1314.24,1068.34 1314.45,1066.46 1314.66,1064.57 1314.87,1062.67 1315.08,1060.78 1315.29,1058.88 1315.49,1056.97 \n",
       "  1315.7,1055.07 1315.91,1053.16 1316.12,1051.25 1316.33,1049.33 1316.54,1047.41 1316.75,1045.49 1316.96,1043.57 1317.16,1041.64 1317.37,1039.71 1317.58,1037.78 \n",
       "  1317.79,1035.84 1318,1033.9 1318.21,1031.96 1318.42,1030.02 1318.62,1028.07 1318.83,1026.12 1319.04,1024.17 1319.25,1022.21 1319.46,1020.25 1319.67,1018.29 \n",
       "  1319.88,1016.33 1320.09,1014.36 1320.29,1012.4 1320.5,1010.42 1320.71,1008.45 1320.92,1006.47 1321.13,1004.5 1321.34,1002.51 1321.55,1000.53 1321.76,998.544 \n",
       "  1321.96,996.556 1322.17,994.564 1322.38,992.571 1322.59,990.575 1322.8,988.577 1323.01,986.576 1323.22,984.573 1323.43,982.568 1323.63,980.561 1323.84,978.551 \n",
       "  1324.05,976.539 1324.26,974.525 1324.47,972.509 1324.68,970.49 1324.89,968.47 1325.09,966.447 1325.3,964.422 1325.51,962.396 1325.72,960.367 1325.93,958.336 \n",
       "  1326.14,956.303 1326.35,954.268 1326.56,952.232 1326.76,950.193 1326.97,948.153 1327.18,946.11 1327.39,944.066 1327.6,942.02 1327.81,939.972 1328.02,937.922 \n",
       "  1328.23,935.871 1328.43,933.818 1328.64,931.763 1328.85,929.706 1329.06,927.648 1329.27,925.588 1329.48,923.527 1329.69,921.464 1329.89,919.399 1330.1,917.333 \n",
       "  1330.31,915.265 1330.52,913.195 1330.73,911.125 1330.94,909.052 1331.15,906.979 1331.36,904.904 1331.56,902.827 1331.77,900.749 1331.98,898.67 1332.19,896.59 \n",
       "  1332.4,894.508 1332.61,892.425 1332.82,890.34 1333.03,888.255 1333.23,886.168 1333.44,884.08 1333.65,881.99 1333.86,879.9 1334.07,877.809 1334.28,875.716 \n",
       "  1334.49,873.622 1334.7,871.528 1334.9,869.432 1335.11,867.335 1335.32,865.238 1335.53,863.139 1335.74,861.039 1335.95,858.939 1336.16,856.837 1336.36,854.735 \n",
       "  1336.57,852.632 1336.78,850.528 1336.99,848.423 1337.2,846.318 1337.41,844.211 1337.62,842.104 1337.83,839.997 1338.03,837.888 1338.24,835.779 1338.45,833.669 \n",
       "  1338.66,831.559 1338.87,829.448 1339.08,827.337 1339.29,825.225 1339.5,823.112 1339.7,820.999 1339.91,818.885 1340.12,816.771 1340.33,814.657 1340.54,812.542 \n",
       "  1340.75,810.427 1340.96,808.311 1341.17,806.195 1341.37,804.079 1341.58,801.962 1341.79,799.846 1342,797.728 1342.21,795.611 1342.42,793.493 1342.63,791.376 \n",
       "  1342.83,789.258 1343.04,787.14 1343.25,785.022 1343.46,782.903 1343.67,780.785 1343.88,778.667 1344.09,776.548 1344.3,774.43 1344.5,772.311 1344.71,770.193 \n",
       "  1344.92,768.075 1345.13,765.957 1345.34,763.838 1345.55,761.721 1345.76,759.603 1345.97,757.485 1346.17,755.368 1346.38,753.25 1346.59,751.133 1346.8,749.017 \n",
       "  1347.01,746.9 1347.22,744.784 1347.43,742.668 1347.63,740.553 1347.84,738.438 1348.05,736.323 1348.26,734.209 1348.47,732.095 1348.68,729.982 1348.89,727.869 \n",
       "  1349.1,725.757 1349.3,723.645 1349.51,721.534 1349.72,719.423 1349.93,717.313 1350.14,715.204 1350.35,713.095 1350.56,710.987 1350.77,708.879 1350.97,706.772 \n",
       "  1351.18,704.666 1351.39,702.561 1351.6,700.457 1351.81,698.353 1352.02,696.25 1352.23,694.148 1352.44,692.047 1352.64,689.947 1352.85,687.847 1353.06,685.749 \n",
       "  1353.27,683.651 1353.48,681.555 1353.69,679.459 1353.9,677.365 1354.1,675.271 1354.31,673.179 1354.52,671.087 1354.73,668.997 1354.94,666.908 1355.15,664.82 \n",
       "  1355.36,662.733 1355.57,660.647 1355.77,658.563 1355.98,656.48 1356.19,654.398 1356.4,652.317 1356.61,650.237 1356.82,648.159 1357.03,646.083 1357.24,644.007 \n",
       "  1357.44,641.933 1357.65,639.861 1357.86,637.789 1358.07,635.72 1358.28,633.651 1358.49,631.584 1358.7,629.519 1358.91,627.455 1359.11,625.393 1359.32,623.332 \n",
       "  1359.53,621.273 1359.74,619.216 1359.95,617.16 1360.16,615.106 1360.37,613.053 1360.57,611.002 1360.78,608.953 1360.99,606.905 1361.2,604.86 1361.41,602.816 \n",
       "  1361.62,600.774 1361.83,598.733 1362.04,596.695 1362.24,594.658 1362.45,592.624 1362.66,590.591 1362.87,588.56 1363.08,586.531 1363.29,584.504 1363.5,582.479 \n",
       "  1363.71,580.456 1363.91,578.435 1364.12,576.415 1364.33,574.398 1364.54,572.384 1364.75,570.371 1364.96,568.36 1365.17,566.352 1365.37,564.345 1365.58,562.341 \n",
       "  1365.79,560.339 1366,558.339 1366.21,556.341 1366.42,554.346 1366.63,552.353 1366.84,550.362 1367.04,548.374 1367.25,546.388 1367.46,544.404 1367.67,542.422 \n",
       "  1367.88,540.443 1368.09,538.467 1368.3,536.492 1368.51,534.521 1368.71,532.551 1368.92,530.585 1369.13,528.62 1369.34,526.659 1369.55,524.699 1369.76,522.743 \n",
       "  1369.97,520.788 1370.18,518.837 1370.38,516.888 1370.59,514.942 1370.8,512.998 1371.01,511.057 1371.22,509.119 1371.43,507.183 1371.64,505.251 1371.84,503.321 \n",
       "  1372.05,501.393 1372.26,499.469 1372.47,497.547 1372.68,495.628 1372.89,493.712 1373.1,491.799 1373.31,489.889 1373.51,487.981 1373.72,486.077 1373.93,484.175 \n",
       "  1374.14,482.276 1374.35,480.381 1374.56,478.488 1374.77,476.598 1374.98,474.711 1375.18,472.828 1375.39,470.947 1375.6,469.07 1375.81,467.195 1376.02,465.324 \n",
       "  1376.23,463.456 1376.44,461.591 1376.65,459.729 1376.85,457.87 1377.06,456.014 1377.27,454.162 1377.48,452.313 1377.69,450.467 1377.9,448.624 1378.11,446.785 \n",
       "  1378.31,444.949 1378.52,443.116 1378.73,441.287 1378.94,439.46 1379.15,437.638 1379.36,435.818 1379.57,434.002 1379.78,432.19 1379.98,430.381 1380.19,428.575 \n",
       "  1380.4,426.773 1380.61,424.974 1380.82,423.179 1381.03,421.387 1381.24,419.599 1381.45,417.814 1381.65,416.033 1381.86,414.256 1382.07,412.482 1382.28,410.711 \n",
       "  1382.49,408.944 1382.7,407.181 1382.91,405.422 1383.11,403.666 1383.32,401.914 1383.53,400.166 1383.74,398.421 1383.95,396.68 1384.16,394.943 1384.37,393.209 \n",
       "  1384.58,391.48 1384.78,389.754 1384.99,388.032 1385.2,386.313 1385.41,384.599 1385.62,382.888 1385.83,381.182 1386.04,379.479 1386.25,377.78 1386.45,376.085 \n",
       "  1386.66,374.394 1386.87,372.706 1387.08,371.023 1387.29,369.344 1387.5,367.669 1387.71,365.997 1387.92,364.33 1388.12,362.667 1388.33,361.008 1388.54,359.353 \n",
       "  1388.75,357.702 1388.96,356.055 1389.17,354.412 1389.38,352.773 1389.58,351.138 1389.79,349.508 1390,347.881 1390.21,346.259 1390.42,344.641 1390.63,343.027 \n",
       "  1390.84,341.418 1391.05,339.812 1391.25,338.211 1391.46,336.614 1391.67,335.022 1391.88,333.433 1392.09,331.849 1392.3,330.269 1392.51,328.694 1392.72,327.123 \n",
       "  1392.92,325.556 1393.13,323.993 1393.34,322.435 1393.55,320.882 1393.76,319.332 1393.97,317.787 1394.18,316.247 1394.39,314.711 1394.59,313.179 1394.8,311.652 \n",
       "  1395.01,310.129 1395.22,308.611 1395.43,307.097 1395.64,305.588 1395.85,304.083 1396.05,302.583 1396.26,301.087 1396.47,299.596 1396.68,298.109 1396.89,296.627 \n",
       "  1397.1,295.15 1397.31,293.677 1397.52,292.209 1397.72,290.745 1397.93,289.286 1398.14,287.832 1398.35,286.382 1398.56,284.937 1398.77,283.496 1398.98,282.061 \n",
       "  1399.19,280.63 1399.39,279.204 1399.6,277.782 1399.81,276.365 1400.02,274.953 1400.23,273.546 1400.44,272.143 1400.65,270.745 1400.85,269.352 1401.06,267.964 \n",
       "  1401.27,266.581 1401.48,265.202 1401.69,263.828 1401.9,262.459 1402.11,261.095 1402.32,259.736 1402.52,258.381 1402.73,257.032 1402.94,255.687 1403.15,254.348 \n",
       "  1403.36,253.013 1403.57,251.683 1403.78,250.358 1403.99,249.038 1404.19,247.723 1404.4,246.412 1404.61,245.107 1404.82,243.807 1405.03,242.512 1405.24,241.221 \n",
       "  1405.45,239.936 1405.66,238.656 1405.86,237.381 1406.07,236.11 1406.28,234.845 1406.49,233.585 1406.7,232.33 1406.91,231.08 1407.12,229.835 1407.32,228.595 \n",
       "  1407.53,227.36 1407.74,226.131 1407.95,224.906 1408.16,223.686 1408.37,222.472 1408.58,221.263 1408.79,220.059 1408.99,218.86 1409.2,217.666 1409.41,216.477 \n",
       "  1409.62,215.294 1409.83,214.115 1410.04,212.942 1410.25,211.774 1410.46,210.611 1410.66,209.454 1410.87,208.302 1411.08,207.154 1411.29,206.012 1411.5,204.876 \n",
       "  1411.71,203.744 1411.92,202.618 1412.13,201.497 1412.33,200.382 1412.54,199.271 1412.75,198.166 1412.96,197.066 1413.17,195.972 1413.38,194.882 1413.59,193.798 \n",
       "  1413.79,192.72 1414,191.646 1414.21,190.578 1414.42,189.516 1414.63,188.458 1414.84,187.406 1415.05,186.36 1415.26,185.318 1415.46,184.282 1415.67,183.252 \n",
       "  1415.88,182.227 1416.09,181.207 1416.3,180.192 1416.51,179.183 1416.72,178.18 1416.93,177.181 1417.13,176.188 1417.34,175.201 1417.55,174.219 1417.76,173.242 \n",
       "  1417.97,172.271 1418.18,171.305 1418.39,170.345 1418.59,169.39 1418.8,168.44 1419.01,167.496 1419.22,166.558 1419.43,165.625 1419.64,164.697 1419.85,163.775 \n",
       "  1420.06,162.858 1420.26,161.947 1420.47,161.041 1420.68,160.141 1420.89,159.246 1421.1,158.357 1421.31,157.473 1421.52,156.595 1421.73,155.722 1421.93,154.855 \n",
       "  1422.14,153.993 1422.35,153.137 1422.56,152.286 1422.77,151.441 1422.98,150.601 1423.19,149.767 1423.4,148.939 1423.6,148.116 1423.81,147.298 1424.02,146.486 \n",
       "  1424.23,145.68 1424.44,144.879 1424.65,144.084 1424.86,143.294 1425.06,142.51 1425.27,141.731 1425.48,140.958 1425.69,140.191 1425.9,139.429 1426.11,138.672 \n",
       "  1426.32,137.922 1426.53,137.176 1426.73,136.437 1426.94,135.703 1427.15,134.974 1427.36,134.252 1427.57,133.534 1427.78,132.823 1427.99,132.117 1428.2,131.416 \n",
       "  1428.4,130.721 1428.61,130.032 1428.82,129.349 1429.03,128.671 1429.24,127.998 1429.45,127.331 1429.66,126.67 1429.87,126.015 1430.07,125.365 1430.28,124.72 \n",
       "  1430.49,124.082 1430.7,123.448 1430.91,122.821 1431.12,122.199 1431.33,121.583 1431.53,120.972 1431.74,120.367 1431.95,119.768 1432.16,119.174 1432.37,118.586 \n",
       "  1432.58,118.003 1432.79,117.427 1433,116.855 1433.2,116.29 1433.41,115.73 1433.62,115.175 1433.83,114.627 1434.04,114.083 1434.25,113.546 1434.46,113.014 \n",
       "  1434.67,112.488 1434.87,111.967 1435.08,111.452 1435.29,110.943 1435.5,110.439 1435.71,109.941 1435.92,109.449 1436.13,108.962 1436.33,108.481 1436.54,108.005 \n",
       "  1436.75,107.536 1436.96,107.071 1437.17,106.613 1437.38,106.16 1437.59,105.712 1437.8,105.27 1438,104.834 1438.21,104.404 1438.42,103.979 1438.63,103.559 \n",
       "  1438.84,103.146 1439.05,102.738 1439.26,102.335 1439.47,101.938 1439.67,101.547 1439.88,101.162 1440.09,100.782 1440.3,100.407 1440.51,100.039 1440.72,99.6754 \n",
       "  1440.93,99.3179 1441.14,98.966 1441.34,98.6196 1441.55,98.2789 1441.76,97.9438 1441.97,97.6142 1442.18,97.2903 1442.39,96.9719 1442.6,96.6592 1442.8,96.352 \n",
       "  1443.01,96.0504 1443.22,95.7544 1443.43,95.464 1443.64,95.1791 1443.85,94.8999 1444.06,94.6262 1444.27,94.3581 1444.47,94.0955 1444.68,93.8385 1444.89,93.5871 \n",
       "  1445.1,93.3412 1445.31,93.1009 1445.52,92.8662 1445.73,92.637 1445.94,92.4133 1446.14,92.1952 1446.35,91.9827 1446.56,91.7757 1446.77,91.5742 1446.98,91.3782 \n",
       "  1447.19,91.1878 1447.4,91.0029 1447.61,90.8235 1447.81,90.6497 1448.02,90.4813 1448.23,90.3185 1448.44,90.1612 1448.65,90.0094 1448.86,89.8631 1449.07,89.7223 \n",
       "  1449.27,89.5869 1449.48,89.4571 1449.69,89.3328 1449.9,89.2139 1450.11,89.1005 1450.32,88.9926 1450.53,88.8902 1450.74,88.7932 1450.94,88.7017 1451.15,88.6156 \n",
       "  1451.36,88.535 1451.57,88.4598 1451.78,88.3901 1451.99,88.3258 1452.2,88.267 1452.41,88.2136 1452.61,88.1656 1452.82,88.123 1453.03,88.0858 1453.24,88.0541 \n",
       "  1453.45,88.0277 1453.66,88.0068 1453.87,87.9912 1454.07,87.9811 1454.28,87.9763 1454.49,87.9769 1454.7,87.9829 1454.91,87.9942 1455.12,88.0109 1455.33,88.033 \n",
       "  1455.54,88.0604 1455.74,88.0932 1455.95,88.1313 1456.16,88.1747 1456.37,88.2235 1456.58,88.2776 1456.79,88.337 1457,88.4018 1457.21,88.4718 1457.41,88.5472 \n",
       "  1457.62,88.6278 1457.83,88.7138 1458.04,88.805 1458.25,88.9015 1458.46,89.0033 1458.67,89.1103 1458.88,89.2226 1459.08,89.3402 1459.29,89.463 1459.5,89.591 \n",
       "  1459.71,89.7243 1459.92,89.8628 1460.13,90.0066 1460.34,90.1555 1460.54,90.3097 1460.75,90.469 1460.96,90.6336 1461.17,90.8033 1461.38,90.9783 1461.59,91.1584 \n",
       "  1461.8,91.3437 1462.01,91.5341 1462.21,91.7297 1462.42,91.9305 1462.63,92.1364 1462.84,92.3474 1463.05,92.5635 1463.26,92.7848 1463.47,93.0112 1463.68,93.2427 \n",
       "  1463.88,93.4793 1464.09,93.721 1464.3,93.9678 1464.51,94.2196 1464.72,94.4766 1464.93,94.7385 1465.14,95.0056 1465.35,95.2777 1465.55,95.5548 1465.76,95.837 \n",
       "  1465.97,96.1242 1466.18,96.4164 1466.39,96.7136 1466.6,97.0158 1466.81,97.323 1467.01,97.6352 1467.22,97.9524 1467.43,98.2746 1467.64,98.6017 1467.85,98.9338 \n",
       "  1468.06,99.2708 1468.27,99.6127 1468.48,99.9596 1468.68,100.311 1468.89,100.668 1469.1,101.03 1469.31,101.396 1469.52,101.768 1469.73,102.144 1469.94,102.525 \n",
       "  1470.15,102.911 1470.35,103.302 1470.56,103.698 1470.77,104.099 1470.98,104.504 1471.19,104.914 1471.4,105.329 1471.61,105.749 1471.81,106.174 1472.02,106.603 \n",
       "  1472.23,107.037 1472.44,107.476 1472.65,107.92 1472.86,108.369 1473.07,108.822 1473.28,109.28 1473.48,109.743 1473.69,110.21 1473.9,110.682 1474.11,111.159 \n",
       "  1474.32,111.641 1474.53,112.127 1474.74,112.618 1474.95,113.113 1475.15,113.614 1475.36,114.118 1475.57,114.628 1475.78,115.142 1475.99,115.661 1476.2,116.184 \n",
       "  1476.41,116.712 1476.62,117.244 1476.82,117.782 1477.03,118.323 1477.24,118.869 1477.45,119.42 1477.66,119.976 1477.87,120.535 1478.08,121.1 1478.28,121.669 \n",
       "  1478.49,122.242 1478.7,122.82 1478.91,123.402 1479.12,123.989 1479.33,124.58 1479.54,125.176 1479.75,125.776 1479.95,126.381 1480.16,126.99 1480.37,127.603 \n",
       "  1480.58,128.221 1480.79,128.844 1481,129.47 1481.21,130.101 1481.42,130.737 1481.62,131.376 1481.83,132.02 1482.04,132.669 1482.25,133.321 1482.46,133.978 \n",
       "  1482.67,134.64 1482.88,135.305 1483.09,135.975 1483.29,136.649 1483.5,137.328 1483.71,138.011 1483.92,138.698 1484.13,139.389 1484.34,140.084 1484.55,140.784 \n",
       "  1484.75,141.487 1484.96,142.195 1485.17,142.907 1485.38,143.624 1485.59,144.344 1485.8,145.069 1486.01,145.798 1486.22,146.53 1486.42,147.267 1486.63,148.008 \n",
       "  1486.84,148.754 1487.05,149.503 1487.26,150.256 1487.47,151.014 1487.68,151.775 1487.89,152.54 1488.09,153.31 1488.3,154.083 1488.51,154.861 1488.72,155.642 \n",
       "  1488.93,156.428 1489.14,157.217 1489.35,158.011 1489.55,158.808 1489.76,159.609 1489.97,160.415 1490.18,161.224 1490.39,162.037 1490.6,162.854 1490.81,163.674 \n",
       "  1491.02,164.499 1491.22,165.328 1491.43,166.16 1491.64,166.996 1491.85,167.836 1492.06,168.68 1492.27,169.528 1492.48,170.379 1492.69,171.235 1492.89,172.094 \n",
       "  1493.1,172.956 1493.31,173.823 1493.52,174.693 1493.73,175.567 1493.94,176.445 1494.15,177.326 1494.36,178.211 1494.56,179.1 1494.77,179.992 1494.98,180.888 \n",
       "  1495.19,181.788 1495.4,182.691 1495.61,183.598 1495.82,184.509 1496.02,185.423 1496.23,186.341 1496.44,187.262 1496.65,188.187 1496.86,189.116 1497.07,190.048 \n",
       "  1497.28,190.983 1497.49,191.922 1497.69,192.865 1497.9,193.811 1498.11,194.76 1498.32,195.713 1498.53,196.67 1498.74,197.629 1498.95,198.593 1499.16,199.559 \n",
       "  1499.36,200.53 1499.57,201.503 1499.78,202.48 1499.99,203.46 1500.2,204.444 1500.41,205.431 1500.62,206.421 1500.83,207.415 1501.03,208.412 1501.24,209.412 \n",
       "  1501.45,210.416 1501.66,211.423 1501.87,212.433 1502.08,213.446 1502.29,214.463 1502.49,215.483 1502.7,216.506 1502.91,217.532 1503.12,218.561 1503.33,219.594 \n",
       "  1503.54,220.63 1503.75,221.669 1503.96,222.711 1504.16,223.756 1504.37,224.805 1504.58,225.856 1504.79,226.911 1505,227.968 1505.21,229.029 1505.42,230.093 \n",
       "  1505.63,231.16 1505.83,232.23 1506.04,233.303 1506.25,234.379 1506.46,235.457 1506.67,236.539 1506.88,237.624 1507.09,238.712 1507.29,239.803 1507.5,240.897 \n",
       "  1507.71,241.994 1507.92,243.093 1508.13,244.196 1508.34,245.301 1508.55,246.409 1508.76,247.52 1508.96,248.635 1509.17,249.751 1509.38,250.871 1509.59,251.994 \n",
       "  1509.8,253.119 1510.01,254.247 1510.22,255.378 1510.43,256.512 1510.63,257.648 1510.84,258.787 1511.05,259.929 1511.26,261.074 1511.47,262.221 1511.68,263.371 \n",
       "  1511.89,264.524 1512.1,265.679 1512.3,266.837 1512.51,267.998 1512.72,269.161 1512.93,270.327 1513.14,271.496 1513.35,272.667 1513.56,273.84 1513.76,275.017 \n",
       "  1513.97,276.196 1514.18,277.377 1514.39,278.561 1514.6,279.747 1514.81,280.936 1515.02,282.128 1515.23,283.322 1515.43,284.518 1515.64,285.717 1515.85,286.919 \n",
       "  1516.06,288.123 1516.27,289.329 1516.48,290.537 1516.69,291.748 1516.9,292.962 1517.1,294.178 1517.31,295.396 1517.52,296.616 1517.73,297.839 1517.94,299.065 \n",
       "  1518.15,300.292 1518.36,301.522 1518.57,302.754 1518.77,303.988 1518.98,305.225 1519.19,306.464 1519.4,307.705 1519.61,308.949 1519.82,310.194 1520.03,311.442 \n",
       "  1520.23,312.692 1520.44,313.944 1520.65,315.199 1520.86,316.455 1521.07,317.714 1521.28,318.975 1521.49,320.238 1521.7,321.503 1521.9,322.77 1522.11,324.039 \n",
       "  1522.32,325.31 1522.53,326.584 1522.74,327.859 1522.95,329.136 1523.16,330.416 1523.37,331.697 1523.57,332.981 1523.78,334.266 1523.99,335.554 1524.2,336.843 \n",
       "  1524.41,338.134 1524.62,339.428 1524.83,340.723 1525.03,342.02 1525.24,343.319 1525.45,344.62 1525.66,345.923 1525.87,347.227 1526.08,348.534 1526.29,349.842 \n",
       "  1526.5,351.152 1526.7,352.464 1526.91,353.778 1527.12,355.094 1527.33,356.411 1527.54,357.73 1527.75,359.051 1527.96,360.374 1528.17,361.698 1528.37,363.024 \n",
       "  1528.58,364.352 1528.79,365.681 1529,367.013 1529.21,368.345 1529.42,369.68 1529.63,371.016 1529.84,372.354 1530.04,373.693 1530.25,375.034 1530.46,376.377 \n",
       "  1530.67,377.721 1530.88,379.067 1531.09,380.415 1531.3,381.763 1531.5,383.114 1531.71,384.466 1531.92,385.819 1532.13,387.174 1532.34,388.531 1532.55,389.889 \n",
       "  1532.76,391.248 1532.97,392.609 1533.17,393.972 1533.38,395.336 1533.59,396.701 1533.8,398.068 1534.01,399.436 1534.22,400.805 1534.43,402.176 1534.64,403.548 \n",
       "  1534.84,404.922 1535.05,406.297 1535.26,407.673 1535.47,409.05 1535.68,410.429 1535.89,411.809 1536.1,413.191 1536.31,414.573 1536.51,415.957 1536.72,417.343 \n",
       "  1536.93,418.729 1537.14,420.117 1537.35,421.506 1537.56,422.896 1537.77,424.287 1537.97,425.68 1538.18,427.073 1538.39,428.468 1538.6,429.864 1538.81,431.261 \n",
       "  1539.02,432.659 1539.23,434.059 1539.44,435.459 1539.64,436.861 1539.85,438.263 1540.06,439.667 1540.27,441.072 1540.48,442.477 1540.69,443.884 1540.9,445.292 \n",
       "  1541.11,446.701 1541.31,448.111 1541.52,449.521 1541.73,450.933 1541.94,452.346 1542.15,453.76 1542.36,455.174 1542.57,456.59 1542.77,458.006 1542.98,459.424 \n",
       "  1543.19,460.842 1543.4,462.261 1543.61,463.681 1543.82,465.102 1544.03,466.524 1544.24,467.947 1544.44,469.37 1544.65,470.795 1544.86,472.22 1545.07,473.646 \n",
       "  1545.28,475.072 1545.49,476.5 1545.7,477.928 1545.91,479.357 1546.11,480.787 1546.32,482.217 1546.53,483.649 1546.74,485.08 1546.95,486.513 1547.16,487.946 \n",
       "  1547.37,489.38 1547.58,490.815 1547.78,492.25 1547.99,493.686 1548.2,495.123 1548.41,496.56 1548.62,497.998 1548.83,499.437 1549.04,500.876 1549.24,502.315 \n",
       "  1549.45,503.756 1549.66,505.196 1549.87,506.638 1550.08,508.08 1550.29,509.522 1550.5,510.965 1550.71,512.408 1550.91,513.852 1551.12,515.297 1551.33,516.742 \n",
       "  1551.54,518.187 1551.75,519.633 1551.96,521.079 1552.17,522.526 1552.38,523.973 1552.58,525.421 1552.79,526.869 1553,528.317 1553.21,529.766 1553.42,531.215 \n",
       "  1553.63,532.665 1553.84,534.114 1554.05,535.565 1554.25,537.015 1554.46,538.466 1554.67,539.917 1554.88,541.369 1555.09,542.821 1555.3,544.273 1555.51,545.725 \n",
       "  1555.71,547.178 1555.92,548.631 1556.13,550.084 1556.34,551.537 1556.55,552.991 1556.76,554.445 1556.97,555.899 1557.18,557.353 1557.38,558.808 1557.59,560.262 \n",
       "  1557.8,561.717 1558.01,563.172 1558.22,564.627 1558.43,566.082 1558.64,567.538 1558.85,568.993 1559.05,570.449 1559.26,571.904 1559.47,573.36 1559.68,574.816 \n",
       "  1559.89,576.272 1560.1,577.728 1560.31,579.184 1560.51,580.64 1560.72,582.096 1560.93,583.552 1561.14,585.009 1561.35,586.465 1561.56,587.921 1561.77,589.377 \n",
       "  1561.98,590.833 1562.18,592.289 1562.39,593.745 1562.6,595.202 1562.81,596.657 1563.02,598.113 1563.23,599.569 1563.44,601.025 1563.65,602.481 1563.85,603.936 \n",
       "  1564.06,605.392 1564.27,606.847 1564.48,608.302 1564.69,609.757 1564.9,611.212 1565.11,612.667 1565.32,614.121 1565.52,615.576 1565.73,617.03 1565.94,618.484 \n",
       "  1566.15,619.938 1566.36,621.391 1566.57,622.845 1566.78,624.298 1566.98,625.751 1567.19,627.203 1567.4,628.656 1567.61,630.108 1567.82,631.56 1568.03,633.011 \n",
       "  1568.24,634.463 1568.45,635.914 1568.65,637.364 1568.86,638.815 1569.07,640.265 1569.28,641.715 1569.49,643.164 1569.7,644.613 1569.91,646.062 1570.12,647.51 \n",
       "  1570.32,648.958 1570.53,650.405 1570.74,651.853 1570.95,653.299 1571.16,654.746 1571.37,656.192 1571.58,657.637 1571.79,659.082 1571.99,660.527 1572.2,661.971 \n",
       "  1572.41,663.415 1572.62,664.858 1572.83,666.301 1573.04,667.743 1573.25,669.185 1573.45,670.627 1573.66,672.067 1573.87,673.508 1574.08,674.948 1574.29,676.387 \n",
       "  1574.5,677.826 1574.71,679.264 1574.92,680.702 1575.12,682.139 1575.33,683.575 1575.54,685.011 1575.75,686.446 1575.96,687.881 1576.17,689.315 1576.38,690.749 \n",
       "  1576.59,692.182 1576.79,693.614 1577,695.046 1577.21,696.477 1577.42,697.908 1577.63,699.337 1577.84,700.767 1578.05,702.195 1578.25,703.623 1578.46,705.05 \n",
       "  1578.67,706.476 1578.88,707.902 1579.09,709.327 1579.3,710.751 1579.51,712.175 1579.72,713.598 1579.92,715.02 1580.13,716.441 1580.34,717.862 1580.55,719.282 \n",
       "  1580.76,720.701 1580.97,722.12 1581.18,723.537 1581.39,724.954 1581.59,726.37 1581.8,727.785 1582.01,729.2 1582.22,730.613 1582.43,732.026 1582.64,733.438 \n",
       "  1582.85,734.849 1583.06,736.26 1583.26,737.669 1583.47,739.078 1583.68,740.486 1583.89,741.893 1584.1,743.299 1584.31,744.704 1584.52,746.108 1584.72,747.512 \n",
       "  1584.93,748.914 1585.14,750.316 1585.35,751.716 1585.56,753.116 1585.77,754.515 1585.98,755.913 1586.19,757.31 1586.39,758.706 1586.6,760.101 1586.81,761.495 \n",
       "  1587.02,762.889 1587.23,764.281 1587.44,765.672 1587.65,767.062 1587.86,768.452 1588.06,769.84 1588.27,771.227 1588.48,772.613 1588.69,773.999 1588.9,775.383 \n",
       "  1589.11,776.766 1589.32,778.149 1589.53,779.53 1589.73,780.91 1589.94,782.289 1590.15,783.667 1590.36,785.044 1590.57,786.42 1590.78,787.795 1590.99,789.169 \n",
       "  1591.19,790.541 1591.4,791.913 1591.61,793.283 1591.82,794.653 1592.03,796.021 1592.24,797.388 1592.45,798.754 1592.66,800.119 1592.86,801.483 1593.07,802.846 \n",
       "  1593.28,804.208 1593.49,805.568 1593.7,806.927 1593.91,808.285 1594.12,809.642 1594.33,810.998 1594.53,812.353 1594.74,813.706 1594.95,815.058 1595.16,816.409 \n",
       "  1595.37,817.759 1595.58,819.108 1595.79,820.456 1595.99,821.802 1596.2,823.147 1596.41,824.491 1596.62,825.833 1596.83,827.175 1597.04,828.515 1597.25,829.854 \n",
       "  1597.46,831.191 1597.66,832.528 1597.87,833.863 1598.08,835.197 1598.29,836.53 1598.5,837.861 1598.71,839.191 1598.92,840.52 1599.13,841.847 1599.33,843.174 \n",
       "  1599.54,844.499 1599.75,845.822 1599.96,847.145 1600.17,848.466 1600.38,849.786 1600.59,851.104 1600.8,852.421 1601,853.737 1601.21,855.051 1601.42,856.364 \n",
       "  1601.63,857.676 1601.84,858.987 1602.05,860.296 1602.26,861.603 1602.46,862.91 1602.67,864.215 1602.88,865.518 1603.09,866.821 1603.3,868.122 1603.51,869.421 \n",
       "  1603.72,870.719 1603.93,872.016 1604.13,873.311 1604.34,874.605 1604.55,875.898 1604.76,877.189 1604.97,878.479 1605.18,879.767 1605.39,881.054 1605.6,882.339 \n",
       "  1605.8,883.623 1606.01,884.906 1606.22,886.187 1606.43,887.467 1606.64,888.745 1606.85,890.022 1607.06,891.298 1607.27,892.571 1607.47,893.844 1607.68,895.115 \n",
       "  1607.89,896.385 1608.1,897.653 1608.31,898.919 1608.52,900.185 1608.73,901.448 1608.93,902.71 1609.14,903.971 1609.35,905.23 1609.56,906.488 1609.77,907.744 \n",
       "  1609.98,908.999 1610.19,910.252 1610.4,911.504 1610.6,912.754 1610.81,914.003 1611.02,915.25 1611.23,916.496 1611.44,917.74 1611.65,918.982 1611.86,920.223 \n",
       "  1612.07,921.463 1612.27,922.701 1612.48,923.937 1612.69,925.172 1612.9,926.406 1613.11,927.637 1613.32,928.868 1613.53,930.096 1613.73,931.323 1613.94,932.549 \n",
       "  1614.15,933.773 1614.36,934.995 1614.57,936.216 1614.78,937.435 1614.99,938.653 1615.2,939.869 1615.4,941.084 1615.61,942.297 1615.82,943.508 1616.03,944.718 \n",
       "  1616.24,945.926 1616.45,947.132 1616.66,948.337 1616.87,949.541 1617.07,950.742 1617.28,951.942 1617.49,953.141 1617.7,954.338 1617.91,955.533 1618.12,956.727 \n",
       "  1618.33,957.919 1618.54,959.109 1618.74,960.298 1618.95,961.485 1619.16,962.67 1619.37,963.854 1619.58,965.036 1619.79,966.217 1620,967.396 1620.2,968.573 \n",
       "  1620.41,969.749 1620.62,970.923 1620.83,972.095 1621.04,973.265 1621.25,974.434 1621.46,975.602 1621.67,976.767 1621.87,977.931 1622.08,979.094 1622.29,980.254 \n",
       "  1622.5,981.413 1622.71,982.571 1622.92,983.726 1623.13,984.88 1623.34,986.032 1623.54,987.183 1623.75,988.332 1623.96,989.479 1624.17,990.624 1624.38,991.768 \n",
       "  1624.59,992.91 1624.8,994.051 1625.01,995.189 1625.21,996.326 1625.42,997.462 1625.63,998.595 1625.84,999.727 1626.05,1000.86 1626.26,1001.99 1626.47,1003.11 \n",
       "  1626.67,1004.24 1626.88,1005.36 1627.09,1006.48 1627.3,1007.6 1627.51,1008.72 1627.72,1009.84 1627.93,1010.95 1628.14,1012.06 1628.34,1013.18 1628.55,1014.29 \n",
       "  1628.76,1015.39 1628.97,1016.5 1629.18,1017.6 1629.39,1018.71 1629.6,1019.81 1629.81,1020.91 1630.01,1022 1630.22,1023.1 1630.43,1024.19 1630.64,1025.29 \n",
       "  1630.85,1026.38 1631.06,1027.47 1631.27,1028.55 1631.47,1029.64 1631.68,1030.72 1631.89,1031.8 1632.1,1032.88 1632.31,1033.96 1632.52,1035.04 1632.73,1036.11 \n",
       "  1632.94,1037.18 1633.14,1038.26 1633.35,1039.32 1633.56,1040.39 1633.77,1041.46 1633.98,1042.52 1634.19,1043.58 1634.4,1044.65 1634.61,1045.7 1634.81,1046.76 \n",
       "  1635.02,1047.82 1635.23,1048.87 1635.44,1049.92 1635.65,1050.97 1635.86,1052.02 1636.07,1053.07 1636.28,1054.11 1636.48,1055.15 1636.69,1056.19 1636.9,1057.23 \n",
       "  1637.11,1058.27 1637.32,1059.31 1637.53,1060.34 1637.74,1061.37 1637.94,1062.4 1638.15,1063.43 1638.36,1064.46 1638.57,1065.48 1638.78,1066.51 1638.99,1067.53 \n",
       "  1639.2,1068.55 1639.41,1069.57 1639.61,1070.58 1639.82,1071.6 1640.03,1072.61 1640.24,1073.62 1640.45,1074.63 1640.66,1075.64 1640.87,1076.64 1641.08,1077.65 \n",
       "  1641.28,1078.65 1641.49,1079.65 1641.7,1080.65 1641.91,1081.64 1642.12,1082.64 1642.33,1083.63 1642.54,1084.62 1642.74,1085.61 1642.95,1086.6 1643.16,1087.58 \n",
       "  1643.37,1088.57 1643.58,1089.55 1643.79,1090.53 1644,1091.51 1644.21,1092.48 1644.41,1093.46 1644.62,1094.43 1644.83,1095.4 1645.04,1096.37 1645.25,1097.34 \n",
       "  1645.46,1098.31 1645.67,1099.27 1645.88,1100.23 1646.08,1101.19 1646.29,1102.15 1646.5,1103.11 1646.71,1104.06 1646.92,1105.02 1647.13,1105.97 1647.34,1106.92 \n",
       "  1647.55,1107.87 1647.75,1108.81 1647.96,1109.76 1648.17,1110.7 1648.38,1111.64 1648.59,1112.58 1648.8,1113.52 1649.01,1114.45 1649.21,1115.39 1649.42,1116.32 \n",
       "  1649.63,1117.25 1649.84,1118.18 1650.05,1119.1 1650.26,1120.03 1650.47,1120.95 1650.68,1121.87 1650.88,1122.79 1651.09,1123.71 1651.3,1124.62 1651.51,1125.54 \n",
       "  1651.72,1126.45 1651.93,1127.36 1652.14,1128.27 1652.35,1129.17 1652.55,1130.08 1652.76,1130.98 1652.97,1131.88 1653.18,1132.78 1653.39,1133.68 1653.6,1134.58 \n",
       "  1653.81,1135.47 1654.02,1136.36 1654.22,1137.25 1654.43,1138.14 1654.64,1139.03 1654.85,1139.91 1655.06,1140.8 1655.27,1141.68 1655.48,1142.56 1655.68,1143.44 \n",
       "  1655.89,1144.31 1656.1,1145.19 1656.31,1146.06 1656.52,1146.93 1656.73,1147.8 1656.94,1148.67 1657.15,1149.53 1657.35,1150.4 1657.56,1151.26 1657.77,1152.12 \n",
       "  1657.98,1152.98 1658.19,1153.83 1658.4,1154.69 1658.61,1155.54 1658.82,1156.39 1659.02,1157.24 1659.23,1158.09 1659.44,1158.94 1659.65,1159.78 1659.86,1160.62 \n",
       "  1660.07,1161.47 1660.28,1162.3 1660.48,1163.14 1660.69,1163.98 1660.9,1164.81 1661.11,1165.64 1661.32,1166.47 1661.53,1167.3 1661.74,1168.13 1661.95,1168.95 \n",
       "  1662.15,1169.78 1662.36,1170.6 1662.57,1171.42 1662.78,1172.23 1662.99,1173.05 1663.2,1173.86 1663.41,1174.68 1663.62,1175.49 1663.82,1176.3 1664.03,1177.1 \n",
       "  1664.24,1177.91 1664.45,1178.71 1664.66,1179.51 1664.87,1180.32 1665.08,1181.11 1665.29,1181.91 1665.49,1182.71 1665.7,1183.5 1665.91,1184.29 1666.12,1185.08 \n",
       "  1666.33,1185.87 1666.54,1186.65 1666.75,1187.44 1666.95,1188.22 1667.16,1189 1667.37,1189.78 1667.58,1190.56 1667.79,1191.34 1668,1192.11 1668.21,1192.88 \n",
       "  1668.42,1193.65 1668.62,1194.42 1668.83,1195.19 1669.04,1195.96 1669.25,1196.72 1669.46,1197.48 1669.67,1198.24 1669.88,1199 1670.09,1199.76 1670.29,1200.51 \n",
       "  1670.5,1201.27 1670.71,1202.02 1670.92,1202.77 1671.13,1203.52 1671.34,1204.26 1671.55,1205.01 1671.76,1205.75 1671.96,1206.49 1672.17,1207.23 1672.38,1207.97 \n",
       "  1672.59,1208.71 1672.8,1209.44 1673.01,1210.18 1673.22,1210.91 1673.42,1211.64 1673.63,1212.37 1673.84,1213.09 1674.05,1213.82 1674.26,1214.54 1674.47,1215.26 \n",
       "  1674.68,1215.98 1674.89,1216.7 1675.09,1217.41 1675.3,1218.13 1675.51,1218.84 1675.72,1219.55 1675.93,1220.26 1676.14,1220.97 1676.35,1221.68 1676.56,1222.38 \n",
       "  1676.76,1223.08 1676.97,1223.79 1677.18,1224.49 1677.39,1225.18 1677.6,1225.88 1677.81,1226.57 1678.02,1227.27 1678.22,1227.96 1678.43,1228.65 1678.64,1229.34 \n",
       "  1678.85,1230.02 1679.06,1230.71 1679.27,1231.39 1679.48,1232.07 1679.69,1232.75 1679.89,1233.43 1680.1,1234.11 1680.31,1234.78 1680.52,1235.45 1680.73,1236.13 \n",
       "  1680.94,1236.8 1681.15,1237.46 1681.36,1238.13 1681.56,1238.8 1681.77,1239.46 1681.98,1240.12 1682.19,1240.78 1682.4,1241.44 1682.61,1242.1 1682.82,1242.75 \n",
       "  1683.03,1243.41 1683.23,1244.06 1683.44,1244.71 1683.65,1245.36 1683.86,1246 1684.07,1246.65 1684.28,1247.29 1684.49,1247.94 1684.69,1248.58 1684.9,1249.22 \n",
       "  1685.11,1249.85 1685.32,1250.49 1685.53,1251.12 1685.74,1251.76 1685.95,1252.39 1686.16,1253.02 1686.36,1253.65 1686.57,1254.27 1686.78,1254.9 1686.99,1255.52 \n",
       "  1687.2,1256.14 1687.41,1256.76 1687.62,1257.38 1687.83,1258 1688.03,1258.62 1688.24,1259.23 1688.45,1259.84 1688.66,1260.45 1688.87,1261.06 1689.08,1261.67 \n",
       "  1689.29,1262.28 1689.5,1262.88 1689.7,1263.48 1689.91,1264.09 1690.12,1264.69 1690.33,1265.28 1690.54,1265.88 1690.75,1266.48 1690.96,1267.07 1691.16,1267.66 \n",
       "  1691.37,1268.25 1691.58,1268.84 1691.79,1269.43 1692,1270.02 1692.21,1270.6 1692.42,1271.19 1692.63,1271.77 1692.83,1272.35 1693.04,1272.93 1693.25,1273.5 \n",
       "  1693.46,1274.08 1693.67,1274.65 1693.88,1275.23 1694.09,1275.8 1694.3,1276.37 1694.5,1276.93 1694.71,1277.5 1694.92,1278.07 1695.13,1278.63 1695.34,1279.19 \n",
       "  1695.55,1279.75 1695.76,1280.31 1695.96,1280.87 1696.17,1281.43 1696.38,1281.98 1696.59,1282.53 1696.8,1283.09 1697.01,1283.64 1697.22,1284.19 1697.43,1284.73 \n",
       "  1697.63,1285.28 1697.84,1285.82 1698.05,1286.37 1698.26,1286.91 1698.47,1287.45 1698.68,1287.99 1698.89,1288.52 1699.1,1289.06 1699.3,1289.59 1699.51,1290.13 \n",
       "  1699.72,1290.66 1699.93,1291.19 1700.14,1291.72 1700.35,1292.24 1700.56,1292.77 1700.77,1293.29 1700.97,1293.82 1701.18,1294.34 1701.39,1294.86 1701.6,1295.38 \n",
       "  1701.81,1295.89 1702.02,1296.41 1702.23,1296.92 1702.43,1297.44 1702.64,1297.95 1702.85,1298.46 1703.06,1298.97 1703.27,1299.47 1703.48,1299.98 1703.69,1300.48 \n",
       "  1703.9,1300.99 1704.1,1301.49 1704.31,1301.99 1704.52,1302.49 1704.73,1302.98 1704.94,1303.48 1705.15,1303.97 1705.36,1304.47 1705.57,1304.96 1705.77,1305.45 \n",
       "  1705.98,1305.94 1706.19,1306.43 1706.4,1306.91 1706.61,1307.4 1706.82,1307.88 1707.03,1308.37 1707.24,1308.85 1707.44,1309.33 1707.65,1309.8 1707.86,1310.28 \n",
       "  1708.07,1310.76 1708.28,1311.23 1708.49,1311.7 1708.7,1312.18 1708.9,1312.65 1709.11,1313.11 1709.32,1313.58 1709.53,1314.05 1709.74,1314.51 1709.95,1314.98 \n",
       "  1710.16,1315.44 1710.37,1315.9 1710.57,1316.36 1710.78,1316.82 1710.99,1317.27 1711.2,1317.73 1711.41,1318.18 1711.62,1318.64 1711.83,1319.09 1712.04,1319.54 \n",
       "  1712.24,1319.99 1712.45,1320.44 1712.66,1320.88 1712.87,1321.33 1713.08,1321.77 1713.29,1322.22 1713.5,1322.66 1713.7,1323.1 1713.91,1323.54 1714.12,1323.97 \n",
       "  1714.33,1324.41 1714.54,1324.84 1714.75,1325.28 1714.96,1325.71 1715.17,1326.14 1715.37,1326.57 1715.58,1327 1715.79,1327.43 1716,1327.85 1716.21,1328.28 \n",
       "  1716.42,1328.7 1716.63,1329.12 1716.84,1329.55 1717.04,1329.97 1717.25,1330.38 1717.46,1330.8 1717.67,1331.22 1717.88,1331.63 1718.09,1332.05 1718.3,1332.46 \n",
       "  1718.51,1332.87 1718.71,1333.28 1718.92,1333.69 1719.13,1334.1 1719.34,1334.5 1719.55,1334.91 1719.76,1335.31 1719.97,1335.71 1720.17,1336.12 1720.38,1336.52 \n",
       "  1720.59,1336.92 1720.8,1337.31 1721.01,1337.71 1721.22,1338.11 1721.43,1338.5 1721.64,1338.89 1721.84,1339.29 1722.05,1339.68 1722.26,1340.07 1722.47,1340.45 \n",
       "  1722.68,1340.84 1722.89,1341.23 1723.1,1341.61 1723.31,1342 1723.51,1342.38 1723.72,1342.76 1723.93,1343.14 1724.14,1343.52 1724.35,1343.9 1724.56,1344.27 \n",
       "  1724.77,1344.65 1724.98,1345.02 1725.18,1345.4 1725.39,1345.77 1725.6,1346.14 1725.81,1346.51 1726.02,1346.88 1726.23,1347.25 1726.44,1347.61 1726.64,1347.98 \n",
       "  1726.85,1348.34 1727.06,1348.7 1727.27,1349.07 1727.48,1349.43 1727.69,1349.79 1727.9,1350.15 1728.11,1350.5 1728.31,1350.86 1728.52,1351.21 1728.73,1351.57 \n",
       "  1728.94,1351.92 1729.15,1352.27 1729.36,1352.62 1729.57,1352.97 1729.78,1353.32 1729.98,1353.67 1730.19,1354.02 1730.4,1354.36 1730.61,1354.71 1730.82,1355.05 \n",
       "  1731.03,1355.39 1731.24,1355.73 1731.44,1356.07 1731.65,1356.41 1731.86,1356.75 1732.07,1357.09 1732.28,1357.42 1732.49,1357.76 1732.7,1358.09 1732.91,1358.42 \n",
       "  1733.11,1358.75 1733.32,1359.08 1733.53,1359.41 1733.74,1359.74 1733.95,1360.07 1734.16,1360.4 1734.37,1360.72 1734.58,1361.04 1734.78,1361.37 1734.99,1361.69 \n",
       "  1735.2,1362.01 1735.41,1362.33 1735.62,1362.65 1735.83,1362.97 1736.04,1363.28 1736.25,1363.6 1736.45,1363.92 1736.66,1364.23 1736.87,1364.54 1737.08,1364.85 \n",
       "  1737.29,1365.17 1737.5,1365.47 1737.71,1365.78 1737.91,1366.09 1738.12,1366.4 1738.33,1366.7 1738.54,1367.01 1738.75,1367.31 1738.96,1367.62 1739.17,1367.92 \n",
       "  1739.38,1368.22 1739.58,1368.52 1739.79,1368.82 1740,1369.12 1740.21,1369.41 1740.42,1369.71 1740.63,1370 1740.84,1370.3 1741.05,1370.59 1741.25,1370.88 \n",
       "  1741.46,1371.17 1741.67,1371.46 1741.88,1371.75 1742.09,1372.04 1742.3,1372.33 1742.51,1372.62 1742.72,1372.9 1742.92,1373.19 1743.13,1373.47 1743.34,1373.75 \n",
       "  1743.55,1374.03 1743.76,1374.31 1743.97,1374.59 1744.18,1374.87 1744.38,1375.15 1744.59,1375.43 1744.8,1375.7 1745.01,1375.98 1745.22,1376.25 1745.43,1376.53 \n",
       "  1745.64,1376.8 1745.85,1377.07 1746.05,1377.34 1746.26,1377.61 1746.47,1377.88 1746.68,1378.15 1746.89,1378.41 1747.1,1378.68 1747.31,1378.95 1747.52,1379.21 \n",
       "  1747.72,1379.47 1747.93,1379.74 1748.14,1380 1748.35,1380.26 1748.56,1380.52 1748.77,1380.78 1748.98,1381.04 1749.18,1381.29 1749.39,1381.55 1749.6,1381.81 \n",
       "  1749.81,1382.06 1750.02,1382.31 1750.23,1382.57 1750.44,1382.82 1750.65,1383.07 1750.85,1383.32 1751.06,1383.57 1751.27,1383.82 1751.48,1384.07 1751.69,1384.31 \n",
       "  1751.9,1384.56 1752.11,1384.8 1752.32,1385.05 1752.52,1385.29 1752.73,1385.54 1752.94,1385.78 1753.15,1386.02 1753.36,1386.26 1753.57,1386.5 1753.78,1386.74 \n",
       "  1753.99,1386.97 1754.19,1387.21 1754.4,1387.45 1754.61,1387.68 1754.82,1387.92 1755.03,1388.15 1755.24,1388.38 1755.45,1388.62 1755.65,1388.85 1755.86,1389.08 \n",
       "  1756.07,1389.31 1756.28,1389.54 1756.49,1389.76 1756.7,1389.99 1756.91,1390.22 1757.12,1390.44 1757.32,1390.67 1757.53,1390.89 1757.74,1391.12 1757.95,1391.34 \n",
       "  1758.16,1391.56 1758.37,1391.78 1758.58,1392 1758.79,1392.22 1758.99,1392.44 1759.2,1392.66 1759.41,1392.87 1759.62,1393.09 1759.83,1393.31 1760.04,1393.52 \n",
       "  1760.25,1393.73 1760.46,1393.95 1760.66,1394.16 1760.87,1394.37 1761.08,1394.58 1761.29,1394.79 1761.5,1395 1761.71,1395.21 1761.92,1395.42 1762.12,1395.63 \n",
       "  1762.33,1395.83 1762.54,1396.04 1762.75,1396.24 1762.96,1396.45 1763.17,1396.65 1763.38,1396.86 1763.59,1397.06 1763.79,1397.26 1764,1397.46 1764.21,1397.66 \n",
       "  1764.42,1397.86 1764.63,1398.06 1764.84,1398.26 1765.05,1398.45 1765.26,1398.65 1765.46,1398.84 1765.67,1399.04 1765.88,1399.23 1766.09,1399.43 1766.3,1399.62 \n",
       "  1766.51,1399.81 1766.72,1400 1766.92,1400.2 1767.13,1400.39 1767.34,1400.58 1767.55,1400.76 1767.76,1400.95 1767.97,1401.14 1768.18,1401.33 1768.39,1401.51 \n",
       "  1768.59,1401.7 1768.8,1401.88 1769.01,1402.07 1769.22,1402.25 1769.43,1402.43 1769.64,1402.61 1769.85,1402.8 1770.06,1402.98 1770.26,1403.16 1770.47,1403.34 \n",
       "  1770.68,1403.51 1770.89,1403.69 1771.1,1403.87 1771.31,1404.05 1771.52,1404.22 1771.73,1404.4 1771.93,1404.57 1772.14,1404.75 1772.35,1404.92 1772.56,1405.09 \n",
       "  1772.77,1405.27 1772.98,1405.44 1773.19,1405.61 1773.39,1405.78 1773.6,1405.95 1773.81,1406.12 1774.02,1406.29 1774.23,1406.45 1774.44,1406.62 1774.65,1406.79 \n",
       "  1774.86,1406.95 1775.06,1407.12 1775.27,1407.28 1775.48,1407.45 1775.69,1407.61 1775.9,1407.77 1776.11,1407.94 1776.32,1408.1 1776.53,1408.26 1776.73,1408.42 \n",
       "  1776.94,1408.58 1777.15,1408.74 1777.36,1408.9 1777.57,1409.05 1777.78,1409.21 1777.99,1409.37 1778.2,1409.53 1778.4,1409.68 1778.61,1409.84 1778.82,1409.99 \n",
       "  1779.03,1410.14 1779.24,1410.3 1779.45,1410.45 1779.66,1410.6 1779.86,1410.75 1780.07,1410.91 1780.28,1411.06 1780.49,1411.21 1780.7,1411.35 1780.91,1411.5 \n",
       "  1781.12,1411.65 1781.33,1411.8 1781.53,1411.95 1781.74,1412.09 1781.95,1412.24 1782.16,1412.38 1782.37,1412.53 1782.58,1412.67 1782.79,1412.82 1783,1412.96 \n",
       "  1783.2,1413.1 1783.41,1413.25 1783.62,1413.39 1783.83,1413.53 1784.04,1413.67 1784.25,1413.81 1784.46,1413.95 1784.66,1414.09 1784.87,1414.22 1785.08,1414.36 \n",
       "  1785.29,1414.5 1785.5,1414.64 1785.71,1414.77 1785.92,1414.91 1786.13,1415.04 1786.33,1415.18 1786.54,1415.31 1786.75,1415.45 1786.96,1415.58 1787.17,1415.71 \n",
       "  1787.38,1415.84 1787.59,1415.97 1787.8,1416.11 1788,1416.24 1788.21,1416.37 1788.42,1416.5 1788.63,1416.62 1788.84,1416.75 1789.05,1416.88 1789.26,1417.01 \n",
       "  1789.47,1417.14 1789.67,1417.26 1789.88,1417.39 1790.09,1417.51 1790.3,1417.64 1790.51,1417.76 1790.72,1417.89 1790.93,1418.01 1791.13,1418.13 1791.34,1418.26 \n",
       "  1791.55,1418.38 1791.76,1418.5 1791.97,1418.62 1792.18,1418.74 1792.39,1418.86 1792.6,1418.98 1792.8,1419.1 1793.01,1419.22 1793.22,1419.34 1793.43,1419.46 \n",
       "  1793.64,1419.57 1793.85,1419.69 1794.06,1419.81 1794.27,1419.92 1794.47,1420.04 1794.68,1420.15 1794.89,1420.27 1795.1,1420.38 1795.31,1420.5 1795.52,1420.61 \n",
       "  1795.73,1420.72 1795.94,1420.83 1796.14,1420.95 1796.35,1421.06 1796.56,1421.17 1796.77,1421.28 1796.98,1421.39 1797.19,1421.5 1797.4,1421.61 1797.6,1421.72 \n",
       "  1797.81,1421.82 1798.02,1421.93 1798.23,1422.04 1798.44,1422.15 1798.65,1422.25 1798.86,1422.36 1799.07,1422.47 1799.27,1422.57 1799.48,1422.68 1799.69,1422.78 \n",
       "  1799.9,1422.88 1800.11,1422.99 1800.32,1423.09 1800.53,1423.19 1800.74,1423.3 1800.94,1423.4 1801.15,1423.5 1801.36,1423.6 1801.57,1423.7 1801.78,1423.8 \n",
       "  1801.99,1423.9 1802.2,1424 1802.4,1424.1 1802.61,1424.2 1802.82,1424.3 1803.03,1424.4 1803.24,1424.49 1803.45,1424.59 1803.66,1424.69 1803.87,1424.78 \n",
       "  1804.07,1424.88 1804.28,1424.97 1804.49,1425.07 1804.7,1425.16 1804.91,1425.26 1805.12,1425.35 1805.33,1425.45 1805.54,1425.54 1805.74,1425.63 1805.95,1425.72 \n",
       "  1806.16,1425.82 1806.37,1425.91 1806.58,1426 1806.79,1426.09 1807,1426.18 1807.21,1426.27 1807.41,1426.36 1807.62,1426.45 1807.83,1426.54 1808.04,1426.63 \n",
       "  1808.25,1426.72 1808.46,1426.8 1808.67,1426.89 1808.87,1426.98 1809.08,1427.07 1809.29,1427.15 1809.5,1427.24 1809.71,1427.33 1809.92,1427.41 1810.13,1427.5 \n",
       "  1810.34,1427.58 1810.54,1427.66 1810.75,1427.75 1810.96,1427.83 1811.17,1427.92 1811.38,1428 1811.59,1428.08 1811.8,1428.16 1812.01,1428.25 1812.21,1428.33 \n",
       "  1812.42,1428.41 1812.63,1428.49 1812.84,1428.57 1813.05,1428.65 1813.26,1428.73 1813.47,1428.81 1813.68,1428.89 1813.88,1428.97 1814.09,1429.05 1814.3,1429.12 \n",
       "  1814.51,1429.2 1814.72,1429.28 1814.93,1429.36 1815.14,1429.43 1815.34,1429.51 1815.55,1429.59 1815.76,1429.66 1815.97,1429.74 1816.18,1429.81 1816.39,1429.89 \n",
       "  1816.6,1429.96 1816.81,1430.04 1817.01,1430.11 1817.22,1430.19 1817.43,1430.26 1817.64,1430.33 1817.85,1430.41 1818.06,1430.48 1818.27,1430.55 1818.48,1430.62 \n",
       "  1818.68,1430.69 1818.89,1430.76 1819.1,1430.84 1819.31,1430.91 1819.52,1430.98 1819.73,1431.05 1819.94,1431.12 1820.14,1431.19 1820.35,1431.25 1820.56,1431.32 \n",
       "  1820.77,1431.39 1820.98,1431.46 1821.19,1431.53 1821.4,1431.6 1821.61,1431.66 1821.81,1431.73 1822.02,1431.8 1822.23,1431.86 1822.44,1431.93 1822.65,1432 \n",
       "  1822.86,1432.06 1823.07,1432.13 1823.28,1432.19 1823.48,1432.26 1823.69,1432.32 1823.9,1432.39 1824.11,1432.45 1824.32,1432.51 1824.53,1432.58 1824.74,1432.64 \n",
       "  1824.95,1432.7 1825.15,1432.77 1825.36,1432.83 1825.57,1432.89 1825.78,1432.95 1825.99,1433.01 1826.2,1433.07 1826.41,1433.14 1826.61,1433.2 1826.82,1433.26 \n",
       "  1827.03,1433.32 1827.24,1433.38 1827.45,1433.44 1827.66,1433.5 1827.87,1433.55 1828.08,1433.61 1828.28,1433.67 1828.49,1433.73 1828.7,1433.79 1828.91,1433.85 \n",
       "  1829.12,1433.9 1829.33,1433.96 1829.54,1434.02 1829.75,1434.08 1829.95,1434.13 1830.16,1434.19 1830.37,1434.24 1830.58,1434.3 1830.79,1434.36 1831,1434.41 \n",
       "  1831.21,1434.47 1831.42,1434.52 1831.62,1434.58 1831.83,1434.63 1832.04,1434.68 1832.25,1434.74 1832.46,1434.79 1832.67,1434.85 1832.88,1434.9 1833.08,1434.95 \n",
       "  1833.29,1435 1833.5,1435.06 1833.71,1435.11 1833.92,1435.16 1834.13,1435.21 1834.34,1435.26 1834.55,1435.32 1834.75,1435.37 1834.96,1435.42 1835.17,1435.47 \n",
       "  1835.38,1435.52 1835.59,1435.57 1835.8,1435.62 1836.01,1435.67 1836.22,1435.72 1836.42,1435.77 1836.63,1435.82 1836.84,1435.87 1837.05,1435.91 1837.26,1435.96 \n",
       "  1837.47,1436.01 1837.68,1436.06 1837.88,1436.11 1838.09,1436.15 1838.3,1436.2 1838.51,1436.25 1838.72,1436.3 1838.93,1436.34 1839.14,1436.39 1839.35,1436.44 \n",
       "  1839.55,1436.48 1839.76,1436.53 1839.97,1436.57 1840.18,1436.62 1840.39,1436.66 1840.6,1436.71 1840.81,1436.75 1841.02,1436.8 1841.22,1436.84 1841.43,1436.89 \n",
       "  1841.64,1436.93 1841.85,1436.97 1842.06,1437.02 1842.27,1437.06 1842.48,1437.11 1842.69,1437.15 1842.89,1437.19 1843.1,1437.23 1843.31,1437.28 1843.52,1437.32 \n",
       "  1843.73,1437.36 1843.94,1437.4 1844.15,1437.44 1844.35,1437.49 1844.56,1437.53 1844.77,1437.57 1844.98,1437.61 1845.19,1437.65 1845.4,1437.69 1845.61,1437.73 \n",
       "  1845.82,1437.77 1846.02,1437.81 1846.23,1437.85 1846.44,1437.89 1846.65,1437.93 1846.86,1437.97 1847.07,1438.01 1847.28,1438.05 1847.49,1438.09 1847.69,1438.12 \n",
       "  1847.9,1438.16 1848.11,1438.2 1848.32,1438.24 1848.53,1438.28 1848.74,1438.31 1848.95,1438.35 1849.16,1438.39 1849.36,1438.43 1849.57,1438.46 1849.78,1438.5 \n",
       "  1849.99,1438.54 1850.2,1438.57 1850.41,1438.61 1850.62,1438.65 1850.82,1438.68 1851.03,1438.72 1851.24,1438.75 1851.45,1438.79 1851.66,1438.82 1851.87,1438.86 \n",
       "  1852.08,1438.89 1852.29,1438.93 1852.49,1438.96 1852.7,1439 1852.91,1439.03 1853.12,1439.07 1853.33,1439.1 1853.54,1439.13 1853.75,1439.17 1853.96,1439.2 \n",
       "  1854.16,1439.23 1854.37,1439.27 1854.58,1439.3 1854.79,1439.33 1855,1439.37 1855.21,1439.4 1855.42,1439.43 1855.62,1439.46 1855.83,1439.5 1856.04,1439.53 \n",
       "  1856.25,1439.56 1856.46,1439.59 1856.67,1439.62 1856.88,1439.65 1857.09,1439.69 1857.29,1439.72 1857.5,1439.75 1857.71,1439.78 1857.92,1439.81 1858.13,1439.84 \n",
       "  1858.34,1439.87 1858.55,1439.9 1858.76,1439.93 1858.96,1439.96 1859.17,1439.99 1859.38,1440.02 1859.59,1440.05 1859.8,1440.08 1860.01,1440.11 1860.22,1440.14 \n",
       "  1860.43,1440.17 1860.63,1440.19 1860.84,1440.22 1861.05,1440.25 1861.26,1440.28 1861.47,1440.31 1861.68,1440.34 1861.89,1440.36 1862.09,1440.39 1862.3,1440.42 \n",
       "  1862.51,1440.45 1862.72,1440.47 1862.93,1440.5 1863.14,1440.53 1863.35,1440.56 1863.56,1440.58 1863.76,1440.61 1863.97,1440.64 1864.18,1440.66 1864.39,1440.69 \n",
       "  1864.6,1440.72 1864.81,1440.74 1865.02,1440.77 1865.23,1440.79 1865.43,1440.82 1865.64,1440.85 1865.85,1440.87 1866.06,1440.9 1866.27,1440.92 1866.48,1440.95 \n",
       "  1866.69,1440.97 1866.9,1441 1867.1,1441.02 1867.31,1441.05 1867.52,1441.07 1867.73,1441.1 1867.94,1441.12 1868.15,1441.14 1868.36,1441.17 1868.56,1441.19 \n",
       "  1868.77,1441.22 1868.98,1441.24 1869.19,1441.26 1869.4,1441.29 1869.61,1441.31 1869.82,1441.33 1870.03,1441.36 1870.23,1441.38 1870.44,1441.4 1870.65,1441.43 \n",
       "  1870.86,1441.45 1871.07,1441.47 1871.28,1441.49 1871.49,1441.52 1871.7,1441.54 1871.9,1441.56 1872.11,1441.58 1872.32,1441.6 1872.53,1441.63 1872.74,1441.65 \n",
       "  1872.95,1441.67 1873.16,1441.69 1873.36,1441.71 1873.57,1441.73 1873.78,1441.76 1873.99,1441.78 1874.2,1441.8 1874.41,1441.82 1874.62,1441.84 1874.83,1441.86 \n",
       "  1875.03,1441.88 1875.24,1441.9 1875.45,1441.92 1875.66,1441.94 1875.87,1441.96 1876.08,1441.98 1876.29,1442 1876.5,1442.02 1876.7,1442.04 1876.91,1442.06 \n",
       "  1877.12,1442.08 1877.33,1442.1 1877.54,1442.12 1877.75,1442.14 1877.96,1442.16 1878.17,1442.18 1878.37,1442.2 1878.58,1442.22 1878.79,1442.23 1879,1442.25 \n",
       "  1879.21,1442.27 1879.42,1442.29 1879.63,1442.31 1879.83,1442.33 1880.04,1442.35 1880.25,1442.36 1880.46,1442.38 1880.67,1442.4 1880.88,1442.42 1881.09,1442.44 \n",
       "  1881.3,1442.45 1881.5,1442.47 1881.71,1442.49 1881.92,1442.51 1882.13,1442.52 1882.34,1442.54 1882.55,1442.56 1882.76,1442.58 1882.97,1442.59 1883.17,1442.61 \n",
       "  1883.38,1442.63 1883.59,1442.64 1883.8,1442.66 1884.01,1442.68 1884.22,1442.69 1884.43,1442.71 1884.64,1442.73 1884.84,1442.74 1885.05,1442.76 1885.26,1442.77 \n",
       "  1885.47,1442.79 1885.68,1442.81 1885.89,1442.82 1886.1,1442.84 1886.3,1442.85 1886.51,1442.87 1886.72,1442.88 1886.93,1442.9 1887.14,1442.92 1887.35,1442.93 \n",
       "  1887.56,1442.95 1887.77,1442.96 1887.97,1442.98 1888.18,1442.99 1888.39,1443.01 1888.6,1443.02 1888.81,1443.04 1889.02,1443.05 1889.23,1443.07 1889.44,1443.08 \n",
       "  1889.64,1443.09 1889.85,1443.11 1890.06,1443.12 1890.27,1443.14 1890.48,1443.15 1890.69,1443.17 1890.9,1443.18 1891.1,1443.19 1891.31,1443.21 1891.52,1443.22 \n",
       "  1891.73,1443.24 1891.94,1443.25 1892.15,1443.26 1892.36,1443.28 1892.57,1443.29 1892.77,1443.3 1892.98,1443.32 1893.19,1443.33 1893.4,1443.34 1893.61,1443.36 \n",
       "  1893.82,1443.37 1894.03,1443.38 1894.24,1443.4 1894.44,1443.41 1894.65,1443.42 1894.86,1443.43 1895.07,1443.45 1895.28,1443.46 1895.49,1443.47 1895.7,1443.48 \n",
       "  1895.91,1443.5 1896.11,1443.51 1896.32,1443.52 1896.53,1443.53 1896.74,1443.55 1896.95,1443.56 1897.16,1443.57 1897.37,1443.58 1897.57,1443.59 1897.78,1443.61 \n",
       "  1897.99,1443.62 1898.2,1443.63 1898.41,1443.64 1898.62,1443.65 1898.83,1443.66 1899.04,1443.68 1899.24,1443.69 1899.45,1443.7 1899.66,1443.71 1899.87,1443.72 \n",
       "  1900.08,1443.73 1900.29,1443.74 1900.5,1443.75 1900.71,1443.76 1900.91,1443.78 1901.12,1443.79 1901.33,1443.8 1901.54,1443.81 1901.75,1443.82 1901.96,1443.83 \n",
       "  1902.17,1443.84 1902.38,1443.85 1902.58,1443.86 1902.79,1443.87 1903,1443.88 1903.21,1443.89 1903.42,1443.9 1903.63,1443.91 1903.84,1443.92 1904.04,1443.93 \n",
       "  1904.25,1443.94 1904.46,1443.95 1904.67,1443.96 1904.88,1443.97 1905.09,1443.98 1905.3,1443.99 1905.51,1444 1905.71,1444.01 1905.92,1444.02 1906.13,1444.03 \n",
       "  1906.34,1444.04 1906.55,1444.05 1906.76,1444.06 1906.97,1444.07 1907.18,1444.08 1907.38,1444.09 1907.59,1444.1 1907.8,1444.11 1908.01,1444.12 1908.22,1444.12 \n",
       "  1908.43,1444.13 1908.64,1444.14 1908.84,1444.15 1909.05,1444.16 1909.26,1444.17 1909.47,1444.18 1909.68,1444.19 1909.89,1444.2 1910.1,1444.2 1910.31,1444.21 \n",
       "  1910.51,1444.22 1910.72,1444.23 1910.93,1444.24 1911.14,1444.25 1911.35,1444.26 1911.56,1444.26 1911.77,1444.27 1911.98,1444.28 1912.18,1444.29 1912.39,1444.3 \n",
       "  1912.6,1444.31 1912.81,1444.31 1913.02,1444.32 1913.23,1444.33 1913.44,1444.34 1913.65,1444.35 1913.85,1444.35 1914.06,1444.36 1914.27,1444.37 1914.48,1444.38 \n",
       "  1914.69,1444.38 1914.9,1444.39 1915.11,1444.4 1915.31,1444.41 1915.52,1444.41 1915.73,1444.42 1915.94,1444.43 1916.15,1444.44 1916.36,1444.44 1916.57,1444.45 \n",
       "  1916.78,1444.46 1916.98,1444.47 1917.19,1444.47 1917.4,1444.48 1917.61,1444.49 1917.82,1444.5 1918.03,1444.5 1918.24,1444.51 1918.45,1444.52 1918.65,1444.52 \n",
       "  1918.86,1444.53 1919.07,1444.54 1919.28,1444.54 1919.49,1444.55 1919.7,1444.56 1919.91,1444.56 1920.12,1444.57 1920.32,1444.58 1920.53,1444.58 1920.74,1444.59 \n",
       "  1920.95,1444.6 1921.16,1444.6 1921.37,1444.61 1921.58,1444.62 1921.78,1444.62 1921.99,1444.63 1922.2,1444.64 1922.41,1444.64 1922.62,1444.65 1922.83,1444.65 \n",
       "  1923.04,1444.66 1923.25,1444.67 1923.45,1444.67 1923.66,1444.68 1923.87,1444.69 1924.08,1444.69 1924.29,1444.7 1924.5,1444.7 1924.71,1444.71 1924.92,1444.72 \n",
       "  1925.12,1444.72 1925.33,1444.73 1925.54,1444.73 1925.75,1444.74 1925.96,1444.74 1926.17,1444.75 1926.38,1444.76 1926.58,1444.76 1926.79,1444.77 1927,1444.77 \n",
       "  1927.21,1444.78 1927.42,1444.78 1927.63,1444.79 1927.84,1444.79 1928.05,1444.8 1928.25,1444.81 1928.46,1444.81 1928.67,1444.82 1928.88,1444.82 1929.09,1444.83 \n",
       "  1929.3,1444.83 1929.51,1444.84 1929.72,1444.84 1929.92,1444.85 1930.13,1444.85 1930.34,1444.86 1930.55,1444.86 1930.76,1444.87 1930.97,1444.87 1931.18,1444.88 \n",
       "  1931.39,1444.88 1931.59,1444.89 1931.8,1444.89 1932.01,1444.9 1932.22,1444.9 1932.43,1444.91 1932.64,1444.91 1932.85,1444.92 1933.05,1444.92 1933.26,1444.93 \n",
       "  1933.47,1444.93 1933.68,1444.94 1933.89,1444.94 1934.1,1444.95 1934.31,1444.95 1934.52,1444.95 1934.72,1444.96 1934.93,1444.96 1935.14,1444.97 1935.35,1444.97 \n",
       "  1935.56,1444.98 1935.77,1444.98 1935.98,1444.99 1936.19,1444.99 1936.39,1444.99 1936.6,1445 1936.81,1445 1937.02,1445.01 1937.23,1445.01 1937.44,1445.02 \n",
       "  1937.65,1445.02 1937.86,1445.02 1938.06,1445.03 1938.27,1445.03 1938.48,1445.04 1938.69,1445.04 1938.9,1445.04 1939.11,1445.05 1939.32,1445.05 1939.52,1445.06 \n",
       "  1939.73,1445.06 1939.94,1445.06 1940.15,1445.07 1940.36,1445.07 1940.57,1445.08 1940.78,1445.08 1940.99,1445.08 1941.19,1445.09 1941.4,1445.09 1941.61,1445.1 \n",
       "  1941.82,1445.1 1942.03,1445.1 1942.24,1445.11 1942.45,1445.11 1942.66,1445.11 1942.86,1445.12 1943.07,1445.12 1943.28,1445.12 1943.49,1445.13 1943.7,1445.13 \n",
       "  1943.91,1445.14 1944.12,1445.14 1944.32,1445.14 1944.53,1445.15 1944.74,1445.15 1944.95,1445.15 1945.16,1445.16 1945.37,1445.16 1945.58,1445.16 1945.79,1445.17 \n",
       "  1945.99,1445.17 1946.2,1445.17 1946.41,1445.18 1946.62,1445.18 1946.83,1445.18 1947.04,1445.19 1947.25,1445.19 1947.46,1445.19 1947.66,1445.2 1947.87,1445.2 \n",
       "  1948.08,1445.2 1948.29,1445.21 1948.5,1445.21 1948.71,1445.21 1948.92,1445.21 1949.13,1445.22 1949.33,1445.22 1949.54,1445.22 1949.75,1445.23 1949.96,1445.23 \n",
       "  1950.17,1445.23 1950.38,1445.24 1950.59,1445.24 1950.79,1445.24 1951,1445.24 1951.21,1445.25 1951.42,1445.25 1951.63,1445.25 1951.84,1445.26 1952.05,1445.26 \n",
       "  1952.26,1445.26 1952.46,1445.26 1952.67,1445.27 1952.88,1445.27 1953.09,1445.27 1953.3,1445.28 1953.51,1445.28 1953.72,1445.28 1953.93,1445.28 1954.13,1445.29 \n",
       "  1954.34,1445.29 1954.55,1445.29 1954.76,1445.29 1954.97,1445.3 1955.18,1445.3 1955.39,1445.3 1955.6,1445.3 1955.8,1445.31 1956.01,1445.31 1956.22,1445.31 \n",
       "  1956.43,1445.31 1956.64,1445.32 1956.85,1445.32 1957.06,1445.32 1957.26,1445.32 1957.47,1445.33 1957.68,1445.33 1957.89,1445.33 1958.1,1445.33 1958.31,1445.34 \n",
       "  1958.52,1445.34 1958.73,1445.34 1958.93,1445.34 1959.14,1445.35 1959.35,1445.35 1959.56,1445.35 1959.77,1445.35 1959.98,1445.35 1960.19,1445.36 1960.4,1445.36 \n",
       "  1960.6,1445.36 1960.81,1445.36 1961.02,1445.37 1961.23,1445.37 1961.44,1445.37 1961.65,1445.37 1961.86,1445.37 1962.06,1445.38 1962.27,1445.38 1962.48,1445.38 \n",
       "  1962.69,1445.38 1962.9,1445.39 1963.11,1445.39 1963.32,1445.39 1963.53,1445.39 1963.73,1445.39 1963.94,1445.4 1964.15,1445.4 1964.36,1445.4 1964.57,1445.4 \n",
       "  1964.78,1445.4 1964.99,1445.41 1965.2,1445.41 1965.4,1445.41 1965.61,1445.41 1965.82,1445.41 1966.03,1445.41 1966.24,1445.42 1966.45,1445.42 1966.66,1445.42 \n",
       "  1966.87,1445.42 1967.07,1445.42 1967.28,1445.43 1967.49,1445.43 1967.7,1445.43 1967.91,1445.43 1968.12,1445.43 1968.33,1445.44 1968.53,1445.44 1968.74,1445.44 \n",
       "  1968.95,1445.44 1969.16,1445.44 1969.37,1445.44 1969.58,1445.45 1969.79,1445.45 1970,1445.45 1970.2,1445.45 1970.41,1445.45 1970.62,1445.45 1970.83,1445.46 \n",
       "  1971.04,1445.46 1971.25,1445.46 1971.46,1445.46 1971.67,1445.46 1971.87,1445.46 1972.08,1445.47 1972.29,1445.47 1972.5,1445.47 1972.71,1445.47 1972.92,1445.47 \n",
       "  1973.13,1445.47 1973.34,1445.47 1973.54,1445.48 1973.75,1445.48 1973.96,1445.48 1974.17,1445.48 1974.38,1445.48 1974.59,1445.48 1974.8,1445.49 1975,1445.49 \n",
       "  1975.21,1445.49 1975.42,1445.49 1975.63,1445.49 1975.84,1445.49 1976.05,1445.49 1976.26,1445.5 1976.47,1445.5 1976.67,1445.5 1976.88,1445.5 1977.09,1445.5 \n",
       "  1977.3,1445.5 1977.51,1445.5 1977.72,1445.51 1977.93,1445.51 1978.14,1445.51 1978.34,1445.51 1978.55,1445.51 1978.76,1445.51 1978.97,1445.51 1979.18,1445.51 \n",
       "  1979.39,1445.52 1979.6,1445.52 1979.8,1445.52 1980.01,1445.52 1980.22,1445.52 1980.43,1445.52 1980.64,1445.52 1980.85,1445.52 1981.06,1445.53 1981.27,1445.53 \n",
       "  1981.47,1445.53 1981.68,1445.53 1981.89,1445.53 1982.1,1445.53 1982.31,1445.53 1982.52,1445.53 1982.73,1445.54 1982.94,1445.54 1983.14,1445.54 1983.35,1445.54 \n",
       "  1983.56,1445.54 1983.77,1445.54 1983.98,1445.54 1984.19,1445.54 1984.4,1445.54 1984.61,1445.55 1984.81,1445.55 1985.02,1445.55 1985.23,1445.55 1985.44,1445.55 \n",
       "  1985.65,1445.55 1985.86,1445.55 1986.07,1445.55 1986.27,1445.55 1986.48,1445.56 1986.69,1445.56 1986.9,1445.56 1987.11,1445.56 1987.32,1445.56 1987.53,1445.56 \n",
       "  1987.74,1445.56 1987.94,1445.56 1988.15,1445.56 1988.36,1445.56 1988.57,1445.57 1988.78,1445.57 1988.99,1445.57 1989.2,1445.57 1989.41,1445.57 1989.61,1445.57 \n",
       "  1989.82,1445.57 1990.03,1445.57 1990.24,1445.57 1990.45,1445.57 1990.66,1445.58 1990.87,1445.58 1991.07,1445.58 1991.28,1445.58 1991.49,1445.58 1991.7,1445.58 \n",
       "  1991.91,1445.58 1992.12,1445.58 1992.33,1445.58 1992.54,1445.58 1992.74,1445.58 1992.95,1445.58 1993.16,1445.59 1993.37,1445.59 1993.58,1445.59 1993.79,1445.59 \n",
       "  1994,1445.59 1994.21,1445.59 1994.41,1445.59 1994.62,1445.59 1994.83,1445.59 1995.04,1445.59 1995.25,1445.59 1995.46,1445.59 1995.67,1445.6 1995.88,1445.6 \n",
       "  1996.08,1445.6 1996.29,1445.6 1996.5,1445.6 1996.71,1445.6 1996.92,1445.6 1997.13,1445.6 1997.34,1445.6 1997.54,1445.6 1997.75,1445.6 1997.96,1445.6 \n",
       "  1998.17,1445.6 1998.38,1445.61 1998.59,1445.61 1998.8,1445.61 1999.01,1445.61 1999.21,1445.61 1999.42,1445.61 1999.63,1445.61 1999.84,1445.61 2000.05,1445.61 \n",
       "  2000.26,1445.61 2000.47,1445.61 2000.68,1445.61 2000.88,1445.61 2001.09,1445.61 2001.3,1445.62 2001.51,1445.62 2001.72,1445.62 2001.93,1445.62 2002.14,1445.62 \n",
       "  2002.35,1445.62 2002.55,1445.62 2002.76,1445.62 2002.97,1445.62 2003.18,1445.62 2003.39,1445.62 2003.6,1445.62 2003.81,1445.62 2004.01,1445.62 2004.22,1445.62 \n",
       "  2004.43,1445.62 2004.64,1445.63 2004.85,1445.63 2005.06,1445.63 2005.27,1445.63 2005.48,1445.63 2005.68,1445.63 2005.89,1445.63 2006.1,1445.63 2006.31,1445.63 \n",
       "  2006.52,1445.63 2006.73,1445.63 2006.94,1445.63 2007.15,1445.63 2007.35,1445.63 2007.56,1445.63 2007.77,1445.63 2007.98,1445.63 2008.19,1445.64 2008.4,1445.64 \n",
       "  2008.61,1445.64 2008.81,1445.64 2009.02,1445.64 2009.23,1445.64 2009.44,1445.64 2009.65,1445.64 2009.86,1445.64 2010.07,1445.64 2010.28,1445.64 2010.48,1445.64 \n",
       "  2010.69,1445.64 2010.9,1445.64 2011.11,1445.64 2011.32,1445.64 2011.53,1445.64 2011.74,1445.64 2011.95,1445.64 2012.15,1445.65 2012.36,1445.65 2012.57,1445.65 \n",
       "  2012.78,1445.65 2012.99,1445.65 2013.2,1445.65 2013.41,1445.65 2013.62,1445.65 2013.82,1445.65 2014.03,1445.65 2014.24,1445.65 2014.45,1445.65 2014.66,1445.65 \n",
       "  2014.87,1445.65 2015.08,1445.65 2015.28,1445.65 2015.49,1445.65 2015.7,1445.65 2015.91,1445.65 2016.12,1445.65 2016.33,1445.65 2016.54,1445.65 2016.75,1445.65 \n",
       "  2016.95,1445.66 2017.16,1445.66 2017.37,1445.66 2017.58,1445.66 2017.79,1445.66 2018,1445.66 2018.21,1445.66 2018.42,1445.66 2018.62,1445.66 2018.83,1445.66 \n",
       "  2019.04,1445.66 2019.25,1445.66 2019.46,1445.66 2019.67,1445.66 2019.88,1445.66 2020.09,1445.66 2020.29,1445.66 2020.5,1445.66 2020.71,1445.66 2020.92,1445.66 \n",
       "  2021.13,1445.66 2021.34,1445.66 2021.55,1445.66 2021.75,1445.66 2021.96,1445.66 2022.17,1445.66 2022.38,1445.67 2022.59,1445.67 2022.8,1445.67 2023.01,1445.67 \n",
       "  2023.22,1445.67 2023.42,1445.67 2023.63,1445.67 2023.84,1445.67 2024.05,1445.67 2024.26,1445.67 2024.47,1445.67 2024.68,1445.67 2024.89,1445.67 2025.09,1445.67 \n",
       "  2025.3,1445.67 2025.51,1445.67 2025.72,1445.67 2025.93,1445.67 2026.14,1445.67 2026.35,1445.67 2026.55,1445.67 2026.76,1445.67 2026.97,1445.67 2027.18,1445.67 \n",
       "  2027.39,1445.67 2027.6,1445.67 2027.81,1445.67 2028.02,1445.67 2028.22,1445.67 2028.43,1445.67 2028.64,1445.67 2028.85,1445.67 2029.06,1445.68 2029.27,1445.68 \n",
       "  2029.48,1445.68 2029.69,1445.68 2029.89,1445.68 2030.1,1445.68 2030.31,1445.68 2030.52,1445.68 2030.73,1445.68 2030.94,1445.68 2031.15,1445.68 2031.36,1445.68 \n",
       "  2031.56,1445.68 2031.77,1445.68 2031.98,1445.68 2032.19,1445.68 2032.4,1445.68 2032.61,1445.68 2032.82,1445.68 2033.02,1445.68 2033.23,1445.68 2033.44,1445.68 \n",
       "  2033.65,1445.68 2033.86,1445.68 2034.07,1445.68 2034.28,1445.68 2034.49,1445.68 2034.69,1445.68 2034.9,1445.68 2035.11,1445.68 2035.32,1445.68 2035.53,1445.68 \n",
       "  2035.74,1445.68 2035.95,1445.68 2036.16,1445.68 2036.36,1445.68 2036.57,1445.68 2036.78,1445.68 2036.99,1445.68 2037.2,1445.68 2037.41,1445.69 2037.62,1445.69 \n",
       "  2037.83,1445.69 2038.03,1445.69 2038.24,1445.69 2038.45,1445.69 2038.66,1445.69 2038.87,1445.69 2039.08,1445.69 2039.29,1445.69 2039.49,1445.69 2039.7,1445.69 \n",
       "  2039.91,1445.69 2040.12,1445.69 2040.33,1445.69 2040.54,1445.69 2040.75,1445.69 2040.96,1445.69 2041.16,1445.69 2041.37,1445.69 2041.58,1445.69 2041.79,1445.69 \n",
       "  2042,1445.69 2042.21,1445.69 2042.42,1445.69 2042.63,1445.69 2042.83,1445.69 2043.04,1445.69 2043.25,1445.69 2043.46,1445.69 2043.67,1445.69 2043.88,1445.69 \n",
       "  2044.09,1445.69 2044.29,1445.69 2044.5,1445.69 2044.71,1445.69 2044.92,1445.69 2045.13,1445.69 2045.34,1445.69 2045.55,1445.69 2045.76,1445.69 2045.96,1445.69 \n",
       "  2046.17,1445.69 2046.38,1445.69 2046.59,1445.69 2046.8,1445.69 2047.01,1445.69 2047.22,1445.69 2047.43,1445.69 2047.63,1445.69 2047.84,1445.69 2048.05,1445.69 \n",
       "  2048.26,1445.69 2048.47,1445.69 2048.68,1445.69 2048.89,1445.7 2049.1,1445.7 2049.3,1445.7 2049.51,1445.7 2049.72,1445.7 2049.93,1445.7 2050.14,1445.7 \n",
       "  2050.35,1445.7 2050.56,1445.7 2050.76,1445.7 2050.97,1445.7 2051.18,1445.7 2051.39,1445.7 2051.6,1445.7 2051.81,1445.7 2052.02,1445.7 2052.23,1445.7 \n",
       "  2052.43,1445.7 2052.64,1445.7 2052.85,1445.7 2053.06,1445.7 2053.27,1445.7 2053.48,1445.7 2053.69,1445.7 2053.9,1445.7 2054.1,1445.7 2054.31,1445.7 \n",
       "  2054.52,1445.7 2054.73,1445.7 2054.94,1445.7 2055.15,1445.7 2055.36,1445.7 2055.57,1445.7 2055.77,1445.7 2055.98,1445.7 2056.19,1445.7 2056.4,1445.7 \n",
       "  2056.61,1445.7 2056.82,1445.7 2057.03,1445.7 2057.23,1445.7 2057.44,1445.7 2057.65,1445.7 2057.86,1445.7 2058.07,1445.7 2058.28,1445.7 2058.49,1445.7 \n",
       "  2058.7,1445.7 2058.9,1445.7 2059.11,1445.7 2059.32,1445.7 2059.53,1445.7 2059.74,1445.7 2059.95,1445.7 2060.16,1445.7 2060.37,1445.7 2060.57,1445.7 \n",
       "  2060.78,1445.7 2060.99,1445.7 2061.2,1445.7 2061.41,1445.7 2061.62,1445.7 2061.83,1445.7 2062.03,1445.7 2062.24,1445.7 2062.45,1445.7 2062.66,1445.7 \n",
       "  2062.87,1445.7 2063.08,1445.7 2063.29,1445.7 2063.5,1445.7 2063.7,1445.7 2063.91,1445.7 2064.12,1445.7 2064.33,1445.7 2064.54,1445.7 2064.75,1445.7 \n",
       "  2064.96,1445.7 2065.17,1445.7 2065.37,1445.7 2065.58,1445.7 2065.79,1445.7 2066,1445.7 2066.21,1445.7 2066.42,1445.7 2066.63,1445.7 2066.84,1445.7 \n",
       "  2067.04,1445.7 2067.25,1445.7 2067.46,1445.7 2067.67,1445.7 2067.88,1445.71 2068.09,1445.71 2068.3,1445.71 2068.5,1445.71 2068.71,1445.71 2068.92,1445.71 \n",
       "  2069.13,1445.71 2069.34,1445.71 2069.55,1445.71 2069.76,1445.71 2069.97,1445.71 2070.17,1445.71 2070.38,1445.71 2070.59,1445.71 2070.8,1445.71 2071.01,1445.71 \n",
       "  2071.22,1445.71 2071.43,1445.71 2071.64,1445.71 2071.84,1445.71 2072.05,1445.71 2072.26,1445.71 2072.47,1445.71 2072.68,1445.71 2072.89,1445.71 2073.1,1445.71 \n",
       "  2073.31,1445.71 2073.51,1445.71 2073.72,1445.71 2073.93,1445.71 2074.14,1445.71 2074.35,1445.71 2074.56,1445.71 2074.77,1445.71 2074.97,1445.71 2075.18,1445.71 \n",
       "  2075.39,1445.71 2075.6,1445.71 2075.81,1445.71 2076.02,1445.71 2076.23,1445.71 2076.44,1445.71 2076.64,1445.71 2076.85,1445.71 2077.06,1445.71 2077.27,1445.71 \n",
       "  2077.48,1445.71 2077.69,1445.71 2077.9,1445.71 2078.11,1445.71 2078.31,1445.71 2078.52,1445.71 2078.73,1445.71 2078.94,1445.71 2079.15,1445.71 2079.36,1445.71 \n",
       "  2079.57,1445.71 2079.77,1445.71 2079.98,1445.71 2080.19,1445.71 2080.4,1445.71 2080.61,1445.71 2080.82,1445.71 2081.03,1445.71 2081.24,1445.71 2081.44,1445.71 \n",
       "  2081.65,1445.71 2081.86,1445.71 2082.07,1445.71 2082.28,1445.71 2082.49,1445.71 2082.7,1445.71 2082.91,1445.71 2083.11,1445.71 2083.32,1445.71 2083.53,1445.71 \n",
       "  2083.74,1445.71 2083.95,1445.71 2084.16,1445.71 2084.37,1445.71 2084.58,1445.71 2084.78,1445.71 2084.99,1445.71 2085.2,1445.71 2085.41,1445.71 2085.62,1445.71 \n",
       "  2085.83,1445.71 2086.04,1445.71 2086.24,1445.71 2086.45,1445.71 2086.66,1445.71 2086.87,1445.71 2087.08,1445.71 2087.29,1445.71 2087.5,1445.71 2087.71,1445.71 \n",
       "  2087.91,1445.71 2088.12,1445.71 2088.33,1445.71 2088.54,1445.71 2088.75,1445.71 2088.96,1445.71 2089.17,1445.71 2089.38,1445.71 2089.58,1445.71 2089.79,1445.71 \n",
       "  2090,1445.71 2090.21,1445.71 2090.42,1445.71 2090.63,1445.71 2090.84,1445.71 2091.05,1445.71 2091.25,1445.71 2091.46,1445.71 2091.67,1445.71 2091.88,1445.71 \n",
       "  2092.09,1445.71 2092.3,1445.71 2092.51,1445.71 2092.71,1445.71 2092.92,1445.71 2093.13,1445.71 2093.34,1445.71 2093.55,1445.71 2093.76,1445.71 2093.97,1445.71 \n",
       "  2094.18,1445.71 2094.38,1445.71 2094.59,1445.71 2094.8,1445.71 2095.01,1445.71 2095.22,1445.71 2095.43,1445.71 2095.64,1445.71 2095.85,1445.71 2096.05,1445.71 \n",
       "  2096.26,1445.71 2096.47,1445.71 2096.68,1445.71 2096.89,1445.71 2097.1,1445.71 2097.31,1445.71 2097.51,1445.71 2097.72,1445.71 2097.93,1445.71 2098.14,1445.71 \n",
       "  2098.35,1445.71 2098.56,1445.71 2098.77,1445.71 2098.98,1445.71 2099.18,1445.71 2099.39,1445.71 2099.6,1445.71 2099.81,1445.71 2100.02,1445.71 2100.23,1445.71 \n",
       "  2100.44,1445.71 2100.65,1445.71 2100.85,1445.71 2101.06,1445.71 2101.27,1445.71 2101.48,1445.71 2101.69,1445.71 2101.9,1445.71 2102.11,1445.71 2102.32,1445.71 \n",
       "  2102.52,1445.71 2102.73,1445.71 2102.94,1445.71 2103.15,1445.71 2103.36,1445.71 2103.57,1445.71 2103.78,1445.71 2103.98,1445.71 2104.19,1445.71 2104.4,1445.71 \n",
       "  2104.61,1445.71 2104.82,1445.71 2105.03,1445.71 2105.24,1445.71 2105.45,1445.71 2105.65,1445.71 2105.86,1445.71 2106.07,1445.71 2106.28,1445.71 2106.49,1445.71 \n",
       "  2106.7,1445.71 2106.91,1445.71 2107.12,1445.71 2107.32,1445.71 2107.53,1445.71 2107.74,1445.71 2107.95,1445.71 2108.16,1445.71 2108.37,1445.71 2108.58,1445.71 \n",
       "  2108.79,1445.71 2108.99,1445.71 2109.2,1445.71 2109.41,1445.71 2109.62,1445.71 2109.83,1445.71 2110.04,1445.71 2110.25,1445.71 2110.45,1445.71 2110.66,1445.71 \n",
       "  2110.87,1445.71 2111.08,1445.71 2111.29,1445.71 2111.5,1445.71 2111.71,1445.71 2111.92,1445.71 2112.12,1445.71 2112.33,1445.71 2112.54,1445.71 2112.75,1445.71 \n",
       "  2112.96,1445.71 2113.17,1445.71 2113.38,1445.71 2113.59,1445.71 2113.79,1445.71 2114,1445.71 2114.21,1445.71 2114.42,1445.71 2114.63,1445.71 2114.84,1445.71 \n",
       "  2115.05,1445.71 2115.25,1445.71 2115.46,1445.71 2115.67,1445.71 2115.88,1445.71 2116.09,1445.71 2116.3,1445.71 2116.51,1445.71 2116.72,1445.71 2116.92,1445.71 \n",
       "  2117.13,1445.71 2117.34,1445.71 2117.55,1445.71 2117.76,1445.71 2117.97,1445.71 2118.18,1445.71 2118.39,1445.71 2118.59,1445.71 2118.8,1445.71 2119.01,1445.71 \n",
       "  2119.22,1445.71 2119.43,1445.71 2119.64,1445.71 2119.85,1445.71 2120.06,1445.71 2120.26,1445.71 2120.47,1445.71 2120.68,1445.71 2120.89,1445.71 2121.1,1445.71 \n",
       "  2121.31,1445.71 2121.52,1445.71 2121.72,1445.71 2121.93,1445.71 2122.14,1445.71 2122.35,1445.71 2122.56,1445.71 2122.77,1445.71 2122.98,1445.71 2123.19,1445.71 \n",
       "  2123.39,1445.71 2123.6,1445.71 2123.81,1445.71 2124.02,1445.71 2124.23,1445.71 2124.44,1445.71 2124.65,1445.71 2124.86,1445.71 2125.06,1445.71 2125.27,1445.71 \n",
       "  2125.48,1445.71 2125.69,1445.71 2125.9,1445.71 2126.11,1445.71 2126.32,1445.71 2126.53,1445.71 2126.73,1445.71 2126.94,1445.71 2127.15,1445.71 2127.36,1445.71 \n",
       "  2127.57,1445.71 2127.78,1445.71 2127.99,1445.71 2128.19,1445.71 2128.4,1445.71 2128.61,1445.71 2128.82,1445.71 2129.03,1445.71 2129.24,1445.71 2129.45,1445.71 \n",
       "  2129.66,1445.71 2129.86,1445.71 2130.07,1445.71 2130.28,1445.71 2130.49,1445.71 2130.7,1445.71 2130.91,1445.71 2131.12,1445.71 2131.33,1445.71 2131.53,1445.71 \n",
       "  2131.74,1445.71 2131.95,1445.71 2132.16,1445.71 2132.37,1445.71 2132.58,1445.71 2132.79,1445.71 2132.99,1445.71 2133.2,1445.71 2133.41,1445.71 2133.62,1445.71 \n",
       "  2133.83,1445.71 2134.04,1445.71 2134.25,1445.71 2134.46,1445.71 2134.66,1445.71 2134.87,1445.71 2135.08,1445.71 2135.29,1445.71 2135.5,1445.71 2135.71,1445.71 \n",
       "  2135.92,1445.71 2136.13,1445.71 2136.33,1445.71 2136.54,1445.71 2136.75,1445.71 2136.96,1445.71 2137.17,1445.71 2137.38,1445.71 2137.59,1445.71 2137.8,1445.71 \n",
       "  2138,1445.71 2138.21,1445.71 2138.42,1445.71 2138.63,1445.71 2138.84,1445.71 2139.05,1445.71 2139.26,1445.71 2139.46,1445.71 2139.67,1445.71 2139.88,1445.71 \n",
       "  2140.09,1445.71 2140.3,1445.71 2140.51,1445.71 2140.72,1445.71 2140.93,1445.71 2141.13,1445.71 2141.34,1445.71 2141.55,1445.71 2141.76,1445.72 2141.97,1445.72 \n",
       "  2142.18,1445.72 2142.39,1445.72 2142.6,1445.72 2142.8,1445.72 2143.01,1445.72 2143.22,1445.72 2143.43,1445.72 2143.64,1445.72 2143.85,1445.72 2144.06,1445.72 \n",
       "  2144.27,1445.72 2144.47,1445.72 2144.68,1445.72 2144.89,1445.72 2145.1,1445.72 2145.31,1445.72 2145.52,1445.72 2145.73,1445.72 2145.93,1445.72 2146.14,1445.72 \n",
       "  2146.35,1445.72 2146.56,1445.72 2146.77,1445.72 2146.98,1445.72 2147.19,1445.72 2147.4,1445.72 2147.6,1445.72 2147.81,1445.72 2148.02,1445.72 2148.23,1445.72 \n",
       "  2148.44,1445.72 2148.65,1445.72 2148.86,1445.72 2149.07,1445.72 2149.27,1445.72 2149.48,1445.72 2149.69,1445.72 2149.9,1445.72 2150.11,1445.72 2150.32,1445.72 \n",
       "  2150.53,1445.72 2150.73,1445.72 2150.94,1445.72 2151.15,1445.72 2151.36,1445.72 2151.57,1445.72 2151.78,1445.72 2151.99,1445.72 2152.2,1445.72 2152.4,1445.72 \n",
       "  2152.61,1445.72 2152.82,1445.72 2153.03,1445.72 2153.24,1445.72 2153.45,1445.72 2153.66,1445.72 2153.87,1445.72 2154.07,1445.72 2154.28,1445.72 2154.49,1445.72 \n",
       "  2154.7,1445.72 2154.91,1445.72 2155.12,1445.72 2155.33,1445.72 2155.54,1445.72 2155.74,1445.72 2155.95,1445.72 2156.16,1445.72 2156.37,1445.72 2156.58,1445.72 \n",
       "  2156.79,1445.72 2157,1445.72 2157.2,1445.72 2157.41,1445.72 2157.62,1445.72 2157.83,1445.72 2158.04,1445.72 2158.25,1445.72 2158.46,1445.72 2158.67,1445.72 \n",
       "  2158.87,1445.72 2159.08,1445.72 2159.29,1445.72 2159.5,1445.72 2159.71,1445.72 2159.92,1445.72 2160.13,1445.72 2160.34,1445.72 2160.54,1445.72 2160.75,1445.72 \n",
       "  2160.96,1445.72 2161.17,1445.72 2161.38,1445.72 2161.59,1445.72 2161.8,1445.72 2162.01,1445.72 2162.21,1445.72 2162.42,1445.72 2162.63,1445.72 2162.84,1445.72 \n",
       "  2163.05,1445.72 2163.26,1445.72 2163.47,1445.72 2163.67,1445.72 2163.88,1445.72 2164.09,1445.72 2164.3,1445.72 2164.51,1445.72 2164.72,1445.72 2164.93,1445.72 \n",
       "  2165.14,1445.72 2165.34,1445.72 2165.55,1445.72 2165.76,1445.72 2165.97,1445.72 2166.18,1445.72 2166.39,1445.72 2166.6,1445.72 2166.81,1445.72 2167.01,1445.72 \n",
       "  2167.22,1445.72 2167.43,1445.72 2167.64,1445.72 2167.85,1445.72 2168.06,1445.72 2168.27,1445.72 2168.47,1445.72 2168.68,1445.72 2168.89,1445.72 2169.1,1445.72 \n",
       "  2169.31,1445.72 2169.52,1445.72 2169.73,1445.72 2169.94,1445.72 2170.14,1445.72 2170.35,1445.72 2170.56,1445.72 2170.77,1445.72 2170.98,1445.72 2171.19,1445.72 \n",
       "  2171.4,1445.72 2171.61,1445.72 2171.81,1445.72 2172.02,1445.72 2172.23,1445.72 2172.44,1445.72 2172.65,1445.72 2172.86,1445.72 2173.07,1445.72 2173.28,1445.72 \n",
       "  2173.48,1445.72 2173.69,1445.72 2173.9,1445.72 2174.11,1445.72 2174.32,1445.72 2174.53,1445.72 2174.74,1445.72 2174.94,1445.72 2175.15,1445.72 2175.36,1445.72 \n",
       "  2175.57,1445.72 2175.78,1445.72 2175.99,1445.72 2176.2,1445.72 2176.41,1445.72 2176.61,1445.72 2176.82,1445.72 2177.03,1445.72 2177.24,1445.72 2177.45,1445.72 \n",
       "  2177.66,1445.72 2177.87,1445.72 2178.08,1445.72 2178.28,1445.72 2178.49,1445.72 2178.7,1445.72 2178.91,1445.72 2179.12,1445.72 2179.33,1445.72 2179.54,1445.72 \n",
       "  2179.75,1445.72 2179.95,1445.72 2180.16,1445.72 2180.37,1445.72 2180.58,1445.72 2180.79,1445.72 2181,1445.72 2181.21,1445.72 2181.41,1445.72 2181.62,1445.72 \n",
       "  2181.83,1445.72 2182.04,1445.72 2182.25,1445.72 2182.46,1445.72 2182.67,1445.72 2182.88,1445.72 2183.08,1445.72 2183.29,1445.72 2183.5,1445.72 2183.71,1445.72 \n",
       "  2183.92,1445.72 2184.13,1445.72 2184.34,1445.72 2184.55,1445.72 2184.75,1445.72 2184.96,1445.72 2185.17,1445.72 2185.38,1445.72 2185.59,1445.72 2185.8,1445.72 \n",
       "  2186.01,1445.72 2186.21,1445.72 2186.42,1445.72 2186.63,1445.72 2186.84,1445.72 2187.05,1445.72 2187.26,1445.72 2187.47,1445.72 2187.68,1445.72 2187.88,1445.72 \n",
       "  2188.09,1445.72 2188.3,1445.72 2188.51,1445.72 2188.72,1445.72 2188.93,1445.72 2189.14,1445.72 2189.35,1445.72 2189.55,1445.72 2189.76,1445.72 2189.97,1445.72 \n",
       "  2190.18,1445.72 2190.39,1445.72 2190.6,1445.72 2190.81,1445.72 2191.02,1445.72 2191.22,1445.72 2191.43,1445.72 2191.64,1445.72 2191.85,1445.72 2192.06,1445.72 \n",
       "  2192.27,1445.72 2192.48,1445.72 2192.68,1445.72 2192.89,1445.72 2193.1,1445.72 2193.31,1445.72 2193.52,1445.72 2193.73,1445.72 2193.94,1445.72 2194.15,1445.72 \n",
       "  2194.35,1445.72 2194.56,1445.72 2194.77,1445.72 2194.98,1445.72 2195.19,1445.72 2195.4,1445.72 2195.61,1445.72 2195.82,1445.72 2196.02,1445.72 2196.23,1445.72 \n",
       "  2196.44,1445.72 2196.65,1445.72 2196.86,1445.72 2197.07,1445.72 2197.28,1445.72 2197.49,1445.72 2197.69,1445.72 2197.9,1445.72 2198.11,1445.72 2198.32,1445.72 \n",
       "  2198.53,1445.72 2198.74,1445.72 2198.95,1445.72 2199.15,1445.72 2199.36,1445.72 2199.57,1445.72 2199.78,1445.72 2199.99,1445.72 2200.2,1445.72 2200.41,1445.72 \n",
       "  2200.62,1445.72 2200.82,1445.72 2201.03,1445.72 2201.24,1445.72 2201.45,1445.72 2201.66,1445.72 2201.87,1445.72 2202.08,1445.72 2202.29,1445.72 2202.49,1445.72 \n",
       "  2202.7,1445.72 2202.91,1445.72 2203.12,1445.72 2203.33,1445.72 2203.54,1445.72 2203.75,1445.72 2203.95,1445.72 2204.16,1445.72 2204.37,1445.72 2204.58,1445.72 \n",
       "  2204.79,1445.72 2205,1445.72 2205.21,1445.72 2205.42,1445.72 2205.62,1445.72 2205.83,1445.72 2206.04,1445.72 2206.25,1445.72 2206.46,1445.72 2206.67,1445.72 \n",
       "  2206.88,1445.72 2207.09,1445.72 2207.29,1445.72 2207.5,1445.72 2207.71,1445.72 2207.92,1445.72 2208.13,1445.72 2208.34,1445.72 2208.55,1445.72 2208.76,1445.72 \n",
       "  2208.96,1445.72 2209.17,1445.72 2209.38,1445.72 2209.59,1445.72 2209.8,1445.72 2210.01,1445.72 2210.22,1445.72 2210.42,1445.72 2210.63,1445.72 2210.84,1445.72 \n",
       "  2211.05,1445.72 2211.26,1445.72 2211.47,1445.72 2211.68,1445.72 2211.89,1445.72 2212.09,1445.72 2212.3,1445.72 2212.51,1445.72 2212.72,1445.72 2212.93,1445.72 \n",
       "  2213.14,1445.72 2213.35,1445.72 2213.56,1445.72 2213.76,1445.72 2213.97,1445.72 2214.18,1445.72 2214.39,1445.72 2214.6,1445.72 2214.81,1445.72 2215.02,1445.72 \n",
       "  2215.23,1445.72 2215.43,1445.72 2215.64,1445.72 2215.85,1445.72 2216.06,1445.72 2216.27,1445.72 2216.48,1445.72 2216.69,1445.72 2216.89,1445.72 2217.1,1445.72 \n",
       "  2217.31,1445.72 2217.52,1445.72 2217.73,1445.72 2217.94,1445.72 2218.15,1445.72 2218.36,1445.72 2218.56,1445.72 2218.77,1445.72 2218.98,1445.72 2219.19,1445.72 \n",
       "  2219.4,1445.72 2219.61,1445.72 2219.82,1445.72 2220.03,1445.72 2220.23,1445.72 2220.44,1445.72 2220.65,1445.72 2220.86,1445.72 2221.07,1445.72 2221.28,1445.72 \n",
       "  2221.49,1445.72 2221.69,1445.72 2221.9,1445.72 2222.11,1445.72 2222.32,1445.72 2222.53,1445.72 2222.74,1445.72 2222.95,1445.72 2223.16,1445.72 2223.36,1445.72 \n",
       "  2223.57,1445.72 2223.78,1445.72 2223.99,1445.72 2224.2,1445.72 2224.41,1445.72 2224.62,1445.72 2224.83,1445.72 2225.03,1445.72 2225.24,1445.72 2225.45,1445.72 \n",
       "  2225.66,1445.72 2225.87,1445.72 2226.08,1445.72 2226.29,1445.72 2226.5,1445.72 2226.7,1445.72 2226.91,1445.72 2227.12,1445.72 2227.33,1445.72 2227.54,1445.72 \n",
       "  2227.75,1445.72 2227.96,1445.72 2228.16,1445.72 2228.37,1445.72 2228.58,1445.72 2228.79,1445.72 2229,1445.72 2229.21,1445.72 2229.42,1445.72 2229.63,1445.72 \n",
       "  2229.83,1445.72 2230.04,1445.72 2230.25,1445.72 2230.46,1445.72 2230.67,1445.72 2230.88,1445.72 2231.09,1445.72 2231.3,1445.72 2231.5,1445.72 2231.71,1445.72 \n",
       "  2231.92,1445.72 2232.13,1445.72 2232.34,1445.72 2232.55,1445.72 2232.76,1445.72 2232.97,1445.72 2233.17,1445.72 2233.38,1445.72 2233.59,1445.72 2233.8,1445.72 \n",
       "  2234.01,1445.72 2234.22,1445.72 2234.43,1445.72 2234.63,1445.72 2234.84,1445.72 2235.05,1445.72 2235.26,1445.72 2235.47,1445.72 2235.68,1445.72 2235.89,1445.72 \n",
       "  2236.1,1445.72 2236.3,1445.72 2236.51,1445.72 2236.72,1445.72 2236.93,1445.72 2237.14,1445.72 2237.35,1445.72 2237.56,1445.72 2237.77,1445.72 2237.97,1445.72 \n",
       "  2238.18,1445.72 2238.39,1445.72 2238.6,1445.72 2238.81,1445.72 2239.02,1445.72 2239.23,1445.72 2239.43,1445.72 2239.64,1445.72 2239.85,1445.72 2240.06,1445.72 \n",
       "  2240.27,1445.72 2240.48,1445.72 2240.69,1445.72 2240.9,1445.72 2241.1,1445.72 2241.31,1445.72 2241.52,1445.72 2241.73,1445.72 2241.94,1445.72 2242.15,1445.72 \n",
       "  2242.36,1445.72 2242.57,1445.72 2242.77,1445.72 2242.98,1445.72 2243.19,1445.72 2243.4,1445.72 2243.61,1445.72 2243.82,1445.72 2244.03,1445.72 2244.24,1445.72 \n",
       "  2244.44,1445.72 2244.65,1445.72 2244.86,1445.72 2245.07,1445.72 2245.28,1445.72 2245.49,1445.72 2245.7,1445.72 2245.9,1445.72 2246.11,1445.72 2246.32,1445.72 \n",
       "  2246.53,1445.72 2246.74,1445.72 2246.95,1445.72 2247.16,1445.72 2247.37,1445.72 2247.57,1445.72 2247.78,1445.72 2247.99,1445.72 2248.2,1445.72 2248.41,1445.72 \n",
       "  2248.62,1445.72 2248.83,1445.72 2249.04,1445.72 2249.24,1445.72 2249.45,1445.72 2249.66,1445.72 2249.87,1445.72 2250.08,1445.72 2250.29,1445.72 2250.5,1445.72 \n",
       "  2250.71,1445.72 2250.91,1445.72 2251.12,1445.72 2251.33,1445.72 2251.54,1445.72 2251.75,1445.72 2251.96,1445.72 2252.17,1445.72 2252.37,1445.72 2252.58,1445.72 \n",
       "  2252.79,1445.72 2253,1445.72 2253.21,1445.72 2253.42,1445.72 2253.63,1445.72 2253.84,1445.72 2254.04,1445.72 2254.25,1445.72 2254.46,1445.72 2254.67,1445.72 \n",
       "  2254.88,1445.72 2255.09,1445.72 2255.3,1445.72 2255.51,1445.72 2255.71,1445.72 2255.92,1445.72 2256.13,1445.72 2256.34,1445.72 2256.55,1445.72 2256.76,1445.72 \n",
       "  2256.97,1445.72 2257.17,1445.72 2257.38,1445.72 2257.59,1445.72 2257.8,1445.72 2258.01,1445.72 2258.22,1445.72 2258.43,1445.72 2258.64,1445.72 2258.84,1445.72 \n",
       "  2259.05,1445.72 2259.26,1445.72 2259.47,1445.72 2259.68,1445.72 2259.89,1445.72 2260.1,1445.72 2260.31,1445.72 2260.51,1445.72 2260.72,1445.72 2260.93,1445.72 \n",
       "  2261.14,1445.72 2261.35,1445.72 2261.56,1445.72 2261.77,1445.72 2261.98,1445.72 2262.18,1445.72 2262.39,1445.72 2262.6,1445.72 2262.81,1445.72 2263.02,1445.72 \n",
       "  2263.23,1445.72 2263.44,1445.72 2263.64,1445.72 2263.85,1445.72 2264.06,1445.72 2264.27,1445.72 2264.48,1445.72 2264.69,1445.72 2264.9,1445.72 2265.11,1445.72 \n",
       "  2265.31,1445.72 2265.52,1445.72 2265.73,1445.72 2265.94,1445.72 2266.15,1445.72 2266.36,1445.72 2266.57,1445.72 2266.78,1445.72 2266.98,1445.72 2267.19,1445.72 \n",
       "  2267.4,1445.72 2267.61,1445.72 2267.82,1445.72 2268.03,1445.72 2268.24,1445.72 2268.45,1445.72 2268.65,1445.72 2268.86,1445.72 2269.07,1445.72 2269.28,1445.72 \n",
       "  2269.49,1445.72 2269.7,1445.72 2269.91,1445.72 2270.11,1445.72 2270.32,1445.72 2270.53,1445.72 2270.74,1445.72 2270.95,1445.72 2271.16,1445.72 2271.37,1445.72 \n",
       "  2271.58,1445.72 2271.78,1445.72 2271.99,1445.72 2272.2,1445.72 2272.41,1445.72 2272.62,1445.72 2272.83,1445.72 2273.04,1445.72 2273.25,1445.72 2273.45,1445.72 \n",
       "  2273.66,1445.72 2273.87,1445.72 2274.08,1445.72 2274.29,1445.72 2274.5,1445.72 2274.71,1445.72 2274.91,1445.72 2275.12,1445.72 2275.33,1445.72 2275.54,1445.72 \n",
       "  2275.75,1445.72 2275.96,1445.72 2276.17,1445.72 2276.38,1445.72 2276.58,1445.72 2276.79,1445.72 2277,1445.72 2277.21,1445.72 2277.42,1445.72 2277.63,1445.72 \n",
       "  2277.84,1445.72 2278.05,1445.72 2278.25,1445.72 2278.46,1445.72 2278.67,1445.72 2278.88,1445.72 2279.09,1445.72 2279.3,1445.72 2279.51,1445.72 2279.72,1445.72 \n",
       "  2279.92,1445.72 2280.13,1445.72 2280.34,1445.72 2280.55,1445.72 2280.76,1445.72 2280.97,1445.72 2281.18,1445.72 2281.38,1445.72 2281.59,1445.72 2281.8,1445.72 \n",
       "  2282.01,1445.72 2282.22,1445.72 2282.43,1445.72 2282.64,1445.72 2282.85,1445.72 2283.05,1445.72 2283.26,1445.72 2283.47,1445.72 2283.68,1445.72 2283.89,1445.72 \n",
       "  2284.1,1445.72 2284.31,1445.72 2284.52,1445.72 2284.72,1445.72 2284.93,1445.72 2285.14,1445.72 2285.35,1445.72 2285.56,1445.72 2285.77,1445.72 2285.98,1445.72 \n",
       "  2286.19,1445.72 2286.39,1445.72 2286.6,1445.72 2286.81,1445.72 2287.02,1445.72 2287.23,1445.72 2287.44,1445.72 2287.65,1445.72 2287.85,1445.72 2288.06,1445.72 \n",
       "  2288.27,1445.72 2288.48,1445.72 2288.69,1445.72 2288.9,1445.72 2289.11,1445.72 2289.32,1445.72 2289.52,1445.72 2289.73,1445.72 2289.94,1445.72 2290.15,1445.72 \n",
       "  \n",
       "  \"/>\n",
       "<path clip-path=\"url(#clip170)\" d=\"\n",
       "M1980.81 198.898 L2279.02 198.898 L2279.02 95.2176 L1980.81 95.2176  Z\n",
       "  \" fill=\"#ffffff\" fill-rule=\"evenodd\" fill-opacity=\"1\"/>\n",
       "<polyline clip-path=\"url(#clip170)\" style=\"stroke:#000000; stroke-linecap:butt; stroke-linejoin:round; stroke-width:4; stroke-opacity:1; fill:none\" points=\"\n",
       "  1980.81,198.898 2279.02,198.898 2279.02,95.2176 1980.81,95.2176 1980.81,198.898 \n",
       "  \"/>\n",
       "<polyline clip-path=\"url(#clip170)\" style=\"stroke:#009af9; stroke-linecap:butt; stroke-linejoin:round; stroke-width:4; stroke-opacity:1; fill:none\" points=\"\n",
       "  2005.38,147.058 2152.85,147.058 \n",
       "  \"/>\n",
       "<path clip-path=\"url(#clip170)\" d=\"M2191.28 166.745 Q2189.47 171.375 2187.76 172.787 Q2186.04 174.199 2183.17 174.199 L2179.77 174.199 L2179.77 170.634 L2182.27 170.634 Q2184.03 170.634 2185 169.8 Q2185.98 168.967 2187.16 165.865 L2187.92 163.921 L2177.43 138.412 L2181.95 138.412 L2190.05 158.689 L2198.15 138.412 L2202.66 138.412 L2191.28 166.745 Z\" fill=\"#000000\" fill-rule=\"evenodd\" fill-opacity=\"1\" /><path clip-path=\"url(#clip170)\" d=\"M2209.96 160.402 L2217.6 160.402 L2217.6 134.037 L2209.29 135.703 L2209.29 131.444 L2217.55 129.778 L2222.22 129.778 L2222.22 160.402 L2229.86 160.402 L2229.86 164.338 L2209.96 164.338 L2209.96 160.402 Z\" fill=\"#000000\" fill-rule=\"evenodd\" fill-opacity=\"1\" /></svg>\n"
      ]
     },
     "execution_count": 16,
     "metadata": {},
     "output_type": "execute_result"
    }
   ],
   "source": [
    "x = range(-50, 50, length=10000)\n",
    "g(x) = exp(-1/100*x^2)*(1+x^2)\n",
    "y=g.(x)\n",
    "plot(x, y)"
   ]
  },
  {
   "cell_type": "code",
   "execution_count": 17,
   "id": "ad98e194",
   "metadata": {},
   "outputs": [
    {
     "data": {
      "text/plain": [
       "approx_g (generic function with 2 methods)"
      ]
     },
     "execution_count": 17,
     "metadata": {},
     "output_type": "execute_result"
    }
   ],
   "source": [
    "function approx_g(a,n=100)\n",
    "    g(x) = exp(-1/100*x^2)*(1+x^2)\n",
    "    if a == -1\n",
    "        ##################################### GL\n",
    "        xi,wi = gausslegendre(n)\n",
    "        x(t) = a + (1+t)/(1-t)\n",
    "        J(t) = 2/(t-1)^2\n",
    "        fgl_neg_1(t) = g(x(t))*J(t)\n",
    "        answergl = sum( wi .* fgl_neg_1.(xi))\n",
    "        ##################################### GLa 平移\n",
    "        xi,wi = gausslaguerre(n)\n",
    "        g2(x) = exp(-1/100*(x-1)^2)*(1+(x-1)^2) # 平移\n",
    "        fgla_neg_1(x) = g2(x)/exp(-x)\n",
    "        answergla = sum( wi .* fgla_neg_1.(xi))\n",
    "        ####################################### GH\n",
    "        function g3(x)\n",
    "            if x > 0 return exp(-1/100*(x-1)^2)*(1+(x-1)^2)\n",
    "            else return exp(-1/100*(-x-1)^2)*(1+(-x-1)^2)\n",
    "            end\n",
    "        end\n",
    "        xi,wi = gausshermite(n)\n",
    "        fgh_neg_1(x) = g3(x)/exp(-x^2)\n",
    "        answergh = sum( wi .* fgh_neg_1.(xi))/2    \n",
    "        return answergl, answergla,  answergh, quadgk(g, a, Inf, rtol=1e-6)[1]\n",
    "    elseif a == 0 \n",
    "        ##################################### GL\n",
    "        xi,wi = gausslegendre(n)\n",
    "        x_0(t) = a + (1+t)/(1-t)\n",
    "        J_0(t) = 2/(t-1)^2\n",
    "        fgl_0(t) = g(x_0(t))*J_0(t)\n",
    "        answergl = sum( wi .* fgl_0.(xi))\n",
    "        ##################################### GLa\n",
    "        xi,wi = gausslaguerre(n)\n",
    "        fgla_0(x) = g(x)/exp(-x)\n",
    "        answergla = sum( wi .* fgla_0.(xi))\n",
    "        ####################################### GH/2\n",
    "        xi,wi = gausshermite(n)\n",
    "        fh_0(x) = g(x)/exp(-x^2)\n",
    "        answergh = sum( wi .* fh_0.(xi))/2\n",
    "        return answergl, answergla,  answergh, quadgk(g, a, Inf, rtol=1e-6)[1]\n",
    "    elseif a == -Inf\n",
    "        #######################################  GL\n",
    "        xi,wi = gausslegendre(n)\n",
    "        xgl_inf(t) = t/(1-t^2)\n",
    "        Jgl_inf(t) = (t^2+1)/(t^2-1)^2\n",
    "        fgl_inf(t) = g(xgl_inf(t))*Jgl_inf(t)\n",
    "        answergl = sum( wi .* fgl_inf.(xi))\n",
    "        ####################################### GLa*2\n",
    "        xi,wi = gausslaguerre(n)\n",
    "        fgla_inf(x) = g(x)/exp(-x)\n",
    "        answergla = sum( wi .* fgla_inf.(xi))*2  \n",
    "        ####################################### GH\n",
    "        xi,wi = gausshermite(n)\n",
    "        fgh_inf(x) = g(x)/exp(-x^2)\n",
    "        answergh = sum( wi .* fgh_inf.(xi))\n",
    "        return answergl, answergla,  answergh, quadgk(g, a, Inf, rtol=1e-6)[1]\n",
    "    end\n",
    "end"
   ]
  },
  {
   "cell_type": "code",
   "execution_count": 18,
   "id": "772b74cf",
   "metadata": {},
   "outputs": [
    {
     "data": {
      "application/vnd.webio.node+json": {
       "children": [
        {
         "children": [
          {
           "children": [
            {
             "children": [
              {
               "children": [
                {
                 "children": [
                  "a"
                 ],
                 "instanceArgs": {
                  "namespace": "html",
                  "tag": "label"
                 },
                 "nodeType": "DOM",
                 "props": {
                  "className": "interact ",
                  "style": {
                   "padding": "5px 10px 0px 10px"
                  }
                 },
                 "type": "node"
                }
               ],
               "instanceArgs": {
                "namespace": "html",
                "tag": "div"
               },
               "nodeType": "DOM",
               "props": {
                "className": "interact-flex-row-left"
               },
               "type": "node"
              },
              {
               "children": [
                {
                 "children": [
                  {
                   "children": [
                    {
                     "children": [],
                     "instanceArgs": {
                      "namespace": "html",
                      "tag": "label"
                     },
                     "nodeType": "DOM",
                     "props": {
                      "attributes": {
                       "data-bind": "text : key"
                      }
                     },
                     "type": "node"
                    }
                   ],
                   "instanceArgs": {
                    "namespace": "html",
                    "tag": "span"
                   },
                   "nodeType": "DOM",
                   "props": {
                    "attributes": {
                     "data-bind": "click: function (){$root.update(val)}, css: {'is-primary is-selected' : $root.index() == val, 'interact-widget is-medium button ' : true}"
                    }
                   },
                   "type": "node"
                  }
                 ],
                 "instanceArgs": {
                  "namespace": "html",
                  "tag": "div"
                 },
                 "nodeType": "DOM",
                 "props": {
                  "attributes": {
                   "data-bind": "foreach : options_js"
                  },
                  "className": "buttons has-addons is-centered"
                 },
                 "type": "node"
                }
               ],
               "instanceArgs": {
                "namespace": "html",
                "tag": "div"
               },
               "nodeType": "DOM",
               "props": {
                "className": "interact-flex-row-center"
               },
               "type": "node"
              },
              {
               "children": [
                {
                 "children": [],
                 "instanceArgs": {
                  "namespace": "html",
                  "tag": "div"
                 },
                 "nodeType": "DOM",
                 "props": {},
                 "type": "node"
                }
               ],
               "instanceArgs": {
                "namespace": "html",
                "tag": "div"
               },
               "nodeType": "DOM",
               "props": {
                "className": "interact-flex-row-right"
               },
               "type": "node"
              }
             ],
             "instanceArgs": {
              "namespace": "html",
              "tag": "div"
             },
             "nodeType": "DOM",
             "props": {
              "className": "interact-flex-row interact-widget"
             },
             "type": "node"
            }
           ],
           "instanceArgs": {
            "handlers": {
             "index": [
              "(function (val){return (val!=this.model[\"index\"]()) ? (this.valueFromJulia[\"index\"]=true, this.model[\"index\"](val)) : undefined})"
             ],
             "options_js": [
              "(function (val){return (val!=this.model[\"options_js\"]()) ? (this.valueFromJulia[\"options_js\"]=true, this.model[\"options_js\"](val)) : undefined})"
             ]
            },
            "id": "3462368132299938738",
            "imports": {
             "data": [
              {
               "name": "knockout",
               "type": "js",
               "url": "/assetserver/a0663ad37bdb924bb8f58218fb6104c40c026f21-knockout.js"
              },
              {
               "name": "knockout_punches",
               "type": "js",
               "url": "/assetserver/c0559b701cdaac29f8d4c071931238140df0ba9e-knockout_punches.js"
              },
              {
               "name": null,
               "type": "js",
               "url": "/assetserver/6903f16a2fa666a30d8cd2d6208cd478f2652502-all.js"
              },
              {
               "name": null,
               "type": "css",
               "url": "/assetserver/7d705742052c6f6628e73b4f886fdd4d3b8c526b-style.css"
              },
              {
               "name": null,
               "type": "css",
               "url": "/assetserver/47bdb778fdc8f5b8223473593d42cb825a0e5022-bulma_confined.min.css"
              }
             ],
             "type": "async_block"
            },
            "mount_callbacks": [
             "function () {\n    var handler = (function (ko, koPunches) {\n    ko.punches.enableAll();\n    ko.bindingHandlers.numericValue = {\n        init: function(element, valueAccessor, allBindings, data, context) {\n            var stringified = ko.observable(ko.unwrap(valueAccessor()));\n            stringified.subscribe(function(value) {\n                var val = parseFloat(value);\n                if (!isNaN(val)) {\n                    valueAccessor()(val);\n                }\n            });\n            valueAccessor().subscribe(function(value) {\n                var str = JSON.stringify(value);\n                if ((str == \"0\") && ([\"-0\", \"-0.\"].indexOf(stringified()) >= 0))\n                     return;\n                 if ([\"null\", \"\"].indexOf(str) >= 0)\n                     return;\n                stringified(str);\n            });\n            ko.applyBindingsToNode(\n                element,\n                {\n                    value: stringified,\n                    valueUpdate: allBindings.get('valueUpdate'),\n                },\n                context,\n            );\n        }\n    };\n    var json_data = {\"options_js\":WebIO.getval({\"name\":\"options_js\",\"scope\":\"3462368132299938738\",\"id\":\"16153476440537225631\",\"type\":\"observable\"}),\"index\":WebIO.getval({\"name\":\"index\",\"scope\":\"3462368132299938738\",\"id\":\"6685449674466633052\",\"type\":\"observable\"})};\n    var self = this;\n    function AppViewModel() {\n        for (var key in json_data) {\n            var el = json_data[key];\n            this[key] = Array.isArray(el) ? ko.observableArray(el) : ko.observable(el);\n        }\n        [this[\"update\"]=function (val) {this.index(val)}]\n        \n        [this[\"options_js\"].subscribe((function (val){!(this.valueFromJulia[\"options_js\"]) ? (WebIO.setval({\"name\":\"options_js\",\"scope\":\"3462368132299938738\",\"id\":\"16153476440537225631\",\"type\":\"observable\"},val)) : undefined; return this.valueFromJulia[\"options_js\"]=false}),self),this[\"index\"].subscribe((function (val){!(this.valueFromJulia[\"index\"]) ? (WebIO.setval({\"name\":\"index\",\"scope\":\"3462368132299938738\",\"id\":\"6685449674466633052\",\"type\":\"observable\"},val)) : undefined; return this.valueFromJulia[\"index\"]=false}),self)]\n        \n    }\n    self.model = new AppViewModel();\n    self.valueFromJulia = {};\n    for (var key in json_data) {\n        self.valueFromJulia[key] = false;\n    }\n    ko.applyBindings(self.model, self.dom);\n}\n);\n    (WebIO.importBlock({\"data\":[{\"name\":\"knockout\",\"type\":\"js\",\"url\":\"/assetserver/a0663ad37bdb924bb8f58218fb6104c40c026f21-knockout.js\"},{\"name\":\"knockout_punches\",\"type\":\"js\",\"url\":\"/assetserver/c0559b701cdaac29f8d4c071931238140df0ba9e-knockout_punches.js\"}],\"type\":\"async_block\"})).then((imports) => handler.apply(this, imports));\n}\n"
            ],
            "observables": {
             "index": {
              "id": "6685449674466633052",
              "sync": true,
              "value": 1
             },
             "options_js": {
              "id": "16153476440537225631",
              "sync": false,
              "value": [
               {
                "id": "idmNWo2l1U",
                "key": "-1",
                "val": 1
               },
               {
                "id": "idemnd6ga0",
                "key": "0",
                "val": 2
               },
               {
                "id": "idh7d8YGVq",
                "key": "-Inf",
                "val": 3
               }
              ]
             }
            },
            "systemjs_options": null
           },
           "nodeType": "Scope",
           "props": {},
           "type": "node"
          }
         ],
         "instanceArgs": {
          "namespace": "html",
          "tag": "div"
         },
         "nodeType": "DOM",
         "props": {
          "className": "interact-widget"
         },
         "type": "node"
        },
        {
         "children": [
          {
           "children": [
            {
             "children": [
              {
               "children": [
                {
                 "children": [
                  "n"
                 ],
                 "instanceArgs": {
                  "namespace": "html",
                  "tag": "label"
                 },
                 "nodeType": "DOM",
                 "props": {
                  "className": "interact ",
                  "style": {
                   "padding": "5px 10px 0px 10px"
                  }
                 },
                 "type": "node"
                }
               ],
               "instanceArgs": {
                "namespace": "html",
                "tag": "div"
               },
               "nodeType": "DOM",
               "props": {
                "className": "interact-flex-row-left"
               },
               "type": "node"
              },
              {
               "children": [
                {
                 "children": [],
                 "instanceArgs": {
                  "namespace": "html",
                  "tag": "input"
                 },
                 "nodeType": "DOM",
                 "props": {
                  "attributes": {
                   "data-bind": "numericValue: index, valueUpdate: 'input', event: {change: function (){this.changes(this.changes()+1)}}",
                   "orient": "horizontal",
                   "type": "range"
                  },
                  "className": "slider slider is-fullwidth",
                  "max": 18,
                  "min": 1,
                  "step": 1,
                  "style": {}
                 },
                 "type": "node"
                }
               ],
               "instanceArgs": {
                "namespace": "html",
                "tag": "div"
               },
               "nodeType": "DOM",
               "props": {
                "className": "interact-flex-row-center"
               },
               "type": "node"
              },
              {
               "children": [
                {
                 "children": [],
                 "instanceArgs": {
                  "namespace": "html",
                  "tag": "p"
                 },
                 "nodeType": "DOM",
                 "props": {
                  "attributes": {
                   "data-bind": "text: formatted_val"
                  }
                 },
                 "type": "node"
                }
               ],
               "instanceArgs": {
                "namespace": "html",
                "tag": "div"
               },
               "nodeType": "DOM",
               "props": {
                "className": "interact-flex-row-right"
               },
               "type": "node"
              }
             ],
             "instanceArgs": {
              "namespace": "html",
              "tag": "div"
             },
             "nodeType": "DOM",
             "props": {
              "className": "interact-flex-row interact-widget"
             },
             "type": "node"
            }
           ],
           "instanceArgs": {
            "handlers": {
             "changes": [
              "(function (val){return (val!=this.model[\"changes\"]()) ? (this.valueFromJulia[\"changes\"]=true, this.model[\"changes\"](val)) : undefined})"
             ],
             "index": [
              "(function (val){return (val!=this.model[\"index\"]()) ? (this.valueFromJulia[\"index\"]=true, this.model[\"index\"](val)) : undefined})"
             ]
            },
            "id": "9279612367422528752",
            "imports": {
             "data": [
              {
               "name": "knockout",
               "type": "js",
               "url": "/assetserver/a0663ad37bdb924bb8f58218fb6104c40c026f21-knockout.js"
              },
              {
               "name": "knockout_punches",
               "type": "js",
               "url": "/assetserver/c0559b701cdaac29f8d4c071931238140df0ba9e-knockout_punches.js"
              },
              {
               "name": null,
               "type": "js",
               "url": "/assetserver/6903f16a2fa666a30d8cd2d6208cd478f2652502-all.js"
              },
              {
               "name": null,
               "type": "css",
               "url": "/assetserver/7d705742052c6f6628e73b4f886fdd4d3b8c526b-style.css"
              },
              {
               "name": null,
               "type": "css",
               "url": "/assetserver/47bdb778fdc8f5b8223473593d42cb825a0e5022-bulma_confined.min.css"
              }
             ],
             "type": "async_block"
            },
            "mount_callbacks": [
             "function () {\n    var handler = (function (ko, koPunches) {\n    ko.punches.enableAll();\n    ko.bindingHandlers.numericValue = {\n        init: function(element, valueAccessor, allBindings, data, context) {\n            var stringified = ko.observable(ko.unwrap(valueAccessor()));\n            stringified.subscribe(function(value) {\n                var val = parseFloat(value);\n                if (!isNaN(val)) {\n                    valueAccessor()(val);\n                }\n            });\n            valueAccessor().subscribe(function(value) {\n                var str = JSON.stringify(value);\n                if ((str == \"0\") && ([\"-0\", \"-0.\"].indexOf(stringified()) >= 0))\n                     return;\n                 if ([\"null\", \"\"].indexOf(str) >= 0)\n                     return;\n                stringified(str);\n            });\n            ko.applyBindingsToNode(\n                element,\n                {\n                    value: stringified,\n                    valueUpdate: allBindings.get('valueUpdate'),\n                },\n                context,\n            );\n        }\n    };\n    var json_data = {\"formatted_vals\":[\"50\",\"70\",\"90\",\"110\",\"130\",\"150\",\"170\",\"190\",\"210\",\"230\",\"250\",\"270\",\"290\",\"310\",\"330\",\"350\",\"370\",\"390\"],\"changes\":WebIO.getval({\"name\":\"changes\",\"scope\":\"9279612367422528752\",\"id\":\"15880295591589519214\",\"type\":\"observable\"}),\"index\":WebIO.getval({\"name\":\"index\",\"scope\":\"9279612367422528752\",\"id\":\"16099153930954848570\",\"type\":\"observable\"})};\n    var self = this;\n    function AppViewModel() {\n        for (var key in json_data) {\n            var el = json_data[key];\n            this[key] = Array.isArray(el) ? ko.observableArray(el) : ko.observable(el);\n        }\n        \n        [this[\"formatted_val\"]=ko.computed(    function(){\n        return this.formatted_vals()[parseInt(this.index())-(1)];\n    }\n,this)]\n        [this[\"changes\"].subscribe((function (val){!(this.valueFromJulia[\"changes\"]) ? (WebIO.setval({\"name\":\"changes\",\"scope\":\"9279612367422528752\",\"id\":\"15880295591589519214\",\"type\":\"observable\"},val)) : undefined; return this.valueFromJulia[\"changes\"]=false}),self),this[\"index\"].subscribe((function (val){!(this.valueFromJulia[\"index\"]) ? (WebIO.setval({\"name\":\"index\",\"scope\":\"9279612367422528752\",\"id\":\"16099153930954848570\",\"type\":\"observable\"},val)) : undefined; return this.valueFromJulia[\"index\"]=false}),self)]\n        \n    }\n    self.model = new AppViewModel();\n    self.valueFromJulia = {};\n    for (var key in json_data) {\n        self.valueFromJulia[key] = false;\n    }\n    ko.applyBindings(self.model, self.dom);\n}\n);\n    (WebIO.importBlock({\"data\":[{\"name\":\"knockout\",\"type\":\"js\",\"url\":\"/assetserver/a0663ad37bdb924bb8f58218fb6104c40c026f21-knockout.js\"},{\"name\":\"knockout_punches\",\"type\":\"js\",\"url\":\"/assetserver/c0559b701cdaac29f8d4c071931238140df0ba9e-knockout_punches.js\"}],\"type\":\"async_block\"})).then((imports) => handler.apply(this, imports));\n}\n"
            ],
            "observables": {
             "changes": {
              "id": "15880295591589519214",
              "sync": false,
              "value": 0
             },
             "index": {
              "id": "16099153930954848570",
              "sync": true,
              "value": 9
             }
            },
            "systemjs_options": null
           },
           "nodeType": "Scope",
           "props": {},
           "type": "node"
          }
         ],
         "instanceArgs": {
          "namespace": "html",
          "tag": "div"
         },
         "nodeType": "DOM",
         "props": {
          "className": "field interact-widget"
         },
         "type": "node"
        },
        {
         "children": [
          {
           "children": [],
           "instanceArgs": {
            "id": "17954685591872278535",
            "name": "obs-node"
           },
           "nodeType": "ObservableNode",
           "props": {},
           "type": "node"
          }
         ],
         "instanceArgs": {
          "handlers": {},
          "id": "15123859226013619270",
          "imports": {
           "data": [],
           "type": "async_block"
          },
          "mount_callbacks": [],
          "observables": {
           "obs-node": {
            "id": "17954685591872278535",
            "sync": false,
            "value": {
             "children": [
              {
               "children": [],
               "instanceArgs": {
                "namespace": "html",
                "tag": "div"
               },
               "nodeType": "DOM",
               "props": {
                "setInnerHtml": "<?xml version=\"1.0\" encoding=\"utf-8\"?>\n<svg xmlns=\"http://www.w3.org/2000/svg\" xmlns:xlink=\"http://www.w3.org/1999/xlink\" width=\"600\" height=\"400\" viewBox=\"0 0 2400 1600\">\n<defs>\n  <clipPath id=\"clip250\">\n    <rect x=\"0\" y=\"0\" width=\"2400\" height=\"1600\"/>\n  </clipPath>\n</defs>\n<path clip-path=\"url(#clip250)\" d=\"\nM0 1600 L2400 1600 L2400 0 L0 0  Z\n  \" fill=\"#ffffff\" fill-rule=\"evenodd\" fill-opacity=\"1\"/>\n<defs>\n  <clipPath id=\"clip251\">\n    <rect x=\"480\" y=\"0\" width=\"1681\" height=\"1600\"/>\n  </clipPath>\n</defs>\n<path clip-path=\"url(#clip250)\" d=\"\nM199.283 1486.45 L2352.76 1486.45 L2352.76 47.2441 L199.283 47.2441  Z\n  \" fill=\"#ffffff\" fill-rule=\"evenodd\" fill-opacity=\"1\"/>\n<defs>\n  <clipPath id=\"clip252\">\n    <rect x=\"199\" y=\"47\" width=\"2154\" height=\"1440\"/>\n  </clipPath>\n</defs>\n<polyline clip-path=\"url(#clip252)\" style=\"stroke:#000000; stroke-linecap:butt; stroke-linejoin:round; stroke-width:2; stroke-opacity:0.1; fill:none\" points=\"\n  250.51,1486.45 250.51,47.2441 \n  \"/>\n<polyline clip-path=\"url(#clip252)\" style=\"stroke:#000000; stroke-linecap:butt; stroke-linejoin:round; stroke-width:2; stroke-opacity:0.1; fill:none\" points=\"\n  736.534,1486.45 736.534,47.2441 \n  \"/>\n<polyline clip-path=\"url(#clip252)\" style=\"stroke:#000000; stroke-linecap:butt; stroke-linejoin:round; stroke-width:2; stroke-opacity:0.1; fill:none\" points=\"\n  1222.56,1486.45 1222.56,47.2441 \n  \"/>\n<polyline clip-path=\"url(#clip252)\" style=\"stroke:#000000; stroke-linecap:butt; stroke-linejoin:round; stroke-width:2; stroke-opacity:0.1; fill:none\" points=\"\n  1708.58,1486.45 1708.58,47.2441 \n  \"/>\n<polyline clip-path=\"url(#clip252)\" style=\"stroke:#000000; stroke-linecap:butt; stroke-linejoin:round; stroke-width:2; stroke-opacity:0.1; fill:none\" points=\"\n  2194.6,1486.45 2194.6,47.2441 \n  \"/>\n<polyline clip-path=\"url(#clip250)\" style=\"stroke:#000000; stroke-linecap:butt; stroke-linejoin:round; stroke-width:4; stroke-opacity:1; fill:none\" points=\"\n  199.283,1486.45 2352.76,1486.45 \n  \"/>\n<polyline clip-path=\"url(#clip250)\" style=\"stroke:#000000; stroke-linecap:butt; stroke-linejoin:round; stroke-width:4; stroke-opacity:1; fill:none\" points=\"\n  250.51,1486.45 250.51,1467.55 \n  \"/>\n<polyline clip-path=\"url(#clip250)\" style=\"stroke:#000000; stroke-linecap:butt; stroke-linejoin:round; stroke-width:4; stroke-opacity:1; fill:none\" points=\"\n  736.534,1486.45 736.534,1467.55 \n  \"/>\n<polyline clip-path=\"url(#clip250)\" style=\"stroke:#000000; stroke-linecap:butt; stroke-linejoin:round; stroke-width:4; stroke-opacity:1; fill:none\" points=\"\n  1222.56,1486.45 1222.56,1467.55 \n  \"/>\n<polyline clip-path=\"url(#clip250)\" style=\"stroke:#000000; stroke-linecap:butt; stroke-linejoin:round; stroke-width:4; stroke-opacity:1; fill:none\" points=\"\n  1708.58,1486.45 1708.58,1467.55 \n  \"/>\n<polyline clip-path=\"url(#clip250)\" style=\"stroke:#000000; stroke-linecap:butt; stroke-linejoin:round; stroke-width:4; stroke-opacity:1; fill:none\" points=\"\n  2194.6,1486.45 2194.6,1467.55 \n  \"/>\n<path clip-path=\"url(#clip250)\" d=\"M250.51 1517.37 Q246.899 1517.37 245.07 1520.93 Q243.265 1524.47 243.265 1531.6 Q243.265 1538.71 245.07 1542.27 Q246.899 1545.82 250.51 1545.82 Q254.144 1545.82 255.95 1542.27 Q257.779 1538.71 257.779 1531.6 Q257.779 1524.47 255.95 1520.93 Q254.144 1517.37 250.51 1517.37 M250.51 1513.66 Q256.32 1513.66 259.376 1518.27 Q262.454 1522.85 262.454 1531.6 Q262.454 1540.33 259.376 1544.94 Q256.32 1549.52 250.51 1549.52 Q244.7 1549.52 241.621 1544.94 Q238.566 1540.33 238.566 1531.6 Q238.566 1522.85 241.621 1518.27 Q244.7 1513.66 250.51 1513.66 Z\" fill=\"#000000\" fill-rule=\"evenodd\" fill-opacity=\"1\" /><path clip-path=\"url(#clip250)\" d=\"M711.233 1514.29 L729.589 1514.29 L729.589 1518.22 L715.515 1518.22 L715.515 1526.7 Q716.534 1526.35 717.552 1526.19 Q718.571 1526 719.589 1526 Q725.376 1526 728.756 1529.17 Q732.135 1532.34 732.135 1537.76 Q732.135 1543.34 728.663 1546.44 Q725.191 1549.52 718.872 1549.52 Q716.696 1549.52 714.427 1549.15 Q712.182 1548.78 709.774 1548.04 L709.774 1543.34 Q711.858 1544.47 714.08 1545.03 Q716.302 1545.58 718.779 1545.58 Q722.784 1545.58 725.122 1543.48 Q727.459 1541.37 727.459 1537.76 Q727.459 1534.15 725.122 1532.04 Q722.784 1529.94 718.779 1529.94 Q716.904 1529.94 715.029 1530.35 Q713.177 1530.77 711.233 1531.65 L711.233 1514.29 Z\" fill=\"#000000\" fill-rule=\"evenodd\" fill-opacity=\"1\" /><path clip-path=\"url(#clip250)\" d=\"M751.348 1517.37 Q747.737 1517.37 745.908 1520.93 Q744.103 1524.47 744.103 1531.6 Q744.103 1538.71 745.908 1542.27 Q747.737 1545.82 751.348 1545.82 Q754.982 1545.82 756.788 1542.27 Q758.617 1538.71 758.617 1531.6 Q758.617 1524.47 756.788 1520.93 Q754.982 1517.37 751.348 1517.37 M751.348 1513.66 Q757.158 1513.66 760.214 1518.27 Q763.293 1522.85 763.293 1531.6 Q763.293 1540.33 760.214 1544.94 Q757.158 1549.52 751.348 1549.52 Q745.538 1549.52 742.459 1544.94 Q739.404 1540.33 739.404 1531.6 Q739.404 1522.85 742.459 1518.27 Q745.538 1513.66 751.348 1513.66 Z\" fill=\"#000000\" fill-rule=\"evenodd\" fill-opacity=\"1\" /><path clip-path=\"url(#clip250)\" d=\"M1182.16 1544.91 L1189.8 1544.91 L1189.8 1518.55 L1181.49 1520.21 L1181.49 1515.95 L1189.76 1514.29 L1194.43 1514.29 L1194.43 1544.91 L1202.07 1544.91 L1202.07 1548.85 L1182.16 1548.85 L1182.16 1544.91 Z\" fill=\"#000000\" fill-rule=\"evenodd\" fill-opacity=\"1\" /><path clip-path=\"url(#clip250)\" d=\"M1221.52 1517.37 Q1217.9 1517.37 1216.08 1520.93 Q1214.27 1524.47 1214.27 1531.6 Q1214.27 1538.71 1216.08 1542.27 Q1217.9 1545.82 1221.52 1545.82 Q1225.15 1545.82 1226.96 1542.27 Q1228.78 1538.71 1228.78 1531.6 Q1228.78 1524.47 1226.96 1520.93 Q1225.15 1517.37 1221.52 1517.37 M1221.52 1513.66 Q1227.33 1513.66 1230.38 1518.27 Q1233.46 1522.85 1233.46 1531.6 Q1233.46 1540.33 1230.38 1544.94 Q1227.33 1549.52 1221.52 1549.52 Q1215.71 1549.52 1212.63 1544.94 Q1209.57 1540.33 1209.57 1531.6 Q1209.57 1522.85 1212.63 1518.27 Q1215.71 1513.66 1221.52 1513.66 Z\" fill=\"#000000\" fill-rule=\"evenodd\" fill-opacity=\"1\" /><path clip-path=\"url(#clip250)\" d=\"M1251.68 1517.37 Q1248.07 1517.37 1246.24 1520.93 Q1244.43 1524.47 1244.43 1531.6 Q1244.43 1538.71 1246.24 1542.27 Q1248.07 1545.82 1251.68 1545.82 Q1255.31 1545.82 1257.12 1542.27 Q1258.95 1538.71 1258.95 1531.6 Q1258.95 1524.47 1257.12 1520.93 Q1255.31 1517.37 1251.68 1517.37 M1251.68 1513.66 Q1257.49 1513.66 1260.54 1518.27 Q1263.62 1522.85 1263.62 1531.6 Q1263.62 1540.33 1260.54 1544.94 Q1257.49 1549.52 1251.68 1549.52 Q1245.87 1549.52 1242.79 1544.94 Q1239.73 1540.33 1239.73 1531.6 Q1239.73 1522.85 1242.79 1518.27 Q1245.87 1513.66 1251.68 1513.66 Z\" fill=\"#000000\" fill-rule=\"evenodd\" fill-opacity=\"1\" /><path clip-path=\"url(#clip250)\" d=\"M1668.19 1544.91 L1675.83 1544.91 L1675.83 1518.55 L1667.52 1520.21 L1667.52 1515.95 L1675.78 1514.29 L1680.46 1514.29 L1680.46 1544.91 L1688.09 1544.91 L1688.09 1548.85 L1668.19 1548.85 L1668.19 1544.91 Z\" fill=\"#000000\" fill-rule=\"evenodd\" fill-opacity=\"1\" /><path clip-path=\"url(#clip250)\" d=\"M1697.59 1514.29 L1715.94 1514.29 L1715.94 1518.22 L1701.87 1518.22 L1701.87 1526.7 Q1702.89 1526.35 1703.9 1526.19 Q1704.92 1526 1705.94 1526 Q1711.73 1526 1715.11 1529.17 Q1718.49 1532.34 1718.49 1537.76 Q1718.49 1543.34 1715.02 1546.44 Q1711.54 1549.52 1705.22 1549.52 Q1703.05 1549.52 1700.78 1549.15 Q1698.53 1548.78 1696.13 1548.04 L1696.13 1543.34 Q1698.21 1544.47 1700.43 1545.03 Q1702.65 1545.58 1705.13 1545.58 Q1709.14 1545.58 1711.47 1543.48 Q1713.81 1541.37 1713.81 1537.76 Q1713.81 1534.15 1711.47 1532.04 Q1709.14 1529.94 1705.13 1529.94 Q1703.26 1529.94 1701.38 1530.35 Q1699.53 1530.77 1697.59 1531.65 L1697.59 1514.29 Z\" fill=\"#000000\" fill-rule=\"evenodd\" fill-opacity=\"1\" /><path clip-path=\"url(#clip250)\" d=\"M1737.7 1517.37 Q1734.09 1517.37 1732.26 1520.93 Q1730.46 1524.47 1730.46 1531.6 Q1730.46 1538.71 1732.26 1542.27 Q1734.09 1545.82 1737.7 1545.82 Q1741.33 1545.82 1743.14 1542.27 Q1744.97 1538.71 1744.97 1531.6 Q1744.97 1524.47 1743.14 1520.93 Q1741.33 1517.37 1737.7 1517.37 M1737.7 1513.66 Q1743.51 1513.66 1746.57 1518.27 Q1749.65 1522.85 1749.65 1531.6 Q1749.65 1540.33 1746.57 1544.94 Q1743.51 1549.52 1737.7 1549.52 Q1731.89 1549.52 1728.81 1544.94 Q1725.76 1540.33 1725.76 1531.6 Q1725.76 1522.85 1728.81 1518.27 Q1731.89 1513.66 1737.7 1513.66 Z\" fill=\"#000000\" fill-rule=\"evenodd\" fill-opacity=\"1\" /><path clip-path=\"url(#clip250)\" d=\"M2158.3 1544.91 L2174.62 1544.91 L2174.62 1548.85 L2152.67 1548.85 L2152.67 1544.91 Q2155.33 1542.16 2159.92 1537.53 Q2164.52 1532.88 2165.7 1531.53 Q2167.95 1529.01 2168.83 1527.27 Q2169.73 1525.51 2169.73 1523.82 Q2169.73 1521.07 2167.79 1519.33 Q2165.87 1517.6 2162.76 1517.6 Q2160.56 1517.6 2158.11 1518.36 Q2155.68 1519.13 2152.9 1520.68 L2152.9 1515.95 Q2155.73 1514.82 2158.18 1514.24 Q2160.63 1513.66 2162.67 1513.66 Q2168.04 1513.66 2171.24 1516.35 Q2174.43 1519.03 2174.43 1523.52 Q2174.43 1525.65 2173.62 1527.57 Q2172.83 1529.47 2170.73 1532.07 Q2170.15 1532.74 2167.05 1535.95 Q2163.94 1539.15 2158.3 1544.91 Z\" fill=\"#000000\" fill-rule=\"evenodd\" fill-opacity=\"1\" /><path clip-path=\"url(#clip250)\" d=\"M2194.43 1517.37 Q2190.82 1517.37 2188.99 1520.93 Q2187.18 1524.47 2187.18 1531.6 Q2187.18 1538.71 2188.99 1542.27 Q2190.82 1545.82 2194.43 1545.82 Q2198.06 1545.82 2199.87 1542.27 Q2201.7 1538.71 2201.7 1531.6 Q2201.7 1524.47 2199.87 1520.93 Q2198.06 1517.37 2194.43 1517.37 M2194.43 1513.66 Q2200.24 1513.66 2203.3 1518.27 Q2206.37 1522.85 2206.37 1531.6 Q2206.37 1540.33 2203.3 1544.94 Q2200.24 1549.52 2194.43 1549.52 Q2188.62 1549.52 2185.54 1544.94 Q2182.49 1540.33 2182.49 1531.6 Q2182.49 1522.85 2185.54 1518.27 Q2188.62 1513.66 2194.43 1513.66 Z\" fill=\"#000000\" fill-rule=\"evenodd\" fill-opacity=\"1\" /><path clip-path=\"url(#clip250)\" d=\"M2224.59 1517.37 Q2220.98 1517.37 2219.15 1520.93 Q2217.35 1524.47 2217.35 1531.6 Q2217.35 1538.71 2219.15 1542.27 Q2220.98 1545.82 2224.59 1545.82 Q2228.23 1545.82 2230.03 1542.27 Q2231.86 1538.71 2231.86 1531.6 Q2231.86 1524.47 2230.03 1520.93 Q2228.23 1517.37 2224.59 1517.37 M2224.59 1513.66 Q2230.4 1513.66 2233.46 1518.27 Q2236.54 1522.85 2236.54 1531.6 Q2236.54 1540.33 2233.46 1544.94 Q2230.4 1549.52 2224.59 1549.52 Q2218.78 1549.52 2215.7 1544.94 Q2212.65 1540.33 2212.65 1531.6 Q2212.65 1522.85 2215.7 1518.27 Q2218.78 1513.66 2224.59 1513.66 Z\" fill=\"#000000\" fill-rule=\"evenodd\" fill-opacity=\"1\" /><polyline clip-path=\"url(#clip252)\" style=\"stroke:#000000; stroke-linecap:butt; stroke-linejoin:round; stroke-width:2; stroke-opacity:0.1; fill:none\" points=\"\n  199.283,1447.5 2352.76,1447.5 \n  \"/>\n<polyline clip-path=\"url(#clip252)\" style=\"stroke:#000000; stroke-linecap:butt; stroke-linejoin:round; stroke-width:2; stroke-opacity:0.1; fill:none\" points=\"\n  199.283,1165.91 2352.76,1165.91 \n  \"/>\n<polyline clip-path=\"url(#clip252)\" style=\"stroke:#000000; stroke-linecap:butt; stroke-linejoin:round; stroke-width:2; stroke-opacity:0.1; fill:none\" points=\"\n  199.283,884.314 2352.76,884.314 \n  \"/>\n<polyline clip-path=\"url(#clip252)\" style=\"stroke:#000000; stroke-linecap:butt; stroke-linejoin:round; stroke-width:2; stroke-opacity:0.1; fill:none\" points=\"\n  199.283,602.721 2352.76,602.721 \n  \"/>\n<polyline clip-path=\"url(#clip252)\" style=\"stroke:#000000; stroke-linecap:butt; stroke-linejoin:round; stroke-width:2; stroke-opacity:0.1; fill:none\" points=\"\n  199.283,321.128 2352.76,321.128 \n  \"/>\n<polyline clip-path=\"url(#clip250)\" style=\"stroke:#000000; stroke-linecap:butt; stroke-linejoin:round; stroke-width:4; stroke-opacity:1; fill:none\" points=\"\n  199.283,1486.45 199.283,47.2441 \n  \"/>\n<polyline clip-path=\"url(#clip250)\" style=\"stroke:#000000; stroke-linecap:butt; stroke-linejoin:round; stroke-width:4; stroke-opacity:1; fill:none\" points=\"\n  199.283,1447.5 218.181,1447.5 \n  \"/>\n<polyline clip-path=\"url(#clip250)\" style=\"stroke:#000000; stroke-linecap:butt; stroke-linejoin:round; stroke-width:4; stroke-opacity:1; fill:none\" points=\"\n  199.283,1165.91 218.181,1165.91 \n  \"/>\n<polyline clip-path=\"url(#clip250)\" style=\"stroke:#000000; stroke-linecap:butt; stroke-linejoin:round; stroke-width:4; stroke-opacity:1; fill:none\" points=\"\n  199.283,884.314 218.181,884.314 \n  \"/>\n<polyline clip-path=\"url(#clip250)\" style=\"stroke:#000000; stroke-linecap:butt; stroke-linejoin:round; stroke-width:4; stroke-opacity:1; fill:none\" points=\"\n  199.283,602.721 218.181,602.721 \n  \"/>\n<polyline clip-path=\"url(#clip250)\" style=\"stroke:#000000; stroke-linecap:butt; stroke-linejoin:round; stroke-width:4; stroke-opacity:1; fill:none\" points=\"\n  199.283,321.128 218.181,321.128 \n  \"/>\n<path clip-path=\"url(#clip250)\" d=\"M151.339 1433.3 Q147.728 1433.3 145.899 1436.86 Q144.093 1440.41 144.093 1447.54 Q144.093 1454.64 145.899 1458.21 Q147.728 1461.75 151.339 1461.75 Q154.973 1461.75 156.779 1458.21 Q158.607 1454.64 158.607 1447.54 Q158.607 1440.41 156.779 1436.86 Q154.973 1433.3 151.339 1433.3 M151.339 1429.6 Q157.149 1429.6 160.205 1434.2 Q163.283 1438.79 163.283 1447.54 Q163.283 1456.26 160.205 1460.87 Q157.149 1465.45 151.339 1465.45 Q145.529 1465.45 142.45 1460.87 Q139.394 1456.26 139.394 1447.54 Q139.394 1438.79 142.45 1434.2 Q145.529 1429.6 151.339 1429.6 Z\" fill=\"#000000\" fill-rule=\"evenodd\" fill-opacity=\"1\" /><path clip-path=\"url(#clip250)\" d=\"M85.0429 1179.25 L101.362 1179.25 L101.362 1183.19 L79.4179 1183.19 L79.4179 1179.25 Q82.0799 1176.5 86.6632 1171.87 Q91.2697 1167.22 92.4502 1165.87 Q94.6956 1163.35 95.5752 1161.61 Q96.478 1159.85 96.478 1158.16 Q96.478 1155.41 94.5336 1153.67 Q92.6123 1151.94 89.5104 1151.94 Q87.3114 1151.94 84.8577 1152.7 Q82.4271 1153.47 79.6494 1155.02 L79.6494 1150.29 Q82.4734 1149.16 84.9271 1148.58 Q87.3808 1148 89.4178 1148 Q94.7882 1148 97.9826 1150.69 Q101.177 1153.37 101.177 1157.86 Q101.177 1159.99 100.367 1161.91 Q99.5798 1163.81 97.4734 1166.41 Q96.8947 1167.08 93.7928 1170.29 Q90.691 1173.49 85.0429 1179.25 Z\" fill=\"#000000\" fill-rule=\"evenodd\" fill-opacity=\"1\" /><path clip-path=\"url(#clip250)\" d=\"M111.223 1148.63 L129.58 1148.63 L129.58 1152.56 L115.506 1152.56 L115.506 1161.04 Q116.524 1160.69 117.543 1160.53 Q118.561 1160.34 119.58 1160.34 Q125.367 1160.34 128.746 1163.51 Q132.126 1166.68 132.126 1172.1 Q132.126 1177.68 128.654 1180.78 Q125.182 1183.86 118.862 1183.86 Q116.686 1183.86 114.418 1183.49 Q112.172 1183.12 109.765 1182.38 L109.765 1177.68 Q111.848 1178.81 114.07 1179.37 Q116.293 1179.92 118.77 1179.92 Q122.774 1179.92 125.112 1177.82 Q127.45 1175.71 127.45 1172.1 Q127.45 1168.49 125.112 1166.38 Q122.774 1164.28 118.77 1164.28 Q116.895 1164.28 115.02 1164.69 Q113.168 1165.11 111.223 1165.99 L111.223 1148.63 Z\" fill=\"#000000\" fill-rule=\"evenodd\" fill-opacity=\"1\" /><path clip-path=\"url(#clip250)\" d=\"M151.339 1151.71 Q147.728 1151.71 145.899 1155.27 Q144.093 1158.81 144.093 1165.94 Q144.093 1173.05 145.899 1176.61 Q147.728 1180.16 151.339 1180.16 Q154.973 1180.16 156.779 1176.61 Q158.607 1173.05 158.607 1165.94 Q158.607 1158.81 156.779 1155.27 Q154.973 1151.71 151.339 1151.71 M151.339 1148 Q157.149 1148 160.205 1152.61 Q163.283 1157.19 163.283 1165.94 Q163.283 1174.67 160.205 1179.28 Q157.149 1183.86 151.339 1183.86 Q145.529 1183.86 142.45 1179.28 Q139.394 1174.67 139.394 1165.94 Q139.394 1157.19 142.45 1152.61 Q145.529 1148 151.339 1148 Z\" fill=\"#000000\" fill-rule=\"evenodd\" fill-opacity=\"1\" /><path clip-path=\"url(#clip250)\" d=\"M81.0614 867.034 L99.4178 867.034 L99.4178 870.97 L85.3438 870.97 L85.3438 879.442 Q86.3623 879.095 87.3808 878.933 Q88.3993 878.747 89.4178 878.747 Q95.2049 878.747 98.5845 881.919 Q101.964 885.09 101.964 890.507 Q101.964 896.085 98.4919 899.187 Q95.0197 902.266 88.7003 902.266 Q86.5243 902.266 84.2558 901.895 Q82.0105 901.525 79.6031 900.784 L79.6031 896.085 Q81.6864 897.22 83.9086 897.775 Q86.1308 898.331 88.6077 898.331 Q92.6123 898.331 94.9502 896.224 Q97.2882 894.118 97.2882 890.507 Q97.2882 886.896 94.9502 884.789 Q92.6123 882.683 88.6077 882.683 Q86.7327 882.683 84.8577 883.099 Q83.0058 883.516 81.0614 884.396 L81.0614 867.034 Z\" fill=\"#000000\" fill-rule=\"evenodd\" fill-opacity=\"1\" /><path clip-path=\"url(#clip250)\" d=\"M121.177 870.113 Q117.566 870.113 115.737 873.678 Q113.932 877.22 113.932 884.349 Q113.932 891.456 115.737 895.02 Q117.566 898.562 121.177 898.562 Q124.811 898.562 126.617 895.02 Q128.445 891.456 128.445 884.349 Q128.445 877.22 126.617 873.678 Q124.811 870.113 121.177 870.113 M121.177 866.41 Q126.987 866.41 130.043 871.016 Q133.121 875.599 133.121 884.349 Q133.121 893.076 130.043 897.682 Q126.987 902.266 121.177 902.266 Q115.367 902.266 112.288 897.682 Q109.233 893.076 109.233 884.349 Q109.233 875.599 112.288 871.016 Q115.367 866.41 121.177 866.41 Z\" fill=\"#000000\" fill-rule=\"evenodd\" fill-opacity=\"1\" /><path clip-path=\"url(#clip250)\" d=\"M151.339 870.113 Q147.728 870.113 145.899 873.678 Q144.093 877.22 144.093 884.349 Q144.093 891.456 145.899 895.02 Q147.728 898.562 151.339 898.562 Q154.973 898.562 156.779 895.02 Q158.607 891.456 158.607 884.349 Q158.607 877.22 156.779 873.678 Q154.973 870.113 151.339 870.113 M151.339 866.41 Q157.149 866.41 160.205 871.016 Q163.283 875.599 163.283 884.349 Q163.283 893.076 160.205 897.682 Q157.149 902.266 151.339 902.266 Q145.529 902.266 142.45 897.682 Q139.394 893.076 139.394 884.349 Q139.394 875.599 142.45 871.016 Q145.529 866.41 151.339 866.41 Z\" fill=\"#000000\" fill-rule=\"evenodd\" fill-opacity=\"1\" /><path clip-path=\"url(#clip250)\" d=\"M79.8346 585.441 L102.057 585.441 L102.057 587.432 L89.5104 620.001 L84.6262 620.001 L96.4317 589.376 L79.8346 589.376 L79.8346 585.441 Z\" fill=\"#000000\" fill-rule=\"evenodd\" fill-opacity=\"1\" /><path clip-path=\"url(#clip250)\" d=\"M111.223 585.441 L129.58 585.441 L129.58 589.376 L115.506 589.376 L115.506 597.849 Q116.524 597.501 117.543 597.339 Q118.561 597.154 119.58 597.154 Q125.367 597.154 128.746 600.325 Q132.126 603.497 132.126 608.913 Q132.126 614.492 128.654 617.594 Q125.182 620.672 118.862 620.672 Q116.686 620.672 114.418 620.302 Q112.172 619.932 109.765 619.191 L109.765 614.492 Q111.848 615.626 114.07 616.182 Q116.293 616.737 118.77 616.737 Q122.774 616.737 125.112 614.631 Q127.45 612.524 127.45 608.913 Q127.45 605.302 125.112 603.196 Q122.774 601.089 118.77 601.089 Q116.895 601.089 115.02 601.506 Q113.168 601.923 111.223 602.802 L111.223 585.441 Z\" fill=\"#000000\" fill-rule=\"evenodd\" fill-opacity=\"1\" /><path clip-path=\"url(#clip250)\" d=\"M151.339 588.52 Q147.728 588.52 145.899 592.085 Q144.093 595.626 144.093 602.756 Q144.093 609.862 145.899 613.427 Q147.728 616.969 151.339 616.969 Q154.973 616.969 156.779 613.427 Q158.607 609.862 158.607 602.756 Q158.607 595.626 156.779 592.085 Q154.973 588.52 151.339 588.52 M151.339 584.816 Q157.149 584.816 160.205 589.423 Q163.283 594.006 163.283 602.756 Q163.283 611.483 160.205 616.089 Q157.149 620.672 151.339 620.672 Q145.529 620.672 142.45 616.089 Q139.394 611.483 139.394 602.756 Q139.394 594.006 142.45 589.423 Q145.529 584.816 151.339 584.816 Z\" fill=\"#000000\" fill-rule=\"evenodd\" fill-opacity=\"1\" /><path clip-path=\"url(#clip250)\" d=\"M51.6634 334.473 L59.3023 334.473 L59.3023 308.107 L50.9921 309.774 L50.9921 305.515 L59.256 303.848 L63.9319 303.848 L63.9319 334.473 L71.5707 334.473 L71.5707 338.408 L51.6634 338.408 L51.6634 334.473 Z\" fill=\"#000000\" fill-rule=\"evenodd\" fill-opacity=\"1\" /><path clip-path=\"url(#clip250)\" d=\"M91.0151 306.927 Q87.404 306.927 85.5753 310.491 Q83.7697 314.033 83.7697 321.163 Q83.7697 328.269 85.5753 331.834 Q87.404 335.375 91.0151 335.375 Q94.6493 335.375 96.4548 331.834 Q98.2835 328.269 98.2835 321.163 Q98.2835 314.033 96.4548 310.491 Q94.6493 306.927 91.0151 306.927 M91.0151 303.223 Q96.8252 303.223 99.8808 307.829 Q102.959 312.413 102.959 321.163 Q102.959 329.889 99.8808 334.496 Q96.8252 339.079 91.0151 339.079 Q85.2049 339.079 82.1262 334.496 Q79.0707 329.889 79.0707 321.163 Q79.0707 312.413 82.1262 307.829 Q85.2049 303.223 91.0151 303.223 Z\" fill=\"#000000\" fill-rule=\"evenodd\" fill-opacity=\"1\" /><path clip-path=\"url(#clip250)\" d=\"M121.177 306.927 Q117.566 306.927 115.737 310.491 Q113.932 314.033 113.932 321.163 Q113.932 328.269 115.737 331.834 Q117.566 335.375 121.177 335.375 Q124.811 335.375 126.617 331.834 Q128.445 328.269 128.445 321.163 Q128.445 314.033 126.617 310.491 Q124.811 306.927 121.177 306.927 M121.177 303.223 Q126.987 303.223 130.043 307.829 Q133.121 312.413 133.121 321.163 Q133.121 329.889 130.043 334.496 Q126.987 339.079 121.177 339.079 Q115.367 339.079 112.288 334.496 Q109.233 329.889 109.233 321.163 Q109.233 312.413 112.288 307.829 Q115.367 303.223 121.177 303.223 Z\" fill=\"#000000\" fill-rule=\"evenodd\" fill-opacity=\"1\" /><path clip-path=\"url(#clip250)\" d=\"M151.339 306.927 Q147.728 306.927 145.899 310.491 Q144.093 314.033 144.093 321.163 Q144.093 328.269 145.899 331.834 Q147.728 335.375 151.339 335.375 Q154.973 335.375 156.779 331.834 Q158.607 328.269 158.607 321.163 Q158.607 314.033 156.779 310.491 Q154.973 306.927 151.339 306.927 M151.339 303.223 Q157.149 303.223 160.205 307.829 Q163.283 312.413 163.283 321.163 Q163.283 329.889 160.205 334.496 Q157.149 339.079 151.339 339.079 Q145.529 339.079 142.45 334.496 Q139.394 329.889 139.394 321.163 Q139.394 312.413 142.45 307.829 Q145.529 303.223 151.339 303.223 Z\" fill=\"#000000\" fill-rule=\"evenodd\" fill-opacity=\"1\" /><polyline clip-path=\"url(#clip252)\" style=\"stroke:#009af9; stroke-linecap:butt; stroke-linejoin:round; stroke-width:4; stroke-opacity:1; fill:none\" points=\"\n  260.231,1443 269.951,1347.05 279.671,703.91 289.392,87.9763 299.112,870.904 308.833,1313.3 318.553,1208.28 328.274,1017.71 337.994,841.601 347.715,771.833 \n  357.435,835.559 367.156,953.641 376.876,1020.07 386.597,1005.43 396.317,953.54 406.038,912.576 415.758,900.986 425.479,913.443 435.199,934.45 444.919,949.544 \n  454.64,952.461 464.36,945.891 474.081,936.843 483.801,931.083 493.522,930.41 503.242,933.273 512.963,936.926 522.683,939.277 532.404,939.65 542.124,938.573 \n  551.845,937.079 561.565,936.026 571.286,935.755 581.006,936.115 590.726,936.715 600.447,937.197 610.167,937.384 619.888,937.296 629.608,937.069 639.329,936.851 \n  649.049,936.734 658.77,936.734 668.49,936.81 678.211,936.903 687.931,936.969 697.652,936.988 707.372,936.97 717.093,936.934 726.813,936.901 736.534,936.884 \n  746.254,936.883 755.974,936.895 765.695,936.909 775.415,936.92 785.136,936.924 794.856,936.922 804.577,936.917 814.297,936.911 824.018,936.908 833.738,936.907 \n  843.459,936.908 853.179,936.911 862.9,936.913 872.62,936.914 882.341,936.914 892.061,936.913 901.781,936.912 911.502,936.912 921.222,936.911 930.943,936.911 \n  940.663,936.911 950.384,936.912 960.104,936.912 969.825,936.912 979.545,936.912 989.266,936.912 998.986,936.912 1008.71,936.912 1018.43,936.912 1028.15,936.912 \n  1037.87,936.912 1047.59,936.912 1057.31,936.912 1067.03,936.912 1076.75,936.912 1086.47,936.912 1096.19,936.912 1105.91,936.912 1115.63,936.912 1125.35,936.912 \n  1135.07,936.912 1144.79,936.912 1154.51,936.912 1164.23,936.912 1173.95,936.912 1183.68,936.912 1193.4,936.912 1203.12,936.912 1212.84,936.912 1222.56,936.912 \n  1232.28,936.912 1242,936.912 1251.72,936.912 1261.44,936.912 1271.16,936.912 1280.88,936.912 1290.6,936.912 1300.32,936.912 1310.04,936.912 1319.76,936.912 \n  1329.48,936.912 1339.2,936.912 1348.92,936.912 1358.64,936.912 1368.36,936.912 1378.08,936.912 1387.8,936.912 1397.53,936.912 1407.25,936.912 1416.97,936.912 \n  1426.69,936.912 1436.41,936.912 1446.13,936.912 1455.85,936.912 1465.57,936.912 1475.29,936.912 1485.01,936.912 1494.73,936.912 1504.45,936.912 1514.17,936.912 \n  1523.89,936.912 1533.61,936.912 1543.33,936.912 1553.05,936.912 1562.77,936.912 1572.49,936.912 1582.21,936.912 1591.93,936.912 1601.66,936.912 1611.38,936.912 \n  1621.1,936.912 1630.82,936.912 1640.54,936.912 1650.26,936.912 1659.98,936.912 1669.7,936.912 1679.42,936.912 1689.14,936.912 1698.86,936.912 1708.58,936.912 \n  1718.3,936.912 1728.02,936.912 1737.74,936.912 1747.46,936.912 1757.18,936.912 1766.9,936.912 1776.62,936.912 1786.34,936.912 1796.06,936.912 1805.79,936.912 \n  1815.51,936.912 1825.23,936.912 1834.95,936.912 1844.67,936.912 1854.39,936.912 1864.11,936.912 1873.83,936.912 1883.55,936.912 1893.27,936.912 1902.99,936.912 \n  1912.71,936.912 1922.43,936.912 1932.15,936.912 1941.87,936.912 1951.59,936.912 1961.31,936.912 1971.03,936.912 1980.75,936.912 1990.47,936.912 2000.19,936.912 \n  2009.91,936.912 2019.64,936.912 2029.36,936.912 2039.08,936.912 2048.8,936.912 2058.52,936.912 2068.24,936.912 2077.96,936.912 2087.68,936.912 2097.4,936.912 \n  2107.12,936.912 2116.84,936.912 2126.56,936.912 2136.28,936.912 2146,936.912 2155.72,936.912 2165.44,936.912 2175.16,936.912 2184.88,936.912 2194.6,936.912 \n  2204.32,936.912 2214.04,936.912 2223.77,936.912 2233.49,936.912 2243.21,936.912 2252.93,936.912 2262.65,936.912 2272.37,936.912 2282.09,936.912 2291.81,936.912 \n  \n  \"/>\n<polyline clip-path=\"url(#clip252)\" style=\"stroke:#e26f46; stroke-linecap:butt; stroke-linejoin:round; stroke-width:4; stroke-opacity:1; fill:none\" points=\"\n  260.231,1444.44 269.951,1413.19 279.671,1299.47 289.392,1135.7 299.112,1007.62 308.833,950.611 318.553,937.578 328.274,936.767 337.994,936.914 347.715,936.914 \n  357.435,936.912 367.156,936.912 376.876,936.912 386.597,936.912 396.317,936.912 406.038,936.912 415.758,936.912 425.479,936.912 435.199,936.912 444.919,936.912 \n  454.64,936.912 464.36,936.912 474.081,936.912 483.801,936.912 493.522,936.912 503.242,936.912 512.963,936.912 522.683,936.912 532.404,936.912 542.124,936.912 \n  551.845,936.912 561.565,936.912 571.286,936.912 581.006,936.912 590.726,936.912 600.447,936.912 610.167,936.912 619.888,936.912 629.608,936.912 639.329,936.912 \n  649.049,936.912 658.77,936.912 668.49,936.912 678.211,936.912 687.931,936.912 697.652,936.912 707.372,936.912 717.093,936.912 726.813,936.912 736.534,936.912 \n  746.254,936.912 755.974,936.912 765.695,936.912 775.415,936.912 785.136,936.912 794.856,936.912 804.577,936.912 814.297,936.912 824.018,936.912 833.738,936.912 \n  843.459,936.912 853.179,936.912 862.9,936.912 872.62,936.912 882.341,936.912 892.061,936.912 901.781,936.912 911.502,936.912 921.222,936.912 930.943,936.912 \n  940.663,936.912 950.384,936.912 960.104,936.912 969.825,936.912 979.545,936.912 989.266,936.912 998.986,936.912 1008.71,936.912 1018.43,936.912 1028.15,936.912 \n  1037.87,936.912 1047.59,936.912 1057.31,936.912 1067.03,936.912 1076.75,936.912 1086.47,936.912 1096.19,936.912 1105.91,936.912 1115.63,936.912 1125.35,936.912 \n  1135.07,936.912 1144.79,936.912 1154.51,936.912 1164.23,936.912 1173.95,936.912 1183.68,936.912 1193.4,936.912 1203.12,936.912 1212.84,936.912 1222.56,936.912 \n  1232.28,936.912 1242,936.912 1251.72,936.912 1261.44,936.912 1271.16,936.912 1280.88,936.912 1290.6,936.912 1300.32,936.912 1310.04,936.912 1319.76,936.912 \n  1329.48,936.912 1339.2,936.912 1348.92,936.912 1358.64,936.912 1368.36,936.912 1378.08,936.912 1387.8,936.912 1397.53,936.912 1407.25,936.912 1416.97,936.912 \n  1426.69,936.912 1436.41,936.912 1446.13,936.912 1455.85,936.912 1465.57,936.912 1475.29,936.912 1485.01,936.912 1494.73,936.912 1504.45,936.912 1514.17,936.912 \n  1523.89,936.912 1533.61,936.912 1543.33,936.912 1553.05,936.912 1562.77,936.912 1572.49,936.912 1582.21,936.912 1591.93,936.912 1601.66,936.912 1611.38,936.912 \n  1621.1,936.912 1630.82,936.912 1640.54,936.912 1650.26,936.912 1659.98,936.912 1669.7,936.912 1679.42,936.912 1689.14,936.912 1698.86,936.912 1708.58,936.912 \n  1718.3,936.912 1728.02,936.912 1737.74,936.912 1747.46,936.912 1757.18,936.912 1766.9,936.912 1776.62,936.912 1786.34,936.912 1796.06,936.912 1805.79,936.912 \n  1815.51,936.912 1825.23,936.912 1834.95,936.912 1844.67,936.912 1854.39,936.912 1864.11,936.912 1873.83,936.912 1883.55,936.912 1893.27,936.912 1902.99,936.912 \n  1912.71,936.912 1922.43,936.912 1932.15,936.912 1941.87,936.912 1951.59,936.912 1961.31,936.912 1971.03,936.912 1980.75,936.912 1990.47,936.912 2000.19,936.912 \n  2009.91,936.912 2019.64,936.912 2029.36,936.912 2039.08,936.912 2048.8,936.912 2058.52,936.912 2068.24,936.912 2077.96,936.912 2087.68,936.912 2097.4,936.912 \n  2107.12,936.912 2116.84,936.912 2126.56,936.912 2136.28,936.912 \n  \"/>\n<polyline clip-path=\"url(#clip252)\" style=\"stroke:#3da44d; stroke-linecap:butt; stroke-linejoin:round; stroke-width:4; stroke-opacity:1; fill:none\" points=\"\n  260.231,1445.52 269.951,1445.72 279.671,1444.62 289.392,1444.06 299.112,1442.65 308.833,1441.48 318.553,1439.67 328.274,1438 337.994,1435.82 347.715,1433.73 \n  357.435,1431.21 367.156,1428.76 376.876,1425.95 386.597,1423.2 396.317,1420.13 406.038,1417.12 415.758,1413.84 425.479,1410.6 435.199,1407.13 444.919,1403.71 \n  454.64,1400.08 464.36,1396.51 474.081,1392.74 483.801,1389.03 493.522,1385.15 503.242,1381.33 512.963,1377.36 522.683,1373.45 532.404,1369.41 542.124,1365.42 \n  551.845,1361.32 561.565,1357.28 571.286,1353.13 581.006,1349.05 590.726,1344.87 600.447,1340.76 610.167,1336.56 619.888,1332.43 629.608,1328.23 639.329,1324.09 \n  649.049,1319.88 658.77,1315.75 668.49,1311.55 678.211,1307.42 687.931,1303.24 697.652,1299.13 707.372,1294.97 717.093,1290.89 726.813,1286.76 736.534,1282.7 \n  746.254,1278.61 755.974,1274.58 765.695,1270.53 775.415,1266.55 785.136,1262.54 794.856,1258.6 804.577,1254.64 814.297,1250.74 824.018,1246.83 833.738,1242.99 \n  843.459,1239.13 853.179,1235.34 862.9,1231.54 872.62,1227.81 882.341,1224.06 892.061,1220.39 901.781,1216.71 911.502,1213.09 921.222,1209.47 930.943,1205.92 \n  940.663,1202.36 950.384,1198.87 960.104,1195.37 969.825,1191.95 979.545,1188.52 989.266,1185.16 998.986,1181.79 1008.71,1178.5 1018.43,1175.2 1028.15,1171.97 \n  1037.87,1168.73 1047.59,1165.57 1057.31,1162.4 1067.03,1159.3 1076.75,1156.21 1086.47,1153.17 1096.19,1150.14 1105.91,1147.17 1115.63,1144.21 1125.35,1141.3 \n  1135.07,1138.4 1144.79,1135.57 1154.51,1132.73 1164.23,1129.96 1173.95,1127.19 1183.68,1124.48 1193.4,1121.78 1203.12,1119.13 1212.84,1116.49 1222.56,1113.91 \n  1232.28,1111.33 1242,1108.82 1251.72,1106.3 1261.44,1103.84 1271.16,1101.39 1280.88,1098.99 1290.6,1096.6 1300.32,1094.26 1310.04,1091.93 1319.76,1089.65 \n  1329.48,1087.38 1339.2,1085.15 1348.92,1082.94 1358.64,1080.78 1368.36,1078.62 1378.08,1076.51 1387.8,1074.41 1397.53,1072.35 1407.25,1070.31 1416.97,1068.31 \n  1426.69,1066.31 1436.41,1064.37 1446.13,1062.43 1455.85,1060.53 1465.57,1058.65 1475.29,1056.8 1485.01,1054.97 1494.73,1053.17 1504.45,1051.39 1514.17,1049.64 \n  1523.89,1047.9 1533.61,1046.21 1543.33,1044.52 1553.05,1042.87 1562.77,1041.22 1572.49,1039.62 1582.21,1038.02 1591.93,1036.47 1601.66,1034.91 1611.38,1033.4 \n  1621.1,1031.89 1630.82,1030.42 1640.54,1028.95 1650.26,1027.52 1659.98,1026.09 1669.7,1024.71 1679.42,1023.32 1689.14,1021.97 1698.86,1020.63 1708.58,1019.32 \n  1718.3,1018.01 1728.02,1016.74 1737.74,1015.47 1747.46,1014.24 1757.18,1013 1766.9,1011.81 1776.62,1010.61 1786.34,1009.45 1796.06,1008.28 1805.79,1007.16 \n  1815.51,1006.03 1825.23,1004.93 1834.95,1003.84 1844.67,1002.78 1854.39,1001.72 1864.11,1000.69 1873.83,999.655 1883.55,998.656 1893.27,997.656 1902.99,996.687 \n  1912.71,995.717 1922.43,994.777 1932.15,993.836 1941.87,992.925 1951.59,992.012 1961.31,991.128 1971.03,990.243 1980.75,989.386 1990.47,988.528 2000.19,987.697 \n  2009.91,986.865 2019.64,986.06 2029.36,985.253 2039.08,984.473 2048.8,983.69 2058.52,982.934 2068.24,982.175 2077.96,981.443 2087.68,980.707 2097.4,979.998 \n  2107.12,979.285 2116.84,978.597 2126.56,977.906 2136.28,977.24 2146,976.571 2155.72,975.925 2165.44,975.276 2175.16,974.651 2184.88,974.023 2194.6,973.417 \n  2204.32,972.808 2214.04,972.222 2223.77,971.632 2233.49,971.064 2243.21,970.492 2252.93,969.942 2262.65,969.388 2272.37,968.856 2282.09,968.319 2291.81,967.804 \n  \n  \"/>\n<polyline clip-path=\"url(#clip252)\" style=\"stroke:#c271d2; stroke-linecap:butt; stroke-linejoin:round; stroke-width:4; stroke-opacity:1; fill:none\" points=\"\n  -1954.19,936.912 4506.23,936.912 \n  \"/>\n<path clip-path=\"url(#clip250)\" d=\"\nM1899.96 354.418 L2280.97 354.418 L2280.97 95.2176 L1899.96 95.2176  Z\n  \" fill=\"#ffffff\" fill-rule=\"evenodd\" fill-opacity=\"1\"/>\n<polyline clip-path=\"url(#clip250)\" style=\"stroke:#000000; stroke-linecap:butt; stroke-linejoin:round; stroke-width:4; stroke-opacity:1; fill:none\" points=\"\n  1899.96,354.418 2280.97,354.418 2280.97,95.2176 1899.96,95.2176 1899.96,354.418 \n  \"/>\n<polyline clip-path=\"url(#clip250)\" style=\"stroke:#009af9; stroke-linecap:butt; stroke-linejoin:round; stroke-width:4; stroke-opacity:1; fill:none\" points=\"\n  1923.89,147.058 2067.46,147.058 \n  \"/>\n<path clip-path=\"url(#clip250)\" d=\"M2116.94 159.407 L2116.94 150.125 L2109.3 150.125 L2109.3 146.282 L2121.57 146.282 L2121.57 161.12 Q2118.86 163.041 2115.6 164.037 Q2112.33 165.009 2108.63 165.009 Q2100.53 165.009 2095.94 160.287 Q2091.38 155.541 2091.38 147.092 Q2091.38 138.62 2095.94 133.898 Q2100.53 129.153 2108.63 129.153 Q2112.01 129.153 2115.04 129.986 Q2118.1 130.819 2120.67 132.44 L2120.67 137.416 Q2118.07 135.217 2115.16 134.106 Q2112.24 132.995 2109.02 132.995 Q2102.68 132.995 2099.48 136.537 Q2096.31 140.078 2096.31 147.092 Q2096.31 154.083 2099.48 157.625 Q2102.68 161.166 2109.02 161.166 Q2111.5 161.166 2113.44 160.75 Q2115.39 160.31 2116.94 159.407 Z\" fill=\"#000000\" fill-rule=\"evenodd\" fill-opacity=\"1\" /><path clip-path=\"url(#clip250)\" d=\"M2130.11 129.778 L2134.79 129.778 L2134.79 160.402 L2151.61 160.402 L2151.61 164.338 L2130.11 164.338 L2130.11 129.778 Z\" fill=\"#000000\" fill-rule=\"evenodd\" fill-opacity=\"1\" /><polyline clip-path=\"url(#clip250)\" style=\"stroke:#e26f46; stroke-linecap:butt; stroke-linejoin:round; stroke-width:4; stroke-opacity:1; fill:none\" points=\"\n  1923.89,198.898 2067.46,198.898 \n  \"/>\n<path clip-path=\"url(#clip250)\" d=\"M2116.94 211.247 L2116.94 201.965 L2109.3 201.965 L2109.3 198.122 L2121.57 198.122 L2121.57 212.96 Q2118.86 214.881 2115.6 215.877 Q2112.33 216.849 2108.63 216.849 Q2100.53 216.849 2095.94 212.127 Q2091.38 207.381 2091.38 198.932 Q2091.38 190.46 2095.94 185.738 Q2100.53 180.993 2108.63 180.993 Q2112.01 180.993 2115.04 181.826 Q2118.1 182.659 2120.67 184.28 L2120.67 189.256 Q2118.07 187.057 2115.16 185.946 Q2112.24 184.835 2109.02 184.835 Q2102.68 184.835 2099.48 188.377 Q2096.31 191.918 2096.31 198.932 Q2096.31 205.923 2099.48 209.465 Q2102.68 213.006 2109.02 213.006 Q2111.5 213.006 2113.44 212.59 Q2115.39 212.15 2116.94 211.247 Z\" fill=\"#000000\" fill-rule=\"evenodd\" fill-opacity=\"1\" /><path clip-path=\"url(#clip250)\" d=\"M2130.11 181.618 L2134.79 181.618 L2134.79 212.242 L2151.61 212.242 L2151.61 216.178 L2130.11 216.178 L2130.11 181.618 Z\" fill=\"#000000\" fill-rule=\"evenodd\" fill-opacity=\"1\" /><path clip-path=\"url(#clip250)\" d=\"M2168.12 203.145 Q2162.96 203.145 2160.97 204.326 Q2158.98 205.506 2158.98 208.354 Q2158.98 210.622 2160.46 211.965 Q2161.96 213.284 2164.53 213.284 Q2168.07 213.284 2170.2 210.784 Q2172.35 208.261 2172.35 204.094 L2172.35 203.145 L2168.12 203.145 M2176.61 201.386 L2176.61 216.178 L2172.35 216.178 L2172.35 212.242 Q2170.9 214.603 2168.72 215.738 Q2166.54 216.849 2163.4 216.849 Q2159.42 216.849 2157.05 214.627 Q2154.72 212.381 2154.72 208.631 Q2154.72 204.256 2157.63 202.034 Q2160.57 199.812 2166.38 199.812 L2172.35 199.812 L2172.35 199.395 Q2172.35 196.455 2170.41 194.858 Q2168.49 193.238 2164.99 193.238 Q2162.77 193.238 2160.67 193.77 Q2158.56 194.303 2156.61 195.367 L2156.61 191.432 Q2158.95 190.53 2161.15 190.09 Q2163.35 189.627 2165.43 189.627 Q2171.06 189.627 2173.84 192.543 Q2176.61 195.46 2176.61 201.386 Z\" fill=\"#000000\" fill-rule=\"evenodd\" fill-opacity=\"1\" /><polyline clip-path=\"url(#clip250)\" style=\"stroke:#3da44d; stroke-linecap:butt; stroke-linejoin:round; stroke-width:4; stroke-opacity:1; fill:none\" points=\"\n  1923.89,250.738 2067.46,250.738 \n  \"/>\n<path clip-path=\"url(#clip250)\" d=\"M2116.94 263.087 L2116.94 253.805 L2109.3 253.805 L2109.3 249.962 L2121.57 249.962 L2121.57 264.8 Q2118.86 266.721 2115.6 267.717 Q2112.33 268.689 2108.63 268.689 Q2100.53 268.689 2095.94 263.967 Q2091.38 259.221 2091.38 250.772 Q2091.38 242.3 2095.94 237.578 Q2100.53 232.833 2108.63 232.833 Q2112.01 232.833 2115.04 233.666 Q2118.1 234.499 2120.67 236.12 L2120.67 241.096 Q2118.07 238.897 2115.16 237.786 Q2112.24 236.675 2109.02 236.675 Q2102.68 236.675 2099.48 240.217 Q2096.31 243.758 2096.31 250.772 Q2096.31 257.763 2099.48 261.305 Q2102.68 264.846 2109.02 264.846 Q2111.5 264.846 2113.44 264.43 Q2115.39 263.99 2116.94 263.087 Z\" fill=\"#000000\" fill-rule=\"evenodd\" fill-opacity=\"1\" /><path clip-path=\"url(#clip250)\" d=\"M2130.11 233.458 L2134.79 233.458 L2134.79 247.624 L2151.78 247.624 L2151.78 233.458 L2156.45 233.458 L2156.45 268.018 L2151.78 268.018 L2151.78 251.559 L2134.79 251.559 L2134.79 268.018 L2130.11 268.018 L2130.11 233.458 Z\" fill=\"#000000\" fill-rule=\"evenodd\" fill-opacity=\"1\" /><polyline clip-path=\"url(#clip250)\" style=\"stroke:#c271d2; stroke-linecap:butt; stroke-linejoin:round; stroke-width:4; stroke-opacity:1; fill:none\" points=\"\n  1923.89,302.578 2067.46,302.578 \n  \"/>\n<path clip-path=\"url(#clip250)\" d=\"M2098.79 286.571 L2098.79 293.932 L2107.56 293.932 L2107.56 297.242 L2098.79 297.242 L2098.79 311.316 Q2098.79 314.487 2099.65 315.39 Q2100.53 316.293 2103.19 316.293 L2107.56 316.293 L2107.56 319.858 L2103.19 319.858 Q2098.26 319.858 2096.38 318.029 Q2094.51 316.177 2094.51 311.316 L2094.51 297.242 L2091.38 297.242 L2091.38 293.932 L2094.51 293.932 L2094.51 286.571 L2098.79 286.571 Z\" fill=\"#000000\" fill-rule=\"evenodd\" fill-opacity=\"1\" /><path clip-path=\"url(#clip250)\" d=\"M2124.95 306.825 Q2119.79 306.825 2117.8 308.006 Q2115.8 309.186 2115.8 312.034 Q2115.8 314.302 2117.29 315.645 Q2118.79 316.964 2121.36 316.964 Q2124.9 316.964 2127.03 314.464 Q2129.18 311.941 2129.18 307.774 L2129.18 306.825 L2124.95 306.825 M2133.44 305.066 L2133.44 319.858 L2129.18 319.858 L2129.18 315.922 Q2127.73 318.283 2125.55 319.418 Q2123.37 320.529 2120.23 320.529 Q2116.24 320.529 2113.88 318.307 Q2111.55 316.061 2111.55 312.311 Q2111.55 307.936 2114.46 305.714 Q2117.4 303.492 2123.21 303.492 L2129.18 303.492 L2129.18 303.075 Q2129.18 300.135 2127.24 298.538 Q2125.32 296.918 2121.82 296.918 Q2119.6 296.918 2117.49 297.45 Q2115.39 297.983 2113.44 299.047 L2113.44 295.112 Q2115.78 294.21 2117.98 293.77 Q2120.18 293.307 2122.26 293.307 Q2127.89 293.307 2130.67 296.223 Q2133.44 299.14 2133.44 305.066 Z\" fill=\"#000000\" fill-rule=\"evenodd\" fill-opacity=\"1\" /><path clip-path=\"url(#clip250)\" d=\"M2157.24 297.913 Q2156.52 297.497 2155.67 297.311 Q2154.83 297.103 2153.81 297.103 Q2150.2 297.103 2148.26 299.464 Q2146.34 301.802 2146.34 306.2 L2146.34 319.858 L2142.05 319.858 L2142.05 293.932 L2146.34 293.932 L2146.34 297.96 Q2147.68 295.598 2149.83 294.464 Q2151.98 293.307 2155.06 293.307 Q2155.5 293.307 2156.04 293.376 Q2156.57 293.423 2157.22 293.538 L2157.24 297.913 Z\" fill=\"#000000\" fill-rule=\"evenodd\" fill-opacity=\"1\" /><path clip-path=\"url(#clip250)\" d=\"M2177.93 306.594 Q2177.93 301.964 2176.01 299.418 Q2174.11 296.872 2170.67 296.872 Q2167.24 296.872 2165.32 299.418 Q2163.42 301.964 2163.42 306.594 Q2163.42 311.2 2165.32 313.746 Q2167.24 316.293 2170.67 316.293 Q2174.11 316.293 2176.01 313.746 Q2177.93 311.2 2177.93 306.594 M2182.19 316.64 Q2182.19 323.26 2179.25 326.478 Q2176.31 329.719 2170.25 329.719 Q2168 329.719 2166.01 329.371 Q2164.02 329.047 2162.15 328.353 L2162.15 324.209 Q2164.02 325.228 2165.85 325.714 Q2167.68 326.2 2169.58 326.2 Q2173.77 326.2 2175.85 324.001 Q2177.93 321.825 2177.93 317.404 L2177.93 315.297 Q2176.61 317.589 2174.55 318.723 Q2172.49 319.858 2169.62 319.858 Q2164.86 319.858 2161.94 316.223 Q2159.02 312.589 2159.02 306.594 Q2159.02 300.575 2161.94 296.941 Q2164.86 293.307 2169.62 293.307 Q2172.49 293.307 2174.55 294.441 Q2176.61 295.575 2177.93 297.867 L2177.93 293.932 L2182.19 293.932 L2182.19 316.64 Z\" fill=\"#000000\" fill-rule=\"evenodd\" fill-opacity=\"1\" /><path clip-path=\"url(#clip250)\" d=\"M2213.14 305.83 L2213.14 307.913 L2193.56 307.913 Q2193.84 312.311 2196.2 314.626 Q2198.58 316.918 2202.82 316.918 Q2205.27 316.918 2207.56 316.316 Q2209.88 315.714 2212.15 314.51 L2212.15 318.538 Q2209.85 319.51 2207.45 320.02 Q2205.04 320.529 2202.56 320.529 Q2196.36 320.529 2192.73 316.918 Q2189.11 313.307 2189.11 307.149 Q2189.11 300.784 2192.54 297.057 Q2195.99 293.307 2201.82 293.307 Q2207.05 293.307 2210.09 296.686 Q2213.14 300.043 2213.14 305.83 M2208.88 304.58 Q2208.84 301.085 2206.91 299.001 Q2205.02 296.918 2201.87 296.918 Q2198.3 296.918 2196.15 298.932 Q2194.02 300.946 2193.7 304.603 L2208.88 304.58 Z\" fill=\"#000000\" fill-rule=\"evenodd\" fill-opacity=\"1\" /><path clip-path=\"url(#clip250)\" d=\"M2224.35 286.571 L2224.35 293.932 L2233.12 293.932 L2233.12 297.242 L2224.35 297.242 L2224.35 311.316 Q2224.35 314.487 2225.2 315.39 Q2226.08 316.293 2228.74 316.293 L2233.12 316.293 L2233.12 319.858 L2228.74 319.858 Q2223.81 319.858 2221.94 318.029 Q2220.06 316.177 2220.06 311.316 L2220.06 297.242 L2216.94 297.242 L2216.94 293.932 L2220.06 293.932 L2220.06 286.571 L2224.35 286.571 Z\" fill=\"#000000\" fill-rule=\"evenodd\" fill-opacity=\"1\" /></svg>\n"
               },
               "type": "node"
              }
             ],
             "instanceArgs": {
              "namespace": "html",
              "tag": "div"
             },
             "nodeType": "DOM",
             "props": {
              "className": "interact-flex-row interact-widget"
             },
             "type": "node"
            }
           }
          },
          "systemjs_options": null
         },
         "nodeType": "Scope",
         "props": {},
         "type": "node"
        }
       ],
       "instanceArgs": {
        "namespace": "html",
        "tag": "div"
       },
       "nodeType": "DOM",
       "props": {},
       "type": "node"
      },
      "text/html": [
       "<div\n",
       "    class=\"webio-mountpoint\"\n",
       "    data-webio-mountpoint=\"15868883753934510607\"\n",
       ">\n",
       "    <script>\n",
       "    (function(){\n",
       "    // Some integrations (namely, IJulia/Jupyter) use an alternate render pathway than\n",
       "    // just putting the html on the page. If WebIO isn't defined, then it's pretty likely\n",
       "    // that we're in one of those situations and the integration just isn't installed\n",
       "    // correctly.\n",
       "    if (typeof window.WebIO === \"undefined\") {\n",
       "        document\n",
       "            .querySelector('[data-webio-mountpoint=\"15868883753934510607\"]')\n",
       "            .innerHTML = (\n",
       "                '<div style=\"padding: 1em; background-color: #f8d6da; border: 1px solid #f5c6cb; font-weight: bold;\">' +\n",
       "                '<p><strong>WebIO not detected.</strong></p>' +\n",
       "                '<p>Please read ' +\n",
       "                '<a href=\"https://juliagizmos.github.io/WebIO.jl/latest/troubleshooting/not-detected/\" target=\"_blank\">the troubleshooting guide</a> ' +\n",
       "                'for more information on how to resolve this issue.</p>' +\n",
       "                '<p><a href=\"https://juliagizmos.github.io/WebIO.jl/latest/troubleshooting/not-detected/\" target=\"_blank\">https://juliagizmos.github.io/WebIO.jl/latest/troubleshooting/not-detected/</a></p>' +\n",
       "                '</div>'\n",
       "            );\n",
       "        return;\n",
       "    }\n",
       "    WebIO.mount(\n",
       "        document.querySelector('[data-webio-mountpoint=\"15868883753934510607\"]'),\n",
       "        {\"props\":{},\"nodeType\":\"DOM\",\"type\":\"node\",\"instanceArgs\":{\"namespace\":\"html\",\"tag\":\"div\"},\"children\":[{\"props\":{\"className\":\"interact-widget\"},\"nodeType\":\"DOM\",\"type\":\"node\",\"instanceArgs\":{\"namespace\":\"html\",\"tag\":\"div\"},\"children\":[{\"props\":{},\"nodeType\":\"Scope\",\"type\":\"node\",\"instanceArgs\":{\"imports\":{\"data\":[{\"name\":\"knockout\",\"type\":\"js\",\"url\":\"\\/assetserver\\/a0663ad37bdb924bb8f58218fb6104c40c026f21-knockout.js\"},{\"name\":\"knockout_punches\",\"type\":\"js\",\"url\":\"\\/assetserver\\/c0559b701cdaac29f8d4c071931238140df0ba9e-knockout_punches.js\"},{\"name\":null,\"type\":\"js\",\"url\":\"\\/assetserver\\/6903f16a2fa666a30d8cd2d6208cd478f2652502-all.js\"},{\"name\":null,\"type\":\"css\",\"url\":\"\\/assetserver\\/7d705742052c6f6628e73b4f886fdd4d3b8c526b-style.css\"},{\"name\":null,\"type\":\"css\",\"url\":\"\\/assetserver\\/47bdb778fdc8f5b8223473593d42cb825a0e5022-bulma_confined.min.css\"}],\"type\":\"async_block\"},\"id\":\"3462368132299938738\",\"handlers\":{\"options_js\":[\"(function (val){return (val!=this.model[\\\"options_js\\\"]()) ? (this.valueFromJulia[\\\"options_js\\\"]=true, this.model[\\\"options_js\\\"](val)) : undefined})\"],\"index\":[\"(function (val){return (val!=this.model[\\\"index\\\"]()) ? (this.valueFromJulia[\\\"index\\\"]=true, this.model[\\\"index\\\"](val)) : undefined})\"]},\"systemjs_options\":null,\"mount_callbacks\":[\"function () {\\n    var handler = (function (ko, koPunches) {\\n    ko.punches.enableAll();\\n    ko.bindingHandlers.numericValue = {\\n        init: function(element, valueAccessor, allBindings, data, context) {\\n            var stringified = ko.observable(ko.unwrap(valueAccessor()));\\n            stringified.subscribe(function(value) {\\n                var val = parseFloat(value);\\n                if (!isNaN(val)) {\\n                    valueAccessor()(val);\\n                }\\n            });\\n            valueAccessor().subscribe(function(value) {\\n                var str = JSON.stringify(value);\\n                if ((str == \\\"0\\\") && ([\\\"-0\\\", \\\"-0.\\\"].indexOf(stringified()) >= 0))\\n                     return;\\n                 if ([\\\"null\\\", \\\"\\\"].indexOf(str) >= 0)\\n                     return;\\n                stringified(str);\\n            });\\n            ko.applyBindingsToNode(\\n                element,\\n                {\\n                    value: stringified,\\n                    valueUpdate: allBindings.get('valueUpdate'),\\n                },\\n                context,\\n            );\\n        }\\n    };\\n    var json_data = {\\\"options_js\\\":WebIO.getval({\\\"name\\\":\\\"options_js\\\",\\\"scope\\\":\\\"3462368132299938738\\\",\\\"id\\\":\\\"16153476440537225631\\\",\\\"type\\\":\\\"observable\\\"}),\\\"index\\\":WebIO.getval({\\\"name\\\":\\\"index\\\",\\\"scope\\\":\\\"3462368132299938738\\\",\\\"id\\\":\\\"6685449674466633052\\\",\\\"type\\\":\\\"observable\\\"})};\\n    var self = this;\\n    function AppViewModel() {\\n        for (var key in json_data) {\\n            var el = json_data[key];\\n            this[key] = Array.isArray(el) ? ko.observableArray(el) : ko.observable(el);\\n        }\\n        [this[\\\"update\\\"]=function (val) {this.index(val)}]\\n        \\n        [this[\\\"options_js\\\"].subscribe((function (val){!(this.valueFromJulia[\\\"options_js\\\"]) ? (WebIO.setval({\\\"name\\\":\\\"options_js\\\",\\\"scope\\\":\\\"3462368132299938738\\\",\\\"id\\\":\\\"16153476440537225631\\\",\\\"type\\\":\\\"observable\\\"},val)) : undefined; return this.valueFromJulia[\\\"options_js\\\"]=false}),self),this[\\\"index\\\"].subscribe((function (val){!(this.valueFromJulia[\\\"index\\\"]) ? (WebIO.setval({\\\"name\\\":\\\"index\\\",\\\"scope\\\":\\\"3462368132299938738\\\",\\\"id\\\":\\\"6685449674466633052\\\",\\\"type\\\":\\\"observable\\\"},val)) : undefined; return this.valueFromJulia[\\\"index\\\"]=false}),self)]\\n        \\n    }\\n    self.model = new AppViewModel();\\n    self.valueFromJulia = {};\\n    for (var key in json_data) {\\n        self.valueFromJulia[key] = false;\\n    }\\n    ko.applyBindings(self.model, self.dom);\\n}\\n);\\n    (WebIO.importBlock({\\\"data\\\":[{\\\"name\\\":\\\"knockout\\\",\\\"type\\\":\\\"js\\\",\\\"url\\\":\\\"\\/assetserver\\/a0663ad37bdb924bb8f58218fb6104c40c026f21-knockout.js\\\"},{\\\"name\\\":\\\"knockout_punches\\\",\\\"type\\\":\\\"js\\\",\\\"url\\\":\\\"\\/assetserver\\/c0559b701cdaac29f8d4c071931238140df0ba9e-knockout_punches.js\\\"}],\\\"type\\\":\\\"async_block\\\"})).then((imports) => handler.apply(this, imports));\\n}\\n\"],\"observables\":{\"options_js\":{\"sync\":false,\"id\":\"16153476440537225631\",\"value\":[{\"key\":\"-1\",\"val\":1,\"id\":\"idmNWo2l1U\"},{\"key\":\"0\",\"val\":2,\"id\":\"idemnd6ga0\"},{\"key\":\"-Inf\",\"val\":3,\"id\":\"idh7d8YGVq\"}]},\"index\":{\"sync\":true,\"id\":\"6685449674466633052\",\"value\":1}}},\"children\":[{\"props\":{\"className\":\"interact-flex-row interact-widget\"},\"nodeType\":\"DOM\",\"type\":\"node\",\"instanceArgs\":{\"namespace\":\"html\",\"tag\":\"div\"},\"children\":[{\"props\":{\"className\":\"interact-flex-row-left\"},\"nodeType\":\"DOM\",\"type\":\"node\",\"instanceArgs\":{\"namespace\":\"html\",\"tag\":\"div\"},\"children\":[{\"props\":{\"className\":\"interact \",\"style\":{\"padding\":\"5px 10px 0px 10px\"}},\"nodeType\":\"DOM\",\"type\":\"node\",\"instanceArgs\":{\"namespace\":\"html\",\"tag\":\"label\"},\"children\":[\"a\"]}]},{\"props\":{\"className\":\"interact-flex-row-center\"},\"nodeType\":\"DOM\",\"type\":\"node\",\"instanceArgs\":{\"namespace\":\"html\",\"tag\":\"div\"},\"children\":[{\"props\":{\"attributes\":{\"data-bind\":\"foreach : options_js\"},\"className\":\"buttons has-addons is-centered\"},\"nodeType\":\"DOM\",\"type\":\"node\",\"instanceArgs\":{\"namespace\":\"html\",\"tag\":\"div\"},\"children\":[{\"props\":{\"attributes\":{\"data-bind\":\"click: function (){$root.update(val)}, css: {'is-primary is-selected' : $root.index() == val, 'interact-widget is-medium button ' : true}\"}},\"nodeType\":\"DOM\",\"type\":\"node\",\"instanceArgs\":{\"namespace\":\"html\",\"tag\":\"span\"},\"children\":[{\"props\":{\"attributes\":{\"data-bind\":\"text : key\"}},\"nodeType\":\"DOM\",\"type\":\"node\",\"instanceArgs\":{\"namespace\":\"html\",\"tag\":\"label\"},\"children\":[]}]}]}]},{\"props\":{\"className\":\"interact-flex-row-right\"},\"nodeType\":\"DOM\",\"type\":\"node\",\"instanceArgs\":{\"namespace\":\"html\",\"tag\":\"div\"},\"children\":[{\"props\":{},\"nodeType\":\"DOM\",\"type\":\"node\",\"instanceArgs\":{\"namespace\":\"html\",\"tag\":\"div\"},\"children\":[]}]}]}]}]},{\"props\":{\"className\":\"field interact-widget\"},\"nodeType\":\"DOM\",\"type\":\"node\",\"instanceArgs\":{\"namespace\":\"html\",\"tag\":\"div\"},\"children\":[{\"props\":{},\"nodeType\":\"Scope\",\"type\":\"node\",\"instanceArgs\":{\"imports\":{\"data\":[{\"name\":\"knockout\",\"type\":\"js\",\"url\":\"\\/assetserver\\/a0663ad37bdb924bb8f58218fb6104c40c026f21-knockout.js\"},{\"name\":\"knockout_punches\",\"type\":\"js\",\"url\":\"\\/assetserver\\/c0559b701cdaac29f8d4c071931238140df0ba9e-knockout_punches.js\"},{\"name\":null,\"type\":\"js\",\"url\":\"\\/assetserver\\/6903f16a2fa666a30d8cd2d6208cd478f2652502-all.js\"},{\"name\":null,\"type\":\"css\",\"url\":\"\\/assetserver\\/7d705742052c6f6628e73b4f886fdd4d3b8c526b-style.css\"},{\"name\":null,\"type\":\"css\",\"url\":\"\\/assetserver\\/47bdb778fdc8f5b8223473593d42cb825a0e5022-bulma_confined.min.css\"}],\"type\":\"async_block\"},\"id\":\"9279612367422528752\",\"handlers\":{\"changes\":[\"(function (val){return (val!=this.model[\\\"changes\\\"]()) ? (this.valueFromJulia[\\\"changes\\\"]=true, this.model[\\\"changes\\\"](val)) : undefined})\"],\"index\":[\"(function (val){return (val!=this.model[\\\"index\\\"]()) ? (this.valueFromJulia[\\\"index\\\"]=true, this.model[\\\"index\\\"](val)) : undefined})\"]},\"systemjs_options\":null,\"mount_callbacks\":[\"function () {\\n    var handler = (function (ko, koPunches) {\\n    ko.punches.enableAll();\\n    ko.bindingHandlers.numericValue = {\\n        init: function(element, valueAccessor, allBindings, data, context) {\\n            var stringified = ko.observable(ko.unwrap(valueAccessor()));\\n            stringified.subscribe(function(value) {\\n                var val = parseFloat(value);\\n                if (!isNaN(val)) {\\n                    valueAccessor()(val);\\n                }\\n            });\\n            valueAccessor().subscribe(function(value) {\\n                var str = JSON.stringify(value);\\n                if ((str == \\\"0\\\") && ([\\\"-0\\\", \\\"-0.\\\"].indexOf(stringified()) >= 0))\\n                     return;\\n                 if ([\\\"null\\\", \\\"\\\"].indexOf(str) >= 0)\\n                     return;\\n                stringified(str);\\n            });\\n            ko.applyBindingsToNode(\\n                element,\\n                {\\n                    value: stringified,\\n                    valueUpdate: allBindings.get('valueUpdate'),\\n                },\\n                context,\\n            );\\n        }\\n    };\\n    var json_data = {\\\"formatted_vals\\\":[\\\"50\\\",\\\"70\\\",\\\"90\\\",\\\"110\\\",\\\"130\\\",\\\"150\\\",\\\"170\\\",\\\"190\\\",\\\"210\\\",\\\"230\\\",\\\"250\\\",\\\"270\\\",\\\"290\\\",\\\"310\\\",\\\"330\\\",\\\"350\\\",\\\"370\\\",\\\"390\\\"],\\\"changes\\\":WebIO.getval({\\\"name\\\":\\\"changes\\\",\\\"scope\\\":\\\"9279612367422528752\\\",\\\"id\\\":\\\"15880295591589519214\\\",\\\"type\\\":\\\"observable\\\"}),\\\"index\\\":WebIO.getval({\\\"name\\\":\\\"index\\\",\\\"scope\\\":\\\"9279612367422528752\\\",\\\"id\\\":\\\"16099153930954848570\\\",\\\"type\\\":\\\"observable\\\"})};\\n    var self = this;\\n    function AppViewModel() {\\n        for (var key in json_data) {\\n            var el = json_data[key];\\n            this[key] = Array.isArray(el) ? ko.observableArray(el) : ko.observable(el);\\n        }\\n        \\n        [this[\\\"formatted_val\\\"]=ko.computed(    function(){\\n        return this.formatted_vals()[parseInt(this.index())-(1)];\\n    }\\n,this)]\\n        [this[\\\"changes\\\"].subscribe((function (val){!(this.valueFromJulia[\\\"changes\\\"]) ? (WebIO.setval({\\\"name\\\":\\\"changes\\\",\\\"scope\\\":\\\"9279612367422528752\\\",\\\"id\\\":\\\"15880295591589519214\\\",\\\"type\\\":\\\"observable\\\"},val)) : undefined; return this.valueFromJulia[\\\"changes\\\"]=false}),self),this[\\\"index\\\"].subscribe((function (val){!(this.valueFromJulia[\\\"index\\\"]) ? (WebIO.setval({\\\"name\\\":\\\"index\\\",\\\"scope\\\":\\\"9279612367422528752\\\",\\\"id\\\":\\\"16099153930954848570\\\",\\\"type\\\":\\\"observable\\\"},val)) : undefined; return this.valueFromJulia[\\\"index\\\"]=false}),self)]\\n        \\n    }\\n    self.model = new AppViewModel();\\n    self.valueFromJulia = {};\\n    for (var key in json_data) {\\n        self.valueFromJulia[key] = false;\\n    }\\n    ko.applyBindings(self.model, self.dom);\\n}\\n);\\n    (WebIO.importBlock({\\\"data\\\":[{\\\"name\\\":\\\"knockout\\\",\\\"type\\\":\\\"js\\\",\\\"url\\\":\\\"\\/assetserver\\/a0663ad37bdb924bb8f58218fb6104c40c026f21-knockout.js\\\"},{\\\"name\\\":\\\"knockout_punches\\\",\\\"type\\\":\\\"js\\\",\\\"url\\\":\\\"\\/assetserver\\/c0559b701cdaac29f8d4c071931238140df0ba9e-knockout_punches.js\\\"}],\\\"type\\\":\\\"async_block\\\"})).then((imports) => handler.apply(this, imports));\\n}\\n\"],\"observables\":{\"changes\":{\"sync\":false,\"id\":\"15880295591589519214\",\"value\":0},\"index\":{\"sync\":true,\"id\":\"16099153930954848570\",\"value\":9}}},\"children\":[{\"props\":{\"className\":\"interact-flex-row interact-widget\"},\"nodeType\":\"DOM\",\"type\":\"node\",\"instanceArgs\":{\"namespace\":\"html\",\"tag\":\"div\"},\"children\":[{\"props\":{\"className\":\"interact-flex-row-left\"},\"nodeType\":\"DOM\",\"type\":\"node\",\"instanceArgs\":{\"namespace\":\"html\",\"tag\":\"div\"},\"children\":[{\"props\":{\"className\":\"interact \",\"style\":{\"padding\":\"5px 10px 0px 10px\"}},\"nodeType\":\"DOM\",\"type\":\"node\",\"instanceArgs\":{\"namespace\":\"html\",\"tag\":\"label\"},\"children\":[\"n\"]}]},{\"props\":{\"className\":\"interact-flex-row-center\"},\"nodeType\":\"DOM\",\"type\":\"node\",\"instanceArgs\":{\"namespace\":\"html\",\"tag\":\"div\"},\"children\":[{\"props\":{\"max\":18,\"min\":1,\"attributes\":{\"type\":\"range\",\"data-bind\":\"numericValue: index, valueUpdate: 'input', event: {change: function (){this.changes(this.changes()+1)}}\",\"orient\":\"horizontal\"},\"step\":1,\"className\":\"slider slider is-fullwidth\",\"style\":{}},\"nodeType\":\"DOM\",\"type\":\"node\",\"instanceArgs\":{\"namespace\":\"html\",\"tag\":\"input\"},\"children\":[]}]},{\"props\":{\"className\":\"interact-flex-row-right\"},\"nodeType\":\"DOM\",\"type\":\"node\",\"instanceArgs\":{\"namespace\":\"html\",\"tag\":\"div\"},\"children\":[{\"props\":{\"attributes\":{\"data-bind\":\"text: formatted_val\"}},\"nodeType\":\"DOM\",\"type\":\"node\",\"instanceArgs\":{\"namespace\":\"html\",\"tag\":\"p\"},\"children\":[]}]}]}]}]},{\"props\":{},\"nodeType\":\"Scope\",\"type\":\"node\",\"instanceArgs\":{\"imports\":{\"data\":[],\"type\":\"async_block\"},\"id\":\"7143565069997819610\",\"handlers\":{},\"systemjs_options\":null,\"mount_callbacks\":[],\"observables\":{\"obs-node\":{\"sync\":false,\"id\":\"15252532990998900857\",\"value\":{\"props\":{\"className\":\"interact-flex-row interact-widget\"},\"nodeType\":\"DOM\",\"type\":\"node\",\"instanceArgs\":{\"namespace\":\"html\",\"tag\":\"div\"},\"children\":[{\"props\":{\"setInnerHtml\":\"<?xml version=\\\"1.0\\\" encoding=\\\"utf-8\\\"?>\\n<svg xmlns=\\\"http:\\/\\/www.w3.org\\/2000\\/svg\\\" xmlns:xlink=\\\"http:\\/\\/www.w3.org\\/1999\\/xlink\\\" width=\\\"600\\\" height=\\\"400\\\" viewBox=\\\"0 0 2400 1600\\\">\\n<defs>\\n  <clipPath id=\\\"clip210\\\">\\n    <rect x=\\\"0\\\" y=\\\"0\\\" width=\\\"2400\\\" height=\\\"1600\\\"\\/>\\n  <\\/clipPath>\\n<\\/defs>\\n<path clip-path=\\\"url(#clip210)\\\" d=\\\"\\nM0 1600 L2400 1600 L2400 0 L0 0  Z\\n  \\\" fill=\\\"#ffffff\\\" fill-rule=\\\"evenodd\\\" fill-opacity=\\\"1\\\"\\/>\\n<defs>\\n  <clipPath id=\\\"clip211\\\">\\n    <rect x=\\\"480\\\" y=\\\"0\\\" width=\\\"1681\\\" height=\\\"1600\\\"\\/>\\n  <\\/clipPath>\\n<\\/defs>\\n<path clip-path=\\\"url(#clip210)\\\" d=\\\"\\nM199.283 1486.45 L2352.76 1486.45 L2352.76 47.2441 L199.283 47.2441  Z\\n  \\\" fill=\\\"#ffffff\\\" fill-rule=\\\"evenodd\\\" fill-opacity=\\\"1\\\"\\/>\\n<defs>\\n  <clipPath id=\\\"clip212\\\">\\n    <rect x=\\\"199\\\" y=\\\"47\\\" width=\\\"2154\\\" height=\\\"1440\\\"\\/>\\n  <\\/clipPath>\\n<\\/defs>\\n<polyline clip-path=\\\"url(#clip212)\\\" style=\\\"stroke:#000000; stroke-linecap:butt; stroke-linejoin:round; stroke-width:2; stroke-opacity:0.1; fill:none\\\" points=\\\"\\n  250.51,1486.45 250.51,47.2441 \\n  \\\"\\/>\\n<polyline clip-path=\\\"url(#clip212)\\\" style=\\\"stroke:#000000; stroke-linecap:butt; stroke-linejoin:round; stroke-width:2; stroke-opacity:0.1; fill:none\\\" points=\\\"\\n  736.534,1486.45 736.534,47.2441 \\n  \\\"\\/>\\n<polyline clip-path=\\\"url(#clip212)\\\" style=\\\"stroke:#000000; stroke-linecap:butt; stroke-linejoin:round; stroke-width:2; stroke-opacity:0.1; fill:none\\\" points=\\\"\\n  1222.56,1486.45 1222.56,47.2441 \\n  \\\"\\/>\\n<polyline clip-path=\\\"url(#clip212)\\\" style=\\\"stroke:#000000; stroke-linecap:butt; stroke-linejoin:round; stroke-width:2; stroke-opacity:0.1; fill:none\\\" points=\\\"\\n  1708.58,1486.45 1708.58,47.2441 \\n  \\\"\\/>\\n<polyline clip-path=\\\"url(#clip212)\\\" style=\\\"stroke:#000000; stroke-linecap:butt; stroke-linejoin:round; stroke-width:2; stroke-opacity:0.1; fill:none\\\" points=\\\"\\n  2194.6,1486.45 2194.6,47.2441 \\n  \\\"\\/>\\n<polyline clip-path=\\\"url(#clip210)\\\" style=\\\"stroke:#000000; stroke-linecap:butt; stroke-linejoin:round; stroke-width:4; stroke-opacity:1; fill:none\\\" points=\\\"\\n  199.283,1486.45 2352.76,1486.45 \\n  \\\"\\/>\\n<polyline clip-path=\\\"url(#clip210)\\\" style=\\\"stroke:#000000; stroke-linecap:butt; stroke-linejoin:round; stroke-width:4; stroke-opacity:1; fill:none\\\" points=\\\"\\n  250.51,1486.45 250.51,1467.55 \\n  \\\"\\/>\\n<polyline clip-path=\\\"url(#clip210)\\\" style=\\\"stroke:#000000; stroke-linecap:butt; stroke-linejoin:round; stroke-width:4; stroke-opacity:1; fill:none\\\" points=\\\"\\n  736.534,1486.45 736.534,1467.55 \\n  \\\"\\/>\\n<polyline clip-path=\\\"url(#clip210)\\\" style=\\\"stroke:#000000; stroke-linecap:butt; stroke-linejoin:round; stroke-width:4; stroke-opacity:1; fill:none\\\" points=\\\"\\n  1222.56,1486.45 1222.56,1467.55 \\n  \\\"\\/>\\n<polyline clip-path=\\\"url(#clip210)\\\" style=\\\"stroke:#000000; stroke-linecap:butt; stroke-linejoin:round; stroke-width:4; stroke-opacity:1; fill:none\\\" points=\\\"\\n  1708.58,1486.45 1708.58,1467.55 \\n  \\\"\\/>\\n<polyline clip-path=\\\"url(#clip210)\\\" style=\\\"stroke:#000000; stroke-linecap:butt; stroke-linejoin:round; stroke-width:4; stroke-opacity:1; fill:none\\\" points=\\\"\\n  2194.6,1486.45 2194.6,1467.55 \\n  \\\"\\/>\\n<path clip-path=\\\"url(#clip210)\\\" d=\\\"M250.51 1517.37 Q246.899 1517.37 245.07 1520.93 Q243.265 1524.47 243.265 1531.6 Q243.265 1538.71 245.07 1542.27 Q246.899 1545.82 250.51 1545.82 Q254.144 1545.82 255.95 1542.27 Q257.779 1538.71 257.779 1531.6 Q257.779 1524.47 255.95 1520.93 Q254.144 1517.37 250.51 1517.37 M250.51 1513.66 Q256.32 1513.66 259.376 1518.27 Q262.454 1522.85 262.454 1531.6 Q262.454 1540.33 259.376 1544.94 Q256.32 1549.52 250.51 1549.52 Q244.7 1549.52 241.621 1544.94 Q238.566 1540.33 238.566 1531.6 Q238.566 1522.85 241.621 1518.27 Q244.7 1513.66 250.51 1513.66 Z\\\" fill=\\\"#000000\\\" fill-rule=\\\"evenodd\\\" fill-opacity=\\\"1\\\" \\/><path clip-path=\\\"url(#clip210)\\\" d=\\\"M711.233 1514.29 L729.589 1514.29 L729.589 1518.22 L715.515 1518.22 L715.515 1526.7 Q716.534 1526.35 717.552 1526.19 Q718.571 1526 719.589 1526 Q725.376 1526 728.756 1529.17 Q732.135 1532.34 732.135 1537.76 Q732.135 1543.34 728.663 1546.44 Q725.191 1549.52 718.872 1549.52 Q716.696 1549.52 714.427 1549.15 Q712.182 1548.78 709.774 1548.04 L709.774 1543.34 Q711.858 1544.47 714.08 1545.03 Q716.302 1545.58 718.779 1545.58 Q722.784 1545.58 725.122 1543.48 Q727.459 1541.37 727.459 1537.76 Q727.459 1534.15 725.122 1532.04 Q722.784 1529.94 718.779 1529.94 Q716.904 1529.94 715.029 1530.35 Q713.177 1530.77 711.233 1531.65 L711.233 1514.29 Z\\\" fill=\\\"#000000\\\" fill-rule=\\\"evenodd\\\" fill-opacity=\\\"1\\\" \\/><path clip-path=\\\"url(#clip210)\\\" d=\\\"M751.348 1517.37 Q747.737 1517.37 745.908 1520.93 Q744.103 1524.47 744.103 1531.6 Q744.103 1538.71 745.908 1542.27 Q747.737 1545.82 751.348 1545.82 Q754.982 1545.82 756.788 1542.27 Q758.617 1538.71 758.617 1531.6 Q758.617 1524.47 756.788 1520.93 Q754.982 1517.37 751.348 1517.37 M751.348 1513.66 Q757.158 1513.66 760.214 1518.27 Q763.293 1522.85 763.293 1531.6 Q763.293 1540.33 760.214 1544.94 Q757.158 1549.52 751.348 1549.52 Q745.538 1549.52 742.459 1544.94 Q739.404 1540.33 739.404 1531.6 Q739.404 1522.85 742.459 1518.27 Q745.538 1513.66 751.348 1513.66 Z\\\" fill=\\\"#000000\\\" fill-rule=\\\"evenodd\\\" fill-opacity=\\\"1\\\" \\/><path clip-path=\\\"url(#clip210)\\\" d=\\\"M1182.16 1544.91 L1189.8 1544.91 L1189.8 1518.55 L1181.49 1520.21 L1181.49 1515.95 L1189.76 1514.29 L1194.43 1514.29 L1194.43 1544.91 L1202.07 1544.91 L1202.07 1548.85 L1182.16 1548.85 L1182.16 1544.91 Z\\\" fill=\\\"#000000\\\" fill-rule=\\\"evenodd\\\" fill-opacity=\\\"1\\\" \\/><path clip-path=\\\"url(#clip210)\\\" d=\\\"M1221.52 1517.37 Q1217.9 1517.37 1216.08 1520.93 Q1214.27 1524.47 1214.27 1531.6 Q1214.27 1538.71 1216.08 1542.27 Q1217.9 1545.82 1221.52 1545.82 Q1225.15 1545.82 1226.96 1542.27 Q1228.78 1538.71 1228.78 1531.6 Q1228.78 1524.47 1226.96 1520.93 Q1225.15 1517.37 1221.52 1517.37 M1221.52 1513.66 Q1227.33 1513.66 1230.38 1518.27 Q1233.46 1522.85 1233.46 1531.6 Q1233.46 1540.33 1230.38 1544.94 Q1227.33 1549.52 1221.52 1549.52 Q1215.71 1549.52 1212.63 1544.94 Q1209.57 1540.33 1209.57 1531.6 Q1209.57 1522.85 1212.63 1518.27 Q1215.71 1513.66 1221.52 1513.66 Z\\\" fill=\\\"#000000\\\" fill-rule=\\\"evenodd\\\" fill-opacity=\\\"1\\\" \\/><path clip-path=\\\"url(#clip210)\\\" d=\\\"M1251.68 1517.37 Q1248.07 1517.37 1246.24 1520.93 Q1244.43 1524.47 1244.43 1531.6 Q1244.43 1538.71 1246.24 1542.27 Q1248.07 1545.82 1251.68 1545.82 Q1255.31 1545.82 1257.12 1542.27 Q1258.95 1538.71 1258.95 1531.6 Q1258.95 1524.47 1257.12 1520.93 Q1255.31 1517.37 1251.68 1517.37 M1251.68 1513.66 Q1257.49 1513.66 1260.54 1518.27 Q1263.62 1522.85 1263.62 1531.6 Q1263.62 1540.33 1260.54 1544.94 Q1257.49 1549.52 1251.68 1549.52 Q1245.87 1549.52 1242.79 1544.94 Q1239.73 1540.33 1239.73 1531.6 Q1239.73 1522.85 1242.79 1518.27 Q1245.87 1513.66 1251.68 1513.66 Z\\\" fill=\\\"#000000\\\" fill-rule=\\\"evenodd\\\" fill-opacity=\\\"1\\\" \\/><path clip-path=\\\"url(#clip210)\\\" d=\\\"M1668.19 1544.91 L1675.83 1544.91 L1675.83 1518.55 L1667.52 1520.21 L1667.52 1515.95 L1675.78 1514.29 L1680.46 1514.29 L1680.46 1544.91 L1688.09 1544.91 L1688.09 1548.85 L1668.19 1548.85 L1668.19 1544.91 Z\\\" fill=\\\"#000000\\\" fill-rule=\\\"evenodd\\\" fill-opacity=\\\"1\\\" \\/><path clip-path=\\\"url(#clip210)\\\" d=\\\"M1697.59 1514.29 L1715.94 1514.29 L1715.94 1518.22 L1701.87 1518.22 L1701.87 1526.7 Q1702.89 1526.35 1703.9 1526.19 Q1704.92 1526 1705.94 1526 Q1711.73 1526 1715.11 1529.17 Q1718.49 1532.34 1718.49 1537.76 Q1718.49 1543.34 1715.02 1546.44 Q1711.54 1549.52 1705.22 1549.52 Q1703.05 1549.52 1700.78 1549.15 Q1698.53 1548.78 1696.13 1548.04 L1696.13 1543.34 Q1698.21 1544.47 1700.43 1545.03 Q1702.65 1545.58 1705.13 1545.58 Q1709.14 1545.58 1711.47 1543.48 Q1713.81 1541.37 1713.81 1537.76 Q1713.81 1534.15 1711.47 1532.04 Q1709.14 1529.94 1705.13 1529.94 Q1703.26 1529.94 1701.38 1530.35 Q1699.53 1530.77 1697.59 1531.65 L1697.59 1514.29 Z\\\" fill=\\\"#000000\\\" fill-rule=\\\"evenodd\\\" fill-opacity=\\\"1\\\" \\/><path clip-path=\\\"url(#clip210)\\\" d=\\\"M1737.7 1517.37 Q1734.09 1517.37 1732.26 1520.93 Q1730.46 1524.47 1730.46 1531.6 Q1730.46 1538.71 1732.26 1542.27 Q1734.09 1545.82 1737.7 1545.82 Q1741.33 1545.82 1743.14 1542.27 Q1744.97 1538.71 1744.97 1531.6 Q1744.97 1524.47 1743.14 1520.93 Q1741.33 1517.37 1737.7 1517.37 M1737.7 1513.66 Q1743.51 1513.66 1746.57 1518.27 Q1749.65 1522.85 1749.65 1531.6 Q1749.65 1540.33 1746.57 1544.94 Q1743.51 1549.52 1737.7 1549.52 Q1731.89 1549.52 1728.81 1544.94 Q1725.76 1540.33 1725.76 1531.6 Q1725.76 1522.85 1728.81 1518.27 Q1731.89 1513.66 1737.7 1513.66 Z\\\" fill=\\\"#000000\\\" fill-rule=\\\"evenodd\\\" fill-opacity=\\\"1\\\" \\/><path clip-path=\\\"url(#clip210)\\\" d=\\\"M2158.3 1544.91 L2174.62 1544.91 L2174.62 1548.85 L2152.67 1548.85 L2152.67 1544.91 Q2155.33 1542.16 2159.92 1537.53 Q2164.52 1532.88 2165.7 1531.53 Q2167.95 1529.01 2168.83 1527.27 Q2169.73 1525.51 2169.73 1523.82 Q2169.73 1521.07 2167.79 1519.33 Q2165.87 1517.6 2162.76 1517.6 Q2160.56 1517.6 2158.11 1518.36 Q2155.68 1519.13 2152.9 1520.68 L2152.9 1515.95 Q2155.73 1514.82 2158.18 1514.24 Q2160.63 1513.66 2162.67 1513.66 Q2168.04 1513.66 2171.24 1516.35 Q2174.43 1519.03 2174.43 1523.52 Q2174.43 1525.65 2173.62 1527.57 Q2172.83 1529.47 2170.73 1532.07 Q2170.15 1532.74 2167.05 1535.95 Q2163.94 1539.15 2158.3 1544.91 Z\\\" fill=\\\"#000000\\\" fill-rule=\\\"evenodd\\\" fill-opacity=\\\"1\\\" \\/><path clip-path=\\\"url(#clip210)\\\" d=\\\"M2194.43 1517.37 Q2190.82 1517.37 2188.99 1520.93 Q2187.18 1524.47 2187.18 1531.6 Q2187.18 1538.71 2188.99 1542.27 Q2190.82 1545.82 2194.43 1545.82 Q2198.06 1545.82 2199.87 1542.27 Q2201.7 1538.71 2201.7 1531.6 Q2201.7 1524.47 2199.87 1520.93 Q2198.06 1517.37 2194.43 1517.37 M2194.43 1513.66 Q2200.24 1513.66 2203.3 1518.27 Q2206.37 1522.85 2206.37 1531.6 Q2206.37 1540.33 2203.3 1544.94 Q2200.24 1549.52 2194.43 1549.52 Q2188.62 1549.52 2185.54 1544.94 Q2182.49 1540.33 2182.49 1531.6 Q2182.49 1522.85 2185.54 1518.27 Q2188.62 1513.66 2194.43 1513.66 Z\\\" fill=\\\"#000000\\\" fill-rule=\\\"evenodd\\\" fill-opacity=\\\"1\\\" \\/><path clip-path=\\\"url(#clip210)\\\" d=\\\"M2224.59 1517.37 Q2220.98 1517.37 2219.15 1520.93 Q2217.35 1524.47 2217.35 1531.6 Q2217.35 1538.71 2219.15 1542.27 Q2220.98 1545.82 2224.59 1545.82 Q2228.23 1545.82 2230.03 1542.27 Q2231.86 1538.71 2231.86 1531.6 Q2231.86 1524.47 2230.03 1520.93 Q2228.23 1517.37 2224.59 1517.37 M2224.59 1513.66 Q2230.4 1513.66 2233.46 1518.27 Q2236.54 1522.85 2236.54 1531.6 Q2236.54 1540.33 2233.46 1544.94 Q2230.4 1549.52 2224.59 1549.52 Q2218.78 1549.52 2215.7 1544.94 Q2212.65 1540.33 2212.65 1531.6 Q2212.65 1522.85 2215.7 1518.27 Q2218.78 1513.66 2224.59 1513.66 Z\\\" fill=\\\"#000000\\\" fill-rule=\\\"evenodd\\\" fill-opacity=\\\"1\\\" \\/><polyline clip-path=\\\"url(#clip212)\\\" style=\\\"stroke:#000000; stroke-linecap:butt; stroke-linejoin:round; stroke-width:2; stroke-opacity:0.1; fill:none\\\" points=\\\"\\n  199.283,1447.5 2352.76,1447.5 \\n  \\\"\\/>\\n<polyline clip-path=\\\"url(#clip212)\\\" style=\\\"stroke:#000000; stroke-linecap:butt; stroke-linejoin:round; stroke-width:2; stroke-opacity:0.1; fill:none\\\" points=\\\"\\n  199.283,1165.91 2352.76,1165.91 \\n  \\\"\\/>\\n<polyline clip-path=\\\"url(#clip212)\\\" style=\\\"stroke:#000000; stroke-linecap:butt; stroke-linejoin:round; stroke-width:2; stroke-opacity:0.1; fill:none\\\" points=\\\"\\n  199.283,884.314 2352.76,884.314 \\n  \\\"\\/>\\n<polyline clip-path=\\\"url(#clip212)\\\" style=\\\"stroke:#000000; stroke-linecap:butt; stroke-linejoin:round; stroke-width:2; stroke-opacity:0.1; fill:none\\\" points=\\\"\\n  199.283,602.721 2352.76,602.721 \\n  \\\"\\/>\\n<polyline clip-path=\\\"url(#clip212)\\\" style=\\\"stroke:#000000; stroke-linecap:butt; stroke-linejoin:round; stroke-width:2; stroke-opacity:0.1; fill:none\\\" points=\\\"\\n  199.283,321.128 2352.76,321.128 \\n  \\\"\\/>\\n<polyline clip-path=\\\"url(#clip210)\\\" style=\\\"stroke:#000000; stroke-linecap:butt; stroke-linejoin:round; stroke-width:4; stroke-opacity:1; fill:none\\\" points=\\\"\\n  199.283,1486.45 199.283,47.2441 \\n  \\\"\\/>\\n<polyline clip-path=\\\"url(#clip210)\\\" style=\\\"stroke:#000000; stroke-linecap:butt; stroke-linejoin:round; stroke-width:4; stroke-opacity:1; fill:none\\\" points=\\\"\\n  199.283,1447.5 218.181,1447.5 \\n  \\\"\\/>\\n<polyline clip-path=\\\"url(#clip210)\\\" style=\\\"stroke:#000000; stroke-linecap:butt; stroke-linejoin:round; stroke-width:4; stroke-opacity:1; fill:none\\\" points=\\\"\\n  199.283,1165.91 218.181,1165.91 \\n  \\\"\\/>\\n<polyline clip-path=\\\"url(#clip210)\\\" style=\\\"stroke:#000000; stroke-linecap:butt; stroke-linejoin:round; stroke-width:4; stroke-opacity:1; fill:none\\\" points=\\\"\\n  199.283,884.314 218.181,884.314 \\n  \\\"\\/>\\n<polyline clip-path=\\\"url(#clip210)\\\" style=\\\"stroke:#000000; stroke-linecap:butt; stroke-linejoin:round; stroke-width:4; stroke-opacity:1; fill:none\\\" points=\\\"\\n  199.283,602.721 218.181,602.721 \\n  \\\"\\/>\\n<polyline clip-path=\\\"url(#clip210)\\\" style=\\\"stroke:#000000; stroke-linecap:butt; stroke-linejoin:round; stroke-width:4; stroke-opacity:1; fill:none\\\" points=\\\"\\n  199.283,321.128 218.181,321.128 \\n  \\\"\\/>\\n<path clip-path=\\\"url(#clip210)\\\" d=\\\"M151.339 1433.3 Q147.728 1433.3 145.899 1436.86 Q144.093 1440.41 144.093 1447.54 Q144.093 1454.64 145.899 1458.21 Q147.728 1461.75 151.339 1461.75 Q154.973 1461.75 156.779 1458.21 Q158.607 1454.64 158.607 1447.54 Q158.607 1440.41 156.779 1436.86 Q154.973 1433.3 151.339 1433.3 M151.339 1429.6 Q157.149 1429.6 160.205 1434.2 Q163.283 1438.79 163.283 1447.54 Q163.283 1456.26 160.205 1460.87 Q157.149 1465.45 151.339 1465.45 Q145.529 1465.45 142.45 1460.87 Q139.394 1456.26 139.394 1447.54 Q139.394 1438.79 142.45 1434.2 Q145.529 1429.6 151.339 1429.6 Z\\\" fill=\\\"#000000\\\" fill-rule=\\\"evenodd\\\" fill-opacity=\\\"1\\\" \\/><path clip-path=\\\"url(#clip210)\\\" d=\\\"M85.0429 1179.25 L101.362 1179.25 L101.362 1183.19 L79.4179 1183.19 L79.4179 1179.25 Q82.0799 1176.5 86.6632 1171.87 Q91.2697 1167.22 92.4502 1165.87 Q94.6956 1163.35 95.5752 1161.61 Q96.478 1159.85 96.478 1158.16 Q96.478 1155.41 94.5336 1153.67 Q92.6123 1151.94 89.5104 1151.94 Q87.3114 1151.94 84.8577 1152.7 Q82.4271 1153.47 79.6494 1155.02 L79.6494 1150.29 Q82.4734 1149.16 84.9271 1148.58 Q87.3808 1148 89.4178 1148 Q94.7882 1148 97.9826 1150.69 Q101.177 1153.37 101.177 1157.86 Q101.177 1159.99 100.367 1161.91 Q99.5798 1163.81 97.4734 1166.41 Q96.8947 1167.08 93.7928 1170.29 Q90.691 1173.49 85.0429 1179.25 Z\\\" fill=\\\"#000000\\\" fill-rule=\\\"evenodd\\\" fill-opacity=\\\"1\\\" \\/><path clip-path=\\\"url(#clip210)\\\" d=\\\"M111.223 1148.63 L129.58 1148.63 L129.58 1152.56 L115.506 1152.56 L115.506 1161.04 Q116.524 1160.69 117.543 1160.53 Q118.561 1160.34 119.58 1160.34 Q125.367 1160.34 128.746 1163.51 Q132.126 1166.68 132.126 1172.1 Q132.126 1177.68 128.654 1180.78 Q125.182 1183.86 118.862 1183.86 Q116.686 1183.86 114.418 1183.49 Q112.172 1183.12 109.765 1182.38 L109.765 1177.68 Q111.848 1178.81 114.07 1179.37 Q116.293 1179.92 118.77 1179.92 Q122.774 1179.92 125.112 1177.82 Q127.45 1175.71 127.45 1172.1 Q127.45 1168.49 125.112 1166.38 Q122.774 1164.28 118.77 1164.28 Q116.895 1164.28 115.02 1164.69 Q113.168 1165.11 111.223 1165.99 L111.223 1148.63 Z\\\" fill=\\\"#000000\\\" fill-rule=\\\"evenodd\\\" fill-opacity=\\\"1\\\" \\/><path clip-path=\\\"url(#clip210)\\\" d=\\\"M151.339 1151.71 Q147.728 1151.71 145.899 1155.27 Q144.093 1158.81 144.093 1165.94 Q144.093 1173.05 145.899 1176.61 Q147.728 1180.16 151.339 1180.16 Q154.973 1180.16 156.779 1176.61 Q158.607 1173.05 158.607 1165.94 Q158.607 1158.81 156.779 1155.27 Q154.973 1151.71 151.339 1151.71 M151.339 1148 Q157.149 1148 160.205 1152.61 Q163.283 1157.19 163.283 1165.94 Q163.283 1174.67 160.205 1179.28 Q157.149 1183.86 151.339 1183.86 Q145.529 1183.86 142.45 1179.28 Q139.394 1174.67 139.394 1165.94 Q139.394 1157.19 142.45 1152.61 Q145.529 1148 151.339 1148 Z\\\" fill=\\\"#000000\\\" fill-rule=\\\"evenodd\\\" fill-opacity=\\\"1\\\" \\/><path clip-path=\\\"url(#clip210)\\\" d=\\\"M81.0614 867.034 L99.4178 867.034 L99.4178 870.97 L85.3438 870.97 L85.3438 879.442 Q86.3623 879.095 87.3808 878.933 Q88.3993 878.747 89.4178 878.747 Q95.2049 878.747 98.5845 881.919 Q101.964 885.09 101.964 890.507 Q101.964 896.085 98.4919 899.187 Q95.0197 902.266 88.7003 902.266 Q86.5243 902.266 84.2558 901.895 Q82.0105 901.525 79.6031 900.784 L79.6031 896.085 Q81.6864 897.22 83.9086 897.775 Q86.1308 898.331 88.6077 898.331 Q92.6123 898.331 94.9502 896.224 Q97.2882 894.118 97.2882 890.507 Q97.2882 886.896 94.9502 884.789 Q92.6123 882.683 88.6077 882.683 Q86.7327 882.683 84.8577 883.099 Q83.0058 883.516 81.0614 884.396 L81.0614 867.034 Z\\\" fill=\\\"#000000\\\" fill-rule=\\\"evenodd\\\" fill-opacity=\\\"1\\\" \\/><path clip-path=\\\"url(#clip210)\\\" d=\\\"M121.177 870.113 Q117.566 870.113 115.737 873.678 Q113.932 877.22 113.932 884.349 Q113.932 891.456 115.737 895.02 Q117.566 898.562 121.177 898.562 Q124.811 898.562 126.617 895.02 Q128.445 891.456 128.445 884.349 Q128.445 877.22 126.617 873.678 Q124.811 870.113 121.177 870.113 M121.177 866.41 Q126.987 866.41 130.043 871.016 Q133.121 875.599 133.121 884.349 Q133.121 893.076 130.043 897.682 Q126.987 902.266 121.177 902.266 Q115.367 902.266 112.288 897.682 Q109.233 893.076 109.233 884.349 Q109.233 875.599 112.288 871.016 Q115.367 866.41 121.177 866.41 Z\\\" fill=\\\"#000000\\\" fill-rule=\\\"evenodd\\\" fill-opacity=\\\"1\\\" \\/><path clip-path=\\\"url(#clip210)\\\" d=\\\"M151.339 870.113 Q147.728 870.113 145.899 873.678 Q144.093 877.22 144.093 884.349 Q144.093 891.456 145.899 895.02 Q147.728 898.562 151.339 898.562 Q154.973 898.562 156.779 895.02 Q158.607 891.456 158.607 884.349 Q158.607 877.22 156.779 873.678 Q154.973 870.113 151.339 870.113 M151.339 866.41 Q157.149 866.41 160.205 871.016 Q163.283 875.599 163.283 884.349 Q163.283 893.076 160.205 897.682 Q157.149 902.266 151.339 902.266 Q145.529 902.266 142.45 897.682 Q139.394 893.076 139.394 884.349 Q139.394 875.599 142.45 871.016 Q145.529 866.41 151.339 866.41 Z\\\" fill=\\\"#000000\\\" fill-rule=\\\"evenodd\\\" fill-opacity=\\\"1\\\" \\/><path clip-path=\\\"url(#clip210)\\\" d=\\\"M79.8346 585.441 L102.057 585.441 L102.057 587.432 L89.5104 620.001 L84.6262 620.001 L96.4317 589.376 L79.8346 589.376 L79.8346 585.441 Z\\\" fill=\\\"#000000\\\" fill-rule=\\\"evenodd\\\" fill-opacity=\\\"1\\\" \\/><path clip-path=\\\"url(#clip210)\\\" d=\\\"M111.223 585.441 L129.58 585.441 L129.58 589.376 L115.506 589.376 L115.506 597.849 Q116.524 597.501 117.543 597.339 Q118.561 597.154 119.58 597.154 Q125.367 597.154 128.746 600.325 Q132.126 603.497 132.126 608.913 Q132.126 614.492 128.654 617.594 Q125.182 620.672 118.862 620.672 Q116.686 620.672 114.418 620.302 Q112.172 619.932 109.765 619.191 L109.765 614.492 Q111.848 615.626 114.07 616.182 Q116.293 616.737 118.77 616.737 Q122.774 616.737 125.112 614.631 Q127.45 612.524 127.45 608.913 Q127.45 605.302 125.112 603.196 Q122.774 601.089 118.77 601.089 Q116.895 601.089 115.02 601.506 Q113.168 601.923 111.223 602.802 L111.223 585.441 Z\\\" fill=\\\"#000000\\\" fill-rule=\\\"evenodd\\\" fill-opacity=\\\"1\\\" \\/><path clip-path=\\\"url(#clip210)\\\" d=\\\"M151.339 588.52 Q147.728 588.52 145.899 592.085 Q144.093 595.626 144.093 602.756 Q144.093 609.862 145.899 613.427 Q147.728 616.969 151.339 616.969 Q154.973 616.969 156.779 613.427 Q158.607 609.862 158.607 602.756 Q158.607 595.626 156.779 592.085 Q154.973 588.52 151.339 588.52 M151.339 584.816 Q157.149 584.816 160.205 589.423 Q163.283 594.006 163.283 602.756 Q163.283 611.483 160.205 616.089 Q157.149 620.672 151.339 620.672 Q145.529 620.672 142.45 616.089 Q139.394 611.483 139.394 602.756 Q139.394 594.006 142.45 589.423 Q145.529 584.816 151.339 584.816 Z\\\" fill=\\\"#000000\\\" fill-rule=\\\"evenodd\\\" fill-opacity=\\\"1\\\" \\/><path clip-path=\\\"url(#clip210)\\\" d=\\\"M51.6634 334.473 L59.3023 334.473 L59.3023 308.107 L50.9921 309.774 L50.9921 305.515 L59.256 303.848 L63.9319 303.848 L63.9319 334.473 L71.5707 334.473 L71.5707 338.408 L51.6634 338.408 L51.6634 334.473 Z\\\" fill=\\\"#000000\\\" fill-rule=\\\"evenodd\\\" fill-opacity=\\\"1\\\" \\/><path clip-path=\\\"url(#clip210)\\\" d=\\\"M91.0151 306.927 Q87.404 306.927 85.5753 310.491 Q83.7697 314.033 83.7697 321.163 Q83.7697 328.269 85.5753 331.834 Q87.404 335.375 91.0151 335.375 Q94.6493 335.375 96.4548 331.834 Q98.2835 328.269 98.2835 321.163 Q98.2835 314.033 96.4548 310.491 Q94.6493 306.927 91.0151 306.927 M91.0151 303.223 Q96.8252 303.223 99.8808 307.829 Q102.959 312.413 102.959 321.163 Q102.959 329.889 99.8808 334.496 Q96.8252 339.079 91.0151 339.079 Q85.2049 339.079 82.1262 334.496 Q79.0707 329.889 79.0707 321.163 Q79.0707 312.413 82.1262 307.829 Q85.2049 303.223 91.0151 303.223 Z\\\" fill=\\\"#000000\\\" fill-rule=\\\"evenodd\\\" fill-opacity=\\\"1\\\" \\/><path clip-path=\\\"url(#clip210)\\\" d=\\\"M121.177 306.927 Q117.566 306.927 115.737 310.491 Q113.932 314.033 113.932 321.163 Q113.932 328.269 115.737 331.834 Q117.566 335.375 121.177 335.375 Q124.811 335.375 126.617 331.834 Q128.445 328.269 128.445 321.163 Q128.445 314.033 126.617 310.491 Q124.811 306.927 121.177 306.927 M121.177 303.223 Q126.987 303.223 130.043 307.829 Q133.121 312.413 133.121 321.163 Q133.121 329.889 130.043 334.496 Q126.987 339.079 121.177 339.079 Q115.367 339.079 112.288 334.496 Q109.233 329.889 109.233 321.163 Q109.233 312.413 112.288 307.829 Q115.367 303.223 121.177 303.223 Z\\\" fill=\\\"#000000\\\" fill-rule=\\\"evenodd\\\" fill-opacity=\\\"1\\\" \\/><path clip-path=\\\"url(#clip210)\\\" d=\\\"M151.339 306.927 Q147.728 306.927 145.899 310.491 Q144.093 314.033 144.093 321.163 Q144.093 328.269 145.899 331.834 Q147.728 335.375 151.339 335.375 Q154.973 335.375 156.779 331.834 Q158.607 328.269 158.607 321.163 Q158.607 314.033 156.779 310.491 Q154.973 306.927 151.339 306.927 M151.339 303.223 Q157.149 303.223 160.205 307.829 Q163.283 312.413 163.283 321.163 Q163.283 329.889 160.205 334.496 Q157.149 339.079 151.339 339.079 Q145.529 339.079 142.45 334.496 Q139.394 329.889 139.394 321.163 Q139.394 312.413 142.45 307.829 Q145.529 303.223 151.339 303.223 Z\\\" fill=\\\"#000000\\\" fill-rule=\\\"evenodd\\\" fill-opacity=\\\"1\\\" \\/><polyline clip-path=\\\"url(#clip212)\\\" style=\\\"stroke:#009af9; stroke-linecap:butt; stroke-linejoin:round; stroke-width:4; stroke-opacity:1; fill:none\\\" points=\\\"\\n  260.231,1443 269.951,1347.05 279.671,703.91 289.392,87.9763 299.112,870.904 308.833,1313.3 318.553,1208.28 328.274,1017.71 337.994,841.601 347.715,771.833 \\n  357.435,835.559 367.156,953.641 376.876,1020.07 386.597,1005.43 396.317,953.54 406.038,912.576 415.758,900.986 425.479,913.443 435.199,934.45 444.919,949.544 \\n  454.64,952.461 464.36,945.891 474.081,936.843 483.801,931.083 493.522,930.41 503.242,933.273 512.963,936.926 522.683,939.277 532.404,939.65 542.124,938.573 \\n  551.845,937.079 561.565,936.026 571.286,935.755 581.006,936.115 590.726,936.715 600.447,937.197 610.167,937.384 619.888,937.296 629.608,937.069 639.329,936.851 \\n  649.049,936.734 658.77,936.734 668.49,936.81 678.211,936.903 687.931,936.969 697.652,936.988 707.372,936.97 717.093,936.934 726.813,936.901 736.534,936.884 \\n  746.254,936.883 755.974,936.895 765.695,936.909 775.415,936.92 785.136,936.924 794.856,936.922 804.577,936.917 814.297,936.911 824.018,936.908 833.738,936.907 \\n  843.459,936.908 853.179,936.911 862.9,936.913 872.62,936.914 882.341,936.914 892.061,936.913 901.781,936.912 911.502,936.912 921.222,936.911 930.943,936.911 \\n  940.663,936.911 950.384,936.912 960.104,936.912 969.825,936.912 979.545,936.912 989.266,936.912 998.986,936.912 1008.71,936.912 1018.43,936.912 1028.15,936.912 \\n  1037.87,936.912 1047.59,936.912 1057.31,936.912 1067.03,936.912 1076.75,936.912 1086.47,936.912 1096.19,936.912 1105.91,936.912 1115.63,936.912 1125.35,936.912 \\n  1135.07,936.912 1144.79,936.912 1154.51,936.912 1164.23,936.912 1173.95,936.912 1183.68,936.912 1193.4,936.912 1203.12,936.912 1212.84,936.912 1222.56,936.912 \\n  1232.28,936.912 1242,936.912 1251.72,936.912 1261.44,936.912 1271.16,936.912 1280.88,936.912 1290.6,936.912 1300.32,936.912 1310.04,936.912 1319.76,936.912 \\n  1329.48,936.912 1339.2,936.912 1348.92,936.912 1358.64,936.912 1368.36,936.912 1378.08,936.912 1387.8,936.912 1397.53,936.912 1407.25,936.912 1416.97,936.912 \\n  1426.69,936.912 1436.41,936.912 1446.13,936.912 1455.85,936.912 1465.57,936.912 1475.29,936.912 1485.01,936.912 1494.73,936.912 1504.45,936.912 1514.17,936.912 \\n  1523.89,936.912 1533.61,936.912 1543.33,936.912 1553.05,936.912 1562.77,936.912 1572.49,936.912 1582.21,936.912 1591.93,936.912 1601.66,936.912 1611.38,936.912 \\n  1621.1,936.912 1630.82,936.912 1640.54,936.912 1650.26,936.912 1659.98,936.912 1669.7,936.912 1679.42,936.912 1689.14,936.912 1698.86,936.912 1708.58,936.912 \\n  1718.3,936.912 1728.02,936.912 1737.74,936.912 1747.46,936.912 1757.18,936.912 1766.9,936.912 1776.62,936.912 1786.34,936.912 1796.06,936.912 1805.79,936.912 \\n  1815.51,936.912 1825.23,936.912 1834.95,936.912 1844.67,936.912 1854.39,936.912 1864.11,936.912 1873.83,936.912 1883.55,936.912 1893.27,936.912 1902.99,936.912 \\n  1912.71,936.912 1922.43,936.912 1932.15,936.912 1941.87,936.912 1951.59,936.912 1961.31,936.912 1971.03,936.912 1980.75,936.912 1990.47,936.912 2000.19,936.912 \\n  2009.91,936.912 2019.64,936.912 2029.36,936.912 2039.08,936.912 2048.8,936.912 2058.52,936.912 2068.24,936.912 2077.96,936.912 2087.68,936.912 2097.4,936.912 \\n  2107.12,936.912 2116.84,936.912 2126.56,936.912 2136.28,936.912 2146,936.912 2155.72,936.912 2165.44,936.912 2175.16,936.912 2184.88,936.912 2194.6,936.912 \\n  2204.32,936.912 2214.04,936.912 2223.77,936.912 2233.49,936.912 2243.21,936.912 2252.93,936.912 2262.65,936.912 2272.37,936.912 2282.09,936.912 2291.81,936.912 \\n  \\n  \\\"\\/>\\n<polyline clip-path=\\\"url(#clip212)\\\" style=\\\"stroke:#e26f46; stroke-linecap:butt; stroke-linejoin:round; stroke-width:4; stroke-opacity:1; fill:none\\\" points=\\\"\\n  260.231,1444.44 269.951,1413.19 279.671,1299.47 289.392,1135.7 299.112,1007.62 308.833,950.611 318.553,937.578 328.274,936.767 337.994,936.914 347.715,936.914 \\n  357.435,936.912 367.156,936.912 376.876,936.912 386.597,936.912 396.317,936.912 406.038,936.912 415.758,936.912 425.479,936.912 435.199,936.912 444.919,936.912 \\n  454.64,936.912 464.36,936.912 474.081,936.912 483.801,936.912 493.522,936.912 503.242,936.912 512.963,936.912 522.683,936.912 532.404,936.912 542.124,936.912 \\n  551.845,936.912 561.565,936.912 571.286,936.912 581.006,936.912 590.726,936.912 600.447,936.912 610.167,936.912 619.888,936.912 629.608,936.912 639.329,936.912 \\n  649.049,936.912 658.77,936.912 668.49,936.912 678.211,936.912 687.931,936.912 697.652,936.912 707.372,936.912 717.093,936.912 726.813,936.912 736.534,936.912 \\n  746.254,936.912 755.974,936.912 765.695,936.912 775.415,936.912 785.136,936.912 794.856,936.912 804.577,936.912 814.297,936.912 824.018,936.912 833.738,936.912 \\n  843.459,936.912 853.179,936.912 862.9,936.912 872.62,936.912 882.341,936.912 892.061,936.912 901.781,936.912 911.502,936.912 921.222,936.912 930.943,936.912 \\n  940.663,936.912 950.384,936.912 960.104,936.912 969.825,936.912 979.545,936.912 989.266,936.912 998.986,936.912 1008.71,936.912 1018.43,936.912 1028.15,936.912 \\n  1037.87,936.912 1047.59,936.912 1057.31,936.912 1067.03,936.912 1076.75,936.912 1086.47,936.912 1096.19,936.912 1105.91,936.912 1115.63,936.912 1125.35,936.912 \\n  1135.07,936.912 1144.79,936.912 1154.51,936.912 1164.23,936.912 1173.95,936.912 1183.68,936.912 1193.4,936.912 1203.12,936.912 1212.84,936.912 1222.56,936.912 \\n  1232.28,936.912 1242,936.912 1251.72,936.912 1261.44,936.912 1271.16,936.912 1280.88,936.912 1290.6,936.912 1300.32,936.912 1310.04,936.912 1319.76,936.912 \\n  1329.48,936.912 1339.2,936.912 1348.92,936.912 1358.64,936.912 1368.36,936.912 1378.08,936.912 1387.8,936.912 1397.53,936.912 1407.25,936.912 1416.97,936.912 \\n  1426.69,936.912 1436.41,936.912 1446.13,936.912 1455.85,936.912 1465.57,936.912 1475.29,936.912 1485.01,936.912 1494.73,936.912 1504.45,936.912 1514.17,936.912 \\n  1523.89,936.912 1533.61,936.912 1543.33,936.912 1553.05,936.912 1562.77,936.912 1572.49,936.912 1582.21,936.912 1591.93,936.912 1601.66,936.912 1611.38,936.912 \\n  1621.1,936.912 1630.82,936.912 1640.54,936.912 1650.26,936.912 1659.98,936.912 1669.7,936.912 1679.42,936.912 1689.14,936.912 1698.86,936.912 1708.58,936.912 \\n  1718.3,936.912 1728.02,936.912 1737.74,936.912 1747.46,936.912 1757.18,936.912 1766.9,936.912 1776.62,936.912 1786.34,936.912 1796.06,936.912 1805.79,936.912 \\n  1815.51,936.912 1825.23,936.912 1834.95,936.912 1844.67,936.912 1854.39,936.912 1864.11,936.912 1873.83,936.912 1883.55,936.912 1893.27,936.912 1902.99,936.912 \\n  1912.71,936.912 1922.43,936.912 1932.15,936.912 1941.87,936.912 1951.59,936.912 1961.31,936.912 1971.03,936.912 1980.75,936.912 1990.47,936.912 2000.19,936.912 \\n  2009.91,936.912 2019.64,936.912 2029.36,936.912 2039.08,936.912 2048.8,936.912 2058.52,936.912 2068.24,936.912 2077.96,936.912 2087.68,936.912 2097.4,936.912 \\n  2107.12,936.912 2116.84,936.912 2126.56,936.912 2136.28,936.912 \\n  \\\"\\/>\\n<polyline clip-path=\\\"url(#clip212)\\\" style=\\\"stroke:#3da44d; stroke-linecap:butt; stroke-linejoin:round; stroke-width:4; stroke-opacity:1; fill:none\\\" points=\\\"\\n  260.231,1445.52 269.951,1445.72 279.671,1444.62 289.392,1444.06 299.112,1442.65 308.833,1441.48 318.553,1439.67 328.274,1438 337.994,1435.82 347.715,1433.73 \\n  357.435,1431.21 367.156,1428.76 376.876,1425.95 386.597,1423.2 396.317,1420.13 406.038,1417.12 415.758,1413.84 425.479,1410.6 435.199,1407.13 444.919,1403.71 \\n  454.64,1400.08 464.36,1396.51 474.081,1392.74 483.801,1389.03 493.522,1385.15 503.242,1381.33 512.963,1377.36 522.683,1373.45 532.404,1369.41 542.124,1365.42 \\n  551.845,1361.32 561.565,1357.28 571.286,1353.13 581.006,1349.05 590.726,1344.87 600.447,1340.76 610.167,1336.56 619.888,1332.43 629.608,1328.23 639.329,1324.09 \\n  649.049,1319.88 658.77,1315.75 668.49,1311.55 678.211,1307.42 687.931,1303.24 697.652,1299.13 707.372,1294.97 717.093,1290.89 726.813,1286.76 736.534,1282.7 \\n  746.254,1278.61 755.974,1274.58 765.695,1270.53 775.415,1266.55 785.136,1262.54 794.856,1258.6 804.577,1254.64 814.297,1250.74 824.018,1246.83 833.738,1242.99 \\n  843.459,1239.13 853.179,1235.34 862.9,1231.54 872.62,1227.81 882.341,1224.06 892.061,1220.39 901.781,1216.71 911.502,1213.09 921.222,1209.47 930.943,1205.92 \\n  940.663,1202.36 950.384,1198.87 960.104,1195.37 969.825,1191.95 979.545,1188.52 989.266,1185.16 998.986,1181.79 1008.71,1178.5 1018.43,1175.2 1028.15,1171.97 \\n  1037.87,1168.73 1047.59,1165.57 1057.31,1162.4 1067.03,1159.3 1076.75,1156.21 1086.47,1153.17 1096.19,1150.14 1105.91,1147.17 1115.63,1144.21 1125.35,1141.3 \\n  1135.07,1138.4 1144.79,1135.57 1154.51,1132.73 1164.23,1129.96 1173.95,1127.19 1183.68,1124.48 1193.4,1121.78 1203.12,1119.13 1212.84,1116.49 1222.56,1113.91 \\n  1232.28,1111.33 1242,1108.82 1251.72,1106.3 1261.44,1103.84 1271.16,1101.39 1280.88,1098.99 1290.6,1096.6 1300.32,1094.26 1310.04,1091.93 1319.76,1089.65 \\n  1329.48,1087.38 1339.2,1085.15 1348.92,1082.94 1358.64,1080.78 1368.36,1078.62 1378.08,1076.51 1387.8,1074.41 1397.53,1072.35 1407.25,1070.31 1416.97,1068.31 \\n  1426.69,1066.31 1436.41,1064.37 1446.13,1062.43 1455.85,1060.53 1465.57,1058.65 1475.29,1056.8 1485.01,1054.97 1494.73,1053.17 1504.45,1051.39 1514.17,1049.64 \\n  1523.89,1047.9 1533.61,1046.21 1543.33,1044.52 1553.05,1042.87 1562.77,1041.22 1572.49,1039.62 1582.21,1038.02 1591.93,1036.47 1601.66,1034.91 1611.38,1033.4 \\n  1621.1,1031.89 1630.82,1030.42 1640.54,1028.95 1650.26,1027.52 1659.98,1026.09 1669.7,1024.71 1679.42,1023.32 1689.14,1021.97 1698.86,1020.63 1708.58,1019.32 \\n  1718.3,1018.01 1728.02,1016.74 1737.74,1015.47 1747.46,1014.24 1757.18,1013 1766.9,1011.81 1776.62,1010.61 1786.34,1009.45 1796.06,1008.28 1805.79,1007.16 \\n  1815.51,1006.03 1825.23,1004.93 1834.95,1003.84 1844.67,1002.78 1854.39,1001.72 1864.11,1000.69 1873.83,999.655 1883.55,998.656 1893.27,997.656 1902.99,996.687 \\n  1912.71,995.717 1922.43,994.777 1932.15,993.836 1941.87,992.925 1951.59,992.012 1961.31,991.128 1971.03,990.243 1980.75,989.386 1990.47,988.528 2000.19,987.697 \\n  2009.91,986.865 2019.64,986.06 2029.36,985.253 2039.08,984.473 2048.8,983.69 2058.52,982.934 2068.24,982.175 2077.96,981.443 2087.68,980.707 2097.4,979.998 \\n  2107.12,979.285 2116.84,978.597 2126.56,977.906 2136.28,977.24 2146,976.571 2155.72,975.925 2165.44,975.276 2175.16,974.651 2184.88,974.023 2194.6,973.417 \\n  2204.32,972.808 2214.04,972.222 2223.77,971.632 2233.49,971.064 2243.21,970.492 2252.93,969.942 2262.65,969.388 2272.37,968.856 2282.09,968.319 2291.81,967.804 \\n  \\n  \\\"\\/>\\n<polyline clip-path=\\\"url(#clip212)\\\" style=\\\"stroke:#c271d2; stroke-linecap:butt; stroke-linejoin:round; stroke-width:4; stroke-opacity:1; fill:none\\\" points=\\\"\\n  -1954.19,936.912 4506.23,936.912 \\n  \\\"\\/>\\n<path clip-path=\\\"url(#clip210)\\\" d=\\\"\\nM1899.96 354.418 L2280.97 354.418 L2280.97 95.2176 L1899.96 95.2176  Z\\n  \\\" fill=\\\"#ffffff\\\" fill-rule=\\\"evenodd\\\" fill-opacity=\\\"1\\\"\\/>\\n<polyline clip-path=\\\"url(#clip210)\\\" style=\\\"stroke:#000000; stroke-linecap:butt; stroke-linejoin:round; stroke-width:4; stroke-opacity:1; fill:none\\\" points=\\\"\\n  1899.96,354.418 2280.97,354.418 2280.97,95.2176 1899.96,95.2176 1899.96,354.418 \\n  \\\"\\/>\\n<polyline clip-path=\\\"url(#clip210)\\\" style=\\\"stroke:#009af9; stroke-linecap:butt; stroke-linejoin:round; stroke-width:4; stroke-opacity:1; fill:none\\\" points=\\\"\\n  1923.89,147.058 2067.46,147.058 \\n  \\\"\\/>\\n<path clip-path=\\\"url(#clip210)\\\" d=\\\"M2116.94 159.407 L2116.94 150.125 L2109.3 150.125 L2109.3 146.282 L2121.57 146.282 L2121.57 161.12 Q2118.86 163.041 2115.6 164.037 Q2112.33 165.009 2108.63 165.009 Q2100.53 165.009 2095.94 160.287 Q2091.38 155.541 2091.38 147.092 Q2091.38 138.62 2095.94 133.898 Q2100.53 129.153 2108.63 129.153 Q2112.01 129.153 2115.04 129.986 Q2118.1 130.819 2120.67 132.44 L2120.67 137.416 Q2118.07 135.217 2115.16 134.106 Q2112.24 132.995 2109.02 132.995 Q2102.68 132.995 2099.48 136.537 Q2096.31 140.078 2096.31 147.092 Q2096.31 154.083 2099.48 157.625 Q2102.68 161.166 2109.02 161.166 Q2111.5 161.166 2113.44 160.75 Q2115.39 160.31 2116.94 159.407 Z\\\" fill=\\\"#000000\\\" fill-rule=\\\"evenodd\\\" fill-opacity=\\\"1\\\" \\/><path clip-path=\\\"url(#clip210)\\\" d=\\\"M2130.11 129.778 L2134.79 129.778 L2134.79 160.402 L2151.61 160.402 L2151.61 164.338 L2130.11 164.338 L2130.11 129.778 Z\\\" fill=\\\"#000000\\\" fill-rule=\\\"evenodd\\\" fill-opacity=\\\"1\\\" \\/><polyline clip-path=\\\"url(#clip210)\\\" style=\\\"stroke:#e26f46; stroke-linecap:butt; stroke-linejoin:round; stroke-width:4; stroke-opacity:1; fill:none\\\" points=\\\"\\n  1923.89,198.898 2067.46,198.898 \\n  \\\"\\/>\\n<path clip-path=\\\"url(#clip210)\\\" d=\\\"M2116.94 211.247 L2116.94 201.965 L2109.3 201.965 L2109.3 198.122 L2121.57 198.122 L2121.57 212.96 Q2118.86 214.881 2115.6 215.877 Q2112.33 216.849 2108.63 216.849 Q2100.53 216.849 2095.94 212.127 Q2091.38 207.381 2091.38 198.932 Q2091.38 190.46 2095.94 185.738 Q2100.53 180.993 2108.63 180.993 Q2112.01 180.993 2115.04 181.826 Q2118.1 182.659 2120.67 184.28 L2120.67 189.256 Q2118.07 187.057 2115.16 185.946 Q2112.24 184.835 2109.02 184.835 Q2102.68 184.835 2099.48 188.377 Q2096.31 191.918 2096.31 198.932 Q2096.31 205.923 2099.48 209.465 Q2102.68 213.006 2109.02 213.006 Q2111.5 213.006 2113.44 212.59 Q2115.39 212.15 2116.94 211.247 Z\\\" fill=\\\"#000000\\\" fill-rule=\\\"evenodd\\\" fill-opacity=\\\"1\\\" \\/><path clip-path=\\\"url(#clip210)\\\" d=\\\"M2130.11 181.618 L2134.79 181.618 L2134.79 212.242 L2151.61 212.242 L2151.61 216.178 L2130.11 216.178 L2130.11 181.618 Z\\\" fill=\\\"#000000\\\" fill-rule=\\\"evenodd\\\" fill-opacity=\\\"1\\\" \\/><path clip-path=\\\"url(#clip210)\\\" d=\\\"M2168.12 203.145 Q2162.96 203.145 2160.97 204.326 Q2158.98 205.506 2158.98 208.354 Q2158.98 210.622 2160.46 211.965 Q2161.96 213.284 2164.53 213.284 Q2168.07 213.284 2170.2 210.784 Q2172.35 208.261 2172.35 204.094 L2172.35 203.145 L2168.12 203.145 M2176.61 201.386 L2176.61 216.178 L2172.35 216.178 L2172.35 212.242 Q2170.9 214.603 2168.72 215.738 Q2166.54 216.849 2163.4 216.849 Q2159.42 216.849 2157.05 214.627 Q2154.72 212.381 2154.72 208.631 Q2154.72 204.256 2157.63 202.034 Q2160.57 199.812 2166.38 199.812 L2172.35 199.812 L2172.35 199.395 Q2172.35 196.455 2170.41 194.858 Q2168.49 193.238 2164.99 193.238 Q2162.77 193.238 2160.67 193.77 Q2158.56 194.303 2156.61 195.367 L2156.61 191.432 Q2158.95 190.53 2161.15 190.09 Q2163.35 189.627 2165.43 189.627 Q2171.06 189.627 2173.84 192.543 Q2176.61 195.46 2176.61 201.386 Z\\\" fill=\\\"#000000\\\" fill-rule=\\\"evenodd\\\" fill-opacity=\\\"1\\\" \\/><polyline clip-path=\\\"url(#clip210)\\\" style=\\\"stroke:#3da44d; stroke-linecap:butt; stroke-linejoin:round; stroke-width:4; stroke-opacity:1; fill:none\\\" points=\\\"\\n  1923.89,250.738 2067.46,250.738 \\n  \\\"\\/>\\n<path clip-path=\\\"url(#clip210)\\\" d=\\\"M2116.94 263.087 L2116.94 253.805 L2109.3 253.805 L2109.3 249.962 L2121.57 249.962 L2121.57 264.8 Q2118.86 266.721 2115.6 267.717 Q2112.33 268.689 2108.63 268.689 Q2100.53 268.689 2095.94 263.967 Q2091.38 259.221 2091.38 250.772 Q2091.38 242.3 2095.94 237.578 Q2100.53 232.833 2108.63 232.833 Q2112.01 232.833 2115.04 233.666 Q2118.1 234.499 2120.67 236.12 L2120.67 241.096 Q2118.07 238.897 2115.16 237.786 Q2112.24 236.675 2109.02 236.675 Q2102.68 236.675 2099.48 240.217 Q2096.31 243.758 2096.31 250.772 Q2096.31 257.763 2099.48 261.305 Q2102.68 264.846 2109.02 264.846 Q2111.5 264.846 2113.44 264.43 Q2115.39 263.99 2116.94 263.087 Z\\\" fill=\\\"#000000\\\" fill-rule=\\\"evenodd\\\" fill-opacity=\\\"1\\\" \\/><path clip-path=\\\"url(#clip210)\\\" d=\\\"M2130.11 233.458 L2134.79 233.458 L2134.79 247.624 L2151.78 247.624 L2151.78 233.458 L2156.45 233.458 L2156.45 268.018 L2151.78 268.018 L2151.78 251.559 L2134.79 251.559 L2134.79 268.018 L2130.11 268.018 L2130.11 233.458 Z\\\" fill=\\\"#000000\\\" fill-rule=\\\"evenodd\\\" fill-opacity=\\\"1\\\" \\/><polyline clip-path=\\\"url(#clip210)\\\" style=\\\"stroke:#c271d2; stroke-linecap:butt; stroke-linejoin:round; stroke-width:4; stroke-opacity:1; fill:none\\\" points=\\\"\\n  1923.89,302.578 2067.46,302.578 \\n  \\\"\\/>\\n<path clip-path=\\\"url(#clip210)\\\" d=\\\"M2098.79 286.571 L2098.79 293.932 L2107.56 293.932 L2107.56 297.242 L2098.79 297.242 L2098.79 311.316 Q2098.79 314.487 2099.65 315.39 Q2100.53 316.293 2103.19 316.293 L2107.56 316.293 L2107.56 319.858 L2103.19 319.858 Q2098.26 319.858 2096.38 318.029 Q2094.51 316.177 2094.51 311.316 L2094.51 297.242 L2091.38 297.242 L2091.38 293.932 L2094.51 293.932 L2094.51 286.571 L2098.79 286.571 Z\\\" fill=\\\"#000000\\\" fill-rule=\\\"evenodd\\\" fill-opacity=\\\"1\\\" \\/><path clip-path=\\\"url(#clip210)\\\" d=\\\"M2124.95 306.825 Q2119.79 306.825 2117.8 308.006 Q2115.8 309.186 2115.8 312.034 Q2115.8 314.302 2117.29 315.645 Q2118.79 316.964 2121.36 316.964 Q2124.9 316.964 2127.03 314.464 Q2129.18 311.941 2129.18 307.774 L2129.18 306.825 L2124.95 306.825 M2133.44 305.066 L2133.44 319.858 L2129.18 319.858 L2129.18 315.922 Q2127.73 318.283 2125.55 319.418 Q2123.37 320.529 2120.23 320.529 Q2116.24 320.529 2113.88 318.307 Q2111.55 316.061 2111.55 312.311 Q2111.55 307.936 2114.46 305.714 Q2117.4 303.492 2123.21 303.492 L2129.18 303.492 L2129.18 303.075 Q2129.18 300.135 2127.24 298.538 Q2125.32 296.918 2121.82 296.918 Q2119.6 296.918 2117.49 297.45 Q2115.39 297.983 2113.44 299.047 L2113.44 295.112 Q2115.78 294.21 2117.98 293.77 Q2120.18 293.307 2122.26 293.307 Q2127.89 293.307 2130.67 296.223 Q2133.44 299.14 2133.44 305.066 Z\\\" fill=\\\"#000000\\\" fill-rule=\\\"evenodd\\\" fill-opacity=\\\"1\\\" \\/><path clip-path=\\\"url(#clip210)\\\" d=\\\"M2157.24 297.913 Q2156.52 297.497 2155.67 297.311 Q2154.83 297.103 2153.81 297.103 Q2150.2 297.103 2148.26 299.464 Q2146.34 301.802 2146.34 306.2 L2146.34 319.858 L2142.05 319.858 L2142.05 293.932 L2146.34 293.932 L2146.34 297.96 Q2147.68 295.598 2149.83 294.464 Q2151.98 293.307 2155.06 293.307 Q2155.5 293.307 2156.04 293.376 Q2156.57 293.423 2157.22 293.538 L2157.24 297.913 Z\\\" fill=\\\"#000000\\\" fill-rule=\\\"evenodd\\\" fill-opacity=\\\"1\\\" \\/><path clip-path=\\\"url(#clip210)\\\" d=\\\"M2177.93 306.594 Q2177.93 301.964 2176.01 299.418 Q2174.11 296.872 2170.67 296.872 Q2167.24 296.872 2165.32 299.418 Q2163.42 301.964 2163.42 306.594 Q2163.42 311.2 2165.32 313.746 Q2167.24 316.293 2170.67 316.293 Q2174.11 316.293 2176.01 313.746 Q2177.93 311.2 2177.93 306.594 M2182.19 316.64 Q2182.19 323.26 2179.25 326.478 Q2176.31 329.719 2170.25 329.719 Q2168 329.719 2166.01 329.371 Q2164.02 329.047 2162.15 328.353 L2162.15 324.209 Q2164.02 325.228 2165.85 325.714 Q2167.68 326.2 2169.58 326.2 Q2173.77 326.2 2175.85 324.001 Q2177.93 321.825 2177.93 317.404 L2177.93 315.297 Q2176.61 317.589 2174.55 318.723 Q2172.49 319.858 2169.62 319.858 Q2164.86 319.858 2161.94 316.223 Q2159.02 312.589 2159.02 306.594 Q2159.02 300.575 2161.94 296.941 Q2164.86 293.307 2169.62 293.307 Q2172.49 293.307 2174.55 294.441 Q2176.61 295.575 2177.93 297.867 L2177.93 293.932 L2182.19 293.932 L2182.19 316.64 Z\\\" fill=\\\"#000000\\\" fill-rule=\\\"evenodd\\\" fill-opacity=\\\"1\\\" \\/><path clip-path=\\\"url(#clip210)\\\" d=\\\"M2213.14 305.83 L2213.14 307.913 L2193.56 307.913 Q2193.84 312.311 2196.2 314.626 Q2198.58 316.918 2202.82 316.918 Q2205.27 316.918 2207.56 316.316 Q2209.88 315.714 2212.15 314.51 L2212.15 318.538 Q2209.85 319.51 2207.45 320.02 Q2205.04 320.529 2202.56 320.529 Q2196.36 320.529 2192.73 316.918 Q2189.11 313.307 2189.11 307.149 Q2189.11 300.784 2192.54 297.057 Q2195.99 293.307 2201.82 293.307 Q2207.05 293.307 2210.09 296.686 Q2213.14 300.043 2213.14 305.83 M2208.88 304.58 Q2208.84 301.085 2206.91 299.001 Q2205.02 296.918 2201.87 296.918 Q2198.3 296.918 2196.15 298.932 Q2194.02 300.946 2193.7 304.603 L2208.88 304.58 Z\\\" fill=\\\"#000000\\\" fill-rule=\\\"evenodd\\\" fill-opacity=\\\"1\\\" \\/><path clip-path=\\\"url(#clip210)\\\" d=\\\"M2224.35 286.571 L2224.35 293.932 L2233.12 293.932 L2233.12 297.242 L2224.35 297.242 L2224.35 311.316 Q2224.35 314.487 2225.2 315.39 Q2226.08 316.293 2228.74 316.293 L2233.12 316.293 L2233.12 319.858 L2228.74 319.858 Q2223.81 319.858 2221.94 318.029 Q2220.06 316.177 2220.06 311.316 L2220.06 297.242 L2216.94 297.242 L2216.94 293.932 L2220.06 293.932 L2220.06 286.571 L2224.35 286.571 Z\\\" fill=\\\"#000000\\\" fill-rule=\\\"evenodd\\\" fill-opacity=\\\"1\\\" \\/><\\/svg>\\n\"},\"nodeType\":\"DOM\",\"type\":\"node\",\"instanceArgs\":{\"namespace\":\"html\",\"tag\":\"div\"},\"children\":[]}]}}}},\"children\":[{\"props\":{},\"nodeType\":\"ObservableNode\",\"type\":\"node\",\"instanceArgs\":{\"id\":\"15252532990998900857\",\"name\":\"obs-node\"},\"children\":[]}]}]},\n",
       "        window,\n",
       "    );\n",
       "    })()\n",
       "    </script>\n",
       "</div>\n"
      ],
      "text/plain": [
       "Node{WebIO.DOM}(WebIO.DOM(:html, :div), Any[Node{WebIO.DOM}(WebIO.DOM(:html, :div), Any[Scope(Node{WebIO.DOM}(WebIO.DOM(:html, :div), Any[Node{WebIO.DOM}(WebIO.DOM(:html, :div), Any[Node{WebIO.DOM}(WebIO.DOM(:html, :label), Any[\"a\"], Dict{Symbol, Any}(:className => \"interact \", :style => Dict{Any, Any}(:padding => \"5px 10px 0px 10px\")))], Dict{Symbol, Any}(:className => \"interact-flex-row-left\")), Node{WebIO.DOM}(WebIO.DOM(:html, :div), Any[Node{WebIO.DOM}(WebIO.DOM(:html, :div), Any[Node{WebIO.DOM}(WebIO.DOM(:html, :span), Any[Node{WebIO.DOM}(WebIO.DOM(:html, :label), Any[], Dict{Symbol, Any}(:attributes => Dict(\"data-bind\" => \"text : key\")))], Dict{Symbol, Any}(:attributes => Dict(\"data-bind\" => \"click: function (){\\$root.update(val)}, css: {'is-primary is-selected' : \\$root.index() == val, 'interact-widget is-medium button ' : true}\")))], Dict{Symbol, Any}(:attributes => (\"data-bind\" => \"foreach : options_js\"), :className => \"buttons has-addons is-centered\"))], Dict{Symbol, Any}(:className => \"interact-flex-row-center\")), Node{WebIO.DOM}(WebIO.DOM(:html, :div), Any[Node{WebIO.DOM}(WebIO.DOM(:html, :div), Any[], Dict{Symbol, Any}())], Dict{Symbol, Any}(:className => \"interact-flex-row-right\"))], Dict{Symbol, Any}(:className => \"interact-flex-row interact-widget\")), Dict{String, Tuple{Observables.AbstractObservable, Union{Nothing, Bool}}}(\"options_js\" => (Observable{Vector{OrderedDict}} with 1 listeners. Value:\n",
       "OrderedDict[OrderedDict{String, Any}(\"key\" => \"-1\", \"val\" => 1, \"id\" => \"idmNWo2l1U\"), OrderedDict{String, Any}(\"key\" => \"0\", \"val\" => 2, \"id\" => \"idemnd6ga0\"), OrderedDict{String, Any}(\"key\" => \"-Inf\", \"val\" => 3, \"id\" => \"idh7d8YGVq\")], nothing), \"index\" => (Observable{Any} with 2 listeners. Value:\n",
       "1, nothing)), Set{String}(), nothing, Asset[Asset(\"js\", \"knockout\", \"C:\\\\Users\\\\User\\\\.julia\\\\packages\\\\Knockout\\\\HReiN\\\\src\\\\..\\\\assets\\\\knockout.js\"), Asset(\"js\", \"knockout_punches\", \"C:\\\\Users\\\\User\\\\.julia\\\\packages\\\\Knockout\\\\HReiN\\\\src\\\\..\\\\assets\\\\knockout_punches.js\"), Asset(\"js\", nothing, \"C:\\\\Users\\\\User\\\\.julia\\\\packages\\\\InteractBase\\\\Qhvxg\\\\src\\\\..\\\\assets\\\\all.js\"), Asset(\"css\", nothing, \"C:\\\\Users\\\\User\\\\.julia\\\\packages\\\\InteractBase\\\\Qhvxg\\\\src\\\\..\\\\assets\\\\style.css\"), Asset(\"css\", nothing, \"C:\\\\Users\\\\User\\\\.julia\\\\packages\\\\Interact\\\\PENUy\\\\src\\\\..\\\\assets\\\\bulma_confined.min.css\")], Dict{Any, Any}(\"options_js\" => Any[WebIO.JSString(\"(function (val){return (val!=this.model[\\\"options_js\\\"]()) ? (this.valueFromJulia[\\\"options_js\\\"]=true, this.model[\\\"options_js\\\"](val)) : undefined})\")], \"index\" => Any[WebIO.JSString(\"(function (val){return (val!=this.model[\\\"index\\\"]()) ? (this.valueFromJulia[\\\"index\\\"]=true, this.model[\\\"index\\\"](val)) : undefined})\")]), WebIO.ConnectionPool(Channel{Any}(32), Set{AbstractConnection}(), Condition(Base.InvasiveLinkedList{Task}(Task (runnable) @0x000000005997e400, Task (runnable) @0x000000005997e400), Base.AlwaysLockedST(1))), WebIO.JSString[WebIO.JSString(\"function () {\\n    var handler = (function (ko, koPunches) {\\n    ko.punches.enableAll();\\n    ko.bindingHandlers.numericValue = {\\n        init: function(element, valueAccessor, allBindings, data, context) {\\n            var stringified = ko.observable(ko.unwrap(valueAccessor()));\\n            stringified.subscribe(function(value) {\\n                var val = parseFloat(value);\\n                if (!isNaN(val)) {\\n                    valueAccessor()(val);\\n                }\\n            });\\n            valueAccessor().subscribe(function(value) {\\n                var str = JSON.stringify(value);\\n                if ((str == \\\"0\\\") && ([\\\"-0\\\", \\\"-0.\\\"].indexOf(stringified()) >= 0))\\n                     return;\\n                 if ([\\\"null\\\", \\\"\\\"].indexOf(str) >= 0)\\n                     return;\\n                stringified(str);\\n            });\\n            ko.applyBindingsToNode(\\n                element,\\n                {\\n                    value: stringified,\\n                    valueUpdate: allBindings.get('valueUpdate'),\\n                },\\n                context,\\n            );\\n        }\\n    };\\n    var json_data = {\\\"options_js\\\":WebIO.getval({\\\"name\\\":\\\"options_js\\\",\\\"scope\\\":\\\"3462368132299938738\\\",\\\"id\\\":\\\"16153476440537225631\\\",\\\"type\\\":\\\"observable\\\"}),\\\"index\\\":WebIO.getval({\\\"name\\\":\\\"index\\\",\\\"scope\\\":\\\"3462368132299938738\\\",\\\"id\\\":\\\"6685449674466633052\\\",\\\"type\\\":\\\"observable\\\"})};\\n    var self = this;\\n    function AppViewModel() {\\n        for (var key in json_data) {\\n            var el = json_data[key];\\n            this[key] = Array.isArray(el) ? ko.observableArray(el) : ko.observable(el);\\n        }\\n        [this[\\\"update\\\"]=function (val) {this.index(val)}]\\n        \\n        [this[\\\"options_js\\\"].subscribe((function (val){!(this.valueFromJulia[\\\"options_js\\\"]) ? (WebIO.setval({\\\"name\\\":\\\"options_js\\\",\\\"scope\\\":\\\"3462368132299938738\\\",\\\"id\\\":\\\"16153476440537225631\\\",\\\"type\\\":\\\"observable\\\"},val)) : undefined; return this.valueFromJulia[\\\"options_js\\\"]=false}),self),this[\\\"index\\\"].subscribe((function (val){!(this.valueFromJulia[\\\"index\\\"]) ? (WebIO.setval({\\\"name\\\":\\\"index\\\",\\\"scope\\\":\\\"3462368132299938738\\\",\\\"id\\\":\\\"6685449674466633052\\\",\\\"type\\\":\\\"observable\\\"},val)) : undefined; return this.valueFromJulia[\\\"index\\\"]=false}),self)]\\n        \\n    }\\n    self.model = new AppViewModel();\\n    self.valueFromJulia = {};\\n    for (var key in json_data) {\\n        self.valueFromJulia[key] = false;\\n    }\\n    ko.applyBindings(self.model, self.dom);\\n}\\n);\\n    (WebIO.importBlock({\\\"data\\\":[{\\\"name\\\":\\\"knockout\\\",\\\"type\\\":\\\"js\\\",\\\"url\\\":\\\"/assetserver/a0663ad37bdb924bb8f58218fb6104c40c026f21-knockout.js\\\"},{\\\"name\\\":\\\"knockout_punches\\\",\\\"type\\\":\\\"js\\\",\\\"url\\\":\\\"/assetserver/c0559b701cdaac29f8d4c071931238140df0ba9e-knockout_punches.js\\\"}],\\\"type\\\":\\\"async_block\\\"})).then((imports) => handler.apply(this, imports));\\n}\\n\")])], Dict{Symbol, Any}(:className => \"interact-widget\")), Node{WebIO.DOM}(WebIO.DOM(:html, :div), Any[Scope(Node{WebIO.DOM}(WebIO.DOM(:html, :div), Any[Node{WebIO.DOM}(WebIO.DOM(:html, :div), Any[Node{WebIO.DOM}(WebIO.DOM(:html, :label), Any[\"n\"], Dict{Symbol, Any}(:className => \"interact \", :style => Dict{Any, Any}(:padding => \"5px 10px 0px 10px\")))], Dict{Symbol, Any}(:className => \"interact-flex-row-left\")), Node{WebIO.DOM}(WebIO.DOM(:html, :div), Any[Node{WebIO.DOM}(WebIO.DOM(:html, :input), Any[], Dict{Symbol, Any}(:max => 18, :min => 1, :attributes => Dict{Any, Any}(:type => \"range\", Symbol(\"data-bind\") => \"numericValue: index, valueUpdate: 'input', event: {change: function (){this.changes(this.changes()+1)}}\", \"orient\" => \"horizontal\"), :step => 1, :className => \"slider slider is-fullwidth\", :style => Dict{Any, Any}()))], Dict{Symbol, Any}(:className => \"interact-flex-row-center\")), Node{WebIO.DOM}(WebIO.DOM(:html, :div), Any[Node{WebIO.DOM}(WebIO.DOM(:html, :p), Any[], Dict{Symbol, Any}(:attributes => Dict(\"data-bind\" => \"text: formatted_val\")))], Dict{Symbol, Any}(:className => \"interact-flex-row-right\"))], Dict{Symbol, Any}(:className => \"interact-flex-row interact-widget\")), Dict{String, Tuple{Observables.AbstractObservable, Union{Nothing, Bool}}}(\"changes\" => (Observable{Int64} with 1 listeners. Value:\n",
       "0, nothing), \"index\" => (Observable{Any} with 2 listeners. Value:\n",
       "9, nothing)), Set{String}(), nothing, Asset[Asset(\"js\", \"knockout\", \"C:\\\\Users\\\\User\\\\.julia\\\\packages\\\\Knockout\\\\HReiN\\\\src\\\\..\\\\assets\\\\knockout.js\"), Asset(\"js\", \"knockout_punches\", \"C:\\\\Users\\\\User\\\\.julia\\\\packages\\\\Knockout\\\\HReiN\\\\src\\\\..\\\\assets\\\\knockout_punches.js\"), Asset(\"js\", nothing, \"C:\\\\Users\\\\User\\\\.julia\\\\packages\\\\InteractBase\\\\Qhvxg\\\\src\\\\..\\\\assets\\\\all.js\"), Asset(\"css\", nothing, \"C:\\\\Users\\\\User\\\\.julia\\\\packages\\\\InteractBase\\\\Qhvxg\\\\src\\\\..\\\\assets\\\\style.css\"), Asset(\"css\", nothing, \"C:\\\\Users\\\\User\\\\.julia\\\\packages\\\\Interact\\\\PENUy\\\\src\\\\..\\\\assets\\\\bulma_confined.min.css\")], Dict{Any, Any}(\"changes\" => Any[WebIO.JSString(\"(function (val){return (val!=this.model[\\\"changes\\\"]()) ? (this.valueFromJulia[\\\"changes\\\"]=true, this.model[\\\"changes\\\"](val)) : undefined})\")], \"index\" => Any[WebIO.JSString(\"(function (val){return (val!=this.model[\\\"index\\\"]()) ? (this.valueFromJulia[\\\"index\\\"]=true, this.model[\\\"index\\\"](val)) : undefined})\")]), WebIO.ConnectionPool(Channel{Any}(32), Set{AbstractConnection}(), Condition(Base.InvasiveLinkedList{Task}(Task (runnable) @0x00000000800e6ef0, Task (runnable) @0x00000000800e6ef0), Base.AlwaysLockedST(1))), WebIO.JSString[WebIO.JSString(\"function () {\\n    var handler = (function (ko, koPunches) {\\n    ko.punches.enableAll();\\n    ko.bindingHandlers.numericValue = {\\n        init: function(element, valueAccessor, allBindings, data, context) {\\n            var stringified = ko.observable(ko.unwrap(valueAccessor()));\\n            stringified.subscribe(function(value) {\\n                var val = parseFloat(value);\\n                if (!isNaN(val)) {\\n                    valueAccessor()(val);\\n                }\\n            });\\n            valueAccessor().subscribe(function(value) {\\n                var str = JSON.stringify(value);\\n                if ((str == \\\"0\\\") && ([\\\"-0\\\", \\\"-0.\\\"].indexOf(stringified()) >= 0))\\n                     return;\\n                 if ([\\\"null\\\", \\\"\\\"].indexOf(str) >= 0)\\n                     return;\\n                stringified(str);\\n            });\\n            ko.applyBindingsToNode(\\n                element,\\n                {\\n                    value: stringified,\\n                    valueUpdate: allBindings.get('valueUpdate'),\\n                },\\n                context,\\n            );\\n        }\\n    };\\n    var json_data = {\\\"formatted_vals\\\":[\\\"50\\\",\\\"70\\\",\\\"90\\\",\\\"110\\\",\\\"130\\\",\\\"150\\\",\\\"170\\\",\\\"190\\\",\\\"210\\\",\\\"230\\\",\\\"250\\\",\\\"270\\\",\\\"290\\\",\\\"310\\\",\\\"330\\\",\\\"350\\\",\\\"370\\\",\\\"390\\\"],\\\"changes\\\":WebIO.getval({\\\"name\\\":\\\"changes\\\",\\\"scope\\\":\\\"9279612367422528752\\\",\\\"id\\\":\\\"15880295591589519214\\\",\\\"type\\\":\\\"observable\\\"}),\\\"index\\\":WebIO.getval({\\\"name\\\":\\\"index\\\",\\\"scope\\\":\\\"9279612367422528752\\\",\\\"id\\\":\\\"16099153930954848570\\\",\\\"type\\\":\\\"observable\\\"})};\\n    var self = this;\\n    function AppViewModel() {\\n        for (var key in json_data) {\\n            var el = json_data[key];\\n            this[key] = Array.isArray(el) ? ko.observableArray(el) : ko.observable(el);\\n        }\\n        \\n        [this[\\\"formatted_val\\\"]=ko.computed(    function(){\\n        return this.formatted_vals()[parseInt(this.index())-(1)];\\n    }\\n,this)]\\n        [this[\\\"changes\\\"].subscribe((function (val){!(this.valueFromJulia[\\\"changes\\\"]) ? (WebIO.setval({\\\"name\\\":\\\"changes\\\",\\\"scope\\\":\\\"9279612367422528752\\\",\\\"id\\\":\\\"15880295591589519214\\\",\\\"type\\\":\\\"observable\\\"},val)) : undefined; return this.valueFromJulia[\\\"changes\\\"]=false}),self),this[\\\"index\\\"].subscribe((function (val){!(this.valueFromJulia[\\\"index\\\"]) ? (WebIO.setval({\\\"name\\\":\\\"index\\\",\\\"scope\\\":\\\"9279612367422528752\\\",\\\"id\\\":\\\"16099153930954848570\\\",\\\"type\\\":\\\"observable\\\"},val)) : undefined; return this.valueFromJulia[\\\"index\\\"]=false}),self)]\\n        \\n    }\\n    self.model = new AppViewModel();\\n    self.valueFromJulia = {};\\n    for (var key in json_data) {\\n        self.valueFromJulia[key] = false;\\n    }\\n    ko.applyBindings(self.model, self.dom);\\n}\\n);\\n    (WebIO.importBlock({\\\"data\\\":[{\\\"name\\\":\\\"knockout\\\",\\\"type\\\":\\\"js\\\",\\\"url\\\":\\\"/assetserver/a0663ad37bdb924bb8f58218fb6104c40c026f21-knockout.js\\\"},{\\\"name\\\":\\\"knockout_punches\\\",\\\"type\\\":\\\"js\\\",\\\"url\\\":\\\"/assetserver/c0559b701cdaac29f8d4c071931238140df0ba9e-knockout_punches.js\\\"}],\\\"type\\\":\\\"async_block\\\"})).then((imports) => handler.apply(this, imports));\\n}\\n\")])], Dict{Symbol, Any}(:className => \"field interact-widget\")), Observable{Node{WebIO.DOM}} with 0 listeners. Value:\n",
       "Node{WebIO.DOM}(WebIO.DOM(:html, :div), Any[Plot{Plots.GRBackend() n=4}], Dict{Symbol, Any}(:className => \"interact-flex-row interact-widget\"))], Dict{Symbol, Any}())"
      ]
     },
     "execution_count": 18,
     "metadata": {
      "application/vnd.webio.node+json": {
       "kernelId": "58de998d-2c7f-4ce0-98ab-d98a42230a0a"
      }
     },
     "output_type": "execute_result"
    }
   ],
   "source": [
    "@manipulate for a = (-1,0,-Inf) , n =(50:20:400) \n",
    "    plot([i for i in [1:n]], [approx_g(a,i)[1] for i in (1:1:n)],label = \"GL\" )\n",
    "    plot!([i for i in [1:n]], [approx_g(a,i)[2] for i in (1:1:n)],label = \"GLa\" )\n",
    "    plot!([i for i in [1:n]], [approx_g(a,i)[3] for i in (1:1:n)],label = \"GH\" )\n",
    "    g(x) = exp(-1/100*x^2)*(1+x^2)\n",
    "    plot!([quadgk(g, a, Inf, rtol=1e-6)[1]], seriestype=\"hline\" ,label = \"target\")\n",
    "end"
   ]
  },
  {
   "cell_type": "markdown",
   "id": "a73f4205",
   "metadata": {},
   "source": [
    "GLa最有效率。GH比較沒有效率的原因是:g(x)在大部分的x上都趨近於0，而GL又扭曲太多。"
   ]
  }
 ],
 "metadata": {
  "@webio": {
   "lastCommId": "6b4b04c35c8e46198ea74f0ded9bea5c",
   "lastKernelId": "58de998d-2c7f-4ce0-98ab-d98a42230a0a"
  },
  "kernelspec": {
   "display_name": "Julia 1.6.3",
   "language": "julia",
   "name": "julia-1.6"
  },
  "language_info": {
   "file_extension": ".jl",
   "mimetype": "application/julia",
   "name": "julia",
   "version": "1.6.3"
  },
  "toc": {
   "base_numbering": 1,
   "nav_menu": {},
   "number_sections": true,
   "sideBar": true,
   "skip_h1_title": false,
   "title_cell": "Table of Contents",
   "title_sidebar": "Contents",
   "toc_cell": false,
   "toc_position": {},
   "toc_section_display": true,
   "toc_window_display": false
  },
  "varInspector": {
   "cols": {
    "lenName": 16,
    "lenType": 16,
    "lenVar": 40
   },
   "kernels_config": {
    "python": {
     "delete_cmd_postfix": "",
     "delete_cmd_prefix": "del ",
     "library": "var_list.py",
     "varRefreshCmd": "print(var_dic_list())"
    },
    "r": {
     "delete_cmd_postfix": ") ",
     "delete_cmd_prefix": "rm(",
     "library": "var_list.r",
     "varRefreshCmd": "cat(var_dic_list()) "
    }
   },
   "types_to_exclude": [
    "module",
    "function",
    "builtin_function_or_method",
    "instance",
    "_Feature"
   ],
   "window_display": false
  }
 },
 "nbformat": 4,
 "nbformat_minor": 5
}
