{
 "cells": [
  {
   "cell_type": "code",
   "execution_count": 38,
   "id": "957f10e7",
   "metadata": {
    "vscode": {
     "languageId": "r"
    }
   },
   "outputs": [],
   "source": [
    "library(bootstrap)\n",
    "library(boot)\n",
    "data <- scor"
   ]
  },
  {
   "cell_type": "code",
   "execution_count": 88,
   "id": "f76e51a5",
   "metadata": {},
   "outputs": [],
   "source": [
    "cov_mle <- function(data){\n",
    "    m <- 0\n",
    "    for (i in 1:ncol(data)){\n",
    "        mat <- matrix(data[,i]-mean(data[,i]), nrow = nrow(data))\n",
    "        transmat  <- t(mat)\n",
    "        prod  <-  (mat%*%transmat)/nrow(data)\n",
    "        m <- m + prod\n",
    "    }\n",
    "    return (m)\n",
    "}"
   ]
  },
  {
   "cell_type": "code",
   "execution_count": 91,
   "id": "c9204a53",
   "metadata": {
    "vscode": {
     "languageId": "r"
    }
   },
   "outputs": [],
   "source": [
    "theta_hat <- function(data,i){\n",
    "    A <- cov_mle(data[i,])\n",
    "    ev <- eigen(A)\n",
    "    lambda <- sort(ev$values,decreasing = TRUE)\n",
    "    theta_hat <- lambda[1]/sum(lambda)\n",
    "    return (theta_hat)\n",
    "}"
   ]
  },
  {
   "cell_type": "markdown",
   "id": "b36a7401",
   "metadata": {},
   "source": [
    "1. Use bootstrap to estimate the bias and standard error of $\\hat{\\theta}$.\n"
   ]
  },
  {
   "cell_type": "code",
   "execution_count": 92,
   "id": "a2def11e",
   "metadata": {
    "vscode": {
     "languageId": "r"
    }
   },
   "outputs": [
    {
     "name": "stdout",
     "output_type": "stream",
     "text": [
      "$est\n",
      "[1] 0.619115\n",
      "\n",
      "$bias\n",
      "[1] 0.0002556921\n",
      "\n",
      "$se\n",
      "[1] 0.04943359\n",
      "\n"
     ]
    }
   ],
   "source": [
    "#handmade\n",
    "theta.hat <- theta_hat(data)\n",
    "n <- nrow(data)\n",
    "B <- 2000 \n",
    "theta.b <- numeric(B)\n",
    "for (b in 1:B) {\n",
    "    i <- sample(1:n, size = n, replace = TRUE)\n",
    "    theta.b[b] <- theta_hat(data,i)\n",
    "}\n",
    "bias <- mean(theta.b - theta.hat)\n",
    "se <- sd(theta.b)\n",
    "print(list(est=theta.hat, bias = bias,se = se))"
   ]
  },
  {
   "cell_type": "code",
   "execution_count": 93,
   "id": "b74d02f1",
   "metadata": {
    "vscode": {
     "languageId": "r"
    }
   },
   "outputs": [
    {
     "data": {
      "text/plain": [
       "\n",
       "ORDINARY NONPARAMETRIC BOOTSTRAP\n",
       "\n",
       "\n",
       "Call:\n",
       "boot(data = data, statistic = theta_hat, R = 2000)\n",
       "\n",
       "\n",
       "Bootstrap Statistics :\n",
       "    original       bias    std. error\n",
       "t1* 0.619115 0.0007689663  0.04769692"
      ]
     },
     "metadata": {},
     "output_type": "display_data"
    }
   ],
   "source": [
    "#using package\n",
    "obj <- boot(data, theta_hat, R = 2000)\n",
    "obj"
   ]
  },
  {
   "cell_type": "markdown",
   "id": "cb673db9",
   "metadata": {},
   "source": [
    "2. Obtain the jackknife estimates of bias and standard error of $\\hat{\\theta}$.\n"
   ]
  },
  {
   "cell_type": "code",
   "execution_count": 94,
   "id": "fd3fa57f",
   "metadata": {},
   "outputs": [
    {
     "name": "stdout",
     "output_type": "stream",
     "text": [
      "$bias\n",
      "[1] 0.001069139\n",
      "\n",
      "$se\n",
      "[1] 0.04955231\n",
      "\n"
     ]
    }
   ],
   "source": [
    "n <- nrow(data)\n",
    "\n",
    "theta.hat <- theta_hat(data)\n",
    "theta.jack <- numeric(n)\n",
    "for (i in 1:n)\n",
    "    theta.jack[i] <- theta_hat(data[-i, ])\n",
    "bias <- (n - 1) * (mean(theta.jack) - theta.hat)\n",
    "#se <- sd(theta.jack)\n",
    "se <- sqrt((n-1) * mean((theta.jack - mean(theta.jack))^2))\n",
    "print(list(bias = bias,se = se))"
   ]
  },
  {
   "cell_type": "markdown",
   "id": "40e17fd2",
   "metadata": {},
   "source": [
    "3. Compute 95% percentile and BCa confidence intervals for $\\hat{\\theta}$."
   ]
  },
  {
   "cell_type": "code",
   "execution_count": 95,
   "id": "9e942951",
   "metadata": {},
   "outputs": [
    {
     "data": {
      "text/plain": [
       "BOOTSTRAP CONFIDENCE INTERVAL CALCULATIONS\n",
       "Based on 2000 bootstrap replicates\n",
       "\n",
       "CALL : \n",
       "boot.ci(boot.out = obj, type = c(\"perc\", \"bca\"))\n",
       "\n",
       "Intervals : \n",
       "Level     Percentile            BCa          \n",
       "95%   ( 0.5191,  0.7074 )   ( 0.5171,  0.7048 )  \n",
       "Calculations and Intervals on Original Scale"
      ]
     },
     "metadata": {},
     "output_type": "display_data"
    }
   ],
   "source": [
    "boot.ci(obj,type=c(\"perc\",\"bca\"))"
   ]
  }
 ],
 "metadata": {
  "kernelspec": {
   "display_name": "R",
   "language": "R",
   "name": "ir"
  },
  "language_info": {
   "codemirror_mode": "r",
   "file_extension": ".r",
   "mimetype": "text/x-r-source",
   "name": "R",
   "pygments_lexer": "r",
   "version": "4.1.1"
  },
  "toc": {
   "base_numbering": 1,
   "nav_menu": {},
   "number_sections": true,
   "sideBar": true,
   "skip_h1_title": false,
   "title_cell": "Table of Contents",
   "title_sidebar": "Contents",
   "toc_cell": false,
   "toc_position": {},
   "toc_section_display": true,
   "toc_window_display": false
  },
  "varInspector": {
   "cols": {
    "lenName": 16,
    "lenType": 16,
    "lenVar": 40
   },
   "kernels_config": {
    "python": {
     "delete_cmd_postfix": "",
     "delete_cmd_prefix": "del ",
     "library": "var_list.py",
     "varRefreshCmd": "print(var_dic_list())"
    },
    "r": {
     "delete_cmd_postfix": ") ",
     "delete_cmd_prefix": "rm(",
     "library": "var_list.r",
     "varRefreshCmd": "cat(var_dic_list()) "
    }
   },
   "types_to_exclude": [
    "module",
    "function",
    "builtin_function_or_method",
    "instance",
    "_Feature"
   ],
   "window_display": false
  }
 },
 "nbformat": 4,
 "nbformat_minor": 5
}
