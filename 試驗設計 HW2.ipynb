{
 "cells": [
  {
   "cell_type": "markdown",
   "id": "b7d9cbd2",
   "metadata": {},
   "source": [
    "# problem1"
   ]
  },
  {
   "cell_type": "code",
   "execution_count": 1,
   "id": "3558e63b",
   "metadata": {},
   "outputs": [
    {
     "data": {
      "text/html": [
       "<table>\n",
       "<thead><tr><th></th><th scope=col>Df</th><th scope=col>Sum Sq</th><th scope=col>Mean Sq</th><th scope=col>F value</th><th scope=col>Pr(&gt;F)</th></tr></thead>\n",
       "<tbody>\n",
       "\t<tr><th scope=row>group</th><td> 3          </td><td>480275.2    </td><td>160091.73   </td><td>12.63776    </td><td>0.0005045012</td></tr>\n",
       "\t<tr><th scope=row>Residuals</th><td>12          </td><td>152012.7    </td><td> 12667.73   </td><td>      NA    </td><td>          NA</td></tr>\n",
       "</tbody>\n",
       "</table>\n"
      ],
      "text/latex": [
       "\\begin{tabular}{r|lllll}\n",
       "  & Df & Sum Sq & Mean Sq & F value & Pr(>F)\\\\\n",
       "\\hline\n",
       "\tgroup &  3           & 480275.2     & 160091.73    & 12.63776     & 0.0005045012\\\\\n",
       "\tResiduals & 12           & 152012.7     &  12667.73    &       NA     &           NA\\\\\n",
       "\\end{tabular}\n"
      ],
      "text/markdown": [
       "\n",
       "| <!--/--> | Df | Sum Sq | Mean Sq | F value | Pr(>F) |\n",
       "|---|---|---|---|---|---|\n",
       "| group |  3           | 480275.2     | 160091.73    | 12.63776     | 0.0005045012 |\n",
       "| Residuals | 12           | 152012.7     |  12667.73    |       NA     |           NA |\n",
       "\n"
      ],
      "text/plain": [
       "          Df Sum Sq   Mean Sq   F value  Pr(>F)      \n",
       "group      3 480275.2 160091.73 12.63776 0.0005045012\n",
       "Residuals 12 152012.7  12667.73       NA           NA"
      ]
     },
     "metadata": {},
     "output_type": "display_data"
    }
   ],
   "source": [
    "c1 <- c(3135,3001,2865,2890)\n",
    "c2 <- c(3210,3311,2975,3150)\n",
    "c3 <- c(2815,2910,2985,3050)\n",
    "c4 <- c(2619,2706,2612,2765)\n",
    "y <- c(c1,c2,c3,c4)\n",
    "n <- rep(4,4)\n",
    "group <- rep(1:4,n)\n",
    "data = data.frame(y = y, group = factor(group))\n",
    "fit = lm(y ~ group, data)\n",
    "anova(fit)"
   ]
  },
  {
   "cell_type": "code",
   "execution_count": 2,
   "id": "4f2fcee2",
   "metadata": {},
   "outputs": [
    {
     "data": {
      "text/html": [
       "<table>\n",
       "<thead><tr><th scope=col>y</th><th scope=col>group</th></tr></thead>\n",
       "<tbody>\n",
       "\t<tr><td>3135</td><td>1   </td></tr>\n",
       "\t<tr><td>3001</td><td>1   </td></tr>\n",
       "\t<tr><td>2865</td><td>1   </td></tr>\n",
       "\t<tr><td>2890</td><td>1   </td></tr>\n",
       "\t<tr><td>3210</td><td>2   </td></tr>\n",
       "\t<tr><td>3311</td><td>2   </td></tr>\n",
       "\t<tr><td>2975</td><td>2   </td></tr>\n",
       "\t<tr><td>3150</td><td>2   </td></tr>\n",
       "\t<tr><td>2815</td><td>3   </td></tr>\n",
       "\t<tr><td>2910</td><td>3   </td></tr>\n",
       "\t<tr><td>2985</td><td>3   </td></tr>\n",
       "\t<tr><td>3050</td><td>3   </td></tr>\n",
       "\t<tr><td>2619</td><td>4   </td></tr>\n",
       "\t<tr><td>2706</td><td>4   </td></tr>\n",
       "\t<tr><td>2612</td><td>4   </td></tr>\n",
       "\t<tr><td>2765</td><td>4   </td></tr>\n",
       "</tbody>\n",
       "</table>\n"
      ],
      "text/latex": [
       "\\begin{tabular}{r|ll}\n",
       " y & group\\\\\n",
       "\\hline\n",
       "\t 3135 & 1   \\\\\n",
       "\t 3001 & 1   \\\\\n",
       "\t 2865 & 1   \\\\\n",
       "\t 2890 & 1   \\\\\n",
       "\t 3210 & 2   \\\\\n",
       "\t 3311 & 2   \\\\\n",
       "\t 2975 & 2   \\\\\n",
       "\t 3150 & 2   \\\\\n",
       "\t 2815 & 3   \\\\\n",
       "\t 2910 & 3   \\\\\n",
       "\t 2985 & 3   \\\\\n",
       "\t 3050 & 3   \\\\\n",
       "\t 2619 & 4   \\\\\n",
       "\t 2706 & 4   \\\\\n",
       "\t 2612 & 4   \\\\\n",
       "\t 2765 & 4   \\\\\n",
       "\\end{tabular}\n"
      ],
      "text/markdown": [
       "\n",
       "| y | group |\n",
       "|---|---|\n",
       "| 3135 | 1    |\n",
       "| 3001 | 1    |\n",
       "| 2865 | 1    |\n",
       "| 2890 | 1    |\n",
       "| 3210 | 2    |\n",
       "| 3311 | 2    |\n",
       "| 2975 | 2    |\n",
       "| 3150 | 2    |\n",
       "| 2815 | 3    |\n",
       "| 2910 | 3    |\n",
       "| 2985 | 3    |\n",
       "| 3050 | 3    |\n",
       "| 2619 | 4    |\n",
       "| 2706 | 4    |\n",
       "| 2612 | 4    |\n",
       "| 2765 | 4    |\n",
       "\n"
      ],
      "text/plain": [
       "   y    group\n",
       "1  3135 1    \n",
       "2  3001 1    \n",
       "3  2865 1    \n",
       "4  2890 1    \n",
       "5  3210 2    \n",
       "6  3311 2    \n",
       "7  2975 2    \n",
       "8  3150 2    \n",
       "9  2815 3    \n",
       "10 2910 3    \n",
       "11 2985 3    \n",
       "12 3050 3    \n",
       "13 2619 4    \n",
       "14 2706 4    \n",
       "15 2612 4    \n",
       "16 2765 4    "
      ]
     },
     "metadata": {},
     "output_type": "display_data"
    }
   ],
   "source": [
    "data"
   ]
  },
  {
   "cell_type": "code",
   "execution_count": 128,
   "id": "7e6fb48d",
   "metadata": {},
   "outputs": [
    {
     "data": {
      "text/html": [
       "<table>\n",
       "<tbody>\n",
       "\t<tr><td>632287.9</td></tr>\n",
       "</tbody>\n",
       "</table>\n"
      ],
      "text/latex": [
       "\\begin{tabular}{l}\n",
       "\t 632287.9\\\\\n",
       "\\end{tabular}\n"
      ],
      "text/markdown": [
       "\n",
       "| 632287.9 |\n",
       "\n"
      ],
      "text/plain": [
       "     [,1]    \n",
       "[1,] 632287.9"
      ]
     },
     "metadata": {},
     "output_type": "display_data"
    }
   ],
   "source": [
    "(y-mean(y))%*%(y-mean(y))"
   ]
  },
  {
   "cell_type": "code",
   "execution_count": 129,
   "id": "d50d1943",
   "metadata": {},
   "outputs": [],
   "source": [
    "u2 <- c(1,-1,0,0)\n",
    "u3 <- c(1,1,-2,0)\n",
    "u4 <- c(1,1,1,-3)\n",
    "ybar <- c(mean(c1),mean(c2),mean(c3),mean(c4))\n",
    "residMS <- 12667.73"
   ]
  },
  {
   "cell_type": "code",
   "execution_count": 130,
   "id": "c7b29af7",
   "metadata": {},
   "outputs": [
    {
     "data": {
      "text/html": [
       "<table>\n",
       "<tbody>\n",
       "\t<tr><td>71253.12</td></tr>\n",
       "</tbody>\n",
       "</table>\n"
      ],
      "text/latex": [
       "\\begin{tabular}{l}\n",
       "\t 71253.12\\\\\n",
       "\\end{tabular}\n"
      ],
      "text/markdown": [
       "\n",
       "| 71253.12 |\n",
       "\n"
      ],
      "text/plain": [
       "     [,1]    \n",
       "[1,] 71253.12"
      ]
     },
     "metadata": {},
     "output_type": "display_data"
    }
   ],
   "source": [
    "(ybar%*%u2)^2*4/u2%*%u2"
   ]
  },
  {
   "cell_type": "code",
   "execution_count": 131,
   "id": "92051e17",
   "metadata": {},
   "outputs": [
    {
     "data": {
      "text/html": [
       "<table>\n",
       "<tbody>\n",
       "\t<tr><td>5.624775</td></tr>\n",
       "</tbody>\n",
       "</table>\n"
      ],
      "text/latex": [
       "\\begin{tabular}{l}\n",
       "\t 5.624775\\\\\n",
       "\\end{tabular}\n"
      ],
      "text/markdown": [
       "\n",
       "| 5.624775 |\n",
       "\n"
      ],
      "text/plain": [
       "     [,1]    \n",
       "[1,] 5.624775"
      ]
     },
     "metadata": {},
     "output_type": "display_data"
    }
   ],
   "source": [
    "(ybar%*%u2)^2*4/u2%*%u2/residMS"
   ]
  },
  {
   "cell_type": "code",
   "execution_count": 132,
   "id": "b1e6933a",
   "metadata": {},
   "outputs": [
    {
     "data": {
      "text/html": [
       "0.0352945937584869"
      ],
      "text/latex": [
       "0.0352945937584869"
      ],
      "text/markdown": [
       "0.0352945937584869"
      ],
      "text/plain": [
       "[1] 0.03529459"
      ]
     },
     "metadata": {},
     "output_type": "display_data"
    }
   ],
   "source": [
    "pf(5.624775 ,1,12,lower=F)"
   ]
  },
  {
   "cell_type": "code",
   "execution_count": 133,
   "id": "7634d8fa",
   "metadata": {},
   "outputs": [
    {
     "data": {
      "text/html": [
       "<table>\n",
       "<tbody>\n",
       "\t<tr><td>43095.38</td></tr>\n",
       "</tbody>\n",
       "</table>\n"
      ],
      "text/latex": [
       "\\begin{tabular}{l}\n",
       "\t 43095.38\\\\\n",
       "\\end{tabular}\n"
      ],
      "text/markdown": [
       "\n",
       "| 43095.38 |\n",
       "\n"
      ],
      "text/plain": [
       "     [,1]    \n",
       "[1,] 43095.38"
      ]
     },
     "metadata": {},
     "output_type": "display_data"
    }
   ],
   "source": [
    "(ybar%*%u3)^2*4/u3%*%u3"
   ]
  },
  {
   "cell_type": "code",
   "execution_count": 134,
   "id": "28c3325b",
   "metadata": {},
   "outputs": [
    {
     "data": {
      "text/html": [
       "<table>\n",
       "<tbody>\n",
       "\t<tr><td>3.401981</td></tr>\n",
       "</tbody>\n",
       "</table>\n"
      ],
      "text/latex": [
       "\\begin{tabular}{l}\n",
       "\t 3.401981\\\\\n",
       "\\end{tabular}\n"
      ],
      "text/markdown": [
       "\n",
       "| 3.401981 |\n",
       "\n"
      ],
      "text/plain": [
       "     [,1]    \n",
       "[1,] 3.401981"
      ]
     },
     "metadata": {},
     "output_type": "display_data"
    }
   ],
   "source": [
    "(ybar%*%u3)^2*4/u3%*%u3/residMS"
   ]
  },
  {
   "cell_type": "code",
   "execution_count": 135,
   "id": "886544d1",
   "metadata": {},
   "outputs": [
    {
     "data": {
      "text/html": [
       "0.0899334995559015"
      ],
      "text/latex": [
       "0.0899334995559015"
      ],
      "text/markdown": [
       "0.0899334995559015"
      ],
      "text/plain": [
       "[1] 0.0899335"
      ]
     },
     "metadata": {},
     "output_type": "display_data"
    }
   ],
   "source": [
    "pf(3.401981 ,1,12,lower=F)"
   ]
  },
  {
   "cell_type": "code",
   "execution_count": 136,
   "id": "91066d50",
   "metadata": {},
   "outputs": [
    {
     "data": {
      "text/html": [
       "<table>\n",
       "<tbody>\n",
       "\t<tr><td>365926.7</td></tr>\n",
       "</tbody>\n",
       "</table>\n"
      ],
      "text/latex": [
       "\\begin{tabular}{l}\n",
       "\t 365926.7\\\\\n",
       "\\end{tabular}\n"
      ],
      "text/markdown": [
       "\n",
       "| 365926.7 |\n",
       "\n"
      ],
      "text/plain": [
       "     [,1]    \n",
       "[1,] 365926.7"
      ]
     },
     "metadata": {},
     "output_type": "display_data"
    }
   ],
   "source": [
    "(ybar%*%u4)^2*4/u4%*%u4"
   ]
  },
  {
   "cell_type": "code",
   "execution_count": 137,
   "id": "7717a87c",
   "metadata": {},
   "outputs": [
    {
     "data": {
      "text/html": [
       "<table>\n",
       "<tbody>\n",
       "\t<tr><td>28.88652</td></tr>\n",
       "</tbody>\n",
       "</table>\n"
      ],
      "text/latex": [
       "\\begin{tabular}{l}\n",
       "\t 28.88652\\\\\n",
       "\\end{tabular}\n"
      ],
      "text/markdown": [
       "\n",
       "| 28.88652 |\n",
       "\n"
      ],
      "text/plain": [
       "     [,1]    \n",
       "[1,] 28.88652"
      ]
     },
     "metadata": {},
     "output_type": "display_data"
    }
   ],
   "source": [
    "(ybar%*%u4)^2*4/u4%*%u4/residMS"
   ]
  },
  {
   "cell_type": "code",
   "execution_count": 138,
   "id": "8da35740",
   "metadata": {},
   "outputs": [
    {
     "data": {
      "text/html": [
       "0.000166804690763573"
      ],
      "text/latex": [
       "0.000166804690763573"
      ],
      "text/markdown": [
       "0.000166804690763573"
      ],
      "text/plain": [
       "[1] 0.0001668047"
      ]
     },
     "metadata": {},
     "output_type": "display_data"
    }
   ],
   "source": [
    "pf(28.88652,1,12,lower=F)"
   ]
  },
  {
   "cell_type": "markdown",
   "id": "643c6ebc",
   "metadata": {},
   "source": [
    "## (b) vector法ANOVA table"
   ]
  },
  {
   "cell_type": "markdown",
   "id": "3678792f",
   "metadata": {},
   "source": [
    "ANOVA table   | df    | Sum Sq | Mean Sq | F value|\tPr(>F)\n",
    "--------------|:-----:|-------:|--------:|-------:|----------------\n",
    "group         | 3 |  480275.2  |   160091.73| 12.63776   |  0.0005045012\n",
    "c1:u1=u2      | 1 | 71253.12 |  71253.12    |5.624775|0.035294\n",
    "c2:u1+u2=2u3  | 1 | 43095.38| 43095.38   |3.401981|0.0899334\n",
    "c3:u1+u2+u3=3u4 | 1 |365926.7 | 365926.7  |28.88652|0.00016680\n",
    "Residuals\t  |12 |152012.7\t   |\t12667.73\t |NA\t  |NA"
   ]
  },
  {
   "cell_type": "markdown",
   "id": "61ebcad5",
   "metadata": {},
   "source": [
    "## (C) Test the hypothesis that mixing techniques affect the strength of the cement. Use $\\alpha$ =0.05. "
   ]
  },
  {
   "cell_type": "markdown",
   "id": "7e59d232",
   "metadata": {},
   "source": [
    "$H_{0}:\\mu_{i}全等$  \n",
    "$H_1:\\mu_{i}不全等$"
   ]
  },
  {
   "cell_type": "markdown",
   "id": "06197745",
   "metadata": {},
   "source": [
    "P value <0.05，推翻虛無假設，mixing techniques對Tensile strength的影響不全等。"
   ]
  },
  {
   "cell_type": "markdown",
   "id": "fe108875",
   "metadata": {},
   "source": [
    "## (d) If the mixing technique affect the strength of the cement. Please specify which mixing their differences."
   ]
  },
  {
   "cell_type": "markdown",
   "id": "03545687",
   "metadata": {},
   "source": [
    "$H_{0}:\\mu_{1}=\\mu_{2}$  \n",
    "$H_1:\\mu_{1}\\ne\\mu_{2}$  \n",
    "Pvalue = 0.0352 ,推翻虛無假設,$\\mu_{1}\\ne\\mu_{2}$  \n",
    "***\n",
    "$H_{0}:\\mu_{2}=\\mu_{3}$     \n",
    "$H_1:\\mu_{2}\\ne\\mu_{3}$   \n",
    "Pvalue = 0.01655291 ,推翻虛無假設,$\\mu_{2}\\ne\\mu_{3}$    \n",
    "\n",
    "---\n",
    "$H_{0}:\\mu_{3}=\\mu_{4}$    \n",
    "$H_1:\\mu_{3}\\ne\\mu_{4}$  \n",
    "Pvalue = 0.006071094 ,推翻虛無假設,$\\mu_{3}\\ne\\mu_{4}$  \n",
    "\n",
    "---\n",
    "$H_{0}:\\mu_{1}=\\mu_{4}$    \n",
    "$H_1:\\mu_{1}\\ne\\mu_{4}$  \n",
    "Pvalue = 0.002847966 ,推翻虛無假設,$\\mu_{1}\\ne\\mu_{4}$  "
   ]
  },
  {
   "cell_type": "code",
   "execution_count": 139,
   "id": "3f883c32",
   "metadata": {},
   "outputs": [],
   "source": [
    "k2 <- c(0,1,-1,0)\n",
    "k3 <- c(0,0,1,-1)\n",
    "k4 <- c(1,0,0,-1)"
   ]
  },
  {
   "cell_type": "code",
   "execution_count": 140,
   "id": "452850d4",
   "metadata": {},
   "outputs": [
    {
     "data": {
      "text/html": [
       "<table>\n",
       "<tbody>\n",
       "\t<tr><td>0.01655291</td></tr>\n",
       "</tbody>\n",
       "</table>\n"
      ],
      "text/latex": [
       "\\begin{tabular}{l}\n",
       "\t 0.01655291\\\\\n",
       "\\end{tabular}\n"
      ],
      "text/markdown": [
       "\n",
       "| 0.01655291 |\n",
       "\n"
      ],
      "text/plain": [
       "     [,1]      \n",
       "[1,] 0.01655291"
      ]
     },
     "metadata": {},
     "output_type": "display_data"
    }
   ],
   "source": [
    "pf((ybar%*%k2)^2*4/k2%*%k2/residMS,1,12,lower=F)"
   ]
  },
  {
   "cell_type": "code",
   "execution_count": 141,
   "id": "fe33ee78",
   "metadata": {},
   "outputs": [
    {
     "data": {
      "text/html": [
       "<table>\n",
       "<tbody>\n",
       "\t<tr><td>0.006071094</td></tr>\n",
       "</tbody>\n",
       "</table>\n"
      ],
      "text/latex": [
       "\\begin{tabular}{l}\n",
       "\t 0.006071094\\\\\n",
       "\\end{tabular}\n"
      ],
      "text/markdown": [
       "\n",
       "| 0.006071094 |\n",
       "\n"
      ],
      "text/plain": [
       "     [,1]       \n",
       "[1,] 0.006071094"
      ]
     },
     "metadata": {},
     "output_type": "display_data"
    }
   ],
   "source": [
    "pf((ybar%*%k3)^2*4/k3%*%k3/residMS,1,12,lower=F)"
   ]
  },
  {
   "cell_type": "code",
   "execution_count": 142,
   "id": "4fbfba6c",
   "metadata": {},
   "outputs": [
    {
     "data": {
      "text/html": [
       "<table>\n",
       "<tbody>\n",
       "\t<tr><td>0.002847966</td></tr>\n",
       "</tbody>\n",
       "</table>\n"
      ],
      "text/latex": [
       "\\begin{tabular}{l}\n",
       "\t 0.002847966\\\\\n",
       "\\end{tabular}\n"
      ],
      "text/markdown": [
       "\n",
       "| 0.002847966 |\n",
       "\n"
      ],
      "text/plain": [
       "     [,1]       \n",
       "[1,] 0.002847966"
      ]
     },
     "metadata": {},
     "output_type": "display_data"
    }
   ],
   "source": [
    "pf((ybar%*%k4)^2*4/k4%*%k4/residMS,1,12,lower=F)"
   ]
  },
  {
   "cell_type": "markdown",
   "id": "d1c7cc31",
   "metadata": {},
   "source": [
    "# problem2"
   ]
  },
  {
   "cell_type": "code",
   "execution_count": 143,
   "id": "13e1d5b6",
   "metadata": {},
   "outputs": [
    {
     "data": {
      "text/html": [
       "<table>\n",
       "<thead><tr><th></th><th scope=col>Df</th><th scope=col>Sum Sq</th><th scope=col>Mean Sq</th><th scope=col>F value</th><th scope=col>Pr(&gt;F)</th></tr></thead>\n",
       "<tbody>\n",
       "\t<tr><th scope=row>group</th><td> 2       </td><td> 4690    </td><td>2345     </td><td>1.083141 </td><td>0.3694471</td></tr>\n",
       "\t<tr><th scope=row>Residuals</th><td>12       </td><td>25980    </td><td>2165     </td><td>      NA </td><td>       NA</td></tr>\n",
       "</tbody>\n",
       "</table>\n"
      ],
      "text/latex": [
       "\\begin{tabular}{r|lllll}\n",
       "  & Df & Sum Sq & Mean Sq & F value & Pr(>F)\\\\\n",
       "\\hline\n",
       "\tgroup &  2        &  4690     & 2345      & 1.083141  & 0.3694471\\\\\n",
       "\tResiduals & 12        & 25980     & 2165      &       NA  &        NA\\\\\n",
       "\\end{tabular}\n"
      ],
      "text/markdown": [
       "\n",
       "| <!--/--> | Df | Sum Sq | Mean Sq | F value | Pr(>F) |\n",
       "|---|---|---|---|---|---|\n",
       "| group |  2        |  4690     | 2345      | 1.083141  | 0.3694471 |\n",
       "| Residuals | 12        | 25980     | 2165      |       NA  |        NA |\n",
       "\n"
      ],
      "text/plain": [
       "          Df Sum Sq Mean Sq F value  Pr(>F)   \n",
       "group      2  4690  2345    1.083141 0.3694471\n",
       "Residuals 12 25980  2165          NA        NA"
      ]
     },
     "metadata": {},
     "output_type": "display_data"
    }
   ],
   "source": [
    "c1 <- c(491,579,451,521,503)\n",
    "c2 <- c(588,502,550,520,470)\n",
    "c3 <- c(533,628,501,537,561)\n",
    "y <- c(c1,c2,c3)\n",
    "n <- rep(5,3)\n",
    "group <- rep(1:3,n)\n",
    "data = data.frame(y = y, group = factor(group))\n",
    "fit = lm(y ~ group, data)\n",
    "anova(fit)"
   ]
  },
  {
   "cell_type": "code",
   "execution_count": 144,
   "id": "b4ec0e30",
   "metadata": {},
   "outputs": [
    {
     "data": {
      "text/html": [
       "<table>\n",
       "<tbody>\n",
       "\t<tr><td>30670</td></tr>\n",
       "</tbody>\n",
       "</table>\n"
      ],
      "text/latex": [
       "\\begin{tabular}{l}\n",
       "\t 30670\\\\\n",
       "\\end{tabular}\n"
      ],
      "text/markdown": [
       "\n",
       "| 30670 |\n",
       "\n"
      ],
      "text/plain": [
       "     [,1] \n",
       "[1,] 30670"
      ]
     },
     "metadata": {},
     "output_type": "display_data"
    }
   ],
   "source": [
    "(y-mean(y))%*%(y-mean(y))"
   ]
  },
  {
   "cell_type": "code",
   "execution_count": 145,
   "id": "8c8e6b1c",
   "metadata": {},
   "outputs": [],
   "source": [
    "u2 <- c(1,-1,0)\n",
    "u3 <- c(1,1,-2)\n",
    "ybar <- c(mean(c1),mean(c2),mean(c3))"
   ]
  },
  {
   "cell_type": "code",
   "execution_count": 146,
   "id": "a5725fcc",
   "metadata": {},
   "outputs": [
    {
     "data": {
      "text/html": [
       "<table>\n",
       "<tbody>\n",
       "\t<tr><td>722.5</td></tr>\n",
       "</tbody>\n",
       "</table>\n"
      ],
      "text/latex": [
       "\\begin{tabular}{l}\n",
       "\t 722.5\\\\\n",
       "\\end{tabular}\n"
      ],
      "text/markdown": [
       "\n",
       "| 722.5 |\n",
       "\n"
      ],
      "text/plain": [
       "     [,1] \n",
       "[1,] 722.5"
      ]
     },
     "metadata": {},
     "output_type": "display_data"
    }
   ],
   "source": [
    "(ybar%*%u2)^2*5/u2%*%u2"
   ]
  },
  {
   "cell_type": "code",
   "execution_count": 147,
   "id": "0db6653c",
   "metadata": {},
   "outputs": [
    {
     "data": {
      "text/html": [
       "<table>\n",
       "<tbody>\n",
       "\t<tr><td>3967.5</td></tr>\n",
       "</tbody>\n",
       "</table>\n"
      ],
      "text/latex": [
       "\\begin{tabular}{l}\n",
       "\t 3967.5\\\\\n",
       "\\end{tabular}\n"
      ],
      "text/markdown": [
       "\n",
       "| 3967.5 |\n",
       "\n"
      ],
      "text/plain": [
       "     [,1]  \n",
       "[1,] 3967.5"
      ]
     },
     "metadata": {},
     "output_type": "display_data"
    }
   ],
   "source": [
    "(ybar%*%u3)^2*5/u3%*%u3"
   ]
  },
  {
   "cell_type": "code",
   "execution_count": 148,
   "id": "99dd46c9",
   "metadata": {},
   "outputs": [
    {
     "data": {
      "text/html": [
       "0.369447029915038"
      ],
      "text/latex": [
       "0.369447029915038"
      ],
      "text/markdown": [
       "0.369447029915038"
      ],
      "text/plain": [
       "[1] 0.369447"
      ]
     },
     "metadata": {},
     "output_type": "display_data"
    }
   ],
   "source": [
    "pf(1.083141,2,12,lower=F)"
   ]
  },
  {
   "cell_type": "code",
   "execution_count": 149,
   "id": "d56c2246",
   "metadata": {},
   "outputs": [
    {
     "data": {
      "text/html": [
       "0.57415769483982"
      ],
      "text/latex": [
       "0.57415769483982"
      ],
      "text/markdown": [
       "0.57415769483982"
      ],
      "text/plain": [
       "[1] 0.5741577"
      ]
     },
     "metadata": {},
     "output_type": "display_data"
    }
   ],
   "source": [
    "pf(722.5/2165,1,12,lower=F)"
   ]
  },
  {
   "cell_type": "code",
   "execution_count": 150,
   "id": "84dcca9d",
   "metadata": {},
   "outputs": [
    {
     "data": {
      "text/html": [
       "0.200772922692718"
      ],
      "text/latex": [
       "0.200772922692718"
      ],
      "text/markdown": [
       "0.200772922692718"
      ],
      "text/plain": [
       "[1] 0.2007729"
      ]
     },
     "metadata": {},
     "output_type": "display_data"
    }
   ],
   "source": [
    "pf(3967.5/2165,1,12,lower=F)"
   ]
  },
  {
   "cell_type": "markdown",
   "id": "80202701",
   "metadata": {},
   "source": [
    "## (b) vector法ANOVA table"
   ]
  },
  {
   "cell_type": "markdown",
   "id": "c5d0e7a7",
   "metadata": {},
   "source": [
    "ANOVA table   | df    | Sum Sq | Mean Sq | F value|\tPr(>F)\n",
    "--------------|:-----:|-------:|--------:|-------:|----------------\n",
    "group         | 2 |  4690    |    2345   | 1.083141   |  0.3694471\n",
    "c1:u1=u2      | 1 |  722.5   |  722.5    |0.33371        |  0.574157\n",
    "c2:u1+u2=2u3  | 1 | 3967.5   |  3967.5   | 1.83256       | 0.200772\n",
    "Residuals\t  |12 |\t25980    |\t2165\t |NA\t  |NA\n"
   ]
  },
  {
   "cell_type": "markdown",
   "id": "13d6fce2",
   "metadata": {},
   "source": [
    "## (c)高低氮肥對產量的影響相同？"
   ]
  },
  {
   "cell_type": "markdown",
   "id": "7a9405b4",
   "metadata": {},
   "source": [
    "### vector=(1,1,1,1,1,-1,-1,-1,-1,-1,0,0,0,0,0)"
   ]
  },
  {
   "cell_type": "markdown",
   "id": "51ca33dd",
   "metadata": {},
   "source": [
    "$H_{0}:\\mu_{高氮肥}=\\mu_{低氮肥}$  \n",
    "$H_1:\\mu_{高氮肥}\\ne\\mu_{低氮肥}$"
   ]
  },
  {
   "cell_type": "code",
   "execution_count": 151,
   "id": "ffc37b77",
   "metadata": {},
   "outputs": [
    {
     "data": {
      "text/html": [
       "<table>\n",
       "<tbody>\n",
       "\t<tr><td>722.5</td></tr>\n",
       "</tbody>\n",
       "</table>\n"
      ],
      "text/latex": [
       "\\begin{tabular}{l}\n",
       "\t 722.5\\\\\n",
       "\\end{tabular}\n"
      ],
      "text/markdown": [
       "\n",
       "| 722.5 |\n",
       "\n"
      ],
      "text/plain": [
       "     [,1] \n",
       "[1,] 722.5"
      ]
     },
     "metadata": {},
     "output_type": "display_data"
    }
   ],
   "source": [
    "(ybar%*%u2)^2*5/u2%*%u2"
   ]
  },
  {
   "cell_type": "code",
   "execution_count": 152,
   "id": "d86e37b5",
   "metadata": {},
   "outputs": [
    {
     "data": {
      "text/html": [
       "0.57415769483982"
      ],
      "text/latex": [
       "0.57415769483982"
      ],
      "text/markdown": [
       "0.57415769483982"
      ],
      "text/plain": [
       "[1] 0.5741577"
      ]
     },
     "metadata": {},
     "output_type": "display_data"
    }
   ],
   "source": [
    "pf(722.5/2165,1,12,lower=F)"
   ]
  },
  {
   "cell_type": "markdown",
   "id": "bf3041d8",
   "metadata": {},
   "source": [
    "p value>0.05,無法推翻高低氮肥對產量的影響相同的虛無假設"
   ]
  },
  {
   "cell_type": "markdown",
   "id": "eae02ab8",
   "metadata": {},
   "source": [
    "## (d)氮肥與鉀肥對產量的影響相同？"
   ]
  },
  {
   "cell_type": "markdown",
   "id": "6c50c532",
   "metadata": {},
   "source": [
    "### vector=(1,1,1,1,1,1,1,1,1,1,-2,-2,-2,-2,-2)"
   ]
  },
  {
   "cell_type": "markdown",
   "id": "a15c4164",
   "metadata": {},
   "source": [
    "$H_{0}:\\mu_{高氮肥}+\\mu_{低氮肥}=\\mu_{鉀肥}$  \n",
    "$H_1:\\mu_{高氮肥}+\\mu_{低氮肥}\\ne\\mu_{鉀肥}$"
   ]
  },
  {
   "cell_type": "code",
   "execution_count": 153,
   "id": "e764c2b3",
   "metadata": {},
   "outputs": [
    {
     "data": {
      "text/html": [
       "<table>\n",
       "<tbody>\n",
       "\t<tr><td>3967.5</td></tr>\n",
       "</tbody>\n",
       "</table>\n"
      ],
      "text/latex": [
       "\\begin{tabular}{l}\n",
       "\t 3967.5\\\\\n",
       "\\end{tabular}\n"
      ],
      "text/markdown": [
       "\n",
       "| 3967.5 |\n",
       "\n"
      ],
      "text/plain": [
       "     [,1]  \n",
       "[1,] 3967.5"
      ]
     },
     "metadata": {},
     "output_type": "display_data"
    }
   ],
   "source": [
    "(ybar%*%u3)^2*5/u3%*%u3"
   ]
  },
  {
   "cell_type": "code",
   "execution_count": 1,
   "id": "054c3250",
   "metadata": {},
   "outputs": [
    {
     "data": {
      "text/html": [
       "0.200772922692718"
      ],
      "text/latex": [
       "0.200772922692718"
      ],
      "text/markdown": [
       "0.200772922692718"
      ],
      "text/plain": [
       "[1] 0.2007729"
      ]
     },
     "metadata": {},
     "output_type": "display_data"
    }
   ],
   "source": [
    "pf(3967.5/2165,1,12,lower=F)"
   ]
  },
  {
   "cell_type": "markdown",
   "id": "b80f4625",
   "metadata": {},
   "source": [
    "p value>0.05,無法推翻氮肥和鉀肥對產量的影響相同的虛無假設"
   ]
  },
  {
   "cell_type": "code",
   "execution_count": null,
   "id": "622d3c18",
   "metadata": {},
   "outputs": [],
   "source": []
  },
  {
   "cell_type": "code",
   "execution_count": null,
   "id": "a9cd42fd",
   "metadata": {},
   "outputs": [],
   "source": []
  },
  {
   "cell_type": "code",
   "execution_count": null,
   "id": "f9bdc645",
   "metadata": {},
   "outputs": [],
   "source": []
  },
  {
   "cell_type": "code",
   "execution_count": null,
   "id": "cd1295fc",
   "metadata": {},
   "outputs": [],
   "source": []
  },
  {
   "cell_type": "code",
   "execution_count": 17,
   "id": "c4385704",
   "metadata": {},
   "outputs": [
    {
     "data": {
      "text/plain": [
       "            Df Sum Sq Mean Sq F value Pr(>F)  \n",
       "treat        2  14.31   7.153   3.815 0.0853 .\n",
       "Residuals    6  11.25   1.875                 \n",
       "---\n",
       "Signif. codes:  0 '***' 0.001 '**' 0.01 '*' 0.05 '.' 0.1 ' ' 1"
      ]
     },
     "metadata": {},
     "output_type": "display_data"
    },
    {
     "data": {
      "text/plain": [
       "                  Df Sum Sq Mean Sq F value Pr(>F)  \n",
       "treat              2 14.306   7.153   3.815 0.0853 .\n",
       "  treat: b vs c    1 14.083  14.083   7.511 0.0337 *\n",
       "  treat: a vs b+c  1  0.222   0.222   0.119 0.7424  \n",
       "Residuals          6 11.250   1.875                 \n",
       "---\n",
       "Signif. codes:  0 '***' 0.001 '**' 0.01 '*' 0.05 '.' 0.1 ' ' 1"
      ]
     },
     "metadata": {},
     "output_type": "display_data"
    },
    {
     "data": {
      "text/plain": [
       "\n",
       "Call:\n",
       "lm(formula = Y ~ treat, data = test)\n",
       "\n",
       "Residuals:\n",
       "   Min     1Q Median     3Q    Max \n",
       " -1.50  -1.00  -0.25   1.00   1.75 \n",
       "\n",
       "Coefficients:\n",
       "            Estimate Std. Error t value Pr(>|t|)    \n",
       "(Intercept)   4.2222     0.4564   9.250 9.02e-05 ***\n",
       "treatc1       1.0833     0.3953   2.741   0.0337 *  \n",
       "treatc2       0.1111     0.3227   0.344   0.7424    \n",
       "---\n",
       "Signif. codes:  0 '***' 0.001 '**' 0.01 '*' 0.05 '.' 0.1 ' ' 1\n",
       "\n",
       "Residual standard error: 1.369 on 6 degrees of freedom\n",
       "Multiple R-squared:  0.5598,\tAdjusted R-squared:  0.413 \n",
       "F-statistic: 3.815 on 2 and 6 DF,  p-value: 0.08531\n"
      ]
     },
     "metadata": {},
     "output_type": "display_data"
    }
   ],
   "source": [
    "treat<-c(\"A\",\"A\",\"A\",\"B\",\"B\",\"C\",\"C\",\"C\",\"C\")\n",
    "Y<-c(3,5,4,8,5,3,2,5,3);\n",
    "test<-data.frame(treat,Y);\n",
    "prob2.aov<-aov(Y~treat);\n",
    "summary(prob2.aov);\n",
    "# Building the contrast matrix\n",
    "c1<-c(0,2,-1); # vitamin B vs. C\n",
    "c2<-c(-2,1,1); # vitamin A vs. B + C\n",
    "mat<-cbind(c1,c2);\n",
    "# Assign the matrix to the classification variable, treat.\n",
    "contrasts(test$treat)<-mat\n",
    "contrast.mod<-aov(Y~treat,test);\n",
    "summary(contrast.mod,split=list(treat=list(\"b vs c\"=1,\"a vs b+c\"=2)));\n",
    "test.mod<-lm(Y~treat,test)\n",
    "summary(test.mod);"
   ]
  },
  {
   "cell_type": "code",
   "execution_count": 41,
   "id": "71d18d19",
   "metadata": {},
   "outputs": [
    {
     "data": {
      "text/plain": [
       "            Df Sum Sq Mean Sq F value Pr(>F)  \n",
       "treat        2  14.31   7.153   3.815 0.0853 .\n",
       "Residuals    6  11.25   1.875                 \n",
       "---\n",
       "Signif. codes:  0 '***' 0.001 '**' 0.01 '*' 0.05 '.' 0.1 ' ' 1"
      ]
     },
     "metadata": {},
     "output_type": "display_data"
    },
    {
     "data": {
      "text/plain": [
       "                Df Sum Sq Mean Sq F value Pr(>F)  \n",
       "treat            2 14.306   7.153   3.815 0.0853 .\n",
       "  treat: b vs c  1 14.083  14.083   7.511 0.0337 *\n",
       "  treat: a vs c  1  0.222   0.222   0.119 0.7424  \n",
       "Residuals        6 11.250   1.875                 \n",
       "---\n",
       "Signif. codes:  0 '***' 0.001 '**' 0.01 '*' 0.05 '.' 0.1 ' ' 1"
      ]
     },
     "metadata": {},
     "output_type": "display_data"
    },
    {
     "data": {
      "text/plain": [
       "\n",
       "Call:\n",
       "lm(formula = Y ~ treat, data = test)\n",
       "\n",
       "Residuals:\n",
       "   Min     1Q Median     3Q    Max \n",
       " -1.50  -1.00  -0.25   1.00   1.75 \n",
       "\n",
       "Coefficients:\n",
       "            Estimate Std. Error t value Pr(>|t|)    \n",
       "(Intercept)  4.22222    0.45644   9.250 9.02e-05 ***\n",
       "treatc1      1.13889    0.42696   2.667   0.0372 *  \n",
       "treatc2     -0.05556    0.16137  -0.344   0.7424    \n",
       "---\n",
       "Signif. codes:  0 '***' 0.001 '**' 0.01 '*' 0.05 '.' 0.1 ' ' 1\n",
       "\n",
       "Residual standard error: 1.369 on 6 degrees of freedom\n",
       "Multiple R-squared:  0.5598,\tAdjusted R-squared:  0.413 \n",
       "F-statistic: 3.815 on 2 and 6 DF,  p-value: 0.08531\n"
      ]
     },
     "metadata": {},
     "output_type": "display_data"
    }
   ],
   "source": [
    "treat<-c(\"A\",\"A\",\"A\",\"B\",\"B\",\"C\",\"C\",\"C\",\"C\")\n",
    "Y<-c(3,5,4,8,5,3,2,5,3);\n",
    "test<-data.frame(treat,Y);\n",
    "prob2.aov<-aov(Y~treat);\n",
    "summary(prob2.aov);\n",
    "# Building the contrast matrix\n",
    "c1<-c(0,2,-1); # vitamin B vs. C\n",
    "c2<-c(4,0,-3); # vitamin A vs. C\n",
    "mat<-cbind(c1,c2);\n",
    "# Assign the matrix to the classification variable, treat.\n",
    "contrasts(test$treat)<-mat\n",
    "contrast.mod<-aov(Y~treat,test);\n",
    "summary(contrast.mod,split=list(treat=list(\"b vs c\"=1,\"a vs c\"=2)));\n",
    "test.mod<-lm(Y~treat,test)\n",
    "summary(test.mod);\n",
    "#若向量不正交，除了第一個比較(treat: b vs c)之外接不能參考\n"
   ]
  },
  {
   "cell_type": "code",
   "execution_count": 20,
   "id": "0090ba88",
   "metadata": {},
   "outputs": [
    {
     "data": {
      "text/html": [
       "<table>\n",
       "<thead><tr><th></th><th scope=col>c1</th><th scope=col>c2</th></tr></thead>\n",
       "<tbody>\n",
       "\t<tr><th scope=row>A</th><td> 0</td><td> 4</td></tr>\n",
       "\t<tr><th scope=row>B</th><td> 2</td><td> 0</td></tr>\n",
       "\t<tr><th scope=row>C</th><td>-1</td><td>-3</td></tr>\n",
       "</tbody>\n",
       "</table>\n"
      ],
      "text/latex": [
       "\\begin{tabular}{r|ll}\n",
       "  & c1 & c2\\\\\n",
       "\\hline\n",
       "\tA &  0 &  4\\\\\n",
       "\tB &  2 &  0\\\\\n",
       "\tC & -1 & -3\\\\\n",
       "\\end{tabular}\n"
      ],
      "text/markdown": [
       "\n",
       "| <!--/--> | c1 | c2 |\n",
       "|---|---|---|\n",
       "| A |  0 |  4 |\n",
       "| B |  2 |  0 |\n",
       "| C | -1 | -3 |\n",
       "\n"
      ],
      "text/plain": [
       "  c1 c2\n",
       "A  0  4\n",
       "B  2  0\n",
       "C -1 -3"
      ]
     },
     "metadata": {},
     "output_type": "display_data"
    }
   ],
   "source": [
    "contrasts(test$treat)"
   ]
  },
  {
   "cell_type": "code",
   "execution_count": 22,
   "id": "738ce664",
   "metadata": {},
   "outputs": [],
   "source": [
    "contrast.mod<-aov(Y~treat,test);"
   ]
  },
  {
   "cell_type": "code",
   "execution_count": 23,
   "id": "024be93f",
   "metadata": {},
   "outputs": [
    {
     "data": {
      "text/plain": [
       "Call:\n",
       "   aov(formula = Y ~ treat, data = test)\n",
       "\n",
       "Terms:\n",
       "                   treat Residuals\n",
       "Sum of Squares  14.30556  11.25000\n",
       "Deg. of Freedom        2         6\n",
       "\n",
       "Residual standard error: 1.369306\n",
       "Estimated effects may be unbalanced"
      ]
     },
     "metadata": {},
     "output_type": "display_data"
    }
   ],
   "source": [
    "contrast.mod"
   ]
  },
  {
   "cell_type": "code",
   "execution_count": 59,
   "id": "c61cdbea",
   "metadata": {},
   "outputs": [],
   "source": [
    "Y <- c(39.2,40.4,45.3,46.3)\n",
    "B <- c(1,2,1,2)\n",
    "T <- c(\"c\",\"c\",\"f\",\"f\")\n",
    "B <- factor(B)\n",
    "T <- factor(T)\n",
    "test<-data.frame(T,B,Y);"
   ]
  },
  {
   "cell_type": "code",
   "execution_count": 60,
   "id": "7e275fbb",
   "metadata": {},
   "outputs": [
    {
     "data": {
      "text/plain": [
       "            Df Sum Sq Mean Sq F value Pr(>F)  \n",
       "B            1   1.21    1.21     121 0.0577 .\n",
       "T            1  36.00   36.00    3600 0.0106 *\n",
       "Residuals    1   0.01    0.01                 \n",
       "---\n",
       "Signif. codes:  0 '***' 0.001 '**' 0.01 '*' 0.05 '.' 0.1 ' ' 1"
      ]
     },
     "metadata": {},
     "output_type": "display_data"
    }
   ],
   "source": [
    "prob2.aov<-aov(Y~B+T);\n",
    "summary(prob2.aov);"
   ]
  },
  {
   "cell_type": "code",
   "execution_count": null,
   "id": "d04f854d",
   "metadata": {},
   "outputs": [],
   "source": []
  },
  {
   "cell_type": "code",
   "execution_count": 16,
   "id": "457e4d39",
   "metadata": {},
   "outputs": [
    {
     "data": {
      "text/html": [
       "<table>\n",
       "<tbody>\n",
       "\t<tr><td>NA</td></tr>\n",
       "</tbody>\n",
       "</table>\n"
      ],
      "text/latex": [
       "\\begin{tabular}{l}\n",
       "\t NA\\\\\n",
       "\\end{tabular}\n"
      ],
      "text/markdown": [
       "\n",
       "| NA |\n",
       "\n"
      ],
      "text/plain": [
       "     [,1]\n",
       "[1,] NA  "
      ]
     },
     "metadata": {},
     "output_type": "display_data"
    }
   ],
   "source": [
    "u2 <- c(0,1,-1)\n",
    "ybar <- c(mean(c1),mean(c2),mean(c3))\n",
    "(ybar%*%u2)^2*4/u2%*%u2"
   ]
  },
  {
   "cell_type": "code",
   "execution_count": null,
   "id": "bbe235cf",
   "metadata": {},
   "outputs": [],
   "source": []
  },
  {
   "cell_type": "code",
   "execution_count": null,
   "id": "355d154e",
   "metadata": {},
   "outputs": [],
   "source": []
  },
  {
   "cell_type": "code",
   "execution_count": null,
   "id": "8e9d160c",
   "metadata": {},
   "outputs": [],
   "source": []
  },
  {
   "cell_type": "code",
   "execution_count": null,
   "id": "bdf51b7a",
   "metadata": {},
   "outputs": [],
   "source": []
  },
  {
   "cell_type": "code",
   "execution_count": null,
   "id": "22a8480b",
   "metadata": {},
   "outputs": [],
   "source": [
    "day<-\n",
    "  c(\"Day1\",\"Day2\",\"Day3\",\"Day4\");\n",
    "sol<-rep(c(1:3),each=4);\n",
    "weight<-c(13,22,18,39,\n",
    "          16,24,17,44,\n",
    "          5,4,1,22);\n",
    "data<-data.frame(day,sol,weight);\n",
    "data$day<-as.factor(data$day);\n",
    "data$sol<-as.factor((data$sol));\n",
    "data.mod<-aov(weight~day + sol,data=data);\n",
    "summary(data.mod);\n",
    "\n",
    "c1<-c(1,-1,0); # \n",
    "c2<-c(1,1,-2); #\n",
    "mat<-cbind(c1,c2);\n",
    "# Assign the matrix to the classification variable, treat.\n",
    "contrasts(data$sol)<-mat\n",
    "contrast.mod<-aov(weight~sol,data);\n",
    "summary(contrast.mod,split=list(sol=list(\"sol 1 vs sol2\"=1,\"sol 1+2 vs 3\"=2)));\n",
    "\n",
    "c1<-c(0,1,-1); # \n",
    "c2<-c(-2,1,1); #\n",
    "mat<-cbind(c1,c2);\n",
    "# Assign the matrix to the classification variable, treat.\n",
    "contrasts(data$sol)<-mat\n",
    "contrast.mod<-aov(weight~sol,data);\n",
    "summary(contrast.mod,split=list(sol=list(\"sol 2 vs sol 3\"=1,\"sol 2+3 vs 1\"=2)));\n",
    "\n",
    "c1<-c(1,0,-1); # \n",
    "c2<-c(1,-2,1); #\n",
    "mat<-cbind(c1,c2);\n",
    "# Assign the matrix to the classification variable, treat.\n",
    "contrasts(data$sol)<-mat\n",
    "contrast.mod<-aov(weight~sol,data);\n",
    "summary(contrast.mod,split=list(sol=list(\"sol 1 vs sol 3\"=1,\"sol 1+3 vs 2\"=2)));"
   ]
  },
  {
   "cell_type": "code",
   "execution_count": 26,
   "id": "2bdb0563",
   "metadata": {},
   "outputs": [
    {
     "data": {
      "text/plain": [
       "                      Df Sum Sq Mean Sq F value Pr(>F)  \n",
       "day                    3 1106.9   369.0   3.908 0.0547 .\n",
       "  day: day 1 vs day2   1   42.7    42.7   0.452 0.5204  \n",
       "  day: day 1+2 vs 3    1    8.0     8.0   0.085 0.7784  \n",
       "  day: day 1+2+3 vs 4  1 1056.2  1056.2  11.187 0.0102 *\n",
       "Residuals              8  755.3    94.4                 \n",
       "---\n",
       "Signif. codes:  0 '***' 0.001 '**' 0.01 '*' 0.05 '.' 0.1 ' ' 1"
      ]
     },
     "metadata": {},
     "output_type": "display_data"
    },
    {
     "data": {
      "text/plain": [
       "                      Df Sum Sq Mean Sq F value Pr(>F)  \n",
       "day                    3 1106.9   369.0   3.908 0.0547 .\n",
       "  day: day 2 vs day3   1   32.7    32.7   0.346 0.5726  \n",
       "  day: day 1+2 vs 3    1   18.0    18.0   0.191 0.6739  \n",
       "  day: day 1+2+3 vs 4  1 1056.2  1056.2  11.187 0.0102 *\n",
       "Residuals              8  755.3    94.4                 \n",
       "---\n",
       "Signif. codes:  0 '***' 0.001 '**' 0.01 '*' 0.05 '.' 0.1 ' ' 1"
      ]
     },
     "metadata": {},
     "output_type": "display_data"
    },
    {
     "data": {
      "text/plain": [
       "                      Df Sum Sq Mean Sq F value Pr(>F)  \n",
       "day                    2 1064.2   532.1   6.001 0.0221 *\n",
       "  day: day 3 vs day4   1  793.5   793.5   8.949 0.0152 *\n",
       "  day: day 1+2 vs 3    1  270.8   270.8   3.054 0.1145  \n",
       "  day: day 1+2+3 vs 4  1                                \n",
       "Residuals              9  798.0    88.7                 \n",
       "---\n",
       "Signif. codes:  0 '***' 0.001 '**' 0.01 '*' 0.05 '.' 0.1 ' ' 1"
      ]
     },
     "metadata": {},
     "output_type": "display_data"
    },
    {
     "data": {
      "text/plain": [
       "                      Df Sum Sq Mean Sq F value Pr(>F)  \n",
       "day                    3 1106.9   369.0   3.908 0.0547 .\n",
       "  day: day 1 vs day4   1  840.2   840.2   8.898 0.0175 *\n",
       "  day: day 1+2 vs 3    1  136.7   136.7   1.448 0.2632  \n",
       "  day: day 1+2+3 vs 4  1  130.0   130.0   1.377 0.2744  \n",
       "Residuals              8  755.3    94.4                 \n",
       "---\n",
       "Signif. codes:  0 '***' 0.001 '**' 0.01 '*' 0.05 '.' 0.1 ' ' 1"
      ]
     },
     "metadata": {},
     "output_type": "display_data"
    },
    {
     "data": {
      "text/plain": [
       "                      Df Sum Sq Mean Sq F value Pr(>F)  \n",
       "day                    3 1106.9   369.0   3.908 0.0547 .\n",
       "  day: day 2 vs day4   1  504.2   504.2   5.340 0.0496 *\n",
       "  day: day 1+2 vs 3    1   94.6    94.6   1.002 0.3462  \n",
       "  day: day 1+2+3 vs 4  1  508.2   508.2   5.382 0.0489 *\n",
       "Residuals              8  755.3    94.4                 \n",
       "---\n",
       "Signif. codes:  0 '***' 0.001 '**' 0.01 '*' 0.05 '.' 0.1 ' ' 1"
      ]
     },
     "metadata": {},
     "output_type": "display_data"
    },
    {
     "data": {
      "text/plain": [
       "                      Df Sum Sq Mean Sq F value Pr(>F)  \n",
       "day                    3 1106.9   369.0   3.908 0.0547 .\n",
       "  day: day 1 vs day3   1    0.7     0.7   0.007 0.9351  \n",
       "  day: day 1+2 vs 3    1   50.0    50.0   0.530 0.4875  \n",
       "  day: day 1+2+3 vs 4  1 1056.2  1056.2  11.187 0.0102 *\n",
       "Residuals              8  755.3    94.4                 \n",
       "---\n",
       "Signif. codes:  0 '***' 0.001 '**' 0.01 '*' 0.05 '.' 0.1 ' ' 1"
      ]
     },
     "metadata": {},
     "output_type": "display_data"
    }
   ],
   "source": [
    "c1<-c(1,-1,0,0); # \n",
    "c2<-c(1,1,-2,0);\n",
    "c3<-c(1,1,1,-3)#\n",
    "mat<-cbind(c1,c2,c3);\n",
    "# Assign the matrix to the classification variable, treat.\n",
    "contrasts(data$day)<-mat\n",
    "contrast.mod<-aov(weight~day,data);\n",
    "summary(contrast.mod,split=list(day=list(\"day 1 vs day2 \"=1,\"day 1+2 vs 3\"=2,\"day 1+2+3 vs 4\"=3)));\n",
    "\n",
    "c1<-c(0,1,-1,0); # \n",
    "c2<-c(1,1,-2,0);\n",
    "c3<-c(1,1,1,-3)#\n",
    "mat<-cbind(c1,c2,c3);\n",
    "# Assign the matrix to the classification variable, treat.\n",
    "contrasts(data$day)<-mat\n",
    "contrast.mod<-aov(weight~day,data);\n",
    "summary(contrast.mod,split=list(day=list(\"day 2 vs day3 \"=1,\"day 1+2 vs 3\"=2,\"day 1+2+3 vs 4\"=3)));\n",
    "\n",
    "c1<-c(0,0,1,-1); # \n",
    "c2<-c(1,1,-2,0);\n",
    "c3<-c(1,1,1,-3)#\n",
    "mat<-cbind(c1,c2,c3);\n",
    "# Assign the matrix to the classification variable, treat.\n",
    "contrasts(data$day)<-mat\n",
    "contrast.mod<-aov(weight~day,data);\n",
    "summary(contrast.mod,split=list(day=list(\"day 3 vs day4 \"=1,\"day 1+2 vs 3\"=2,\"day 1+2+3 vs 4\"=3)));\n",
    "\n",
    "c1<-c(1,0,0,-1); # \n",
    "c2<-c(1,1,-2,0);\n",
    "c3<-c(1,1,1,-3)#\n",
    "mat<-cbind(c1,c2,c3);\n",
    "# Assign the matrix to the classification variable, treat.\n",
    "contrasts(data$day)<-mat\n",
    "contrast.mod<-aov(weight~day,data);\n",
    "summary(contrast.mod,split=list(day=list(\"day 1 vs day4 \"=1,\"day 1+2 vs 3\"=2,\"day 1+2+3 vs 4\"=3)));\n",
    "\n",
    "c1<-c(0,-1,0,1); # \n",
    "c2<-c(1,1,-2,0);\n",
    "c3<-c(1,1,1,-3)#\n",
    "mat<-cbind(c1,c2,c3);\n",
    "# Assign the matrix to the classification variable, treat.\n",
    "contrasts(data$day)<-mat\n",
    "contrast.mod<-aov(weight~day,data);\n",
    "summary(contrast.mod,split=list(day=list(\"day 2 vs day4 \"=1,\"day 1+2 vs 3\"=2,\"day 1+2+3 vs 4\"=3)));\n",
    "\n",
    "c1<-c(1,0,-1,0); # \n",
    "c2<-c(1,1,-2,0);\n",
    "c3<-c(1,1,1,-3)#\n",
    "mat<-cbind(c1,c2,c3);\n",
    "# Assign the matrix to the classification variable, treat.\n",
    "contrasts(data$day)<-mat\n",
    "contrast.mod<-aov(weight~day,data);\n",
    "summary(contrast.mod,split=list(day=list(\"day 1 vs day3 \"=1,\"day 1+2 vs 3\"=2,\"day 1+2+3 vs 4\"=3)));"
   ]
  },
  {
   "cell_type": "code",
   "execution_count": 17,
   "id": "5d41f62d",
   "metadata": {},
   "outputs": [
    {
     "data": {
      "text/html": [
       "<table>\n",
       "<thead><tr><th></th><th scope=col>Df</th><th scope=col>Sum Sq</th><th scope=col>Mean Sq</th><th scope=col>F value</th><th scope=col>Pr(&gt;F)</th></tr></thead>\n",
       "<tbody>\n",
       "\t<tr><th scope=row>day</th><td>3           </td><td>532.89394   </td><td>177.631313  </td><td>22.58025    </td><td>0.0024607397</td></tr>\n",
       "\t<tr><th scope=row>sol</th><td>2           </td><td>594.50000   </td><td>297.250000  </td><td>37.78602    </td><td>0.0009593215</td></tr>\n",
       "\t<tr><th scope=row>Residuals</th><td>5           </td><td> 39.33333   </td><td>  7.866667  </td><td>      NA    </td><td>          NA</td></tr>\n",
       "</tbody>\n",
       "</table>\n"
      ],
      "text/latex": [
       "\\begin{tabular}{r|lllll}\n",
       "  & Df & Sum Sq & Mean Sq & F value & Pr(>F)\\\\\n",
       "\\hline\n",
       "\tday & 3            & 532.89394    & 177.631313   & 22.58025     & 0.0024607397\\\\\n",
       "\tsol & 2            & 594.50000    & 297.250000   & 37.78602     & 0.0009593215\\\\\n",
       "\tResiduals & 5            &  39.33333    &   7.866667   &       NA     &           NA\\\\\n",
       "\\end{tabular}\n"
      ],
      "text/markdown": [
       "\n",
       "| <!--/--> | Df | Sum Sq | Mean Sq | F value | Pr(>F) |\n",
       "|---|---|---|---|---|---|\n",
       "| day | 3            | 532.89394    | 177.631313   | 22.58025     | 0.0024607397 |\n",
       "| sol | 2            | 594.50000    | 297.250000   | 37.78602     | 0.0009593215 |\n",
       "| Residuals | 5            |  39.33333    |   7.866667   |       NA     |           NA |\n",
       "\n"
      ],
      "text/plain": [
       "          Df Sum Sq    Mean Sq    F value  Pr(>F)      \n",
       "day       3  532.89394 177.631313 22.58025 0.0024607397\n",
       "sol       2  594.50000 297.250000 37.78602 0.0009593215\n",
       "Residuals 5   39.33333   7.866667       NA           NA"
      ]
     },
     "metadata": {},
     "output_type": "display_data"
    }
   ],
   "source": [
    "day<-c(\"Day1\",\"Day2\",\"Day3\",\"Day4\");\n",
    "sol<-rep(c(1:3),each=4);\n",
    "sol <- factor(sol)\n",
    "c1 <- c(13,22,18,39)\n",
    "c2 <- c(16,24,17,NA)\n",
    "c3 <- c(5,4,1,22)\n",
    "y <- c(c1,c2,c3)\n",
    "data<-data.frame(day,sol,weight);\n",
    "fit = lm(y ~ day+sol, data)\n",
    "anova(fit)"
   ]
  },
  {
   "cell_type": "code",
   "execution_count": 9,
   "id": "4af706d1",
   "metadata": {},
   "outputs": [
    {
     "data": {
      "text/html": [
       "<table>\n",
       "<thead><tr><th></th><th scope=col>Df</th><th scope=col>Sum Sq</th><th scope=col>Mean Sq</th><th scope=col>F value</th><th scope=col>Pr(&gt;F)</th></tr></thead>\n",
       "<tbody>\n",
       "\t<tr><th scope=row>factor(spaces)</th><td>3           </td><td>9025.0      </td><td>3008.33333  </td><td>71.062992   </td><td>4.440579e-05</td></tr>\n",
       "\t<tr><th scope=row>factor(park)</th><td>3           </td><td> 370.5      </td><td> 123.50000  </td><td> 2.917323   </td><td>1.225065e-01</td></tr>\n",
       "\t<tr><th scope=row>factor(duty)</th><td>3           </td><td>1389.5      </td><td> 463.16667  </td><td>10.940945   </td><td>7.591484e-03</td></tr>\n",
       "\t<tr><th scope=row>Residuals</th><td>6           </td><td> 254.0      </td><td>  42.33333  </td><td>       NA   </td><td>          NA</td></tr>\n",
       "</tbody>\n",
       "</table>\n"
      ],
      "text/latex": [
       "\\begin{tabular}{r|lllll}\n",
       "  & Df & Sum Sq & Mean Sq & F value & Pr(>F)\\\\\n",
       "\\hline\n",
       "\tfactor(spaces) & 3            & 9025.0       & 3008.33333   & 71.062992    & 4.440579e-05\\\\\n",
       "\tfactor(park) & 3            &  370.5       &  123.50000   &  2.917323    & 1.225065e-01\\\\\n",
       "\tfactor(duty) & 3            & 1389.5       &  463.16667   & 10.940945    & 7.591484e-03\\\\\n",
       "\tResiduals & 6            &  254.0       &   42.33333   &        NA    &           NA\\\\\n",
       "\\end{tabular}\n"
      ],
      "text/markdown": [
       "\n",
       "| <!--/--> | Df | Sum Sq | Mean Sq | F value | Pr(>F) |\n",
       "|---|---|---|---|---|---|\n",
       "| factor(spaces) | 3            | 9025.0       | 3008.33333   | 71.062992    | 4.440579e-05 |\n",
       "| factor(park) | 3            |  370.5       |  123.50000   |  2.917323    | 1.225065e-01 |\n",
       "| factor(duty) | 3            | 1389.5       |  463.16667   | 10.940945    | 7.591484e-03 |\n",
       "| Residuals | 6            |  254.0       |   42.33333   |        NA    |           NA |\n",
       "\n"
      ],
      "text/plain": [
       "               Df Sum Sq Mean Sq    F value   Pr(>F)      \n",
       "factor(spaces) 3  9025.0 3008.33333 71.062992 4.440579e-05\n",
       "factor(park)   3   370.5  123.50000  2.917323 1.225065e-01\n",
       "factor(duty)   3  1389.5  463.16667 10.940945 7.591484e-03\n",
       "Residuals      6   254.0   42.33333        NA           NA"
      ]
     },
     "metadata": {},
     "output_type": "display_data"
    }
   ],
   "source": [
    "spaces<-rep(c(1:4),4);\n",
    "spaces <- rev(spaces)\n",
    "park<-rep(c(1:4),each=4);\n",
    "duty<-c(\"2\",\"4\",\"3\",\"1\",\n",
    "         \"3\",\"1\",\"2\",\"4\",\n",
    "         \"4\",\"3\",\"1\",\"2\",\n",
    "         \"1\",\"2\",\"4\",\"3\");\n",
    "obs<-c(29,44,54,71,\n",
    "       22,22,59,100,\n",
    "       38,31,40,79,\n",
    "       29,27,83,100);\n",
    "Q2<-data.frame(spaces,park,duty,obs);\n",
    "Q2.mod<-lm(obs~ factor(spaces) + factor(park) + factor(duty),data=Q2);\n",
    "anova(Q2.mod);"
   ]
  },
  {
   "cell_type": "markdown",
   "id": "63cb833d",
   "metadata": {},
   "source": [
    "        df\n",
    "squre   1\n",
    "row     6\n",
    "col     6\n",
    "error   3\n",
    "treatment 15\n",
    "total   31"
   ]
  }
 ],
 "metadata": {
  "kernelspec": {
   "display_name": "R",
   "language": "R",
   "name": "ir"
  },
  "language_info": {
   "codemirror_mode": "r",
   "file_extension": ".r",
   "mimetype": "text/x-r-source",
   "name": "R",
   "pygments_lexer": "r",
   "version": "3.6.1"
  }
 },
 "nbformat": 4,
 "nbformat_minor": 5
}
