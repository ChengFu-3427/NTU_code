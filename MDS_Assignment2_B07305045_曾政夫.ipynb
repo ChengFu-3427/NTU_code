{
 "cells": [
  {
   "cell_type": "code",
   "execution_count": null,
   "id": "fdc48bd4",
   "metadata": {
    "colab": {
     "base_uri": "https://localhost:8080/"
    },
    "executionInfo": {
     "elapsed": 6645,
     "status": "ok",
     "timestamp": 1665746928514,
     "user": {
      "displayName": "曾政夫",
      "userId": "11857764521326098280"
     },
     "user_tz": -480
    },
    "id": "fdc48bd4",
    "outputId": "5c42c6dd-b2dd-42b3-bde5-bd7fc44cc4b0"
   },
   "outputs": [
    {
     "name": "stdout",
     "output_type": "stream",
     "text": [
      "Drive already mounted at /content/drive; to attempt to forcibly remount, call drive.mount(\"/content/drive\", force_remount=True).\n"
     ]
    }
   ],
   "source": [
    "import csv\n",
    "import numpy as np\n",
    "import pandas as pd\n",
    "import statsmodels.api as sm\n",
    "import matplotlib.pyplot as plt\n",
    "import scipy.stats as stats\n",
    "from google.colab import drive\n",
    "drive.mount('/content/drive')"
   ]
  },
  {
   "cell_type": "markdown",
   "id": "99cbf2c2",
   "metadata": {
    "id": "99cbf2c2"
   },
   "source": [
    "## 1"
   ]
  },
  {
   "cell_type": "markdown",
   "id": "a93b40d9",
   "metadata": {
    "id": "a93b40d9"
   },
   "source": [
    "(a)試簡述何謂維度的詛咒？試列舉一案例說明。"
   ]
  },
  {
   "cell_type": "markdown",
   "id": "03a16f06",
   "metadata": {
    "id": "03a16f06"
   },
   "source": [
    "隨著需要估計的參數增多，所需的樣本會呈現指數型增長。  \n",
    "舉例："
   ]
  },
  {
   "cell_type": "markdown",
   "id": "92fc3c1a",
   "metadata": {
    "id": "92fc3c1a"
   },
   "source": [
    "(b)避免維度詛咒的方法有哪些？"
   ]
  },
  {
   "cell_type": "markdown",
   "id": "hel3YvF3mRoN",
   "metadata": {
    "id": "hel3YvF3mRoN"
   },
   "source": [
    "去除模型中不重要的特徵；或將資料進行轉換，縮減其維度，例如：PCA。"
   ]
  },
  {
   "cell_type": "markdown",
   "id": "6050751c",
   "metadata": {
    "id": "6050751c"
   },
   "source": [
    "(c)試找一個開放數據(e.g. Kaggle 開放數據或第一次作業紅酒數據集)並選一種方法(e.g. \n",
    "線性迴歸或決策樹)，用模擬方法固定樣本數但逐步增加變數個數，試著重新繪製圖3.12，\n",
    "呈現維度與預測(或分類)績效間的關係。(提示：模擬方法可思考如下：(1)先做線性迴歸；\n",
    "(2)重要變數依 p-value 排序；(3)將重要的變數一個個依序放入迴歸並計算 adjusted-R2 作\n",
    "為預測準確度"
   ]
  },
  {
   "cell_type": "code",
   "execution_count": null,
   "id": "SFYV3XaCEfXI",
   "metadata": {
    "id": "SFYV3XaCEfXI"
   },
   "outputs": [],
   "source": [
    "address=\"/content/drive/My Drive/colab/MDS_Assignment2_2022/\""
   ]
  },
  {
   "cell_type": "code",
   "execution_count": null,
   "id": "d751e10f",
   "metadata": {
    "colab": {
     "base_uri": "https://localhost:8080/",
     "height": 522
    },
    "executionInfo": {
     "elapsed": 539,
     "status": "ok",
     "timestamp": 1665742940255,
     "user": {
      "displayName": "曾政夫",
      "userId": "11857764521326098280"
     },
     "user_tz": -480
    },
    "id": "d751e10f",
    "outputId": "fc6aa3f2-1d80-4caf-bf28-df0ae102380d"
   },
   "outputs": [
    {
     "data": {
      "text/html": [
       "\n",
       "  <div id=\"df-e06df8e2-449d-4616-8515-c61e8235e59b\">\n",
       "    <div class=\"colab-df-container\">\n",
       "      <div>\n",
       "<style scoped>\n",
       "    .dataframe tbody tr th:only-of-type {\n",
       "        vertical-align: middle;\n",
       "    }\n",
       "\n",
       "    .dataframe tbody tr th {\n",
       "        vertical-align: top;\n",
       "    }\n",
       "\n",
       "    .dataframe thead th {\n",
       "        text-align: right;\n",
       "    }\n",
       "</style>\n",
       "<table border=\"1\" class=\"dataframe\">\n",
       "  <thead>\n",
       "    <tr style=\"text-align: right;\">\n",
       "      <th></th>\n",
       "      <th>fixed acidity</th>\n",
       "      <th>volatile acidity</th>\n",
       "      <th>citric acid</th>\n",
       "      <th>residual sugar</th>\n",
       "      <th>chlorides</th>\n",
       "      <th>free sulfur dioxide</th>\n",
       "      <th>total sulfur dioxide</th>\n",
       "      <th>density</th>\n",
       "      <th>pH</th>\n",
       "      <th>sulphates</th>\n",
       "      <th>alcohol</th>\n",
       "      <th>quality</th>\n",
       "    </tr>\n",
       "  </thead>\n",
       "  <tbody>\n",
       "    <tr>\n",
       "      <th>0</th>\n",
       "      <td>7.4</td>\n",
       "      <td>0.700</td>\n",
       "      <td>0.00</td>\n",
       "      <td>1.9</td>\n",
       "      <td>0.076</td>\n",
       "      <td>11.0</td>\n",
       "      <td>34.0</td>\n",
       "      <td>0.99780</td>\n",
       "      <td>3.51</td>\n",
       "      <td>0.56</td>\n",
       "      <td>9.4</td>\n",
       "      <td>5</td>\n",
       "    </tr>\n",
       "    <tr>\n",
       "      <th>1</th>\n",
       "      <td>7.8</td>\n",
       "      <td>0.880</td>\n",
       "      <td>0.00</td>\n",
       "      <td>2.6</td>\n",
       "      <td>0.098</td>\n",
       "      <td>25.0</td>\n",
       "      <td>67.0</td>\n",
       "      <td>0.99680</td>\n",
       "      <td>3.20</td>\n",
       "      <td>0.68</td>\n",
       "      <td>9.8</td>\n",
       "      <td>5</td>\n",
       "    </tr>\n",
       "    <tr>\n",
       "      <th>2</th>\n",
       "      <td>7.8</td>\n",
       "      <td>0.760</td>\n",
       "      <td>0.04</td>\n",
       "      <td>2.3</td>\n",
       "      <td>0.092</td>\n",
       "      <td>15.0</td>\n",
       "      <td>54.0</td>\n",
       "      <td>0.99700</td>\n",
       "      <td>3.26</td>\n",
       "      <td>0.65</td>\n",
       "      <td>9.8</td>\n",
       "      <td>5</td>\n",
       "    </tr>\n",
       "    <tr>\n",
       "      <th>3</th>\n",
       "      <td>11.2</td>\n",
       "      <td>0.280</td>\n",
       "      <td>0.56</td>\n",
       "      <td>1.9</td>\n",
       "      <td>0.075</td>\n",
       "      <td>17.0</td>\n",
       "      <td>60.0</td>\n",
       "      <td>0.99800</td>\n",
       "      <td>3.16</td>\n",
       "      <td>0.58</td>\n",
       "      <td>9.8</td>\n",
       "      <td>6</td>\n",
       "    </tr>\n",
       "    <tr>\n",
       "      <th>4</th>\n",
       "      <td>7.4</td>\n",
       "      <td>0.700</td>\n",
       "      <td>0.00</td>\n",
       "      <td>1.9</td>\n",
       "      <td>0.076</td>\n",
       "      <td>11.0</td>\n",
       "      <td>34.0</td>\n",
       "      <td>0.99780</td>\n",
       "      <td>3.51</td>\n",
       "      <td>0.56</td>\n",
       "      <td>9.4</td>\n",
       "      <td>5</td>\n",
       "    </tr>\n",
       "    <tr>\n",
       "      <th>...</th>\n",
       "      <td>...</td>\n",
       "      <td>...</td>\n",
       "      <td>...</td>\n",
       "      <td>...</td>\n",
       "      <td>...</td>\n",
       "      <td>...</td>\n",
       "      <td>...</td>\n",
       "      <td>...</td>\n",
       "      <td>...</td>\n",
       "      <td>...</td>\n",
       "      <td>...</td>\n",
       "      <td>...</td>\n",
       "    </tr>\n",
       "    <tr>\n",
       "      <th>1594</th>\n",
       "      <td>6.2</td>\n",
       "      <td>0.600</td>\n",
       "      <td>0.08</td>\n",
       "      <td>2.0</td>\n",
       "      <td>0.090</td>\n",
       "      <td>32.0</td>\n",
       "      <td>44.0</td>\n",
       "      <td>0.99490</td>\n",
       "      <td>3.45</td>\n",
       "      <td>0.58</td>\n",
       "      <td>10.5</td>\n",
       "      <td>5</td>\n",
       "    </tr>\n",
       "    <tr>\n",
       "      <th>1595</th>\n",
       "      <td>5.9</td>\n",
       "      <td>0.550</td>\n",
       "      <td>0.10</td>\n",
       "      <td>2.2</td>\n",
       "      <td>0.062</td>\n",
       "      <td>39.0</td>\n",
       "      <td>51.0</td>\n",
       "      <td>0.99512</td>\n",
       "      <td>3.52</td>\n",
       "      <td>0.76</td>\n",
       "      <td>11.2</td>\n",
       "      <td>6</td>\n",
       "    </tr>\n",
       "    <tr>\n",
       "      <th>1596</th>\n",
       "      <td>6.3</td>\n",
       "      <td>0.510</td>\n",
       "      <td>0.13</td>\n",
       "      <td>2.3</td>\n",
       "      <td>0.076</td>\n",
       "      <td>29.0</td>\n",
       "      <td>40.0</td>\n",
       "      <td>0.99574</td>\n",
       "      <td>3.42</td>\n",
       "      <td>0.75</td>\n",
       "      <td>11.0</td>\n",
       "      <td>6</td>\n",
       "    </tr>\n",
       "    <tr>\n",
       "      <th>1597</th>\n",
       "      <td>5.9</td>\n",
       "      <td>0.645</td>\n",
       "      <td>0.12</td>\n",
       "      <td>2.0</td>\n",
       "      <td>0.075</td>\n",
       "      <td>32.0</td>\n",
       "      <td>44.0</td>\n",
       "      <td>0.99547</td>\n",
       "      <td>3.57</td>\n",
       "      <td>0.71</td>\n",
       "      <td>10.2</td>\n",
       "      <td>5</td>\n",
       "    </tr>\n",
       "    <tr>\n",
       "      <th>1598</th>\n",
       "      <td>6.0</td>\n",
       "      <td>0.310</td>\n",
       "      <td>0.47</td>\n",
       "      <td>3.6</td>\n",
       "      <td>0.067</td>\n",
       "      <td>18.0</td>\n",
       "      <td>42.0</td>\n",
       "      <td>0.99549</td>\n",
       "      <td>3.39</td>\n",
       "      <td>0.66</td>\n",
       "      <td>11.0</td>\n",
       "      <td>6</td>\n",
       "    </tr>\n",
       "  </tbody>\n",
       "</table>\n",
       "<p>1599 rows × 12 columns</p>\n",
       "</div>\n",
       "      <button class=\"colab-df-convert\" onclick=\"convertToInteractive('df-e06df8e2-449d-4616-8515-c61e8235e59b')\"\n",
       "              title=\"Convert this dataframe to an interactive table.\"\n",
       "              style=\"display:none;\">\n",
       "        \n",
       "  <svg xmlns=\"http://www.w3.org/2000/svg\" height=\"24px\"viewBox=\"0 0 24 24\"\n",
       "       width=\"24px\">\n",
       "    <path d=\"M0 0h24v24H0V0z\" fill=\"none\"/>\n",
       "    <path d=\"M18.56 5.44l.94 2.06.94-2.06 2.06-.94-2.06-.94-.94-2.06-.94 2.06-2.06.94zm-11 1L8.5 8.5l.94-2.06 2.06-.94-2.06-.94L8.5 2.5l-.94 2.06-2.06.94zm10 10l.94 2.06.94-2.06 2.06-.94-2.06-.94-.94-2.06-.94 2.06-2.06.94z\"/><path d=\"M17.41 7.96l-1.37-1.37c-.4-.4-.92-.59-1.43-.59-.52 0-1.04.2-1.43.59L10.3 9.45l-7.72 7.72c-.78.78-.78 2.05 0 2.83L4 21.41c.39.39.9.59 1.41.59.51 0 1.02-.2 1.41-.59l7.78-7.78 2.81-2.81c.8-.78.8-2.07 0-2.86zM5.41 20L4 18.59l7.72-7.72 1.47 1.35L5.41 20z\"/>\n",
       "  </svg>\n",
       "      </button>\n",
       "      \n",
       "  <style>\n",
       "    .colab-df-container {\n",
       "      display:flex;\n",
       "      flex-wrap:wrap;\n",
       "      gap: 12px;\n",
       "    }\n",
       "\n",
       "    .colab-df-convert {\n",
       "      background-color: #E8F0FE;\n",
       "      border: none;\n",
       "      border-radius: 50%;\n",
       "      cursor: pointer;\n",
       "      display: none;\n",
       "      fill: #1967D2;\n",
       "      height: 32px;\n",
       "      padding: 0 0 0 0;\n",
       "      width: 32px;\n",
       "    }\n",
       "\n",
       "    .colab-df-convert:hover {\n",
       "      background-color: #E2EBFA;\n",
       "      box-shadow: 0px 1px 2px rgba(60, 64, 67, 0.3), 0px 1px 3px 1px rgba(60, 64, 67, 0.15);\n",
       "      fill: #174EA6;\n",
       "    }\n",
       "\n",
       "    [theme=dark] .colab-df-convert {\n",
       "      background-color: #3B4455;\n",
       "      fill: #D2E3FC;\n",
       "    }\n",
       "\n",
       "    [theme=dark] .colab-df-convert:hover {\n",
       "      background-color: #434B5C;\n",
       "      box-shadow: 0px 1px 3px 1px rgba(0, 0, 0, 0.15);\n",
       "      filter: drop-shadow(0px 1px 2px rgba(0, 0, 0, 0.3));\n",
       "      fill: #FFFFFF;\n",
       "    }\n",
       "  </style>\n",
       "\n",
       "      <script>\n",
       "        const buttonEl =\n",
       "          document.querySelector('#df-e06df8e2-449d-4616-8515-c61e8235e59b button.colab-df-convert');\n",
       "        buttonEl.style.display =\n",
       "          google.colab.kernel.accessAllowed ? 'block' : 'none';\n",
       "\n",
       "        async function convertToInteractive(key) {\n",
       "          const element = document.querySelector('#df-e06df8e2-449d-4616-8515-c61e8235e59b');\n",
       "          const dataTable =\n",
       "            await google.colab.kernel.invokeFunction('convertToInteractive',\n",
       "                                                     [key], {});\n",
       "          if (!dataTable) return;\n",
       "\n",
       "          const docLinkHtml = 'Like what you see? Visit the ' +\n",
       "            '<a target=\"_blank\" href=https://colab.research.google.com/notebooks/data_table.ipynb>data table notebook</a>'\n",
       "            + ' to learn more about interactive tables.';\n",
       "          element.innerHTML = '';\n",
       "          dataTable['output_type'] = 'display_data';\n",
       "          await google.colab.output.renderOutput(dataTable, element);\n",
       "          const docLink = document.createElement('div');\n",
       "          docLink.innerHTML = docLinkHtml;\n",
       "          element.appendChild(docLink);\n",
       "        }\n",
       "      </script>\n",
       "    </div>\n",
       "  </div>\n",
       "  "
      ],
      "text/plain": [
       "      fixed acidity  volatile acidity  citric acid  residual sugar  chlorides  \\\n",
       "0               7.4             0.700         0.00             1.9      0.076   \n",
       "1               7.8             0.880         0.00             2.6      0.098   \n",
       "2               7.8             0.760         0.04             2.3      0.092   \n",
       "3              11.2             0.280         0.56             1.9      0.075   \n",
       "4               7.4             0.700         0.00             1.9      0.076   \n",
       "...             ...               ...          ...             ...        ...   \n",
       "1594            6.2             0.600         0.08             2.0      0.090   \n",
       "1595            5.9             0.550         0.10             2.2      0.062   \n",
       "1596            6.3             0.510         0.13             2.3      0.076   \n",
       "1597            5.9             0.645         0.12             2.0      0.075   \n",
       "1598            6.0             0.310         0.47             3.6      0.067   \n",
       "\n",
       "      free sulfur dioxide  total sulfur dioxide  density    pH  sulphates  \\\n",
       "0                    11.0                  34.0  0.99780  3.51       0.56   \n",
       "1                    25.0                  67.0  0.99680  3.20       0.68   \n",
       "2                    15.0                  54.0  0.99700  3.26       0.65   \n",
       "3                    17.0                  60.0  0.99800  3.16       0.58   \n",
       "4                    11.0                  34.0  0.99780  3.51       0.56   \n",
       "...                   ...                   ...      ...   ...        ...   \n",
       "1594                 32.0                  44.0  0.99490  3.45       0.58   \n",
       "1595                 39.0                  51.0  0.99512  3.52       0.76   \n",
       "1596                 29.0                  40.0  0.99574  3.42       0.75   \n",
       "1597                 32.0                  44.0  0.99547  3.57       0.71   \n",
       "1598                 18.0                  42.0  0.99549  3.39       0.66   \n",
       "\n",
       "      alcohol  quality  \n",
       "0         9.4        5  \n",
       "1         9.8        5  \n",
       "2         9.8        5  \n",
       "3         9.8        6  \n",
       "4         9.4        5  \n",
       "...       ...      ...  \n",
       "1594     10.5        5  \n",
       "1595     11.2        6  \n",
       "1596     11.0        6  \n",
       "1597     10.2        5  \n",
       "1598     11.0        6  \n",
       "\n",
       "[1599 rows x 12 columns]"
      ]
     },
     "execution_count": 8,
     "metadata": {},
     "output_type": "execute_result"
    }
   ],
   "source": [
    "df=pd.read_csv(\"/content/drive/My Drive/colab/MDS_Assignment2_2022/winequality-red.csv\") \n",
    "#df=pd.read_csv(address+\"MDS_Assignment1_furnace.csv\") \n",
    "#df = pd.read_excel('/content/drive/My Drive/folder_name/file_name.xlsx')\n",
    "df"
   ]
  },
  {
   "cell_type": "code",
   "execution_count": null,
   "id": "712b36ac",
   "metadata": {
    "colab": {
     "base_uri": "https://localhost:8080/",
     "height": 754
    },
    "executionInfo": {
     "elapsed": 8,
     "status": "ok",
     "timestamp": 1665742943606,
     "user": {
      "displayName": "曾政夫",
      "userId": "11857764521326098280"
     },
     "user_tz": -480
    },
    "id": "712b36ac",
    "outputId": "d57788d7-df46-4adc-e5ca-113f9a3570ae"
   },
   "outputs": [
    {
     "name": "stderr",
     "output_type": "stream",
     "text": [
      "/usr/local/lib/python3.7/dist-packages/statsmodels/tsa/tsatools.py:142: FutureWarning: In a future version of pandas all arguments of concat except for the argument 'objs' will be keyword-only\n",
      "  x = pd.concat(x[::order], 1)\n"
     ]
    },
    {
     "data": {
      "text/html": [
       "<table class=\"simpletable\">\n",
       "<caption>OLS Regression Results</caption>\n",
       "<tr>\n",
       "  <th>Dep. Variable:</th>         <td>quality</td>     <th>  R-squared:         </th> <td>   0.361</td> \n",
       "</tr>\n",
       "<tr>\n",
       "  <th>Model:</th>                   <td>OLS</td>       <th>  Adj. R-squared:    </th> <td>   0.356</td> \n",
       "</tr>\n",
       "<tr>\n",
       "  <th>Method:</th>             <td>Least Squares</td>  <th>  F-statistic:       </th> <td>   81.35</td> \n",
       "</tr>\n",
       "<tr>\n",
       "  <th>Date:</th>             <td>Fri, 14 Oct 2022</td> <th>  Prob (F-statistic):</th> <td>1.79e-145</td>\n",
       "</tr>\n",
       "<tr>\n",
       "  <th>Time:</th>                 <td>10:22:23</td>     <th>  Log-Likelihood:    </th> <td> -1569.1</td> \n",
       "</tr>\n",
       "<tr>\n",
       "  <th>No. Observations:</th>      <td>  1599</td>      <th>  AIC:               </th> <td>   3162.</td> \n",
       "</tr>\n",
       "<tr>\n",
       "  <th>Df Residuals:</th>          <td>  1587</td>      <th>  BIC:               </th> <td>   3227.</td> \n",
       "</tr>\n",
       "<tr>\n",
       "  <th>Df Model:</th>              <td>    11</td>      <th>                     </th>     <td> </td>    \n",
       "</tr>\n",
       "<tr>\n",
       "  <th>Covariance Type:</th>      <td>nonrobust</td>    <th>                     </th>     <td> </td>    \n",
       "</tr>\n",
       "</table>\n",
       "<table class=\"simpletable\">\n",
       "<tr>\n",
       "            <td></td>              <th>coef</th>     <th>std err</th>      <th>t</th>      <th>P>|t|</th>  <th>[0.025</th>    <th>0.975]</th>  \n",
       "</tr>\n",
       "<tr>\n",
       "  <th>const</th>                <td>   21.9652</td> <td>   21.195</td> <td>    1.036</td> <td> 0.300</td> <td>  -19.607</td> <td>   63.538</td>\n",
       "</tr>\n",
       "<tr>\n",
       "  <th>fixed acidity</th>        <td>    0.0250</td> <td>    0.026</td> <td>    0.963</td> <td> 0.336</td> <td>   -0.026</td> <td>    0.076</td>\n",
       "</tr>\n",
       "<tr>\n",
       "  <th>volatile acidity</th>     <td>   -1.0836</td> <td>    0.121</td> <td>   -8.948</td> <td> 0.000</td> <td>   -1.321</td> <td>   -0.846</td>\n",
       "</tr>\n",
       "<tr>\n",
       "  <th>citric acid</th>          <td>   -0.1826</td> <td>    0.147</td> <td>   -1.240</td> <td> 0.215</td> <td>   -0.471</td> <td>    0.106</td>\n",
       "</tr>\n",
       "<tr>\n",
       "  <th>residual sugar</th>       <td>    0.0163</td> <td>    0.015</td> <td>    1.089</td> <td> 0.276</td> <td>   -0.013</td> <td>    0.046</td>\n",
       "</tr>\n",
       "<tr>\n",
       "  <th>chlorides</th>            <td>   -1.8742</td> <td>    0.419</td> <td>   -4.470</td> <td> 0.000</td> <td>   -2.697</td> <td>   -1.052</td>\n",
       "</tr>\n",
       "<tr>\n",
       "  <th>free sulfur dioxide</th>  <td>    0.0044</td> <td>    0.002</td> <td>    2.009</td> <td> 0.045</td> <td>    0.000</td> <td>    0.009</td>\n",
       "</tr>\n",
       "<tr>\n",
       "  <th>total sulfur dioxide</th> <td>   -0.0033</td> <td>    0.001</td> <td>   -4.480</td> <td> 0.000</td> <td>   -0.005</td> <td>   -0.002</td>\n",
       "</tr>\n",
       "<tr>\n",
       "  <th>density</th>              <td>  -17.8812</td> <td>   21.633</td> <td>   -0.827</td> <td> 0.409</td> <td>  -60.314</td> <td>   24.551</td>\n",
       "</tr>\n",
       "<tr>\n",
       "  <th>pH</th>                   <td>   -0.4137</td> <td>    0.192</td> <td>   -2.159</td> <td> 0.031</td> <td>   -0.789</td> <td>   -0.038</td>\n",
       "</tr>\n",
       "<tr>\n",
       "  <th>sulphates</th>            <td>    0.9163</td> <td>    0.114</td> <td>    8.014</td> <td> 0.000</td> <td>    0.692</td> <td>    1.141</td>\n",
       "</tr>\n",
       "<tr>\n",
       "  <th>alcohol</th>              <td>    0.2762</td> <td>    0.026</td> <td>   10.429</td> <td> 0.000</td> <td>    0.224</td> <td>    0.328</td>\n",
       "</tr>\n",
       "</table>\n",
       "<table class=\"simpletable\">\n",
       "<tr>\n",
       "  <th>Omnibus:</th>       <td>27.376</td> <th>  Durbin-Watson:     </th> <td>   1.757</td>\n",
       "</tr>\n",
       "<tr>\n",
       "  <th>Prob(Omnibus):</th> <td> 0.000</td> <th>  Jarque-Bera (JB):  </th> <td>  40.965</td>\n",
       "</tr>\n",
       "<tr>\n",
       "  <th>Skew:</th>          <td>-0.168</td> <th>  Prob(JB):          </th> <td>1.27e-09</td>\n",
       "</tr>\n",
       "<tr>\n",
       "  <th>Kurtosis:</th>      <td> 3.708</td> <th>  Cond. No.          </th> <td>1.13e+05</td>\n",
       "</tr>\n",
       "</table><br/><br/>Notes:<br/>[1] Standard Errors assume that the covariance matrix of the errors is correctly specified.<br/>[2] The condition number is large, 1.13e+05. This might indicate that there are<br/>strong multicollinearity or other numerical problems."
      ],
      "text/plain": [
       "<class 'statsmodels.iolib.summary.Summary'>\n",
       "\"\"\"\n",
       "                            OLS Regression Results                            \n",
       "==============================================================================\n",
       "Dep. Variable:                quality   R-squared:                       0.361\n",
       "Model:                            OLS   Adj. R-squared:                  0.356\n",
       "Method:                 Least Squares   F-statistic:                     81.35\n",
       "Date:                Fri, 14 Oct 2022   Prob (F-statistic):          1.79e-145\n",
       "Time:                        10:22:23   Log-Likelihood:                -1569.1\n",
       "No. Observations:                1599   AIC:                             3162.\n",
       "Df Residuals:                    1587   BIC:                             3227.\n",
       "Df Model:                          11                                         \n",
       "Covariance Type:            nonrobust                                         \n",
       "========================================================================================\n",
       "                           coef    std err          t      P>|t|      [0.025      0.975]\n",
       "----------------------------------------------------------------------------------------\n",
       "const                   21.9652     21.195      1.036      0.300     -19.607      63.538\n",
       "fixed acidity            0.0250      0.026      0.963      0.336      -0.026       0.076\n",
       "volatile acidity        -1.0836      0.121     -8.948      0.000      -1.321      -0.846\n",
       "citric acid             -0.1826      0.147     -1.240      0.215      -0.471       0.106\n",
       "residual sugar           0.0163      0.015      1.089      0.276      -0.013       0.046\n",
       "chlorides               -1.8742      0.419     -4.470      0.000      -2.697      -1.052\n",
       "free sulfur dioxide      0.0044      0.002      2.009      0.045       0.000       0.009\n",
       "total sulfur dioxide    -0.0033      0.001     -4.480      0.000      -0.005      -0.002\n",
       "density                -17.8812     21.633     -0.827      0.409     -60.314      24.551\n",
       "pH                      -0.4137      0.192     -2.159      0.031      -0.789      -0.038\n",
       "sulphates                0.9163      0.114      8.014      0.000       0.692       1.141\n",
       "alcohol                  0.2762      0.026     10.429      0.000       0.224       0.328\n",
       "==============================================================================\n",
       "Omnibus:                       27.376   Durbin-Watson:                   1.757\n",
       "Prob(Omnibus):                  0.000   Jarque-Bera (JB):               40.965\n",
       "Skew:                          -0.168   Prob(JB):                     1.27e-09\n",
       "Kurtosis:                       3.708   Cond. No.                     1.13e+05\n",
       "==============================================================================\n",
       "\n",
       "Notes:\n",
       "[1] Standard Errors assume that the covariance matrix of the errors is correctly specified.\n",
       "[2] The condition number is large, 1.13e+05. This might indicate that there are\n",
       "strong multicollinearity or other numerical problems.\n",
       "\"\"\""
      ]
     },
     "execution_count": 9,
     "metadata": {},
     "output_type": "execute_result"
    }
   ],
   "source": [
    "X = df[list(df.columns)[0:-1]]\n",
    "X=sm.add_constant(X)\n",
    "y = df[list(df.columns)[-1]]\n",
    "model = sm.OLS(y, X).fit()\n",
    "predictions = model.predict(X)\n",
    "model.summary()"
   ]
  },
  {
   "cell_type": "code",
   "execution_count": null,
   "id": "e196bbf9",
   "metadata": {
    "colab": {
     "base_uri": "https://localhost:8080/"
    },
    "executionInfo": {
     "elapsed": 337,
     "status": "ok",
     "timestamp": 1665742948554,
     "user": {
      "displayName": "曾政夫",
      "userId": "11857764521326098280"
     },
     "user_tz": -480
    },
    "id": "e196bbf9",
    "outputId": "b82a1913-7ef7-48c5-8f9c-fab7110bf175"
   },
   "outputs": [
    {
     "name": "stdout",
     "output_type": "stream",
     "text": [
      "                variable       p-value\n",
      "11               alcohol  1.123029e-24\n",
      "2       volatile acidity  9.872361e-19\n",
      "10             sulphates  2.127228e-15\n",
      "7   total sulfur dioxide  8.004610e-06\n",
      "5              chlorides  8.373953e-06\n",
      "9                     pH  3.100189e-02\n",
      "6    free sulfur dioxide  4.474495e-02\n",
      "3            citric acid  2.149942e-01\n",
      "4         residual sugar  2.764960e-01\n",
      "0                  const  3.001921e-01\n",
      "1          fixed acidity  3.356528e-01\n",
      "8                density  4.086079e-01\n",
      "['alcohol', 'volatile acidity', 'sulphates', 'total sulfur dioxide', 'chlorides', 'pH', 'free sulfur dioxide', 'citric acid', 'residual sugar', 'fixed acidity', 'density']\n"
     ]
    }
   ],
   "source": [
    "s=[]\n",
    "p=[]\n",
    "for i in range(len(model.pvalues)):\n",
    "    if (i==0):\n",
    "        s.append(\"const\")\n",
    "        p.append(model.pvalues[i])\n",
    "    else:\n",
    "        s.append(df.columns[i-1])\n",
    "        p.append(model.pvalues[i])\n",
    "rank={\n",
    "    \"variable\":s,\n",
    "    \"p-value\":p\n",
    "}\n",
    "rank=pd.DataFrame(rank)\n",
    "rank=rank.sort_values([\"p-value\"],ascending=True)\n",
    "para=rank.sort_values([\"p-value\"],ascending=True).variable.to_list()\n",
    "para.remove(\"const\")\n",
    "print(rank)\n",
    "print(para)"
   ]
  },
  {
   "cell_type": "code",
   "execution_count": null,
   "id": "be3df5c8",
   "metadata": {
    "colab": {
     "base_uri": "https://localhost:8080/",
     "height": 337
    },
    "executionInfo": {
     "elapsed": 402,
     "status": "ok",
     "timestamp": 1665742952548,
     "user": {
      "displayName": "曾政夫",
      "userId": "11857764521326098280"
     },
     "user_tz": -480
    },
    "id": "be3df5c8",
    "outputId": "11dc38e0-6fb8-4c8d-cfcb-61add8f106fa"
   },
   "outputs": [
    {
     "name": "stderr",
     "output_type": "stream",
     "text": [
      "/usr/local/lib/python3.7/dist-packages/statsmodels/tsa/tsatools.py:142: FutureWarning: In a future version of pandas all arguments of concat except for the argument 'objs' will be keyword-only\n",
      "  x = pd.concat(x[::order], 1)\n"
     ]
    },
    {
     "data": {
      "text/plain": [
       "[<matplotlib.lines.Line2D at 0x7f8f3da85690>]"
      ]
     },
     "execution_count": 11,
     "metadata": {},
     "output_type": "execute_result"
    },
    {
     "data": {
      "image/png": "[encoded data removed]",
      "text/plain": [
       "<Figure size 432x288 with 1 Axes>"
      ]
     },
     "metadata": {
      "needs_background": "light"
     },
     "output_type": "display_data"
    }
   ],
   "source": [
    "a=[]\n",
    "for i in range(1,len(para)+1):\n",
    "    X = df[para[0:i]]\n",
    "    X=sm.add_constant(X)\n",
    "    model = sm.OLS(y, X).fit()\n",
    "    predictions = model.predict(X)\n",
    "   # print(model.rsquared_adj)\n",
    "    a.append(model.rsquared_adj)\n",
    "plt.plot([i for i in range(0,len(a))],a)    "
   ]
  },
  {
   "cell_type": "code",
   "execution_count": null,
   "id": "34bf29fc",
   "metadata": {
    "id": "34bf29fc",
    "outputId": "e3055741-c1c3-4ad5-9b12-e82dea1e401b"
   },
   "outputs": [
    {
     "data": {
      "text/html": [
       "<table class=\"simpletable\">\n",
       "<caption>OLS Regression Results</caption>\n",
       "<tr>\n",
       "  <th>Dep. Variable:</th>         <td>quality</td>     <th>  R-squared:         </th> <td>   0.258</td> \n",
       "</tr>\n",
       "<tr>\n",
       "  <th>Model:</th>                   <td>OLS</td>       <th>  Adj. R-squared:    </th> <td>   0.256</td> \n",
       "</tr>\n",
       "<tr>\n",
       "  <th>Method:</th>             <td>Least Squares</td>  <th>  F-statistic:       </th> <td>   184.5</td> \n",
       "</tr>\n",
       "<tr>\n",
       "  <th>Date:</th>             <td>Mon, 10 Oct 2022</td> <th>  Prob (F-statistic):</th> <td>1.03e-102</td>\n",
       "</tr>\n",
       "<tr>\n",
       "  <th>Time:</th>                 <td>20:34:28</td>     <th>  Log-Likelihood:    </th> <td> -1688.4</td> \n",
       "</tr>\n",
       "<tr>\n",
       "  <th>No. Observations:</th>      <td>  1599</td>      <th>  AIC:               </th> <td>   3385.</td> \n",
       "</tr>\n",
       "<tr>\n",
       "  <th>Df Residuals:</th>          <td>  1595</td>      <th>  BIC:               </th> <td>   3406.</td> \n",
       "</tr>\n",
       "<tr>\n",
       "  <th>Df Model:</th>              <td>     3</td>      <th>                     </th>     <td> </td>    \n",
       "</tr>\n",
       "<tr>\n",
       "  <th>Covariance Type:</th>      <td>nonrobust</td>    <th>                     </th>     <td> </td>    \n",
       "</tr>\n",
       "</table>\n",
       "<table class=\"simpletable\">\n",
       "<tr>\n",
       "       <td></td>          <th>coef</th>     <th>std err</th>      <th>t</th>      <th>P>|t|</th>  <th>[0.025</th>    <th>0.975]</th>  \n",
       "</tr>\n",
       "<tr>\n",
       "  <th>const</th>       <td>   11.2136</td> <td>   12.236</td> <td>    0.916</td> <td> 0.360</td> <td>  -12.787</td> <td>   35.214</td>\n",
       "</tr>\n",
       "<tr>\n",
       "  <th>citric acid</th> <td>    0.7687</td> <td>    0.103</td> <td>    7.466</td> <td> 0.000</td> <td>    0.567</td> <td>    0.971</td>\n",
       "</tr>\n",
       "<tr>\n",
       "  <th>alcohol</th>     <td>    0.3372</td> <td>    0.020</td> <td>   16.707</td> <td> 0.000</td> <td>    0.298</td> <td>    0.377</td>\n",
       "</tr>\n",
       "<tr>\n",
       "  <th>density</th>     <td>   -9.3309</td> <td>   12.166</td> <td>   -0.767</td> <td> 0.443</td> <td>  -33.194</td> <td>   14.533</td>\n",
       "</tr>\n",
       "</table>\n",
       "<table class=\"simpletable\">\n",
       "<tr>\n",
       "  <th>Omnibus:</th>       <td>31.030</td> <th>  Durbin-Watson:     </th> <td>   1.752</td>\n",
       "</tr>\n",
       "<tr>\n",
       "  <th>Prob(Omnibus):</th> <td> 0.000</td> <th>  Jarque-Bera (JB):  </th> <td>  49.978</td>\n",
       "</tr>\n",
       "<tr>\n",
       "  <th>Skew:</th>          <td>-0.165</td> <th>  Prob(JB):          </th> <td>1.40e-11</td>\n",
       "</tr>\n",
       "<tr>\n",
       "  <th>Kurtosis:</th>      <td> 3.801</td> <th>  Cond. No.          </th> <td>1.05e+04</td>\n",
       "</tr>\n",
       "</table><br/><br/>Notes:<br/>[1] Standard Errors assume that the covariance matrix of the errors is correctly specified.<br/>[2] The condition number is large, 1.05e+04. This might indicate that there are<br/>strong multicollinearity or other numerical problems."
      ],
      "text/plain": [
       "<class 'statsmodels.iolib.summary.Summary'>\n",
       "\"\"\"\n",
       "                            OLS Regression Results                            \n",
       "==============================================================================\n",
       "Dep. Variable:                quality   R-squared:                       0.258\n",
       "Model:                            OLS   Adj. R-squared:                  0.256\n",
       "Method:                 Least Squares   F-statistic:                     184.5\n",
       "Date:                Mon, 10 Oct 2022   Prob (F-statistic):          1.03e-102\n",
       "Time:                        20:34:28   Log-Likelihood:                -1688.4\n",
       "No. Observations:                1599   AIC:                             3385.\n",
       "Df Residuals:                    1595   BIC:                             3406.\n",
       "Df Model:                           3                                         \n",
       "Covariance Type:            nonrobust                                         \n",
       "===============================================================================\n",
       "                  coef    std err          t      P>|t|      [0.025      0.975]\n",
       "-------------------------------------------------------------------------------\n",
       "const          11.2136     12.236      0.916      0.360     -12.787      35.214\n",
       "citric acid     0.7687      0.103      7.466      0.000       0.567       0.971\n",
       "alcohol         0.3372      0.020     16.707      0.000       0.298       0.377\n",
       "density        -9.3309     12.166     -0.767      0.443     -33.194      14.533\n",
       "==============================================================================\n",
       "Omnibus:                       31.030   Durbin-Watson:                   1.752\n",
       "Prob(Omnibus):                  0.000   Jarque-Bera (JB):               49.978\n",
       "Skew:                          -0.165   Prob(JB):                     1.40e-11\n",
       "Kurtosis:                       3.801   Cond. No.                     1.05e+04\n",
       "==============================================================================\n",
       "\n",
       "Notes:\n",
       "[1] Standard Errors assume that the covariance matrix of the errors is correctly specified.\n",
       "[2] The condition number is large, 1.05e+04. This might indicate that there are\n",
       "strong multicollinearity or other numerical problems.\n",
       "\"\"\""
      ]
     },
     "execution_count": 142,
     "metadata": {},
     "output_type": "execute_result"
    }
   ],
   "source": [
    "X = df[para[0:3]]\n",
    "X=sm.add_constant(X)\n",
    "model = sm.OLS(y, X).fit()\n",
    "predictions = model.predict(X)\n",
    "model.summary()"
   ]
  },
  {
   "cell_type": "code",
   "execution_count": null,
   "id": "49f4e5dd",
   "metadata": {
    "id": "49f4e5dd",
    "outputId": "dec6dabc-7682-4d0e-8826-03d57d8069ab"
   },
   "outputs": [
    {
     "data": {
      "text/plain": [
       "[0.05065042914927853,\n",
       " 0.2564641454080665,\n",
       " 0.2562722550879498,\n",
       " 0.25588663980247583,\n",
       " 0.2829065434965041,\n",
       " 0.29906028993475564,\n",
       " 0.29878881434876314,\n",
       " 0.31837980391672915,\n",
       " 0.34974583258371317,\n",
       " 0.35614886907192267]"
      ]
     },
     "execution_count": 137,
     "metadata": {},
     "output_type": "execute_result"
    }
   ],
   "source": [
    "a"
   ]
  },
  {
   "cell_type": "markdown",
   "id": "e670a526",
   "metadata": {
    "id": "e670a526"
   },
   "source": [
    "## 2"
   ]
  },
  {
   "cell_type": "markdown",
   "id": "976fa628",
   "metadata": {
    "id": "976fa628"
   },
   "source": [
    "(a)試找一個開放數據(e.g. Kaggle 開放數據)，您會用什麼方法來確認資料品質的好壞？試操作一次並說明其細節。"
   ]
  },
  {
   "cell_type": "markdown",
   "id": "FzucpPH8YjF3",
   "metadata": {
    "id": "FzucpPH8YjF3"
   },
   "source": [
    "資料：紅酒數據集，說明：若資料品質佳，則數據集內的各種酸性物質(sulphates,citric acid)，應和PH呈負相關。"
   ]
  },
  {
   "cell_type": "code",
   "execution_count": null,
   "id": "srgxV5NwYlT8",
   "metadata": {
    "colab": {
     "base_uri": "https://localhost:8080/",
     "height": 522
    },
    "executionInfo": {
     "elapsed": 914,
     "status": "ok",
     "timestamp": 1665749138873,
     "user": {
      "displayName": "曾政夫",
      "userId": "11857764521326098280"
     },
     "user_tz": -480
    },
    "id": "srgxV5NwYlT8",
    "outputId": "e0ec275c-c257-4c9c-8f5d-4c89c6766d5f"
   },
   "outputs": [
    {
     "data": {
      "text/html": [
       "\n",
       "  <div id=\"df-a11dd449-381c-4846-9f83-2ea3ea2c6532\">\n",
       "    <div class=\"colab-df-container\">\n",
       "      <div>\n",
       "<style scoped>\n",
       "    .dataframe tbody tr th:only-of-type {\n",
       "        vertical-align: middle;\n",
       "    }\n",
       "\n",
       "    .dataframe tbody tr th {\n",
       "        vertical-align: top;\n",
       "    }\n",
       "\n",
       "    .dataframe thead th {\n",
       "        text-align: right;\n",
       "    }\n",
       "</style>\n",
       "<table border=\"1\" class=\"dataframe\">\n",
       "  <thead>\n",
       "    <tr style=\"text-align: right;\">\n",
       "      <th></th>\n",
       "      <th>fixed acidity</th>\n",
       "      <th>volatile acidity</th>\n",
       "      <th>citric acid</th>\n",
       "      <th>residual sugar</th>\n",
       "      <th>chlorides</th>\n",
       "      <th>free sulfur dioxide</th>\n",
       "      <th>total sulfur dioxide</th>\n",
       "      <th>density</th>\n",
       "      <th>pH</th>\n",
       "      <th>sulphates</th>\n",
       "      <th>alcohol</th>\n",
       "      <th>quality</th>\n",
       "    </tr>\n",
       "  </thead>\n",
       "  <tbody>\n",
       "    <tr>\n",
       "      <th>0</th>\n",
       "      <td>7.4</td>\n",
       "      <td>0.700</td>\n",
       "      <td>0.00</td>\n",
       "      <td>1.9</td>\n",
       "      <td>0.076</td>\n",
       "      <td>11.0</td>\n",
       "      <td>34.0</td>\n",
       "      <td>0.99780</td>\n",
       "      <td>3.51</td>\n",
       "      <td>0.56</td>\n",
       "      <td>9.4</td>\n",
       "      <td>5</td>\n",
       "    </tr>\n",
       "    <tr>\n",
       "      <th>1</th>\n",
       "      <td>7.8</td>\n",
       "      <td>0.880</td>\n",
       "      <td>0.00</td>\n",
       "      <td>2.6</td>\n",
       "      <td>0.098</td>\n",
       "      <td>25.0</td>\n",
       "      <td>67.0</td>\n",
       "      <td>0.99680</td>\n",
       "      <td>3.20</td>\n",
       "      <td>0.68</td>\n",
       "      <td>9.8</td>\n",
       "      <td>5</td>\n",
       "    </tr>\n",
       "    <tr>\n",
       "      <th>2</th>\n",
       "      <td>7.8</td>\n",
       "      <td>0.760</td>\n",
       "      <td>0.04</td>\n",
       "      <td>2.3</td>\n",
       "      <td>0.092</td>\n",
       "      <td>15.0</td>\n",
       "      <td>54.0</td>\n",
       "      <td>0.99700</td>\n",
       "      <td>3.26</td>\n",
       "      <td>0.65</td>\n",
       "      <td>9.8</td>\n",
       "      <td>5</td>\n",
       "    </tr>\n",
       "    <tr>\n",
       "      <th>3</th>\n",
       "      <td>11.2</td>\n",
       "      <td>0.280</td>\n",
       "      <td>0.56</td>\n",
       "      <td>1.9</td>\n",
       "      <td>0.075</td>\n",
       "      <td>17.0</td>\n",
       "      <td>60.0</td>\n",
       "      <td>0.99800</td>\n",
       "      <td>3.16</td>\n",
       "      <td>0.58</td>\n",
       "      <td>9.8</td>\n",
       "      <td>6</td>\n",
       "    </tr>\n",
       "    <tr>\n",
       "      <th>4</th>\n",
       "      <td>7.4</td>\n",
       "      <td>0.700</td>\n",
       "      <td>0.00</td>\n",
       "      <td>1.9</td>\n",
       "      <td>0.076</td>\n",
       "      <td>11.0</td>\n",
       "      <td>34.0</td>\n",
       "      <td>0.99780</td>\n",
       "      <td>3.51</td>\n",
       "      <td>0.56</td>\n",
       "      <td>9.4</td>\n",
       "      <td>5</td>\n",
       "    </tr>\n",
       "    <tr>\n",
       "      <th>...</th>\n",
       "      <td>...</td>\n",
       "      <td>...</td>\n",
       "      <td>...</td>\n",
       "      <td>...</td>\n",
       "      <td>...</td>\n",
       "      <td>...</td>\n",
       "      <td>...</td>\n",
       "      <td>...</td>\n",
       "      <td>...</td>\n",
       "      <td>...</td>\n",
       "      <td>...</td>\n",
       "      <td>...</td>\n",
       "    </tr>\n",
       "    <tr>\n",
       "      <th>1594</th>\n",
       "      <td>6.2</td>\n",
       "      <td>0.600</td>\n",
       "      <td>0.08</td>\n",
       "      <td>2.0</td>\n",
       "      <td>0.090</td>\n",
       "      <td>32.0</td>\n",
       "      <td>44.0</td>\n",
       "      <td>0.99490</td>\n",
       "      <td>3.45</td>\n",
       "      <td>0.58</td>\n",
       "      <td>10.5</td>\n",
       "      <td>5</td>\n",
       "    </tr>\n",
       "    <tr>\n",
       "      <th>1595</th>\n",
       "      <td>5.9</td>\n",
       "      <td>0.550</td>\n",
       "      <td>0.10</td>\n",
       "      <td>2.2</td>\n",
       "      <td>0.062</td>\n",
       "      <td>39.0</td>\n",
       "      <td>51.0</td>\n",
       "      <td>0.99512</td>\n",
       "      <td>3.52</td>\n",
       "      <td>0.76</td>\n",
       "      <td>11.2</td>\n",
       "      <td>6</td>\n",
       "    </tr>\n",
       "    <tr>\n",
       "      <th>1596</th>\n",
       "      <td>6.3</td>\n",
       "      <td>0.510</td>\n",
       "      <td>0.13</td>\n",
       "      <td>2.3</td>\n",
       "      <td>0.076</td>\n",
       "      <td>29.0</td>\n",
       "      <td>40.0</td>\n",
       "      <td>0.99574</td>\n",
       "      <td>3.42</td>\n",
       "      <td>0.75</td>\n",
       "      <td>11.0</td>\n",
       "      <td>6</td>\n",
       "    </tr>\n",
       "    <tr>\n",
       "      <th>1597</th>\n",
       "      <td>5.9</td>\n",
       "      <td>0.645</td>\n",
       "      <td>0.12</td>\n",
       "      <td>2.0</td>\n",
       "      <td>0.075</td>\n",
       "      <td>32.0</td>\n",
       "      <td>44.0</td>\n",
       "      <td>0.99547</td>\n",
       "      <td>3.57</td>\n",
       "      <td>0.71</td>\n",
       "      <td>10.2</td>\n",
       "      <td>5</td>\n",
       "    </tr>\n",
       "    <tr>\n",
       "      <th>1598</th>\n",
       "      <td>6.0</td>\n",
       "      <td>0.310</td>\n",
       "      <td>0.47</td>\n",
       "      <td>3.6</td>\n",
       "      <td>0.067</td>\n",
       "      <td>18.0</td>\n",
       "      <td>42.0</td>\n",
       "      <td>0.99549</td>\n",
       "      <td>3.39</td>\n",
       "      <td>0.66</td>\n",
       "      <td>11.0</td>\n",
       "      <td>6</td>\n",
       "    </tr>\n",
       "  </tbody>\n",
       "</table>\n",
       "<p>1599 rows × 12 columns</p>\n",
       "</div>\n",
       "      <button class=\"colab-df-convert\" onclick=\"convertToInteractive('df-a11dd449-381c-4846-9f83-2ea3ea2c6532')\"\n",
       "              title=\"Convert this dataframe to an interactive table.\"\n",
       "              style=\"display:none;\">\n",
       "        \n",
       "  <svg xmlns=\"http://www.w3.org/2000/svg\" height=\"24px\"viewBox=\"0 0 24 24\"\n",
       "       width=\"24px\">\n",
       "    <path d=\"M0 0h24v24H0V0z\" fill=\"none\"/>\n",
       "    <path d=\"M18.56 5.44l.94 2.06.94-2.06 2.06-.94-2.06-.94-.94-2.06-.94 2.06-2.06.94zm-11 1L8.5 8.5l.94-2.06 2.06-.94-2.06-.94L8.5 2.5l-.94 2.06-2.06.94zm10 10l.94 2.06.94-2.06 2.06-.94-2.06-.94-.94-2.06-.94 2.06-2.06.94z\"/><path d=\"M17.41 7.96l-1.37-1.37c-.4-.4-.92-.59-1.43-.59-.52 0-1.04.2-1.43.59L10.3 9.45l-7.72 7.72c-.78.78-.78 2.05 0 2.83L4 21.41c.39.39.9.59 1.41.59.51 0 1.02-.2 1.41-.59l7.78-7.78 2.81-2.81c.8-.78.8-2.07 0-2.86zM5.41 20L4 18.59l7.72-7.72 1.47 1.35L5.41 20z\"/>\n",
       "  </svg>\n",
       "      </button>\n",
       "      \n",
       "  <style>\n",
       "    .colab-df-container {\n",
       "      display:flex;\n",
       "      flex-wrap:wrap;\n",
       "      gap: 12px;\n",
       "    }\n",
       "\n",
       "    .colab-df-convert {\n",
       "      background-color: #E8F0FE;\n",
       "      border: none;\n",
       "      border-radius: 50%;\n",
       "      cursor: pointer;\n",
       "      display: none;\n",
       "      fill: #1967D2;\n",
       "      height: 32px;\n",
       "      padding: 0 0 0 0;\n",
       "      width: 32px;\n",
       "    }\n",
       "\n",
       "    .colab-df-convert:hover {\n",
       "      background-color: #E2EBFA;\n",
       "      box-shadow: 0px 1px 2px rgba(60, 64, 67, 0.3), 0px 1px 3px 1px rgba(60, 64, 67, 0.15);\n",
       "      fill: #174EA6;\n",
       "    }\n",
       "\n",
       "    [theme=dark] .colab-df-convert {\n",
       "      background-color: #3B4455;\n",
       "      fill: #D2E3FC;\n",
       "    }\n",
       "\n",
       "    [theme=dark] .colab-df-convert:hover {\n",
       "      background-color: #434B5C;\n",
       "      box-shadow: 0px 1px 3px 1px rgba(0, 0, 0, 0.15);\n",
       "      filter: drop-shadow(0px 1px 2px rgba(0, 0, 0, 0.3));\n",
       "      fill: #FFFFFF;\n",
       "    }\n",
       "  </style>\n",
       "\n",
       "      <script>\n",
       "        const buttonEl =\n",
       "          document.querySelector('#df-a11dd449-381c-4846-9f83-2ea3ea2c6532 button.colab-df-convert');\n",
       "        buttonEl.style.display =\n",
       "          google.colab.kernel.accessAllowed ? 'block' : 'none';\n",
       "\n",
       "        async function convertToInteractive(key) {\n",
       "          const element = document.querySelector('#df-a11dd449-381c-4846-9f83-2ea3ea2c6532');\n",
       "          const dataTable =\n",
       "            await google.colab.kernel.invokeFunction('convertToInteractive',\n",
       "                                                     [key], {});\n",
       "          if (!dataTable) return;\n",
       "\n",
       "          const docLinkHtml = 'Like what you see? Visit the ' +\n",
       "            '<a target=\"_blank\" href=https://colab.research.google.com/notebooks/data_table.ipynb>data table notebook</a>'\n",
       "            + ' to learn more about interactive tables.';\n",
       "          element.innerHTML = '';\n",
       "          dataTable['output_type'] = 'display_data';\n",
       "          await google.colab.output.renderOutput(dataTable, element);\n",
       "          const docLink = document.createElement('div');\n",
       "          docLink.innerHTML = docLinkHtml;\n",
       "          element.appendChild(docLink);\n",
       "        }\n",
       "      </script>\n",
       "    </div>\n",
       "  </div>\n",
       "  "
      ],
      "text/plain": [
       "      fixed acidity  volatile acidity  citric acid  residual sugar  chlorides  \\\n",
       "0               7.4             0.700         0.00             1.9      0.076   \n",
       "1               7.8             0.880         0.00             2.6      0.098   \n",
       "2               7.8             0.760         0.04             2.3      0.092   \n",
       "3              11.2             0.280         0.56             1.9      0.075   \n",
       "4               7.4             0.700         0.00             1.9      0.076   \n",
       "...             ...               ...          ...             ...        ...   \n",
       "1594            6.2             0.600         0.08             2.0      0.090   \n",
       "1595            5.9             0.550         0.10             2.2      0.062   \n",
       "1596            6.3             0.510         0.13             2.3      0.076   \n",
       "1597            5.9             0.645         0.12             2.0      0.075   \n",
       "1598            6.0             0.310         0.47             3.6      0.067   \n",
       "\n",
       "      free sulfur dioxide  total sulfur dioxide  density    pH  sulphates  \\\n",
       "0                    11.0                  34.0  0.99780  3.51       0.56   \n",
       "1                    25.0                  67.0  0.99680  3.20       0.68   \n",
       "2                    15.0                  54.0  0.99700  3.26       0.65   \n",
       "3                    17.0                  60.0  0.99800  3.16       0.58   \n",
       "4                    11.0                  34.0  0.99780  3.51       0.56   \n",
       "...                   ...                   ...      ...   ...        ...   \n",
       "1594                 32.0                  44.0  0.99490  3.45       0.58   \n",
       "1595                 39.0                  51.0  0.99512  3.52       0.76   \n",
       "1596                 29.0                  40.0  0.99574  3.42       0.75   \n",
       "1597                 32.0                  44.0  0.99547  3.57       0.71   \n",
       "1598                 18.0                  42.0  0.99549  3.39       0.66   \n",
       "\n",
       "      alcohol  quality  \n",
       "0         9.4        5  \n",
       "1         9.8        5  \n",
       "2         9.8        5  \n",
       "3         9.8        6  \n",
       "4         9.4        5  \n",
       "...       ...      ...  \n",
       "1594     10.5        5  \n",
       "1595     11.2        6  \n",
       "1596     11.0        6  \n",
       "1597     10.2        5  \n",
       "1598     11.0        6  \n",
       "\n",
       "[1599 rows x 12 columns]"
      ]
     },
     "execution_count": 13,
     "metadata": {},
     "output_type": "execute_result"
    }
   ],
   "source": [
    "df=pd.read_csv(\"/content/drive/My Drive/colab/MDS_Assignment2_2022/winequality-red.csv\") \n",
    "df"
   ]
  },
  {
   "cell_type": "code",
   "execution_count": null,
   "id": "LErO3pk1hmIj",
   "metadata": {
    "colab": {
     "base_uri": "https://localhost:8080/"
    },
    "executionInfo": {
     "elapsed": 355,
     "status": "ok",
     "timestamp": 1665751860013,
     "user": {
      "displayName": "曾政夫",
      "userId": "11857764521326098280"
     },
     "user_tz": -480
    },
    "id": "LErO3pk1hmIj",
    "outputId": "96f86014-ae30-4579-8678-d25fbff51c86"
   },
   "outputs": [
    {
     "name": "stderr",
     "output_type": "stream",
     "text": [
      "/usr/local/lib/python3.7/dist-packages/statsmodels/tsa/tsatools.py:142: FutureWarning: In a future version of pandas all arguments of concat except for the argument 'objs' will be keyword-only\n",
      "  x = pd.concat(x[::order], 1)\n"
     ]
    },
    {
     "data": {
      "text/plain": [
       "const        3.428992\n",
       "sulphates   -0.179106\n",
       "dtype: float64"
      ]
     },
     "execution_count": 18,
     "metadata": {},
     "output_type": "execute_result"
    }
   ],
   "source": [
    "X = df[\"sulphates\"]\n",
    "X=sm.add_constant(X)\n",
    "y=df[\"pH\"]\n",
    "model = sm.OLS(y, X).fit()\n",
    "model.params"
   ]
  },
  {
   "cell_type": "code",
   "execution_count": null,
   "id": "42oFBT-CjHYy",
   "metadata": {
    "colab": {
     "base_uri": "https://localhost:8080/"
    },
    "executionInfo": {
     "elapsed": 641,
     "status": "ok",
     "timestamp": 1665751902156,
     "user": {
      "displayName": "曾政夫",
      "userId": "11857764521326098280"
     },
     "user_tz": -480
    },
    "id": "42oFBT-CjHYy",
    "outputId": "bce98064-06a8-4ad5-c49f-34b81d50465d"
   },
   "outputs": [
    {
     "data": {
      "text/plain": [
       "const          3.427491\n",
       "citric acid   -0.429477\n",
       "dtype: float64"
      ]
     },
     "execution_count": 19,
     "metadata": {},
     "output_type": "execute_result"
    }
   ],
   "source": [
    "X = df[\"citric acid\"]\n",
    "X=sm.add_constant(X)\n",
    "y=df[\"pH\"]\n",
    "model = sm.OLS(y, X).fit()\n",
    "model.params"
   ]
  },
  {
   "cell_type": "markdown",
   "id": "ku3EWR5ubZzE",
   "metadata": {
    "id": "ku3EWR5ubZzE"
   },
   "source": []
  },
  {
   "cell_type": "markdown",
   "id": "db711b90",
   "metadata": {
    "id": "db711b90"
   },
   "source": [
    "(b)公司或您是否有現存方法來進行資料品質的確認？如果有(或沒有)，試依您的角度說明(或建議)確認資料品質的標準作業流程(i.e. SOP)。"
   ]
  },
  {
   "cell_type": "markdown",
   "id": "1AqoeeOJQmq9",
   "metadata": {
    "id": "1AqoeeOJQmq9"
   },
   "source": [
    "先對做實驗結果做假設。進行重複實驗，若結果差異過大，亂跳，代表資料有問題需要重新做實驗。  \n",
    "若實驗結果還有呈現規律，則懷疑自身的假設有問題。"
   ]
  },
  {
   "cell_type": "markdown",
   "id": "8991b9da",
   "metadata": {
    "id": "8991b9da"
   },
   "source": [
    "(c)\n",
    "試建議三個可能衡量數據品質的量化指標(i.e. KPIs)。"
   ]
  },
  {
   "cell_type": "markdown",
   "id": "81a6e542",
   "metadata": {
    "id": "97uFm99ahBd2"
   },
   "source": [
    "1)使用變異數來衡量數據的異質性。變異數越小代表數據品質越差。  \n",
    "2)衡量在同一特徵下其資料型態的多寡。資料形態越多，需要的前處理就愈多，資料品質也就愈差。  \n",
    "3)檢查特徵間的相關，若相關性很高，則模型的解釋力會越低，可能也有重複收集資料的問題。故特徵間的相關越低資料品值會越好。"
   ]
  },
  {
   "cell_type": "markdown",
   "id": "dcf98373",
   "metadata": {
    "id": "dcf98373"
   },
   "source": [
    "## 3 "
   ]
  },
  {
   "cell_type": "markdown",
   "id": "d86e1be6",
   "metadata": {
    "id": "d86e1be6"
   },
   "source": [
    "(a)什麼是模型的適應性與擴充性？"
   ]
  },
  {
   "cell_type": "markdown",
   "id": "16U0EuSboU9y",
   "metadata": {
    "id": "16U0EuSboU9y"
   },
   "source": [
    "適應性：在情況改變時，模型是否能維持預測力，還是要重新訓練。    \n",
    "擴充性：模型建構出來後是否能應用到相關的事件。"
   ]
  },
  {
   "cell_type": "markdown",
   "id": "4db0578d",
   "metadata": {
    "id": "4db0578d"
   },
   "source": [
    "(b)在\n",
    "AI 專案中(可根據第一題的開放數據與模型)，就您所使用的數據與建構的預測模型是否\n",
    "具備適用性與擴充性？為什麼？又該如何調整與改善呢？"
   ]
  },
  {
   "cell_type": "markdown",
   "id": "7c6bd0b3",
   "metadata": {
    "id": "H5m5t3MttX_2"
   },
   "source": [
    "若指的是第一題當中的回歸模型。我認為：  \n",
    "1)因為已經fit 好的回歸模型係數無法改變，當情況改變非常大時，模型無法維持預測力，要重新訓練，故適用性低。  \n",
    "2)我認為擴充性會高一些，當模型中的係數能被解釋時，回歸模型在本案例中，應該能應用到具有相同物理或化學性質的事務上。  \n",
    "調整&改善：  \n",
    "或許能夠加入一些高次項並進行回歸，並使用AIC或BIC來選擇模型。"
   ]
  },
  {
   "cell_type": "markdown",
   "id": "5ee477f9",
   "metadata": {
    "id": "5ee477f9"
   },
   "source": [
    "## 4"
   ]
  },
  {
   "cell_type": "markdown",
   "id": "d97e5c39",
   "metadata": {
    "id": "d97e5c39"
   },
   "source": [
    "(10%) 遺漏值填補的方法包括了統計量填補、預測式填補與生成式填補"
   ]
  },
  {
   "cell_type": "markdown",
   "id": "24fbfb7a",
   "metadata": {
    "id": "24fbfb7a"
   },
   "source": [
    "(a)試說明這些方法分別適用於什麼樣情形；"
   ]
  },
  {
   "cell_type": "markdown",
   "id": "lio_Wpn9UdsY",
   "metadata": {
    "id": "lio_Wpn9UdsY"
   },
   "source": [
    "統計量填補：可能會在沒有其他特徵，或特徵間關聯不大時使用。   \n",
    "預測式填補：觀測值間能夠算出某種距離的情況下可以使用。  \n",
    "生成式填補：同預測式填補，且效率較佳。但要調參數，需要對資料即有較深的理解。  "
   ]
  },
  {
   "cell_type": "markdown",
   "id": "7669dea9",
   "metadata": {
    "id": "7669dea9"
   },
   "source": [
    "(b)為什麼某特徵存在大量遺漏值不宜直接刪除"
   ]
  },
  {
   "cell_type": "markdown",
   "id": "1qb3O-6iUeex",
   "metadata": {
    "id": "1qb3O-6iUeex"
   },
   "source": [
    "因為存在大量遺漏值不代表該特徵不是重要欄位，所以在某些情況下不宜直接刪除。"
   ]
  },
  {
   "cell_type": "markdown",
   "id": "d5bb3d82",
   "metadata": {
    "id": "d5bb3d82"
   },
   "source": [
    "## 5"
   ]
  },
  {
   "cell_type": "markdown",
   "id": "c21a1491",
   "metadata": {
    "id": "c21a1491"
   },
   "source": [
    "(1) 試將羅吉斯迴歸分析的結果呈現如下表，並試著解釋任一特徵與目標值之間的關係。"
   ]
  },
  {
   "cell_type": "code",
   "execution_count": null,
   "id": "2b727adb",
   "metadata": {
    "id": "2b727adb"
   },
   "outputs": [],
   "source": [
    "from sklearn import linear_model"
   ]
  },
  {
   "cell_type": "code",
   "execution_count": null,
   "id": "c42da691",
   "metadata": {
    "id": "c42da691"
   },
   "outputs": [],
   "source": [
    "data=pd.read_excel(address+\"MDS_Assignment2_Steelplates.xlsx\",header=None,names=[0]) \n",
    "data2=pd.read_excel(address+\"MDS_Assignment2_Steelplates.xlsx\",sheet_name=\"Faults\",header=None,names=data[0].to_list()) "
   ]
  },
  {
   "cell_type": "code",
   "execution_count": null,
   "id": "7c10636c",
   "metadata": {
    "colab": {
     "base_uri": "https://localhost:8080/"
    },
    "executionInfo": {
     "elapsed": 373,
     "status": "ok",
     "timestamp": 1665660025329,
     "user": {
      "displayName": "曾政夫",
      "userId": "11857764521326098280"
     },
     "user_tz": -480
    },
    "id": "7c10636c",
    "outputId": "b847ec7f-4a72-4434-c18d-03daabb4ca9c"
   },
   "outputs": [
    {
     "name": "stdout",
     "output_type": "stream",
     "text": [
      "Optimization terminated successfully.\n",
      "         Current function value: 0.055606\n",
      "         Iterations 21\n",
      "                           Logit Regression Results                           \n",
      "==============================================================================\n",
      "Dep. Variable:               K_Scatch   No. Observations:                 1941\n",
      "Model:                          Logit   Df Residuals:                     1914\n",
      "Method:                           MLE   Df Model:                           26\n",
      "Date:                Thu, 13 Oct 2022   Pseudo R-squ.:                  0.8893\n",
      "Time:                        11:20:25   Log-Likelihood:                -107.93\n",
      "converged:                       True   LL-Null:                       -975.15\n",
      "Covariance Type:            nonrobust   LLR p-value:                     0.000\n",
      "=========================================================================================\n",
      "                            coef    std err          z      P>|z|      [0.025      0.975]\n",
      "-----------------------------------------------------------------------------------------\n",
      "const                     7.9932   1.27e+07    6.3e-07      1.000   -2.49e+07    2.49e+07\n",
      "X_Minimum                -0.0646      0.061     -1.067      0.286      -0.183       0.054\n",
      "X_Maximum                 0.0632      0.061      1.044      0.296      -0.055       0.182\n",
      "Y_Minimum                -0.0162      0.013     -1.226      0.220      -0.042       0.010\n",
      "Y_Maximum                 0.0162      0.013      1.226      0.220      -0.010       0.042\n",
      "Pixels_Areas              0.0017      0.001      2.788      0.005       0.001       0.003\n",
      "X_Perimeter               0.0300      0.008      3.944      0.000       0.015       0.045\n",
      "Y_Perimeter              -0.0373      0.017     -2.236      0.025      -0.070      -0.005\n",
      "Sum_of_Luminosity     -1.682e-05   6.27e-06     -2.681      0.007   -2.91e-05   -4.52e-06\n",
      "Minimum_of_Luminosity    -0.0248      0.012     -2.040      0.041      -0.049      -0.001\n",
      "Maximum_of_Luminosity     0.0005      0.019      0.029      0.977      -0.036       0.037\n",
      "Length_of_Conveyer       -0.0018      0.004     -0.404      0.686      -0.010       0.007\n",
      "TypeOfSteel_A300          4.7327   1.27e+07   3.73e-07      1.000   -2.49e+07    2.49e+07\n",
      "TypeOfSteel_A400          3.3301   1.27e+07   2.62e-07      1.000   -2.49e+07    2.49e+07\n",
      "Steel_Plate_Thickness    -0.2575      0.097     -2.658      0.008      -0.447      -0.068\n",
      "Edges_Index              -2.6033      0.964     -2.701      0.007      -4.492      -0.714\n",
      "Empty_Index             -13.2467      4.768     -2.778      0.005     -22.591      -3.902\n",
      "Square_Index              2.9832      0.924      3.229      0.001       1.172       4.794\n",
      "Outside_X_Index         -95.5002     83.009     -1.150      0.250    -258.194      67.194\n",
      "Edges_X_Index             7.3119      2.017      3.625      0.000       3.358      11.266\n",
      "Edges_Y_Index            -5.4754      2.564     -2.136      0.033     -10.500      -0.451\n",
      "Outside_Global_Index      2.8886      0.924      3.126      0.002       1.077       4.700\n",
      "LogOfAreas               -2.9010      4.454     -0.651      0.515     -11.631       5.829\n",
      "Log_X_Index              -8.3077      5.612     -1.480      0.139     -19.307       2.692\n",
      "Log_Y_Index              16.4139      4.719      3.478      0.001       7.164      25.664\n",
      "Orientation_Index       -10.5780      2.156     -4.906      0.000     -14.804      -6.352\n",
      "Luminosity_Index         15.1091      3.379      4.472      0.000       8.486      21.732\n",
      "SigmoidOfAreas            3.5560      1.547      2.299      0.022       0.524       6.588\n",
      "=========================================================================================\n",
      "\n",
      "Possibly complete quasi-separation: A fraction 0.52 of observations can be\n",
      "perfectly predicted. This might indicate that there is complete\n",
      "quasi-separation. In this case some parameters will not be identified.\n"
     ]
    },
    {
     "name": "stderr",
     "output_type": "stream",
     "text": [
      "/usr/local/lib/python3.7/dist-packages/statsmodels/tsa/tsatools.py:142: FutureWarning: In a future version of pandas all arguments of concat except for the argument 'objs' will be keyword-only\n",
      "  x = pd.concat(x[::order], 1)\n"
     ]
    }
   ],
   "source": [
    "X=data2[['X_Minimum', 'X_Maximum', 'Y_Minimum', 'Y_Maximum', 'Pixels_Areas',\n",
    "       'X_Perimeter', 'Y_Perimeter', 'Sum_of_Luminosity',\n",
    "       'Minimum_of_Luminosity', 'Maximum_of_Luminosity', 'Length_of_Conveyer',\n",
    "       'TypeOfSteel_A300', 'TypeOfSteel_A400', 'Steel_Plate_Thickness',\n",
    "       'Edges_Index', 'Empty_Index', 'Square_Index', 'Outside_X_Index',\n",
    "       'Edges_X_Index', 'Edges_Y_Index', 'Outside_Global_Index', 'LogOfAreas',\n",
    "       'Log_X_Index', 'Log_Y_Index', 'Orientation_Index', 'Luminosity_Index',\n",
    "       'SigmoidOfAreas']]\n",
    "X=sm.add_constant(X)\n",
    "log_reg = sm.Logit(data2[\"K_Scatch\"],X).fit()\n",
    "print(log_reg.summary())"
   ]
  },
  {
   "cell_type": "code",
   "execution_count": null,
   "id": "15f3c3f7",
   "metadata": {
    "colab": {
     "base_uri": "https://localhost:8080/"
    },
    "executionInfo": {
     "elapsed": 505,
     "status": "ok",
     "timestamp": 1665660043999,
     "user": {
      "displayName": "曾政夫",
      "userId": "11857764521326098280"
     },
     "user_tz": -480
    },
    "id": "15f3c3f7",
    "outputId": "fdcfab94-dfc4-4e54-e36d-588996d8156e"
   },
   "outputs": [
    {
     "name": "stdout",
     "output_type": "stream",
     "text": [
      "Optimization terminated successfully.\n",
      "         Current function value: 0.363107\n",
      "         Iterations 12\n",
      "                           Logit Regression Results                           \n",
      "==============================================================================\n",
      "Dep. Variable:                  Bumps   No. Observations:                 1941\n",
      "Model:                          Logit   Df Residuals:                     1914\n",
      "Method:                           MLE   Df Model:                           26\n",
      "Date:                Thu, 13 Oct 2022   Pseudo R-squ.:                  0.2882\n",
      "Time:                        11:20:44   Log-Likelihood:                -704.79\n",
      "converged:                       True   LL-Null:                       -990.11\n",
      "Covariance Type:            nonrobust   LLR p-value:                7.766e-104\n",
      "=========================================================================================\n",
      "                            coef    std err          z      P>|z|      [0.025      0.975]\n",
      "-----------------------------------------------------------------------------------------\n",
      "const                   -13.0168   3.32e+06  -3.92e-06      1.000    -6.5e+06     6.5e+06\n",
      "X_Minimum                 0.0441      0.050      0.879      0.379      -0.054       0.142\n",
      "X_Maximum                -0.0436      0.050     -0.870      0.384      -0.142       0.055\n",
      "Y_Minimum                 0.1252      0.023      5.342      0.000       0.079       0.171\n",
      "Y_Maximum                -0.1252      0.023     -5.342      0.000      -0.171      -0.079\n",
      "Pixels_Areas             -0.0022      0.002     -1.413      0.158      -0.005       0.001\n",
      "X_Perimeter              -0.0373      0.011     -3.287      0.001      -0.060      -0.015\n",
      "Y_Perimeter               0.0970      0.021      4.557      0.000       0.055       0.139\n",
      "Sum_of_Luminosity      1.582e-05   1.41e-05      1.122      0.262   -1.18e-05    4.34e-05\n",
      "Minimum_of_Luminosity     0.0172      0.010      1.734      0.083      -0.002       0.037\n",
      "Maximum_of_Luminosity     0.0315      0.012      2.521      0.012       0.007       0.056\n",
      "Length_of_Conveyer        0.0013      0.001      1.846      0.065   -7.93e-05       0.003\n",
      "TypeOfSteel_A300         -6.0350   3.32e+06  -1.82e-06      1.000    -6.5e+06     6.5e+06\n",
      "TypeOfSteel_A400         -6.9666   3.32e+06   -2.1e-06      1.000    -6.5e+06     6.5e+06\n",
      "Steel_Plate_Thickness    -0.0051      0.002     -3.208      0.001      -0.008      -0.002\n",
      "Edges_Index               1.1659      0.235      4.960      0.000       0.705       1.627\n",
      "Empty_Index              -3.2953      3.045     -1.082      0.279      -9.264       2.673\n",
      "Square_Index              1.1437      0.369      3.096      0.002       0.420       1.868\n",
      "Outside_X_Index          43.4036     66.951      0.648      0.517     -87.819     174.626\n",
      "Edges_X_Index            -1.8628      0.744     -2.503      0.012      -3.321      -0.404\n",
      "Edges_Y_Index             5.1532      1.001      5.145      0.000       3.190       7.116\n",
      "Outside_Global_Index      0.4553      0.331      1.375      0.169      -0.194       1.104\n",
      "LogOfAreas               -1.9522      3.785     -0.516      0.606      -9.371       5.467\n",
      "Log_X_Index               6.2231      4.181      1.488      0.137      -1.972      14.418\n",
      "Log_Y_Index               4.2860      4.020      1.066      0.286      -3.593      12.165\n",
      "Orientation_Index        -1.2111      1.149     -1.054      0.292      -3.464       1.042\n",
      "Luminosity_Index         -6.8484      2.574     -2.661      0.008     -11.894      -1.803\n",
      "SigmoidOfAreas           -0.3590      0.760     -0.472      0.637      -1.848       1.130\n",
      "=========================================================================================\n"
     ]
    },
    {
     "name": "stderr",
     "output_type": "stream",
     "text": [
      "/usr/local/lib/python3.7/dist-packages/statsmodels/discrete/discrete_model.py:1810: RuntimeWarning: overflow encountered in exp\n",
      "  return 1/(1+np.exp(-X))\n",
      "/usr/local/lib/python3.7/dist-packages/statsmodels/discrete/discrete_model.py:1810: RuntimeWarning: overflow encountered in exp\n",
      "  return 1/(1+np.exp(-X))\n"
     ]
    }
   ],
   "source": [
    "log_reg2 = sm.Logit(data2[\"Bumps\"],X).fit()\n",
    "print(log_reg2.summary())"
   ]
  },
  {
   "cell_type": "markdown",
   "id": "A8y_vlOrlKGX",
   "metadata": {
    "id": "A8y_vlOrlKGX"
   },
   "source": [
    "說明：當$x_i$增加一單位時log-odd會增加$x_i$的係數。  \n",
    "舉例：在log_reg2中，X_Minimum 上升1，log-odd增加0.0441。"
   ]
  },
  {
   "cell_type": "markdown",
   "id": "c6a778cf",
   "metadata": {
    "id": "c6a778cf"
   },
   "source": [
    "(2) 基於上述(a)的結果，將上述特徵以 t value 進行排序後，哪些特徵的迴歸係數在統計\n",
    "上是顯著的呢(p-value<0.01)？"
   ]
  },
  {
   "cell_type": "markdown",
   "id": "oPusL98LGKTa",
   "metadata": {
    "id": "oPusL98LGKTa"
   },
   "source": [
    "樣本數>30，t-value近似於z-value"
   ]
  },
  {
   "cell_type": "code",
   "execution_count": null,
   "id": "Hr9YzUjvGcNV",
   "metadata": {
    "id": "Hr9YzUjvGcNV"
   },
   "outputs": [],
   "source": [
    "cov = log_reg2.cov_params()\n",
    "std_err = np.sqrt(np.diag(cov))\n",
    "z_values = log_reg2.params / std_err"
   ]
  },
  {
   "cell_type": "code",
   "execution_count": null,
   "id": "yjqNNiNyH-KS",
   "metadata": {
    "colab": {
     "base_uri": "https://localhost:8080/",
     "height": 865
    },
    "executionInfo": {
     "elapsed": 281,
     "status": "ok",
     "timestamp": 1665661682538,
     "user": {
      "displayName": "曾政夫",
      "userId": "11857764521326098280"
     },
     "user_tz": -480
    },
    "id": "yjqNNiNyH-KS",
    "outputId": "37db55d6-c191-49f2-d537-b36c1269eb52"
   },
   "outputs": [
    {
     "data": {
      "text/html": [
       "\n",
       "  <div id=\"df-570b96ea-35f0-4216-81b8-3f1c985b6f40\">\n",
       "    <div class=\"colab-df-container\">\n",
       "      <div>\n",
       "<style scoped>\n",
       "    .dataframe tbody tr th:only-of-type {\n",
       "        vertical-align: middle;\n",
       "    }\n",
       "\n",
       "    .dataframe tbody tr th {\n",
       "        vertical-align: top;\n",
       "    }\n",
       "\n",
       "    .dataframe thead th {\n",
       "        text-align: right;\n",
       "    }\n",
       "</style>\n",
       "<table border=\"1\" class=\"dataframe\">\n",
       "  <thead>\n",
       "    <tr style=\"text-align: right;\">\n",
       "      <th></th>\n",
       "      <th>variable</th>\n",
       "      <th>z-value</th>\n",
       "      <th>p-value</th>\n",
       "      <th>p-value&lt;0.01</th>\n",
       "    </tr>\n",
       "  </thead>\n",
       "  <tbody>\n",
       "    <tr>\n",
       "      <th>3</th>\n",
       "      <td>Y_Maximum</td>\n",
       "      <td>-5.342317</td>\n",
       "      <td>9.176575e-08</td>\n",
       "      <td>True</td>\n",
       "    </tr>\n",
       "    <tr>\n",
       "      <th>5</th>\n",
       "      <td>X_Perimeter</td>\n",
       "      <td>-3.286696</td>\n",
       "      <td>1.013702e-03</td>\n",
       "      <td>True</td>\n",
       "    </tr>\n",
       "    <tr>\n",
       "      <th>13</th>\n",
       "      <td>Steel_Plate_Thickness</td>\n",
       "      <td>-3.208320</td>\n",
       "      <td>1.335128e-03</td>\n",
       "      <td>True</td>\n",
       "    </tr>\n",
       "    <tr>\n",
       "      <th>25</th>\n",
       "      <td>Luminosity_Index</td>\n",
       "      <td>-2.660547</td>\n",
       "      <td>7.801373e-03</td>\n",
       "      <td>True</td>\n",
       "    </tr>\n",
       "    <tr>\n",
       "      <th>18</th>\n",
       "      <td>Edges_X_Index</td>\n",
       "      <td>-2.503011</td>\n",
       "      <td>1.231418e-02</td>\n",
       "      <td>False</td>\n",
       "    </tr>\n",
       "    <tr>\n",
       "      <th>4</th>\n",
       "      <td>Pixels_Areas</td>\n",
       "      <td>-1.413454</td>\n",
       "      <td>1.575223e-01</td>\n",
       "      <td>False</td>\n",
       "    </tr>\n",
       "    <tr>\n",
       "      <th>15</th>\n",
       "      <td>Empty_Index</td>\n",
       "      <td>-1.082139</td>\n",
       "      <td>2.791907e-01</td>\n",
       "      <td>False</td>\n",
       "    </tr>\n",
       "    <tr>\n",
       "      <th>24</th>\n",
       "      <td>Orientation_Index</td>\n",
       "      <td>-1.053750</td>\n",
       "      <td>2.919972e-01</td>\n",
       "      <td>False</td>\n",
       "    </tr>\n",
       "    <tr>\n",
       "      <th>1</th>\n",
       "      <td>X_Maximum</td>\n",
       "      <td>-0.870222</td>\n",
       "      <td>3.841791e-01</td>\n",
       "      <td>False</td>\n",
       "    </tr>\n",
       "    <tr>\n",
       "      <th>21</th>\n",
       "      <td>LogOfAreas</td>\n",
       "      <td>-0.515731</td>\n",
       "      <td>6.060423e-01</td>\n",
       "      <td>False</td>\n",
       "    </tr>\n",
       "    <tr>\n",
       "      <th>12</th>\n",
       "      <td>TypeOfSteel_A400</td>\n",
       "      <td>-0.000002</td>\n",
       "      <td>9.999983e-01</td>\n",
       "      <td>False</td>\n",
       "    </tr>\n",
       "    <tr>\n",
       "      <th>11</th>\n",
       "      <td>TypeOfSteel_A300</td>\n",
       "      <td>-0.000002</td>\n",
       "      <td>9.999985e-01</td>\n",
       "      <td>False</td>\n",
       "    </tr>\n",
       "    <tr>\n",
       "      <th>17</th>\n",
       "      <td>Outside_X_Index</td>\n",
       "      <td>0.648286</td>\n",
       "      <td>5.167998e-01</td>\n",
       "      <td>False</td>\n",
       "    </tr>\n",
       "    <tr>\n",
       "      <th>0</th>\n",
       "      <td>X_Minimum</td>\n",
       "      <td>0.879245</td>\n",
       "      <td>3.792683e-01</td>\n",
       "      <td>False</td>\n",
       "    </tr>\n",
       "    <tr>\n",
       "      <th>23</th>\n",
       "      <td>Log_Y_Index</td>\n",
       "      <td>1.066219</td>\n",
       "      <td>2.863247e-01</td>\n",
       "      <td>False</td>\n",
       "    </tr>\n",
       "    <tr>\n",
       "      <th>7</th>\n",
       "      <td>Sum_of_Luminosity</td>\n",
       "      <td>1.122295</td>\n",
       "      <td>2.617370e-01</td>\n",
       "      <td>False</td>\n",
       "    </tr>\n",
       "    <tr>\n",
       "      <th>20</th>\n",
       "      <td>Outside_Global_Index</td>\n",
       "      <td>1.374580</td>\n",
       "      <td>1.692616e-01</td>\n",
       "      <td>False</td>\n",
       "    </tr>\n",
       "    <tr>\n",
       "      <th>22</th>\n",
       "      <td>Log_X_Index</td>\n",
       "      <td>1.488405</td>\n",
       "      <td>1.366441e-01</td>\n",
       "      <td>False</td>\n",
       "    </tr>\n",
       "    <tr>\n",
       "      <th>8</th>\n",
       "      <td>Minimum_of_Luminosity</td>\n",
       "      <td>1.734210</td>\n",
       "      <td>8.288088e-02</td>\n",
       "      <td>False</td>\n",
       "    </tr>\n",
       "    <tr>\n",
       "      <th>10</th>\n",
       "      <td>Length_of_Conveyer</td>\n",
       "      <td>1.846153</td>\n",
       "      <td>6.487006e-02</td>\n",
       "      <td>False</td>\n",
       "    </tr>\n",
       "    <tr>\n",
       "      <th>9</th>\n",
       "      <td>Maximum_of_Luminosity</td>\n",
       "      <td>2.521005</td>\n",
       "      <td>1.170201e-02</td>\n",
       "      <td>False</td>\n",
       "    </tr>\n",
       "    <tr>\n",
       "      <th>16</th>\n",
       "      <td>Square_Index</td>\n",
       "      <td>3.096451</td>\n",
       "      <td>1.958524e-03</td>\n",
       "      <td>True</td>\n",
       "    </tr>\n",
       "    <tr>\n",
       "      <th>6</th>\n",
       "      <td>Y_Perimeter</td>\n",
       "      <td>4.556501</td>\n",
       "      <td>5.201271e-06</td>\n",
       "      <td>True</td>\n",
       "    </tr>\n",
       "    <tr>\n",
       "      <th>14</th>\n",
       "      <td>Edges_Index</td>\n",
       "      <td>4.959895</td>\n",
       "      <td>7.053116e-07</td>\n",
       "      <td>True</td>\n",
       "    </tr>\n",
       "    <tr>\n",
       "      <th>19</th>\n",
       "      <td>Edges_Y_Index</td>\n",
       "      <td>5.145496</td>\n",
       "      <td>2.668155e-07</td>\n",
       "      <td>True</td>\n",
       "    </tr>\n",
       "    <tr>\n",
       "      <th>2</th>\n",
       "      <td>Y_Minimum</td>\n",
       "      <td>5.342323</td>\n",
       "      <td>9.176306e-08</td>\n",
       "      <td>True</td>\n",
       "    </tr>\n",
       "  </tbody>\n",
       "</table>\n",
       "</div>\n",
       "      <button class=\"colab-df-convert\" onclick=\"convertToInteractive('df-570b96ea-35f0-4216-81b8-3f1c985b6f40')\"\n",
       "              title=\"Convert this dataframe to an interactive table.\"\n",
       "              style=\"display:none;\">\n",
       "        \n",
       "  <svg xmlns=\"http://www.w3.org/2000/svg\" height=\"24px\"viewBox=\"0 0 24 24\"\n",
       "       width=\"24px\">\n",
       "    <path d=\"M0 0h24v24H0V0z\" fill=\"none\"/>\n",
       "    <path d=\"M18.56 5.44l.94 2.06.94-2.06 2.06-.94-2.06-.94-.94-2.06-.94 2.06-2.06.94zm-11 1L8.5 8.5l.94-2.06 2.06-.94-2.06-.94L8.5 2.5l-.94 2.06-2.06.94zm10 10l.94 2.06.94-2.06 2.06-.94-2.06-.94-.94-2.06-.94 2.06-2.06.94z\"/><path d=\"M17.41 7.96l-1.37-1.37c-.4-.4-.92-.59-1.43-.59-.52 0-1.04.2-1.43.59L10.3 9.45l-7.72 7.72c-.78.78-.78 2.05 0 2.83L4 21.41c.39.39.9.59 1.41.59.51 0 1.02-.2 1.41-.59l7.78-7.78 2.81-2.81c.8-.78.8-2.07 0-2.86zM5.41 20L4 18.59l7.72-7.72 1.47 1.35L5.41 20z\"/>\n",
       "  </svg>\n",
       "      </button>\n",
       "      \n",
       "  <style>\n",
       "    .colab-df-container {\n",
       "      display:flex;\n",
       "      flex-wrap:wrap;\n",
       "      gap: 12px;\n",
       "    }\n",
       "\n",
       "    .colab-df-convert {\n",
       "      background-color: #E8F0FE;\n",
       "      border: none;\n",
       "      border-radius: 50%;\n",
       "      cursor: pointer;\n",
       "      display: none;\n",
       "      fill: #1967D2;\n",
       "      height: 32px;\n",
       "      padding: 0 0 0 0;\n",
       "      width: 32px;\n",
       "    }\n",
       "\n",
       "    .colab-df-convert:hover {\n",
       "      background-color: #E2EBFA;\n",
       "      box-shadow: 0px 1px 2px rgba(60, 64, 67, 0.3), 0px 1px 3px 1px rgba(60, 64, 67, 0.15);\n",
       "      fill: #174EA6;\n",
       "    }\n",
       "\n",
       "    [theme=dark] .colab-df-convert {\n",
       "      background-color: #3B4455;\n",
       "      fill: #D2E3FC;\n",
       "    }\n",
       "\n",
       "    [theme=dark] .colab-df-convert:hover {\n",
       "      background-color: #434B5C;\n",
       "      box-shadow: 0px 1px 3px 1px rgba(0, 0, 0, 0.15);\n",
       "      filter: drop-shadow(0px 1px 2px rgba(0, 0, 0, 0.3));\n",
       "      fill: #FFFFFF;\n",
       "    }\n",
       "  </style>\n",
       "\n",
       "      <script>\n",
       "        const buttonEl =\n",
       "          document.querySelector('#df-570b96ea-35f0-4216-81b8-3f1c985b6f40 button.colab-df-convert');\n",
       "        buttonEl.style.display =\n",
       "          google.colab.kernel.accessAllowed ? 'block' : 'none';\n",
       "\n",
       "        async function convertToInteractive(key) {\n",
       "          const element = document.querySelector('#df-570b96ea-35f0-4216-81b8-3f1c985b6f40');\n",
       "          const dataTable =\n",
       "            await google.colab.kernel.invokeFunction('convertToInteractive',\n",
       "                                                     [key], {});\n",
       "          if (!dataTable) return;\n",
       "\n",
       "          const docLinkHtml = 'Like what you see? Visit the ' +\n",
       "            '<a target=\"_blank\" href=https://colab.research.google.com/notebooks/data_table.ipynb>data table notebook</a>'\n",
       "            + ' to learn more about interactive tables.';\n",
       "          element.innerHTML = '';\n",
       "          dataTable['output_type'] = 'display_data';\n",
       "          await google.colab.output.renderOutput(dataTable, element);\n",
       "          const docLink = document.createElement('div');\n",
       "          docLink.innerHTML = docLinkHtml;\n",
       "          element.appendChild(docLink);\n",
       "        }\n",
       "      </script>\n",
       "    </div>\n",
       "  </div>\n",
       "  "
      ],
      "text/plain": [
       "                 variable   z-value       p-value  p-value<0.01\n",
       "3               Y_Maximum -5.342317  9.176575e-08          True\n",
       "5             X_Perimeter -3.286696  1.013702e-03          True\n",
       "13  Steel_Plate_Thickness -3.208320  1.335128e-03          True\n",
       "25       Luminosity_Index -2.660547  7.801373e-03          True\n",
       "18          Edges_X_Index -2.503011  1.231418e-02         False\n",
       "4            Pixels_Areas -1.413454  1.575223e-01         False\n",
       "15            Empty_Index -1.082139  2.791907e-01         False\n",
       "24      Orientation_Index -1.053750  2.919972e-01         False\n",
       "1               X_Maximum -0.870222  3.841791e-01         False\n",
       "21             LogOfAreas -0.515731  6.060423e-01         False\n",
       "12       TypeOfSteel_A400 -0.000002  9.999983e-01         False\n",
       "11       TypeOfSteel_A300 -0.000002  9.999985e-01         False\n",
       "17        Outside_X_Index  0.648286  5.167998e-01         False\n",
       "0               X_Minimum  0.879245  3.792683e-01         False\n",
       "23            Log_Y_Index  1.066219  2.863247e-01         False\n",
       "7       Sum_of_Luminosity  1.122295  2.617370e-01         False\n",
       "20   Outside_Global_Index  1.374580  1.692616e-01         False\n",
       "22            Log_X_Index  1.488405  1.366441e-01         False\n",
       "8   Minimum_of_Luminosity  1.734210  8.288088e-02         False\n",
       "10     Length_of_Conveyer  1.846153  6.487006e-02         False\n",
       "9   Maximum_of_Luminosity  2.521005  1.170201e-02         False\n",
       "16           Square_Index  3.096451  1.958524e-03          True\n",
       "6             Y_Perimeter  4.556501  5.201271e-06          True\n",
       "14            Edges_Index  4.959895  7.053116e-07          True\n",
       "19          Edges_Y_Index  5.145496  2.668155e-07          True\n",
       "2               Y_Minimum  5.342323  9.176306e-08          True"
      ]
     },
     "execution_count": 36,
     "metadata": {},
     "output_type": "execute_result"
    }
   ],
   "source": [
    "s=[]\n",
    "z=[]\n",
    "p=[]\n",
    "j=[]\n",
    "for i in range(len(log_reg2.pvalues)-1):\n",
    "    if (i==0):\n",
    "        \n",
    "        pass\n",
    "    else:\n",
    "        s.append(X.columns[i])\n",
    "        z.append(z_values[i])\n",
    "        p.append(log_reg2.pvalues[i])\n",
    "        if(log_reg2.pvalues[i]<0.01):j.append(True)\n",
    "        else:j.append(False)\n",
    "rank={\n",
    "    \"variable\":s,\n",
    "    \"z-value\":z,\n",
    "    \"p-value\":p,\n",
    "    \"p-value<0.01\":j\n",
    "}\n",
    "rank=pd.DataFrame(rank)\n",
    "rank=rank.sort_values([\"z-value\"],ascending=True)\n",
    "rank"
   ]
  },
  {
   "cell_type": "markdown",
   "id": "0914d271",
   "metadata": {
    "id": "0914d271"
   },
   "source": [
    "(3) 試問配適一個羅吉斯迴歸模型是否合適？試若配適不佳，試說明其可能的原因為\n",
    "何？"
   ]
  },
  {
   "cell_type": "code",
   "execution_count": null,
   "id": "TFzEwhi-Vh8e",
   "metadata": {
    "id": "TFzEwhi-Vh8e"
   },
   "outputs": [],
   "source": []
  },
  {
   "cell_type": "markdown",
   "id": "503177ff",
   "metadata": {
    "id": "503177ff"
   },
   "source": [
    "(4) 試問配適一個線性判別分析模型是否合適？若配適不佳，試說明其可能的原因為\n",
    "何？"
   ]
  },
  {
   "cell_type": "code",
   "execution_count": null,
   "id": "eF9OZ36DYy_o",
   "metadata": {
    "id": "eF9OZ36DYy_o"
   },
   "outputs": [],
   "source": []
  },
  {
   "cell_type": "markdown",
   "id": "c567ee89",
   "metadata": {
    "id": "c567ee89"
   },
   "source": [
    "(5) 試問配適一個二次判別分析模型是否合適？若配適不佳，試說明其可能的原因為\n",
    "何？"
   ]
  },
  {
   "cell_type": "code",
   "execution_count": null,
   "id": "c480cbc8",
   "metadata": {
    "id": "c480cbc8"
   },
   "outputs": [],
   "source": []
  }
 ],
 "metadata": {
  "colab": {
   "collapsed_sections": [],
   "provenance": []
  },
  "kernelspec": {
   "display_name": "Python 3",
   "language": "python",
   "name": "python3"
  },
  "language_info": {
   "codemirror_mode": {
    "name": "ipython",
    "version": 3
   },
   "file_extension": ".py",
   "mimetype": "text/x-python",
   "name": "python",
   "nbconvert_exporter": "python",
   "pygments_lexer": "ipython3",
   "version": "3.8.10"
  }
 },
 "nbformat": 4,
 "nbformat_minor": 5
}
