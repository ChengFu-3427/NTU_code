{
 "cells": [
  {
   "cell_type": "markdown",
   "id": "34c42125",
   "metadata": {},
   "source": [
    "## Problem 1\n",
    "市場調查飲料口味不同，其銷售量是否有別，在某地區同一飲料有 3 種不同口味，今隨機調查各口味每日銷售量如下(單位:打)，  \n",
    "(a) 比較消費者對不同口味的飲料喜好是否有顯著差異。(15％) "
   ]
  },
  {
   "cell_type": "code",
   "execution_count": 16,
   "id": "719ca8d1",
   "metadata": {},
   "outputs": [
    {
     "data": {
      "text/html": [
       "<table>\n",
       "<thead><tr><th></th><th scope=col>Df</th><th scope=col>Sum Sq</th><th scope=col>Mean Sq</th><th scope=col>F value</th><th scope=col>Pr(&gt;F)</th></tr></thead>\n",
       "<tbody>\n",
       "\t<tr><th scope=row>group</th><td> 2        </td><td>18.56652  </td><td>9.2832619 </td><td>10.91423  </td><td>0.00118661</td></tr>\n",
       "\t<tr><th scope=row>Residuals</th><td>15        </td><td>12.75848  </td><td>0.8505651 </td><td>      NA  </td><td>        NA</td></tr>\n",
       "</tbody>\n",
       "</table>\n"
      ],
      "text/latex": [
       "\\begin{tabular}{r|lllll}\n",
       "  & Df & Sum Sq & Mean Sq & F value & Pr(>F)\\\\\n",
       "\\hline\n",
       "\tgroup &  2         & 18.56652   & 9.2832619  & 10.91423   & 0.00118661\\\\\n",
       "\tResiduals & 15         & 12.75848   & 0.8505651  &       NA   &         NA\\\\\n",
       "\\end{tabular}\n"
      ],
      "text/markdown": [
       "\n",
       "| <!--/--> | Df | Sum Sq | Mean Sq | F value | Pr(>F) |\n",
       "|---|---|---|---|---|---|\n",
       "| group |  2         | 18.56652   | 9.2832619  | 10.91423   | 0.00118661 |\n",
       "| Residuals | 15         | 12.75848   | 0.8505651  |       NA   |         NA |\n",
       "\n"
      ],
      "text/plain": [
       "          Df Sum Sq   Mean Sq   F value  Pr(>F)    \n",
       "group      2 18.56652 9.2832619 10.91423 0.00118661\n",
       "Residuals 15 12.75848 0.8505651       NA         NA"
      ]
     },
     "metadata": {},
     "output_type": "display_data"
    }
   ],
   "source": [
    "orange <- c(10.3,10.2,9.7,8.5,10.6,9.2,11.2)\n",
    "strawberry <- c(11.2,12.3,11.2,11.1,10.5,9.9,NA)\n",
    "lemon <- c(13.5,12.6,10.8,12.2,13.3,NA,NA)\n",
    "y <- c(orange,strawberry,lemon)\n",
    "n <- rep(7,3)\n",
    "group.vec <- c(\"1orange\",\"2strawberry\",\"3lemon\")\n",
    "group <- rep(group.vec ,n)\n",
    "data = data.frame(y = y, group = factor(group))\n",
    "fit = lm(y ~ group, data)\n",
    "anova(fit)"
   ]
  },
  {
   "cell_type": "markdown",
   "id": "474090b6",
   "metadata": {},
   "source": [
    "在顯著水準為0.05的情況下，消費者對不同口味的飲料喜好的確有差異"
   ]
  },
  {
   "cell_type": "markdown",
   "id": "890a1f0d",
   "metadata": {},
   "source": [
    "(b) 若有顯著差異，則請進一步以正交對比(orthogonal contrast)找出顯著差異在哪些口味間，請附上程式碼、輸出結果，並加以解釋。(15%)"
   ]
  },
  {
   "cell_type": "code",
   "execution_count": 20,
   "id": "b166189f",
   "metadata": {},
   "outputs": [
    {
     "data": {
      "text/plain": [
       "                              Df Sum Sq Mean Sq F value  Pr(>F)   \n",
       "group                          2 18.567   9.283  10.914 0.00119 **\n",
       "  group: orange vs strawberry  1  3.742   3.742   4.399 0.05331 . \n",
       "Residuals                     15 12.758   0.851                   \n",
       "---\n",
       "Signif. codes:  0 '***' 0.001 '**' 0.01 '*' 0.05 '.' 0.1 ' ' 1\n",
       "3 observations deleted due to missingness"
      ]
     },
     "metadata": {},
     "output_type": "display_data"
    }
   ],
   "source": [
    "c1<-c(6,-7,0); # \n",
    "c2<-c(0,0,1); #\n",
    "mat<-cbind(c1,c2);\n",
    "# Assign the matrix to the classification variable, treat.\n",
    "contrasts(data$group)<-mat\n",
    "contrast.mod<-aov(y~group,data);\n",
    "summary(contrast.mod,split=list(group=list(\"orange vs strawberry\"=1)));"
   ]
  },
  {
   "cell_type": "code",
   "execution_count": 27,
   "id": "8e2dd68d",
   "metadata": {},
   "outputs": [
    {
     "data": {
      "text/plain": [
       "                         Df Sum Sq Mean Sq F value   Pr(>F)    \n",
       "group                     2  18.57   9.283   10.91 0.001187 ** \n",
       "  group: orange vs lemon  1  18.56  18.564   21.83 0.000301 ***\n",
       "Residuals                15  12.76   0.851                     \n",
       "---\n",
       "Signif. codes:  0 '***' 0.001 '**' 0.01 '*' 0.05 '.' 0.1 ' ' 1\n",
       "3 observations deleted due to missingness"
      ]
     },
     "metadata": {},
     "output_type": "display_data"
    }
   ],
   "source": [
    "c1<-c(5,0,-7); # \n",
    "c2<-c(0,1,0); #\n",
    "mat<-cbind(c1,c2);\n",
    "# Assign the matrix to the classification variable, treat.\n",
    "contrasts(data$group)<-mat\n",
    "contrast.mod<-aov(y~group,data);\n",
    "summary(contrast.mod,split=list(group=list(\"orange vs lemon\"=1)));"
   ]
  },
  {
   "cell_type": "code",
   "execution_count": 23,
   "id": "38c892a5",
   "metadata": {},
   "outputs": [
    {
     "data": {
      "text/plain": [
       "                             Df Sum Sq Mean Sq F value  Pr(>F)   \n",
       "group                         2 18.567   9.283  10.914 0.00119 **\n",
       "  group: strawberry vs lemon  1  5.708   5.708   6.711 0.02048 * \n",
       "Residuals                    15 12.758   0.851                   \n",
       "---\n",
       "Signif. codes:  0 '***' 0.001 '**' 0.01 '*' 0.05 '.' 0.1 ' ' 1\n",
       "3 observations deleted due to missingness"
      ]
     },
     "metadata": {},
     "output_type": "display_data"
    }
   ],
   "source": [
    "c1<-c(0,5,-6); # \n",
    "c2<-c(1,0,0); #\n",
    "mat<-cbind(c1,c2);\n",
    "# Assign the matrix to the classification variable, treat.\n",
    "contrasts(data$group)<-mat\n",
    "contrast.mod<-aov(y~group,data);\n",
    "summary(contrast.mod,split=list(group=list(\"strawberry vs lemon\"=1)));"
   ]
  },
  {
   "cell_type": "markdown",
   "id": "2c067b92",
   "metadata": {},
   "source": [
    "在使用正交對比的情況下，橘子和檸檬，草莓和檸檬口味有顯著差異。"
   ]
  },
  {
   "cell_type": "markdown",
   "id": "d504f56c",
   "metadata": {},
   "source": [
    "# Problem 2\n",
    "The yield of a chemical process was measured using five batches of raw material, five acid concentrations, five standing times (A, B, C, D, E), and five catalyst concentrations (α, β, γ, δ, ϵ). The Graeco-Latin square that follows was used. Analyze the data from this experiment (use 𝛼 = 0.05) and draw conclusions. (20%)"
   ]
  },
  {
   "cell_type": "code",
   "execution_count": 36,
   "id": "d21f9b38",
   "metadata": {},
   "outputs": [
    {
     "data": {
      "text/html": [
       "<table>\n",
       "<thead><tr><th scope=col>treat1</th><th scope=col>treat2</th><th scope=col>batch</th><th scope=col>acid</th><th scope=col>obs</th></tr></thead>\n",
       "<tbody>\n",
       "\t<tr><td>A      </td><td>alpha  </td><td>1      </td><td>1      </td><td>26     </td></tr>\n",
       "\t<tr><td>B      </td><td>beta   </td><td>1      </td><td>2      </td><td>16     </td></tr>\n",
       "\t<tr><td>C      </td><td>gamma  </td><td>1      </td><td>3      </td><td>19     </td></tr>\n",
       "\t<tr><td>D      </td><td>delta  </td><td>1      </td><td>4      </td><td>16     </td></tr>\n",
       "\t<tr><td>E      </td><td>epsilon</td><td>1      </td><td>5      </td><td>13     </td></tr>\n",
       "\t<tr><td>B      </td><td>gamma  </td><td>2      </td><td>1      </td><td>18     </td></tr>\n",
       "\t<tr><td>C      </td><td>delta  </td><td>2      </td><td>2      </td><td>21     </td></tr>\n",
       "\t<tr><td>D      </td><td>epsilon</td><td>2      </td><td>3      </td><td>18     </td></tr>\n",
       "\t<tr><td>E      </td><td>alpha  </td><td>2      </td><td>4      </td><td>11     </td></tr>\n",
       "\t<tr><td>A      </td><td>beta   </td><td>2      </td><td>5      </td><td>21     </td></tr>\n",
       "\t<tr><td>C      </td><td>epsilon</td><td>3      </td><td>1      </td><td>20     </td></tr>\n",
       "\t<tr><td>D      </td><td>alpha  </td><td>3      </td><td>2      </td><td>12     </td></tr>\n",
       "\t<tr><td>E      </td><td>beta   </td><td>3      </td><td>3      </td><td>16     </td></tr>\n",
       "\t<tr><td>A      </td><td>gamma  </td><td>3      </td><td>4      </td><td>25     </td></tr>\n",
       "\t<tr><td>B      </td><td>delta  </td><td>3      </td><td>5      </td><td>13     </td></tr>\n",
       "\t<tr><td>D      </td><td>beta   </td><td>4      </td><td>1      </td><td>15     </td></tr>\n",
       "\t<tr><td>E      </td><td>gamma  </td><td>4      </td><td>2      </td><td>15     </td></tr>\n",
       "\t<tr><td>A      </td><td>delta  </td><td>4      </td><td>3      </td><td>22     </td></tr>\n",
       "\t<tr><td>B      </td><td>epsilon</td><td>4      </td><td>4      </td><td>14     </td></tr>\n",
       "\t<tr><td>C      </td><td>alpha  </td><td>4      </td><td>5      </td><td>17     </td></tr>\n",
       "\t<tr><td>E      </td><td>delta  </td><td>5      </td><td>1      </td><td>10     </td></tr>\n",
       "\t<tr><td>A      </td><td>epsilon</td><td>5      </td><td>2      </td><td>24     </td></tr>\n",
       "\t<tr><td>B      </td><td>alpha  </td><td>5      </td><td>3      </td><td>17     </td></tr>\n",
       "\t<tr><td>C      </td><td>beta   </td><td>5      </td><td>4      </td><td>17     </td></tr>\n",
       "\t<tr><td>D      </td><td>gamma  </td><td>5      </td><td>5      </td><td>14     </td></tr>\n",
       "</tbody>\n",
       "</table>\n"
      ],
      "text/latex": [
       "\\begin{tabular}{r|lllll}\n",
       " treat1 & treat2 & batch & acid & obs\\\\\n",
       "\\hline\n",
       "\t A       & alpha   & 1       & 1       & 26     \\\\\n",
       "\t B       & beta    & 1       & 2       & 16     \\\\\n",
       "\t C       & gamma   & 1       & 3       & 19     \\\\\n",
       "\t D       & delta   & 1       & 4       & 16     \\\\\n",
       "\t E       & epsilon & 1       & 5       & 13     \\\\\n",
       "\t B       & gamma   & 2       & 1       & 18     \\\\\n",
       "\t C       & delta   & 2       & 2       & 21     \\\\\n",
       "\t D       & epsilon & 2       & 3       & 18     \\\\\n",
       "\t E       & alpha   & 2       & 4       & 11     \\\\\n",
       "\t A       & beta    & 2       & 5       & 21     \\\\\n",
       "\t C       & epsilon & 3       & 1       & 20     \\\\\n",
       "\t D       & alpha   & 3       & 2       & 12     \\\\\n",
       "\t E       & beta    & 3       & 3       & 16     \\\\\n",
       "\t A       & gamma   & 3       & 4       & 25     \\\\\n",
       "\t B       & delta   & 3       & 5       & 13     \\\\\n",
       "\t D       & beta    & 4       & 1       & 15     \\\\\n",
       "\t E       & gamma   & 4       & 2       & 15     \\\\\n",
       "\t A       & delta   & 4       & 3       & 22     \\\\\n",
       "\t B       & epsilon & 4       & 4       & 14     \\\\\n",
       "\t C       & alpha   & 4       & 5       & 17     \\\\\n",
       "\t E       & delta   & 5       & 1       & 10     \\\\\n",
       "\t A       & epsilon & 5       & 2       & 24     \\\\\n",
       "\t B       & alpha   & 5       & 3       & 17     \\\\\n",
       "\t C       & beta    & 5       & 4       & 17     \\\\\n",
       "\t D       & gamma   & 5       & 5       & 14     \\\\\n",
       "\\end{tabular}\n"
      ],
      "text/markdown": [
       "\n",
       "| treat1 | treat2 | batch | acid | obs |\n",
       "|---|---|---|---|---|\n",
       "| A       | alpha   | 1       | 1       | 26      |\n",
       "| B       | beta    | 1       | 2       | 16      |\n",
       "| C       | gamma   | 1       | 3       | 19      |\n",
       "| D       | delta   | 1       | 4       | 16      |\n",
       "| E       | epsilon | 1       | 5       | 13      |\n",
       "| B       | gamma   | 2       | 1       | 18      |\n",
       "| C       | delta   | 2       | 2       | 21      |\n",
       "| D       | epsilon | 2       | 3       | 18      |\n",
       "| E       | alpha   | 2       | 4       | 11      |\n",
       "| A       | beta    | 2       | 5       | 21      |\n",
       "| C       | epsilon | 3       | 1       | 20      |\n",
       "| D       | alpha   | 3       | 2       | 12      |\n",
       "| E       | beta    | 3       | 3       | 16      |\n",
       "| A       | gamma   | 3       | 4       | 25      |\n",
       "| B       | delta   | 3       | 5       | 13      |\n",
       "| D       | beta    | 4       | 1       | 15      |\n",
       "| E       | gamma   | 4       | 2       | 15      |\n",
       "| A       | delta   | 4       | 3       | 22      |\n",
       "| B       | epsilon | 4       | 4       | 14      |\n",
       "| C       | alpha   | 4       | 5       | 17      |\n",
       "| E       | delta   | 5       | 1       | 10      |\n",
       "| A       | epsilon | 5       | 2       | 24      |\n",
       "| B       | alpha   | 5       | 3       | 17      |\n",
       "| C       | beta    | 5       | 4       | 17      |\n",
       "| D       | gamma   | 5       | 5       | 14      |\n",
       "\n"
      ],
      "text/plain": [
       "   treat1 treat2  batch acid obs\n",
       "1  A      alpha   1     1    26 \n",
       "2  B      beta    1     2    16 \n",
       "3  C      gamma   1     3    19 \n",
       "4  D      delta   1     4    16 \n",
       "5  E      epsilon 1     5    13 \n",
       "6  B      gamma   2     1    18 \n",
       "7  C      delta   2     2    21 \n",
       "8  D      epsilon 2     3    18 \n",
       "9  E      alpha   2     4    11 \n",
       "10 A      beta    2     5    21 \n",
       "11 C      epsilon 3     1    20 \n",
       "12 D      alpha   3     2    12 \n",
       "13 E      beta    3     3    16 \n",
       "14 A      gamma   3     4    25 \n",
       "15 B      delta   3     5    13 \n",
       "16 D      beta    4     1    15 \n",
       "17 E      gamma   4     2    15 \n",
       "18 A      delta   4     3    22 \n",
       "19 B      epsilon 4     4    14 \n",
       "20 C      alpha   4     5    17 \n",
       "21 E      delta   5     1    10 \n",
       "22 A      epsilon 5     2    24 \n",
       "23 B      alpha   5     3    17 \n",
       "24 C      beta    5     4    17 \n",
       "25 D      gamma   5     5    14 "
      ]
     },
     "metadata": {},
     "output_type": "display_data"
    }
   ],
   "source": [
    "acid<-rep(c(1:5),5);\n",
    "batch<-rep(c(1:5),each=5);\n",
    "treat1<-\n",
    "c(\"A\",\"B\",\"C\",\"D\",\"E\",\n",
    "\"B\",\"C\",\"D\",\"E\",\"A\",\n",
    "\"C\",\"D\",\"E\",\"A\",\"B\",\n",
    "\"D\",\"E\",\"A\",\"B\",\"C\",\n",
    "\"E\",\"A\",\"B\",\"C\",\"D\");\n",
    "obs<-\n",
    "c(26,16,19,16,13,\n",
    "18,21,18,11,21,\n",
    "20,12,16,25,13,\n",
    "15,15,22,14,17,\n",
    "10,24,17,17,14);\n",
    "treat2 <- \n",
    "c(\"alpha\",\"beta\",\"gamma\",\"delta\",\"epsilon\",\n",
    "\"gamma\",\"delta\",\"epsilon\",\"alpha\",\"beta\",\n",
    "\"epsilon\",\"alpha\",\"beta\",\"gamma\",\"delta\",\n",
    "\"beta\",\"gamma\",\"delta\",\"epsilon\",\"alpha\",\n",
    "\"delta\",\"epsilon\",\"alpha\",\"beta\",\"gamma\")\n",
    "data<-data.frame(treat1,treat2,batch,acid,obs);\n",
    "data"
   ]
  },
  {
   "cell_type": "code",
   "execution_count": 37,
   "id": "ebf1269e",
   "metadata": {},
   "outputs": [
    {
     "data": {
      "text/html": [
       "<table>\n",
       "<thead><tr><th></th><th scope=col>Df</th><th scope=col>Sum Sq</th><th scope=col>Mean Sq</th><th scope=col>F value</th><th scope=col>Pr(&gt;F)</th></tr></thead>\n",
       "<tbody>\n",
       "\t<tr><th scope=row>factor(treat1)</th><td>4           </td><td>342.8       </td><td>85.70       </td><td>14.6495726  </td><td>0.0009410197</td></tr>\n",
       "\t<tr><th scope=row>factor(treat2)</th><td>4           </td><td> 12.0       </td><td> 3.00       </td><td> 0.5128205  </td><td>0.7289001416</td></tr>\n",
       "\t<tr><th scope=row>factor(batch)</th><td>4           </td><td> 10.0       </td><td> 2.50       </td><td> 0.4273504  </td><td>0.7854473722</td></tr>\n",
       "\t<tr><th scope=row>factor(acid)</th><td>4           </td><td> 24.4       </td><td> 6.10       </td><td> 1.0427350  </td><td>0.4425434186</td></tr>\n",
       "\t<tr><th scope=row>Residuals</th><td>8           </td><td> 46.8       </td><td> 5.85       </td><td>        NA  </td><td>          NA</td></tr>\n",
       "</tbody>\n",
       "</table>\n"
      ],
      "text/latex": [
       "\\begin{tabular}{r|lllll}\n",
       "  & Df & Sum Sq & Mean Sq & F value & Pr(>F)\\\\\n",
       "\\hline\n",
       "\tfactor(treat1) & 4            & 342.8        & 85.70        & 14.6495726   & 0.0009410197\\\\\n",
       "\tfactor(treat2) & 4            &  12.0        &  3.00        &  0.5128205   & 0.7289001416\\\\\n",
       "\tfactor(batch) & 4            &  10.0        &  2.50        &  0.4273504   & 0.7854473722\\\\\n",
       "\tfactor(acid) & 4            &  24.4        &  6.10        &  1.0427350   & 0.4425434186\\\\\n",
       "\tResiduals & 8            &  46.8        &  5.85        &         NA   &           NA\\\\\n",
       "\\end{tabular}\n"
      ],
      "text/markdown": [
       "\n",
       "| <!--/--> | Df | Sum Sq | Mean Sq | F value | Pr(>F) |\n",
       "|---|---|---|---|---|---|\n",
       "| factor(treat1) | 4            | 342.8        | 85.70        | 14.6495726   | 0.0009410197 |\n",
       "| factor(treat2) | 4            |  12.0        |  3.00        |  0.5128205   | 0.7289001416 |\n",
       "| factor(batch) | 4            |  10.0        |  2.50        |  0.4273504   | 0.7854473722 |\n",
       "| factor(acid) | 4            |  24.4        |  6.10        |  1.0427350   | 0.4425434186 |\n",
       "| Residuals | 8            |  46.8        |  5.85        |         NA   |           NA |\n",
       "\n"
      ],
      "text/plain": [
       "               Df Sum Sq Mean Sq F value    Pr(>F)      \n",
       "factor(treat1) 4  342.8  85.70   14.6495726 0.0009410197\n",
       "factor(treat2) 4   12.0   3.00    0.5128205 0.7289001416\n",
       "factor(batch)  4   10.0   2.50    0.4273504 0.7854473722\n",
       "factor(acid)   4   24.4   6.10    1.0427350 0.4425434186\n",
       "Residuals      8   46.8   5.85           NA           NA"
      ]
     },
     "metadata": {},
     "output_type": "display_data"
    }
   ],
   "source": [
    "data.mod<-lm(obs~ factor(treat1) + factor(treat2) +factor(batch) +factor(acid),data=data);\n",
    "anova(data.mod);"
   ]
  },
  {
   "cell_type": "markdown",
   "id": "1a7c2dea",
   "metadata": {},
   "source": [
    "由Graeco-Latin square 的分析得出，在顯著水準為0.05的情況下，只有standing times會導致產量在統計上有顯著的不同。"
   ]
  }
 ],
 "metadata": {
  "kernelspec": {
   "display_name": "R",
   "language": "R",
   "name": "ir"
  },
  "language_info": {
   "codemirror_mode": "r",
   "file_extension": ".r",
   "mimetype": "text/x-r-source",
   "name": "R",
   "pygments_lexer": "r",
   "version": "3.6.1"
  }
 },
 "nbformat": 4,
 "nbformat_minor": 5
}
