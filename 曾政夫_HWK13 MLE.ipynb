{
 "cells": [
  {
   "cell_type": "markdown",
   "id": "b1c09b56",
   "metadata": {},
   "source": [
    "# Homework on MLE\n"
   ]
  },
  {
   "cell_type": "code",
   "execution_count": 1,
   "id": "c6ddc9b5",
   "metadata": {},
   "outputs": [],
   "source": [
    "using Distributions, Plots, LinearAlgebra, ForwardDiff, Optim\n",
    "using DataFrames, CSV"
   ]
  },
  {
   "cell_type": "markdown",
   "id": "4ff1e081",
   "metadata": {},
   "source": [
    "#####   Estimate a Normal-Half Normal Model.\n",
    "\n",
    "Consider the Model A below:\n",
    "\n",
    "\\begin{aligned}\n",
    " y_i & = \\alpha + x_i' \\beta + v_i - u_i,\\\\\n",
    " v_i & \\sim N(0, \\sigma_v^2), \\\\\n",
    " u_i & \\sim N^+(0, \\sigma_u^2).\n",
    "\\end{aligned}\n",
    " \n",
    " \n",
    "The following is Model A's log-likelihood function of the $i$th observation. \n",
    "\n",
    "\\begin{align}\n",
    "L_i = - \\ln \\left(\\frac{1}{2}\\right) -\\frac{1}{2}\\ln (\\sigma_v^2 + \\sigma_u^2) + \\ln\n",
    "\\phi\\left(\\frac{\\epsilon_i}{\\sqrt{\\sigma_v^2 + \\sigma_u^2}} \\right) +\n",
    "\\ln \\Phi\\left(\\frac{\\mu_{*i}}{\\sigma_*} \\right),\n",
    "\\end{align}\n",
    "\n",
    "where $\\phi(z)$ and $\\Phi(z)$ are the PDF and CDF of a standard normal distribution. Also,\n",
    "\n",
    "\\begin{aligned}\n",
    " \\mu_{*i}  = \\frac{-\\sigma_u^2 \\epsilon_i}{\\sigma_v^2 + \\sigma_u^2},\\qquad\n",
    " \\sigma_*^2  = \\frac{\\sigma_v^2  \\sigma_u^2}{\\sigma_v^2 + \\sigma_u^2}. \n",
    "\\end{aligned}\n",
    "\n",
    "\n",
    "The attached dataset, `sampledata.csv`, contains data of agricultural production from India. The variables are the follows. They have been converted to appropriate units (taking log, etc.) so no further data processing is necessary.\n",
    "\n",
    "\n",
    "|          |  |        |\n",
    "|-------------------------------------|---|---------------------|\n",
    "| yvar: rice output                   |   | Lland: land         |\n",
    "| Plland: irrigated land              |   | Llabor: labor       |\n",
    "| Lbull: bull cost                    |   | Lcost: other costs  |\n",
    "| yr: production year                 |   | age: age of farmers |\n",
    "| school: farmers' years of schooling |   | yr_1: same as year  |\n",
    "\n",
    "\n",
    "The Indian farming model is the follows.\n",
    "\n",
    "$yvar_i = \\alpha + \\beta_1 Lland_i + \\beta_2 Plland_i + \\beta_3 Llabor_i + \\beta_4 Lbull_i + \\beta_5 Lcost_i + \\beta_6 yr_i + v_i - u_i$.\n",
    "  \n",
    "You may use the following code to read in the data.\n",
    "\n",
    "```julia\n",
    "####################\n",
    "using DataFrames, CSV\n",
    "df = DataFrame(CSV.File(\"sampledata.csv\"))\n",
    "y = df[:, \"yvar\"]       # the dep var\n",
    "x = Matrix(df[:, 2:7])  # the indep vars, not including a constant\n",
    "####################\n",
    "```"
   ]
  },
  {
   "cell_type": "markdown",
   "id": "9b6bebbe",
   "metadata": {},
   "source": [
    "###### Your work: \n",
    "\n",
    "- Based on (1), write a program of Model A's log-likelihood function and call it `NHN_mle`. You may use `loglike5` in the lecture note as the reference. \n",
    "\n",
    "\n",
    "- Use `NHN_mle` to estimate the Indian farming model. You may conduct the estimation using `Optim` or your own programs. The required result is a table with three columns: the 1st column is the coefficients, the 2nd column is the standard errors, and the 3rd column is the $t$ statistics. They do not have to be in DataFrames.\n",
    "\n",
    "\n",
    "- The Estimation Guidelines:\n",
    "  \n",
    "  - You may use $-0.1$ as the initial values for all parameters. Or you may use the OLS result as the initial values for the $\\alpha$ and $\\beta$ coefficients (`x2=hcat(ones(size(y,1), 1), x); ols=inv(x2'x2)*(x2'y)`). Or, you may choose any initial values that seem to be reasonable choices. However, you _**cannot**_ use the true answer as the initial values.\n",
    "\n",
    "  - I strongly suggest that your program uses the `autodiff = :forward` option (which uses automatic differentiation) in the estimation.\n",
    "  \n",
    "    - The `autodiff = :forward` option puts stringent requirements on data types which may not easy to work out. I suggest that you start with your program without the option (which would then default to numerical finite differences that is easier on the data). After you have a working program, you may add the option back and see if it works. Most likely you'll have error messages and you have to work out the issues. If you can't make it work, that's fine. Try your best.  \n",
    "  \n",
    "- Hint: Look at $|g(x)|$ to judge whether it is converged. It should be smaller than the convergence criterion. "
   ]
  },
  {
   "cell_type": "code",
   "execution_count": 5,
   "id": "4106ae9b",
   "metadata": {},
   "outputs": [
    {
     "data": {
      "text/plain": [
       "7-element Vector{Float64}:\n",
       "  0.8773441654188616\n",
       "  0.2735922714070149\n",
       "  0.10895576192390166\n",
       "  1.2625075239733157\n",
       " -0.5006703144428615\n",
       "  0.0017781108365289011\n",
       "  0.04915096010575404"
      ]
     },
     "execution_count": 5,
     "metadata": {},
     "output_type": "execute_result"
    }
   ],
   "source": [
    "df = DataFrame(CSV.File(\"C:\\\\Users\\\\User\\\\sampledata.csv\"))\n",
    "y = df[:, \"yvar\"]     \n",
    "x = Matrix(df[:, 2:7]) \n",
    "x2=hcat(ones(size(y,1), 1), x)\n",
    "ols=inv(x2'x2)*(x2'y)"
   ]
  },
  {
   "cell_type": "code",
   "execution_count": 6,
   "id": "98a5aebc",
   "metadata": {},
   "outputs": [
    {
     "name": "stdout",
     "output_type": "stream",
     "text": [
      "The estimation table is\n"
     ]
    },
    {
     "data": {
      "text/plain": [
       "9×3 Matrix{Float64}:\n",
       "  1.59012    0.349898     4.54453\n",
       "  0.286194   0.0698563    4.09689\n",
       "  0.234652   0.17648      1.32963\n",
       "  1.15546    0.0811715   14.2348\n",
       " -0.421433   0.0593928   -7.09569\n",
       "  0.0066182  0.0130428    0.507422\n",
       "  0.0340904  0.00803004   4.24536\n",
       "  0.191584   0.162488     1.17907\n",
       "  0.0974947  0.0593393    1.643"
      ]
     },
     "metadata": {},
     "output_type": "display_data"
    }
   ],
   "source": [
    "noX=6\n",
    "function NHN_mle(y, x, α, β, log_σᵥ², log_σᵤ²)\n",
    "    σᵥ² = exp(log_σᵥ²)\n",
    "    σᵤ² = exp(log_σᵤ²)\n",
    "    ϵ  = y .- α .- x*β\n",
    "    μ_star = (-σᵤ²*ϵ) / (σᵥ²+σᵤ²)\n",
    "\n",
    "    llike = 0.0\n",
    "    for i in eachindex(ϵ)\n",
    "        σ_star = (σᵥ²*σᵤ²) / (σᵥ²+σᵤ²)\n",
    "        llike += -log(0.5) - 0.5*log(σᵥ²+σᵤ²) + log(pdf(Normal(0,1), ϵ[i]/sqrt(σᵥ²+σᵤ²) )) + log(cdf(Normal(0,1), μ_star[i]/σ_star ))\n",
    "    end\n",
    "    return -llike\n",
    "end\n",
    "func = TwiceDifferentiable(vars -> NHN_mle(y, x, vars[1], vars[2:noX+1], vars[end-1], vars[end]),\n",
    "                           ones(9); autodiff = :forward)\n",
    "\n",
    "res = optimize(func, [ols; [-0.1,-0.1]], Newton(), Optim.Options(g_tol = 1e-9,iterations = 50) )    \n",
    "_coevec = Optim.minimizer(res)\n",
    "res_coeff = deepcopy(_coevec)                \n",
    "res_coeff[end] = exp(_coevec[end])          \n",
    "res_coeff[end-1] = exp(_coevec[end-1])  \n",
    " \n",
    "\n",
    "res_Hessian  = Optim.hessian!(func, _coevec)  \n",
    "\n",
    "var_cov_matrix = inv(res_Hessian)            \n",
    "stderror  = sqrt.(diag(var_cov_matrix))\n",
    "stderror[end] = res_coeff[end]*stderror[end]  \n",
    "t_stats = res_coeff ./ stderror\n",
    "res_table = hcat(res_coeff, stderror, t_stats)\n",
    "\n",
    "println(\"The estimation table is\")\n",
    "res_table |> display"
   ]
  },
  {
   "cell_type": "markdown",
   "id": "e9d9880e",
   "metadata": {},
   "source": [
    "diff init values can not converge."
   ]
  },
  {
   "cell_type": "code",
   "execution_count": 10,
   "id": "cd76e576",
   "metadata": {},
   "outputs": [
    {
     "data": {
      "text/plain": [
       " * Status: failure (reached maximum number of iterations)\n",
       "\n",
       " * Candidate solution\n",
       "    Final objective value:     1.083142e+02\n",
       "\n",
       " * Found with\n",
       "    Algorithm:     Newton's Method\n",
       "\n",
       " * Convergence measures\n",
       "    |x - x'|               = 2.26e-03 ≰ 0.0e+00\n",
       "    |x - x'|/|x'|          = 1.61e-04 ≰ 0.0e+00\n",
       "    |f(x) - f(x')|         = 2.26e-06 ≰ 0.0e+00\n",
       "    |f(x) - f(x')|/|f(x')| = 2.08e-08 ≰ 0.0e+00\n",
       "    |g(x)|                 = 2.46e+02 ≰ 1.0e-09\n",
       "\n",
       " * Work counters\n",
       "    Seconds run:   0  (vs limit Inf)\n",
       "    Iterations:    50\n",
       "    f(x) calls:    209\n",
       "    ∇f(x) calls:   209\n",
       "    ∇²f(x) calls:  51\n"
      ]
     },
     "execution_count": 10,
     "metadata": {},
     "output_type": "execute_result"
    }
   ],
   "source": [
    "func = TwiceDifferentiable(vars -> NHN_mle(y, x, vars[1], vars[2], vars[3], vars[4], vars[5], vars[6], vars[7], vars[8], vars[9]),\n",
    "                           ones(9); autodiff = :forward)\n",
    "\n",
    "res2 = optimize(func, [-0.1 for i in 1:9], Newton(), Optim.Options(g_tol = 1e-9,iterations = 50) )"
   ]
  }
 ],
 "metadata": {
  "kernelspec": {
   "display_name": "Julia 1.8.5",
   "language": "julia",
   "name": "julia-1.8"
  },
  "language_info": {
   "file_extension": ".jl",
   "mimetype": "application/julia",
   "name": "julia",
   "version": "1.8.5"
  },
  "toc": {
   "base_numbering": 1,
   "nav_menu": {},
   "number_sections": true,
   "sideBar": true,
   "skip_h1_title": false,
   "title_cell": "Table of Contents",
   "title_sidebar": "Contents",
   "toc_cell": false,
   "toc_position": {},
   "toc_section_display": true,
   "toc_window_display": false
  },
  "varInspector": {
   "cols": {
    "lenName": 16,
    "lenType": 16,
    "lenVar": 40
   },
   "kernels_config": {
    "python": {
     "delete_cmd_postfix": "",
     "delete_cmd_prefix": "del ",
     "library": "var_list.py",
     "varRefreshCmd": "print(var_dic_list())"
    },
    "r": {
     "delete_cmd_postfix": ") ",
     "delete_cmd_prefix": "rm(",
     "library": "var_list.r",
     "varRefreshCmd": "cat(var_dic_list()) "
    }
   },
   "types_to_exclude": [
    "module",
    "function",
    "builtin_function_or_method",
    "instance",
    "_Feature"
   ],
   "window_display": false
  }
 },
 "nbformat": 4,
 "nbformat_minor": 5
}
