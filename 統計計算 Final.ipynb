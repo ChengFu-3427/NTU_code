{
 "cells": [
  {
   "cell_type": "code",
   "execution_count": 3,
   "id": "804a3438",
   "metadata": {},
   "outputs": [
    {
     "name": "stderr",
     "output_type": "stream",
     "text": [
      "Warning message:\n",
      "\"package 'lattice' was built under R version 4.1.3\"\n"
     ]
    },
    {
     "data": {
      "image/png": "[encoded data removed]",
      "text/plain": [
       "plot without title"
      ]
     },
     "metadata": {
      "image/png": {
       "height": 420,
       "width": 420
      }
     },
     "output_type": "display_data"
    }
   ],
   "source": [
    "library(LearnBayes)\n",
    "data(\"birthweight\")\n",
    "library(lattice)\n",
    "mygender <- with(birthweight, ifelse(birthweight$gender==0,\"Male\",\"Female\"))\n",
    "dotplot(mygender ~ weight, data = birthweight, xlab = \"Birthweight\", ylab = \"Gender\")"
   ]
  },
  {
   "cell_type": "markdown",
   "id": "3c964d66",
   "metadata": {},
   "source": [
    "### Apply JAGS"
   ]
  },
  {
   "cell_type": "code",
   "execution_count": 1,
   "id": "29c50ee8",
   "metadata": {},
   "outputs": [
    {
     "name": "stderr",
     "output_type": "stream",
     "text": [
      "Warning message:\n",
      "\"package 'rjags' was built under R version 4.1.3\"\n",
      "Loading required package: coda\n",
      "\n",
      "Warning message:\n",
      "\"package 'coda' was built under R version 4.1.3\"\n",
      "Linked to JAGS 4.3.0\n",
      "\n",
      "Loaded modules: basemod,bugs\n",
      "\n"
     ]
    }
   ],
   "source": [
    "# Sys.setenv(JAGS_HOME=\"C:/Program Files/JAGS/JAGS-4.3.0\")\n",
    "library(rjags)"
   ]
  },
  {
   "cell_type": "code",
   "execution_count": 4,
   "id": "2d4a268e",
   "metadata": {},
   "outputs": [
    {
     "name": "stdout",
     "output_type": "stream",
     "text": [
      "Compiling model graph\n",
      "   Resolving undeclared variables\n",
      "   Allocating nodes\n",
      "Graph information:\n",
      "   Observed stochastic nodes: 1\n",
      "   Unobserved stochastic nodes: 1\n",
      "   Total graph size: 5\n",
      "\n",
      "Initializing model\n",
      "\n"
     ]
    },
    {
     "data": {
      "text/plain": [
       "\n",
       "Iterations = 2001:12000\n",
       "Thinning interval = 1 \n",
       "Number of chains = 1 \n",
       "Sample size per chain = 10000 \n",
       "\n",
       "1. Empirical mean and standard deviation for each variable,\n",
       "   plus standard error of the mean:\n",
       "\n",
       "          Mean             SD       Naive SE Time-series SE \n",
       "      0.872354       0.052399       0.000524       0.000726 \n",
       "\n",
       "2. Quantiles for each variable:\n",
       "\n",
       "  2.5%    25%    50%    75%  97.5% \n",
       "0.7516 0.8405 0.8788 0.9108 0.9548 \n"
      ]
     },
     "metadata": {},
     "output_type": "display_data"
    }
   ],
   "source": [
    "n = 35 # sample size\n",
    "y = 31 # number of successes\n",
    "model_string <- \"model{\n",
    "\n",
    "  # Likelihood\n",
    "  y ~ dbinom(theta, n)\n",
    "\n",
    "  # Prior\n",
    "  theta ~ dbeta(alpha, beta)\n",
    "  alpha <- 3 # prior successes\n",
    "  beta <- 1 # prior failures\n",
    "\n",
    "}\"\n",
    "dataList = list(y = y, n = n)\n",
    "\n",
    "model <- jags.model(file = textConnection(model_string), \n",
    "                    data = dataList)\n",
    "update(model, n.iter = 1000)\n",
    "\n",
    "Nrep = 10000 # number of values to simulate\n",
    "\n",
    "posterior_sample <- coda.samples(model,\n",
    "                       variable.names = c(\"theta\"),\n",
    "                       n.iter = Nrep)\n",
    "summary(posterior_sample)"
   ]
  },
  {
   "cell_type": "code",
   "execution_count": 5,
   "id": "a78c4e0d",
   "metadata": {},
   "outputs": [
    {
     "data": {
      "image/png": "[encoded data removed]",
      "text/plain": [
       "Plot with title \"Density of theta\""
      ]
     },
     "metadata": {
      "image/png": {
       "height": 420,
       "width": 420
      }
     },
     "output_type": "display_data"
    }
   ],
   "source": [
    "plot(posterior_sample)"
   ]
  },
  {
   "cell_type": "markdown",
   "id": "e48ec504",
   "metadata": {},
   "source": [
    "### Acceptance-Reject sampling"
   ]
  },
  {
   "cell_type": "code",
   "execution_count": null,
   "id": "c1674ced",
   "metadata": {},
   "outputs": [],
   "source": []
  },
  {
   "cell_type": "markdown",
   "id": "32062410",
   "metadata": {},
   "source": [
    "### Metropolis-Hastings with IG(a,b)"
   ]
  },
  {
   "cell_type": "code",
   "execution_count": null,
   "id": "15aefd65",
   "metadata": {},
   "outputs": [],
   "source": []
  },
  {
   "cell_type": "markdown",
   "id": "961ad789",
   "metadata": {},
   "source": [
    "### Metropolis-Hastings with Chi"
   ]
  },
  {
   "cell_type": "code",
   "execution_count": null,
   "id": "c734dafa",
   "metadata": {},
   "outputs": [],
   "source": []
  }
 ],
 "metadata": {
  "kernelspec": {
   "display_name": "R",
   "language": "R",
   "name": "ir"
  },
  "language_info": {
   "codemirror_mode": "r",
   "file_extension": ".r",
   "mimetype": "text/x-r-source",
   "name": "R",
   "pygments_lexer": "r",
   "version": "4.1.1"
  },
  "toc": {
   "base_numbering": 1,
   "nav_menu": {},
   "number_sections": true,
   "sideBar": true,
   "skip_h1_title": false,
   "title_cell": "Table of Contents",
   "title_sidebar": "Contents",
   "toc_cell": false,
   "toc_position": {},
   "toc_section_display": true,
   "toc_window_display": false
  },
  "varInspector": {
   "cols": {
    "lenName": 16,
    "lenType": 16,
    "lenVar": 40
   },
   "kernels_config": {
    "python": {
     "delete_cmd_postfix": "",
     "delete_cmd_prefix": "del ",
     "library": "var_list.py",
     "varRefreshCmd": "print(var_dic_list())"
    },
    "r": {
     "delete_cmd_postfix": ") ",
     "delete_cmd_prefix": "rm(",
     "library": "var_list.r",
     "varRefreshCmd": "cat(var_dic_list()) "
    }
   },
   "types_to_exclude": [
    "module",
    "function",
    "builtin_function_or_method",
    "instance",
    "_Feature"
   ],
   "window_display": false
  }
 },
 "nbformat": 4,
 "nbformat_minor": 5
}
