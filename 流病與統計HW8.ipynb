{
 "cells": [
  {
   "cell_type": "code",
   "execution_count": 1,
   "id": "2d48215f",
   "metadata": {},
   "outputs": [
    {
     "data": {
      "text/html": [
       "<table>\n",
       "<thead><tr><th scope=col>center</th><th scope=col>id</th><th scope=col>treatment</th><th scope=col>gender</th><th scope=col>age</th><th scope=col>baseline</th><th scope=col>visit</th><th scope=col>outcome</th></tr></thead>\n",
       "<tbody>\n",
       "\t<tr><td>1 </td><td>1 </td><td>P </td><td>M </td><td>46</td><td>0 </td><td>1 </td><td>0 </td></tr>\n",
       "\t<tr><td>1 </td><td>1 </td><td>P </td><td>M </td><td>46</td><td>0 </td><td>2 </td><td>0 </td></tr>\n",
       "\t<tr><td>1 </td><td>1 </td><td>P </td><td>M </td><td>46</td><td>0 </td><td>3 </td><td>0 </td></tr>\n",
       "\t<tr><td>1 </td><td>1 </td><td>P </td><td>M </td><td>46</td><td>0 </td><td>4 </td><td>0 </td></tr>\n",
       "\t<tr><td>1 </td><td>2 </td><td>P </td><td>M </td><td>28</td><td>0 </td><td>1 </td><td>0 </td></tr>\n",
       "\t<tr><td>1 </td><td>2 </td><td>P </td><td>M </td><td>28</td><td>0 </td><td>2 </td><td>0 </td></tr>\n",
       "</tbody>\n",
       "</table>\n"
      ],
      "text/latex": [
       "\\begin{tabular}{r|llllllll}\n",
       " center & id & treatment & gender & age & baseline & visit & outcome\\\\\n",
       "\\hline\n",
       "\t 1  & 1  & P  & M  & 46 & 0  & 1  & 0 \\\\\n",
       "\t 1  & 1  & P  & M  & 46 & 0  & 2  & 0 \\\\\n",
       "\t 1  & 1  & P  & M  & 46 & 0  & 3  & 0 \\\\\n",
       "\t 1  & 1  & P  & M  & 46 & 0  & 4  & 0 \\\\\n",
       "\t 1  & 2  & P  & M  & 28 & 0  & 1  & 0 \\\\\n",
       "\t 1  & 2  & P  & M  & 28 & 0  & 2  & 0 \\\\\n",
       "\\end{tabular}\n"
      ],
      "text/markdown": [
       "\n",
       "| center | id | treatment | gender | age | baseline | visit | outcome |\n",
       "|---|---|---|---|---|---|---|---|\n",
       "| 1  | 1  | P  | M  | 46 | 0  | 1  | 0  |\n",
       "| 1  | 1  | P  | M  | 46 | 0  | 2  | 0  |\n",
       "| 1  | 1  | P  | M  | 46 | 0  | 3  | 0  |\n",
       "| 1  | 1  | P  | M  | 46 | 0  | 4  | 0  |\n",
       "| 1  | 2  | P  | M  | 28 | 0  | 1  | 0  |\n",
       "| 1  | 2  | P  | M  | 28 | 0  | 2  | 0  |\n",
       "\n"
      ],
      "text/plain": [
       "  center id treatment gender age baseline visit outcome\n",
       "1 1      1  P         M      46  0        1     0      \n",
       "2 1      1  P         M      46  0        2     0      \n",
       "3 1      1  P         M      46  0        3     0      \n",
       "4 1      1  P         M      46  0        4     0      \n",
       "5 1      2  P         M      28  0        1     0      \n",
       "6 1      2  P         M      28  0        2     0      "
      ]
     },
     "metadata": {},
     "output_type": "display_data"
    }
   ],
   "source": [
    "setwd(\"D:/OneDrive - g.ntu.edu.tw/110/流病與統計\")\n",
    "resp <- read.csv(\"resp.csv\",header=TRUE)\n",
    "attach(resp)\n",
    "head(resp)"
   ]
  },
  {
   "cell_type": "code",
   "execution_count": 2,
   "id": "1042971b",
   "metadata": {},
   "outputs": [],
   "source": [
    "newtonraphson <- function(ftn, x0, tol = 1e-9, max.iter = 100) {\n",
    " x <- x0 # x0: the initial value\n",
    " fx <- ftn(x)\n",
    " iter <- 0\n",
    " while ((max(abs(fx[[1]])) > tol) & (iter < max.iter)) {\n",
    " x <- x - solve(fx[[2]]) %*% fx[[1]]\n",
    " fx <- ftn(x)\n",
    "iter <- iter + 1\n",
    " }\n",
    " if (max(abs(fx[[1]])) > tol) {\n",
    " cat('Algorithm failed to converge\\n')\n",
    "return(NULL)\n",
    " } else { # max(abs(fx[[1]])) <= tol\n",
    "cat(\"Algorithm converged\\n\")\n",
    "return(x)\n",
    " }\n",
    "}\n"
   ]
  },
  {
   "cell_type": "code",
   "execution_count": 3,
   "id": "1cd97826",
   "metadata": {},
   "outputs": [],
   "source": [
    "ftn <- function(beta_coef){\n",
    "    mat <- cbind(rep(1,length(treatment)),ifelse(treatment==\"P\",1,0),age,baseline)\n",
    "    p <- exp(mat%*%beta_coef)/(1+exp(mat%*%beta_coef))\n",
    "    grad <- t(mat)%*%(outcome-p)\n",
    "    hess <- -t(mat)%*%diag(c(p*(1-p)),length(outcome))%*%mat\n",
    "    return(list(grad,hess))\n",
    "}"
   ]
  },
  {
   "cell_type": "code",
   "execution_count": 10,
   "id": "2f6e8211",
   "metadata": {},
   "outputs": [
    {
     "data": {
      "text/html": [
       "'double'"
      ],
      "text/latex": [
       "'double'"
      ],
      "text/markdown": [
       "'double'"
      ],
      "text/plain": [
       "[1] \"double\""
      ]
     },
     "metadata": {},
     "output_type": "display_data"
    }
   ],
   "source": [
    "typeof(ftn(c(0,0,0,0))[[1]])"
   ]
  },
  {
   "cell_type": "code",
   "execution_count": 6,
   "id": "1ca8696a",
   "metadata": {},
   "outputs": [
    {
     "name": "stdout",
     "output_type": "stream",
     "text": [
      "Algorithm converged\n",
      "\n",
      "\t\tbeta\n",
      "\n",
      "intercept:    0.4367055 \n",
      "\n",
      "treatment:   -1.234759 \n",
      "\n",
      "AGE:\t     -0.01140389 \n",
      "\n",
      "baseline:     1.982412"
     ]
    }
   ],
   "source": [
    "beta <- newtonraphson(ftn,c(0,0,0,0))\n",
    "cat(\"\\n\\t\\tbeta\\n\n",
    "intercept:   \",beta[1],\"\\n\n",
    "treatment:  \",beta[2],\"\\n\n",
    "AGE:\\t    \",beta[3],\"\\n\n",
    "baseline:    \",beta[4])"
   ]
  },
  {
   "cell_type": "code",
   "execution_count": 5,
   "id": "2e0a9ca4",
   "metadata": {},
   "outputs": [
    {
     "data": {
      "text/html": [
       "<table>\n",
       "<thead><tr><th></th><th scope=col></th><th scope=col></th><th scope=col>age</th><th scope=col>baseline</th></tr></thead>\n",
       "<tbody>\n",
       "\t<tr><th scope=row></th><td> 0.09951118  </td><td>-2.070235e-02</td><td>-2.168930e-03</td><td>-1.289550e-02</td></tr>\n",
       "\t<tr><th scope=row></th><td>-0.02070235  </td><td> 5.133126e-02</td><td>-3.292548e-05</td><td>-1.351023e-02</td></tr>\n",
       "\t<tr><th scope=row>age</th><td>-0.00216893  </td><td>-3.292548e-05</td><td> 6.630252e-05</td><td>-2.084783e-05</td></tr>\n",
       "\t<tr><th scope=row>baseline</th><td>-0.01289550  </td><td>-1.351023e-02</td><td>-2.084783e-05</td><td> 5.426992e-02</td></tr>\n",
       "</tbody>\n",
       "</table>\n"
      ],
      "text/latex": [
       "\\begin{tabular}{r|llll}\n",
       "  &  &  & age & baseline\\\\\n",
       "\\hline\n",
       "\t &  0.09951118   & -2.070235e-02 & -2.168930e-03 & -1.289550e-02\\\\\n",
       "\t & -0.02070235   &  5.133126e-02 & -3.292548e-05 & -1.351023e-02\\\\\n",
       "\tage & -0.00216893   & -3.292548e-05 &  6.630252e-05 & -2.084783e-05\\\\\n",
       "\tbaseline & -0.01289550   & -1.351023e-02 & -2.084783e-05 &  5.426992e-02\\\\\n",
       "\\end{tabular}\n"
      ],
      "text/markdown": [
       "\n",
       "| <!--/--> |  |  | age | baseline |\n",
       "|---|---|---|---|---|\n",
       "|  |  0.09951118   | -2.070235e-02 | -2.168930e-03 | -1.289550e-02 |\n",
       "|  | -0.02070235   |  5.133126e-02 | -3.292548e-05 | -1.351023e-02 |\n",
       "| age | -0.00216893   | -3.292548e-05 |  6.630252e-05 | -2.084783e-05 |\n",
       "| baseline | -0.01289550   | -1.351023e-02 | -2.084783e-05 |  5.426992e-02 |\n",
       "\n"
      ],
      "text/plain": [
       "                                   age           baseline     \n",
       "          0.09951118 -2.070235e-02 -2.168930e-03 -1.289550e-02\n",
       "         -0.02070235  5.133126e-02 -3.292548e-05 -1.351023e-02\n",
       "age      -0.00216893 -3.292548e-05  6.630252e-05 -2.084783e-05\n",
       "baseline -0.01289550 -1.351023e-02 -2.084783e-05  5.426992e-02"
      ]
     },
     "metadata": {},
     "output_type": "display_data"
    }
   ],
   "source": [
    "solve(-ftn(beta)[[2]])"
   ]
  },
  {
   "cell_type": "code",
   "execution_count": 6,
   "id": "32743da4",
   "metadata": {},
   "outputs": [],
   "source": [
    "logL <- function(beta){\n",
    "    mat <- cbind(rep(1,length(treatment)),ifelse(treatment==\"P\",1,0),age,baseline)\n",
    "    logli <- 0\n",
    "    for(i in 1:length(outcome)){\n",
    "        logli <- logli+(outcome[i]*mat[i,]%*%beta-log(1+exp(mat[i,]%*%beta)))\n",
    "    }\n",
    "    return(logli)\n",
    "} "
   ]
  },
  {
   "cell_type": "code",
   "execution_count": 7,
   "id": "66585df2",
   "metadata": {},
   "outputs": [
    {
     "name": "stdout",
     "output_type": "stream",
     "text": [
      "log likelihood at beta:  -247.9434"
     ]
    }
   ],
   "source": [
    "cat(\"log likelihood at beta: \",logL(beta))"
   ]
  }
 ],
 "metadata": {
  "kernelspec": {
   "display_name": "R",
   "language": "R",
   "name": "ir"
  },
  "language_info": {
   "codemirror_mode": "r",
   "file_extension": ".r",
   "mimetype": "text/x-r-source",
   "name": "R",
   "pygments_lexer": "r",
   "version": "3.6.1"
  }
 },
 "nbformat": 4,
 "nbformat_minor": 5
}
