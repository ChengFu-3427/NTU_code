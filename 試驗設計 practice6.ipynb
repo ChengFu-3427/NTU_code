{
 "cells": [
  {
   "cell_type": "markdown",
   "id": "e6e2eb2d",
   "metadata": {},
   "source": [
    "## problem1"
   ]
  },
  {
   "cell_type": "markdown",
   "id": "f45e6074",
   "metadata": {},
   "source": [
    "(a)Suppose we assume that no interaction exists. Write down the statistical model. Conduct the ANOVA and test hypotheses on the main effects. What conclusions can be drawn?"
   ]
  },
  {
   "cell_type": "code",
   "execution_count": 1,
   "id": "b10338c8",
   "metadata": {},
   "outputs": [
    {
     "data": {
      "text/html": [
       "<table>\n",
       "<thead><tr><th scope=col>T</th><th scope=col>P</th><th scope=col>Y</th></tr></thead>\n",
       "<tbody>\n",
       "\t<tr><td>800 </td><td>1   </td><td> 570</td></tr>\n",
       "\t<tr><td>825 </td><td>1   </td><td>1063</td></tr>\n",
       "\t<tr><td>850 </td><td>1   </td><td> 565</td></tr>\n",
       "\t<tr><td>800 </td><td>1   </td><td> 565</td></tr>\n",
       "\t<tr><td>825 </td><td>1   </td><td>1080</td></tr>\n",
       "\t<tr><td>850 </td><td>1   </td><td> 510</td></tr>\n",
       "\t<tr><td>800 </td><td>1   </td><td> 583</td></tr>\n",
       "\t<tr><td>825 </td><td>1   </td><td>1043</td></tr>\n",
       "\t<tr><td>850 </td><td>1   </td><td> 590</td></tr>\n",
       "\t<tr><td>800 </td><td>2   </td><td> 528</td></tr>\n",
       "\t<tr><td>825 </td><td>2   </td><td> 988</td></tr>\n",
       "\t<tr><td>850 </td><td>2   </td><td> 526</td></tr>\n",
       "\t<tr><td>800 </td><td>2   </td><td> 547</td></tr>\n",
       "\t<tr><td>825 </td><td>2   </td><td>1026</td></tr>\n",
       "\t<tr><td>850 </td><td>2   </td><td> 538</td></tr>\n",
       "\t<tr><td>800 </td><td>2   </td><td> 521</td></tr>\n",
       "\t<tr><td>825 </td><td>2   </td><td>1004</td></tr>\n",
       "\t<tr><td>850 </td><td>2   </td><td> 532</td></tr>\n",
       "</tbody>\n",
       "</table>\n"
      ],
      "text/latex": [
       "\\begin{tabular}{r|lll}\n",
       " T & P & Y\\\\\n",
       "\\hline\n",
       "\t 800  & 1    &  570\\\\\n",
       "\t 825  & 1    & 1063\\\\\n",
       "\t 850  & 1    &  565\\\\\n",
       "\t 800  & 1    &  565\\\\\n",
       "\t 825  & 1    & 1080\\\\\n",
       "\t 850  & 1    &  510\\\\\n",
       "\t 800  & 1    &  583\\\\\n",
       "\t 825  & 1    & 1043\\\\\n",
       "\t 850  & 1    &  590\\\\\n",
       "\t 800  & 2    &  528\\\\\n",
       "\t 825  & 2    &  988\\\\\n",
       "\t 850  & 2    &  526\\\\\n",
       "\t 800  & 2    &  547\\\\\n",
       "\t 825  & 2    & 1026\\\\\n",
       "\t 850  & 2    &  538\\\\\n",
       "\t 800  & 2    &  521\\\\\n",
       "\t 825  & 2    & 1004\\\\\n",
       "\t 850  & 2    &  532\\\\\n",
       "\\end{tabular}\n"
      ],
      "text/markdown": [
       "\n",
       "| T | P | Y |\n",
       "|---|---|---|\n",
       "| 800  | 1    |  570 |\n",
       "| 825  | 1    | 1063 |\n",
       "| 850  | 1    |  565 |\n",
       "| 800  | 1    |  565 |\n",
       "| 825  | 1    | 1080 |\n",
       "| 850  | 1    |  510 |\n",
       "| 800  | 1    |  583 |\n",
       "| 825  | 1    | 1043 |\n",
       "| 850  | 1    |  590 |\n",
       "| 800  | 2    |  528 |\n",
       "| 825  | 2    |  988 |\n",
       "| 850  | 2    |  526 |\n",
       "| 800  | 2    |  547 |\n",
       "| 825  | 2    | 1026 |\n",
       "| 850  | 2    |  538 |\n",
       "| 800  | 2    |  521 |\n",
       "| 825  | 2    | 1004 |\n",
       "| 850  | 2    |  532 |\n",
       "\n"
      ],
      "text/plain": [
       "   T   P Y   \n",
       "1  800 1  570\n",
       "2  825 1 1063\n",
       "3  850 1  565\n",
       "4  800 1  565\n",
       "5  825 1 1080\n",
       "6  850 1  510\n",
       "7  800 1  583\n",
       "8  825 1 1043\n",
       "9  850 1  590\n",
       "10 800 2  528\n",
       "11 825 2  988\n",
       "12 850 2  526\n",
       "13 800 2  547\n",
       "14 825 2 1026\n",
       "15 850 2  538\n",
       "16 800 2  521\n",
       "17 825 2 1004\n",
       "18 850 2  532"
      ]
     },
     "metadata": {},
     "output_type": "display_data"
    }
   ],
   "source": [
    "y <- c(570,1063,565,\n",
    "       565,1080,510,\n",
    "       583,1043,590,\n",
    "       528,988,526,\n",
    "       547,1026,538,\n",
    "       521,1004,532)\n",
    "t <- rep(c(\"800\",\"825\",\"850\"),time=6);\n",
    "p <- rep(c(\"1\",\"2\"),each=9)\n",
    "data <- data.frame(\n",
    "    T=factor(t),\n",
    "    P=factor(p),\n",
    "    Y=y\n",
    ")\n",
    "data"
   ]
  },
  {
   "cell_type": "code",
   "execution_count": 2,
   "id": "14cf8bbc",
   "metadata": {},
   "outputs": [
    {
     "data": {
      "text/html": [
       "<table>\n",
       "<thead><tr><th></th><th scope=col>Df</th><th scope=col>Sum Sq</th><th scope=col>Mean Sq</th><th scope=col>F value</th><th scope=col>Pr(&gt;F)</th></tr></thead>\n",
       "<tbody>\n",
       "\t<tr><th scope=row>T</th><td> 2          </td><td>945342.111  </td><td>472671.0556 </td><td>1069.25713  </td><td>4.923500e-16</td></tr>\n",
       "\t<tr><th scope=row>P</th><td> 1          </td><td>  7160.056  </td><td>  7160.0556 </td><td>  16.19718  </td><td>1.254167e-03</td></tr>\n",
       "\t<tr><th scope=row>Residuals</th><td>14          </td><td>  6188.778  </td><td>   442.0556 </td><td>        NA  </td><td>          NA</td></tr>\n",
       "</tbody>\n",
       "</table>\n"
      ],
      "text/latex": [
       "\\begin{tabular}{r|lllll}\n",
       "  & Df & Sum Sq & Mean Sq & F value & Pr(>F)\\\\\n",
       "\\hline\n",
       "\tT &  2           & 945342.111   & 472671.0556  & 1069.25713   & 4.923500e-16\\\\\n",
       "\tP &  1           &   7160.056   &   7160.0556  &   16.19718   & 1.254167e-03\\\\\n",
       "\tResiduals & 14           &   6188.778   &    442.0556  &         NA   &           NA\\\\\n",
       "\\end{tabular}\n"
      ],
      "text/markdown": [
       "\n",
       "| <!--/--> | Df | Sum Sq | Mean Sq | F value | Pr(>F) |\n",
       "|---|---|---|---|---|---|\n",
       "| T |  2           | 945342.111   | 472671.0556  | 1069.25713   | 4.923500e-16 |\n",
       "| P |  1           |   7160.056   |   7160.0556  |   16.19718   | 1.254167e-03 |\n",
       "| Residuals | 14           |   6188.778   |    442.0556  |         NA   |           NA |\n",
       "\n"
      ],
      "text/plain": [
       "          Df Sum Sq     Mean Sq     F value    Pr(>F)      \n",
       "T          2 945342.111 472671.0556 1069.25713 4.923500e-16\n",
       "P          1   7160.056   7160.0556   16.19718 1.254167e-03\n",
       "Residuals 14   6188.778    442.0556         NA           NA"
      ]
     },
     "metadata": {},
     "output_type": "display_data"
    }
   ],
   "source": [
    "mod<-lm(Y~T+P,data)\n",
    "anova(mod)"
   ]
  },
  {
   "cell_type": "markdown",
   "id": "71b0df75",
   "metadata": {},
   "source": [
    "在顯著水準為0.05的情況下，溫度和位置皆對baked density of a carbon anode有顯著影響。"
   ]
  },
  {
   "cell_type": "markdown",
   "id": "137b1a90",
   "metadata": {},
   "source": [
    "(b)Suppose that the furnace positions were randomly selected, resulting in a mixed model experiment. Reanalyze the data from this experiment under this new assumption. Estimate the appropriate model components using the ANOVA method. Please calculate the expected mean squares of each factor and perform appromicate F-test following Sattherwaite’s procedure."
   ]
  },
  {
   "cell_type": "code",
   "execution_count": 3,
   "id": "fcea6cd4",
   "metadata": {},
   "outputs": [
    {
     "data": {
      "text/html": [
       "<table>\n",
       "<thead><tr><th></th><th scope=col>Df</th><th scope=col>Sum Sq</th><th scope=col>Mean Sq</th><th scope=col>F value</th><th scope=col>Pr(&gt;F)</th></tr></thead>\n",
       "<tbody>\n",
       "\t<tr><th scope=row>T</th><td> 2          </td><td>945342.1111 </td><td>472671.0556 </td><td>1056.1170556</td><td>3.249924e-14</td></tr>\n",
       "\t<tr><th scope=row>P</th><td> 1          </td><td>  7160.0556 </td><td>  7160.0556 </td><td>  15.9981380</td><td>1.762434e-03</td></tr>\n",
       "\t<tr><th scope=row>T:P</th><td> 2          </td><td>   818.1111 </td><td>   409.0556 </td><td>   0.9139772</td><td>4.271101e-01</td></tr>\n",
       "\t<tr><th scope=row>Residuals</th><td>12          </td><td>  5370.6667 </td><td>   447.5556 </td><td>          NA</td><td>          NA</td></tr>\n",
       "</tbody>\n",
       "</table>\n"
      ],
      "text/latex": [
       "\\begin{tabular}{r|lllll}\n",
       "  & Df & Sum Sq & Mean Sq & F value & Pr(>F)\\\\\n",
       "\\hline\n",
       "\tT &  2           & 945342.1111  & 472671.0556  & 1056.1170556 & 3.249924e-14\\\\\n",
       "\tP &  1           &   7160.0556  &   7160.0556  &   15.9981380 & 1.762434e-03\\\\\n",
       "\tT:P &  2           &    818.1111  &    409.0556  &    0.9139772 & 4.271101e-01\\\\\n",
       "\tResiduals & 12           &   5370.6667  &    447.5556  &           NA &           NA\\\\\n",
       "\\end{tabular}\n"
      ],
      "text/markdown": [
       "\n",
       "| <!--/--> | Df | Sum Sq | Mean Sq | F value | Pr(>F) |\n",
       "|---|---|---|---|---|---|\n",
       "| T |  2           | 945342.1111  | 472671.0556  | 1056.1170556 | 3.249924e-14 |\n",
       "| P |  1           |   7160.0556  |   7160.0556  |   15.9981380 | 1.762434e-03 |\n",
       "| T:P |  2           |    818.1111  |    409.0556  |    0.9139772 | 4.271101e-01 |\n",
       "| Residuals | 12           |   5370.6667  |    447.5556  |           NA |           NA |\n",
       "\n"
      ],
      "text/plain": [
       "          Df Sum Sq      Mean Sq     F value      Pr(>F)      \n",
       "T          2 945342.1111 472671.0556 1056.1170556 3.249924e-14\n",
       "P          1   7160.0556   7160.0556   15.9981380 1.762434e-03\n",
       "T:P        2    818.1111    409.0556    0.9139772 4.271101e-01\n",
       "Residuals 12   5370.6667    447.5556           NA           NA"
      ]
     },
     "metadata": {},
     "output_type": "display_data"
    }
   ],
   "source": [
    "mod<-lm(Y~T+P+T:P,data)\n",
    "anova(mod)"
   ]
  },
  {
   "cell_type": "code",
   "execution_count": 14,
   "id": "1846de9a",
   "metadata": {},
   "outputs": [
    {
     "name": "stdout",
     "output_type": "stream",
     "text": [
      "EMS:\n",
      " temp 472671.1 \n",
      " pos: 7160.056 \n",
      "inter: 409.0556"
     ]
    }
   ],
   "source": [
    "d <- anova(mod)$Df\n",
    "M <- anova(mod)$'Mean Sq'\n",
    "F_temp <- M[1]/M[3]\n",
    "F_pos <- M[2]/M[4]\n",
    "F_inter <- M[3]/M[4]\n",
    "p_T <- pf(F_temp, d[1], d[3], lower.tail = FALSE)\n",
    "p_p <- pf(F_pos,d[2] ,d[4] , lower.tail = FALSE)\n",
    "p_i <- pf(F_inter, d[3], d[4], lower.tail = FALSE)\n",
    "cat(\"EMS:\\n\",\"temp\",M[1],\"\\n\",\"pos:\",M[2],\"\\ninter:\",M[3])"
   ]
  },
  {
   "cell_type": "code",
   "execution_count": 9,
   "id": "024065b6",
   "metadata": {},
   "outputs": [
    {
     "name": "stdout",
     "output_type": "stream",
     "text": [
      "temperature p value: 0.0008646645 \n",
      " position p value: 0.001762434 \n",
      " interaction p value: 0.4271101 \n"
     ]
    }
   ],
   "source": [
    "cat(\"temperature p value:\",p_T,\"\\n\",\n",
    "   \"position p value:\",p_p,\"\\n\",\n",
    "   \"interaction p value:\",p_i,\"\\n\")"
   ]
  }
 ],
 "metadata": {
  "kernelspec": {
   "display_name": "R",
   "language": "R",
   "name": "ir"
  },
  "language_info": {
   "codemirror_mode": "r",
   "file_extension": ".r",
   "mimetype": "text/x-r-source",
   "name": "R",
   "pygments_lexer": "r",
   "version": "3.6.1"
  }
 },
 "nbformat": 4,
 "nbformat_minor": 5
}
