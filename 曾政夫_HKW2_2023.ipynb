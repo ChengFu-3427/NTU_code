{
 "cells": [
  {
   "cell_type": "markdown",
   "id": "c471dc72",
   "metadata": {},
   "source": [
    "# 作業2"
   ]
  },
  {
   "cell_type": "markdown",
   "id": "54d1a0f9",
   "metadata": {},
   "source": [
    "## Draw Random Numbers from Uniform Distributions\n",
    "\n",
    "### Write code to draw a set of 10,000 random numbers that is uniformly distributed in (-2,3). \n",
    " - Hint: Stretch $U(0,1)$ to fit the bound of $U(-2,3)$.\n",
    " \n",
    "### What are the theoretical mean and standard deviation of the distribution $U(-2,3)$ ?\n",
    " \n",
    "### Show the mean and the standard deviation of the set of random numbers you've drawn. "
   ]
  },
  {
   "cell_type": "code",
   "execution_count": 5,
   "id": "13445c8f",
   "metadata": {
    "scrolled": true
   },
   "outputs": [],
   "source": [
    "using Random\n",
    "using Distributions\n",
    "using Statistics \n"
   ]
  },
  {
   "cell_type": "code",
   "execution_count": 18,
   "id": "e20b444a",
   "metadata": {},
   "outputs": [
    {
     "data": {
      "text/plain": [
       "10000-element Vector{Float64}:\n",
       "  2.842161048015461\n",
       "  1.4020855784556616\n",
       "  2.06629798712299\n",
       "  2.271712367231606\n",
       "  2.7038221457272105\n",
       "  0.9871607327443108\n",
       "  0.3967335212094443\n",
       " -1.0122977575651353\n",
       " -1.4733608256825164\n",
       "  2.119946812351275\n",
       "  1.5066784671479958\n",
       "  1.7815342350933259\n",
       " -1.0477866595931455\n",
       "  ⋮\n",
       " -0.32707053080953385\n",
       " -1.4540961437563409\n",
       " -0.0776013773925337\n",
       "  0.9009145766040403\n",
       " -1.604540086742972\n",
       "  1.9838427187762937\n",
       " -0.49791081675168924\n",
       "  2.059220580348315\n",
       "  0.4376259142763592\n",
       "  2.8735997529701827\n",
       "  2.692772989985067\n",
       " -1.3625861292027235"
      ]
     },
     "execution_count": 18,
     "metadata": {},
     "output_type": "execute_result"
    }
   ],
   "source": [
    "data=rand(Uniform(-2, 3),10000)"
   ]
  },
  {
   "cell_type": "code",
   "execution_count": 51,
   "id": "7908760a",
   "metadata": {
    "scrolled": true
   },
   "outputs": [
    {
     "name": "stdout",
     "output_type": "stream",
     "text": [
      "theoretical \n",
      "Mean:0.5\n",
      "Var:2.0833333333333335"
     ]
    }
   ],
   "source": [
    "print(\"theoretical \\nMean:\",mean(Uniform(-2, 3)),\"\\n\")\n",
    "print(\"Var:\",var(Uniform(-2, 3)))"
   ]
  },
  {
   "cell_type": "code",
   "execution_count": 23,
   "id": "bb311c8f",
   "metadata": {},
   "outputs": [
    {
     "name": "stdout",
     "output_type": "stream",
     "text": [
      "Data Mean:0.5092348401137712\n",
      "Data Var:2.094171927491028"
     ]
    }
   ],
   "source": [
    "print(\"Data Mean:\",mean(data),\"\\n\")\n",
    "print(\"Data Var:\",var(data))"
   ]
  },
  {
   "cell_type": "markdown",
   "id": "71bf5a93",
   "metadata": {},
   "source": [
    "## Draw Random Numbers from Normal Distributions\n",
    "\n",
    "### Use `randn()` to draw a $1000\\times 2$ matrix of random numbers from $N(2,3)$ (a normal distribution with mean=2 and variance=3). Use `mean()` and `var()` to show that the empirical mean and variance are close to the theoretical values.\n",
    "- Hint: `randn()` generates N(0,1) random variables; you have to scale it to the appropriate mean and variance.\n",
    "- Hint: For constants `a` and `b`: $x \\sim N(\\mu, \\sigma^2)$, then $a*x \\sim N(a*\\mu, \\ a^2 \\sigma^2)$ and $x+b \\sim N(\\mu+b, \\ \\sigma^2)$.\n",
    "\n",
    "### Use `rand()` to draw a $1000\\times 2$ matrix of random numbers from $N(2,3)$. Use `mean()` and `var()` to show that the empirical mean and variance are close to the theoretical values.\n",
    "- Hint: `rand()` could take distributions as arguments, as we've shown in the class."
   ]
  },
  {
   "cell_type": "code",
   "execution_count": 44,
   "id": "a7f3fb4d",
   "metadata": {},
   "outputs": [
    {
     "name": "stdout",
     "output_type": "stream",
     "text": [
      "theoretical Mean:2\n",
      "theoretical Var:3"
     ]
    }
   ],
   "source": [
    "print(\"theoretical Mean:\",2,\"\\n\")\n",
    "print(\"theoretical Var:\",3)"
   ]
  },
  {
   "cell_type": "code",
   "execution_count": 45,
   "id": "dff33489",
   "metadata": {},
   "outputs": [
    {
     "name": "stdout",
     "output_type": "stream",
     "text": [
      "Use rand\n",
      "Mean:1.9386496548428536\n",
      "Var:3.0860121619593475"
     ]
    }
   ],
   "source": [
    "data=randn(1000,2)\n",
    "data=data*sqrt(3).+2\n",
    "print(\"Use rand\\nMean:\",mean(data),\"\\n\")\n",
    "print(\"Var:\",var(data))"
   ]
  },
  {
   "cell_type": "code",
   "execution_count": 46,
   "id": "67c99e60",
   "metadata": {},
   "outputs": [
    {
     "name": "stdout",
     "output_type": "stream",
     "text": [
      "Use rand \n",
      "Mean:1.9875930382309133\n",
      "Var:2.951457717813412"
     ]
    }
   ],
   "source": [
    "d = Normal(2,sqrt(3))\n",
    "d=rand(d,(1000,2))\n",
    "print(\"Use rand \\nMean:\",mean(d),\"\\n\")\n",
    "print(\"Var:\",var(d))"
   ]
  },
  {
   "cell_type": "markdown",
   "id": "87cf30eb",
   "metadata": {},
   "source": [
    "## Draw Regression Data: Cross-Sectional Model\n",
    "\n",
    "Suppose you write your own routine to do fancy estimation on cross-sectional and panel data models. You want to conduct a Monte Carlo analysis to see if the routine works as expected and the returned answer is correct. The first thing you have to do is to generate data with pre-specified parameter values. (So that you could apply your estimation routine to the data and see if the estimated parameter values match the pre-specified (*true*) values.) \n",
    "\n",
    "Let's start from the cross-sectional model. The model is:\n",
    "\\begin{aligned} \n",
    "  y_i & = \\alpha + \\beta' x_i + \\epsilon_i,\\qquad i=1,\\ldots,N,\\\\\n",
    "  \\epsilon_i & \\sim N(0, \\sigma^2).\n",
    "\\end{aligned}   \n",
    "\n",
    "There could be more than one $x_i$ variable in the model; let's denote the number of $x_i$ as $\\textrm{nofX}$. Write a function to generate data $\\{y_i, x_i\\}$.The function should allow users to choose values of $\\{\\alpha, \\beta, \\sigma^2, \\textrm{nofX}, N\\}$.\n",
    "  - Hint: The $x_i$s are assumed (in econometrics) to be fixed and exogenous and therefore the distribution from which they are generated is inconsequential. （前面那句看不懂意思沒關係，重要是下面這句：）You may assume that they are generated from normal distributions."
   ]
  },
  {
   "cell_type": "code",
   "execution_count": 6,
   "id": "6703379d",
   "metadata": {},
   "outputs": [],
   "source": [
    "struct pair\n",
    "    x\n",
    "    y\n",
    "end"
   ]
  },
  {
   "cell_type": "code",
   "execution_count": 7,
   "id": "84eda5c3",
   "metadata": {},
   "outputs": [
    {
     "data": {
      "text/plain": [
       "f (generic function with 1 method)"
      ]
     },
     "execution_count": 7,
     "metadata": {},
     "output_type": "execute_result"
    }
   ],
   "source": [
    "function f(alpha,beta,variance,nofX,N)\n",
    "    n=N\n",
    "    epsilon=rand(Normal(0,sqrt(variance)),(n,1))\n",
    "    x=randn(n,nofX)\n",
    "    y=x*beta.+alpha.+epsilon\n",
    "    return pair(x, y)\n",
    "end"
   ]
  },
  {
   "cell_type": "code",
   "execution_count": 8,
   "id": "a9a1aa18",
   "metadata": {},
   "outputs": [
    {
     "data": {
      "text/plain": [
       "10×3 Matrix{Float64}:\n",
       "  0.246413  -0.299996  -0.602659\n",
       " -0.950908   1.40816    0.824723\n",
       " -1.83148   -0.563638   0.363264\n",
       "  0.644738  -1.85396    1.38399\n",
       "  0.723585  -0.959904  -0.431422\n",
       "  0.46174    0.930508   1.05736\n",
       " -3.89429    0.969071  -0.0405705\n",
       " -0.579588   0.165256   1.47947\n",
       "  0.877231  -0.622664   0.285446\n",
       " -0.165749  -2.42272    0.608176"
      ]
     },
     "execution_count": 8,
     "metadata": {},
     "output_type": "execute_result"
    }
   ],
   "source": [
    "f(2,[1;8;2],5,3,10).x"
   ]
  },
  {
   "cell_type": "code",
   "execution_count": 10,
   "id": "c515c5bb",
   "metadata": {},
   "outputs": [
    {
     "data": {
      "text/plain": [
       "10×1 Matrix{Float64}:\n",
       "  14.28390135492201\n",
       "  12.79919331035803\n",
       " -17.352200423035505\n",
       "  -2.43101010811044\n",
       "  13.808679689272331\n",
       "  -8.231582659190867\n",
       "  -3.0419404933904697\n",
       "   0.43049139049366447\n",
       "   5.137050201028448\n",
       "   2.944371630124516"
      ]
     },
     "execution_count": 10,
     "metadata": {},
     "output_type": "execute_result"
    }
   ],
   "source": [
    "f(2,[1;8;2],5,3,10).y"
   ]
  },
  {
   "cell_type": "markdown",
   "id": "32631c5c",
   "metadata": {},
   "source": [
    "## Draw Regression Data: Panel Model\n",
    "\n",
    "Suppose you also want to generate panel data to test your routine. The model is\n",
    "\\begin{aligned}\n",
    "    y_{it} & = \\alpha_i + \\beta x_{it} + \\epsilon_{it},\\qquad i=1,\\ldots,N,\\ t=1,\\ldots,T,\\\\\n",
    "   \\epsilon_{it} & \\sim N(0, \\sigma^2).\n",
    "\\end{aligned}   \n",
    "\n",
    "Here, $i$ is the individual index and $t$ is the time index. For instance, $w_{13}$ means the value of $w$ for the 1st individual at 3rd time period. Assume the above model is the random-effect (RE) panel data model where $\\alpha_i \\sim N(0,\\sigma_a^2)$ is a random variable which is independently distributed from $x_{it}$. Write a function to generate data of $\\{y_{it}, x_{it}\\}$ with the options of $\\{\\beta, \\sigma^2, \\sigma_a^2, \\textrm{nofX}, N, T\\}$. \n",
    "\n",
    "  - Hint: Draw $\\alpha_i$ and expand it (`repeat()`) to fill the time periods. Generate $x_{it}$ and $\\epsilon_{it}$. Then combine these elements according to the equation to create $y_{it}$.\n",
    "  - Hint: You don't really need to understand what is RE model to generate the data. Just follow the notation and it should be ok.\n",
    "  - Hint: `repeat()` would be useful here.\n",
    "  - Hint: The structure of the dataset should look like the following. Note that $\\alpha_i$ is constant within a given $i$ but would change acorss different $i$'s. \n",
    "\n",
    "\n",
    "|\ti\t|\tt\t|\ty_it\t|\talpha_i\t|\tx_it\t|\n",
    "| ---\t| ---\t|\t--- \t| ---\t\t|\t---     |\n",
    "|\t1\t|\t1\t|\t0.173 \t|\t0.12\t|\t0.183 \t|\n",
    "|\t1\t|\t2\t|\t0.372 \t|\t0.12\t|\t0.804 \t|\n",
    "|\t1\t|\t3\t|\t0.239 \t|\t0.12\t|\t0.072 \t|\n",
    "|\t1\t|\t4\t|\t0.791 \t|\t0.12\t|\t0.272 \t|\n",
    "|\t2\t|\t1\t|\t0.443 \t|\t-0.45\t|\t0.705 \t|\n",
    "|\t2\t|\t2\t|\t0.825 \t|\t-0.45\t|\t0.619 \t|\n",
    "|\t2\t|\t3\t|\t0.681 \t|\t-0.45\t|\t0.769 \t|\n",
    "|\t2\t|\t4\t|\t0.694 \t|\t-0.45\t|\t0.575 \t|\n",
    "|\t3\t|\t1\t|\t0.192 \t|\t1.29\t|\t0.067 \t|\n",
    "|\t3\t|\t2\t|\t0.072 \t|\t1.29\t|\t0.553 \t|\n",
    "|\t3\t|\t3\t|\t0.522 \t|\t1.29\t|\t0.280 \t|\n",
    "|\t3\t|\t4\t|\t0.021 \t|\t1.29\t|\t0.306 \t|\n",
    "\n",
    "\n",
    "\n",
    "\n",
    "\n"
   ]
  },
  {
   "cell_type": "code",
   "execution_count": 12,
   "id": "6c76ebce",
   "metadata": {},
   "outputs": [
    {
     "data": {
      "text/plain": [
       "f (generic function with 2 methods)"
      ]
     },
     "execution_count": 12,
     "metadata": {},
     "output_type": "execute_result"
    }
   ],
   "source": [
    "function f(beta,var,var_a,nofX,N,T)\n",
    "    epsilon=rand(Normal(0,sqrt(var)),(N*T,1))\n",
    "    x=randn(N*T,nofX)\n",
    "    a=rand(Normal(0,sqrt(var_a)),N)\n",
    "    alpha=repeat(a ,inner=T)\n",
    "    y=x*beta.+alpha.+epsilon\n",
    "    return pair(x, y)\n",
    "end"
   ]
  },
  {
   "cell_type": "code",
   "execution_count": 14,
   "id": "c1ef8682",
   "metadata": {},
   "outputs": [
    {
     "data": {
      "text/plain": [
       "12×1 Matrix{Float64}:\n",
       " -1.4367227682115067\n",
       "  1.5975099156227763\n",
       "  0.672705683624197\n",
       " -1.381674243527139\n",
       " -0.34475620522644296\n",
       " -0.8195145854269038\n",
       " -0.30986549580465095\n",
       " -1.1374134225599404\n",
       " -0.27260217487608296\n",
       "  0.7133596431348757\n",
       " -0.5721970916796492\n",
       "  0.552195307041656"
      ]
     },
     "execution_count": 14,
     "metadata": {},
     "output_type": "execute_result"
    }
   ],
   "source": [
    "f(2,4,5,1,3,4).x"
   ]
  },
  {
   "cell_type": "code",
   "execution_count": 15,
   "id": "9aea1b01",
   "metadata": {},
   "outputs": [
    {
     "data": {
      "text/plain": [
       "12×1 Matrix{Float64}:\n",
       "  0.8309733548560265\n",
       "  6.1502209525307645\n",
       "  2.7319957332695686\n",
       "  2.4103983338095905\n",
       " -5.806836332044119\n",
       " -6.055480349850983\n",
       " -0.98779627894293\n",
       " -2.493226714961878\n",
       "  2.956546073122863\n",
       "  1.1378567685102543\n",
       "  2.64004928931082\n",
       " -1.0356293662357081"
      ]
     },
     "execution_count": 15,
     "metadata": {},
     "output_type": "execute_result"
    }
   ],
   "source": [
    "f(2,4,5,1,3,4).y"
   ]
  }
 ],
 "metadata": {
  "@webio": {
   "lastCommId": null,
   "lastKernelId": null
  },
  "kernelspec": {
   "display_name": "Julia 1.6.3",
   "language": "julia",
   "name": "julia-1.6"
  },
  "language_info": {
   "file_extension": ".jl",
   "mimetype": "application/julia",
   "name": "julia",
   "version": "1.6.3"
  },
  "toc": {
   "base_numbering": 1,
   "nav_menu": {},
   "number_sections": true,
   "sideBar": true,
   "skip_h1_title": true,
   "title_cell": "Table of Contents",
   "title_sidebar": "Contents",
   "toc_cell": false,
   "toc_position": {},
   "toc_section_display": true,
   "toc_window_display": true
  }
 },
 "nbformat": 4,
 "nbformat_minor": 5
}
