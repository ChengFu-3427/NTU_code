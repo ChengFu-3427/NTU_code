{
 "cells": [
  {
   "cell_type": "code",
   "execution_count": 1,
   "id": "577a216e",
   "metadata": {},
   "outputs": [],
   "source": [
    "using Pkg\n",
    "using CSV\n",
    "using Random\n",
    "using LinearAlgebra\n",
    "using Plots\n",
    "using DataFrames\n",
    "using DelimitedFiles\n",
    "using Tables\n",
    "using Statistics\n",
    "using MarketData\n",
    "using Dates"
   ]
  },
  {
   "cell_type": "markdown",
   "id": "dfe95f00",
   "metadata": {},
   "source": [
    "# problem1"
   ]
  },
  {
   "cell_type": "code",
   "execution_count": null,
   "id": "2c5eab03",
   "metadata": {},
   "outputs": [],
   "source": [
    "stockdata = readdlm(\"D:\\\\OneDrive - g.ntu.edu.tw\\\\110\\\\商管機器學習\\\\Assignment 5\\\\stock_data.csv\", ',')\n",
    "for i in 2:length(stockdata[:,1])\n",
    "    stockdata[i,1]=Date(stockdata[i,1], dateformat\"y/m/d\")\n",
    "end\n",
    "CSV.write(\"D:\\\\OneDrive - g.ntu.edu.tw\\\\110\\\\商管機器學習\\\\Assignment 5\\\\stock_data.csv\", \n",
    "    Tables.table(stockdata), \n",
    "    writeheader = false)"
   ]
  },
  {
   "cell_type": "code",
   "execution_count": 445,
   "id": "1c05a223",
   "metadata": {},
   "outputs": [
    {
     "data": {
      "text/html": [
       "<div class=\"data-frame\"><p>1,259 rows × 11 columns (omitted printing of 2 columns)</p><table class=\"data-frame\"><thead><tr><th></th><th>Date</th><th>AAPL</th><th>TSLA</th><th>AMZN</th><th>TSM</th><th>INTC</th><th>AMD</th><th>NVDA</th><th>GOOGL</th></tr><tr><th></th><th title=\"Date\">Date</th><th title=\"Float64\">Float64</th><th title=\"Float64\">Float64</th><th title=\"Float64\">Float64</th><th title=\"Float64\">Float64</th><th title=\"Float64\">Float64</th><th title=\"Float64\">Float64</th><th title=\"Float64\">Float64</th><th title=\"Float64\">Float64</th></tr></thead><tbody><tr><th>1</th><td>2015-12-31</td><td>26.315</td><td>48.002</td><td>675.89</td><td>22.75</td><td>34.45</td><td>2.87</td><td>8.24</td><td>778.01</td></tr><tr><th>2</th><td>2016-01-04</td><td>26.3375</td><td>44.682</td><td>636.99</td><td>22.09</td><td>33.99</td><td>2.77</td><td>8.0925</td><td>759.44</td></tr><tr><th>3</th><td>2016-01-05</td><td>25.6775</td><td>44.686</td><td>633.79</td><td>21.95</td><td>33.83</td><td>2.75</td><td>8.2225</td><td>761.53</td></tr><tr><th>4</th><td>2016-01-06</td><td>25.175</td><td>43.808</td><td>632.65</td><td>21.34</td><td>33.08</td><td>2.51</td><td>7.8825</td><td>759.33</td></tr><tr><th>5</th><td>2016-01-07</td><td>24.1125</td><td>43.13</td><td>607.94</td><td>21.1</td><td>31.84</td><td>2.28</td><td>7.57</td><td>741.0</td></tr><tr><th>6</th><td>2016-01-08</td><td>24.24</td><td>42.2</td><td>607.05</td><td>20.81</td><td>31.51</td><td>2.14</td><td>7.4075</td><td>730.91</td></tr><tr><th>7</th><td>2016-01-11</td><td>24.6325</td><td>41.57</td><td>617.74</td><td>20.93</td><td>32.06</td><td>2.34</td><td>7.42</td><td>733.07</td></tr><tr><th>8</th><td>2016-01-12</td><td>24.99</td><td>41.994</td><td>617.89</td><td>20.75</td><td>32.68</td><td>2.39</td><td>7.545</td><td>745.34</td></tr><tr><th>9</th><td>2016-01-13</td><td>24.3475</td><td>40.062</td><td>581.81</td><td>20.48</td><td>31.91</td><td>2.25</td><td>7.315</td><td>719.57</td></tr><tr><th>10</th><td>2016-01-14</td><td>24.88</td><td>41.236</td><td>593.0</td><td>21.82</td><td>32.74</td><td>2.21</td><td>7.1675</td><td>731.39</td></tr><tr><th>11</th><td>2016-01-15</td><td>24.2825</td><td>40.998</td><td>570.18</td><td>21.1</td><td>29.76</td><td>2.03</td><td>6.7775</td><td>710.49</td></tr><tr><th>12</th><td>2016-01-19</td><td>24.165</td><td>40.944</td><td>574.48</td><td>21.66</td><td>29.8</td><td>1.95</td><td>6.8325</td><td>719.08</td></tr><tr><th>13</th><td>2016-01-20</td><td>24.1975</td><td>39.74</td><td>571.77</td><td>21.09</td><td>29.59</td><td>1.8</td><td>6.87</td><td>718.56</td></tr><tr><th>14</th><td>2016-01-21</td><td>24.075</td><td>39.994</td><td>575.02</td><td>21.33</td><td>29.66</td><td>2.09</td><td>6.95</td><td>726.67</td></tr><tr><th>15</th><td>2016-01-22</td><td>25.355</td><td>40.51</td><td>596.38</td><td>21.93</td><td>29.93</td><td>2.02</td><td>7.1125</td><td>745.46</td></tr><tr><th>16</th><td>2016-01-25</td><td>24.86</td><td>39.276</td><td>596.53</td><td>21.79</td><td>29.6</td><td>2.12</td><td>7.105</td><td>733.62</td></tr><tr><th>17</th><td>2016-01-26</td><td>24.9975</td><td>38.712</td><td>601.25</td><td>21.59</td><td>29.94</td><td>2.07</td><td>7.175</td><td>733.79</td></tr><tr><th>18</th><td>2016-01-27</td><td>23.355</td><td>37.614</td><td>583.35</td><td>21.68</td><td>29.81</td><td>2.13</td><td>7.09</td><td>717.58</td></tr><tr><th>19</th><td>2016-01-28</td><td>23.5225</td><td>37.94</td><td>635.35</td><td>21.63</td><td>29.97</td><td>2.08</td><td>7.0125</td><td>748.3</td></tr><tr><th>20</th><td>2016-01-29</td><td>24.335</td><td>38.24</td><td>587.0</td><td>22.35</td><td>31.02</td><td>2.2</td><td>7.3225</td><td>761.35</td></tr><tr><th>21</th><td>2016-02-01</td><td>24.1075</td><td>39.388</td><td>574.81</td><td>22.46</td><td>30.82</td><td>2.14</td><td>7.325</td><td>770.77</td></tr><tr><th>22</th><td>2016-02-02</td><td>23.62</td><td>36.556</td><td>552.1</td><td>22.56</td><td>29.8</td><td>1.99</td><td>7.015</td><td>780.91</td></tr><tr><th>23</th><td>2016-02-03</td><td>24.0875</td><td>34.696</td><td>531.07</td><td>22.92</td><td>29.34</td><td>2.07</td><td>7.05</td><td>749.38</td></tr><tr><th>24</th><td>2016-02-04</td><td>24.15</td><td>35.066</td><td>536.26</td><td>23.23</td><td>29.77</td><td>2.09</td><td>7.0525</td><td>730.03</td></tr><tr><th>25</th><td>2016-02-05</td><td>23.505</td><td>32.52</td><td>502.13</td><td>22.75</td><td>29.04</td><td>1.98</td><td>6.6075</td><td>703.76</td></tr><tr><th>26</th><td>2016-02-08</td><td>23.7525</td><td>29.598</td><td>488.1</td><td>22.8</td><td>28.82</td><td>1.93</td><td>6.305</td><td>704.16</td></tr><tr><th>27</th><td>2016-02-09</td><td>23.7475</td><td>29.65</td><td>482.07</td><td>22.56</td><td>28.81</td><td>1.9</td><td>6.3725</td><td>701.02</td></tr><tr><th>28</th><td>2016-02-10</td><td>23.5675</td><td>28.734</td><td>490.48</td><td>22.3</td><td>28.23</td><td>1.84</td><td>6.3575</td><td>706.85</td></tr><tr><th>29</th><td>2016-02-11</td><td>23.425</td><td>30.094</td><td>503.82</td><td>22.0</td><td>28.22</td><td>1.86</td><td>6.325</td><td>706.36</td></tr><tr><th>30</th><td>2016-02-12</td><td>23.4975</td><td>30.208</td><td>507.08</td><td>22.24</td><td>28.64</td><td>1.83</td><td>6.4325</td><td>706.89</td></tr><tr><th>&vellip;</th><td>&vellip;</td><td>&vellip;</td><td>&vellip;</td><td>&vellip;</td><td>&vellip;</td><td>&vellip;</td><td>&vellip;</td><td>&vellip;</td><td>&vellip;</td></tr></tbody></table></div>"
      ],
      "text/latex": [
       "\\begin{tabular}{r|cccccccccc}\n",
       "\t& Date & AAPL & TSLA & AMZN & TSM & INTC & AMD & NVDA & GOOGL & \\\\\n",
       "\t\\hline\n",
       "\t& Date & Float64 & Float64 & Float64 & Float64 & Float64 & Float64 & Float64 & Float64 & \\\\\n",
       "\t\\hline\n",
       "\t1 & 2015-12-31 & 26.315 & 48.002 & 675.89 & 22.75 & 34.45 & 2.87 & 8.24 & 778.01 & $\\dots$ \\\\\n",
       "\t2 & 2016-01-04 & 26.3375 & 44.682 & 636.99 & 22.09 & 33.99 & 2.77 & 8.0925 & 759.44 & $\\dots$ \\\\\n",
       "\t3 & 2016-01-05 & 25.6775 & 44.686 & 633.79 & 21.95 & 33.83 & 2.75 & 8.2225 & 761.53 & $\\dots$ \\\\\n",
       "\t4 & 2016-01-06 & 25.175 & 43.808 & 632.65 & 21.34 & 33.08 & 2.51 & 7.8825 & 759.33 & $\\dots$ \\\\\n",
       "\t5 & 2016-01-07 & 24.1125 & 43.13 & 607.94 & 21.1 & 31.84 & 2.28 & 7.57 & 741.0 & $\\dots$ \\\\\n",
       "\t6 & 2016-01-08 & 24.24 & 42.2 & 607.05 & 20.81 & 31.51 & 2.14 & 7.4075 & 730.91 & $\\dots$ \\\\\n",
       "\t7 & 2016-01-11 & 24.6325 & 41.57 & 617.74 & 20.93 & 32.06 & 2.34 & 7.42 & 733.07 & $\\dots$ \\\\\n",
       "\t8 & 2016-01-12 & 24.99 & 41.994 & 617.89 & 20.75 & 32.68 & 2.39 & 7.545 & 745.34 & $\\dots$ \\\\\n",
       "\t9 & 2016-01-13 & 24.3475 & 40.062 & 581.81 & 20.48 & 31.91 & 2.25 & 7.315 & 719.57 & $\\dots$ \\\\\n",
       "\t10 & 2016-01-14 & 24.88 & 41.236 & 593.0 & 21.82 & 32.74 & 2.21 & 7.1675 & 731.39 & $\\dots$ \\\\\n",
       "\t11 & 2016-01-15 & 24.2825 & 40.998 & 570.18 & 21.1 & 29.76 & 2.03 & 6.7775 & 710.49 & $\\dots$ \\\\\n",
       "\t12 & 2016-01-19 & 24.165 & 40.944 & 574.48 & 21.66 & 29.8 & 1.95 & 6.8325 & 719.08 & $\\dots$ \\\\\n",
       "\t13 & 2016-01-20 & 24.1975 & 39.74 & 571.77 & 21.09 & 29.59 & 1.8 & 6.87 & 718.56 & $\\dots$ \\\\\n",
       "\t14 & 2016-01-21 & 24.075 & 39.994 & 575.02 & 21.33 & 29.66 & 2.09 & 6.95 & 726.67 & $\\dots$ \\\\\n",
       "\t15 & 2016-01-22 & 25.355 & 40.51 & 596.38 & 21.93 & 29.93 & 2.02 & 7.1125 & 745.46 & $\\dots$ \\\\\n",
       "\t16 & 2016-01-25 & 24.86 & 39.276 & 596.53 & 21.79 & 29.6 & 2.12 & 7.105 & 733.62 & $\\dots$ \\\\\n",
       "\t17 & 2016-01-26 & 24.9975 & 38.712 & 601.25 & 21.59 & 29.94 & 2.07 & 7.175 & 733.79 & $\\dots$ \\\\\n",
       "\t18 & 2016-01-27 & 23.355 & 37.614 & 583.35 & 21.68 & 29.81 & 2.13 & 7.09 & 717.58 & $\\dots$ \\\\\n",
       "\t19 & 2016-01-28 & 23.5225 & 37.94 & 635.35 & 21.63 & 29.97 & 2.08 & 7.0125 & 748.3 & $\\dots$ \\\\\n",
       "\t20 & 2016-01-29 & 24.335 & 38.24 & 587.0 & 22.35 & 31.02 & 2.2 & 7.3225 & 761.35 & $\\dots$ \\\\\n",
       "\t21 & 2016-02-01 & 24.1075 & 39.388 & 574.81 & 22.46 & 30.82 & 2.14 & 7.325 & 770.77 & $\\dots$ \\\\\n",
       "\t22 & 2016-02-02 & 23.62 & 36.556 & 552.1 & 22.56 & 29.8 & 1.99 & 7.015 & 780.91 & $\\dots$ \\\\\n",
       "\t23 & 2016-02-03 & 24.0875 & 34.696 & 531.07 & 22.92 & 29.34 & 2.07 & 7.05 & 749.38 & $\\dots$ \\\\\n",
       "\t24 & 2016-02-04 & 24.15 & 35.066 & 536.26 & 23.23 & 29.77 & 2.09 & 7.0525 & 730.03 & $\\dots$ \\\\\n",
       "\t25 & 2016-02-05 & 23.505 & 32.52 & 502.13 & 22.75 & 29.04 & 1.98 & 6.6075 & 703.76 & $\\dots$ \\\\\n",
       "\t26 & 2016-02-08 & 23.7525 & 29.598 & 488.1 & 22.8 & 28.82 & 1.93 & 6.305 & 704.16 & $\\dots$ \\\\\n",
       "\t27 & 2016-02-09 & 23.7475 & 29.65 & 482.07 & 22.56 & 28.81 & 1.9 & 6.3725 & 701.02 & $\\dots$ \\\\\n",
       "\t28 & 2016-02-10 & 23.5675 & 28.734 & 490.48 & 22.3 & 28.23 & 1.84 & 6.3575 & 706.85 & $\\dots$ \\\\\n",
       "\t29 & 2016-02-11 & 23.425 & 30.094 & 503.82 & 22.0 & 28.22 & 1.86 & 6.325 & 706.36 & $\\dots$ \\\\\n",
       "\t30 & 2016-02-12 & 23.4975 & 30.208 & 507.08 & 22.24 & 28.64 & 1.83 & 6.4325 & 706.89 & $\\dots$ \\\\\n",
       "\t$\\dots$ & $\\dots$ & $\\dots$ & $\\dots$ & $\\dots$ & $\\dots$ & $\\dots$ & $\\dots$ & $\\dots$ & $\\dots$ &  \\\\\n",
       "\\end{tabular}\n"
      ],
      "text/plain": [
       "\u001b[1m1259×11 DataFrame\u001b[0m\n",
       "\u001b[1m  Row \u001b[0m│\u001b[1m Date       \u001b[0m\u001b[1m AAPL     \u001b[0m\u001b[1m TSLA    \u001b[0m\u001b[1m AMZN    \u001b[0m\u001b[1m TSM     \u001b[0m\u001b[1m INTC    \u001b[0m\u001b[1m AMD     \u001b[0m\u001b[1m NVD\u001b[0m ⋯\n",
       "\u001b[1m      \u001b[0m│\u001b[90m Date       \u001b[0m\u001b[90m Float64  \u001b[0m\u001b[90m Float64 \u001b[0m\u001b[90m Float64 \u001b[0m\u001b[90m Float64 \u001b[0m\u001b[90m Float64 \u001b[0m\u001b[90m Float64 \u001b[0m\u001b[90m Flo\u001b[0m ⋯\n",
       "──────┼─────────────────────────────────────────────────────────────────────────\n",
       "    1 │ 2015-12-31   26.315    48.002   675.89    22.75    34.45     2.87    8 ⋯\n",
       "    2 │ 2016-01-04   26.3375   44.682   636.99    22.09    33.99     2.77    8\n",
       "    3 │ 2016-01-05   25.6775   44.686   633.79    21.95    33.83     2.75    8\n",
       "    4 │ 2016-01-06   25.175    43.808   632.65    21.34    33.08     2.51    7\n",
       "    5 │ 2016-01-07   24.1125   43.13    607.94    21.1     31.84     2.28    7 ⋯\n",
       "    6 │ 2016-01-08   24.24     42.2     607.05    20.81    31.51     2.14    7\n",
       "    7 │ 2016-01-11   24.6325   41.57    617.74    20.93    32.06     2.34    7\n",
       "    8 │ 2016-01-12   24.99     41.994   617.89    20.75    32.68     2.39    7\n",
       "    9 │ 2016-01-13   24.3475   40.062   581.81    20.48    31.91     2.25    7 ⋯\n",
       "   10 │ 2016-01-14   24.88     41.236   593.0     21.82    32.74     2.21    7\n",
       "   11 │ 2016-01-15   24.2825   40.998   570.18    21.1     29.76     2.03    6\n",
       "  ⋮   │     ⋮          ⋮         ⋮        ⋮        ⋮        ⋮        ⋮         ⋱\n",
       " 1250 │ 2020-12-16  127.81    622.77   3240.96   105.2     51.12    96.85  132\n",
       " 1251 │ 2020-12-17  128.7     655.9    3236.08   103.9     50.65    96.84  133 ⋯\n",
       " 1252 │ 2020-12-18  126.66    695.0    3201.65   104.28    47.46    95.92  132\n",
       " 1253 │ 2020-12-21  128.23    649.86   3206.18   104.83    46.36    93.23  133\n",
       " 1254 │ 2020-12-22  131.88    640.34   3206.52   103.94    46.17    93.16  132\n",
       " 1255 │ 2020-12-23  130.96    645.98   3185.27   103.76    46.57    91.55  130 ⋯\n",
       " 1256 │ 2020-12-24  131.97    661.77   3172.69   105.97    47.07    91.81  129\n",
       " 1257 │ 2020-12-28  136.69    663.69   3283.96   106.15    47.07    91.6   129\n",
       " 1258 │ 2020-12-29  134.87    665.99   3322.0    105.56    49.39    90.62  129\n",
       " 1259 │ 2020-12-30  133.72    694.78   3285.85   108.9     48.75    92.29  131 ⋯\n",
       "\u001b[36m                                                 4 columns and 1238 rows omitted\u001b[0m"
      ]
     },
     "execution_count": 445,
     "metadata": {},
     "output_type": "execute_result"
    }
   ],
   "source": [
    "df=DataFrame(CSV.File(\"D:\\\\OneDrive - g.ntu.edu.tw\\\\110\\\\商管機器學習\\\\Assignment 5\\\\stock_data.csv\"))"
   ]
  },
  {
   "cell_type": "code",
   "execution_count": 446,
   "id": "94be28ef",
   "metadata": {},
   "outputs": [
    {
     "data": {
      "text/html": [
       "<div class=\"data-frame\"><p>1 rows × 11 columns (omitted printing of 2 columns)</p><table class=\"data-frame\"><thead><tr><th></th><th>Date</th><th>AAPL</th><th>TSLA</th><th>AMZN</th><th>TSM</th><th>INTC</th><th>AMD</th><th>NVDA</th><th>GOOGL</th></tr><tr><th></th><th title=\"Date\">Date</th><th title=\"Float64\">Float64</th><th title=\"Float64\">Float64</th><th title=\"Float64\">Float64</th><th title=\"Float64\">Float64</th><th title=\"Float64\">Float64</th><th title=\"Float64\">Float64</th><th title=\"Float64\">Float64</th><th title=\"Float64\">Float64</th></tr></thead><tbody><tr><th>1</th><td>2016-02-12</td><td>23.4975</td><td>30.208</td><td>507.08</td><td>22.24</td><td>28.64</td><td>1.83</td><td>6.4325</td><td>706.89</td></tr></tbody></table></div>"
      ],
      "text/latex": [
       "\\begin{tabular}{r|cccccccccc}\n",
       "\t& Date & AAPL & TSLA & AMZN & TSM & INTC & AMD & NVDA & GOOGL & \\\\\n",
       "\t\\hline\n",
       "\t& Date & Float64 & Float64 & Float64 & Float64 & Float64 & Float64 & Float64 & Float64 & \\\\\n",
       "\t\\hline\n",
       "\t1 & 2016-02-12 & 23.4975 & 30.208 & 507.08 & 22.24 & 28.64 & 1.83 & 6.4325 & 706.89 & $\\dots$ \\\\\n",
       "\\end{tabular}\n"
      ],
      "text/plain": [
       "\u001b[1m1×11 DataFrame\u001b[0m\n",
       "\u001b[1m Row \u001b[0m│\u001b[1m Date       \u001b[0m\u001b[1m AAPL    \u001b[0m\u001b[1m TSLA    \u001b[0m\u001b[1m AMZN    \u001b[0m\u001b[1m TSM     \u001b[0m\u001b[1m INTC    \u001b[0m\u001b[1m AMD     \u001b[0m\u001b[1m NVDA \u001b[0m ⋯\n",
       "\u001b[1m     \u001b[0m│\u001b[90m Date       \u001b[0m\u001b[90m Float64 \u001b[0m\u001b[90m Float64 \u001b[0m\u001b[90m Float64 \u001b[0m\u001b[90m Float64 \u001b[0m\u001b[90m Float64 \u001b[0m\u001b[90m Float64 \u001b[0m\u001b[90m Float\u001b[0m ⋯\n",
       "─────┼──────────────────────────────────────────────────────────────────────────\n",
       "   1 │ 2016-02-12  23.4975   30.208   507.08    22.24    28.64     1.83   6.43 ⋯\n",
       "\u001b[36m                                                               4 columns omitted\u001b[0m"
      ]
     },
     "execution_count": 446,
     "metadata": {},
     "output_type": "execute_result"
    }
   ],
   "source": [
    "filter(:Date => ==(Date(\"2016-02-12\")), df)"
   ]
  },
  {
   "cell_type": "markdown",
   "id": "f05b3451",
   "metadata": {},
   "source": [
    "(1)"
   ]
  },
  {
   "cell_type": "code",
   "execution_count": 447,
   "id": "840294e6",
   "metadata": {},
   "outputs": [
    {
     "data": {
      "text/plain": [
       "Daily_return (generic function with 1 method)"
      ]
     },
     "execution_count": 447,
     "metadata": {},
     "output_type": "execute_result"
    }
   ],
   "source": [
    "function Daily_return(x)\n",
    "    return(filter(:Date => ==(Date(x)), df))\n",
    "end"
   ]
  },
  {
   "cell_type": "code",
   "execution_count": 461,
   "id": "dc58a8c9",
   "metadata": {},
   "outputs": [
    {
     "data": {
      "text/plain": [
       "Stock_info (generic function with 1 method)"
      ]
     },
     "execution_count": 461,
     "metadata": {},
     "output_type": "execute_result"
    }
   ],
   "source": [
    "function Stock_info(t,t_end)\n",
    "    subdf=df[(df[:,:Date].>=Date(t)),:]\n",
    "    subdf=subdf[(subdf[:,:Date].<=Date(t_end)),:]\n",
    "    subdf=subdf[!, Not(r\"Date\")]\n",
    "    n=names(subdf)\n",
    "    df1=Matrix(subdf)\n",
    "    r=0\n",
    "    cov=[]\n",
    "    for i in 1:length(df1[:,1])\n",
    "        if i == 1\n",
    "            continue\n",
    "        end\n",
    "        r=r.+((df1[i,:].-df1[i-1,:])./df1[i-1,:])\n",
    "        cov=vcat(cov,[((df1[i,:].-df1[i-1,:])./df1[i-1,:])])\n",
    "    end\n",
    "    v = collect(Iterators.flatten(cov))\n",
    "    N=length(cov)\n",
    "    r=r/N*N\n",
    "    cov=reshape(v,length(subdf[1,:]),length(cov))\n",
    "    m=mean(eachcol(cov))\n",
    "    for i in 1:10\n",
    "        cov[i,:]=cov[i,:].-m[i]\n",
    "    end\n",
    "    cov=cov*cov'/N*N\n",
    "    #cov=hcat(n,cov)\n",
    "    a=[\"NA\" \"AAPL\" \"TSLA\" \"AMZN\" \"TSM\" \"INTC\" \"AMD\" \"NVDA\" \"GOOGL\" \"NFLX\" \"FB\"]\n",
    "    #cov=vcat(a,cov)\n",
    "    return(r,cov,n)\n",
    "end"
   ]
  },
  {
   "cell_type": "code",
   "execution_count": 460,
   "id": "05c8efc0",
   "metadata": {},
   "outputs": [
    {
     "data": {
      "text/plain": [
       "10×2 Matrix{Any}:\n",
       " \"AAPL\"   1.8536\n",
       " \"TSLA\"   3.57785\n",
       " \"AMZN\"   1.86999\n",
       " \"TSM\"    1.8109\n",
       " \"INTC\"   0.638804\n",
       " \"AMD\"    4.53234\n",
       " \"NVDA\"   3.34971\n",
       " \"GOOGL\"  1.00068\n",
       " \"NFLX\"   1.97258\n",
       " \"FB\"     1.2512"
      ]
     },
     "execution_count": 460,
     "metadata": {},
     "output_type": "execute_result"
    }
   ],
   "source": [
    "hcat(Stock_info(\"2016-01-01\",\"2020-12-31\")[3],Stock_info(\"2016-01-01\",\"2020-12-31\")[1])"
   ]
  },
  {
   "cell_type": "code",
   "execution_count": 464,
   "id": "fb652c67",
   "metadata": {},
   "outputs": [
    {
     "data": {
      "text/plain": [
       "11×11 Matrix{Any}:\n",
       " \"NA\"      \"AAPL\"    \"TSLA\"    \"AMZN\"   …   \"GOOGL\"   \"NFLX\"    \"FB\"\n",
       " \"AAPL\"   0.454896  0.335507  0.272434     0.260051  0.278222  0.288428\n",
       " \"TSLA\"   0.335507  1.66544   0.318511     0.275652  0.39115   0.307669\n",
       " \"AMZN\"   0.272434  0.318511  0.458424     0.264224  0.355886  0.310528\n",
       " \"TSM\"    0.254562  0.289696  0.204096     0.209334  0.221782  0.203897\n",
       " \"INTC\"   0.282461  0.301399  0.228824  …  0.246755  0.266725  0.246555\n",
       " \"AMD\"    0.390559  0.535697  0.373286     0.289991  0.442803  0.326498\n",
       " \"NVDA\"   0.399931  0.506224  0.371562     0.349744  0.417969  0.381259\n",
       " \"GOOGL\"  0.260051  0.275652  0.264224     0.345953  0.271593  0.299994\n",
       " \"NFLX\"   0.278222  0.39115   0.355886     0.271593  0.82012   0.311108\n",
       " \"FB\"     0.288428  0.307669  0.310528  …  0.299994  0.311108  0.541353"
      ]
     },
     "execution_count": 464,
     "metadata": {},
     "output_type": "execute_result"
    }
   ],
   "source": [
    "vcat([\"NA\" \"AAPL\" \"TSLA\" \"AMZN\" \"TSM\" \"INTC\" \"AMD\" \"NVDA\" \"GOOGL\" \"NFLX\" \"FB\"],\n",
    "    hcat(Stock_info(\"2016-01-01\",\"2020-12-31\")[3],Stock_info(\"2016-01-01\",\"2020-12-31\")[2]))"
   ]
  },
  {
   "cell_type": "code",
   "execution_count": 465,
   "id": "cc4a89fb",
   "metadata": {},
   "outputs": [
    {
     "data": {
      "text/plain": [
       "10×2 Matrix{Any}:\n",
       " \"AAPL\"   1.31875\n",
       " \"TSLA\"   3.08105\n",
       " \"AMZN\"   1.18205\n",
       " \"TSM\"    1.14893\n",
       " \"INTC\"   0.277455\n",
       " \"AMD\"    2.6532\n",
       " \"NVDA\"   1.34641\n",
       " \"GOOGL\"  0.622969\n",
       " \"NFLX\"   1.23163\n",
       " \"FB\"     0.623601"
      ]
     },
     "execution_count": 465,
     "metadata": {},
     "output_type": "execute_result"
    }
   ],
   "source": [
    "hcat(Stock_info(\"2018-01-01\",\"2020-12-31\")[3],Stock_info(\"2018-01-01\",\"2020-12-31\")[1])"
   ]
  },
  {
   "cell_type": "code",
   "execution_count": 466,
   "id": "b1eb78f2",
   "metadata": {},
   "outputs": [
    {
     "data": {
      "text/plain": [
       "11×11 Matrix{Any}:\n",
       " \"NA\"      \"AAPL\"    \"TSLA\"    \"AMZN\"   …   \"GOOGL\"   \"NFLX\"    \"FB\"\n",
       " \"AAPL\"   0.368929  0.294997  0.228774     0.22359   0.227776  0.247913\n",
       " \"TSLA\"   0.294997  1.39257   0.265832     0.238866  0.313511  0.2578\n",
       " \"AMZN\"   0.228774  0.265832  0.329954     0.208338  0.284408  0.238848\n",
       " \"TSM\"    0.213184  0.248016  0.170532     0.174446  0.17106   0.170609\n",
       " \"INTC\"   0.247817  0.270024  0.189534  …  0.2154    0.223393  0.211507\n",
       " \"AMD\"    0.321854  0.408334  0.317944     0.268511  0.346807  0.280767\n",
       " \"NVDA\"   0.344671  0.419884  0.314034     0.302776  0.340952  0.328732\n",
       " \"GOOGL\"  0.22359   0.238866  0.208338     0.282592  0.213615  0.24542\n",
       " \"NFLX\"   0.227776  0.313511  0.284408     0.213615  0.54406   0.24571\n",
       " \"FB\"     0.247913  0.2578    0.238848  …  0.24542   0.24571   0.432139"
      ]
     },
     "execution_count": 466,
     "metadata": {},
     "output_type": "execute_result"
    }
   ],
   "source": [
    "vcat([\"NA\" \"AAPL\" \"TSLA\" \"AMZN\" \"TSM\" \"INTC\" \"AMD\" \"NVDA\" \"GOOGL\" \"NFLX\" \"FB\"],\n",
    "    hcat(Stock_info(\"2018-01-01\",\"2020-12-31\")[3],Stock_info(\"2018-01-01\",\"2020-12-31\")[2]))"
   ]
  },
  {
   "cell_type": "markdown",
   "id": "ccb460a9",
   "metadata": {},
   "source": [
    "(2)"
   ]
  },
  {
   "cell_type": "code",
   "execution_count": 482,
   "id": "7180e22a",
   "metadata": {},
   "outputs": [
    {
     "data": {
      "text/plain": [
       "port_opt (generic function with 2 methods)"
      ]
     },
     "execution_count": 482,
     "metadata": {},
     "output_type": "execute_result"
    }
   ],
   "source": [
    "function port_opt(rho,mu,sigma)\n",
    "    T, n = size(sigma)\n",
    "    KKT = [ 2*sigma'*sigma ones(n) mu; ones(n)' 0 0; mu' 0 0]\n",
    "    wz1z2 = KKT \\ [2*rho*T*mu; 1; rho]\n",
    "    w = wz1z2[1:n]\n",
    "    return w\n",
    "end"
   ]
  },
  {
   "cell_type": "code",
   "execution_count": 516,
   "id": "ba2333ec",
   "metadata": {},
   "outputs": [],
   "source": [
    "weight=zeros(10,0)\n",
    "for i in[0.5,0.8,1.1,1.4,1.7]\n",
    "    weight=hcat(weight,port_opt(i,Stock_info(\"2020-01-01\",\"2020-12-31\")[1],\n",
    "            Stock_info(\"2020-01-01\",\"2020-12-31\")[2])) \n",
    "end"
   ]
  },
  {
   "cell_type": "code",
   "execution_count": 501,
   "id": "84979bd0",
   "metadata": {},
   "outputs": [
    {
     "data": {
      "text/plain": [
       "11×6 Matrix{Any}:\n",
       " \"NA\"       \"50%\"       \"80%\"       \"110%\"      \"140%\"      \"170%\"\n",
       " \"AAPL\"    0.383223    0.610968    0.838713    1.06646     1.2942\n",
       " \"TSLA\"   -0.0728748  -0.0806591  -0.0884434  -0.0962277  -0.104012\n",
       " \"AMZN\"    1.31786     1.60701     1.89616     2.1853      2.47445\n",
       " \"TSM\"     0.498034    0.592783    0.687531    0.78228     0.877029\n",
       " \"INTC\"   -0.571009   -0.755918   -0.940826   -1.12573    -1.31064\n",
       " \"AMD\"    -0.331782   -0.525568   -0.719354   -0.913141   -1.10693\n",
       " \"NVDA\"   -0.584692   -0.343282   -0.101872    0.139538    0.380949\n",
       " \"GOOGL\"   1.93356     1.76643     1.59931     1.43218     1.26506\n",
       " \"NFLX\"    0.0187627  -0.0230919  -0.0649464  -0.106801   -0.148656\n",
       " \"FB\"     -1.59108    -1.84867    -2.10627    -2.36386    -2.62145"
      ]
     },
     "execution_count": 501,
     "metadata": {},
     "output_type": "execute_result"
    }
   ],
   "source": [
    "vcat([\"NA\" \"50%\" \"80%\" \"110%\" \"140%\" \"170%\" ],\n",
    "    hcat([ \"AAPL\",\"TSLA\", \"AMZN\", \"TSM\", \"INTC\", \"AMD\", \"NVDA\", \"GOOGL\", \"NFLX\", \"FB\"],\n",
    "        weight))"
   ]
  },
  {
   "cell_type": "markdown",
   "id": "7cd4e27d",
   "metadata": {},
   "source": [
    "(3)"
   ]
  },
  {
   "cell_type": "code",
   "execution_count": 504,
   "id": "4d09d7c1",
   "metadata": {},
   "outputs": [
    {
     "data": {
      "text/plain": [
       "return_mat (generic function with 1 method)"
      ]
     },
     "execution_count": 504,
     "metadata": {},
     "output_type": "execute_result"
    }
   ],
   "source": [
    "function return_mat(t,t_end)\n",
    "    subdf=df[(df[:,:Date].>=Date(t)),:]\n",
    "    subdf=subdf[(subdf[:,:Date].<=Date(t_end)),:]\n",
    "    subdf=subdf[!, Not(r\"Date\")]\n",
    "    n=names(subdf)\n",
    "    df1=Matrix(subdf)\n",
    "    return df1\n",
    "end"
   ]
  },
  {
   "cell_type": "code",
   "execution_count": 505,
   "id": "8c4110ef",
   "metadata": {},
   "outputs": [
    {
     "data": {
      "text/plain": [
       "252×10 Matrix{Float64}:\n",
       "  75.0875   86.052  1898.01   60.04  …   59.9775  1368.68  329.81  209.78\n",
       "  74.3575   88.602  1874.97   58.06      59.0175  1361.52  325.9   208.67\n",
       "  74.95     90.308  1902.88   57.39      59.265   1397.81  335.83  212.6\n",
       "  74.5975   93.812  1906.86   58.32      59.9825  1395.11  330.75  213.06\n",
       "  75.7975   98.428  1891.97   58.75      60.095   1405.04  339.26  215.22\n",
       "  77.4075   96.268  1901.05   59.23  …   60.755   1419.79  335.66  218.3\n",
       "  77.5825   95.63   1883.16   58.86      61.08    1428.96  329.05  218.06\n",
       "  79.24    104.972  1891.3    60.06      62.995   1440.03  338.92  221.91\n",
       "  78.17    107.584  1869.44   60.32      61.82    1430.59  338.69  219.06\n",
       "  77.835   103.7    1862.02   58.39      61.3925  1439.2   339.07  221.15\n",
       "  78.81    102.698  1877.94   58.75  …   62.2325  1450.16  338.62  221.77\n",
       "  79.6825  102.1    1864.72   58.58      62.32    1479.52  339.67  222.14\n",
       "  79.1425  109.44   1892.0    58.24      61.985   1482.25  338.11  221.44\n",
       "   ⋮                                 ⋱                             \n",
       " 121.78    639.83   3156.97  103.56  …  133.087   1752.26  522.42  274.19\n",
       " 127.88    633.25   3165.12  105.09     133.605   1761.08  519.78  275.55\n",
       " 127.81    622.77   3240.96  105.2      132.425   1757.19  524.83  275.67\n",
       " 128.7     655.9    3236.08  103.9      133.413   1740.51  532.9   274.48\n",
       " 126.66    695.0    3201.65  104.28     132.72    1726.22  534.45  276.4\n",
       " 128.23    649.86   3206.18  104.83  …  133.322   1734.56  528.91  272.79\n",
       " 131.88    640.34   3206.52  103.94     132.783   1720.22  527.33  267.09\n",
       " 130.96    645.98   3185.27  103.76     130.092   1728.23  514.48  268.11\n",
       " 131.97    661.77   3172.69  105.97     129.938   1734.16  513.97  267.4\n",
       " 136.69    663.69   3283.96  106.15     129.0     1773.96  519.12  277.0\n",
       " 134.87    665.99   3322.0   105.56  …  129.432   1757.76  530.87  276.78\n",
       " 133.72    694.78   3285.85  108.9      131.458   1736.25  524.59  271.87"
      ]
     },
     "execution_count": 505,
     "metadata": {},
     "output_type": "execute_result"
    }
   ],
   "source": [
    "return_mat(\"2020-01-01\",\"2020-12-31\")"
   ]
  },
  {
   "cell_type": "code",
   "execution_count": 409,
   "id": "82a74afc",
   "metadata": {},
   "outputs": [
    {
     "data": {
      "text/plain": [
       "levenberg_marquardt2 (generic function with 3 methods)"
      ]
     },
     "execution_count": 409,
     "metadata": {},
     "output_type": "execute_result"
    }
   ],
   "source": [
    "function levenberg_marquardt2(f, Df, x1, lambda1, kmax=100, tol=1e-6)\n",
    "    n = length(x1)\n",
    "    x = x1\n",
    "    lambda = lambda1\n",
    "    objectives = zeros(0,1)\n",
    "    residuals = zeros(0,1)\n",
    "    for k = 1:kmax\n",
    "        fk = f(x)\n",
    "        Dfk = Df(x)\n",
    "        objectives = [objectives; norm(fk)^2]\n",
    "        residuals = [residuals; norm(2*Dfk'*fk)]\n",
    "        if norm(2*Dfk'*fk) < tol\n",
    "            break\n",
    "        end;\n",
    "        xt = x - inv(Dfk'*Dfk+lambda*Matrix{Float64}(I, n, n))*Dfk'*fk\n",
    "        if norm(f(xt)) < norm(fk)\n",
    "            lambda = 0.8*lambda\n",
    "            x = xt\n",
    "        else\n",
    "            lambda = 2.0*lambda\n",
    "        end\n",
    "    end\n",
    "    return x, Dict([ (\"objectives\", objectives),(\"residuals\", residuals)])\n",
    "end"
   ]
  },
  {
   "cell_type": "markdown",
   "id": "9ff410bc",
   "metadata": {},
   "source": [
    "(4)"
   ]
  },
  {
   "cell_type": "code",
   "execution_count": 515,
   "id": "f9cf208a",
   "metadata": {},
   "outputs": [
    {
     "data": {
      "image/svg+xml": [
       "<?xml version=\"1.0\" encoding=\"utf-8\"?>\n",
       "<svg xmlns=\"http://www.w3.org/2000/svg\" xmlns:xlink=\"http://www.w3.org/1999/xlink\" width=\"600\" height=\"400\" viewBox=\"0 0 2400 1600\">\n",
       "<defs>\n",
       "  <clipPath id=\"clip370\">\n",
       "    <rect x=\"0\" y=\"0\" width=\"2400\" height=\"1600\"/>\n",
       "  </clipPath>\n",
       "</defs>\n",
       "<path clip-path=\"url(#clip370)\" d=\"\n",
       "M0 1600 L2400 1600 L2400 0 L0 0  Z\n",
       "  \" fill=\"#ffffff\" fill-rule=\"evenodd\" fill-opacity=\"1\"/>\n",
       "<defs>\n",
       "  <clipPath id=\"clip371\">\n",
       "    <rect x=\"480\" y=\"0\" width=\"1681\" height=\"1600\"/>\n",
       "  </clipPath>\n",
       "</defs>\n",
       "<path clip-path=\"url(#clip370)\" d=\"\n",
       "M229.445 1486.45 L2352.76 1486.45 L2352.76 123.472 L229.445 123.472  Z\n",
       "  \" fill=\"#ffffff\" fill-rule=\"evenodd\" fill-opacity=\"1\"/>\n",
       "<defs>\n",
       "  <clipPath id=\"clip372\">\n",
       "    <rect x=\"229\" y=\"123\" width=\"2124\" height=\"1364\"/>\n",
       "  </clipPath>\n",
       "</defs>\n",
       "<polyline clip-path=\"url(#clip372)\" style=\"stroke:#000000; stroke-linecap:butt; stroke-linejoin:round; stroke-width:2; stroke-opacity:0.1; fill:none\" points=\"\n",
       "  287.948,1486.45 287.948,123.472 \n",
       "  \"/>\n",
       "<polyline clip-path=\"url(#clip372)\" style=\"stroke:#000000; stroke-linecap:butt; stroke-linejoin:round; stroke-width:2; stroke-opacity:0.1; fill:none\" points=\"\n",
       "  606.156,1486.45 606.156,123.472 \n",
       "  \"/>\n",
       "<polyline clip-path=\"url(#clip372)\" style=\"stroke:#000000; stroke-linecap:butt; stroke-linejoin:round; stroke-width:2; stroke-opacity:0.1; fill:none\" points=\"\n",
       "  924.365,1486.45 924.365,123.472 \n",
       "  \"/>\n",
       "<polyline clip-path=\"url(#clip372)\" style=\"stroke:#000000; stroke-linecap:butt; stroke-linejoin:round; stroke-width:2; stroke-opacity:0.1; fill:none\" points=\"\n",
       "  1242.57,1486.45 1242.57,123.472 \n",
       "  \"/>\n",
       "<polyline clip-path=\"url(#clip372)\" style=\"stroke:#000000; stroke-linecap:butt; stroke-linejoin:round; stroke-width:2; stroke-opacity:0.1; fill:none\" points=\"\n",
       "  1560.78,1486.45 1560.78,123.472 \n",
       "  \"/>\n",
       "<polyline clip-path=\"url(#clip372)\" style=\"stroke:#000000; stroke-linecap:butt; stroke-linejoin:round; stroke-width:2; stroke-opacity:0.1; fill:none\" points=\"\n",
       "  1878.99,1486.45 1878.99,123.472 \n",
       "  \"/>\n",
       "<polyline clip-path=\"url(#clip372)\" style=\"stroke:#000000; stroke-linecap:butt; stroke-linejoin:round; stroke-width:2; stroke-opacity:0.1; fill:none\" points=\"\n",
       "  2197.2,1486.45 2197.2,123.472 \n",
       "  \"/>\n",
       "<polyline clip-path=\"url(#clip370)\" style=\"stroke:#000000; stroke-linecap:butt; stroke-linejoin:round; stroke-width:4; stroke-opacity:1; fill:none\" points=\"\n",
       "  229.445,1486.45 2352.76,1486.45 \n",
       "  \"/>\n",
       "<polyline clip-path=\"url(#clip370)\" style=\"stroke:#000000; stroke-linecap:butt; stroke-linejoin:round; stroke-width:4; stroke-opacity:1; fill:none\" points=\"\n",
       "  287.948,1486.45 287.948,1467.55 \n",
       "  \"/>\n",
       "<polyline clip-path=\"url(#clip370)\" style=\"stroke:#000000; stroke-linecap:butt; stroke-linejoin:round; stroke-width:4; stroke-opacity:1; fill:none\" points=\"\n",
       "  606.156,1486.45 606.156,1467.55 \n",
       "  \"/>\n",
       "<polyline clip-path=\"url(#clip370)\" style=\"stroke:#000000; stroke-linecap:butt; stroke-linejoin:round; stroke-width:4; stroke-opacity:1; fill:none\" points=\"\n",
       "  924.365,1486.45 924.365,1467.55 \n",
       "  \"/>\n",
       "<polyline clip-path=\"url(#clip370)\" style=\"stroke:#000000; stroke-linecap:butt; stroke-linejoin:round; stroke-width:4; stroke-opacity:1; fill:none\" points=\"\n",
       "  1242.57,1486.45 1242.57,1467.55 \n",
       "  \"/>\n",
       "<polyline clip-path=\"url(#clip370)\" style=\"stroke:#000000; stroke-linecap:butt; stroke-linejoin:round; stroke-width:4; stroke-opacity:1; fill:none\" points=\"\n",
       "  1560.78,1486.45 1560.78,1467.55 \n",
       "  \"/>\n",
       "<polyline clip-path=\"url(#clip370)\" style=\"stroke:#000000; stroke-linecap:butt; stroke-linejoin:round; stroke-width:4; stroke-opacity:1; fill:none\" points=\"\n",
       "  1878.99,1486.45 1878.99,1467.55 \n",
       "  \"/>\n",
       "<polyline clip-path=\"url(#clip370)\" style=\"stroke:#000000; stroke-linecap:butt; stroke-linejoin:round; stroke-width:4; stroke-opacity:1; fill:none\" points=\"\n",
       "  2197.2,1486.45 2197.2,1467.55 \n",
       "  \"/>\n",
       "<path clip-path=\"url(#clip370)\" d=\"M287.948 1517.37 Q284.337 1517.37 282.508 1520.93 Q280.702 1524.47 280.702 1531.6 Q280.702 1538.71 282.508 1542.27 Q284.337 1545.82 287.948 1545.82 Q291.582 1545.82 293.388 1542.27 Q295.216 1538.71 295.216 1531.6 Q295.216 1524.47 293.388 1520.93 Q291.582 1517.37 287.948 1517.37 M287.948 1513.66 Q293.758 1513.66 296.813 1518.27 Q299.892 1522.85 299.892 1531.6 Q299.892 1540.33 296.813 1544.94 Q293.758 1549.52 287.948 1549.52 Q282.138 1549.52 279.059 1544.94 Q276.003 1540.33 276.003 1531.6 Q276.003 1522.85 279.059 1518.27 Q282.138 1513.66 287.948 1513.66 Z\" fill=\"#000000\" fill-rule=\"evenodd\" fill-opacity=\"1\" /><path clip-path=\"url(#clip370)\" d=\"M569.849 1544.91 L586.168 1544.91 L586.168 1548.85 L564.224 1548.85 L564.224 1544.91 Q566.886 1542.16 571.469 1537.53 Q576.076 1532.88 577.256 1531.53 Q579.501 1529.01 580.381 1527.27 Q581.284 1525.51 581.284 1523.82 Q581.284 1521.07 579.339 1519.33 Q577.418 1517.6 574.316 1517.6 Q572.117 1517.6 569.664 1518.36 Q567.233 1519.13 564.455 1520.68 L564.455 1515.95 Q567.279 1514.82 569.733 1514.24 Q572.187 1513.66 574.224 1513.66 Q579.594 1513.66 582.788 1516.35 Q585.983 1519.03 585.983 1523.52 Q585.983 1525.65 585.173 1527.57 Q584.386 1529.47 582.279 1532.07 Q581.7 1532.74 578.599 1535.95 Q575.497 1539.15 569.849 1544.91 Z\" fill=\"#000000\" fill-rule=\"evenodd\" fill-opacity=\"1\" /><path clip-path=\"url(#clip370)\" d=\"M605.983 1517.37 Q602.372 1517.37 600.543 1520.93 Q598.737 1524.47 598.737 1531.6 Q598.737 1538.71 600.543 1542.27 Q602.372 1545.82 605.983 1545.82 Q609.617 1545.82 611.423 1542.27 Q613.251 1538.71 613.251 1531.6 Q613.251 1524.47 611.423 1520.93 Q609.617 1517.37 605.983 1517.37 M605.983 1513.66 Q611.793 1513.66 614.848 1518.27 Q617.927 1522.85 617.927 1531.6 Q617.927 1540.33 614.848 1544.94 Q611.793 1549.52 605.983 1549.52 Q600.173 1549.52 597.094 1544.94 Q594.038 1540.33 594.038 1531.6 Q594.038 1522.85 597.094 1518.27 Q600.173 1513.66 605.983 1513.66 Z\" fill=\"#000000\" fill-rule=\"evenodd\" fill-opacity=\"1\" /><path clip-path=\"url(#clip370)\" d=\"M636.145 1517.37 Q632.534 1517.37 630.705 1520.93 Q628.899 1524.47 628.899 1531.6 Q628.899 1538.71 630.705 1542.27 Q632.534 1545.82 636.145 1545.82 Q639.779 1545.82 641.584 1542.27 Q643.413 1538.71 643.413 1531.6 Q643.413 1524.47 641.584 1520.93 Q639.779 1517.37 636.145 1517.37 M636.145 1513.66 Q641.955 1513.66 645.01 1518.27 Q648.089 1522.85 648.089 1531.6 Q648.089 1540.33 645.01 1544.94 Q641.955 1549.52 636.145 1549.52 Q630.334 1549.52 627.256 1544.94 Q624.2 1540.33 624.2 1531.6 Q624.2 1522.85 627.256 1518.27 Q630.334 1513.66 636.145 1513.66 Z\" fill=\"#000000\" fill-rule=\"evenodd\" fill-opacity=\"1\" /><path clip-path=\"url(#clip370)\" d=\"M897.455 1518.36 L885.65 1536.81 L897.455 1536.81 L897.455 1518.36 M896.229 1514.29 L902.108 1514.29 L902.108 1536.81 L907.039 1536.81 L907.039 1540.7 L902.108 1540.7 L902.108 1548.85 L897.455 1548.85 L897.455 1540.7 L881.854 1540.7 L881.854 1536.19 L896.229 1514.29 Z\" fill=\"#000000\" fill-rule=\"evenodd\" fill-opacity=\"1\" /><path clip-path=\"url(#clip370)\" d=\"M924.77 1517.37 Q921.159 1517.37 919.33 1520.93 Q917.525 1524.47 917.525 1531.6 Q917.525 1538.71 919.33 1542.27 Q921.159 1545.82 924.77 1545.82 Q928.404 1545.82 930.21 1542.27 Q932.039 1538.71 932.039 1531.6 Q932.039 1524.47 930.21 1520.93 Q928.404 1517.37 924.77 1517.37 M924.77 1513.66 Q930.58 1513.66 933.636 1518.27 Q936.714 1522.85 936.714 1531.6 Q936.714 1540.33 933.636 1544.94 Q930.58 1549.52 924.77 1549.52 Q918.96 1549.52 915.881 1544.94 Q912.826 1540.33 912.826 1531.6 Q912.826 1522.85 915.881 1518.27 Q918.96 1513.66 924.77 1513.66 Z\" fill=\"#000000\" fill-rule=\"evenodd\" fill-opacity=\"1\" /><path clip-path=\"url(#clip370)\" d=\"M954.932 1517.37 Q951.321 1517.37 949.492 1520.93 Q947.687 1524.47 947.687 1531.6 Q947.687 1538.71 949.492 1542.27 Q951.321 1545.82 954.932 1545.82 Q958.566 1545.82 960.372 1542.27 Q962.2 1538.71 962.2 1531.6 Q962.2 1524.47 960.372 1520.93 Q958.566 1517.37 954.932 1517.37 M954.932 1513.66 Q960.742 1513.66 963.798 1518.27 Q966.876 1522.85 966.876 1531.6 Q966.876 1540.33 963.798 1544.94 Q960.742 1549.52 954.932 1549.52 Q949.122 1549.52 946.043 1544.94 Q942.988 1540.33 942.988 1531.6 Q942.988 1522.85 946.043 1518.27 Q949.122 1513.66 954.932 1513.66 Z\" fill=\"#000000\" fill-rule=\"evenodd\" fill-opacity=\"1\" /><path clip-path=\"url(#clip370)\" d=\"M1212.9 1529.7 Q1209.75 1529.7 1207.9 1531.86 Q1206.07 1534.01 1206.07 1537.76 Q1206.07 1541.49 1207.9 1543.66 Q1209.75 1545.82 1212.9 1545.82 Q1216.05 1545.82 1217.87 1543.66 Q1219.73 1541.49 1219.73 1537.76 Q1219.73 1534.01 1217.87 1531.86 Q1216.05 1529.7 1212.9 1529.7 M1222.18 1515.05 L1222.18 1519.31 Q1220.42 1518.48 1218.62 1518.04 Q1216.83 1517.6 1215.07 1517.6 Q1210.44 1517.6 1207.99 1520.72 Q1205.56 1523.85 1205.21 1530.17 Q1206.58 1528.15 1208.64 1527.09 Q1210.7 1526 1213.18 1526 Q1218.38 1526 1221.39 1529.17 Q1224.43 1532.32 1224.43 1537.76 Q1224.43 1543.08 1221.28 1546.3 Q1218.13 1549.52 1212.9 1549.52 Q1206.9 1549.52 1203.73 1544.94 Q1200.56 1540.33 1200.56 1531.6 Q1200.56 1523.41 1204.45 1518.55 Q1208.34 1513.66 1214.89 1513.66 Q1216.65 1513.66 1218.43 1514.01 Q1220.24 1514.36 1222.18 1515.05 Z\" fill=\"#000000\" fill-rule=\"evenodd\" fill-opacity=\"1\" /><path clip-path=\"url(#clip370)\" d=\"M1242.48 1517.37 Q1238.87 1517.37 1237.04 1520.93 Q1235.24 1524.47 1235.24 1531.6 Q1235.24 1538.71 1237.04 1542.27 Q1238.87 1545.82 1242.48 1545.82 Q1246.12 1545.82 1247.92 1542.27 Q1249.75 1538.71 1249.75 1531.6 Q1249.75 1524.47 1247.92 1520.93 Q1246.12 1517.37 1242.48 1517.37 M1242.48 1513.66 Q1248.29 1513.66 1251.35 1518.27 Q1254.43 1522.85 1254.43 1531.6 Q1254.43 1540.33 1251.35 1544.94 Q1248.29 1549.52 1242.48 1549.52 Q1236.67 1549.52 1233.59 1544.94 Q1230.54 1540.33 1230.54 1531.6 Q1230.54 1522.85 1233.59 1518.27 Q1236.67 1513.66 1242.48 1513.66 Z\" fill=\"#000000\" fill-rule=\"evenodd\" fill-opacity=\"1\" /><path clip-path=\"url(#clip370)\" d=\"M1272.64 1517.37 Q1269.03 1517.37 1267.2 1520.93 Q1265.4 1524.47 1265.4 1531.6 Q1265.4 1538.71 1267.2 1542.27 Q1269.03 1545.82 1272.64 1545.82 Q1276.28 1545.82 1278.08 1542.27 Q1279.91 1538.71 1279.91 1531.6 Q1279.91 1524.47 1278.08 1520.93 Q1276.28 1517.37 1272.64 1517.37 M1272.64 1513.66 Q1278.45 1513.66 1281.51 1518.27 Q1284.59 1522.85 1284.59 1531.6 Q1284.59 1540.33 1281.51 1544.94 Q1278.45 1549.52 1272.64 1549.52 Q1266.83 1549.52 1263.75 1544.94 Q1260.7 1540.33 1260.7 1531.6 Q1260.7 1522.85 1263.75 1518.27 Q1266.83 1513.66 1272.64 1513.66 Z\" fill=\"#000000\" fill-rule=\"evenodd\" fill-opacity=\"1\" /><path clip-path=\"url(#clip370)\" d=\"M1530.57 1532.44 Q1527.24 1532.44 1525.32 1534.22 Q1523.42 1536 1523.42 1539.13 Q1523.42 1542.25 1525.32 1544.03 Q1527.24 1545.82 1530.57 1545.82 Q1533.91 1545.82 1535.83 1544.03 Q1537.75 1542.23 1537.75 1539.13 Q1537.75 1536 1535.83 1534.22 Q1533.93 1532.44 1530.57 1532.44 M1525.9 1530.45 Q1522.89 1529.7 1521.2 1527.64 Q1519.53 1525.58 1519.53 1522.62 Q1519.53 1518.48 1522.47 1516.07 Q1525.44 1513.66 1530.57 1513.66 Q1535.74 1513.66 1538.68 1516.07 Q1541.62 1518.48 1541.62 1522.62 Q1541.62 1525.58 1539.93 1527.64 Q1538.26 1529.7 1535.27 1530.45 Q1538.65 1531.23 1540.53 1533.52 Q1542.43 1535.82 1542.43 1539.13 Q1542.43 1544.15 1539.35 1546.83 Q1536.29 1549.52 1530.57 1549.52 Q1524.86 1549.52 1521.78 1546.83 Q1518.72 1544.15 1518.72 1539.13 Q1518.72 1535.82 1520.62 1533.52 Q1522.52 1531.23 1525.9 1530.45 M1524.19 1523.06 Q1524.19 1525.75 1525.85 1527.25 Q1527.54 1528.76 1530.57 1528.76 Q1533.58 1528.76 1535.27 1527.25 Q1536.99 1525.75 1536.99 1523.06 Q1536.99 1520.38 1535.27 1518.87 Q1533.58 1517.37 1530.57 1517.37 Q1527.54 1517.37 1525.85 1518.87 Q1524.19 1520.38 1524.19 1523.06 Z\" fill=\"#000000\" fill-rule=\"evenodd\" fill-opacity=\"1\" /><path clip-path=\"url(#clip370)\" d=\"M1560.74 1517.37 Q1557.12 1517.37 1555.3 1520.93 Q1553.49 1524.47 1553.49 1531.6 Q1553.49 1538.71 1555.3 1542.27 Q1557.12 1545.82 1560.74 1545.82 Q1564.37 1545.82 1566.18 1542.27 Q1568 1538.71 1568 1531.6 Q1568 1524.47 1566.18 1520.93 Q1564.37 1517.37 1560.74 1517.37 M1560.74 1513.66 Q1566.55 1513.66 1569.6 1518.27 Q1572.68 1522.85 1572.68 1531.6 Q1572.68 1540.33 1569.6 1544.94 Q1566.55 1549.52 1560.74 1549.52 Q1554.93 1549.52 1551.85 1544.94 Q1548.79 1540.33 1548.79 1531.6 Q1548.79 1522.85 1551.85 1518.27 Q1554.93 1513.66 1560.74 1513.66 Z\" fill=\"#000000\" fill-rule=\"evenodd\" fill-opacity=\"1\" /><path clip-path=\"url(#clip370)\" d=\"M1590.9 1517.37 Q1587.29 1517.37 1585.46 1520.93 Q1583.65 1524.47 1583.65 1531.6 Q1583.65 1538.71 1585.46 1542.27 Q1587.29 1545.82 1590.9 1545.82 Q1594.53 1545.82 1596.34 1542.27 Q1598.17 1538.71 1598.17 1531.6 Q1598.17 1524.47 1596.34 1520.93 Q1594.53 1517.37 1590.9 1517.37 M1590.9 1513.66 Q1596.71 1513.66 1599.76 1518.27 Q1602.84 1522.85 1602.84 1531.6 Q1602.84 1540.33 1599.76 1544.94 Q1596.71 1549.52 1590.9 1549.52 Q1585.09 1549.52 1582.01 1544.94 Q1578.95 1540.33 1578.95 1531.6 Q1578.95 1522.85 1582.01 1518.27 Q1585.09 1513.66 1590.9 1513.66 Z\" fill=\"#000000\" fill-rule=\"evenodd\" fill-opacity=\"1\" /><path clip-path=\"url(#clip370)\" d=\"M1823.52 1544.91 L1831.16 1544.91 L1831.16 1518.55 L1822.85 1520.21 L1822.85 1515.95 L1831.11 1514.29 L1835.79 1514.29 L1835.79 1544.91 L1843.42 1544.91 L1843.42 1548.85 L1823.52 1548.85 L1823.52 1544.91 Z\" fill=\"#000000\" fill-rule=\"evenodd\" fill-opacity=\"1\" /><path clip-path=\"url(#clip370)\" d=\"M1862.87 1517.37 Q1859.26 1517.37 1857.43 1520.93 Q1855.62 1524.47 1855.62 1531.6 Q1855.62 1538.71 1857.43 1542.27 Q1859.26 1545.82 1862.87 1545.82 Q1866.5 1545.82 1868.31 1542.27 Q1870.14 1538.71 1870.14 1531.6 Q1870.14 1524.47 1868.31 1520.93 Q1866.5 1517.37 1862.87 1517.37 M1862.87 1513.66 Q1868.68 1513.66 1871.73 1518.27 Q1874.81 1522.85 1874.81 1531.6 Q1874.81 1540.33 1871.73 1544.94 Q1868.68 1549.52 1862.87 1549.52 Q1857.06 1549.52 1853.98 1544.94 Q1850.92 1540.33 1850.92 1531.6 Q1850.92 1522.85 1853.98 1518.27 Q1857.06 1513.66 1862.87 1513.66 Z\" fill=\"#000000\" fill-rule=\"evenodd\" fill-opacity=\"1\" /><path clip-path=\"url(#clip370)\" d=\"M1893.03 1517.37 Q1889.42 1517.37 1887.59 1520.93 Q1885.78 1524.47 1885.78 1531.6 Q1885.78 1538.71 1887.59 1542.27 Q1889.42 1545.82 1893.03 1545.82 Q1896.66 1545.82 1898.47 1542.27 Q1900.3 1538.71 1900.3 1531.6 Q1900.3 1524.47 1898.47 1520.93 Q1896.66 1517.37 1893.03 1517.37 M1893.03 1513.66 Q1898.84 1513.66 1901.9 1518.27 Q1904.97 1522.85 1904.97 1531.6 Q1904.97 1540.33 1901.9 1544.94 Q1898.84 1549.52 1893.03 1549.52 Q1887.22 1549.52 1884.14 1544.94 Q1881.09 1540.33 1881.09 1531.6 Q1881.09 1522.85 1884.14 1518.27 Q1887.22 1513.66 1893.03 1513.66 Z\" fill=\"#000000\" fill-rule=\"evenodd\" fill-opacity=\"1\" /><path clip-path=\"url(#clip370)\" d=\"M1923.19 1517.37 Q1919.58 1517.37 1917.75 1520.93 Q1915.95 1524.47 1915.95 1531.6 Q1915.95 1538.71 1917.75 1542.27 Q1919.58 1545.82 1923.19 1545.82 Q1926.83 1545.82 1928.63 1542.27 Q1930.46 1538.71 1930.46 1531.6 Q1930.46 1524.47 1928.63 1520.93 Q1926.83 1517.37 1923.19 1517.37 M1923.19 1513.66 Q1929 1513.66 1932.06 1518.27 Q1935.14 1522.85 1935.14 1531.6 Q1935.14 1540.33 1932.06 1544.94 Q1929 1549.52 1923.19 1549.52 Q1917.38 1549.52 1914.3 1544.94 Q1911.25 1540.33 1911.25 1531.6 Q1911.25 1522.85 1914.3 1518.27 Q1917.38 1513.66 1923.19 1513.66 Z\" fill=\"#000000\" fill-rule=\"evenodd\" fill-opacity=\"1\" /><path clip-path=\"url(#clip370)\" d=\"M2141.73 1544.91 L2149.36 1544.91 L2149.36 1518.55 L2141.05 1520.21 L2141.05 1515.95 L2149.32 1514.29 L2153.99 1514.29 L2153.99 1544.91 L2161.63 1544.91 L2161.63 1548.85 L2141.73 1548.85 L2141.73 1544.91 Z\" fill=\"#000000\" fill-rule=\"evenodd\" fill-opacity=\"1\" /><path clip-path=\"url(#clip370)\" d=\"M2175.1 1544.91 L2191.42 1544.91 L2191.42 1548.85 L2169.48 1548.85 L2169.48 1544.91 Q2172.14 1542.16 2176.73 1537.53 Q2181.33 1532.88 2182.51 1531.53 Q2184.76 1529.01 2185.64 1527.27 Q2186.54 1525.51 2186.54 1523.82 Q2186.54 1521.07 2184.6 1519.33 Q2182.67 1517.6 2179.57 1517.6 Q2177.37 1517.6 2174.92 1518.36 Q2172.49 1519.13 2169.71 1520.68 L2169.71 1515.95 Q2172.54 1514.82 2174.99 1514.24 Q2177.44 1513.66 2179.48 1513.66 Q2184.85 1513.66 2188.04 1516.35 Q2191.24 1519.03 2191.24 1523.52 Q2191.24 1525.65 2190.43 1527.57 Q2189.64 1529.47 2187.54 1532.07 Q2186.96 1532.74 2183.85 1535.95 Q2180.75 1539.15 2175.1 1544.91 Z\" fill=\"#000000\" fill-rule=\"evenodd\" fill-opacity=\"1\" /><path clip-path=\"url(#clip370)\" d=\"M2211.24 1517.37 Q2207.63 1517.37 2205.8 1520.93 Q2203.99 1524.47 2203.99 1531.6 Q2203.99 1538.71 2205.8 1542.27 Q2207.63 1545.82 2211.24 1545.82 Q2214.87 1545.82 2216.68 1542.27 Q2218.51 1538.71 2218.51 1531.6 Q2218.51 1524.47 2216.68 1520.93 Q2214.87 1517.37 2211.24 1517.37 M2211.24 1513.66 Q2217.05 1513.66 2220.1 1518.27 Q2223.18 1522.85 2223.18 1531.6 Q2223.18 1540.33 2220.1 1544.94 Q2217.05 1549.52 2211.24 1549.52 Q2205.43 1549.52 2202.35 1544.94 Q2199.29 1540.33 2199.29 1531.6 Q2199.29 1522.85 2202.35 1518.27 Q2205.43 1513.66 2211.24 1513.66 Z\" fill=\"#000000\" fill-rule=\"evenodd\" fill-opacity=\"1\" /><path clip-path=\"url(#clip370)\" d=\"M2241.4 1517.37 Q2237.79 1517.37 2235.96 1520.93 Q2234.16 1524.47 2234.16 1531.6 Q2234.16 1538.71 2235.96 1542.27 Q2237.79 1545.82 2241.4 1545.82 Q2245.04 1545.82 2246.84 1542.27 Q2248.67 1538.71 2248.67 1531.6 Q2248.67 1524.47 2246.84 1520.93 Q2245.04 1517.37 2241.4 1517.37 M2241.4 1513.66 Q2247.21 1513.66 2250.27 1518.27 Q2253.35 1522.85 2253.35 1531.6 Q2253.35 1540.33 2250.27 1544.94 Q2247.21 1549.52 2241.4 1549.52 Q2235.59 1549.52 2232.51 1544.94 Q2229.46 1540.33 2229.46 1531.6 Q2229.46 1522.85 2232.51 1518.27 Q2235.59 1513.66 2241.4 1513.66 Z\" fill=\"#000000\" fill-rule=\"evenodd\" fill-opacity=\"1\" /><polyline clip-path=\"url(#clip372)\" style=\"stroke:#000000; stroke-linecap:butt; stroke-linejoin:round; stroke-width:2; stroke-opacity:0.1; fill:none\" points=\"\n",
       "  229.445,1457.64 2352.76,1457.64 \n",
       "  \"/>\n",
       "<polyline clip-path=\"url(#clip372)\" style=\"stroke:#000000; stroke-linecap:butt; stroke-linejoin:round; stroke-width:2; stroke-opacity:0.1; fill:none\" points=\"\n",
       "  229.445,1245.86 2352.76,1245.86 \n",
       "  \"/>\n",
       "<polyline clip-path=\"url(#clip372)\" style=\"stroke:#000000; stroke-linecap:butt; stroke-linejoin:round; stroke-width:2; stroke-opacity:0.1; fill:none\" points=\"\n",
       "  229.445,1034.09 2352.76,1034.09 \n",
       "  \"/>\n",
       "<polyline clip-path=\"url(#clip372)\" style=\"stroke:#000000; stroke-linecap:butt; stroke-linejoin:round; stroke-width:2; stroke-opacity:0.1; fill:none\" points=\"\n",
       "  229.445,822.309 2352.76,822.309 \n",
       "  \"/>\n",
       "<polyline clip-path=\"url(#clip372)\" style=\"stroke:#000000; stroke-linecap:butt; stroke-linejoin:round; stroke-width:2; stroke-opacity:0.1; fill:none\" points=\"\n",
       "  229.445,610.532 2352.76,610.532 \n",
       "  \"/>\n",
       "<polyline clip-path=\"url(#clip372)\" style=\"stroke:#000000; stroke-linecap:butt; stroke-linejoin:round; stroke-width:2; stroke-opacity:0.1; fill:none\" points=\"\n",
       "  229.445,398.755 2352.76,398.755 \n",
       "  \"/>\n",
       "<polyline clip-path=\"url(#clip372)\" style=\"stroke:#000000; stroke-linecap:butt; stroke-linejoin:round; stroke-width:2; stroke-opacity:0.1; fill:none\" points=\"\n",
       "  229.445,186.978 2352.76,186.978 \n",
       "  \"/>\n",
       "<polyline clip-path=\"url(#clip370)\" style=\"stroke:#000000; stroke-linecap:butt; stroke-linejoin:round; stroke-width:4; stroke-opacity:1; fill:none\" points=\"\n",
       "  229.445,1486.45 229.445,123.472 \n",
       "  \"/>\n",
       "<polyline clip-path=\"url(#clip370)\" style=\"stroke:#000000; stroke-linecap:butt; stroke-linejoin:round; stroke-width:4; stroke-opacity:1; fill:none\" points=\"\n",
       "  229.445,1457.64 248.343,1457.64 \n",
       "  \"/>\n",
       "<polyline clip-path=\"url(#clip370)\" style=\"stroke:#000000; stroke-linecap:butt; stroke-linejoin:round; stroke-width:4; stroke-opacity:1; fill:none\" points=\"\n",
       "  229.445,1245.86 248.343,1245.86 \n",
       "  \"/>\n",
       "<polyline clip-path=\"url(#clip370)\" style=\"stroke:#000000; stroke-linecap:butt; stroke-linejoin:round; stroke-width:4; stroke-opacity:1; fill:none\" points=\"\n",
       "  229.445,1034.09 248.343,1034.09 \n",
       "  \"/>\n",
       "<polyline clip-path=\"url(#clip370)\" style=\"stroke:#000000; stroke-linecap:butt; stroke-linejoin:round; stroke-width:4; stroke-opacity:1; fill:none\" points=\"\n",
       "  229.445,822.309 248.343,822.309 \n",
       "  \"/>\n",
       "<polyline clip-path=\"url(#clip370)\" style=\"stroke:#000000; stroke-linecap:butt; stroke-linejoin:round; stroke-width:4; stroke-opacity:1; fill:none\" points=\"\n",
       "  229.445,610.532 248.343,610.532 \n",
       "  \"/>\n",
       "<polyline clip-path=\"url(#clip370)\" style=\"stroke:#000000; stroke-linecap:butt; stroke-linejoin:round; stroke-width:4; stroke-opacity:1; fill:none\" points=\"\n",
       "  229.445,398.755 248.343,398.755 \n",
       "  \"/>\n",
       "<polyline clip-path=\"url(#clip370)\" style=\"stroke:#000000; stroke-linecap:butt; stroke-linejoin:round; stroke-width:4; stroke-opacity:1; fill:none\" points=\"\n",
       "  229.445,186.978 248.343,186.978 \n",
       "  \"/>\n",
       "<path clip-path=\"url(#clip370)\" d=\"M93.8623 1444.44 L82.0568 1462.88 L93.8623 1462.88 L93.8623 1444.44 M92.6354 1440.36 L98.515 1440.36 L98.515 1462.88 L103.446 1462.88 L103.446 1466.77 L98.515 1466.77 L98.515 1474.92 L93.8623 1474.92 L93.8623 1466.77 L78.2605 1466.77 L78.2605 1462.26 L92.6354 1440.36 Z\" fill=\"#000000\" fill-rule=\"evenodd\" fill-opacity=\"1\" /><path clip-path=\"url(#clip370)\" d=\"M121.177 1443.44 Q117.566 1443.44 115.737 1447 Q113.932 1450.55 113.932 1457.68 Q113.932 1464.78 115.737 1468.35 Q117.566 1471.89 121.177 1471.89 Q124.811 1471.89 126.617 1468.35 Q128.445 1464.78 128.445 1457.68 Q128.445 1450.55 126.617 1447 Q124.811 1443.44 121.177 1443.44 M121.177 1439.74 Q126.987 1439.74 130.043 1444.34 Q133.121 1448.93 133.121 1457.68 Q133.121 1466.4 130.043 1471.01 Q126.987 1475.59 121.177 1475.59 Q115.367 1475.59 112.288 1471.01 Q109.233 1466.4 109.233 1457.68 Q109.233 1448.93 112.288 1444.34 Q115.367 1439.74 121.177 1439.74 Z\" fill=\"#000000\" fill-rule=\"evenodd\" fill-opacity=\"1\" /><path clip-path=\"url(#clip370)\" d=\"M151.339 1443.44 Q147.728 1443.44 145.899 1447 Q144.093 1450.55 144.093 1457.68 Q144.093 1464.78 145.899 1468.35 Q147.728 1471.89 151.339 1471.89 Q154.973 1471.89 156.779 1468.35 Q158.607 1464.78 158.607 1457.68 Q158.607 1450.55 156.779 1447 Q154.973 1443.44 151.339 1443.44 M151.339 1439.74 Q157.149 1439.74 160.205 1444.34 Q163.283 1448.93 163.283 1457.68 Q163.283 1466.4 160.205 1471.01 Q157.149 1475.59 151.339 1475.59 Q145.529 1475.59 142.45 1471.01 Q139.394 1466.4 139.394 1457.68 Q139.394 1448.93 142.45 1444.34 Q145.529 1439.74 151.339 1439.74 Z\" fill=\"#000000\" fill-rule=\"evenodd\" fill-opacity=\"1\" /><path clip-path=\"url(#clip370)\" d=\"M181.501 1443.44 Q177.89 1443.44 176.061 1447 Q174.255 1450.55 174.255 1457.68 Q174.255 1464.78 176.061 1468.35 Q177.89 1471.89 181.501 1471.89 Q185.135 1471.89 186.94 1468.35 Q188.769 1464.78 188.769 1457.68 Q188.769 1450.55 186.94 1447 Q185.135 1443.44 181.501 1443.44 M181.501 1439.74 Q187.311 1439.74 190.366 1444.34 Q193.445 1448.93 193.445 1457.68 Q193.445 1466.4 190.366 1471.01 Q187.311 1475.59 181.501 1475.59 Q175.691 1475.59 172.612 1471.01 Q169.556 1466.4 169.556 1457.68 Q169.556 1448.93 172.612 1444.34 Q175.691 1439.74 181.501 1439.74 Z\" fill=\"#000000\" fill-rule=\"evenodd\" fill-opacity=\"1\" /><path clip-path=\"url(#clip370)\" d=\"M81.0614 1228.58 L99.4178 1228.58 L99.4178 1232.52 L85.3438 1232.52 L85.3438 1240.99 Q86.3623 1240.64 87.3808 1240.48 Q88.3993 1240.3 89.4178 1240.3 Q95.2049 1240.3 98.5845 1243.47 Q101.964 1246.64 101.964 1252.06 Q101.964 1257.63 98.4919 1260.74 Q95.0197 1263.82 88.7003 1263.82 Q86.5243 1263.82 84.2558 1263.44 Q82.0105 1263.07 79.6031 1262.33 L79.6031 1257.63 Q81.6864 1258.77 83.9086 1259.32 Q86.1308 1259.88 88.6077 1259.88 Q92.6123 1259.88 94.9502 1257.77 Q97.2882 1255.67 97.2882 1252.06 Q97.2882 1248.44 94.9502 1246.34 Q92.6123 1244.23 88.6077 1244.23 Q86.7327 1244.23 84.8577 1244.65 Q83.0058 1245.07 81.0614 1245.94 L81.0614 1228.58 Z\" fill=\"#000000\" fill-rule=\"evenodd\" fill-opacity=\"1\" /><path clip-path=\"url(#clip370)\" d=\"M121.177 1231.66 Q117.566 1231.66 115.737 1235.23 Q113.932 1238.77 113.932 1245.9 Q113.932 1253 115.737 1256.57 Q117.566 1260.11 121.177 1260.11 Q124.811 1260.11 126.617 1256.57 Q128.445 1253 128.445 1245.9 Q128.445 1238.77 126.617 1235.23 Q124.811 1231.66 121.177 1231.66 M121.177 1227.96 Q126.987 1227.96 130.043 1232.57 Q133.121 1237.15 133.121 1245.9 Q133.121 1254.63 130.043 1259.23 Q126.987 1263.82 121.177 1263.82 Q115.367 1263.82 112.288 1259.23 Q109.233 1254.63 109.233 1245.9 Q109.233 1237.15 112.288 1232.57 Q115.367 1227.96 121.177 1227.96 Z\" fill=\"#000000\" fill-rule=\"evenodd\" fill-opacity=\"1\" /><path clip-path=\"url(#clip370)\" d=\"M151.339 1231.66 Q147.728 1231.66 145.899 1235.23 Q144.093 1238.77 144.093 1245.9 Q144.093 1253 145.899 1256.57 Q147.728 1260.11 151.339 1260.11 Q154.973 1260.11 156.779 1256.57 Q158.607 1253 158.607 1245.9 Q158.607 1238.77 156.779 1235.23 Q154.973 1231.66 151.339 1231.66 M151.339 1227.96 Q157.149 1227.96 160.205 1232.57 Q163.283 1237.15 163.283 1245.9 Q163.283 1254.63 160.205 1259.23 Q157.149 1263.82 151.339 1263.82 Q145.529 1263.82 142.45 1259.23 Q139.394 1254.63 139.394 1245.9 Q139.394 1237.15 142.45 1232.57 Q145.529 1227.96 151.339 1227.96 Z\" fill=\"#000000\" fill-rule=\"evenodd\" fill-opacity=\"1\" /><path clip-path=\"url(#clip370)\" d=\"M181.501 1231.66 Q177.89 1231.66 176.061 1235.23 Q174.255 1238.77 174.255 1245.9 Q174.255 1253 176.061 1256.57 Q177.89 1260.11 181.501 1260.11 Q185.135 1260.11 186.94 1256.57 Q188.769 1253 188.769 1245.9 Q188.769 1238.77 186.94 1235.23 Q185.135 1231.66 181.501 1231.66 M181.501 1227.96 Q187.311 1227.96 190.366 1232.57 Q193.445 1237.15 193.445 1245.9 Q193.445 1254.63 190.366 1259.23 Q187.311 1263.82 181.501 1263.82 Q175.691 1263.82 172.612 1259.23 Q169.556 1254.63 169.556 1245.9 Q169.556 1237.15 172.612 1232.57 Q175.691 1227.96 181.501 1227.96 Z\" fill=\"#000000\" fill-rule=\"evenodd\" fill-opacity=\"1\" /><path clip-path=\"url(#clip370)\" d=\"M91.5938 1032.22 Q88.4456 1032.22 86.5938 1034.38 Q84.7651 1036.53 84.7651 1040.28 Q84.7651 1044.01 86.5938 1046.18 Q88.4456 1048.33 91.5938 1048.33 Q94.7419 1048.33 96.5706 1046.18 Q98.4224 1044.01 98.4224 1040.28 Q98.4224 1036.53 96.5706 1034.38 Q94.7419 1032.22 91.5938 1032.22 M100.876 1017.57 L100.876 1021.83 Q99.1169 1021 97.3113 1020.56 Q95.5289 1020.12 93.7697 1020.12 Q89.1401 1020.12 86.6864 1023.24 Q84.2558 1026.37 83.9086 1032.69 Q85.2743 1030.67 87.3345 1029.61 Q89.3947 1028.52 91.8715 1028.52 Q97.0798 1028.52 100.089 1031.69 Q103.121 1034.84 103.121 1040.28 Q103.121 1045.6 99.9733 1048.82 Q96.8252 1052.04 91.5938 1052.04 Q85.5984 1052.04 82.4271 1047.45 Q79.2559 1042.85 79.2559 1034.12 Q79.2559 1025.93 83.1447 1021.07 Q87.0336 1016.18 93.5845 1016.18 Q95.3437 1016.18 97.1261 1016.53 Q98.9317 1016.88 100.876 1017.57 Z\" fill=\"#000000\" fill-rule=\"evenodd\" fill-opacity=\"1\" /><path clip-path=\"url(#clip370)\" d=\"M121.177 1019.89 Q117.566 1019.89 115.737 1023.45 Q113.932 1026.99 113.932 1034.12 Q113.932 1041.23 115.737 1044.79 Q117.566 1048.33 121.177 1048.33 Q124.811 1048.33 126.617 1044.79 Q128.445 1041.23 128.445 1034.12 Q128.445 1026.99 126.617 1023.45 Q124.811 1019.89 121.177 1019.89 M121.177 1016.18 Q126.987 1016.18 130.043 1020.79 Q133.121 1025.37 133.121 1034.12 Q133.121 1042.85 130.043 1047.45 Q126.987 1052.04 121.177 1052.04 Q115.367 1052.04 112.288 1047.45 Q109.233 1042.85 109.233 1034.12 Q109.233 1025.37 112.288 1020.79 Q115.367 1016.18 121.177 1016.18 Z\" fill=\"#000000\" fill-rule=\"evenodd\" fill-opacity=\"1\" /><path clip-path=\"url(#clip370)\" d=\"M151.339 1019.89 Q147.728 1019.89 145.899 1023.45 Q144.093 1026.99 144.093 1034.12 Q144.093 1041.23 145.899 1044.79 Q147.728 1048.33 151.339 1048.33 Q154.973 1048.33 156.779 1044.79 Q158.607 1041.23 158.607 1034.12 Q158.607 1026.99 156.779 1023.45 Q154.973 1019.89 151.339 1019.89 M151.339 1016.18 Q157.149 1016.18 160.205 1020.79 Q163.283 1025.37 163.283 1034.12 Q163.283 1042.85 160.205 1047.45 Q157.149 1052.04 151.339 1052.04 Q145.529 1052.04 142.45 1047.45 Q139.394 1042.85 139.394 1034.12 Q139.394 1025.37 142.45 1020.79 Q145.529 1016.18 151.339 1016.18 Z\" fill=\"#000000\" fill-rule=\"evenodd\" fill-opacity=\"1\" /><path clip-path=\"url(#clip370)\" d=\"M181.501 1019.89 Q177.89 1019.89 176.061 1023.45 Q174.255 1026.99 174.255 1034.12 Q174.255 1041.23 176.061 1044.79 Q177.89 1048.33 181.501 1048.33 Q185.135 1048.33 186.94 1044.79 Q188.769 1041.23 188.769 1034.12 Q188.769 1026.99 186.94 1023.45 Q185.135 1019.89 181.501 1019.89 M181.501 1016.18 Q187.311 1016.18 190.366 1020.79 Q193.445 1025.37 193.445 1034.12 Q193.445 1042.85 190.366 1047.45 Q187.311 1052.04 181.501 1052.04 Q175.691 1052.04 172.612 1047.45 Q169.556 1042.85 169.556 1034.12 Q169.556 1025.37 172.612 1020.79 Q175.691 1016.18 181.501 1016.18 Z\" fill=\"#000000\" fill-rule=\"evenodd\" fill-opacity=\"1\" /><path clip-path=\"url(#clip370)\" d=\"M79.8346 805.029 L102.057 805.029 L102.057 807.02 L89.5104 839.589 L84.6262 839.589 L96.4317 808.965 L79.8346 808.965 L79.8346 805.029 Z\" fill=\"#000000\" fill-rule=\"evenodd\" fill-opacity=\"1\" /><path clip-path=\"url(#clip370)\" d=\"M121.177 808.108 Q117.566 808.108 115.737 811.673 Q113.932 815.215 113.932 822.344 Q113.932 829.451 115.737 833.015 Q117.566 836.557 121.177 836.557 Q124.811 836.557 126.617 833.015 Q128.445 829.451 128.445 822.344 Q128.445 815.215 126.617 811.673 Q124.811 808.108 121.177 808.108 M121.177 804.404 Q126.987 804.404 130.043 809.011 Q133.121 813.594 133.121 822.344 Q133.121 831.071 130.043 835.677 Q126.987 840.261 121.177 840.261 Q115.367 840.261 112.288 835.677 Q109.233 831.071 109.233 822.344 Q109.233 813.594 112.288 809.011 Q115.367 804.404 121.177 804.404 Z\" fill=\"#000000\" fill-rule=\"evenodd\" fill-opacity=\"1\" /><path clip-path=\"url(#clip370)\" d=\"M151.339 808.108 Q147.728 808.108 145.899 811.673 Q144.093 815.215 144.093 822.344 Q144.093 829.451 145.899 833.015 Q147.728 836.557 151.339 836.557 Q154.973 836.557 156.779 833.015 Q158.607 829.451 158.607 822.344 Q158.607 815.215 156.779 811.673 Q154.973 808.108 151.339 808.108 M151.339 804.404 Q157.149 804.404 160.205 809.011 Q163.283 813.594 163.283 822.344 Q163.283 831.071 160.205 835.677 Q157.149 840.261 151.339 840.261 Q145.529 840.261 142.45 835.677 Q139.394 831.071 139.394 822.344 Q139.394 813.594 142.45 809.011 Q145.529 804.404 151.339 804.404 Z\" fill=\"#000000\" fill-rule=\"evenodd\" fill-opacity=\"1\" /><path clip-path=\"url(#clip370)\" d=\"M181.501 808.108 Q177.89 808.108 176.061 811.673 Q174.255 815.215 174.255 822.344 Q174.255 829.451 176.061 833.015 Q177.89 836.557 181.501 836.557 Q185.135 836.557 186.94 833.015 Q188.769 829.451 188.769 822.344 Q188.769 815.215 186.94 811.673 Q185.135 808.108 181.501 808.108 M181.501 804.404 Q187.311 804.404 190.366 809.011 Q193.445 813.594 193.445 822.344 Q193.445 831.071 190.366 835.677 Q187.311 840.261 181.501 840.261 Q175.691 840.261 172.612 835.677 Q169.556 831.071 169.556 822.344 Q169.556 813.594 172.612 809.011 Q175.691 804.404 181.501 804.404 Z\" fill=\"#000000\" fill-rule=\"evenodd\" fill-opacity=\"1\" /><path clip-path=\"url(#clip370)\" d=\"M91.0151 611.4 Q87.6817 611.4 85.7605 613.183 Q83.8623 614.965 83.8623 618.09 Q83.8623 621.215 85.7605 622.998 Q87.6817 624.78 91.0151 624.78 Q94.3484 624.78 96.2697 622.998 Q98.1909 621.192 98.1909 618.09 Q98.1909 614.965 96.2697 613.183 Q94.3715 611.4 91.0151 611.4 M86.3392 609.41 Q83.3299 608.669 81.6401 606.609 Q79.9735 604.549 79.9735 601.586 Q79.9735 597.442 82.9133 595.035 Q85.8762 592.627 91.0151 592.627 Q96.1771 592.627 99.1169 595.035 Q102.057 597.442 102.057 601.586 Q102.057 604.549 100.367 606.609 Q98.7002 608.669 95.7141 609.41 Q99.0937 610.197 100.969 612.488 Q102.867 614.78 102.867 618.09 Q102.867 623.113 99.7882 625.798 Q96.7326 628.484 91.0151 628.484 Q85.2975 628.484 82.2188 625.798 Q79.1633 623.113 79.1633 618.09 Q79.1633 614.78 81.0614 612.488 Q82.9595 610.197 86.3392 609.41 M84.6262 602.025 Q84.6262 604.711 86.2929 606.215 Q87.9827 607.72 91.0151 607.72 Q94.0243 607.72 95.7141 606.215 Q97.4271 604.711 97.4271 602.025 Q97.4271 599.34 95.7141 597.836 Q94.0243 596.331 91.0151 596.331 Q87.9827 596.331 86.2929 597.836 Q84.6262 599.34 84.6262 602.025 Z\" fill=\"#000000\" fill-rule=\"evenodd\" fill-opacity=\"1\" /><path clip-path=\"url(#clip370)\" d=\"M121.177 596.331 Q117.566 596.331 115.737 599.896 Q113.932 603.437 113.932 610.567 Q113.932 617.673 115.737 621.238 Q117.566 624.78 121.177 624.78 Q124.811 624.78 126.617 621.238 Q128.445 617.673 128.445 610.567 Q128.445 603.437 126.617 599.896 Q124.811 596.331 121.177 596.331 M121.177 592.627 Q126.987 592.627 130.043 597.234 Q133.121 601.817 133.121 610.567 Q133.121 619.294 130.043 623.9 Q126.987 628.484 121.177 628.484 Q115.367 628.484 112.288 623.9 Q109.233 619.294 109.233 610.567 Q109.233 601.817 112.288 597.234 Q115.367 592.627 121.177 592.627 Z\" fill=\"#000000\" fill-rule=\"evenodd\" fill-opacity=\"1\" /><path clip-path=\"url(#clip370)\" d=\"M151.339 596.331 Q147.728 596.331 145.899 599.896 Q144.093 603.437 144.093 610.567 Q144.093 617.673 145.899 621.238 Q147.728 624.78 151.339 624.78 Q154.973 624.78 156.779 621.238 Q158.607 617.673 158.607 610.567 Q158.607 603.437 156.779 599.896 Q154.973 596.331 151.339 596.331 M151.339 592.627 Q157.149 592.627 160.205 597.234 Q163.283 601.817 163.283 610.567 Q163.283 619.294 160.205 623.9 Q157.149 628.484 151.339 628.484 Q145.529 628.484 142.45 623.9 Q139.394 619.294 139.394 610.567 Q139.394 601.817 142.45 597.234 Q145.529 592.627 151.339 592.627 Z\" fill=\"#000000\" fill-rule=\"evenodd\" fill-opacity=\"1\" /><path clip-path=\"url(#clip370)\" d=\"M181.501 596.331 Q177.89 596.331 176.061 599.896 Q174.255 603.437 174.255 610.567 Q174.255 617.673 176.061 621.238 Q177.89 624.78 181.501 624.78 Q185.135 624.78 186.94 621.238 Q188.769 617.673 188.769 610.567 Q188.769 603.437 186.94 599.896 Q185.135 596.331 181.501 596.331 M181.501 592.627 Q187.311 592.627 190.366 597.234 Q193.445 601.817 193.445 610.567 Q193.445 619.294 190.366 623.9 Q187.311 628.484 181.501 628.484 Q175.691 628.484 172.612 623.9 Q169.556 619.294 169.556 610.567 Q169.556 601.817 172.612 597.234 Q175.691 592.627 181.501 592.627 Z\" fill=\"#000000\" fill-rule=\"evenodd\" fill-opacity=\"1\" /><path clip-path=\"url(#clip370)\" d=\"M81.154 415.318 L81.154 411.058 Q82.9133 411.892 84.7188 412.331 Q86.5243 412.771 88.2604 412.771 Q92.89 412.771 95.3206 409.669 Q97.7743 406.544 98.1215 400.202 Q96.7789 402.193 94.7187 403.257 Q92.6586 404.322 90.1586 404.322 Q84.9734 404.322 81.941 401.197 Q78.9318 398.049 78.9318 392.609 Q78.9318 387.285 82.0799 384.068 Q85.2281 380.85 90.4595 380.85 Q96.4548 380.85 99.603 385.457 Q102.774 390.04 102.774 398.79 Q102.774 406.961 98.8854 411.845 Q95.0197 416.706 88.4688 416.706 Q86.7095 416.706 84.904 416.359 Q83.0984 416.012 81.154 415.318 M90.4595 400.665 Q93.6076 400.665 95.4363 398.512 Q97.2882 396.359 97.2882 392.609 Q97.2882 388.883 95.4363 386.73 Q93.6076 384.554 90.4595 384.554 Q87.3114 384.554 85.4595 386.73 Q83.6308 388.883 83.6308 392.609 Q83.6308 396.359 85.4595 398.512 Q87.3114 400.665 90.4595 400.665 Z\" fill=\"#000000\" fill-rule=\"evenodd\" fill-opacity=\"1\" /><path clip-path=\"url(#clip370)\" d=\"M121.177 384.554 Q117.566 384.554 115.737 388.119 Q113.932 391.66 113.932 398.79 Q113.932 405.896 115.737 409.461 Q117.566 413.003 121.177 413.003 Q124.811 413.003 126.617 409.461 Q128.445 405.896 128.445 398.79 Q128.445 391.66 126.617 388.119 Q124.811 384.554 121.177 384.554 M121.177 380.85 Q126.987 380.85 130.043 385.457 Q133.121 390.04 133.121 398.79 Q133.121 407.517 130.043 412.123 Q126.987 416.706 121.177 416.706 Q115.367 416.706 112.288 412.123 Q109.233 407.517 109.233 398.79 Q109.233 390.04 112.288 385.457 Q115.367 380.85 121.177 380.85 Z\" fill=\"#000000\" fill-rule=\"evenodd\" fill-opacity=\"1\" /><path clip-path=\"url(#clip370)\" d=\"M151.339 384.554 Q147.728 384.554 145.899 388.119 Q144.093 391.66 144.093 398.79 Q144.093 405.896 145.899 409.461 Q147.728 413.003 151.339 413.003 Q154.973 413.003 156.779 409.461 Q158.607 405.896 158.607 398.79 Q158.607 391.66 156.779 388.119 Q154.973 384.554 151.339 384.554 M151.339 380.85 Q157.149 380.85 160.205 385.457 Q163.283 390.04 163.283 398.79 Q163.283 407.517 160.205 412.123 Q157.149 416.706 151.339 416.706 Q145.529 416.706 142.45 412.123 Q139.394 407.517 139.394 398.79 Q139.394 390.04 142.45 385.457 Q145.529 380.85 151.339 380.85 Z\" fill=\"#000000\" fill-rule=\"evenodd\" fill-opacity=\"1\" /><path clip-path=\"url(#clip370)\" d=\"M181.501 384.554 Q177.89 384.554 176.061 388.119 Q174.255 391.66 174.255 398.79 Q174.255 405.896 176.061 409.461 Q177.89 413.003 181.501 413.003 Q185.135 413.003 186.94 409.461 Q188.769 405.896 188.769 398.79 Q188.769 391.66 186.94 388.119 Q185.135 384.554 181.501 384.554 M181.501 380.85 Q187.311 380.85 190.366 385.457 Q193.445 390.04 193.445 398.79 Q193.445 407.517 190.366 412.123 Q187.311 416.706 181.501 416.706 Q175.691 416.706 172.612 412.123 Q169.556 407.517 169.556 398.79 Q169.556 390.04 172.612 385.457 Q175.691 380.85 181.501 380.85 Z\" fill=\"#000000\" fill-rule=\"evenodd\" fill-opacity=\"1\" /><path clip-path=\"url(#clip370)\" d=\"M51.6634 200.323 L59.3023 200.323 L59.3023 173.957 L50.9921 175.624 L50.9921 171.365 L59.256 169.698 L63.9319 169.698 L63.9319 200.323 L71.5707 200.323 L71.5707 204.258 L51.6634 204.258 L51.6634 200.323 Z\" fill=\"#000000\" fill-rule=\"evenodd\" fill-opacity=\"1\" /><path clip-path=\"url(#clip370)\" d=\"M91.0151 172.777 Q87.404 172.777 85.5753 176.341 Q83.7697 179.883 83.7697 187.013 Q83.7697 194.119 85.5753 197.684 Q87.404 201.226 91.0151 201.226 Q94.6493 201.226 96.4548 197.684 Q98.2835 194.119 98.2835 187.013 Q98.2835 179.883 96.4548 176.341 Q94.6493 172.777 91.0151 172.777 M91.0151 169.073 Q96.8252 169.073 99.8808 173.679 Q102.959 178.263 102.959 187.013 Q102.959 195.74 99.8808 200.346 Q96.8252 204.929 91.0151 204.929 Q85.2049 204.929 82.1262 200.346 Q79.0707 195.74 79.0707 187.013 Q79.0707 178.263 82.1262 173.679 Q85.2049 169.073 91.0151 169.073 Z\" fill=\"#000000\" fill-rule=\"evenodd\" fill-opacity=\"1\" /><path clip-path=\"url(#clip370)\" d=\"M121.177 172.777 Q117.566 172.777 115.737 176.341 Q113.932 179.883 113.932 187.013 Q113.932 194.119 115.737 197.684 Q117.566 201.226 121.177 201.226 Q124.811 201.226 126.617 197.684 Q128.445 194.119 128.445 187.013 Q128.445 179.883 126.617 176.341 Q124.811 172.777 121.177 172.777 M121.177 169.073 Q126.987 169.073 130.043 173.679 Q133.121 178.263 133.121 187.013 Q133.121 195.74 130.043 200.346 Q126.987 204.929 121.177 204.929 Q115.367 204.929 112.288 200.346 Q109.233 195.74 109.233 187.013 Q109.233 178.263 112.288 173.679 Q115.367 169.073 121.177 169.073 Z\" fill=\"#000000\" fill-rule=\"evenodd\" fill-opacity=\"1\" /><path clip-path=\"url(#clip370)\" d=\"M151.339 172.777 Q147.728 172.777 145.899 176.341 Q144.093 179.883 144.093 187.013 Q144.093 194.119 145.899 197.684 Q147.728 201.226 151.339 201.226 Q154.973 201.226 156.779 197.684 Q158.607 194.119 158.607 187.013 Q158.607 179.883 156.779 176.341 Q154.973 172.777 151.339 172.777 M151.339 169.073 Q157.149 169.073 160.205 173.679 Q163.283 178.263 163.283 187.013 Q163.283 195.74 160.205 200.346 Q157.149 204.929 151.339 204.929 Q145.529 204.929 142.45 200.346 Q139.394 195.74 139.394 187.013 Q139.394 178.263 142.45 173.679 Q145.529 169.073 151.339 169.073 Z\" fill=\"#000000\" fill-rule=\"evenodd\" fill-opacity=\"1\" /><path clip-path=\"url(#clip370)\" d=\"M181.501 172.777 Q177.89 172.777 176.061 176.341 Q174.255 179.883 174.255 187.013 Q174.255 194.119 176.061 197.684 Q177.89 201.226 181.501 201.226 Q185.135 201.226 186.94 197.684 Q188.769 194.119 188.769 187.013 Q188.769 179.883 186.94 176.341 Q185.135 172.777 181.501 172.777 M181.501 169.073 Q187.311 169.073 190.366 173.679 Q193.445 178.263 193.445 187.013 Q193.445 195.74 190.366 200.346 Q187.311 204.929 181.501 204.929 Q175.691 204.929 172.612 200.346 Q169.556 195.74 169.556 187.013 Q169.556 178.263 172.612 173.679 Q175.691 169.073 181.501 169.073 Z\" fill=\"#000000\" fill-rule=\"evenodd\" fill-opacity=\"1\" /><path clip-path=\"url(#clip370)\" d=\"M907.136 9.62495 Q901.707 18.942 899.074 28.0566 Q896.441 37.1711 896.441 46.5287 Q896.441 55.8863 899.074 65.0818 Q901.748 74.2369 907.136 83.5134 L900.654 83.5134 Q894.578 73.9938 891.54 64.7983 Q888.542 55.6027 888.542 46.5287 Q888.542 37.4952 891.54 28.3401 Q894.537 19.1851 900.654 9.62495 L907.136 9.62495 Z\" fill=\"#000000\" fill-rule=\"evenodd\" fill-opacity=\"1\" /><path clip-path=\"url(#clip370)\" d=\"M929.699 65.6895 L958.258 65.6895 L958.258 72.576 L919.855 72.576 L919.855 65.6895 Q924.514 60.8689 932.535 52.7671 Q940.596 44.6248 942.662 42.2752 Q946.591 37.8598 948.131 34.8216 Q949.711 31.7429 949.711 28.7857 Q949.711 23.9651 946.308 20.927 Q942.946 17.8888 937.517 17.8888 Q933.669 17.8888 929.375 19.2256 Q925.122 20.5624 920.26 23.2765 L920.26 15.0127 Q925.203 13.0277 929.497 12.015 Q933.79 11.0023 937.355 11.0023 Q946.753 11.0023 952.344 15.7013 Q957.934 20.4004 957.934 28.2591 Q957.934 31.9859 956.516 35.3482 Q955.139 38.6699 951.452 43.2069 Q950.44 44.3817 945.011 50.0125 Q939.583 55.6027 929.699 65.6895 Z\" fill=\"#000000\" fill-rule=\"evenodd\" fill-opacity=\"1\" /><path clip-path=\"url(#clip370)\" d=\"M973.206 9.62495 L979.687 9.62495 Q985.764 19.1851 988.761 28.3401 Q991.799 37.4952 991.799 46.5287 Q991.799 55.6027 988.761 64.7983 Q985.764 73.9938 979.687 83.5134 L973.206 83.5134 Q978.593 74.2369 981.227 65.0818 Q983.9 55.8863 983.9 46.5287 Q983.9 37.1711 981.227 28.0566 Q978.593 18.942 973.206 9.62495 Z\" fill=\"#000000\" fill-rule=\"evenodd\" fill-opacity=\"1\" /><path clip-path=\"url(#clip370)\" d=\"M1040.49 14.324 L1040.49 27.2059 L1055.84 27.2059 L1055.84 32.9987 L1040.49 32.9987 L1040.49 57.6282 Q1040.49 63.1779 1041.99 64.7578 Q1043.53 66.3376 1048.19 66.3376 L1055.84 66.3376 L1055.84 72.576 L1048.19 72.576 Q1039.56 72.576 1036.28 69.3758 Q1033 66.1351 1033 57.6282 L1033 32.9987 L1027.53 32.9987 L1027.53 27.2059 L1033 27.2059 L1033 14.324 L1040.49 14.324 Z\" fill=\"#000000\" fill-rule=\"evenodd\" fill-opacity=\"1\" /><path clip-path=\"url(#clip370)\" d=\"M1091.94 34.1734 Q1090.68 33.4443 1089.18 33.1202 Q1087.72 32.7556 1085.94 32.7556 Q1079.62 32.7556 1076.22 36.8875 Q1072.86 40.9789 1072.86 48.6757 L1072.86 72.576 L1065.36 72.576 L1065.36 27.2059 L1072.86 27.2059 L1072.86 34.2544 Q1075.21 30.1225 1078.97 28.1376 Q1082.74 26.1121 1088.13 26.1121 Q1088.9 26.1121 1089.83 26.2337 Q1090.76 26.3147 1091.9 26.5172 L1091.94 34.1734 Z\" fill=\"#000000\" fill-rule=\"evenodd\" fill-opacity=\"1\" /><path clip-path=\"url(#clip370)\" d=\"M1120.38 49.7694 Q1111.34 49.7694 1107.86 51.8354 Q1104.37 53.9013 1104.37 58.8839 Q1104.37 62.8538 1106.97 65.2034 Q1109.6 67.5124 1114.1 67.5124 Q1120.29 67.5124 1124.02 63.1374 Q1127.79 58.7219 1127.79 51.4303 L1127.79 49.7694 L1120.38 49.7694 M1135.24 46.6907 L1135.24 72.576 L1127.79 72.576 L1127.79 65.6895 Q1125.24 69.8214 1121.43 71.8063 Q1117.62 73.7508 1112.11 73.7508 Q1105.14 73.7508 1101.01 69.8619 Q1096.92 65.9325 1096.92 59.3701 Q1096.92 51.7138 1102.02 47.825 Q1107.17 43.9361 1117.34 43.9361 L1127.79 43.9361 L1127.79 43.2069 Q1127.79 38.0623 1124.39 35.2672 Q1121.02 32.4315 1114.91 32.4315 Q1111.02 32.4315 1107.33 33.3632 Q1103.64 34.295 1100.24 36.1584 L1100.24 29.2718 Q1104.33 27.692 1108.18 26.9223 Q1112.03 26.1121 1115.68 26.1121 Q1125.52 26.1121 1130.38 31.2163 Q1135.24 36.3204 1135.24 46.6907 Z\" fill=\"#000000\" fill-rule=\"evenodd\" fill-opacity=\"1\" /><path clip-path=\"url(#clip370)\" d=\"M1180.45 34.0924 L1180.45 9.54393 L1187.9 9.54393 L1187.9 72.576 L1180.45 72.576 L1180.45 65.7705 Q1178.1 69.8214 1174.5 71.8063 Q1170.93 73.7508 1165.91 73.7508 Q1157.68 73.7508 1152.5 67.1883 Q1147.35 60.6258 1147.35 49.9314 Q1147.35 39.2371 1152.5 32.6746 Q1157.68 26.1121 1165.91 26.1121 Q1170.93 26.1121 1174.5 28.0971 Q1178.1 30.0415 1180.45 34.0924 M1155.05 49.9314 Q1155.05 58.1548 1158.41 62.8538 Q1161.82 67.5124 1167.73 67.5124 Q1173.64 67.5124 1177.05 62.8538 Q1180.45 58.1548 1180.45 49.9314 Q1180.45 41.7081 1177.05 37.0496 Q1173.64 32.3505 1167.73 32.3505 Q1161.82 32.3505 1158.41 37.0496 Q1155.05 41.7081 1155.05 49.9314 Z\" fill=\"#000000\" fill-rule=\"evenodd\" fill-opacity=\"1\" /><path clip-path=\"url(#clip370)\" d=\"M1203.26 27.2059 L1210.71 27.2059 L1210.71 72.576 L1203.26 72.576 L1203.26 27.2059 M1203.26 9.54393 L1210.71 9.54393 L1210.71 18.9825 L1203.26 18.9825 L1203.26 9.54393 Z\" fill=\"#000000\" fill-rule=\"evenodd\" fill-opacity=\"1\" /><path clip-path=\"url(#clip370)\" d=\"M1264.02 45.1919 L1264.02 72.576 L1256.57 72.576 L1256.57 45.4349 Q1256.57 38.994 1254.05 35.7938 Q1251.54 32.5936 1246.52 32.5936 Q1240.48 32.5936 1237 36.4419 Q1233.52 40.2903 1233.52 46.9338 L1233.52 72.576 L1226.02 72.576 L1226.02 27.2059 L1233.52 27.2059 L1233.52 34.2544 Q1236.19 30.163 1239.8 28.1376 Q1243.44 26.1121 1248.18 26.1121 Q1256 26.1121 1260.01 30.9732 Q1264.02 35.7938 1264.02 45.1919 Z\" fill=\"#000000\" fill-rule=\"evenodd\" fill-opacity=\"1\" /><path clip-path=\"url(#clip370)\" d=\"M1308.74 49.3643 Q1308.74 41.2625 1305.38 36.8065 Q1302.06 32.3505 1296.02 32.3505 Q1290.03 32.3505 1286.66 36.8065 Q1283.34 41.2625 1283.34 49.3643 Q1283.34 57.4256 1286.66 61.8816 Q1290.03 66.3376 1296.02 66.3376 Q1302.06 66.3376 1305.38 61.8816 Q1308.74 57.4256 1308.74 49.3643 M1316.2 66.9452 Q1316.2 78.5308 1311.05 84.1616 Q1305.91 89.8329 1295.29 89.8329 Q1291.36 89.8329 1287.88 89.2252 Q1284.4 88.6581 1281.12 87.4428 L1281.12 80.1917 Q1284.4 81.9741 1287.6 82.8248 Q1290.8 83.6755 1294.12 83.6755 Q1301.45 83.6755 1305.1 79.8271 Q1308.74 76.0193 1308.74 68.282 L1308.74 64.5957 Q1306.43 68.6061 1302.83 70.5911 Q1299.22 72.576 1294.2 72.576 Q1285.85 72.576 1280.75 66.2161 Q1275.65 59.8562 1275.65 49.3643 Q1275.65 38.832 1280.75 32.472 Q1285.85 26.1121 1294.2 26.1121 Q1299.22 26.1121 1302.83 28.0971 Q1306.43 30.082 1308.74 34.0924 L1308.74 27.2059 L1316.2 27.2059 L1316.2 66.9452 Z\" fill=\"#000000\" fill-rule=\"evenodd\" fill-opacity=\"1\" /><path clip-path=\"url(#clip370)\" d=\"M1386.84 28.5427 L1386.84 35.5912 Q1383.68 33.9709 1380.28 33.1607 Q1376.88 32.3505 1373.23 32.3505 Q1367.68 32.3505 1364.89 34.0519 Q1362.13 35.7533 1362.13 39.156 Q1362.13 41.7486 1364.12 43.2475 Q1366.1 44.7058 1372.1 46.0426 L1374.65 46.6097 Q1382.59 48.3111 1385.91 51.4303 Q1389.27 54.509 1389.27 60.0587 Q1389.27 66.3781 1384.25 70.0644 Q1379.27 73.7508 1370.52 73.7508 Q1366.87 73.7508 1362.9 73.0216 Q1358.97 72.3329 1354.6 70.9151 L1354.6 63.2184 Q1358.73 65.3654 1362.74 66.4591 Q1366.75 67.5124 1370.68 67.5124 Q1375.95 67.5124 1378.78 65.73 Q1381.62 63.9071 1381.62 60.6258 Q1381.62 57.5877 1379.55 55.9673 Q1377.53 54.3469 1370.6 52.8481 L1368.01 52.2405 Q1361.08 50.7821 1358 47.7845 Q1354.92 44.7463 1354.92 39.4801 Q1354.92 33.0797 1359.46 29.5959 Q1364 26.1121 1372.34 26.1121 Q1376.47 26.1121 1380.12 26.7198 Q1383.76 27.3274 1386.84 28.5427 Z\" fill=\"#000000\" fill-rule=\"evenodd\" fill-opacity=\"1\" /><path clip-path=\"url(#clip370)\" d=\"M1408.52 14.324 L1408.52 27.2059 L1423.87 27.2059 L1423.87 32.9987 L1408.52 32.9987 L1408.52 57.6282 Q1408.52 63.1779 1410.01 64.7578 Q1411.55 66.3376 1416.21 66.3376 L1423.87 66.3376 L1423.87 72.576 L1416.21 72.576 Q1407.58 72.576 1404.3 69.3758 Q1401.02 66.1351 1401.02 57.6282 L1401.02 32.9987 L1395.55 32.9987 L1395.55 27.2059 L1401.02 27.2059 L1401.02 14.324 L1408.52 14.324 Z\" fill=\"#000000\" fill-rule=\"evenodd\" fill-opacity=\"1\" /><path clip-path=\"url(#clip370)\" d=\"M1459.96 34.1734 Q1458.71 33.4443 1457.21 33.1202 Q1455.75 32.7556 1453.97 32.7556 Q1447.65 32.7556 1444.24 36.8875 Q1440.88 40.9789 1440.88 48.6757 L1440.88 72.576 L1433.39 72.576 L1433.39 27.2059 L1440.88 27.2059 L1440.88 34.2544 Q1443.23 30.1225 1447 28.1376 Q1450.77 26.1121 1456.15 26.1121 Q1456.92 26.1121 1457.86 26.2337 Q1458.79 26.3147 1459.92 26.5172 L1459.96 34.1734 Z\" fill=\"#000000\" fill-rule=\"evenodd\" fill-opacity=\"1\" /><path clip-path=\"url(#clip370)\" d=\"M1488.4 49.7694 Q1479.37 49.7694 1475.88 51.8354 Q1472.4 53.9013 1472.4 58.8839 Q1472.4 62.8538 1474.99 65.2034 Q1477.62 67.5124 1482.12 67.5124 Q1488.32 67.5124 1492.05 63.1374 Q1495.81 58.7219 1495.81 51.4303 L1495.81 49.7694 L1488.4 49.7694 M1503.27 46.6907 L1503.27 72.576 L1495.81 72.576 L1495.81 65.6895 Q1493.26 69.8214 1489.45 71.8063 Q1485.65 73.7508 1480.14 73.7508 Q1473.17 73.7508 1469.04 69.8619 Q1464.95 65.9325 1464.95 59.3701 Q1464.95 51.7138 1470.05 47.825 Q1475.19 43.9361 1485.36 43.9361 L1495.81 43.9361 L1495.81 43.2069 Q1495.81 38.0623 1492.41 35.2672 Q1489.05 32.4315 1482.93 32.4315 Q1479.04 32.4315 1475.36 33.3632 Q1471.67 34.295 1468.27 36.1584 L1468.27 29.2718 Q1472.36 27.692 1476.21 26.9223 Q1480.05 26.1121 1483.7 26.1121 Q1493.54 26.1121 1498.41 31.2163 Q1503.27 36.3204 1503.27 46.6907 Z\" fill=\"#000000\" fill-rule=\"evenodd\" fill-opacity=\"1\" /><path clip-path=\"url(#clip370)\" d=\"M1525.99 14.324 L1525.99 27.2059 L1541.35 27.2059 L1541.35 32.9987 L1525.99 32.9987 L1525.99 57.6282 Q1525.99 63.1779 1527.49 64.7578 Q1529.03 66.3376 1533.69 66.3376 L1541.35 66.3376 L1541.35 72.576 L1533.69 72.576 Q1525.06 72.576 1521.78 69.3758 Q1518.5 66.1351 1518.5 57.6282 L1518.5 32.9987 L1513.03 32.9987 L1513.03 27.2059 L1518.5 27.2059 L1518.5 14.324 L1525.99 14.324 Z\" fill=\"#000000\" fill-rule=\"evenodd\" fill-opacity=\"1\" /><path clip-path=\"url(#clip370)\" d=\"M1589.96 48.0275 L1589.96 51.6733 L1555.69 51.6733 Q1556.17 59.3701 1560.3 63.421 Q1564.48 67.4314 1571.89 67.4314 Q1576.18 67.4314 1580.19 66.3781 Q1584.24 65.3249 1588.21 63.2184 L1588.21 70.267 Q1584.2 71.9684 1579.99 72.8596 Q1575.78 73.7508 1571.44 73.7508 Q1560.59 73.7508 1554.23 67.4314 Q1547.91 61.1119 1547.91 50.3365 Q1547.91 39.1965 1553.9 32.6746 Q1559.94 26.1121 1570.15 26.1121 Q1579.3 26.1121 1584.61 32.0264 Q1589.96 37.9003 1589.96 48.0275 M1582.5 45.84 Q1582.42 39.7232 1579.06 36.0774 Q1575.74 32.4315 1570.23 32.4315 Q1563.99 32.4315 1560.22 35.9558 Q1556.5 39.4801 1555.93 45.8805 L1582.5 45.84 Z\" fill=\"#000000\" fill-rule=\"evenodd\" fill-opacity=\"1\" /><path clip-path=\"url(#clip370)\" d=\"M1632.04 49.3643 Q1632.04 41.2625 1628.68 36.8065 Q1625.36 32.3505 1619.33 32.3505 Q1613.33 32.3505 1609.97 36.8065 Q1606.65 41.2625 1606.65 49.3643 Q1606.65 57.4256 1609.97 61.8816 Q1613.33 66.3376 1619.33 66.3376 Q1625.36 66.3376 1628.68 61.8816 Q1632.04 57.4256 1632.04 49.3643 M1639.5 66.9452 Q1639.5 78.5308 1634.35 84.1616 Q1629.21 89.8329 1618.6 89.8329 Q1614.67 89.8329 1611.18 89.2252 Q1607.7 88.6581 1604.42 87.4428 L1604.42 80.1917 Q1607.7 81.9741 1610.9 82.8248 Q1614.1 83.6755 1617.42 83.6755 Q1624.75 83.6755 1628.4 79.8271 Q1632.04 76.0193 1632.04 68.282 L1632.04 64.5957 Q1629.74 68.6061 1626.13 70.5911 Q1622.53 72.576 1617.5 72.576 Q1609.16 72.576 1604.05 66.2161 Q1598.95 59.8562 1598.95 49.3643 Q1598.95 38.832 1604.05 32.472 Q1609.16 26.1121 1617.5 26.1121 Q1622.53 26.1121 1626.13 28.0971 Q1629.74 30.082 1632.04 34.0924 L1632.04 27.2059 L1639.5 27.2059 L1639.5 66.9452 Z\" fill=\"#000000\" fill-rule=\"evenodd\" fill-opacity=\"1\" /><path clip-path=\"url(#clip370)\" d=\"M1673.73 76.7889 Q1670.57 84.8907 1667.57 87.3618 Q1664.57 89.8329 1659.55 89.8329 L1653.6 89.8329 L1653.6 83.5945 L1657.97 83.5945 Q1661.05 83.5945 1662.75 82.1361 Q1664.45 80.6778 1666.52 75.2496 L1667.85 71.8468 L1649.5 27.2059 L1657.4 27.2059 L1671.58 62.6918 L1685.76 27.2059 L1693.66 27.2059 L1673.73 76.7889 Z\" fill=\"#000000\" fill-rule=\"evenodd\" fill-opacity=\"1\" /><polyline clip-path=\"url(#clip372)\" style=\"stroke:#009af9; stroke-linecap:butt; stroke-linejoin:round; stroke-width:4; stroke-opacity:1; fill:none\" points=\"\n",
       "  289.539,1291.09 291.13,1300.16 292.721,1278.83 294.312,1278.95 295.903,1279.65 297.494,1272.11 299.085,1273.25 300.676,1267.95 302.267,1276.85 303.858,1276.18 \n",
       "  305.449,1267.6 307.04,1259.41 308.631,1250.73 310.222,1251.73 311.813,1251.83 313.404,1265.61 314.995,1287.71 316.587,1274.21 318.178,1271.7 319.769,1264.98 \n",
       "  321.36,1232.48 322.951,1214.64 324.542,1219.31 326.133,1221.68 327.724,1206.79 329.315,1198.01 330.906,1171.42 332.497,1164.4 334.088,1159.38 335.679,1165.33 \n",
       "  337.27,1168.42 338.861,1164.21 340.452,1158.58 342.043,1165.24 343.634,1192.83 345.225,1238.93 346.816,1260.99 348.407,1257.32 349.998,1311.45 351.589,1303.1 \n",
       "  353.18,1265.67 354.772,1294.29 356.363,1260.23 357.954,1299.45 359.545,1312.03 361.136,1367.9 362.727,1321.44 364.318,1364.64 365.909,1438.96 367.5,1373.05 \n",
       "  369.091,1447.87 370.682,1398.25 372.273,1401.67 373.864,1381.53 375.455,1407.9 377.046,1398.03 378.637,1362.08 380.228,1387.06 381.819,1345.53 383.41,1380.27 \n",
       "  385.001,1351.3 386.592,1348.83 388.183,1381.92 389.774,1372.61 391.366,1384.41 392.957,1326.72 394.548,1324.09 396.139,1307.38 397.73,1307.8 399.321,1271.46 \n",
       "  400.912,1218.8 402.503,1214.7 404.094,1186.82 405.685,1188.14 407.276,1189.79 408.867,1224.59 410.458,1200.69 412.049,1186.15 413.64,1182.7 415.231,1194.17 \n",
       "  416.822,1225.39 418.413,1168.11 420.004,1140.96 421.595,1203.93 423.186,1194.75 424.777,1184.3 426.368,1176.97 427.96,1163.69 429.551,1154.86 431.142,1139.51 \n",
       "  432.733,1164.2 434.324,1170.24 435.915,1161.98 437.506,1151.54 439.097,1142.99 440.688,1142.52 442.279,1119.55 443.87,1135.05 445.461,1136.76 447.052,1136.2 \n",
       "  448.643,1138.56 450.234,1140.53 451.825,1123.47 453.416,1117.01 455.007,1113.71 456.598,1112.16 458.189,1126.05 459.78,1110.93 461.371,1096.29 462.962,1075.7 \n",
       "  464.554,1057.43 466.145,1102.92 467.736,1103.35 469.327,1094.27 470.918,1072.57 472.509,1063 474.1,1067.02 475.691,1066.11 477.282,1044.86 478.873,1025.93 \n",
       "  480.464,1043.92 482.055,1035.52 483.646,1077.95 485.237,1068.92 486.828,1041.45 488.419,1001.64 490.01,985.822 491.601,929.727 493.192,949.857 494.783,922.579 \n",
       "  496.374,888.802 497.965,876.199 499.556,910.961 501.148,913.521 502.739,936.305 504.33,939.585 505.921,950.12 507.512,867.347 509.103,885.213 510.694,892.127 \n",
       "  512.285,940.68 513.876,935.906 515.467,914.516 517.058,939.488 518.649,923.256 520.24,912.934 521.831,907.579 523.422,924.342 525.013,920.639 526.604,899.459 \n",
       "  528.195,888.65 529.786,908.325 531.377,912.256 532.968,934.957 534.559,903.855 536.15,900.824 537.742,909.589 539.333,896.659 540.924,844.505 542.515,863.532 \n",
       "  544.106,842.967 545.697,846.376 547.288,837.283 548.879,821.377 550.47,786.744 552.061,801.454 553.652,797.488 555.243,788.998 556.834,765.353 558.425,733.631 \n",
       "  560.016,809.43 561.607,846.745 563.198,905.095 564.789,864.438 566.38,897.044 567.971,917.01 569.562,924.69 571.153,901.299 572.744,929.292 574.336,955.947 \n",
       "  575.927,985.163 577.518,991.053 579.109,933.718 580.7,987.55 582.291,977.007 583.882,951.912 585.473,922.885 587.064,930.004 588.655,929.531 590.246,902.055 \n",
       "  591.837,938.93 593.428,909.181 595.019,948.145 596.61,918.019 598.201,911.261 599.792,873.037 601.383,811.143 602.974,810.567 604.565,832.983 606.156,841.22 \n",
       "  607.747,854.386 609.338,886.198 610.93,876.585 612.521,874.97 614.112,868.639 615.703,852.023 617.294,868.081 618.885,841.951 620.476,906.404 622.067,878.656 \n",
       "  623.658,896.849 625.249,901.747 626.84,882.803 628.431,796.183 630.022,769.592 631.613,773.725 633.204,814.048 634.795,850.48 636.386,819.961 637.977,828.846 \n",
       "  639.568,811.687 641.159,810.818 642.75,814.005 644.341,830.585 645.932,820.804 647.523,833.266 649.115,837.457 650.706,820.362 652.297,801.7 653.888,790.303 \n",
       "  655.479,811.367 657.07,782.935 658.661,775.936 660.252,780.261 661.843,785.628 663.434,791.677 665.025,787.719 666.616,818.88 668.207,823.971 669.798,815.476 \n",
       "  671.389,814.764 672.98,808.841 674.571,789.01 676.162,797.41 677.753,813.704 679.344,806.701 680.935,810.119 682.526,812.948 684.117,813.781 685.709,769.14 \n",
       "  687.3,765.547 688.891,783.291 690.482,1234.32 692.073,1244.53 693.664,1223.04 695.255,1222.72 696.846,1224.8 698.437,1217.3 700.028,1219.72 701.619,1214.47 \n",
       "  703.21,1224.3 704.801,1224.57 706.392,1215.42 707.983,1209.11 709.574,1198.9 711.165,1200.19 712.756,1200.61 714.347,1215.26 715.938,1238.06 717.529,1223.79 \n",
       "  719.12,1221.24 720.711,1213.06 722.303,1171.08 723.894,1155.56 725.485,1156.4 727.076,1159.37 728.667,1144.8 730.258,1134.54 731.849,1105.67 733.44,1097.41 \n",
       "  735.031,1092.21 736.622,1098.83 738.213,1102.87 739.804,1097.75 741.395,1091.21 742.986,1098.48 744.577,1128.18 746.168,1176.89 747.759,1199.83 749.35,1195.92 \n",
       "  750.941,1252.88 752.532,1245.35 754.123,1205.4 755.714,1234.51 757.305,1198.17 758.897,1237.87 760.488,1251.05 762.079,1309.57 763.67,1259.99 765.261,1304.97 \n",
       "  766.852,1383.69 768.443,1315.62 770.034,1390.18 771.625,1335.12 773.216,1336.17 774.807,1314.02 776.398,1341.05 777.989,1327.55 779.58,1292.19 781.171,1319.06 \n",
       "  782.762,1275.97 784.353,1311.9 785.944,1280.83 787.535,1279.75 789.126,1313.08 790.717,1303.47 792.308,1315.01 793.899,1255.49 795.491,1252.26 797.082,1234.66 \n",
       "  798.673,1235.11 800.264,1191.43 801.855,1133.91 803.446,1128.12 805.037,1094.05 806.628,1098.21 808.219,1098.3 809.81,1134.99 811.401,1111.02 812.992,1094.92 \n",
       "  814.583,1091.12 816.174,1104.24 817.765,1137.56 819.356,1081.07 820.947,1048.43 822.538,1121.69 824.129,1111.12 825.72,1101.49 827.311,1092.08 828.902,1078.66 \n",
       "  830.493,1069.58 832.085,1053.14 833.676,1079.82 835.267,1083.99 836.858,1074.85 838.449,1063.83 840.04,1054.63 841.631,1052.62 843.222,1028.55 844.813,1047.12 \n",
       "  846.404,1049.69 847.995,1050.15 849.586,1053.14 851.177,1055.28 852.768,1036.22 854.359,1028.42 855.95,1025.31 857.541,1023.04 859.132,1036.91 860.723,1021.49 \n",
       "  862.314,1004.66 863.905,979.883 865.496,958.916 867.087,1007.1 868.679,1008.74 870.27,998.45 871.861,975.266 873.452,964.35 875.043,966.946 876.634,964.609 \n",
       "  878.225,941.827 879.816,920.314 881.407,938.595 882.998,929.188 884.589,971.548 886.18,964.723 887.771,933.593 889.362,888.096 890.953,872.203 892.544,807.288 \n",
       "  894.135,830.544 895.726,798.731 897.317,759.31 898.908,746.82 900.499,786.044 902.09,789.956 903.681,817.316 905.273,821.214 906.864,833.913 908.455,738.614 \n",
       "  910.046,759.556 911.637,769.165 913.228,822.704 914.819,816.016 916.41,792.402 918.001,819.792 919.592,802.347 921.183,791.509 922.774,778.009 924.365,797.531 \n",
       "  925.956,791.99 927.547,766.78 929.138,756.464 930.729,779.579 932.32,784.111 933.911,809.935 935.502,774.89 937.093,772.286 938.684,781.372 940.275,766.432 \n",
       "  941.866,707.844 943.458,729.643 945.049,708.46 946.64,711.921 948.231,701.834 949.822,684.962 951.413,647.514 953.004,663.564 954.595,659.727 956.186,647.935 \n",
       "  957.777,622.095 959.368,590.735 960.959,673.324 962.55,713.108 964.141,778.033 965.732,730.569 967.323,767.933 968.914,791.129 970.505,798.886 972.096,773.626 \n",
       "  973.687,805.36 975.278,834.881 976.869,866.283 978.46,870.804 980.052,804.409 981.643,864.171 983.234,852.827 984.825,823.747 986.416,790.67 988.007,800.142 \n",
       "  989.598,799.281 991.189,768.701 992.78,810.018 994.371,776.785 995.962,820.283 997.553,784.683 999.144,779.455 1000.74,736.182 1002.33,666.72 1003.92,666.556 \n",
       "  1005.51,693.454 1007.1,702.713 1008.69,720.397 1010.28,754.88 1011.87,745.463 1013.46,747.346 1015.05,742.36 1016.65,725.139 1018.24,739.105 1019.83,708.603 \n",
       "  1021.42,777.152 1023.01,748.606 1024.6,778.823 1026.19,785.877 1027.78,765.026 1029.37,671.016 1030.96,640.303 1032.56,644.813 1034.15,694.788 1035.74,737.029 \n",
       "  1037.33,700.508 1038.92,710.76 1040.51,693.584 1042.1,692.556 1043.69,694.997 1045.28,712.588 1046.88,702.949 1048.47,715.767 1050.06,719.726 1051.65,703.374 \n",
       "  1053.24,680.463 1054.83,669.413 1056.42,691.017 1058.01,661.32 1059.6,656.387 1061.19,661.377 1062.79,668.165 1064.38,674.583 1065.97,669.197 1067.56,703.32 \n",
       "  1069.15,708.27 1070.74,698.911 1072.33,695.219 1073.92,688.902 1075.51,664.391 1077.11,672.474 1078.7,690.518 1080.29,682.941 1081.88,685.35 1083.47,689.849 \n",
       "  1085.06,691.591 1086.65,641.925 1088.24,635.653 1089.83,654.502 1091.42,1177.55 1093.02,1188.9 1094.61,1167.26 1096.2,1166.49 1097.79,1169.95 1099.38,1162.49 \n",
       "  1100.97,1166.19 1102.56,1160.99 1104.15,1171.76 1105.74,1172.97 1107.33,1163.24 1108.93,1158.81 1110.52,1147.08 1112.11,1148.65 1113.7,1149.4 1115.29,1164.91 \n",
       "  1116.88,1188.41 1118.47,1173.37 1120.06,1170.79 1121.65,1161.15 1123.25,1109.67 1124.84,1096.48 1126.43,1093.49 1128.02,1097.05 1129.61,1082.82 1131.2,1071.07 \n",
       "  1132.79,1039.93 1134.38,1030.41 1135.97,1025.04 1137.56,1032.33 1139.16,1037.33 1140.75,1031.28 1142.34,1023.84 1143.93,1031.72 1145.52,1063.53 1147.11,1114.86 \n",
       "  1148.7,1138.68 1150.29,1134.52 1151.88,1194.3 1153.48,1187.61 1155.07,1145.12 1156.66,1174.74 1158.25,1136.12 1159.84,1176.29 1161.43,1190.06 1163.02,1251.24 \n",
       "  1164.61,1198.55 1166.2,1245.31 1167.79,1328.42 1169.39,1258.2 1170.98,1332.49 1172.57,1272 1174.16,1270.68 1175.75,1246.5 1177.34,1274.21 1178.93,1257.07 \n",
       "  1180.52,1222.31 1182.11,1251.06 1183.71,1206.4 1185.3,1243.54 1186.89,1210.36 1188.48,1210.68 1190.07,1244.24 1191.66,1234.34 1193.25,1245.6 1194.84,1184.25 \n",
       "  1196.43,1180.43 1198.02,1161.94 1199.62,1162.42 1201.21,1111.39 1202.8,1049.01 1204.39,1041.53 1205.98,1001.29 1207.57,1008.29 1209.16,1006.8 1210.75,1045.38 \n",
       "  1212.34,1021.35 1213.93,1003.7 1215.53,999.544 1217.12,1014.32 1218.71,1049.73 1220.3,994.038 1221.89,955.903 1223.48,1039.45 1225.07,1027.49 1226.66,1018.68 \n",
       "  1228.25,1007.18 1229.85,993.636 1231.44,984.299 1233.03,966.777 1234.62,995.444 1236.21,997.741 1237.8,987.727 1239.39,976.112 1240.98,966.271 1242.57,962.716 \n",
       "  1244.16,937.559 1245.76,959.191 1247.35,962.624 1248.94,964.095 1250.53,967.719 1252.12,970.031 1253.71,948.964 1255.3,939.828 1256.89,936.909 1258.48,933.925 \n",
       "  1260.08,947.76 1261.67,932.041 1263.26,913.038 1264.85,884.066 1266.44,860.404 1268.03,911.267 1269.62,914.127 1271.21,902.627 1272.8,877.96 1274.39,865.696 \n",
       "  1275.99,866.868 1277.58,863.105 1279.17,838.796 1280.76,814.702 1282.35,833.269 1283.94,822.856 1285.53,865.143 1287.12,860.522 1288.71,825.731 1290.3,774.548 \n",
       "  1291.9,758.583 1293.49,684.849 1295.08,711.232 1296.67,674.882 1298.26,629.817 1299.85,617.441 1301.44,661.127 1303.03,666.392 1304.62,698.327 1306.22,702.844 \n",
       "  1307.81,717.706 1309.4,609.882 1310.99,633.898 1312.58,646.203 1314.17,704.728 1315.76,696.126 1317.35,670.288 1318.94,700.096 1320.53,681.439 1322.13,670.084 \n",
       "  1323.72,648.439 1325.31,670.721 1326.9,663.341 1328.49,634.101 1330.08,624.278 1331.67,650.833 1333.26,655.966 1334.85,684.912 1336.45,645.926 1338.04,643.748 \n",
       "  1339.63,653.154 1341.22,636.204 1342.81,571.183 1344.4,595.754 1345.99,573.953 1347.58,577.467 1349.17,566.385 1350.76,548.546 1352.36,508.284 1353.95,525.674 \n",
       "  1355.54,521.967 1357.13,506.871 1358.72,478.837 1360.31,447.839 1361.9,537.219 1363.49,579.47 1365.08,650.971 1366.68,596.7 1368.27,638.823 1369.86,665.247 \n",
       "  1371.45,673.083 1373.04,645.954 1374.63,681.428 1376.22,713.815 1377.81,747.404 1379.4,750.555 1380.99,675.1 1382.59,740.792 1384.18,728.647 1385.77,695.583 \n",
       "  1387.36,658.454 1388.95,670.28 1390.54,669.031 1392.13,635.346 1393.72,681.105 1395.31,644.389 1396.9,692.421 1398.5,651.347 1400.09,647.648 1401.68,599.328 \n",
       "  1403.27,522.298 1404.86,522.546 1406.45,553.925 1408.04,564.206 1409.63,586.409 1411.22,623.563 1412.82,614.341 1414.41,619.723 1416,616.08 1417.59,598.254 \n",
       "  1419.18,610.13 1420.77,575.254 1422.36,647.901 1423.95,618.555 1425.54,660.797 1427.13,670.006 1428.73,647.25 1430.32,545.848 1431.91,511.013 1433.5,515.9 \n",
       "  1435.09,575.528 1436.68,623.577 1438.27,581.055 1439.86,592.674 1441.45,575.481 1443.05,574.293 1444.64,575.99 1446.23,594.591 1447.82,585.094 1449.41,598.267 \n",
       "  1451,601.996 1452.59,586.386 1454.18,559.226 1455.77,548.524 1457.36,570.667 1458.96,539.705 1460.55,536.839 1462.14,542.493 1463.73,550.703 1465.32,557.489 \n",
       "  1466.91,550.675 1468.5,587.759 1470.09,592.569 1471.68,582.347 1473.27,575.675 1474.87,568.963 1476.46,539.772 1478.05,547.539 1479.64,567.332 1481.23,559.181 \n",
       "  1482.82,560.58 1484.41,566.75 1486,569.4 1487.59,514.71 1489.19,505.759 1490.78,525.712 1492.37,1120.78 1493.96,1133.27 1495.55,1111.47 1497.14,1110.27 \n",
       "  1498.73,1115.1 1500.32,1107.68 1501.91,1112.66 1503.5,1107.52 1505.1,1119.21 1506.69,1121.36 1508.28,1111.05 1509.87,1108.5 1511.46,1095.25 1513.05,1097.11 \n",
       "  1514.64,1098.19 1516.23,1114.56 1517.82,1138.76 1519.42,1122.94 1521.01,1120.33 1522.6,1109.23 1524.19,1048.26 1525.78,1037.4 1527.37,1030.58 1528.96,1034.74 \n",
       "  1530.55,1020.83 1532.14,1007.6 1533.73,974.185 1535.33,963.42 1536.92,957.869 1538.51,965.833 1540.1,971.791 1541.69,964.822 1543.28,956.474 1544.87,964.965 \n",
       "  1546.46,998.873 1548.05,1052.83 1549.65,1077.52 1551.24,1073.12 1552.83,1135.72 1554.42,1129.86 1556.01,1084.84 1557.6,1114.97 1559.19,1074.06 1560.78,1114.72 \n",
       "  1562.37,1129.08 1563.96,1192.91 1565.56,1137.1 1567.15,1185.64 1568.74,1273.15 1570.33,1200.78 1571.92,1274.79 1573.51,1208.88 1575.1,1205.18 1576.69,1178.99 \n",
       "  1578.28,1207.36 1579.87,1186.6 1581.47,1152.42 1583.06,1183.06 1584.65,1136.84 1586.24,1175.17 1587.83,1139.88 1589.42,1141.61 1591.01,1175.4 1592.6,1165.21 \n",
       "  1594.19,1176.2 1595.79,1113.02 1597.38,1108.59 1598.97,1089.22 1600.56,1089.73 1602.15,1031.36 1603.74,964.118 1605.33,954.945 1606.92,908.526 1608.51,918.363 \n",
       "  1610.1,915.304 1611.7,955.78 1613.29,931.686 1614.88,912.482 1616.47,907.967 1618.06,924.391 1619.65,961.904 1621.24,907.004 1622.83,863.373 1624.42,957.208 \n",
       "  1626.02,943.862 1627.61,935.874 1629.2,922.278 1630.79,908.611 1632.38,899.019 1633.97,880.411 1635.56,911.069 1637.15,911.491 1638.74,900.601 1640.33,888.396 \n",
       "  1641.93,877.91 1643.52,872.813 1645.11,846.565 1646.7,871.262 1648.29,875.554 1649.88,878.042 1651.47,882.301 1653.06,884.781 1654.65,861.708 1656.24,851.238 \n",
       "  1657.84,848.509 1659.43,844.809 1661.02,858.613 1662.61,842.596 1664.2,821.413 1665.79,788.249 1667.38,761.892 1668.97,815.439 1670.56,819.518 1672.16,806.803 \n",
       "  1673.75,780.654 1675.34,767.041 1676.93,766.79 1678.52,761.601 1680.11,735.765 1681.7,709.089 1683.29,727.944 1684.88,716.524 1686.47,758.738 1688.07,756.321 \n",
       "  1689.66,717.87 1691.25,660.999 1692.84,644.964 1694.43,562.409 1696.02,591.919 1697.61,551.034 1699.2,500.325 1700.79,488.062 1702.39,536.21 1703.98,542.828 \n",
       "  1705.57,579.337 1707.16,584.473 1708.75,601.499 1710.34,481.15 1711.93,508.241 1713.52,523.241 1715.11,586.753 1716.7,576.235 1718.3,548.174 1719.89,580.4 \n",
       "  1721.48,560.53 1723.07,548.658 1724.66,518.869 1726.25,543.911 1727.84,534.692 1729.43,501.422 1731.02,492.092 1732.61,522.087 1734.21,527.821 1735.8,559.889 \n",
       "  1737.39,516.962 1738.98,515.21 1740.57,524.937 1742.16,505.977 1743.75,434.522 1745.34,461.865 1746.93,439.446 1748.53,443.012 1750.12,430.936 1751.71,412.13 \n",
       "  1753.3,369.054 1754.89,387.783 1756.48,384.207 1758.07,365.808 1759.66,335.579 1761.25,304.943 1762.84,401.114 1764.44,445.832 1766.03,523.908 1767.62,462.831 \n",
       "  1769.21,509.712 1770.8,539.365 1772.39,547.28 1773.98,518.281 1775.57,557.496 1777.16,592.749 1778.76,628.524 1780.35,630.306 1781.94,545.792 1783.53,617.412 \n",
       "  1785.12,604.467 1786.71,567.418 1788.3,526.238 1789.89,540.418 1791.48,538.781 1793.07,501.992 1794.67,552.193 1796.26,511.992 1797.85,564.559 1799.44,518.011 \n",
       "  1801.03,515.842 1802.62,462.473 1804.21,377.876 1805.8,378.535 1807.39,414.396 1808.99,425.699 1810.58,452.421 1812.17,492.245 1813.76,483.22 1815.35,492.1 \n",
       "  1816.94,489.8 1818.53,471.37 1820.12,481.155 1821.71,441.906 1823.3,518.649 1824.9,488.504 1826.49,542.771 1828.08,554.135 1829.67,529.473 1831.26,420.681 \n",
       "  1832.85,381.724 1834.44,386.987 1836.03,456.268 1837.62,510.126 1839.21,461.602 1840.81,474.587 1842.4,457.378 1843.99,456.03 1845.58,456.983 1847.17,476.594 \n",
       "  1848.76,467.24 1850.35,480.767 1851.94,484.266 1853.53,469.399 1855.13,437.988 1856.72,427.634 1858.31,450.317 1859.9,418.091 1861.49,417.29 1863.08,423.609 \n",
       "  1864.67,433.241 1866.26,440.396 1867.85,432.153 1869.44,472.199 1871.04,476.868 1872.63,465.783 1874.22,456.13 1875.81,449.024 1877.4,415.153 1878.99,422.604 \n",
       "  1880.58,444.145 1882.17,435.421 1883.76,435.81 1885.36,443.651 1886.95,447.209 1888.54,387.495 1890.13,375.866 1891.72,396.923 1893.31,1064.01 1894.9,1077.65 \n",
       "  1896.49,1055.68 1898.08,1054.04 1899.67,1060.25 1901.27,1052.86 1902.86,1059.13 1904.45,1054.04 1906.04,1066.66 1907.63,1069.76 1909.22,1058.87 1910.81,1058.2 \n",
       "  1912.4,1043.43 1913.99,1045.57 1915.58,1046.98 1917.18,1064.21 1918.77,1089.11 1920.36,1072.52 1921.95,1069.87 1923.54,1057.31 1925.13,986.85 1926.72,978.314 \n",
       "  1928.31,967.677 1929.9,972.434 1931.5,958.839 1933.09,944.132 1934.68,908.44 1936.27,896.425 1937.86,890.698 1939.45,899.333 1941.04,906.25 1942.63,898.36 \n",
       "  1944.22,889.105 1945.81,898.208 1947.41,934.22 1949,990.797 1950.59,1016.36 1952.18,1011.73 1953.77,1077.14 1955.36,1072.11 1956.95,1024.56 1958.54,1055.2 \n",
       "  1960.13,1012 1961.73,1053.14 1963.32,1068.1 1964.91,1134.58 1966.5,1075.65 1968.09,1125.97 1969.68,1217.88 1971.27,1143.36 1972.86,1217.1 1974.45,1145.75 \n",
       "  1976.04,1139.69 1977.64,1111.47 1979.23,1140.52 1980.82,1116.12 1982.41,1082.54 1984,1115.06 1985.59,1067.28 1987.18,1106.81 1988.77,1069.41 1990.36,1072.53 \n",
       "  1991.96,1106.56 1993.55,1096.07 1995.14,1106.79 1996.73,1041.78 1998.32,1036.76 1999.91,1016.5 2001.5,1017.04 2003.09,951.319 2004.68,879.222 2006.27,868.358 \n",
       "  2007.87,815.761 2009.46,828.436 2011.05,823.807 2012.64,866.178 2014.23,842.017 2015.82,821.261 2017.41,816.391 2019,834.466 2020.59,874.075 2022.18,819.969 \n",
       "  2023.78,770.844 2025.37,874.966 2026.96,860.231 2028.55,853.066 2030.14,837.379 2031.73,823.585 2033.32,813.74 2034.91,794.044 2036.5,826.693 2038.1,825.242 \n",
       "  2039.69,813.476 2041.28,800.68 2042.87,789.549 2044.46,782.909 2046.05,755.572 2047.64,783.333 2049.23,788.484 2050.82,791.989 2052.41,796.883 2054.01,799.53 \n",
       "  2055.6,774.453 2057.19,762.648 2058.78,760.109 2060.37,755.692 2061.96,769.466 2063.55,753.151 2065.14,729.788 2066.73,692.431 2068.33,663.381 2069.92,719.611 \n",
       "  2071.51,724.909 2073.1,710.98 2074.69,683.347 2076.28,668.387 2077.87,666.712 2079.46,660.097 2081.05,632.734 2082.64,603.476 2084.24,622.618 2085.83,610.192 \n",
       "  2087.42,652.332 2089.01,652.121 2090.6,610.009 2092.19,547.45 2093.78,531.344 2095.37,439.97 2096.96,472.606 2098.55,427.186 2100.15,370.833 2101.74,358.683 \n",
       "  2103.33,411.293 2104.92,419.264 2106.51,460.348 2108.1,466.102 2109.69,485.292 2111.28,352.418 2112.87,382.584 2114.47,400.279 2116.06,468.777 2117.65,456.345 \n",
       "  2119.24,426.059 2120.83,460.704 2122.42,439.622 2124.01,427.233 2125.6,389.3 2127.19,417.1 2128.78,406.043 2130.38,368.742 2131.97,359.906 2133.56,393.341 \n",
       "  2135.15,399.676 2136.74,434.867 2138.33,387.998 2139.92,386.672 2141.51,396.72 2143.1,375.75 2144.7,297.861 2146.29,327.976 2147.88,304.939 2149.47,308.558 \n",
       "  2151.06,295.487 2152.65,275.714 2154.24,229.825 2155.83,249.893 2157.42,246.447 2159.01,224.744 2160.61,192.321 2162.2,162.047 2163.79,265.008 2165.38,312.195 \n",
       "  2166.97,396.846 2168.56,328.962 2170.15,380.602 2171.74,413.483 2173.33,421.477 2174.93,390.608 2176.52,433.564 2178.11,471.682 2179.7,509.644 2181.29,510.057 \n",
       "  2182.88,416.483 2184.47,494.033 2186.06,480.287 2187.65,439.254 2189.24,394.023 2190.84,410.556 2192.43,408.531 2194.02,368.637 2195.61,423.28 2197.2,379.596 \n",
       "  2198.79,436.697 2200.38,384.676 2201.97,384.036 2203.56,325.618 2205.15,233.453 2206.75,234.525 2208.34,274.868 2209.93,287.192 2211.52,318.433 2213.11,360.928 \n",
       "  2214.7,352.098 2216.29,364.477 2217.88,363.52 2219.47,344.486 2221.07,352.18 2222.66,308.558 2224.25,389.397 2225.84,358.454 2227.43,424.744 2229.02,438.265 \n",
       "  2230.61,411.696 2232.2,295.513 2233.79,252.434 2235.38,258.075 2236.98,337.008 2238.57,396.675 2240.16,342.149 2241.75,356.501 2243.34,339.275 2244.93,337.768 \n",
       "  2246.52,337.975 2248.11,358.597 2249.7,349.385 2251.3,363.267 2252.89,366.536 2254.48,352.411 2256.07,316.751 2257.66,306.745 2259.25,329.967 2260.84,296.476 \n",
       "  2262.43,297.742 2264.02,304.726 2265.61,315.778 2267.21,323.302 2268.8,313.632 2270.39,356.639 2271.98,361.167 2273.57,349.218 2275.16,336.585 2276.75,329.085 \n",
       "  2278.34,290.535 2279.93,297.669 2281.52,320.959 2283.12,311.661 2284.71,311.04 2286.3,320.552 2287.89,325.018 2289.48,260.28 2291.07,245.972 2292.66,268.134 \n",
       "  \n",
       "  \"/>\n",
       "<path clip-path=\"url(#clip370)\" d=\"\n",
       "M1993.63 272.585 L2281.98 272.585 L2281.98 168.905 L1993.63 168.905  Z\n",
       "  \" fill=\"#ffffff\" fill-rule=\"evenodd\" fill-opacity=\"1\"/>\n",
       "<polyline clip-path=\"url(#clip370)\" style=\"stroke:#000000; stroke-linecap:butt; stroke-linejoin:round; stroke-width:4; stroke-opacity:1; fill:none\" points=\"\n",
       "  1993.63,272.585 2281.98,272.585 2281.98,168.905 1993.63,168.905 1993.63,272.585 \n",
       "  \"/>\n",
       "<polyline clip-path=\"url(#clip370)\" style=\"stroke:#009af9; stroke-linecap:butt; stroke-linejoin:round; stroke-width:4; stroke-opacity:1; fill:none\" points=\"\n",
       "  2017.22,220.745 2158.77,220.745 \n",
       "  \"/>\n",
       "<path clip-path=\"url(#clip370)\" d=\"M2196.21 240.432 Q2194.4 245.062 2192.69 246.474 Q2190.97 247.886 2188.1 247.886 L2184.7 247.886 L2184.7 244.321 L2187.2 244.321 Q2188.96 244.321 2189.93 243.488 Q2190.91 242.654 2192.09 239.552 L2192.85 237.608 L2182.36 212.099 L2186.88 212.099 L2194.98 232.377 L2203.08 212.099 L2207.6 212.099 L2196.21 240.432 Z\" fill=\"#000000\" fill-rule=\"evenodd\" fill-opacity=\"1\" /><path clip-path=\"url(#clip370)\" d=\"M2214.89 234.089 L2222.53 234.089 L2222.53 207.724 L2214.22 209.391 L2214.22 205.131 L2222.48 203.465 L2227.16 203.465 L2227.16 234.089 L2234.79 234.089 L2234.79 238.025 L2214.89 238.025 L2214.89 234.089 Z\" fill=\"#000000\" fill-rule=\"evenodd\" fill-opacity=\"1\" /></svg>\n"
      ]
     },
     "execution_count": 515,
     "metadata": {},
     "output_type": "execute_result"
    }
   ],
   "source": [
    "r2021=return_mat(\"2020-01-01\",\"2020-12-31\")*\n",
    "port_opt(0.5,Stock_info(\"2020-01-01\",\"2020-12-31\")[1],Stock_info(\"2020-01-01\",\"2020-12-31\")[2])\n",
    "r2022=return_mat(\"2020-01-01\",\"2020-12-31\")*\n",
    "port_opt(0.8,Stock_info(\"2020-01-01\",\"2020-12-31\")[1],Stock_info(\"2020-01-01\",\"2020-12-31\")[2])\n",
    "r2023=return_mat(\"2020-01-01\",\"2020-12-31\")*\n",
    "port_opt(1.1,Stock_info(\"2020-01-01\",\"2020-12-31\")[1],Stock_info(\"2020-01-01\",\"2020-12-31\")[2])\n",
    "r2024=return_mat(\"2020-01-01\",\"2020-12-31\")*\n",
    "port_opt(1.4,Stock_info(\"2020-01-01\",\"2020-12-31\")[1],Stock_info(\"2020-01-01\",\"2020-12-31\")[2])\n",
    "r2025=return_mat(\"2020-01-01\",\"2020-12-31\")*\n",
    "port_opt(1.7,Stock_info(\"2020-01-01\",\"2020-12-31\")[1],Stock_info(\"2020-01-01\",\"2020-12-31\")[2])\n",
    "plot(vcat(r2021,r2022,r2023,r2024,r2025),title=\"(2) trading strategy\")"
   ]
  },
  {
   "cell_type": "markdown",
   "id": "6d067880",
   "metadata": {},
   "source": [
    "# problem2"
   ]
  },
  {
   "cell_type": "code",
   "execution_count": 402,
   "id": "8600a84b",
   "metadata": {},
   "outputs": [
    {
     "data": {
      "text/plain": [
       "17×4 Matrix{Any}:\n",
       " \"Asteroid Name\"    \"X\"    \"Y\"   \"Mass\"\n",
       " \"M1001\"           1.59   0.27  0.73\n",
       " \"M1002\"           2.74   1.14  0.98\n",
       " \"M1003\"           0.61   0.02  0.88\n",
       " \"M1004\"          -0.29   0.98  1.78\n",
       " \"M1005\"           0.14   1.39  2.31\n",
       " \"M1006\"           0.44   0.05  0.16\n",
       " \"M1007\"          -0.03   0.03  0.07\n",
       " \"M1008\"           2.55   1.63  0.25\n",
       " \"M1009\"           0.76   1.49  0.34\n",
       " \"M1010\"           2.27   1.87  0.41\n",
       " \"M1011\"           1.79   1.8   1.53\n",
       " \"M1012\"          -0.68   0.42  0.22\n",
       " \"M1013\"           2.41   0.83  1.17\n",
       " \"M1014\"           0.08  -0.02  0.43\n",
       " \"M1015\"           0.53   1.45  0.64\n",
       " \"Moon\"            1.25   0.9   8"
      ]
     },
     "execution_count": 402,
     "metadata": {},
     "output_type": "execute_result"
    }
   ],
   "source": [
    "aa = readdlm(\"D:\\\\OneDrive - g.ntu.edu.tw\\\\110\\\\商管機器學習\\\\Assignment 5\\\\orbit.csv\", \n",
    "    ',')"
   ]
  },
  {
   "cell_type": "code",
   "execution_count": 410,
   "id": "f76f6135",
   "metadata": {},
   "outputs": [
    {
     "data": {
      "text/plain": [
       "100-element Vector{Float64}:\n",
       "  2.125313426593699\n",
       "  0.7612677775756624\n",
       "  1.7604956260828402\n",
       "  0.4102241117684059\n",
       " -1.130724398061997\n",
       "  0.09253108903323658\n",
       "  1.9818245647685322\n",
       " -0.5401137576273252\n",
       "  1.9018521422390415\n",
       " -0.831568786951868\n",
       " -0.24811713551449074\n",
       "  0.08080363380959577\n",
       "  0.10164337902297127\n",
       "  ⋮\n",
       " -0.141164395549537\n",
       " -1.2695486858030989\n",
       "  0.33946104954852907\n",
       " -0.9536465822207352\n",
       "  2.244949920928502\n",
       " -0.17470900444692558\n",
       " -0.24016764642801655\n",
       " -0.40163569867043214\n",
       "  0.18155949212409256\n",
       " -1.1316533571911258\n",
       "  0.6037315209568778\n",
       "  0.009199346173422995"
      ]
     },
     "execution_count": 410,
     "metadata": {},
     "output_type": "execute_result"
    }
   ],
   "source": [
    "Random.seed!(8)\n",
    "x = randn(100)\n",
    "y = randn(100)"
   ]
  },
  {
   "cell_type": "markdown",
   "id": "097c01d4",
   "metadata": {},
   "source": [
    "(a)"
   ]
  },
  {
   "cell_type": "code",
   "execution_count": 441,
   "id": "b4d9b774",
   "metadata": {},
   "outputs": [
    {
     "data": {
      "text/plain": [
       "Df (generic function with 1 method)"
      ]
     },
     "execution_count": 441,
     "metadata": {},
     "output_type": "execute_result"
    }
   ],
   "source": [
    "t= atan.(x./y)\n",
    "f(theta)=\n",
    "norm.(theta[1].+theta[3]*cos.(theta[5].+t).+theta[4]*cos.(theta[5].-t).-x).^2 .+\n",
    "norm.(theta[2].+theta[3]*sin.(theta[5].+t).+theta[4]*sin.(theta[5].-t).-y).^2 .+\n",
    "1000*(abs(theta[1]-1)-1).+\n",
    "1000*(abs(theta[2]-1)-1).+\n",
    "1000*(abs(theta[3]-1)-1).+\n",
    "1000*(abs(theta[4]-1)-1).+\n",
    "1000*(abs(theta[5]-1)-1)\n",
    "Df(theta)=\n",
    "[ones(length(x)) ones(length(x)) cos.(theta[5].+t).+\n",
    "    sin.(theta[5].+t) cos.(theta[5].-t).+sin.(theta[5].-t) theta[4]*\n",
    "    (sin.(theta[5]).*sin.(t).+cos.(theta[5]).*cos.(t).-sin.(theta[5].-t)).+\n",
    "    theta[3]*(cos.(t.+theta[5]).-sin.(t.+theta[5]))]"
   ]
  },
  {
   "cell_type": "code",
   "execution_count": 442,
   "id": "76f287cc",
   "metadata": {},
   "outputs": [
    {
     "data": {
      "text/plain": [
       "5-element Vector{Float64}:\n",
       " 2.1131\n",
       " 2.1131\n",
       " 2.2251\n",
       " 2.2597\n",
       " 0.731"
      ]
     },
     "execution_count": 442,
     "metadata": {},
     "output_type": "execute_result"
    }
   ],
   "source": [
    "para=round.(levenberg_marquardt2(f, Df,[0.5,0.5,1,1,0.8], 1, 100, 1e-6)[1],digits=4)"
   ]
  },
  {
   "cell_type": "markdown",
   "id": "ba03947a",
   "metadata": {},
   "source": [
    "(b)"
   ]
  },
  {
   "cell_type": "code",
   "execution_count": 431,
   "id": "33bef057",
   "metadata": {},
   "outputs": [
    {
     "data": {
      "text/plain": [
       "fhat (generic function with 2 methods)"
      ]
     },
     "execution_count": 431,
     "metadata": {},
     "output_type": "execute_result"
    }
   ],
   "source": [
    "fhat(pr,x,y)=\n",
    "[(theta[1]+theta[3]*cos(theta[5]+atan(x/y))+theta[4]*cos(theta[5]-atan(x/y))) (theta[2]+\n",
    "        theta[3]*sin(theta[5]+atan(x/y))+theta[4]*sin(theta[5]-atan(x/y)))]"
   ]
  },
  {
   "cell_type": "code",
   "execution_count": 432,
   "id": "7e391337",
   "metadata": {},
   "outputs": [
    {
     "data": {
      "image/svg+xml": [
       "<?xml version=\"1.0\" encoding=\"utf-8\"?>\n",
       "<svg xmlns=\"http://www.w3.org/2000/svg\" xmlns:xlink=\"http://www.w3.org/1999/xlink\" width=\"600\" height=\"400\" viewBox=\"0 0 2400 1600\">\n",
       "<defs>\n",
       "  <clipPath id=\"clip170\">\n",
       "    <rect x=\"0\" y=\"0\" width=\"2400\" height=\"1600\"/>\n",
       "  </clipPath>\n",
       "</defs>\n",
       "<path clip-path=\"url(#clip170)\" d=\"\n",
       "M0 1600 L2400 1600 L2400 0 L0 0  Z\n",
       "  \" fill=\"#ffffff\" fill-rule=\"evenodd\" fill-opacity=\"1\"/>\n",
       "<defs>\n",
       "  <clipPath id=\"clip171\">\n",
       "    <rect x=\"480\" y=\"0\" width=\"1681\" height=\"1600\"/>\n",
       "  </clipPath>\n",
       "</defs>\n",
       "<path clip-path=\"url(#clip170)\" d=\"\n",
       "M156.112 1486.45 L2352.76 1486.45 L2352.76 47.2441 L156.112 47.2441  Z\n",
       "  \" fill=\"#ffffff\" fill-rule=\"evenodd\" fill-opacity=\"1\"/>\n",
       "<defs>\n",
       "  <clipPath id=\"clip172\">\n",
       "    <rect x=\"156\" y=\"47\" width=\"2198\" height=\"1440\"/>\n",
       "  </clipPath>\n",
       "</defs>\n",
       "<polyline clip-path=\"url(#clip172)\" style=\"stroke:#000000; stroke-linecap:butt; stroke-linejoin:round; stroke-width:2; stroke-opacity:0.1; fill:none\" points=\"\n",
       "  327.35,1486.45 327.35,47.2441 \n",
       "  \"/>\n",
       "<polyline clip-path=\"url(#clip172)\" style=\"stroke:#000000; stroke-linecap:butt; stroke-linejoin:round; stroke-width:2; stroke-opacity:0.1; fill:none\" points=\"\n",
       "  630.319,1486.45 630.319,47.2441 \n",
       "  \"/>\n",
       "<polyline clip-path=\"url(#clip172)\" style=\"stroke:#000000; stroke-linecap:butt; stroke-linejoin:round; stroke-width:2; stroke-opacity:0.1; fill:none\" points=\"\n",
       "  933.287,1486.45 933.287,47.2441 \n",
       "  \"/>\n",
       "<polyline clip-path=\"url(#clip172)\" style=\"stroke:#000000; stroke-linecap:butt; stroke-linejoin:round; stroke-width:2; stroke-opacity:0.1; fill:none\" points=\"\n",
       "  1236.26,1486.45 1236.26,47.2441 \n",
       "  \"/>\n",
       "<polyline clip-path=\"url(#clip172)\" style=\"stroke:#000000; stroke-linecap:butt; stroke-linejoin:round; stroke-width:2; stroke-opacity:0.1; fill:none\" points=\"\n",
       "  1539.22,1486.45 1539.22,47.2441 \n",
       "  \"/>\n",
       "<polyline clip-path=\"url(#clip172)\" style=\"stroke:#000000; stroke-linecap:butt; stroke-linejoin:round; stroke-width:2; stroke-opacity:0.1; fill:none\" points=\"\n",
       "  1842.19,1486.45 1842.19,47.2441 \n",
       "  \"/>\n",
       "<polyline clip-path=\"url(#clip172)\" style=\"stroke:#000000; stroke-linecap:butt; stroke-linejoin:round; stroke-width:2; stroke-opacity:0.1; fill:none\" points=\"\n",
       "  2145.16,1486.45 2145.16,47.2441 \n",
       "  \"/>\n",
       "<polyline clip-path=\"url(#clip170)\" style=\"stroke:#000000; stroke-linecap:butt; stroke-linejoin:round; stroke-width:4; stroke-opacity:1; fill:none\" points=\"\n",
       "  156.112,1486.45 2352.76,1486.45 \n",
       "  \"/>\n",
       "<polyline clip-path=\"url(#clip170)\" style=\"stroke:#000000; stroke-linecap:butt; stroke-linejoin:round; stroke-width:4; stroke-opacity:1; fill:none\" points=\"\n",
       "  327.35,1486.45 327.35,1467.55 \n",
       "  \"/>\n",
       "<polyline clip-path=\"url(#clip170)\" style=\"stroke:#000000; stroke-linecap:butt; stroke-linejoin:round; stroke-width:4; stroke-opacity:1; fill:none\" points=\"\n",
       "  630.319,1486.45 630.319,1467.55 \n",
       "  \"/>\n",
       "<polyline clip-path=\"url(#clip170)\" style=\"stroke:#000000; stroke-linecap:butt; stroke-linejoin:round; stroke-width:4; stroke-opacity:1; fill:none\" points=\"\n",
       "  933.287,1486.45 933.287,1467.55 \n",
       "  \"/>\n",
       "<polyline clip-path=\"url(#clip170)\" style=\"stroke:#000000; stroke-linecap:butt; stroke-linejoin:round; stroke-width:4; stroke-opacity:1; fill:none\" points=\"\n",
       "  1236.26,1486.45 1236.26,1467.55 \n",
       "  \"/>\n",
       "<polyline clip-path=\"url(#clip170)\" style=\"stroke:#000000; stroke-linecap:butt; stroke-linejoin:round; stroke-width:4; stroke-opacity:1; fill:none\" points=\"\n",
       "  1539.22,1486.45 1539.22,1467.55 \n",
       "  \"/>\n",
       "<polyline clip-path=\"url(#clip170)\" style=\"stroke:#000000; stroke-linecap:butt; stroke-linejoin:round; stroke-width:4; stroke-opacity:1; fill:none\" points=\"\n",
       "  1842.19,1486.45 1842.19,1467.55 \n",
       "  \"/>\n",
       "<polyline clip-path=\"url(#clip170)\" style=\"stroke:#000000; stroke-linecap:butt; stroke-linejoin:round; stroke-width:4; stroke-opacity:1; fill:none\" points=\"\n",
       "  2145.16,1486.45 2145.16,1467.55 \n",
       "  \"/>\n",
       "<path clip-path=\"url(#clip170)\" d=\"M274.376 1532.02 L304.052 1532.02 L304.052 1535.95 L274.376 1535.95 L274.376 1532.02 Z\" fill=\"#000000\" fill-rule=\"evenodd\" fill-opacity=\"1\" /><path clip-path=\"url(#clip170)\" d=\"M324.144 1517.37 Q320.533 1517.37 318.704 1520.93 Q316.899 1524.47 316.899 1531.6 Q316.899 1538.71 318.704 1542.27 Q320.533 1545.82 324.144 1545.82 Q327.778 1545.82 329.584 1542.27 Q331.412 1538.71 331.412 1531.6 Q331.412 1524.47 329.584 1520.93 Q327.778 1517.37 324.144 1517.37 M324.144 1513.66 Q329.954 1513.66 333.01 1518.27 Q336.088 1522.85 336.088 1531.6 Q336.088 1540.33 333.01 1544.94 Q329.954 1549.52 324.144 1549.52 Q318.334 1549.52 315.255 1544.94 Q312.2 1540.33 312.2 1531.6 Q312.2 1522.85 315.255 1518.27 Q318.334 1513.66 324.144 1513.66 Z\" fill=\"#000000\" fill-rule=\"evenodd\" fill-opacity=\"1\" /><path clip-path=\"url(#clip170)\" d=\"M344.306 1542.97 L349.19 1542.97 L349.19 1548.85 L344.306 1548.85 L344.306 1542.97 Z\" fill=\"#000000\" fill-rule=\"evenodd\" fill-opacity=\"1\" /><path clip-path=\"url(#clip170)\" d=\"M359.422 1514.29 L377.778 1514.29 L377.778 1518.22 L363.704 1518.22 L363.704 1526.7 Q364.722 1526.35 365.741 1526.19 Q366.76 1526 367.778 1526 Q373.565 1526 376.945 1529.17 Q380.324 1532.34 380.324 1537.76 Q380.324 1543.34 376.852 1546.44 Q373.38 1549.52 367.06 1549.52 Q364.885 1549.52 362.616 1549.15 Q360.371 1548.78 357.963 1548.04 L357.963 1543.34 Q360.047 1544.47 362.269 1545.03 Q364.491 1545.58 366.968 1545.58 Q370.972 1545.58 373.31 1543.48 Q375.648 1541.37 375.648 1537.76 Q375.648 1534.15 373.31 1532.04 Q370.972 1529.94 366.968 1529.94 Q365.093 1529.94 363.218 1530.35 Q361.366 1530.77 359.422 1531.65 L359.422 1514.29 Z\" fill=\"#000000\" fill-rule=\"evenodd\" fill-opacity=\"1\" /><path clip-path=\"url(#clip170)\" d=\"M607.703 1517.37 Q604.092 1517.37 602.263 1520.93 Q600.458 1524.47 600.458 1531.6 Q600.458 1538.71 602.263 1542.27 Q604.092 1545.82 607.703 1545.82 Q611.337 1545.82 613.143 1542.27 Q614.971 1538.71 614.971 1531.6 Q614.971 1524.47 613.143 1520.93 Q611.337 1517.37 607.703 1517.37 M607.703 1513.66 Q613.513 1513.66 616.569 1518.27 Q619.647 1522.85 619.647 1531.6 Q619.647 1540.33 616.569 1544.94 Q613.513 1549.52 607.703 1549.52 Q601.893 1549.52 598.814 1544.94 Q595.759 1540.33 595.759 1531.6 Q595.759 1522.85 598.814 1518.27 Q601.893 1513.66 607.703 1513.66 Z\" fill=\"#000000\" fill-rule=\"evenodd\" fill-opacity=\"1\" /><path clip-path=\"url(#clip170)\" d=\"M627.865 1542.97 L632.749 1542.97 L632.749 1548.85 L627.865 1548.85 L627.865 1542.97 Z\" fill=\"#000000\" fill-rule=\"evenodd\" fill-opacity=\"1\" /><path clip-path=\"url(#clip170)\" d=\"M652.934 1517.37 Q649.323 1517.37 647.494 1520.93 Q645.689 1524.47 645.689 1531.6 Q645.689 1538.71 647.494 1542.27 Q649.323 1545.82 652.934 1545.82 Q656.568 1545.82 658.374 1542.27 Q660.203 1538.71 660.203 1531.6 Q660.203 1524.47 658.374 1520.93 Q656.568 1517.37 652.934 1517.37 M652.934 1513.66 Q658.744 1513.66 661.8 1518.27 Q664.879 1522.85 664.879 1531.6 Q664.879 1540.33 661.8 1544.94 Q658.744 1549.52 652.934 1549.52 Q647.124 1549.52 644.045 1544.94 Q640.99 1540.33 640.99 1531.6 Q640.99 1522.85 644.045 1518.27 Q647.124 1513.66 652.934 1513.66 Z\" fill=\"#000000\" fill-rule=\"evenodd\" fill-opacity=\"1\" /><path clip-path=\"url(#clip170)\" d=\"M911.169 1517.37 Q907.558 1517.37 905.73 1520.93 Q903.924 1524.47 903.924 1531.6 Q903.924 1538.71 905.73 1542.27 Q907.558 1545.82 911.169 1545.82 Q914.804 1545.82 916.609 1542.27 Q918.438 1538.71 918.438 1531.6 Q918.438 1524.47 916.609 1520.93 Q914.804 1517.37 911.169 1517.37 M911.169 1513.66 Q916.979 1513.66 920.035 1518.27 Q923.114 1522.85 923.114 1531.6 Q923.114 1540.33 920.035 1544.94 Q916.979 1549.52 911.169 1549.52 Q905.359 1549.52 902.28 1544.94 Q899.225 1540.33 899.225 1531.6 Q899.225 1522.85 902.28 1518.27 Q905.359 1513.66 911.169 1513.66 Z\" fill=\"#000000\" fill-rule=\"evenodd\" fill-opacity=\"1\" /><path clip-path=\"url(#clip170)\" d=\"M931.331 1542.97 L936.215 1542.97 L936.215 1548.85 L931.331 1548.85 L931.331 1542.97 Z\" fill=\"#000000\" fill-rule=\"evenodd\" fill-opacity=\"1\" /><path clip-path=\"url(#clip170)\" d=\"M946.447 1514.29 L964.803 1514.29 L964.803 1518.22 L950.729 1518.22 L950.729 1526.7 Q951.748 1526.35 952.766 1526.19 Q953.785 1526 954.803 1526 Q960.59 1526 963.97 1529.17 Q967.35 1532.34 967.35 1537.76 Q967.35 1543.34 963.877 1546.44 Q960.405 1549.52 954.086 1549.52 Q951.91 1549.52 949.641 1549.15 Q947.396 1548.78 944.989 1548.04 L944.989 1543.34 Q947.072 1544.47 949.294 1545.03 Q951.516 1545.58 953.993 1545.58 Q957.998 1545.58 960.336 1543.48 Q962.674 1541.37 962.674 1537.76 Q962.674 1534.15 960.336 1532.04 Q957.998 1529.94 953.993 1529.94 Q952.118 1529.94 950.243 1530.35 Q948.391 1530.77 946.447 1531.65 L946.447 1514.29 Z\" fill=\"#000000\" fill-rule=\"evenodd\" fill-opacity=\"1\" /><path clip-path=\"url(#clip170)\" d=\"M1203.41 1544.91 L1211.05 1544.91 L1211.05 1518.55 L1202.74 1520.21 L1202.74 1515.95 L1211 1514.29 L1215.68 1514.29 L1215.68 1544.91 L1223.32 1544.91 L1223.32 1548.85 L1203.41 1548.85 L1203.41 1544.91 Z\" fill=\"#000000\" fill-rule=\"evenodd\" fill-opacity=\"1\" /><path clip-path=\"url(#clip170)\" d=\"M1232.76 1542.97 L1237.64 1542.97 L1237.64 1548.85 L1232.76 1548.85 L1232.76 1542.97 Z\" fill=\"#000000\" fill-rule=\"evenodd\" fill-opacity=\"1\" /><path clip-path=\"url(#clip170)\" d=\"M1257.83 1517.37 Q1254.22 1517.37 1252.39 1520.93 Q1250.58 1524.47 1250.58 1531.6 Q1250.58 1538.71 1252.39 1542.27 Q1254.22 1545.82 1257.83 1545.82 Q1261.46 1545.82 1263.27 1542.27 Q1265.1 1538.71 1265.1 1531.6 Q1265.1 1524.47 1263.27 1520.93 Q1261.46 1517.37 1257.83 1517.37 M1257.83 1513.66 Q1263.64 1513.66 1266.7 1518.27 Q1269.77 1522.85 1269.77 1531.6 Q1269.77 1540.33 1266.7 1544.94 Q1263.64 1549.52 1257.83 1549.52 Q1252.02 1549.52 1248.94 1544.94 Q1245.89 1540.33 1245.89 1531.6 Q1245.89 1522.85 1248.94 1518.27 Q1252.02 1513.66 1257.83 1513.66 Z\" fill=\"#000000\" fill-rule=\"evenodd\" fill-opacity=\"1\" /><path clip-path=\"url(#clip170)\" d=\"M1506.88 1544.91 L1514.51 1544.91 L1514.51 1518.55 L1506.2 1520.21 L1506.2 1515.95 L1514.47 1514.29 L1519.14 1514.29 L1519.14 1544.91 L1526.78 1544.91 L1526.78 1548.85 L1506.88 1548.85 L1506.88 1544.91 Z\" fill=\"#000000\" fill-rule=\"evenodd\" fill-opacity=\"1\" /><path clip-path=\"url(#clip170)\" d=\"M1536.23 1542.97 L1541.11 1542.97 L1541.11 1548.85 L1536.23 1548.85 L1536.23 1542.97 Z\" fill=\"#000000\" fill-rule=\"evenodd\" fill-opacity=\"1\" /><path clip-path=\"url(#clip170)\" d=\"M1551.34 1514.29 L1569.7 1514.29 L1569.7 1518.22 L1555.62 1518.22 L1555.62 1526.7 Q1556.64 1526.35 1557.66 1526.19 Q1558.68 1526 1559.7 1526 Q1565.49 1526 1568.87 1529.17 Q1572.25 1532.34 1572.25 1537.76 Q1572.25 1543.34 1568.77 1546.44 Q1565.3 1549.52 1558.98 1549.52 Q1556.81 1549.52 1554.54 1549.15 Q1552.29 1548.78 1549.88 1548.04 L1549.88 1543.34 Q1551.97 1544.47 1554.19 1545.03 Q1556.41 1545.58 1558.89 1545.58 Q1562.89 1545.58 1565.23 1543.48 Q1567.57 1541.37 1567.57 1537.76 Q1567.57 1534.15 1565.23 1532.04 Q1562.89 1529.94 1558.89 1529.94 Q1557.01 1529.94 1555.14 1530.35 Q1553.29 1530.77 1551.34 1531.65 L1551.34 1514.29 Z\" fill=\"#000000\" fill-rule=\"evenodd\" fill-opacity=\"1\" /><path clip-path=\"url(#clip170)\" d=\"M1813.43 1544.91 L1829.75 1544.91 L1829.75 1548.85 L1807.81 1548.85 L1807.81 1544.91 Q1810.47 1542.16 1815.05 1537.53 Q1819.66 1532.88 1820.84 1531.53 Q1823.08 1529.01 1823.96 1527.27 Q1824.87 1525.51 1824.87 1523.82 Q1824.87 1521.07 1822.92 1519.33 Q1821 1517.6 1817.9 1517.6 Q1815.7 1517.6 1813.25 1518.36 Q1810.82 1519.13 1808.04 1520.68 L1808.04 1515.95 Q1810.86 1514.82 1813.32 1514.24 Q1815.77 1513.66 1817.81 1513.66 Q1823.18 1513.66 1826.37 1516.35 Q1829.57 1519.03 1829.57 1523.52 Q1829.57 1525.65 1828.76 1527.57 Q1827.97 1529.47 1825.86 1532.07 Q1825.28 1532.74 1822.18 1535.95 Q1819.08 1539.15 1813.43 1544.91 Z\" fill=\"#000000\" fill-rule=\"evenodd\" fill-opacity=\"1\" /><path clip-path=\"url(#clip170)\" d=\"M1839.57 1542.97 L1844.45 1542.97 L1844.45 1548.85 L1839.57 1548.85 L1839.57 1542.97 Z\" fill=\"#000000\" fill-rule=\"evenodd\" fill-opacity=\"1\" /><path clip-path=\"url(#clip170)\" d=\"M1864.64 1517.37 Q1861.02 1517.37 1859.2 1520.93 Q1857.39 1524.47 1857.39 1531.6 Q1857.39 1538.71 1859.2 1542.27 Q1861.02 1545.82 1864.64 1545.82 Q1868.27 1545.82 1870.07 1542.27 Q1871.9 1538.71 1871.9 1531.6 Q1871.9 1524.47 1870.07 1520.93 Q1868.27 1517.37 1864.64 1517.37 M1864.64 1513.66 Q1870.45 1513.66 1873.5 1518.27 Q1876.58 1522.85 1876.58 1531.6 Q1876.58 1540.33 1873.5 1544.94 Q1870.45 1549.52 1864.64 1549.52 Q1858.83 1549.52 1855.75 1544.94 Q1852.69 1540.33 1852.69 1531.6 Q1852.69 1522.85 1855.75 1518.27 Q1858.83 1513.66 1864.64 1513.66 Z\" fill=\"#000000\" fill-rule=\"evenodd\" fill-opacity=\"1\" /><path clip-path=\"url(#clip170)\" d=\"M2116.9 1544.91 L2133.22 1544.91 L2133.22 1548.85 L2111.27 1548.85 L2111.27 1544.91 Q2113.94 1542.16 2118.52 1537.53 Q2123.12 1532.88 2124.31 1531.53 Q2126.55 1529.01 2127.43 1527.27 Q2128.33 1525.51 2128.33 1523.82 Q2128.33 1521.07 2126.39 1519.33 Q2124.47 1517.6 2121.37 1517.6 Q2119.17 1517.6 2116.71 1518.36 Q2114.28 1519.13 2111.5 1520.68 L2111.5 1515.95 Q2114.33 1514.82 2116.78 1514.24 Q2119.24 1513.66 2121.27 1513.66 Q2126.64 1513.66 2129.84 1516.35 Q2133.03 1519.03 2133.03 1523.52 Q2133.03 1525.65 2132.22 1527.57 Q2131.44 1529.47 2129.33 1532.07 Q2128.75 1532.74 2125.65 1535.95 Q2122.55 1539.15 2116.9 1544.91 Z\" fill=\"#000000\" fill-rule=\"evenodd\" fill-opacity=\"1\" /><path clip-path=\"url(#clip170)\" d=\"M2143.03 1542.97 L2147.92 1542.97 L2147.92 1548.85 L2143.03 1548.85 L2143.03 1542.97 Z\" fill=\"#000000\" fill-rule=\"evenodd\" fill-opacity=\"1\" /><path clip-path=\"url(#clip170)\" d=\"M2158.15 1514.29 L2176.5 1514.29 L2176.5 1518.22 L2162.43 1518.22 L2162.43 1526.7 Q2163.45 1526.35 2164.47 1526.19 Q2165.49 1526 2166.5 1526 Q2172.29 1526 2175.67 1529.17 Q2179.05 1532.34 2179.05 1537.76 Q2179.05 1543.34 2175.58 1546.44 Q2172.11 1549.52 2165.79 1549.52 Q2163.61 1549.52 2161.34 1549.15 Q2159.1 1548.78 2156.69 1548.04 L2156.69 1543.34 Q2158.77 1544.47 2161 1545.03 Q2163.22 1545.58 2165.69 1545.58 Q2169.7 1545.58 2172.04 1543.48 Q2174.37 1541.37 2174.37 1537.76 Q2174.37 1534.15 2172.04 1532.04 Q2169.7 1529.94 2165.69 1529.94 Q2163.82 1529.94 2161.94 1530.35 Q2160.09 1530.77 2158.15 1531.65 L2158.15 1514.29 Z\" fill=\"#000000\" fill-rule=\"evenodd\" fill-opacity=\"1\" /><polyline clip-path=\"url(#clip172)\" style=\"stroke:#000000; stroke-linecap:butt; stroke-linejoin:round; stroke-width:2; stroke-opacity:0.1; fill:none\" points=\"\n",
       "  156.112,1431.35 2352.76,1431.35 \n",
       "  \"/>\n",
       "<polyline clip-path=\"url(#clip172)\" style=\"stroke:#000000; stroke-linecap:butt; stroke-linejoin:round; stroke-width:2; stroke-opacity:0.1; fill:none\" points=\"\n",
       "  156.112,1072.16 2352.76,1072.16 \n",
       "  \"/>\n",
       "<polyline clip-path=\"url(#clip172)\" style=\"stroke:#000000; stroke-linecap:butt; stroke-linejoin:round; stroke-width:2; stroke-opacity:0.1; fill:none\" points=\"\n",
       "  156.112,712.967 2352.76,712.967 \n",
       "  \"/>\n",
       "<polyline clip-path=\"url(#clip172)\" style=\"stroke:#000000; stroke-linecap:butt; stroke-linejoin:round; stroke-width:2; stroke-opacity:0.1; fill:none\" points=\"\n",
       "  156.112,353.777 2352.76,353.777 \n",
       "  \"/>\n",
       "<polyline clip-path=\"url(#clip170)\" style=\"stroke:#000000; stroke-linecap:butt; stroke-linejoin:round; stroke-width:4; stroke-opacity:1; fill:none\" points=\"\n",
       "  156.112,1486.45 156.112,47.2441 \n",
       "  \"/>\n",
       "<polyline clip-path=\"url(#clip170)\" style=\"stroke:#000000; stroke-linecap:butt; stroke-linejoin:round; stroke-width:4; stroke-opacity:1; fill:none\" points=\"\n",
       "  156.112,1431.35 175.01,1431.35 \n",
       "  \"/>\n",
       "<polyline clip-path=\"url(#clip170)\" style=\"stroke:#000000; stroke-linecap:butt; stroke-linejoin:round; stroke-width:4; stroke-opacity:1; fill:none\" points=\"\n",
       "  156.112,1072.16 175.01,1072.16 \n",
       "  \"/>\n",
       "<polyline clip-path=\"url(#clip170)\" style=\"stroke:#000000; stroke-linecap:butt; stroke-linejoin:round; stroke-width:4; stroke-opacity:1; fill:none\" points=\"\n",
       "  156.112,712.967 175.01,712.967 \n",
       "  \"/>\n",
       "<polyline clip-path=\"url(#clip170)\" style=\"stroke:#000000; stroke-linecap:butt; stroke-linejoin:round; stroke-width:4; stroke-opacity:1; fill:none\" points=\"\n",
       "  156.112,353.777 175.01,353.777 \n",
       "  \"/>\n",
       "<path clip-path=\"url(#clip170)\" d=\"M62.9365 1417.15 Q59.3254 1417.15 57.4967 1420.71 Q55.6912 1424.25 55.6912 1431.38 Q55.6912 1438.49 57.4967 1442.05 Q59.3254 1445.6 62.9365 1445.6 Q66.5707 1445.6 68.3763 1442.05 Q70.205 1438.49 70.205 1431.38 Q70.205 1424.25 68.3763 1420.71 Q66.5707 1417.15 62.9365 1417.15 M62.9365 1413.44 Q68.7467 1413.44 71.8022 1418.05 Q74.8809 1422.63 74.8809 1431.38 Q74.8809 1440.11 71.8022 1444.72 Q68.7467 1449.3 62.9365 1449.3 Q57.1264 1449.3 54.0477 1444.72 Q50.9921 1440.11 50.9921 1431.38 Q50.9921 1422.63 54.0477 1418.05 Q57.1264 1413.44 62.9365 1413.44 Z\" fill=\"#000000\" fill-rule=\"evenodd\" fill-opacity=\"1\" /><path clip-path=\"url(#clip170)\" d=\"M83.0984 1442.75 L87.9827 1442.75 L87.9827 1448.63 L83.0984 1448.63 L83.0984 1442.75 Z\" fill=\"#000000\" fill-rule=\"evenodd\" fill-opacity=\"1\" /><path clip-path=\"url(#clip170)\" d=\"M108.168 1417.15 Q104.557 1417.15 102.728 1420.71 Q100.922 1424.25 100.922 1431.38 Q100.922 1438.49 102.728 1442.05 Q104.557 1445.6 108.168 1445.6 Q111.802 1445.6 113.608 1442.05 Q115.436 1438.49 115.436 1431.38 Q115.436 1424.25 113.608 1420.71 Q111.802 1417.15 108.168 1417.15 M108.168 1413.44 Q113.978 1413.44 117.033 1418.05 Q120.112 1422.63 120.112 1431.38 Q120.112 1440.11 117.033 1444.72 Q113.978 1449.3 108.168 1449.3 Q102.358 1449.3 99.2789 1444.72 Q96.2234 1440.11 96.2234 1431.38 Q96.2234 1422.63 99.2789 1418.05 Q102.358 1413.44 108.168 1413.44 Z\" fill=\"#000000\" fill-rule=\"evenodd\" fill-opacity=\"1\" /><path clip-path=\"url(#clip170)\" d=\"M63.9319 1057.96 Q60.3208 1057.96 58.4921 1061.52 Q56.6865 1065.06 56.6865 1072.19 Q56.6865 1079.3 58.4921 1082.86 Q60.3208 1086.41 63.9319 1086.41 Q67.5661 1086.41 69.3717 1082.86 Q71.2004 1079.3 71.2004 1072.19 Q71.2004 1065.06 69.3717 1061.52 Q67.5661 1057.96 63.9319 1057.96 M63.9319 1054.25 Q69.742 1054.25 72.7976 1058.86 Q75.8763 1063.44 75.8763 1072.19 Q75.8763 1080.92 72.7976 1085.53 Q69.742 1090.11 63.9319 1090.11 Q58.1217 1090.11 55.043 1085.53 Q51.9875 1080.92 51.9875 1072.19 Q51.9875 1063.44 55.043 1058.86 Q58.1217 1054.25 63.9319 1054.25 Z\" fill=\"#000000\" fill-rule=\"evenodd\" fill-opacity=\"1\" /><path clip-path=\"url(#clip170)\" d=\"M84.0938 1083.56 L88.978 1083.56 L88.978 1089.44 L84.0938 1089.44 L84.0938 1083.56 Z\" fill=\"#000000\" fill-rule=\"evenodd\" fill-opacity=\"1\" /><path clip-path=\"url(#clip170)\" d=\"M99.2095 1054.88 L117.566 1054.88 L117.566 1058.81 L103.492 1058.81 L103.492 1067.29 Q104.51 1066.94 105.529 1066.78 Q106.547 1066.59 107.566 1066.59 Q113.353 1066.59 116.733 1069.76 Q120.112 1072.93 120.112 1078.35 Q120.112 1083.93 116.64 1087.03 Q113.168 1090.11 106.848 1090.11 Q104.672 1090.11 102.404 1089.74 Q100.159 1089.37 97.7511 1088.63 L97.7511 1083.93 Q99.8345 1085.06 102.057 1085.62 Q104.279 1086.17 106.756 1086.17 Q110.76 1086.17 113.098 1084.07 Q115.436 1081.96 115.436 1078.35 Q115.436 1074.74 113.098 1072.63 Q110.76 1070.53 106.756 1070.53 Q104.881 1070.53 103.006 1070.94 Q101.154 1071.36 99.2095 1072.24 L99.2095 1054.88 Z\" fill=\"#000000\" fill-rule=\"evenodd\" fill-opacity=\"1\" /><path clip-path=\"url(#clip170)\" d=\"M53.7467 726.312 L61.3856 726.312 L61.3856 699.947 L53.0754 701.613 L53.0754 697.354 L61.3393 695.687 L66.0152 695.687 L66.0152 726.312 L73.654 726.312 L73.654 730.247 L53.7467 730.247 L53.7467 726.312 Z\" fill=\"#000000\" fill-rule=\"evenodd\" fill-opacity=\"1\" /><path clip-path=\"url(#clip170)\" d=\"M83.0984 724.368 L87.9827 724.368 L87.9827 730.247 L83.0984 730.247 L83.0984 724.368 Z\" fill=\"#000000\" fill-rule=\"evenodd\" fill-opacity=\"1\" /><path clip-path=\"url(#clip170)\" d=\"M108.168 698.766 Q104.557 698.766 102.728 702.331 Q100.922 705.873 100.922 713.002 Q100.922 720.109 102.728 723.673 Q104.557 727.215 108.168 727.215 Q111.802 727.215 113.608 723.673 Q115.436 720.109 115.436 713.002 Q115.436 705.873 113.608 702.331 Q111.802 698.766 108.168 698.766 M108.168 695.062 Q113.978 695.062 117.033 699.669 Q120.112 704.252 120.112 713.002 Q120.112 721.729 117.033 726.335 Q113.978 730.919 108.168 730.919 Q102.358 730.919 99.2789 726.335 Q96.2234 721.729 96.2234 713.002 Q96.2234 704.252 99.2789 699.669 Q102.358 695.062 108.168 695.062 Z\" fill=\"#000000\" fill-rule=\"evenodd\" fill-opacity=\"1\" /><path clip-path=\"url(#clip170)\" d=\"M54.7421 367.122 L62.381 367.122 L62.381 340.756 L54.0708 342.423 L54.0708 338.164 L62.3347 336.497 L67.0106 336.497 L67.0106 367.122 L74.6494 367.122 L74.6494 371.057 L54.7421 371.057 L54.7421 367.122 Z\" fill=\"#000000\" fill-rule=\"evenodd\" fill-opacity=\"1\" /><path clip-path=\"url(#clip170)\" d=\"M84.0938 365.178 L88.978 365.178 L88.978 371.057 L84.0938 371.057 L84.0938 365.178 Z\" fill=\"#000000\" fill-rule=\"evenodd\" fill-opacity=\"1\" /><path clip-path=\"url(#clip170)\" d=\"M99.2095 336.497 L117.566 336.497 L117.566 340.432 L103.492 340.432 L103.492 348.904 Q104.51 348.557 105.529 348.395 Q106.547 348.21 107.566 348.21 Q113.353 348.21 116.733 351.381 Q120.112 354.553 120.112 359.969 Q120.112 365.548 116.64 368.65 Q113.168 371.728 106.848 371.728 Q104.672 371.728 102.404 371.358 Q100.159 370.988 97.7511 370.247 L97.7511 365.548 Q99.8345 366.682 102.057 367.238 Q104.279 367.793 106.756 367.793 Q110.76 367.793 113.098 365.687 Q115.436 363.58 115.436 359.969 Q115.436 356.358 113.098 354.252 Q110.76 352.145 106.756 352.145 Q104.881 352.145 103.006 352.562 Q101.154 352.979 99.2095 353.858 L99.2095 336.497 Z\" fill=\"#000000\" fill-rule=\"evenodd\" fill-opacity=\"1\" /><circle clip-path=\"url(#clip172)\" cx=\"1593.76\" cy=\"1237.39\" r=\"14\" fill=\"#ff0000\" fill-rule=\"evenodd\" fill-opacity=\"1\" stroke=\"#000000\" stroke-opacity=\"1\" stroke-width=\"3.2\"/>\n",
       "<circle clip-path=\"url(#clip172)\" cx=\"2290.59\" cy=\"612.394\" r=\"14\" fill=\"#ff0000\" fill-rule=\"evenodd\" fill-opacity=\"1\" stroke=\"#000000\" stroke-opacity=\"1\" stroke-width=\"3.2\"/>\n",
       "<circle clip-path=\"url(#clip172)\" cx=\"999.94\" cy=\"1416.98\" r=\"14\" fill=\"#ff0000\" fill-rule=\"evenodd\" fill-opacity=\"1\" stroke=\"#000000\" stroke-opacity=\"1\" stroke-width=\"3.2\"/>\n",
       "<circle clip-path=\"url(#clip172)\" cx=\"454.597\" cy=\"727.335\" r=\"14\" fill=\"#ff0000\" fill-rule=\"evenodd\" fill-opacity=\"1\" stroke=\"#000000\" stroke-opacity=\"1\" stroke-width=\"3.2\"/>\n",
       "<circle clip-path=\"url(#clip172)\" cx=\"715.15\" cy=\"432.799\" r=\"14\" fill=\"#ff0000\" fill-rule=\"evenodd\" fill-opacity=\"1\" stroke=\"#000000\" stroke-opacity=\"1\" stroke-width=\"3.2\"/>\n",
       "<circle clip-path=\"url(#clip172)\" cx=\"896.931\" cy=\"1395.43\" r=\"14\" fill=\"#ff0000\" fill-rule=\"evenodd\" fill-opacity=\"1\" stroke=\"#000000\" stroke-opacity=\"1\" stroke-width=\"3.2\"/>\n",
       "<circle clip-path=\"url(#clip172)\" cx=\"612.141\" cy=\"1409.8\" r=\"14\" fill=\"#ff0000\" fill-rule=\"evenodd\" fill-opacity=\"1\" stroke=\"#000000\" stroke-opacity=\"1\" stroke-width=\"3.2\"/>\n",
       "<circle clip-path=\"url(#clip172)\" cx=\"2175.46\" cy=\"260.388\" r=\"14\" fill=\"#ff0000\" fill-rule=\"evenodd\" fill-opacity=\"1\" stroke=\"#000000\" stroke-opacity=\"1\" stroke-width=\"3.2\"/>\n",
       "<circle clip-path=\"url(#clip172)\" cx=\"1090.83\" cy=\"360.961\" r=\"14\" fill=\"#ff0000\" fill-rule=\"evenodd\" fill-opacity=\"1\" stroke=\"#000000\" stroke-opacity=\"1\" stroke-width=\"3.2\"/>\n",
       "<circle clip-path=\"url(#clip172)\" cx=\"2005.8\" cy=\"87.9763\" r=\"14\" fill=\"#ff0000\" fill-rule=\"evenodd\" fill-opacity=\"1\" stroke=\"#000000\" stroke-opacity=\"1\" stroke-width=\"3.2\"/>\n",
       "<circle clip-path=\"url(#clip172)\" cx=\"1714.95\" cy=\"138.263\" r=\"14\" fill=\"#ff0000\" fill-rule=\"evenodd\" fill-opacity=\"1\" stroke=\"#000000\" stroke-opacity=\"1\" stroke-width=\"3.2\"/>\n",
       "<circle clip-path=\"url(#clip172)\" cx=\"218.281\" cy=\"1129.63\" r=\"14\" fill=\"#ff0000\" fill-rule=\"evenodd\" fill-opacity=\"1\" stroke=\"#000000\" stroke-opacity=\"1\" stroke-width=\"3.2\"/>\n",
       "<circle clip-path=\"url(#clip172)\" cx=\"2090.63\" cy=\"835.092\" r=\"14\" fill=\"#ff0000\" fill-rule=\"evenodd\" fill-opacity=\"1\" stroke=\"#000000\" stroke-opacity=\"1\" stroke-width=\"3.2\"/>\n",
       "<circle clip-path=\"url(#clip172)\" cx=\"678.794\" cy=\"1445.72\" r=\"14\" fill=\"#ff0000\" fill-rule=\"evenodd\" fill-opacity=\"1\" stroke=\"#000000\" stroke-opacity=\"1\" stroke-width=\"3.2\"/>\n",
       "<circle clip-path=\"url(#clip172)\" cx=\"951.465\" cy=\"389.696\" r=\"14\" fill=\"#ff0000\" fill-rule=\"evenodd\" fill-opacity=\"1\" stroke=\"#000000\" stroke-opacity=\"1\" stroke-width=\"3.2\"/>\n",
       "<circle clip-path=\"url(#clip172)\" cx=\"1387.74\" cy=\"1237.39\" r=\"14\" fill=\"#ff0000\" fill-rule=\"evenodd\" fill-opacity=\"1\" stroke=\"#000000\" stroke-opacity=\"1\" stroke-width=\"3.2\"/>\n",
       "<circle clip-path=\"url(#clip172)\" cx=\"1022.31\" cy=\"1014.5\" r=\"14\" fill=\"#0000ff\" fill-rule=\"evenodd\" fill-opacity=\"1\" stroke=\"#000000\" stroke-opacity=\"1\" stroke-width=\"3.2\"/>\n",
       "<circle clip-path=\"url(#clip172)\" cx=\"1137.56\" cy=\"939.857\" r=\"14\" fill=\"#0000ff\" fill-rule=\"evenodd\" fill-opacity=\"1\" stroke=\"#000000\" stroke-opacity=\"1\" stroke-width=\"3.2\"/>\n",
       "<circle clip-path=\"url(#clip172)\" cx=\"950.713\" cy=\"1060.87\" r=\"14\" fill=\"#0000ff\" fill-rule=\"evenodd\" fill-opacity=\"1\" stroke=\"#000000\" stroke-opacity=\"1\" stroke-width=\"3.2\"/>\n",
       "<circle clip-path=\"url(#clip172)\" cx=\"1443.19\" cy=\"741.904\" r=\"14\" fill=\"#0000ff\" fill-rule=\"evenodd\" fill-opacity=\"1\" stroke=\"#000000\" stroke-opacity=\"1\" stroke-width=\"3.2\"/>\n",
       "<circle clip-path=\"url(#clip172)\" cx=\"1462.37\" cy=\"729.481\" r=\"14\" fill=\"#0000ff\" fill-rule=\"evenodd\" fill-opacity=\"1\" stroke=\"#000000\" stroke-opacity=\"1\" stroke-width=\"3.2\"/>\n",
       "<circle clip-path=\"url(#clip172)\" cx=\"993.328\" cy=\"1033.27\" r=\"14\" fill=\"#0000ff\" fill-rule=\"evenodd\" fill-opacity=\"1\" stroke=\"#000000\" stroke-opacity=\"1\" stroke-width=\"3.2\"/>\n",
       "<circle clip-path=\"url(#clip172)\" cx=\"1309.3\" cy=\"828.623\" r=\"14\" fill=\"#0000ff\" fill-rule=\"evenodd\" fill-opacity=\"1\" stroke=\"#000000\" stroke-opacity=\"1\" stroke-width=\"3.2\"/>\n",
       "<circle clip-path=\"url(#clip172)\" cx=\"1219.69\" cy=\"886.664\" r=\"14\" fill=\"#0000ff\" fill-rule=\"evenodd\" fill-opacity=\"1\" stroke=\"#000000\" stroke-opacity=\"1\" stroke-width=\"3.2\"/>\n",
       "<circle clip-path=\"url(#clip172)\" cx=\"1406.99\" cy=\"765.353\" r=\"14\" fill=\"#0000ff\" fill-rule=\"evenodd\" fill-opacity=\"1\" stroke=\"#000000\" stroke-opacity=\"1\" stroke-width=\"3.2\"/>\n",
       "<circle clip-path=\"url(#clip172)\" cx=\"1271.39\" cy=\"853.173\" r=\"14\" fill=\"#0000ff\" fill-rule=\"evenodd\" fill-opacity=\"1\" stroke=\"#000000\" stroke-opacity=\"1\" stroke-width=\"3.2\"/>\n",
       "<circle clip-path=\"url(#clip172)\" cx=\"1310.34\" cy=\"827.946\" r=\"14\" fill=\"#0000ff\" fill-rule=\"evenodd\" fill-opacity=\"1\" stroke=\"#000000\" stroke-opacity=\"1\" stroke-width=\"3.2\"/>\n",
       "<circle clip-path=\"url(#clip172)\" cx=\"1212.72\" cy=\"891.173\" r=\"14\" fill=\"#0000ff\" fill-rule=\"evenodd\" fill-opacity=\"1\" stroke=\"#000000\" stroke-opacity=\"1\" stroke-width=\"3.2\"/>\n",
       "<circle clip-path=\"url(#clip172)\" cx=\"1106.44\" cy=\"960.008\" r=\"14\" fill=\"#0000ff\" fill-rule=\"evenodd\" fill-opacity=\"1\" stroke=\"#000000\" stroke-opacity=\"1\" stroke-width=\"3.2\"/>\n",
       "<circle clip-path=\"url(#clip172)\" cx=\"1062.26\" cy=\"988.626\" r=\"14\" fill=\"#0000ff\" fill-rule=\"evenodd\" fill-opacity=\"1\" stroke=\"#000000\" stroke-opacity=\"1\" stroke-width=\"3.2\"/>\n",
       "<circle clip-path=\"url(#clip172)\" cx=\"1432.73\" cy=\"748.679\" r=\"14\" fill=\"#0000ff\" fill-rule=\"evenodd\" fill-opacity=\"1\" stroke=\"#000000\" stroke-opacity=\"1\" stroke-width=\"3.2\"/>\n",
       "<circle clip-path=\"url(#clip172)\" cx=\"1244\" cy=\"870.917\" r=\"14\" fill=\"#0000ff\" fill-rule=\"evenodd\" fill-opacity=\"1\" stroke=\"#000000\" stroke-opacity=\"1\" stroke-width=\"3.2\"/>\n",
       "<path clip-path=\"url(#clip170)\" d=\"\n",
       "M1346.9 250.738 L2279.53 250.738 L2279.53 95.2176 L1346.9 95.2176  Z\n",
       "  \" fill=\"#ffffff\" fill-rule=\"evenodd\" fill-opacity=\"1\"/>\n",
       "<polyline clip-path=\"url(#clip170)\" style=\"stroke:#000000; stroke-linecap:butt; stroke-linejoin:round; stroke-width:4; stroke-opacity:1; fill:none\" points=\"\n",
       "  1346.9,250.738 2279.53,250.738 2279.53,95.2176 1346.9,95.2176 1346.9,250.738 \n",
       "  \"/>\n",
       "<circle clip-path=\"url(#clip170)\" cx=\"1444.53\" cy=\"147.058\" r=\"23\" fill=\"#ff0000\" fill-rule=\"evenodd\" fill-opacity=\"1\" stroke=\"#000000\" stroke-opacity=\"1\" stroke-width=\"5.12\"/>\n",
       "<path clip-path=\"url(#clip170)\" d=\"M1555.56 151.305 Q1550.4 151.305 1548.41 152.486 Q1546.42 153.666 1546.42 156.514 Q1546.42 158.782 1547.9 160.125 Q1549.4 161.444 1551.97 161.444 Q1555.52 161.444 1557.65 158.944 Q1559.8 156.421 1559.8 152.254 L1559.8 151.305 L1555.56 151.305 M1564.06 149.546 L1564.06 164.338 L1559.8 164.338 L1559.8 160.402 Q1558.34 162.763 1556.16 163.898 Q1553.99 165.009 1550.84 165.009 Q1546.86 165.009 1544.5 162.787 Q1542.16 160.541 1542.16 156.791 Q1542.16 152.416 1545.08 150.194 Q1548.02 147.972 1553.83 147.972 L1559.8 147.972 L1559.8 147.555 Q1559.8 144.615 1557.85 143.018 Q1555.93 141.398 1552.44 141.398 Q1550.21 141.398 1548.11 141.93 Q1546 142.463 1544.06 143.527 L1544.06 139.592 Q1546.4 138.69 1548.59 138.25 Q1550.79 137.787 1552.88 137.787 Q1558.5 137.787 1561.28 140.703 Q1564.06 143.62 1564.06 149.546 Z\" fill=\"#000000\" fill-rule=\"evenodd\" fill-opacity=\"1\" /><path clip-path=\"url(#clip170)\" d=\"M1589.36 139.176 L1589.36 143.203 Q1587.55 142.277 1585.61 141.815 Q1583.66 141.352 1581.58 141.352 Q1578.41 141.352 1576.81 142.324 Q1575.24 143.296 1575.24 145.24 Q1575.24 146.722 1576.37 147.578 Q1577.51 148.412 1580.93 149.176 L1582.39 149.5 Q1586.93 150.472 1588.83 152.254 Q1590.75 154.014 1590.75 157.185 Q1590.75 160.796 1587.88 162.902 Q1585.03 165.009 1580.03 165.009 Q1577.95 165.009 1575.68 164.592 Q1573.43 164.199 1570.93 163.388 L1570.93 158.99 Q1573.29 160.217 1575.58 160.842 Q1577.88 161.444 1580.12 161.444 Q1583.13 161.444 1584.75 160.426 Q1586.37 159.384 1586.37 157.509 Q1586.37 155.773 1585.19 154.847 Q1584.03 153.921 1580.08 153.064 L1578.59 152.717 Q1574.64 151.884 1572.88 150.171 Q1571.12 148.435 1571.12 145.426 Q1571.12 141.768 1573.71 139.778 Q1576.3 137.787 1581.07 137.787 Q1583.43 137.787 1585.52 138.134 Q1587.6 138.481 1589.36 139.176 Z\" fill=\"#000000\" fill-rule=\"evenodd\" fill-opacity=\"1\" /><path clip-path=\"url(#clip170)\" d=\"M1601.74 131.051 L1601.74 138.412 L1610.52 138.412 L1610.52 141.722 L1601.74 141.722 L1601.74 155.796 Q1601.74 158.967 1602.6 159.87 Q1603.48 160.773 1606.14 160.773 L1610.52 160.773 L1610.52 164.338 L1606.14 164.338 Q1601.21 164.338 1599.33 162.509 Q1597.46 160.657 1597.46 155.796 L1597.46 141.722 L1594.33 141.722 L1594.33 138.412 L1597.46 138.412 L1597.46 131.051 L1601.74 131.051 Z\" fill=\"#000000\" fill-rule=\"evenodd\" fill-opacity=\"1\" /><path clip-path=\"url(#clip170)\" d=\"M1638.29 150.31 L1638.29 152.393 L1618.71 152.393 Q1618.99 156.791 1621.35 159.106 Q1623.73 161.398 1627.97 161.398 Q1630.42 161.398 1632.71 160.796 Q1635.03 160.194 1637.3 158.99 L1637.3 163.018 Q1635.01 163.99 1632.6 164.5 Q1630.19 165.009 1627.71 165.009 Q1621.51 165.009 1617.88 161.398 Q1614.27 157.787 1614.27 151.629 Q1614.27 145.264 1617.69 141.537 Q1621.14 137.787 1626.97 137.787 Q1632.2 137.787 1635.24 141.166 Q1638.29 144.523 1638.29 150.31 M1634.03 149.06 Q1633.99 145.565 1632.07 143.481 Q1630.17 141.398 1627.02 141.398 Q1623.45 141.398 1621.3 143.412 Q1619.17 145.426 1618.85 149.083 L1634.03 149.06 Z\" fill=\"#000000\" fill-rule=\"evenodd\" fill-opacity=\"1\" /><path clip-path=\"url(#clip170)\" d=\"M1660.31 142.393 Q1659.59 141.977 1658.73 141.791 Q1657.9 141.583 1656.88 141.583 Q1653.27 141.583 1651.33 143.944 Q1649.4 146.282 1649.4 150.68 L1649.4 164.338 L1645.12 164.338 L1645.12 138.412 L1649.4 138.412 L1649.4 142.44 Q1650.75 140.078 1652.9 138.944 Q1655.05 137.787 1658.13 137.787 Q1658.57 137.787 1659.1 137.856 Q1659.64 137.903 1660.28 138.018 L1660.31 142.393 Z\" fill=\"#000000\" fill-rule=\"evenodd\" fill-opacity=\"1\" /><path clip-path=\"url(#clip170)\" d=\"M1673.78 141.398 Q1670.35 141.398 1668.36 144.083 Q1666.37 146.745 1666.37 151.398 Q1666.37 156.051 1668.34 158.736 Q1670.33 161.398 1673.78 161.398 Q1677.18 161.398 1679.17 158.713 Q1681.16 156.027 1681.16 151.398 Q1681.16 146.791 1679.17 144.106 Q1677.18 141.398 1673.78 141.398 M1673.78 137.787 Q1679.33 137.787 1682.51 141.398 Q1685.68 145.009 1685.68 151.398 Q1685.68 157.764 1682.51 161.398 Q1679.33 165.009 1673.78 165.009 Q1668.2 165.009 1665.03 161.398 Q1661.88 157.764 1661.88 151.398 Q1661.88 145.009 1665.03 141.398 Q1668.2 137.787 1673.78 137.787 Z\" fill=\"#000000\" fill-rule=\"evenodd\" fill-opacity=\"1\" /><path clip-path=\"url(#clip170)\" d=\"M1692.74 138.412 L1697 138.412 L1697 164.338 L1692.74 164.338 L1692.74 138.412 M1692.74 128.319 L1697 128.319 L1697 133.713 L1692.74 133.713 L1692.74 128.319 Z\" fill=\"#000000\" fill-rule=\"evenodd\" fill-opacity=\"1\" /><path clip-path=\"url(#clip170)\" d=\"M1722.97 142.347 L1722.97 128.319 L1727.23 128.319 L1727.23 164.338 L1722.97 164.338 L1722.97 160.449 Q1721.63 162.763 1719.57 163.898 Q1717.53 165.009 1714.66 165.009 Q1709.96 165.009 1707 161.259 Q1704.06 157.509 1704.06 151.398 Q1704.06 145.287 1707 141.537 Q1709.96 137.787 1714.66 137.787 Q1717.53 137.787 1719.57 138.921 Q1721.63 140.032 1722.97 142.347 M1708.45 151.398 Q1708.45 156.097 1710.38 158.782 Q1712.32 161.444 1715.7 161.444 Q1719.08 161.444 1721.02 158.782 Q1722.97 156.097 1722.97 151.398 Q1722.97 146.699 1721.02 144.037 Q1719.08 141.352 1715.7 141.352 Q1712.32 141.352 1710.38 144.037 Q1708.45 146.699 1708.45 151.398 Z\" fill=\"#000000\" fill-rule=\"evenodd\" fill-opacity=\"1\" /><path clip-path=\"url(#clip170)\" d=\"M1752.53 139.176 L1752.53 143.203 Q1750.72 142.277 1748.78 141.815 Q1746.83 141.352 1744.75 141.352 Q1741.58 141.352 1739.98 142.324 Q1738.41 143.296 1738.41 145.24 Q1738.41 146.722 1739.54 147.578 Q1740.68 148.412 1744.1 149.176 L1745.56 149.5 Q1750.1 150.472 1752 152.254 Q1753.92 154.014 1753.92 157.185 Q1753.92 160.796 1751.05 162.902 Q1748.2 165.009 1743.2 165.009 Q1741.12 165.009 1738.85 164.592 Q1736.6 164.199 1734.1 163.388 L1734.1 158.99 Q1736.46 160.217 1738.76 160.842 Q1741.05 161.444 1743.29 161.444 Q1746.3 161.444 1747.92 160.426 Q1749.54 159.384 1749.54 157.509 Q1749.54 155.773 1748.36 154.847 Q1747.2 153.921 1743.25 153.064 L1741.76 152.717 Q1737.81 151.884 1736.05 150.171 Q1734.29 148.435 1734.29 145.426 Q1734.29 141.768 1736.88 139.778 Q1739.47 137.787 1744.24 137.787 Q1746.6 137.787 1748.69 138.134 Q1750.77 138.481 1752.53 139.176 Z\" fill=\"#000000\" fill-rule=\"evenodd\" fill-opacity=\"1\" /><circle clip-path=\"url(#clip170)\" cx=\"1444.53\" cy=\"198.898\" r=\"23\" fill=\"#0000ff\" fill-rule=\"evenodd\" fill-opacity=\"1\" stroke=\"#000000\" stroke-opacity=\"1\" stroke-width=\"5.12\"/>\n",
       "<path clip-path=\"url(#clip170)\" d=\"M1562.67 191.247 L1562.67 195.229 Q1560.86 194.233 1559.03 193.747 Q1557.23 193.238 1555.38 193.238 Q1551.23 193.238 1548.94 195.877 Q1546.65 198.492 1546.65 203.238 Q1546.65 207.983 1548.94 210.622 Q1551.23 213.238 1555.38 213.238 Q1557.23 213.238 1559.03 212.752 Q1560.86 212.242 1562.67 211.247 L1562.67 215.182 Q1560.89 216.016 1558.96 216.432 Q1557.07 216.849 1554.91 216.849 Q1549.06 216.849 1545.61 213.168 Q1542.16 209.488 1542.16 203.238 Q1542.16 196.895 1545.63 193.261 Q1549.13 189.627 1555.19 189.627 Q1557.16 189.627 1559.03 190.043 Q1560.91 190.437 1562.67 191.247 Z\" fill=\"#000000\" fill-rule=\"evenodd\" fill-opacity=\"1\" /><path clip-path=\"url(#clip170)\" d=\"M1580.12 193.238 Q1576.7 193.238 1574.71 195.923 Q1572.71 198.585 1572.71 203.238 Q1572.71 207.891 1574.68 210.576 Q1576.67 213.238 1580.12 213.238 Q1583.52 213.238 1585.52 210.553 Q1587.51 207.867 1587.51 203.238 Q1587.51 198.631 1585.52 195.946 Q1583.52 193.238 1580.12 193.238 M1580.12 189.627 Q1585.68 189.627 1588.85 193.238 Q1592.02 196.849 1592.02 203.238 Q1592.02 209.604 1588.85 213.238 Q1585.68 216.849 1580.12 216.849 Q1574.54 216.849 1571.37 213.238 Q1568.22 209.604 1568.22 203.238 Q1568.22 196.849 1571.37 193.238 Q1574.54 189.627 1580.12 189.627 Z\" fill=\"#000000\" fill-rule=\"evenodd\" fill-opacity=\"1\" /><path clip-path=\"url(#clip170)\" d=\"M1614.1 194.233 Q1613.39 193.817 1612.53 193.631 Q1611.7 193.423 1610.68 193.423 Q1607.07 193.423 1605.12 195.784 Q1603.2 198.122 1603.2 202.52 L1603.2 216.178 L1598.92 216.178 L1598.92 190.252 L1603.2 190.252 L1603.2 194.28 Q1604.54 191.918 1606.7 190.784 Q1608.85 189.627 1611.93 189.627 Q1612.37 189.627 1612.9 189.696 Q1613.43 189.743 1614.08 189.858 L1614.1 194.233 Z\" fill=\"#000000\" fill-rule=\"evenodd\" fill-opacity=\"1\" /><path clip-path=\"url(#clip170)\" d=\"M1632.76 194.233 Q1632.04 193.817 1631.19 193.631 Q1630.35 193.423 1629.33 193.423 Q1625.72 193.423 1623.78 195.784 Q1621.86 198.122 1621.86 202.52 L1621.86 216.178 L1617.58 216.178 L1617.58 190.252 L1621.86 190.252 L1621.86 194.28 Q1623.2 191.918 1625.35 190.784 Q1627.51 189.627 1630.58 189.627 Q1631.02 189.627 1631.56 189.696 Q1632.09 189.743 1632.74 189.858 L1632.76 194.233 Z\" fill=\"#000000\" fill-rule=\"evenodd\" fill-opacity=\"1\" /><path clip-path=\"url(#clip170)\" d=\"M1658.36 202.15 L1658.36 204.233 L1638.78 204.233 Q1639.06 208.631 1641.42 210.946 Q1643.8 213.238 1648.04 213.238 Q1650.49 213.238 1652.78 212.636 Q1655.1 212.034 1657.37 210.83 L1657.37 214.858 Q1655.08 215.83 1652.67 216.34 Q1650.26 216.849 1647.78 216.849 Q1641.58 216.849 1637.95 213.238 Q1634.33 209.627 1634.33 203.469 Q1634.33 197.104 1637.76 193.377 Q1641.21 189.627 1647.04 189.627 Q1652.27 189.627 1655.31 193.006 Q1658.36 196.363 1658.36 202.15 M1654.1 200.9 Q1654.06 197.405 1652.14 195.321 Q1650.24 193.238 1647.09 193.238 Q1643.52 193.238 1641.37 195.252 Q1639.24 197.266 1638.92 200.923 L1654.1 200.9 Z\" fill=\"#000000\" fill-rule=\"evenodd\" fill-opacity=\"1\" /><path clip-path=\"url(#clip170)\" d=\"M1681.88 191.016 L1681.88 195.043 Q1680.07 194.117 1678.13 193.655 Q1676.19 193.192 1674.1 193.192 Q1670.93 193.192 1669.33 194.164 Q1667.76 195.136 1667.76 197.08 Q1667.76 198.562 1668.89 199.418 Q1670.03 200.252 1673.45 201.016 L1674.91 201.34 Q1679.45 202.312 1681.35 204.094 Q1683.27 205.854 1683.27 209.025 Q1683.27 212.636 1680.4 214.742 Q1677.55 216.849 1672.55 216.849 Q1670.47 216.849 1668.2 216.432 Q1665.95 216.039 1663.45 215.228 L1663.45 210.83 Q1665.82 212.057 1668.11 212.682 Q1670.4 213.284 1672.64 213.284 Q1675.65 213.284 1677.27 212.266 Q1678.89 211.224 1678.89 209.349 Q1678.89 207.613 1677.71 206.687 Q1676.56 205.761 1672.6 204.904 L1671.12 204.557 Q1667.16 203.724 1665.4 202.011 Q1663.64 200.275 1663.64 197.266 Q1663.64 193.608 1666.23 191.618 Q1668.83 189.627 1673.59 189.627 Q1675.95 189.627 1678.04 189.974 Q1680.12 190.321 1681.88 191.016 Z\" fill=\"#000000\" fill-rule=\"evenodd\" fill-opacity=\"1\" /><path clip-path=\"url(#clip170)\" d=\"M1694.17 212.289 L1694.17 226.039 L1689.89 226.039 L1689.89 190.252 L1694.17 190.252 L1694.17 194.187 Q1695.51 191.872 1697.55 190.761 Q1699.61 189.627 1702.46 189.627 Q1707.18 189.627 1710.12 193.377 Q1713.08 197.127 1713.08 203.238 Q1713.08 209.349 1710.12 213.099 Q1707.18 216.849 1702.46 216.849 Q1699.61 216.849 1697.55 215.738 Q1695.51 214.603 1694.17 212.289 M1708.66 203.238 Q1708.66 198.539 1706.72 195.877 Q1704.8 193.192 1701.42 193.192 Q1698.04 193.192 1696.09 195.877 Q1694.17 198.539 1694.17 203.238 Q1694.17 207.937 1696.09 210.622 Q1698.04 213.284 1701.42 213.284 Q1704.8 213.284 1706.72 210.622 Q1708.66 207.937 1708.66 203.238 Z\" fill=\"#000000\" fill-rule=\"evenodd\" fill-opacity=\"1\" /><path clip-path=\"url(#clip170)\" d=\"M1730.19 193.238 Q1726.76 193.238 1724.77 195.923 Q1722.78 198.585 1722.78 203.238 Q1722.78 207.891 1724.75 210.576 Q1726.74 213.238 1730.19 213.238 Q1733.59 213.238 1735.58 210.553 Q1737.57 207.867 1737.57 203.238 Q1737.57 198.631 1735.58 195.946 Q1733.59 193.238 1730.19 193.238 M1730.19 189.627 Q1735.75 189.627 1738.92 193.238 Q1742.09 196.849 1742.09 203.238 Q1742.09 209.604 1738.92 213.238 Q1735.75 216.849 1730.19 216.849 Q1724.61 216.849 1721.44 213.238 Q1718.29 209.604 1718.29 203.238 Q1718.29 196.849 1721.44 193.238 Q1724.61 189.627 1730.19 189.627 Z\" fill=\"#000000\" fill-rule=\"evenodd\" fill-opacity=\"1\" /><path clip-path=\"url(#clip170)\" d=\"M1770.7 200.529 L1770.7 216.178 L1766.44 216.178 L1766.44 200.668 Q1766.44 196.988 1765.01 195.159 Q1763.57 193.33 1760.7 193.33 Q1757.25 193.33 1755.26 195.53 Q1753.27 197.729 1753.27 201.525 L1753.27 216.178 L1748.99 216.178 L1748.99 190.252 L1753.27 190.252 L1753.27 194.28 Q1754.8 191.942 1756.86 190.784 Q1758.94 189.627 1761.65 189.627 Q1766.12 189.627 1768.41 192.405 Q1770.7 195.159 1770.7 200.529 Z\" fill=\"#000000\" fill-rule=\"evenodd\" fill-opacity=\"1\" /><path clip-path=\"url(#clip170)\" d=\"M1796.25 194.187 L1796.25 180.159 L1800.51 180.159 L1800.51 216.178 L1796.25 216.178 L1796.25 212.289 Q1794.91 214.603 1792.85 215.738 Q1790.82 216.849 1787.94 216.849 Q1783.25 216.849 1780.28 213.099 Q1777.34 209.349 1777.34 203.238 Q1777.34 197.127 1780.28 193.377 Q1783.25 189.627 1787.94 189.627 Q1790.82 189.627 1792.85 190.761 Q1794.91 191.872 1796.25 194.187 M1781.74 203.238 Q1781.74 207.937 1783.66 210.622 Q1785.61 213.284 1788.99 213.284 Q1792.37 213.284 1794.31 210.622 Q1796.25 207.937 1796.25 203.238 Q1796.25 198.539 1794.31 195.877 Q1792.37 193.192 1788.99 193.192 Q1785.61 193.192 1783.66 195.877 Q1781.74 198.539 1781.74 203.238 Z\" fill=\"#000000\" fill-rule=\"evenodd\" fill-opacity=\"1\" /><path clip-path=\"url(#clip170)\" d=\"M1809.29 190.252 L1813.55 190.252 L1813.55 216.178 L1809.29 216.178 L1809.29 190.252 M1809.29 180.159 L1813.55 180.159 L1813.55 185.553 L1809.29 185.553 L1809.29 180.159 Z\" fill=\"#000000\" fill-rule=\"evenodd\" fill-opacity=\"1\" /><path clip-path=\"url(#clip170)\" d=\"M1844.01 200.529 L1844.01 216.178 L1839.75 216.178 L1839.75 200.668 Q1839.75 196.988 1838.31 195.159 Q1836.88 193.33 1834.01 193.33 Q1830.56 193.33 1828.57 195.53 Q1826.58 197.729 1826.58 201.525 L1826.58 216.178 L1822.3 216.178 L1822.3 190.252 L1826.58 190.252 L1826.58 194.28 Q1828.11 191.942 1830.17 190.784 Q1832.25 189.627 1834.96 189.627 Q1839.43 189.627 1841.72 192.405 Q1844.01 195.159 1844.01 200.529 Z\" fill=\"#000000\" fill-rule=\"evenodd\" fill-opacity=\"1\" /><path clip-path=\"url(#clip170)\" d=\"M1869.56 202.914 Q1869.56 198.284 1867.64 195.738 Q1865.75 193.192 1862.3 193.192 Q1858.87 193.192 1856.95 195.738 Q1855.05 198.284 1855.05 202.914 Q1855.05 207.52 1856.95 210.066 Q1858.87 212.613 1862.3 212.613 Q1865.75 212.613 1867.64 210.066 Q1869.56 207.52 1869.56 202.914 M1873.82 212.96 Q1873.82 219.58 1870.88 222.798 Q1867.94 226.039 1861.88 226.039 Q1859.63 226.039 1857.64 225.691 Q1855.65 225.367 1853.78 224.673 L1853.78 220.529 Q1855.65 221.548 1857.48 222.034 Q1859.31 222.52 1861.21 222.52 Q1865.4 222.52 1867.48 220.321 Q1869.56 218.145 1869.56 213.724 L1869.56 211.617 Q1868.25 213.909 1866.19 215.043 Q1864.12 216.178 1861.25 216.178 Q1856.49 216.178 1853.57 212.543 Q1850.65 208.909 1850.65 202.914 Q1850.65 196.895 1853.57 193.261 Q1856.49 189.627 1861.25 189.627 Q1864.12 189.627 1866.19 190.761 Q1868.25 191.895 1869.56 194.187 L1869.56 190.252 L1873.82 190.252 L1873.82 212.96 Z\" fill=\"#000000\" fill-rule=\"evenodd\" fill-opacity=\"1\" /><path clip-path=\"url(#clip170)\" d=\"M1919.22 200.529 L1919.22 216.178 L1914.96 216.178 L1914.96 200.668 Q1914.96 196.988 1913.52 195.159 Q1912.09 193.33 1909.22 193.33 Q1905.77 193.33 1903.78 195.53 Q1901.79 197.729 1901.79 201.525 L1901.79 216.178 L1897.5 216.178 L1897.5 190.252 L1901.79 190.252 L1901.79 194.28 Q1903.31 191.942 1905.37 190.784 Q1907.46 189.627 1910.17 189.627 Q1914.63 189.627 1916.93 192.405 Q1919.22 195.159 1919.22 200.529 Z\" fill=\"#000000\" fill-rule=\"evenodd\" fill-opacity=\"1\" /><path clip-path=\"url(#clip170)\" d=\"M1949.89 202.15 L1949.89 204.233 L1930.31 204.233 Q1930.58 208.631 1932.94 210.946 Q1935.33 213.238 1939.56 213.238 Q1942.02 213.238 1944.31 212.636 Q1946.62 212.034 1948.89 210.83 L1948.89 214.858 Q1946.6 215.83 1944.19 216.34 Q1941.79 216.849 1939.31 216.849 Q1933.11 216.849 1929.47 213.238 Q1925.86 209.627 1925.86 203.469 Q1925.86 197.104 1929.29 193.377 Q1932.74 189.627 1938.57 189.627 Q1943.8 189.627 1946.83 193.006 Q1949.89 196.363 1949.89 202.15 M1945.63 200.9 Q1945.58 197.405 1943.66 195.321 Q1941.76 193.238 1938.62 193.238 Q1935.05 193.238 1932.9 195.252 Q1930.77 197.266 1930.44 200.923 L1945.63 200.9 Z\" fill=\"#000000\" fill-rule=\"evenodd\" fill-opacity=\"1\" /><path clip-path=\"url(#clip170)\" d=\"M1968.66 203.145 Q1963.5 203.145 1961.51 204.326 Q1959.52 205.506 1959.52 208.354 Q1959.52 210.622 1961 211.965 Q1962.5 213.284 1965.07 213.284 Q1968.62 213.284 1970.74 210.784 Q1972.9 208.261 1972.9 204.094 L1972.9 203.145 L1968.66 203.145 M1977.16 201.386 L1977.16 216.178 L1972.9 216.178 L1972.9 212.242 Q1971.44 214.603 1969.26 215.738 Q1967.09 216.849 1963.94 216.849 Q1959.96 216.849 1957.6 214.627 Q1955.26 212.381 1955.26 208.631 Q1955.26 204.256 1958.18 202.034 Q1961.12 199.812 1966.93 199.812 L1972.9 199.812 L1972.9 199.395 Q1972.9 196.455 1970.95 194.858 Q1969.03 193.238 1965.54 193.238 Q1963.31 193.238 1961.21 193.77 Q1959.1 194.303 1957.16 195.367 L1957.16 191.432 Q1959.49 190.53 1961.69 190.09 Q1963.89 189.627 1965.98 189.627 Q1971.6 189.627 1974.38 192.543 Q1977.16 195.46 1977.16 201.386 Z\" fill=\"#000000\" fill-rule=\"evenodd\" fill-opacity=\"1\" /><path clip-path=\"url(#clip170)\" d=\"M2000.95 194.233 Q2000.24 193.817 1999.38 193.631 Q1998.55 193.423 1997.53 193.423 Q1993.92 193.423 1991.97 195.784 Q1990.05 198.122 1990.05 202.52 L1990.05 216.178 L1985.77 216.178 L1985.77 190.252 L1990.05 190.252 L1990.05 194.28 Q1991.39 191.918 1993.55 190.784 Q1995.7 189.627 1998.78 189.627 Q1999.22 189.627 1999.75 189.696 Q2000.28 189.743 2000.93 189.858 L2000.95 194.233 Z\" fill=\"#000000\" fill-rule=\"evenodd\" fill-opacity=\"1\" /><path clip-path=\"url(#clip170)\" d=\"M2026.55 202.15 L2026.55 204.233 L2006.97 204.233 Q2007.25 208.631 2009.61 210.946 Q2011.99 213.238 2016.23 213.238 Q2018.68 213.238 2020.98 212.636 Q2023.29 212.034 2025.56 210.83 L2025.56 214.858 Q2023.27 215.83 2020.86 216.34 Q2018.45 216.849 2015.98 216.849 Q2009.77 216.849 2006.14 213.238 Q2002.53 209.627 2002.53 203.469 Q2002.53 197.104 2005.95 193.377 Q2009.4 189.627 2015.24 189.627 Q2020.47 189.627 2023.5 193.006 Q2026.55 196.363 2026.55 202.15 M2022.3 200.9 Q2022.25 197.405 2020.33 195.321 Q2018.43 193.238 2015.28 193.238 Q2011.72 193.238 2009.56 195.252 Q2007.43 197.266 2007.11 200.923 L2022.3 200.9 Z\" fill=\"#000000\" fill-rule=\"evenodd\" fill-opacity=\"1\" /><path clip-path=\"url(#clip170)\" d=\"M2050.07 191.016 L2050.07 195.043 Q2048.27 194.117 2046.32 193.655 Q2044.38 193.192 2042.3 193.192 Q2039.12 193.192 2037.53 194.164 Q2035.95 195.136 2035.95 197.08 Q2035.95 198.562 2037.09 199.418 Q2038.22 200.252 2041.65 201.016 L2043.11 201.34 Q2047.64 202.312 2049.54 204.094 Q2051.46 205.854 2051.46 209.025 Q2051.46 212.636 2048.59 214.742 Q2045.74 216.849 2040.74 216.849 Q2038.66 216.849 2036.39 216.432 Q2034.15 216.039 2031.65 215.228 L2031.65 210.83 Q2034.01 212.057 2036.3 212.682 Q2038.59 213.284 2040.84 213.284 Q2043.85 213.284 2045.47 212.266 Q2047.09 211.224 2047.09 209.349 Q2047.09 207.613 2045.91 206.687 Q2044.75 205.761 2040.79 204.904 L2039.31 204.557 Q2035.35 203.724 2033.59 202.011 Q2031.83 200.275 2031.83 197.266 Q2031.83 193.608 2034.42 191.618 Q2037.02 189.627 2041.79 189.627 Q2044.15 189.627 2046.23 189.974 Q2048.31 190.321 2050.07 191.016 Z\" fill=\"#000000\" fill-rule=\"evenodd\" fill-opacity=\"1\" /><path clip-path=\"url(#clip170)\" d=\"M2062.46 182.891 L2062.46 190.252 L2071.23 190.252 L2071.23 193.562 L2062.46 193.562 L2062.46 207.636 Q2062.46 210.807 2063.31 211.71 Q2064.19 212.613 2066.86 212.613 L2071.23 212.613 L2071.23 216.178 L2066.86 216.178 Q2061.92 216.178 2060.05 214.349 Q2058.17 212.497 2058.17 207.636 L2058.17 193.562 L2055.05 193.562 L2055.05 190.252 L2058.17 190.252 L2058.17 182.891 L2062.46 182.891 Z\" fill=\"#000000\" fill-rule=\"evenodd\" fill-opacity=\"1\" /><path clip-path=\"url(#clip170)\" d=\"M2096.02 212.289 L2096.02 226.039 L2091.74 226.039 L2091.74 190.252 L2096.02 190.252 L2096.02 194.187 Q2097.36 191.872 2099.4 190.761 Q2101.46 189.627 2104.31 189.627 Q2109.03 189.627 2111.97 193.377 Q2114.93 197.127 2114.93 203.238 Q2114.93 209.349 2111.97 213.099 Q2109.03 216.849 2104.31 216.849 Q2101.46 216.849 2099.4 215.738 Q2097.36 214.603 2096.02 212.289 M2110.51 203.238 Q2110.51 198.539 2108.57 195.877 Q2106.65 193.192 2103.27 193.192 Q2099.89 193.192 2097.94 195.877 Q2096.02 198.539 2096.02 203.238 Q2096.02 207.937 2097.94 210.622 Q2099.89 213.284 2103.27 213.284 Q2106.65 213.284 2108.57 210.622 Q2110.51 207.937 2110.51 203.238 Z\" fill=\"#000000\" fill-rule=\"evenodd\" fill-opacity=\"1\" /><path clip-path=\"url(#clip170)\" d=\"M2132.04 193.238 Q2128.61 193.238 2126.62 195.923 Q2124.63 198.585 2124.63 203.238 Q2124.63 207.891 2126.6 210.576 Q2128.59 213.238 2132.04 213.238 Q2135.44 213.238 2137.43 210.553 Q2139.42 207.867 2139.42 203.238 Q2139.42 198.631 2137.43 195.946 Q2135.44 193.238 2132.04 193.238 M2132.04 189.627 Q2137.6 189.627 2140.77 193.238 Q2143.94 196.849 2143.94 203.238 Q2143.94 209.604 2140.77 213.238 Q2137.6 216.849 2132.04 216.849 Q2126.46 216.849 2123.29 213.238 Q2120.14 209.604 2120.14 203.238 Q2120.14 196.849 2123.29 193.238 Q2126.46 189.627 2132.04 189.627 Z\" fill=\"#000000\" fill-rule=\"evenodd\" fill-opacity=\"1\" /><path clip-path=\"url(#clip170)\" d=\"M2151 190.252 L2155.26 190.252 L2155.26 216.178 L2151 216.178 L2151 190.252 M2151 180.159 L2155.26 180.159 L2155.26 185.553 L2151 185.553 L2151 180.159 Z\" fill=\"#000000\" fill-rule=\"evenodd\" fill-opacity=\"1\" /><path clip-path=\"url(#clip170)\" d=\"M2185.72 200.529 L2185.72 216.178 L2181.46 216.178 L2181.46 200.668 Q2181.46 196.988 2180.03 195.159 Q2178.59 193.33 2175.72 193.33 Q2172.27 193.33 2170.28 195.53 Q2168.29 197.729 2168.29 201.525 L2168.29 216.178 L2164.01 216.178 L2164.01 190.252 L2168.29 190.252 L2168.29 194.28 Q2169.82 191.942 2171.88 190.784 Q2173.96 189.627 2176.67 189.627 Q2181.14 189.627 2183.43 192.405 Q2185.72 195.159 2185.72 200.529 Z\" fill=\"#000000\" fill-rule=\"evenodd\" fill-opacity=\"1\" /><path clip-path=\"url(#clip170)\" d=\"M2198.43 182.891 L2198.43 190.252 L2207.2 190.252 L2207.2 193.562 L2198.43 193.562 L2198.43 207.636 Q2198.43 210.807 2199.29 211.71 Q2200.16 212.613 2202.83 212.613 L2207.2 212.613 L2207.2 216.178 L2202.83 216.178 Q2197.9 216.178 2196.02 214.349 Q2194.15 212.497 2194.15 207.636 L2194.15 193.562 L2191.02 193.562 L2191.02 190.252 L2194.15 190.252 L2194.15 182.891 L2198.43 182.891 Z\" fill=\"#000000\" fill-rule=\"evenodd\" fill-opacity=\"1\" /><path clip-path=\"url(#clip170)\" d=\"M2229.33 191.016 L2229.33 195.043 Q2227.53 194.117 2225.58 193.655 Q2223.64 193.192 2221.55 193.192 Q2218.38 193.192 2216.79 194.164 Q2215.21 195.136 2215.21 197.08 Q2215.21 198.562 2216.35 199.418 Q2217.48 200.252 2220.91 201.016 L2222.36 201.34 Q2226.9 202.312 2228.8 204.094 Q2230.72 205.854 2230.72 209.025 Q2230.72 212.636 2227.85 214.742 Q2225 216.849 2220 216.849 Q2217.92 216.849 2215.65 216.432 Q2213.41 216.039 2210.91 215.228 L2210.91 210.83 Q2213.27 212.057 2215.56 212.682 Q2217.85 213.284 2220.1 213.284 Q2223.1 213.284 2224.72 212.266 Q2226.35 211.224 2226.35 209.349 Q2226.35 207.613 2225.16 206.687 Q2224.01 205.761 2220.05 204.904 L2218.57 204.557 Q2214.61 203.724 2212.85 202.011 Q2211.09 200.275 2211.09 197.266 Q2211.09 193.608 2213.68 191.618 Q2216.28 189.627 2221.04 189.627 Q2223.41 189.627 2225.49 189.974 Q2227.57 190.321 2229.33 191.016 Z\" fill=\"#000000\" fill-rule=\"evenodd\" fill-opacity=\"1\" /></svg>\n"
      ]
     },
     "execution_count": 432,
     "metadata": {},
     "output_type": "execute_result"
    }
   ],
   "source": [
    "xhat=zeros(0,1)\n",
    "yhat=zeros(0,1)\n",
    "for i in 2:size(aa)[1]\n",
    "    xhat=[xhat;fhat(para,aa[i,2],aa[i,3] )[1]]\n",
    "    yhat=[yhat;fhat(para,aa[i,2],aa[i,3] )[2]]\n",
    "end\n",
    "scatter([aa[i,2] for i in 2:17],[aa[i,3] for i in 2:16],color=\"red\",label=\"asteroids\")\n",
    "scatter!(xhat,yhat,color=\"blue\",label=\"corresponding nearest points\")"
   ]
  },
  {
   "cell_type": "markdown",
   "id": "cebbd91e",
   "metadata": {},
   "source": [
    "(c)"
   ]
  },
  {
   "cell_type": "code",
   "execution_count": 443,
   "id": "5af413b8",
   "metadata": {},
   "outputs": [
    {
     "data": {
      "text/plain": [
       "Df (generic function with 1 method)"
      ]
     },
     "execution_count": 443,
     "metadata": {},
     "output_type": "execute_result"
    }
   ],
   "source": [
    "x=aa[2:17,2]\n",
    "y=aa[2:17,3]\n",
    "mass=aa[2:17,4]\n",
    "t= atan.(x./y)\n",
    "f(theta)=\n",
    "mass.*(norm.(theta[1].+theta[3]*cos.(theta[5].+t).+theta[4]*cos.(theta[5].-t).-x).^2) .+\n",
    "mass.*(norm.(theta[2].+theta[3]*sin.(theta[5].+t).+theta[4]*sin.(theta[5].-t).-y).^2) .+\n",
    "1000*(abs(theta[1]-1)-1).+\n",
    "1000*(abs(theta[2]-1)-1).+\n",
    "1000*(abs(theta[3]-1)-1).+\n",
    "1000*(abs(theta[4]-1)-1).+\n",
    "1000*(abs(theta[5]-1)-1)\n",
    "Df(theta)=\n",
    "[ones(length(x)) ones(length(x)) cos.(theta[5].+t).+\n",
    "    sin.(theta[5].+t) cos.(theta[5].-t).+sin.(theta[5].-t) theta[4]*\n",
    "    (sin.(theta[5]).*sin.(t).+cos.(theta[5]).*cos.(t).-sin.(theta[5].-t)).+\n",
    "    theta[3]*(cos.(t.+theta[5]).-sin.(t.+theta[5]))]"
   ]
  },
  {
   "cell_type": "markdown",
   "id": "49f3311d",
   "metadata": {},
   "source": [
    "weight : Mass"
   ]
  },
  {
   "cell_type": "code",
   "execution_count": 434,
   "id": "e5372fcc",
   "metadata": {},
   "outputs": [
    {
     "data": {
      "text/plain": [
       "5-element Vector{Float64}:\n",
       " 2.1127\n",
       " 2.1127\n",
       " 2.2212\n",
       " 2.2564\n",
       " 0.7303"
      ]
     },
     "execution_count": 434,
     "metadata": {},
     "output_type": "execute_result"
    }
   ],
   "source": [
    "para=round.(levenberg_marquardt2(f, Df,[0.5,0.5,1,1,0.8], 1, 100, 1e-6)[1],digits=4)"
   ]
  },
  {
   "cell_type": "markdown",
   "id": "6958fc73",
   "metadata": {},
   "source": [
    "weight : Mass^2"
   ]
  },
  {
   "cell_type": "code",
   "execution_count": 435,
   "id": "ca786d33",
   "metadata": {},
   "outputs": [
    {
     "data": {
      "text/plain": [
       "5-element Vector{Float64}:\n",
       " 2.0962\n",
       " 2.0962\n",
       " 2.1907\n",
       " 2.2297\n",
       " 0.725"
      ]
     },
     "execution_count": 435,
     "metadata": {},
     "output_type": "execute_result"
    }
   ],
   "source": [
    "mass=aa[2:17,4].^2\n",
    "para=round.(levenberg_marquardt2(f, Df,[0.5,0.5,1,1,0.8], 1, 100, 1e-6)[1],digits=4)"
   ]
  },
  {
   "cell_type": "markdown",
   "id": "b91a9f9d",
   "metadata": {},
   "source": [
    "weight : 1/Mass"
   ]
  },
  {
   "cell_type": "code",
   "execution_count": 436,
   "id": "09a3d618",
   "metadata": {},
   "outputs": [
    {
     "data": {
      "text/plain": [
       "5-element Vector{Float64}:\n",
       " 2.112\n",
       " 2.112\n",
       " 2.2113\n",
       " 2.2277\n",
       " 0.7325"
      ]
     },
     "execution_count": 436,
     "metadata": {},
     "output_type": "execute_result"
    }
   ],
   "source": [
    "mass=1 ./aa[2:17,4]\n",
    "para=round.(levenberg_marquardt2(f, Df,[0.5,0.5,1,1,0.8], 1, 100, 1e-6)[1],digits=4)"
   ]
  },
  {
   "cell_type": "markdown",
   "id": "1ef088aa",
   "metadata": {},
   "source": [
    "weight : 1/(Mass)^2"
   ]
  },
  {
   "cell_type": "code",
   "execution_count": 437,
   "id": "2711c579",
   "metadata": {},
   "outputs": [
    {
     "data": {
      "text/plain": [
       "5-element Vector{Float64}:\n",
       " 2.0216\n",
       " 2.0216\n",
       " 1.9943\n",
       " 2.0249\n",
       " 0.9674"
      ]
     },
     "execution_count": 437,
     "metadata": {},
     "output_type": "execute_result"
    }
   ],
   "source": [
    "mass=1 ./aa[2:17,4].^2\n",
    "para=round.(levenberg_marquardt2(f, Df,[0.5,0.5,1,1,0.8], 1, 100, 1e-6)[1],digits=4)"
   ]
  },
  {
   "cell_type": "markdown",
   "id": "4d331a43",
   "metadata": {},
   "source": [
    "(d)"
   ]
  },
  {
   "cell_type": "code",
   "execution_count": 438,
   "id": "7bb22993",
   "metadata": {},
   "outputs": [
    {
     "data": {
      "image/svg+xml": [
       "<?xml version=\"1.0\" encoding=\"utf-8\"?>\n",
       "<svg xmlns=\"http://www.w3.org/2000/svg\" xmlns:xlink=\"http://www.w3.org/1999/xlink\" width=\"600\" height=\"400\" viewBox=\"0 0 2400 1600\">\n",
       "<defs>\n",
       "  <clipPath id=\"clip210\">\n",
       "    <rect x=\"0\" y=\"0\" width=\"2400\" height=\"1600\"/>\n",
       "  </clipPath>\n",
       "</defs>\n",
       "<path clip-path=\"url(#clip210)\" d=\"\n",
       "M0 1600 L2400 1600 L2400 0 L0 0  Z\n",
       "  \" fill=\"#ffffff\" fill-rule=\"evenodd\" fill-opacity=\"1\"/>\n",
       "<defs>\n",
       "  <clipPath id=\"clip211\">\n",
       "    <rect x=\"480\" y=\"0\" width=\"1681\" height=\"1600\"/>\n",
       "  </clipPath>\n",
       "</defs>\n",
       "<path clip-path=\"url(#clip210)\" d=\"\n",
       "M156.274 1486.45 L2352.76 1486.45 L2352.76 47.2441 L156.274 47.2441  Z\n",
       "  \" fill=\"#ffffff\" fill-rule=\"evenodd\" fill-opacity=\"1\"/>\n",
       "<defs>\n",
       "  <clipPath id=\"clip212\">\n",
       "    <rect x=\"156\" y=\"47\" width=\"2197\" height=\"1440\"/>\n",
       "  </clipPath>\n",
       "</defs>\n",
       "<polyline clip-path=\"url(#clip212)\" style=\"stroke:#000000; stroke-linecap:butt; stroke-linejoin:round; stroke-width:2; stroke-opacity:0.1; fill:none\" points=\"\n",
       "  393.265,1486.45 393.265,47.2441 \n",
       "  \"/>\n",
       "<polyline clip-path=\"url(#clip212)\" style=\"stroke:#000000; stroke-linecap:butt; stroke-linejoin:round; stroke-width:2; stroke-opacity:0.1; fill:none\" points=\"\n",
       "  884.06,1486.45 884.06,47.2441 \n",
       "  \"/>\n",
       "<polyline clip-path=\"url(#clip212)\" style=\"stroke:#000000; stroke-linecap:butt; stroke-linejoin:round; stroke-width:2; stroke-opacity:0.1; fill:none\" points=\"\n",
       "  1374.85,1486.45 1374.85,47.2441 \n",
       "  \"/>\n",
       "<polyline clip-path=\"url(#clip212)\" style=\"stroke:#000000; stroke-linecap:butt; stroke-linejoin:round; stroke-width:2; stroke-opacity:0.1; fill:none\" points=\"\n",
       "  1865.65,1486.45 1865.65,47.2441 \n",
       "  \"/>\n",
       "<polyline clip-path=\"url(#clip210)\" style=\"stroke:#000000; stroke-linecap:butt; stroke-linejoin:round; stroke-width:4; stroke-opacity:1; fill:none\" points=\"\n",
       "  156.274,1486.45 2352.76,1486.45 \n",
       "  \"/>\n",
       "<polyline clip-path=\"url(#clip210)\" style=\"stroke:#000000; stroke-linecap:butt; stroke-linejoin:round; stroke-width:4; stroke-opacity:1; fill:none\" points=\"\n",
       "  393.265,1486.45 393.265,1467.55 \n",
       "  \"/>\n",
       "<polyline clip-path=\"url(#clip210)\" style=\"stroke:#000000; stroke-linecap:butt; stroke-linejoin:round; stroke-width:4; stroke-opacity:1; fill:none\" points=\"\n",
       "  884.06,1486.45 884.06,1467.55 \n",
       "  \"/>\n",
       "<polyline clip-path=\"url(#clip210)\" style=\"stroke:#000000; stroke-linecap:butt; stroke-linejoin:round; stroke-width:4; stroke-opacity:1; fill:none\" points=\"\n",
       "  1374.85,1486.45 1374.85,1467.55 \n",
       "  \"/>\n",
       "<polyline clip-path=\"url(#clip210)\" style=\"stroke:#000000; stroke-linecap:butt; stroke-linejoin:round; stroke-width:4; stroke-opacity:1; fill:none\" points=\"\n",
       "  1865.65,1486.45 1865.65,1467.55 \n",
       "  \"/>\n",
       "<path clip-path=\"url(#clip210)\" d=\"M370.569 1517.37 Q366.958 1517.37 365.129 1520.93 Q363.323 1524.47 363.323 1531.6 Q363.323 1538.71 365.129 1542.27 Q366.958 1545.82 370.569 1545.82 Q374.203 1545.82 376.008 1542.27 Q377.837 1538.71 377.837 1531.6 Q377.837 1524.47 376.008 1520.93 Q374.203 1517.37 370.569 1517.37 M370.569 1513.66 Q376.379 1513.66 379.434 1518.27 Q382.513 1522.85 382.513 1531.6 Q382.513 1540.33 379.434 1544.94 Q376.379 1549.52 370.569 1549.52 Q364.759 1549.52 361.68 1544.94 Q358.624 1540.33 358.624 1531.6 Q358.624 1522.85 361.68 1518.27 Q364.759 1513.66 370.569 1513.66 Z\" fill=\"#000000\" fill-rule=\"evenodd\" fill-opacity=\"1\" /><path clip-path=\"url(#clip210)\" d=\"M390.731 1542.97 L395.615 1542.97 L395.615 1548.85 L390.731 1548.85 L390.731 1542.97 Z\" fill=\"#000000\" fill-rule=\"evenodd\" fill-opacity=\"1\" /><path clip-path=\"url(#clip210)\" d=\"M416.379 1529.7 Q413.231 1529.7 411.379 1531.86 Q409.55 1534.01 409.55 1537.76 Q409.55 1541.49 411.379 1543.66 Q413.231 1545.82 416.379 1545.82 Q419.527 1545.82 421.355 1543.66 Q423.207 1541.49 423.207 1537.76 Q423.207 1534.01 421.355 1531.86 Q419.527 1529.7 416.379 1529.7 M425.661 1515.05 L425.661 1519.31 Q423.902 1518.48 422.096 1518.04 Q420.314 1517.6 418.555 1517.6 Q413.925 1517.6 411.471 1520.72 Q409.041 1523.85 408.693 1530.17 Q410.059 1528.15 412.119 1527.09 Q414.18 1526 416.656 1526 Q421.865 1526 424.874 1529.17 Q427.906 1532.32 427.906 1537.76 Q427.906 1543.08 424.758 1546.3 Q421.61 1549.52 416.379 1549.52 Q410.383 1549.52 407.212 1544.94 Q404.041 1540.33 404.041 1531.6 Q404.041 1523.41 407.93 1518.55 Q411.818 1513.66 418.369 1513.66 Q420.129 1513.66 421.911 1514.01 Q423.717 1514.36 425.661 1515.05 Z\" fill=\"#000000\" fill-rule=\"evenodd\" fill-opacity=\"1\" /><path clip-path=\"url(#clip210)\" d=\"M861.491 1517.37 Q857.88 1517.37 856.051 1520.93 Q854.245 1524.47 854.245 1531.6 Q854.245 1538.71 856.051 1542.27 Q857.88 1545.82 861.491 1545.82 Q865.125 1545.82 866.93 1542.27 Q868.759 1538.71 868.759 1531.6 Q868.759 1524.47 866.93 1520.93 Q865.125 1517.37 861.491 1517.37 M861.491 1513.66 Q867.301 1513.66 870.356 1518.27 Q873.435 1522.85 873.435 1531.6 Q873.435 1540.33 870.356 1544.94 Q867.301 1549.52 861.491 1549.52 Q855.681 1549.52 852.602 1544.94 Q849.546 1540.33 849.546 1531.6 Q849.546 1522.85 852.602 1518.27 Q855.681 1513.66 861.491 1513.66 Z\" fill=\"#000000\" fill-rule=\"evenodd\" fill-opacity=\"1\" /><path clip-path=\"url(#clip210)\" d=\"M881.653 1542.97 L886.537 1542.97 L886.537 1548.85 L881.653 1548.85 L881.653 1542.97 Z\" fill=\"#000000\" fill-rule=\"evenodd\" fill-opacity=\"1\" /><path clip-path=\"url(#clip210)\" d=\"M906.722 1532.44 Q903.389 1532.44 901.467 1534.22 Q899.569 1536 899.569 1539.13 Q899.569 1542.25 901.467 1544.03 Q903.389 1545.82 906.722 1545.82 Q910.055 1545.82 911.977 1544.03 Q913.898 1542.23 913.898 1539.13 Q913.898 1536 911.977 1534.22 Q910.078 1532.44 906.722 1532.44 M902.046 1530.45 Q899.037 1529.7 897.347 1527.64 Q895.68 1525.58 895.68 1522.62 Q895.68 1518.48 898.62 1516.07 Q901.583 1513.66 906.722 1513.66 Q911.884 1513.66 914.824 1516.07 Q917.764 1518.48 917.764 1522.62 Q917.764 1525.58 916.074 1527.64 Q914.407 1529.7 911.421 1530.45 Q914.801 1531.23 916.676 1533.52 Q918.574 1535.82 918.574 1539.13 Q918.574 1544.15 915.495 1546.83 Q912.439 1549.52 906.722 1549.52 Q901.004 1549.52 897.926 1546.83 Q894.87 1544.15 894.87 1539.13 Q894.87 1535.82 896.768 1533.52 Q898.666 1531.23 902.046 1530.45 M900.333 1523.06 Q900.333 1525.75 902 1527.25 Q903.69 1528.76 906.722 1528.76 Q909.731 1528.76 911.421 1527.25 Q913.134 1525.75 913.134 1523.06 Q913.134 1520.38 911.421 1518.87 Q909.731 1517.37 906.722 1517.37 Q903.69 1517.37 902 1518.87 Q900.333 1520.38 900.333 1523.06 Z\" fill=\"#000000\" fill-rule=\"evenodd\" fill-opacity=\"1\" /><path clip-path=\"url(#clip210)\" d=\"M1342.01 1544.91 L1349.65 1544.91 L1349.65 1518.55 L1341.34 1520.21 L1341.34 1515.95 L1349.6 1514.29 L1354.28 1514.29 L1354.28 1544.91 L1361.91 1544.91 L1361.91 1548.85 L1342.01 1548.85 L1342.01 1544.91 Z\" fill=\"#000000\" fill-rule=\"evenodd\" fill-opacity=\"1\" /><path clip-path=\"url(#clip210)\" d=\"M1371.36 1542.97 L1376.24 1542.97 L1376.24 1548.85 L1371.36 1548.85 L1371.36 1542.97 Z\" fill=\"#000000\" fill-rule=\"evenodd\" fill-opacity=\"1\" /><path clip-path=\"url(#clip210)\" d=\"M1396.43 1517.37 Q1392.82 1517.37 1390.99 1520.93 Q1389.18 1524.47 1389.18 1531.6 Q1389.18 1538.71 1390.99 1542.27 Q1392.82 1545.82 1396.43 1545.82 Q1400.06 1545.82 1401.87 1542.27 Q1403.7 1538.71 1403.7 1531.6 Q1403.7 1524.47 1401.87 1520.93 Q1400.06 1517.37 1396.43 1517.37 M1396.43 1513.66 Q1402.24 1513.66 1405.29 1518.27 Q1408.37 1522.85 1408.37 1531.6 Q1408.37 1540.33 1405.29 1544.94 Q1402.24 1549.52 1396.43 1549.52 Q1390.62 1549.52 1387.54 1544.94 Q1384.48 1540.33 1384.48 1531.6 Q1384.48 1522.85 1387.54 1518.27 Q1390.62 1513.66 1396.43 1513.66 Z\" fill=\"#000000\" fill-rule=\"evenodd\" fill-opacity=\"1\" /><path clip-path=\"url(#clip210)\" d=\"M1833.6 1544.91 L1841.24 1544.91 L1841.24 1518.55 L1832.93 1520.21 L1832.93 1515.95 L1841.19 1514.29 L1845.87 1514.29 L1845.87 1544.91 L1853.51 1544.91 L1853.51 1548.85 L1833.6 1548.85 L1833.6 1544.91 Z\" fill=\"#000000\" fill-rule=\"evenodd\" fill-opacity=\"1\" /><path clip-path=\"url(#clip210)\" d=\"M1862.95 1542.97 L1867.84 1542.97 L1867.84 1548.85 L1862.95 1548.85 L1862.95 1542.97 Z\" fill=\"#000000\" fill-rule=\"evenodd\" fill-opacity=\"1\" /><path clip-path=\"url(#clip210)\" d=\"M1882.05 1544.91 L1898.37 1544.91 L1898.37 1548.85 L1876.42 1548.85 L1876.42 1544.91 Q1879.09 1542.16 1883.67 1537.53 Q1888.28 1532.88 1889.46 1531.53 Q1891.7 1529.01 1892.58 1527.27 Q1893.48 1525.51 1893.48 1523.82 Q1893.48 1521.07 1891.54 1519.33 Q1889.62 1517.6 1886.52 1517.6 Q1884.32 1517.6 1881.86 1518.36 Q1879.43 1519.13 1876.66 1520.68 L1876.66 1515.95 Q1879.48 1514.82 1881.93 1514.24 Q1884.39 1513.66 1886.42 1513.66 Q1891.8 1513.66 1894.99 1516.35 Q1898.18 1519.03 1898.18 1523.52 Q1898.18 1525.65 1897.37 1527.57 Q1896.59 1529.47 1894.48 1532.07 Q1893.9 1532.74 1890.8 1535.95 Q1887.7 1539.15 1882.05 1544.91 Z\" fill=\"#000000\" fill-rule=\"evenodd\" fill-opacity=\"1\" /><polyline clip-path=\"url(#clip212)\" style=\"stroke:#000000; stroke-linecap:butt; stroke-linejoin:round; stroke-width:2; stroke-opacity:0.1; fill:none\" points=\"\n",
       "  156.274,1197.63 2352.76,1197.63 \n",
       "  \"/>\n",
       "<polyline clip-path=\"url(#clip212)\" style=\"stroke:#000000; stroke-linecap:butt; stroke-linejoin:round; stroke-width:2; stroke-opacity:0.1; fill:none\" points=\"\n",
       "  156.274,903.3 2352.76,903.3 \n",
       "  \"/>\n",
       "<polyline clip-path=\"url(#clip212)\" style=\"stroke:#000000; stroke-linecap:butt; stroke-linejoin:round; stroke-width:2; stroke-opacity:0.1; fill:none\" points=\"\n",
       "  156.274,608.972 2352.76,608.972 \n",
       "  \"/>\n",
       "<polyline clip-path=\"url(#clip212)\" style=\"stroke:#000000; stroke-linecap:butt; stroke-linejoin:round; stroke-width:2; stroke-opacity:0.1; fill:none\" points=\"\n",
       "  156.274,314.644 2352.76,314.644 \n",
       "  \"/>\n",
       "<polyline clip-path=\"url(#clip210)\" style=\"stroke:#000000; stroke-linecap:butt; stroke-linejoin:round; stroke-width:4; stroke-opacity:1; fill:none\" points=\"\n",
       "  156.274,1486.45 156.274,47.2441 \n",
       "  \"/>\n",
       "<polyline clip-path=\"url(#clip210)\" style=\"stroke:#000000; stroke-linecap:butt; stroke-linejoin:round; stroke-width:4; stroke-opacity:1; fill:none\" points=\"\n",
       "  156.274,1197.63 175.172,1197.63 \n",
       "  \"/>\n",
       "<polyline clip-path=\"url(#clip210)\" style=\"stroke:#000000; stroke-linecap:butt; stroke-linejoin:round; stroke-width:4; stroke-opacity:1; fill:none\" points=\"\n",
       "  156.274,903.3 175.172,903.3 \n",
       "  \"/>\n",
       "<polyline clip-path=\"url(#clip210)\" style=\"stroke:#000000; stroke-linecap:butt; stroke-linejoin:round; stroke-width:4; stroke-opacity:1; fill:none\" points=\"\n",
       "  156.274,608.972 175.172,608.972 \n",
       "  \"/>\n",
       "<polyline clip-path=\"url(#clip210)\" style=\"stroke:#000000; stroke-linecap:butt; stroke-linejoin:round; stroke-width:4; stroke-opacity:1; fill:none\" points=\"\n",
       "  156.274,314.644 175.172,314.644 \n",
       "  \"/>\n",
       "<path clip-path=\"url(#clip210)\" d=\"M62.9365 1183.43 Q59.3254 1183.43 57.4967 1186.99 Q55.6912 1190.53 55.6912 1197.66 Q55.6912 1204.77 57.4967 1208.33 Q59.3254 1211.88 62.9365 1211.88 Q66.5707 1211.88 68.3763 1208.33 Q70.205 1204.77 70.205 1197.66 Q70.205 1190.53 68.3763 1186.99 Q66.5707 1183.43 62.9365 1183.43 M62.9365 1179.72 Q68.7467 1179.72 71.8022 1184.33 Q74.8809 1188.91 74.8809 1197.66 Q74.8809 1206.39 71.8022 1211 Q68.7467 1215.58 62.9365 1215.58 Q57.1264 1215.58 54.0477 1211 Q50.9921 1206.39 50.9921 1197.66 Q50.9921 1188.91 54.0477 1184.33 Q57.1264 1179.72 62.9365 1179.72 Z\" fill=\"#000000\" fill-rule=\"evenodd\" fill-opacity=\"1\" /><path clip-path=\"url(#clip210)\" d=\"M83.0984 1209.03 L87.9827 1209.03 L87.9827 1214.91 L83.0984 1214.91 L83.0984 1209.03 Z\" fill=\"#000000\" fill-rule=\"evenodd\" fill-opacity=\"1\" /><path clip-path=\"url(#clip210)\" d=\"M108.746 1195.76 Q105.598 1195.76 103.746 1197.92 Q101.918 1200.07 101.918 1203.82 Q101.918 1207.55 103.746 1209.72 Q105.598 1211.88 108.746 1211.88 Q111.895 1211.88 113.723 1209.72 Q115.575 1207.55 115.575 1203.82 Q115.575 1200.07 113.723 1197.92 Q111.895 1195.76 108.746 1195.76 M118.029 1181.11 L118.029 1185.37 Q116.27 1184.54 114.464 1184.1 Q112.682 1183.66 110.922 1183.66 Q106.293 1183.66 103.839 1186.78 Q101.409 1189.91 101.061 1196.23 Q102.427 1194.21 104.487 1193.15 Q106.547 1192.06 109.024 1192.06 Q114.233 1192.06 117.242 1195.23 Q120.274 1198.38 120.274 1203.82 Q120.274 1209.14 117.126 1212.36 Q113.978 1215.58 108.746 1215.58 Q102.751 1215.58 99.5798 1211 Q96.4085 1206.39 96.4085 1197.66 Q96.4085 1189.47 100.297 1184.61 Q104.186 1179.72 110.737 1179.72 Q112.496 1179.72 114.279 1180.07 Q116.084 1180.42 118.029 1181.11 Z\" fill=\"#000000\" fill-rule=\"evenodd\" fill-opacity=\"1\" /><path clip-path=\"url(#clip210)\" d=\"M64.0013 889.099 Q60.3902 889.099 58.5615 892.664 Q56.756 896.205 56.756 903.335 Q56.756 910.441 58.5615 914.006 Q60.3902 917.548 64.0013 917.548 Q67.6356 917.548 69.4411 914.006 Q71.2698 910.441 71.2698 903.335 Q71.2698 896.205 69.4411 892.664 Q67.6356 889.099 64.0013 889.099 M64.0013 885.395 Q69.8115 885.395 72.867 890.002 Q75.9457 894.585 75.9457 903.335 Q75.9457 912.062 72.867 916.668 Q69.8115 921.251 64.0013 921.251 Q58.1912 921.251 55.1125 916.668 Q52.0569 912.062 52.0569 903.335 Q52.0569 894.585 55.1125 890.002 Q58.1912 885.395 64.0013 885.395 Z\" fill=\"#000000\" fill-rule=\"evenodd\" fill-opacity=\"1\" /><path clip-path=\"url(#clip210)\" d=\"M84.1632 914.701 L89.0475 914.701 L89.0475 920.58 L84.1632 920.58 L84.1632 914.701 Z\" fill=\"#000000\" fill-rule=\"evenodd\" fill-opacity=\"1\" /><path clip-path=\"url(#clip210)\" d=\"M98.0521 886.02 L120.274 886.02 L120.274 888.011 L107.728 920.58 L102.844 920.58 L114.649 889.955 L98.0521 889.955 L98.0521 886.02 Z\" fill=\"#000000\" fill-rule=\"evenodd\" fill-opacity=\"1\" /><path clip-path=\"url(#clip210)\" d=\"M63.1911 594.771 Q59.58 594.771 57.7513 598.336 Q55.9458 601.877 55.9458 609.007 Q55.9458 616.113 57.7513 619.678 Q59.58 623.22 63.1911 623.22 Q66.8254 623.22 68.6309 619.678 Q70.4596 616.113 70.4596 609.007 Q70.4596 601.877 68.6309 598.336 Q66.8254 594.771 63.1911 594.771 M63.1911 591.067 Q69.0013 591.067 72.0568 595.674 Q75.1355 600.257 75.1355 609.007 Q75.1355 617.734 72.0568 622.34 Q69.0013 626.924 63.1911 626.924 Q57.381 626.924 54.3023 622.34 Q51.2468 617.734 51.2468 609.007 Q51.2468 600.257 54.3023 595.674 Q57.381 591.067 63.1911 591.067 Z\" fill=\"#000000\" fill-rule=\"evenodd\" fill-opacity=\"1\" /><path clip-path=\"url(#clip210)\" d=\"M83.3531 620.373 L88.2373 620.373 L88.2373 626.252 L83.3531 626.252 L83.3531 620.373 Z\" fill=\"#000000\" fill-rule=\"evenodd\" fill-opacity=\"1\" /><path clip-path=\"url(#clip210)\" d=\"M108.422 609.84 Q105.089 609.84 103.168 611.623 Q101.27 613.405 101.27 616.53 Q101.27 619.655 103.168 621.438 Q105.089 623.22 108.422 623.22 Q111.756 623.22 113.677 621.438 Q115.598 619.632 115.598 616.53 Q115.598 613.405 113.677 611.623 Q111.779 609.84 108.422 609.84 M103.746 607.85 Q100.737 607.109 99.0474 605.049 Q97.3808 602.989 97.3808 600.026 Q97.3808 595.882 100.321 593.475 Q103.284 591.067 108.422 591.067 Q113.584 591.067 116.524 593.475 Q119.464 595.882 119.464 600.026 Q119.464 602.989 117.774 605.049 Q116.108 607.109 113.121 607.85 Q116.501 608.637 118.376 610.928 Q120.274 613.22 120.274 616.53 Q120.274 621.553 117.195 624.238 Q114.14 626.924 108.422 626.924 Q102.705 626.924 99.6261 624.238 Q96.5706 621.553 96.5706 616.53 Q96.5706 613.22 98.4687 610.928 Q100.367 608.637 103.746 607.85 M102.034 600.465 Q102.034 603.151 103.7 604.655 Q105.39 606.16 108.422 606.16 Q111.432 606.16 113.121 604.655 Q114.834 603.151 114.834 600.465 Q114.834 597.78 113.121 596.276 Q111.432 594.771 108.422 594.771 Q105.39 594.771 103.7 596.276 Q102.034 597.78 102.034 600.465 Z\" fill=\"#000000\" fill-rule=\"evenodd\" fill-opacity=\"1\" /><path clip-path=\"url(#clip210)\" d=\"M63.2837 300.443 Q59.6726 300.443 57.8439 304.008 Q56.0384 307.55 56.0384 314.679 Q56.0384 321.786 57.8439 325.35 Q59.6726 328.892 63.2837 328.892 Q66.918 328.892 68.7235 325.35 Q70.5522 321.786 70.5522 314.679 Q70.5522 307.55 68.7235 304.008 Q66.918 300.443 63.2837 300.443 M63.2837 296.739 Q69.0939 296.739 72.1494 301.346 Q75.2281 305.929 75.2281 314.679 Q75.2281 323.406 72.1494 328.012 Q69.0939 332.596 63.2837 332.596 Q57.4736 332.596 54.3949 328.012 Q51.3393 323.406 51.3393 314.679 Q51.3393 305.929 54.3949 301.346 Q57.4736 296.739 63.2837 296.739 Z\" fill=\"#000000\" fill-rule=\"evenodd\" fill-opacity=\"1\" /><path clip-path=\"url(#clip210)\" d=\"M83.4457 326.045 L88.3299 326.045 L88.3299 331.924 L83.4457 331.924 L83.4457 326.045 Z\" fill=\"#000000\" fill-rule=\"evenodd\" fill-opacity=\"1\" /><path clip-path=\"url(#clip210)\" d=\"M98.6539 331.207 L98.6539 326.948 Q100.413 327.781 102.219 328.221 Q104.024 328.661 105.76 328.661 Q110.39 328.661 112.82 325.559 Q115.274 322.434 115.621 316.091 Q114.279 318.082 112.219 319.147 Q110.158 320.212 107.658 320.212 Q102.473 320.212 99.4409 317.087 Q96.4317 313.938 96.4317 308.499 Q96.4317 303.175 99.5798 299.957 Q102.728 296.739 107.959 296.739 Q113.955 296.739 117.103 301.346 Q120.274 305.929 120.274 314.679 Q120.274 322.85 116.385 327.735 Q112.52 332.596 105.969 332.596 Q104.209 332.596 102.404 332.249 Q100.598 331.901 98.6539 331.207 M107.959 316.554 Q111.108 316.554 112.936 314.401 Q114.788 312.249 114.788 308.499 Q114.788 304.772 112.936 302.619 Q111.108 300.443 107.959 300.443 Q104.811 300.443 102.959 302.619 Q101.131 304.772 101.131 308.499 Q101.131 312.249 102.959 314.401 Q104.811 316.554 107.959 316.554 Z\" fill=\"#000000\" fill-rule=\"evenodd\" fill-opacity=\"1\" /><circle clip-path=\"url(#clip212)\" cx=\"508.406\" cy=\"1255.72\" r=\"13\" fill=\"#000000\" fill-rule=\"evenodd\" fill-opacity=\"1\" stroke=\"none\"/>\n",
       "<circle clip-path=\"url(#clip212)\" cx=\"975.131\" cy=\"949.907\" r=\"17\" fill=\"#000000\" fill-rule=\"evenodd\" fill-opacity=\"1\" stroke=\"none\"/>\n",
       "<circle clip-path=\"url(#clip212)\" cx=\"218.439\" cy=\"1445.72\" r=\"15\" fill=\"#000000\" fill-rule=\"evenodd\" fill-opacity=\"1\" stroke=\"none\"/>\n",
       "<circle clip-path=\"url(#clip212)\" cx=\"2212.91\" cy=\"138.873\" r=\"32\" fill=\"#000000\" fill-rule=\"evenodd\" fill-opacity=\"1\" stroke=\"none\"/>\n",
       "<circle clip-path=\"url(#clip212)\" cx=\"2290.59\" cy=\"87.9763\" r=\"41\" fill=\"#000000\" fill-rule=\"evenodd\" fill-opacity=\"1\" stroke=\"none\"/>\n",
       "<circle clip-path=\"url(#clip212)\" cx=\"391.026\" cy=\"1332.63\" r=\"2\" fill=\"#000000\" fill-rule=\"evenodd\" fill-opacity=\"1\" stroke=\"none\"/>\n",
       "<circle clip-path=\"url(#clip212)\" cx=\"1670.67\" cy=\"494.17\" r=\"1\" fill=\"#000000\" fill-rule=\"evenodd\" fill-opacity=\"1\" stroke=\"none\"/>\n",
       "<circle clip-path=\"url(#clip212)\" cx=\"1307.74\" cy=\"731.968\" r=\"4\" fill=\"#000000\" fill-rule=\"evenodd\" fill-opacity=\"1\" stroke=\"none\"/>\n",
       "<circle clip-path=\"url(#clip212)\" cx=\"2066.29\" cy=\"234.947\" r=\"6\" fill=\"#000000\" fill-rule=\"evenodd\" fill-opacity=\"1\" stroke=\"none\"/>\n",
       "<circle clip-path=\"url(#clip212)\" cx=\"1517.16\" cy=\"594.752\" r=\"7\" fill=\"#000000\" fill-rule=\"evenodd\" fill-opacity=\"1\" stroke=\"none\"/>\n",
       "<circle clip-path=\"url(#clip212)\" cx=\"1674.9\" cy=\"491.394\" r=\"27\" fill=\"#000000\" fill-rule=\"evenodd\" fill-opacity=\"1\" stroke=\"none\"/>\n",
       "<circle clip-path=\"url(#clip212)\" cx=\"1279.55\" cy=\"750.442\" r=\"3\" fill=\"#000000\" fill-rule=\"evenodd\" fill-opacity=\"1\" stroke=\"none\"/>\n",
       "<circle clip-path=\"url(#clip212)\" cx=\"849.129\" cy=\"1032.47\" r=\"21\" fill=\"#000000\" fill-rule=\"evenodd\" fill-opacity=\"1\" stroke=\"none\"/>\n",
       "<circle clip-path=\"url(#clip212)\" cx=\"670.184\" cy=\"1149.72\" r=\"7\" fill=\"#000000\" fill-rule=\"evenodd\" fill-opacity=\"1\" stroke=\"none\"/>\n",
       "<circle clip-path=\"url(#clip212)\" cx=\"2170.55\" cy=\"166.632\" r=\"11\" fill=\"#000000\" fill-rule=\"evenodd\" fill-opacity=\"1\" stroke=\"none\"/>\n",
       "<circle clip-path=\"url(#clip212)\" cx=\"1406.21\" cy=\"667.453\" r=\"144\" fill=\"#000000\" fill-rule=\"evenodd\" fill-opacity=\"1\" stroke=\"none\"/>\n",
       "<path clip-path=\"url(#clip210)\" d=\"\n",
       "M1346.93 198.898 L2279.54 198.898 L2279.54 95.2176 L1346.93 95.2176  Z\n",
       "  \" fill=\"#ffffff\" fill-rule=\"evenodd\" fill-opacity=\"1\"/>\n",
       "<polyline clip-path=\"url(#clip210)\" style=\"stroke:#000000; stroke-linecap:butt; stroke-linejoin:round; stroke-width:4; stroke-opacity:1; fill:none\" points=\"\n",
       "  1346.93,198.898 2279.54,198.898 2279.54,95.2176 1346.93,95.2176 1346.93,198.898 \n",
       "  \"/>\n",
       "<circle clip-path=\"url(#clip210)\" cx=\"1444.55\" cy=\"147.058\" r=\"23\" fill=\"#000000\" fill-rule=\"evenodd\" fill-opacity=\"1\" stroke=\"none\"/>\n",
       "<path clip-path=\"url(#clip210)\" d=\"M1562.68 139.407 L1562.68 143.389 Q1560.87 142.393 1559.04 141.907 Q1557.24 141.398 1555.39 141.398 Q1551.24 141.398 1548.95 144.037 Q1546.66 146.652 1546.66 151.398 Q1546.66 156.143 1548.95 158.782 Q1551.24 161.398 1555.39 161.398 Q1557.24 161.398 1559.04 160.912 Q1560.87 160.402 1562.68 159.407 L1562.68 163.342 Q1560.89 164.176 1558.97 164.592 Q1557.08 165.009 1554.92 165.009 Q1549.07 165.009 1545.62 161.328 Q1542.17 157.648 1542.17 151.398 Q1542.17 145.055 1545.64 141.421 Q1549.14 137.787 1555.2 137.787 Q1557.17 137.787 1559.04 138.203 Q1560.92 138.597 1562.68 139.407 Z\" fill=\"#000000\" fill-rule=\"evenodd\" fill-opacity=\"1\" /><path clip-path=\"url(#clip210)\" d=\"M1580.13 141.398 Q1576.7 141.398 1574.71 144.083 Q1572.72 146.745 1572.72 151.398 Q1572.72 156.051 1574.69 158.736 Q1576.68 161.398 1580.13 161.398 Q1583.53 161.398 1585.52 158.713 Q1587.51 156.027 1587.51 151.398 Q1587.51 146.791 1585.52 144.106 Q1583.53 141.398 1580.13 141.398 M1580.13 137.787 Q1585.69 137.787 1588.86 141.398 Q1592.03 145.009 1592.03 151.398 Q1592.03 157.764 1588.86 161.398 Q1585.69 165.009 1580.13 165.009 Q1574.55 165.009 1571.38 161.398 Q1568.23 157.764 1568.23 151.398 Q1568.23 145.009 1571.38 141.398 Q1574.55 137.787 1580.13 137.787 Z\" fill=\"#000000\" fill-rule=\"evenodd\" fill-opacity=\"1\" /><path clip-path=\"url(#clip210)\" d=\"M1614.11 142.393 Q1613.39 141.977 1612.54 141.791 Q1611.7 141.583 1610.69 141.583 Q1607.08 141.583 1605.13 143.944 Q1603.21 146.282 1603.21 150.68 L1603.21 164.338 L1598.93 164.338 L1598.93 138.412 L1603.21 138.412 L1603.21 142.44 Q1604.55 140.078 1606.7 138.944 Q1608.86 137.787 1611.94 137.787 Q1612.38 137.787 1612.91 137.856 Q1613.44 137.903 1614.09 138.018 L1614.11 142.393 Z\" fill=\"#000000\" fill-rule=\"evenodd\" fill-opacity=\"1\" /><path clip-path=\"url(#clip210)\" d=\"M1632.77 142.393 Q1632.05 141.977 1631.2 141.791 Q1630.36 141.583 1629.34 141.583 Q1625.73 141.583 1623.79 143.944 Q1621.87 146.282 1621.87 150.68 L1621.87 164.338 L1617.58 164.338 L1617.58 138.412 L1621.87 138.412 L1621.87 142.44 Q1623.21 140.078 1625.36 138.944 Q1627.51 137.787 1630.59 137.787 Q1631.03 137.787 1631.57 137.856 Q1632.1 137.903 1632.75 138.018 L1632.77 142.393 Z\" fill=\"#000000\" fill-rule=\"evenodd\" fill-opacity=\"1\" /><path clip-path=\"url(#clip210)\" d=\"M1658.37 150.31 L1658.37 152.393 L1638.79 152.393 Q1639.07 156.791 1641.43 159.106 Q1643.81 161.398 1648.05 161.398 Q1650.5 161.398 1652.79 160.796 Q1655.11 160.194 1657.38 158.99 L1657.38 163.018 Q1655.08 163.99 1652.68 164.5 Q1650.27 165.009 1647.79 165.009 Q1641.59 165.009 1637.95 161.398 Q1634.34 157.787 1634.34 151.629 Q1634.34 145.264 1637.77 141.537 Q1641.22 137.787 1647.05 137.787 Q1652.28 137.787 1655.32 141.166 Q1658.37 144.523 1658.37 150.31 M1654.11 149.06 Q1654.07 145.565 1652.14 143.481 Q1650.25 141.398 1647.1 141.398 Q1643.53 141.398 1641.38 143.412 Q1639.25 145.426 1638.93 149.083 L1654.11 149.06 Z\" fill=\"#000000\" fill-rule=\"evenodd\" fill-opacity=\"1\" /><path clip-path=\"url(#clip210)\" d=\"M1681.89 139.176 L1681.89 143.203 Q1680.08 142.277 1678.14 141.815 Q1676.2 141.352 1674.11 141.352 Q1670.94 141.352 1669.34 142.324 Q1667.77 143.296 1667.77 145.24 Q1667.77 146.722 1668.9 147.578 Q1670.04 148.412 1673.46 149.176 L1674.92 149.5 Q1679.46 150.472 1681.36 152.254 Q1683.28 154.014 1683.28 157.185 Q1683.28 160.796 1680.41 162.902 Q1677.56 165.009 1672.56 165.009 Q1670.48 165.009 1668.21 164.592 Q1665.96 164.199 1663.46 163.388 L1663.46 158.99 Q1665.82 160.217 1668.12 160.842 Q1670.41 161.444 1672.65 161.444 Q1675.66 161.444 1677.28 160.426 Q1678.9 159.384 1678.9 157.509 Q1678.9 155.773 1677.72 154.847 Q1676.57 153.921 1672.61 153.064 L1671.13 152.717 Q1667.17 151.884 1665.41 150.171 Q1663.65 148.435 1663.65 145.426 Q1663.65 141.768 1666.24 139.778 Q1668.83 137.787 1673.6 137.787 Q1675.96 137.787 1678.05 138.134 Q1680.13 138.481 1681.89 139.176 Z\" fill=\"#000000\" fill-rule=\"evenodd\" fill-opacity=\"1\" /><path clip-path=\"url(#clip210)\" d=\"M1694.18 160.449 L1694.18 174.199 L1689.9 174.199 L1689.9 138.412 L1694.18 138.412 L1694.18 142.347 Q1695.52 140.032 1697.56 138.921 Q1699.62 137.787 1702.47 137.787 Q1707.19 137.787 1710.13 141.537 Q1713.09 145.287 1713.09 151.398 Q1713.09 157.509 1710.13 161.259 Q1707.19 165.009 1702.47 165.009 Q1699.62 165.009 1697.56 163.898 Q1695.52 162.763 1694.18 160.449 M1708.67 151.398 Q1708.67 146.699 1706.73 144.037 Q1704.81 141.352 1701.43 141.352 Q1698.05 141.352 1696.1 144.037 Q1694.18 146.699 1694.18 151.398 Q1694.18 156.097 1696.1 158.782 Q1698.05 161.444 1701.43 161.444 Q1704.81 161.444 1706.73 158.782 Q1708.67 156.097 1708.67 151.398 Z\" fill=\"#000000\" fill-rule=\"evenodd\" fill-opacity=\"1\" /><path clip-path=\"url(#clip210)\" d=\"M1730.2 141.398 Q1726.77 141.398 1724.78 144.083 Q1722.79 146.745 1722.79 151.398 Q1722.79 156.051 1724.76 158.736 Q1726.75 161.398 1730.2 161.398 Q1733.6 161.398 1735.59 158.713 Q1737.58 156.027 1737.58 151.398 Q1737.58 146.791 1735.59 144.106 Q1733.6 141.398 1730.2 141.398 M1730.2 137.787 Q1735.75 137.787 1738.93 141.398 Q1742.1 145.009 1742.1 151.398 Q1742.1 157.764 1738.93 161.398 Q1735.75 165.009 1730.2 165.009 Q1724.62 165.009 1721.45 161.398 Q1718.3 157.764 1718.3 151.398 Q1718.3 145.009 1721.45 141.398 Q1724.62 137.787 1730.2 137.787 Z\" fill=\"#000000\" fill-rule=\"evenodd\" fill-opacity=\"1\" /><path clip-path=\"url(#clip210)\" d=\"M1770.71 148.689 L1770.71 164.338 L1766.45 164.338 L1766.45 148.828 Q1766.45 145.148 1765.01 143.319 Q1763.58 141.49 1760.71 141.49 Q1757.26 141.49 1755.27 143.69 Q1753.28 145.889 1753.28 149.685 L1753.28 164.338 L1749 164.338 L1749 138.412 L1753.28 138.412 L1753.28 142.44 Q1754.81 140.102 1756.87 138.944 Q1758.95 137.787 1761.66 137.787 Q1766.13 137.787 1768.42 140.565 Q1770.71 143.319 1770.71 148.689 Z\" fill=\"#000000\" fill-rule=\"evenodd\" fill-opacity=\"1\" /><path clip-path=\"url(#clip210)\" d=\"M1796.26 142.347 L1796.26 128.319 L1800.52 128.319 L1800.52 164.338 L1796.26 164.338 L1796.26 160.449 Q1794.92 162.763 1792.86 163.898 Q1790.82 165.009 1787.95 165.009 Q1783.25 165.009 1780.29 161.259 Q1777.35 157.509 1777.35 151.398 Q1777.35 145.287 1780.29 141.537 Q1783.25 137.787 1787.95 137.787 Q1790.82 137.787 1792.86 138.921 Q1794.92 140.032 1796.26 142.347 M1781.75 151.398 Q1781.75 156.097 1783.67 158.782 Q1785.62 161.444 1789 161.444 Q1792.38 161.444 1794.32 158.782 Q1796.26 156.097 1796.26 151.398 Q1796.26 146.699 1794.32 144.037 Q1792.38 141.352 1789 141.352 Q1785.62 141.352 1783.67 144.037 Q1781.75 146.699 1781.75 151.398 Z\" fill=\"#000000\" fill-rule=\"evenodd\" fill-opacity=\"1\" /><path clip-path=\"url(#clip210)\" d=\"M1809.3 138.412 L1813.56 138.412 L1813.56 164.338 L1809.3 164.338 L1809.3 138.412 M1809.3 128.319 L1813.56 128.319 L1813.56 133.713 L1809.3 133.713 L1809.3 128.319 Z\" fill=\"#000000\" fill-rule=\"evenodd\" fill-opacity=\"1\" /><path clip-path=\"url(#clip210)\" d=\"M1844.02 148.689 L1844.02 164.338 L1839.76 164.338 L1839.76 148.828 Q1839.76 145.148 1838.32 143.319 Q1836.89 141.49 1834.02 141.49 Q1830.57 141.49 1828.58 143.69 Q1826.59 145.889 1826.59 149.685 L1826.59 164.338 L1822.31 164.338 L1822.31 138.412 L1826.59 138.412 L1826.59 142.44 Q1828.12 140.102 1830.18 138.944 Q1832.26 137.787 1834.97 137.787 Q1839.43 137.787 1841.73 140.565 Q1844.02 143.319 1844.02 148.689 Z\" fill=\"#000000\" fill-rule=\"evenodd\" fill-opacity=\"1\" /><path clip-path=\"url(#clip210)\" d=\"M1869.57 151.074 Q1869.57 146.444 1867.65 143.898 Q1865.75 141.352 1862.31 141.352 Q1858.88 141.352 1856.96 143.898 Q1855.06 146.444 1855.06 151.074 Q1855.06 155.68 1856.96 158.226 Q1858.88 160.773 1862.31 160.773 Q1865.75 160.773 1867.65 158.226 Q1869.57 155.68 1869.57 151.074 M1873.83 161.12 Q1873.83 167.74 1870.89 170.958 Q1867.95 174.199 1861.89 174.199 Q1859.64 174.199 1857.65 173.851 Q1855.66 173.527 1853.79 172.833 L1853.79 168.689 Q1855.66 169.708 1857.49 170.194 Q1859.32 170.68 1861.22 170.68 Q1865.41 170.68 1867.49 168.481 Q1869.57 166.305 1869.57 161.884 L1869.57 159.777 Q1868.25 162.069 1866.19 163.203 Q1864.13 164.338 1861.26 164.338 Q1856.5 164.338 1853.58 160.703 Q1850.66 157.069 1850.66 151.074 Q1850.66 145.055 1853.58 141.421 Q1856.5 137.787 1861.26 137.787 Q1864.13 137.787 1866.19 138.921 Q1868.25 140.055 1869.57 142.347 L1869.57 138.412 L1873.83 138.412 L1873.83 161.12 Z\" fill=\"#000000\" fill-rule=\"evenodd\" fill-opacity=\"1\" /><path clip-path=\"url(#clip210)\" d=\"M1919.23 148.689 L1919.23 164.338 L1914.97 164.338 L1914.97 148.828 Q1914.97 145.148 1913.53 143.319 Q1912.1 141.49 1909.23 141.49 Q1905.78 141.49 1903.79 143.69 Q1901.8 145.889 1901.8 149.685 L1901.8 164.338 L1897.51 164.338 L1897.51 138.412 L1901.8 138.412 L1901.8 142.44 Q1903.32 140.102 1905.38 138.944 Q1907.47 137.787 1910.18 137.787 Q1914.64 137.787 1916.93 140.565 Q1919.23 143.319 1919.23 148.689 Z\" fill=\"#000000\" fill-rule=\"evenodd\" fill-opacity=\"1\" /><path clip-path=\"url(#clip210)\" d=\"M1949.9 150.31 L1949.9 152.393 L1930.31 152.393 Q1930.59 156.791 1932.95 159.106 Q1935.34 161.398 1939.57 161.398 Q1942.03 161.398 1944.32 160.796 Q1946.63 160.194 1948.9 158.99 L1948.9 163.018 Q1946.61 163.99 1944.2 164.5 Q1941.8 165.009 1939.32 165.009 Q1933.11 165.009 1929.48 161.398 Q1925.87 157.787 1925.87 151.629 Q1925.87 145.264 1929.3 141.537 Q1932.74 137.787 1938.58 137.787 Q1943.81 137.787 1946.84 141.166 Q1949.9 144.523 1949.9 150.31 M1945.64 149.06 Q1945.59 145.565 1943.67 143.481 Q1941.77 141.398 1938.62 141.398 Q1935.06 141.398 1932.91 143.412 Q1930.78 145.426 1930.45 149.083 L1945.64 149.06 Z\" fill=\"#000000\" fill-rule=\"evenodd\" fill-opacity=\"1\" /><path clip-path=\"url(#clip210)\" d=\"M1968.67 151.305 Q1963.51 151.305 1961.52 152.486 Q1959.53 153.666 1959.53 156.514 Q1959.53 158.782 1961.01 160.125 Q1962.51 161.444 1965.08 161.444 Q1968.62 161.444 1970.75 158.944 Q1972.91 156.421 1972.91 152.254 L1972.91 151.305 L1968.67 151.305 M1977.17 149.546 L1977.17 164.338 L1972.91 164.338 L1972.91 160.402 Q1971.45 162.763 1969.27 163.898 Q1967.1 165.009 1963.95 165.009 Q1959.97 165.009 1957.61 162.787 Q1955.27 160.541 1955.27 156.791 Q1955.27 152.416 1958.18 150.194 Q1961.12 147.972 1966.93 147.972 L1972.91 147.972 L1972.91 147.555 Q1972.91 144.615 1970.96 143.018 Q1969.04 141.398 1965.55 141.398 Q1963.32 141.398 1961.22 141.93 Q1959.11 142.463 1957.17 143.527 L1957.17 139.592 Q1959.5 138.69 1961.7 138.25 Q1963.9 137.787 1965.99 137.787 Q1971.61 137.787 1974.39 140.703 Q1977.17 143.62 1977.17 149.546 Z\" fill=\"#000000\" fill-rule=\"evenodd\" fill-opacity=\"1\" /><path clip-path=\"url(#clip210)\" d=\"M2000.96 142.393 Q2000.24 141.977 1999.39 141.791 Q1998.55 141.583 1997.54 141.583 Q1993.92 141.583 1991.98 143.944 Q1990.06 146.282 1990.06 150.68 L1990.06 164.338 L1985.78 164.338 L1985.78 138.412 L1990.06 138.412 L1990.06 142.44 Q1991.4 140.078 1993.55 138.944 Q1995.71 137.787 1998.79 137.787 Q1999.23 137.787 1999.76 137.856 Q2000.29 137.903 2000.94 138.018 L2000.96 142.393 Z\" fill=\"#000000\" fill-rule=\"evenodd\" fill-opacity=\"1\" /><path clip-path=\"url(#clip210)\" d=\"M2026.56 150.31 L2026.56 152.393 L2006.98 152.393 Q2007.26 156.791 2009.62 159.106 Q2012 161.398 2016.24 161.398 Q2018.69 161.398 2020.98 160.796 Q2023.3 160.194 2025.57 158.99 L2025.57 163.018 Q2023.28 163.99 2020.87 164.5 Q2018.46 165.009 2015.98 165.009 Q2009.78 165.009 2006.15 161.398 Q2002.54 157.787 2002.54 151.629 Q2002.54 145.264 2005.96 141.537 Q2009.41 137.787 2015.24 137.787 Q2020.48 137.787 2023.51 141.166 Q2026.56 144.523 2026.56 150.31 M2022.3 149.06 Q2022.26 145.565 2020.34 143.481 Q2018.44 141.398 2015.29 141.398 Q2011.73 141.398 2009.57 143.412 Q2007.44 145.426 2007.12 149.083 L2022.3 149.06 Z\" fill=\"#000000\" fill-rule=\"evenodd\" fill-opacity=\"1\" /><path clip-path=\"url(#clip210)\" d=\"M2050.08 139.176 L2050.08 143.203 Q2048.28 142.277 2046.33 141.815 Q2044.39 141.352 2042.3 141.352 Q2039.13 141.352 2037.54 142.324 Q2035.96 143.296 2035.96 145.24 Q2035.96 146.722 2037.1 147.578 Q2038.23 148.412 2041.66 149.176 L2043.11 149.5 Q2047.65 150.472 2049.55 152.254 Q2051.47 154.014 2051.47 157.185 Q2051.47 160.796 2048.6 162.902 Q2045.75 165.009 2040.75 165.009 Q2038.67 165.009 2036.4 164.592 Q2034.16 164.199 2031.66 163.388 L2031.66 158.99 Q2034.02 160.217 2036.31 160.842 Q2038.6 161.444 2040.85 161.444 Q2043.86 161.444 2045.48 160.426 Q2047.1 159.384 2047.1 157.509 Q2047.1 155.773 2045.92 154.847 Q2044.76 153.921 2040.8 153.064 L2039.32 152.717 Q2035.36 151.884 2033.6 150.171 Q2031.84 148.435 2031.84 145.426 Q2031.84 141.768 2034.43 139.778 Q2037.03 137.787 2041.79 137.787 Q2044.16 137.787 2046.24 138.134 Q2048.32 138.481 2050.08 139.176 Z\" fill=\"#000000\" fill-rule=\"evenodd\" fill-opacity=\"1\" /><path clip-path=\"url(#clip210)\" d=\"M2062.47 131.051 L2062.47 138.412 L2071.24 138.412 L2071.24 141.722 L2062.47 141.722 L2062.47 155.796 Q2062.47 158.967 2063.32 159.87 Q2064.2 160.773 2066.86 160.773 L2071.24 160.773 L2071.24 164.338 L2066.86 164.338 Q2061.93 164.338 2060.06 162.509 Q2058.18 160.657 2058.18 155.796 L2058.18 141.722 L2055.06 141.722 L2055.06 138.412 L2058.18 138.412 L2058.18 131.051 L2062.47 131.051 Z\" fill=\"#000000\" fill-rule=\"evenodd\" fill-opacity=\"1\" /><path clip-path=\"url(#clip210)\" d=\"M2096.03 160.449 L2096.03 174.199 L2091.75 174.199 L2091.75 138.412 L2096.03 138.412 L2096.03 142.347 Q2097.37 140.032 2099.41 138.921 Q2101.47 137.787 2104.32 137.787 Q2109.04 137.787 2111.98 141.537 Q2114.94 145.287 2114.94 151.398 Q2114.94 157.509 2111.98 161.259 Q2109.04 165.009 2104.32 165.009 Q2101.47 165.009 2099.41 163.898 Q2097.37 162.763 2096.03 160.449 M2110.52 151.398 Q2110.52 146.699 2108.58 144.037 Q2106.66 141.352 2103.28 141.352 Q2099.9 141.352 2097.95 144.037 Q2096.03 146.699 2096.03 151.398 Q2096.03 156.097 2097.95 158.782 Q2099.9 161.444 2103.28 161.444 Q2106.66 161.444 2108.58 158.782 Q2110.52 156.097 2110.52 151.398 Z\" fill=\"#000000\" fill-rule=\"evenodd\" fill-opacity=\"1\" /><path clip-path=\"url(#clip210)\" d=\"M2132.05 141.398 Q2128.62 141.398 2126.63 144.083 Q2124.64 146.745 2124.64 151.398 Q2124.64 156.051 2126.61 158.736 Q2128.6 161.398 2132.05 161.398 Q2135.45 161.398 2137.44 158.713 Q2139.43 156.027 2139.43 151.398 Q2139.43 146.791 2137.44 144.106 Q2135.45 141.398 2132.05 141.398 M2132.05 137.787 Q2137.6 137.787 2140.78 141.398 Q2143.95 145.009 2143.95 151.398 Q2143.95 157.764 2140.78 161.398 Q2137.6 165.009 2132.05 165.009 Q2126.47 165.009 2123.3 161.398 Q2120.15 157.764 2120.15 151.398 Q2120.15 145.009 2123.3 141.398 Q2126.47 137.787 2132.05 137.787 Z\" fill=\"#000000\" fill-rule=\"evenodd\" fill-opacity=\"1\" /><path clip-path=\"url(#clip210)\" d=\"M2151.01 138.412 L2155.27 138.412 L2155.27 164.338 L2151.01 164.338 L2151.01 138.412 M2151.01 128.319 L2155.27 128.319 L2155.27 133.713 L2151.01 133.713 L2151.01 128.319 Z\" fill=\"#000000\" fill-rule=\"evenodd\" fill-opacity=\"1\" /><path clip-path=\"url(#clip210)\" d=\"M2185.73 148.689 L2185.73 164.338 L2181.47 164.338 L2181.47 148.828 Q2181.47 145.148 2180.03 143.319 Q2178.6 141.49 2175.73 141.49 Q2172.28 141.49 2170.29 143.69 Q2168.3 145.889 2168.3 149.685 L2168.3 164.338 L2164.02 164.338 L2164.02 138.412 L2168.3 138.412 L2168.3 142.44 Q2169.83 140.102 2171.89 138.944 Q2173.97 137.787 2176.68 137.787 Q2181.15 137.787 2183.44 140.565 Q2185.73 143.319 2185.73 148.689 Z\" fill=\"#000000\" fill-rule=\"evenodd\" fill-opacity=\"1\" /><path clip-path=\"url(#clip210)\" d=\"M2198.44 131.051 L2198.44 138.412 L2207.21 138.412 L2207.21 141.722 L2198.44 141.722 L2198.44 155.796 Q2198.44 158.967 2199.29 159.87 Q2200.17 160.773 2202.84 160.773 L2207.21 160.773 L2207.21 164.338 L2202.84 164.338 Q2197.91 164.338 2196.03 162.509 Q2194.16 160.657 2194.16 155.796 L2194.16 141.722 L2191.03 141.722 L2191.03 138.412 L2194.16 138.412 L2194.16 131.051 L2198.44 131.051 Z\" fill=\"#000000\" fill-rule=\"evenodd\" fill-opacity=\"1\" /><path clip-path=\"url(#clip210)\" d=\"M2229.34 139.176 L2229.34 143.203 Q2227.53 142.277 2225.59 141.815 Q2223.65 141.352 2221.56 141.352 Q2218.39 141.352 2216.79 142.324 Q2215.22 143.296 2215.22 145.24 Q2215.22 146.722 2216.35 147.578 Q2217.49 148.412 2220.91 149.176 L2222.37 149.5 Q2226.91 150.472 2228.81 152.254 Q2230.73 154.014 2230.73 157.185 Q2230.73 160.796 2227.86 162.902 Q2225.01 165.009 2220.01 165.009 Q2217.93 165.009 2215.66 164.592 Q2213.41 164.199 2210.91 163.388 L2210.91 158.99 Q2213.28 160.217 2215.57 160.842 Q2217.86 161.444 2220.1 161.444 Q2223.11 161.444 2224.73 160.426 Q2226.35 159.384 2226.35 157.509 Q2226.35 155.773 2225.17 154.847 Q2224.02 153.921 2220.06 153.064 L2218.58 152.717 Q2214.62 151.884 2212.86 150.171 Q2211.1 148.435 2211.1 145.426 Q2211.1 141.768 2213.69 139.778 Q2216.28 137.787 2221.05 137.787 Q2223.41 137.787 2225.5 138.134 Q2227.58 138.481 2229.34 139.176 Z\" fill=\"#000000\" fill-rule=\"evenodd\" fill-opacity=\"1\" /></svg>\n"
      ]
     },
     "execution_count": 438,
     "metadata": {},
     "output_type": "execute_result"
    }
   ],
   "source": [
    "scatter(xhat,yhat,color=\"black\",label=\"corresponding nearest points\",markersize =aa[2:17,4]*5)"
   ]
  },
  {
   "cell_type": "markdown",
   "id": "f75f4cdd",
   "metadata": {},
   "source": [
    "# problem3"
   ]
  },
  {
   "cell_type": "markdown",
   "id": "1da1e979",
   "metadata": {},
   "source": [
    "(a)"
   ]
  },
  {
   "cell_type": "code",
   "execution_count": 173,
   "id": "4772a29a",
   "metadata": {},
   "outputs": [
    {
     "data": {
      "text/plain": [
       "aug_L (generic function with 4 methods)"
      ]
     },
     "execution_count": 173,
     "metadata": {},
     "output_type": "execute_result"
    }
   ],
   "source": [
    "function aug_L(f, Df, g, Dg, x1, lambda1, itmax = 100,feas_tol = 1e-5, oc_tol = 1e-5)\n",
    "    x=x1\n",
    "    z = zeros(length(g(x)))\n",
    "    u=1\n",
    "    resid=zeros(0,1)\n",
    "    for i=1:itmax\n",
    "        Obj(x)=[f(x);sqrt(u)*(g(x) + z/(2*u))]\n",
    "        Dobj(x)=[Df(x);sqrt(u)*Dg(x)]\n",
    "        x_per=x\n",
    "        x =levenberg_marquardt2(Obj, Dobj, x , lambda1, 100, 1e-6)[1]\n",
    "        z = z + 2*u*g(x)\n",
    "        resid=vcat(resid,levenberg_marquardt2(Obj, Dobj, x, lambda1 , 100, 1e-6)[2])\n",
    "        if norm(g(x))< feas_tol\n",
    "            break\n",
    "        end\n",
    "        \n",
    "        if norm(g(x)) < 0.25*norm(g(x_per))\n",
    "            u=2*u\n",
    "        end\n",
    "        \n",
    "    end\n",
    "    return x,resid\n",
    "end"
   ]
  },
  {
   "cell_type": "code",
   "execution_count": 174,
   "id": "6753eab6",
   "metadata": {},
   "outputs": [
    {
     "data": {
      "text/plain": [
       "3-element Vector{Float64}:\n",
       " -0.09683237544461197\n",
       "  1.2235395100141229\n",
       "  3.2379654878695043"
      ]
     },
     "execution_count": 174,
     "metadata": {},
     "output_type": "execute_result"
    }
   ],
   "source": [
    "f(x)= [(x[1]-1)^2+(x[2]-2)^2+(x[3]-3)^2]\n",
    "Df(x)=[2*(x[1])-2  2*(x[2])-4  2*(x[3])-6]\n",
    "g(x)=[0.25*(x[1])^2+x[1]-2*(x[2])^2+x[2]-2*x[1]*x[3]+x[3]-2]\n",
    "Dg(x)=[0.25*x[1]-2*x[3]+1  -4*x[2]+1  -2*x[1]+1]\n",
    "x,r = aug_L(f, Df, g, Dg, [0, 0, 0], 1.0, 100,1e-5,1e-5);\n",
    "x"
   ]
  },
  {
   "cell_type": "code",
   "execution_count": 175,
   "id": "26f96f95",
   "metadata": {},
   "outputs": [
    {
     "data": {
      "text/plain": [
       "2×6 Matrix{Float64}:\n",
       " 1.0      2.0      3.0       4.0        5.0         6.0\n",
       " 8.29382  1.46909  0.299403  0.0327535  0.00243034  0.00114807"
      ]
     },
     "execution_count": 175,
     "metadata": {},
     "output_type": "execute_result"
    }
   ],
   "source": [
    "ral=zeros(1,0)\n",
    "for i = 1:length(r)\n",
    "    ral=hcat(ral,r[i][\"residuals\"][1])\n",
    "end\n",
    "temp=collect(1:length(ral))\n",
    "ral=vcat(temp',ral)\n",
    "ral"
   ]
  },
  {
   "cell_type": "markdown",
   "id": "402ccb4c",
   "metadata": {},
   "source": [
    "(b)"
   ]
  },
  {
   "cell_type": "code",
   "execution_count": 176,
   "id": "05e4e2ff",
   "metadata": {},
   "outputs": [
    {
     "data": {
      "text/plain": [
       "penalty_method (generic function with 4 methods)"
      ]
     },
     "execution_count": 176,
     "metadata": {},
     "output_type": "execute_result"
    }
   ],
   "source": [
    "function penalty_method(f, Df, g, Dg, x1, lambda1, itmax = 100, feas_tol = 1e-5, oc_tol = 1e-5)\n",
    "    x=x1\n",
    "    u=1\n",
    "    resid=zeros(0,1)\n",
    "    for i=1:itmax\n",
    "        Obj(x)=[f(x);sqrt(u)*g(x)]\n",
    "        Dobj(x)=[Df(x);sqrt(u)*Dg(x)]\n",
    "        x =levenberg_marquardt2(Obj, Dobj, x, lambda1, 100, 1e-6)[1]\n",
    "        resid=vcat(resid,levenberg_marquardt2(Obj, Dobj, x, lambda1, 100, 1e-6)[2])\n",
    "        if norm(g(x))< feas_tol\n",
    "            break\n",
    "        end\n",
    "        u=2*u\n",
    "    end\n",
    "    return x ,resid\n",
    "end"
   ]
  },
  {
   "cell_type": "code",
   "execution_count": 177,
   "id": "261dc01a",
   "metadata": {},
   "outputs": [
    {
     "data": {
      "text/plain": [
       "3-element Vector{Float64}:\n",
       " -0.09689778967461112\n",
       "  1.2236303899976726\n",
       "  3.2379556148487767"
      ]
     },
     "execution_count": 177,
     "metadata": {},
     "output_type": "execute_result"
    }
   ],
   "source": [
    "f(x)= [(x[1]-1)^2+(x[2]-2)^2+(x[3]-3)^2]\n",
    "Df(x)=[2*(x[1])-2  2*(x[2])-4  2*(x[3])-6]\n",
    "g(x)=[0.25*(x[1])^2+x[1]-2*(x[2])^2+x[2]-2*x[1]*x[3]+x[3]-2]\n",
    "Dg(x)=[0.25*x[1]-2*x[3]+1  -4*x[2]+1  -2*x[1]+1]\n",
    "x ,r2 = penalty_method(f, Df, g, Dg, [0, 0, 0], 1.0);\n",
    "x"
   ]
  },
  {
   "cell_type": "code",
   "execution_count": 178,
   "id": "7da22c4a",
   "metadata": {},
   "outputs": [
    {
     "data": {
      "text/plain": [
       "2×18 Matrix{Float64}:\n",
       " 1.0          2.0         3.0         4.0        …  17.0         18.0\n",
       " 0.000852815  0.00183606  0.00174427  0.0135358      0.00378677   0.00242641"
      ]
     },
     "execution_count": 178,
     "metadata": {},
     "output_type": "execute_result"
    }
   ],
   "source": [
    "rpen=zeros(1,0)\n",
    "for i = 1:length(r2)\n",
    "    rpen=hcat(rpen,r2[i][\"residuals\"][1])\n",
    "end\n",
    "temp=collect(1:length(rpen))\n",
    "rpen=vcat(temp',rpen)\n",
    "rpen"
   ]
  },
  {
   "cell_type": "markdown",
   "id": "f0131bef",
   "metadata": {},
   "source": [
    "(c)"
   ]
  },
  {
   "cell_type": "code",
   "execution_count": 179,
   "id": "5fcda66c",
   "metadata": {},
   "outputs": [
    {
     "data": {
      "image/svg+xml": [
       "<?xml version=\"1.0\" encoding=\"utf-8\"?>\n",
       "<svg xmlns=\"http://www.w3.org/2000/svg\" xmlns:xlink=\"http://www.w3.org/1999/xlink\" width=\"600\" height=\"400\" viewBox=\"0 0 2400 1600\">\n",
       "<defs>\n",
       "  <clipPath id=\"clip570\">\n",
       "    <rect x=\"0\" y=\"0\" width=\"2400\" height=\"1600\"/>\n",
       "  </clipPath>\n",
       "</defs>\n",
       "<path clip-path=\"url(#clip570)\" d=\"\n",
       "M0 1600 L2400 1600 L2400 0 L0 0  Z\n",
       "  \" fill=\"#ffffff\" fill-rule=\"evenodd\" fill-opacity=\"1\"/>\n",
       "<defs>\n",
       "  <clipPath id=\"clip571\">\n",
       "    <rect x=\"480\" y=\"0\" width=\"1681\" height=\"1600\"/>\n",
       "  </clipPath>\n",
       "</defs>\n",
       "<path clip-path=\"url(#clip570)\" d=\"\n",
       "M175.445 1423.18 L2352.76 1423.18 L2352.76 47.2441 L175.445 47.2441  Z\n",
       "  \" fill=\"#ffffff\" fill-rule=\"evenodd\" fill-opacity=\"1\"/>\n",
       "<defs>\n",
       "  <clipPath id=\"clip572\">\n",
       "    <rect x=\"175\" y=\"47\" width=\"2178\" height=\"1377\"/>\n",
       "  </clipPath>\n",
       "</defs>\n",
       "<polyline clip-path=\"url(#clip572)\" style=\"stroke:#000000; stroke-linecap:butt; stroke-linejoin:round; stroke-width:2; stroke-opacity:0.1; fill:none\" points=\"\n",
       "  237.067,1423.18 237.067,47.2441 \n",
       "  \"/>\n",
       "<polyline clip-path=\"url(#clip572)\" style=\"stroke:#000000; stroke-linecap:butt; stroke-linejoin:round; stroke-width:2; stroke-opacity:0.1; fill:none\" points=\"\n",
       "  357.895,1423.18 357.895,47.2441 \n",
       "  \"/>\n",
       "<polyline clip-path=\"url(#clip572)\" style=\"stroke:#000000; stroke-linecap:butt; stroke-linejoin:round; stroke-width:2; stroke-opacity:0.1; fill:none\" points=\"\n",
       "  478.722,1423.18 478.722,47.2441 \n",
       "  \"/>\n",
       "<polyline clip-path=\"url(#clip572)\" style=\"stroke:#000000; stroke-linecap:butt; stroke-linejoin:round; stroke-width:2; stroke-opacity:0.1; fill:none\" points=\"\n",
       "  599.55,1423.18 599.55,47.2441 \n",
       "  \"/>\n",
       "<polyline clip-path=\"url(#clip572)\" style=\"stroke:#000000; stroke-linecap:butt; stroke-linejoin:round; stroke-width:2; stroke-opacity:0.1; fill:none\" points=\"\n",
       "  720.377,1423.18 720.377,47.2441 \n",
       "  \"/>\n",
       "<polyline clip-path=\"url(#clip572)\" style=\"stroke:#000000; stroke-linecap:butt; stroke-linejoin:round; stroke-width:2; stroke-opacity:0.1; fill:none\" points=\"\n",
       "  841.204,1423.18 841.204,47.2441 \n",
       "  \"/>\n",
       "<polyline clip-path=\"url(#clip572)\" style=\"stroke:#000000; stroke-linecap:butt; stroke-linejoin:round; stroke-width:2; stroke-opacity:0.1; fill:none\" points=\"\n",
       "  962.032,1423.18 962.032,47.2441 \n",
       "  \"/>\n",
       "<polyline clip-path=\"url(#clip572)\" style=\"stroke:#000000; stroke-linecap:butt; stroke-linejoin:round; stroke-width:2; stroke-opacity:0.1; fill:none\" points=\"\n",
       "  1082.86,1423.18 1082.86,47.2441 \n",
       "  \"/>\n",
       "<polyline clip-path=\"url(#clip572)\" style=\"stroke:#000000; stroke-linecap:butt; stroke-linejoin:round; stroke-width:2; stroke-opacity:0.1; fill:none\" points=\"\n",
       "  1203.69,1423.18 1203.69,47.2441 \n",
       "  \"/>\n",
       "<polyline clip-path=\"url(#clip572)\" style=\"stroke:#000000; stroke-linecap:butt; stroke-linejoin:round; stroke-width:2; stroke-opacity:0.1; fill:none\" points=\"\n",
       "  1324.51,1423.18 1324.51,47.2441 \n",
       "  \"/>\n",
       "<polyline clip-path=\"url(#clip572)\" style=\"stroke:#000000; stroke-linecap:butt; stroke-linejoin:round; stroke-width:2; stroke-opacity:0.1; fill:none\" points=\"\n",
       "  1445.34,1423.18 1445.34,47.2441 \n",
       "  \"/>\n",
       "<polyline clip-path=\"url(#clip572)\" style=\"stroke:#000000; stroke-linecap:butt; stroke-linejoin:round; stroke-width:2; stroke-opacity:0.1; fill:none\" points=\"\n",
       "  1566.17,1423.18 1566.17,47.2441 \n",
       "  \"/>\n",
       "<polyline clip-path=\"url(#clip572)\" style=\"stroke:#000000; stroke-linecap:butt; stroke-linejoin:round; stroke-width:2; stroke-opacity:0.1; fill:none\" points=\"\n",
       "  1687,1423.18 1687,47.2441 \n",
       "  \"/>\n",
       "<polyline clip-path=\"url(#clip572)\" style=\"stroke:#000000; stroke-linecap:butt; stroke-linejoin:round; stroke-width:2; stroke-opacity:0.1; fill:none\" points=\"\n",
       "  1807.82,1423.18 1807.82,47.2441 \n",
       "  \"/>\n",
       "<polyline clip-path=\"url(#clip572)\" style=\"stroke:#000000; stroke-linecap:butt; stroke-linejoin:round; stroke-width:2; stroke-opacity:0.1; fill:none\" points=\"\n",
       "  1928.65,1423.18 1928.65,47.2441 \n",
       "  \"/>\n",
       "<polyline clip-path=\"url(#clip572)\" style=\"stroke:#000000; stroke-linecap:butt; stroke-linejoin:round; stroke-width:2; stroke-opacity:0.1; fill:none\" points=\"\n",
       "  2049.48,1423.18 2049.48,47.2441 \n",
       "  \"/>\n",
       "<polyline clip-path=\"url(#clip572)\" style=\"stroke:#000000; stroke-linecap:butt; stroke-linejoin:round; stroke-width:2; stroke-opacity:0.1; fill:none\" points=\"\n",
       "  2170.31,1423.18 2170.31,47.2441 \n",
       "  \"/>\n",
       "<polyline clip-path=\"url(#clip572)\" style=\"stroke:#000000; stroke-linecap:butt; stroke-linejoin:round; stroke-width:2; stroke-opacity:0.1; fill:none\" points=\"\n",
       "  2291.13,1423.18 2291.13,47.2441 \n",
       "  \"/>\n",
       "<polyline clip-path=\"url(#clip570)\" style=\"stroke:#000000; stroke-linecap:butt; stroke-linejoin:round; stroke-width:4; stroke-opacity:1; fill:none\" points=\"\n",
       "  175.445,1423.18 2352.76,1423.18 \n",
       "  \"/>\n",
       "<polyline clip-path=\"url(#clip570)\" style=\"stroke:#000000; stroke-linecap:butt; stroke-linejoin:round; stroke-width:4; stroke-opacity:1; fill:none\" points=\"\n",
       "  237.067,1423.18 237.067,1404.28 \n",
       "  \"/>\n",
       "<polyline clip-path=\"url(#clip570)\" style=\"stroke:#000000; stroke-linecap:butt; stroke-linejoin:round; stroke-width:4; stroke-opacity:1; fill:none\" points=\"\n",
       "  357.895,1423.18 357.895,1404.28 \n",
       "  \"/>\n",
       "<polyline clip-path=\"url(#clip570)\" style=\"stroke:#000000; stroke-linecap:butt; stroke-linejoin:round; stroke-width:4; stroke-opacity:1; fill:none\" points=\"\n",
       "  478.722,1423.18 478.722,1404.28 \n",
       "  \"/>\n",
       "<polyline clip-path=\"url(#clip570)\" style=\"stroke:#000000; stroke-linecap:butt; stroke-linejoin:round; stroke-width:4; stroke-opacity:1; fill:none\" points=\"\n",
       "  599.55,1423.18 599.55,1404.28 \n",
       "  \"/>\n",
       "<polyline clip-path=\"url(#clip570)\" style=\"stroke:#000000; stroke-linecap:butt; stroke-linejoin:round; stroke-width:4; stroke-opacity:1; fill:none\" points=\"\n",
       "  720.377,1423.18 720.377,1404.28 \n",
       "  \"/>\n",
       "<polyline clip-path=\"url(#clip570)\" style=\"stroke:#000000; stroke-linecap:butt; stroke-linejoin:round; stroke-width:4; stroke-opacity:1; fill:none\" points=\"\n",
       "  841.204,1423.18 841.204,1404.28 \n",
       "  \"/>\n",
       "<polyline clip-path=\"url(#clip570)\" style=\"stroke:#000000; stroke-linecap:butt; stroke-linejoin:round; stroke-width:4; stroke-opacity:1; fill:none\" points=\"\n",
       "  962.032,1423.18 962.032,1404.28 \n",
       "  \"/>\n",
       "<polyline clip-path=\"url(#clip570)\" style=\"stroke:#000000; stroke-linecap:butt; stroke-linejoin:round; stroke-width:4; stroke-opacity:1; fill:none\" points=\"\n",
       "  1082.86,1423.18 1082.86,1404.28 \n",
       "  \"/>\n",
       "<polyline clip-path=\"url(#clip570)\" style=\"stroke:#000000; stroke-linecap:butt; stroke-linejoin:round; stroke-width:4; stroke-opacity:1; fill:none\" points=\"\n",
       "  1203.69,1423.18 1203.69,1404.28 \n",
       "  \"/>\n",
       "<polyline clip-path=\"url(#clip570)\" style=\"stroke:#000000; stroke-linecap:butt; stroke-linejoin:round; stroke-width:4; stroke-opacity:1; fill:none\" points=\"\n",
       "  1324.51,1423.18 1324.51,1404.28 \n",
       "  \"/>\n",
       "<polyline clip-path=\"url(#clip570)\" style=\"stroke:#000000; stroke-linecap:butt; stroke-linejoin:round; stroke-width:4; stroke-opacity:1; fill:none\" points=\"\n",
       "  1445.34,1423.18 1445.34,1404.28 \n",
       "  \"/>\n",
       "<polyline clip-path=\"url(#clip570)\" style=\"stroke:#000000; stroke-linecap:butt; stroke-linejoin:round; stroke-width:4; stroke-opacity:1; fill:none\" points=\"\n",
       "  1566.17,1423.18 1566.17,1404.28 \n",
       "  \"/>\n",
       "<polyline clip-path=\"url(#clip570)\" style=\"stroke:#000000; stroke-linecap:butt; stroke-linejoin:round; stroke-width:4; stroke-opacity:1; fill:none\" points=\"\n",
       "  1687,1423.18 1687,1404.28 \n",
       "  \"/>\n",
       "<polyline clip-path=\"url(#clip570)\" style=\"stroke:#000000; stroke-linecap:butt; stroke-linejoin:round; stroke-width:4; stroke-opacity:1; fill:none\" points=\"\n",
       "  1807.82,1423.18 1807.82,1404.28 \n",
       "  \"/>\n",
       "<polyline clip-path=\"url(#clip570)\" style=\"stroke:#000000; stroke-linecap:butt; stroke-linejoin:round; stroke-width:4; stroke-opacity:1; fill:none\" points=\"\n",
       "  1928.65,1423.18 1928.65,1404.28 \n",
       "  \"/>\n",
       "<polyline clip-path=\"url(#clip570)\" style=\"stroke:#000000; stroke-linecap:butt; stroke-linejoin:round; stroke-width:4; stroke-opacity:1; fill:none\" points=\"\n",
       "  2049.48,1423.18 2049.48,1404.28 \n",
       "  \"/>\n",
       "<polyline clip-path=\"url(#clip570)\" style=\"stroke:#000000; stroke-linecap:butt; stroke-linejoin:round; stroke-width:4; stroke-opacity:1; fill:none\" points=\"\n",
       "  2170.31,1423.18 2170.31,1404.28 \n",
       "  \"/>\n",
       "<polyline clip-path=\"url(#clip570)\" style=\"stroke:#000000; stroke-linecap:butt; stroke-linejoin:round; stroke-width:4; stroke-opacity:1; fill:none\" points=\"\n",
       "  2291.13,1423.18 2291.13,1404.28 \n",
       "  \"/>\n",
       "<path clip-path=\"url(#clip570)\" d=\"M227.449 1481.64 L235.088 1481.64 L235.088 1455.28 L226.778 1456.95 L226.778 1452.69 L235.042 1451.02 L239.718 1451.02 L239.718 1481.64 L247.357 1481.64 L247.357 1485.58 L227.449 1485.58 L227.449 1481.64 Z\" fill=\"#000000\" fill-rule=\"evenodd\" fill-opacity=\"1\" /><path clip-path=\"url(#clip570)\" d=\"M352.547 1481.64 L368.867 1481.64 L368.867 1485.58 L346.922 1485.58 L346.922 1481.64 Q349.585 1478.89 354.168 1474.26 Q358.774 1469.61 359.955 1468.27 Q362.2 1465.74 363.08 1464.01 Q363.983 1462.25 363.983 1460.56 Q363.983 1457.8 362.038 1456.07 Q360.117 1454.33 357.015 1454.33 Q354.816 1454.33 352.362 1455.09 Q349.932 1455.86 347.154 1457.41 L347.154 1452.69 Q349.978 1451.55 352.432 1450.97 Q354.885 1450.39 356.922 1450.39 Q362.293 1450.39 365.487 1453.08 Q368.682 1455.77 368.682 1460.26 Q368.682 1462.39 367.871 1464.31 Q367.084 1466.2 364.978 1468.8 Q364.399 1469.47 361.297 1472.69 Q358.196 1475.88 352.547 1481.64 Z\" fill=\"#000000\" fill-rule=\"evenodd\" fill-opacity=\"1\" /><path clip-path=\"url(#clip570)\" d=\"M482.97 1466.95 Q486.326 1467.66 488.201 1469.93 Q490.099 1472.2 490.099 1475.53 Q490.099 1480.65 486.581 1483.45 Q483.062 1486.25 476.581 1486.25 Q474.405 1486.25 472.09 1485.81 Q469.799 1485.39 467.345 1484.54 L467.345 1480.02 Q469.289 1481.16 471.604 1481.74 Q473.919 1482.32 476.442 1482.32 Q480.84 1482.32 483.132 1480.58 Q485.447 1478.84 485.447 1475.53 Q485.447 1472.48 483.294 1470.77 Q481.164 1469.03 477.345 1469.03 L473.317 1469.03 L473.317 1465.19 L477.53 1465.19 Q480.979 1465.19 482.808 1463.82 Q484.636 1462.43 484.636 1459.84 Q484.636 1457.18 482.738 1455.77 Q480.863 1454.33 477.345 1454.33 Q475.424 1454.33 473.224 1454.75 Q471.025 1455.16 468.387 1456.04 L468.387 1451.88 Q471.049 1451.14 473.363 1450.77 Q475.701 1450.39 477.761 1450.39 Q483.086 1450.39 486.187 1452.83 Q489.289 1455.23 489.289 1459.35 Q489.289 1462.22 487.646 1464.21 Q486.002 1466.18 482.97 1466.95 Z\" fill=\"#000000\" fill-rule=\"evenodd\" fill-opacity=\"1\" /><path clip-path=\"url(#clip570)\" d=\"M602.559 1455.09 L590.753 1473.54 L602.559 1473.54 L602.559 1455.09 M601.332 1451.02 L607.212 1451.02 L607.212 1473.54 L612.142 1473.54 L612.142 1477.43 L607.212 1477.43 L607.212 1485.58 L602.559 1485.58 L602.559 1477.43 L586.957 1477.43 L586.957 1472.92 L601.332 1451.02 Z\" fill=\"#000000\" fill-rule=\"evenodd\" fill-opacity=\"1\" /><path clip-path=\"url(#clip570)\" d=\"M710.655 1451.02 L729.011 1451.02 L729.011 1454.96 L714.937 1454.96 L714.937 1463.43 Q715.956 1463.08 716.974 1462.92 Q717.993 1462.73 719.011 1462.73 Q724.798 1462.73 728.178 1465.9 Q731.558 1469.08 731.558 1474.49 Q731.558 1480.07 728.085 1483.17 Q724.613 1486.25 718.294 1486.25 Q716.118 1486.25 713.849 1485.88 Q711.604 1485.51 709.197 1484.77 L709.197 1480.07 Q711.28 1481.2 713.502 1481.76 Q715.724 1482.32 718.201 1482.32 Q722.206 1482.32 724.544 1480.21 Q726.882 1478.1 726.882 1474.49 Q726.882 1470.88 724.544 1468.77 Q722.206 1466.67 718.201 1466.67 Q716.326 1466.67 714.451 1467.08 Q712.599 1467.5 710.655 1468.38 L710.655 1451.02 Z\" fill=\"#000000\" fill-rule=\"evenodd\" fill-opacity=\"1\" /><path clip-path=\"url(#clip570)\" d=\"M841.61 1466.44 Q838.461 1466.44 836.61 1468.59 Q834.781 1470.74 834.781 1474.49 Q834.781 1478.22 836.61 1480.39 Q838.461 1482.55 841.61 1482.55 Q844.758 1482.55 846.586 1480.39 Q848.438 1478.22 848.438 1474.49 Q848.438 1470.74 846.586 1468.59 Q844.758 1466.44 841.61 1466.44 M850.892 1451.78 L850.892 1456.04 Q849.133 1455.21 847.327 1454.77 Q845.545 1454.33 843.785 1454.33 Q839.156 1454.33 836.702 1457.45 Q834.272 1460.58 833.924 1466.9 Q835.29 1464.89 837.35 1463.82 Q839.411 1462.73 841.887 1462.73 Q847.096 1462.73 850.105 1465.9 Q853.137 1469.05 853.137 1474.49 Q853.137 1479.82 849.989 1483.03 Q846.841 1486.25 841.61 1486.25 Q835.614 1486.25 832.443 1481.67 Q829.272 1477.06 829.272 1468.33 Q829.272 1460.14 833.161 1455.28 Q837.049 1450.39 843.6 1450.39 Q845.36 1450.39 847.142 1450.74 Q848.947 1451.09 850.892 1451.78 Z\" fill=\"#000000\" fill-rule=\"evenodd\" fill-opacity=\"1\" /><path clip-path=\"url(#clip570)\" d=\"M950.921 1451.02 L973.143 1451.02 L973.143 1453.01 L960.597 1485.58 L955.713 1485.58 L967.518 1454.96 L950.921 1454.96 L950.921 1451.02 Z\" fill=\"#000000\" fill-rule=\"evenodd\" fill-opacity=\"1\" /><path clip-path=\"url(#clip570)\" d=\"M1082.86 1469.17 Q1079.53 1469.17 1077.6 1470.95 Q1075.71 1472.73 1075.71 1475.86 Q1075.71 1478.98 1077.6 1480.77 Q1079.53 1482.55 1082.86 1482.55 Q1086.19 1482.55 1088.11 1480.77 Q1090.04 1478.96 1090.04 1475.86 Q1090.04 1472.73 1088.11 1470.95 Q1086.22 1469.17 1082.86 1469.17 M1078.18 1467.18 Q1075.17 1466.44 1073.48 1464.38 Q1071.82 1462.32 1071.82 1459.35 Q1071.82 1455.21 1074.76 1452.8 Q1077.72 1450.39 1082.86 1450.39 Q1088.02 1450.39 1090.96 1452.8 Q1093.9 1455.21 1093.9 1459.35 Q1093.9 1462.32 1092.21 1464.38 Q1090.54 1466.44 1087.56 1467.18 Q1090.94 1467.96 1092.81 1470.26 Q1094.71 1472.55 1094.71 1475.86 Q1094.71 1480.88 1091.63 1483.57 Q1088.58 1486.25 1082.86 1486.25 Q1077.14 1486.25 1074.06 1483.57 Q1071.01 1480.88 1071.01 1475.86 Q1071.01 1472.55 1072.91 1470.26 Q1074.8 1467.96 1078.18 1467.18 M1076.47 1459.79 Q1076.47 1462.48 1078.14 1463.98 Q1079.83 1465.49 1082.86 1465.49 Q1085.87 1465.49 1087.56 1463.98 Q1089.27 1462.48 1089.27 1459.79 Q1089.27 1457.11 1087.56 1455.6 Q1085.87 1454.1 1082.86 1454.1 Q1079.83 1454.1 1078.14 1455.6 Q1076.47 1457.11 1076.47 1459.79 Z\" fill=\"#000000\" fill-rule=\"evenodd\" fill-opacity=\"1\" /><path clip-path=\"url(#clip570)\" d=\"M1193.99 1484.86 L1193.99 1480.6 Q1195.75 1481.44 1197.55 1481.88 Q1199.36 1482.32 1201.09 1482.32 Q1205.72 1482.32 1208.15 1479.21 Q1210.61 1476.09 1210.96 1469.75 Q1209.61 1471.74 1207.55 1472.8 Q1205.49 1473.87 1202.99 1473.87 Q1197.81 1473.87 1194.77 1470.74 Q1191.77 1467.59 1191.77 1462.15 Q1191.77 1456.83 1194.91 1453.61 Q1198.06 1450.39 1203.29 1450.39 Q1209.29 1450.39 1212.44 1455 Q1215.61 1459.58 1215.61 1468.33 Q1215.61 1476.51 1211.72 1481.39 Q1207.85 1486.25 1201.3 1486.25 Q1199.54 1486.25 1197.74 1485.9 Q1195.93 1485.56 1193.99 1484.86 M1203.29 1470.21 Q1206.44 1470.21 1208.27 1468.06 Q1210.12 1465.9 1210.12 1462.15 Q1210.12 1458.43 1208.27 1456.27 Q1206.44 1454.1 1203.29 1454.1 Q1200.15 1454.1 1198.29 1456.27 Q1196.46 1458.43 1196.46 1462.15 Q1196.46 1465.9 1198.29 1468.06 Q1200.15 1470.21 1203.29 1470.21 Z\" fill=\"#000000\" fill-rule=\"evenodd\" fill-opacity=\"1\" /><path clip-path=\"url(#clip570)\" d=\"M1299.2 1481.64 L1306.84 1481.64 L1306.84 1455.28 L1298.53 1456.95 L1298.53 1452.69 L1306.79 1451.02 L1311.47 1451.02 L1311.47 1481.64 L1319.11 1481.64 L1319.11 1485.58 L1299.2 1485.58 L1299.2 1481.64 Z\" fill=\"#000000\" fill-rule=\"evenodd\" fill-opacity=\"1\" /><path clip-path=\"url(#clip570)\" d=\"M1338.55 1454.1 Q1334.94 1454.1 1333.11 1457.66 Q1331.31 1461.2 1331.31 1468.33 Q1331.31 1475.44 1333.11 1479.01 Q1334.94 1482.55 1338.55 1482.55 Q1342.19 1482.55 1343.99 1479.01 Q1345.82 1475.44 1345.82 1468.33 Q1345.82 1461.2 1343.99 1457.66 Q1342.19 1454.1 1338.55 1454.1 M1338.55 1450.39 Q1344.36 1450.39 1347.42 1455 Q1350.5 1459.58 1350.5 1468.33 Q1350.5 1477.06 1347.42 1481.67 Q1344.36 1486.25 1338.55 1486.25 Q1332.74 1486.25 1329.66 1481.67 Q1326.61 1477.06 1326.61 1468.33 Q1326.61 1459.58 1329.66 1455 Q1332.74 1450.39 1338.55 1450.39 Z\" fill=\"#000000\" fill-rule=\"evenodd\" fill-opacity=\"1\" /><path clip-path=\"url(#clip570)\" d=\"M1420.64 1481.64 L1428.28 1481.64 L1428.28 1455.28 L1419.97 1456.95 L1419.97 1452.69 L1428.24 1451.02 L1432.91 1451.02 L1432.91 1481.64 L1440.55 1481.64 L1440.55 1485.58 L1420.64 1485.58 L1420.64 1481.64 Z\" fill=\"#000000\" fill-rule=\"evenodd\" fill-opacity=\"1\" /><path clip-path=\"url(#clip570)\" d=\"M1450.8 1481.64 L1458.44 1481.64 L1458.44 1455.28 L1450.13 1456.95 L1450.13 1452.69 L1458.4 1451.02 L1463.07 1451.02 L1463.07 1481.64 L1470.71 1481.64 L1470.71 1485.58 L1450.8 1485.58 L1450.8 1481.64 Z\" fill=\"#000000\" fill-rule=\"evenodd\" fill-opacity=\"1\" /><path clip-path=\"url(#clip570)\" d=\"M1541.66 1481.64 L1549.29 1481.64 L1549.29 1455.28 L1540.98 1456.95 L1540.98 1452.69 L1549.25 1451.02 L1553.92 1451.02 L1553.92 1481.64 L1561.56 1481.64 L1561.56 1485.58 L1541.66 1485.58 L1541.66 1481.64 Z\" fill=\"#000000\" fill-rule=\"evenodd\" fill-opacity=\"1\" /><path clip-path=\"url(#clip570)\" d=\"M1575.03 1481.64 L1591.35 1481.64 L1591.35 1485.58 L1569.41 1485.58 L1569.41 1481.64 Q1572.07 1478.89 1576.66 1474.26 Q1581.26 1469.61 1582.44 1468.27 Q1584.69 1465.74 1585.57 1464.01 Q1586.47 1462.25 1586.47 1460.56 Q1586.47 1457.8 1584.53 1456.07 Q1582.6 1454.33 1579.5 1454.33 Q1577.3 1454.33 1574.85 1455.09 Q1572.42 1455.86 1569.64 1457.41 L1569.64 1452.69 Q1572.47 1451.55 1574.92 1450.97 Q1577.37 1450.39 1579.41 1450.39 Q1584.78 1450.39 1587.97 1453.08 Q1591.17 1455.77 1591.17 1460.26 Q1591.17 1462.39 1590.36 1464.31 Q1589.57 1466.2 1587.47 1468.8 Q1586.89 1469.47 1583.78 1472.69 Q1580.68 1475.88 1575.03 1481.64 Z\" fill=\"#000000\" fill-rule=\"evenodd\" fill-opacity=\"1\" /><path clip-path=\"url(#clip570)\" d=\"M1662.01 1481.64 L1669.65 1481.64 L1669.65 1455.28 L1661.34 1456.95 L1661.34 1452.69 L1669.6 1451.02 L1674.28 1451.02 L1674.28 1481.64 L1681.92 1481.64 L1681.92 1485.58 L1662.01 1485.58 L1662.01 1481.64 Z\" fill=\"#000000\" fill-rule=\"evenodd\" fill-opacity=\"1\" /><path clip-path=\"url(#clip570)\" d=\"M1705.53 1466.95 Q1708.88 1467.66 1710.76 1469.93 Q1712.66 1472.2 1712.66 1475.53 Q1712.66 1480.65 1709.14 1483.45 Q1705.62 1486.25 1699.14 1486.25 Q1696.96 1486.25 1694.65 1485.81 Q1692.36 1485.39 1689.9 1484.54 L1689.9 1480.02 Q1691.85 1481.16 1694.16 1481.74 Q1696.48 1482.32 1699 1482.32 Q1703.4 1482.32 1705.69 1480.58 Q1708 1478.84 1708 1475.53 Q1708 1472.48 1705.85 1470.77 Q1703.72 1469.03 1699.9 1469.03 L1695.87 1469.03 L1695.87 1465.19 L1700.09 1465.19 Q1703.54 1465.19 1705.36 1463.82 Q1707.19 1462.43 1707.19 1459.84 Q1707.19 1457.18 1705.3 1455.77 Q1703.42 1454.33 1699.9 1454.33 Q1697.98 1454.33 1695.78 1454.75 Q1693.58 1455.16 1690.94 1456.04 L1690.94 1451.88 Q1693.61 1451.14 1695.92 1450.77 Q1698.26 1450.39 1700.32 1450.39 Q1705.64 1450.39 1708.74 1452.83 Q1711.85 1455.23 1711.85 1459.35 Q1711.85 1462.22 1710.2 1464.21 Q1708.56 1466.18 1705.53 1466.95 Z\" fill=\"#000000\" fill-rule=\"evenodd\" fill-opacity=\"1\" /><path clip-path=\"url(#clip570)\" d=\"M1782.27 1481.64 L1789.91 1481.64 L1789.91 1455.28 L1781.6 1456.95 L1781.6 1452.69 L1789.86 1451.02 L1794.54 1451.02 L1794.54 1481.64 L1802.18 1481.64 L1802.18 1485.58 L1782.27 1485.58 L1782.27 1481.64 Z\" fill=\"#000000\" fill-rule=\"evenodd\" fill-opacity=\"1\" /><path clip-path=\"url(#clip570)\" d=\"M1824.47 1455.09 L1812.66 1473.54 L1824.47 1473.54 L1824.47 1455.09 M1823.24 1451.02 L1829.12 1451.02 L1829.12 1473.54 L1834.05 1473.54 L1834.05 1477.43 L1829.12 1477.43 L1829.12 1485.58 L1824.47 1485.58 L1824.47 1477.43 L1808.87 1477.43 L1808.87 1472.92 L1823.24 1451.02 Z\" fill=\"#000000\" fill-rule=\"evenodd\" fill-opacity=\"1\" /><path clip-path=\"url(#clip570)\" d=\"M1903.84 1481.64 L1911.48 1481.64 L1911.48 1455.28 L1903.17 1456.95 L1903.17 1452.69 L1911.43 1451.02 L1916.11 1451.02 L1916.11 1481.64 L1923.74 1481.64 L1923.74 1485.58 L1903.84 1485.58 L1903.84 1481.64 Z\" fill=\"#000000\" fill-rule=\"evenodd\" fill-opacity=\"1\" /><path clip-path=\"url(#clip570)\" d=\"M1933.23 1451.02 L1951.59 1451.02 L1951.59 1454.96 L1937.52 1454.96 L1937.52 1463.43 Q1938.54 1463.08 1939.55 1462.92 Q1940.57 1462.73 1941.59 1462.73 Q1947.38 1462.73 1950.76 1465.9 Q1954.14 1469.08 1954.14 1474.49 Q1954.14 1480.07 1950.67 1483.17 Q1947.19 1486.25 1940.87 1486.25 Q1938.7 1486.25 1936.43 1485.88 Q1934.18 1485.51 1931.78 1484.77 L1931.78 1480.07 Q1933.86 1481.2 1936.08 1481.76 Q1938.3 1482.32 1940.78 1482.32 Q1944.79 1482.32 1947.12 1480.21 Q1949.46 1478.1 1949.46 1474.49 Q1949.46 1470.88 1947.12 1468.77 Q1944.79 1466.67 1940.78 1466.67 Q1938.91 1466.67 1937.03 1467.08 Q1935.18 1467.5 1933.23 1468.38 L1933.23 1451.02 Z\" fill=\"#000000\" fill-rule=\"evenodd\" fill-opacity=\"1\" /><path clip-path=\"url(#clip570)\" d=\"M2024.09 1481.64 L2031.72 1481.64 L2031.72 1455.28 L2023.41 1456.95 L2023.41 1452.69 L2031.68 1451.02 L2036.35 1451.02 L2036.35 1481.64 L2043.99 1481.64 L2043.99 1485.58 L2024.09 1485.58 L2024.09 1481.64 Z\" fill=\"#000000\" fill-rule=\"evenodd\" fill-opacity=\"1\" /><path clip-path=\"url(#clip570)\" d=\"M2064.02 1466.44 Q2060.87 1466.44 2059.02 1468.59 Q2057.19 1470.74 2057.19 1474.49 Q2057.19 1478.22 2059.02 1480.39 Q2060.87 1482.55 2064.02 1482.55 Q2067.16 1482.55 2068.99 1480.39 Q2070.84 1478.22 2070.84 1474.49 Q2070.84 1470.74 2068.99 1468.59 Q2067.16 1466.44 2064.02 1466.44 M2073.3 1451.78 L2073.3 1456.04 Q2071.54 1455.21 2069.73 1454.77 Q2067.95 1454.33 2066.19 1454.33 Q2061.56 1454.33 2059.11 1457.45 Q2056.68 1460.58 2056.33 1466.9 Q2057.7 1464.89 2059.76 1463.82 Q2061.82 1462.73 2064.29 1462.73 Q2069.5 1462.73 2072.51 1465.9 Q2075.54 1469.05 2075.54 1474.49 Q2075.54 1479.82 2072.4 1483.03 Q2069.25 1486.25 2064.02 1486.25 Q2058.02 1486.25 2054.85 1481.67 Q2051.68 1477.06 2051.68 1468.33 Q2051.68 1460.14 2055.57 1455.28 Q2059.46 1450.39 2066.01 1450.39 Q2067.77 1450.39 2069.55 1450.74 Q2071.35 1451.09 2073.3 1451.78 Z\" fill=\"#000000\" fill-rule=\"evenodd\" fill-opacity=\"1\" /><path clip-path=\"url(#clip570)\" d=\"M2145.45 1481.64 L2153.08 1481.64 L2153.08 1455.28 L2144.77 1456.95 L2144.77 1452.69 L2153.04 1451.02 L2157.71 1451.02 L2157.71 1481.64 L2165.35 1481.64 L2165.35 1485.58 L2145.45 1485.58 L2145.45 1481.64 Z\" fill=\"#000000\" fill-rule=\"evenodd\" fill-opacity=\"1\" /><path clip-path=\"url(#clip570)\" d=\"M2173.62 1451.02 L2195.84 1451.02 L2195.84 1453.01 L2183.29 1485.58 L2178.41 1485.58 L2190.21 1454.96 L2173.62 1454.96 L2173.62 1451.02 Z\" fill=\"#000000\" fill-rule=\"evenodd\" fill-opacity=\"1\" /><path clip-path=\"url(#clip570)\" d=\"M2265.87 1481.64 L2273.51 1481.64 L2273.51 1455.28 L2265.2 1456.95 L2265.2 1452.69 L2273.46 1451.02 L2278.14 1451.02 L2278.14 1481.64 L2285.78 1481.64 L2285.78 1485.58 L2265.87 1485.58 L2265.87 1481.64 Z\" fill=\"#000000\" fill-rule=\"evenodd\" fill-opacity=\"1\" /><path clip-path=\"url(#clip570)\" d=\"M2305.22 1469.17 Q2301.89 1469.17 2299.96 1470.95 Q2298.07 1472.73 2298.07 1475.86 Q2298.07 1478.98 2299.96 1480.77 Q2301.89 1482.55 2305.22 1482.55 Q2308.55 1482.55 2310.47 1480.77 Q2312.4 1478.96 2312.4 1475.86 Q2312.4 1472.73 2310.47 1470.95 Q2308.58 1469.17 2305.22 1469.17 M2300.54 1467.18 Q2297.53 1466.44 2295.84 1464.38 Q2294.18 1462.32 2294.18 1459.35 Q2294.18 1455.21 2297.12 1452.8 Q2300.08 1450.39 2305.22 1450.39 Q2310.38 1450.39 2313.32 1452.8 Q2316.26 1455.21 2316.26 1459.35 Q2316.26 1462.32 2314.57 1464.38 Q2312.9 1466.44 2309.92 1467.18 Q2313.3 1467.96 2315.17 1470.26 Q2317.07 1472.55 2317.07 1475.86 Q2317.07 1480.88 2313.99 1483.57 Q2310.94 1486.25 2305.22 1486.25 Q2299.5 1486.25 2296.42 1483.57 Q2293.37 1480.88 2293.37 1475.86 Q2293.37 1472.55 2295.27 1470.26 Q2297.16 1467.96 2300.54 1467.18 M2298.83 1459.79 Q2298.83 1462.48 2300.5 1463.98 Q2302.19 1465.49 2305.22 1465.49 Q2308.23 1465.49 2309.92 1463.98 Q2311.63 1462.48 2311.63 1459.79 Q2311.63 1457.11 2309.92 1455.6 Q2308.23 1454.1 2305.22 1454.1 Q2302.19 1454.1 2300.5 1455.6 Q2298.83 1457.11 2298.83 1459.79 Z\" fill=\"#000000\" fill-rule=\"evenodd\" fill-opacity=\"1\" /><path clip-path=\"url(#clip570)\" d=\"M407.595 1533.76 L407.595 1539.24 Q405.112 1537.87 402.598 1537.2 Q400.115 1536.5 397.569 1536.5 Q391.871 1536.5 388.72 1540.13 Q385.569 1543.73 385.569 1550.25 Q385.569 1556.78 388.72 1560.4 Q391.871 1564 397.569 1564 Q400.115 1564 402.598 1563.33 Q405.112 1562.63 407.595 1561.26 L407.595 1566.68 Q405.144 1567.82 402.502 1568.39 Q399.892 1568.97 396.932 1568.97 Q388.88 1568.97 384.137 1563.91 Q379.395 1558.85 379.395 1550.25 Q379.395 1541.53 384.169 1536.53 Q388.975 1531.54 397.314 1531.54 Q400.02 1531.54 402.598 1532.11 Q405.176 1532.65 407.595 1533.76 Z\" fill=\"#000000\" fill-rule=\"evenodd\" fill-opacity=\"1\" /><path clip-path=\"url(#clip570)\" d=\"M417.175 1553.98 L417.175 1532.4 L423.032 1532.4 L423.032 1553.75 Q423.032 1558.81 425.005 1561.36 Q426.978 1563.87 430.925 1563.87 Q435.667 1563.87 438.405 1560.85 Q441.174 1557.83 441.174 1552.61 L441.174 1532.4 L447.03 1532.4 L447.03 1568.04 L441.174 1568.04 L441.174 1562.57 Q439.041 1565.82 436.209 1567.41 Q433.408 1568.97 429.684 1568.97 Q423.541 1568.97 420.358 1565.15 Q417.175 1561.33 417.175 1553.98 M431.912 1531.54 L431.912 1531.54 Z\" fill=\"#000000\" fill-rule=\"evenodd\" fill-opacity=\"1\" /><path clip-path=\"url(#clip570)\" d=\"M486.848 1539.24 Q489.044 1535.29 492.099 1533.41 Q495.155 1531.54 499.293 1531.54 Q504.863 1531.54 507.886 1535.45 Q510.91 1539.33 510.91 1546.53 L510.91 1568.04 L505.022 1568.04 L505.022 1546.72 Q505.022 1541.59 503.208 1539.11 Q501.393 1536.63 497.669 1536.63 Q493.118 1536.63 490.476 1539.65 Q487.834 1542.68 487.834 1547.9 L487.834 1568.04 L481.946 1568.04 L481.946 1546.72 Q481.946 1541.56 480.132 1539.11 Q478.318 1536.63 474.53 1536.63 Q470.042 1536.63 467.401 1539.68 Q464.759 1542.71 464.759 1547.9 L464.759 1568.04 L458.87 1568.04 L458.87 1532.4 L464.759 1532.4 L464.759 1537.93 Q466.764 1534.66 469.565 1533.1 Q472.366 1531.54 476.217 1531.54 Q480.1 1531.54 482.806 1533.51 Q485.543 1535.48 486.848 1539.24 Z\" fill=\"#000000\" fill-rule=\"evenodd\" fill-opacity=\"1\" /><path clip-path=\"url(#clip570)\" d=\"M521.986 1553.98 L521.986 1532.4 L527.843 1532.4 L527.843 1553.75 Q527.843 1558.81 529.816 1561.36 Q531.79 1563.87 535.736 1563.87 Q540.479 1563.87 543.216 1560.85 Q545.985 1557.83 545.985 1552.61 L545.985 1532.4 L551.842 1532.4 L551.842 1568.04 L545.985 1568.04 L545.985 1562.57 Q543.853 1565.82 541.02 1567.41 Q538.219 1568.97 534.495 1568.97 Q528.352 1568.97 525.169 1565.15 Q521.986 1561.33 521.986 1553.98 M536.723 1531.54 L536.723 1531.54 Z\" fill=\"#000000\" fill-rule=\"evenodd\" fill-opacity=\"1\" /><path clip-path=\"url(#clip570)\" d=\"M563.905 1518.52 L569.761 1518.52 L569.761 1568.04 L563.905 1568.04 L563.905 1518.52 Z\" fill=\"#000000\" fill-rule=\"evenodd\" fill-opacity=\"1\" /><path clip-path=\"url(#clip570)\" d=\"M598.216 1550.12 Q591.118 1550.12 588.381 1551.75 Q585.644 1553.37 585.644 1557.29 Q585.644 1560.4 587.681 1562.25 Q589.749 1564.07 593.282 1564.07 Q598.152 1564.07 601.08 1560.63 Q604.04 1557.16 604.04 1551.43 L604.04 1550.12 L598.216 1550.12 M609.897 1547.71 L609.897 1568.04 L604.04 1568.04 L604.04 1562.63 Q602.035 1565.88 599.043 1567.44 Q596.051 1568.97 591.723 1568.97 Q586.248 1568.97 583.002 1565.91 Q579.787 1562.82 579.787 1557.67 Q579.787 1551.65 583.797 1548.6 Q587.84 1545.54 595.829 1545.54 L604.04 1545.54 L604.04 1544.97 Q604.04 1540.93 601.367 1538.73 Q598.725 1536.5 593.919 1536.5 Q590.863 1536.5 587.967 1537.23 Q585.071 1537.97 582.397 1539.43 L582.397 1534.02 Q585.612 1532.78 588.635 1532.17 Q591.659 1531.54 594.524 1531.54 Q602.258 1531.54 606.077 1535.55 Q609.897 1539.56 609.897 1547.71 Z\" fill=\"#000000\" fill-rule=\"evenodd\" fill-opacity=\"1\" /><path clip-path=\"url(#clip570)\" d=\"M627.753 1522.27 L627.753 1532.4 L639.816 1532.4 L639.816 1536.95 L627.753 1536.95 L627.753 1556.3 Q627.753 1560.66 628.93 1561.9 Q630.14 1563.14 633.8 1563.14 L639.816 1563.14 L639.816 1568.04 L633.8 1568.04 Q627.021 1568.04 624.443 1565.53 Q621.864 1562.98 621.864 1556.3 L621.864 1536.95 L617.568 1536.95 L617.568 1532.4 L621.864 1532.4 L621.864 1522.27 L627.753 1522.27 Z\" fill=\"#000000\" fill-rule=\"evenodd\" fill-opacity=\"1\" /><path clip-path=\"url(#clip570)\" d=\"M647.518 1532.4 L653.375 1532.4 L653.375 1568.04 L647.518 1568.04 L647.518 1532.4 M647.518 1518.52 L653.375 1518.52 L653.375 1525.93 L647.518 1525.93 L647.518 1518.52 Z\" fill=\"#000000\" fill-rule=\"evenodd\" fill-opacity=\"1\" /><path clip-path=\"url(#clip570)\" d=\"M661.427 1532.4 L667.634 1532.4 L678.774 1562.31 L689.914 1532.4 L696.12 1532.4 L682.752 1568.04 L674.795 1568.04 L661.427 1532.4 Z\" fill=\"#000000\" fill-rule=\"evenodd\" fill-opacity=\"1\" /><path clip-path=\"url(#clip570)\" d=\"M734.697 1548.76 L734.697 1551.62 L707.77 1551.62 Q708.152 1557.67 711.398 1560.85 Q714.676 1564 720.501 1564 Q723.875 1564 727.026 1563.17 Q730.209 1562.35 733.328 1560.69 L733.328 1566.23 Q730.177 1567.57 726.867 1568.27 Q723.557 1568.97 720.151 1568.97 Q711.621 1568.97 706.624 1564 Q701.659 1559.04 701.659 1550.57 Q701.659 1541.82 706.369 1536.69 Q711.112 1531.54 719.132 1531.54 Q726.326 1531.54 730.495 1536.18 Q734.697 1540.8 734.697 1548.76 M728.84 1547.04 Q728.776 1542.23 726.135 1539.37 Q723.525 1536.5 719.196 1536.5 Q714.294 1536.5 711.334 1539.27 Q708.406 1542.04 707.961 1547.07 L728.84 1547.04 Z\" fill=\"#000000\" fill-rule=\"evenodd\" fill-opacity=\"1\" /><path clip-path=\"url(#clip570)\" d=\"M794.662 1546.53 L794.662 1568.04 L788.805 1568.04 L788.805 1546.72 Q788.805 1541.66 786.832 1539.14 Q784.858 1536.63 780.912 1536.63 Q776.169 1536.63 773.432 1539.65 Q770.695 1542.68 770.695 1547.9 L770.695 1568.04 L764.806 1568.04 L764.806 1532.4 L770.695 1532.4 L770.695 1537.93 Q772.795 1534.72 775.628 1533.13 Q778.493 1531.54 782.217 1531.54 Q788.359 1531.54 791.51 1535.36 Q794.662 1539.14 794.662 1546.53 Z\" fill=\"#000000\" fill-rule=\"evenodd\" fill-opacity=\"1\" /><path clip-path=\"url(#clip570)\" d=\"M805.738 1553.98 L805.738 1532.4 L811.594 1532.4 L811.594 1553.75 Q811.594 1558.81 813.568 1561.36 Q815.541 1563.87 819.488 1563.87 Q824.23 1563.87 826.967 1560.85 Q829.737 1557.83 829.737 1552.61 L829.737 1532.4 L835.593 1532.4 L835.593 1568.04 L829.737 1568.04 L829.737 1562.57 Q827.604 1565.82 824.771 1567.41 Q821.97 1568.97 818.246 1568.97 Q812.104 1568.97 808.921 1565.15 Q805.738 1561.33 805.738 1553.98 M820.474 1531.54 L820.474 1531.54 Z\" fill=\"#000000\" fill-rule=\"evenodd\" fill-opacity=\"1\" /><path clip-path=\"url(#clip570)\" d=\"M875.411 1539.24 Q877.607 1535.29 880.662 1533.41 Q883.718 1531.54 887.855 1531.54 Q893.425 1531.54 896.449 1535.45 Q899.473 1539.33 899.473 1546.53 L899.473 1568.04 L893.585 1568.04 L893.585 1546.72 Q893.585 1541.59 891.77 1539.11 Q889.956 1536.63 886.232 1536.63 Q881.681 1536.63 879.039 1539.65 Q876.397 1542.68 876.397 1547.9 L876.397 1568.04 L870.509 1568.04 L870.509 1546.72 Q870.509 1541.56 868.695 1539.11 Q866.88 1536.63 863.093 1536.63 Q858.605 1536.63 855.963 1539.68 Q853.322 1542.71 853.322 1547.9 L853.322 1568.04 L847.433 1568.04 L847.433 1532.4 L853.322 1532.4 L853.322 1537.93 Q855.327 1534.66 858.128 1533.1 Q860.929 1531.54 864.78 1531.54 Q868.663 1531.54 871.368 1533.51 Q874.106 1535.48 875.411 1539.24 Z\" fill=\"#000000\" fill-rule=\"evenodd\" fill-opacity=\"1\" /><path clip-path=\"url(#clip570)\" d=\"M936.744 1550.25 Q936.744 1543.79 934.07 1540.13 Q931.429 1536.44 926.782 1536.44 Q922.135 1536.44 919.461 1540.13 Q916.819 1543.79 916.819 1550.25 Q916.819 1556.71 919.461 1560.4 Q922.135 1564.07 926.782 1564.07 Q931.429 1564.07 934.07 1560.4 Q936.744 1556.71 936.744 1550.25 M916.819 1537.81 Q918.665 1534.62 921.466 1533.1 Q924.299 1531.54 928.214 1531.54 Q934.707 1531.54 938.749 1536.69 Q942.823 1541.85 942.823 1550.25 Q942.823 1558.65 938.749 1563.81 Q934.707 1568.97 928.214 1568.97 Q924.299 1568.97 921.466 1567.44 Q918.665 1565.88 916.819 1562.7 L916.819 1568.04 L910.931 1568.04 L910.931 1518.52 L916.819 1518.52 L916.819 1537.81 Z\" fill=\"#000000\" fill-rule=\"evenodd\" fill-opacity=\"1\" /><path clip-path=\"url(#clip570)\" d=\"M983.023 1548.76 L983.023 1551.62 L956.096 1551.62 Q956.478 1557.67 959.724 1560.85 Q963.003 1564 968.827 1564 Q972.201 1564 975.352 1563.17 Q978.535 1562.35 981.654 1560.69 L981.654 1566.23 Q978.503 1567.57 975.193 1568.27 Q971.883 1568.97 968.477 1568.97 Q959.947 1568.97 954.95 1564 Q949.985 1559.04 949.985 1550.57 Q949.985 1541.82 954.695 1536.69 Q959.438 1531.54 967.459 1531.54 Q974.652 1531.54 978.821 1536.18 Q983.023 1540.8 983.023 1548.76 M977.166 1547.04 Q977.103 1542.23 974.461 1539.37 Q971.851 1536.5 967.522 1536.5 Q962.621 1536.5 959.661 1539.27 Q956.732 1542.04 956.287 1547.07 L977.166 1547.04 Z\" fill=\"#000000\" fill-rule=\"evenodd\" fill-opacity=\"1\" /><path clip-path=\"url(#clip570)\" d=\"M1013.29 1537.87 Q1012.31 1537.3 1011.13 1537.04 Q1009.98 1536.76 1008.58 1536.76 Q1003.62 1536.76 1000.94 1540 Q998.3 1543.22 998.3 1549.27 L998.3 1568.04 L992.412 1568.04 L992.412 1532.4 L998.3 1532.4 L998.3 1537.93 Q1000.15 1534.69 1003.11 1533.13 Q1006.07 1531.54 1010.3 1531.54 Q1010.9 1531.54 1011.64 1531.63 Q1012.37 1531.7 1013.26 1531.85 L1013.29 1537.87 Z\" fill=\"#000000\" fill-rule=\"evenodd\" fill-opacity=\"1\" /><path clip-path=\"url(#clip570)\" d=\"M1053.97 1536.5 Q1049.26 1536.5 1046.52 1540.19 Q1043.78 1543.85 1043.78 1550.25 Q1043.78 1556.65 1046.49 1560.34 Q1049.23 1564 1053.97 1564 Q1058.65 1564 1061.38 1560.31 Q1064.12 1556.62 1064.12 1550.25 Q1064.12 1543.92 1061.38 1540.23 Q1058.65 1536.5 1053.97 1536.5 M1053.97 1531.54 Q1061.61 1531.54 1065.97 1536.5 Q1070.33 1541.47 1070.33 1550.25 Q1070.33 1559 1065.97 1564 Q1061.61 1568.97 1053.97 1568.97 Q1046.3 1568.97 1041.94 1564 Q1037.61 1559 1037.61 1550.25 Q1037.61 1541.47 1041.94 1536.5 Q1046.3 1531.54 1053.97 1531.54 Z\" fill=\"#000000\" fill-rule=\"evenodd\" fill-opacity=\"1\" /><path clip-path=\"url(#clip570)\" d=\"M1098.08 1518.52 L1098.08 1523.39 L1092.48 1523.39 Q1089.33 1523.39 1088.09 1524.66 Q1086.88 1525.93 1086.88 1529.24 L1086.88 1532.4 L1096.52 1532.4 L1096.52 1536.95 L1086.88 1536.95 L1086.88 1568.04 L1080.99 1568.04 L1080.99 1536.95 L1075.39 1536.95 L1075.39 1532.4 L1080.99 1532.4 L1080.99 1529.91 Q1080.99 1523.96 1083.76 1521.26 Q1086.53 1518.52 1092.54 1518.52 L1098.08 1518.52 Z\" fill=\"#000000\" fill-rule=\"evenodd\" fill-opacity=\"1\" /><path clip-path=\"url(#clip570)\" d=\"M1123.96 1520.52 L1130.39 1520.52 L1130.39 1562.63 L1153.53 1562.63 L1153.53 1568.04 L1123.96 1568.04 L1123.96 1520.52 Z\" fill=\"#000000\" fill-rule=\"evenodd\" fill-opacity=\"1\" /><path clip-path=\"url(#clip570)\" d=\"M1189.37 1548.76 L1189.37 1551.62 L1162.44 1551.62 Q1162.82 1557.67 1166.07 1560.85 Q1169.35 1564 1175.17 1564 Q1178.55 1564 1181.7 1563.17 Q1184.88 1562.35 1188 1560.69 L1188 1566.23 Q1184.85 1567.57 1181.54 1568.27 Q1178.23 1568.97 1174.82 1568.97 Q1166.29 1568.97 1161.29 1564 Q1156.33 1559.04 1156.33 1550.57 Q1156.33 1541.82 1161.04 1536.69 Q1165.78 1531.54 1173.8 1531.54 Q1181 1531.54 1185.17 1536.18 Q1189.37 1540.8 1189.37 1548.76 M1183.51 1547.04 Q1183.45 1542.23 1180.81 1539.37 Q1178.2 1536.5 1173.87 1536.5 Q1168.97 1536.5 1166.01 1539.27 Q1163.08 1542.04 1162.63 1547.07 L1183.51 1547.04 Z\" fill=\"#000000\" fill-rule=\"evenodd\" fill-opacity=\"1\" /><path clip-path=\"url(#clip570)\" d=\"M1194.78 1532.4 L1200.98 1532.4 L1212.12 1562.31 L1223.26 1532.4 L1229.47 1532.4 L1216.1 1568.04 L1208.15 1568.04 L1194.78 1532.4 Z\" fill=\"#000000\" fill-rule=\"evenodd\" fill-opacity=\"1\" /><path clip-path=\"url(#clip570)\" d=\"M1268.05 1548.76 L1268.05 1551.62 L1241.12 1551.62 Q1241.5 1557.67 1244.75 1560.85 Q1248.03 1564 1253.85 1564 Q1257.23 1564 1260.38 1563.17 Q1263.56 1562.35 1266.68 1560.69 L1266.68 1566.23 Q1263.53 1567.57 1260.22 1568.27 Q1256.91 1568.97 1253.5 1568.97 Q1244.97 1568.97 1239.97 1564 Q1235.01 1559.04 1235.01 1550.57 Q1235.01 1541.82 1239.72 1536.69 Q1244.46 1531.54 1252.48 1531.54 Q1259.68 1531.54 1263.85 1536.18 Q1268.05 1540.8 1268.05 1548.76 M1262.19 1547.04 Q1262.13 1542.23 1259.49 1539.37 Q1256.88 1536.5 1252.55 1536.5 Q1247.65 1536.5 1244.69 1539.27 Q1241.76 1542.04 1241.31 1547.07 L1262.19 1547.04 Z\" fill=\"#000000\" fill-rule=\"evenodd\" fill-opacity=\"1\" /><path clip-path=\"url(#clip570)\" d=\"M1307.29 1546.53 L1307.29 1568.04 L1301.44 1568.04 L1301.44 1546.72 Q1301.44 1541.66 1299.46 1539.14 Q1297.49 1536.63 1293.54 1536.63 Q1288.8 1536.63 1286.06 1539.65 Q1283.32 1542.68 1283.32 1547.9 L1283.32 1568.04 L1277.44 1568.04 L1277.44 1532.4 L1283.32 1532.4 L1283.32 1537.93 Q1285.43 1534.72 1288.26 1533.13 Q1291.12 1531.54 1294.85 1531.54 Q1300.99 1531.54 1304.14 1535.36 Q1307.29 1539.14 1307.29 1546.53 Z\" fill=\"#000000\" fill-rule=\"evenodd\" fill-opacity=\"1\" /><path clip-path=\"url(#clip570)\" d=\"M1344.56 1550.25 Q1344.56 1543.79 1341.89 1540.13 Q1339.25 1536.44 1334.6 1536.44 Q1329.95 1536.44 1327.28 1540.13 Q1324.64 1543.79 1324.64 1550.25 Q1324.64 1556.71 1327.28 1560.4 Q1329.95 1564.07 1334.6 1564.07 Q1339.25 1564.07 1341.89 1560.4 Q1344.56 1556.71 1344.56 1550.25 M1324.64 1537.81 Q1326.48 1534.62 1329.29 1533.1 Q1332.12 1531.54 1336.03 1531.54 Q1342.53 1531.54 1346.57 1536.69 Q1350.64 1541.85 1350.64 1550.25 Q1350.64 1558.65 1346.57 1563.81 Q1342.53 1568.97 1336.03 1568.97 Q1332.12 1568.97 1329.29 1567.44 Q1326.48 1565.88 1324.64 1562.7 L1324.64 1568.04 L1318.75 1568.04 L1318.75 1518.52 L1324.64 1518.52 L1324.64 1537.81 Z\" fill=\"#000000\" fill-rule=\"evenodd\" fill-opacity=\"1\" /><path clip-path=\"url(#clip570)\" d=\"M1390.84 1548.76 L1390.84 1551.62 L1363.91 1551.62 Q1364.3 1557.67 1367.54 1560.85 Q1370.82 1564 1376.65 1564 Q1380.02 1564 1383.17 1563.17 Q1386.35 1562.35 1389.47 1560.69 L1389.47 1566.23 Q1386.32 1567.57 1383.01 1568.27 Q1379.7 1568.97 1376.3 1568.97 Q1367.77 1568.97 1362.77 1564 Q1357.8 1559.04 1357.8 1550.57 Q1357.8 1541.82 1362.51 1536.69 Q1367.26 1531.54 1375.28 1531.54 Q1382.47 1531.54 1386.64 1536.18 Q1390.84 1540.8 1390.84 1548.76 M1384.99 1547.04 Q1384.92 1542.23 1382.28 1539.37 Q1379.67 1536.5 1375.34 1536.5 Q1370.44 1536.5 1367.48 1539.27 Q1364.55 1542.04 1364.11 1547.07 L1384.99 1547.04 Z\" fill=\"#000000\" fill-rule=\"evenodd\" fill-opacity=\"1\" /><path clip-path=\"url(#clip570)\" d=\"M1421.11 1537.87 Q1420.12 1537.3 1418.95 1537.04 Q1417.8 1536.76 1416.4 1536.76 Q1411.43 1536.76 1408.76 1540 Q1406.12 1543.22 1406.12 1549.27 L1406.12 1568.04 L1400.23 1568.04 L1400.23 1532.4 L1406.12 1532.4 L1406.12 1537.93 Q1407.97 1534.69 1410.93 1533.13 Q1413.89 1531.54 1418.12 1531.54 Q1418.72 1531.54 1419.46 1531.63 Q1420.19 1531.7 1421.08 1531.85 L1421.11 1537.87 Z\" fill=\"#000000\" fill-rule=\"evenodd\" fill-opacity=\"1\" /><path clip-path=\"url(#clip570)\" d=\"M1449.57 1549.81 Q1449.57 1543.44 1446.92 1539.94 Q1444.31 1536.44 1439.57 1536.44 Q1434.86 1536.44 1432.22 1539.94 Q1429.61 1543.44 1429.61 1549.81 Q1429.61 1556.14 1432.22 1559.64 Q1434.86 1563.14 1439.57 1563.14 Q1444.31 1563.14 1446.92 1559.64 Q1449.57 1556.14 1449.57 1549.81 M1455.42 1563.62 Q1455.42 1572.72 1451.38 1577.15 Q1447.34 1581.6 1439 1581.6 Q1435.91 1581.6 1433.17 1581.13 Q1430.44 1580.68 1427.86 1579.72 L1427.86 1574.03 Q1430.44 1575.43 1432.95 1576.1 Q1435.47 1576.76 1438.08 1576.76 Q1443.84 1576.76 1446.7 1573.74 Q1449.57 1570.75 1449.57 1564.67 L1449.57 1561.77 Q1447.75 1564.92 1444.92 1566.48 Q1442.09 1568.04 1438.14 1568.04 Q1431.58 1568.04 1427.57 1563.05 Q1423.56 1558.05 1423.56 1549.81 Q1423.56 1541.53 1427.57 1536.53 Q1431.58 1531.54 1438.14 1531.54 Q1442.09 1531.54 1444.92 1533.1 Q1447.75 1534.66 1449.57 1537.81 L1449.57 1532.4 L1455.42 1532.4 L1455.42 1563.62 Z\" fill=\"#000000\" fill-rule=\"evenodd\" fill-opacity=\"1\" /><path clip-path=\"url(#clip570)\" d=\"M1464.52 1547.58 L1481.68 1547.58 L1481.68 1552.8 L1464.52 1552.8 L1464.52 1547.58 Z\" fill=\"#000000\" fill-rule=\"evenodd\" fill-opacity=\"1\" /><path clip-path=\"url(#clip570)\" d=\"M1491.26 1520.52 L1500.84 1520.52 L1512.97 1552.86 L1525.16 1520.52 L1534.74 1520.52 L1534.74 1568.04 L1528.47 1568.04 L1528.47 1526.32 L1516.21 1558.91 L1509.75 1558.91 L1497.5 1526.32 L1497.5 1568.04 L1491.26 1568.04 L1491.26 1520.52 Z\" fill=\"#000000\" fill-rule=\"evenodd\" fill-opacity=\"1\" /><path clip-path=\"url(#clip570)\" d=\"M1563.45 1550.12 Q1556.35 1550.12 1553.61 1551.75 Q1550.88 1553.37 1550.88 1557.29 Q1550.88 1560.4 1552.91 1562.25 Q1554.98 1564.07 1558.51 1564.07 Q1563.38 1564.07 1566.31 1560.63 Q1569.27 1557.16 1569.27 1551.43 L1569.27 1550.12 L1563.45 1550.12 M1575.13 1547.71 L1575.13 1568.04 L1569.27 1568.04 L1569.27 1562.63 Q1567.27 1565.88 1564.28 1567.44 Q1561.28 1568.97 1556.95 1568.97 Q1551.48 1568.97 1548.23 1565.91 Q1545.02 1562.82 1545.02 1557.67 Q1545.02 1551.65 1549.03 1548.6 Q1553.07 1545.54 1561.06 1545.54 L1569.27 1545.54 L1569.27 1544.97 Q1569.27 1540.93 1566.6 1538.73 Q1563.96 1536.5 1559.15 1536.5 Q1556.1 1536.5 1553.2 1537.23 Q1550.3 1537.97 1547.63 1539.43 L1547.63 1534.02 Q1550.84 1532.78 1553.87 1532.17 Q1556.89 1531.54 1559.76 1531.54 Q1567.49 1531.54 1571.31 1535.55 Q1575.13 1539.56 1575.13 1547.71 Z\" fill=\"#000000\" fill-rule=\"evenodd\" fill-opacity=\"1\" /><path clip-path=\"url(#clip570)\" d=\"M1607.85 1537.87 Q1606.86 1537.3 1605.68 1537.04 Q1604.54 1536.76 1603.14 1536.76 Q1598.17 1536.76 1595.5 1540 Q1592.86 1543.22 1592.86 1549.27 L1592.86 1568.04 L1586.97 1568.04 L1586.97 1532.4 L1592.86 1532.4 L1592.86 1537.93 Q1594.7 1534.69 1597.66 1533.13 Q1600.62 1531.54 1604.86 1531.54 Q1605.46 1531.54 1606.19 1531.63 Q1606.93 1531.7 1607.82 1531.85 L1607.85 1537.87 Z\" fill=\"#000000\" fill-rule=\"evenodd\" fill-opacity=\"1\" /><path clip-path=\"url(#clip570)\" d=\"M1616.35 1550.25 Q1616.35 1556.71 1618.99 1560.4 Q1621.66 1564.07 1626.31 1564.07 Q1630.96 1564.07 1633.63 1560.4 Q1636.3 1556.71 1636.3 1550.25 Q1636.3 1543.79 1633.63 1540.13 Q1630.96 1536.44 1626.31 1536.44 Q1621.66 1536.44 1618.99 1540.13 Q1616.35 1543.79 1616.35 1550.25 M1636.3 1562.7 Q1634.46 1565.88 1631.62 1567.44 Q1628.82 1568.97 1624.88 1568.97 Q1618.42 1568.97 1614.34 1563.81 Q1610.3 1558.65 1610.3 1550.25 Q1610.3 1541.85 1614.34 1536.69 Q1618.42 1531.54 1624.88 1531.54 Q1628.82 1531.54 1631.62 1533.1 Q1634.46 1534.62 1636.3 1537.81 L1636.3 1532.4 L1642.16 1532.4 L1642.16 1581.6 L1636.3 1581.6 L1636.3 1562.7 Z\" fill=\"#000000\" fill-rule=\"evenodd\" fill-opacity=\"1\" /><path clip-path=\"url(#clip570)\" d=\"M1653.62 1553.98 L1653.62 1532.4 L1659.47 1532.4 L1659.47 1553.75 Q1659.47 1558.81 1661.45 1561.36 Q1663.42 1563.87 1667.37 1563.87 Q1672.11 1563.87 1674.85 1560.85 Q1677.62 1557.83 1677.62 1552.61 L1677.62 1532.4 L1683.47 1532.4 L1683.47 1568.04 L1677.62 1568.04 L1677.62 1562.57 Q1675.48 1565.82 1672.65 1567.41 Q1669.85 1568.97 1666.13 1568.97 Q1659.98 1568.97 1656.8 1565.15 Q1653.62 1561.33 1653.62 1553.98 M1668.35 1531.54 L1668.35 1531.54 Z\" fill=\"#000000\" fill-rule=\"evenodd\" fill-opacity=\"1\" /><path clip-path=\"url(#clip570)\" d=\"M1711.74 1550.12 Q1704.64 1550.12 1701.9 1551.75 Q1699.16 1553.37 1699.16 1557.29 Q1699.16 1560.4 1701.2 1562.25 Q1703.27 1564.07 1706.8 1564.07 Q1711.67 1564.07 1714.6 1560.63 Q1717.56 1557.16 1717.56 1551.43 L1717.56 1550.12 L1711.74 1550.12 M1723.42 1547.71 L1723.42 1568.04 L1717.56 1568.04 L1717.56 1562.63 Q1715.56 1565.88 1712.56 1567.44 Q1709.57 1568.97 1705.24 1568.97 Q1699.77 1568.97 1696.52 1565.91 Q1693.31 1562.82 1693.31 1557.67 Q1693.31 1551.65 1697.32 1548.6 Q1701.36 1545.54 1709.35 1545.54 L1717.56 1545.54 L1717.56 1544.97 Q1717.56 1540.93 1714.89 1538.73 Q1712.25 1536.5 1707.44 1536.5 Q1704.38 1536.5 1701.49 1537.23 Q1698.59 1537.97 1695.92 1539.43 L1695.92 1534.02 Q1699.13 1532.78 1702.16 1532.17 Q1705.18 1531.54 1708.04 1531.54 Q1715.78 1531.54 1719.6 1535.55 Q1723.42 1539.56 1723.42 1547.71 Z\" fill=\"#000000\" fill-rule=\"evenodd\" fill-opacity=\"1\" /><path clip-path=\"url(#clip570)\" d=\"M1756.14 1537.87 Q1755.15 1537.3 1753.97 1537.04 Q1752.83 1536.76 1751.43 1536.76 Q1746.46 1536.76 1743.79 1540 Q1741.15 1543.22 1741.15 1549.27 L1741.15 1568.04 L1735.26 1568.04 L1735.26 1532.4 L1741.15 1532.4 L1741.15 1537.93 Q1742.99 1534.69 1745.95 1533.13 Q1748.91 1531.54 1753.15 1531.54 Q1753.75 1531.54 1754.48 1531.63 Q1755.21 1531.7 1756.11 1531.85 L1756.14 1537.87 Z\" fill=\"#000000\" fill-rule=\"evenodd\" fill-opacity=\"1\" /><path clip-path=\"url(#clip570)\" d=\"M1784.59 1537.81 L1784.59 1518.52 L1790.45 1518.52 L1790.45 1568.04 L1784.59 1568.04 L1784.59 1562.7 Q1782.75 1565.88 1779.91 1567.44 Q1777.11 1568.97 1773.17 1568.97 Q1766.7 1568.97 1762.63 1563.81 Q1758.59 1558.65 1758.59 1550.25 Q1758.59 1541.85 1762.63 1536.69 Q1766.7 1531.54 1773.17 1531.54 Q1777.11 1531.54 1779.91 1533.1 Q1782.75 1534.62 1784.59 1537.81 M1764.64 1550.25 Q1764.64 1556.71 1767.28 1560.4 Q1769.95 1564.07 1774.6 1564.07 Q1779.25 1564.07 1781.92 1560.4 Q1784.59 1556.71 1784.59 1550.25 Q1784.59 1543.79 1781.92 1540.13 Q1779.25 1536.44 1774.6 1536.44 Q1769.95 1536.44 1767.28 1540.13 Q1764.64 1543.79 1764.64 1550.25 Z\" fill=\"#000000\" fill-rule=\"evenodd\" fill-opacity=\"1\" /><path clip-path=\"url(#clip570)\" d=\"M1808.3 1522.27 L1808.3 1532.4 L1820.37 1532.4 L1820.37 1536.95 L1808.3 1536.95 L1808.3 1556.3 Q1808.3 1560.66 1809.48 1561.9 Q1810.69 1563.14 1814.35 1563.14 L1820.37 1563.14 L1820.37 1568.04 L1814.35 1568.04 Q1807.57 1568.04 1804.99 1565.53 Q1802.42 1562.98 1802.42 1556.3 L1802.42 1536.95 L1798.12 1536.95 L1798.12 1532.4 L1802.42 1532.4 L1802.42 1522.27 L1808.3 1522.27 Z\" fill=\"#000000\" fill-rule=\"evenodd\" fill-opacity=\"1\" /><path clip-path=\"url(#clip570)\" d=\"M1848.79 1532.4 L1854.65 1532.4 L1854.65 1568.04 L1848.79 1568.04 L1848.79 1532.4 M1848.79 1518.52 L1854.65 1518.52 L1854.65 1525.93 L1848.79 1525.93 L1848.79 1518.52 Z\" fill=\"#000000\" fill-rule=\"evenodd\" fill-opacity=\"1\" /><path clip-path=\"url(#clip570)\" d=\"M1872.69 1522.27 L1872.69 1532.4 L1884.76 1532.4 L1884.76 1536.95 L1872.69 1536.95 L1872.69 1556.3 Q1872.69 1560.66 1873.87 1561.9 Q1875.08 1563.14 1878.74 1563.14 L1884.76 1563.14 L1884.76 1568.04 L1878.74 1568.04 Q1871.96 1568.04 1869.38 1565.53 Q1866.81 1562.98 1866.81 1556.3 L1866.81 1536.95 L1862.51 1536.95 L1862.51 1532.4 L1866.81 1532.4 L1866.81 1522.27 L1872.69 1522.27 Z\" fill=\"#000000\" fill-rule=\"evenodd\" fill-opacity=\"1\" /><path clip-path=\"url(#clip570)\" d=\"M1922.95 1548.76 L1922.95 1551.62 L1896.02 1551.62 Q1896.41 1557.67 1899.65 1560.85 Q1902.93 1564 1908.76 1564 Q1912.13 1564 1915.28 1563.17 Q1918.46 1562.35 1921.58 1560.69 L1921.58 1566.23 Q1918.43 1567.57 1915.12 1568.27 Q1911.81 1568.97 1908.41 1568.97 Q1899.88 1568.97 1894.88 1564 Q1889.91 1559.04 1889.91 1550.57 Q1889.91 1541.82 1894.62 1536.69 Q1899.37 1531.54 1907.39 1531.54 Q1914.58 1531.54 1918.75 1536.18 Q1922.95 1540.8 1922.95 1548.76 M1917.09 1547.04 Q1917.03 1542.23 1914.39 1539.37 Q1911.78 1536.5 1907.45 1536.5 Q1902.55 1536.5 1899.59 1539.27 Q1896.66 1542.04 1896.22 1547.07 L1917.09 1547.04 Z\" fill=\"#000000\" fill-rule=\"evenodd\" fill-opacity=\"1\" /><path clip-path=\"url(#clip570)\" d=\"M1953.22 1537.87 Q1952.23 1537.3 1951.06 1537.04 Q1949.91 1536.76 1948.51 1536.76 Q1943.54 1536.76 1940.87 1540 Q1938.23 1543.22 1938.23 1549.27 L1938.23 1568.04 L1932.34 1568.04 L1932.34 1532.4 L1938.23 1532.4 L1938.23 1537.93 Q1940.07 1534.69 1943.03 1533.13 Q1946 1531.54 1950.23 1531.54 Q1950.83 1531.54 1951.57 1531.63 Q1952.3 1531.7 1953.19 1531.85 L1953.22 1537.87 Z\" fill=\"#000000\" fill-rule=\"evenodd\" fill-opacity=\"1\" /><path clip-path=\"url(#clip570)\" d=\"M1975.56 1550.12 Q1968.47 1550.12 1965.73 1551.75 Q1962.99 1553.37 1962.99 1557.29 Q1962.99 1560.4 1965.03 1562.25 Q1967.1 1564.07 1970.63 1564.07 Q1975.5 1564.07 1978.43 1560.63 Q1981.39 1557.16 1981.39 1551.43 L1981.39 1550.12 L1975.56 1550.12 M1987.24 1547.71 L1987.24 1568.04 L1981.39 1568.04 L1981.39 1562.63 Q1979.38 1565.88 1976.39 1567.44 Q1973.4 1568.97 1969.07 1568.97 Q1963.6 1568.97 1960.35 1565.91 Q1957.14 1562.82 1957.14 1557.67 Q1957.14 1551.65 1961.15 1548.6 Q1965.19 1545.54 1973.18 1545.54 L1981.39 1545.54 L1981.39 1544.97 Q1981.39 1540.93 1978.71 1538.73 Q1976.07 1536.5 1971.27 1536.5 Q1968.21 1536.5 1965.31 1537.23 Q1962.42 1537.97 1959.74 1539.43 L1959.74 1534.02 Q1962.96 1532.78 1965.98 1532.17 Q1969.01 1531.54 1971.87 1531.54 Q1979.61 1531.54 1983.43 1535.55 Q1987.24 1539.56 1987.24 1547.71 Z\" fill=\"#000000\" fill-rule=\"evenodd\" fill-opacity=\"1\" /><path clip-path=\"url(#clip570)\" d=\"M2005.1 1522.27 L2005.1 1532.4 L2017.16 1532.4 L2017.16 1536.95 L2005.1 1536.95 L2005.1 1556.3 Q2005.1 1560.66 2006.28 1561.9 Q2007.49 1563.14 2011.15 1563.14 L2017.16 1563.14 L2017.16 1568.04 L2011.15 1568.04 Q2004.37 1568.04 2001.79 1565.53 Q1999.21 1562.98 1999.21 1556.3 L1999.21 1536.95 L1994.92 1536.95 L1994.92 1532.4 L1999.21 1532.4 L1999.21 1522.27 L2005.1 1522.27 Z\" fill=\"#000000\" fill-rule=\"evenodd\" fill-opacity=\"1\" /><path clip-path=\"url(#clip570)\" d=\"M2024.87 1532.4 L2030.72 1532.4 L2030.72 1568.04 L2024.87 1568.04 L2024.87 1532.4 M2024.87 1518.52 L2030.72 1518.52 L2030.72 1525.93 L2024.87 1525.93 L2024.87 1518.52 Z\" fill=\"#000000\" fill-rule=\"evenodd\" fill-opacity=\"1\" /><path clip-path=\"url(#clip570)\" d=\"M2056.79 1536.5 Q2052.08 1536.5 2049.34 1540.19 Q2046.61 1543.85 2046.61 1550.25 Q2046.61 1556.65 2049.31 1560.34 Q2052.05 1564 2056.79 1564 Q2061.47 1564 2064.21 1560.31 Q2066.94 1556.62 2066.94 1550.25 Q2066.94 1543.92 2064.21 1540.23 Q2061.47 1536.5 2056.79 1536.5 M2056.79 1531.54 Q2064.43 1531.54 2068.79 1536.5 Q2073.15 1541.47 2073.15 1550.25 Q2073.15 1559 2068.79 1564 Q2064.43 1568.97 2056.79 1568.97 Q2049.12 1568.97 2044.76 1564 Q2040.43 1559 2040.43 1550.25 Q2040.43 1541.47 2044.76 1536.5 Q2049.12 1531.54 2056.79 1531.54 Z\" fill=\"#000000\" fill-rule=\"evenodd\" fill-opacity=\"1\" /><path clip-path=\"url(#clip570)\" d=\"M2112.49 1546.53 L2112.49 1568.04 L2106.63 1568.04 L2106.63 1546.72 Q2106.63 1541.66 2104.66 1539.14 Q2102.69 1536.63 2098.74 1536.63 Q2094 1536.63 2091.26 1539.65 Q2088.52 1542.68 2088.52 1547.9 L2088.52 1568.04 L2082.63 1568.04 L2082.63 1532.4 L2088.52 1532.4 L2088.52 1537.93 Q2090.62 1534.72 2093.46 1533.13 Q2096.32 1531.54 2100.05 1531.54 Q2106.19 1531.54 2109.34 1535.36 Q2112.49 1539.14 2112.49 1546.53 Z\" fill=\"#000000\" fill-rule=\"evenodd\" fill-opacity=\"1\" /><path clip-path=\"url(#clip570)\" d=\"M2146.9 1533.45 L2146.9 1538.98 Q2144.41 1537.71 2141.74 1537.07 Q2139.07 1536.44 2136.2 1536.44 Q2131.84 1536.44 2129.65 1537.77 Q2127.48 1539.11 2127.48 1541.79 Q2127.48 1543.82 2129.04 1545 Q2130.6 1546.15 2135.31 1547.2 L2137.32 1547.64 Q2143.55 1548.98 2146.16 1551.43 Q2148.81 1553.85 2148.81 1558.21 Q2148.81 1563.17 2144.86 1566.07 Q2140.94 1568.97 2134.07 1568.97 Q2131.21 1568.97 2128.09 1568.39 Q2125 1567.85 2121.56 1566.74 L2121.56 1560.69 Q2124.81 1562.38 2127.96 1563.24 Q2131.11 1564.07 2134.2 1564.07 Q2138.33 1564.07 2140.56 1562.66 Q2142.79 1561.23 2142.79 1558.65 Q2142.79 1556.27 2141.17 1554.99 Q2139.58 1553.72 2134.13 1552.54 L2132.1 1552.07 Q2126.65 1550.92 2124.23 1548.56 Q2121.82 1546.18 2121.82 1542.04 Q2121.82 1537.01 2125.38 1534.27 Q2128.95 1531.54 2135.5 1531.54 Q2138.75 1531.54 2141.61 1532.01 Q2144.48 1532.49 2146.9 1533.45 Z\" fill=\"#000000\" fill-rule=\"evenodd\" fill-opacity=\"1\" /><polyline clip-path=\"url(#clip572)\" style=\"stroke:#000000; stroke-linecap:butt; stroke-linejoin:round; stroke-width:2; stroke-opacity:0.1; fill:none\" points=\"\n",
       "  175.445,1384.37 2352.76,1384.37 \n",
       "  \"/>\n",
       "<polyline clip-path=\"url(#clip572)\" style=\"stroke:#000000; stroke-linecap:butt; stroke-linejoin:round; stroke-width:2; stroke-opacity:0.1; fill:none\" points=\"\n",
       "  175.445,1071.32 2352.76,1071.32 \n",
       "  \"/>\n",
       "<polyline clip-path=\"url(#clip572)\" style=\"stroke:#000000; stroke-linecap:butt; stroke-linejoin:round; stroke-width:2; stroke-opacity:0.1; fill:none\" points=\"\n",
       "  175.445,758.273 2352.76,758.273 \n",
       "  \"/>\n",
       "<polyline clip-path=\"url(#clip572)\" style=\"stroke:#000000; stroke-linecap:butt; stroke-linejoin:round; stroke-width:2; stroke-opacity:0.1; fill:none\" points=\"\n",
       "  175.445,445.224 2352.76,445.224 \n",
       "  \"/>\n",
       "<polyline clip-path=\"url(#clip572)\" style=\"stroke:#000000; stroke-linecap:butt; stroke-linejoin:round; stroke-width:2; stroke-opacity:0.1; fill:none\" points=\"\n",
       "  175.445,132.175 2352.76,132.175 \n",
       "  \"/>\n",
       "<polyline clip-path=\"url(#clip570)\" style=\"stroke:#000000; stroke-linecap:butt; stroke-linejoin:round; stroke-width:4; stroke-opacity:1; fill:none\" points=\"\n",
       "  175.445,1423.18 175.445,47.2441 \n",
       "  \"/>\n",
       "<polyline clip-path=\"url(#clip570)\" style=\"stroke:#000000; stroke-linecap:butt; stroke-linejoin:round; stroke-width:4; stroke-opacity:1; fill:none\" points=\"\n",
       "  175.445,1384.37 194.343,1384.37 \n",
       "  \"/>\n",
       "<polyline clip-path=\"url(#clip570)\" style=\"stroke:#000000; stroke-linecap:butt; stroke-linejoin:round; stroke-width:4; stroke-opacity:1; fill:none\" points=\"\n",
       "  175.445,1071.32 194.343,1071.32 \n",
       "  \"/>\n",
       "<polyline clip-path=\"url(#clip570)\" style=\"stroke:#000000; stroke-linecap:butt; stroke-linejoin:round; stroke-width:4; stroke-opacity:1; fill:none\" points=\"\n",
       "  175.445,758.273 194.343,758.273 \n",
       "  \"/>\n",
       "<polyline clip-path=\"url(#clip570)\" style=\"stroke:#000000; stroke-linecap:butt; stroke-linejoin:round; stroke-width:4; stroke-opacity:1; fill:none\" points=\"\n",
       "  175.445,445.224 194.343,445.224 \n",
       "  \"/>\n",
       "<polyline clip-path=\"url(#clip570)\" style=\"stroke:#000000; stroke-linecap:butt; stroke-linejoin:round; stroke-width:4; stroke-opacity:1; fill:none\" points=\"\n",
       "  175.445,132.175 194.343,132.175 \n",
       "  \"/>\n",
       "<path clip-path=\"url(#clip570)\" d=\"M127.501 1370.17 Q123.89 1370.17 122.061 1373.74 Q120.255 1377.28 120.255 1384.41 Q120.255 1391.51 122.061 1395.08 Q123.89 1398.62 127.501 1398.62 Q131.135 1398.62 132.941 1395.08 Q134.769 1391.51 134.769 1384.41 Q134.769 1377.28 132.941 1373.74 Q131.135 1370.17 127.501 1370.17 M127.501 1366.47 Q133.311 1366.47 136.367 1371.07 Q139.445 1375.66 139.445 1384.41 Q139.445 1393.13 136.367 1397.74 Q133.311 1402.32 127.501 1402.32 Q121.691 1402.32 118.612 1397.74 Q115.556 1393.13 115.556 1384.41 Q115.556 1375.66 118.612 1371.07 Q121.691 1366.47 127.501 1366.47 Z\" fill=\"#000000\" fill-rule=\"evenodd\" fill-opacity=\"1\" /><path clip-path=\"url(#clip570)\" d=\"M123.126 1084.67 L139.445 1084.67 L139.445 1088.6 L117.501 1088.6 L117.501 1084.67 Q120.163 1081.91 124.746 1077.28 Q129.353 1072.63 130.533 1071.29 Q132.779 1068.76 133.658 1067.03 Q134.561 1065.27 134.561 1063.58 Q134.561 1060.82 132.617 1059.09 Q130.695 1057.35 127.593 1057.35 Q125.394 1057.35 122.941 1058.12 Q120.51 1058.88 117.732 1060.43 L117.732 1055.71 Q120.556 1054.57 123.01 1054 Q125.464 1053.42 127.501 1053.42 Q132.871 1053.42 136.066 1056.1 Q139.26 1058.79 139.26 1063.28 Q139.26 1065.41 138.45 1067.33 Q137.663 1069.23 135.556 1071.82 Q134.978 1072.49 131.876 1075.71 Q128.774 1078.9 123.126 1084.67 Z\" fill=\"#000000\" fill-rule=\"evenodd\" fill-opacity=\"1\" /><path clip-path=\"url(#clip570)\" d=\"M129.862 745.067 L118.056 763.516 L129.862 763.516 L129.862 745.067 M128.635 740.993 L134.515 740.993 L134.515 763.516 L139.445 763.516 L139.445 767.405 L134.515 767.405 L134.515 775.553 L129.862 775.553 L129.862 767.405 L114.26 767.405 L114.26 762.891 L128.635 740.993 Z\" fill=\"#000000\" fill-rule=\"evenodd\" fill-opacity=\"1\" /><path clip-path=\"url(#clip570)\" d=\"M127.917 443.361 Q124.769 443.361 122.918 445.514 Q121.089 447.666 121.089 451.416 Q121.089 455.143 122.918 457.319 Q124.769 459.472 127.917 459.472 Q131.066 459.472 132.894 457.319 Q134.746 455.143 134.746 451.416 Q134.746 447.666 132.894 445.514 Q131.066 443.361 127.917 443.361 M137.2 428.708 L137.2 432.967 Q135.441 432.134 133.635 431.694 Q131.853 431.254 130.093 431.254 Q125.464 431.254 123.01 434.379 Q120.58 437.504 120.232 443.824 Q121.598 441.81 123.658 440.745 Q125.718 439.657 128.195 439.657 Q133.404 439.657 136.413 442.828 Q139.445 445.977 139.445 451.416 Q139.445 456.74 136.297 459.958 Q133.149 463.176 127.917 463.176 Q121.922 463.176 118.751 458.592 Q115.58 453.986 115.58 445.259 Q115.58 437.065 119.468 432.203 Q123.357 427.319 129.908 427.319 Q131.667 427.319 133.45 427.666 Q135.255 428.014 137.2 428.708 Z\" fill=\"#000000\" fill-rule=\"evenodd\" fill-opacity=\"1\" /><path clip-path=\"url(#clip570)\" d=\"M127.593 133.043 Q124.26 133.043 122.339 134.826 Q120.441 136.608 120.441 139.733 Q120.441 142.858 122.339 144.64 Q124.26 146.423 127.593 146.423 Q130.927 146.423 132.848 144.64 Q134.769 142.835 134.769 139.733 Q134.769 136.608 132.848 134.826 Q130.95 133.043 127.593 133.043 M122.918 131.052 Q119.908 130.312 118.218 128.252 Q116.552 126.191 116.552 123.228 Q116.552 119.085 119.492 116.677 Q122.455 114.27 127.593 114.27 Q132.755 114.27 135.695 116.677 Q138.635 119.085 138.635 123.228 Q138.635 126.191 136.945 128.252 Q135.279 130.312 132.292 131.052 Q135.672 131.839 137.547 134.131 Q139.445 136.423 139.445 139.733 Q139.445 144.756 136.367 147.441 Q133.311 150.126 127.593 150.126 Q121.876 150.126 118.797 147.441 Q115.742 144.756 115.742 139.733 Q115.742 136.423 117.64 134.131 Q119.538 131.839 122.918 131.052 M121.205 123.668 Q121.205 126.353 122.871 127.858 Q124.561 129.363 127.593 129.363 Q130.603 129.363 132.292 127.858 Q134.005 126.353 134.005 123.668 Q134.005 120.983 132.292 119.478 Q130.603 117.974 127.593 117.974 Q124.561 117.974 122.871 119.478 Q121.205 120.983 121.205 123.668 Z\" fill=\"#000000\" fill-rule=\"evenodd\" fill-opacity=\"1\" /><path clip-path=\"url(#clip570)\" d=\"M41.7242 844.066 Q42.4244 841.997 44.7161 840.055 Q47.0077 838.082 51.0181 836.108 L64.0042 829.584 L64.0042 836.49 L51.8138 842.57 Q47.0395 844.925 45.48 847.153 Q43.9204 849.349 43.9204 853.169 L43.9204 860.171 L64.0042 860.171 L64.0042 866.6 L16.4842 866.6 L16.4842 852.086 Q16.4842 843.938 19.8898 839.928 Q23.2955 835.917 30.1704 835.917 Q34.6582 835.917 37.6183 838.018 Q40.5784 840.087 41.7242 844.066 M21.7677 860.171 L38.6368 860.171 L38.6368 852.086 Q38.6368 847.439 36.5043 845.084 Q34.34 842.697 30.1704 842.697 Q26.0009 842.697 23.9002 845.084 Q21.7677 847.439 21.7677 852.086 L21.7677 860.171 Z\" fill=\"#000000\" fill-rule=\"evenodd\" fill-opacity=\"1\" /><path clip-path=\"url(#clip570)\" d=\"M44.7161 793.999 L47.5806 793.999 L47.5806 820.926 Q53.6281 820.544 56.8109 817.298 Q59.9619 814.019 59.9619 808.195 Q59.9619 804.821 59.1344 801.67 Q58.3069 798.487 56.6518 795.368 L62.1899 795.368 Q63.5267 798.519 64.227 801.829 Q64.9272 805.139 64.9272 808.545 Q64.9272 817.075 59.9619 822.072 Q54.9967 827.037 46.5303 827.037 Q37.7774 827.037 32.6531 822.327 Q27.4968 817.584 27.4968 809.563 Q27.4968 802.37 32.1438 798.201 Q36.7589 793.999 44.7161 793.999 M42.9973 799.856 Q38.1912 799.919 35.3266 802.561 Q32.4621 805.171 32.4621 809.5 Q32.4621 814.401 35.2312 817.361 Q38.0002 820.29 43.0292 820.735 L42.9973 799.856 Z\" fill=\"#000000\" fill-rule=\"evenodd\" fill-opacity=\"1\" /><path clip-path=\"url(#clip570)\" d=\"M29.4065 761.661 L34.9447 761.661 Q33.6716 764.144 33.035 766.818 Q32.3984 769.491 32.3984 772.356 Q32.3984 776.716 33.7352 778.913 Q35.072 781.077 37.7456 781.077 Q39.7826 781.077 40.9603 779.517 Q42.1061 777.958 43.1565 773.247 L43.6021 771.242 Q44.9389 765.003 47.3897 762.394 Q49.8086 759.752 54.1691 759.752 Q59.1344 759.752 62.0308 763.699 Q64.9272 767.613 64.9272 774.488 Q64.9272 777.353 64.3543 780.472 Q63.8132 783.56 62.6992 786.997 L56.6518 786.997 Q58.3387 783.75 59.198 780.599 Q60.0256 777.448 60.0256 774.361 Q60.0256 770.223 58.6251 767.995 Q57.1929 765.767 54.6147 765.767 Q52.2276 765.767 50.9545 767.391 Q49.6813 768.982 48.5037 774.425 L48.0262 776.462 Q46.8804 781.904 44.5251 784.323 Q42.138 786.742 38.0002 786.742 Q32.9713 786.742 30.2341 783.178 Q27.4968 779.613 27.4968 773.056 Q27.4968 769.81 27.9743 766.945 Q28.4517 764.08 29.4065 761.661 Z\" fill=\"#000000\" fill-rule=\"evenodd\" fill-opacity=\"1\" /><path clip-path=\"url(#clip570)\" d=\"M28.3562 750.426 L28.3562 744.57 L64.0042 744.57 L64.0042 750.426 L28.3562 750.426 M14.479 750.426 L14.479 744.57 L21.895 744.57 L21.895 750.426 L14.479 750.426 Z\" fill=\"#000000\" fill-rule=\"evenodd\" fill-opacity=\"1\" /><path clip-path=\"url(#clip570)\" d=\"M33.7671 708.858 L14.479 708.858 L14.479 703.001 L64.0042 703.001 L64.0042 708.858 L58.657 708.858 Q61.8398 710.704 63.3994 713.537 Q64.9272 716.338 64.9272 720.284 Q64.9272 726.746 59.771 730.82 Q54.6147 734.862 46.212 734.862 Q37.8093 734.862 32.6531 730.82 Q27.4968 726.746 27.4968 720.284 Q27.4968 716.338 29.0564 713.537 Q30.5842 710.704 33.7671 708.858 M46.212 728.814 Q52.6732 728.814 56.3653 726.173 Q60.0256 723.499 60.0256 718.852 Q60.0256 714.205 56.3653 711.532 Q52.6732 708.858 46.212 708.858 Q39.7508 708.858 36.0905 711.532 Q32.3984 714.205 32.3984 718.852 Q32.3984 723.499 36.0905 726.173 Q39.7508 728.814 46.212 728.814 Z\" fill=\"#000000\" fill-rule=\"evenodd\" fill-opacity=\"1\" /><path clip-path=\"url(#clip570)\" d=\"M49.9359 691.543 L28.3562 691.543 L28.3562 685.687 L49.7131 685.687 Q54.7739 685.687 57.3202 683.713 Q59.8346 681.74 59.8346 677.793 Q59.8346 673.051 56.8109 670.314 Q53.7872 667.545 48.5673 667.545 L28.3562 667.545 L28.3562 661.688 L64.0042 661.688 L64.0042 667.545 L58.5296 667.545 Q61.7762 669.677 63.3676 672.51 Q64.9272 675.311 64.9272 679.035 Q64.9272 685.178 61.1078 688.36 Q57.2883 691.543 49.9359 691.543 M27.4968 676.807 L27.4968 676.807 Z\" fill=\"#000000\" fill-rule=\"evenodd\" fill-opacity=\"1\" /><path clip-path=\"url(#clip570)\" d=\"M46.0847 633.424 Q46.0847 640.522 47.7079 643.259 Q49.3312 645.997 53.2461 645.997 Q56.3653 645.997 58.2114 643.96 Q60.0256 641.891 60.0256 638.358 Q60.0256 633.488 56.5881 630.56 Q53.1188 627.6 47.3897 627.6 L46.0847 627.6 L46.0847 633.424 M43.6657 621.743 L64.0042 621.743 L64.0042 627.6 L58.5933 627.6 Q61.8398 629.605 63.3994 632.597 Q64.9272 635.589 64.9272 639.917 Q64.9272 645.392 61.8716 648.638 Q58.7843 651.853 53.6281 651.853 Q47.6125 651.853 44.5569 647.843 Q41.5014 643.8 41.5014 635.811 L41.5014 627.6 L40.9285 627.6 Q36.8862 627.6 34.6901 630.273 Q32.4621 632.915 32.4621 637.721 Q32.4621 640.777 33.1941 643.673 Q33.9262 646.57 35.3903 649.243 L29.9795 649.243 Q28.7381 646.028 28.1334 643.005 Q27.4968 639.981 27.4968 637.116 Q27.4968 629.382 31.5072 625.563 Q35.5176 621.743 43.6657 621.743 Z\" fill=\"#000000\" fill-rule=\"evenodd\" fill-opacity=\"1\" /><path clip-path=\"url(#clip570)\" d=\"M14.479 609.68 L14.479 603.824 L64.0042 603.824 L64.0042 609.68 L14.479 609.68 Z\" fill=\"#000000\" fill-rule=\"evenodd\" fill-opacity=\"1\" /><polyline clip-path=\"url(#clip572)\" style=\"stroke:#009af9; stroke-linecap:butt; stroke-linejoin:round; stroke-width:4; stroke-opacity:1; fill:none\" points=\"\n",
       "  237.067,1384.24 357.895,1384.08 478.722,1384.1 599.55,1382.25 720.377,1383.85 841.204,1383.48 962.032,1382.94 1082.86,1381.56 1203.69,1381.36 1324.51,1383.39 \n",
       "  1445.34,1381.98 1566.17,1381.71 1687,1383.34 1807.82,1382.99 1928.65,1383.9 2049.48,1384.2 2170.31,1383.78 2291.13,1383.99 \n",
       "  \"/>\n",
       "<circle clip-path=\"url(#clip572)\" cx=\"237.067\" cy=\"1384.24\" r=\"14\" fill=\"#009af9\" fill-rule=\"evenodd\" fill-opacity=\"1\" stroke=\"#000000\" stroke-opacity=\"1\" stroke-width=\"3.2\"/>\n",
       "<circle clip-path=\"url(#clip572)\" cx=\"357.895\" cy=\"1384.08\" r=\"14\" fill=\"#009af9\" fill-rule=\"evenodd\" fill-opacity=\"1\" stroke=\"#000000\" stroke-opacity=\"1\" stroke-width=\"3.2\"/>\n",
       "<circle clip-path=\"url(#clip572)\" cx=\"478.722\" cy=\"1384.1\" r=\"14\" fill=\"#009af9\" fill-rule=\"evenodd\" fill-opacity=\"1\" stroke=\"#000000\" stroke-opacity=\"1\" stroke-width=\"3.2\"/>\n",
       "<circle clip-path=\"url(#clip572)\" cx=\"599.55\" cy=\"1382.25\" r=\"14\" fill=\"#009af9\" fill-rule=\"evenodd\" fill-opacity=\"1\" stroke=\"#000000\" stroke-opacity=\"1\" stroke-width=\"3.2\"/>\n",
       "<circle clip-path=\"url(#clip572)\" cx=\"720.377\" cy=\"1383.85\" r=\"14\" fill=\"#009af9\" fill-rule=\"evenodd\" fill-opacity=\"1\" stroke=\"#000000\" stroke-opacity=\"1\" stroke-width=\"3.2\"/>\n",
       "<circle clip-path=\"url(#clip572)\" cx=\"841.204\" cy=\"1383.48\" r=\"14\" fill=\"#009af9\" fill-rule=\"evenodd\" fill-opacity=\"1\" stroke=\"#000000\" stroke-opacity=\"1\" stroke-width=\"3.2\"/>\n",
       "<circle clip-path=\"url(#clip572)\" cx=\"962.032\" cy=\"1382.94\" r=\"14\" fill=\"#009af9\" fill-rule=\"evenodd\" fill-opacity=\"1\" stroke=\"#000000\" stroke-opacity=\"1\" stroke-width=\"3.2\"/>\n",
       "<circle clip-path=\"url(#clip572)\" cx=\"1082.86\" cy=\"1381.56\" r=\"14\" fill=\"#009af9\" fill-rule=\"evenodd\" fill-opacity=\"1\" stroke=\"#000000\" stroke-opacity=\"1\" stroke-width=\"3.2\"/>\n",
       "<circle clip-path=\"url(#clip572)\" cx=\"1203.69\" cy=\"1381.36\" r=\"14\" fill=\"#009af9\" fill-rule=\"evenodd\" fill-opacity=\"1\" stroke=\"#000000\" stroke-opacity=\"1\" stroke-width=\"3.2\"/>\n",
       "<circle clip-path=\"url(#clip572)\" cx=\"1324.51\" cy=\"1383.39\" r=\"14\" fill=\"#009af9\" fill-rule=\"evenodd\" fill-opacity=\"1\" stroke=\"#000000\" stroke-opacity=\"1\" stroke-width=\"3.2\"/>\n",
       "<circle clip-path=\"url(#clip572)\" cx=\"1445.34\" cy=\"1381.98\" r=\"14\" fill=\"#009af9\" fill-rule=\"evenodd\" fill-opacity=\"1\" stroke=\"#000000\" stroke-opacity=\"1\" stroke-width=\"3.2\"/>\n",
       "<circle clip-path=\"url(#clip572)\" cx=\"1566.17\" cy=\"1381.71\" r=\"14\" fill=\"#009af9\" fill-rule=\"evenodd\" fill-opacity=\"1\" stroke=\"#000000\" stroke-opacity=\"1\" stroke-width=\"3.2\"/>\n",
       "<circle clip-path=\"url(#clip572)\" cx=\"1687\" cy=\"1383.34\" r=\"14\" fill=\"#009af9\" fill-rule=\"evenodd\" fill-opacity=\"1\" stroke=\"#000000\" stroke-opacity=\"1\" stroke-width=\"3.2\"/>\n",
       "<circle clip-path=\"url(#clip572)\" cx=\"1807.82\" cy=\"1382.99\" r=\"14\" fill=\"#009af9\" fill-rule=\"evenodd\" fill-opacity=\"1\" stroke=\"#000000\" stroke-opacity=\"1\" stroke-width=\"3.2\"/>\n",
       "<circle clip-path=\"url(#clip572)\" cx=\"1928.65\" cy=\"1383.9\" r=\"14\" fill=\"#009af9\" fill-rule=\"evenodd\" fill-opacity=\"1\" stroke=\"#000000\" stroke-opacity=\"1\" stroke-width=\"3.2\"/>\n",
       "<circle clip-path=\"url(#clip572)\" cx=\"2049.48\" cy=\"1384.2\" r=\"14\" fill=\"#009af9\" fill-rule=\"evenodd\" fill-opacity=\"1\" stroke=\"#000000\" stroke-opacity=\"1\" stroke-width=\"3.2\"/>\n",
       "<circle clip-path=\"url(#clip572)\" cx=\"2170.31\" cy=\"1383.78\" r=\"14\" fill=\"#009af9\" fill-rule=\"evenodd\" fill-opacity=\"1\" stroke=\"#000000\" stroke-opacity=\"1\" stroke-width=\"3.2\"/>\n",
       "<circle clip-path=\"url(#clip572)\" cx=\"2291.13\" cy=\"1383.99\" r=\"14\" fill=\"#009af9\" fill-rule=\"evenodd\" fill-opacity=\"1\" stroke=\"#000000\" stroke-opacity=\"1\" stroke-width=\"3.2\"/>\n",
       "<polyline clip-path=\"url(#clip572)\" style=\"stroke:#e26f46; stroke-linecap:butt; stroke-linejoin:round; stroke-width:4; stroke-opacity:1; fill:none\" points=\"\n",
       "  237.067,86.1857 357.895,1154.42 478.722,1337.51 599.55,1379.25 720.377,1383.99 841.204,1384.19 \n",
       "  \"/>\n",
       "<circle clip-path=\"url(#clip572)\" cx=\"237.067\" cy=\"86.1857\" r=\"14\" fill=\"#e26f46\" fill-rule=\"evenodd\" fill-opacity=\"1\" stroke=\"#000000\" stroke-opacity=\"1\" stroke-width=\"3.2\"/>\n",
       "<circle clip-path=\"url(#clip572)\" cx=\"357.895\" cy=\"1154.42\" r=\"14\" fill=\"#e26f46\" fill-rule=\"evenodd\" fill-opacity=\"1\" stroke=\"#000000\" stroke-opacity=\"1\" stroke-width=\"3.2\"/>\n",
       "<circle clip-path=\"url(#clip572)\" cx=\"478.722\" cy=\"1337.51\" r=\"14\" fill=\"#e26f46\" fill-rule=\"evenodd\" fill-opacity=\"1\" stroke=\"#000000\" stroke-opacity=\"1\" stroke-width=\"3.2\"/>\n",
       "<circle clip-path=\"url(#clip572)\" cx=\"599.55\" cy=\"1379.25\" r=\"14\" fill=\"#e26f46\" fill-rule=\"evenodd\" fill-opacity=\"1\" stroke=\"#000000\" stroke-opacity=\"1\" stroke-width=\"3.2\"/>\n",
       "<circle clip-path=\"url(#clip572)\" cx=\"720.377\" cy=\"1383.99\" r=\"14\" fill=\"#e26f46\" fill-rule=\"evenodd\" fill-opacity=\"1\" stroke=\"#000000\" stroke-opacity=\"1\" stroke-width=\"3.2\"/>\n",
       "<circle clip-path=\"url(#clip572)\" cx=\"841.204\" cy=\"1384.19\" r=\"14\" fill=\"#e26f46\" fill-rule=\"evenodd\" fill-opacity=\"1\" stroke=\"#000000\" stroke-opacity=\"1\" stroke-width=\"3.2\"/>\n",
       "<path clip-path=\"url(#clip570)\" d=\"\n",
       "M1293.26 248.629 L2280.18 248.629 L2280.18 93.1086 L1293.26 93.1086  Z\n",
       "  \" fill=\"#ffffff\" fill-rule=\"evenodd\" fill-opacity=\"1\"/>\n",
       "<polyline clip-path=\"url(#clip570)\" style=\"stroke:#000000; stroke-linecap:butt; stroke-linejoin:round; stroke-width:4; stroke-opacity:1; fill:none\" points=\"\n",
       "  1293.26,248.629 2280.18,248.629 2280.18,93.1086 1293.26,93.1086 1293.26,248.629 \n",
       "  \"/>\n",
       "<polyline clip-path=\"url(#clip570)\" style=\"stroke:#009af9; stroke-linecap:butt; stroke-linejoin:round; stroke-width:4; stroke-opacity:1; fill:none\" points=\"\n",
       "  1317.45,144.949 1462.61,144.949 \n",
       "  \"/>\n",
       "<circle clip-path=\"url(#clip570)\" cx=\"1390.03\" cy=\"144.949\" r=\"23\" fill=\"#009af9\" fill-rule=\"evenodd\" fill-opacity=\"1\" stroke=\"#000000\" stroke-opacity=\"1\" stroke-width=\"5.12\"/>\n",
       "<path clip-path=\"url(#clip570)\" d=\"M1491.08 158.34 L1491.08 172.09 L1486.8 172.09 L1486.8 136.303 L1491.08 136.303 L1491.08 140.238 Q1492.42 137.923 1494.46 136.812 Q1496.52 135.678 1499.37 135.678 Q1504.09 135.678 1507.03 139.428 Q1509.99 143.178 1509.99 149.289 Q1509.99 155.4 1507.03 159.15 Q1504.09 162.9 1499.37 162.9 Q1496.52 162.9 1494.46 161.789 Q1492.42 160.655 1491.08 158.34 M1505.57 149.289 Q1505.57 144.59 1503.63 141.928 Q1501.71 139.243 1498.33 139.243 Q1494.95 139.243 1493 141.928 Q1491.08 144.59 1491.08 149.289 Q1491.08 153.988 1493 156.673 Q1494.95 159.335 1498.33 159.335 Q1501.71 159.335 1503.63 156.673 Q1505.57 153.988 1505.57 149.289 Z\" fill=\"#000000\" fill-rule=\"evenodd\" fill-opacity=\"1\" /><path clip-path=\"url(#clip570)\" d=\"M1539.23 148.201 L1539.23 150.284 L1519.65 150.284 Q1519.92 154.682 1522.28 156.997 Q1524.67 159.289 1528.9 159.289 Q1531.36 159.289 1533.65 158.687 Q1535.96 158.085 1538.23 156.881 L1538.23 160.909 Q1535.94 161.881 1533.53 162.391 Q1531.13 162.9 1528.65 162.9 Q1522.45 162.9 1518.81 159.289 Q1515.2 155.678 1515.2 149.52 Q1515.2 143.155 1518.63 139.428 Q1522.08 135.678 1527.91 135.678 Q1533.14 135.678 1536.17 139.057 Q1539.23 142.414 1539.23 148.201 M1534.97 146.951 Q1534.92 143.456 1533 141.372 Q1531.1 139.289 1527.96 139.289 Q1524.39 139.289 1522.24 141.303 Q1520.11 143.317 1519.78 146.974 L1534.97 146.951 Z\" fill=\"#000000\" fill-rule=\"evenodd\" fill-opacity=\"1\" /><path clip-path=\"url(#clip570)\" d=\"M1567.77 146.581 L1567.77 162.229 L1563.51 162.229 L1563.51 146.719 Q1563.51 143.039 1562.08 141.21 Q1560.64 139.382 1557.77 139.382 Q1554.32 139.382 1552.33 141.581 Q1550.34 143.78 1550.34 147.576 L1550.34 162.229 L1546.06 162.229 L1546.06 136.303 L1550.34 136.303 L1550.34 140.331 Q1551.87 137.993 1553.93 136.835 Q1556.01 135.678 1558.72 135.678 Q1563.19 135.678 1565.48 138.456 Q1567.77 141.21 1567.77 146.581 Z\" fill=\"#000000\" fill-rule=\"evenodd\" fill-opacity=\"1\" /><path clip-path=\"url(#clip570)\" d=\"M1588.05 149.196 Q1582.89 149.196 1580.89 150.377 Q1578.9 151.557 1578.9 154.405 Q1578.9 156.673 1580.39 158.016 Q1581.89 159.335 1584.46 159.335 Q1588 159.335 1590.13 156.835 Q1592.28 154.312 1592.28 150.145 L1592.28 149.196 L1588.05 149.196 M1596.54 147.437 L1596.54 162.229 L1592.28 162.229 L1592.28 158.293 Q1590.83 160.655 1588.65 161.789 Q1586.47 162.9 1583.33 162.9 Q1579.34 162.9 1576.98 160.678 Q1574.64 158.432 1574.64 154.682 Q1574.64 150.307 1577.56 148.085 Q1580.5 145.863 1586.31 145.863 L1592.28 145.863 L1592.28 145.446 Q1592.28 142.507 1590.34 140.909 Q1588.42 139.289 1584.92 139.289 Q1582.7 139.289 1580.59 139.821 Q1578.49 140.354 1576.54 141.419 L1576.54 137.483 Q1578.88 136.581 1581.08 136.141 Q1583.28 135.678 1585.36 135.678 Q1590.99 135.678 1593.77 138.594 Q1596.54 141.511 1596.54 147.437 Z\" fill=\"#000000\" fill-rule=\"evenodd\" fill-opacity=\"1\" /><path clip-path=\"url(#clip570)\" d=\"M1605.32 126.21 L1609.58 126.21 L1609.58 162.229 L1605.32 162.229 L1605.32 126.21 Z\" fill=\"#000000\" fill-rule=\"evenodd\" fill-opacity=\"1\" /><path clip-path=\"url(#clip570)\" d=\"M1622.7 128.942 L1622.7 136.303 L1631.47 136.303 L1631.47 139.613 L1622.7 139.613 L1622.7 153.687 Q1622.7 156.858 1623.56 157.761 Q1624.44 158.664 1627.1 158.664 L1631.47 158.664 L1631.47 162.229 L1627.1 162.229 Q1622.17 162.229 1620.29 160.4 Q1618.42 158.548 1618.42 153.687 L1618.42 139.613 L1615.29 139.613 L1615.29 136.303 L1618.42 136.303 L1618.42 128.942 L1622.7 128.942 Z\" fill=\"#000000\" fill-rule=\"evenodd\" fill-opacity=\"1\" /><path clip-path=\"url(#clip570)\" d=\"M1647.86 164.636 Q1646.06 169.266 1644.34 170.678 Q1642.63 172.09 1639.76 172.09 L1636.36 172.09 L1636.36 168.525 L1638.86 168.525 Q1640.62 168.525 1641.59 167.692 Q1642.56 166.858 1643.74 163.756 L1644.51 161.812 L1634.02 136.303 L1638.53 136.303 L1646.64 156.581 L1654.74 136.303 L1659.25 136.303 L1647.86 164.636 Z\" fill=\"#000000\" fill-rule=\"evenodd\" fill-opacity=\"1\" /><path clip-path=\"url(#clip570)\" d=\"M1684.83 170.099 L1684.83 173.409 L1660.2 173.409 L1660.2 170.099 L1684.83 170.099 Z\" fill=\"#000000\" fill-rule=\"evenodd\" fill-opacity=\"1\" /><path clip-path=\"url(#clip570)\" d=\"M1709.02 141.28 Q1710.62 138.409 1712.84 137.044 Q1715.06 135.678 1718.07 135.678 Q1722.12 135.678 1724.32 138.525 Q1726.52 141.349 1726.52 146.581 L1726.52 162.229 L1722.24 162.229 L1722.24 146.719 Q1722.24 142.993 1720.92 141.187 Q1719.6 139.382 1716.89 139.382 Q1713.58 139.382 1711.66 141.581 Q1709.74 143.78 1709.74 147.576 L1709.74 162.229 L1705.45 162.229 L1705.45 146.719 Q1705.45 142.969 1704.13 141.187 Q1702.82 139.382 1700.06 139.382 Q1696.8 139.382 1694.88 141.604 Q1692.95 143.803 1692.95 147.576 L1692.95 162.229 L1688.67 162.229 L1688.67 136.303 L1692.95 136.303 L1692.95 140.331 Q1694.41 137.946 1696.45 136.812 Q1698.49 135.678 1701.29 135.678 Q1704.11 135.678 1706.08 137.113 Q1708.07 138.548 1709.02 141.28 Z\" fill=\"#000000\" fill-rule=\"evenodd\" fill-opacity=\"1\" /><path clip-path=\"url(#clip570)\" d=\"M1757.19 148.201 L1757.19 150.284 L1737.61 150.284 Q1737.88 154.682 1740.25 156.997 Q1742.63 159.289 1746.87 159.289 Q1749.32 159.289 1751.61 158.687 Q1753.93 158.085 1756.19 156.881 L1756.19 160.909 Q1753.9 161.881 1751.5 162.391 Q1749.09 162.9 1746.61 162.9 Q1740.41 162.9 1736.77 159.289 Q1733.16 155.678 1733.16 149.52 Q1733.16 143.155 1736.59 139.428 Q1740.04 135.678 1745.87 135.678 Q1751.1 135.678 1754.13 139.057 Q1757.19 142.414 1757.19 148.201 M1752.93 146.951 Q1752.88 143.456 1750.96 141.372 Q1749.07 139.289 1745.92 139.289 Q1742.35 139.289 1740.2 141.303 Q1738.07 143.317 1737.75 146.974 L1752.93 146.951 Z\" fill=\"#000000\" fill-rule=\"evenodd\" fill-opacity=\"1\" /><path clip-path=\"url(#clip570)\" d=\"M1768.39 128.942 L1768.39 136.303 L1777.17 136.303 L1777.17 139.613 L1768.39 139.613 L1768.39 153.687 Q1768.39 156.858 1769.25 157.761 Q1770.13 158.664 1772.79 158.664 L1777.17 158.664 L1777.17 162.229 L1772.79 162.229 Q1767.86 162.229 1765.99 160.4 Q1764.11 158.548 1764.11 153.687 L1764.11 139.613 L1760.99 139.613 L1760.99 136.303 L1764.11 136.303 L1764.11 128.942 L1768.39 128.942 Z\" fill=\"#000000\" fill-rule=\"evenodd\" fill-opacity=\"1\" /><path clip-path=\"url(#clip570)\" d=\"M1804.32 146.581 L1804.32 162.229 L1800.06 162.229 L1800.06 146.719 Q1800.06 143.039 1798.63 141.21 Q1797.19 139.382 1794.32 139.382 Q1790.87 139.382 1788.88 141.581 Q1786.89 143.78 1786.89 147.576 L1786.89 162.229 L1782.61 162.229 L1782.61 126.21 L1786.89 126.21 L1786.89 140.331 Q1788.42 137.993 1790.48 136.835 Q1792.56 135.678 1795.27 135.678 Q1799.74 135.678 1802.03 138.456 Q1804.32 141.21 1804.32 146.581 Z\" fill=\"#000000\" fill-rule=\"evenodd\" fill-opacity=\"1\" /><path clip-path=\"url(#clip570)\" d=\"M1822.86 139.289 Q1819.44 139.289 1817.44 141.974 Q1815.45 144.636 1815.45 149.289 Q1815.45 153.942 1817.42 156.627 Q1819.41 159.289 1822.86 159.289 Q1826.26 159.289 1828.25 156.604 Q1830.25 153.918 1830.25 149.289 Q1830.25 144.682 1828.25 141.997 Q1826.26 139.289 1822.86 139.289 M1822.86 135.678 Q1828.42 135.678 1831.59 139.289 Q1834.76 142.9 1834.76 149.289 Q1834.76 155.655 1831.59 159.289 Q1828.42 162.9 1822.86 162.9 Q1817.28 162.9 1814.11 159.289 Q1810.96 155.655 1810.96 149.289 Q1810.96 142.9 1814.11 139.289 Q1817.28 135.678 1822.86 135.678 Z\" fill=\"#000000\" fill-rule=\"evenodd\" fill-opacity=\"1\" /><path clip-path=\"url(#clip570)\" d=\"M1858.88 140.238 L1858.88 126.21 L1863.14 126.21 L1863.14 162.229 L1858.88 162.229 L1858.88 158.34 Q1857.54 160.655 1855.48 161.789 Q1853.44 162.9 1850.57 162.9 Q1845.87 162.9 1842.91 159.15 Q1839.97 155.4 1839.97 149.289 Q1839.97 143.178 1842.91 139.428 Q1845.87 135.678 1850.57 135.678 Q1853.44 135.678 1855.48 136.812 Q1857.54 137.923 1858.88 140.238 M1844.37 149.289 Q1844.37 153.988 1846.29 156.673 Q1848.23 159.335 1851.61 159.335 Q1854.99 159.335 1856.94 156.673 Q1858.88 153.988 1858.88 149.289 Q1858.88 144.59 1856.94 141.928 Q1854.99 139.243 1851.61 139.243 Q1848.23 139.243 1846.29 141.928 Q1844.37 144.59 1844.37 149.289 Z\" fill=\"#000000\" fill-rule=\"evenodd\" fill-opacity=\"1\" /><polyline clip-path=\"url(#clip570)\" style=\"stroke:#e26f46; stroke-linecap:butt; stroke-linejoin:round; stroke-width:4; stroke-opacity:1; fill:none\" points=\"\n",
       "  1317.45,196.789 1462.61,196.789 \n",
       "  \"/>\n",
       "<circle clip-path=\"url(#clip570)\" cx=\"1390.03\" cy=\"196.789\" r=\"23\" fill=\"#e26f46\" fill-rule=\"evenodd\" fill-opacity=\"1\" stroke=\"#000000\" stroke-opacity=\"1\" stroke-width=\"5.12\"/>\n",
       "<path clip-path=\"url(#clip570)\" d=\"M1500.2 201.036 Q1495.04 201.036 1493.05 202.217 Q1491.06 203.397 1491.06 206.245 Q1491.06 208.513 1492.54 209.856 Q1494.04 211.175 1496.61 211.175 Q1500.15 211.175 1502.28 208.675 Q1504.44 206.152 1504.44 201.985 L1504.44 201.036 L1500.2 201.036 M1508.7 199.277 L1508.7 214.069 L1504.44 214.069 L1504.44 210.133 Q1502.98 212.495 1500.8 213.629 Q1498.63 214.74 1495.48 214.74 Q1491.5 214.74 1489.14 212.518 Q1486.8 210.272 1486.8 206.522 Q1486.8 202.147 1489.71 199.925 Q1492.65 197.703 1498.46 197.703 L1504.44 197.703 L1504.44 197.286 Q1504.44 194.347 1502.49 192.749 Q1500.57 191.129 1497.08 191.129 Q1494.85 191.129 1492.75 191.661 Q1490.64 192.194 1488.7 193.259 L1488.7 189.323 Q1491.03 188.421 1493.23 187.981 Q1495.43 187.518 1497.52 187.518 Q1503.14 187.518 1505.92 190.434 Q1508.7 193.351 1508.7 199.277 Z\" fill=\"#000000\" fill-rule=\"evenodd\" fill-opacity=\"1\" /><path clip-path=\"url(#clip570)\" d=\"M1517.03 203.837 L1517.03 188.143 L1521.29 188.143 L1521.29 203.675 Q1521.29 207.356 1522.72 209.208 Q1524.16 211.036 1527.03 211.036 Q1530.48 211.036 1532.47 208.837 Q1534.48 206.638 1534.48 202.842 L1534.48 188.143 L1538.74 188.143 L1538.74 214.069 L1534.48 214.069 L1534.48 210.087 Q1532.93 212.448 1530.87 213.606 Q1528.84 214.74 1526.13 214.74 Q1521.66 214.74 1519.34 211.962 Q1517.03 209.184 1517.03 203.837 M1527.75 187.518 L1527.75 187.518 Z\" fill=\"#000000\" fill-rule=\"evenodd\" fill-opacity=\"1\" /><path clip-path=\"url(#clip570)\" d=\"M1564.58 200.805 Q1564.58 196.175 1562.65 193.629 Q1560.76 191.083 1557.31 191.083 Q1553.88 191.083 1551.96 193.629 Q1550.06 196.175 1550.06 200.805 Q1550.06 205.411 1551.96 207.958 Q1553.88 210.504 1557.31 210.504 Q1560.76 210.504 1562.65 207.958 Q1564.58 205.411 1564.58 200.805 M1568.83 210.851 Q1568.83 217.471 1565.89 220.689 Q1562.96 223.93 1556.89 223.93 Q1554.65 223.93 1552.65 223.582 Q1550.66 223.258 1548.79 222.564 L1548.79 218.42 Q1550.66 219.439 1552.49 219.925 Q1554.32 220.411 1556.22 220.411 Q1560.41 220.411 1562.49 218.212 Q1564.58 216.036 1564.58 211.615 L1564.58 209.508 Q1563.26 211.8 1561.2 212.934 Q1559.14 214.069 1556.27 214.069 Q1551.5 214.069 1548.58 210.434 Q1545.66 206.8 1545.66 200.805 Q1545.66 194.786 1548.58 191.152 Q1551.5 187.518 1556.27 187.518 Q1559.14 187.518 1561.2 188.652 Q1563.26 189.786 1564.58 192.078 L1564.58 188.143 L1568.83 188.143 L1568.83 210.851 Z\" fill=\"#000000\" fill-rule=\"evenodd\" fill-opacity=\"1\" /><path clip-path=\"url(#clip570)\" d=\"M1597.79 193.12 Q1599.39 190.249 1601.61 188.884 Q1603.83 187.518 1606.84 187.518 Q1610.89 187.518 1613.09 190.365 Q1615.29 193.189 1615.29 198.421 L1615.29 214.069 L1611.01 214.069 L1611.01 198.559 Q1611.01 194.833 1609.69 193.027 Q1608.37 191.222 1605.66 191.222 Q1602.35 191.222 1600.43 193.421 Q1598.51 195.62 1598.51 199.416 L1598.51 214.069 L1594.23 214.069 L1594.23 198.559 Q1594.23 194.809 1592.91 193.027 Q1591.59 191.222 1588.83 191.222 Q1585.57 191.222 1583.65 193.444 Q1581.73 195.643 1581.73 199.416 L1581.73 214.069 L1577.45 214.069 L1577.45 188.143 L1581.73 188.143 L1581.73 192.171 Q1583.19 189.786 1585.22 188.652 Q1587.26 187.518 1590.06 187.518 Q1592.89 187.518 1594.85 188.953 Q1596.84 190.388 1597.79 193.12 Z\" fill=\"#000000\" fill-rule=\"evenodd\" fill-opacity=\"1\" /><path clip-path=\"url(#clip570)\" d=\"M1645.96 200.041 L1645.96 202.124 L1626.38 202.124 Q1626.66 206.522 1629.02 208.837 Q1631.4 211.129 1635.64 211.129 Q1638.09 211.129 1640.39 210.527 Q1642.7 209.925 1644.97 208.721 L1644.97 212.749 Q1642.68 213.721 1640.27 214.231 Q1637.86 214.74 1635.39 214.74 Q1629.18 214.74 1625.55 211.129 Q1621.94 207.518 1621.94 201.36 Q1621.94 194.995 1625.36 191.268 Q1628.81 187.518 1634.64 187.518 Q1639.88 187.518 1642.91 190.897 Q1645.96 194.254 1645.96 200.041 M1641.7 198.791 Q1641.66 195.296 1639.74 193.212 Q1637.84 191.129 1634.69 191.129 Q1631.13 191.129 1628.97 193.143 Q1626.84 195.157 1626.52 198.814 L1641.7 198.791 Z\" fill=\"#000000\" fill-rule=\"evenodd\" fill-opacity=\"1\" /><path clip-path=\"url(#clip570)\" d=\"M1674.51 198.421 L1674.51 214.069 L1670.25 214.069 L1670.25 198.559 Q1670.25 194.879 1668.81 193.05 Q1667.38 191.222 1664.51 191.222 Q1661.06 191.222 1659.07 193.421 Q1657.08 195.62 1657.08 199.416 L1657.08 214.069 L1652.79 214.069 L1652.79 188.143 L1657.08 188.143 L1657.08 192.171 Q1658.6 189.833 1660.66 188.675 Q1662.75 187.518 1665.45 187.518 Q1669.92 187.518 1672.21 190.296 Q1674.51 193.05 1674.51 198.421 Z\" fill=\"#000000\" fill-rule=\"evenodd\" fill-opacity=\"1\" /><path clip-path=\"url(#clip570)\" d=\"M1687.21 180.782 L1687.21 188.143 L1695.99 188.143 L1695.99 191.453 L1687.21 191.453 L1687.21 205.527 Q1687.21 208.698 1688.07 209.601 Q1688.95 210.504 1691.61 210.504 L1695.99 210.504 L1695.99 214.069 L1691.61 214.069 Q1686.68 214.069 1684.81 212.24 Q1682.93 210.388 1682.93 205.527 L1682.93 191.453 L1679.81 191.453 L1679.81 188.143 L1682.93 188.143 L1682.93 180.782 L1687.21 180.782 Z\" fill=\"#000000\" fill-rule=\"evenodd\" fill-opacity=\"1\" /><path clip-path=\"url(#clip570)\" d=\"M1723.76 200.041 L1723.76 202.124 L1704.18 202.124 Q1704.46 206.522 1706.82 208.837 Q1709.2 211.129 1713.44 211.129 Q1715.89 211.129 1718.19 210.527 Q1720.5 209.925 1722.77 208.721 L1722.77 212.749 Q1720.48 213.721 1718.07 214.231 Q1715.66 214.74 1713.19 214.74 Q1706.98 214.74 1703.35 211.129 Q1699.74 207.518 1699.74 201.36 Q1699.74 194.995 1703.16 191.268 Q1706.61 187.518 1712.45 187.518 Q1717.68 187.518 1720.71 190.897 Q1723.76 194.254 1723.76 200.041 M1719.51 198.791 Q1719.46 195.296 1717.54 193.212 Q1715.64 191.129 1712.49 191.129 Q1708.93 191.129 1706.77 193.143 Q1704.64 195.157 1704.32 198.814 L1719.51 198.791 Z\" fill=\"#000000\" fill-rule=\"evenodd\" fill-opacity=\"1\" /><path clip-path=\"url(#clip570)\" d=\"M1747.82 192.078 L1747.82 178.05 L1752.07 178.05 L1752.07 214.069 L1747.82 214.069 L1747.82 210.18 Q1746.47 212.495 1744.41 213.629 Q1742.38 214.74 1739.51 214.74 Q1734.81 214.74 1731.84 210.99 Q1728.9 207.24 1728.9 201.129 Q1728.9 195.018 1731.84 191.268 Q1734.81 187.518 1739.51 187.518 Q1742.38 187.518 1744.41 188.652 Q1746.47 189.763 1747.82 192.078 M1733.3 201.129 Q1733.3 205.828 1735.22 208.513 Q1737.17 211.175 1740.55 211.175 Q1743.93 211.175 1745.87 208.513 Q1747.82 205.828 1747.82 201.129 Q1747.82 196.43 1745.87 193.768 Q1743.93 191.083 1740.55 191.083 Q1737.17 191.083 1735.22 193.768 Q1733.3 196.43 1733.3 201.129 Z\" fill=\"#000000\" fill-rule=\"evenodd\" fill-opacity=\"1\" /><path clip-path=\"url(#clip570)\" d=\"M1776.1 179.509 L1780.78 179.509 L1780.78 210.133 L1797.61 210.133 L1797.61 214.069 L1776.1 214.069 L1776.1 179.509 Z\" fill=\"#000000\" fill-rule=\"evenodd\" fill-opacity=\"1\" /><path clip-path=\"url(#clip570)\" d=\"M1814.11 201.036 Q1808.95 201.036 1806.96 202.217 Q1804.97 203.397 1804.97 206.245 Q1804.97 208.513 1806.45 209.856 Q1807.95 211.175 1810.52 211.175 Q1814.06 211.175 1816.19 208.675 Q1818.35 206.152 1818.35 201.985 L1818.35 201.036 L1814.11 201.036 M1822.61 199.277 L1822.61 214.069 L1818.35 214.069 L1818.35 210.133 Q1816.89 212.495 1814.71 213.629 Q1812.54 214.74 1809.39 214.74 Q1805.41 214.74 1803.05 212.518 Q1800.71 210.272 1800.71 206.522 Q1800.71 202.147 1803.63 199.925 Q1806.56 197.703 1812.38 197.703 L1818.35 197.703 L1818.35 197.286 Q1818.35 194.347 1816.4 192.749 Q1814.48 191.129 1810.99 191.129 Q1808.76 191.129 1806.66 191.661 Q1804.55 192.194 1802.61 193.259 L1802.61 189.323 Q1804.94 188.421 1807.14 187.981 Q1809.34 187.518 1811.43 187.518 Q1817.05 187.518 1819.83 190.434 Q1822.61 193.351 1822.61 199.277 Z\" fill=\"#000000\" fill-rule=\"evenodd\" fill-opacity=\"1\" /><path clip-path=\"url(#clip570)\" d=\"M1848.44 200.805 Q1848.44 196.175 1846.52 193.629 Q1844.62 191.083 1841.17 191.083 Q1837.75 191.083 1835.82 193.629 Q1833.93 196.175 1833.93 200.805 Q1833.93 205.411 1835.82 207.958 Q1837.75 210.504 1841.17 210.504 Q1844.62 210.504 1846.52 207.958 Q1848.44 205.411 1848.44 200.805 M1852.7 210.851 Q1852.7 217.471 1849.76 220.689 Q1846.82 223.93 1840.75 223.93 Q1838.51 223.93 1836.52 223.582 Q1834.53 223.258 1832.65 222.564 L1832.65 218.42 Q1834.53 219.439 1836.36 219.925 Q1838.19 220.411 1840.08 220.411 Q1844.27 220.411 1846.36 218.212 Q1848.44 216.036 1848.44 211.615 L1848.44 209.508 Q1847.12 211.8 1845.06 212.934 Q1843 214.069 1840.13 214.069 Q1835.36 214.069 1832.44 210.434 Q1829.53 206.8 1829.53 200.805 Q1829.53 194.786 1832.44 191.152 Q1835.36 187.518 1840.13 187.518 Q1843 187.518 1845.06 188.652 Q1847.12 189.786 1848.44 192.078 L1848.44 188.143 L1852.7 188.143 L1852.7 210.851 Z\" fill=\"#000000\" fill-rule=\"evenodd\" fill-opacity=\"1\" /><path clip-path=\"url(#clip570)\" d=\"M1876.5 192.124 Q1875.78 191.708 1874.92 191.522 Q1874.09 191.314 1873.07 191.314 Q1869.46 191.314 1867.51 193.675 Q1865.59 196.013 1865.59 200.411 L1865.59 214.069 L1861.31 214.069 L1861.31 188.143 L1865.59 188.143 L1865.59 192.171 Q1866.94 189.809 1869.09 188.675 Q1871.24 187.518 1874.32 187.518 Q1874.76 187.518 1875.29 187.587 Q1875.82 187.634 1876.47 187.749 L1876.5 192.124 Z\" fill=\"#000000\" fill-rule=\"evenodd\" fill-opacity=\"1\" /><path clip-path=\"url(#clip570)\" d=\"M1892.75 201.036 Q1887.58 201.036 1885.59 202.217 Q1883.6 203.397 1883.6 206.245 Q1883.6 208.513 1885.08 209.856 Q1886.59 211.175 1889.16 211.175 Q1892.7 211.175 1894.83 208.675 Q1896.98 206.152 1896.98 201.985 L1896.98 201.036 L1892.75 201.036 M1901.24 199.277 L1901.24 214.069 L1896.98 214.069 L1896.98 210.133 Q1895.52 212.495 1893.35 213.629 Q1891.17 214.74 1888.02 214.74 Q1884.04 214.74 1881.68 212.518 Q1879.34 210.272 1879.34 206.522 Q1879.34 202.147 1882.26 199.925 Q1885.2 197.703 1891.01 197.703 L1896.98 197.703 L1896.98 197.286 Q1896.98 194.347 1895.04 192.749 Q1893.12 191.129 1889.62 191.129 Q1887.4 191.129 1885.29 191.661 Q1883.18 192.194 1881.24 193.259 L1881.24 189.323 Q1883.58 188.421 1885.78 187.981 Q1887.98 187.518 1890.06 187.518 Q1895.68 187.518 1898.46 190.434 Q1901.24 193.351 1901.24 199.277 Z\" fill=\"#000000\" fill-rule=\"evenodd\" fill-opacity=\"1\" /><path clip-path=\"url(#clip570)\" d=\"M1931.56 198.421 L1931.56 214.069 L1927.31 214.069 L1927.31 198.559 Q1927.31 194.879 1925.87 193.05 Q1924.43 191.222 1921.56 191.222 Q1918.12 191.222 1916.12 193.421 Q1914.13 195.62 1914.13 199.416 L1914.13 214.069 L1909.85 214.069 L1909.85 188.143 L1914.13 188.143 L1914.13 192.171 Q1915.66 189.833 1917.72 188.675 Q1919.81 187.518 1922.51 187.518 Q1926.98 187.518 1929.27 190.296 Q1931.56 193.05 1931.56 198.421 Z\" fill=\"#000000\" fill-rule=\"evenodd\" fill-opacity=\"1\" /><path clip-path=\"url(#clip570)\" d=\"M1957.12 200.805 Q1957.12 196.175 1955.2 193.629 Q1953.3 191.083 1949.85 191.083 Q1946.43 191.083 1944.5 193.629 Q1942.61 196.175 1942.61 200.805 Q1942.61 205.411 1944.5 207.958 Q1946.43 210.504 1949.85 210.504 Q1953.3 210.504 1955.2 207.958 Q1957.12 205.411 1957.12 200.805 M1961.38 210.851 Q1961.38 217.471 1958.44 220.689 Q1955.5 223.93 1949.43 223.93 Q1947.19 223.93 1945.2 223.582 Q1943.21 223.258 1941.33 222.564 L1941.33 218.42 Q1943.21 219.439 1945.04 219.925 Q1946.87 220.411 1948.76 220.411 Q1952.95 220.411 1955.04 218.212 Q1957.12 216.036 1957.12 211.615 L1957.12 209.508 Q1955.8 211.8 1953.74 212.934 Q1951.68 214.069 1948.81 214.069 Q1944.04 214.069 1941.12 210.434 Q1938.21 206.8 1938.21 200.805 Q1938.21 194.786 1941.12 191.152 Q1944.04 187.518 1948.81 187.518 Q1951.68 187.518 1953.74 188.652 Q1955.8 189.786 1957.12 192.078 L1957.12 188.143 L1961.38 188.143 L1961.38 210.851 Z\" fill=\"#000000\" fill-rule=\"evenodd\" fill-opacity=\"1\" /><path clip-path=\"url(#clip570)\" d=\"M1970.15 188.143 L1974.41 188.143 L1974.41 214.069 L1970.15 214.069 L1970.15 188.143 M1970.15 178.05 L1974.41 178.05 L1974.41 183.444 L1970.15 183.444 L1970.15 178.05 Z\" fill=\"#000000\" fill-rule=\"evenodd\" fill-opacity=\"1\" /><path clip-path=\"url(#clip570)\" d=\"M1995.11 201.036 Q1989.94 201.036 1987.95 202.217 Q1985.96 203.397 1985.96 206.245 Q1985.96 208.513 1987.44 209.856 Q1988.95 211.175 1991.52 211.175 Q1995.06 211.175 1997.19 208.675 Q1999.34 206.152 1999.34 201.985 L1999.34 201.036 L1995.11 201.036 M2003.6 199.277 L2003.6 214.069 L1999.34 214.069 L1999.34 210.133 Q1997.88 212.495 1995.71 213.629 Q1993.53 214.74 1990.38 214.74 Q1986.4 214.74 1984.04 212.518 Q1981.7 210.272 1981.7 206.522 Q1981.7 202.147 1984.62 199.925 Q1987.56 197.703 1993.37 197.703 L1999.34 197.703 L1999.34 197.286 Q1999.34 194.347 1997.4 192.749 Q1995.48 191.129 1991.98 191.129 Q1989.76 191.129 1987.65 191.661 Q1985.55 192.194 1983.6 193.259 L1983.6 189.323 Q1985.94 188.421 1988.14 187.981 Q1990.34 187.518 1992.42 187.518 Q1998.05 187.518 2000.82 190.434 Q2003.6 193.351 2003.6 199.277 Z\" fill=\"#000000\" fill-rule=\"evenodd\" fill-opacity=\"1\" /><path clip-path=\"url(#clip570)\" d=\"M2033.92 198.421 L2033.92 214.069 L2029.67 214.069 L2029.67 198.559 Q2029.67 194.879 2028.23 193.05 Q2026.8 191.222 2023.92 191.222 Q2020.48 191.222 2018.49 193.421 Q2016.49 195.62 2016.49 199.416 L2016.49 214.069 L2012.21 214.069 L2012.21 188.143 L2016.49 188.143 L2016.49 192.171 Q2018.02 189.833 2020.08 188.675 Q2022.17 187.518 2024.87 187.518 Q2029.34 187.518 2031.63 190.296 Q2033.92 193.05 2033.92 198.421 Z\" fill=\"#000000\" fill-rule=\"evenodd\" fill-opacity=\"1\" /><path clip-path=\"url(#clip570)\" d=\"M2077.67 193.12 Q2079.27 190.249 2081.49 188.884 Q2083.72 187.518 2086.73 187.518 Q2090.78 187.518 2092.98 190.365 Q2095.17 193.189 2095.17 198.421 L2095.17 214.069 L2090.89 214.069 L2090.89 198.559 Q2090.89 194.833 2089.57 193.027 Q2088.25 191.222 2085.54 191.222 Q2082.23 191.222 2080.31 193.421 Q2078.39 195.62 2078.39 199.416 L2078.39 214.069 L2074.11 214.069 L2074.11 198.559 Q2074.11 194.809 2072.79 193.027 Q2071.47 191.222 2068.72 191.222 Q2065.45 191.222 2063.53 193.444 Q2061.61 195.643 2061.61 199.416 L2061.61 214.069 L2057.33 214.069 L2057.33 188.143 L2061.61 188.143 L2061.61 192.171 Q2063.07 189.786 2065.11 188.652 Q2067.14 187.518 2069.94 187.518 Q2072.77 187.518 2074.73 188.953 Q2076.73 190.388 2077.67 193.12 Z\" fill=\"#000000\" fill-rule=\"evenodd\" fill-opacity=\"1\" /><path clip-path=\"url(#clip570)\" d=\"M2125.85 200.041 L2125.85 202.124 L2106.26 202.124 Q2106.54 206.522 2108.9 208.837 Q2111.29 211.129 2115.52 211.129 Q2117.98 211.129 2120.27 210.527 Q2122.58 209.925 2124.85 208.721 L2124.85 212.749 Q2122.56 213.721 2120.15 214.231 Q2117.74 214.74 2115.27 214.74 Q2109.06 214.74 2105.43 211.129 Q2101.82 207.518 2101.82 201.36 Q2101.82 194.995 2105.24 191.268 Q2108.69 187.518 2114.53 187.518 Q2119.76 187.518 2122.79 190.897 Q2125.85 194.254 2125.85 200.041 M2121.59 198.791 Q2121.54 195.296 2119.62 193.212 Q2117.72 191.129 2114.57 191.129 Q2111.01 191.129 2108.86 193.143 Q2106.73 195.157 2106.4 198.814 L2121.59 198.791 Z\" fill=\"#000000\" fill-rule=\"evenodd\" fill-opacity=\"1\" /><path clip-path=\"url(#clip570)\" d=\"M2137.05 180.782 L2137.05 188.143 L2145.82 188.143 L2145.82 191.453 L2137.05 191.453 L2137.05 205.527 Q2137.05 208.698 2137.91 209.601 Q2138.79 210.504 2141.45 210.504 L2145.82 210.504 L2145.82 214.069 L2141.45 214.069 Q2136.52 214.069 2134.64 212.24 Q2132.77 210.388 2132.77 205.527 L2132.77 191.453 L2129.64 191.453 L2129.64 188.143 L2132.77 188.143 L2132.77 180.782 L2137.05 180.782 Z\" fill=\"#000000\" fill-rule=\"evenodd\" fill-opacity=\"1\" /><path clip-path=\"url(#clip570)\" d=\"M2172.98 198.421 L2172.98 214.069 L2168.72 214.069 L2168.72 198.559 Q2168.72 194.879 2167.28 193.05 Q2165.85 191.222 2162.98 191.222 Q2159.53 191.222 2157.54 193.421 Q2155.54 195.62 2155.54 199.416 L2155.54 214.069 L2151.26 214.069 L2151.26 178.05 L2155.54 178.05 L2155.54 192.171 Q2157.07 189.833 2159.13 188.675 Q2161.22 187.518 2163.92 187.518 Q2168.39 187.518 2170.68 190.296 Q2172.98 193.05 2172.98 198.421 Z\" fill=\"#000000\" fill-rule=\"evenodd\" fill-opacity=\"1\" /><path clip-path=\"url(#clip570)\" d=\"M2191.52 191.129 Q2188.09 191.129 2186.1 193.814 Q2184.11 196.476 2184.11 201.129 Q2184.11 205.782 2186.08 208.467 Q2188.07 211.129 2191.52 211.129 Q2194.92 211.129 2196.91 208.444 Q2198.9 205.758 2198.9 201.129 Q2198.9 196.522 2196.91 193.837 Q2194.92 191.129 2191.52 191.129 M2191.52 187.518 Q2197.07 187.518 2200.24 191.129 Q2203.41 194.74 2203.41 201.129 Q2203.41 207.495 2200.24 211.129 Q2197.07 214.74 2191.52 214.74 Q2185.94 214.74 2182.77 211.129 Q2179.62 207.495 2179.62 201.129 Q2179.62 194.74 2182.77 191.129 Q2185.94 187.518 2191.52 187.518 Z\" fill=\"#000000\" fill-rule=\"evenodd\" fill-opacity=\"1\" /><path clip-path=\"url(#clip570)\" d=\"M2227.53 192.078 L2227.53 178.05 L2231.79 178.05 L2231.79 214.069 L2227.53 214.069 L2227.53 210.18 Q2226.19 212.495 2224.13 213.629 Q2222.1 214.74 2219.22 214.74 Q2214.53 214.74 2211.56 210.99 Q2208.62 207.24 2208.62 201.129 Q2208.62 195.018 2211.56 191.268 Q2214.53 187.518 2219.22 187.518 Q2222.1 187.518 2224.13 188.652 Q2226.19 189.763 2227.53 192.078 M2213.02 201.129 Q2213.02 205.828 2214.94 208.513 Q2216.89 211.175 2220.27 211.175 Q2223.65 211.175 2225.59 208.513 Q2227.53 205.828 2227.53 201.129 Q2227.53 196.43 2225.59 193.768 Q2223.65 191.083 2220.27 191.083 Q2216.89 191.083 2214.94 193.768 Q2213.02 196.43 2213.02 201.129 Z\" fill=\"#000000\" fill-rule=\"evenodd\" fill-opacity=\"1\" /></svg>\n"
      ]
     },
     "execution_count": 179,
     "metadata": {},
     "output_type": "execute_result"
    }
   ],
   "source": [
    "plot(rpen[1,:],rpen[2,:],label = \"penalty_method\",shape = :circle\n",
    "    ,xlabel=\"cumulative number of Levenberg-Marquardt iterations\"\n",
    " ,xticks =collect(1:length(rpen)),ylabel = \"Residual\")\n",
    "plot!(ral[1,:],ral[2,:],label = \"augmented Lagrangian method\",shape = :circle)"
   ]
  },
  {
   "cell_type": "markdown",
   "id": "5168774d",
   "metadata": {},
   "source": [
    "# problem4"
   ]
  },
  {
   "cell_type": "code",
   "execution_count": 77,
   "id": "87c215aa",
   "metadata": {},
   "outputs": [
    {
     "data": {
      "text/plain": [
       "201×3 Matrix{Any}:\n",
       "   \"X1\"        \"X2\"         \"Y\"\n",
       "  0.279043    0.126064    -1.44788\n",
       " -0.0220374   2.68522    -55.9334\n",
       " -1.04391     0.427573     0.0659059\n",
       "  1.36861    -0.320083     0.227842\n",
       " -0.437704    1.35463     -3.20183\n",
       " -1.70875     0.951143     1.38691\n",
       " -0.0526326  -0.338184    -2.09956\n",
       "  0.179231    1.45731     -7.38243\n",
       " -2.12533    -0.0569483    0.712194\n",
       " -1.25753    -1.72143      0.0409746\n",
       "  0.368887    2.3094     -10.0409\n",
       "  1.0803     -0.950944     0.0298426\n",
       "  ⋮                      \n",
       " -1.39267    -0.122284     0.293098\n",
       " -0.523617    0.237671    -0.820578\n",
       " -1.43666     1.41678      1.49415\n",
       " -1.85914    -1.26998      0.17415\n",
       " -0.101538   -1.31034     -0.616955\n",
       " -0.951278   -1.24845     -0.0143327\n",
       " -0.0734638  -0.623002    -1.40034\n",
       " -0.269781   -1.88811     -0.198301\n",
       " -2.12379    -0.349227     0.531185\n",
       " -0.414947   -0.084857    -0.808044\n",
       " -0.167814    0.053894    -1.88373\n",
       " -0.535095    0.754682    -1.33"
      ]
     },
     "execution_count": 77,
     "metadata": {},
     "output_type": "execute_result"
    }
   ],
   "source": [
    "nn = readdlm(\"D:\\\\OneDrive - g.ntu.edu.tw\\\\110\\\\商管機器學習\\\\Assignment 5\\\\neural_data.csv\", \n",
    "    ',')"
   ]
  },
  {
   "cell_type": "code",
   "execution_count": 78,
   "id": "2e6926c3",
   "metadata": {},
   "outputs": [
    {
     "data": {
      "text/plain": [
       "200-element Vector{Float64}:\n",
       "  -1.447876309\n",
       " -55.93338206\n",
       "   0.065905899\n",
       "   0.227842029\n",
       "  -3.20182568\n",
       "   1.386914\n",
       "  -2.099560086\n",
       "  -7.38242566\n",
       "   0.712193718\n",
       "   0.040974551\n",
       " -10.04087916\n",
       "   0.02984265\n",
       "  -0.120633002\n",
       "   ⋮\n",
       "   0.293098305\n",
       "  -0.820577577\n",
       "   1.4941541\n",
       "   0.17415039\n",
       "  -0.616954999\n",
       "  -0.014332744\n",
       "  -1.400343299\n",
       "  -0.198301265\n",
       "   0.531184818\n",
       "  -0.808043841\n",
       "  -1.883733511\n",
       "  -1.329995969"
      ]
     },
     "execution_count": 78,
     "metadata": {},
     "output_type": "execute_result"
    }
   ],
   "source": [
    "X=nn[2:end,1:2]\n",
    "Y=nn[2:end,3]\n",
    "X = Matrix{Float64}(X)\n",
    "Y = Vector{Float64}(Y)"
   ]
  },
  {
   "cell_type": "markdown",
   "id": "238bfaa2",
   "metadata": {},
   "source": [
    "(a)"
   ]
  },
  {
   "cell_type": "code",
   "execution_count": 199,
   "id": "9bb69b0c",
   "metadata": {},
   "outputs": [
    {
     "data": {
      "text/plain": [
       "Df (generic function with 1 method)"
      ]
     },
     "execution_count": 199,
     "metadata": {},
     "output_type": "execute_result"
    }
   ],
   "source": [
    "sigmoid(x)=(exp.(x)-exp.(-x))./(exp.(x)+exp.(-x))\n",
    "\n",
    "R(theta) = (theta[1]*sigmoid(theta[2]*X[:,1]+theta[3]*X[:,2].+theta[4])+\n",
    "theta[5]*sigmoid(theta[6]*X[:,1]+theta[7]*X[:,2].+theta[8])+\n",
    "theta[9]*sigmoid(theta[10]*X[:,1]+theta[11]*X[:,2].+theta[12]).+theta[13]).-Y\n",
    "\n",
    "f(theta) = R(theta).*R(theta) .+ 10^(-5)*norm(theta)\n",
    "\n",
    "Ds(x)=4 ./((exp.(x)+exp.(-x)).*(exp.(x)+exp.(-x)))\n",
    "\n",
    "Df(theta)=([ (sigmoid(theta[2]*X[:,1]+theta[3]*X[:,2].+theta[4]))';\n",
    "(theta[1]*X[:,1].*Ds(theta[2]*X[:,1]+theta[3]*X[:,2].+theta[4]))';\n",
    "(theta[1]*X[:,2].*Ds(theta[2]*X[:,1]+theta[3]*X[:,2].+theta[4]))';\n",
    "(theta[1]*Ds(theta[2]*X[:,1]+theta[3]*X[:,2].+theta[4]))';\n",
    "            (sigmoid(theta[6]*X[:,1]+theta[7]*X[:,2].+theta[8]))';\n",
    "(theta[6]*X[:,1].*Ds(theta[6]*X[:,1]+theta[7]*X[:,2].+theta[8]))';\n",
    "(theta[7]*X[:,2].*Ds(theta[6]*X[:,1]+theta[7]*X[:,2].+theta[8]))';\n",
    "(theta[8]*Ds(theta[6]*X[:,1]+theta[7]*X[:,2].+theta[8]))';\n",
    "            (sigmoid(theta[10]*X[:,1]+theta[11]*X[:,2].+theta[12]))';\n",
    "(theta[10]*X[:,1].*Ds(theta[10]*X[:,1]+theta[11]*X[:,2].+theta[12]))';\n",
    "(theta[10]*X[:,2].*Ds(theta[10]*X[:,1]+theta[11]*X[:,2].+theta[12]))';\n",
    "(theta[10]*Ds(theta[10]*X[:,1]+theta[11]*X[:,2].+theta[12]))';\n",
    "    (ones(200))'])'"
   ]
  },
  {
   "cell_type": "code",
   "execution_count": 200,
   "id": "c5abedaf",
   "metadata": {},
   "outputs": [
    {
     "data": {
      "text/plain": [
       "levenberg_marquardt3 (generic function with 3 methods)"
      ]
     },
     "execution_count": 200,
     "metadata": {},
     "output_type": "execute_result"
    }
   ],
   "source": [
    "function levenberg_marquardt3(f, Df, x1, lambda1, kmax=100, tol=1e-6)\n",
    "    n = length(x1)\n",
    "    x = x1\n",
    "    lambda = lambda1\n",
    "    grad = zeros(0,1)\n",
    "    objectives = zeros(0,1)\n",
    "    residuals = zeros(0,1)\n",
    "    for k = 1:kmax\n",
    "        fk = f(x)\n",
    "        Dfk = Df(x)\n",
    "        grad=[grad; norm(Dfk)]\n",
    "        objectives = [objectives; norm(fk)^2]\n",
    "        residuals = [residuals; norm(2*Dfk'*fk)]\n",
    "        if norm(2*Dfk'*fk) < tol\n",
    "            break\n",
    "        end;\n",
    "        xt = x - inv(Dfk'*Dfk+lambda*Matrix{Float64}(I, n, n))*Dfk'*fk\n",
    "        if norm(f(xt)) < norm(fk)\n",
    "            lambda = 0.8*lambda\n",
    "            x = xt\n",
    "        else\n",
    "            lambda = 2.0*lambda\n",
    "        end\n",
    "    end\n",
    "    return x, Dict([ (\"objectives\", objectives),(\"residuals\", residuals)]) , grad\n",
    "end"
   ]
  },
  {
   "cell_type": "code",
   "execution_count": 201,
   "id": "572defbe",
   "metadata": {},
   "outputs": [
    {
     "data": {
      "text/plain": [
       "13-element Vector{Float64}:\n",
       " -28.98511462787217\n",
       "  -4.903723361093054\n",
       "   1.3624216035648407\n",
       "  19.640313614478004\n",
       " -25.914721797784388\n",
       "   0.3190310408701957\n",
       "   0.07616897951610027\n",
       "  -1.8090161840328576\n",
       " -25.896737435540334\n",
       "   0.3249813349114049\n",
       "  -0.004538803747267779\n",
       "  -2.3478438966102044\n",
       " -34.22653138330419"
      ]
     },
     "execution_count": 201,
     "metadata": {},
     "output_type": "execute_result"
    }
   ],
   "source": [
    "levenberg_marquardt3(f, Df,  [1,1,1,1,1,1,1,1,1,1,1,1,1] , 1, 100, 1e-6)[1]"
   ]
  },
  {
   "cell_type": "code",
   "execution_count": 202,
   "id": "201339d9",
   "metadata": {},
   "outputs": [
    {
     "data": {
      "image/svg+xml": [
       "<?xml version=\"1.0\" encoding=\"utf-8\"?>\n",
       "<svg xmlns=\"http://www.w3.org/2000/svg\" xmlns:xlink=\"http://www.w3.org/1999/xlink\" width=\"600\" height=\"400\" viewBox=\"0 0 2400 1600\">\n",
       "<defs>\n",
       "  <clipPath id=\"clip690\">\n",
       "    <rect x=\"0\" y=\"0\" width=\"2400\" height=\"1600\"/>\n",
       "  </clipPath>\n",
       "</defs>\n",
       "<path clip-path=\"url(#clip690)\" d=\"\n",
       "M0 1600 L2400 1600 L2400 0 L0 0  Z\n",
       "  \" fill=\"#ffffff\" fill-rule=\"evenodd\" fill-opacity=\"1\"/>\n",
       "<defs>\n",
       "  <clipPath id=\"clip691\">\n",
       "    <rect x=\"480\" y=\"0\" width=\"1681\" height=\"1600\"/>\n",
       "  </clipPath>\n",
       "</defs>\n",
       "<path clip-path=\"url(#clip690)\" d=\"\n",
       "M141.853 1423.18 L2352.76 1423.18 L2352.76 47.2441 L141.853 47.2441  Z\n",
       "  \" fill=\"#ffffff\" fill-rule=\"evenodd\" fill-opacity=\"1\"/>\n",
       "<defs>\n",
       "  <clipPath id=\"clip692\">\n",
       "    <rect x=\"141\" y=\"47\" width=\"2212\" height=\"1377\"/>\n",
       "  </clipPath>\n",
       "</defs>\n",
       "<polyline clip-path=\"url(#clip692)\" style=\"stroke:#000000; stroke-linecap:butt; stroke-linejoin:round; stroke-width:2; stroke-opacity:0.1; fill:none\" points=\"\n",
       "  183.357,1423.18 183.357,47.2441 \n",
       "  \"/>\n",
       "<polyline clip-path=\"url(#clip692)\" style=\"stroke:#000000; stroke-linecap:butt; stroke-linejoin:round; stroke-width:2; stroke-opacity:0.1; fill:none\" points=\"\n",
       "  710.064,1423.18 710.064,47.2441 \n",
       "  \"/>\n",
       "<polyline clip-path=\"url(#clip692)\" style=\"stroke:#000000; stroke-linecap:butt; stroke-linejoin:round; stroke-width:2; stroke-opacity:0.1; fill:none\" points=\"\n",
       "  1236.77,1423.18 1236.77,47.2441 \n",
       "  \"/>\n",
       "<polyline clip-path=\"url(#clip692)\" style=\"stroke:#000000; stroke-linecap:butt; stroke-linejoin:round; stroke-width:2; stroke-opacity:0.1; fill:none\" points=\"\n",
       "  1763.48,1423.18 1763.48,47.2441 \n",
       "  \"/>\n",
       "<polyline clip-path=\"url(#clip692)\" style=\"stroke:#000000; stroke-linecap:butt; stroke-linejoin:round; stroke-width:2; stroke-opacity:0.1; fill:none\" points=\"\n",
       "  2290.18,1423.18 2290.18,47.2441 \n",
       "  \"/>\n",
       "<polyline clip-path=\"url(#clip690)\" style=\"stroke:#000000; stroke-linecap:butt; stroke-linejoin:round; stroke-width:4; stroke-opacity:1; fill:none\" points=\"\n",
       "  141.853,1423.18 2352.76,1423.18 \n",
       "  \"/>\n",
       "<polyline clip-path=\"url(#clip690)\" style=\"stroke:#000000; stroke-linecap:butt; stroke-linejoin:round; stroke-width:4; stroke-opacity:1; fill:none\" points=\"\n",
       "  183.357,1423.18 183.357,1404.28 \n",
       "  \"/>\n",
       "<polyline clip-path=\"url(#clip690)\" style=\"stroke:#000000; stroke-linecap:butt; stroke-linejoin:round; stroke-width:4; stroke-opacity:1; fill:none\" points=\"\n",
       "  710.064,1423.18 710.064,1404.28 \n",
       "  \"/>\n",
       "<polyline clip-path=\"url(#clip690)\" style=\"stroke:#000000; stroke-linecap:butt; stroke-linejoin:round; stroke-width:4; stroke-opacity:1; fill:none\" points=\"\n",
       "  1236.77,1423.18 1236.77,1404.28 \n",
       "  \"/>\n",
       "<polyline clip-path=\"url(#clip690)\" style=\"stroke:#000000; stroke-linecap:butt; stroke-linejoin:round; stroke-width:4; stroke-opacity:1; fill:none\" points=\"\n",
       "  1763.48,1423.18 1763.48,1404.28 \n",
       "  \"/>\n",
       "<polyline clip-path=\"url(#clip690)\" style=\"stroke:#000000; stroke-linecap:butt; stroke-linejoin:round; stroke-width:4; stroke-opacity:1; fill:none\" points=\"\n",
       "  2290.18,1423.18 2290.18,1404.28 \n",
       "  \"/>\n",
       "<path clip-path=\"url(#clip690)\" d=\"M183.357 1454.1 Q179.746 1454.1 177.918 1457.66 Q176.112 1461.2 176.112 1468.33 Q176.112 1475.44 177.918 1479.01 Q179.746 1482.55 183.357 1482.55 Q186.992 1482.55 188.797 1479.01 Q190.626 1475.44 190.626 1468.33 Q190.626 1461.2 188.797 1457.66 Q186.992 1454.1 183.357 1454.1 M183.357 1450.39 Q189.168 1450.39 192.223 1455 Q195.302 1459.58 195.302 1468.33 Q195.302 1477.06 192.223 1481.67 Q189.168 1486.25 183.357 1486.25 Q177.547 1486.25 174.469 1481.67 Q171.413 1477.06 171.413 1468.33 Q171.413 1459.58 174.469 1455 Q177.547 1450.39 183.357 1450.39 Z\" fill=\"#000000\" fill-rule=\"evenodd\" fill-opacity=\"1\" /><path clip-path=\"url(#clip690)\" d=\"M689.335 1481.64 L705.654 1481.64 L705.654 1485.58 L683.71 1485.58 L683.71 1481.64 Q686.372 1478.89 690.955 1474.26 Q695.562 1469.61 696.742 1468.27 Q698.988 1465.74 699.867 1464.01 Q700.77 1462.25 700.77 1460.56 Q700.77 1457.8 698.825 1456.07 Q696.904 1454.33 693.802 1454.33 Q691.603 1454.33 689.15 1455.09 Q686.719 1455.86 683.941 1457.41 L683.941 1452.69 Q686.765 1451.55 689.219 1450.97 Q691.673 1450.39 693.71 1450.39 Q699.08 1450.39 702.275 1453.08 Q705.469 1455.77 705.469 1460.26 Q705.469 1462.39 704.659 1464.31 Q703.872 1466.2 701.765 1468.8 Q701.187 1469.47 698.085 1472.69 Q694.983 1475.88 689.335 1481.64 Z\" fill=\"#000000\" fill-rule=\"evenodd\" fill-opacity=\"1\" /><path clip-path=\"url(#clip690)\" d=\"M715.515 1451.02 L733.872 1451.02 L733.872 1454.96 L719.798 1454.96 L719.798 1463.43 Q720.816 1463.08 721.835 1462.92 Q722.853 1462.73 723.872 1462.73 Q729.659 1462.73 733.038 1465.9 Q736.418 1469.08 736.418 1474.49 Q736.418 1480.07 732.946 1483.17 Q729.473 1486.25 723.154 1486.25 Q720.978 1486.25 718.71 1485.88 Q716.464 1485.51 714.057 1484.77 L714.057 1480.07 Q716.14 1481.2 718.362 1481.76 Q720.585 1482.32 723.061 1482.32 Q727.066 1482.32 729.404 1480.21 Q731.742 1478.1 731.742 1474.49 Q731.742 1470.88 729.404 1468.77 Q727.066 1466.67 723.061 1466.67 Q721.186 1466.67 719.311 1467.08 Q717.46 1467.5 715.515 1468.38 L715.515 1451.02 Z\" fill=\"#000000\" fill-rule=\"evenodd\" fill-opacity=\"1\" /><path clip-path=\"url(#clip690)\" d=\"M1211.47 1451.02 L1229.83 1451.02 L1229.83 1454.96 L1215.75 1454.96 L1215.75 1463.43 Q1216.77 1463.08 1217.79 1462.92 Q1218.81 1462.73 1219.83 1462.73 Q1225.61 1462.73 1228.99 1465.9 Q1232.37 1469.08 1232.37 1474.49 Q1232.37 1480.07 1228.9 1483.17 Q1225.43 1486.25 1219.11 1486.25 Q1216.93 1486.25 1214.66 1485.88 Q1212.42 1485.51 1210.01 1484.77 L1210.01 1480.07 Q1212.09 1481.2 1214.32 1481.76 Q1216.54 1482.32 1219.02 1482.32 Q1223.02 1482.32 1225.36 1480.21 Q1227.7 1478.1 1227.7 1474.49 Q1227.7 1470.88 1225.36 1468.77 Q1223.02 1466.67 1219.02 1466.67 Q1217.14 1466.67 1215.27 1467.08 Q1213.41 1467.5 1211.47 1468.38 L1211.47 1451.02 Z\" fill=\"#000000\" fill-rule=\"evenodd\" fill-opacity=\"1\" /><path clip-path=\"url(#clip690)\" d=\"M1251.59 1454.1 Q1247.97 1454.1 1246.15 1457.66 Q1244.34 1461.2 1244.34 1468.33 Q1244.34 1475.44 1246.15 1479.01 Q1247.97 1482.55 1251.59 1482.55 Q1255.22 1482.55 1257.02 1479.01 Q1258.85 1475.44 1258.85 1468.33 Q1258.85 1461.2 1257.02 1457.66 Q1255.22 1454.1 1251.59 1454.1 M1251.59 1450.39 Q1257.4 1450.39 1260.45 1455 Q1263.53 1459.58 1263.53 1468.33 Q1263.53 1477.06 1260.45 1481.67 Q1257.4 1486.25 1251.59 1486.25 Q1245.77 1486.25 1242.7 1481.67 Q1239.64 1477.06 1239.64 1468.33 Q1239.64 1459.58 1242.7 1455 Q1245.77 1450.39 1251.59 1450.39 Z\" fill=\"#000000\" fill-rule=\"evenodd\" fill-opacity=\"1\" /><path clip-path=\"url(#clip690)\" d=\"M1737.33 1451.02 L1759.55 1451.02 L1759.55 1453.01 L1747.01 1485.58 L1742.12 1485.58 L1753.93 1454.96 L1737.33 1454.96 L1737.33 1451.02 Z\" fill=\"#000000\" fill-rule=\"evenodd\" fill-opacity=\"1\" /><path clip-path=\"url(#clip690)\" d=\"M1768.72 1451.02 L1787.08 1451.02 L1787.08 1454.96 L1773 1454.96 L1773 1463.43 Q1774.02 1463.08 1775.04 1462.92 Q1776.06 1462.73 1777.08 1462.73 Q1782.86 1462.73 1786.24 1465.9 Q1789.62 1469.08 1789.62 1474.49 Q1789.62 1480.07 1786.15 1483.17 Q1782.68 1486.25 1776.36 1486.25 Q1774.18 1486.25 1771.91 1485.88 Q1769.67 1485.51 1767.26 1484.77 L1767.26 1480.07 Q1769.34 1481.2 1771.57 1481.76 Q1773.79 1482.32 1776.27 1482.32 Q1780.27 1482.32 1782.61 1480.21 Q1784.95 1478.1 1784.95 1474.49 Q1784.95 1470.88 1782.61 1468.77 Q1780.27 1466.67 1776.27 1466.67 Q1774.39 1466.67 1772.52 1467.08 Q1770.66 1467.5 1768.72 1468.38 L1768.72 1451.02 Z\" fill=\"#000000\" fill-rule=\"evenodd\" fill-opacity=\"1\" /><path clip-path=\"url(#clip690)\" d=\"M2249.79 1481.64 L2257.43 1481.64 L2257.43 1455.28 L2249.12 1456.95 L2249.12 1452.69 L2257.38 1451.02 L2262.06 1451.02 L2262.06 1481.64 L2269.7 1481.64 L2269.7 1485.58 L2249.79 1485.58 L2249.79 1481.64 Z\" fill=\"#000000\" fill-rule=\"evenodd\" fill-opacity=\"1\" /><path clip-path=\"url(#clip690)\" d=\"M2289.14 1454.1 Q2285.53 1454.1 2283.7 1457.66 Q2281.9 1461.2 2281.9 1468.33 Q2281.9 1475.44 2283.7 1479.01 Q2285.53 1482.55 2289.14 1482.55 Q2292.78 1482.55 2294.58 1479.01 Q2296.41 1475.44 2296.41 1468.33 Q2296.41 1461.2 2294.58 1457.66 Q2292.78 1454.1 2289.14 1454.1 M2289.14 1450.39 Q2294.95 1450.39 2298.01 1455 Q2301.09 1459.58 2301.09 1468.33 Q2301.09 1477.06 2298.01 1481.67 Q2294.95 1486.25 2289.14 1486.25 Q2283.33 1486.25 2280.25 1481.67 Q2277.2 1477.06 2277.2 1468.33 Q2277.2 1459.58 2280.25 1455 Q2283.33 1450.39 2289.14 1450.39 Z\" fill=\"#000000\" fill-rule=\"evenodd\" fill-opacity=\"1\" /><path clip-path=\"url(#clip690)\" d=\"M2319.3 1454.1 Q2315.69 1454.1 2313.86 1457.66 Q2312.06 1461.2 2312.06 1468.33 Q2312.06 1475.44 2313.86 1479.01 Q2315.69 1482.55 2319.3 1482.55 Q2322.94 1482.55 2324.74 1479.01 Q2326.57 1475.44 2326.57 1468.33 Q2326.57 1461.2 2324.74 1457.66 Q2322.94 1454.1 2319.3 1454.1 M2319.3 1450.39 Q2325.11 1450.39 2328.17 1455 Q2331.25 1459.58 2331.25 1468.33 Q2331.25 1477.06 2328.17 1481.67 Q2325.11 1486.25 2319.3 1486.25 Q2313.49 1486.25 2310.41 1481.67 Q2307.36 1477.06 2307.36 1468.33 Q2307.36 1459.58 2310.41 1455 Q2313.49 1450.39 2319.3 1450.39 Z\" fill=\"#000000\" fill-rule=\"evenodd\" fill-opacity=\"1\" /><path clip-path=\"url(#clip690)\" d=\"M1115.45 1532.4 L1121.31 1532.4 L1121.31 1568.04 L1115.45 1568.04 L1115.45 1532.4 M1115.45 1518.52 L1121.31 1518.52 L1121.31 1525.93 L1115.45 1525.93 L1115.45 1518.52 Z\" fill=\"#000000\" fill-rule=\"evenodd\" fill-opacity=\"1\" /><path clip-path=\"url(#clip690)\" d=\"M1139.36 1522.27 L1139.36 1532.4 L1151.42 1532.4 L1151.42 1536.95 L1139.36 1536.95 L1139.36 1556.3 Q1139.36 1560.66 1140.54 1561.9 Q1141.75 1563.14 1145.41 1563.14 L1151.42 1563.14 L1151.42 1568.04 L1145.41 1568.04 Q1138.63 1568.04 1136.05 1565.53 Q1133.47 1562.98 1133.47 1556.3 L1133.47 1536.95 L1129.17 1536.95 L1129.17 1532.4 L1133.47 1532.4 L1133.47 1522.27 L1139.36 1522.27 Z\" fill=\"#000000\" fill-rule=\"evenodd\" fill-opacity=\"1\" /><path clip-path=\"url(#clip690)\" d=\"M1189.62 1548.76 L1189.62 1551.62 L1162.69 1551.62 Q1163.07 1557.67 1166.32 1560.85 Q1169.6 1564 1175.42 1564 Q1178.79 1564 1181.94 1563.17 Q1185.13 1562.35 1188.25 1560.69 L1188.25 1566.23 Q1185.1 1567.57 1181.79 1568.27 Q1178.48 1568.97 1175.07 1568.97 Q1166.54 1568.97 1161.54 1564 Q1156.58 1559.04 1156.58 1550.57 Q1156.58 1541.82 1161.29 1536.69 Q1166.03 1531.54 1174.05 1531.54 Q1181.24 1531.54 1185.41 1536.18 Q1189.62 1540.8 1189.62 1548.76 M1183.76 1547.04 Q1183.7 1542.23 1181.05 1539.37 Q1178.44 1536.5 1174.11 1536.5 Q1169.21 1536.5 1166.25 1539.27 Q1163.32 1542.04 1162.88 1547.07 L1183.76 1547.04 Z\" fill=\"#000000\" fill-rule=\"evenodd\" fill-opacity=\"1\" /><path clip-path=\"url(#clip690)\" d=\"M1219.88 1537.87 Q1218.9 1537.3 1217.72 1537.04 Q1216.57 1536.76 1215.17 1536.76 Q1210.21 1536.76 1207.53 1540 Q1204.89 1543.22 1204.89 1549.27 L1204.89 1568.04 L1199 1568.04 L1199 1532.4 L1204.89 1532.4 L1204.89 1537.93 Q1206.74 1534.69 1209.7 1533.13 Q1212.66 1531.54 1216.89 1531.54 Q1217.5 1531.54 1218.23 1531.63 Q1218.96 1531.7 1219.85 1531.85 L1219.88 1537.87 Z\" fill=\"#000000\" fill-rule=\"evenodd\" fill-opacity=\"1\" /><path clip-path=\"url(#clip690)\" d=\"M1242.23 1550.12 Q1235.13 1550.12 1232.39 1551.75 Q1229.66 1553.37 1229.66 1557.29 Q1229.66 1560.4 1231.69 1562.25 Q1233.76 1564.07 1237.29 1564.07 Q1242.16 1564.07 1245.09 1560.63 Q1248.05 1557.16 1248.05 1551.43 L1248.05 1550.12 L1242.23 1550.12 M1253.91 1547.71 L1253.91 1568.04 L1248.05 1568.04 L1248.05 1562.63 Q1246.05 1565.88 1243.06 1567.44 Q1240.06 1568.97 1235.73 1568.97 Q1230.26 1568.97 1227.01 1565.91 Q1223.8 1562.82 1223.8 1557.67 Q1223.8 1551.65 1227.81 1548.6 Q1231.85 1545.54 1239.84 1545.54 L1248.05 1545.54 L1248.05 1544.97 Q1248.05 1540.93 1245.38 1538.73 Q1242.74 1536.5 1237.93 1536.5 Q1234.88 1536.5 1231.98 1537.23 Q1229.08 1537.97 1226.41 1539.43 L1226.41 1534.02 Q1229.62 1532.78 1232.65 1532.17 Q1235.67 1531.54 1238.54 1531.54 Q1246.27 1531.54 1250.09 1535.55 Q1253.91 1539.56 1253.91 1547.71 Z\" fill=\"#000000\" fill-rule=\"evenodd\" fill-opacity=\"1\" /><path clip-path=\"url(#clip690)\" d=\"M1271.76 1522.27 L1271.76 1532.4 L1283.83 1532.4 L1283.83 1536.95 L1271.76 1536.95 L1271.76 1556.3 Q1271.76 1560.66 1272.94 1561.9 Q1274.15 1563.14 1277.81 1563.14 L1283.83 1563.14 L1283.83 1568.04 L1277.81 1568.04 Q1271.03 1568.04 1268.45 1565.53 Q1265.88 1562.98 1265.88 1556.3 L1265.88 1536.95 L1261.58 1536.95 L1261.58 1532.4 L1265.88 1532.4 L1265.88 1522.27 L1271.76 1522.27 Z\" fill=\"#000000\" fill-rule=\"evenodd\" fill-opacity=\"1\" /><path clip-path=\"url(#clip690)\" d=\"M1291.53 1532.4 L1297.39 1532.4 L1297.39 1568.04 L1291.53 1568.04 L1291.53 1532.4 M1291.53 1518.52 L1297.39 1518.52 L1297.39 1525.93 L1291.53 1525.93 L1291.53 1518.52 Z\" fill=\"#000000\" fill-rule=\"evenodd\" fill-opacity=\"1\" /><path clip-path=\"url(#clip690)\" d=\"M1323.45 1536.5 Q1318.74 1536.5 1316.01 1540.19 Q1313.27 1543.85 1313.27 1550.25 Q1313.27 1556.65 1315.97 1560.34 Q1318.71 1564 1323.45 1564 Q1328.13 1564 1330.87 1560.31 Q1333.61 1556.62 1333.61 1550.25 Q1333.61 1543.92 1330.87 1540.23 Q1328.13 1536.5 1323.45 1536.5 M1323.45 1531.54 Q1331.09 1531.54 1335.45 1536.5 Q1339.81 1541.47 1339.81 1550.25 Q1339.81 1559 1335.45 1564 Q1331.09 1568.97 1323.45 1568.97 Q1315.78 1568.97 1311.42 1564 Q1307.09 1559 1307.09 1550.25 Q1307.09 1541.47 1311.42 1536.5 Q1315.78 1531.54 1323.45 1531.54 Z\" fill=\"#000000\" fill-rule=\"evenodd\" fill-opacity=\"1\" /><path clip-path=\"url(#clip690)\" d=\"M1379.15 1546.53 L1379.15 1568.04 L1373.3 1568.04 L1373.3 1546.72 Q1373.3 1541.66 1371.32 1539.14 Q1369.35 1536.63 1365.4 1536.63 Q1360.66 1536.63 1357.92 1539.65 Q1355.19 1542.68 1355.19 1547.9 L1355.19 1568.04 L1349.3 1568.04 L1349.3 1532.4 L1355.19 1532.4 L1355.19 1537.93 Q1357.29 1534.72 1360.12 1533.13 Q1362.99 1531.54 1366.71 1531.54 Q1372.85 1531.54 1376 1535.36 Q1379.15 1539.14 1379.15 1546.53 Z\" fill=\"#000000\" fill-rule=\"evenodd\" fill-opacity=\"1\" /><polyline clip-path=\"url(#clip692)\" style=\"stroke:#000000; stroke-linecap:butt; stroke-linejoin:round; stroke-width:2; stroke-opacity:0.1; fill:none\" points=\"\n",
       "  141.853,1323.07 2352.76,1323.07 \n",
       "  \"/>\n",
       "<polyline clip-path=\"url(#clip692)\" style=\"stroke:#000000; stroke-linecap:butt; stroke-linejoin:round; stroke-width:2; stroke-opacity:0.1; fill:none\" points=\"\n",
       "  141.853,1113.03 2352.76,1113.03 \n",
       "  \"/>\n",
       "<polyline clip-path=\"url(#clip692)\" style=\"stroke:#000000; stroke-linecap:butt; stroke-linejoin:round; stroke-width:2; stroke-opacity:0.1; fill:none\" points=\"\n",
       "  141.853,902.996 2352.76,902.996 \n",
       "  \"/>\n",
       "<polyline clip-path=\"url(#clip692)\" style=\"stroke:#000000; stroke-linecap:butt; stroke-linejoin:round; stroke-width:2; stroke-opacity:0.1; fill:none\" points=\"\n",
       "  141.853,692.962 2352.76,692.962 \n",
       "  \"/>\n",
       "<polyline clip-path=\"url(#clip692)\" style=\"stroke:#000000; stroke-linecap:butt; stroke-linejoin:round; stroke-width:2; stroke-opacity:0.1; fill:none\" points=\"\n",
       "  141.853,482.927 2352.76,482.927 \n",
       "  \"/>\n",
       "<polyline clip-path=\"url(#clip692)\" style=\"stroke:#000000; stroke-linecap:butt; stroke-linejoin:round; stroke-width:2; stroke-opacity:0.1; fill:none\" points=\"\n",
       "  141.853,272.892 2352.76,272.892 \n",
       "  \"/>\n",
       "<polyline clip-path=\"url(#clip692)\" style=\"stroke:#000000; stroke-linecap:butt; stroke-linejoin:round; stroke-width:2; stroke-opacity:0.1; fill:none\" points=\"\n",
       "  141.853,62.8578 2352.76,62.8578 \n",
       "  \"/>\n",
       "<polyline clip-path=\"url(#clip690)\" style=\"stroke:#000000; stroke-linecap:butt; stroke-linejoin:round; stroke-width:4; stroke-opacity:1; fill:none\" points=\"\n",
       "  141.853,1423.18 141.853,47.2441 \n",
       "  \"/>\n",
       "<polyline clip-path=\"url(#clip690)\" style=\"stroke:#000000; stroke-linecap:butt; stroke-linejoin:round; stroke-width:4; stroke-opacity:1; fill:none\" points=\"\n",
       "  141.853,1323.07 160.751,1323.07 \n",
       "  \"/>\n",
       "<polyline clip-path=\"url(#clip690)\" style=\"stroke:#000000; stroke-linecap:butt; stroke-linejoin:round; stroke-width:4; stroke-opacity:1; fill:none\" points=\"\n",
       "  141.853,1113.03 160.751,1113.03 \n",
       "  \"/>\n",
       "<polyline clip-path=\"url(#clip690)\" style=\"stroke:#000000; stroke-linecap:butt; stroke-linejoin:round; stroke-width:4; stroke-opacity:1; fill:none\" points=\"\n",
       "  141.853,902.996 160.751,902.996 \n",
       "  \"/>\n",
       "<polyline clip-path=\"url(#clip690)\" style=\"stroke:#000000; stroke-linecap:butt; stroke-linejoin:round; stroke-width:4; stroke-opacity:1; fill:none\" points=\"\n",
       "  141.853,692.962 160.751,692.962 \n",
       "  \"/>\n",
       "<polyline clip-path=\"url(#clip690)\" style=\"stroke:#000000; stroke-linecap:butt; stroke-linejoin:round; stroke-width:4; stroke-opacity:1; fill:none\" points=\"\n",
       "  141.853,482.927 160.751,482.927 \n",
       "  \"/>\n",
       "<polyline clip-path=\"url(#clip690)\" style=\"stroke:#000000; stroke-linecap:butt; stroke-linejoin:round; stroke-width:4; stroke-opacity:1; fill:none\" points=\"\n",
       "  141.853,272.892 160.751,272.892 \n",
       "  \"/>\n",
       "<polyline clip-path=\"url(#clip690)\" style=\"stroke:#000000; stroke-linecap:butt; stroke-linejoin:round; stroke-width:4; stroke-opacity:1; fill:none\" points=\"\n",
       "  141.853,62.8578 160.751,62.8578 \n",
       "  \"/>\n",
       "<path clip-path=\"url(#clip690)\" d=\"M67.9133 1321.71 Q71.2698 1322.43 73.1448 1324.7 Q75.0429 1326.97 75.0429 1330.3 Q75.0429 1335.41 71.5244 1338.22 Q68.0059 1341.02 61.5245 1341.02 Q59.3486 1341.02 57.0338 1340.58 Q54.7421 1340.16 52.2884 1339.3 L52.2884 1334.79 Q54.2328 1335.92 56.5477 1336.5 Q58.8625 1337.08 61.3856 1337.08 Q65.7837 1337.08 68.0754 1335.35 Q70.3902 1333.61 70.3902 1330.3 Q70.3902 1327.24 68.2374 1325.53 Q66.1078 1323.79 62.2884 1323.79 L58.2606 1323.79 L58.2606 1319.95 L62.4735 1319.95 Q65.9226 1319.95 67.7513 1318.59 Q69.58 1317.2 69.58 1314.6 Q69.58 1311.94 67.6819 1310.53 Q65.8069 1309.1 62.2884 1309.1 Q60.3671 1309.1 58.168 1309.51 Q55.969 1309.93 53.3301 1310.81 L53.3301 1306.64 Q55.9921 1305.9 58.3069 1305.53 Q60.6449 1305.16 62.705 1305.16 Q68.0291 1305.16 71.1309 1307.59 Q74.2327 1310 74.2327 1314.12 Q74.2327 1316.99 72.5892 1318.98 Q70.9457 1320.95 67.9133 1321.71 Z\" fill=\"#000000\" fill-rule=\"evenodd\" fill-opacity=\"1\" /><path clip-path=\"url(#clip690)\" d=\"M93.9086 1308.86 Q90.2975 1308.86 88.4688 1312.43 Q86.6632 1315.97 86.6632 1323.1 Q86.6632 1330.21 88.4688 1333.77 Q90.2975 1337.31 93.9086 1337.31 Q97.5428 1337.31 99.3483 1333.77 Q101.177 1330.21 101.177 1323.1 Q101.177 1315.97 99.3483 1312.43 Q97.5428 1308.86 93.9086 1308.86 M93.9086 1305.16 Q99.7187 1305.16 102.774 1309.77 Q105.853 1314.35 105.853 1323.1 Q105.853 1331.83 102.774 1336.43 Q99.7187 1341.02 93.9086 1341.02 Q88.0984 1341.02 85.0197 1336.43 Q81.9642 1331.83 81.9642 1323.1 Q81.9642 1314.35 85.0197 1309.77 Q88.0984 1305.16 93.9086 1305.16 Z\" fill=\"#000000\" fill-rule=\"evenodd\" fill-opacity=\"1\" /><path clip-path=\"url(#clip690)\" d=\"M68.9087 1111.68 Q72.2652 1112.39 74.1402 1114.66 Q76.0383 1116.93 76.0383 1120.26 Q76.0383 1125.38 72.5198 1128.18 Q69.0013 1130.98 62.5198 1130.98 Q60.3439 1130.98 58.0291 1130.54 Q55.7375 1130.13 53.2838 1129.27 L53.2838 1124.76 Q55.2282 1125.89 57.543 1126.47 Q59.8578 1127.05 62.381 1127.05 Q66.7791 1127.05 69.0707 1125.31 Q71.3855 1123.57 71.3855 1120.26 Q71.3855 1117.21 69.2328 1115.5 Q67.1032 1113.76 63.2837 1113.76 L59.256 1113.76 L59.256 1109.92 L63.4689 1109.92 Q66.918 1109.92 68.7467 1108.55 Q70.5754 1107.16 70.5754 1104.57 Q70.5754 1101.91 68.6772 1100.5 Q66.8022 1099.06 63.2837 1099.06 Q61.3624 1099.06 59.1634 1099.48 Q56.9643 1099.89 54.3254 1100.77 L54.3254 1096.61 Q56.9875 1095.87 59.3023 1095.5 Q61.6402 1095.13 63.7004 1095.13 Q69.0244 1095.13 72.1263 1097.56 Q75.2281 1099.96 75.2281 1104.08 Q75.2281 1106.95 73.5846 1108.95 Q71.9411 1110.91 68.9087 1111.68 Z\" fill=\"#000000\" fill-rule=\"evenodd\" fill-opacity=\"1\" /><path clip-path=\"url(#clip690)\" d=\"M84.9503 1095.75 L103.307 1095.75 L103.307 1099.69 L89.2327 1099.69 L89.2327 1108.16 Q90.2512 1107.81 91.2697 1107.65 Q92.2882 1107.46 93.3067 1107.46 Q99.0937 1107.46 102.473 1110.63 Q105.853 1113.81 105.853 1119.22 Q105.853 1124.8 102.381 1127.9 Q98.9085 1130.98 92.5891 1130.98 Q90.4132 1130.98 88.1447 1130.61 Q85.8993 1130.24 83.492 1129.5 L83.492 1124.8 Q85.5753 1125.94 87.7975 1126.49 Q90.0197 1127.05 92.4965 1127.05 Q96.5011 1127.05 98.8391 1124.94 Q101.177 1122.83 101.177 1119.22 Q101.177 1115.61 98.8391 1113.51 Q96.5011 1111.4 92.4965 1111.4 Q90.6215 1111.4 88.7466 1111.82 Q86.8947 1112.23 84.9503 1113.11 L84.9503 1095.75 Z\" fill=\"#000000\" fill-rule=\"evenodd\" fill-opacity=\"1\" /><path clip-path=\"url(#clip690)\" d=\"M66.5939 889.79 L54.7884 908.239 L66.5939 908.239 L66.5939 889.79 M65.367 885.716 L71.2466 885.716 L71.2466 908.239 L76.1772 908.239 L76.1772 912.128 L71.2466 912.128 L71.2466 920.276 L66.5939 920.276 L66.5939 912.128 L50.9921 912.128 L50.9921 907.614 L65.367 885.716 Z\" fill=\"#000000\" fill-rule=\"evenodd\" fill-opacity=\"1\" /><path clip-path=\"url(#clip690)\" d=\"M93.9086 888.795 Q90.2975 888.795 88.4688 892.36 Q86.6632 895.901 86.6632 903.031 Q86.6632 910.137 88.4688 913.702 Q90.2975 917.244 93.9086 917.244 Q97.5428 917.244 99.3483 913.702 Q101.177 910.137 101.177 903.031 Q101.177 895.901 99.3483 892.36 Q97.5428 888.795 93.9086 888.795 M93.9086 885.091 Q99.7187 885.091 102.774 889.698 Q105.853 894.281 105.853 903.031 Q105.853 911.758 102.774 916.364 Q99.7187 920.947 93.9086 920.947 Q88.0984 920.947 85.0197 916.364 Q81.9642 911.758 81.9642 903.031 Q81.9642 894.281 85.0197 889.698 Q88.0984 885.091 93.9086 885.091 Z\" fill=\"#000000\" fill-rule=\"evenodd\" fill-opacity=\"1\" /><path clip-path=\"url(#clip690)\" d=\"M67.5893 679.756 L55.7838 698.205 L67.5893 698.205 L67.5893 679.756 M66.3624 675.682 L72.242 675.682 L72.242 698.205 L77.1725 698.205 L77.1725 702.093 L72.242 702.093 L72.242 710.242 L67.5893 710.242 L67.5893 702.093 L51.9875 702.093 L51.9875 697.58 L66.3624 675.682 Z\" fill=\"#000000\" fill-rule=\"evenodd\" fill-opacity=\"1\" /><path clip-path=\"url(#clip690)\" d=\"M84.9503 675.682 L103.307 675.682 L103.307 679.617 L89.2327 679.617 L89.2327 688.089 Q90.2512 687.742 91.2697 687.58 Q92.2882 687.395 93.3067 687.395 Q99.0937 687.395 102.473 690.566 Q105.853 693.737 105.853 699.154 Q105.853 704.732 102.381 707.834 Q98.9085 710.913 92.5891 710.913 Q90.4132 710.913 88.1447 710.543 Q85.8993 710.172 83.492 709.431 L83.492 704.732 Q85.5753 705.867 87.7975 706.422 Q90.0197 706.978 92.4965 706.978 Q96.5011 706.978 98.8391 704.871 Q101.177 702.765 101.177 699.154 Q101.177 695.543 98.8391 693.436 Q96.5011 691.33 92.4965 691.33 Q90.6215 691.33 88.7466 691.746 Q86.8947 692.163 84.9503 693.043 L84.9503 675.682 Z\" fill=\"#000000\" fill-rule=\"evenodd\" fill-opacity=\"1\" /><path clip-path=\"url(#clip690)\" d=\"M53.793 465.647 L72.1494 465.647 L72.1494 469.582 L58.0754 469.582 L58.0754 478.054 Q59.0939 477.707 60.1124 477.545 Q61.131 477.36 62.1495 477.36 Q67.9365 477.36 71.3161 480.531 Q74.6957 483.702 74.6957 489.119 Q74.6957 494.698 71.2235 497.8 Q67.7513 500.878 61.4319 500.878 Q59.256 500.878 56.9875 500.508 Q54.7421 500.138 52.3347 499.397 L52.3347 494.698 Q54.418 495.832 56.6402 496.388 Q58.8625 496.943 61.3393 496.943 Q65.3439 496.943 67.6819 494.837 Q70.0198 492.73 70.0198 489.119 Q70.0198 485.508 67.6819 483.402 Q65.3439 481.295 61.3393 481.295 Q59.4643 481.295 57.5893 481.712 Q55.7375 482.128 53.793 483.008 L53.793 465.647 Z\" fill=\"#000000\" fill-rule=\"evenodd\" fill-opacity=\"1\" /><path clip-path=\"url(#clip690)\" d=\"M93.9086 468.726 Q90.2975 468.726 88.4688 472.291 Q86.6632 475.832 86.6632 482.962 Q86.6632 490.068 88.4688 493.633 Q90.2975 497.175 93.9086 497.175 Q97.5428 497.175 99.3483 493.633 Q101.177 490.068 101.177 482.962 Q101.177 475.832 99.3483 472.291 Q97.5428 468.726 93.9086 468.726 M93.9086 465.022 Q99.7187 465.022 102.774 469.628 Q105.853 474.212 105.853 482.962 Q105.853 491.689 102.774 496.295 Q99.7187 500.878 93.9086 500.878 Q88.0984 500.878 85.0197 496.295 Q81.9642 491.689 81.9642 482.962 Q81.9642 474.212 85.0197 469.628 Q88.0984 465.022 93.9086 465.022 Z\" fill=\"#000000\" fill-rule=\"evenodd\" fill-opacity=\"1\" /><path clip-path=\"url(#clip690)\" d=\"M54.7884 255.612 L73.1448 255.612 L73.1448 259.548 L59.0708 259.548 L59.0708 268.02 Q60.0893 267.673 61.1078 267.511 Q62.1263 267.325 63.1448 267.325 Q68.9318 267.325 72.3115 270.497 Q75.6911 273.668 75.6911 279.085 Q75.6911 284.663 72.2189 287.765 Q68.7467 290.844 62.4272 290.844 Q60.2513 290.844 57.9828 290.473 Q55.7375 290.103 53.3301 289.362 L53.3301 284.663 Q55.4134 285.797 57.6356 286.353 Q59.8578 286.909 62.3347 286.909 Q66.3393 286.909 68.6772 284.802 Q71.0152 282.696 71.0152 279.085 Q71.0152 275.473 68.6772 273.367 Q66.3393 271.26 62.3347 271.26 Q60.4597 271.26 58.5847 271.677 Q56.7328 272.094 54.7884 272.973 L54.7884 255.612 Z\" fill=\"#000000\" fill-rule=\"evenodd\" fill-opacity=\"1\" /><path clip-path=\"url(#clip690)\" d=\"M84.9503 255.612 L103.307 255.612 L103.307 259.548 L89.2327 259.548 L89.2327 268.02 Q90.2512 267.673 91.2697 267.511 Q92.2882 267.325 93.3067 267.325 Q99.0937 267.325 102.473 270.497 Q105.853 273.668 105.853 279.085 Q105.853 284.663 102.381 287.765 Q98.9085 290.844 92.5891 290.844 Q90.4132 290.844 88.1447 290.473 Q85.8993 290.103 83.492 289.362 L83.492 284.663 Q85.5753 285.797 87.7975 286.353 Q90.0197 286.909 92.4965 286.909 Q96.5011 286.909 98.8391 284.802 Q101.177 282.696 101.177 279.085 Q101.177 275.473 98.8391 273.367 Q96.5011 271.26 92.4965 271.26 Q90.6215 271.26 88.7466 271.677 Q86.8947 272.094 84.9503 272.973 L84.9503 255.612 Z\" fill=\"#000000\" fill-rule=\"evenodd\" fill-opacity=\"1\" /><path clip-path=\"url(#clip690)\" d=\"M64.3254 60.9944 Q61.1773 60.9944 59.3254 63.1472 Q57.4967 65.3 57.4967 69.0499 Q57.4967 72.7768 59.3254 74.9527 Q61.1773 77.1055 64.3254 77.1055 Q67.4735 77.1055 69.3022 74.9527 Q71.1541 72.7768 71.1541 69.0499 Q71.1541 65.3 69.3022 63.1472 Q67.4735 60.9944 64.3254 60.9944 M73.6077 46.3417 L73.6077 50.601 Q71.8485 49.7676 70.0429 49.3278 Q68.2606 48.888 66.5013 48.888 Q61.8717 48.888 59.418 52.013 Q56.9875 55.138 56.6402 61.4574 Q58.006 59.4435 60.0662 58.3787 Q62.1263 57.2907 64.6032 57.2907 Q69.8115 57.2907 72.8207 60.462 Q75.8531 63.6102 75.8531 69.0499 Q75.8531 74.374 72.705 77.5916 Q69.5568 80.8091 64.3254 80.8091 Q58.33 80.8091 55.1588 76.2258 Q51.9875 71.6194 51.9875 62.8926 Q51.9875 54.6982 55.8764 49.8371 Q59.7652 44.9528 66.3161 44.9528 Q68.0754 44.9528 69.8578 45.3001 Q71.6633 45.6473 73.6077 46.3417 Z\" fill=\"#000000\" fill-rule=\"evenodd\" fill-opacity=\"1\" /><path clip-path=\"url(#clip690)\" d=\"M93.9086 48.6565 Q90.2975 48.6565 88.4688 52.2213 Q86.6632 55.763 86.6632 62.8926 Q86.6632 69.999 88.4688 73.5638 Q90.2975 77.1055 93.9086 77.1055 Q97.5428 77.1055 99.3483 73.5638 Q101.177 69.999 101.177 62.8926 Q101.177 55.763 99.3483 52.2213 Q97.5428 48.6565 93.9086 48.6565 M93.9086 44.9528 Q99.7187 44.9528 102.774 49.5593 Q105.853 54.1426 105.853 62.8926 Q105.853 71.6194 102.774 76.2258 Q99.7187 80.8091 93.9086 80.8091 Q88.0984 80.8091 85.0197 76.2258 Q81.9642 71.6194 81.9642 62.8926 Q81.9642 54.1426 85.0197 49.5593 Q88.0984 44.9528 93.9086 44.9528 Z\" fill=\"#000000\" fill-rule=\"evenodd\" fill-opacity=\"1\" /><polyline clip-path=\"url(#clip692)\" style=\"stroke:#009af9; stroke-linecap:butt; stroke-linejoin:round; stroke-width:4; stroke-opacity:1; fill:none\" points=\"\n",
       "  204.426,1314.09 225.494,1314.09 246.562,1314.09 267.63,1314.09 288.699,1314.09 309.767,1314.09 330.835,1314.09 351.903,1314.09 372.972,1314.09 394.04,1314.09 \n",
       "  415.108,1314.09 436.177,86.1857 457.245,616.036 478.313,616.036 499.381,616.036 520.45,616.036 541.518,1384.24 562.586,1384.24 583.654,1384.24 604.723,1384.24 \n",
       "  625.791,1384.24 646.859,1384.24 667.927,1384.24 688.996,1384.24 710.064,1384.24 731.132,1384.24 752.2,1384.24 773.269,1384.24 794.337,1384.24 815.405,1384.24 \n",
       "  836.473,1384.24 857.542,1384.24 878.61,1384.24 899.678,1384.24 920.746,1384.24 941.815,1384.24 962.883,1384.24 983.951,1384.24 1005.02,1384.24 1026.09,1384.24 \n",
       "  1047.16,1384.24 1068.22,1384.24 1089.29,1384.24 1110.36,1384.24 1131.43,1384.24 1152.5,1384.24 1173.57,1384.24 1194.63,1384.24 1215.7,1384.24 1236.77,1384.24 \n",
       "  1257.84,1384.24 1278.91,1384.24 1299.98,1384.24 1321.04,1384.24 1342.11,1384.24 1363.18,1384.24 1384.25,1384.24 1405.32,1384.24 1426.38,1384.24 1447.45,1384.24 \n",
       "  1468.52,1384.24 1489.59,1384.24 1510.66,1384.24 1531.73,1384.24 1552.79,1384.24 1573.86,1384.24 1594.93,1384.24 1616,1384.24 1637.07,1384.24 1658.14,1384.24 \n",
       "  1679.2,1384.24 1700.27,1384.24 1721.34,1384.24 1742.41,1384.24 1763.48,1384.24 1784.54,1384.24 1805.61,1384.24 1826.68,1384.24 1847.75,1384.24 1868.82,1384.24 \n",
       "  1889.89,1384.24 1910.95,1384.24 1932.02,1384.24 1953.09,1384.24 1974.16,1384.24 1995.23,1384.24 2016.3,1384.24 2037.36,1384.24 2058.43,1384.24 2079.5,1384.24 \n",
       "  2100.57,1384.24 2121.64,1384.24 2142.71,1384.24 2163.77,1384.24 2184.84,1384.24 2205.91,1384.24 2226.98,1384.24 2248.05,1384.24 2269.11,1384.24 2290.18,1384.24 \n",
       "  \n",
       "  \"/>\n",
       "<path clip-path=\"url(#clip690)\" d=\"\n",
       "M1567.9 196.789 L2279.06 196.789 L2279.06 93.1086 L1567.9 93.1086  Z\n",
       "  \" fill=\"#ffffff\" fill-rule=\"evenodd\" fill-opacity=\"1\"/>\n",
       "<polyline clip-path=\"url(#clip690)\" style=\"stroke:#000000; stroke-linecap:butt; stroke-linejoin:round; stroke-width:4; stroke-opacity:1; fill:none\" points=\"\n",
       "  1567.9,196.789 2279.06,196.789 2279.06,93.1086 1567.9,93.1086 1567.9,196.789 \n",
       "  \"/>\n",
       "<polyline clip-path=\"url(#clip690)\" style=\"stroke:#009af9; stroke-linecap:butt; stroke-linejoin:round; stroke-width:4; stroke-opacity:1; fill:none\" points=\"\n",
       "  1592.46,144.949 1739.86,144.949 \n",
       "  \"/>\n",
       "<path clip-path=\"url(#clip690)\" d=\"M1786.13 146.581 L1786.13 162.229 L1781.87 162.229 L1781.87 146.719 Q1781.87 143.039 1780.44 141.21 Q1779 139.382 1776.13 139.382 Q1772.69 139.382 1770.69 141.581 Q1768.7 143.78 1768.7 147.576 L1768.7 162.229 L1764.42 162.229 L1764.42 136.303 L1768.7 136.303 L1768.7 140.331 Q1770.23 137.993 1772.29 136.835 Q1774.37 135.678 1777.08 135.678 Q1781.55 135.678 1783.84 138.456 Q1786.13 141.21 1786.13 146.581 Z\" fill=\"#000000\" fill-rule=\"evenodd\" fill-opacity=\"1\" /><path clip-path=\"url(#clip690)\" d=\"M1804.68 139.289 Q1801.25 139.289 1799.26 141.974 Q1797.27 144.636 1797.27 149.289 Q1797.27 153.942 1799.24 156.627 Q1801.23 159.289 1804.68 159.289 Q1808.08 159.289 1810.07 156.604 Q1812.06 153.918 1812.06 149.289 Q1812.06 144.682 1810.07 141.997 Q1808.08 139.289 1804.68 139.289 M1804.68 135.678 Q1810.23 135.678 1813.4 139.289 Q1816.57 142.9 1816.57 149.289 Q1816.57 155.655 1813.4 159.289 Q1810.23 162.9 1804.68 162.9 Q1799.1 162.9 1795.93 159.289 Q1792.78 155.655 1792.78 149.289 Q1792.78 142.9 1795.93 139.289 Q1799.1 135.678 1804.68 135.678 Z\" fill=\"#000000\" fill-rule=\"evenodd\" fill-opacity=\"1\" /><path clip-path=\"url(#clip690)\" d=\"M1838.66 140.284 Q1837.94 139.868 1837.08 139.682 Q1836.25 139.474 1835.23 139.474 Q1831.62 139.474 1829.68 141.835 Q1827.75 144.173 1827.75 148.571 L1827.75 162.229 L1823.47 162.229 L1823.47 136.303 L1827.75 136.303 L1827.75 140.331 Q1829.1 137.969 1831.25 136.835 Q1833.4 135.678 1836.48 135.678 Q1836.92 135.678 1837.45 135.747 Q1837.99 135.794 1838.63 135.909 L1838.66 140.284 Z\" fill=\"#000000\" fill-rule=\"evenodd\" fill-opacity=\"1\" /><path clip-path=\"url(#clip690)\" d=\"M1862.48 141.28 Q1864.07 138.409 1866.3 137.044 Q1868.52 135.678 1871.53 135.678 Q1875.58 135.678 1877.78 138.525 Q1879.98 141.349 1879.98 146.581 L1879.98 162.229 L1875.69 162.229 L1875.69 146.719 Q1875.69 142.993 1874.37 141.187 Q1873.05 139.382 1870.35 139.382 Q1867.04 139.382 1865.12 141.581 Q1863.19 143.78 1863.19 147.576 L1863.19 162.229 L1858.91 162.229 L1858.91 146.719 Q1858.91 142.969 1857.59 141.187 Q1856.27 139.382 1853.52 139.382 Q1850.25 139.382 1848.33 141.604 Q1846.41 143.803 1846.41 147.576 L1846.41 162.229 L1842.13 162.229 L1842.13 136.303 L1846.41 136.303 L1846.41 140.331 Q1847.87 137.946 1849.91 136.812 Q1851.94 135.678 1854.74 135.678 Q1857.57 135.678 1859.54 137.113 Q1861.53 138.548 1862.48 141.28 Z\" fill=\"#000000\" fill-rule=\"evenodd\" fill-opacity=\"1\" /><path clip-path=\"url(#clip690)\" d=\"M1913.59 139.289 Q1910.16 139.289 1908.17 141.974 Q1906.18 144.636 1906.18 149.289 Q1906.18 153.942 1908.15 156.627 Q1910.14 159.289 1913.59 159.289 Q1916.99 159.289 1918.98 156.604 Q1920.97 153.918 1920.97 149.289 Q1920.97 144.682 1918.98 141.997 Q1916.99 139.289 1913.59 139.289 M1913.59 135.678 Q1919.14 135.678 1922.31 139.289 Q1925.49 142.9 1925.49 149.289 Q1925.49 155.655 1922.31 159.289 Q1919.14 162.9 1913.59 162.9 Q1908.01 162.9 1904.84 159.289 Q1901.69 155.655 1901.69 149.289 Q1901.69 142.9 1904.84 139.289 Q1908.01 135.678 1913.59 135.678 Z\" fill=\"#000000\" fill-rule=\"evenodd\" fill-opacity=\"1\" /><path clip-path=\"url(#clip690)\" d=\"M1945.67 126.21 L1945.67 129.752 L1941.6 129.752 Q1939.3 129.752 1938.4 130.678 Q1937.52 131.604 1937.52 134.011 L1937.52 136.303 L1944.54 136.303 L1944.54 139.613 L1937.52 139.613 L1937.52 162.229 L1933.24 162.229 L1933.24 139.613 L1929.17 139.613 L1929.17 136.303 L1933.24 136.303 L1933.24 134.497 Q1933.24 130.169 1935.25 128.201 Q1937.27 126.21 1941.64 126.21 L1945.67 126.21 Z\" fill=\"#000000\" fill-rule=\"evenodd\" fill-opacity=\"1\" /><path clip-path=\"url(#clip690)\" d=\"M1964.3 136.303 L1968.56 136.303 L1968.56 162.229 L1964.3 162.229 L1964.3 136.303 M1964.3 126.21 L1968.56 126.21 L1968.56 131.604 L1964.3 131.604 L1964.3 126.21 Z\" fill=\"#000000\" fill-rule=\"evenodd\" fill-opacity=\"1\" /><path clip-path=\"url(#clip690)\" d=\"M1981.69 128.942 L1981.69 136.303 L1990.46 136.303 L1990.46 139.613 L1981.69 139.613 L1981.69 153.687 Q1981.69 156.858 1982.55 157.761 Q1983.42 158.664 1986.09 158.664 L1990.46 158.664 L1990.46 162.229 L1986.09 162.229 Q1981.16 162.229 1979.28 160.4 Q1977.41 158.548 1977.41 153.687 L1977.41 139.613 L1974.28 139.613 L1974.28 136.303 L1977.41 136.303 L1977.41 128.942 L1981.69 128.942 Z\" fill=\"#000000\" fill-rule=\"evenodd\" fill-opacity=\"1\" /><path clip-path=\"url(#clip690)\" d=\"M2012.59 137.067 L2012.59 141.094 Q2010.79 140.169 2008.84 139.706 Q2006.9 139.243 2004.81 139.243 Q2001.64 139.243 2000.04 140.215 Q1998.47 141.187 1998.47 143.131 Q1998.47 144.613 1999.61 145.469 Q2000.74 146.303 2004.17 147.067 L2005.62 147.391 Q2010.16 148.363 2012.06 150.145 Q2013.98 151.905 2013.98 155.076 Q2013.98 158.687 2011.11 160.793 Q2008.26 162.9 2003.26 162.9 Q2001.18 162.9 1998.91 162.483 Q1996.67 162.09 1994.17 161.28 L1994.17 156.881 Q1996.53 158.108 1998.82 158.733 Q2001.11 159.335 2003.36 159.335 Q2006.36 159.335 2007.98 158.317 Q2009.61 157.275 2009.61 155.4 Q2009.61 153.664 2008.42 152.738 Q2007.27 151.812 2003.31 150.956 L2001.83 150.608 Q1997.87 149.775 1996.11 148.062 Q1994.35 146.326 1994.35 143.317 Q1994.35 139.659 1996.94 137.669 Q1999.54 135.678 2004.3 135.678 Q2006.67 135.678 2008.75 136.025 Q2010.83 136.372 2012.59 137.067 Z\" fill=\"#000000\" fill-rule=\"evenodd\" fill-opacity=\"1\" /><path clip-path=\"url(#clip690)\" d=\"M2052.89 148.965 Q2052.89 144.335 2050.97 141.789 Q2049.07 139.243 2045.62 139.243 Q2042.2 139.243 2040.28 141.789 Q2038.38 144.335 2038.38 148.965 Q2038.38 153.571 2040.28 156.118 Q2042.2 158.664 2045.62 158.664 Q2049.07 158.664 2050.97 156.118 Q2052.89 153.571 2052.89 148.965 M2057.15 159.011 Q2057.15 165.631 2054.21 168.849 Q2051.27 172.09 2045.21 172.09 Q2042.96 172.09 2040.97 171.742 Q2038.98 171.418 2037.1 170.724 L2037.1 166.58 Q2038.98 167.599 2040.81 168.085 Q2042.64 168.571 2044.54 168.571 Q2048.73 168.571 2050.81 166.372 Q2052.89 164.196 2052.89 159.775 L2052.89 157.668 Q2051.57 159.96 2049.51 161.094 Q2047.45 162.229 2044.58 162.229 Q2039.81 162.229 2036.9 158.594 Q2033.98 154.96 2033.98 148.965 Q2033.98 142.946 2036.9 139.312 Q2039.81 135.678 2044.58 135.678 Q2047.45 135.678 2049.51 136.812 Q2051.57 137.946 2052.89 140.238 L2052.89 136.303 L2057.15 136.303 L2057.15 159.011 Z\" fill=\"#000000\" fill-rule=\"evenodd\" fill-opacity=\"1\" /><path clip-path=\"url(#clip690)\" d=\"M2080.95 140.284 Q2080.23 139.868 2079.37 139.682 Q2078.54 139.474 2077.52 139.474 Q2073.91 139.474 2071.97 141.835 Q2070.04 144.173 2070.04 148.571 L2070.04 162.229 L2065.76 162.229 L2065.76 136.303 L2070.04 136.303 L2070.04 140.331 Q2071.39 137.969 2073.54 136.835 Q2075.69 135.678 2078.77 135.678 Q2079.21 135.678 2079.74 135.747 Q2080.28 135.794 2080.92 135.909 L2080.95 140.284 Z\" fill=\"#000000\" fill-rule=\"evenodd\" fill-opacity=\"1\" /><path clip-path=\"url(#clip690)\" d=\"M2097.2 149.196 Q2092.04 149.196 2090.04 150.377 Q2088.05 151.557 2088.05 154.405 Q2088.05 156.673 2089.54 158.016 Q2091.04 159.335 2093.61 159.335 Q2097.15 159.335 2099.28 156.835 Q2101.43 154.312 2101.43 150.145 L2101.43 149.196 L2097.2 149.196 M2105.69 147.437 L2105.69 162.229 L2101.43 162.229 L2101.43 158.293 Q2099.97 160.655 2097.8 161.789 Q2095.62 162.9 2092.47 162.9 Q2088.49 162.9 2086.13 160.678 Q2083.79 158.432 2083.79 154.682 Q2083.79 150.307 2086.71 148.085 Q2089.65 145.863 2095.46 145.863 L2101.43 145.863 L2101.43 145.446 Q2101.43 142.507 2099.49 140.909 Q2097.57 139.289 2094.07 139.289 Q2091.85 139.289 2089.74 139.821 Q2087.64 140.354 2085.69 141.419 L2085.69 137.483 Q2088.03 136.581 2090.23 136.141 Q2092.43 135.678 2094.51 135.678 Q2100.14 135.678 2102.91 138.594 Q2105.69 141.511 2105.69 147.437 Z\" fill=\"#000000\" fill-rule=\"evenodd\" fill-opacity=\"1\" /><path clip-path=\"url(#clip690)\" d=\"M2131.53 140.238 L2131.53 126.21 L2135.78 126.21 L2135.78 162.229 L2131.53 162.229 L2131.53 158.34 Q2130.18 160.655 2128.12 161.789 Q2126.09 162.9 2123.22 162.9 Q2118.52 162.9 2115.55 159.15 Q2112.61 155.4 2112.61 149.289 Q2112.61 143.178 2115.55 139.428 Q2118.52 135.678 2123.22 135.678 Q2126.09 135.678 2128.12 136.812 Q2130.18 137.923 2131.53 140.238 M2117.01 149.289 Q2117.01 153.988 2118.93 156.673 Q2120.88 159.335 2124.26 159.335 Q2127.64 159.335 2129.58 156.673 Q2131.53 153.988 2131.53 149.289 Q2131.53 144.59 2129.58 141.928 Q2127.64 139.243 2124.26 139.243 Q2120.88 139.243 2118.93 141.928 Q2117.01 144.59 2117.01 149.289 Z\" fill=\"#000000\" fill-rule=\"evenodd\" fill-opacity=\"1\" /><path clip-path=\"url(#clip690)\" d=\"M2144.56 136.303 L2148.82 136.303 L2148.82 162.229 L2144.56 162.229 L2144.56 136.303 M2144.56 126.21 L2148.82 126.21 L2148.82 131.604 L2144.56 131.604 L2144.56 126.21 Z\" fill=\"#000000\" fill-rule=\"evenodd\" fill-opacity=\"1\" /><path clip-path=\"url(#clip690)\" d=\"M2179.91 148.201 L2179.91 150.284 L2160.32 150.284 Q2160.6 154.682 2162.96 156.997 Q2165.34 159.289 2169.58 159.289 Q2172.03 159.289 2174.33 158.687 Q2176.64 158.085 2178.91 156.881 L2178.91 160.909 Q2176.62 161.881 2174.21 162.391 Q2171.8 162.9 2169.33 162.9 Q2163.12 162.9 2159.49 159.289 Q2155.88 155.678 2155.88 149.52 Q2155.88 143.155 2159.3 139.428 Q2162.75 135.678 2168.59 135.678 Q2173.82 135.678 2176.85 139.057 Q2179.91 142.414 2179.91 148.201 M2175.65 146.951 Q2175.6 143.456 2173.68 141.372 Q2171.78 139.289 2168.63 139.289 Q2165.07 139.289 2162.91 141.303 Q2160.78 143.317 2160.46 146.974 L2175.65 146.951 Z\" fill=\"#000000\" fill-rule=\"evenodd\" fill-opacity=\"1\" /><path clip-path=\"url(#clip690)\" d=\"M2208.45 146.581 L2208.45 162.229 L2204.19 162.229 L2204.19 146.719 Q2204.19 143.039 2202.75 141.21 Q2201.32 139.382 2198.45 139.382 Q2195 139.382 2193.01 141.581 Q2191.02 143.78 2191.02 147.576 L2191.02 162.229 L2186.73 162.229 L2186.73 136.303 L2191.02 136.303 L2191.02 140.331 Q2192.54 137.993 2194.6 136.835 Q2196.69 135.678 2199.4 135.678 Q2203.86 135.678 2206.15 138.456 Q2208.45 141.21 2208.45 146.581 Z\" fill=\"#000000\" fill-rule=\"evenodd\" fill-opacity=\"1\" /><path clip-path=\"url(#clip690)\" d=\"M2221.15 128.942 L2221.15 136.303 L2229.93 136.303 L2229.93 139.613 L2221.15 139.613 L2221.15 153.687 Q2221.15 156.858 2222.01 157.761 Q2222.89 158.664 2225.55 158.664 L2229.93 158.664 L2229.93 162.229 L2225.55 162.229 Q2220.62 162.229 2218.75 160.4 Q2216.87 158.548 2216.87 153.687 L2216.87 139.613 L2213.75 139.613 L2213.75 136.303 L2216.87 136.303 L2216.87 128.942 L2221.15 128.942 Z\" fill=\"#000000\" fill-rule=\"evenodd\" fill-opacity=\"1\" /></svg>\n"
      ]
     },
     "execution_count": 202,
     "metadata": {},
     "output_type": "execute_result"
    }
   ],
   "source": [
    "plot(levenberg_marquardt3(f, Df,  [1,1,1,1,1,1,1,1,1,1,1,1,1], 1, 100, 1e-6)[3],\n",
    "    label=\"norm of its gradient\",xlabel=\"iteration\")"
   ]
  },
  {
   "cell_type": "code",
   "execution_count": 203,
   "id": "a1d46ef0",
   "metadata": {},
   "outputs": [
    {
     "name": "stdout",
     "output_type": "stream",
     "text": [
      "RMS fitting error: 12.905522381677217\n"
     ]
    }
   ],
   "source": [
    "resi=[ R(levenberg_marquardt3(f, Df,  [1,1,1,1,1,1,1,1,1,1,1,1,1] , 1, 100, 1e-6)[1])]\n",
    "println(\"RMS fitting error: \",sqrt(resi'*resi/length(resi[1])))"
   ]
  },
  {
   "cell_type": "markdown",
   "id": "5385de96",
   "metadata": {},
   "source": [
    "(b)"
   ]
  },
  {
   "cell_type": "code",
   "execution_count": 204,
   "id": "188b5454",
   "metadata": {},
   "outputs": [
    {
     "data": {
      "text/plain": [
       "13-element Vector{Float64}:\n",
       " -31.59907922834779\n",
       "  -3.9999121648611595\n",
       "   0.9999634667347372\n",
       "  20.00002752851876\n",
       " -25.564770196660994\n",
       "   0.5202730603531838\n",
       "   0.4423285965297574\n",
       "  -0.2344438840509152\n",
       " -24.646656187611246\n",
       "   0.19681135932912408\n",
       "  -0.05585457410495498\n",
       "  -2.9736915583005605\n",
       " -41.59907968716003"
      ]
     },
     "execution_count": 204,
     "metadata": {},
     "output_type": "execute_result"
    }
   ],
   "source": [
    "levenberg_marquardt3(f, Df,  [-30,-4,1,20,-25,1,1,-1,-25,1,1,-2,-40] , 1, 100, 1e-6)[1]"
   ]
  },
  {
   "cell_type": "code",
   "execution_count": 205,
   "id": "d1bd6a27",
   "metadata": {},
   "outputs": [
    {
     "name": "stdout",
     "output_type": "stream",
     "text": [
      "RMS fitting error: 44.77040414726762\n"
     ]
    }
   ],
   "source": [
    "resi=[ R(levenberg_marquardt3(f, Df,  [-30,-4,1,20,-25,1,1,-1,-25,1,1,-2,-40] , 1, 100, 1e-6)[1])]\n",
    "println(\"RMS fitting error: \",sqrt(resi'*resi/length(resi[1])))"
   ]
  },
  {
   "cell_type": "code",
   "execution_count": 207,
   "id": "652141f2",
   "metadata": {},
   "outputs": [
    {
     "data": {
      "text/plain": [
       "13-element Vector{Float64}:\n",
       "   0.0\n",
       "   0.0\n",
       "   0.0\n",
       "   0.0\n",
       "   0.0\n",
       "   0.0\n",
       "   0.0\n",
       "   0.0\n",
       "   0.0\n",
       "   0.0\n",
       "   0.0\n",
       "   0.0\n",
       " -11.059805453321122"
      ]
     },
     "execution_count": 207,
     "metadata": {},
     "output_type": "execute_result"
    }
   ],
   "source": [
    "levenberg_marquardt3(f, Df,  [0,0,0,0,0,0,0,0,0,0,0,0,0] , 1, 100, 1e-6)[1]"
   ]
  },
  {
   "cell_type": "code",
   "execution_count": 208,
   "id": "9f1d9151",
   "metadata": {},
   "outputs": [
    {
     "name": "stdout",
     "output_type": "stream",
     "text": [
      "RMS fitting error: 10.595109837588124\n"
     ]
    }
   ],
   "source": [
    "resi=[ R(levenberg_marquardt3(f, Df, [0,0,0,0,0,0,0,0,0,0,0,0,0] , 1, 100, 1e-6)[1])]\n",
    "println(\"RMS fitting error: \",sqrt(resi'*resi/length(resi[1])))"
   ]
  },
  {
   "cell_type": "code",
   "execution_count": 209,
   "id": "6a2695ee",
   "metadata": {},
   "outputs": [
    {
     "data": {
      "text/plain": [
       "13-element Vector{Float64}:\n",
       " -8.432579801196669\n",
       "  1.024190888029044\n",
       "  1.7185785494343173\n",
       "  5.046530441470308\n",
       " -4.354033714088779\n",
       "  6.252331643342226\n",
       "  7.181656991106613\n",
       "  7.502589811659347\n",
       " -0.3183884379555309\n",
       " 10.545398833297947\n",
       " 11.058838263383567\n",
       " 11.482046147119368\n",
       "  2.4231214796822087"
      ]
     },
     "execution_count": 209,
     "metadata": {},
     "output_type": "execute_result"
    }
   ],
   "source": [
    "levenberg_marquardt3(f, Df,  [1,2,3,4,5,6,7,8,9,10,11,12,13] , 1, 100, 1e-6)[1]"
   ]
  },
  {
   "cell_type": "code",
   "execution_count": 210,
   "id": "aa8c3de9",
   "metadata": {},
   "outputs": [
    {
     "name": "stdout",
     "output_type": "stream",
     "text": [
      "RMS fitting error: 9.020464827062623\n"
     ]
    }
   ],
   "source": [
    "resi=[ R(levenberg_marquardt3(f, Df,  [1,2,3,4,5,6,7,8,9,10,11,12,13] , 1, 100, 1e-6)[1])]\n",
    "println(\"RMS fitting error: \",sqrt(resi'*resi/length(resi[1])))"
   ]
  },
  {
   "cell_type": "markdown",
   "id": "d0d42f48",
   "metadata": {},
   "source": [
    "(c)"
   ]
  },
  {
   "cell_type": "code",
   "execution_count": 156,
   "id": "b4e86a7d",
   "metadata": {},
   "outputs": [
    {
     "data": {
      "text/plain": [
       "2-element Vector{Float64}:\n",
       " -0.1391616440984559\n",
       " -1.9938467348322682"
      ]
     },
     "execution_count": 156,
     "metadata": {},
     "output_type": "execute_result"
    }
   ],
   "source": [
    "X=nn[2:end,1:2]\n",
    "b=nn[2:end,3]\n",
    "X = Matrix{Float64}(X)\n",
    "b = Vector{Float64}(b)\n",
    "beta=inv(X'*X)*X'*b"
   ]
  },
  {
   "cell_type": "code",
   "execution_count": 180,
   "id": "7e09922f",
   "metadata": {},
   "outputs": [
    {
     "name": "stdout",
     "output_type": "stream",
     "text": [
      "RMS fitting error: 4.5812954438036515\n"
     ]
    }
   ],
   "source": [
    "rms=sqrt((X*beta-b)'*(X*beta-b)/length(X*beta))\n",
    "println(\"RMS fitting error: \", rms)"
   ]
  }
 ],
 "metadata": {
  "kernelspec": {
   "display_name": "Julia 1.6.3",
   "language": "julia",
   "name": "julia-1.6"
  },
  "language_info": {
   "file_extension": ".jl",
   "mimetype": "application/julia",
   "name": "julia",
   "version": "1.6.3"
  }
 },
 "nbformat": 4,
 "nbformat_minor": 5
}
