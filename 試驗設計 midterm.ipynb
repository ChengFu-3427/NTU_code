{
 "cells": [
  {
   "cell_type": "markdown",
   "id": "8edeb900",
   "metadata": {},
   "source": [
    "---\n",
    "title: \"Midterm\"  \n",
    "author: \"曾政夫\"  \n",
    "date: \"4/11/2022\"  \n",
    "\n",
    "---"
   ]
  },
  {
   "cell_type": "markdown",
   "id": "5b251d7a",
   "metadata": {},
   "source": [
    "## problem1"
   ]
  },
  {
   "cell_type": "code",
   "execution_count": 33,
   "id": "57808332",
   "metadata": {},
   "outputs": [],
   "source": [
    "obs <- c(\n",
    "10,14,7,8,\n",
    "7,18,11,8,\n",
    "5,10,11,9,\n",
    "10,10,12,14)\n",
    "day <- rep(c(\"1\",\"2\",\"3\",\"4\"),4)\n",
    "add <- rep(c(\"1甲\",\"2乙\",\"3丙\",\"4丁\"),each=4)\n",
    "treat <- c(\n",
    "\"3C\",\"4D\",\"1A\",\"2B\",\n",
    "\"2B\",\"3C\",\"4D\",\"1A\",\n",
    "\"1A\",\"2B\",\"3C\",\"4D\",\n",
    "\"4D\",\"1A\",\"2B\",\"3C\")"
   ]
  },
  {
   "cell_type": "code",
   "execution_count": 34,
   "id": "c5d98405",
   "metadata": {},
   "outputs": [],
   "source": [
    "data <- data.frame(\n",
    "y= obs,\n",
    "Day=as.factor(day),\n",
    "Add=as.factor(add),\n",
    "Treat=as.factor(treat))"
   ]
  },
  {
   "cell_type": "code",
   "execution_count": 35,
   "id": "fcab84a3",
   "metadata": {},
   "outputs": [
    {
     "data": {
      "text/html": [
       "<table>\n",
       "<thead><tr><th scope=col>y</th><th scope=col>Day</th><th scope=col>Add</th><th scope=col>Treat</th></tr></thead>\n",
       "<tbody>\n",
       "\t<tr><td>10 </td><td>10 </td><td>1甲</td><td>3C </td></tr>\n",
       "\t<tr><td>14 </td><td>20 </td><td>1甲</td><td>4D </td></tr>\n",
       "\t<tr><td> 7 </td><td>30 </td><td>1甲</td><td>1A </td></tr>\n",
       "\t<tr><td> 8 </td><td>40 </td><td>1甲</td><td>2B </td></tr>\n",
       "\t<tr><td> 7 </td><td>10 </td><td>2乙</td><td>2B </td></tr>\n",
       "\t<tr><td>18 </td><td>20 </td><td>2乙</td><td>3C </td></tr>\n",
       "\t<tr><td>11 </td><td>30 </td><td>2乙</td><td>4D </td></tr>\n",
       "\t<tr><td> 8 </td><td>40 </td><td>2乙</td><td>1A </td></tr>\n",
       "\t<tr><td> 5 </td><td>10 </td><td>3丙</td><td>1A </td></tr>\n",
       "\t<tr><td>10 </td><td>20 </td><td>3丙</td><td>2B </td></tr>\n",
       "\t<tr><td>11 </td><td>30 </td><td>3丙</td><td>3C </td></tr>\n",
       "\t<tr><td> 9 </td><td>40 </td><td>3丙</td><td>4D </td></tr>\n",
       "\t<tr><td>10 </td><td>10 </td><td>4丁</td><td>4D </td></tr>\n",
       "\t<tr><td>10 </td><td>20 </td><td>4丁</td><td>1A </td></tr>\n",
       "\t<tr><td>12 </td><td>30 </td><td>4丁</td><td>2B </td></tr>\n",
       "\t<tr><td>14 </td><td>40 </td><td>4丁</td><td>3C </td></tr>\n",
       "</tbody>\n",
       "</table>\n"
      ],
      "text/latex": [
       "\\begin{tabular}{r|llll}\n",
       " y & Day & Add & Treat\\\\\n",
       "\\hline\n",
       "\t 10  & 10  & 1甲 & 3C \\\\\n",
       "\t 14  & 20  & 1甲 & 4D \\\\\n",
       "\t  7  & 30  & 1甲 & 1A \\\\\n",
       "\t  8  & 40  & 1甲 & 2B \\\\\n",
       "\t  7  & 10  & 2乙 & 2B \\\\\n",
       "\t 18  & 20  & 2乙 & 3C \\\\\n",
       "\t 11  & 30  & 2乙 & 4D \\\\\n",
       "\t  8  & 40  & 2乙 & 1A \\\\\n",
       "\t  5  & 10  & 3丙 & 1A \\\\\n",
       "\t 10  & 20  & 3丙 & 2B \\\\\n",
       "\t 11  & 30  & 3丙 & 3C \\\\\n",
       "\t  9  & 40  & 3丙 & 4D \\\\\n",
       "\t 10  & 10  & 4丁 & 4D \\\\\n",
       "\t 10  & 20  & 4丁 & 1A \\\\\n",
       "\t 12  & 30  & 4丁 & 2B \\\\\n",
       "\t 14  & 40  & 4丁 & 3C \\\\\n",
       "\\end{tabular}\n"
      ],
      "text/markdown": [
       "\n",
       "| y | Day | Add | Treat |\n",
       "|---|---|---|---|\n",
       "| 10  | 10  | 1甲 | 3C  |\n",
       "| 14  | 20  | 1甲 | 4D  |\n",
       "|  7  | 30  | 1甲 | 1A  |\n",
       "|  8  | 40  | 1甲 | 2B  |\n",
       "|  7  | 10  | 2乙 | 2B  |\n",
       "| 18  | 20  | 2乙 | 3C  |\n",
       "| 11  | 30  | 2乙 | 4D  |\n",
       "|  8  | 40  | 2乙 | 1A  |\n",
       "|  5  | 10  | 3丙 | 1A  |\n",
       "| 10  | 20  | 3丙 | 2B  |\n",
       "| 11  | 30  | 3丙 | 3C  |\n",
       "|  9  | 40  | 3丙 | 4D  |\n",
       "| 10  | 10  | 4丁 | 4D  |\n",
       "| 10  | 20  | 4丁 | 1A  |\n",
       "| 12  | 30  | 4丁 | 2B  |\n",
       "| 14  | 40  | 4丁 | 3C  |\n",
       "\n"
      ],
      "text/plain": [
       "   y  Day Add Treat\n",
       "1  10 10  1甲 3C   \n",
       "2  14 20  1甲 4D   \n",
       "3   7 30  1甲 1A   \n",
       "4   8 40  1甲 2B   \n",
       "5   7 10  2乙 2B   \n",
       "6  18 20  2乙 3C   \n",
       "7  11 30  2乙 4D   \n",
       "8   8 40  2乙 1A   \n",
       "9   5 10  3丙 1A   \n",
       "10 10 20  3丙 2B   \n",
       "11 11 30  3丙 3C   \n",
       "12  9 40  3丙 4D   \n",
       "13 10 10  4丁 4D   \n",
       "14 10 20  4丁 1A   \n",
       "15 12 30  4丁 2B   \n",
       "16 14 40  4丁 3C   "
      ]
     },
     "metadata": {},
     "output_type": "display_data"
    }
   ],
   "source": [
    "data"
   ]
  },
  {
   "cell_type": "markdown",
   "id": "6bb4e454",
   "metadata": {},
   "source": [
    "### a."
   ]
  },
  {
   "cell_type": "code",
   "execution_count": 36,
   "id": "0197f63a",
   "metadata": {},
   "outputs": [
    {
     "data": {
      "text/html": [
       "<table>\n",
       "<thead><tr><th></th><th scope=col>Df</th><th scope=col>Sum Sq</th><th scope=col>Mean Sq</th><th scope=col>F value</th><th scope=col>Pr(&gt;F)</th></tr></thead>\n",
       "<tbody>\n",
       "\t<tr><th scope=row>Treat</th><td> 3        </td><td>72.5      </td><td>24.166667 </td><td>3.602484  </td><td>0.04602117</td></tr>\n",
       "\t<tr><th scope=row>Residuals</th><td>12        </td><td>80.5      </td><td> 6.708333 </td><td>      NA  </td><td>        NA</td></tr>\n",
       "</tbody>\n",
       "</table>\n"
      ],
      "text/latex": [
       "\\begin{tabular}{r|lllll}\n",
       "  & Df & Sum Sq & Mean Sq & F value & Pr(>F)\\\\\n",
       "\\hline\n",
       "\tTreat &  3         & 72.5       & 24.166667  & 3.602484   & 0.04602117\\\\\n",
       "\tResiduals & 12         & 80.5       &  6.708333  &       NA   &         NA\\\\\n",
       "\\end{tabular}\n"
      ],
      "text/markdown": [
       "\n",
       "| <!--/--> | Df | Sum Sq | Mean Sq | F value | Pr(>F) |\n",
       "|---|---|---|---|---|---|\n",
       "| Treat |  3         | 72.5       | 24.166667  | 3.602484   | 0.04602117 |\n",
       "| Residuals | 12         | 80.5       |  6.708333  |       NA   |         NA |\n",
       "\n"
      ],
      "text/plain": [
       "          Df Sum Sq Mean Sq   F value  Pr(>F)    \n",
       "Treat      3 72.5   24.166667 3.602484 0.04602117\n",
       "Residuals 12 80.5    6.708333       NA         NA"
      ]
     },
     "metadata": {},
     "output_type": "display_data"
    }
   ],
   "source": [
    "model <- lm(y~Treat,data)\n",
    "anova(model)"
   ]
  },
  {
   "cell_type": "markdown",
   "id": "490fb329",
   "metadata": {},
   "source": [
    "在alpha=0.05的條件下，我們會拒絕四種化學成分反應時間相同的虛無假設。(不同)"
   ]
  },
  {
   "cell_type": "markdown",
   "id": "d195cc43",
   "metadata": {},
   "source": [
    "### b."
   ]
  },
  {
   "cell_type": "code",
   "execution_count": 37,
   "id": "3b509571",
   "metadata": {},
   "outputs": [
    {
     "data": {
      "text/html": [
       "<table>\n",
       "<thead><tr><th></th><th scope=col>Df</th><th scope=col>Sum Sq</th><th scope=col>Mean Sq</th><th scope=col>F value</th><th scope=col>Pr(&gt;F)</th></tr></thead>\n",
       "<tbody>\n",
       "\t<tr><th scope=row>Treat</th><td>3        </td><td>72.5     </td><td>24.166667</td><td>3.5080645</td><td>0.0624935</td></tr>\n",
       "\t<tr><th scope=row>Add</th><td>3        </td><td>18.5     </td><td> 6.166667</td><td>0.8951613</td><td>0.4803498</td></tr>\n",
       "\t<tr><th scope=row>Residuals</th><td>9        </td><td>62.0     </td><td> 6.888889</td><td>       NA</td><td>       NA</td></tr>\n",
       "</tbody>\n",
       "</table>\n"
      ],
      "text/latex": [
       "\\begin{tabular}{r|lllll}\n",
       "  & Df & Sum Sq & Mean Sq & F value & Pr(>F)\\\\\n",
       "\\hline\n",
       "\tTreat & 3         & 72.5      & 24.166667 & 3.5080645 & 0.0624935\\\\\n",
       "\tAdd & 3         & 18.5      &  6.166667 & 0.8951613 & 0.4803498\\\\\n",
       "\tResiduals & 9         & 62.0      &  6.888889 &        NA &        NA\\\\\n",
       "\\end{tabular}\n"
      ],
      "text/markdown": [
       "\n",
       "| <!--/--> | Df | Sum Sq | Mean Sq | F value | Pr(>F) |\n",
       "|---|---|---|---|---|---|\n",
       "| Treat | 3         | 72.5      | 24.166667 | 3.5080645 | 0.0624935 |\n",
       "| Add | 3         | 18.5      |  6.166667 | 0.8951613 | 0.4803498 |\n",
       "| Residuals | 9         | 62.0      |  6.888889 |        NA |        NA |\n",
       "\n"
      ],
      "text/plain": [
       "          Df Sum Sq Mean Sq   F value   Pr(>F)   \n",
       "Treat     3  72.5   24.166667 3.5080645 0.0624935\n",
       "Add       3  18.5    6.166667 0.8951613 0.4803498\n",
       "Residuals 9  62.0    6.888889        NA        NA"
      ]
     },
     "metadata": {},
     "output_type": "display_data"
    }
   ],
   "source": [
    "model <- lm(y~Treat+Add,data)\n",
    "anova(model)"
   ]
  },
  {
   "cell_type": "markdown",
   "id": "4644dbb1",
   "metadata": {},
   "source": [
    "在alpha=0.05的條件下，我們無法拒絕四種化學成分反應時間相同的虛無假設。(相同)"
   ]
  },
  {
   "cell_type": "markdown",
   "id": "c98a7aee",
   "metadata": {},
   "source": [
    "### c."
   ]
  },
  {
   "cell_type": "code",
   "execution_count": 38,
   "id": "4d5c3b43",
   "metadata": {},
   "outputs": [
    {
     "data": {
      "text/html": [
       "<table>\n",
       "<thead><tr><th></th><th scope=col>Df</th><th scope=col>Sum Sq</th><th scope=col>Mean Sq</th><th scope=col>F value</th><th scope=col>Pr(&gt;F)</th></tr></thead>\n",
       "<tbody>\n",
       "\t<tr><th scope=row>Treat</th><td>3          </td><td>72.5       </td><td>24.166667  </td><td>13.809524  </td><td>0.004213040</td></tr>\n",
       "\t<tr><th scope=row>Add</th><td>3          </td><td>18.5       </td><td> 6.166667  </td><td> 3.523810  </td><td>0.088518683</td></tr>\n",
       "\t<tr><th scope=row>Day</th><td>3          </td><td>51.5       </td><td>17.166667  </td><td> 9.809524  </td><td>0.009925869</td></tr>\n",
       "\t<tr><th scope=row>Residuals</th><td>6          </td><td>10.5       </td><td> 1.750000  </td><td>       NA  </td><td>         NA</td></tr>\n",
       "</tbody>\n",
       "</table>\n"
      ],
      "text/latex": [
       "\\begin{tabular}{r|lllll}\n",
       "  & Df & Sum Sq & Mean Sq & F value & Pr(>F)\\\\\n",
       "\\hline\n",
       "\tTreat & 3           & 72.5        & 24.166667   & 13.809524   & 0.004213040\\\\\n",
       "\tAdd & 3           & 18.5        &  6.166667   &  3.523810   & 0.088518683\\\\\n",
       "\tDay & 3           & 51.5        & 17.166667   &  9.809524   & 0.009925869\\\\\n",
       "\tResiduals & 6           & 10.5        &  1.750000   &        NA   &          NA\\\\\n",
       "\\end{tabular}\n"
      ],
      "text/markdown": [
       "\n",
       "| <!--/--> | Df | Sum Sq | Mean Sq | F value | Pr(>F) |\n",
       "|---|---|---|---|---|---|\n",
       "| Treat | 3           | 72.5        | 24.166667   | 13.809524   | 0.004213040 |\n",
       "| Add | 3           | 18.5        |  6.166667   |  3.523810   | 0.088518683 |\n",
       "| Day | 3           | 51.5        | 17.166667   |  9.809524   | 0.009925869 |\n",
       "| Residuals | 6           | 10.5        |  1.750000   |        NA   |          NA |\n",
       "\n"
      ],
      "text/plain": [
       "          Df Sum Sq Mean Sq   F value   Pr(>F)     \n",
       "Treat     3  72.5   24.166667 13.809524 0.004213040\n",
       "Add       3  18.5    6.166667  3.523810 0.088518683\n",
       "Day       3  51.5   17.166667  9.809524 0.009925869\n",
       "Residuals 6  10.5    1.750000        NA          NA"
      ]
     },
     "metadata": {},
     "output_type": "display_data"
    }
   ],
   "source": [
    "model <- lm(y~Treat+Add+Day,data)\n",
    "anova(model)"
   ]
  },
  {
   "cell_type": "markdown",
   "id": "5c01c11d",
   "metadata": {},
   "source": [
    "在alpha=0.05的條件下，我們會拒絕四種化學成分反應時間相同的虛無假設。(不同)"
   ]
  },
  {
   "cell_type": "markdown",
   "id": "eaf82e1f",
   "metadata": {},
   "source": [
    "## problem2"
   ]
  },
  {
   "cell_type": "code",
   "execution_count": 60,
   "id": "9b8ddac1",
   "metadata": {},
   "outputs": [],
   "source": [
    "obs <-c(\n",
    "    2.5, 2.6, 2.4, 2.7, 3.8, 4.5, 4.2, 4.0, 5.5, 6.0, 4.8, 5.0,\n",
    "    1.9, 2.2, 2.2, 2.0, 2.6, 3.0, 3.5, 2.8, 3.6, 3.9, 3.5, 4.2) \n",
    "vit <- rep(rep(c(10,20,30),each=4),2)\n",
    "t <- rep(c(\"t1\",\"t2\"),each=12)"
   ]
  },
  {
   "cell_type": "code",
   "execution_count": 61,
   "id": "24ba4b94",
   "metadata": {},
   "outputs": [],
   "source": [
    "data <- data.frame(\n",
    "y= obs,\n",
    "Vit=as.factor(vit),\n",
    "Time=as.factor(t))"
   ]
  },
  {
   "cell_type": "code",
   "execution_count": 62,
   "id": "9ae29820",
   "metadata": {},
   "outputs": [
    {
     "data": {
      "text/html": [
       "<table>\n",
       "<thead><tr><th scope=col>y</th><th scope=col>Vit</th><th scope=col>Time</th></tr></thead>\n",
       "<tbody>\n",
       "\t<tr><td>2.5</td><td>10 </td><td>t1 </td></tr>\n",
       "\t<tr><td>2.6</td><td>10 </td><td>t1 </td></tr>\n",
       "\t<tr><td>2.4</td><td>10 </td><td>t1 </td></tr>\n",
       "\t<tr><td>2.7</td><td>10 </td><td>t1 </td></tr>\n",
       "\t<tr><td>3.8</td><td>20 </td><td>t1 </td></tr>\n",
       "\t<tr><td>4.5</td><td>20 </td><td>t1 </td></tr>\n",
       "\t<tr><td>4.2</td><td>20 </td><td>t1 </td></tr>\n",
       "\t<tr><td>4.0</td><td>20 </td><td>t1 </td></tr>\n",
       "\t<tr><td>5.5</td><td>30 </td><td>t1 </td></tr>\n",
       "\t<tr><td>6.0</td><td>30 </td><td>t1 </td></tr>\n",
       "\t<tr><td>4.8</td><td>30 </td><td>t1 </td></tr>\n",
       "\t<tr><td>5.0</td><td>30 </td><td>t1 </td></tr>\n",
       "\t<tr><td>1.9</td><td>10 </td><td>t2 </td></tr>\n",
       "\t<tr><td>2.2</td><td>10 </td><td>t2 </td></tr>\n",
       "\t<tr><td>2.2</td><td>10 </td><td>t2 </td></tr>\n",
       "\t<tr><td>2.0</td><td>10 </td><td>t2 </td></tr>\n",
       "\t<tr><td>2.6</td><td>20 </td><td>t2 </td></tr>\n",
       "\t<tr><td>3.0</td><td>20 </td><td>t2 </td></tr>\n",
       "\t<tr><td>3.5</td><td>20 </td><td>t2 </td></tr>\n",
       "\t<tr><td>2.8</td><td>20 </td><td>t2 </td></tr>\n",
       "\t<tr><td>3.6</td><td>30 </td><td>t2 </td></tr>\n",
       "\t<tr><td>3.9</td><td>30 </td><td>t2 </td></tr>\n",
       "\t<tr><td>3.5</td><td>30 </td><td>t2 </td></tr>\n",
       "\t<tr><td>4.2</td><td>30 </td><td>t2 </td></tr>\n",
       "</tbody>\n",
       "</table>\n"
      ],
      "text/latex": [
       "\\begin{tabular}{r|lll}\n",
       " y & Vit & Time\\\\\n",
       "\\hline\n",
       "\t 2.5 & 10  & t1 \\\\\n",
       "\t 2.6 & 10  & t1 \\\\\n",
       "\t 2.4 & 10  & t1 \\\\\n",
       "\t 2.7 & 10  & t1 \\\\\n",
       "\t 3.8 & 20  & t1 \\\\\n",
       "\t 4.5 & 20  & t1 \\\\\n",
       "\t 4.2 & 20  & t1 \\\\\n",
       "\t 4.0 & 20  & t1 \\\\\n",
       "\t 5.5 & 30  & t1 \\\\\n",
       "\t 6.0 & 30  & t1 \\\\\n",
       "\t 4.8 & 30  & t1 \\\\\n",
       "\t 5.0 & 30  & t1 \\\\\n",
       "\t 1.9 & 10  & t2 \\\\\n",
       "\t 2.2 & 10  & t2 \\\\\n",
       "\t 2.2 & 10  & t2 \\\\\n",
       "\t 2.0 & 10  & t2 \\\\\n",
       "\t 2.6 & 20  & t2 \\\\\n",
       "\t 3.0 & 20  & t2 \\\\\n",
       "\t 3.5 & 20  & t2 \\\\\n",
       "\t 2.8 & 20  & t2 \\\\\n",
       "\t 3.6 & 30  & t2 \\\\\n",
       "\t 3.9 & 30  & t2 \\\\\n",
       "\t 3.5 & 30  & t2 \\\\\n",
       "\t 4.2 & 30  & t2 \\\\\n",
       "\\end{tabular}\n"
      ],
      "text/markdown": [
       "\n",
       "| y | Vit | Time |\n",
       "|---|---|---|\n",
       "| 2.5 | 10  | t1  |\n",
       "| 2.6 | 10  | t1  |\n",
       "| 2.4 | 10  | t1  |\n",
       "| 2.7 | 10  | t1  |\n",
       "| 3.8 | 20  | t1  |\n",
       "| 4.5 | 20  | t1  |\n",
       "| 4.2 | 20  | t1  |\n",
       "| 4.0 | 20  | t1  |\n",
       "| 5.5 | 30  | t1  |\n",
       "| 6.0 | 30  | t1  |\n",
       "| 4.8 | 30  | t1  |\n",
       "| 5.0 | 30  | t1  |\n",
       "| 1.9 | 10  | t2  |\n",
       "| 2.2 | 10  | t2  |\n",
       "| 2.2 | 10  | t2  |\n",
       "| 2.0 | 10  | t2  |\n",
       "| 2.6 | 20  | t2  |\n",
       "| 3.0 | 20  | t2  |\n",
       "| 3.5 | 20  | t2  |\n",
       "| 2.8 | 20  | t2  |\n",
       "| 3.6 | 30  | t2  |\n",
       "| 3.9 | 30  | t2  |\n",
       "| 3.5 | 30  | t2  |\n",
       "| 4.2 | 30  | t2  |\n",
       "\n"
      ],
      "text/plain": [
       "   y   Vit Time\n",
       "1  2.5 10  t1  \n",
       "2  2.6 10  t1  \n",
       "3  2.4 10  t1  \n",
       "4  2.7 10  t1  \n",
       "5  3.8 20  t1  \n",
       "6  4.5 20  t1  \n",
       "7  4.2 20  t1  \n",
       "8  4.0 20  t1  \n",
       "9  5.5 30  t1  \n",
       "10 6.0 30  t1  \n",
       "11 4.8 30  t1  \n",
       "12 5.0 30  t1  \n",
       "13 1.9 10  t2  \n",
       "14 2.2 10  t2  \n",
       "15 2.2 10  t2  \n",
       "16 2.0 10  t2  \n",
       "17 2.6 20  t2  \n",
       "18 3.0 20  t2  \n",
       "19 3.5 20  t2  \n",
       "20 2.8 20  t2  \n",
       "21 3.6 30  t2  \n",
       "22 3.9 30  t2  \n",
       "23 3.5 30  t2  \n",
       "24 4.2 30  t2  "
      ]
     },
     "metadata": {},
     "output_type": "display_data"
    }
   ],
   "source": [
    "data"
   ]
  },
  {
   "cell_type": "markdown",
   "id": "c2530360",
   "metadata": {},
   "source": [
    "### a."
   ]
  },
  {
   "cell_type": "code",
   "execution_count": 67,
   "id": "5eab4f7f",
   "metadata": {},
   "outputs": [
    {
     "data": {
      "text/html": [
       "<table>\n",
       "<thead><tr><th></th><th scope=col>Df</th><th scope=col>Sum Sq</th><th scope=col>Mean Sq</th><th scope=col>F value</th><th scope=col>Pr(&gt;F)</th></tr></thead>\n",
       "<tbody>\n",
       "\t<tr><th scope=row>Time</th><td> 1        </td><td> 6.615    </td><td>6.615000  </td><td>6.20597   </td><td>0.02076306</td></tr>\n",
       "\t<tr><th scope=row>Residuals</th><td>22        </td><td>23.450    </td><td>1.065909  </td><td>     NA   </td><td>        NA</td></tr>\n",
       "</tbody>\n",
       "</table>\n"
      ],
      "text/latex": [
       "\\begin{tabular}{r|lllll}\n",
       "  & Df & Sum Sq & Mean Sq & F value & Pr(>F)\\\\\n",
       "\\hline\n",
       "\tTime &  1         &  6.615     & 6.615000   & 6.20597    & 0.02076306\\\\\n",
       "\tResiduals & 22         & 23.450     & 1.065909   &      NA    &         NA\\\\\n",
       "\\end{tabular}\n"
      ],
      "text/markdown": [
       "\n",
       "| <!--/--> | Df | Sum Sq | Mean Sq | F value | Pr(>F) |\n",
       "|---|---|---|---|---|---|\n",
       "| Time |  1         |  6.615     | 6.615000   | 6.20597    | 0.02076306 |\n",
       "| Residuals | 22         | 23.450     | 1.065909   |      NA    |         NA |\n",
       "\n"
      ],
      "text/plain": [
       "          Df Sum Sq Mean Sq  F value Pr(>F)    \n",
       "Time       1  6.615 6.615000 6.20597 0.02076306\n",
       "Residuals 22 23.450 1.065909      NA         NA"
      ]
     },
     "metadata": {},
     "output_type": "display_data"
    }
   ],
   "source": [
    "model <- lm(y~Time,data)\n",
    "anova(model)"
   ]
  },
  {
   "cell_type": "markdown",
   "id": "c9b300fa",
   "metadata": {},
   "source": [
    "在alpha=0.05的條件下，在不同的時間餵老鼠維他命的確對其體重有顯著差異。"
   ]
  },
  {
   "cell_type": "markdown",
   "id": "ed7ecbec",
   "metadata": {},
   "source": [
    "### b."
   ]
  },
  {
   "cell_type": "code",
   "execution_count": 64,
   "id": "68cfceac",
   "metadata": {},
   "outputs": [
    {
     "data": {
      "text/html": [
       "<table>\n",
       "<thead><tr><th></th><th scope=col>Df</th><th scope=col>Sum Sq</th><th scope=col>Mean Sq</th><th scope=col>F value</th><th scope=col>Pr(&gt;F)</th></tr></thead>\n",
       "<tbody>\n",
       "\t<tr><th scope=row>Vit</th><td> 2          </td><td>20.3175     </td><td>10.1587500  </td><td>21.886      </td><td>7.306954e-06</td></tr>\n",
       "\t<tr><th scope=row>Residuals</th><td>21          </td><td> 9.7475     </td><td> 0.4641667  </td><td>    NA      </td><td>          NA</td></tr>\n",
       "</tbody>\n",
       "</table>\n"
      ],
      "text/latex": [
       "\\begin{tabular}{r|lllll}\n",
       "  & Df & Sum Sq & Mean Sq & F value & Pr(>F)\\\\\n",
       "\\hline\n",
       "\tVit &  2           & 20.3175      & 10.1587500   & 21.886       & 7.306954e-06\\\\\n",
       "\tResiduals & 21           &  9.7475      &  0.4641667   &     NA       &           NA\\\\\n",
       "\\end{tabular}\n"
      ],
      "text/markdown": [
       "\n",
       "| <!--/--> | Df | Sum Sq | Mean Sq | F value | Pr(>F) |\n",
       "|---|---|---|---|---|---|\n",
       "| Vit |  2           | 20.3175      | 10.1587500   | 21.886       | 7.306954e-06 |\n",
       "| Residuals | 21           |  9.7475      |  0.4641667   |     NA       |           NA |\n",
       "\n"
      ],
      "text/plain": [
       "          Df Sum Sq  Mean Sq    F value Pr(>F)      \n",
       "Vit        2 20.3175 10.1587500 21.886  7.306954e-06\n",
       "Residuals 21  9.7475  0.4641667     NA            NA"
      ]
     },
     "metadata": {},
     "output_type": "display_data"
    }
   ],
   "source": [
    "model <- lm(y~Vit,data)\n",
    "anova(model)"
   ]
  },
  {
   "cell_type": "markdown",
   "id": "5ead7a6b",
   "metadata": {},
   "source": [
    "在alpha=0.05的條件下，單看維他命的劑量對老鼠的體重的確有顯著差異。"
   ]
  },
  {
   "cell_type": "markdown",
   "id": "c52557d8",
   "metadata": {},
   "source": [
    "### c."
   ]
  },
  {
   "cell_type": "code",
   "execution_count": 68,
   "id": "3beaf54c",
   "metadata": {},
   "outputs": [
    {
     "data": {
      "text/html": [
       "<table>\n",
       "<thead><tr><th></th><th scope=col>Df</th><th scope=col>Sum Sq</th><th scope=col>Mean Sq</th><th scope=col>F value</th><th scope=col>Pr(&gt;F)</th></tr></thead>\n",
       "<tbody>\n",
       "\t<tr><th scope=row>Time</th><td> 1          </td><td> 6.6150     </td><td> 6.615000   </td><td>42.23464    </td><td>2.461657e-06</td></tr>\n",
       "\t<tr><th scope=row>Vit</th><td> 2          </td><td>20.3175     </td><td>10.158750   </td><td>64.86034    </td><td>1.809182e-09</td></tr>\n",
       "\t<tr><th scope=row>Residuals</th><td>20          </td><td> 3.1325     </td><td> 0.156625   </td><td>      NA    </td><td>          NA</td></tr>\n",
       "</tbody>\n",
       "</table>\n"
      ],
      "text/latex": [
       "\\begin{tabular}{r|lllll}\n",
       "  & Df & Sum Sq & Mean Sq & F value & Pr(>F)\\\\\n",
       "\\hline\n",
       "\tTime &  1           &  6.6150      &  6.615000    & 42.23464     & 2.461657e-06\\\\\n",
       "\tVit &  2           & 20.3175      & 10.158750    & 64.86034     & 1.809182e-09\\\\\n",
       "\tResiduals & 20           &  3.1325      &  0.156625    &       NA     &           NA\\\\\n",
       "\\end{tabular}\n"
      ],
      "text/markdown": [
       "\n",
       "| <!--/--> | Df | Sum Sq | Mean Sq | F value | Pr(>F) |\n",
       "|---|---|---|---|---|---|\n",
       "| Time |  1           |  6.6150      |  6.615000    | 42.23464     | 2.461657e-06 |\n",
       "| Vit |  2           | 20.3175      | 10.158750    | 64.86034     | 1.809182e-09 |\n",
       "| Residuals | 20           |  3.1325      |  0.156625    |       NA     |           NA |\n",
       "\n"
      ],
      "text/plain": [
       "          Df Sum Sq  Mean Sq   F value  Pr(>F)      \n",
       "Time       1  6.6150  6.615000 42.23464 2.461657e-06\n",
       "Vit        2 20.3175 10.158750 64.86034 1.809182e-09\n",
       "Residuals 20  3.1325  0.156625       NA           NA"
      ]
     },
     "metadata": {},
     "output_type": "display_data"
    }
   ],
   "source": [
    "model <- lm(y~Time+Vit,data)\n",
    "anova(model)"
   ]
  },
  {
   "cell_type": "markdown",
   "id": "f1503769",
   "metadata": {},
   "source": [
    "在alpha=0.05的條件下，同時考慮兩個維度，時間與維他命劑量皆對老鼠的體重有所影響，即在不同的時間餵食不同的劑量，會對老鼠的體重有顯著的影響。"
   ]
  },
  {
   "cell_type": "markdown",
   "id": "97facacb",
   "metadata": {},
   "source": [
    "### d."
   ]
  },
  {
   "cell_type": "code",
   "execution_count": 66,
   "id": "56106217",
   "metadata": {},
   "outputs": [
    {
     "data": {
      "text/html": [
       "<table>\n",
       "<thead><tr><th></th><th scope=col>Df</th><th scope=col>Sum Sq</th><th scope=col>Mean Sq</th><th scope=col>F value</th><th scope=col>Pr(&gt;F)</th></tr></thead>\n",
       "<tbody>\n",
       "\t<tr><th scope=row>Vit</th><td> 2          </td><td>20.3175     </td><td>10.1587500  </td><td>91.42875    </td><td>3.727864e-10</td></tr>\n",
       "\t<tr><th scope=row>Time</th><td> 1          </td><td> 6.6150     </td><td> 6.6150000  </td><td>59.53500    </td><td>4.085578e-07</td></tr>\n",
       "\t<tr><th scope=row>Vit:Time</th><td> 2          </td><td> 1.1325     </td><td> 0.5662500  </td><td> 5.09625    </td><td>1.762992e-02</td></tr>\n",
       "\t<tr><th scope=row>Residuals</th><td>18          </td><td> 2.0000     </td><td> 0.1111111  </td><td>      NA    </td><td>          NA</td></tr>\n",
       "</tbody>\n",
       "</table>\n"
      ],
      "text/latex": [
       "\\begin{tabular}{r|lllll}\n",
       "  & Df & Sum Sq & Mean Sq & F value & Pr(>F)\\\\\n",
       "\\hline\n",
       "\tVit &  2           & 20.3175      & 10.1587500   & 91.42875     & 3.727864e-10\\\\\n",
       "\tTime &  1           &  6.6150      &  6.6150000   & 59.53500     & 4.085578e-07\\\\\n",
       "\tVit:Time &  2           &  1.1325      &  0.5662500   &  5.09625     & 1.762992e-02\\\\\n",
       "\tResiduals & 18           &  2.0000      &  0.1111111   &       NA     &           NA\\\\\n",
       "\\end{tabular}\n"
      ],
      "text/markdown": [
       "\n",
       "| <!--/--> | Df | Sum Sq | Mean Sq | F value | Pr(>F) |\n",
       "|---|---|---|---|---|---|\n",
       "| Vit |  2           | 20.3175      | 10.1587500   | 91.42875     | 3.727864e-10 |\n",
       "| Time |  1           |  6.6150      |  6.6150000   | 59.53500     | 4.085578e-07 |\n",
       "| Vit:Time |  2           |  1.1325      |  0.5662500   |  5.09625     | 1.762992e-02 |\n",
       "| Residuals | 18           |  2.0000      |  0.1111111   |       NA     |           NA |\n",
       "\n"
      ],
      "text/plain": [
       "          Df Sum Sq  Mean Sq    F value  Pr(>F)      \n",
       "Vit        2 20.3175 10.1587500 91.42875 3.727864e-10\n",
       "Time       1  6.6150  6.6150000 59.53500 4.085578e-07\n",
       "Vit:Time   2  1.1325  0.5662500  5.09625 1.762992e-02\n",
       "Residuals 18  2.0000  0.1111111       NA           NA"
      ]
     },
     "metadata": {},
     "output_type": "display_data"
    }
   ],
   "source": [
    "model <- lm(y~Vit*Time,data)\n",
    "anova(model)"
   ]
  },
  {
   "cell_type": "markdown",
   "id": "e9ba478c",
   "metadata": {},
   "source": [
    "若結合題目中的數據，在8AM餵食30ug的維他命老鼠的體重能夠增加最多。"
   ]
  }
 ],
 "metadata": {
  "kernelspec": {
   "display_name": "R",
   "language": "R",
   "name": "ir"
  },
  "language_info": {
   "codemirror_mode": "r",
   "file_extension": ".r",
   "mimetype": "text/x-r-source",
   "name": "R",
   "pygments_lexer": "r",
   "version": "3.6.1"
  }
 },
 "nbformat": 4,
 "nbformat_minor": 5
}
