{
 "cells": [
  {
   "cell_type": "markdown",
   "id": "17fa79fc",
   "metadata": {},
   "source": [
    "Ex S2:   There are three rods(rod A, rod B, and rod C)and 20 disks of different sizes, which can slide onto any rod. The 20 disk sare placed in ascending order of size on rodA, while the smallest at the top, and the largest at the bottom. Question: Please calculate the minimum number of steps requiredto move the 20 disksfrom rod A to rod C, obeying the following rules:"
   ]
  },
  {
   "cell_type": "code",
   "execution_count": 5,
   "id": "8a9e8aee",
   "metadata": {},
   "outputs": [],
   "source": [
    "Hanoi <- function(n,A,B,C) {\n",
    "    \n",
    "    if (n == 1) {\n",
    "        cat(\"From rod \",A,\" to rod \",C,\"\\n\")\n",
    "        \n",
    "    } else {\n",
    "        Hanoi(n-1, A, C, B)\n",
    "        cat(\"From rod \",A,\" to rod \",C,\"\\n\")\n",
    "        Hanoi(n-1, B, A, C)\n",
    "    }\n",
    "\n",
    "\n",
    "}\n",
    "\n"
   ]
  },
  {
   "cell_type": "code",
   "execution_count": 11,
   "id": "ddbedb80",
   "metadata": {
    "scrolled": true
   },
   "outputs": [
    {
     "name": "stdout",
     "output_type": "stream",
     "text": [
      "From rod  A  to rod  B \n",
      "From rod  A  to rod  C \n",
      "From rod  B  to rod  C \n",
      "From rod  A  to rod  B \n",
      "From rod  C  to rod  A \n",
      "From rod  C  to rod  B \n",
      "From rod  A  to rod  B \n",
      "From rod  A  to rod  C \n",
      "From rod  B  to rod  C \n",
      "From rod  B  to rod  A \n",
      "From rod  C  to rod  A \n",
      "From rod  B  to rod  C \n",
      "From rod  A  to rod  B \n",
      "From rod  A  to rod  C \n",
      "From rod  B  to rod  C \n"
     ]
    }
   ],
   "source": [
    "Hanoi(4,\"A\",\"B\",\"C\")"
   ]
  },
  {
   "cell_type": "markdown",
   "id": "6c0099e0",
   "metadata": {},
   "source": [
    "If we do this recursive function with 20 disk, then it will crush the program. Therefore, I count the numbers of steps in another function which were called count_step. "
   ]
  },
  {
   "cell_type": "code",
   "execution_count": 6,
   "id": "ce182d35",
   "metadata": {},
   "outputs": [],
   "source": [
    "count_step <- function (n){\n",
    "    for(i in c(1:n)) {\n",
    "        if (i == 1) {\n",
    "            k = i     \n",
    "        } else {     \n",
    "            k = k * 2 + 1       \n",
    "        }\n",
    "    }\n",
    "    cat(k)\n",
    "}  "
   ]
  },
  {
   "cell_type": "code",
   "execution_count": 12,
   "id": "962a29cf",
   "metadata": {},
   "outputs": [
    {
     "name": "stdout",
     "output_type": "stream",
     "text": [
      "1048575"
     ]
    }
   ],
   "source": [
    "count_step(20)"
   ]
  },
  {
   "cell_type": "markdown",
   "id": "0c55fccd",
   "metadata": {},
   "source": [
    "Minimum number of steps required to move the 20 disks from rod A to rod C is 1048575."
   ]
  },
  {
   "cell_type": "markdown",
   "id": "f752054a",
   "metadata": {},
   "source": [
    "Ex S3:   Please use the “apply” command to calculate the medians, maximums, and minimums, of each row and each column. Missing values could be ignored."
   ]
  },
  {
   "cell_type": "code",
   "execution_count": 14,
   "id": "6e01e8bd",
   "metadata": {},
   "outputs": [
    {
     "data": {
      "text/html": [
       "<table>\n",
       "<tbody>\n",
       "\t<tr><td>3600 </td><td>5000 </td><td>12000</td><td>  NA </td><td>1000 </td><td> 2000</td><td>  600</td><td>7500 </td><td>1800 </td><td> 9000</td></tr>\n",
       "\t<tr><td>3600 </td><td>4500 </td><td>10000</td><td>8500 </td><td>3000 </td><td>10000</td><td> 1000</td><td>  NA </td><td>1200 </td><td>10000</td></tr>\n",
       "\t<tr><td>3800 </td><td>5500 </td><td> 9000</td><td>6000 </td><td>6600 </td><td> 3000</td><td> 9600</td><td>6500 </td><td>8200 </td><td> 8000</td></tr>\n",
       "\t<tr><td>5000 </td><td>6600 </td><td>13000</td><td>4500 </td><td>5000 </td><td>   NA</td><td>10600</td><td>9500 </td><td>7600 </td><td> 6000</td></tr>\n",
       "\t<tr><td>6600 </td><td>8000 </td><td>17000</td><td>3000 </td><td>7000 </td><td> 1000</td><td>12600</td><td>8500 </td><td>6000 </td><td>   NA</td></tr>\n",
       "</tbody>\n",
       "</table>\n"
      ],
      "text/latex": [
       "\\begin{tabular}{llllllllll}\n",
       "\t 3600  & 5000  & 12000 &   NA  & 1000  &  2000 &   600 & 7500  & 1800  &  9000\\\\\n",
       "\t 3600  & 4500  & 10000 & 8500  & 3000  & 10000 &  1000 &   NA  & 1200  & 10000\\\\\n",
       "\t 3800  & 5500  &  9000 & 6000  & 6600  &  3000 &  9600 & 6500  & 8200  &  8000\\\\\n",
       "\t 5000  & 6600  & 13000 & 4500  & 5000  &    NA & 10600 & 9500  & 7600  &  6000\\\\\n",
       "\t 6600  & 8000  & 17000 & 3000  & 7000  &  1000 & 12600 & 8500  & 6000  &    NA\\\\\n",
       "\\end{tabular}\n"
      ],
      "text/markdown": [
       "\n",
       "| 3600  | 5000  | 12000 |   NA  | 1000  |  2000 |   600 | 7500  | 1800  |  9000 |\n",
       "| 3600  | 4500  | 10000 | 8500  | 3000  | 10000 |  1000 |   NA  | 1200  | 10000 |\n",
       "| 3800  | 5500  |  9000 | 6000  | 6600  |  3000 |  9600 | 6500  | 8200  |  8000 |\n",
       "| 5000  | 6600  | 13000 | 4500  | 5000  |    NA | 10600 | 9500  | 7600  |  6000 |\n",
       "| 6600  | 8000  | 17000 | 3000  | 7000  |  1000 | 12600 | 8500  | 6000  |    NA |\n",
       "\n"
      ],
      "text/plain": [
       "     [,1] [,2] [,3]  [,4] [,5] [,6]  [,7]  [,8] [,9] [,10]\n",
       "[1,] 3600 5000 12000   NA 1000  2000   600 7500 1800  9000\n",
       "[2,] 3600 4500 10000 8500 3000 10000  1000   NA 1200 10000\n",
       "[3,] 3800 5500  9000 6000 6600  3000  9600 6500 8200  8000\n",
       "[4,] 5000 6600 13000 4500 5000    NA 10600 9500 7600  6000\n",
       "[5,] 6600 8000 17000 3000 7000  1000 12600 8500 6000    NA"
      ]
     },
     "metadata": {},
     "output_type": "display_data"
    }
   ],
   "source": [
    "x <-matrix(c(3600, 5000, 12000, NA, 1000, 2000, 600, 7500, 1800, 9000,3600, 4500, \n",
    "             10000, 8500, 3000, 10000, 1000, NA, 1200, 10000,3800, 5500, 9000, 6000, \n",
    "             6600, 3000, 9600, 6500, 8200, 8000,5000, 6600, 13000, 4500, 5000, NA, 10600, \n",
    "             9500, 7600, 6000,6600, 8000, 17000, 3000, 7000, 1000, 12600, 8500, 6000, NA),\n",
    "           5,10, byrow = TRUE)\n",
    "x"
   ]
  },
  {
   "cell_type": "markdown",
   "id": "c93d412b",
   "metadata": {},
   "source": [
    "By row:"
   ]
  },
  {
   "cell_type": "markdown",
   "id": "257b48f6",
   "metadata": {},
   "source": [
    "median"
   ]
  },
  {
   "cell_type": "code",
   "execution_count": 15,
   "id": "56fef907",
   "metadata": {},
   "outputs": [
    {
     "data": {
      "text/html": [
       "<ol class=list-inline>\n",
       "\t<li>3600</li>\n",
       "\t<li>4500</li>\n",
       "\t<li>6550</li>\n",
       "\t<li>6600</li>\n",
       "\t<li>7000</li>\n",
       "</ol>\n"
      ],
      "text/latex": [
       "\\begin{enumerate*}\n",
       "\\item 3600\n",
       "\\item 4500\n",
       "\\item 6550\n",
       "\\item 6600\n",
       "\\item 7000\n",
       "\\end{enumerate*}\n"
      ],
      "text/markdown": [
       "1. 3600\n",
       "2. 4500\n",
       "3. 6550\n",
       "4. 6600\n",
       "5. 7000\n",
       "\n",
       "\n"
      ],
      "text/plain": [
       "[1] 3600 4500 6550 6600 7000"
      ]
     },
     "metadata": {},
     "output_type": "display_data"
    }
   ],
   "source": [
    "apply(x,1,median,na.rm=TRUE)"
   ]
  },
  {
   "cell_type": "markdown",
   "id": "d33324d2",
   "metadata": {},
   "source": [
    "maximums"
   ]
  },
  {
   "cell_type": "code",
   "execution_count": 16,
   "id": "70c25eb7",
   "metadata": {},
   "outputs": [
    {
     "data": {
      "text/html": [
       "<ol class=list-inline>\n",
       "\t<li>12000</li>\n",
       "\t<li>10000</li>\n",
       "\t<li>9600</li>\n",
       "\t<li>13000</li>\n",
       "\t<li>17000</li>\n",
       "</ol>\n"
      ],
      "text/latex": [
       "\\begin{enumerate*}\n",
       "\\item 12000\n",
       "\\item 10000\n",
       "\\item 9600\n",
       "\\item 13000\n",
       "\\item 17000\n",
       "\\end{enumerate*}\n"
      ],
      "text/markdown": [
       "1. 12000\n",
       "2. 10000\n",
       "3. 9600\n",
       "4. 13000\n",
       "5. 17000\n",
       "\n",
       "\n"
      ],
      "text/plain": [
       "[1] 12000 10000  9600 13000 17000"
      ]
     },
     "metadata": {},
     "output_type": "display_data"
    }
   ],
   "source": [
    "apply(x,1,max,na.rm=TRUE)"
   ]
  },
  {
   "cell_type": "markdown",
   "id": "0ac7235f",
   "metadata": {},
   "source": [
    "minimums"
   ]
  },
  {
   "cell_type": "code",
   "execution_count": 17,
   "id": "6f82753b",
   "metadata": {},
   "outputs": [
    {
     "data": {
      "text/html": [
       "<ol class=list-inline>\n",
       "\t<li>600</li>\n",
       "\t<li>1000</li>\n",
       "\t<li>3000</li>\n",
       "\t<li>4500</li>\n",
       "\t<li>1000</li>\n",
       "</ol>\n"
      ],
      "text/latex": [
       "\\begin{enumerate*}\n",
       "\\item 600\n",
       "\\item 1000\n",
       "\\item 3000\n",
       "\\item 4500\n",
       "\\item 1000\n",
       "\\end{enumerate*}\n"
      ],
      "text/markdown": [
       "1. 600\n",
       "2. 1000\n",
       "3. 3000\n",
       "4. 4500\n",
       "5. 1000\n",
       "\n",
       "\n"
      ],
      "text/plain": [
       "[1]  600 1000 3000 4500 1000"
      ]
     },
     "metadata": {},
     "output_type": "display_data"
    }
   ],
   "source": [
    "apply(x,1,min,na.rm=TRUE)"
   ]
  },
  {
   "cell_type": "markdown",
   "id": "da6f029b",
   "metadata": {},
   "source": [
    "By column:"
   ]
  },
  {
   "cell_type": "markdown",
   "id": "05cb3d3b",
   "metadata": {},
   "source": [
    "median"
   ]
  },
  {
   "cell_type": "code",
   "execution_count": 18,
   "id": "f559b6a9",
   "metadata": {},
   "outputs": [
    {
     "data": {
      "text/html": [
       "<ol class=list-inline>\n",
       "\t<li>3800</li>\n",
       "\t<li>5500</li>\n",
       "\t<li>12000</li>\n",
       "\t<li>5250</li>\n",
       "\t<li>5000</li>\n",
       "\t<li>2500</li>\n",
       "\t<li>9600</li>\n",
       "\t<li>8000</li>\n",
       "\t<li>6000</li>\n",
       "\t<li>8500</li>\n",
       "</ol>\n"
      ],
      "text/latex": [
       "\\begin{enumerate*}\n",
       "\\item 3800\n",
       "\\item 5500\n",
       "\\item 12000\n",
       "\\item 5250\n",
       "\\item 5000\n",
       "\\item 2500\n",
       "\\item 9600\n",
       "\\item 8000\n",
       "\\item 6000\n",
       "\\item 8500\n",
       "\\end{enumerate*}\n"
      ],
      "text/markdown": [
       "1. 3800\n",
       "2. 5500\n",
       "3. 12000\n",
       "4. 5250\n",
       "5. 5000\n",
       "6. 2500\n",
       "7. 9600\n",
       "8. 8000\n",
       "9. 6000\n",
       "10. 8500\n",
       "\n",
       "\n"
      ],
      "text/plain": [
       " [1]  3800  5500 12000  5250  5000  2500  9600  8000  6000  8500"
      ]
     },
     "metadata": {},
     "output_type": "display_data"
    }
   ],
   "source": [
    "apply(x,2,median,na.rm=TRUE)"
   ]
  },
  {
   "cell_type": "markdown",
   "id": "4139ab6f",
   "metadata": {},
   "source": [
    "maximums"
   ]
  },
  {
   "cell_type": "code",
   "execution_count": 19,
   "id": "872bd463",
   "metadata": {},
   "outputs": [
    {
     "data": {
      "text/html": [
       "<ol class=list-inline>\n",
       "\t<li>6600</li>\n",
       "\t<li>8000</li>\n",
       "\t<li>17000</li>\n",
       "\t<li>8500</li>\n",
       "\t<li>7000</li>\n",
       "\t<li>10000</li>\n",
       "\t<li>12600</li>\n",
       "\t<li>9500</li>\n",
       "\t<li>8200</li>\n",
       "\t<li>10000</li>\n",
       "</ol>\n"
      ],
      "text/latex": [
       "\\begin{enumerate*}\n",
       "\\item 6600\n",
       "\\item 8000\n",
       "\\item 17000\n",
       "\\item 8500\n",
       "\\item 7000\n",
       "\\item 10000\n",
       "\\item 12600\n",
       "\\item 9500\n",
       "\\item 8200\n",
       "\\item 10000\n",
       "\\end{enumerate*}\n"
      ],
      "text/markdown": [
       "1. 6600\n",
       "2. 8000\n",
       "3. 17000\n",
       "4. 8500\n",
       "5. 7000\n",
       "6. 10000\n",
       "7. 12600\n",
       "8. 9500\n",
       "9. 8200\n",
       "10. 10000\n",
       "\n",
       "\n"
      ],
      "text/plain": [
       " [1]  6600  8000 17000  8500  7000 10000 12600  9500  8200 10000"
      ]
     },
     "metadata": {},
     "output_type": "display_data"
    }
   ],
   "source": [
    "apply(x,2,max,na.rm=TRUE)"
   ]
  },
  {
   "cell_type": "markdown",
   "id": "67649635",
   "metadata": {},
   "source": [
    "minimums"
   ]
  },
  {
   "cell_type": "code",
   "execution_count": 27,
   "id": "cb2b2421",
   "metadata": {},
   "outputs": [
    {
     "data": {
      "text/html": [
       "<ol class=list-inline>\n",
       "\t<li>3600</li>\n",
       "\t<li>4500</li>\n",
       "\t<li>9000</li>\n",
       "\t<li>3000</li>\n",
       "\t<li>1000</li>\n",
       "\t<li>1000</li>\n",
       "\t<li>600</li>\n",
       "\t<li>6500</li>\n",
       "\t<li>1200</li>\n",
       "\t<li>6000</li>\n",
       "</ol>\n"
      ],
      "text/latex": [
       "\\begin{enumerate*}\n",
       "\\item 3600\n",
       "\\item 4500\n",
       "\\item 9000\n",
       "\\item 3000\n",
       "\\item 1000\n",
       "\\item 1000\n",
       "\\item 600\n",
       "\\item 6500\n",
       "\\item 1200\n",
       "\\item 6000\n",
       "\\end{enumerate*}\n"
      ],
      "text/markdown": [
       "1. 3600\n",
       "2. 4500\n",
       "3. 9000\n",
       "4. 3000\n",
       "5. 1000\n",
       "6. 1000\n",
       "7. 600\n",
       "8. 6500\n",
       "9. 1200\n",
       "10. 6000\n",
       "\n",
       "\n"
      ],
      "text/plain": [
       " [1] 3600 4500 9000 3000 1000 1000  600 6500 1200 6000"
      ]
     },
     "metadata": {},
     "output_type": "display_data"
    }
   ],
   "source": [
    "apply(x,2,min,na.rm=TRUE)"
   ]
  },
  {
   "cell_type": "markdown",
   "id": "1e876e6d",
   "metadata": {},
   "source": [
    "Ex S8: Please find x, y, and z."
   ]
  },
  {
   "cell_type": "code",
   "execution_count": 17,
   "id": "601788e4",
   "metadata": {},
   "outputs": [],
   "source": [
    "A <- matrix(c(1,-3,1,1,-2,3,1,-1,1),3,3,byrow=TRUE)\n",
    "b <- c(4,6,4)"
   ]
  },
  {
   "cell_type": "code",
   "execution_count": 18,
   "id": "d6596383",
   "metadata": {},
   "outputs": [
    {
     "data": {
      "text/html": [
       "<ol class=list-inline>\n",
       "\t<li>3</li>\n",
       "\t<li>0</li>\n",
       "\t<li>1</li>\n",
       "</ol>\n"
      ],
      "text/latex": [
       "\\begin{enumerate*}\n",
       "\\item 3\n",
       "\\item 0\n",
       "\\item 1\n",
       "\\end{enumerate*}\n"
      ],
      "text/markdown": [
       "1. 3\n",
       "2. 0\n",
       "3. 1\n",
       "\n",
       "\n"
      ],
      "text/plain": [
       "[1] 3 0 1"
      ]
     },
     "metadata": {},
     "output_type": "display_data"
    }
   ],
   "source": [
    "solve(A,b)"
   ]
  },
  {
   "cell_type": "markdown",
   "id": "5b944759",
   "metadata": {},
   "source": [
    "x=3; y=0; z=1"
   ]
  }
 ],
 "metadata": {
  "kernelspec": {
   "display_name": "R",
   "language": "R",
   "name": "ir"
  },
  "language_info": {
   "codemirror_mode": "r",
   "file_extension": ".r",
   "mimetype": "text/x-r-source",
   "name": "R",
   "pygments_lexer": "r",
   "version": "3.6.1"
  }
 },
 "nbformat": 4,
 "nbformat_minor": 5
}
