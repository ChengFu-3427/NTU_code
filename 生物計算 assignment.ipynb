{
 "cells": [
  {
   "cell_type": "code",
   "execution_count": 1,
   "id": "771684fa",
   "metadata": {},
   "outputs": [
    {
     "name": "stdout",
     "output_type": "stream",
     "text": [
      "D:\\OneDrive - g.ntu.edu.tw\\111-2\\生物計算\\assignment2\\assignment2-question3\n"
     ]
    }
   ],
   "source": [
    "hw=\"D:\\\\OneDrive - g.ntu.edu.tw\\\\111-2\\\\生物計算\\\\assignment1\\\\template_python\"\n",
    "\n",
    "%cd $hw"
   ]
  },
  {
   "cell_type": "code",
   "execution_count": 62,
   "id": "e9935547",
   "metadata": {},
   "outputs": [
    {
     "name": "stdout",
     "output_type": "stream",
     "text": [
      "Overwriting a1_q1.py\n"
     ]
    }
   ],
   "source": [
    "%%writefile a1_q1.py \n",
    "# %load \"a1_q1.py\n",
    "import math\n",
    "\n",
    "\n",
    "def a1_q1(temperature, degree):\n",
    "    if (degree==\"C\" or degree=='c'):\n",
    "        answer = (temperature - 32) * 5 / 9  # F to C\n",
    "    if (degree==\"F\" or degree=='f'):\n",
    "        answer =  temperature * 9 / 5 + 32  # C to F\n",
    "    return answer\n"
   ]
  },
  {
   "cell_type": "code",
   "execution_count": 70,
   "id": "08274a9a",
   "metadata": {},
   "outputs": [
    {
     "name": "stdout",
     "output_type": "stream",
     "text": [
      "Overwriting a1_q2.py\n"
     ]
    }
   ],
   "source": [
    "%%writefile a1_q2.py \n",
    "# %load a1_q2.py\n",
    "\n",
    "def a1_q2(input):\n",
    "    answer = [input[0]+input[1],input[1]-input[2],input[2]*input[3],input[3]/input[4]]\n",
    "    return answer\n"
   ]
  },
  {
   "cell_type": "code",
   "execution_count": 82,
   "id": "d5b27729",
   "metadata": {},
   "outputs": [
    {
     "name": "stdout",
     "output_type": "stream",
     "text": [
      "Overwriting a1_q3.py\n"
     ]
    }
   ],
   "source": [
    "%%writefile a1_q3.py \n",
    "# %load a1_q3.py\n",
    "\n",
    "def a1_q3(input):\n",
    "    answer = {\n",
    "      \"sum\": input['x'] + input['y'],\n",
    "      \"difference\": input['x'] - input['y'],\n",
    "      \"product\": input['x'] * input['y'],\n",
    "      \"ratio\":  input['x'] / input['y']\n",
    "    }\n",
    "    return answer\n"
   ]
  },
  {
   "cell_type": "code",
   "execution_count": null,
   "id": "eabd0e25",
   "metadata": {},
   "outputs": [],
   "source": [
    "# %load a1_q4.py\n",
    "# %load a1_q4.py\n",
    "from decimal import *\n",
    "def a1_q4(numbers):\n",
    "    answer = 0\n",
    "    \n",
    "    for i in numbers:\n",
    "        n=str(i)\n",
    "        answer += Decimal(n)\n",
    "   \n",
    "    answer= float(answer)    \n",
    "    return answer\n"
   ]
  },
  {
   "cell_type": "code",
   "execution_count": null,
   "id": "2bfc8a4a",
   "metadata": {},
   "outputs": [],
   "source": [
    "# %load a1_q5.py\n",
    "# %load a1_q5.py\n",
    "\n",
    "def a1_q5(lower,  upper):\n",
    "    answer=[]\n",
    "    for i in range(round(lower)-1,round(upper)+2):\n",
    "        answer.append(i)\n",
    "    copy = answer.copy() \n",
    "    for i in copy:\n",
    "        \n",
    "        if i<lower or i>upper:\n",
    "         \n",
    "            answer.remove(i)\n",
    "            continue\n",
    "        if i%2!=0:   \n",
    "           \n",
    "            answer.remove(i)\n",
    "           \n",
    "    return answer\n"
   ]
  },
  {
   "cell_type": "code",
   "execution_count": 158,
   "id": "fdecd220",
   "metadata": {},
   "outputs": [
    {
     "name": "stdout",
     "output_type": "stream",
     "text": [
      "Overwriting a1_q6.py\n"
     ]
    }
   ],
   "source": [
    "%%writefile a1_q6.py \n",
    "# %load a1_q6.py\n",
    "\n",
    "def a1_q6(n):\n",
    "    if n == 0: return 0\n",
    "    if n == 1: return 1\n",
    "    if n == 2: return 1\n",
    "    answer = a1_q6(n-1) + a1_q6(n-2) * 2 + a1_q6(n-3) *3\n",
    "    return answer\n"
   ]
  },
  {
   "cell_type": "code",
   "execution_count": 1,
   "id": "9006bd63",
   "metadata": {},
   "outputs": [
    {
     "name": "stdout",
     "output_type": "stream",
     "text": [
      "D:\\OneDrive - g.ntu.edu.tw\\111-2\\生物計算\\assignment2\\assignment2-question3\n"
     ]
    }
   ],
   "source": [
    "hw=\"D:\\\\OneDrive - g.ntu.edu.tw\\\\111-2\\\\生物計算\\\\assignment2\\\\assignment2-question3\"\n",
    "%cd $hw"
   ]
  },
  {
   "cell_type": "code",
   "execution_count": 8,
   "id": "d04385c3",
   "metadata": {},
   "outputs": [
    {
     "name": "stdout",
     "output_type": "stream",
     "text": [
      "Overwriting a2_q3.py\n"
     ]
    }
   ],
   "source": [
    "%%writefile a2_q3.py"
   ]
  },
  {
   "cell_type": "code",
   "execution_count": 2,
   "id": "6ee2e370",
   "metadata": {},
   "outputs": [],
   "source": [
    "\n",
    "# %load a2_q3.py\n",
    "def a2_q3(arr):\n",
    "#     arr1 = sorted(arr[:len(arr)//2])\n",
    "#     arr2 = sorted(arr[len(arr)//2:])\n",
    "#     def swap (x,y):\n",
    "#         arr1[x], arr2[y]= arr2[y], arr1[x]\n",
    "#         return 0\n",
    "    arr.sort(reverse=True)\n",
    "    arr1=[]\n",
    "    arr2=[]\n",
    "    \n",
    "    #sorted(arr[len(arr)//2:])\n",
    "    for i in arr:\n",
    "        if sum(arr2) > sum(arr1):\n",
    "            arr1.append(i)\n",
    "        else:\n",
    "            arr2.append(i)\n",
    "    arr1.sort()\n",
    "    arr2.sort()\n",
    "    \n",
    "    if (len(arr)//2 != len(arr1)) or (len(arr)//2 != len(arr2)):\n",
    "        #print(\"false\")\n",
    "        while ((len(arr)//2 != len(arr1)) and (len(arr)//2 != len(arr2))):\n",
    "            i = 0\n",
    "            arr2.append(arr1.pop(i))\n",
    "            i =+ 1\n",
    "            \n",
    "            \n",
    "    \n",
    "    \n",
    "    diff= abs(sum(arr1)-sum(arr2))\n",
    "    arr1.sort()\n",
    "    arr2.sort()\n",
    "    \n",
    "    \n",
    "    return {\"diff\": diff, \"group1\": arr1, \"group2\": arr2}\n",
    "\n",
    "\n",
    "#a2_q3([1, 2, 3, 4, 5, 6, 7, 100])\n"
   ]
  },
  {
   "cell_type": "code",
   "execution_count": 9,
   "id": "87bf13fc",
   "metadata": {},
   "outputs": [
    {
     "data": {
      "text/plain": [
       "{'diff': 2427.3900000000003,\n",
       " 'group1': [282.86,\n",
       "  321.63,\n",
       "  388.33,\n",
       "  424.42,\n",
       "  464.92,\n",
       "  472.0,\n",
       "  551.19,\n",
       "  594.14,\n",
       "  687.23,\n",
       "  778.3],\n",
       " 'group2': [-925.99,\n",
       "  -869.51,\n",
       "  -849.75,\n",
       "  -566.83,\n",
       "  -35.09,\n",
       "  9.76,\n",
       "  138.18,\n",
       "  217.28,\n",
       "  274.36,\n",
       "  10000]}"
      ]
     },
     "execution_count": 9,
     "metadata": {},
     "output_type": "execute_result"
    }
   ],
   "source": [
    "a2_q3( [551.19, 9.76, 424.42, -849.75, -35.09, -566.83, 778.3, -925.99, 464.92, 687.23, 217.28,\n",
    "-869.51, 388.33, 321.63, 594.14, 282.86, 274.36, 472.0, 138.18, 10000])"
   ]
  },
  {
   "cell_type": "code",
   "execution_count": 1,
   "id": "062b2cb5",
   "metadata": {},
   "outputs": [
    {
     "name": "stdout",
     "output_type": "stream",
     "text": [
      "D:\\OneDrive - g.ntu.edu.tw\\111-2\\生物計算\\assignment2\\assignment2-question2\n"
     ]
    }
   ],
   "source": [
    "hw=\"D:\\\\OneDrive - g.ntu.edu.tw\\\\111-2\\\\生物計算\\\\assignment2\\\\assignment2-question2\"\n",
    "%cd $hw"
   ]
  },
  {
   "cell_type": "code",
   "execution_count": 37,
   "id": "8a8ecbc4",
   "metadata": {},
   "outputs": [
    {
     "name": "stdout",
     "output_type": "stream",
     "text": [
      "Overwriting a2_q2.py\n"
     ]
    }
   ],
   "source": [
    "%%writefile a2_q2.py\n",
    "# %load a2_q2.py\n",
    "\n",
    "\n",
    "def a2_q2(input):\n",
    "    x = input['x'] \n",
    "    y = input['y']\n",
    "    answer = {\n",
    "#         \"sum\": x + y,\n",
    "#         \"difference\": x - y,\n",
    "#         \"product\": x * y,\n",
    "#         \"ratio\":  x / y,\n",
    "        'power_xy': x**y,\n",
    "        'power_yx': y**x,\n",
    "        'repeat_x_times': 'x'*x, \n",
    "        'repeat_y_times': f\"{y}\"*y,\n",
    "        'xth_alphabet_repeat_y_times': chr(x+96)*y\n",
    "    }\n",
    "    return answer\n"
   ]
  }
 ],
 "metadata": {
  "kernelspec": {
   "display_name": "Python 3",
   "language": "python",
   "name": "python3"
  },
  "language_info": {
   "codemirror_mode": {
    "name": "ipython",
    "version": 3
   },
   "file_extension": ".py",
   "mimetype": "text/x-python",
   "name": "python",
   "nbconvert_exporter": "python",
   "pygments_lexer": "ipython3",
   "version": "3.11.2"
  }
 },
 "nbformat": 4,
 "nbformat_minor": 5
}
