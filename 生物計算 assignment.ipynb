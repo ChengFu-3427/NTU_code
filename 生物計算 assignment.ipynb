{
 "cells": [
  {
   "cell_type": "code",
   "execution_count": 2,
   "id": "97667213",
   "metadata": {},
   "outputs": [],
   "source": [
    "import warnings\n",
    "warnings.filterwarnings('ignore')"
   ]
  },
  {
   "cell_type": "code",
   "execution_count": 1,
   "id": "771684fa",
   "metadata": {},
   "outputs": [
    {
     "name": "stdout",
     "output_type": "stream",
     "text": [
      "D:\\OneDrive - g.ntu.edu.tw\\111-2\\生物計算\\assignment2\\assignment2-question3\n"
     ]
    }
   ],
   "source": [
    "hw=\"D:\\\\OneDrive - g.ntu.edu.tw\\\\111-2\\\\生物計算\\\\assignment1\\\\template_python\"\n",
    "\n",
    "%cd $hw"
   ]
  },
  {
   "cell_type": "code",
   "execution_count": 62,
   "id": "e9935547",
   "metadata": {},
   "outputs": [
    {
     "name": "stdout",
     "output_type": "stream",
     "text": [
      "Overwriting a1_q1.py\n"
     ]
    }
   ],
   "source": [
    "%%writefile a1_q1.py \n",
    "# %load \"a1_q1.py\n",
    "import math\n",
    "\n",
    "\n",
    "def a1_q1(temperature, degree):\n",
    "    if (degree==\"C\" or degree=='c'):\n",
    "        answer = (temperature - 32) * 5 / 9  # F to C\n",
    "    if (degree==\"F\" or degree=='f'):\n",
    "        answer =  temperature * 9 / 5 + 32  # C to F\n",
    "    return answer\n"
   ]
  },
  {
   "cell_type": "code",
   "execution_count": 70,
   "id": "08274a9a",
   "metadata": {},
   "outputs": [
    {
     "name": "stdout",
     "output_type": "stream",
     "text": [
      "Overwriting a1_q2.py\n"
     ]
    }
   ],
   "source": [
    "%%writefile a1_q2.py \n",
    "# %load a1_q2.py\n",
    "\n",
    "def a1_q2(input):\n",
    "    answer = [input[0]+input[1],input[1]-input[2],input[2]*input[3],input[3]/input[4]]\n",
    "    return answer\n"
   ]
  },
  {
   "cell_type": "code",
   "execution_count": 82,
   "id": "d5b27729",
   "metadata": {},
   "outputs": [
    {
     "name": "stdout",
     "output_type": "stream",
     "text": [
      "Overwriting a1_q3.py\n"
     ]
    }
   ],
   "source": [
    "%%writefile a1_q3.py \n",
    "# %load a1_q3.py\n",
    "\n",
    "def a1_q3(input):\n",
    "    answer = {\n",
    "      \"sum\": input['x'] + input['y'],\n",
    "      \"difference\": input['x'] - input['y'],\n",
    "      \"product\": input['x'] * input['y'],\n",
    "      \"ratio\":  input['x'] / input['y']\n",
    "    }\n",
    "    return answer\n"
   ]
  },
  {
   "cell_type": "code",
   "execution_count": null,
   "id": "eabd0e25",
   "metadata": {},
   "outputs": [],
   "source": [
    "# %load a1_q4.py\n",
    "# %load a1_q4.py\n",
    "from decimal import *\n",
    "def a1_q4(numbers):\n",
    "    answer = 0\n",
    "    \n",
    "    for i in numbers:\n",
    "        n=str(i)\n",
    "        answer += Decimal(n)\n",
    "   \n",
    "    answer= float(answer)    \n",
    "    return answer\n"
   ]
  },
  {
   "cell_type": "code",
   "execution_count": null,
   "id": "2bfc8a4a",
   "metadata": {},
   "outputs": [],
   "source": [
    "# %load a1_q5.py\n",
    "# %load a1_q5.py\n",
    "\n",
    "def a1_q5(lower,  upper):\n",
    "    answer=[]\n",
    "    for i in range(round(lower)-1,round(upper)+2):\n",
    "        answer.append(i)\n",
    "    copy = answer.copy() \n",
    "    for i in copy:\n",
    "        \n",
    "        if i<lower or i>upper:\n",
    "         \n",
    "            answer.remove(i)\n",
    "            continue\n",
    "        if i%2!=0:   \n",
    "           \n",
    "            answer.remove(i)\n",
    "           \n",
    "    return answer\n"
   ]
  },
  {
   "cell_type": "code",
   "execution_count": 158,
   "id": "fdecd220",
   "metadata": {},
   "outputs": [
    {
     "name": "stdout",
     "output_type": "stream",
     "text": [
      "Overwriting a1_q6.py\n"
     ]
    }
   ],
   "source": [
    "%%writefile a1_q6.py \n",
    "# %load a1_q6.py\n",
    "\n",
    "def a1_q6(n):\n",
    "    if n == 0: return 0\n",
    "    if n == 1: return 1\n",
    "    if n == 2: return 1\n",
    "    answer = a1_q6(n-1) + a1_q6(n-2) * 2 + a1_q6(n-3) *3\n",
    "    return answer\n"
   ]
  },
  {
   "cell_type": "code",
   "execution_count": 1,
   "id": "9006bd63",
   "metadata": {},
   "outputs": [
    {
     "name": "stdout",
     "output_type": "stream",
     "text": [
      "D:\\OneDrive - g.ntu.edu.tw\\111-2\\生物計算\\assignment2\\assignment2-question3\n"
     ]
    }
   ],
   "source": [
    "hw=\"D:\\\\OneDrive - g.ntu.edu.tw\\\\111-2\\\\生物計算\\\\assignment2\\\\assignment2-question3\"\n",
    "%cd $hw"
   ]
  },
  {
   "cell_type": "code",
   "execution_count": 8,
   "id": "d04385c3",
   "metadata": {},
   "outputs": [
    {
     "name": "stdout",
     "output_type": "stream",
     "text": [
      "Overwriting a2_q3.py\n"
     ]
    }
   ],
   "source": [
    "%%writefile a2_q3.py"
   ]
  },
  {
   "cell_type": "code",
   "execution_count": 2,
   "id": "6ee2e370",
   "metadata": {},
   "outputs": [],
   "source": [
    "\n",
    "# %load a2_q3.py\n",
    "def a2_q3(arr):\n",
    "#     arr1 = sorted(arr[:len(arr)//2])\n",
    "#     arr2 = sorted(arr[len(arr)//2:])\n",
    "#     def swap (x,y):\n",
    "#         arr1[x], arr2[y]= arr2[y], arr1[x]\n",
    "#         return 0\n",
    "    arr.sort(reverse=True)\n",
    "    arr1=[]\n",
    "    arr2=[]\n",
    "    \n",
    "    #sorted(arr[len(arr)//2:])\n",
    "    for i in arr:\n",
    "        if sum(arr2) > sum(arr1):\n",
    "            arr1.append(i)\n",
    "        else:\n",
    "            arr2.append(i)\n",
    "    arr1.sort()\n",
    "    arr2.sort()\n",
    "    \n",
    "    if (len(arr)//2 != len(arr1)) or (len(arr)//2 != len(arr2)):\n",
    "        #print(\"false\")\n",
    "        while ((len(arr)//2 != len(arr1)) and (len(arr)//2 != len(arr2))):\n",
    "            i = 0\n",
    "            arr2.append(arr1.pop(i))\n",
    "            i =+ 1\n",
    "            \n",
    "            \n",
    "    \n",
    "    \n",
    "    diff= abs(sum(arr1)-sum(arr2))\n",
    "    arr1.sort()\n",
    "    arr2.sort()\n",
    "    \n",
    "    \n",
    "    return {\"diff\": diff, \"group1\": arr1, \"group2\": arr2}\n",
    "\n",
    "\n",
    "#a2_q3([1, 2, 3, 4, 5, 6, 7, 100])\n"
   ]
  },
  {
   "cell_type": "code",
   "execution_count": 1,
   "id": "062b2cb5",
   "metadata": {},
   "outputs": [
    {
     "name": "stdout",
     "output_type": "stream",
     "text": [
      "D:\\OneDrive - g.ntu.edu.tw\\111-2\\生物計算\\assignment2\\assignment2-question2\n"
     ]
    }
   ],
   "source": [
    "hw=\"D:\\\\OneDrive - g.ntu.edu.tw\\\\111-2\\\\生物計算\\\\assignment2\\\\assignment2-question2\"\n",
    "%cd $hw"
   ]
  },
  {
   "cell_type": "code",
   "execution_count": 37,
   "id": "8a8ecbc4",
   "metadata": {},
   "outputs": [
    {
     "name": "stdout",
     "output_type": "stream",
     "text": [
      "Overwriting a2_q2.py\n"
     ]
    }
   ],
   "source": [
    "%%writefile a2_q2.py\n",
    "# %load a2_q2.py\n",
    "\n",
    "\n",
    "def a2_q2(input):\n",
    "    x = input['x'] \n",
    "    y = input['y']\n",
    "    answer = {\n",
    "#         \"sum\": x + y,\n",
    "#         \"difference\": x - y,\n",
    "#         \"product\": x * y,\n",
    "#         \"ratio\":  x / y,\n",
    "        'power_xy': x**y,\n",
    "        'power_yx': y**x,\n",
    "        'repeat_x_times': 'x'*x, \n",
    "        'repeat_y_times': f\"{y}\"*y,\n",
    "        'xth_alphabet_repeat_y_times': chr(x+96)*y\n",
    "    }\n",
    "    return answer\n"
   ]
  },
  {
   "cell_type": "code",
   "execution_count": 1,
   "id": "453d90d3",
   "metadata": {},
   "outputs": [
    {
     "name": "stdout",
     "output_type": "stream",
     "text": [
      "D:\\OneDrive - g.ntu.edu.tw\\111-2\\生物計算\\assignment4\n"
     ]
    }
   ],
   "source": [
    "hw=\"D:\\\\OneDrive - g.ntu.edu.tw\\\\111-2\\\\生物計算\\\\assignment4\"\n",
    "%cd $hw"
   ]
  },
  {
   "cell_type": "code",
   "execution_count": 2,
   "id": "934799ce",
   "metadata": {},
   "outputs": [
    {
     "name": "stdout",
     "output_type": "stream",
     "text": [
      "Overwriting a4_q1_data_preproess.py\n"
     ]
    }
   ],
   "source": [
    "#%%writefile a4_q1_data_preproess.py\n",
    "# %load a4_q1_data_preproess.py\n",
    "import csv\n",
    "import pandas as pd\n",
    "pd.set_option('display.max_rows', None)\n",
    "df = pd.read_csv('a4_table1.csv')\n",
    "df = df.dropna()\n",
    "df[\"Course number\"]=df[\"Course number\"].str.replace(\"\\t\",\"\")\n",
    "df[\"Course number\"]=df[\"Course number\"].str.replace(\" \",\"\")\n",
    "df[\"Course number\"]=df[\"Course number\"].str.replace(\"\\xa0\",\"\")\n",
    "df[\"Course number\"]=df[\"Course number\"].str.replace(\"?\",\"\")\n",
    "df[\"Course number\"]=df[\"Course number\"].str.replace(\"?\",\"\")\n",
    "df[\"Course number\"]=df[\"Course number\"].str.upper()\n",
    "df[\"Course in College\"]=df[\"Course in College\"].str.replace(\"&\",\"and\")\n",
    "df = df.drop_duplicates(subset=['Course number'])\n",
    "college=[\n",
    "\"College of Social Sciences\",\n",
    "\"College of Medicine\",\n",
    "\"College of Engineering\",\n",
    "\"College of Bio-Resources and Agriculture\",\n",
    "'College of Management',\n",
    "\"College of Public Health\",\n",
    "\"College of Electrical Engineering and Computer Science\",\n",
    "\"College of Law\",\n",
    "\"College of Life Science\",\n",
    "\"International College\",\n",
    "\"D-School\",\n",
    "\"Graduate School of Advanced Technology\",\n",
    "\"Center for General Education\",\n",
    "\"School of Professional Education and Continuing Studies\",\n",
    "\"College of Liberal Arts\",\n",
    "\"College of Science\"]\n",
    "df = df[df[\"Course in College\"] .isin (college)]\n",
    "df[\"Course name\"]=df[\"Course name\"].str.replace(\"\\x87\",\"\")\n",
    "df[\"Course name\"]=df[\"Course name\"].str.replace(\"¢\",\"\")\n",
    "df[\"Course name\"]=df[\"Course name\"].str.replace(\"¹\",\"I\")\n",
    "df[\"Course name\"]=df[\"Course name\"].str.replace(\"º\",\"II\")\n",
    "df[\"Course name\"]=df[\"Course name\"].str.replace(\"â\\x85¡\",\"II\")\n",
    "df[\"Course name\"][0]=df[\"Course name\"][0].replace(\"T\",\"I\")\n",
    "df[\"Course name\"][2]=df[\"Course name\"][2].replace(\"1\",\"(I)\")\n",
    "df[\"Course name\"][171]=df[\"Course name\"][171].replace(\"U\",\"II\")\n",
    "df[\"Course name\"]=df[\"Course name\"].str.replace(\"?\",\"\")\n",
    "df[\"Course name\"]=df[\"Course name\"].str.replace(\"Ê\",\"\")\n",
    "df.to_csv('a4_q1_preproess.csv', index=False) \n",
    "for i in range(0,df.shape[0]):\n",
    "    id = 0\n",
    "    if str(df[\"Course in College\"].iloc[i]) == \"College of Liberal Arts\":\n",
    "        id = 101\n",
    "    elif str(df[\"Course in College\"].iloc[i]) == \"College of Science\":\n",
    "        id = 102\n",
    "    elif str(df[\"Course in College\"].iloc[i]) == \"College of Social Sciences\":\n",
    "        id = 103\n",
    "    elif str(df[\"Course in College\"].iloc[i]) == \"College of Medicine\":\n",
    "        id = 104\n",
    "    elif str(df[\"Course in College\"].iloc[i]) == \"College of Engineering\":\n",
    "        id = 105\n",
    "    elif str(df[\"Course in College\"].iloc[i]) == \"College of Bio-Resources and Agriculture\":\n",
    "        id = 106\n",
    "    elif str(df[\"Course in College\"].iloc[i]) == \"College of Management\":\n",
    "        id = 107\n",
    "    elif str(df[\"Course in College\"].iloc[i]) == \"College of Public Health\":\n",
    "        id = 108\n",
    "    elif str(df[\"Course in College\"].iloc[i]) == \"College of Electrical Engineering and Computer Science\":\n",
    "        id = 109\n",
    "    elif str(df[\"Course in College\"].iloc[i]) == \"College of Law\":\n",
    "        id = 110\n",
    "    elif str(df[\"Course in College\"].iloc[i]) == \"College of Life Science\":\n",
    "        id = 111\n",
    "    elif str(df[\"Course in College\"].iloc[i]) == \"International College\":\n",
    "        id = 112\n",
    "    elif str(df[\"Course in College\"].iloc[i]) == \"D-School\":\n",
    "        id = 113\n",
    "    elif str(df[\"Course in College\"].iloc[i]) == \"Graduate School of Advanced Technology\":\n",
    "        id = 114\n",
    "    elif str(df[\"Course in College\"].iloc[i]) == \"Center for General Education\":\n",
    "        id = 115\n",
    "    elif str(df[\"Course in College\"].iloc[i]) == \"School of Professional Education and Continuing Studies\":\n",
    "        id = 116\n",
    "    \n",
    "    print(\"(\",\"\\'\"+str(df[\"Course number\"].iloc[i])+\"\\',\",\n",
    "          \"\\'\"+str(df[\"Course name\"].iloc[i])+\"\\',\",\n",
    "          id,\"),\")\n",
    "course = df[\"Course number\"].values.tolist()"
   ]
  },
  {
   "cell_type": "code",
   "execution_count": 3,
   "id": "aed00eb8",
   "metadata": {},
   "outputs": [
    {
     "name": "stdout",
     "output_type": "stream",
     "text": [
      "Overwriting a4_q2_data_preproess.py\n"
     ]
    }
   ],
   "source": [
    "#%%writefile a4_q2_data_preproess.py\n",
    "# %load a4_q2_data_preproess.py\n",
    "import csv\n",
    "import pandas as pd\n",
    "pd.set_option('display.max_rows', None)\n",
    "df = pd.read_csv('a4_table2.csv')\n",
    "df = df.dropna()\n",
    "df[\"Course number\"]=df[\"Course number\"].str.replace(\"\\t\",\"\")\n",
    "df[\"Course number\"]=df[\"Course number\"].str.replace(\" \",\"\")\n",
    "df[\"Course number\"]=df[\"Course number\"].str.replace(\"\\xa0\",\"\")\n",
    "df[\"Course number\"]=df[\"Course number\"].str.replace(\"?\",\"\")\n",
    "df[\"Course number\"]=df[\"Course number\"].str.upper()\n",
    "df[\"Credit\"] = df[\"Credit\"].astype('int')\n",
    "df[\"Year (20XX)\"] = df[\"Year (20XX)\"].astype('int')\n",
    "df = df[df[\"Course number\"] .isin (course)]\n",
    "df['TimeSlot'] = df[\"Period\"]\n",
    "df['TimeSlot'] = df['TimeSlot'].replace(\"A\",11)\n",
    "df['TimeSlot'] = df['TimeSlot'].replace(\"B\",12)\n",
    "df['TimeSlot'] = df['TimeSlot'].replace(\"C\",13)\n",
    "df['TimeSlot'] = df['TimeSlot'].replace(\"D\",14)\n",
    "df['TimeSlot'] = df['TimeSlot'].replace(\"X\",-1)\n",
    "df['TimeSlot'] = df['TimeSlot'].astype('float')\n",
    "df['TimeSlot'] = df['TimeSlot'].astype('int')\n",
    "\n",
    "df[\"Day of the Week\"]=df[\"Day of the Week\"].str.replace(\" \",\"\")\n",
    "df['TimeSlot_week'] = df[\"Day of the Week\"]\n",
    "\n",
    "df['TimeSlot_week'] = df['TimeSlot_week'].replace(\"Monday\",2)\n",
    "df['TimeSlot_week'] = df['TimeSlot_week'].replace(\"Momday\",2)\n",
    "df['TimeSlot_week'] = df['TimeSlot_week'].replace(\"Tuesday\",3)\n",
    "df['TimeSlot_week'] = df['TimeSlot_week'].replace(\"Wednesday\",4)\n",
    "df['TimeSlot_week'] = df['TimeSlot_week'].replace(\"Thursday\",5)\n",
    "df['TimeSlot_week'] = df['TimeSlot_week'].replace(\"Thusday\",5)\n",
    "df['TimeSlot_week'] = df['TimeSlot_week'].replace(\"Friday\",6)\n",
    "df['TimeSlot_week'] = df['TimeSlot_week'].replace(\"Firday\",6)\n",
    "df['TimeSlot_week'] = df['TimeSlot_week'].replace(\"Online\",-1)\n",
    "df['TimeSlot_week'] = df['TimeSlot_week'].replace(\"Saturday\",7)\n",
    "\n",
    "df['TimeSlotId'] = (df[\"TimeSlot\"] +1)+ ((df[\"TimeSlot_week\"]-1)*15)\n",
    "df = df.drop(df[(df.TimeSlotId < 0) | (df.TimeSlotId > 105)].index)\n",
    "id = []\n",
    "for i in df[\"Course number\"].values.tolist():\n",
    "    count = 0\n",
    "    for j in course:\n",
    "        count += 1\n",
    "        if i == j :\n",
    "            id.append(count)\n",
    "for i in range(1,df.shape[0]):\n",
    "    print(\"(\",\n",
    "          \"\\'\"+str(id[i])+\"\\',\",\n",
    "          #\"\\'\"+str(df[\"Course number\"].iloc[i])+\"\\',\",\n",
    "          \"\\'\"+str(df[\"TimeSlotId\"].iloc[i])+\"\\',\",\n",
    "          \"\\'\"+str(df[\"Year (20XX)\"].iloc[i])+\"\\',\",\n",
    "          \"\\'\"+str(df[\"Semester\"].iloc[i])+\"\\',\",\n",
    "          \"\\'\"+str(df[\"Credit\"].iloc[i])+\"\\'\"\n",
    "          \"),\")"
   ]
  },
  {
   "cell_type": "code",
   "execution_count": 6,
   "id": "43c080d2",
   "metadata": {},
   "outputs": [
    {
     "name": "stdout",
     "output_type": "stream",
     "text": [
      "( '1', '4' ),\n",
      "( '2', '4' ),\n",
      "( '3', '4' ),\n",
      "( '4', '4' ),\n",
      "( '5', '4' ),\n",
      "( '6', '2' ),\n",
      "( '7', '2' ),\n",
      "( '8', '2' ),\n",
      "( '9', '2' ),\n",
      "( '10', '2' ),\n",
      "( '11', '2' ),\n",
      "( '12', '2' ),\n",
      "( '13', '2' ),\n",
      "( '14', '2' ),\n",
      "( '15', '2' ),\n",
      "( '16', '2' ),\n",
      "( '17', '2' ),\n",
      "( '18', '2' ),\n",
      "( '19', '2' ),\n",
      "( '20', '2' ),\n",
      "( '21', '2' ),\n",
      "( '22', '2' ),\n",
      "( '23', '2' ),\n",
      "( '24', '2' ),\n",
      "( '25', '2' ),\n",
      "( '26', '2' ),\n",
      "( '27', '2' ),\n",
      "( '28', '2' ),\n",
      "( '29', '2' ),\n",
      "( '30', '2' ),\n",
      "( '31', '2' ),\n",
      "( '32', '2' ),\n",
      "( '33', '2' ),\n",
      "( '34', '2' ),\n",
      "( '35', '2' ),\n"
     ]
    }
   ],
   "source": [
    "for i in range(1,36):\n",
    "    if i <=5:\n",
    "        print(\"(\",\n",
    "              \"\\'\"+str(i)+\"\\',\",\"\\'\"+str(4)+\"\\'\",\n",
    "              #\"\\'\"+str(df[\"Course number\"].iloc[i])+\"\\',\",\n",
    "              \"),\")\n",
    "    else:\n",
    "            print(\"(\",\n",
    "              \"\\'\"+str(i)+\"\\',\",\"\\'\"+str(2)+\"\\'\",\n",
    "              #\"\\'\"+str(df[\"Course number\"].iloc[i])+\"\\',\",\n",
    "              \"),\")"
   ]
  }
 ],
 "metadata": {
  "kernelspec": {
   "display_name": "Python 3 (ipykernel)",
   "language": "python",
   "name": "python3"
  },
  "language_info": {
   "codemirror_mode": {
    "name": "ipython",
    "version": 3
   },
   "file_extension": ".py",
   "mimetype": "text/x-python",
   "name": "python",
   "nbconvert_exporter": "python",
   "pygments_lexer": "ipython3",
   "version": "3.10.9"
  },
  "toc": {
   "base_numbering": 1,
   "nav_menu": {},
   "number_sections": true,
   "sideBar": true,
   "skip_h1_title": false,
   "title_cell": "Table of Contents",
   "title_sidebar": "Contents",
   "toc_cell": false,
   "toc_position": {},
   "toc_section_display": true,
   "toc_window_display": false
  },
  "varInspector": {
   "cols": {
    "lenName": 16,
    "lenType": 16,
    "lenVar": 40
   },
   "kernels_config": {
    "python": {
     "delete_cmd_postfix": "",
     "delete_cmd_prefix": "del ",
     "library": "var_list.py",
     "varRefreshCmd": "print(var_dic_list())"
    },
    "r": {
     "delete_cmd_postfix": ") ",
     "delete_cmd_prefix": "rm(",
     "library": "var_list.r",
     "varRefreshCmd": "cat(var_dic_list()) "
    }
   },
   "types_to_exclude": [
    "module",
    "function",
    "builtin_function_or_method",
    "instance",
    "_Feature"
   ],
   "window_display": false
  }
 },
 "nbformat": 4,
 "nbformat_minor": 5
}
