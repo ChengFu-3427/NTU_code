{
 "cells": [
  {
   "cell_type": "code",
   "execution_count": 1,
   "id": "936da60f",
   "metadata": {},
   "outputs": [
    {
     "name": "stderr",
     "output_type": "stream",
     "text": [
      "also installing the dependencies 'gmp', 'polynom', 'sets', 'mathjaxr', 'conf.design', 'vcd', 'combinat', 'numbers', 'partitions', 'DoE.base', 'sfsmisc', 'scatterplot3d', 'igraph', 'FrF2'\n",
      "\n"
     ]
    },
    {
     "name": "stdout",
     "output_type": "stream",
     "text": [
      "\n",
      "  There are binary versions available but the source versions are later:\n",
      "           binary source needs_compilation\n",
      "gmp         0.6-2  0.6-5              TRUE\n",
      "sets       1.0-18 1.0-21              TRUE\n",
      "mathjaxr    1.4-0  1.6-0              TRUE\n",
      "vcd         1.4-8  1.4-9             FALSE\n",
      "numbers     0.7-5  0.8-2             FALSE\n",
      "partitions 1.10-2 1.10-4              TRUE\n",
      "DoE.base    1.1-6    1.2             FALSE\n",
      "sfsmisc    1.1-11 1.1-13             FALSE\n",
      "igraph      1.2.6  1.3.0              TRUE\n",
      "\n",
      "  Binaries will be installed\n",
      "package 'gmp' successfully unpacked and MD5 sums checked\n",
      "package 'polynom' successfully unpacked and MD5 sums checked\n",
      "package 'sets' successfully unpacked and MD5 sums checked\n",
      "package 'mathjaxr' successfully unpacked and MD5 sums checked\n",
      "package 'conf.design' successfully unpacked and MD5 sums checked\n",
      "package 'combinat' successfully unpacked and MD5 sums checked\n",
      "package 'partitions' successfully unpacked and MD5 sums checked\n",
      "package 'scatterplot3d' successfully unpacked and MD5 sums checked\n",
      "package 'igraph' successfully unpacked and MD5 sums checked\n",
      "package 'FrF2' successfully unpacked and MD5 sums checked\n",
      "package 'daewr' successfully unpacked and MD5 sums checked\n",
      "\n",
      "The downloaded binary packages are in\n",
      "\tC:\\Users\\User\\AppData\\Local\\Temp\\RtmpW4Nq5k\\downloaded_packages\n"
     ]
    },
    {
     "name": "stderr",
     "output_type": "stream",
     "text": [
      "installing the source packages 'vcd', 'numbers', 'DoE.base', 'sfsmisc'\n",
      "\n"
     ]
    }
   ],
   "source": [
    "install.packages(\"daewr\")"
   ]
  },
  {
   "cell_type": "code",
   "execution_count": 1,
   "id": "6b660ca6",
   "metadata": {},
   "outputs": [
    {
     "name": "stderr",
     "output_type": "stream",
     "text": [
      "Warning message:\n",
      "\"package 'daewr' was built under R version 3.6.3\"Registered S3 method overwritten by 'DoE.base':\n",
      "  method           from       \n",
      "  factorize.factor conf.design\n"
     ]
    }
   ],
   "source": [
    "library(daewr)"
   ]
  },
  {
   "cell_type": "markdown",
   "id": "ebf2158b",
   "metadata": {},
   "source": [
    "## problem 1"
   ]
  },
  {
   "cell_type": "markdown",
   "id": "81e437ee",
   "metadata": {},
   "source": [
    "a. If experiments were to be conducted with the catapult by flipping the ball and measuring the distance, what would the experimental unit be?"
   ]
  },
  {
   "cell_type": "markdown",
   "id": "cfe18923",
   "metadata": {},
   "source": [
    "實驗單位為被實驗的對象，我們調整catapult上的三個因子，所以我認為本題的實驗單位應該是指catapult。 "
   ]
  },
  {
   "cell_type": "markdown",
   "id": "04ef0cea",
   "metadata": {},
   "source": [
    "b. Using the numbers 1, 2, and 3 to represent the levels of start angle and stop angle, and holding the pivot height constant at its high level, make a randomized list of experiments for a 3×3 factorial experiment with r = 2 replicates per cell."
   ]
  },
  {
   "cell_type": "markdown",
   "id": "4f1238fe",
   "metadata": {},
   "source": [
    "|            |                                     | start angle |        |        |\n",
    "|------------|-------------------------------------|:-----------:|:------:|:------:|\n",
    "|            | each group(cell) have 2 replicates  | levels=1    | 2      | 3      |\n",
    "| stop angle | level=1                             | Group1      | Group4 | Group7 |\n",
    "|            | 2                                   | Group2      | Group5 | Group8 |\n",
    "|            | 3                                   | Group3      | Group6 | Group9 |"
   ]
  },
  {
   "cell_type": "markdown",
   "id": "05839f7c",
   "metadata": {},
   "source": [
    "c. If the variance of the experimental error in the measured distance was σ2 = 12 inches, calculate the number of replicates you would need to have a power of 0.90 for detecting a difference in 10 inches in cell means."
   ]
  },
  {
   "cell_type": "markdown",
   "id": "7bec5097",
   "metadata": {},
   "source": [
    "the number of levels of the factor:3*3= 9 "
   ]
  },
  {
   "cell_type": "code",
   "execution_count": 21,
   "id": "25674c60",
   "metadata": {},
   "outputs": [
    {
     "data": {
      "text/html": [
       "<table>\n",
       "<thead><tr><th scope=col>alpha</th><th scope=col>nlev</th><th scope=col>nreps</th><th scope=col>Delta</th><th scope=col>sigma</th><th scope=col>power</th></tr></thead>\n",
       "<tbody>\n",
       "\t<tr><td>0.05     </td><td>9        </td><td>6        </td><td>10       </td><td>3.464102 </td><td>0.9318988</td></tr>\n",
       "</tbody>\n",
       "</table>\n"
      ],
      "text/latex": [
       "\\begin{tabular}{llllll}\n",
       " alpha & nlev & nreps & Delta & sigma & power\\\\\n",
       "\\hline\n",
       "\t 0.05      & 9         & 6         & 10        & 3.464102  & 0.9318988\\\\\n",
       "\\end{tabular}\n"
      ],
      "text/markdown": [
       "\n",
       "| alpha | nlev | nreps | Delta | sigma | power |\n",
       "|---|---|---|---|---|---|\n",
       "| 0.05      | 9         | 6         | 10        | 3.464102  | 0.9318988 |\n",
       "\n"
      ],
      "text/plain": [
       "     alpha nlev nreps Delta sigma    power    \n",
       "[1,] 0.05  9    6     10    3.464102 0.9318988"
      ]
     },
     "metadata": {},
     "output_type": "display_data"
    }
   ],
   "source": [
    "i <- 2\n",
    "p <- 0\n",
    "while(p < 0.9){    \n",
    "    p <- Fpower1(0.05,9,i,10,sqrt(12))[6]\n",
    "    i <- i+1\n",
    "}\n",
    "Fpower1(0.05,9,i-1,10,sqrt(12))"
   ]
  },
  {
   "cell_type": "markdown",
   "id": "857fa6f3",
   "metadata": {},
   "source": [
    "需要6個"
   ]
  },
  {
   "cell_type": "markdown",
   "id": "a01c1f15",
   "metadata": {},
   "source": [
    "Calculate the number of replicates you would need to have a power of 0.90 for detecting a difference of 24 inches in marginal means for either factor."
   ]
  },
  {
   "cell_type": "code",
   "execution_count": 22,
   "id": "4b1a683f",
   "metadata": {},
   "outputs": [
    {
     "data": {
      "text/html": [
       "<table>\n",
       "<thead><tr><th scope=col>alpha</th><th scope=col>nlev</th><th scope=col>nreps</th><th scope=col>Delta</th><th scope=col>sigma</th><th scope=col>power</th></tr></thead>\n",
       "<tbody>\n",
       "\t<tr><td>0.05     </td><td>9        </td><td>2        </td><td>24       </td><td>3.464102 </td><td>0.9445589</td></tr>\n",
       "</tbody>\n",
       "</table>\n"
      ],
      "text/latex": [
       "\\begin{tabular}{llllll}\n",
       " alpha & nlev & nreps & Delta & sigma & power\\\\\n",
       "\\hline\n",
       "\t 0.05      & 9         & 2         & 24        & 3.464102  & 0.9445589\\\\\n",
       "\\end{tabular}\n"
      ],
      "text/markdown": [
       "\n",
       "| alpha | nlev | nreps | Delta | sigma | power |\n",
       "|---|---|---|---|---|---|\n",
       "| 0.05      | 9         | 2         | 24        | 3.464102  | 0.9445589 |\n",
       "\n"
      ],
      "text/plain": [
       "     alpha nlev nreps Delta sigma    power    \n",
       "[1,] 0.05  9    2     24    3.464102 0.9445589"
      ]
     },
     "metadata": {},
     "output_type": "display_data"
    }
   ],
   "source": [
    "i <- 2\n",
    "p <- 0\n",
    "while(p < 0.9){    \n",
    "    p <- Fpower1(0.05,9,i,24,sqrt(12))[6]\n",
    "    i <- i+1\n",
    "}\n",
    "Fpower1(0.05,9,i-1,24,sqrt(12))"
   ]
  },
  {
   "cell_type": "markdown",
   "id": "a315577d",
   "metadata": {},
   "source": [
    "需要兩個replicates"
   ]
  },
  {
   "cell_type": "markdown",
   "id": "d42cdccd",
   "metadata": {},
   "source": [
    "## problem 2"
   ]
  },
  {
   "cell_type": "markdown",
   "id": "587d9824",
   "metadata": {},
   "source": [
    "Perform factorial design to investigate all the effects and state your interpretation."
   ]
  },
  {
   "cell_type": "code",
   "execution_count": 20,
   "id": "12d1d0c7",
   "metadata": {},
   "outputs": [
    {
     "data": {
      "text/html": [
       "<table>\n",
       "<thead><tr><th scope=col>day</th><th scope=col>method</th><th scope=col>temp</th><th scope=col>obs</th></tr></thead>\n",
       "<tbody>\n",
       "\t<tr><td>1 </td><td>1 </td><td>1 </td><td>30</td></tr>\n",
       "\t<tr><td>1 </td><td>2 </td><td>1 </td><td>34</td></tr>\n",
       "\t<tr><td>1 </td><td>3 </td><td>1 </td><td>29</td></tr>\n",
       "\t<tr><td>2 </td><td>1 </td><td>1 </td><td>28</td></tr>\n",
       "\t<tr><td>2 </td><td>2 </td><td>1 </td><td>31</td></tr>\n",
       "\t<tr><td>2 </td><td>3 </td><td>1 </td><td>31</td></tr>\n",
       "\t<tr><td>3 </td><td>1 </td><td>1 </td><td>31</td></tr>\n",
       "\t<tr><td>3 </td><td>2 </td><td>1 </td><td>35</td></tr>\n",
       "\t<tr><td>3 </td><td>3 </td><td>1 </td><td>32</td></tr>\n",
       "\t<tr><td>1 </td><td>1 </td><td>2 </td><td>35</td></tr>\n",
       "\t<tr><td>1 </td><td>2 </td><td>2 </td><td>41</td></tr>\n",
       "\t<tr><td>1 </td><td>3 </td><td>2 </td><td>26</td></tr>\n",
       "\t<tr><td>2 </td><td>1 </td><td>2 </td><td>32</td></tr>\n",
       "\t<tr><td>2 </td><td>2 </td><td>2 </td><td>36</td></tr>\n",
       "\t<tr><td>2 </td><td>3 </td><td>2 </td><td>30</td></tr>\n",
       "\t<tr><td>3 </td><td>1 </td><td>2 </td><td>37</td></tr>\n",
       "\t<tr><td>3 </td><td>2 </td><td>2 </td><td>40</td></tr>\n",
       "\t<tr><td>3 </td><td>3 </td><td>2 </td><td>34</td></tr>\n",
       "\t<tr><td>1 </td><td>1 </td><td>3 </td><td>37</td></tr>\n",
       "\t<tr><td>1 </td><td>2 </td><td>3 </td><td>38</td></tr>\n",
       "\t<tr><td>1 </td><td>3 </td><td>3 </td><td>33</td></tr>\n",
       "\t<tr><td>2 </td><td>1 </td><td>3 </td><td>40</td></tr>\n",
       "\t<tr><td>2 </td><td>2 </td><td>3 </td><td>42</td></tr>\n",
       "\t<tr><td>2 </td><td>3 </td><td>3 </td><td>32</td></tr>\n",
       "\t<tr><td>3 </td><td>1 </td><td>3 </td><td>41</td></tr>\n",
       "\t<tr><td>3 </td><td>2 </td><td>3 </td><td>39</td></tr>\n",
       "\t<tr><td>3 </td><td>3 </td><td>3 </td><td>39</td></tr>\n",
       "\t<tr><td>1 </td><td>1 </td><td>4 </td><td>36</td></tr>\n",
       "\t<tr><td>1 </td><td>2 </td><td>4 </td><td>42</td></tr>\n",
       "\t<tr><td>1 </td><td>3 </td><td>4 </td><td>36</td></tr>\n",
       "\t<tr><td>2 </td><td>1 </td><td>4 </td><td>41</td></tr>\n",
       "\t<tr><td>2 </td><td>2 </td><td>4 </td><td>40</td></tr>\n",
       "\t<tr><td>2 </td><td>3 </td><td>4 </td><td>40</td></tr>\n",
       "\t<tr><td>3 </td><td>1 </td><td>4 </td><td>40</td></tr>\n",
       "\t<tr><td>3 </td><td>2 </td><td>4 </td><td>44</td></tr>\n",
       "\t<tr><td>3 </td><td>3 </td><td>4 </td><td>45</td></tr>\n",
       "</tbody>\n",
       "</table>\n"
      ],
      "text/latex": [
       "\\begin{tabular}{r|llll}\n",
       " day & method & temp & obs\\\\\n",
       "\\hline\n",
       "\t 1  & 1  & 1  & 30\\\\\n",
       "\t 1  & 2  & 1  & 34\\\\\n",
       "\t 1  & 3  & 1  & 29\\\\\n",
       "\t 2  & 1  & 1  & 28\\\\\n",
       "\t 2  & 2  & 1  & 31\\\\\n",
       "\t 2  & 3  & 1  & 31\\\\\n",
       "\t 3  & 1  & 1  & 31\\\\\n",
       "\t 3  & 2  & 1  & 35\\\\\n",
       "\t 3  & 3  & 1  & 32\\\\\n",
       "\t 1  & 1  & 2  & 35\\\\\n",
       "\t 1  & 2  & 2  & 41\\\\\n",
       "\t 1  & 3  & 2  & 26\\\\\n",
       "\t 2  & 1  & 2  & 32\\\\\n",
       "\t 2  & 2  & 2  & 36\\\\\n",
       "\t 2  & 3  & 2  & 30\\\\\n",
       "\t 3  & 1  & 2  & 37\\\\\n",
       "\t 3  & 2  & 2  & 40\\\\\n",
       "\t 3  & 3  & 2  & 34\\\\\n",
       "\t 1  & 1  & 3  & 37\\\\\n",
       "\t 1  & 2  & 3  & 38\\\\\n",
       "\t 1  & 3  & 3  & 33\\\\\n",
       "\t 2  & 1  & 3  & 40\\\\\n",
       "\t 2  & 2  & 3  & 42\\\\\n",
       "\t 2  & 3  & 3  & 32\\\\\n",
       "\t 3  & 1  & 3  & 41\\\\\n",
       "\t 3  & 2  & 3  & 39\\\\\n",
       "\t 3  & 3  & 3  & 39\\\\\n",
       "\t 1  & 1  & 4  & 36\\\\\n",
       "\t 1  & 2  & 4  & 42\\\\\n",
       "\t 1  & 3  & 4  & 36\\\\\n",
       "\t 2  & 1  & 4  & 41\\\\\n",
       "\t 2  & 2  & 4  & 40\\\\\n",
       "\t 2  & 3  & 4  & 40\\\\\n",
       "\t 3  & 1  & 4  & 40\\\\\n",
       "\t 3  & 2  & 4  & 44\\\\\n",
       "\t 3  & 3  & 4  & 45\\\\\n",
       "\\end{tabular}\n"
      ],
      "text/markdown": [
       "\n",
       "| day | method | temp | obs |\n",
       "|---|---|---|---|\n",
       "| 1  | 1  | 1  | 30 |\n",
       "| 1  | 2  | 1  | 34 |\n",
       "| 1  | 3  | 1  | 29 |\n",
       "| 2  | 1  | 1  | 28 |\n",
       "| 2  | 2  | 1  | 31 |\n",
       "| 2  | 3  | 1  | 31 |\n",
       "| 3  | 1  | 1  | 31 |\n",
       "| 3  | 2  | 1  | 35 |\n",
       "| 3  | 3  | 1  | 32 |\n",
       "| 1  | 1  | 2  | 35 |\n",
       "| 1  | 2  | 2  | 41 |\n",
       "| 1  | 3  | 2  | 26 |\n",
       "| 2  | 1  | 2  | 32 |\n",
       "| 2  | 2  | 2  | 36 |\n",
       "| 2  | 3  | 2  | 30 |\n",
       "| 3  | 1  | 2  | 37 |\n",
       "| 3  | 2  | 2  | 40 |\n",
       "| 3  | 3  | 2  | 34 |\n",
       "| 1  | 1  | 3  | 37 |\n",
       "| 1  | 2  | 3  | 38 |\n",
       "| 1  | 3  | 3  | 33 |\n",
       "| 2  | 1  | 3  | 40 |\n",
       "| 2  | 2  | 3  | 42 |\n",
       "| 2  | 3  | 3  | 32 |\n",
       "| 3  | 1  | 3  | 41 |\n",
       "| 3  | 2  | 3  | 39 |\n",
       "| 3  | 3  | 3  | 39 |\n",
       "| 1  | 1  | 4  | 36 |\n",
       "| 1  | 2  | 4  | 42 |\n",
       "| 1  | 3  | 4  | 36 |\n",
       "| 2  | 1  | 4  | 41 |\n",
       "| 2  | 2  | 4  | 40 |\n",
       "| 2  | 3  | 4  | 40 |\n",
       "| 3  | 1  | 4  | 40 |\n",
       "| 3  | 2  | 4  | 44 |\n",
       "| 3  | 3  | 4  | 45 |\n",
       "\n"
      ],
      "text/plain": [
       "   day method temp obs\n",
       "1  1   1      1    30 \n",
       "2  1   2      1    34 \n",
       "3  1   3      1    29 \n",
       "4  2   1      1    28 \n",
       "5  2   2      1    31 \n",
       "6  2   3      1    31 \n",
       "7  3   1      1    31 \n",
       "8  3   2      1    35 \n",
       "9  3   3      1    32 \n",
       "10 1   1      2    35 \n",
       "11 1   2      2    41 \n",
       "12 1   3      2    26 \n",
       "13 2   1      2    32 \n",
       "14 2   2      2    36 \n",
       "15 2   3      2    30 \n",
       "16 3   1      2    37 \n",
       "17 3   2      2    40 \n",
       "18 3   3      2    34 \n",
       "19 1   1      3    37 \n",
       "20 1   2      3    38 \n",
       "21 1   3      3    33 \n",
       "22 2   1      3    40 \n",
       "23 2   2      3    42 \n",
       "24 2   3      3    32 \n",
       "25 3   1      3    41 \n",
       "26 3   2      3    39 \n",
       "27 3   3      3    39 \n",
       "28 1   1      4    36 \n",
       "29 1   2      4    42 \n",
       "30 1   3      4    36 \n",
       "31 2   1      4    41 \n",
       "32 2   2      4    40 \n",
       "33 2   3      4    40 \n",
       "34 3   1      4    40 \n",
       "35 3   2      4    44 \n",
       "36 3   3      4    45 "
      ]
     },
     "metadata": {},
     "output_type": "display_data"
    }
   ],
   "source": [
    "y <- c(\n",
    "30,34,29,28,31,31,31,35,32,\n",
    "35,41,26,32,36,30,37,40,34,\n",
    "37,38,33,40,42,32,41,39,39,\n",
    "36,42,36,41,40,40,40,44,45\n",
    ")\n",
    "method <- rep(rep(c(1,2,3),3),4)\n",
    "day <- rep(rep(c(1,2,3),each=3),4)\n",
    "temp <- rep(c(1,2,3,4),each=9)\n",
    "data<-data.frame(day=factor(day),method=factor(method),temp=factor(temp),obs=y)\n",
    "data"
   ]
  },
  {
   "cell_type": "code",
   "execution_count": 23,
   "id": "d7f15c01",
   "metadata": {},
   "outputs": [
    {
     "data": {
      "text/html": [
       "<table>\n",
       "<thead><tr><th></th><th scope=col>Df</th><th scope=col>Sum Sq</th><th scope=col>Mean Sq</th><th scope=col>F value</th><th scope=col>Pr(&gt;F)</th></tr></thead>\n",
       "<tbody>\n",
       "\t<tr><th scope=row>day</th><td> 2          </td><td> 77.55556   </td><td> 38.77778   </td><td> 7.915464   </td><td>2.572365e-03</td></tr>\n",
       "\t<tr><th scope=row>method</th><td> 2          </td><td>128.38889   </td><td> 64.19444   </td><td>13.103608   </td><td>1.788203e-04</td></tr>\n",
       "\t<tr><th scope=row>temp</th><td> 3          </td><td>434.08333   </td><td>144.69444   </td><td>29.535567   </td><td>6.742916e-08</td></tr>\n",
       "\t<tr><th scope=row>method:temp</th><td> 6          </td><td> 75.16667   </td><td> 12.52778   </td><td> 2.557216   </td><td>4.943353e-02</td></tr>\n",
       "\t<tr><th scope=row>Residuals</th><td>22          </td><td>107.77778   </td><td>  4.89899   </td><td>       NA   </td><td>          NA</td></tr>\n",
       "</tbody>\n",
       "</table>\n"
      ],
      "text/latex": [
       "\\begin{tabular}{r|lllll}\n",
       "  & Df & Sum Sq & Mean Sq & F value & Pr(>F)\\\\\n",
       "\\hline\n",
       "\tday &  2           &  77.55556    &  38.77778    &  7.915464    & 2.572365e-03\\\\\n",
       "\tmethod &  2           & 128.38889    &  64.19444    & 13.103608    & 1.788203e-04\\\\\n",
       "\ttemp &  3           & 434.08333    & 144.69444    & 29.535567    & 6.742916e-08\\\\\n",
       "\tmethod:temp &  6           &  75.16667    &  12.52778    &  2.557216    & 4.943353e-02\\\\\n",
       "\tResiduals & 22           & 107.77778    &   4.89899    &        NA    &           NA\\\\\n",
       "\\end{tabular}\n"
      ],
      "text/markdown": [
       "\n",
       "| <!--/--> | Df | Sum Sq | Mean Sq | F value | Pr(>F) |\n",
       "|---|---|---|---|---|---|\n",
       "| day |  2           |  77.55556    |  38.77778    |  7.915464    | 2.572365e-03 |\n",
       "| method |  2           | 128.38889    |  64.19444    | 13.103608    | 1.788203e-04 |\n",
       "| temp |  3           | 434.08333    | 144.69444    | 29.535567    | 6.742916e-08 |\n",
       "| method:temp |  6           |  75.16667    |  12.52778    |  2.557216    | 4.943353e-02 |\n",
       "| Residuals | 22           | 107.77778    |   4.89899    |        NA    |           NA |\n",
       "\n"
      ],
      "text/plain": [
       "            Df Sum Sq    Mean Sq   F value   Pr(>F)      \n",
       "day          2  77.55556  38.77778  7.915464 2.572365e-03\n",
       "method       2 128.38889  64.19444 13.103608 1.788203e-04\n",
       "temp         3 434.08333 144.69444 29.535567 6.742916e-08\n",
       "method:temp  6  75.16667  12.52778  2.557216 4.943353e-02\n",
       "Residuals   22 107.77778   4.89899        NA           NA"
      ]
     },
     "metadata": {},
     "output_type": "display_data"
    },
    {
     "data": {
      "text/plain": [
       "\n",
       "Call:\n",
       "lm(formula = obs ~ day + method * temp, data = data)\n",
       "\n",
       "Residuals:\n",
       "    Min      1Q  Median      3Q     Max \n",
       "-3.0556 -1.0972 -0.3889  1.4861  3.2778 \n",
       "\n",
       "Coefficients:\n",
       "              Estimate Std. Error t value Pr(>|t|)    \n",
       "(Intercept)    28.3889     1.3803  20.568 7.42e-16 ***\n",
       "day2            0.5000     0.9036   0.553  0.58561    \n",
       "day3            3.3333     0.9036   3.689  0.00128 ** \n",
       "method2         3.6667     1.8072   2.029  0.05474 .  \n",
       "method3         1.0000     1.8072   0.553  0.58561    \n",
       "temp2           5.0000     1.8072   2.767  0.01125 *  \n",
       "temp3           9.6667     1.8072   5.349 2.27e-05 ***\n",
       "temp4           9.3333     1.8072   5.165 3.54e-05 ***\n",
       "method2:temp2   0.6667     2.5558   0.261  0.79664    \n",
       "method3:temp2  -5.6667     2.5558  -2.217  0.03725 *  \n",
       "method2:temp3  -3.3333     2.5558  -1.304  0.20563    \n",
       "method3:temp3  -5.6667     2.5558  -2.217  0.03725 *  \n",
       "method2:temp4  -0.6667     2.5558  -0.261  0.79664    \n",
       "method3:temp4   0.3333     2.5558   0.130  0.89742    \n",
       "---\n",
       "Signif. codes:  0 '***' 0.001 '**' 0.01 '*' 0.05 '.' 0.1 ' ' 1\n",
       "\n",
       "Residual standard error: 2.213 on 22 degrees of freedom\n",
       "Multiple R-squared:  0.869,\tAdjusted R-squared:  0.7917 \n",
       "F-statistic: 11.23 on 13 and 22 DF,  p-value: 7.18e-07\n"
      ]
     },
     "metadata": {},
     "output_type": "display_data"
    }
   ],
   "source": [
    "model<-lm(obs~day+method*temp,data=data)\n",
    "anova(model)\n",
    "summary(model)"
   ]
  },
  {
   "cell_type": "markdown",
   "id": "9d84d7ef",
   "metadata": {},
   "source": [
    "結論：由於本題將days設定為block，所以我沒有將其放入交互作用項中。根據anova table，在顯著水準為0.05的情況下，我們能夠宣稱使用不同的 preparation method 和 temperature 會造成紙張的tensile strength有顯著的不同。與此同時，anova table也指出preparation method 和 temperature有交互作用，而不同的block間也有顯著的差異。"
   ]
  }
 ],
 "metadata": {
  "kernelspec": {
   "display_name": "R",
   "language": "R",
   "name": "ir"
  },
  "language_info": {
   "codemirror_mode": "r",
   "file_extension": ".r",
   "mimetype": "text/x-r-source",
   "name": "R",
   "pygments_lexer": "r",
   "version": "3.6.1"
  }
 },
 "nbformat": 4,
 "nbformat_minor": 5
}
