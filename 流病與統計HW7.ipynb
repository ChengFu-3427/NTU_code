{
 "cells": [
  {
   "cell_type": "markdown",
   "id": "4bdda2d5",
   "metadata": {},
   "source": [
    "Ex 18_1 (5 points in total)：There are 12 complicated crossroads in this city. The numbers of car\n",
    "accidents at the 12 crossroads within 1 month are as follows: 5, 5, 6, 0, 1, 2, 4, 4, 3, 5, 7, 10."
   ]
  },
  {
   "cell_type": "markdown",
   "id": "b7aa0ad7",
   "metadata": {},
   "source": [
    "&emsp;(1) Please plot the log-likelihood function for mean number of car accidents within 1 month"
   ]
  },
  {
   "cell_type": "code",
   "execution_count": 1,
   "id": "3005d444",
   "metadata": {},
   "outputs": [],
   "source": [
    "X <- c(5, 5, 6, 0, 1, 2, 4, 4, 3, 5, 7, 10)\n",
    "logli <- function(x, lambda){\n",
    "    loglik <- 1\n",
    "    for (i in 1:length(x)){\n",
    "        loglik <- loglik * (((exp(-lambda))*(lambda^(X[i])))/factorial(X[i]))\n",
    "    }\n",
    "    loglik <- log(loglik)\n",
    "    return(loglik)\n",
    "}"
   ]
  },
  {
   "cell_type": "code",
   "execution_count": 2,
   "id": "243872fa",
   "metadata": {},
   "outputs": [
    {
     "data": {
      "image/png": "[encoded data removed]",
      "text/plain": [
       "plot without title"
      ]
     },
     "metadata": {},
     "output_type": "display_data"
    }
   ],
   "source": [
    "lambda <- seq(1,20,0.01)\n",
    "Y <- logli(X,lambda)\n",
    "plot(lambda,Y,type=\"l\")"
   ]
  },
  {
   "cell_type": "markdown",
   "id": "a6d3f018",
   "metadata": {},
   "source": [
    "&emsp;(2) Please solve the maximum likelihood estimate (MLE) of\n",
    "$\\lambda$\n",
    "by the Newton-Raphson method.\n",
    "And mark the MLE on the above plot.\n",
    "Requirements: please start from making a plot to decide an initial value (1 point), and then\n",
    "define your function and use our newtonraphson (2 points)"
   ]
  },
  {
   "cell_type": "code",
   "execution_count": 3,
   "id": "89536065",
   "metadata": {},
   "outputs": [],
   "source": [
    "newtonraphson <- function(ftn, x0, tol = 1e-9, max.iter = 5000) {\n",
    "    x <- x0    \n",
    "    fx <- ftn(x)     \n",
    "    iter <- 0\n",
    "    while ((abs(fx[1]) > tol) & (iter < max.iter)) {\n",
    "        x <- x - fx[1]/fx[2]\n",
    "        fx <- ftn(x)\n",
    "        iter <- iter + 1\n",
    "        cat(\"At iteration\", iter, \"value of x is:\", x, \"\\n\")\n",
    "        }\n",
    "    if (abs(fx[1]) > tol) {\n",
    "    cat(\"Algorithm failed to converge\\n\")\n",
    "    return(NULL)\n",
    "    } else {  # abs(fx[1]) <= tol\n",
    "    cat(\"Algorithm converged\\n\")\n",
    "    return(x)\n",
    "    }\n",
    "}"
   ]
  },
  {
   "cell_type": "code",
   "execution_count": 4,
   "id": "4ad79c0b",
   "metadata": {},
   "outputs": [],
   "source": [
    "ftn <- function(lambda){\n",
    "    x <- c(5, 5, 6, 0, 1, 2, 4, 4, 3, 5, 7, 10)\n",
    "    f <- (-length(x))\n",
    "    df <- sum(x)*(-(lambda^(-2)))\n",
    "    for (i in 1:length(x)){\n",
    "        f <- f + x[i]/lambda\n",
    "    }\n",
    "    return(c(f,df))\n",
    "    \n",
    "}"
   ]
  },
  {
   "cell_type": "code",
   "execution_count": 5,
   "id": "33331393",
   "metadata": {},
   "outputs": [
    {
     "data": {
      "image/png": "[encoded data removed]",
      "text/plain": [
       "plot without title"
      ]
     },
     "metadata": {},
     "output_type": "display_data"
    }
   ],
   "source": [
    "lambda <- seq(0,10,0.01)\n",
    "Y <- (-length(X))+sum(X)/lambda\n",
    "plot(lambda,Y,type=\"l\")\n",
    "abline(h=0,col=2)"
   ]
  },
  {
   "cell_type": "code",
   "execution_count": 6,
   "id": "d4ecf01b",
   "metadata": {},
   "outputs": [
    {
     "name": "stdout",
     "output_type": "stream",
     "text": [
      "At iteration 1 value of x is: 4.230769 \n",
      "At iteration 2 value of x is: 4.330906 \n",
      "At iteration 3 value of x is: 4.333332 \n",
      "At iteration 4 value of x is: 4.333333 \n",
      "Algorithm converged\n"
     ]
    },
    {
     "data": {
      "text/html": [
       "4.33333333333291"
      ],
      "text/latex": [
       "4.33333333333291"
      ],
      "text/markdown": [
       "4.33333333333291"
      ],
      "text/plain": [
       "[1] 4.333333"
      ]
     },
     "metadata": {},
     "output_type": "display_data"
    }
   ],
   "source": [
    "newtonraphson(ftn,5)"
   ]
  },
  {
   "cell_type": "code",
   "execution_count": 7,
   "id": "bb5fd37d",
   "metadata": {},
   "outputs": [
    {
     "data": {
      "image/png": "[encoded data removed]",
      "text/plain": [
       "plot without title"
      ]
     },
     "metadata": {},
     "output_type": "display_data"
    }
   ],
   "source": [
    "lambda <- seq(1,20,0.01)\n",
    "Y <- logli(X,lambda)\n",
    "plot(lambda,Y,type=\"l\")\n",
    "abline(v=4.333333,col=2)"
   ]
  },
  {
   "cell_type": "markdown",
   "id": "cc259989",
   "metadata": {},
   "source": [
    "---"
   ]
  },
  {
   "cell_type": "markdown",
   "id": "4e878663",
   "metadata": {},
   "source": [
    "Ex S5_1 (5 points in total): Data: BMIrepeated.csv on NTU COOL (Week 4). Please use “SEX”, “AGE”,\n",
    "“Treatment” as predictors, “BMI3” as response variable, to calculate the log likelihood of this\n",
    "model.\n"
   ]
  },
  {
   "cell_type": "code",
   "execution_count": 1,
   "id": "e2663e04",
   "metadata": {},
   "outputs": [],
   "source": [
    "setwd(\"D:/OneDrive - g.ntu.edu.tw/110/流病與統計\")\n",
    "aa <- read.csv(\"BMIrepeated.csv\",header=TRUE)\n",
    "attach(aa)"
   ]
  },
  {
   "cell_type": "code",
   "execution_count": 3,
   "id": "7af70452",
   "metadata": {},
   "outputs": [
    {
     "data": {
      "text/html": [
       "<table>\n",
       "<thead><tr><th scope=col></th><th scope=col>SEX</th><th scope=col>AGE</th><th scope=col>Treatment</th></tr></thead>\n",
       "<tbody>\n",
       "\t<tr><td>1 </td><td>1 </td><td>35</td><td>0 </td></tr>\n",
       "\t<tr><td>1 </td><td>2 </td><td>32</td><td>0 </td></tr>\n",
       "\t<tr><td>1 </td><td>1 </td><td>30</td><td>0 </td></tr>\n",
       "\t<tr><td>1 </td><td>1 </td><td>31</td><td>0 </td></tr>\n",
       "\t<tr><td>1 </td><td>1 </td><td>52</td><td>0 </td></tr>\n",
       "\t<tr><td>1 </td><td>1 </td><td>59</td><td>0 </td></tr>\n",
       "</tbody>\n",
       "</table>\n"
      ],
      "text/latex": [
       "\\begin{tabular}{llll}\n",
       "  & SEX & AGE & Treatment\\\\\n",
       "\\hline\n",
       "\t 1  & 1  & 35 & 0 \\\\\n",
       "\t 1  & 2  & 32 & 0 \\\\\n",
       "\t 1  & 1  & 30 & 0 \\\\\n",
       "\t 1  & 1  & 31 & 0 \\\\\n",
       "\t 1  & 1  & 52 & 0 \\\\\n",
       "\t 1  & 1  & 59 & 0 \\\\\n",
       "\\end{tabular}\n"
      ],
      "text/markdown": [
       "\n",
       "|  | SEX | AGE | Treatment |\n",
       "|---|---|---|---|\n",
       "| 1  | 1  | 35 | 0  |\n",
       "| 1  | 2  | 32 | 0  |\n",
       "| 1  | 1  | 30 | 0  |\n",
       "| 1  | 1  | 31 | 0  |\n",
       "| 1  | 1  | 52 | 0  |\n",
       "| 1  | 1  | 59 | 0  |\n",
       "\n"
      ],
      "text/plain": [
       "       SEX AGE Treatment\n",
       "[1,] 1 1   35  0        \n",
       "[2,] 1 2   32  0        \n",
       "[3,] 1 1   30  0        \n",
       "[4,] 1 1   31  0        \n",
       "[5,] 1 1   52  0        \n",
       "[6,] 1 1   59  0        "
      ]
     },
     "metadata": {},
     "output_type": "display_data"
    }
   ],
   "source": [
    "#design matrix\n",
    "X <- cbind(rep(1,length(BMI3)),SEX,AGE,Treatment)\n",
    "head(X)"
   ]
  },
  {
   "cell_type": "code",
   "execution_count": 18,
   "id": "cccec410",
   "metadata": {},
   "outputs": [
    {
     "name": "stdout",
     "output_type": "stream",
     "text": [
      "\t\tbeta\n",
      "\n",
      "intercept:  15.26963 \n",
      "\n",
      "SEX:\t     0.8314382 \n",
      "\n",
      "AGE:\t     0.2516927 \n",
      "\n",
      "Treatment:  -3.405244"
     ]
    }
   ],
   "source": [
    "#normal equation X'Xb=X'Y\n",
    "BMI3mat <- cbind(BMI3)\n",
    "beta <- solve(t(X)%*%X,t(X)%*%BMI3mat)\n",
    "cat(\"\\t\\tbeta\\n\n",
    "intercept: \",beta[1],\"\\n\n",
    "SEX:\\t    \",beta[2],\"\\n\n",
    "AGE:\\t    \",beta[3],\"\\n\n",
    "Treatment: \",beta[4])\n"
   ]
  },
  {
   "cell_type": "code",
   "execution_count": 19,
   "id": "e2f3fe84",
   "metadata": {},
   "outputs": [
    {
     "data": {
      "text/html": [
       "<ol class=list-inline>\n",
       "\t<li>-2.91031601472898</li>\n",
       "\t<li>-2.98667601721517</li>\n",
       "\t<li>-4.6518523689669</li>\n",
       "\t<li>-1.90354509811931</li>\n",
       "\t<li>-9.18909241032004</li>\n",
       "\t<li>-10.950941514387</li>\n",
       "</ol>\n"
      ],
      "text/latex": [
       "\\begin{enumerate*}\n",
       "\\item -2.91031601472898\n",
       "\\item -2.98667601721517\n",
       "\\item -4.6518523689669\n",
       "\\item -1.90354509811931\n",
       "\\item -9.18909241032004\n",
       "\\item -10.950941514387\n",
       "\\end{enumerate*}\n"
      ],
      "text/markdown": [
       "1. -2.91031601472898\n",
       "2. -2.98667601721517\n",
       "3. -4.6518523689669\n",
       "4. -1.90354509811931\n",
       "5. -9.18909241032004\n",
       "6. -10.950941514387\n",
       "\n",
       "\n"
      ],
      "text/plain": [
       "[1]  -2.910316  -2.986676  -4.651852  -1.903545  -9.189092 -10.950942"
      ]
     },
     "metadata": {},
     "output_type": "display_data"
    }
   ],
   "source": [
    "#residuals\n",
    "residual <- BMI3mat- X%*%beta\n",
    "head(residual[1:6])"
   ]
  },
  {
   "cell_type": "code",
   "execution_count": 20,
   "id": "31914719",
   "metadata": {},
   "outputs": [
    {
     "data": {
      "text/html": [
       "7.0588513003208"
      ],
      "text/latex": [
       "7.0588513003208"
      ],
      "text/markdown": [
       "7.0588513003208"
      ],
      "text/plain": [
       "[1] 7.058851"
      ]
     },
     "metadata": {},
     "output_type": "display_data"
    }
   ],
   "source": [
    "#sigma square\n",
    "Varhat <- sum((residual)^2)/(length(residual))\n",
    "sqrt(Varhat)"
   ]
  },
  {
   "cell_type": "code",
   "execution_count": 21,
   "id": "ecbf874a",
   "metadata": {},
   "outputs": [],
   "source": [
    "logL <- (-length(BMI3)/2)*(log(2*pi)+log(Varhat)+1)"
   ]
  },
  {
   "cell_type": "code",
   "execution_count": 22,
   "id": "98088c25",
   "metadata": {},
   "outputs": [
    {
     "data": {
      "text/html": [
       "-337.322086613488"
      ],
      "text/latex": [
       "-337.322086613488"
      ],
      "text/markdown": [
       "-337.322086613488"
      ],
      "text/plain": [
       "[1] -337.3221"
      ]
     },
     "metadata": {},
     "output_type": "display_data"
    }
   ],
   "source": [
    "logL"
   ]
  }
 ],
 "metadata": {
  "kernelspec": {
   "display_name": "R",
   "language": "R",
   "name": "ir"
  },
  "language_info": {
   "codemirror_mode": "r",
   "file_extension": ".r",
   "mimetype": "text/x-r-source",
   "name": "R",
   "pygments_lexer": "r",
   "version": "3.6.1"
  }
 },
 "nbformat": 4,
 "nbformat_minor": 5
}
