{
 "cells": [
  {
   "cell_type": "markdown",
   "id": "619ece04",
   "metadata": {},
   "source": [
    "Ex8: There were 50 students in a class. All odd-numbered studentswere boys, and all even-numbered studentswere girls. There were 7 students passing the midterm exam: 11,16,23,31,36,47,50. There were 9 students passing the final exam: 3,9,16,20,27,31,36,49,50.Please use the R commands regarding set operations to answer the following four questions:"
   ]
  },
  {
   "cell_type": "code",
   "execution_count": 119,
   "id": "64ad9cdd",
   "metadata": {},
   "outputs": [],
   "source": [
    "pass_mid <- c(11,16,23,31,36,47,50)\n",
    "pass_fin <- c(3,9,16,20,27,31,36,49,50)"
   ]
  },
  {
   "cell_type": "markdown",
   "id": "e338903f",
   "metadata": {},
   "source": [
    "(1)Please list the boys who passed both the midterm and final exams"
   ]
  },
  {
   "cell_type": "code",
   "execution_count": 120,
   "id": "9d6a9c39",
   "metadata": {},
   "outputs": [
    {
     "name": "stdout",
     "output_type": "stream",
     "text": [
      "[1] 31\n"
     ]
    }
   ],
   "source": [
    "x <- intersect(pass_mid,pass_fin)\n",
    "j <- c()\n",
    "for (i in x){\n",
    "    if (i%%2 > 0){\n",
    "        j <- append(j,i)    \n",
    "    }\n",
    "}\n",
    "print(j)"
   ]
  },
  {
   "cell_type": "markdown",
   "id": "fd2bbbd1",
   "metadata": {},
   "source": [
    "(2)Please list the girls who passed both the midterm and final exams"
   ]
  },
  {
   "cell_type": "code",
   "execution_count": 121,
   "id": "4ed03f47",
   "metadata": {},
   "outputs": [
    {
     "name": "stdout",
     "output_type": "stream",
     "text": [
      "[1] 16 36 50\n"
     ]
    }
   ],
   "source": [
    "x <- intersect(pass_mid,pass_fin)\n",
    "j <- c()\n",
    "for (i in x){\n",
    "    if (i%%2 == 0){\n",
    "        j <- append(j,i)    \n",
    "    }\n",
    "}\n",
    "print(j)"
   ]
  },
  {
   "cell_type": "markdown",
   "id": "6ad67228",
   "metadata": {},
   "source": [
    "(3)Please list the boys who passed the midterm exam but failed the final exam"
   ]
  },
  {
   "cell_type": "code",
   "execution_count": 122,
   "id": "5f40a030",
   "metadata": {},
   "outputs": [
    {
     "name": "stdout",
     "output_type": "stream",
     "text": [
      "[1] 11 23 47\n"
     ]
    }
   ],
   "source": [
    "x <- setdiff(pass_mid,pass_fin)\n",
    "j <- c()\n",
    "for (i in x){\n",
    "    if (i%%2 != 0){\n",
    "        j <- append(j,i)    \n",
    "    }\n",
    "}\n",
    "print(j)"
   ]
  },
  {
   "cell_type": "markdown",
   "id": "2bf5726f",
   "metadata": {},
   "source": [
    "(4)Please list the girls who failed the midterm exam but passed the final exam"
   ]
  },
  {
   "cell_type": "code",
   "execution_count": 123,
   "id": "530e3c04",
   "metadata": {},
   "outputs": [
    {
     "name": "stdout",
     "output_type": "stream",
     "text": [
      "[1] 20\n"
     ]
    }
   ],
   "source": [
    "x <- setdiff(pass_fin,pass_mid)\n",
    "j <- c()\n",
    "for (i in x){\n",
    "    if (i%%2 == 0){\n",
    "        j <- append(j,i)    \n",
    "    }\n",
    "}\n",
    "print(j)"
   ]
  },
  {
   "cell_type": "markdown",
   "id": "5e7eb4d6",
   "metadata": {},
   "source": [
    "Ex 9: Please write a function on your own to estimate the regression coefficients of a simple linear regression, where the response variable is “y” from “seizure.csv”(Week 1course material)and the predictorvariable is “ltime” from “seizure.csv”.(Hint: the regression coefficientsshouldinclude an intercept term and a slope term)"
   ]
  },
  {
   "cell_type": "code",
   "execution_count": 124,
   "id": "105923ff",
   "metadata": {},
   "outputs": [
    {
     "data": {
      "text/html": [
       "'C:/Users/User/Desktop'"
      ],
      "text/latex": [
       "'C:/Users/User/Desktop'"
      ],
      "text/markdown": [
       "'C:/Users/User/Desktop'"
      ],
      "text/plain": [
       "[1] \"C:/Users/User/Desktop\""
      ]
     },
     "metadata": {},
     "output_type": "display_data"
    }
   ],
   "source": [
    "getwd()"
   ]
  },
  {
   "cell_type": "code",
   "execution_count": 125,
   "id": "38edc029",
   "metadata": {},
   "outputs": [
    {
     "data": {
      "text/html": [
       "<table>\n",
       "<thead><tr><th scope=col>id</th><th scope=col>y</th><th scope=col>visit</th><th scope=col>trt</th><th scope=col>bline</th><th scope=col>age</th><th scope=col>x1</th><th scope=col>ltime</th></tr></thead>\n",
       "<tbody>\n",
       "\t<tr><td>101      </td><td>76       </td><td>0        </td><td>1        </td><td>76       </td><td>18       </td><td>0        </td><td>2.0794415</td></tr>\n",
       "\t<tr><td>101      </td><td>11       </td><td>1        </td><td>1        </td><td>76       </td><td>18       </td><td>1        </td><td>0.6931472</td></tr>\n",
       "\t<tr><td>101      </td><td>14       </td><td>2        </td><td>1        </td><td>76       </td><td>18       </td><td>1        </td><td>0.6931472</td></tr>\n",
       "\t<tr><td>101      </td><td> 9       </td><td>3        </td><td>1        </td><td>76       </td><td>18       </td><td>1        </td><td>0.6931472</td></tr>\n",
       "\t<tr><td>101      </td><td> 8       </td><td>4        </td><td>1        </td><td>76       </td><td>18       </td><td>1        </td><td>0.6931472</td></tr>\n",
       "\t<tr><td>102      </td><td>38       </td><td>0        </td><td>1        </td><td>38       </td><td>32       </td><td>0        </td><td>2.0794415</td></tr>\n",
       "</tbody>\n",
       "</table>\n"
      ],
      "text/latex": [
       "\\begin{tabular}{r|llllllll}\n",
       " id & y & visit & trt & bline & age & x1 & ltime\\\\\n",
       "\\hline\n",
       "\t 101       & 76        & 0         & 1         & 76        & 18        & 0         & 2.0794415\\\\\n",
       "\t 101       & 11        & 1         & 1         & 76        & 18        & 1         & 0.6931472\\\\\n",
       "\t 101       & 14        & 2         & 1         & 76        & 18        & 1         & 0.6931472\\\\\n",
       "\t 101       &  9        & 3         & 1         & 76        & 18        & 1         & 0.6931472\\\\\n",
       "\t 101       &  8        & 4         & 1         & 76        & 18        & 1         & 0.6931472\\\\\n",
       "\t 102       & 38        & 0         & 1         & 38        & 32        & 0         & 2.0794415\\\\\n",
       "\\end{tabular}\n"
      ],
      "text/markdown": [
       "\n",
       "| id | y | visit | trt | bline | age | x1 | ltime |\n",
       "|---|---|---|---|---|---|---|---|\n",
       "| 101       | 76        | 0         | 1         | 76        | 18        | 0         | 2.0794415 |\n",
       "| 101       | 11        | 1         | 1         | 76        | 18        | 1         | 0.6931472 |\n",
       "| 101       | 14        | 2         | 1         | 76        | 18        | 1         | 0.6931472 |\n",
       "| 101       |  9        | 3         | 1         | 76        | 18        | 1         | 0.6931472 |\n",
       "| 101       |  8        | 4         | 1         | 76        | 18        | 1         | 0.6931472 |\n",
       "| 102       | 38        | 0         | 1         | 38        | 32        | 0         | 2.0794415 |\n",
       "\n"
      ],
      "text/plain": [
       "  id  y  visit trt bline age x1 ltime    \n",
       "1 101 76 0     1   76    18  0  2.0794415\n",
       "2 101 11 1     1   76    18  1  0.6931472\n",
       "3 101 14 2     1   76    18  1  0.6931472\n",
       "4 101  9 3     1   76    18  1  0.6931472\n",
       "5 101  8 4     1   76    18  1  0.6931472\n",
       "6 102 38 0     1   38    32  0  2.0794415"
      ]
     },
     "metadata": {},
     "output_type": "display_data"
    }
   ],
   "source": [
    "setwd(\"C:/Users/User/Desktop\")\n",
    "hw <- read.csv('seizure.csv')\n",
    "head(hw)"
   ]
  },
  {
   "cell_type": "code",
   "execution_count": 126,
   "id": "28de2bee",
   "metadata": {},
   "outputs": [],
   "source": [
    "reg <- function(y,x){\n",
    "    ybar <- sum(y)/length(y)\n",
    "    xbar <- sum(x)/length(x)\n",
    "    Y <- y-ybar\n",
    "    X <- x-xbar\n",
    "    beta1 <- (sum(X*Y))/(sum(X*X))\n",
    "    beta0 <- ybar-beta1*xbar\n",
    "    ans <- paste(\"intercept = \" ,beta0, \", slope =\",beta1)\n",
    "    ans\n",
    "    return(ans)\n",
    "}"
   ]
  },
  {
   "cell_type": "code",
   "execution_count": 127,
   "id": "5b915337",
   "metadata": {},
   "outputs": [
    {
     "data": {
      "text/html": [
       "<span style=white-space:pre-wrap>'intercept =  -3.9224137938988 , slope = 15.9069565286505'</span>"
      ],
      "text/latex": [
       "'intercept =  -3.9224137938988 , slope = 15.9069565286505'"
      ],
      "text/markdown": [
       "<span style=white-space:pre-wrap>'intercept =  -3.9224137938988 , slope = 15.9069565286505'</span>"
      ],
      "text/plain": [
       "[1] \"intercept =  -3.9224137938988 , slope = 15.9069565286505\""
      ]
     },
     "metadata": {},
     "output_type": "display_data"
    }
   ],
   "source": [
    "reg(hw$y,hw$ltime)"
   ]
  }
 ],
 "metadata": {
  "kernelspec": {
   "display_name": "R",
   "language": "R",
   "name": "ir"
  },
  "language_info": {
   "codemirror_mode": "r",
   "file_extension": ".r",
   "mimetype": "text/x-r-source",
   "name": "R",
   "pygments_lexer": "r",
   "version": "3.6.1"
  }
 },
 "nbformat": 4,
 "nbformat_minor": 5
}
