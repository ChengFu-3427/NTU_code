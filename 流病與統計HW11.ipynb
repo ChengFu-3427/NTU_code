{
 "cells": [
  {
   "cell_type": "code",
   "execution_count": null,
   "id": "afdbfbd1",
   "metadata": {},
   "outputs": [],
   "source": [
    "betaco <- c(-6,1.0,0.005)\n",
    "n <- seq(30,630,200)\n",
    "no.rep <- 1000\n",
    "n.max <- 100\n",
    "tol <- 1e-9\n",
    "meanMLE <- matrix(NA,length(n),3)\n",
    "\n",
    "allMLE <- array(NA,c(no.rep,3,length(n)))\n",
    "for(n.loop in 1:length(n)){\n",
    "    MLE <- matrix(NA,no.rep,3)\n",
    "\n",
    "    for(i in 1:no.rep){\n",
    "        set.seed(i)\n",
    "        gpa <- rnorm(n[n.loop],3.1,0.3)\n",
    "        gre <- rnorm(n[n.loop],580,80) \n",
    "        x.beta <- betaco[1]+betaco[2]*gpa+betaco[3]*gre\n",
    "        pi.admit <- exp(x.beta)/(1+exp(x.beta))\n",
    "        Y <- c()\n",
    "        for (j in 1:n[n.loop]){\n",
    "            Y[j] <- sample(c(0,1),1,c(1-pi.admit[j],pi.admit[j]),replace=F)        \n",
    "        }    \n",
    "        X <- cbind(rep(1,length(Y)),gpa,gre)\n",
    "        \n",
    "        betacoef <- c(0,0,0)\n",
    "        pil <- exp(X %*% betacoef)/(1+exp(X %*% betacoef))\n",
    "        grad <- t(X) %*% (Y-pil)\n",
    "        hess <- -t(X) %*% diag(c(pil*(1-pil)),length(Y)) %*% X\n",
    "        n.iter <- 0\n",
    "        while ((max(abs(grad))> tol) & (n.iter < n.max) ) {\n",
    "            betacoef <- betacoef - solve(hess) %*% grad\n",
    "            pil <- exp(X %*% betacoef)/(1+exp(X %*% betacoef))\n",
    "            grad <- t(X)%*%(Y-pil)\n",
    "            hess <- -t(X) %*% diag(c(pil*(1-pil)),length(Y)) %*% X\n",
    "            n.iter <- n.iter + 1\n",
    "        }\n",
    "        if (n.iter== n.max) {\n",
    "            cat(\"fail to converge\\n\")\n",
    "        } else {\n",
    "            MLE[i,] <- betacoef\n",
    "        }\n",
    "\n",
    "    }\n",
    "    meanMLE[n.loop,] <- colSums(MLE)/no.rep\n",
    "\n",
    "    allMLE[,,n.loop] <- MLE\n",
    "\n",
    "}\n"
   ]
  }
 ],
 "metadata": {
  "kernelspec": {
   "display_name": "R",
   "language": "R",
   "name": "ir"
  },
  "language_info": {
   "codemirror_mode": "r",
   "file_extension": ".r",
   "mimetype": "text/x-r-source",
   "name": "R",
   "pygments_lexer": "r",
   "version": "3.6.1"
  }
 },
 "nbformat": 4,
 "nbformat_minor": 5
}
