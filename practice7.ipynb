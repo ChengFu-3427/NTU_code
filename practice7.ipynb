{
 "cells": [
  {
   "cell_type": "markdown",
   "id": "84d1fc6e",
   "metadata": {},
   "source": [
    "## Problem 1"
   ]
  },
  {
   "cell_type": "code",
   "execution_count": 1,
   "id": "56e5e062",
   "metadata": {},
   "outputs": [
    {
     "data": {
      "text/html": [
       "<table>\n",
       "<thead><tr><th scope=col>y</th><th scope=col>mix</th><th scope=col>app</th><th scope=col>day</th></tr></thead>\n",
       "<tbody>\n",
       "\t<tr><td>64.5</td><td>1   </td><td>1   </td><td>1   </td></tr>\n",
       "\t<tr><td>66.3</td><td>2   </td><td>1   </td><td>1   </td></tr>\n",
       "\t<tr><td>74.1</td><td>3   </td><td>1   </td><td>1   </td></tr>\n",
       "\t<tr><td>66.5</td><td>4   </td><td>1   </td><td>1   </td></tr>\n",
       "\t<tr><td>68.3</td><td>1   </td><td>2   </td><td>1   </td></tr>\n",
       "\t<tr><td>69.5</td><td>2   </td><td>2   </td><td>1   </td></tr>\n",
       "\t<tr><td>73.8</td><td>3   </td><td>2   </td><td>1   </td></tr>\n",
       "\t<tr><td>70.0</td><td>4   </td><td>2   </td><td>1   </td></tr>\n",
       "\t<tr><td>70.3</td><td>1   </td><td>3   </td><td>1   </td></tr>\n",
       "\t<tr><td>73.1</td><td>2   </td><td>3   </td><td>1   </td></tr>\n",
       "\t<tr><td>78.0</td><td>3   </td><td>3   </td><td>1   </td></tr>\n",
       "\t<tr><td>72.3</td><td>4   </td><td>3   </td><td>1   </td></tr>\n",
       "\t<tr><td>65.2</td><td>1   </td><td>1   </td><td>2   </td></tr>\n",
       "\t<tr><td>65.0</td><td>2   </td><td>1   </td><td>2   </td></tr>\n",
       "\t<tr><td>73.8</td><td>3   </td><td>1   </td><td>2   </td></tr>\n",
       "\t<tr><td>64.8</td><td>4   </td><td>1   </td><td>2   </td></tr>\n",
       "\t<tr><td>69.2</td><td>1   </td><td>2   </td><td>2   </td></tr>\n",
       "\t<tr><td>70.3</td><td>2   </td><td>2   </td><td>2   </td></tr>\n",
       "\t<tr><td>74.5</td><td>3   </td><td>2   </td><td>2   </td></tr>\n",
       "\t<tr><td>68.3</td><td>4   </td><td>2   </td><td>2   </td></tr>\n",
       "\t<tr><td>71.2</td><td>1   </td><td>3   </td><td>2   </td></tr>\n",
       "\t<tr><td>72.8</td><td>2   </td><td>3   </td><td>2   </td></tr>\n",
       "\t<tr><td>79.1</td><td>3   </td><td>3   </td><td>2   </td></tr>\n",
       "\t<tr><td>71.5</td><td>4   </td><td>3   </td><td>2   </td></tr>\n",
       "\t<tr><td>66.2</td><td>1   </td><td>1   </td><td>3   </td></tr>\n",
       "\t<tr><td>66.5</td><td>2   </td><td>1   </td><td>3   </td></tr>\n",
       "\t<tr><td>72.3</td><td>3   </td><td>1   </td><td>3   </td></tr>\n",
       "\t<tr><td>67.7</td><td>4   </td><td>1   </td><td>3   </td></tr>\n",
       "\t<tr><td>69.0</td><td>1   </td><td>2   </td><td>3   </td></tr>\n",
       "\t<tr><td>69.0</td><td>2   </td><td>2   </td><td>3   </td></tr>\n",
       "\t<tr><td>75.4</td><td>3   </td><td>2   </td><td>3   </td></tr>\n",
       "\t<tr><td>68.6</td><td>4   </td><td>2   </td><td>3   </td></tr>\n",
       "\t<tr><td>70.8</td><td>1   </td><td>3   </td><td>3   </td></tr>\n",
       "\t<tr><td>74.2</td><td>2   </td><td>3   </td><td>3   </td></tr>\n",
       "\t<tr><td>80.1</td><td>3   </td><td>3   </td><td>3   </td></tr>\n",
       "\t<tr><td>72.4</td><td>4   </td><td>3   </td><td>3   </td></tr>\n",
       "</tbody>\n",
       "</table>\n"
      ],
      "text/latex": [
       "\\begin{tabular}{r|llll}\n",
       " y & mix & app & day\\\\\n",
       "\\hline\n",
       "\t 64.5 & 1    & 1    & 1   \\\\\n",
       "\t 66.3 & 2    & 1    & 1   \\\\\n",
       "\t 74.1 & 3    & 1    & 1   \\\\\n",
       "\t 66.5 & 4    & 1    & 1   \\\\\n",
       "\t 68.3 & 1    & 2    & 1   \\\\\n",
       "\t 69.5 & 2    & 2    & 1   \\\\\n",
       "\t 73.8 & 3    & 2    & 1   \\\\\n",
       "\t 70.0 & 4    & 2    & 1   \\\\\n",
       "\t 70.3 & 1    & 3    & 1   \\\\\n",
       "\t 73.1 & 2    & 3    & 1   \\\\\n",
       "\t 78.0 & 3    & 3    & 1   \\\\\n",
       "\t 72.3 & 4    & 3    & 1   \\\\\n",
       "\t 65.2 & 1    & 1    & 2   \\\\\n",
       "\t 65.0 & 2    & 1    & 2   \\\\\n",
       "\t 73.8 & 3    & 1    & 2   \\\\\n",
       "\t 64.8 & 4    & 1    & 2   \\\\\n",
       "\t 69.2 & 1    & 2    & 2   \\\\\n",
       "\t 70.3 & 2    & 2    & 2   \\\\\n",
       "\t 74.5 & 3    & 2    & 2   \\\\\n",
       "\t 68.3 & 4    & 2    & 2   \\\\\n",
       "\t 71.2 & 1    & 3    & 2   \\\\\n",
       "\t 72.8 & 2    & 3    & 2   \\\\\n",
       "\t 79.1 & 3    & 3    & 2   \\\\\n",
       "\t 71.5 & 4    & 3    & 2   \\\\\n",
       "\t 66.2 & 1    & 1    & 3   \\\\\n",
       "\t 66.5 & 2    & 1    & 3   \\\\\n",
       "\t 72.3 & 3    & 1    & 3   \\\\\n",
       "\t 67.7 & 4    & 1    & 3   \\\\\n",
       "\t 69.0 & 1    & 2    & 3   \\\\\n",
       "\t 69.0 & 2    & 2    & 3   \\\\\n",
       "\t 75.4 & 3    & 2    & 3   \\\\\n",
       "\t 68.6 & 4    & 2    & 3   \\\\\n",
       "\t 70.8 & 1    & 3    & 3   \\\\\n",
       "\t 74.2 & 2    & 3    & 3   \\\\\n",
       "\t 80.1 & 3    & 3    & 3   \\\\\n",
       "\t 72.4 & 4    & 3    & 3   \\\\\n",
       "\\end{tabular}\n"
      ],
      "text/markdown": [
       "\n",
       "| y | mix | app | day |\n",
       "|---|---|---|---|\n",
       "| 64.5 | 1    | 1    | 1    |\n",
       "| 66.3 | 2    | 1    | 1    |\n",
       "| 74.1 | 3    | 1    | 1    |\n",
       "| 66.5 | 4    | 1    | 1    |\n",
       "| 68.3 | 1    | 2    | 1    |\n",
       "| 69.5 | 2    | 2    | 1    |\n",
       "| 73.8 | 3    | 2    | 1    |\n",
       "| 70.0 | 4    | 2    | 1    |\n",
       "| 70.3 | 1    | 3    | 1    |\n",
       "| 73.1 | 2    | 3    | 1    |\n",
       "| 78.0 | 3    | 3    | 1    |\n",
       "| 72.3 | 4    | 3    | 1    |\n",
       "| 65.2 | 1    | 1    | 2    |\n",
       "| 65.0 | 2    | 1    | 2    |\n",
       "| 73.8 | 3    | 1    | 2    |\n",
       "| 64.8 | 4    | 1    | 2    |\n",
       "| 69.2 | 1    | 2    | 2    |\n",
       "| 70.3 | 2    | 2    | 2    |\n",
       "| 74.5 | 3    | 2    | 2    |\n",
       "| 68.3 | 4    | 2    | 2    |\n",
       "| 71.2 | 1    | 3    | 2    |\n",
       "| 72.8 | 2    | 3    | 2    |\n",
       "| 79.1 | 3    | 3    | 2    |\n",
       "| 71.5 | 4    | 3    | 2    |\n",
       "| 66.2 | 1    | 1    | 3    |\n",
       "| 66.5 | 2    | 1    | 3    |\n",
       "| 72.3 | 3    | 1    | 3    |\n",
       "| 67.7 | 4    | 1    | 3    |\n",
       "| 69.0 | 1    | 2    | 3    |\n",
       "| 69.0 | 2    | 2    | 3    |\n",
       "| 75.4 | 3    | 2    | 3    |\n",
       "| 68.6 | 4    | 2    | 3    |\n",
       "| 70.8 | 1    | 3    | 3    |\n",
       "| 74.2 | 2    | 3    | 3    |\n",
       "| 80.1 | 3    | 3    | 3    |\n",
       "| 72.4 | 4    | 3    | 3    |\n",
       "\n"
      ],
      "text/plain": [
       "   y    mix app day\n",
       "1  64.5 1   1   1  \n",
       "2  66.3 2   1   1  \n",
       "3  74.1 3   1   1  \n",
       "4  66.5 4   1   1  \n",
       "5  68.3 1   2   1  \n",
       "6  69.5 2   2   1  \n",
       "7  73.8 3   2   1  \n",
       "8  70.0 4   2   1  \n",
       "9  70.3 1   3   1  \n",
       "10 73.1 2   3   1  \n",
       "11 78.0 3   3   1  \n",
       "12 72.3 4   3   1  \n",
       "13 65.2 1   1   2  \n",
       "14 65.0 2   1   2  \n",
       "15 73.8 3   1   2  \n",
       "16 64.8 4   1   2  \n",
       "17 69.2 1   2   2  \n",
       "18 70.3 2   2   2  \n",
       "19 74.5 3   2   2  \n",
       "20 68.3 4   2   2  \n",
       "21 71.2 1   3   2  \n",
       "22 72.8 2   3   2  \n",
       "23 79.1 3   3   2  \n",
       "24 71.5 4   3   2  \n",
       "25 66.2 1   1   3  \n",
       "26 66.5 2   1   3  \n",
       "27 72.3 3   1   3  \n",
       "28 67.7 4   1   3  \n",
       "29 69.0 1   2   3  \n",
       "30 69.0 2   2   3  \n",
       "31 75.4 3   2   3  \n",
       "32 68.6 4   2   3  \n",
       "33 70.8 1   3   3  \n",
       "34 74.2 2   3   3  \n",
       "35 80.1 3   3   3  \n",
       "36 72.4 4   3   3  "
      ]
     },
     "metadata": {},
     "output_type": "display_data"
    }
   ],
   "source": [
    "y <- c(\n",
    "    64.5,66.3,74.1,66.5,\n",
    "    68.3,69.5,73.8,70.0,\n",
    "    70.3,73.1,78.0,72.3,\n",
    "    \n",
    "    65.2,65.0,73.8,64.8,\n",
    "    69.2,70.3,74.5,68.3,\n",
    "    71.2,72.8,79.1,71.5,\n",
    "    \n",
    "    66.2,66.5,72.3,67.7,\n",
    "    69.0,69.0,75.4,68.6,\n",
    "    70.8,74.2,80.1,72.4\n",
    ")\n",
    "mix <- rep(c(1:4),9)\n",
    "day <- rep(c(1:3),each=12)\n",
    "application <- rep(rep(c(1:3),each=4),3)\n",
    "data1 <- data.frame(\n",
    "    y=y,\n",
    "    mix=factor(mix),\n",
    "    app=factor(application),\n",
    "    day=factor(day)\n",
    ")\n",
    "data1"
   ]
  },
  {
   "cell_type": "code",
   "execution_count": 6,
   "id": "d2f9e284",
   "metadata": {},
   "outputs": [
    {
     "data": {
      "text/html": [
       "<table>\n",
       "<thead><tr><th></th><th scope=col>Df</th><th scope=col>Sum Sq</th><th scope=col>Mean Sq</th><th scope=col>F value</th><th scope=col>Pr(&gt;F)</th></tr></thead>\n",
       "<tbody>\n",
       "\t<tr><th scope=row>day</th><td> 2          </td><td>  2.041667  </td><td>  1.0208333 </td><td>  1.469947  </td><td>2.516570e-01</td></tr>\n",
       "\t<tr><th scope=row>mix</th><td> 3          </td><td>307.478889  </td><td>102.4929630 </td><td>147.584500  </td><td>1.011788e-14</td></tr>\n",
       "\t<tr><th scope=row>app</th><td> 2          </td><td>222.095000  </td><td>111.0475000 </td><td>159.902585  </td><td>7.853886e-14</td></tr>\n",
       "\t<tr><th scope=row>mix:app</th><td> 6          </td><td> 10.036111  </td><td>  1.6726852 </td><td>  2.408579  </td><td>6.090399e-02</td></tr>\n",
       "\t<tr><th scope=row>Residuals</th><td>22          </td><td> 15.278333  </td><td>  0.6944697 </td><td>        NA  </td><td>          NA</td></tr>\n",
       "</tbody>\n",
       "</table>\n"
      ],
      "text/latex": [
       "\\begin{tabular}{r|lllll}\n",
       "  & Df & Sum Sq & Mean Sq & F value & Pr(>F)\\\\\n",
       "\\hline\n",
       "\tday &  2           &   2.041667   &   1.0208333  &   1.469947   & 2.516570e-01\\\\\n",
       "\tmix &  3           & 307.478889   & 102.4929630  & 147.584500   & 1.011788e-14\\\\\n",
       "\tapp &  2           & 222.095000   & 111.0475000  & 159.902585   & 7.853886e-14\\\\\n",
       "\tmix:app &  6           &  10.036111   &   1.6726852  &   2.408579   & 6.090399e-02\\\\\n",
       "\tResiduals & 22           &  15.278333   &   0.6944697  &         NA   &           NA\\\\\n",
       "\\end{tabular}\n"
      ],
      "text/markdown": [
       "\n",
       "| <!--/--> | Df | Sum Sq | Mean Sq | F value | Pr(>F) |\n",
       "|---|---|---|---|---|---|\n",
       "| day |  2           |   2.041667   |   1.0208333  |   1.469947   | 2.516570e-01 |\n",
       "| mix |  3           | 307.478889   | 102.4929630  | 147.584500   | 1.011788e-14 |\n",
       "| app |  2           | 222.095000   | 111.0475000  | 159.902585   | 7.853886e-14 |\n",
       "| mix:app |  6           |  10.036111   |   1.6726852  |   2.408579   | 6.090399e-02 |\n",
       "| Residuals | 22           |  15.278333   |   0.6944697  |         NA   |           NA |\n",
       "\n"
      ],
      "text/plain": [
       "          Df Sum Sq     Mean Sq     F value    Pr(>F)      \n",
       "day        2   2.041667   1.0208333   1.469947 2.516570e-01\n",
       "mix        3 307.478889 102.4929630 147.584500 1.011788e-14\n",
       "app        2 222.095000 111.0475000 159.902585 7.853886e-14\n",
       "mix:app    6  10.036111   1.6726852   2.408579 6.090399e-02\n",
       "Residuals 22  15.278333   0.6944697         NA           NA"
      ]
     },
     "metadata": {},
     "output_type": "display_data"
    }
   ],
   "source": [
    "mod1 <- lm(y~day+mix*app,data1)\n",
    "anova(mod1)"
   ]
  },
  {
   "cell_type": "markdown",
   "id": "fbfbd3c3",
   "metadata": {},
   "source": [
    "在顯著水準為0.05的情況下，顏料的混合方式和應用方式對percentage reflectance of pigment有顯著效果。"
   ]
  },
  {
   "cell_type": "markdown",
   "id": "cfb62692",
   "metadata": {},
   "source": [
    "## Problem 2"
   ]
  },
  {
   "cell_type": "code",
   "execution_count": 16,
   "id": "dfee017a",
   "metadata": {},
   "outputs": [
    {
     "data": {
      "text/html": [
       "<table>\n",
       "<thead><tr><th scope=col>y</th><th scope=col>v</th><th scope=col>w</th><th scope=col>rep</th></tr></thead>\n",
       "<tbody>\n",
       "\t<tr><td> 8.9</td><td>1   </td><td>1   </td><td>1   </td></tr>\n",
       "\t<tr><td> 7.6</td><td>1   </td><td>1   </td><td>2   </td></tr>\n",
       "\t<tr><td> 5.5</td><td>1   </td><td>1   </td><td>3   </td></tr>\n",
       "\t<tr><td>10.8</td><td>1   </td><td>1   </td><td>4   </td></tr>\n",
       "\t<tr><td>12.5</td><td>1   </td><td>2   </td><td>1   </td></tr>\n",
       "\t<tr><td> 9.8</td><td>1   </td><td>2   </td><td>2   </td></tr>\n",
       "\t<tr><td>10.0</td><td>1   </td><td>2   </td><td>3   </td></tr>\n",
       "\t<tr><td>15.1</td><td>1   </td><td>2   </td><td>4   </td></tr>\n",
       "\t<tr><td>13.5</td><td>1   </td><td>3   </td><td>1   </td></tr>\n",
       "\t<tr><td> 8.8</td><td>1   </td><td>3   </td><td>2   </td></tr>\n",
       "\t<tr><td> 9.4</td><td>1   </td><td>3   </td><td>3   </td></tr>\n",
       "\t<tr><td>14.2</td><td>1   </td><td>3   </td><td>4   </td></tr>\n",
       "\t<tr><td>10.2</td><td>2   </td><td>1   </td><td>1   </td></tr>\n",
       "\t<tr><td> 9.7</td><td>2   </td><td>1   </td><td>2   </td></tr>\n",
       "\t<tr><td> 6.8</td><td>2   </td><td>1   </td><td>3   </td></tr>\n",
       "\t<tr><td> 8.7</td><td>2   </td><td>1   </td><td>4   </td></tr>\n",
       "\t<tr><td>14.1</td><td>2   </td><td>2   </td><td>1   </td></tr>\n",
       "\t<tr><td> 8.9</td><td>2   </td><td>2   </td><td>2   </td></tr>\n",
       "\t<tr><td> 9.9</td><td>2   </td><td>2   </td><td>3   </td></tr>\n",
       "\t<tr><td>12.5</td><td>2   </td><td>2   </td><td>4   </td></tr>\n",
       "\t<tr><td>13.8</td><td>2   </td><td>3   </td><td>1   </td></tr>\n",
       "\t<tr><td>10.3</td><td>2   </td><td>3   </td><td>2   </td></tr>\n",
       "\t<tr><td>10.1</td><td>2   </td><td>3   </td><td>3   </td></tr>\n",
       "\t<tr><td>13.4</td><td>2   </td><td>3   </td><td>4   </td></tr>\n",
       "</tbody>\n",
       "</table>\n"
      ],
      "text/latex": [
       "\\begin{tabular}{r|llll}\n",
       " y & v & w & rep\\\\\n",
       "\\hline\n",
       "\t  8.9 & 1    & 1    & 1   \\\\\n",
       "\t  7.6 & 1    & 1    & 2   \\\\\n",
       "\t  5.5 & 1    & 1    & 3   \\\\\n",
       "\t 10.8 & 1    & 1    & 4   \\\\\n",
       "\t 12.5 & 1    & 2    & 1   \\\\\n",
       "\t  9.8 & 1    & 2    & 2   \\\\\n",
       "\t 10.0 & 1    & 2    & 3   \\\\\n",
       "\t 15.1 & 1    & 2    & 4   \\\\\n",
       "\t 13.5 & 1    & 3    & 1   \\\\\n",
       "\t  8.8 & 1    & 3    & 2   \\\\\n",
       "\t  9.4 & 1    & 3    & 3   \\\\\n",
       "\t 14.2 & 1    & 3    & 4   \\\\\n",
       "\t 10.2 & 2    & 1    & 1   \\\\\n",
       "\t  9.7 & 2    & 1    & 2   \\\\\n",
       "\t  6.8 & 2    & 1    & 3   \\\\\n",
       "\t  8.7 & 2    & 1    & 4   \\\\\n",
       "\t 14.1 & 2    & 2    & 1   \\\\\n",
       "\t  8.9 & 2    & 2    & 2   \\\\\n",
       "\t  9.9 & 2    & 2    & 3   \\\\\n",
       "\t 12.5 & 2    & 2    & 4   \\\\\n",
       "\t 13.8 & 2    & 3    & 1   \\\\\n",
       "\t 10.3 & 2    & 3    & 2   \\\\\n",
       "\t 10.1 & 2    & 3    & 3   \\\\\n",
       "\t 13.4 & 2    & 3    & 4   \\\\\n",
       "\\end{tabular}\n"
      ],
      "text/markdown": [
       "\n",
       "| y | v | w | rep |\n",
       "|---|---|---|---|\n",
       "|  8.9 | 1    | 1    | 1    |\n",
       "|  7.6 | 1    | 1    | 2    |\n",
       "|  5.5 | 1    | 1    | 3    |\n",
       "| 10.8 | 1    | 1    | 4    |\n",
       "| 12.5 | 1    | 2    | 1    |\n",
       "|  9.8 | 1    | 2    | 2    |\n",
       "| 10.0 | 1    | 2    | 3    |\n",
       "| 15.1 | 1    | 2    | 4    |\n",
       "| 13.5 | 1    | 3    | 1    |\n",
       "|  8.8 | 1    | 3    | 2    |\n",
       "|  9.4 | 1    | 3    | 3    |\n",
       "| 14.2 | 1    | 3    | 4    |\n",
       "| 10.2 | 2    | 1    | 1    |\n",
       "|  9.7 | 2    | 1    | 2    |\n",
       "|  6.8 | 2    | 1    | 3    |\n",
       "|  8.7 | 2    | 1    | 4    |\n",
       "| 14.1 | 2    | 2    | 1    |\n",
       "|  8.9 | 2    | 2    | 2    |\n",
       "|  9.9 | 2    | 2    | 3    |\n",
       "| 12.5 | 2    | 2    | 4    |\n",
       "| 13.8 | 2    | 3    | 1    |\n",
       "| 10.3 | 2    | 3    | 2    |\n",
       "| 10.1 | 2    | 3    | 3    |\n",
       "| 13.4 | 2    | 3    | 4    |\n",
       "\n"
      ],
      "text/plain": [
       "   y    v w rep\n",
       "1   8.9 1 1 1  \n",
       "2   7.6 1 1 2  \n",
       "3   5.5 1 1 3  \n",
       "4  10.8 1 1 4  \n",
       "5  12.5 1 2 1  \n",
       "6   9.8 1 2 2  \n",
       "7  10.0 1 2 3  \n",
       "8  15.1 1 2 4  \n",
       "9  13.5 1 3 1  \n",
       "10  8.8 1 3 2  \n",
       "11  9.4 1 3 3  \n",
       "12 14.2 1 3 4  \n",
       "13 10.2 2 1 1  \n",
       "14  9.7 2 1 2  \n",
       "15  6.8 2 1 3  \n",
       "16  8.7 2 1 4  \n",
       "17 14.1 2 2 1  \n",
       "18  8.9 2 2 2  \n",
       "19  9.9 2 2 3  \n",
       "20 12.5 2 2 4  \n",
       "21 13.8 2 3 1  \n",
       "22 10.3 2 3 2  \n",
       "23 10.1 2 3 3  \n",
       "24 13.4 2 3 4  "
      ]
     },
     "metadata": {},
     "output_type": "display_data"
    }
   ],
   "source": [
    "y <- c(\n",
    "    8.9,7.6,5.5,10.8,\n",
    "    12.5,9.8,10.0,15.1,\n",
    "    13.5,8.8,9.4,14.2,\n",
    "    \n",
    "    10.2,9.7,6.8,8.7,\n",
    "    14.1,8.9,9.9,12.5,\n",
    "    13.8,10.3,10.1,13.4\n",
    ")\n",
    "rep <- rep(c(1:4),6)\n",
    "v <- rep(c(1,2),each=12)\n",
    "w <- rep(rep(c(1:3),each=4),2)\n",
    "data2 <- data.frame(\n",
    "    y=y,\n",
    "    v=factor(v),\n",
    "    w=factor(w),\n",
    "    rep=factor(rep)\n",
    ")\n",
    "data2"
   ]
  },
  {
   "cell_type": "code",
   "execution_count": 20,
   "id": "e8156b1a",
   "metadata": {},
   "outputs": [
    {
     "name": "stderr",
     "output_type": "stream",
     "text": [
      "Warning message in aov(y ~ rep + v + Error(v:rep) + w + v:w, data2):\n",
      "\"Error() model is singular\""
     ]
    },
    {
     "data": {
      "text/plain": [
       "\n",
       "Error: v:rep\n",
       "          Df Sum Sq Mean Sq F value Pr(>F)  \n",
       "rep        3  70.90  23.635   8.497 0.0561 .\n",
       "v          1   0.22   0.220   0.079 0.7966  \n",
       "Residuals  3   8.34   2.782                 \n",
       "---\n",
       "Signif. codes:  0 '***' 0.001 '**' 0.01 '*' 0.05 '.' 0.1 ' ' 1\n",
       "\n",
       "Error: Within\n",
       "          Df Sum Sq Mean Sq F value  Pr(>F)    \n",
       "w          2  51.91  25.953  24.584 5.7e-05 ***\n",
       "v:w        2   1.49   0.743   0.704   0.514    \n",
       "Residuals 12  12.67   1.056                    \n",
       "---\n",
       "Signif. codes:  0 '***' 0.001 '**' 0.01 '*' 0.05 '.' 0.1 ' ' 1"
      ]
     },
     "metadata": {},
     "output_type": "display_data"
    }
   ],
   "source": [
    "mod2 <- aov(y~rep+v+Error(v:rep)+w+v:w,data2)\n",
    "summary(mod2)"
   ]
  },
  {
   "cell_type": "markdown",
   "id": "fa1af536",
   "metadata": {},
   "source": [
    "在顯著水準為0.05的情況下，我們能夠宣稱副因子(w,灌溉方式)對corn growth有顯著影響。"
   ]
  },
  {
   "cell_type": "markdown",
   "id": "4297eaa1",
   "metadata": {},
   "source": [
    "## Problem 3"
   ]
  },
  {
   "cell_type": "code",
   "execution_count": 5,
   "id": "8c65efce",
   "metadata": {},
   "outputs": [
    {
     "data": {
      "text/html": [
       "<table>\n",
       "<thead><tr><th scope=col>rep</th><th scope=col>s</th><th scope=col>t</th><th scope=col>sex</th><th scope=col>y</th></tr></thead>\n",
       "<tbody>\n",
       "\t<tr><td>1  </td><td>1  </td><td>1  </td><td>F  </td><td>1.8</td></tr>\n",
       "\t<tr><td>2  </td><td>1  </td><td>1  </td><td>F  </td><td>1.9</td></tr>\n",
       "\t<tr><td>3  </td><td>1  </td><td>1  </td><td>F  </td><td>1.6</td></tr>\n",
       "\t<tr><td>1  </td><td>1  </td><td>1  </td><td>M  </td><td>1.9</td></tr>\n",
       "\t<tr><td>2  </td><td>1  </td><td>1  </td><td>M  </td><td>1.6</td></tr>\n",
       "\t<tr><td>3  </td><td>1  </td><td>1  </td><td>M  </td><td>1.4</td></tr>\n",
       "\t<tr><td>1  </td><td>1  </td><td>2  </td><td>F  </td><td>2.6</td></tr>\n",
       "\t<tr><td>2  </td><td>1  </td><td>2  </td><td>F  </td><td>2.7</td></tr>\n",
       "\t<tr><td>3  </td><td>1  </td><td>2  </td><td>F  </td><td>2.4</td></tr>\n",
       "\t<tr><td>1  </td><td>1  </td><td>2  </td><td>M  </td><td>2.1</td></tr>\n",
       "\t<tr><td>2  </td><td>1  </td><td>2  </td><td>M  </td><td>2.2</td></tr>\n",
       "\t<tr><td>3  </td><td>1  </td><td>2  </td><td>M  </td><td>2.0</td></tr>\n",
       "\t<tr><td>1  </td><td>1  </td><td>3  </td><td>F  </td><td>3.2</td></tr>\n",
       "\t<tr><td>2  </td><td>1  </td><td>3  </td><td>F  </td><td>3.0</td></tr>\n",
       "\t<tr><td>3  </td><td>1  </td><td>3  </td><td>F  </td><td>2.7</td></tr>\n",
       "\t<tr><td>1  </td><td>1  </td><td>3  </td><td>M  </td><td>3.0</td></tr>\n",
       "\t<tr><td>2  </td><td>1  </td><td>3  </td><td>M  </td><td>3.4</td></tr>\n",
       "\t<tr><td>3  </td><td>1  </td><td>3  </td><td>M  </td><td>2.8</td></tr>\n",
       "\t<tr><td>1  </td><td>2  </td><td>1  </td><td>F  </td><td>2.4</td></tr>\n",
       "\t<tr><td>2  </td><td>2  </td><td>1  </td><td>F  </td><td>1.9</td></tr>\n",
       "\t<tr><td>3  </td><td>2  </td><td>1  </td><td>F  </td><td>2.1</td></tr>\n",
       "\t<tr><td>1  </td><td>2  </td><td>1  </td><td>M  </td><td>2.2</td></tr>\n",
       "\t<tr><td>2  </td><td>2  </td><td>1  </td><td>M  </td><td>2.0</td></tr>\n",
       "\t<tr><td>3  </td><td>2  </td><td>1  </td><td>M  </td><td>1.8</td></tr>\n",
       "\t<tr><td>1  </td><td>2  </td><td>2  </td><td>F  </td><td>1.9</td></tr>\n",
       "\t<tr><td>2  </td><td>2  </td><td>2  </td><td>F  </td><td>2.3</td></tr>\n",
       "\t<tr><td>3  </td><td>2  </td><td>2  </td><td>F  </td><td>2.4</td></tr>\n",
       "\t<tr><td>1  </td><td>2  </td><td>2  </td><td>M  </td><td>2.2</td></tr>\n",
       "\t<tr><td>2  </td><td>2  </td><td>2  </td><td>M  </td><td>2.6</td></tr>\n",
       "\t<tr><td>3  </td><td>2  </td><td>2  </td><td>M  </td><td>2.7</td></tr>\n",
       "\t<tr><td>1  </td><td>2  </td><td>3  </td><td>F  </td><td>3.1</td></tr>\n",
       "\t<tr><td>2  </td><td>2  </td><td>3  </td><td>F  </td><td>3.2</td></tr>\n",
       "\t<tr><td>3  </td><td>2  </td><td>3  </td><td>F  </td><td>2.8</td></tr>\n",
       "\t<tr><td>1  </td><td>2  </td><td>3  </td><td>M  </td><td>3.5</td></tr>\n",
       "\t<tr><td>2  </td><td>2  </td><td>3  </td><td>M  </td><td>3.2</td></tr>\n",
       "\t<tr><td>3  </td><td>2  </td><td>3  </td><td>M  </td><td>3.4</td></tr>\n",
       "</tbody>\n",
       "</table>\n"
      ],
      "text/latex": [
       "\\begin{tabular}{r|lllll}\n",
       " rep & s & t & sex & y\\\\\n",
       "\\hline\n",
       "\t 1   & 1   & 1   & F   & 1.8\\\\\n",
       "\t 2   & 1   & 1   & F   & 1.9\\\\\n",
       "\t 3   & 1   & 1   & F   & 1.6\\\\\n",
       "\t 1   & 1   & 1   & M   & 1.9\\\\\n",
       "\t 2   & 1   & 1   & M   & 1.6\\\\\n",
       "\t 3   & 1   & 1   & M   & 1.4\\\\\n",
       "\t 1   & 1   & 2   & F   & 2.6\\\\\n",
       "\t 2   & 1   & 2   & F   & 2.7\\\\\n",
       "\t 3   & 1   & 2   & F   & 2.4\\\\\n",
       "\t 1   & 1   & 2   & M   & 2.1\\\\\n",
       "\t 2   & 1   & 2   & M   & 2.2\\\\\n",
       "\t 3   & 1   & 2   & M   & 2.0\\\\\n",
       "\t 1   & 1   & 3   & F   & 3.2\\\\\n",
       "\t 2   & 1   & 3   & F   & 3.0\\\\\n",
       "\t 3   & 1   & 3   & F   & 2.7\\\\\n",
       "\t 1   & 1   & 3   & M   & 3.0\\\\\n",
       "\t 2   & 1   & 3   & M   & 3.4\\\\\n",
       "\t 3   & 1   & 3   & M   & 2.8\\\\\n",
       "\t 1   & 2   & 1   & F   & 2.4\\\\\n",
       "\t 2   & 2   & 1   & F   & 1.9\\\\\n",
       "\t 3   & 2   & 1   & F   & 2.1\\\\\n",
       "\t 1   & 2   & 1   & M   & 2.2\\\\\n",
       "\t 2   & 2   & 1   & M   & 2.0\\\\\n",
       "\t 3   & 2   & 1   & M   & 1.8\\\\\n",
       "\t 1   & 2   & 2   & F   & 1.9\\\\\n",
       "\t 2   & 2   & 2   & F   & 2.3\\\\\n",
       "\t 3   & 2   & 2   & F   & 2.4\\\\\n",
       "\t 1   & 2   & 2   & M   & 2.2\\\\\n",
       "\t 2   & 2   & 2   & M   & 2.6\\\\\n",
       "\t 3   & 2   & 2   & M   & 2.7\\\\\n",
       "\t 1   & 2   & 3   & F   & 3.1\\\\\n",
       "\t 2   & 2   & 3   & F   & 3.2\\\\\n",
       "\t 3   & 2   & 3   & F   & 2.8\\\\\n",
       "\t 1   & 2   & 3   & M   & 3.5\\\\\n",
       "\t 2   & 2   & 3   & M   & 3.2\\\\\n",
       "\t 3   & 2   & 3   & M   & 3.4\\\\\n",
       "\\end{tabular}\n"
      ],
      "text/markdown": [
       "\n",
       "| rep | s | t | sex | y |\n",
       "|---|---|---|---|---|\n",
       "| 1   | 1   | 1   | F   | 1.8 |\n",
       "| 2   | 1   | 1   | F   | 1.9 |\n",
       "| 3   | 1   | 1   | F   | 1.6 |\n",
       "| 1   | 1   | 1   | M   | 1.9 |\n",
       "| 2   | 1   | 1   | M   | 1.6 |\n",
       "| 3   | 1   | 1   | M   | 1.4 |\n",
       "| 1   | 1   | 2   | F   | 2.6 |\n",
       "| 2   | 1   | 2   | F   | 2.7 |\n",
       "| 3   | 1   | 2   | F   | 2.4 |\n",
       "| 1   | 1   | 2   | M   | 2.1 |\n",
       "| 2   | 1   | 2   | M   | 2.2 |\n",
       "| 3   | 1   | 2   | M   | 2.0 |\n",
       "| 1   | 1   | 3   | F   | 3.2 |\n",
       "| 2   | 1   | 3   | F   | 3.0 |\n",
       "| 3   | 1   | 3   | F   | 2.7 |\n",
       "| 1   | 1   | 3   | M   | 3.0 |\n",
       "| 2   | 1   | 3   | M   | 3.4 |\n",
       "| 3   | 1   | 3   | M   | 2.8 |\n",
       "| 1   | 2   | 1   | F   | 2.4 |\n",
       "| 2   | 2   | 1   | F   | 1.9 |\n",
       "| 3   | 2   | 1   | F   | 2.1 |\n",
       "| 1   | 2   | 1   | M   | 2.2 |\n",
       "| 2   | 2   | 1   | M   | 2.0 |\n",
       "| 3   | 2   | 1   | M   | 1.8 |\n",
       "| 1   | 2   | 2   | F   | 1.9 |\n",
       "| 2   | 2   | 2   | F   | 2.3 |\n",
       "| 3   | 2   | 2   | F   | 2.4 |\n",
       "| 1   | 2   | 2   | M   | 2.2 |\n",
       "| 2   | 2   | 2   | M   | 2.6 |\n",
       "| 3   | 2   | 2   | M   | 2.7 |\n",
       "| 1   | 2   | 3   | F   | 3.1 |\n",
       "| 2   | 2   | 3   | F   | 3.2 |\n",
       "| 3   | 2   | 3   | F   | 2.8 |\n",
       "| 1   | 2   | 3   | M   | 3.5 |\n",
       "| 2   | 2   | 3   | M   | 3.2 |\n",
       "| 3   | 2   | 3   | M   | 3.4 |\n",
       "\n"
      ],
      "text/plain": [
       "   rep s t sex y  \n",
       "1  1   1 1 F   1.8\n",
       "2  2   1 1 F   1.9\n",
       "3  3   1 1 F   1.6\n",
       "4  1   1 1 M   1.9\n",
       "5  2   1 1 M   1.6\n",
       "6  3   1 1 M   1.4\n",
       "7  1   1 2 F   2.6\n",
       "8  2   1 2 F   2.7\n",
       "9  3   1 2 F   2.4\n",
       "10 1   1 2 M   2.1\n",
       "11 2   1 2 M   2.2\n",
       "12 3   1 2 M   2.0\n",
       "13 1   1 3 F   3.2\n",
       "14 2   1 3 F   3.0\n",
       "15 3   1 3 F   2.7\n",
       "16 1   1 3 M   3.0\n",
       "17 2   1 3 M   3.4\n",
       "18 3   1 3 M   2.8\n",
       "19 1   2 1 F   2.4\n",
       "20 2   2 1 F   1.9\n",
       "21 3   2 1 F   2.1\n",
       "22 1   2 1 M   2.2\n",
       "23 2   2 1 M   2.0\n",
       "24 3   2 1 M   1.8\n",
       "25 1   2 2 F   1.9\n",
       "26 2   2 2 F   2.3\n",
       "27 3   2 2 F   2.4\n",
       "28 1   2 2 M   2.2\n",
       "29 2   2 2 M   2.6\n",
       "30 3   2 2 M   2.7\n",
       "31 1   2 3 F   3.1\n",
       "32 2   2 3 F   3.2\n",
       "33 3   2 3 F   2.8\n",
       "34 1   2 3 M   3.5\n",
       "35 2   2 3 M   3.2\n",
       "36 3   2 3 M   3.4"
      ]
     },
     "metadata": {},
     "output_type": "display_data"
    }
   ],
   "source": [
    "y <- c(\n",
    "    1.8,1.9,1.6,\n",
    "    1.9,1.6,1.4,\n",
    "    2.6,2.7,2.4,\n",
    "    2.1,2.2,2.0,\n",
    "    3.2,3.0,2.7,\n",
    "    3.0,3.4,2.8,\n",
    "    \n",
    "    2.4,1.9,2.1,\n",
    "    2.2,2.0,1.8,\n",
    "    1.9,2.3,2.4,\n",
    "    2.2,2.6,2.7,\n",
    "    3.1,3.2,2.8,\n",
    "    3.5,3.2,3.4\n",
    ")\n",
    "rep <- rep(c(1,2,3),12)\n",
    "s <- rep(c(1,2),each=18)\n",
    "t <- rep(rep(c(1,2,3),each=6),2)\n",
    "sex <- rep(rep(c(\"F\",\"M\"),each=3),6)\n",
    "data3 <- data.frame(\n",
    "    rep=factor(rep),\n",
    "    s=factor(s),\n",
    "    t=factor(t),\n",
    "    sex=factor(sex),\n",
    "    y=y\n",
    ")\n",
    "data3"
   ]
  },
  {
   "cell_type": "code",
   "execution_count": 11,
   "id": "d388c38e",
   "metadata": {},
   "outputs": [
    {
     "name": "stdout",
     "output_type": "stream",
     "text": [
      "\n",
      "ANALYSIS SPLIT-SPLIT PLOT:  y \n",
      "Class level information\n",
      "\n",
      "s \t:  1 2 \n",
      "t \t:  1 2 3 \n",
      "sex \t:  F M \n",
      "rep \t:  1 2 3 \n",
      "\n",
      "Number of observations:  36 \n",
      "\n",
      "Analysis of Variance Table\n",
      "\n",
      "Response: y\n",
      "        Df Sum Sq Mean Sq F value   Pr(>F)    \n",
      "rep      2 0.1906  0.0953                     \n",
      "s        1 0.3211  0.3211  3.6933 0.194575    \n",
      "Ea       2 0.1739  0.0869                     \n",
      "t        2 9.1939  4.5969 68.6680 9.18e-06 ***\n",
      "s:t      2 0.1839  0.0919  1.3734 0.307064    \n",
      "Eb       8 0.5356  0.0669                     \n",
      "sex      1 0.0000  0.0000  0.0000 1.000000    \n",
      "sex:s    1 0.2500  0.2500 10.9756 0.006191 ** \n",
      "sex:t    2 0.2150  0.1075  4.7195 0.030751 *  \n",
      "sex:s:t  2 0.2317  0.1158  5.0854 0.025142 *  \n",
      "Ec      12 0.2733  0.0228                     \n",
      "---\n",
      "Signif. codes:  0 '***' 0.001 '**' 0.01 '*' 0.05 '.' 0.1 ' ' 1\n",
      "\n",
      "cv(a) = 12.1 %, cv(b) = 10.6 %, cv(c) = 6.2 %, Mean = 2.444444 \n",
      "\n"
     ]
    }
   ],
   "source": [
    "library(agricolae)\n",
    "mod3 <- ssp.plot(rep,s,t,sex,y)"
   ]
  },
  {
   "cell_type": "markdown",
   "id": "1132532a",
   "metadata": {},
   "source": [
    "在顯著水準為0.05的情況下，我們能夠宣稱溫度、sex品種、sex溫度和三者的交互作用對魚的respiratory rate有影響。"
   ]
  },
  {
   "cell_type": "markdown",
   "id": "261f4fa6",
   "metadata": {},
   "source": [
    "## Problem 4"
   ]
  },
  {
   "cell_type": "code",
   "execution_count": 23,
   "id": "72b00202",
   "metadata": {},
   "outputs": [
    {
     "data": {
      "text/html": [
       "<table>\n",
       "<thead><tr><th scope=col>T</th><th scope=col>P</th><th scope=col>Y</th></tr></thead>\n",
       "<tbody>\n",
       "\t<tr><td>800 </td><td>1   </td><td> 570</td></tr>\n",
       "\t<tr><td>825 </td><td>1   </td><td>1063</td></tr>\n",
       "\t<tr><td>850 </td><td>1   </td><td> 565</td></tr>\n",
       "\t<tr><td>800 </td><td>1   </td><td> 565</td></tr>\n",
       "\t<tr><td>825 </td><td>1   </td><td>1080</td></tr>\n",
       "\t<tr><td>850 </td><td>1   </td><td> 510</td></tr>\n",
       "\t<tr><td>800 </td><td>1   </td><td> 583</td></tr>\n",
       "\t<tr><td>825 </td><td>1   </td><td>1043</td></tr>\n",
       "\t<tr><td>850 </td><td>1   </td><td> 590</td></tr>\n",
       "\t<tr><td>800 </td><td>2   </td><td> 528</td></tr>\n",
       "\t<tr><td>825 </td><td>2   </td><td> 988</td></tr>\n",
       "\t<tr><td>850 </td><td>2   </td><td> 526</td></tr>\n",
       "\t<tr><td>800 </td><td>2   </td><td> 547</td></tr>\n",
       "\t<tr><td>825 </td><td>2   </td><td>1026</td></tr>\n",
       "\t<tr><td>850 </td><td>2   </td><td> 538</td></tr>\n",
       "\t<tr><td>800 </td><td>2   </td><td> 521</td></tr>\n",
       "\t<tr><td>825 </td><td>2   </td><td>1004</td></tr>\n",
       "\t<tr><td>850 </td><td>2   </td><td> 532</td></tr>\n",
       "</tbody>\n",
       "</table>\n"
      ],
      "text/latex": [
       "\\begin{tabular}{r|lll}\n",
       " T & P & Y\\\\\n",
       "\\hline\n",
       "\t 800  & 1    &  570\\\\\n",
       "\t 825  & 1    & 1063\\\\\n",
       "\t 850  & 1    &  565\\\\\n",
       "\t 800  & 1    &  565\\\\\n",
       "\t 825  & 1    & 1080\\\\\n",
       "\t 850  & 1    &  510\\\\\n",
       "\t 800  & 1    &  583\\\\\n",
       "\t 825  & 1    & 1043\\\\\n",
       "\t 850  & 1    &  590\\\\\n",
       "\t 800  & 2    &  528\\\\\n",
       "\t 825  & 2    &  988\\\\\n",
       "\t 850  & 2    &  526\\\\\n",
       "\t 800  & 2    &  547\\\\\n",
       "\t 825  & 2    & 1026\\\\\n",
       "\t 850  & 2    &  538\\\\\n",
       "\t 800  & 2    &  521\\\\\n",
       "\t 825  & 2    & 1004\\\\\n",
       "\t 850  & 2    &  532\\\\\n",
       "\\end{tabular}\n"
      ],
      "text/markdown": [
       "\n",
       "| T | P | Y |\n",
       "|---|---|---|\n",
       "| 800  | 1    |  570 |\n",
       "| 825  | 1    | 1063 |\n",
       "| 850  | 1    |  565 |\n",
       "| 800  | 1    |  565 |\n",
       "| 825  | 1    | 1080 |\n",
       "| 850  | 1    |  510 |\n",
       "| 800  | 1    |  583 |\n",
       "| 825  | 1    | 1043 |\n",
       "| 850  | 1    |  590 |\n",
       "| 800  | 2    |  528 |\n",
       "| 825  | 2    |  988 |\n",
       "| 850  | 2    |  526 |\n",
       "| 800  | 2    |  547 |\n",
       "| 825  | 2    | 1026 |\n",
       "| 850  | 2    |  538 |\n",
       "| 800  | 2    |  521 |\n",
       "| 825  | 2    | 1004 |\n",
       "| 850  | 2    |  532 |\n",
       "\n"
      ],
      "text/plain": [
       "   T   P Y   \n",
       "1  800 1  570\n",
       "2  825 1 1063\n",
       "3  850 1  565\n",
       "4  800 1  565\n",
       "5  825 1 1080\n",
       "6  850 1  510\n",
       "7  800 1  583\n",
       "8  825 1 1043\n",
       "9  850 1  590\n",
       "10 800 2  528\n",
       "11 825 2  988\n",
       "12 850 2  526\n",
       "13 800 2  547\n",
       "14 825 2 1026\n",
       "15 850 2  538\n",
       "16 800 2  521\n",
       "17 825 2 1004\n",
       "18 850 2  532"
      ]
     },
     "metadata": {},
     "output_type": "display_data"
    }
   ],
   "source": [
    "y <- c(570,1063,565,\n",
    "       565,1080,510,\n",
    "       583,1043,590,\n",
    "       528,988,526,\n",
    "       547,1026,538,\n",
    "       521,1004,532)\n",
    "t <- rep(c(\"800\",\"825\",\"850\"),time=6);\n",
    "p <- rep(c(\"1\",\"2\"),each=9)\n",
    "data4 <- data.frame(\n",
    "    T=factor(t),\n",
    "    P=factor(p),\n",
    "    Y=y\n",
    ")\n",
    "data4"
   ]
  },
  {
   "cell_type": "markdown",
   "id": "ad32ec44",
   "metadata": {},
   "source": [
    "a. Suppose we assume that no interaction exists. Write down the statistical model. Conduct the ANOVA and test hypotheses on the main effects. What conclusions can be drawn?"
   ]
  },
  {
   "cell_type": "code",
   "execution_count": 24,
   "id": "95b09a5e",
   "metadata": {},
   "outputs": [
    {
     "data": {
      "text/html": [
       "<table>\n",
       "<thead><tr><th></th><th scope=col>Df</th><th scope=col>Sum Sq</th><th scope=col>Mean Sq</th><th scope=col>F value</th><th scope=col>Pr(&gt;F)</th></tr></thead>\n",
       "<tbody>\n",
       "\t<tr><th scope=row>T</th><td> 2          </td><td>945342.111  </td><td>472671.0556 </td><td>1069.25713  </td><td>4.923500e-16</td></tr>\n",
       "\t<tr><th scope=row>P</th><td> 1          </td><td>  7160.056  </td><td>  7160.0556 </td><td>  16.19718  </td><td>1.254167e-03</td></tr>\n",
       "\t<tr><th scope=row>Residuals</th><td>14          </td><td>  6188.778  </td><td>   442.0556 </td><td>        NA  </td><td>          NA</td></tr>\n",
       "</tbody>\n",
       "</table>\n"
      ],
      "text/latex": [
       "\\begin{tabular}{r|lllll}\n",
       "  & Df & Sum Sq & Mean Sq & F value & Pr(>F)\\\\\n",
       "\\hline\n",
       "\tT &  2           & 945342.111   & 472671.0556  & 1069.25713   & 4.923500e-16\\\\\n",
       "\tP &  1           &   7160.056   &   7160.0556  &   16.19718   & 1.254167e-03\\\\\n",
       "\tResiduals & 14           &   6188.778   &    442.0556  &         NA   &           NA\\\\\n",
       "\\end{tabular}\n"
      ],
      "text/markdown": [
       "\n",
       "| <!--/--> | Df | Sum Sq | Mean Sq | F value | Pr(>F) |\n",
       "|---|---|---|---|---|---|\n",
       "| T |  2           | 945342.111   | 472671.0556  | 1069.25713   | 4.923500e-16 |\n",
       "| P |  1           |   7160.056   |   7160.0556  |   16.19718   | 1.254167e-03 |\n",
       "| Residuals | 14           |   6188.778   |    442.0556  |         NA   |           NA |\n",
       "\n"
      ],
      "text/plain": [
       "          Df Sum Sq     Mean Sq     F value    Pr(>F)      \n",
       "T          2 945342.111 472671.0556 1069.25713 4.923500e-16\n",
       "P          1   7160.056   7160.0556   16.19718 1.254167e-03\n",
       "Residuals 14   6188.778    442.0556         NA           NA"
      ]
     },
     "metadata": {},
     "output_type": "display_data"
    }
   ],
   "source": [
    "mod4a<-lm(Y~T+P,data4)\n",
    "anova(mod4a)"
   ]
  },
  {
   "cell_type": "markdown",
   "id": "bcd80e73",
   "metadata": {},
   "source": [
    "統計模式：y=u+t_i+p_j+e_ij  \n",
    "i=1,2,3  \n",
    "j=1,2  "
   ]
  },
  {
   "cell_type": "markdown",
   "id": "b642ebae",
   "metadata": {},
   "source": [
    "在顯著水準為0.05的情況下，溫度和位置皆對baked density of a carbon anode有顯著影響。"
   ]
  },
  {
   "cell_type": "markdown",
   "id": "e5ad4775",
   "metadata": {},
   "source": [
    "b. Suppose that the furnace positions were randomly selected, resulting in a mixed model experiment. Reanalyze the data from this experiment under this new assumption. Estimate the appropriate model components using the ANOVA method."
   ]
  },
  {
   "attachments": {
    "123.png": {
     "image/png": "[encoded data removed]"
    }
   },
   "cell_type": "markdown",
   "id": "16595850",
   "metadata": {},
   "source": [
    "![123.png](attachment:123.png)"
   ]
  },
  {
   "cell_type": "code",
   "execution_count": 25,
   "id": "2fab668d",
   "metadata": {},
   "outputs": [
    {
     "data": {
      "text/html": [
       "<table>\n",
       "<thead><tr><th></th><th scope=col>Df</th><th scope=col>Sum Sq</th><th scope=col>Mean Sq</th><th scope=col>F value</th><th scope=col>Pr(&gt;F)</th></tr></thead>\n",
       "<tbody>\n",
       "\t<tr><th scope=row>T</th><td> 2          </td><td>945342.1111 </td><td>472671.0556 </td><td>1056.1170556</td><td>3.249924e-14</td></tr>\n",
       "\t<tr><th scope=row>P</th><td> 1          </td><td>  7160.0556 </td><td>  7160.0556 </td><td>  15.9981380</td><td>1.762434e-03</td></tr>\n",
       "\t<tr><th scope=row>T:P</th><td> 2          </td><td>   818.1111 </td><td>   409.0556 </td><td>   0.9139772</td><td>4.271101e-01</td></tr>\n",
       "\t<tr><th scope=row>Residuals</th><td>12          </td><td>  5370.6667 </td><td>   447.5556 </td><td>          NA</td><td>          NA</td></tr>\n",
       "</tbody>\n",
       "</table>\n"
      ],
      "text/latex": [
       "\\begin{tabular}{r|lllll}\n",
       "  & Df & Sum Sq & Mean Sq & F value & Pr(>F)\\\\\n",
       "\\hline\n",
       "\tT &  2           & 945342.1111  & 472671.0556  & 1056.1170556 & 3.249924e-14\\\\\n",
       "\tP &  1           &   7160.0556  &   7160.0556  &   15.9981380 & 1.762434e-03\\\\\n",
       "\tT:P &  2           &    818.1111  &    409.0556  &    0.9139772 & 4.271101e-01\\\\\n",
       "\tResiduals & 12           &   5370.6667  &    447.5556  &           NA &           NA\\\\\n",
       "\\end{tabular}\n"
      ],
      "text/markdown": [
       "\n",
       "| <!--/--> | Df | Sum Sq | Mean Sq | F value | Pr(>F) |\n",
       "|---|---|---|---|---|---|\n",
       "| T |  2           | 945342.1111  | 472671.0556  | 1056.1170556 | 3.249924e-14 |\n",
       "| P |  1           |   7160.0556  |   7160.0556  |   15.9981380 | 1.762434e-03 |\n",
       "| T:P |  2           |    818.1111  |    409.0556  |    0.9139772 | 4.271101e-01 |\n",
       "| Residuals | 12           |   5370.6667  |    447.5556  |           NA |           NA |\n",
       "\n"
      ],
      "text/plain": [
       "          Df Sum Sq      Mean Sq     F value      Pr(>F)      \n",
       "T          2 945342.1111 472671.0556 1056.1170556 3.249924e-14\n",
       "P          1   7160.0556   7160.0556   15.9981380 1.762434e-03\n",
       "T:P        2    818.1111    409.0556    0.9139772 4.271101e-01\n",
       "Residuals 12   5370.6667    447.5556           NA           NA"
      ]
     },
     "metadata": {},
     "output_type": "display_data"
    }
   ],
   "source": [
    "mod4b<-lm(Y~T*P,data4)\n",
    "anova(mod4b)"
   ]
  },
  {
   "cell_type": "code",
   "execution_count": 26,
   "id": "b687dc44",
   "metadata": {},
   "outputs": [
    {
     "name": "stdout",
     "output_type": "stream",
     "text": [
      "temperature p value: 0.0008646645 \n",
      " position p value: 0.001762434 \n",
      " interaction p value: 0.4271101 \n"
     ]
    }
   ],
   "source": [
    "d <- anova(mod4b)$Df\n",
    "M <- anova(mod4b)$'Mean Sq'\n",
    "F_temp <- M[1]/M[3]\n",
    "F_pos <- M[2]/M[4]\n",
    "F_inter <- M[3]/M[4]\n",
    "p_T <- pf(F_temp, d[1], d[3], lower.tail = FALSE)\n",
    "p_p <- pf(F_pos,d[2] ,d[4] , lower.tail = FALSE)\n",
    "p_i <- pf(F_inter, d[3], d[4], lower.tail = FALSE)\n",
    "cat(\"temperature p value:\",p_T,\"\\n\",\n",
    "   \"position p value:\",p_p,\"\\n\",\n",
    "   \"interaction p value:\",p_i,\"\\n\")"
   ]
  },
  {
   "cell_type": "markdown",
   "id": "28a822d5",
   "metadata": {},
   "source": [
    "在顯著水準為0.05的情況下，溫度和位置皆對baked density of a carbon anode有顯著影響。"
   ]
  }
 ],
 "metadata": {
  "kernelspec": {
   "display_name": "R",
   "language": "R",
   "name": "ir"
  },
  "language_info": {
   "codemirror_mode": "r",
   "file_extension": ".r",
   "mimetype": "text/x-r-source",
   "name": "R",
   "pygments_lexer": "r",
   "version": "3.6.1"
  }
 },
 "nbformat": 4,
 "nbformat_minor": 5
}
