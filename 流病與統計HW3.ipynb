{
 "cells": [
  {
   "cell_type": "markdown",
   "id": "cf167aca",
   "metadata": {},
   "source": [
    "EX13. Please find out all prime numbers from 2 to 100. (Pleaseuse “while”to build a“do...until...loop”)"
   ]
  },
  {
   "cell_type": "code",
   "execution_count": 56,
   "id": "e0bf7f9c",
   "metadata": {},
   "outputs": [],
   "source": [
    "done <- FALSE\n",
    "prime <- c()\n",
    "i <- 2\n",
    "while(!done){   \n",
    "    divisor<-i %% c(1:sqrt(i))\n",
    "    if(length((which(divisor ==0)))==1)\n",
    "        prime<-append(prime,i)\n",
    "    i<-i+1\n",
    "    \n",
    "    if(i>100) \n",
    "        done<-TRUE\n",
    "}"
   ]
  },
  {
   "cell_type": "code",
   "execution_count": 58,
   "id": "a95e1596",
   "metadata": {},
   "outputs": [
    {
     "name": "stdout",
     "output_type": "stream",
     "text": [
      " [1]  2  3  5  7 11 13 17 19 23 29 31 37 41 43 47 53 59 61 67 71 73 79 83 89 97\n"
     ]
    }
   ],
   "source": [
    "print(prime)"
   ]
  }
 ],
 "metadata": {
  "kernelspec": {
   "display_name": "R",
   "language": "R",
   "name": "ir"
  },
  "language_info": {
   "codemirror_mode": "r",
   "file_extension": ".r",
   "mimetype": "text/x-r-source",
   "name": "R",
   "pygments_lexer": "r",
   "version": "3.6.1"
  }
 },
 "nbformat": 4,
 "nbformat_minor": 5
}
